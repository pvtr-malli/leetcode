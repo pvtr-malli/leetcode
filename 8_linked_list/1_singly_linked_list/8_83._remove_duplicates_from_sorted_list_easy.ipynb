{
 "cells": [
  {
   "cell_type": "markdown",
   "id": "3137dde2",
   "metadata": {},
   "source": [
    "Given the head of a sorted linked list, delete all duplicates such that each element appears only once. Return the linked list sorted as well.\n",
    "\n",
    " \n",
    "\n",
    "Example 1:\n",
    "\n",
    "\n",
    "Input: head = [1,1,2]\n",
    "Output: [1,2]\n",
    "Example 2:\n",
    "\n",
    "\n",
    "Input: head = [1,1,2,3,3]\n",
    "Output: [1,2,3]\n",
    " \n",
    "\n",
    "Constraints:\n",
    "\n",
    "The number of nodes in the list is in the range [0, 300].\n",
    "-100 <= Node.val <= 100\n",
    "The list is guaranteed to be sorted in ascending order."
   ]
  },
  {
   "cell_type": "markdown",
   "id": "ca89b553",
   "metadata": {},
   "source": [
    "# brute force:\n",
    "- I cen create a new linked-list,\n",
    "- travers the given lisnked list and take only the non-duplicate numbers and insert inthe new list."
   ]
  },
  {
   "cell_type": "code",
   "execution_count": null,
   "id": "f523fa28",
   "metadata": {},
   "outputs": [],
   "source": [
    "# Definition for singly-linked list.\n",
    "class ListNode:\n",
    "    def __init__(self, val=0, next=None):\n",
    "        self.val = val\n",
    "        self.next = next\n",
    "class Solution:\n",
    "    def deleteDuplicates(self, head: ListNode):\n",
    "        if not head:\n",
    "            return head\n",
    "            \n",
    "        temp = head\n",
    "        node = head\n",
    "        while node and node.next:\n",
    "            if node.next.val == node.val:\n",
    "                # remove the current link to the next and move the next.\n",
    "                node.next = node.next.next\n",
    "            else:\n",
    "                node = node.next\n",
    "        \n",
    "        return temp\n",
    "\n",
    "\n",
    "# tc - O(n)\n",
    "# sc - O(1)\n"
   ]
  }
 ],
 "metadata": {
  "language_info": {
   "name": "python"
  }
 },
 "nbformat": 4,
 "nbformat_minor": 5
}
