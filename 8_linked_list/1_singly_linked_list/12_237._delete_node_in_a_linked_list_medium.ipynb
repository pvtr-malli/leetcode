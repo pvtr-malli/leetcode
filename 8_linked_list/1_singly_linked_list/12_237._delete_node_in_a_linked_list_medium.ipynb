{
 "cells": [
  {
   "cell_type": "markdown",
   "id": "466accbd",
   "metadata": {},
   "source": [
    "There is a singly-linked list head and we want to delete a node node in it.\n",
    "\n",
    "You are given the node to be deleted node. You will not be given access to the first node of head.\n",
    "\n",
    "All the values of the linked list are unique, and it is guaranteed that the given node node is not the last node in the linked list.\n",
    "\n",
    "Delete the given node. Note that by deleting the node, we do not mean removing it from memory. We mean:\n",
    "\n",
    "The value of the given node should not exist in the linked list.\n",
    "The number of nodes in the linked list should decrease by one.\n",
    "All the values before node should be in the same order.\n",
    "All the values after node should be in the same order.\n",
    "Custom testing:\n",
    "\n",
    "For the input, you should provide the entire linked list head and the node to be given node. node should not be the last node of the list and should be an actual node in the list.\n",
    "We will build the linked list and pass the node to your function.\n",
    "The output will be the entire list after calling your function.\n",
    " \n",
    "\n",
    "Example 1:\n",
    "\n",
    "\n",
    "Input: head = [4,5,1,9], node = 5\n",
    "Output: [4,1,9]\n",
    "Explanation: You are given the second node with value 5, the linked list should become 4 -> 1 -> 9 after calling your function.\n",
    "Example 2:\n",
    "\n",
    "\n",
    "Input: head = [4,5,1,9], node = 1\n",
    "Output: [4,5,9]\n",
    "Explanation: You are given the third node with value 1, the linked list should become 4 -> 5 -> 9 after calling your function.\n",
    " \n",
    "\n",
    "Constraints:\n",
    "\n",
    "The number of the nodes in the given list is in the range [2, 1000].\n",
    "-1000 <= Node.val <= 1000\n",
    "The value of each node in the list is unique.\n",
    "The node to be deleted is in the list and is not a tail node."
   ]
  },
  {
   "cell_type": "markdown",
   "id": "dc466f0e",
   "metadata": {},
   "source": [
    "# best approach:\n",
    "- you have to delete the previous nodes link to delete this node, we dont have prev pointer\n",
    "- and there is no chance we can go to the prev node, so we can't delete the current node we are in by any change.\n",
    "- Sooooo, copy the next nodes value here and delete the next node. :) \n",
    "- since you have, \"is guaranteed that the given node node is not the last node\".\n"
   ]
  },
  {
   "cell_type": "code",
   "execution_count": null,
   "id": "75e4f6e7",
   "metadata": {},
   "outputs": [],
   "source": [
    "class Solution:\n",
    "    def deleteNode(self, node):\n",
    "        # copy the next nodes value here.\n",
    "        node.val = node.next.val\n",
    "\n",
    "        # delete the next node.\n",
    "        node.next = node.next.next\n"
   ]
  }
 ],
 "metadata": {
  "language_info": {
   "name": "python"
  }
 },
 "nbformat": 4,
 "nbformat_minor": 5
}
