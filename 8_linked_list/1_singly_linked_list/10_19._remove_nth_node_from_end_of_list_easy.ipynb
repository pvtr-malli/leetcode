{
 "cells": [
  {
   "cell_type": "markdown",
   "id": "4a4f23e2",
   "metadata": {},
   "source": [
    "Given the head of a linked list, remove the nth node from the end of the list and return its head.\n",
    "\n",
    " \n",
    "\n",
    "Example 1:\n",
    "\n",
    "\n",
    "Input: head = [1,2,3,4,5], n = 2\n",
    "Output: [1,2,3,5]\n",
    "Example 2:\n",
    "\n",
    "Input: head = [1], n = 1\n",
    "Output: []\n",
    "Example 3:\n",
    "\n",
    "Input: head = [1,2], n = 1\n",
    "Output: [1]\n",
    " \n",
    "\n",
    "Constraints:\n",
    "\n",
    "The number of nodes in the list is sz.\n",
    "1 <= sz <= 30\n",
    "0 <= Node.val <= 100\n",
    "1 <= n <= sz\n",
    " \n",
    "\n",
    "Follow up: Could you do this in one pass?"
   ]
  },
  {
   "cell_type": "code",
   "execution_count": 16,
   "id": "3f791559",
   "metadata": {},
   "outputs": [],
   "source": [
    "class ListNode:\n",
    "    def __init__(self, val=0, next=None):\n",
    "        self.val = val\n",
    "        self.next = next\n",
    "\n",
    "\n",
    "def list_to_linkedlist(arr):\n",
    "    if not arr:\n",
    "        return None\n",
    "\n",
    "    head = ListNode(arr[0])\n",
    "    current = head\n",
    "\n",
    "    for value in arr[1:]:\n",
    "        current.next = ListNode(value)\n",
    "        current = current.next\n",
    "\n",
    "    return head\n",
    "\n",
    "def linkedlist_to_list(head):\n",
    "    result = []\n",
    "    current = head\n",
    "    while current:\n",
    "        result.append(current.val)\n",
    "        current = current.next\n",
    "    return result\n"
   ]
  },
  {
   "cell_type": "code",
   "execution_count": null,
   "id": "f168acf0",
   "metadata": {},
   "outputs": [],
   "source": [
    "class Solution:\n",
    "    def removeNthFromEnd(self, head: ListNode, n: int) -> ListNode:\n",
    "        # Step 1: Count the number of nodes\n",
    "        length = 0\n",
    "        curr = head\n",
    "        while curr:\n",
    "            length += 1\n",
    "            curr = curr.next\n",
    "        print(length)\n",
    "        \n",
    "        # Step 2: Use a dummy node to simplify edge cases.\n",
    "        # this handles the len(1) linked list well.\n",
    "        dummy = ListNode(0, head)\n",
    "        curr = dummy\n",
    "\n",
    "        # Step 3: Stop at (length - n)th node.\n",
    "        # this stop at the prev node of nth node. since we added before one node.\n",
    "        for _ in range(length - n):\n",
    "            curr = curr.next\n",
    "        \n",
    "        # Step 4: Remove the node\n",
    "        curr.next = curr.next.next\n",
    "\n",
    "        return dummy.next\n"
   ]
  },
  {
   "cell_type": "code",
   "execution_count": 18,
   "id": "5fb9dad3",
   "metadata": {},
   "outputs": [
    {
     "name": "stdout",
     "output_type": "stream",
     "text": [
      "5\n"
     ]
    }
   ],
   "source": [
    "f = Solution().removeNthFromEnd(head = list_to_linkedlist([1,2,3,4,5]), n = 2)"
   ]
  },
  {
   "cell_type": "code",
   "execution_count": 19,
   "id": "94ee314b",
   "metadata": {},
   "outputs": [
    {
     "data": {
      "text/plain": [
       "[1, 2, 3, 5]"
      ]
     },
     "execution_count": 19,
     "metadata": {},
     "output_type": "execute_result"
    }
   ],
   "source": [
    "linkedlist_to_list(f)"
   ]
  },
  {
   "cell_type": "markdown",
   "id": "37582059",
   "metadata": {},
   "source": [
    "# one pass solution - using 2 pointers:"
   ]
  },
  {
   "cell_type": "code",
   "execution_count": null,
   "id": "fc990cc2",
   "metadata": {},
   "outputs": [],
   "source": [
    "class Solution:\n",
    "    def removeNthFromEnd(self, head: ListNode, n: int) -> ListNode:\n",
    "        new_node = ListNode(0, head)\n",
    "\n",
    "        slow = fast = new_node\n",
    "\n",
    "        for _ in range(n):\n",
    "            fast = fast.next\n",
    "        \n",
    "        while fast.next != None:\n",
    "            fast = fast.next \n",
    "            slow = slow.next \n",
    "        \n",
    "        # delete the slow.next node.\n",
    "        slow.next = slow.next.next \n",
    "\n",
    "        return new_node.next\n",
    "    \n",
    "# tc - O(n)\n",
    "# sc- O(1)"
   ]
  }
 ],
 "metadata": {
  "kernelspec": {
   "display_name": "3.11.11",
   "language": "python",
   "name": "python3"
  },
  "language_info": {
   "codemirror_mode": {
    "name": "ipython",
    "version": 3
   },
   "file_extension": ".py",
   "mimetype": "text/x-python",
   "name": "python",
   "nbconvert_exporter": "python",
   "pygments_lexer": "ipython3",
   "version": "3.11.11"
  }
 },
 "nbformat": 4,
 "nbformat_minor": 5
}
