{
 "cells": [
  {
   "cell_type": "markdown",
   "id": "e2d97f1c",
   "metadata": {},
   "source": [
    "Given head which is a reference node to a singly-linked list. The value of each node in the linked list is either 0 or 1. The linked list holds the binary representation of a number.\n",
    "\n",
    "Return the decimal value of the number in the linked list.\n",
    "\n",
    "The most significant bit is at the head of the linked list.\n",
    "\n",
    " \n",
    "\n",
    "Example 1:\n",
    "\n",
    "\n",
    "Input: head = [1,0,1]\n",
    "Output: 5\n",
    "Explanation: (101) in base 2 = (5) in base 10\n",
    "Example 2:\n",
    "\n",
    "Input: head = [0]\n",
    "Output: 0\n",
    " \n",
    "\n",
    "Constraints:\n",
    "\n",
    "The Linked List is not empty.\n",
    "Number of nodes will not exceed 30.\n",
    "Each node's value is either 0 or 1."
   ]
  },
  {
   "cell_type": "markdown",
   "id": "d78f759d",
   "metadata": {},
   "source": [
    "# brute force:\n",
    "- store the values inthe list.\n",
    "- and then convert it to decimal."
   ]
  },
  {
   "cell_type": "code",
   "execution_count": null,
   "id": "62620050",
   "metadata": {},
   "outputs": [],
   "source": [
    "# Definition for singly-linked list.\n",
    "# class ListNode:\n",
    "#     def __init__(self, val=0, next=None):\n",
    "#         self.val = val\n",
    "#         self.next = next\n",
    "class Solution:\n",
    "    def getDecimalValue(self, head) -> int:\n",
    "        bits = []\n",
    "        while head is not None:\n",
    "            bits.append(head.val)  # Collect binary digits from the linked list.\n",
    "            head = head.next\n",
    "        bit = ''.join(str(bit) for bit in bits)  # Combine digits into a binary string.\n",
    "        return self.binaryToDecimal(int(bit))  # Convert to decimal using helper.\n",
    "\n",
    "    def binaryToDecimal(self, binary):\n",
    "        print(binary)\n",
    "        decimal, i = 0, 0\n",
    "        base = 2\n",
    "        while binary != 0:\n",
    "            dec = binary & 1  # Extract the last binary digit.\n",
    "            decimal += dec * base  # Add its weighted value.\n",
    "            binary //= 10  # Remove the processed digit.\n",
    "            base *= 2  # Move to the next bit.\n",
    "        return decimal\n",
    "    \n",
    "# tc - O(n)\n",
    "# sc - O(n)"
   ]
  },
  {
   "cell_type": "code",
   "execution_count": null,
   "id": "00f83f03",
   "metadata": {},
   "outputs": [],
   "source": [
    "# simple version using the int() built in function.\n",
    "\n",
    "class Solution:\n",
    "    def getDecimalValue(self, head: ListNode) -> int:\n",
    "        bits = []\n",
    "        while head:\n",
    "            bits.append(str(head.val))\n",
    "            head = head.next\n",
    "        binary_str = ''.join(bits)\n",
    "        return int(binary_str, 2)\n"
   ]
  },
  {
   "cell_type": "markdown",
   "id": "f6b102cc",
   "metadata": {},
   "source": [
    "# approach 2:\n",
    "- read the number from the left to right, convert it using this formula\n",
    "- num = (old binary digits shifted left) + current bit\n",
    "- num = num * 2 + current bit\n",
    "- this is basically, Every time you encounter a new bit from the left (MSB), multiplying num by 2 is equivalent to shifting the current value one place to the left, and then you add the new bit.\n",
    "\n"
   ]
  },
  {
   "cell_type": "code",
   "execution_count": null,
   "id": "992445ce",
   "metadata": {},
   "outputs": [],
   "source": [
    "class ListNode:\n",
    "    def __init__(self, val=0, next=None):\n",
    "        self.val = val\n",
    "        self.next = next\n",
    "\n",
    "class Solution:\n",
    "    def getDecimalValue(self, head: ListNode) -> int:\n",
    "        num = 0\n",
    "        while head:\n",
    "            # using hte formula.\n",
    "            num = num * 2 + head.val\n",
    "            head = head.next\n",
    "        return num\n",
    "\n",
    "# tc - O(n)\n",
    "# sc - O(1)"
   ]
  },
  {
   "cell_type": "markdown",
   "id": "43cde049",
   "metadata": {},
   "source": []
  }
 ],
 "metadata": {
  "language_info": {
   "name": "python"
  }
 },
 "nbformat": 4,
 "nbformat_minor": 5
}
