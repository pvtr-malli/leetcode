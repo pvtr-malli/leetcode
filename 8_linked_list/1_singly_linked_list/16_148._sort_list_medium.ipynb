{
 "cells": [
  {
   "cell_type": "markdown",
   "id": "b9489c3c",
   "metadata": {},
   "source": [
    "Given the head of a linked list, return the list after sorting it in ascending order.\n",
    "\n",
    " \n",
    "\n",
    "Example 1:\n",
    "\n",
    "\n",
    "Input: head = [4,2,1,3]\n",
    "Output: [1,2,3,4]\n",
    "Example 2:\n",
    "\n",
    "\n",
    "Input: head = [-1,5,3,4,0]\n",
    "Output: [-1,0,3,4,5]\n",
    "Example 3:\n",
    "\n",
    "Input: head = []\n",
    "Output: []\n",
    " \n",
    "\n",
    "Constraints:\n",
    "\n",
    "The number of nodes in the list is in the range [0, 5 * 104].\n",
    "-105 <= Node.val <= 105\n",
    " \n",
    "\n",
    "Follow up: Can you sort the linked list in O(n logn) time and O(1) memory (i.e. constant space)?"
   ]
  },
  {
   "cell_type": "markdown",
   "id": "0950df21",
   "metadata": {},
   "source": [
    "# appraoch:\n",
    "- you can put everything in a min heap and take one by one \n",
    "- but the space comp will be O(n)\n",
    "\n",
    "# approach 2:\n",
    "- using merge sort"
   ]
  },
  {
   "cell_type": "code",
   "execution_count": null,
   "id": "b75174b3",
   "metadata": {},
   "outputs": [],
   "source": []
  }
 ],
 "metadata": {
  "language_info": {
   "name": "python"
  }
 },
 "nbformat": 4,
 "nbformat_minor": 5
}
