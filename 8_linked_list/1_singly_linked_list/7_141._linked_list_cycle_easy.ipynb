{
 "cells": [
  {
   "cell_type": "markdown",
   "id": "d7d450b0",
   "metadata": {},
   "source": [
    "Given head, the head of a linked list, determine if the linked list has a cycle in it.\n",
    "\n",
    "There is a cycle in a linked list if there is some node in the list that can be reached again by continuously following the next pointer. Internally, pos is used to denote the index of the node that tail's next pointer is connected to. Note that pos is not passed as a parameter.\n",
    "\n",
    "Return true if there is a cycle in the linked list. Otherwise, return false.\n",
    "\n",
    " \n",
    "\n",
    "Example 1:\n",
    "\n",
    "\n",
    "Input: head = [3,2,0,-4], pos = 1\n",
    "Output: true\n",
    "Explanation: There is a cycle in the linked list, where the tail connects to the 1st node (0-indexed).\n",
    "Example 2:\n",
    "\n",
    "\n",
    "Input: head = [1,2], pos = 0\n",
    "Output: true\n",
    "Explanation: There is a cycle in the linked list, where the tail connects to the 0th node.\n",
    "Example 3:\n",
    "\n",
    "\n",
    "Input: head = [1], pos = -1\n",
    "Output: false\n",
    "Explanation: There is no cycle in the linked list.\n",
    " \n",
    "\n",
    "Constraints:\n",
    "\n",
    "The number of the nodes in the list is in the range [0, 104].\n",
    "-105 <= Node.val <= 105\n",
    "pos is -1 or a valid index in the linked-list.\n",
    " \n",
    "\n",
    "Follow up: Can you solve it using O(1) (i.e. constant) memory?"
   ]
  },
  {
   "cell_type": "markdown",
   "id": "2ad2bde6",
   "metadata": {},
   "source": [
    "# brute force:\n",
    "- hash the values and check for it"
   ]
  },
  {
   "cell_type": "code",
   "execution_count": null,
   "id": "8722d17a",
   "metadata": {},
   "outputs": [],
   "source": [
    "# Definition for singly-linked list.\n",
    "from typing import Optional\n",
    "\n",
    "class ListNode:\n",
    "    def __init__(self, x):\n",
    "        self.val = x\n",
    "        self.next = None\n",
    "\n",
    "# class Solution:\n",
    "#     def hasCycle(self, head: Optional[ListNode]) -> bool:\n",
    "#         h = {}\n",
    "#         while head:\n",
    "#             if head.val in h:\n",
    "#                 return True \n",
    "#             else:\n",
    "#                 h[head.val] = 1\n",
    "            \n",
    "#             head = head.next\n",
    "#         return False\n",
    "\n",
    "# NOTE: you hvae to check the referenc:\n",
    "class Solution:\n",
    "    def hasCycle(self, head: Optional[ListNode]) -> bool:\n",
    "        visited = set()\n",
    "        while head:\n",
    "            if head in visited:  # ✅ check actual node reference\n",
    "                return True\n",
    "            \n",
    "            visited.add(head)\n",
    "            head = head.next\n",
    "        return False\n",
    "\n",
    "\n",
    "# tc -O(n)\n",
    "# sc - O(n)"
   ]
  },
  {
   "cell_type": "markdown",
   "id": "0f3579d4",
   "metadata": {},
   "source": [
    "# approach 2:\n",
    "- using slow and fast poniters\n",
    "- if they meet, there is a cycle.\n",
    "- if the fast == None or fast.next == None - no cycle.\n",
    "- it is for sure meet when there is a cycle."
   ]
  },
  {
   "cell_type": "code",
   "execution_count": null,
   "id": "0a056cbb",
   "metadata": {},
   "outputs": [],
   "source": [
    "class Solution:\n",
    "    def hasCycle(self, head: Optional[ListNode]) -> bool:\n",
    "        slow = fast = head\n",
    "        while fast != None and fast.next != None:\n",
    "            slow = slow.next \n",
    "            fast = fast.next.next \n",
    "\n",
    "            if slow == fast:\n",
    "                return True\n",
    "\n",
    "        \n",
    "        return False \n",
    "    \n",
    "# tc - O(n)\n",
    "# sc - O(1)"
   ]
  }
 ],
 "metadata": {
  "language_info": {
   "name": "python"
  }
 },
 "nbformat": 4,
 "nbformat_minor": 5
}
