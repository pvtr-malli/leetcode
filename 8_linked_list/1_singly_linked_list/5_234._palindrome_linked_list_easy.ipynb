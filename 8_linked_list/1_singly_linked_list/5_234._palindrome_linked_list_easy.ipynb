{
 "cells": [
  {
   "cell_type": "markdown",
   "id": "f7fd3fee",
   "metadata": {},
   "source": [
    "Given the head of a singly linked list, return true if it is a palindrome or false otherwise.\n",
    "\n",
    " \n",
    "\n",
    "Example 1:\n",
    "\n",
    "\n",
    "Input: head = [1,2,2,1]\n",
    "Output: true\n",
    "Example 2:\n",
    "\n",
    "\n",
    "Input: head = [1,2]\n",
    "Output: false\n",
    " \n",
    "\n",
    "Constraints:\n",
    "\n",
    "The number of nodes in the list is in the range [1, 105].\n",
    "0 <= Node.val <= 9\n",
    " \n",
    "\n",
    "Follow up: Could you do it in O(n) time and O(1) space?"
   ]
  },
  {
   "cell_type": "code",
   "execution_count": null,
   "id": "a3a538e5",
   "metadata": {},
   "outputs": [],
   "source": [
    "class Solution:\n",
    "    def isPalindrome(self, head: Optional[ListNode]) -> bool:\n",
    "        vals = []\n",
    "\n",
    "        # Step 1: Store all node values\n",
    "        while head:\n",
    "            vals.append(head.val)\n",
    "            head = head.next\n",
    "\n",
    "        # Step 2: Check if list is palindrome\n",
    "        start, end = 0, len(vals) - 1\n",
    "        while start < end:\n",
    "            if vals[start] != vals[end]:\n",
    "                return False\n",
    "            start += 1\n",
    "            end -= 1\n",
    "\n",
    "        return True\n",
    "# | Metric | Value                       |\n",
    "# | ------ | --------------------------- |\n",
    "# | Time   | O(n)                        |\n",
    "# | Space  | O(n)                        |\n",
    "# | `n`    | Number of nodes in the list |\n"
   ]
  },
  {
   "cell_type": "markdown",
   "id": "24abe4d8",
   "metadata": {},
   "source": [
    "# Follow up: Could you do it in O(n) time and O(1) space?\n",
    "\n",
    "✅ Optimal Approach (O(n) time, O(1) space):\n",
    "🚀 Steps:\n",
    "- Find the middle of the list (using slow & fast pointers).\n",
    "- Reverse the second half of the list.\n",
    "- Compare the first and second halves.\n"
   ]
  },
  {
   "cell_type": "code",
   "execution_count": null,
   "id": "756cb0f0",
   "metadata": {},
   "outputs": [],
   "source": [
    "class Solution:\n",
    "    def isPalindrome(self, head: Optional[ListNode]) -> bool:\n",
    "        if not head or not head.next:\n",
    "            return True\n",
    "\n",
    "        # Step 1: Find middle\n",
    "        slow = fast = head\n",
    "        while fast and fast.next:\n",
    "            slow = slow.next\n",
    "            fast = fast.next.next\n",
    "\n",
    "        # Step 2: Reverse second half\n",
    "        prev = None\n",
    "        while slow:\n",
    "            next_node = slow.next\n",
    "            slow.next = prev\n",
    "            prev = slow\n",
    "            slow = next_node\n",
    "\n",
    "        # Step 3: Compare two halves\n",
    "        left, right = head, prev\n",
    "        while right:\n",
    "            if left.val != right.val:\n",
    "                return False\n",
    "            left = left.next\n",
    "            right = right.next\n",
    "\n",
    "        return True\n"
   ]
  },
  {
   "cell_type": "markdown",
   "id": "2940c899",
   "metadata": {},
   "source": []
  }
 ],
 "metadata": {
  "language_info": {
   "name": "python"
  }
 },
 "nbformat": 4,
 "nbformat_minor": 5
}
