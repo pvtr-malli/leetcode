{
 "cells": [
  {
   "cell_type": "markdown",
   "id": "c7c95c67",
   "metadata": {},
   "source": [
    "Design a HashSet without using any built-in hash table libraries.\n",
    "\n",
    "Implement MyHashSet class:\n",
    "\n",
    "void add(key) Inserts the value key into the HashSet.\n",
    "bool contains(key) Returns whether the value key exists in the HashSet or not.\n",
    "void remove(key) Removes the value key in the HashSet. If key does not exist in the HashSet, do nothing.\n",
    " \n",
    "\n",
    "Example 1:\n",
    "\n",
    "Input\n",
    "[\"MyHashSet\", \"add\", \"add\", \"contains\", \"contains\", \"add\", \"contains\", \"remove\", \"contains\"]\n",
    "[[], [1], [2], [1], [3], [2], [2], [2], [2]]\n",
    "Output\n",
    "[null, null, null, true, false, null, true, null, false]\n",
    "\n",
    "Explanation\n",
    "MyHashSet myHashSet = new MyHashSet();\n",
    "myHashSet.add(1);      // set = [1]\n",
    "myHashSet.add(2);      // set = [1, 2]\n",
    "myHashSet.contains(1); // return True\n",
    "myHashSet.contains(3); // return False, (not found)\n",
    "myHashSet.add(2);      // set = [1, 2]\n",
    "myHashSet.contains(2); // return True\n",
    "myHashSet.remove(2);   // set = [1]\n",
    "myHashSet.contains(2); // return False, (already removed)\n",
    " \n",
    "\n",
    "Constraints:\n",
    "\n",
    "0 <= key <= 106\n",
    "At most 104 calls will be made to add, remove, and contains."
   ]
  },
  {
   "cell_type": "markdown",
   "id": "e26ce022",
   "metadata": {},
   "source": [
    "✅ Constraints:\n",
    "- 0 <= key <= 10^6\n",
    "- Up to 10^4 operations\n",
    "\n",
    "🔑 Optimal Idea: Use an array of booleans\n",
    "- Since the key range is small and fixed (0 to 10^6), we can just use an array of size 1,000,001 to store True/False flags."
   ]
  },
  {
   "cell_type": "code",
   "execution_count": null,
   "id": "e3ee7c28",
   "metadata": {},
   "outputs": [],
   "source": [
    "class MyHashSet:\n",
    "\n",
    "    def __init__(self):\n",
    "        self.data = [False] * (10**6 + 1)\n",
    "\n",
    "    def add(self, key: int) -> None:\n",
    "        self.data[key] = True\n",
    "\n",
    "    def remove(self, key: int) -> None:\n",
    "        self.data[key] = False\n",
    "\n",
    "    def contains(self, key: int) -> bool:\n",
    "        return self.data[key]\n",
    "\n",
    "\n",
    "# | Operation  | Time Complexity         | Space Complexity    |\n",
    "# | ---------- | ----------------------- | ------------------- |\n",
    "# | `add`      | O(1)                    | O(1)                |\n",
    "# | `remove`   | O(1)                    | O(1)                |\n",
    "# | `contains` | O(1)                    | O(1)                |\n",
    "# | Overall    | All operations are O(1) | Total space: O(10⁶) |\n",
    "\n",
    "# sc - O(10**6) = O(1)"
   ]
  },
  {
   "cell_type": "markdown",
   "id": "33d90679",
   "metadata": {},
   "source": [
    "# 🛠️ Alternate Approaches (For learning):\n",
    "- If the range was not fixed or large, we’d use:\n",
    "- Separate Chaining with Buckets (array of linked lists or sets)\n",
    "- Open Addressing\n"
   ]
  },
  {
   "cell_type": "code",
   "execution_count": null,
   "id": "d4b5d5d9",
   "metadata": {},
   "outputs": [],
   "source": [
    "class Node:\n",
    "    def __init__(self, key, next=None):\n",
    "        self.key = key\n",
    "        self.next = next\n",
    "\n",
    "class MyHashSet:\n",
    "\n",
    "    def __init__(self):\n",
    "        self.size = 1000\n",
    "        self.buckets = [None] * self.size\n",
    "\n",
    "    def _hash(self, key):\n",
    "        # this is the hash for the current key.\n",
    "        return key % self.size\n",
    "\n",
    "    def add(self, key: int) -> None:\n",
    "        index = self._hash(key)\n",
    "        if self.buckets[index] is None:\n",
    "            self.buckets[index] = Node(key)\n",
    "        else:\n",
    "            # when the hash is already taken, we are creating a linked list and putting \n",
    "            # the values having the same hash inside the linked list.\n",
    "            curr = self.buckets[index]\n",
    "            while True:\n",
    "                if curr.key == key:\n",
    "                    return  # already exists\n",
    "                \n",
    "                # we came to the end, now we can add the new value.\n",
    "                if curr.next is None:\n",
    "                    break\n",
    "                curr = curr.next\n",
    "\n",
    "            # add the new value.\n",
    "            curr.next = Node(key)\n",
    "\n",
    "    def remove(self, key: int) -> None:\n",
    "        index = self._hash(key)\n",
    "        curr = self.buckets[index]\n",
    "        prev = None\n",
    "\n",
    "        while curr:\n",
    "            if curr.key == key:\n",
    "                if prev:\n",
    "                    prev.next = curr.next\n",
    "                else:\n",
    "                    self.buckets[index] = curr.next\n",
    "                return\n",
    "            prev = curr\n",
    "            curr = curr.next\n",
    "\n",
    "    def contains(self, key: int) -> bool:\n",
    "        index = self._hash(key)\n",
    "        curr = self.buckets[index]\n",
    "\n",
    "        # here you got a linkedlist, check the given key present there are not ysing the linkedlist.\n",
    "        while curr:\n",
    "            if curr.key == key:\n",
    "                return True\n",
    "            curr = curr.next\n",
    "        return False\n",
    "\n",
    "\n",
    "# | Operation  | Time (avg) | Time (worst)          | Space |\n",
    "# | ---------- | ---------- | --------------------- | ----- |\n",
    "# | `add`      | O(1)       | O(n) (if all collide) | O(n)  |\n",
    "# | `remove`   | O(1)       | O(n)                  | O(n)  |\n",
    "# | `contains` | O(1)       | O(n)                  | O(n)  |\n"
   ]
  },
  {
   "cell_type": "code",
   "execution_count": 3,
   "id": "6642299f",
   "metadata": {},
   "outputs": [
    {
     "data": {
      "text/plain": [
       "False"
      ]
     },
     "execution_count": 3,
     "metadata": {},
     "output_type": "execute_result"
    }
   ],
   "source": [
    "hashset = MyHashSet()\n",
    "hashset.add(1)\n",
    "hashset.add(2)\n",
    "hashset.contains(1)  # True\n",
    "hashset.contains(3)  # False\n",
    "hashset.add(2)\n",
    "hashset.remove(2)\n",
    "hashset.contains(2)  # False\n"
   ]
  },
  {
   "cell_type": "markdown",
   "id": "ae83bd0d",
   "metadata": {},
   "source": []
  }
 ],
 "metadata": {
  "kernelspec": {
   "display_name": "3.11.11",
   "language": "python",
   "name": "python3"
  },
  "language_info": {
   "codemirror_mode": {
    "name": "ipython",
    "version": 3
   },
   "file_extension": ".py",
   "mimetype": "text/x-python",
   "name": "python",
   "nbconvert_exporter": "python",
   "pygments_lexer": "ipython3",
   "version": "3.11.11"
  }
 },
 "nbformat": 4,
 "nbformat_minor": 5
}
