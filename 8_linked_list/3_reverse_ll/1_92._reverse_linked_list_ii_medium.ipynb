{
 "cells": [
  {
   "cell_type": "markdown",
   "id": "91a092a0",
   "metadata": {},
   "source": [
    "Given the head of a singly linked list and two integers left and right where left <= right, reverse the nodes of the list from position left to position right, and return the reversed list.\n",
    "\n",
    " \n",
    "\n",
    "Example 1:\n",
    "\n",
    "\n",
    "Input: head = [1,2,3,4,5], left = 2, right = 4\n",
    "Output: [1,4,3,2,5]\n",
    "Example 2:\n",
    "\n",
    "Input: head = [5], left = 1, right = 1\n",
    "Output: [5]\n",
    " \n",
    "\n",
    "Constraints:\n",
    "\n",
    "The number of nodes in the list is n.\n",
    "1 <= n <= 500\n",
    "-500 <= Node.val <= 500\n",
    "1 <= left <= right <= n\n",
    " \n",
    "\n",
    "Follow up: Could you do it in one pass?"
   ]
  },
  {
   "cell_type": "markdown",
   "id": "9194b7a5",
   "metadata": {},
   "source": [
    "# approach 2:\n",
    "- set the prev to the previous ndoe of the left.\n",
    "- start reversing k groups \n",
    "- for ex: 1-2-3-4-5-6 reverese from 2 - 4. \n",
    "- so I need to reverse from 2-4. 3 elements so switch 2 times.\n",
    "- So that is basically left - right times.\n"
   ]
  },
  {
   "cell_type": "code",
   "execution_count": null,
   "id": "8f7f6c65",
   "metadata": {},
   "outputs": [],
   "source": [
    "class Solution:\n",
    "    def reverseBetween(self, head: Optional[ListNode], left: int, right: int) -> Optional[ListNode]:\n",
    "        if not head or left == right:\n",
    "            return head\n",
    "        \n",
    "        dummy = ListNode(0)\n",
    "        dummy.next = head\n",
    "        prev = dummy\n",
    "        \n",
    "        # Step 1: Move `prev` to one node before the `left` position.\n",
    "        for _ in range(left - 1):\n",
    "            prev = prev.next\n",
    "        \n",
    "        # Step 2: Reverse sublist from left to right\n",
    "        curr = prev.next\n",
    "\n",
    "        for _ in range(right - left):\n",
    "            nxt = curr.next\n",
    "\n",
    "            curr.next = nxt.next\n",
    "            nxt.next = prev.next\n",
    "            prev.next = nxt\n",
    "        \n",
    "        return dummy.next\n"
   ]
  }
 ],
 "metadata": {
  "language_info": {
   "name": "python"
  }
 },
 "nbformat": 4,
 "nbformat_minor": 5
}
