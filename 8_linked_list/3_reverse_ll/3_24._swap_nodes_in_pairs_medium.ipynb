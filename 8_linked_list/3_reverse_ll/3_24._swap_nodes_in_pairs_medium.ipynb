{
 "cells": [
  {
   "cell_type": "markdown",
   "id": "a3010908",
   "metadata": {},
   "source": [
    "Given a linked list, swap every two adjacent nodes and return its head. You must solve the problem without modifying the values in the list's nodes (i.e., only nodes themselves may be changed.)\n",
    "\n",
    " \n",
    "\n",
    "Example 1:\n",
    "\n",
    "Input: head = [1,2,3,4]\n",
    "\n",
    "Output: [2,1,4,3]\n",
    "\n",
    "Explanation:\n",
    "\n",
    "\n",
    "\n",
    "Example 2:\n",
    "\n",
    "Input: head = []\n",
    "\n",
    "Output: []\n",
    "\n",
    "Example 3:\n",
    "\n",
    "Input: head = [1]\n",
    "\n",
    "Output: [1]\n",
    "\n",
    "Example 4:\n",
    "\n",
    "Input: head = [1,2,3]\n",
    "\n",
    "Output: [2,1,3]\n",
    "\n",
    " \n",
    "\n",
    "Constraints:\n",
    "\n",
    "The number of nodes in the list is in the range [0, 100].\n",
    "0 <= Node.val <= 100"
   ]
  },
  {
   "cell_type": "code",
   "execution_count": 3,
   "id": "b87e87e5",
   "metadata": {},
   "outputs": [],
   "source": [
    "class ListNode:\n",
    "    def __init__(self, val=0, next=None):\n",
    "        self.val = val\n",
    "        self.next = next\n",
    "\n",
    "\n",
    "def list_to_linkedlist(arr):\n",
    "    if not arr:\n",
    "        return None\n",
    "\n",
    "    head = ListNode(arr[0])\n",
    "    current = head\n",
    "\n",
    "    for value in arr[1:]:\n",
    "        current.next = ListNode(value)\n",
    "        current = current.next\n",
    "\n",
    "    return head\n",
    "\n",
    "def linkedlist_to_list(head):\n",
    "    result = []\n",
    "    current = head\n",
    "    while current:\n",
    "        result.append(current.val)\n",
    "        current = current.next\n",
    "    return result\n"
   ]
  },
  {
   "cell_type": "code",
   "execution_count": null,
   "id": "1592ae32",
   "metadata": {},
   "outputs": [],
   "source": [
    "# page 6: linked list note\n",
    "\n",
    "from typing import Optional\n",
    "\n",
    "class ListNode:\n",
    "    def __init__(self, val=0, next=None):\n",
    "        self.val = val\n",
    "        self.next = next\n",
    "class Solution:\n",
    "    def swapPairs(self, head):\n",
    "        if not head:\n",
    "            return head\n",
    "        \n",
    "        dummy = ListNode(0, head)\n",
    "        temp = dummy\n",
    "        prev = dummy.next \n",
    "        while True:\n",
    "            if not prev.next:\n",
    "                break\n",
    "            cur = prev.next \n",
    "\n",
    "            # swap the elements.\n",
    "            temp.next = cur\n",
    "            prev.next = cur.next\n",
    "            cur.next = prev \n",
    "            \n",
    "\n",
    "            temp = prev\n",
    "            print(prev.val)\n",
    "\n",
    "            if not prev.next:\n",
    "                print(prev.next)\n",
    "                print(\"breaks here\")\n",
    "                break\n",
    "            prev = prev.next\n",
    "\n",
    "            print(linkedlist_to_list(dummy))\n",
    "        \n",
    "        return dummy.next\n"
   ]
  },
  {
   "cell_type": "code",
   "execution_count": 12,
   "id": "9abf72a8",
   "metadata": {},
   "outputs": [
    {
     "name": "stdout",
     "output_type": "stream",
     "text": [
      "1\n",
      "[0, 2, 1, 3, 4]\n",
      "3\n",
      "None\n",
      "breaks here\n"
     ]
    },
    {
     "data": {
      "text/plain": [
       "[2, 1, 4, 3]"
      ]
     },
     "execution_count": 12,
     "metadata": {},
     "output_type": "execute_result"
    }
   ],
   "source": [
    "f = Solution().swapPairs(list_to_linkedlist([1,2,3,4]))\n",
    "linkedlist_to_list(f)"
   ]
  },
  {
   "cell_type": "code",
   "execution_count": 13,
   "id": "720d6d06",
   "metadata": {},
   "outputs": [
    {
     "name": "stdout",
     "output_type": "stream",
     "text": [
      "1\n",
      "[0, 2, 1, 3]\n"
     ]
    },
    {
     "data": {
      "text/plain": [
       "[2, 1, 3]"
      ]
     },
     "execution_count": 13,
     "metadata": {},
     "output_type": "execute_result"
    }
   ],
   "source": [
    "f = Solution().swapPairs(list_to_linkedlist([1,2,3]))\n",
    "linkedlist_to_list(f)"
   ]
  },
  {
   "cell_type": "code",
   "execution_count": null,
   "id": "73e1d962",
   "metadata": {},
   "outputs": [],
   "source": []
  }
 ],
 "metadata": {
  "kernelspec": {
   "display_name": "3.11.11",
   "language": "python",
   "name": "python3"
  },
  "language_info": {
   "codemirror_mode": {
    "name": "ipython",
    "version": 3
   },
   "file_extension": ".py",
   "mimetype": "text/x-python",
   "name": "python",
   "nbconvert_exporter": "python",
   "pygments_lexer": "ipython3",
   "version": "3.11.11"
  }
 },
 "nbformat": 4,
 "nbformat_minor": 5
}
