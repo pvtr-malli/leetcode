{
 "cells": [
  {
   "cell_type": "code",
   "execution_count": null,
   "id": "cf24cad7",
   "metadata": {},
   "outputs": [],
   "source": [
    "class ListNode:\n",
    "    def __init__(self, val=0, next=None):\n",
    "        self.val = val\n",
    "        self.next = next\n",
    "\n",
    "\n",
    "def list_to_linkedlist(arr):\n",
    "    if not arr:\n",
    "        return None\n",
    "\n",
    "    head = ListNode(arr[0])\n",
    "    current = head\n",
    "\n",
    "    for value in arr[1:]:\n",
    "        current.next = ListNode(value)\n",
    "        current = current.next\n",
    "\n",
    "    return head\n",
    "\n",
    "def linkedlist_to_list(head):\n",
    "    result = []\n",
    "    current = head\n",
    "    while current:\n",
    "        result.append(current.val)\n",
    "        current = current.next\n",
    "    return result\n"
   ]
  }
 ],
 "metadata": {
  "language_info": {
   "name": "python"
  }
 },
 "nbformat": 4,
 "nbformat_minor": 5
}
