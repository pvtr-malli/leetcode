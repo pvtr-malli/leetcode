{
 "cells": [
  {
   "cell_type": "markdown",
   "id": "29696814",
   "metadata": {},
   "source": [
    "Given the head of a singly linked list, group all the nodes with odd indices together followed by the nodes with even indices, and return the reordered list.\n",
    "\n",
    "The first node is considered odd, and the second node is even, and so on.\n",
    "\n",
    "Note that the relative order inside both the even and odd groups should remain as it was in the input.\n",
    "\n",
    "You must solve the problem in O(1) extra space complexity and O(n) time complexity.\n",
    "\n",
    " \n",
    "\n",
    "Example 1:\n",
    "\n",
    "\n",
    "Input: head = [1,2,3,4,5]\n",
    "Output: [1,3,5,2,4]\n",
    "Example 2:\n",
    "\n",
    "\n",
    "Input: head = [2,1,3,5,6,4,7]\n",
    "Output: [2,3,6,7,1,5,4]\n",
    " \n",
    "\n",
    "Constraints:\n",
    "\n",
    "The number of nodes in the linked list is in the range [0, 104].\n",
    "-106 <= Node.val <= 106"
   ]
  },
  {
   "cell_type": "code",
   "execution_count": null,
   "id": "6ee60daf",
   "metadata": {},
   "outputs": [],
   "source": [
    "# page 7: linked list note\n",
    "\n",
    "from typing import Optional\n",
    "\n",
    "class ListNode:\n",
    "    def __init__(self, val=0, next=None):\n",
    "        self.val = val\n",
    "        self.next = next\n",
    "\n",
    "class Solution:\n",
    "    def oddEvenList(self, head: Optional[ListNode]) -> Optional[ListNode]:\n",
    "        if not head:\n",
    "            return head \n",
    "        if  not head.next:\n",
    "            return head \n",
    "        \n",
    "        # in only 2 node lisnked list, that is already in order.\n",
    "        if not head.next.next:\n",
    "            return head \n",
    "        \n",
    "        odd_satrt = head \n",
    "        even_start = head.next \n",
    "   \n",
    "        odd = odd_satrt\n",
    "        even = even_start\n",
    "        while odd.next and even.next:\n",
    "            odd.next = odd.next.next \n",
    "            even.next = even.next.next\n",
    "\n",
    "            even = even.next\n",
    "            odd = odd.next\n",
    "\n",
    "\n",
    "        odd.next = even_start\n",
    "\n",
    "        return odd_satrt"
   ]
  }
 ],
 "metadata": {
  "language_info": {
   "name": "python"
  }
 },
 "nbformat": 4,
 "nbformat_minor": 5
}
