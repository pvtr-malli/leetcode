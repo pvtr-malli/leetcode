{
 "cells": [
  {
   "cell_type": "markdown",
   "id": "680bafce",
   "metadata": {},
   "source": [
    "Given the head of a singly linked list where elements are sorted in ascending order, convert it to a height-balanced binary search tree.\n",
    "\n",
    " \n",
    "\n",
    "Example 1:\n",
    "\n",
    "\n",
    "Input: head = [-10,-3,0,5,9]\n",
    "Output: [0,-3,9,-10,null,5]\n",
    "Explanation: One possible answer is [0,-3,9,-10,null,5], which represents the shown height balanced BST.\n",
    "Example 2:\n",
    "\n",
    "Input: head = []\n",
    "Output: []\n",
    " \n",
    "\n",
    "Constraints:\n",
    "\n",
    "The number of nodes in head is in the range [0, 2 * 104].\n",
    "-105 <= Node.val <= 105"
   ]
  },
  {
   "cell_type": "code",
   "execution_count": null,
   "id": "357cec36",
   "metadata": {},
   "outputs": [],
   "source": [
    "from typing import Optional\n",
    "\n",
    "class ListNode:\n",
    "    def __init__(self, val=0, next=None):\n",
    "        self.val = val\n",
    "        self.next = next\n",
    "\n",
    "class TreeNode:\n",
    "    def __init__(self, val=0, left=None, right=None):\n",
    "        self.val = val\n",
    "        self.left = left\n",
    "        self.right = right\n",
    "\n",
    "class Solution:\n",
    "    def sortedListToBST(self, head: Optional[ListNode]) -> Optional[TreeNode]:\n",
    "        values = []\n",
    "        while head:\n",
    "            values.append(head.val)\n",
    "            head = head.next\n",
    "\n",
    "        def build_bst(left, right):\n",
    "            if left > right:\n",
    "                return None\n",
    "            mid = (left + right) // 2\n",
    "            root = TreeNode(values[mid])\n",
    "            root.left = build_bst(left, mid - 1)\n",
    "            root.right = build_bst(mid + 1, right)\n",
    "            return root\n",
    "\n",
    "        return build_bst(0, len(values) - 1)\n",
    "\n",
    "# tc - O(n)\n",
    "# sc - O(n)"
   ]
  },
  {
   "cell_type": "markdown",
   "id": "efde5768",
   "metadata": {},
   "source": [
    "# approach. 2:\n",
    "- "
   ]
  },
  {
   "cell_type": "code",
   "execution_count": null,
   "id": "bc0f3d54",
   "metadata": {},
   "outputs": [],
   "source": [
    "class Solution:\n",
    "    def sortedListToBST(self, head: Optional[ListNode]) -> Optional[TreeNode]:\n",
    "        if not head:\n",
    "            return None\n",
    "        if not head.next:\n",
    "            return TreeNode(head.val)\n",
    "\n",
    "        # Find middle (slow becomes mid)\n",
    "        slow, fast = head, head.next.next\n",
    "        while fast and fast.next:\n",
    "            slow = slow.next\n",
    "            fast = fast.next.next\n",
    "\n",
    "        mid = slow.next\n",
    "        slow.next = None  # Cut the list\n",
    "\n",
    "        root = TreeNode(mid.val)\n",
    "        root.left = self.sortedListToBST(head)\n",
    "        root.right = self.sortedListToBST(mid.next)\n",
    "        return root\n",
    "\n",
    "\n",
    "# tc - O(n log n)\n",
    "# sc - O(log n ) -only the recurssion space."
   ]
  }
 ],
 "metadata": {
  "language_info": {
   "name": "python"
  }
 },
 "nbformat": 4,
 "nbformat_minor": 5
}
