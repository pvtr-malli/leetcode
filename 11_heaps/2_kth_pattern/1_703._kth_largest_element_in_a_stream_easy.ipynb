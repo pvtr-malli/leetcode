{
 "cells": [
  {
   "cell_type": "markdown",
   "id": "41f4e6c4",
   "metadata": {},
   "source": [
    "You are part of a university admissions office and need to keep track of the kth highest test score from applicants in real-time. This helps to determine cut-off marks for interviews and admissions dynamically as new applicants submit their scores.\n",
    "\n",
    "You are tasked to implement a class which, for a given integer k, maintains a stream of test scores and continuously returns the kth highest test score after a new score has been submitted. More specifically, we are looking for the kth highest score in the sorted list of all scores.\n",
    "\n",
    "Implement the KthLargest class:\n",
    "\n",
    "KthLargest(int k, int[] nums) Initializes the object with the integer k and the stream of test scores nums.\n",
    "int add(int val) Adds a new test score val to the stream and returns the element representing the kth largest element in the pool of test scores so far.\n",
    " \n",
    "\n",
    "Example 1:\n",
    "\n",
    "Input:\n",
    "[\"KthLargest\", \"add\", \"add\", \"add\", \"add\", \"add\"]\n",
    "[[3, [4, 5, 8, 2]], [3], [5], [10], [9], [4]]\n",
    "\n",
    "Output: [null, 4, 5, 5, 8, 8]\n",
    "\n",
    "Explanation:\n",
    "\n",
    "KthLargest kthLargest = new KthLargest(3, [4, 5, 8, 2]);\n",
    "kthLargest.add(3); // return 4\n",
    "kthLargest.add(5); // return 5\n",
    "kthLargest.add(10); // return 5\n",
    "kthLargest.add(9); // return 8\n",
    "kthLargest.add(4); // return 8\n",
    "\n",
    "Example 2:\n",
    "\n",
    "Input:\n",
    "[\"KthLargest\", \"add\", \"add\", \"add\", \"add\"]\n",
    "[[4, [7, 7, 7, 7, 8, 3]], [2], [10], [9], [9]]\n",
    "\n",
    "Output: [null, 7, 7, 7, 8]\n",
    "\n",
    "Explanation:\n",
    "\n",
    "KthLargest kthLargest = new KthLargest(4, [7, 7, 7, 7, 8, 3]);\n",
    "kthLargest.add(2); // return 7\n",
    "kthLargest.add(10); // return 7\n",
    "kthLargest.add(9); // return 7\n",
    "kthLargest.add(9); // return 8\n",
    " \n",
    "\n",
    "Constraints:\n",
    "\n",
    "0 <= nums.length <= 104\n",
    "1 <= k <= nums.length + 1\n",
    "-104 <= nums[i] <= 104\n",
    "-104 <= val <= 104\n",
    "At most 104 calls will be made to add."
   ]
  },
  {
   "cell_type": "markdown",
   "id": "a517d95f",
   "metadata": {},
   "source": [
    "- Use a Min Heap of size K\n",
    "- Keep only the K largest elements in the heap\n",
    "- The smallest among them (i.e., heap[0]) is the Kth largest overall.\n"
   ]
  },
  {
   "cell_type": "code",
   "execution_count": null,
   "id": "1f6d96da",
   "metadata": {},
   "outputs": [],
   "source": [
    "import heapq\n",
    "\n",
    "class KthLargest:\n",
    "\n",
    "    def __init__(self, k: int, nums: list[int]):\n",
    "        self.k = k\n",
    "        self.min_heap = nums\n",
    "        heapq.heapify(self.min_heap)\n",
    "\n",
    "        # If there are more than k elements, then pop the smallest ones, since we only care about the \n",
    "        # k bigger element.\n",
    "        while len(self.min_heap) > k:\n",
    "            heapq.heappop(self.min_heap)\n",
    "    \n",
    "    def add(self, val: int) -> int:\n",
    "        heapq.heappush(self.min_heap, val)\n",
    "\n",
    "        # If size exceeds k, remove smallest\n",
    "        if len(self.min_heap) > self.k:\n",
    "            heapq.heappop(self.min_heap)\n",
    "        \n",
    "        return self.min_heap[0]\n",
    "    \n",
    "\n",
    "# | Init Heap         | O(n log k) |\n",
    "# | Add               | O(log k)   |\n",
    "# | Query Kth Largest | O(1)       |\n"
   ]
  },
  {
   "cell_type": "markdown",
   "id": "ac0bf57b",
   "metadata": {},
   "source": [
    "| Step          | Heap State (Min Heap) | Explanation                 |\n",
    "| ------------- | --------------------- | --------------------------- |\n",
    "| After heapify | \\[2, 4, 8, 5]         | heapify full array          |\n",
    "| pop()         | \\[4, 5, 8]            | remove smallest to keep k=3 |\n",
    "\n",
    "then add operations:\n",
    "\n",
    "| Operation | Heap Before | Push `val` | Heap After Push | Popped? | Final Heap  | Kth Largest (`heap[0]`) |\n",
    "| --------- | ----------- | ---------- | --------------- | ------- | ----------- | ----------------------- |\n",
    "| add(3)    | \\[4, 5, 8]  | 3          | \\[3, 4, 8, 5]   | 3       | \\[4, 5, 8]  | 4                       |\n",
    "| add(5)    | \\[4, 5, 8]  | 5          | \\[4, 5, 8, 5]   | 4       | \\[5, 5, 8]  | 5                       |\n",
    "| add(10)   | \\[5, 5, 8]  | 10         | \\[5, 5, 8, 10]  | 5       | \\[5, 10, 8] | 5                       |\n",
    "| add(9)    | \\[5, 10, 8] | 9          | \\[5, 9, 8, 10]  | 5       | \\[8, 9, 10] | 8                       |\n",
    "| add(4)    | \\[8, 9, 10] | 4          | \\[4, 8, 10, 9]  | 4       | \\[8, 9, 10] | 8                       |\n"
   ]
  },
  {
   "cell_type": "code",
   "execution_count": null,
   "id": "226588cf",
   "metadata": {},
   "outputs": [],
   "source": []
  }
 ],
 "metadata": {
  "kernelspec": {
   "display_name": "3.11.11",
   "language": "python",
   "name": "python3"
  },
  "language_info": {
   "codemirror_mode": {
    "name": "ipython",
    "version": 3
   },
   "file_extension": ".py",
   "mimetype": "text/x-python",
   "name": "python",
   "nbconvert_exporter": "python",
   "pygments_lexer": "ipython3",
   "version": "3.11.11"
  }
 },
 "nbformat": 4,
 "nbformat_minor": 5
}
