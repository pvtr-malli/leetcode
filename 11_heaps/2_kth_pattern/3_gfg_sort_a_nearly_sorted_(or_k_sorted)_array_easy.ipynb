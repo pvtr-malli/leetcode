{
 "cells": [
  {
   "cell_type": "markdown",
   "id": "b0632fbf",
   "metadata": {},
   "source": [
    "Given an array arr[] and a number k . The array is sorted in a way that every element is at max k distance away from it sorted position. It means if we completely sort the array, then the index of the element can go from i - k to i + k where i is index in the given array. Our task is to completely sort the array.\n",
    "\n",
    "Examples: \n",
    "\n",
    "Input: arr= [6, 5, 3, 2, 8, 10, 9], k = 3 \n",
    "Output: [2, 3, 5, 6, 8, 9, 10]\n",
    "\n",
    "Input: arr[]= [1, 4, 5, 2, 3, 6, 7, 8, 9, 10], k = 2\n",
    "Output: [1, 2, 3, 4, 5, 6, 7, 8, 9, 10]\n",
    "\n",
    "Try it on GfG Practice\n",
    "redirect icon\n",
    "Table of Content\n",
    "\n",
    "[Naive Approach] By sorting - O(n*log n) Time and O(1) Space\n",
    "[Expected Approach] Using Heap - O(n*log k) Time and O(k) Space\n",
    "\n",
    "We can simply use any sorting algorithm of O(n*log n) time complexity to achieve sorted array.\n",
    "\n",
    "[Expected Approach] Using Heap - O(n*log k) Time and O(k) Space\n",
    "\n",
    "\n",
    "Step by Step implementation:\n",
    "\n",
    "Push the first k elements of the array into the min-heap. These elements form the initial search range for sorting the first few indices.\n",
    "Iterate through the remaining elements of the array (from index k to n-1). For each element:\n",
    "Push it into the min-heap.\n",
    "The heap now contains k + 1 elements, so remove the smallest element (top of the heap) and place it at its correct position in the array (arr[i-k]).\n",
    "After processing all elements in the array, the heap still contains the last k elements. Extract these elements one by one and place them in the remaining positions of the array."
   ]
  },
  {
   "cell_type": "code",
   "execution_count": 1,
   "id": "3cac04b2",
   "metadata": {},
   "outputs": [
    {
     "name": "stdout",
     "output_type": "stream",
     "text": [
      "2 3 5 6 8 9 10\n"
     ]
    }
   ],
   "source": [
    "# A Python program to sort a\n",
    "# nearly sorted array.\n",
    "\n",
    "import heapq\n",
    "\n",
    "# Function to sort a nearly sorted array\n",
    "# where every element is at most\n",
    "# k positions away from its target position.\n",
    "def nearlySorted(arr, k):\n",
    "    # Length of array\n",
    "    n = len(arr)\n",
    "\n",
    "    # Creating a min heap\n",
    "    pq = []\n",
    "\n",
    "    # Pushing first k elements in pq\n",
    "    for i in range(k):\n",
    "        heapq.heappush(pq, arr[i])\n",
    "\n",
    "    i = k\n",
    "    index = 0\n",
    "\n",
    "    while i < n:\n",
    "        heapq.heappush(pq, arr[i])\n",
    "\n",
    "        # Size becomes k+1 so pop it\n",
    "        # and add minimum element in (index) position\n",
    "        arr[index] = heapq.heappop(pq)\n",
    "        i += 1\n",
    "        index += 1\n",
    "\n",
    "    # Putting remaining elements in array\n",
    "    while pq:\n",
    "        arr[index] = heapq.heappop(pq)\n",
    "        index += 1\n",
    "\n",
    "if __name__ == \"__main__\":\n",
    "    k = 3\n",
    "    arr = [6, 5, 3, 2, 8, 10, 9]\n",
    "\n",
    "    nearlySorted(arr, k)\n",
    "\n",
    "    print(\" \".join(map(str, arr)))"
   ]
  },
  {
   "cell_type": "code",
   "execution_count": null,
   "id": "bfa166c0",
   "metadata": {},
   "outputs": [],
   "source": []
  }
 ],
 "metadata": {
  "kernelspec": {
   "display_name": "3.11.11",
   "language": "python",
   "name": "python3"
  },
  "language_info": {
   "codemirror_mode": {
    "name": "ipython",
    "version": 3
   },
   "file_extension": ".py",
   "mimetype": "text/x-python",
   "name": "python",
   "nbconvert_exporter": "python",
   "pygments_lexer": "ipython3",
   "version": "3.11.11"
  }
 },
 "nbformat": 4,
 "nbformat_minor": 5
}
