{
 "cells": [
  {
   "cell_type": "markdown",
   "id": "a5a529cb",
   "metadata": {},
   "source": [
    "You are given a sorted integer array arr containing 1 and prime numbers, where all the integers of arr are unique. You are also given an integer k.\n",
    "\n",
    "For every i and j where 0 <= i < j < arr.length, we consider the fraction arr[i] / arr[j].\n",
    "\n",
    "Return the kth smallest fraction considered. Return your answer as an array of integers of size 2, where answer[0] == arr[i] and answer[1] == arr[j].\n",
    "\n",
    " \n",
    "\n",
    "Example 1:\n",
    "\n",
    "Input: arr = [1,2,3,5], k = 3\n",
    "Output: [2,5]\n",
    "Explanation: The fractions to be considered in sorted order are:\n",
    "1/5, 1/3, 2/5, 1/2, 3/5, and 2/3.\n",
    "The third fraction is 2/5.\n",
    "Example 2:\n",
    "\n",
    "Input: arr = [1,7], k = 1\n",
    "Output: [1,7]\n",
    " \n",
    "\n",
    "Constraints:\n",
    "\n",
    "2 <= arr.length <= 1000\n",
    "1 <= arr[i] <= 3 * 104\n",
    "arr[0] == 1\n",
    "arr[i] is a prime number for i > 0.\n",
    "All the numbers of arr are unique and sorted in strictly increasing order.\n",
    "1 <= k <= arr.length * (arr.length - 1) / 2\n",
    " \n",
    "\n",
    "Follow up: Can you solve the problem with better than O(n2) complexity?"
   ]
  },
  {
   "cell_type": "markdown",
   "id": "45f98d43",
   "metadata": {},
   "source": [
    "# approach:\n",
    "- loop over the arr to find all the fractions.\n",
    "- track the kth fraction using hte max-heap."
   ]
  },
  {
   "cell_type": "code",
   "execution_count": null,
   "id": "d678e7ff",
   "metadata": {},
   "outputs": [],
   "source": [
    "import heapq\n",
    "\n",
    "class Solution:\n",
    "    def kthSmallestPrimeFraction(self, arr: list[int], k: int) -> list[int]:\n",
    "        frac = []\n",
    "        for i in range(len(arr)):\n",
    "            for j in range(i+1, len(arr)):\n",
    "                frac.append((-(arr[i]/arr[j]), arr[i], arr[j]))\n",
    "\n",
    "        heapq.heapify(frac)\n",
    "        while len(frac) > k:\n",
    "           heapq.heappop(frac)\n",
    "\n",
    "        print(frac)\n",
    "\n",
    "        return [frac[0][1], frac[0][2]]\n",
    "    \n",
    "# tc :\n",
    "# generating all fractions - O(n^2)\n",
    "# heapify - O(n)\n",
    "# kth fraction - O(k log k)"
   ]
  },
  {
   "cell_type": "code",
   "execution_count": 14,
   "id": "9b565b72",
   "metadata": {},
   "outputs": [
    {
     "name": "stdout",
     "output_type": "stream",
     "text": [
      "[(-0.4, 2, 5), (-0.3333333333333333, 1, 3), (-0.2, 1, 5)]\n"
     ]
    },
    {
     "data": {
      "text/plain": [
       "[2, 5]"
      ]
     },
     "execution_count": 14,
     "metadata": {},
     "output_type": "execute_result"
    }
   ],
   "source": [
    "Solution().kthSmallestPrimeFraction(arr = [1,2,3,5], k = 3)"
   ]
  },
  {
   "cell_type": "code",
   "execution_count": null,
   "id": "15a47a9a",
   "metadata": {},
   "outputs": [],
   "source": [
    "import heapq\n",
    "\n",
    "class Solution:\n",
    "    def kthSmallestPrimeFraction(self, arr: list[int], k: int) -> list[int]:\n",
    "        frac = []\n",
    "        for i in range(len(arr)):\n",
    "            for j in range(i+1, len(arr)):\n",
    "                frac.append((-(arr[i]/arr[j]), arr[i], arr[j]))\n",
    "\n",
    "        max_heap = []\n",
    "        for ele in frac:\n",
    "            heapq.heappush(max_heap, ele)\n",
    "\n",
    "            while len(max_heap) > k:\n",
    "                heapq.heappop(max_heap)\n",
    "\n",
    "        print(max_heap)\n",
    "\n",
    "        return [max_heap[0][1], max_heap[0][2]]\n",
    "    \n",
    "# tc :\n",
    "# generating all fractions - O(n^2)\n",
    "# kth fraction - O(n log k)\n",
    "# sc - O(n^2) + O(k)"
   ]
  },
  {
   "cell_type": "code",
   "execution_count": 18,
   "id": "15f3448a",
   "metadata": {},
   "outputs": [
    {
     "name": "stdout",
     "output_type": "stream",
     "text": [
      "[(-0.4, 2, 5), (-0.3333333333333333, 1, 3), (-0.2, 1, 5)]\n"
     ]
    },
    {
     "data": {
      "text/plain": [
       "[2, 5]"
      ]
     },
     "execution_count": 18,
     "metadata": {},
     "output_type": "execute_result"
    }
   ],
   "source": [
    "Solution().kthSmallestPrimeFraction(arr = [1,2,3,5], k = 3)"
   ]
  },
  {
   "cell_type": "markdown",
   "id": "70201535",
   "metadata": {},
   "source": [
    "# Follow up: Can you solve the problem with better than O(n2) complexity?\n"
   ]
  },
  {
   "cell_type": "markdown",
   "id": "16c4164c",
   "metadata": {},
   "source": [
    "# approach 2:\n",
    "- we wanna compute only until the k elements, what we have to do is, intialize the heap with firs set of values.\n",
    "- pop if its bi"
   ]
  },
  {
   "cell_type": "code",
   "execution_count": 21,
   "id": "459e13a6",
   "metadata": {},
   "outputs": [],
   "source": [
    "# page 1: -heap\n",
    "\n",
    "\n",
    "import heapq\n",
    "\n",
    "class Solution:\n",
    "    def kthSmallestPrimeFraction(self, arr: list[int], k: int) -> list[int]:\n",
    "        n = len(arr)\n",
    "        min_heap = []\n",
    "\n",
    "        # Initialize heap with fractions of form (arr[0]/arr[j]) for j = 1 to n-1\n",
    "        for j in range(1, n):\n",
    "            heapq.heappush(min_heap, (arr[0] / arr[j], 0, j))\n",
    "\n",
    "        # Pop k-1 smallest fractions from heap\n",
    "        for _ in range(k - 1):\n",
    "            value, i, j = heapq.heappop(min_heap)\n",
    "            if i + 1 < j:\n",
    "                # Add next fraction from the same denominator\n",
    "                heapq.heappush(min_heap, (arr[i + 1] / arr[j], i + 1, j))\n",
    "\n",
    "        # k-th smallest fraction is on top\n",
    "        _, i, j = heapq.heappop(min_heap)\n",
    "        return [arr[i], arr[j]]\n",
    "\n",
    "# tc - O(k log k)\n",
    "# sc - O(k)"
   ]
  },
  {
   "cell_type": "markdown",
   "id": "c5120018",
   "metadata": {},
   "source": [
    "Here’s the **complete dry run in a full table format** for:\n",
    "\n",
    "> `arr = [1, 2, 3, 5]` and `k = 3`\n",
    "\n",
    "We want the **3rd smallest prime fraction** formed by `arr[i]/arr[j]` where `i < j`.\n",
    "\n",
    "---\n",
    "\n",
    "### ✅ **Step-by-step Dry Run Table**\n",
    "\n",
    "| Step | Operation | Fraction (arr\\[i]/arr\\[j]) | i | j | Value | Heap After Operation (Top 3)               |\n",
    "| ---- | --------- | -------------------------- | - | - | ----- | ------------------------------------------ |\n",
    "| 0    | Init Push | 1/2                        | 0 | 1 | 0.5   | \\[(0.5, 0, 1)]                             |\n",
    "| 0    | Init Push | 1/3                        | 0 | 2 | 0.333 | \\[(0.333, 0, 2), (0.5, 0, 1)]              |\n",
    "| 0    | Init Push | 1/5                        | 0 | 3 | 0.2   | \\[(0.2, 0, 3), (0.5, 0, 1), (0.333, 0, 2)] |\n",
    "\n",
    "---\n",
    "\n",
    "| Step | Operation | Fraction | i | j | Value | Reasoning                                  |\n",
    "| ---- | --------- | -------- | - | - | ----- | ------------------------------------------ |\n",
    "| 1    | Pop       | 1/5      | 0 | 3 | 0.2   | 1st smallest fraction                      |\n",
    "| 1    | Push      | 2/5      | 1 | 3 | 0.4   | i+1 = 1 < 3 → valid push                   |\n",
    "|      | Heap      | —        | — | — | —     | \\[(0.333, 0, 2), (0.5, 0, 1), (0.4, 1, 3)] |\n",
    "\n",
    "---\n",
    "\n",
    "| Step | Operation | Fraction | i | j | Value | Reasoning                                  |\n",
    "| ---- | --------- | -------- | - | - | ----- | ------------------------------------------ |\n",
    "| 2    | Pop       | 1/3      | 0 | 2 | 0.333 | 2nd smallest fraction                      |\n",
    "| 2    | Push      | 2/3      | 1 | 2 | 0.666 | i+1 = 1 < 2 → valid push                   |\n",
    "|      | Heap      | —        | — | — | —     | \\[(0.4, 1, 3), (0.5, 0, 1), (0.666, 1, 2)] |\n",
    "\n",
    "---\n",
    "\n",
    "| Step | Operation | Fraction | i | j | Value | Reasoning                           |\n",
    "| ---- | --------- | -------- | - | - | ----- | ----------------------------------- |\n",
    "| 3    | Pop       | 2/5      | 1 | 3 | 0.4   | ✅ This is the 3rd smallest fraction |\n",
    "\n",
    "---\n",
    "\n",
    "### ✅ Final Result:\n",
    "\n",
    "```python\n",
    "[2, 5]\n",
    "```\n",
    "\n"
   ]
  },
  {
   "cell_type": "markdown",
   "id": "3a4b4343",
   "metadata": {},
   "source": [
    "# most optimal: O(1) tc\n"
   ]
  },
  {
   "cell_type": "code",
   "execution_count": null,
   "id": "57ade0f1",
   "metadata": {},
   "outputs": [
    {
     "data": {
      "text/plain": [
       "0.6"
      ]
     },
     "execution_count": 20,
     "metadata": {},
     "output_type": "execute_result"
    }
   ],
   "source": [
    "class Solution:\n",
    "    def kthSmallestPrimeFraction(self, arr: list[int], k: int) -> list[int]:\n",
    "        n = len(arr)\n",
    "        low, high = 0.0, 1.0\n",
    "        \n",
    "        while high - low > 1e-9:\n",
    "            mid = (low + high) / 2.0\n",
    "            count = 0\n",
    "            max_frac = 0.0\n",
    "            numerator = 0\n",
    "            denominator = 1\n",
    "            i = -1  # pointer for numerator\n",
    "            \n",
    "            # Count the number of fractions < mid.\n",
    "            #. we are checking line by line. count all the values < mid.\n",
    "            # for each denominator\n",
    "            for j in range(1, n):\n",
    "                # increase i while the fraction is < mid\n",
    "                while i + 1 < j and arr[i + 1] / arr[j] < mid:\n",
    "                    i += 1\n",
    "                \n",
    "                # Count the number of value for this row.\n",
    "                count += i + 1\n",
    "                \n",
    "                # track the max fraction ≤ mid\n",
    "                if i >= 0 and arr[i] / arr[j] > max_frac:\n",
    "                    max_frac = arr[i] / arr[j]\n",
    "                    numerator = arr[i]\n",
    "                    denominator = arr[j]\n",
    "            \n",
    "            if count < k:\n",
    "                #if the fraction is < k. we need to make it big, go roght.\n",
    "                low = mid\n",
    "            else:\n",
    "                # if >=, this could be our answer.\n",
    "                # store it and move foraward.\n",
    "                high = mid\n",
    "                ans = [numerator, denominator]\n",
    "        \n",
    "        return ans\n",
    "\n",
    "# O(n log(1/ε)) where:\n",
    "# n is length of array\n",
    "# ε is the precision (1e-9 here) :; maximum 60 iteration\n",
    "# Each binary search step takes O(n) to count valid fractions using two pointers.\n",
    "# sc - O(1)"
   ]
  },
  {
   "cell_type": "code",
   "execution_count": null,
   "id": "b127e360",
   "metadata": {},
   "outputs": [],
   "source": []
  }
 ],
 "metadata": {
  "kernelspec": {
   "display_name": "3.11.11",
   "language": "python",
   "name": "python3"
  },
  "language_info": {
   "codemirror_mode": {
    "name": "ipython",
    "version": 3
   },
   "file_extension": ".py",
   "mimetype": "text/x-python",
   "name": "python",
   "nbconvert_exporter": "python",
   "pygments_lexer": "ipython3",
   "version": "3.11.11"
  }
 },
 "nbformat": 4,
 "nbformat_minor": 5
}
