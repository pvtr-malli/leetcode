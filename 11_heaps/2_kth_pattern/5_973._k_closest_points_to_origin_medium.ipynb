{
 "cells": [
  {
   "cell_type": "markdown",
   "id": "5848f784",
   "metadata": {},
   "source": [
    "Given an array of points where points[i] = [xi, yi] represents a point on the X-Y plane and an integer k, return the k closest points to the origin (0, 0).\n",
    "\n",
    "The distance between two points on the X-Y plane is the Euclidean distance (i.e., √(x1 - x2)2 + (y1 - y2)2).\n",
    "\n",
    "You may return the answer in any order. The answer is guaranteed to be unique (except for the order that it is in).\n",
    "\n",
    " \n",
    "\n",
    "Example 1:\n",
    "\n",
    "\n",
    "Input: points = [[1,3],[-2,2]], k = 1\n",
    "Output: [[-2,2]]\n",
    "Explanation:\n",
    "The distance between (1, 3) and the origin is sqrt(10).\n",
    "The distance between (-2, 2) and the origin is sqrt(8).\n",
    "Since sqrt(8) < sqrt(10), (-2, 2) is closer to the origin.\n",
    "We only want the closest k = 1 points from the origin, so the answer is just [[-2,2]].\n",
    "Example 2:\n",
    "\n",
    "Input: points = [[3,3],[5,-1],[-2,4]], k = 2\n",
    "Output: [[3,3],[-2,4]]\n",
    "Explanation: The answer [[-2,4],[3,3]] would also be accepted."
   ]
  },
  {
   "cell_type": "markdown",
   "id": "a2fe1dbc",
   "metadata": {},
   "source": [
    "# appraoch 1:\n",
    "- we can sort using the formula. (i.e., √(x1 - x2)^2 + (y1 - y2)^2).  but for convinions we can leave the roor. \n",
    "- with root and without root will give the same order of pointer,   a < b == root(a) < root(b)\n",
    "- so using (x1 - x2)^2 + (y1 - y2)^2 only.\n",
    "- finding distance from the orgine so its simply -- x2^2 + y2^2."
   ]
  },
  {
   "cell_type": "code",
   "execution_count": null,
   "id": "c3df9f87",
   "metadata": {},
   "outputs": [],
   "source": [
    "class Solution:\n",
    "    def kClosest(self, points: list[list[int]], k: int) -> list[list[int]]:\n",
    "        # Sort based on squared distance\n",
    "        points.sort(key=lambda point: point[0]**2 + point[1]**2)\n",
    "        return points[:k]\n",
    "\n",
    "# tc - O(n log n)\n",
    "# sc - O(n) if you store distances separately (or O(1) if you sort in-place)"
   ]
  },
  {
   "cell_type": "markdown",
   "id": "be73c384",
   "metadata": {},
   "source": [
    "# appraoch 2: \n",
    "- any ways we have to go through all the elements and keep the minimum k elements.\n",
    "- so lets keep a heap of k size. when its len > k. pop the max elements - so keep the max heap.\n",
    "- python no max-heap, so simulate it by pushing the -value. so min-heap act as max-heap.\n"
   ]
  },
  {
   "cell_type": "code",
   "execution_count": 13,
   "id": "b7c7d1f6",
   "metadata": {},
   "outputs": [],
   "source": [
    "import heapq\n",
    "class Solution:\n",
    "    def kClosest(self, points: list[list[int]], k: int) -> list[list[int]]:\n",
    "        max_heap = []\n",
    "        l = len(points)\n",
    "        for point in points:\n",
    "            # push the points along with its distance.\n",
    "            dis = point[0] ** 2 + point[1] ** 2\n",
    "            heapq.heappush(max_heap, (-dis, point))\n",
    "\n",
    "            if len(max_heap) > k:\n",
    "                heapq.heappop(max_heap)\n",
    "\n",
    "        # ans  = []\n",
    "        # for point in max_heap:\n",
    "        #     ans.append(point[1])\n",
    "        # return ans \n",
    "        return  [point for (_, point) in max_heap]\n",
    "    \n",
    "# tc :\n",
    "# - for looping - O(n)\n",
    "# - pushing and popoing - heap manages k elements - O(log k)\n",
    "# sc - O(k) + O(ans) [ans array]"
   ]
  },
  {
   "cell_type": "code",
   "execution_count": 14,
   "id": "a688dfb2",
   "metadata": {},
   "outputs": [
    {
     "data": {
      "text/plain": [
       "[[-2, 2]]"
      ]
     },
     "execution_count": 14,
     "metadata": {},
     "output_type": "execute_result"
    }
   ],
   "source": [
    "Solution().kClosest(points = [[1,3],[-2,2]], k = 1)"
   ]
  },
  {
   "cell_type": "code",
   "execution_count": null,
   "id": "2e3fb314",
   "metadata": {},
   "outputs": [],
   "source": []
  }
 ],
 "metadata": {
  "kernelspec": {
   "display_name": "3.11.11",
   "language": "python",
   "name": "python3"
  },
  "language_info": {
   "codemirror_mode": {
    "name": "ipython",
    "version": 3
   },
   "file_extension": ".py",
   "mimetype": "text/x-python",
   "name": "python",
   "nbconvert_exporter": "python",
   "pygments_lexer": "ipython3",
   "version": "3.11.11"
  }
 },
 "nbformat": 4,
 "nbformat_minor": 5
}
