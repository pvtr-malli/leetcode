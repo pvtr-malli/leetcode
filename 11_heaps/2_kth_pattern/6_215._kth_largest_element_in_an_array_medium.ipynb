{
 "cells": [
  {
   "cell_type": "markdown",
   "id": "ef134c66",
   "metadata": {},
   "source": [
    "Given an integer array nums and an integer k, return the kth largest element in the array.\n",
    "\n",
    "Note that it is the kth largest element in the sorted order, not the kth distinct element.\n",
    "\n",
    "Can you solve it without sorting?\n",
    "\n",
    " \n",
    "\n",
    "Example 1:\n",
    "\n",
    "Input: nums = [3,2,1,5,6,4], k = 2\n",
    "Output: 5\n",
    "Example 2:\n",
    "\n",
    "Input: nums = [3,2,3,1,2,4,5,5,6], k = 4\n",
    "Output: 4\n",
    " \n",
    "\n",
    "Constraints:\n",
    "\n",
    "1 <= k <= nums.length <= 105\n",
    "-104 <= nums[i] <= 104"
   ]
  },
  {
   "cell_type": "markdown",
   "id": "fe271b39",
   "metadata": {},
   "source": [
    "# approach 1:\n",
    "- sort the array and return the kth element.\n",
    "- tc - n log n"
   ]
  },
  {
   "cell_type": "code",
   "execution_count": 5,
   "id": "17b5656f",
   "metadata": {},
   "outputs": [],
   "source": [
    "import heapq\n",
    "\n",
    "class Solution:\n",
    "    def findKthLargest(self, nums: list[int], k: int) -> int:\n",
    "        min_heap = []\n",
    "\n",
    "        for num in nums:\n",
    "            # we want the max heap, so push the negative value to get the max heap simulation in python.\n",
    "            heapq.heappush(min_heap, num)\n",
    "\n",
    "            if len(min_heap) > k:\n",
    "                heapq.heappop(min_heap)\n",
    "        \n",
    "        return min_heap[0]\n",
    "\n",
    "# tc - O(n log k) - there will be only k elements in the heap. so for each element log k operations will happens\n",
    "# sc - O(k)\n",
    "    \n"
   ]
  },
  {
   "cell_type": "code",
   "execution_count": 6,
   "id": "d79bd57c",
   "metadata": {},
   "outputs": [
    {
     "data": {
      "text/plain": [
       "5"
      ]
     },
     "execution_count": 6,
     "metadata": {},
     "output_type": "execute_result"
    }
   ],
   "source": [
    "Solution().findKthLargest(nums = [3,2,1,5,6,4], k = 2)"
   ]
  },
  {
   "cell_type": "code",
   "execution_count": 7,
   "id": "28d9f35d",
   "metadata": {},
   "outputs": [
    {
     "data": {
      "text/plain": [
       "4"
      ]
     },
     "execution_count": 7,
     "metadata": {},
     "output_type": "execute_result"
    }
   ],
   "source": [
    "Solution().findKthLargest(nums = [3,2,3,1,2,4,5,5,6], k = 4)"
   ]
  },
  {
   "cell_type": "markdown",
   "id": "30db6e5a",
   "metadata": {},
   "source": [
    "nums = [3, 2, 3, 1, 2, 4, 5, 5, 6]\n",
    "k = 4\n",
    "\n",
    "| Step | Current `num` | Heap Before    | Action                         | Heap After     | Explanation                         |\n",
    "| ---- | ------------- | -------------- | ------------------------------ | -------------- | ----------------------------------- |\n",
    "| 1    | 3             | `[]`           | Push 3                         | `[3]`          | Heap has < k, just add              |\n",
    "| 2    | 2             | `[3]`          | Push 2                         | `[2, 3]`       | 2 goes before 3 (min-heap property) |\n",
    "| 3    | 3             | `[2, 3]`       | Push 3                         | `[2, 3, 3]`    | Still less than k = 4               |\n",
    "| 4    | 1             | `[2, 3, 3]`    | Push 1                         | `[1, 2, 3, 3]` | Heap now has 4 elements             |\n",
    "| 5    | 2             | `[1, 2, 3, 3]` | Push 2 → Heap size > k → Pop 1 | `[2, 2, 3, 3]` | 1 is smallest, discard              |\n",
    "| 6    | 4             | `[2, 2, 3, 3]` | Push 4 → Heap size > k → Pop 2 | `[2, 3, 3, 4]` | Now top is 2                        |\n",
    "| 7    | 5             | `[2, 3, 3, 4]` | Push 5 → Heap size > k → Pop 2 | `[3, 4, 5, 3]` | 2 removed, 5 in                     |\n",
    "| 8    | 5             | `[3, 4, 5, 3]` | Push 5 → Heap size > k → Pop 3 | `[3, 4, 5, 5]` | One 3 removed                       |\n",
    "| 9    | 6             | `[3, 4, 5, 5]` | Push 6 → Heap size > k → Pop 3 | `[4, 5, 5, 6]` | Final heap of top 4                 |\n",
    "\n"
   ]
  },
  {
   "cell_type": "code",
   "execution_count": null,
   "id": "7f04a1fa",
   "metadata": {},
   "outputs": [],
   "source": []
  }
 ],
 "metadata": {
  "kernelspec": {
   "display_name": "3.11.11",
   "language": "python",
   "name": "python3"
  },
  "language_info": {
   "codemirror_mode": {
    "name": "ipython",
    "version": 3
   },
   "file_extension": ".py",
   "mimetype": "text/x-python",
   "name": "python",
   "nbconvert_exporter": "python",
   "pygments_lexer": "ipython3",
   "version": "3.11.11"
  }
 },
 "nbformat": 4,
 "nbformat_minor": 5
}
