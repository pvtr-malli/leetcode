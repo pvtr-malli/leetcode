{
 "cells": [
  {
   "cell_type": "markdown",
   "id": "55b8f124",
   "metadata": {},
   "source": [
    "You are given two integer arrays nums1 and nums2 sorted in non-decreasing order and an integer k.\n",
    "\n",
    "Define a pair (u, v) which consists of one element from the first array and one element from the second array.\n",
    "\n",
    "Return the k pairs (u1, v1), (u2, v2), ..., (uk, vk) with the smallest sums.\n",
    "\n",
    " \n",
    "\n",
    "Example 1:\n",
    "\n",
    "Input: nums1 = [1,7,11], nums2 = [2,4,6], k = 3\n",
    "Output: [[1,2],[1,4],[1,6]]\n",
    "Explanation: The first 3 pairs are returned from the sequence: [1,2],[1,4],[1,6],[7,2],[7,4],[11,2],[7,6],[11,4],[11,6]\n",
    "Example 2:\n",
    "\n",
    "Input: nums1 = [1,1,2], nums2 = [1,2,3], k = 2\n",
    "Output: [[1,1],[1,1]]\n",
    "Explanation: The first 2 pairs are returned from the sequence: [1,1],[1,1],[1,2],[2,1],[1,2],[2,2],[1,3],[1,3],[2,3]\n",
    " \n",
    "\n",
    "Constraints:\n",
    "\n",
    "1 <= nums1.length, nums2.length <= 105\n",
    "-109 <= nums1[i], nums2[i] <= 109\n",
    "nums1 and nums2 both are sorted in non-decreasing order.\n",
    "1 <= k <= 104\n",
    "k <= nums1.length * nums2.length"
   ]
  },
  {
   "cell_type": "markdown",
   "id": "97fe5c0e",
   "metadata": {},
   "source": [
    "# optimal :\n",
    "- the arr is already sorted, so we can have a min heap,\n",
    "- push the next elements for each ele.\n",
    "- pop k times and store the ans."
   ]
  },
  {
   "cell_type": "code",
   "execution_count": null,
   "id": "9e6f0b96",
   "metadata": {},
   "outputs": [],
   "source": [
    "import heapq\n",
    "\n",
    "class Solution:\n",
    "    def kSmallestPairs(self, nums1: list[int], nums2: list[int], k: int) -> list[list[int]]:\n",
    "        min_heap = []\n",
    "        ans = []\n",
    "        n = len(nums1)\n",
    "        m = len(nums2)\n",
    "        visited = set()\n",
    "\n",
    "        # initialize hte heap with the frst value.\n",
    "        heapq.heappush(min_heap, (nums1[0] + nums2[0], 0, 0))\n",
    "        visited.add((0, 0))\n",
    "\n",
    "        for _ in range(k):\n",
    "            ele, i, j = heapq.heappop(min_heap)\n",
    "            ans.append([nums1[i], nums2[j]])\n",
    "\n",
    "            print(i,j)\n",
    "\n",
    "            # push the next value.\n",
    "            if i+1 < n and (i+1, j) not in visited:\n",
    "                heapq.heappush(min_heap, (nums1[i+1] + nums2[j], i+1, j))\n",
    "                visited.add((i+1, j))\n",
    "            \n",
    "            # push the next j.\n",
    "            if j+1 < m and (i, j+1) not in visited:\n",
    "                heapq.heappush(min_heap, (nums1[i] + nums2[j+1], i, j+1\n",
    "                ))\n",
    "                visited.add((i, j+1))\n",
    "\n",
    "            print(min_heap)\n",
    "        return ans\n",
    "\n",
    "# tc:\n",
    "# - In the worst case, you could push up to min(k, n * m) items into the heap.\n",
    "# - O(k log k) (since you process up to k elements, not all n * m).\n",
    "\n",
    "# sc:\n",
    "# - visited - O(k) almost\n",
    "# - ans - O(k) almost\n",
    "# - min_hea p- O(k) atmost"
   ]
  },
  {
   "cell_type": "code",
   "execution_count": 15,
   "id": "59b1f93a",
   "metadata": {},
   "outputs": [
    {
     "name": "stdout",
     "output_type": "stream",
     "text": [
      "0 0\n",
      "[(5, 0, 1), (9, 1, 0)]\n",
      "0 1\n",
      "[(7, 0, 2), (11, 1, 1), (9, 1, 0)]\n",
      "0 2\n",
      "[(9, 1, 0), (11, 1, 1), (13, 1, 2)]\n"
     ]
    },
    {
     "data": {
      "text/plain": [
       "[[1, 2], [1, 4], [1, 6]]"
      ]
     },
     "execution_count": 15,
     "metadata": {},
     "output_type": "execute_result"
    }
   ],
   "source": [
    "Solution().kSmallestPairs(nums1 = [1,7,11], nums2 = [2,4,6], k = 3)"
   ]
  },
  {
   "cell_type": "code",
   "execution_count": 16,
   "id": "94a80dc5",
   "metadata": {},
   "outputs": [
    {
     "name": "stdout",
     "output_type": "stream",
     "text": [
      "0 0\n",
      "[(2, 1, 0), (3, 0, 1)]\n",
      "1 0\n",
      "[(3, 0, 1), (3, 2, 0), (3, 1, 1)]\n"
     ]
    },
    {
     "data": {
      "text/plain": [
       "[[1, 1], [1, 1]]"
      ]
     },
     "execution_count": 16,
     "metadata": {},
     "output_type": "execute_result"
    }
   ],
   "source": [
    "Solution().kSmallestPairs(nums1 = [1,1,2], nums2 = [1,2,3], k = 2)"
   ]
  },
  {
   "cell_type": "code",
   "execution_count": null,
   "id": "cf2b8bdf",
   "metadata": {},
   "outputs": [],
   "source": []
  }
 ],
 "metadata": {
  "kernelspec": {
   "display_name": "3.11.11",
   "language": "python",
   "name": "python3"
  },
  "language_info": {
   "codemirror_mode": {
    "name": "ipython",
    "version": 3
   },
   "file_extension": ".py",
   "mimetype": "text/x-python",
   "name": "python",
   "nbconvert_exporter": "python",
   "pygments_lexer": "ipython3",
   "version": "3.11.11"
  }
 },
 "nbformat": 4,
 "nbformat_minor": 5
}
