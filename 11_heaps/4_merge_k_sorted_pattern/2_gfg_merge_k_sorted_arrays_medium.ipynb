{
 "cells": [
  {
   "cell_type": "markdown",
   "id": "c58fdf14",
   "metadata": {},
   "source": [
    "Given a 2D matrix arr[][] consisting of K sorted arrays, where each row is sorted in non-decreasing order, find a single sorted array that contains all the elements from the matrix.\n",
    "\n",
    "Examples:\n",
    "\n",
    "Input: k = 3, arr[][] = [[1, 3, 5, 7], [2, 4, 6, 8], [0, 9, 10, 11]]\n",
    "Output: [0, 1, 2, 3, 4, 5, 6, 7, 8, 9, 10, 11]\n",
    "Explanation: Merging all elements from the 3 sorted arrays and sorting them results in: [0, 1, 2, 3, 4, 5, 6, 7, 8, 9, 10, 11].\n",
    "\n",
    "Input: k = 4, arr[][] = [[1, 2, 3, 4], [2, 2, 3, 4], [5, 5, 6, 6], [7, 8, 9, 9]]\n",
    "Output: [1, 2, 2, 2, 3, 3, 4, 4, 5, 5, 6, 6, 7, 8, 9, 9] \n",
    "Explanation: Merging all elements from the 4 sorted arrays and sorting them results in: [1, 2, 2, 2, 3, 3, 4, 4, 5, 5, 6, 6, 7, 8, 9, 9] ."
   ]
  },
  {
   "cell_type": "markdown",
   "id": "de6a05d0",
   "metadata": {},
   "source": [
    "# brute force, put everything in a array and sort it."
   ]
  },
  {
   "cell_type": "code",
   "execution_count": null,
   "id": "b4efffb9",
   "metadata": {},
   "outputs": [
    {
     "name": "stdout",
     "output_type": "stream",
     "text": [
      "0 1 2 3 4 5 6 7 8 9 10 11\n"
     ]
    }
   ],
   "source": [
    "def mergeKArrays(arr, k):\n",
    "    result = []\n",
    "\n",
    "    # Traverse each array and add all elements to result\n",
    "    for i in range(k):\n",
    "        for num in arr[i]:\n",
    "            result.append(num)\n",
    "\n",
    "    # Sort the result list\n",
    "    result.sort()\n",
    "    return result\n",
    "\n",
    "# Driver code\n",
    "if __name__ == '__main__':\n",
    "\n",
    "    arr = [[1, 3, 5, 7],\n",
    "           [2, 4, 6, 8], \n",
    "           [0, 9, 10, 11]]\n",
    "\n",
    "    # Number of arrays\n",
    "    k = 3  \n",
    "\n",
    "    # Function call\n",
    "    res = mergeKArrays(arr, k)\n",
    "\n",
    "    print(*res)\n",
    "\n",
    "# tc- O(n logn)"
   ]
  },
  {
   "cell_type": "markdown",
   "id": "c287ab85",
   "metadata": {},
   "source": [
    "# [Expected Approach 2] Using Min-Heap - Works better for Different Sized Arrays\n"
   ]
  },
  {
   "cell_type": "code",
   "execution_count": null,
   "id": "6ab89885",
   "metadata": {},
   "outputs": [
    {
     "name": "stdout",
     "output_type": "stream",
     "text": [
      "0 1 2 3 4 5 6 7 8 9 10 11\n"
     ]
    }
   ],
   "source": [
    "import heapq\n",
    "\n",
    "def mergeKArrays(arr, k):\n",
    "    \n",
    "    res = []\n",
    "    heap = []\n",
    "\n",
    "    # Push first element of each array.\n",
    "    for i in range(k):\n",
    "        if arr[i]:\n",
    "            heapq.heappush(heap, (arr[i][0], i, 0))\n",
    "\n",
    "    # Merge all elements\n",
    "    while heap:\n",
    "        \n",
    "        val, i, j = heapq.heappop(heap)\n",
    "        res.append(val)\n",
    "\n",
    "        # Push next element from same array\n",
    "        if j + 1 < len(arr[i]):\n",
    "            heapq.heappush(heap, (arr[i][j + 1], i, j + 1))\n",
    "\n",
    "    return res\n",
    "\n",
    "# Driver code\n",
    "if __name__ == '__main__':\n",
    "    arr = [\n",
    "        [1, 3, 5, 7],\n",
    "        [2, 4, 6, 8],\n",
    "        [0, 9, 10, 11]\n",
    "    ]\n",
    "    k = len(arr)\n",
    "    res = mergeKArrays(arr, k)\n",
    "    print(*res)\n",
    "\n",
    "\n",
    "# tc -  O(n*log(k))\n",
    "# sc - O(k)"
   ]
  },
  {
   "cell_type": "code",
   "execution_count": null,
   "id": "7c192f44",
   "metadata": {},
   "outputs": [],
   "source": []
  }
 ],
 "metadata": {
  "kernelspec": {
   "display_name": "3.11.11",
   "language": "python",
   "name": "python3"
  },
  "language_info": {
   "codemirror_mode": {
    "name": "ipython",
    "version": 3
   },
   "file_extension": ".py",
   "mimetype": "text/x-python",
   "name": "python",
   "nbconvert_exporter": "python",
   "pygments_lexer": "ipython3",
   "version": "3.11.11"
  }
 },
 "nbformat": 4,
 "nbformat_minor": 5
}
