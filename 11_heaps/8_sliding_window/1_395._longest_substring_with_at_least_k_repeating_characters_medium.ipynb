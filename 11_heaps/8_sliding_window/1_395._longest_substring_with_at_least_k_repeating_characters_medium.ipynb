{
 "cells": [
  {
   "cell_type": "markdown",
   "id": "c2945b1a",
   "metadata": {},
   "source": [
    "Given a string s and an integer k, return the length of the longest substring of s such that the frequency of each character in this substring is greater than or equal to k.\n",
    "\n",
    "if no such substring exists, return 0.\n",
    "\n",
    " \n",
    "\n",
    "Example 1:\n",
    "\n",
    "Input: s = \"aaabb\", k = 3\n",
    "Output: 3\n",
    "Explanation: The longest substring is \"aaa\", as 'a' is repeated 3 times.\n",
    "Example 2:\n",
    "\n",
    "Input: s = \"ababbc\", k = 2\n",
    "Output: 5\n",
    "Explanation: The longest substring is \"ababb\", as 'a' is repeated 2 times and 'b' is repeated 3 times.\n",
    " \n",
    "\n",
    "Constraints:\n",
    "\n",
    "1 <= s.length <= 104\n",
    "s consists of only lowercase English letters.\n",
    "1 <= k <= 105"
   ]
  },
  {
   "cell_type": "code",
   "execution_count": 9,
   "id": "5ab2c57f",
   "metadata": {},
   "outputs": [],
   "source": [
    "from collections import Counter\n",
    "\n",
    "class Solution:\n",
    "    def longestSubstring(self, s: str, k: int) -> int:\n",
    "        if len(s) < k:\n",
    "            return 0\n",
    "        \n",
    "        freq = Counter(s)\n",
    "        print(s, freq)\n",
    "        \n",
    "        for ch in freq:\n",
    "            if freq[ch] < k:\n",
    "                # split on the invalid character\n",
    "                return max(self.longestSubstring(t, k) for t in s.split(ch))\n",
    "        \n",
    "        return len(s)  # all chars are valid\n",
    "\n",
    "# tc - O(n^2) if split repeatedlu in half\n"
   ]
  },
  {
   "cell_type": "code",
   "execution_count": 10,
   "id": "c7f84f21",
   "metadata": {},
   "outputs": [
    {
     "name": "stdout",
     "output_type": "stream",
     "text": [
      "aaabbcccc Counter({'c': 4, 'a': 3, 'b': 2})\n",
      "aaa Counter({'a': 3})\n",
      "cccc Counter({'c': 4})\n"
     ]
    },
    {
     "data": {
      "text/plain": [
       "4"
      ]
     },
     "execution_count": 10,
     "metadata": {},
     "output_type": "execute_result"
    }
   ],
   "source": [
    "Solution().longestSubstring(s = \"aaabbcccc\", k = 3)"
   ]
  },
  {
   "cell_type": "code",
   "execution_count": 11,
   "id": "e855f445",
   "metadata": {},
   "outputs": [
    {
     "data": {
      "text/plain": [
       "['aaa', '', 'cccc']"
      ]
     },
     "execution_count": 11,
     "metadata": {},
     "output_type": "execute_result"
    }
   ],
   "source": [
    "\"aaabbcccc\".split('b')"
   ]
  },
  {
   "cell_type": "code",
   "execution_count": null,
   "id": "e6bc31ac",
   "metadata": {},
   "outputs": [],
   "source": [
    "from collections import Counter\n",
    "\n",
    "class Solution:\n",
    "    def longestSubstring(self, s: str, k: int) -> int:\n",
    "        max_len = 0\n",
    "        n = len(s)\n",
    "        \n",
    "        for target_unique in range(1, 27):  # there can be max 26 unique chars\n",
    "            left = 0\n",
    "            right = 0\n",
    "            window_counts = [0] * 26\n",
    "            unique = 0\n",
    "            count_at_least_k = 0\n",
    "            \n",
    "            while right < n:\n",
    "                # id there are more than target_unique charac, then strink the window.\n",
    "                if unique <= target_unique:\n",
    "                    idx = ord(s[right]) - ord('a') # here 0 - 'a' and 1- 'b'. \n",
    "\n",
    "                    # we want to count how many unique characters here.\n",
    "                    if window_counts[idx] == 0:\n",
    "                        unique += 1\n",
    "                    window_counts[idx] += 1\n",
    "\n",
    "                    # count atlest k, means how many having atleast k. character.\n",
    "                    if window_counts[idx] == k:\n",
    "                        count_at_least_k += 1\n",
    "                    right += 1\n",
    "                else:\n",
    "                    idx = ord(s[left]) - ord('a')\n",
    "                    if window_counts[idx] == k:\n",
    "                        count_at_least_k -= 1\n",
    "                    window_counts[idx] -= 1\n",
    "                    if window_counts[idx] == 0:\n",
    "                        unique -= 1\n",
    "                    left += 1\n",
    "                \n",
    "                # if the number of unique character is == count at leask k means,\n",
    "                # all the charactors having atleast k freq. and if that is == target_unique.\n",
    "                # then we consider this as valid for now, and add it.\n",
    "                if unique == target_unique and unique == count_at_least_k:\n",
    "                    max_len = max(max_len, right - left)\n",
    "        \n",
    "        return max_len\n",
    "    \n",
    "\n",
    "# tc - O(26 * n) ~= O(n)\n",
    "# sc - O(26)"
   ]
  },
  {
   "cell_type": "code",
   "execution_count": null,
   "id": "9d57d8b9",
   "metadata": {},
   "outputs": [
    {
     "data": {
      "text/plain": [
       "97"
      ]
     },
     "execution_count": 12,
     "metadata": {},
     "output_type": "execute_result"
    }
   ],
   "source": [
    "ord('a') "
   ]
  },
  {
   "cell_type": "code",
   "execution_count": null,
   "id": "69777899",
   "metadata": {},
   "outputs": [],
   "source": []
  }
 ],
 "metadata": {
  "kernelspec": {
   "display_name": "3.11.11",
   "language": "python",
   "name": "python3"
  },
  "language_info": {
   "codemirror_mode": {
    "name": "ipython",
    "version": 3
   },
   "file_extension": ".py",
   "mimetype": "text/x-python",
   "name": "python",
   "nbconvert_exporter": "python",
   "pygments_lexer": "ipython3",
   "version": "3.11.11"
  }
 },
 "nbformat": 4,
 "nbformat_minor": 5
}
