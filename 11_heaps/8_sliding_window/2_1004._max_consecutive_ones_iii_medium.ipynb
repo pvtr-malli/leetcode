{
 "cells": [
  {
   "cell_type": "markdown",
   "id": "bf160fdb",
   "metadata": {},
   "source": [
    "Given a binary array nums and an integer k, return the maximum number of consecutive 1's in the array if you can flip at most k 0's.\n",
    "\n",
    " \n",
    "\n",
    "Example 1:\n",
    "\n",
    "Input: nums = [1,1,1,0,0,0,1,1,1,1,0], k = 2\n",
    "Output: 6\n",
    "Explanation: [1,1,1,0,0,1,1,1,1,1,1]\n",
    "Bolded numbers were flipped from 0 to 1. The longest subarray is underlined.\n",
    "Example 2:\n",
    "\n",
    "Input: nums = [0,0,1,1,0,0,1,1,1,0,1,1,0,0,0,1,1,1,1], k = 3\n",
    "Output: 10\n",
    "Explanation: [0,0,1,1,1,1,1,1,1,1,1,1,0,0,0,1,1,1,1]\n",
    "Bolded numbers were flipped from 0 to 1. The longest subarray is underlined.\n",
    " \n",
    "\n",
    "Constraints:\n",
    "\n",
    "1 <= nums.length <= 105\n",
    "nums[i] is either 0 or 1.\n",
    "0 <= k <= nums.length"
   ]
  },
  {
   "cell_type": "code",
   "execution_count": null,
   "id": "b4081079",
   "metadata": {},
   "outputs": [],
   "source": [
    "class Solution:\n",
    "    def longestOnes(self, nums: list[int], k: int) -> int:\n",
    "        filpped_0 = 0\n",
    "        n = len(nums)\n",
    "        start = 0\n",
    "        maxi = 0\n",
    "\n",
    "        for end in range(n):\n",
    "            if nums[end] == 0:\n",
    "                filpped_0 += 1\n",
    "            \n",
    "            # strink the window, then its not meeting the condition.\n",
    "            while filpped_0 > k:\n",
    "                if nums[start] == 0:\n",
    "                    filpped_0 -= 1\n",
    "                start += 1\n",
    "\n",
    "            # track the maximum\n",
    "            maxi = max(maxi, end - start + 1)\n",
    "\n",
    "        return maxi\n",
    "    \n",
    "# tc - O(n) - each ele is accessed atmost 2 times.\n",
    "# sc - O(1)"
   ]
  },
  {
   "cell_type": "code",
   "execution_count": 4,
   "id": "f144dd2f",
   "metadata": {},
   "outputs": [
    {
     "data": {
      "text/plain": [
       "6"
      ]
     },
     "execution_count": 4,
     "metadata": {},
     "output_type": "execute_result"
    }
   ],
   "source": [
    "Solution().longestOnes(nums = [1,1,1,0,0,0,1,1,1,1,0], k = 2)"
   ]
  },
  {
   "cell_type": "code",
   "execution_count": 5,
   "id": "26004cb4",
   "metadata": {},
   "outputs": [
    {
     "data": {
      "text/plain": [
       "10"
      ]
     },
     "execution_count": 5,
     "metadata": {},
     "output_type": "execute_result"
    }
   ],
   "source": [
    "Solution().longestOnes( nums = [0,0,1,1,0,0,1,1,1,0,1,1,0,0,0,1,1,1,1], k = 3)"
   ]
  },
  {
   "cell_type": "markdown",
   "id": "f760db09",
   "metadata": {},
   "source": [
    "nums = [1,1,0,0,1,1,1,0], k = 2\n",
    "\n",
    "\n",
    "\n",
    "| end | nums\\[end] | flipped\\_0 | window            | start          | max\\_len     |\n",
    "| --- | ---------- | ---------- | ----------------- | -------------- | ------------ |\n",
    "| 0   | 1          | 0          | \\[1]              | 0              | 1            |\n",
    "| 1   | 1          | 0          | \\[1,1]            | 0              | 2            |\n",
    "| 2   | 0          | 1          | \\[1,1,0]          | 0              | 3            |\n",
    "| 3   | 0          | 2          | \\[1,1,0,0]        | 0              | 4            |\n",
    "| 4   | 1          | 2          | \\[1,1,0,0,1]      | 0              | 5            |\n",
    "| 5   | 1          | 2          | \\[1,1,0,0,1,1]    | 0              | 6            |\n",
    "| 6   | 1          | 2          | \\[1,1,0,0,1,1,1]  | 0              | 7            |\n",
    "| 7   | 0          | 3 > k      | shrink start to 2 | \\[0,0,1,1,1,0] | max\\_len = 6 |\n"
   ]
  },
  {
   "cell_type": "code",
   "execution_count": null,
   "id": "39d3bc48",
   "metadata": {},
   "outputs": [],
   "source": []
  }
 ],
 "metadata": {
  "kernelspec": {
   "display_name": "3.11.11",
   "language": "python",
   "name": "python3"
  },
  "language_info": {
   "codemirror_mode": {
    "name": "ipython",
    "version": 3
   },
   "file_extension": ".py",
   "mimetype": "text/x-python",
   "name": "python",
   "nbconvert_exporter": "python",
   "pygments_lexer": "ipython3",
   "version": "3.11.11"
  }
 },
 "nbformat": 4,
 "nbformat_minor": 5
}
