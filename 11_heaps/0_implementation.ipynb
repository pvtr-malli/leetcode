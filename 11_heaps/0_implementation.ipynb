{
 "cells": [
  {
   "cell_type": "markdown",
   "id": "f9682c5f",
   "metadata": {},
   "source": [
    "# 1 | Min Heap"
   ]
  },
  {
   "cell_type": "code",
   "execution_count": 36,
   "id": "5c0b2b4d",
   "metadata": {},
   "outputs": [],
   "source": [
    "\n",
    "import sys\n",
    "\n",
    "\n",
    "class Heap:\n",
    "    \"\"\"\n",
    "    All the healper function for the min and max heap.\n",
    "    \"\"\"\n",
    "    def __init__(self, nodes):\n",
    "        self.nodes = nodes\n",
    "    \n",
    "    def len_nodes(self):\n",
    "        return len(self.nodes)\n",
    "\n",
    "    def _get_left_child_index(self, parent_index: int) -> int:\n",
    "        return (2 * parent_index) + 1\n",
    "\n",
    "    def _get_right_child_index(self, parent_index: int) -> int:\n",
    "        return (2 * parent_index) + 2\n",
    "\n",
    "    def _get_parent_index(self, child_index: int) -> int:\n",
    "        return (child_index - 1) // 2\n",
    "\n",
    "    def _has_left_child(self, parent_index: int) -> bool:\n",
    "        return self._get_left_child_index(parent_index) < self.len_nodes()\n",
    "\n",
    "    def _has_right_child(self, parent_index: int) -> bool:\n",
    "        return self._get_right_child_index(parent_index) < self.len_nodes()\n",
    "\n",
    "    def _has_parent(self, index: int) -> bool:\n",
    "        return self._get_parent_index(index) >= 0\n",
    "\n",
    "    def _left_child(self, index: int) -> int:\n",
    "        if not self._has_left_child(index):\n",
    "            return -sys.maxsize\n",
    "        return self.nodes[self._get_left_child_index(index)]\n",
    "\n",
    "    def _right_child(self, index: int) -> int:\n",
    "        if not self._has_right_child(index):\n",
    "            return -sys.maxsize\n",
    "        return self.nodes[self._get_right_child_index(index)]\n",
    "\n",
    "    def _parent(self, index: int) -> int:\n",
    "        if not self._has_parent(index):\n",
    "            return None\n",
    "        return self.nodes[self._get_parent_index(index)]"
   ]
  },
  {
   "cell_type": "code",
   "execution_count": 49,
   "id": "0e3a56f9",
   "metadata": {},
   "outputs": [],
   "source": [
    "# implementa the min-heap functions. insert, delete and peek.\n",
    "class MinHeap(Heap):\n",
    "    def __init__(self, nodes: list[int]):\n",
    "        empty_nodes = []\n",
    "        super().__init__([])\n",
    "\n",
    "        # insert all the nodes to the heap to create the heap.\n",
    "        for node in nodes:\n",
    "            self.insert(node)\n",
    "    \n",
    "    def _trickle_up(self):\n",
    "        \"\"\" \n",
    "        Puch the node upwards to the right position.\n",
    "        \"\"\"\n",
    "        # taken the last node, check the parent, if its smaller than given node swap, repeat.\n",
    "        child_ind = self.len_nodes() - 1 \n",
    "        while self._has_parent(child_ind):\n",
    "            # check the parent is smaller than this.\n",
    "            parent_ind = self._get_parent_index(child_ind)\n",
    "            if self._parent(child_ind) > self.nodes[child_ind]:\n",
    "                self.nodes[self._get_parent_index(child_ind)], self.nodes[child_ind] = self.nodes[child_ind], self.nodes[self._get_parent_index(child_ind)]\n",
    "                child_ind = parent_ind\n",
    "            else:\n",
    "                break\n",
    "\n",
    "        return self.nodes\n",
    "\n",
    "    def _trickle_down(self, ind = None):\n",
    "        \"\"\" \n",
    "        Start from the first node, check the childs and place that node in the right position.\n",
    "        \"\"\"\n",
    "        parent_ind = 0 \n",
    "\n",
    "        while self._has_left_child(parent_ind) or self._has_right_child(parent_ind):\n",
    "            # check which is smaller.\n",
    "            smalle_chile_ind = self._get_left_child_index(parent_ind)\n",
    "            if self._has_right_child(parent_ind) and (self._right_child(parent_ind) < self._left_child(parent_ind)):\n",
    "                smalle_chile_ind = self._get_right_child_index(parent_ind)\n",
    "            \n",
    "            # swap the parent with the smallest child.\n",
    "            self.nodes[parent_ind], self.nodes[smalle_chile_ind] = self.nodes[smalle_chile_ind], self.nodes[parent_ind]\n",
    "\n",
    "            parent_ind = smalle_chile_ind\n",
    "\n",
    "    def delete(self):\n",
    "        \"\"\" \n",
    "        Delete the top node from the heap and maintain the heap.\n",
    "        \"\"\"\n",
    "        if self.len_nodes == 0:\n",
    "            print(\"heap is empty\")\n",
    "            return\n",
    "        \n",
    "        # Remove the first element of the array. \n",
    "        deleted_ele = self.nodes[0]\n",
    "\n",
    "        # keep the last element from the array in the top.\n",
    "        self.nodes[0] = self.nodes[-1]\n",
    "\n",
    "        del self.nodes[-1]\n",
    "\n",
    "        # trickle down to main the heap properties.\n",
    "        self._trickle_down()\n",
    "\n",
    "        return deleted_ele\n",
    "\n",
    "    def insert(self, node):\n",
    "        \"\"\" \n",
    "        Insert the given node into the heap.\n",
    "        \"\"\"\n",
    "        # insert at the end.\n",
    "        self.nodes.append(node) \n",
    "\n",
    "        # trickle up, if the parent is smaller than the given node.\n",
    "        self._trickle_up()\n",
    "\n",
    "        print(self.nodes)\n",
    "\n",
    "    def peek(self) -> int:\n",
    "        if self.len_nodes == 0:\n",
    "            print(\"heap is empty\")\n",
    "            return None\n",
    "        return self.nodes[0]\n"
   ]
  },
  {
   "cell_type": "code",
   "execution_count": 48,
   "id": "52019e98",
   "metadata": {},
   "outputs": [
    {
     "data": {
      "text/plain": [
       "2"
      ]
     },
     "execution_count": 48,
     "metadata": {},
     "output_type": "execute_result"
    }
   ],
   "source": [
    "m = MinHeap([2,3,10,4,5])\n",
    "m.delete()"
   ]
  },
  {
   "cell_type": "code",
   "execution_count": null,
   "id": "32a9eb51",
   "metadata": {},
   "outputs": [
    {
     "name": "stdout",
     "output_type": "stream",
     "text": [
      "0 5\n",
      "1\n",
      "[3, 5, 10, 4]\n",
      "1 5\n",
      "3\n",
      "[3, 4, 10, 5]\n",
      "0 5\n",
      "1\n",
      "[4, 5, 10]\n",
      "0 10\n",
      "1\n",
      "[5, 10]\n",
      "identity check: False\n"
     ]
    },
    {
     "data": {
      "text/plain": [
       "[2, 3, 4, 5, 10]"
      ]
     },
     "execution_count": 46,
     "metadata": {},
     "output_type": "execute_result"
    }
   ],
   "source": [
    "def heapsort_aux(unsorted_input: list[int]) -> list[int]:\n",
    "    \"\"\" Heapsort using O(n) space \"\"\"\n",
    "    heap = MinHeap(unsorted_input)\n",
    "    sorted_input = []\n",
    "    for _ in range(len(unsorted_input)):\n",
    "        sorted_input.append(heap.delete())\n",
    "        \n",
    "    print(f'identity check: {sorted_input is heap.nodes}')\n",
    "    return sorted_input \n",
    "\n",
    "heapsort_aux([2,3,10,4,5])"
   ]
  },
  {
   "cell_type": "code",
   "execution_count": 50,
   "id": "106f8c1d",
   "metadata": {},
   "outputs": [],
   "source": [
    "# implementa the min-heap functions. insert, delete and peek.\n",
    "class MaxHeap(Heap):\n",
    "    def __init__(self, nodes: list[int]):\n",
    "        empty_nodes = []\n",
    "        super().__init__(empty_nodes)\n",
    "\n",
    "        # insert all the nodes to the heap to create the heap.\n",
    "        for node in nodes:\n",
    "            self.insert(node)\n",
    "    \n",
    "    def _trickle_up(self):\n",
    "        \"\"\" \n",
    "        Puch the node upwards to the right position.\n",
    "        \"\"\"\n",
    "        # taken the last node, check the parent, if its smaller than given node swap, repeat.\n",
    "        child_ind = self.len_nodes() - 1 \n",
    "        while self._has_parent(child_ind):\n",
    "            # check the parent is smaller than this.\n",
    "            parent_ind = self._get_parent_index(child_ind)\n",
    "            if self._parent(child_ind) < self.nodes[child_ind]:\n",
    "                self.nodes[self._get_parent_index(child_ind)], self.nodes[child_ind] = self.nodes[child_ind], self.nodes[self._get_parent_index(child_ind)]\n",
    "                child_ind = parent_ind\n",
    "            else:\n",
    "                break\n",
    "\n",
    "        return self.nodes\n",
    "\n",
    "    def _trickle_down(self, ind = None):\n",
    "        \"\"\" \n",
    "        Start from the first node, check the childs and place that node in the right position.\n",
    "        \"\"\"\n",
    "        parent_ind = 0 \n",
    "\n",
    "        while self._has_left_child(parent_ind) or self._has_right_child(parent_ind):\n",
    "            # check which is smaller.\n",
    "            max_chile_ind = self._get_left_child_index(parent_ind)\n",
    "            if self._has_right_child(parent_ind) and (self._right_child(parent_ind) > self._left_child(parent_ind)):\n",
    "                max_chile_ind = self._get_right_child_index(parent_ind)\n",
    "            \n",
    "            # swap the parent with the smallest child.\n",
    "            self.nodes[parent_ind], self.nodes[max_chile_ind] = self.nodes[max_chile_ind], self.nodes[parent_ind]\n",
    "\n",
    "            parent_ind = max_chile_ind\n",
    "\n",
    "    def delete(self):\n",
    "        \"\"\" \n",
    "        Delete the top node from the heap and maintain the heap.\n",
    "        \"\"\"\n",
    "        if self.len_nodes == 0:\n",
    "            print(\"heap is empty\")\n",
    "            return\n",
    "        \n",
    "        # Remove the first element of the array. \n",
    "        deleted_ele = self.nodes[0]\n",
    "\n",
    "        # keep the last element from the array in the top.\n",
    "        self.nodes[0] = self.nodes[-1]\n",
    "\n",
    "        del self.nodes[-1]\n",
    "\n",
    "        # trickle down to main the heap properties.\n",
    "        self._trickle_down()\n",
    "\n",
    "        return deleted_ele\n",
    "\n",
    "    def insert(self, node):\n",
    "        \"\"\" \n",
    "        Insert the given node into the heap.\n",
    "        \"\"\"\n",
    "        # insert at the end.\n",
    "        self.nodes.append(node) \n",
    "\n",
    "        # trickle up, if the parent is smaller than the given node.\n",
    "        self._trickle_up()\n",
    "\n",
    "        print(self.nodes)\n",
    "\n",
    "    def peek(self) -> int:\n",
    "        if self.len_nodes == 0:\n",
    "            print(\"heap is empty\")\n",
    "            return None\n",
    "        return self.nodes[0]\n"
   ]
  },
  {
   "cell_type": "code",
   "execution_count": 56,
   "id": "2fe4fff6",
   "metadata": {},
   "outputs": [
    {
     "name": "stdout",
     "output_type": "stream",
     "text": [
      "[50]\n",
      "[50, 30]\n",
      "[50, 30, 20]\n",
      "[50, 30, 20, 15]\n",
      "[50, 30, 20, 15, 10]\n",
      "[50, 30, 20, 15, 10, 8]\n",
      "[50, 30, 20, 15, 10, 8, 16]\n"
     ]
    }
   ],
   "source": [
    "m = MaxHeap([50,30,20,15,10,8,16])\n"
   ]
  },
  {
   "cell_type": "code",
   "execution_count": 57,
   "id": "ce8bfb4c",
   "metadata": {},
   "outputs": [
    {
     "name": "stdout",
     "output_type": "stream",
     "text": [
      "[60, 50, 20, 30, 10, 8, 16, 15]\n"
     ]
    }
   ],
   "source": [
    "m.insert(60)"
   ]
  },
  {
   "cell_type": "code",
   "execution_count": 58,
   "id": "30d94e03",
   "metadata": {},
   "outputs": [
    {
     "data": {
      "text/plain": [
       "60"
      ]
     },
     "execution_count": 58,
     "metadata": {},
     "output_type": "execute_result"
    }
   ],
   "source": [
    "m.delete()"
   ]
  },
  {
   "cell_type": "code",
   "execution_count": 59,
   "id": "82c2dd13",
   "metadata": {},
   "outputs": [
    {
     "data": {
      "text/plain": [
       "[50, 30, 20, 15, 10, 8, 16]"
      ]
     },
     "execution_count": 59,
     "metadata": {},
     "output_type": "execute_result"
    }
   ],
   "source": [
    "m.nodes"
   ]
  },
  {
   "cell_type": "code",
   "execution_count": 60,
   "id": "df9171b1",
   "metadata": {},
   "outputs": [
    {
     "data": {
      "text/plain": [
       "50"
      ]
     },
     "execution_count": 60,
     "metadata": {},
     "output_type": "execute_result"
    }
   ],
   "source": [
    "m.delete()"
   ]
  },
  {
   "cell_type": "code",
   "execution_count": 61,
   "id": "210d38d0",
   "metadata": {},
   "outputs": [
    {
     "data": {
      "text/plain": [
       "[30, 15, 20, 16, 10, 8]"
      ]
     },
     "execution_count": 61,
     "metadata": {},
     "output_type": "execute_result"
    }
   ],
   "source": [
    "m.nodes"
   ]
  },
  {
   "cell_type": "code",
   "execution_count": 62,
   "id": "e6d981c6",
   "metadata": {},
   "outputs": [
    {
     "name": "stdout",
     "output_type": "stream",
     "text": [
      "[1, 74, 44, 230, 100, 12013, 84]\n",
      "[1, 44, 74, 84, 100, 230, 12013]\n"
     ]
    }
   ],
   "source": [
    "import heapq\n",
    "\n",
    "unsorted_array = [100, 230, 44, 1, 74, 12013, 84]\n",
    "\n",
    "# in-place transformation into min-heap in linear time\n",
    "heapq.heapify(unsorted_array)\n",
    "print(unsorted_array)\n",
    "# [1, 74, 44, 230, 100, 12013, 84]\n",
    "# ---------------------------------\n",
    "#                 1\n",
    "#       74                44\n",
    "#   230    100      12013    84\n",
    "#\n",
    "\n",
    "# Sorting\n",
    "sorted_array = []\n",
    "for _ in range(len(unsorted_array)):\n",
    "  sorted_array.append(heapq.heappop(unsorted_array))\n",
    "print(sorted_array)\n",
    "# [1, 44, 74, 84, 100, 230, 12013]"
   ]
  },
  {
   "cell_type": "code",
   "execution_count": 63,
   "id": "cb3623c2",
   "metadata": {},
   "outputs": [
    {
     "name": "stdout",
     "output_type": "stream",
     "text": [
      "2\n"
     ]
    }
   ],
   "source": [
    "import heapq\n",
    "\n",
    "heap = []\n",
    "heapq.heappush(heap, 5)\n",
    "heapq.heappush(heap, 2)\n",
    "heapq.heappush(heap, 8)\n",
    "\n",
    "print(heapq.heappop(heap))  # Output: 2 (smallest)\n"
   ]
  },
  {
   "cell_type": "code",
   "execution_count": null,
   "id": "dc7e6328",
   "metadata": {},
   "outputs": [],
   "source": []
  }
 ],
 "metadata": {
  "kernelspec": {
   "display_name": "3.11.11",
   "language": "python",
   "name": "python3"
  },
  "language_info": {
   "codemirror_mode": {
    "name": "ipython",
    "version": 3
   },
   "file_extension": ".py",
   "mimetype": "text/x-python",
   "name": "python",
   "nbconvert_exporter": "python",
   "pygments_lexer": "ipython3",
   "version": "3.11.11"
  }
 },
 "nbformat": 4,
 "nbformat_minor": 5
}
