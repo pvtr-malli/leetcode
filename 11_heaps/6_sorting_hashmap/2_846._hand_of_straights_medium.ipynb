{
 "cells": [
  {
   "cell_type": "markdown",
   "id": "b0838925",
   "metadata": {},
   "source": [
    "Alice has some number of cards and she wants to rearrange the cards into groups so that each group is of size groupSize, and consists of groupSize consecutive cards.\n",
    "\n",
    "Given an integer array hand where hand[i] is the value written on the ith card and an integer groupSize, return true if she can rearrange the cards, or false otherwise.\n",
    "\n",
    " \n",
    "\n",
    "Example 1:\n",
    "\n",
    "Input: hand = [1,2,3,6,2,3,4,7,8], groupSize = 3\n",
    "Output: true\n",
    "Explanation: Alice's hand can be rearranged as [1,2,3],[2,3,4],[6,7,8]\n",
    "Example 2:\n",
    "\n",
    "Input: hand = [1,2,3,4,5], groupSize = 4\n",
    "Output: false\n",
    "Explanation: Alice's hand can not be rearranged into groups of 4.\n",
    "\n",
    " \n",
    "\n",
    "Constraints:\n",
    "\n",
    "1 <= hand.length <= 104\n",
    "0 <= hand[i] <= 109\n",
    "1 <= groupSize <= hand.length\n",
    " \n",
    "\n",
    "Note: This question is the same as 1296: https://leetcode.com/problems/divide-array-in-sets-of-k-consecutive-numbers/"
   ]
  },
  {
   "cell_type": "markdown",
   "id": "0983f8a0",
   "metadata": {},
   "source": [
    "# approach:\n",
    "- if the array is not a multiple of groupsize, return false.\n",
    "- We need an ordered couter, hand = [1,2,3,6,2,3,4,7,8], groupSize = 3 \n",
    "- ex: {1:1, 2:2, 3:2, 4:1, 6:1, 7:1, 8:1}\n",
    "- So that we can start from the frist available element from the counter and see do we have consequtive (i+1) of geoupsize elements.\n",
    "- if we dont have at any time, return false. "
   ]
  },
  {
   "cell_type": "code",
   "execution_count": null,
   "id": "60b2b5a7",
   "metadata": {},
   "outputs": [],
   "source": [
    "\n",
    "from collections import OrderedDict\n",
    "\n",
    "class Solution:\n",
    "    def isNStraightHand(self, hand: list[int], groupSize: int) -> bool:\n",
    "        if len(hand) % groupSize != 0:\n",
    "            # the array is not a multiple of groupsize, we cant split them into groups.\n",
    "            return False \n",
    "        \n",
    "        sorted_hand = sorted(hand)\n",
    "\n",
    "        # create the counter.\n",
    "        counter = OrderedDict()\n",
    "        for ele in sorted_hand:\n",
    "            counter[ele] = counter.get(ele, 0) + 1\n",
    "            # if ele not in counter:\n",
    "            #     counter[ele] = 1\n",
    "            # else:\n",
    "            #     counter[ele] += 1\n",
    "        \n",
    "        while counter:\n",
    "            # lets take the first element in the counter and see that can make a group or not.\n",
    "            # ele = list(counter.keys())[0]\n",
    "            ele = next(iter(counter))\n",
    "\n",
    "            # check do they groupsize number of consequtive elements.\n",
    "            # os if groupsize is 3, and ele is 1, check ele, ele+1, ele+2.\n",
    "            for i in range(0, groupSize):\n",
    "                if ele + i in counter:\n",
    "                    # remove the ele from the counter once they are considered for the group.\n",
    "                    counter[ele + i] -= 1\n",
    "                    if counter[ele + i] == 0:\n",
    "                        del counter[ele + i]\n",
    "                else:\n",
    "                    # if hte consequtive element is not present.\n",
    "                    # then we can't make the group, return False.\n",
    "                    return False \n",
    "        return True\n",
    "    \n",
    "# tc:\n",
    "# -sorting - O(n logn)\n",
    "# - building ocunter - O(n)\n",
    "# - while loop - n/groupsize time # - inside this we do groupsize for loop - so this is O(n)\n",
    "# tc - O(n logn)\n",
    "# sc - O(n)"
   ]
  },
  {
   "cell_type": "code",
   "execution_count": 20,
   "id": "363ea223",
   "metadata": {},
   "outputs": [
    {
     "data": {
      "text/plain": [
       "True"
      ]
     },
     "execution_count": 20,
     "metadata": {},
     "output_type": "execute_result"
    }
   ],
   "source": [
    "Solution().isNStraightHand(hand = [1,2,3,6,2,3,4,7,8], groupSize = 3)"
   ]
  },
  {
   "cell_type": "code",
   "execution_count": 21,
   "id": "01cc6881",
   "metadata": {},
   "outputs": [
    {
     "data": {
      "text/plain": [
       "False"
      ]
     },
     "execution_count": 21,
     "metadata": {},
     "output_type": "execute_result"
    }
   ],
   "source": [
    "Solution().isNStraightHand(hand = [1,2,3,4,5], groupSize = 4)"
   ]
  },
  {
   "cell_type": "code",
   "execution_count": 22,
   "id": "3f3a2437",
   "metadata": {},
   "outputs": [
    {
     "data": {
      "text/plain": [
       "True"
      ]
     },
     "execution_count": 22,
     "metadata": {},
     "output_type": "execute_result"
    }
   ],
   "source": [
    "Solution().isNStraightHand([1,1,2,2,3,3], groupSize=3)"
   ]
  },
  {
   "cell_type": "markdown",
   "id": "6996ed0e",
   "metadata": {},
   "source": [
    "# not optimal, but other variant of this solution using sorteddict"
   ]
  },
  {
   "cell_type": "code",
   "execution_count": null,
   "id": "5ed251d7",
   "metadata": {},
   "outputs": [],
   "source": [
    "from collections import Counter\n",
    "from sortedcontainers import SortedDict\n",
    "\n",
    "class Solution:\n",
    "    def isNStraightHand(self, hand: list[int], groupSize: int) -> bool:\n",
    "        if len(hand) % groupSize != 0:\n",
    "            return False\n",
    "\n",
    "        freq = SortedDict(Counter(hand))\n",
    "\n",
    "        while freq:\n",
    "            first = next(iter(freq))  # Get the smallest key\n",
    "\n",
    "            for i in range(first, first + groupSize):\n",
    "                if i not in freq:\n",
    "                    return False\n",
    "                freq[i] -= 1\n",
    "                if freq[i] == 0:\n",
    "                    del freq[i]\n",
    "\n",
    "        return True\n",
    "# tc:\n",
    "# -sorting - O(n logn)\n",
    "# - building ocunter - O(n)\n",
    "# - while loop - n/groupsize time # - inside this we do groupsize for loop - so this is O(n)\n",
    "# tc - O(n logn)\n",
    "# sc - O(n)"
   ]
  }
 ],
 "metadata": {
  "kernelspec": {
   "display_name": "3.11.11",
   "language": "python",
   "name": "python3"
  },
  "language_info": {
   "codemirror_mode": {
    "name": "ipython",
    "version": 3
   },
   "file_extension": ".py",
   "mimetype": "text/x-python",
   "name": "python",
   "nbconvert_exporter": "python",
   "pygments_lexer": "ipython3",
   "version": "3.11.11"
  }
 },
 "nbformat": 4,
 "nbformat_minor": 5
}
