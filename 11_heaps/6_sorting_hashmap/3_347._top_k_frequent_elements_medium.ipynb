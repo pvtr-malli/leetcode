{
 "cells": [
  {
   "cell_type": "markdown",
   "id": "e6577881",
   "metadata": {},
   "source": [
    "Given an integer array nums and an integer k, return the k most frequent elements. You may return the answer in any order.\n",
    "\n",
    " \n",
    "\n",
    "Example 1:\n",
    "\n",
    "Input: nums = [1,1,1,2,2,3], k = 2\n",
    "Output: [1,2]\n",
    "Example 2:\n",
    "\n",
    "Input: nums = [1], k = 1\n",
    "Output: [1]\n",
    " \n",
    "\n",
    "Constraints:\n",
    "\n",
    "1 <= nums.length <= 105\n",
    "-104 <= nums[i] <= 104\n",
    "k is in the range [1, the number of unique elements in the array].\n",
    "It is guaranteed that the answer is unique.\n",
    " \n",
    "\n",
    "Follow up: Your algorithm's time complexity must be better than O(n log n), where n is the array's size."
   ]
  },
  {
   "cell_type": "markdown",
   "id": "8e6bc80c",
   "metadata": {},
   "source": [
    "# approack:\n",
    "- we can count and sortdict \n",
    "- than return the first k elements.\n",
    "- tc - O(n log n)"
   ]
  },
  {
   "cell_type": "code",
   "execution_count": null,
   "id": "d2a32299",
   "metadata": {},
   "outputs": [],
   "source": [
    "from collections import Counter\n",
    "from sortedcontainers import SortedDict\n",
    "\n",
    "class Solution:\n",
    "    def topKFrequent(self, nums: list[int], k: int) -> list[int]:\n",
    "        # this will create the dict of counter, adn then sort it.\n",
    "        d = SortedDict(Counter(nums))\n",
    "        ans = []\n",
    "        i = 0\n",
    "        for ele in d.keys():\n",
    "            ans.append(ele)\n",
    "            # i elements int the dict.\n",
    "            i += 1\n",
    "            if i == k:\n",
    "                break\n",
    "        return ans\n",
    "    \n",
    "# tc:\n",
    "# sorting - O(n log n)\n",
    "# counter - O(n)\n",
    "# for loop - O(k)\n",
    "# tc - O(n log n)"
   ]
  },
  {
   "cell_type": "code",
   "execution_count": 3,
   "id": "d0e73a86",
   "metadata": {},
   "outputs": [
    {
     "data": {
      "text/plain": [
       "[1, 2]"
      ]
     },
     "execution_count": 3,
     "metadata": {},
     "output_type": "execute_result"
    }
   ],
   "source": [
    "Solution().topKFrequent(nums = [1,1,1,2,2,3], k = 2)"
   ]
  },
  {
   "cell_type": "code",
   "execution_count": 4,
   "id": "2252fb8d",
   "metadata": {},
   "outputs": [
    {
     "data": {
      "text/plain": [
       "[1]"
      ]
     },
     "execution_count": 4,
     "metadata": {},
     "output_type": "execute_result"
    }
   ],
   "source": [
    "Solution().topKFrequent(nums = [1], k = 1)"
   ]
  },
  {
   "cell_type": "markdown",
   "id": "cadc0428",
   "metadata": {},
   "source": [
    "# We can use heap here, so we can avoid the sorting.\n",
    "- so do the counter.\n",
    "- then have a k size of min_heap - so we keep the maxium values in the heap.\n",
    "- push the (freq, ele) into the heap. \n",
    "- when the size above k. pop.\n"
   ]
  },
  {
   "cell_type": "code",
   "execution_count": null,
   "id": "3997c476",
   "metadata": {},
   "outputs": [],
   "source": [
    "from collections import Counter\n",
    "import heapq\n",
    "\n",
    "class Solution:\n",
    "    def topKFrequent(self, nums: list[int], k: int) -> list[int]:\n",
    "        d = Counter(nums)\n",
    "        min_heap = []\n",
    "\n",
    "        for ele in d.items():\n",
    "            heapq.heappush(min_heap, (ele[1], ele[0])) # (freq, ele)\n",
    "\n",
    "            if len(min_heap) > k:\n",
    "                heapq.heappop(min_heap)\n",
    "        \n",
    "        return [ele[1] for ele in min_heap]\n",
    "    \n",
    "\n",
    "# tc:\n",
    "# - counter - O(n)\n",
    "# - heap maintanace - O(n log k) - so we need to push and pop n elements at the worst case, and the heap operations are log k.\n",
    "# - final array buils - O(k)\n",
    "# tc - O(n log k)\n",
    "\n",
    "# sc - O(k)"
   ]
  },
  {
   "cell_type": "code",
   "execution_count": 8,
   "id": "4fc3f152",
   "metadata": {},
   "outputs": [
    {
     "data": {
      "text/plain": [
       "[2, 1]"
      ]
     },
     "execution_count": 8,
     "metadata": {},
     "output_type": "execute_result"
    }
   ],
   "source": [
    "Solution().topKFrequent(nums = [1,1,1,2,2,3], k = 2)"
   ]
  },
  {
   "cell_type": "code",
   "execution_count": 9,
   "id": "72a9b2bf",
   "metadata": {},
   "outputs": [
    {
     "data": {
      "text/plain": [
       "[1]"
      ]
     },
     "execution_count": 9,
     "metadata": {},
     "output_type": "execute_result"
    }
   ],
   "source": [
    "Solution().topKFrequent(nums = [1], k = 1)"
   ]
  },
  {
   "cell_type": "code",
   "execution_count": null,
   "id": "8965bdaa",
   "metadata": {},
   "outputs": [],
   "source": []
  }
 ],
 "metadata": {
  "kernelspec": {
   "display_name": "3.11.11",
   "language": "python",
   "name": "python3"
  },
  "language_info": {
   "codemirror_mode": {
    "name": "ipython",
    "version": 3
   },
   "file_extension": ".py",
   "mimetype": "text/x-python",
   "name": "python",
   "nbconvert_exporter": "python",
   "pygments_lexer": "ipython3",
   "version": "3.11.11"
  }
 },
 "nbformat": 4,
 "nbformat_minor": 5
}
