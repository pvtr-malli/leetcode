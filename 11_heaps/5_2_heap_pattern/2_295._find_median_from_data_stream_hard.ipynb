{
 "cells": [
  {
   "cell_type": "markdown",
   "id": "73abf917",
   "metadata": {},
   "source": [
    "The median is the middle value in an ordered integer list. If the size of the list is even, there is no middle value, and the median is the mean of the two middle values.\n",
    "\n",
    "For example, for arr = [2,3,4], the median is 3.\n",
    "For example, for arr = [2,3], the median is (2 + 3) / 2 = 2.5.\n",
    "Implement the MedianFinder class:\n",
    "\n",
    "MedianFinder() initializes the MedianFinder object.\n",
    "void addNum(int num) adds the integer num from the data stream to the data structure.\n",
    "double findMedian() returns the median of all elements so far. Answers within 10-5 of the actual answer will be accepted.\n",
    " \n",
    "\n",
    "Example 1:\n",
    "\n",
    "Input\n",
    "[\"MedianFinder\", \"addNum\", \"addNum\", \"findMedian\", \"addNum\", \"findMedian\"]\n",
    "[[], [1], [2], [], [3], []]\n",
    "Output\n",
    "[null, null, null, 1.5, null, 2.0]\n",
    "\n",
    "Explanation\n",
    "MedianFinder medianFinder = new MedianFinder();\n",
    "medianFinder.addNum(1);    // arr = [1]\n",
    "medianFinder.addNum(2);    // arr = [1, 2]\n",
    "medianFinder.findMedian(); // return 1.5 (i.e., (1 + 2) / 2)\n",
    "medianFinder.addNum(3);    // arr[1, 2, 3]\n",
    "medianFinder.findMedian(); // return 2.0\n",
    " \n",
    "\n",
    "Constraints:\n",
    "\n",
    "-105 <= num <= 105\n",
    "There will be at least one element in the data structure before calling findMedian.\n",
    "At most 5 * 104 calls will be made to addNum and findMedian.\n",
    " \n",
    "\n",
    "Follow up:\n",
    "\n",
    "If all integer numbers from the stream are in the range [0, 100], how would you optimize your solution?\n",
    "If 99% of all integer numbers from the stream are in the range [0, 100], how would you optimize your solution?"
   ]
  },
  {
   "cell_type": "code",
   "execution_count": null,
   "id": "59f83aec",
   "metadata": {},
   "outputs": [],
   "source": [
    "# page 4:\n",
    "\n",
    "import heapq\n",
    "\n",
    "class MedianFinder:\n",
    "    def __init__(self):\n",
    "        self.low = []  # max heap (invert values)\n",
    "        self.high = [] # min heap\n",
    "\n",
    "    def addNum(self, num: int) -> None:\n",
    "        heapq.heappush(self.low, -num)\n",
    "\n",
    "        # Move the largest from low to high\n",
    "        heapq.heappush(self.high, -heapq.heappop(self.low))\n",
    "\n",
    "        # Maintain size property: low can have 1 more element than high\n",
    "        if len(self.low) < len(self.high):\n",
    "            heapq.heappush(self.low, -heapq.heappop(self.high))\n",
    "\n",
    "    def findMedian(self) -> float:\n",
    "        if len(self.low) > len(self.high):\n",
    "            return -self.low[0]\n",
    "        return (-self.low[0] + self.high[0]) / 2\n",
    "\n",
    "\n",
    "# | Operation      | Time     | Space |\n",
    "# | -------------- | -------- | ----- |\n",
    "# | `addNum()`     | O(log n) | O(n)  |\n",
    "# | `findMedian()` | O(1)     | O(n)  |\n"
   ]
  },
  {
   "cell_type": "markdown",
   "id": "720fb1d2",
   "metadata": {},
   "source": [
    "# If all integer numbers from the stream are in the range [0, 100], how would you optimize your solution?\n"
   ]
  },
  {
   "cell_type": "code",
   "execution_count": null,
   "id": "92ae8944",
   "metadata": {},
   "outputs": [],
   "source": [
    "class MedianFinder:\n",
    "    def __init__(self):\n",
    "        self.freq = [0] * 101  \n",
    "        self.count = 0 \n",
    "\n",
    "    def addNum(self, num: int) -> None:\n",
    "        self.freq[num] += 1\n",
    "        self.count += 1\n",
    "\n",
    "\n",
    "    def findMedian(self) -> float:\n",
    "        total = self.count\n",
    "        mid1 = total // 2\n",
    "        mid2 = mid1 - 1 if total % 2 == 0 else mid1\n",
    "\n",
    "        count = 0\n",
    "        m1 = m2 = None\n",
    "        for num in range(101):\n",
    "            # count the frequencies.\n",
    "            count += self.freq[num]\n",
    "\n",
    "            # once the frequncy is more than the mid index. \n",
    "            # [1,2,3,4,5,6,7] , mid1_ind = 3. mid 2= 3\n",
    "            # so when num == 4, the count will become 4. This is the one we want.\n",
    "            if m1 is None and count > mid2:\n",
    "                print(count, )\n",
    "                m1 = num\n",
    "            if count > mid1:\n",
    "                m2 = num\n",
    "                break\n",
    "\n",
    "        return (m1 + m2) / 2\n",
    "    \n",
    "# | Operation      | Time          | Space  |\n",
    "# | -------------- | ------------- | ------ |\n",
    "# | `addNum()`     | O(1)          | O(101) |\n",
    "# | `findMedian()` | O(101) ≈ O(1) | O(101) |\n",
    "\n"
   ]
  },
  {
   "cell_type": "code",
   "execution_count": 3,
   "id": "a7c74027",
   "metadata": {},
   "outputs": [
    {
     "name": "stdout",
     "output_type": "stream",
     "text": [
      "4\n"
     ]
    },
    {
     "data": {
      "text/plain": [
       "4.0"
      ]
     },
     "execution_count": 3,
     "metadata": {},
     "output_type": "execute_result"
    }
   ],
   "source": [
    "m = MedianFinder()\n",
    "for i in range(1,8):\n",
    "    m.addNum(i)\n",
    "m.findMedian()"
   ]
  },
  {
   "cell_type": "markdown",
   "id": "e2e51419",
   "metadata": {},
   "source": [
    "\n",
    "\n",
    "## ✅ Case 2: **99% of numbers are in \\[0, 100]**\n",
    "\n",
    "### 🎯 Strategy:\n",
    "\n",
    "Use a **hybrid approach**:\n",
    "\n",
    "* Use **counting array** for numbers in `[0, 100]`\n",
    "* Use **two heaps** for numbers outside that range (`< 0` and `> 100`)\n",
    "\n",
    "---\n",
    "\n",
    "### ✅ How to do it:\n",
    "\n",
    "1. `freq = [0] * 101` for counting \\[0, 100]\n",
    "2. `left_heap` for values `< 0` (max-heap)\n",
    "3. `right_heap` for values `> 100` (min-heap)\n",
    "4. Keep a total count for each part\n",
    "\n",
    "---\n",
    "\n",
    "### ✅ Median Logic:\n",
    "\n",
    "* If total count is odd → find the middle element across all three structures\n",
    "* If even → find the two middle elements and average them\n",
    "* Traverse in order: `left_heap` → `freq` → `right_heap`\n",
    "\n",
    "---\n",
    "\n",
    "### ✅ Benefit:\n",
    "\n",
    "* Fast for the vast majority of values\n",
    "* Only fallback to heaps when needed (rarely)\n",
    "\n",
    "---\n",
    "\n",
    "Would you like the **code** for either approach?\n"
   ]
  },
  {
   "cell_type": "code",
   "execution_count": null,
   "id": "ddb513b8",
   "metadata": {},
   "outputs": [],
   "source": []
  }
 ],
 "metadata": {
  "kernelspec": {
   "display_name": "3.11.11",
   "language": "python",
   "name": "python3"
  },
  "language_info": {
   "codemirror_mode": {
    "name": "ipython",
    "version": 3
   },
   "file_extension": ".py",
   "mimetype": "text/x-python",
   "name": "python",
   "nbconvert_exporter": "python",
   "pygments_lexer": "ipython3",
   "version": "3.11.11"
  }
 },
 "nbformat": 4,
 "nbformat_minor": 5
}
