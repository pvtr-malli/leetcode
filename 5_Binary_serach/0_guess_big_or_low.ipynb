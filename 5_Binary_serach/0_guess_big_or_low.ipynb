{
 "cells": [
  {
   "cell_type": "code",
   "execution_count": null,
   "metadata": {},
   "outputs": [],
   "source": [
    "EASY"
   ]
  },
  {
   "cell_type": "markdown",
   "metadata": {},
   "source": [
    "We are playing the Guess Game. The game is as follows:\n",
    "\n",
    "I pick a number from 1 to n. You have to guess which number I picked.\n",
    "\n",
    "Every time you guess wrong, I will tell you whether the number I picked is higher or lower than your guess.\n",
    "\n",
    "You call a pre-defined API int guess(int num), which returns three possible results:\n",
    "\n",
    "-1: Your guess is higher than the number I picked (i.e. num > pick).\n",
    "1: Your guess is lower than the number I picked (i.e. num < pick).\n",
    "0: your guess is equal to the number I picked (i.e. num == pick).\n",
    "Return the number that I picked.\n",
    "\n",
    "\n",
    "\n",
    "Example 1:\n",
    "\n",
    "Input: n = 10, pick = 6\n",
    "Output: 6\n",
    "Example 2:\n",
    "\n",
    "Input: n = 1, pick = 1\n",
    "Output: 1\n",
    "Example 3:\n",
    "\n",
    "Input: n = 2, pick = 1\n",
    "Output: 1"
   ]
  },
  {
   "cell_type": "code",
   "execution_count": null,
   "metadata": {},
   "outputs": [],
   "source": [
    "# The guess API is already defined for you.\n",
    "# @param num, your guess\n",
    "# @return -1 if num is higher than the picked number\n",
    "#          1 if num is lower than the picked number\n",
    "#          otherwise return 0\n",
    "# def guess(num: int) -> int:\n",
    "\n",
    "class Solution:\n",
    "    def guessNumber(self, n: int) -> int:\n",
    "        start = 0\n",
    "        end = n\n",
    "        while start < end:\n",
    "            mid = (start + end + 1) // 2\n",
    "            guess_out = guess(mid)\n",
    "            if  guess_out == -1:\n",
    "                # WHich mean the mid is > target.\n",
    "                # go to smaller part which is left.\n",
    "                end = mid\n",
    "            elif guess_out == 1:\n",
    "                # WHich mean the mid is < target.\n",
    "                # go to higer part which is right\n",
    "                start = mid\n",
    "            else:\n",
    "                return mid\n",
    "            # The guess API is already defined for you.\n"
   ]
  }
 ],
 "metadata": {
  "language_info": {
   "name": "python"
  }
 },
 "nbformat": 4,
 "nbformat_minor": 2
}
