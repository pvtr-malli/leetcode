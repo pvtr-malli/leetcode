{
 "cells": [
  {
   "cell_type": "code",
   "execution_count": 1,
   "id": "8167131f",
   "metadata": {},
   "outputs": [
    {
     "ename": "NameError",
     "evalue": "name 'EASY' is not defined",
     "output_type": "error",
     "traceback": [
      "\u001b[31m---------------------------------------------------------------------------\u001b[39m",
      "\u001b[31mNameError\u001b[39m                                 Traceback (most recent call last)",
      "\u001b[36mCell\u001b[39m\u001b[36m \u001b[39m\u001b[32mIn[1]\u001b[39m\u001b[32m, line 1\u001b[39m\n\u001b[32m----> \u001b[39m\u001b[32m1\u001b[39m \u001b[43mEASY\u001b[49m\n",
      "\u001b[31mNameError\u001b[39m: name 'EASY' is not defined"
     ]
    }
   ],
   "source": [
    "EASY"
   ]
  },
  {
   "cell_type": "markdown",
   "id": "9e6c9109",
   "metadata": {},
   "source": [
    "You are given an integer array cost where cost[i] is the cost of ith step on a staircase. Once you pay the cost, you can either climb one or two steps.\n",
    "\n",
    "You can either start from the step with index 0, or the step with index 1.\n",
    "\n",
    "Return the minimum cost to reach the top of the floor.\n",
    "\n",
    " \n",
    "\n",
    "Example 1:\n",
    "\n",
    "Input: cost = [10,15,20]\n",
    "Output: 15\n",
    "Explanation: You will start at index 1.\n",
    "- Pay 15 and climb two steps to reach the top.\n",
    "The total cost is 15.\n",
    "Example 2:\n",
    "\n",
    "Input: cost = [1,100,1,1,1,100,1,1,100,1]\n",
    "Output: 6\n",
    "Explanation: You will start at index 0.\n",
    "- Pay 1 and climb two steps to reach index 2.\n",
    "- Pay 1 and climb two steps to reach index 4.\n",
    "- Pay 1 and climb two steps to reach index 6.\n",
    "- Pay 1 and climb one step to reach index 7.\n",
    "- Pay 1 and climb two steps to reach index 9.\n",
    "- Pay 1 and climb one step to reach the top.\n",
    "The total cost is 6.\n",
    " \n",
    "\n",
    "Constraints:\n",
    "\n",
    "2 <= cost.length <= 1000\n",
    "0 <= cost[i] <= 999"
   ]
  },
  {
   "cell_type": "code",
   "execution_count": null,
   "id": "c1330e2a",
   "metadata": {},
   "outputs": [],
   "source": [
    "# recussion solution.\n",
    "import sys\n",
    "class Solution:\n",
    "    def minCostClimbingStairs(self, cost: List[int]) -> int:\n",
    "        # To mark that the top is 0 cost.\n",
    "        cost.append(0)\n",
    "        return self.find_min(cost, len(cost) -1 )\n",
    "    def find_min(self, cost, i):\n",
    "        if i == 0 or i == 1:\n",
    "            return cost[i]\n",
    "        # find the cost of the one step back.\n",
    "        one_step = self.find_min(cost, i - 1)\n",
    "        if i > 1:\n",
    "            two_step = self.find_min(cost, i - 2)\n",
    "        else: \n",
    "            two_step = sys.maxsize\n",
    "        return cost[i] + min(one_step, two_step)\n",
    "\n",
    "\n",
    "# it gives the TLE error.\n",
    "# Go for memorization.\n",
    "\n",
    "\n",
    "class Solution:\n",
    "    def minCostClimbingStairs(self, cost: list[int]) -> int:\n",
    "        # To mark that the top is 0 cost.\n",
    "        cost.append(0)\n",
    "        return self.find_min(cost, len(cost) -1 )\n",
    "    \n",
    "    def find_min(self, cost, i):\n",
    "        dp = [-1] * len(cost)\n",
    "\n",
    "        if i == 0 or i == 1:\n",
    "            return cost[i]\n",
    "        \n",
    "        # If the problem is already solved then return that.\n",
    "        if dp[i] != -1:\n",
    "            return dp[i]\n",
    "        \n",
    "        # find the cost of the one step back.\n",
    "        one_step = self.find_min(cost, i - 1)\n",
    "        if i > 1:\n",
    "            two_step = self.find_min(cost, i - 2)\n",
    "        else: \n",
    "            two_step = sys.maxsize\n",
    "\n",
    "        # store the value.\n",
    "        dp[i] = cost[i] + min(one_step, two_step) \n",
    "        return dp[i]\n",
    "    \n",
    "# TC - O(2^n)\n",
    "# sc - O(n)[dp] + O(n)[axilury]\n",
    "\n"
   ]
  },
  {
   "cell_type": "code",
   "execution_count": null,
   "id": "146414f5",
   "metadata": {},
   "outputs": [
    {
     "name": "stdout",
     "output_type": "stream",
     "text": [
      "2 30\n",
      "3 15\n"
     ]
    },
    {
     "data": {
      "text/plain": [
       "15"
      ]
     },
     "execution_count": 5,
     "metadata": {},
     "output_type": "execute_result"
    }
   ],
   "source": [
    "# we can reduce the space and time even more.\n",
    "class Solution:\n",
    "    def minCostClimbingStairs(self, cost: list[int]) -> int:\n",
    "        # To mark that the top is 0 cost.\n",
    "        cost.append(0)\n",
    "        return self.find_min(cost, len(cost) -1 )\n",
    "    \n",
    "    def find_min(self, cost, i):\n",
    "        dp = [-1] * len(cost)\n",
    "\n",
    "        # set the base case.\n",
    "        dp[0] = cost[0]\n",
    "        dp[1] = cost[1]\n",
    "        \n",
    "        # loop over the index and do the stuff.\n",
    "        for i in range(2, len(cost)):\n",
    "\n",
    "            # find the cost of the one step back.\n",
    "            one_step = dp[i - 1]\n",
    "            two_step = dp[i - 2]\n",
    "\n",
    "            # store the value.\n",
    "            dp[i] = cost[i] + min(one_step, two_step) \n",
    "            print(i, dp[i])\n",
    "        return dp[-1]\n",
    "    \n",
    "# tc - O(n)\n",
    "# sc - O(n)\n",
    "\n",
    "\n",
    "Solution().minCostClimbingStairs([10,15,20]\n",
    ")\n"
   ]
  },
  {
   "cell_type": "code",
   "execution_count": 6,
   "id": "fcec76fc",
   "metadata": {},
   "outputs": [
    {
     "name": "stdout",
     "output_type": "stream",
     "text": [
      "2 2\n",
      "3 3\n",
      "4 3\n",
      "5 103\n",
      "6 4\n",
      "7 5\n",
      "8 104\n",
      "9 6\n",
      "10 6\n"
     ]
    },
    {
     "data": {
      "text/plain": [
       "6"
      ]
     },
     "execution_count": 6,
     "metadata": {},
     "output_type": "execute_result"
    }
   ],
   "source": [
    "Solution().minCostClimbingStairs([1,100,1,1,1,100,1,1,100,1])"
   ]
  },
  {
   "cell_type": "code",
   "execution_count": null,
   "id": "95265114",
   "metadata": {},
   "outputs": [],
   "source": []
  }
 ],
 "metadata": {
  "kernelspec": {
   "display_name": "Python 3",
   "language": "python",
   "name": "python3"
  },
  "language_info": {
   "codemirror_mode": {
    "name": "ipython",
    "version": 3
   },
   "file_extension": ".py",
   "mimetype": "text/x-python",
   "name": "python",
   "nbconvert_exporter": "python",
   "pygments_lexer": "ipython3",
   "version": "3.11.11"
  }
 },
 "nbformat": 4,
 "nbformat_minor": 5
}
