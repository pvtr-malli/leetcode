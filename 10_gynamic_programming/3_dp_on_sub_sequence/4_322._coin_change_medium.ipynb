{
 "cells": [
  {
   "cell_type": "markdown",
   "id": "c77ca4fd",
   "metadata": {},
   "source": [
    "You are given an integer array coins representing coins of different denominations and an integer amount representing a total amount of money.\n",
    "\n",
    "Return the fewest number of coins that you need to make up that amount. If that amount of money cannot be made up by any combination of the coins, return -1.\n",
    "\n",
    "You may assume that you have an infinite number of each kind of coin.\n",
    "\n",
    " \n",
    "\n",
    "Example 1:\n",
    "\n",
    "Input: coins = [1,2,5], amount = 11\n",
    "Output: 3\n",
    "Explanation: 11 = 5 + 5 + 1\n",
    "Example 2:\n",
    "\n",
    "Input: coins = [2], amount = 3\n",
    "Output: -1\n",
    "Example 3:\n",
    "\n",
    "Input: coins = [1], amount = 0\n",
    "Output: 0\n",
    " \n",
    "\n",
    "Constraints:\n",
    "\n",
    "1 <= coins.length <= 12\n",
    "1 <= coins[i] <= 231 - 1\n",
    "0 <= amount <= 104"
   ]
  },
  {
   "cell_type": "code",
   "execution_count": 38,
   "id": "698175cb",
   "metadata": {},
   "outputs": [],
   "source": [
    "import sys\n",
    "class Solution:\n",
    "    def coinChange(self, coins: list[int], amount: int) -> int:\n",
    "        num_of_coins = self.fin_min_coin_change(coins, amount, len(coins) - 1) \n",
    "        print(\"amounf\", amount, num_of_coins)\n",
    "        if num_of_coins != sys.maxsize:\n",
    "            return num_of_coins\n",
    "        else:\n",
    "            return -1\n",
    "    \n",
    "    def fin_min_coin_change(self, coins, amount, ind):\n",
    "        print(ind, amount)\n",
    "        # if amount == 0:\n",
    "        #     return 0\n",
    "        # if ind < 0 or amount < 0:\n",
    "        #     return sys.maxsize\n",
    "\n",
    "        if ind == 0:\n",
    "            if amount % coins[0] == 0:\n",
    "                return amount // coins[0]\n",
    "            return sys.maxsize        \n",
    "        not_take = self.fin_min_coin_change(coins, amount, ind -1)\n",
    "\n",
    "        take = sys.maxsize\n",
    "        if coins[ind] <= amount:\n",
    "            change = amount // coins[ind]\n",
    "            print(\"change\", change)\n",
    "            remaining_amount = amount - (coins[ind] * change)\n",
    "            take =  change + self.fin_min_coin_change(coins, remaining_amount, ind -1)\n",
    "            \n",
    "        return min(take, not_take)\n",
    "\n"
   ]
  },
  {
   "cell_type": "code",
   "execution_count": 39,
   "id": "412d3602",
   "metadata": {},
   "outputs": [
    {
     "name": "stdout",
     "output_type": "stream",
     "text": [
      "2 11\n",
      "1 11\n",
      "0 11\n",
      "change 5\n",
      "0 1\n",
      "change 2\n",
      "1 1\n",
      "0 1\n",
      "amounf 11 3\n"
     ]
    },
    {
     "data": {
      "text/plain": [
       "3"
      ]
     },
     "execution_count": 39,
     "metadata": {},
     "output_type": "execute_result"
    }
   ],
   "source": [
    "Solution().coinChange(coins = [1,2,5], amount = 11)"
   ]
  },
  {
   "cell_type": "code",
   "execution_count": 40,
   "id": "8558e0e3",
   "metadata": {},
   "outputs": [
    {
     "name": "stdout",
     "output_type": "stream",
     "text": [
      "0 3\n",
      "amounf 3 9223372036854775807\n"
     ]
    },
    {
     "data": {
      "text/plain": [
       "-1"
      ]
     },
     "execution_count": 40,
     "metadata": {},
     "output_type": "execute_result"
    }
   ],
   "source": [
    "Solution().coinChange(coins = [2], amount = 3)"
   ]
  },
  {
   "cell_type": "code",
   "execution_count": 41,
   "id": "1e3f9141",
   "metadata": {},
   "outputs": [],
   "source": [
    "import sys\n",
    "class Solution:\n",
    "    def coinChange(self, coins: list[int], amount: int) -> int:\n",
    "        \n",
    "        # creating the dp.\n",
    "        dp = [[-1] * (amount + 1) for _ in range(len(coins))]\n",
    "\n",
    "        num_of_coins = self.fin_min_coin_change(coins, amount, len(coins) - 1, dp) \n",
    "        if num_of_coins != sys.maxsize:\n",
    "            return num_of_coins\n",
    "        else:\n",
    "            return -1\n",
    "    \n",
    "    def fin_min_coin_change(self, coins, amount, ind, dp):\n",
    "        if ind == 0:\n",
    "            if amount % coins[0] == 0:\n",
    "                return amount // coins[0]\n",
    "            return sys.maxsize  \n",
    "        \n",
    "        if dp[ind][amount] != -1:\n",
    "            return dp[ind][amount]\n",
    "        \n",
    "        not_take = self.fin_min_coin_change(coins, amount, ind -1, dp)\n",
    "\n",
    "        take = sys.maxsize\n",
    "        if coins[ind] <= amount:\n",
    "            change = amount // coins[ind]\n",
    "            remaining_amount = amount - (coins[ind] * change)\n",
    "            take =  change + self.fin_min_coin_change(coins, remaining_amount, ind -1, dp)\n",
    "            \n",
    "        dp[ind][amount] =  min(take, not_take)\n",
    "        return dp[ind][amount]\n"
   ]
  },
  {
   "cell_type": "code",
   "execution_count": 42,
   "id": "00cf9979",
   "metadata": {},
   "outputs": [
    {
     "data": {
      "text/plain": [
       "3"
      ]
     },
     "execution_count": 42,
     "metadata": {},
     "output_type": "execute_result"
    }
   ],
   "source": [
    "Solution().coinChange(coins = [1,2,5], amount = 11)\n"
   ]
  },
  {
   "cell_type": "code",
   "execution_count": 43,
   "id": "fb5c0fb8",
   "metadata": {},
   "outputs": [
    {
     "data": {
      "text/plain": [
       "-1"
      ]
     },
     "execution_count": 43,
     "metadata": {},
     "output_type": "execute_result"
    }
   ],
   "source": [
    "Solution().coinChange(coins = [2], amount = 3)"
   ]
  },
  {
   "cell_type": "code",
   "execution_count": null,
   "id": "f59f02f5",
   "metadata": {},
   "outputs": [],
   "source": [
    "import sys\n",
    "class Solution:\n",
    "    def coinChange(self, coins: list[int], amount: int) -> int:\n",
    "        \n",
    "        # creating the dp.\n",
    "        dp = [[0] * (amount + 1) for _ in range(len(coins))]\n",
    "\n",
    "        # I have the i- 1 in the code -- so have to have the answ for the i - 1 th row while doing the ith row.\n",
    "\n",
    "        # fill in the base case: \n",
    "        # always try to keep the base case for 0, so it will be very helpful in converting to tabulaion.\n",
    "        \n",
    "        for t in range(amount + 1):\n",
    "            # will the value for the division if the value is divisible by that arr[0] value.\n",
    "            if t % coins[0] == 0:\n",
    "                dp[0][t] = t // coins[0]\n",
    "            else:\n",
    "                dp[0][t] = sys.maxsize\n",
    "        print(dp)\n",
    "\n",
    "        for ind in range(1, len(coins)):\n",
    "            for tar in range(1, amount + 1):\n",
    "                not_take = dp[ind - 1][tar]\n",
    "\n",
    "                take = sys.maxsize\n",
    "                if coins[ind] <= tar:\n",
    "                    # change = tar // coins[ind]\n",
    "                    # remaining_amount = tar - (coins[ind] * change)\n",
    "                    take = 1 + dp[ind][tar - coins[ind]]    # Taking as much as coins possible is making this problem greedy.\n",
    "                    # consider taking it only once and dont increase the ind , let the recursion do the rest.\n",
    "                    \n",
    "                dp[ind][tar] =  min(take, not_take)\n",
    "        print(dp)\n",
    "        # return dp[ind][tar]\n",
    "        if dp[-1][-1] != sys.maxsize:\n",
    "            return dp[-1][-1]\n",
    "        else:\n",
    "            return -1\n",
    "    \n"
   ]
  },
  {
   "cell_type": "code",
   "execution_count": 9,
   "id": "450ee926",
   "metadata": {},
   "outputs": [
    {
     "name": "stdout",
     "output_type": "stream",
     "text": [
      "[[0, 1, 2, 3, 4, 5, 6, 7, 8, 9, 10, 11], [0, 0, 0, 0, 0, 0, 0, 0, 0, 0, 0, 0], [0, 0, 0, 0, 0, 0, 0, 0, 0, 0, 0, 0]]\n",
      "[[0, 1, 2, 3, 4, 5, 6, 7, 8, 9, 10, 11], [0, 1, 1, 2, 2, 3, 3, 4, 4, 5, 5, 6], [0, 1, 1, 2, 2, 1, 2, 2, 3, 3, 2, 3]]\n"
     ]
    },
    {
     "data": {
      "text/plain": [
       "3"
      ]
     },
     "execution_count": 9,
     "metadata": {},
     "output_type": "execute_result"
    }
   ],
   "source": [
    "Solution().coinChange(coins = [1,2,5], amount = 11)\n"
   ]
  },
  {
   "cell_type": "code",
   "execution_count": 10,
   "id": "142da44f",
   "metadata": {},
   "outputs": [
    {
     "name": "stdout",
     "output_type": "stream",
     "text": [
      "[[0, 9223372036854775807, 1, 9223372036854775807]]\n",
      "[[0, 9223372036854775807, 1, 9223372036854775807]]\n"
     ]
    },
    {
     "data": {
      "text/plain": [
       "-1"
      ]
     },
     "execution_count": 10,
     "metadata": {},
     "output_type": "execute_result"
    }
   ],
   "source": [
    "Solution().coinChange(coins = [2], amount = 3)"
   ]
  },
  {
   "cell_type": "code",
   "execution_count": 11,
   "id": "a9e37510",
   "metadata": {},
   "outputs": [
    {
     "name": "stdout",
     "output_type": "stream",
     "text": [
      "[[0, 1, 2, 3, 4, 5, 6, 7, 8, 9, 10], [0, 0, 0, 0, 0, 0, 0, 0, 0, 0, 0], [0, 0, 0, 0, 0, 0, 0, 0, 0, 0, 0]]\n",
      "[[0, 1, 2, 3, 4, 5, 6, 7, 8, 9, 10], [0, 1, 1, 2, 2, 3, 3, 4, 4, 5, 5], [0, 1, 1, 2, 2, 1, 2, 2, 3, 3, 2]]\n"
     ]
    },
    {
     "data": {
      "text/plain": [
       "2"
      ]
     },
     "execution_count": 11,
     "metadata": {},
     "output_type": "execute_result"
    }
   ],
   "source": [
    "Solution().coinChange(coins = [1,2,5], amount = 10)\n"
   ]
  },
  {
   "cell_type": "code",
   "execution_count": null,
   "id": "14e23a85",
   "metadata": {},
   "outputs": [],
   "source": []
  }
 ],
 "metadata": {
  "kernelspec": {
   "display_name": "3.11.11",
   "language": "python",
   "name": "python3"
  },
  "language_info": {
   "codemirror_mode": {
    "name": "ipython",
    "version": 3
   },
   "file_extension": ".py",
   "mimetype": "text/x-python",
   "name": "python",
   "nbconvert_exporter": "python",
   "pygments_lexer": "ipython3",
   "version": "3.11.11"
  }
 },
 "nbformat": 4,
 "nbformat_minor": 5
}
