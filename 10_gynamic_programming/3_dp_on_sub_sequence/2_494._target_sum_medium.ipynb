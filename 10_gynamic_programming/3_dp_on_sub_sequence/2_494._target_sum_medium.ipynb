{
 "cells": [
  {
   "cell_type": "markdown",
   "id": "21cf5a8c",
   "metadata": {},
   "source": [
    "You are given an integer array nums and an integer target.\n",
    "\n",
    "You want to build an expression out of nums by adding one of the symbols '+' and '-' before each integer in nums and then concatenate all the integers.\n",
    "\n",
    "For example, if nums = [2, 1], you can add a '+' before 2 and a '-' before 1 and concatenate them to build the expression \"+2-1\".\n",
    "Return the number of different expressions that you can build, which evaluates to target.\n",
    "\n",
    " \n",
    "\n",
    "Example 1:\n",
    "\n",
    "Input: nums = [1,1,1,1,1], target = 3\n",
    "Output: 5\n",
    "Explanation: There are 5 ways to assign symbols to make the sum of nums be target 3.\n",
    "-1 + 1 + 1 + 1 + 1 = 3\n",
    "+1 - 1 + 1 + 1 + 1 = 3\n",
    "+1 + 1 - 1 + 1 + 1 = 3\n",
    "+1 + 1 + 1 - 1 + 1 = 3\n",
    "+1 + 1 + 1 + 1 - 1 = 3\n",
    "Example 2:\n",
    "\n",
    "Input: nums = [1], target = 1\n",
    "Output: 1"
   ]
  },
  {
   "cell_type": "code",
   "execution_count": 3,
   "id": "c916738c",
   "metadata": {},
   "outputs": [],
   "source": [
    "class Solution:\n",
    "    def findTargetSumWays(self, nums: list[int], target: int) -> int:\n",
    "        # So here we are actually finding 2 subsets with difference d. which is the target. \n",
    "        # one subset full of +ve numbers one with -ve numvers, the difference is target.\n",
    "        # so finding the s1 - s2 = d\n",
    "        # here s1 + s2 = S => s2 = S-s2 \n",
    "        # S - s2 - s2 = d\n",
    "        # s2 = S - d / 2   -- this is the target.\n",
    "        # so its basically, finding how many subsets matching the target.\n",
    "        total = sum(nums)\n",
    "        our_target = (total - target) / 2\n",
    "        n = len(nums)\n",
    "\n",
    "        # Checking for edge cases\n",
    "        if total - target < 0:\n",
    "            return 0\n",
    "        if (total - target) % 2 == 1:\n",
    "            return 0\n",
    "\n",
    "        return self.find_subset_sum(nums, n-1, n, our_target)\n",
    "\n",
    "    def find_subset_sum(self, arr, i, n, target):\n",
    "        if i == 0:\n",
    "        # Check if the target is zero and the first element is also zero, in which case there are two possibilities.\n",
    "            if target == 0 and arr[0] == 0:\n",
    "                return 2\n",
    "            # If the target is equal to the first element, there is one possibility.\n",
    "            if target == 0 or target == arr[0]:\n",
    "                return 1\n",
    "            # Otherwise, there is no valid partition.\n",
    "            return 0\n",
    "        \n",
    "        not_pick = self.find_subset_sum(arr, i-1, n, target)\n",
    "        pick = 0 \n",
    "        if arr[i] <= target:\n",
    "            pick = self.find_subset_sum(arr, i-1, n, target - arr[i])\n",
    "\n",
    "        return pick + not_pick"
   ]
  },
  {
   "cell_type": "code",
   "execution_count": 4,
   "id": "e2bcb637",
   "metadata": {},
   "outputs": [
    {
     "data": {
      "text/plain": [
       "5"
      ]
     },
     "execution_count": 4,
     "metadata": {},
     "output_type": "execute_result"
    }
   ],
   "source": [
    "Solution().findTargetSumWays(nums = [1,1,1,1,1], target = 3)"
   ]
  },
  {
   "cell_type": "code",
   "execution_count": 5,
   "id": "4271e7c2",
   "metadata": {},
   "outputs": [
    {
     "data": {
      "text/plain": [
       "1"
      ]
     },
     "execution_count": 5,
     "metadata": {},
     "output_type": "execute_result"
    }
   ],
   "source": [
    "Solution().findTargetSumWays(nums = [1,], target = 1)"
   ]
  },
  {
   "cell_type": "code",
   "execution_count": null,
   "id": "60f7b48e",
   "metadata": {},
   "outputs": [],
   "source": [
    "class Solution:\n",
    "    def findTargetSumWays(self, nums: list[int], target: int) -> int:\n",
    "        # So here we are actually finding 2 subsets with difference d. which is the target. \n",
    "        # one subset full of +ve numbers one with -ve numvers, the difference is target.\n",
    "        # so finding the s1 - s2 = d\n",
    "        # here s1 + s2 = S => s2 = S-s2 \n",
    "        # S - s2 - s2 = d\n",
    "        # s2 = S - d / 2   -- this is the target.\n",
    "        # so its basically, finding how many subsets matching the target.\n",
    "        total = sum(nums)\n",
    "        our_target = (total - target) / 2\n",
    "        n = len(nums)\n",
    "\n",
    "        # Checking for edge cases\n",
    "        if total - target < 0:\n",
    "            return 0\n",
    "        if (total - target) % 2 == 1:\n",
    "            return 0\n",
    "\n",
    "        dp = [[-1] * (int(our_target) + 1) for _ in range(n)]\n",
    "        return self.find_subset_sum(nums, n-1, dp, int(our_target))\n",
    "\n",
    "    def find_subset_sum(self, arr, i, dp, target):\n",
    "\n",
    "        if i == 0:\n",
    "        # Check if the target is zero and the first element is also zero, in which case there are two possibilities.\n",
    "            if target == 0 and arr[0] == 0:\n",
    "                return 2\n",
    "            # If the target is equal to the first element, there is one possibility.\n",
    "            if target == 0 or target == arr[0]:\n",
    "                return 1\n",
    "            # Otherwise, there is no valid partition.\n",
    "            return 0\n",
    "\n",
    "        if dp[i][target] != -1:\n",
    "            return dp[i][target]\n",
    "        \n",
    "        not_pick = self.find_subset_sum(arr, i-1, dp, target)\n",
    "        pick = 0 \n",
    "        if arr[i] <= target:\n",
    "            pick = self.find_subset_sum(arr, i-1, dp, target - arr[i])\n",
    "\n",
    "        dp[i][target] =  pick + not_pick\n",
    "        return dp[i][target]"
   ]
  },
  {
   "cell_type": "code",
   "execution_count": 19,
   "id": "2122443e",
   "metadata": {},
   "outputs": [
    {
     "name": "stdout",
     "output_type": "stream",
     "text": [
      "4\n",
      "[[-1, -1], [-1, -1], [-1, -1], [-1, -1], [-1, -1]]\n",
      "3\n",
      "[[-1, -1], [-1, -1], [-1, -1], [-1, -1], [-1, -1]]\n",
      "2\n",
      "[[-1, -1], [-1, -1], [-1, -1], [-1, -1], [-1, -1]]\n",
      "1\n",
      "[[-1, -1], [-1, -1], [-1, -1], [-1, -1], [-1, -1]]\n",
      "0\n",
      "[[-1, -1], [-1, -1], [-1, -1], [-1, -1], [-1, -1]]\n",
      "0\n",
      "[[-1, -1], [-1, -1], [-1, -1], [-1, -1], [-1, -1]]\n",
      "1\n",
      "[[-1, -1], [-1, 2], [-1, -1], [-1, -1], [-1, -1]]\n",
      "0\n",
      "[[-1, -1], [-1, 2], [-1, -1], [-1, -1], [-1, -1]]\n",
      "2\n",
      "[[-1, -1], [1, 2], [-1, 3], [-1, -1], [-1, -1]]\n",
      "1\n",
      "[[-1, -1], [1, 2], [-1, 3], [-1, -1], [-1, -1]]\n",
      "3\n",
      "[[-1, -1], [1, 2], [1, 3], [-1, 4], [-1, -1]]\n",
      "2\n",
      "[[-1, -1], [1, 2], [1, 3], [-1, 4], [-1, -1]]\n"
     ]
    },
    {
     "data": {
      "text/plain": [
       "5"
      ]
     },
     "execution_count": 19,
     "metadata": {},
     "output_type": "execute_result"
    }
   ],
   "source": [
    "Solution().findTargetSumWays(nums = [1,1,1,1,1], target = 3)"
   ]
  },
  {
   "cell_type": "code",
   "execution_count": 20,
   "id": "49c07c79",
   "metadata": {},
   "outputs": [
    {
     "name": "stdout",
     "output_type": "stream",
     "text": [
      "2\n",
      "[[-1, -1, -1], [-1, -1, -1], [-1, -1, -1]]\n",
      "1\n",
      "[[-1, -1, -1], [-1, -1, -1], [-1, -1, -1]]\n",
      "0\n",
      "[[-1, -1, -1], [-1, -1, -1], [-1, -1, -1]]\n",
      "0\n",
      "[[-1, -1, -1], [-1, -1, -1], [-1, -1, -1]]\n",
      "1\n",
      "[[-1, -1, -1], [-1, -1, 1], [-1, -1, -1]]\n",
      "0\n",
      "[[-1, -1, -1], [-1, -1, 1], [-1, -1, -1]]\n"
     ]
    },
    {
     "data": {
      "text/plain": [
       "2"
      ]
     },
     "execution_count": 20,
     "metadata": {},
     "output_type": "execute_result"
    }
   ],
   "source": [
    "Solution().findTargetSumWays(nums = [1,2,1]\n",
    ", target = 0)"
   ]
  },
  {
   "cell_type": "code",
   "execution_count": 38,
   "id": "0b831b3c",
   "metadata": {},
   "outputs": [],
   "source": [
    "class Solution:\n",
    "    def findTargetSumWays(self, nums: list[int], target: int) -> int:\n",
    "        # So here we are actually finding 2 subsets with difference d. which is the target. \n",
    "        # one subset full of +ve numbers one with -ve numvers, the difference is target.\n",
    "        # so finding the s1 - s2 = d\n",
    "        # here s1 + s2 = S => s2 = S-s2 \n",
    "        # S - s2 - s2 = d\n",
    "        # s2 = S - d / 2   -- this is the target.\n",
    "        # so its basically, finding how many subsets matching the target.\n",
    "        total = sum(nums)\n",
    "        our_target = (total - target) / 2\n",
    "        n = len(nums)\n",
    "\n",
    "        # Checking for edge cases\n",
    "        if total - target < 0:\n",
    "            return 0\n",
    "        if (total - target) % 2 == 1:\n",
    "            return 0\n",
    "\n",
    "        dp = [[0] * (int(our_target) + 1) for _ in range(n)]\n",
    "\n",
    "\n",
    "        if nums[0] == 0:\n",
    "            dp[0][0] = 2  # 2 cases - pick and not pick\n",
    "        else:\n",
    "            dp[0][0] = 1  # 1 case - not pick\n",
    "\n",
    "        if nums[0] != 0 and nums[0] <= our_target:\n",
    "            dp[0][nums[0]] = 1  # 1 case - pick\n",
    "\n",
    "        for i in range(1, n):\n",
    "            for tar in range(0, int(our_target) + 1):\n",
    "                \n",
    "                print(i,tar)\n",
    "                not_pick = dp[i-1][tar]\n",
    "                pick = 0 \n",
    "                if nums[i] <= tar:\n",
    "                    pick = dp[i-1][tar - nums[i]]\n",
    "\n",
    "                dp[i][tar] =  pick + not_pick\n",
    "                print(dp)\n",
    "        return dp[-1][-1]\n"
   ]
  },
  {
   "cell_type": "code",
   "execution_count": 39,
   "id": "a1e49072",
   "metadata": {},
   "outputs": [
    {
     "name": "stdout",
     "output_type": "stream",
     "text": [
      "1 0\n",
      "[[1, 1], [1, 0], [0, 0], [0, 0], [0, 0]]\n",
      "1 1\n",
      "[[1, 1], [1, 2], [0, 0], [0, 0], [0, 0]]\n",
      "2 0\n",
      "[[1, 1], [1, 2], [1, 0], [0, 0], [0, 0]]\n",
      "2 1\n",
      "[[1, 1], [1, 2], [1, 3], [0, 0], [0, 0]]\n",
      "3 0\n",
      "[[1, 1], [1, 2], [1, 3], [1, 0], [0, 0]]\n",
      "3 1\n",
      "[[1, 1], [1, 2], [1, 3], [1, 4], [0, 0]]\n",
      "4 0\n",
      "[[1, 1], [1, 2], [1, 3], [1, 4], [1, 0]]\n",
      "4 1\n",
      "[[1, 1], [1, 2], [1, 3], [1, 4], [1, 5]]\n"
     ]
    },
    {
     "data": {
      "text/plain": [
       "5"
      ]
     },
     "execution_count": 39,
     "metadata": {},
     "output_type": "execute_result"
    }
   ],
   "source": [
    "Solution().findTargetSumWays(nums = [1,1,1,1,1], target = 3)"
   ]
  },
  {
   "cell_type": "code",
   "execution_count": 40,
   "id": "097509b8",
   "metadata": {},
   "outputs": [
    {
     "name": "stdout",
     "output_type": "stream",
     "text": [
      "1 0\n",
      "[[1, 1, 0], [1, 0, 0], [0, 0, 0]]\n",
      "1 1\n",
      "[[1, 1, 0], [1, 1, 0], [0, 0, 0]]\n",
      "1 2\n",
      "[[1, 1, 0], [1, 1, 1], [0, 0, 0]]\n",
      "2 0\n",
      "[[1, 1, 0], [1, 1, 1], [1, 0, 0]]\n",
      "2 1\n",
      "[[1, 1, 0], [1, 1, 1], [1, 2, 0]]\n",
      "2 2\n",
      "[[1, 1, 0], [1, 1, 1], [1, 2, 2]]\n"
     ]
    },
    {
     "data": {
      "text/plain": [
       "2"
      ]
     },
     "execution_count": 40,
     "metadata": {},
     "output_type": "execute_result"
    }
   ],
   "source": [
    "Solution().findTargetSumWays(nums = [1,2,1], target = 0)"
   ]
  },
  {
   "cell_type": "code",
   "execution_count": null,
   "id": "9ff0ad18",
   "metadata": {},
   "outputs": [],
   "source": []
  }
 ],
 "metadata": {
  "kernelspec": {
   "display_name": "3.11.11",
   "language": "python",
   "name": "python3"
  },
  "language_info": {
   "codemirror_mode": {
    "name": "ipython",
    "version": 3
   },
   "file_extension": ".py",
   "mimetype": "text/x-python",
   "name": "python",
   "nbconvert_exporter": "python",
   "pygments_lexer": "ipython3",
   "version": "3.11.11"
  }
 },
 "nbformat": 4,
 "nbformat_minor": 5
}
