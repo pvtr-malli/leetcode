{
 "cells": [
  {
   "cell_type": "markdown",
   "id": "c18f4dc4",
   "metadata": {},
   "source": [
    "Given an array of integers nums and an integer k, return the total number of subarrays whose sum equals to k.\n",
    "\n",
    "A subarray is a contiguous non-empty sequence of elements within an array.\n",
    "\n",
    " \n",
    "\n",
    "Example 1:\n",
    "\n",
    "Input: nums = [1,1,1], k = 2\n",
    "Output: 2\n",
    "Example 2:\n",
    "\n",
    "Input: nums = [1,2,3], k = 3\n",
    "Output: 2\n",
    " \n",
    "\n",
    "Constraints:\n",
    "\n",
    "1 <= nums.length <= 2 * 104\n",
    "-1000 <= nums[i] <= 1000\n",
    "-107 <= k <= 107"
   ]
  },
  {
   "cell_type": "markdown",
   "id": "10cd1dfb",
   "metadata": {},
   "source": [
    "A subset is any selection of elements from the array, regardless of their order or continuity.\n",
    "Each element can either be picked or not.\n",
    "\n",
    "✅ Characteristics:\n",
    "Not necessarily contiguous\n",
    "\n",
    "Order doesn't matter\n",
    "\n",
    "Can skip elements\n",
    "\n",
    "Total of 2^n subsets for an array of size n\n",
    "\n",
    "🧠 Example:\n",
    "For nums = [1, 2, 3], subsets include:\n",
    "\n",
    "[]\n",
    "\n",
    "[1]\n",
    "\n",
    "[2]\n",
    "\n",
    "[3]\n",
    "\n",
    "[1, 2]\n",
    "\n",
    "[1, 3]\n",
    "\n",
    "[2, 3]\n",
    "\n",
    "[1, 2, 3]\n",
    "\n",
    "🔸 Subarray\n",
    "A subarray is a contiguous portion of the array.\n",
    "You cannot skip elements, and the order is preserved.\n",
    "\n",
    "✅ Characteristics:\n",
    "Must be contiguous\n",
    "\n",
    "Order matters\n",
    "\n",
    "For an array of length n, there are n(n+1)/2 subarrays.\n",
    "\n",
    "🧠 Example:\n",
    "For nums = [1, 2, 3], subarrays include:\n",
    "\n",
    "[1]\n",
    "\n",
    "[2]\n",
    "\n",
    "[3]\n",
    "\n",
    "[1, 2]\n",
    "\n",
    "[2, 3]\n",
    "\n",
    "[1, 2, 3]\n",
    "\n",
    "[1, 3] is not a valid subarray (not contiguous).\n",
    "\n",
    "\n",
    "\n",
    "\n",
    "# the below code is for subset, not for subarray -- so go for prefix sum approach for subarray."
   ]
  },
  {
   "cell_type": "code",
   "execution_count": null,
   "id": "c6b92aa1",
   "metadata": {},
   "outputs": [],
   "source": [
    "class Solution:\n",
    "    def subarraySum(self, nums: list[int], k: int) -> int:\n",
    "        return self.find_subset_sum(nums, len(nums) -1 , k)\n",
    "\n",
    "    def find_subset_sum(self, arr, i, target):\n",
    "        print(i, target)\n",
    "        if target == 0:\n",
    "            return 1\n",
    "        \n",
    "        if i < 0:\n",
    "            return 0\n",
    "\n",
    "        not_pick = self.find_subset_sum(arr, i-1, target)\n",
    "\n",
    "        # The element of the array can be taken only once.\n",
    "        pick = 0 \n",
    "        if arr[i] <= target:\n",
    "            pick = self.find_subset_sum(arr, i-1, target - arr[i])\n",
    "\n",
    "        return (pick + not_pick)"
   ]
  },
  {
   "cell_type": "code",
   "execution_count": 20,
   "id": "ab0454c6",
   "metadata": {},
   "outputs": [
    {
     "name": "stdout",
     "output_type": "stream",
     "text": [
      "2 2\n",
      "1 2\n",
      "0 2\n",
      "-1 2\n",
      "-1 1\n",
      "0 1\n",
      "-1 1\n",
      "-1 0\n",
      "returing 1 by tar o\n",
      "1 1\n",
      "0 1\n",
      "-1 1\n",
      "-1 0\n",
      "returing 1 by tar o\n",
      "0 0\n",
      "returing 1 by tar o\n"
     ]
    },
    {
     "data": {
      "text/plain": [
       "3"
      ]
     },
     "execution_count": 20,
     "metadata": {},
     "output_type": "execute_result"
    }
   ],
   "source": [
    "Solution().subarraySum(nums = [1,1,1], k = 2)"
   ]
  },
  {
   "cell_type": "code",
   "execution_count": 21,
   "id": "96bea84c",
   "metadata": {},
   "outputs": [
    {
     "name": "stdout",
     "output_type": "stream",
     "text": [
      "2 3\n",
      "1 3\n",
      "0 3\n",
      "-1 3\n",
      "-1 2\n",
      "0 1\n",
      "-1 1\n",
      "-1 0\n",
      "returing 1 by tar o\n",
      "1 0\n",
      "returing 1 by tar o\n"
     ]
    },
    {
     "data": {
      "text/plain": [
       "2"
      ]
     },
     "execution_count": 21,
     "metadata": {},
     "output_type": "execute_result"
    }
   ],
   "source": [
    "Solution().subarraySum(nums = [1,2,3], k = 3)"
   ]
  },
  {
   "cell_type": "code",
   "execution_count": 22,
   "id": "273c3ac4",
   "metadata": {},
   "outputs": [
    {
     "name": "stdout",
     "output_type": "stream",
     "text": [
      "4 3\n",
      "3 3\n",
      "2 3\n",
      "1 3\n",
      "0 3\n",
      "-1 3\n",
      "-1 2\n",
      "0 1\n",
      "-1 1\n",
      "-1 0\n",
      "returing 1 by tar o\n",
      "1 2\n",
      "0 2\n",
      "-1 2\n",
      "-1 1\n",
      "0 0\n",
      "returing 1 by tar o\n",
      "2 1\n",
      "1 1\n",
      "0 1\n",
      "-1 1\n",
      "-1 0\n",
      "returing 1 by tar o\n",
      "1 0\n",
      "returing 1 by tar o\n",
      "3 2\n",
      "2 2\n",
      "1 2\n",
      "0 2\n",
      "-1 2\n",
      "-1 1\n",
      "0 0\n",
      "returing 1 by tar o\n",
      "1 1\n",
      "0 1\n",
      "-1 1\n",
      "-1 0\n",
      "returing 1 by tar o\n",
      "2 0\n",
      "returing 1 by tar o\n"
     ]
    },
    {
     "data": {
      "text/plain": [
       "7"
      ]
     },
     "execution_count": 22,
     "metadata": {},
     "output_type": "execute_result"
    }
   ],
   "source": [
    "Solution().subarraySum([1,2,1,2,1], k = 3)"
   ]
  },
  {
   "cell_type": "code",
   "execution_count": null,
   "id": "923520c2",
   "metadata": {},
   "outputs": [],
   "source": []
  }
 ],
 "metadata": {
  "kernelspec": {
   "display_name": "3.11.11",
   "language": "python",
   "name": "python3"
  },
  "language_info": {
   "codemirror_mode": {
    "name": "ipython",
    "version": 3
   },
   "file_extension": ".py",
   "mimetype": "text/x-python",
   "name": "python",
   "nbconvert_exporter": "python",
   "pygments_lexer": "ipython3",
   "version": "3.11.11"
  }
 },
 "nbformat": 4,
 "nbformat_minor": 5
}
