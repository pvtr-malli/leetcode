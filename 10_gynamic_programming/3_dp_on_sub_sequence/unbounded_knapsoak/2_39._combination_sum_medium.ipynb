{
 "cells": [
  {
   "cell_type": "markdown",
   "id": "e52bf541",
   "metadata": {},
   "source": [
    "Given an array of distinct integers candidates and a target integer target, return a list of all unique combinations of candidates where the chosen numbers sum to target. You may return the combinations in any order.\n",
    "\n",
    "The same number may be chosen from candidates an unlimited number of times. Two combinations are unique if the frequency of at least one of the chosen numbers is different.\n",
    "\n",
    "The test cases are generated such that the number of unique combinations that sum up to target is less than 150 combinations for the given input.\n",
    "\n",
    " \n",
    "\n",
    "Example 1:\n",
    "\n",
    "Input: candidates = [2,3,6,7], target = 7\n",
    "Output: [[2,2,3],[7]]\n",
    "Explanation:\n",
    "2 and 3 are candidates, and 2 + 2 + 3 = 7. Note that 2 can be used multiple times.\n",
    "7 is a candidate, and 7 = 7.\n",
    "These are the only two combinations.\n",
    "Example 2:\n",
    "\n",
    "Input: candidates = [2,3,5], target = 8\n",
    "Output: [[2,2,2,2],[2,3,3],[3,5]]\n",
    "Example 3:\n",
    "\n",
    "Input: candidates = [2], target = 1\n",
    "Output: []"
   ]
  },
  {
   "cell_type": "code",
   "execution_count": null,
   "id": "4a2f48fe",
   "metadata": {},
   "outputs": [],
   "source": [
    "class Solution:\n",
    "    def __init__(self):\n",
    "        self.canditate = None \n",
    "        self.ans = []\n",
    "\n",
    "    def combinationSum(self, candidates: list[int], target: int) -> list[list[int]]:\n",
    "        self.canditate = candidates\n",
    "        self.combination_sum_rec(target, [], 0)\n",
    "\n",
    "        return self.ans\n",
    "\n",
    "    def combination_sum_rec(self, target, temp_ans: list, i):\n",
    "        print(i, target)\n",
    "        # when the index is 0. take the value only if hte value can divide the target.\n",
    "        if target == 0:\n",
    "            return temp_ans.copy()\n",
    "            \n",
    "        if i >= len(self.canditate) or target < 0:\n",
    "            return\n",
    "\n",
    "        # take it.\n",
    "        take = None\n",
    "        if self.canditate[i] <= target:\n",
    "            temp_ans.append(self.canditate[i])\n",
    "            take = self.combination_sum_rec(target - self.canditate[i], temp_ans, i) # can be taken multiple time if possible.\n",
    "\n",
    "            # remove the ans.\n",
    "            temp_ans.remove(self.canditate[i])\n",
    "\n",
    "        # not take it.\n",
    "        not_take = self.combination_sum_rec(target, temp_ans, i + 1)\n",
    "\n",
    "        temp_ans = []\n",
    "        if take:\n",
    "            temp_ans.append(take)\n",
    "        if not_take:\n",
    "            temp_ans.append(not_take)\n",
    "        self.ans.extend(temp_ans)\n",
    "        \n"
   ]
  },
  {
   "cell_type": "code",
   "execution_count": 46,
   "id": "3e75de40",
   "metadata": {},
   "outputs": [
    {
     "name": "stdout",
     "output_type": "stream",
     "text": [
      "0 7\n",
      "0 5\n",
      "0 3\n",
      "0 1\n",
      "1 1\n",
      "2 1\n",
      "3 1\n",
      "4 1\n",
      "1 3\n",
      "1 0\n",
      "2 3\n",
      "3 3\n",
      "4 3\n",
      "\n",
      "1 5\n",
      "1 2\n",
      "2 2\n",
      "3 2\n",
      "4 2\n",
      "2 5\n",
      "3 5\n",
      "4 5\n",
      "1 7\n",
      "1 4\n",
      "1 1\n",
      "2 1\n",
      "3 1\n",
      "4 1\n",
      "2 4\n",
      "3 4\n",
      "4 4\n",
      "2 7\n",
      "2 1\n",
      "3 1\n",
      "4 1\n",
      "3 7\n",
      "3 0\n",
      "4 7\n",
      "\n"
     ]
    },
    {
     "data": {
      "text/plain": [
       "[[2, 2, 3], [7]]"
      ]
     },
     "execution_count": 46,
     "metadata": {},
     "output_type": "execute_result"
    }
   ],
   "source": [
    "Solution().combinationSum(candidates = [2,3,6,7], target = 7)"
   ]
  },
  {
   "cell_type": "code",
   "execution_count": 47,
   "id": "f2b5783b",
   "metadata": {},
   "outputs": [
    {
     "name": "stdout",
     "output_type": "stream",
     "text": [
      "0 10\n",
      "0 7\n",
      "0 4\n",
      "0 1\n",
      "1 1\n",
      "2 1\n",
      "3 1\n",
      "1 4\n",
      "2 4\n",
      "3 4\n",
      "1 7\n",
      "1 2\n",
      "2 2\n",
      "3 2\n",
      "2 7\n",
      "2 0\n",
      "3 7\n",
      "\n",
      "1 10\n",
      "1 5\n",
      "1 0\n",
      "2 5\n",
      "3 5\n",
      "\n",
      "2 10\n",
      "2 3\n",
      "3 3\n",
      "3 10\n"
     ]
    },
    {
     "data": {
      "text/plain": [
       "[[3, 7], [5, 5]]"
      ]
     },
     "execution_count": 47,
     "metadata": {},
     "output_type": "execute_result"
    }
   ],
   "source": [
    "Solution().combinationSum(candidates = [3,5,7], target = 10)"
   ]
  },
  {
   "cell_type": "code",
   "execution_count": null,
   "id": "226177db",
   "metadata": {},
   "outputs": [],
   "source": []
  },
  {
   "cell_type": "code",
   "execution_count": 52,
   "id": "b922f1d5",
   "metadata": {},
   "outputs": [
    {
     "name": "stdout",
     "output_type": "stream",
     "text": [
      "0 10\n",
      "0 7\n",
      "0 4\n",
      "0 1\n",
      "1 1\n",
      "2 1\n",
      "3 1\n",
      "[[-1, -1, -1, -1, -1, -1, -1, -1, -1, -1, -1], [-1, -1, -1, -1, -1, -1, -1, -1, -1, -1, -1], [-1, [], -1, -1, -1, -1, -1, -1, -1, -1, -1]]\n",
      "[[-1, -1, -1, -1, -1, -1, -1, -1, -1, -1, -1], [-1, [], -1, -1, -1, -1, -1, -1, -1, -1, -1], [-1, [], -1, -1, -1, -1, -1, -1, -1, -1, -1]]\n",
      "[[-1, [], -1, -1, -1, -1, -1, -1, -1, -1, -1], [-1, [], -1, -1, -1, -1, -1, -1, -1, -1, -1], [-1, [], -1, -1, -1, -1, -1, -1, -1, -1, -1]]\n",
      "1 4\n",
      "2 4\n",
      "3 4\n",
      "[[-1, [], -1, -1, -1, -1, -1, -1, -1, -1, -1], [-1, [], -1, -1, -1, -1, -1, -1, -1, -1, -1], [-1, [], -1, -1, [], -1, -1, -1, -1, -1, -1]]\n",
      "[[-1, [], -1, -1, -1, -1, -1, -1, -1, -1, -1], [-1, [], -1, -1, [], -1, -1, -1, -1, -1, -1], [-1, [], -1, -1, [], -1, -1, -1, -1, -1, -1]]\n",
      "[[-1, [], -1, -1, [], -1, -1, -1, -1, -1, -1], [-1, [], -1, -1, [], -1, -1, -1, -1, -1, -1], [-1, [], -1, -1, [], -1, -1, -1, -1, -1, -1]]\n",
      "1 7\n",
      "1 2\n",
      "2 2\n",
      "3 2\n",
      "[[-1, [], -1, -1, [], -1, -1, -1, -1, -1, -1], [-1, [], -1, -1, [], -1, -1, -1, -1, -1, -1], [-1, [], [], -1, [], -1, -1, -1, -1, -1, -1]]\n",
      "[[-1, [], -1, -1, [], -1, -1, -1, -1, -1, -1], [-1, [], [], -1, [], -1, -1, -1, -1, -1, -1], [-1, [], [], -1, [], -1, -1, -1, -1, -1, -1]]\n",
      "2 7\n",
      "2 0\n",
      "3 7\n",
      "[[-1, [], -1, -1, [], -1, -1, -1, -1, -1, -1], [-1, [], [], -1, [], -1, -1, -1, -1, -1, -1], [-1, [], [], -1, [], -1, -1, [[3, 7]], -1, -1, -1]]\n",
      "[[-1, [], -1, -1, [], -1, -1, -1, -1, -1, -1], [-1, [], [], -1, [], -1, -1, [], -1, -1, -1], [-1, [], [], -1, [], -1, -1, [[3, 7]], -1, -1, -1]]\n",
      "[[-1, [], -1, -1, [], -1, -1, [], -1, -1, -1], [-1, [], [], -1, [], -1, -1, [], -1, -1, -1], [-1, [], [], -1, [], -1, -1, [[3, 7]], -1, -1, -1]]\n",
      "1 10\n",
      "1 5\n",
      "1 0\n",
      "2 5\n",
      "3 5\n",
      "[[-1, [], -1, -1, [], -1, -1, [], -1, -1, -1], [-1, [], [], -1, [], -1, -1, [], -1, -1, -1], [-1, [], [], -1, [], [], -1, [[3, 7]], -1, -1, -1]]\n",
      "[[-1, [], -1, -1, [], -1, -1, [], -1, -1, -1], [-1, [], [], -1, [], [[5, 5]], -1, [], -1, -1, -1], [-1, [], [], -1, [], [], -1, [[3, 7]], -1, -1, -1]]\n",
      "2 10\n",
      "2 3\n",
      "3 3\n",
      "[[-1, [], -1, -1, [], -1, -1, [], -1, -1, -1], [-1, [], [], -1, [], [[5, 5]], -1, [], -1, -1, -1], [-1, [], [], [], [], [], -1, [[3, 7]], -1, -1, -1]]\n",
      "3 10\n",
      "[[-1, [], -1, -1, [], -1, -1, [], -1, -1, -1], [-1, [], [], -1, [], [[5, 5]], -1, [], -1, -1, -1], [-1, [], [], [], [], [], -1, [[3, 7]], -1, -1, []]]\n",
      "[[-1, [], -1, -1, [], -1, -1, [], -1, -1, -1], [-1, [], [], -1, [], [[5, 5]], -1, [], -1, -1, []], [-1, [], [], [], [], [], -1, [[3, 7]], -1, -1, []]]\n",
      "[[-1, [], -1, -1, [], -1, -1, [], -1, -1, []], [-1, [], [], -1, [], [[5, 5]], -1, [], -1, -1, []], [-1, [], [], [], [], [], -1, [[3, 7]], -1, -1, []]]\n"
     ]
    },
    {
     "data": {
      "text/plain": [
       "[[3, 7], [5, 5]]"
      ]
     },
     "execution_count": 52,
     "metadata": {},
     "output_type": "execute_result"
    }
   ],
   "source": [
    "Solution().combinationSum(candidates = [3,5,7], target = 10)"
   ]
  },
  {
   "cell_type": "code",
   "execution_count": null,
   "id": "4dccce07",
   "metadata": {},
   "outputs": [],
   "source": [
    "# this is not a dp problem, there won't be any repeating subproblems.\n",
    "class Solution:\n",
    "    def __init__(self):\n",
    "        self.canditate = None \n",
    "        self.ans = []\n",
    "\n",
    "    def combinationSum(self, candidates: list[int], target: int) -> list[list[int]]:\n",
    "        self.canditate = candidates\n",
    "        # what are getting changed : i,target.\n",
    "        dp = [[-1] * (target + 1) for _ in range(len(candidates))]\n",
    "\n",
    "        self.combination_sum_rec(target, [], 0, dp)\n",
    "        \n",
    "        \n",
    "        return self.ans\n",
    "\n",
    "    def combination_sum_rec(self, target, temp_ans: list, i, dp):\n",
    "        # when the index is 0. take the value only if hte value can divide the target.\n",
    "        if target == 0:\n",
    "            return temp_ans.copy()\n",
    "            \n",
    "        if i >= len(self.canditate) or target < 0:\n",
    "            return\n",
    "        \n",
    "        if dp[i][target] != -1:\n",
    "            return dp[i][target]\n",
    "\n",
    "        # take it.\n",
    "        take = None\n",
    "        if self.canditate[i] <= target:\n",
    "            temp_ans.append(self.canditate[i])\n",
    "            take = self.combination_sum_rec(target - self.canditate[i], temp_ans, i, dp) # can be taken multiple time if possible.\n",
    "\n",
    "            # remove the ans.\n",
    "            temp_ans.remove(self.canditate[i])\n",
    "\n",
    "        # not take it.\n",
    "        not_take = self.combination_sum_rec(target, temp_ans, i + 1, dp)\n",
    "\n",
    "        temp_ans = []\n",
    "        if take:\n",
    "            temp_ans.append(take)\n",
    "        if not_take:\n",
    "            temp_ans.append(not_take)\n",
    "        self.ans.extend(temp_ans)\n",
    "        dp[i][target] = temp_ans "
   ]
  }
 ],
 "metadata": {
  "kernelspec": {
   "display_name": "3.11.11",
   "language": "python",
   "name": "python3"
  },
  "language_info": {
   "codemirror_mode": {
    "name": "ipython",
    "version": 3
   },
   "file_extension": ".py",
   "mimetype": "text/x-python",
   "name": "python",
   "nbconvert_exporter": "python",
   "pygments_lexer": "ipython3",
   "version": "3.11.11"
  }
 },
 "nbformat": 4,
 "nbformat_minor": 5
}
