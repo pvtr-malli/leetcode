{
 "cells": [
  {
   "cell_type": "markdown",
   "id": "6ac28160",
   "metadata": {},
   "source": [
    "You are given an integer array coins representing coins of different denominations and an integer amount representing a total amount of money.\n",
    "\n",
    "Return the number of combinations that make up that amount. If that amount of money cannot be made up by any combination of the coins, return 0.\n",
    "\n",
    "You may assume that you have an infinite number of each kind of coin.\n",
    "\n",
    "The answer is guaranteed to fit into a signed 32-bit integer.\n",
    "\n",
    " \n",
    "\n",
    "Example 1:\n",
    "\n",
    "Input: amount = 5, coins = [1,2,5]\n",
    "Output: 4\n",
    "Explanation: there are four ways to make up the amount:\n",
    "5=5\n",
    "5=2+2+1\n",
    "5=2+1+1+1\n",
    "5=1+1+1+1+1\n",
    "Example 2:\n",
    "\n",
    "Input: amount = 3, coins = [2]\n",
    "Output: 0\n",
    "Explanation: the amount of 3 cannot be made up just with coins of 2.\n",
    "Example 3:\n",
    "\n",
    "Input: amount = 10, coins = [10]\n",
    "Output: 1"
   ]
  },
  {
   "cell_type": "code",
   "execution_count": 26,
   "id": "43576de7",
   "metadata": {},
   "outputs": [],
   "source": [
    "class Solution:\n",
    "    def change(self, amount: int, coins: list[int]) -> int:\n",
    "        return self.coin_change_rec(coins, amount, len(coins) -1 )\n",
    "    \n",
    "    def coin_change_rec(self, coins, amount, i):\n",
    "        if i == 0:\n",
    "            # if amount is divisible by the oth index then return 1, else 0.\n",
    "            if amount % coins[0] == 0:\n",
    "                return 1\n",
    "            return 0\n",
    "        \n",
    "        if amount == 0:\n",
    "            return 1 # when we reach the amount return 1.\n",
    "        \n",
    "        not_take = self.coin_change_rec(coins, amount, i -1)\n",
    "\n",
    "        take = 0\n",
    "        if coins[i] <= amount:\n",
    "            # change = amount // coins[i]\n",
    "            # print(\"change\", change)\n",
    "            # remaining_amount = amount - (coins[i] * change)\n",
    "            take = self.coin_change_rec(coins, amount - coins[i], i)\n",
    "            \n",
    "        return take + not_take\n"
   ]
  },
  {
   "cell_type": "code",
   "execution_count": 27,
   "id": "a30f1f27",
   "metadata": {},
   "outputs": [
    {
     "data": {
      "text/plain": [
       "4"
      ]
     },
     "execution_count": 27,
     "metadata": {},
     "output_type": "execute_result"
    }
   ],
   "source": [
    "Solution().change(amount = 5, coins = [1,2,5])"
   ]
  },
  {
   "cell_type": "code",
   "execution_count": null,
   "id": "ec9b4286",
   "metadata": {},
   "outputs": [],
   "source": [
    "# memorization:\n",
    "class Solution:\n",
    "    def change(self, amount: int, coins: list[int]) -> int:\n",
    "        # create the dp. \n",
    "        # changing index -- amount, ind\n",
    "        dp = [[-1] * (amount + 1) for _ in range(len(coins))]\n",
    "\n",
    "        return self.coin_change_rec(coins, amount, len(coins) -1, dp)\n",
    "    \n",
    "    def coin_change_rec(self, coins, amount, i, dp):\n",
    "\n",
    "        if i == 0:\n",
    "            # if amount is divisible by the oth index then return 1, else 0.\n",
    "            if amount % coins[0] == 0:\n",
    "                return 1\n",
    "            return 0\n",
    "        \n",
    "        if amount == 0:\n",
    "            return 1 # when we reach the amount return 1.\n",
    "        \n",
    "        if dp[i][amount] != -1:\n",
    "            return dp[i][amount]\n",
    "        \n",
    "        not_take = self.coin_change_rec(coins, amount, i -1, dp)\n",
    "\n",
    "        take = 0\n",
    "        if coins[i] <= amount:\n",
    "            # change = amount // coins[i]\n",
    "            # print(\"change\", change)\n",
    "            # remaining_amount = amount - (coins[i] * change)\n",
    "            take = self.coin_change_rec(coins, amount - coins[i], i, dp)\n",
    "            \n",
    "        dp[i][amount] =  take + not_take\n",
    "\n",
    "        return dp[i][amount]"
   ]
  },
  {
   "cell_type": "code",
   "execution_count": 25,
   "id": "e7a5b3ba",
   "metadata": {},
   "outputs": [
    {
     "name": "stdout",
     "output_type": "stream",
     "text": [
      "2 5\n",
      "[[-1, -1, -1, -1, -1, -1], [-1, -1, -1, -1, -1, -1], [-1, -1, -1, -1, -1, -1]]\n",
      "1 5\n",
      "[[-1, -1, -1, -1, -1, -1], [-1, -1, -1, -1, -1, -1], [-1, -1, -1, -1, -1, -1]]\n",
      "0 5\n",
      "[[-1, -1, -1, -1, -1, -1], [-1, -1, -1, -1, -1, -1], [-1, -1, -1, -1, -1, -1]]\n",
      "1 3\n",
      "[[-1, -1, -1, -1, -1, -1], [-1, -1, -1, -1, -1, -1], [-1, -1, -1, -1, -1, -1]]\n",
      "0 3\n",
      "[[-1, -1, -1, -1, -1, -1], [-1, -1, -1, -1, -1, -1], [-1, -1, -1, -1, -1, -1]]\n",
      "1 1\n",
      "[[-1, -1, -1, -1, -1, -1], [-1, -1, -1, -1, -1, -1], [-1, -1, -1, -1, -1, -1]]\n",
      "0 1\n",
      "[[-1, -1, -1, -1, -1, -1], [-1, -1, -1, -1, -1, -1], [-1, -1, -1, -1, -1, -1]]\n",
      "2 0\n",
      "[[-1, -1, -1, -1, -1, -1], [-1, 1, -1, 2, -1, 3], [-1, -1, -1, -1, -1, -1]]\n"
     ]
    },
    {
     "data": {
      "text/plain": [
       "4"
      ]
     },
     "execution_count": 25,
     "metadata": {},
     "output_type": "execute_result"
    }
   ],
   "source": [
    "Solution().change(amount = 5, coins = [1,2,5])"
   ]
  },
  {
   "cell_type": "code",
   "execution_count": 38,
   "id": "502cd682",
   "metadata": {},
   "outputs": [],
   "source": [
    "# memorization:\n",
    "class Solution:\n",
    "    def change(self, amount: int, coins: list[int]) -> int:\n",
    "        # create the dp. \n",
    "        # changing index -- amount, ind\n",
    "        dp = [[0] * (amount + 1) for _ in range(len(coins))]\n",
    "\n",
    "        # fill in the base case:\n",
    "        for col in range(amount + 1):\n",
    "            # if amount is divisible by the oth index then return 1, else 0.\n",
    "            if col % coins[0] == 0:\n",
    "                dp[0][col] = 1\n",
    "\n",
    "        for row in range(len(coins)):\n",
    "            dp[row][0] = 1 # when we reach the amount return 1.\n",
    "        \n",
    "        for i in range(1, len(coins)):\n",
    "            for tar in range(1, amount + 1):\n",
    "                \n",
    "                not_take = dp[i-1][tar]\n",
    "\n",
    "                take = 0\n",
    "                if coins[i] <= tar:\n",
    "                    take = dp[i][tar - coins[i]]\n",
    "                    \n",
    "                dp[i][tar] =  take + not_take\n",
    "                print(dp)\n",
    "\n",
    "        return dp[-1][-1]"
   ]
  },
  {
   "cell_type": "code",
   "execution_count": 39,
   "id": "f8d7656b",
   "metadata": {},
   "outputs": [
    {
     "name": "stdout",
     "output_type": "stream",
     "text": [
      "[[1, 1, 1, 1, 1, 1], [1, 1, 0, 0, 0, 0], [1, 0, 0, 0, 0, 0]]\n",
      "[[1, 1, 1, 1, 1, 1], [1, 1, 2, 0, 0, 0], [1, 0, 0, 0, 0, 0]]\n",
      "[[1, 1, 1, 1, 1, 1], [1, 1, 2, 2, 0, 0], [1, 0, 0, 0, 0, 0]]\n",
      "[[1, 1, 1, 1, 1, 1], [1, 1, 2, 2, 3, 0], [1, 0, 0, 0, 0, 0]]\n",
      "[[1, 1, 1, 1, 1, 1], [1, 1, 2, 2, 3, 3], [1, 0, 0, 0, 0, 0]]\n",
      "[[1, 1, 1, 1, 1, 1], [1, 1, 2, 2, 3, 3], [1, 1, 0, 0, 0, 0]]\n",
      "[[1, 1, 1, 1, 1, 1], [1, 1, 2, 2, 3, 3], [1, 1, 2, 0, 0, 0]]\n",
      "[[1, 1, 1, 1, 1, 1], [1, 1, 2, 2, 3, 3], [1, 1, 2, 2, 0, 0]]\n",
      "[[1, 1, 1, 1, 1, 1], [1, 1, 2, 2, 3, 3], [1, 1, 2, 2, 3, 0]]\n",
      "[[1, 1, 1, 1, 1, 1], [1, 1, 2, 2, 3, 3], [1, 1, 2, 2, 3, 4]]\n"
     ]
    },
    {
     "data": {
      "text/plain": [
       "4"
      ]
     },
     "execution_count": 39,
     "metadata": {},
     "output_type": "execute_result"
    }
   ],
   "source": [
    "Solution().change(amount = 5, coins = [1,2,5])"
   ]
  },
  {
   "cell_type": "code",
   "execution_count": 41,
   "id": "7a8e32dc",
   "metadata": {},
   "outputs": [
    {
     "name": "stdout",
     "output_type": "stream",
     "text": [
      "[[1, 1, 1, 1, 1], [1, 1, 0, 0, 0], [1, 0, 0, 0, 0]]\n",
      "[[1, 1, 1, 1, 1], [1, 1, 2, 0, 0], [1, 0, 0, 0, 0]]\n",
      "[[1, 1, 1, 1, 1], [1, 1, 2, 2, 0], [1, 0, 0, 0, 0]]\n",
      "[[1, 1, 1, 1, 1], [1, 1, 2, 2, 3], [1, 0, 0, 0, 0]]\n",
      "[[1, 1, 1, 1, 1], [1, 1, 2, 2, 3], [1, 1, 0, 0, 0]]\n",
      "[[1, 1, 1, 1, 1], [1, 1, 2, 2, 3], [1, 1, 2, 0, 0]]\n",
      "[[1, 1, 1, 1, 1], [1, 1, 2, 2, 3], [1, 1, 2, 3, 0]]\n",
      "[[1, 1, 1, 1, 1], [1, 1, 2, 2, 3], [1, 1, 2, 3, 4]]\n"
     ]
    },
    {
     "data": {
      "text/plain": [
       "4"
      ]
     },
     "execution_count": 41,
     "metadata": {},
     "output_type": "execute_result"
    }
   ],
   "source": [
    "Solution().change(coins = [1,2,3], amount = 4)"
   ]
  },
  {
   "cell_type": "code",
   "execution_count": null,
   "id": "e1e7c27d",
   "metadata": {},
   "outputs": [],
   "source": []
  }
 ],
 "metadata": {
  "kernelspec": {
   "display_name": "3.11.11",
   "language": "python",
   "name": "python3"
  },
  "language_info": {
   "codemirror_mode": {
    "name": "ipython",
    "version": 3
   },
   "file_extension": ".py",
   "mimetype": "text/x-python",
   "name": "python",
   "nbconvert_exporter": "python",
   "pygments_lexer": "ipython3",
   "version": "3.11.11"
  }
 },
 "nbformat": 4,
 "nbformat_minor": 5
}
