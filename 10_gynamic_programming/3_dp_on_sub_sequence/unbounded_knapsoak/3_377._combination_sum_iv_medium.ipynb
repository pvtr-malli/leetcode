{
 "cells": [
  {
   "cell_type": "markdown",
   "id": "afd4b8d8",
   "metadata": {},
   "source": [
    "Given an array of distinct integers nums and a target integer target, return the number of possible combinations that add up to target.\n",
    "\n",
    "The test cases are generated so that the answer can fit in a 32-bit integer.\n",
    "\n",
    " \n",
    "\n",
    "Example 1:\n",
    "\n",
    "Input: nums = [1,2,3], target = 4\n",
    "Output: 7\n",
    "Explanation:\n",
    "The possible combination ways are:\n",
    "(1, 1, 1, 1)\n",
    "(1, 1, 2)\n",
    "(1, 2, 1)\n",
    "(1, 3)\n",
    "(2, 1, 1)\n",
    "(2, 2)\n",
    "(3, 1)\n",
    "Note that different sequences are counted as different combinations.\n",
    "Example 2:\n",
    "\n",
    "Input: nums = [9], target = 3\n",
    "Output: 0"
   ]
  },
  {
   "cell_type": "code",
   "execution_count": null,
   "id": "598152a0",
   "metadata": {},
   "outputs": [],
   "source": [
    "class Solution:\n",
    "    def combinationSum4(self, nums: list[int], target: int) -> int:\n",
    "        "
   ]
  },
  {
   "cell_type": "code",
   "execution_count": 10,
   "id": "b824a116",
   "metadata": {},
   "outputs": [],
   "source": [
    "class Solution:\n",
    "    def combinationSum4(self, nums: list[int], target: int) -> int:\n",
    "        return self.rec(nums, target)\n",
    "    \n",
    "    def rec(self, nums: list[int], target: int) -> int:\n",
    "        if target == 0:\n",
    "            return 1  # Found a valid combination\n",
    "        \n",
    "        total = 0\n",
    "        for i in range(len(nums)): # you have to figure out the things from different order.\n",
    "            # so you have to try all the index values for the current target. \n",
    "            # they are not asking the combination - so just count.\n",
    "            # Take nums[i]\n",
    "            if  nums[i] <= target: # just prevent the negative case.\n",
    "                total += self.rec(nums, target - nums[i])\n",
    "\n",
    "        return total\n"
   ]
  },
  {
   "cell_type": "code",
   "execution_count": 11,
   "id": "6b6d55d0",
   "metadata": {},
   "outputs": [
    {
     "name": "stdout",
     "output_type": "stream",
     "text": [
      "7\n"
     ]
    }
   ],
   "source": [
    "print(Solution().combinationSum4([1,2,3], 4))\n"
   ]
  },
  {
   "cell_type": "code",
   "execution_count": null,
   "id": "9e3015ca",
   "metadata": {},
   "outputs": [],
   "source": [
    "class Solution:\n",
    "    def combinationSum4(self, nums: list[int], target: int) -> int:\n",
    "        memo = [-1] * (target + 1)\n",
    "\n",
    "        # memo[i] = upto this index, who mu\n",
    "        return self.rec(nums, target, memo)\n",
    "    \n",
    "    def rec(self, nums, target, memo):\n",
    "        if target == 0:\n",
    "            return 1\n",
    "\n",
    "        if memo[target] != -1:\n",
    "            return memo[target]\n",
    "        \n",
    "        total = 0\n",
    "        for num in nums:\n",
    "            if  nums[i] <= target: # just prevent the negative case.\n",
    "                total += self.rec(nums, target - num, memo)\n",
    "        \n",
    "        memo[target] = total\n",
    "        return total\n",
    "\n",
    "\n",
    "# TC -  O(n * target)\n",
    "# sc - O(target)\n",
    "\n",
    "# i\tmemo[i]\tMeaning\n",
    "# 0\t1\tOne way to make 0: use nothing\n",
    "# 1\t1\t[1]  - one way to make target 1.\n",
    "# 2\t2\t[1,1], [2] - 2 way to make target 2.\n",
    "# 3\t4\t[1,1,1], [1,2], [2,1], [3]\n",
    "# 4\t7\t[1,1,1,1], [1,1,2], [1,2,1], [2,1,1], [2,2], [1,3], [3,1]"
   ]
  },
  {
   "cell_type": "code",
   "execution_count": 12,
   "id": "1c5c6ec3",
   "metadata": {},
   "outputs": [],
   "source": [
    "class Solution:\n",
    "    def combinationSum4(self, nums: list[int], target: int) -> int:\n",
    "        dp = [0] * (target + 1)\n",
    "        dp[0] = 1  # One way to make sum 0: use nothing\n",
    "\n",
    "        for t in range(1, target + 1):\n",
    "            for num in nums:\n",
    "                if t - num >= 0:\n",
    "                    dp[t] += dp[t - num]\n",
    "\n",
    "        return dp[target]\n"
   ]
  },
  {
   "cell_type": "code",
   "execution_count": null,
   "id": "fa9ac060",
   "metadata": {},
   "outputs": [],
   "source": []
  }
 ],
 "metadata": {
  "kernelspec": {
   "display_name": "3.11.11",
   "language": "python",
   "name": "python3"
  },
  "language_info": {
   "codemirror_mode": {
    "name": "ipython",
    "version": 3
   },
   "file_extension": ".py",
   "mimetype": "text/x-python",
   "name": "python",
   "nbconvert_exporter": "python",
   "pygments_lexer": "ipython3",
   "version": "3.11.11"
  }
 },
 "nbformat": 4,
 "nbformat_minor": 5
}
