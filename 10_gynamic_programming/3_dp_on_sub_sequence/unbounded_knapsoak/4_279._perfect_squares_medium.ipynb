{
 "cells": [
  {
   "cell_type": "markdown",
   "id": "fe09e084",
   "metadata": {},
   "source": [
    "Given an integer n, return the least number of perfect square numbers that sum to n.\n",
    "\n",
    "A perfect square is an integer that is the square of an integer; in other words, it is the product of some integer with itself. For example, 1, 4, 9, and 16 are perfect squares while 3 and 11 are not.\n",
    "\n",
    " \n",
    "\n",
    "Example 1:\n",
    "\n",
    "Input: n = 12\n",
    "Output: 3\n",
    "Explanation: 12 = 4 + 4 + 4.\n",
    "Example 2:\n",
    "\n",
    "Input: n = 13\n",
    "Output: 2\n",
    "Explanation: 13 = 4 + 9.\n",
    " \n",
    "\n",
    "Constraints:\n",
    "\n",
    "1 <= n <= 104"
   ]
  },
  {
   "cell_type": "code",
   "execution_count": null,
   "id": "9bc4d8ac",
   "metadata": {},
   "outputs": [],
   "source": [
    "import sys\n",
    "import math \n",
    "\n",
    "class Solution:\n",
    "    def numSquares(self, n: int) -> int:\n",
    "        # generate the search space.\n",
    "        end = int(math.sqrt(n))  # The end element of the search space can be the sqrt(n)\n",
    "        # because a perfect square should be less than n. because if it goes more than n - you can't count it.\n",
    "        # so how to find the perfect squqares less than n. \n",
    "\n",
    "        # ex: 12 -- per.sqr = 1,4,9 only \n",
    "        # they are nothing but the sq of 1,2,3. \n",
    "\n",
    "        # so you have to find the end 3. that is nothing but he sqrt(n) -- because upto this value only\n",
    "        # we can search for.\n",
    "        \n",
    "        search_space = []\n",
    "        for i in range(1, end + 1):\n",
    "            search_space.append(i*i)\n",
    "\n",
    "        # This is exactly like the coin change problem.\n",
    "        num_of_coins = self.fin_min_coin_change(search_space, n, len(search_space) - 1)\n",
    "        print(\"amounf\", n, num_of_coins)\n",
    "        if num_of_coins != sys.maxsize:\n",
    "            return num_of_coins\n",
    "        else:\n",
    "            return -1\n",
    "\n",
    "    def fin_min_coin_change(self, coins, amount, ind):\n",
    "        if ind == 0:\n",
    "            if amount % coins[0] == 0:\n",
    "                return amount // coins[0]\n",
    "            return sys.maxsize        \n",
    "        not_take = self.fin_min_coin_change(coins, amount, ind -1)\n",
    "\n",
    "        take = sys.maxsize\n",
    "        if coins[ind] <= amount:\n",
    "            change = amount // coins[ind]\n",
    "            print(\"change\", change)\n",
    "            remaining_amount = amount - (coins[ind] * change)\n",
    "            take =  change + self.fin_min_coin_change(coins, remaining_amount, ind -1)\n",
    "            \n",
    "        return min(take, not_take)"
   ]
  },
  {
   "cell_type": "code",
   "execution_count": 4,
   "id": "26e9a406",
   "metadata": {},
   "outputs": [
    {
     "name": "stdout",
     "output_type": "stream",
     "text": [
      "2 12\n",
      "1 12\n",
      "0 12\n",
      "change 3\n",
      "0 0\n",
      "change 1\n",
      "1 3\n",
      "0 3\n",
      "amounf 12 3\n"
     ]
    },
    {
     "data": {
      "text/plain": [
       "3"
      ]
     },
     "execution_count": 4,
     "metadata": {},
     "output_type": "execute_result"
    }
   ],
   "source": [
    "Solution().numSquares(12)"
   ]
  },
  {
   "cell_type": "code",
   "execution_count": 5,
   "id": "6f1ae528",
   "metadata": {},
   "outputs": [
    {
     "name": "stdout",
     "output_type": "stream",
     "text": [
      "2 13\n",
      "1 13\n",
      "0 13\n",
      "change 3\n",
      "0 1\n",
      "change 1\n",
      "1 4\n",
      "0 4\n",
      "change 1\n",
      "0 0\n",
      "amounf 13 2\n"
     ]
    },
    {
     "data": {
      "text/plain": [
       "2"
      ]
     },
     "execution_count": 5,
     "metadata": {},
     "output_type": "execute_result"
    }
   ],
   "source": [
    "Solution().numSquares(n = 13)"
   ]
  },
  {
   "cell_type": "code",
   "execution_count": 6,
   "id": "e47d2cbd",
   "metadata": {},
   "outputs": [],
   "source": [
    "import sys\n",
    "class Solution:\n",
    "    def numSquares(self, n: int) -> int:\n",
    "        \n",
    "        \n",
    "\n",
    "        end = int(math.sqrt(n))  # The end element of the search space can be the sqrt(n)\n",
    "        # because a perfect square should be less than n. because if it goes more than n - you can't count it.\n",
    "        # so how to find the perfect squqares less than n. \n",
    "\n",
    "        # ex: 12 -- per.sqr = 1,4,9 only \n",
    "        # they are nothing but the sq of 1,2,3. \n",
    "\n",
    "        # so you have to find the end 3. that is nothing but he sqrt(n) -- because upto this value only\n",
    "        # we can search for.\n",
    "        \n",
    "        search_space = []\n",
    "        for i in range(1, end + 1):\n",
    "            search_space.append(i*i)\n",
    "\n",
    "\n",
    "        # creating the dp.\n",
    "        dp = [[-1] * (n + 1) for _ in range(len(search_space))]\n",
    "\n",
    "        num_of_coins = self.fin_min_coin_change(search_space, n, len(search_space) - 1, dp) \n",
    "        if num_of_coins != sys.maxsize:\n",
    "            return num_of_coins\n",
    "        else:\n",
    "            return -1\n",
    "    \n",
    "    def fin_min_coin_change(self, coins, amount, ind, dp):\n",
    "        if ind == 0:\n",
    "            if amount % coins[0] == 0:\n",
    "                return amount // coins[0]\n",
    "            return sys.maxsize  \n",
    "        \n",
    "        if dp[ind][amount] != -1:\n",
    "            return dp[ind][amount]\n",
    "        \n",
    "        not_take = self.fin_min_coin_change(coins, amount, ind -1, dp)\n",
    "\n",
    "        take = sys.maxsize\n",
    "        if coins[ind] <= amount:\n",
    "            change = amount // coins[ind]\n",
    "            remaining_amount = amount - (coins[ind] * change)\n",
    "            take =  change + self.fin_min_coin_change(coins, remaining_amount, ind -1, dp)\n",
    "            \n",
    "        dp[ind][amount] =  min(take, not_take)\n",
    "        return dp[ind][amount]\n"
   ]
  },
  {
   "cell_type": "code",
   "execution_count": 7,
   "id": "8860236e",
   "metadata": {},
   "outputs": [
    {
     "data": {
      "text/plain": [
       "3"
      ]
     },
     "execution_count": 7,
     "metadata": {},
     "output_type": "execute_result"
    }
   ],
   "source": [
    "Solution().numSquares(12)"
   ]
  },
  {
   "cell_type": "code",
   "execution_count": 8,
   "id": "b160e752",
   "metadata": {},
   "outputs": [
    {
     "data": {
      "text/plain": [
       "2"
      ]
     },
     "execution_count": 8,
     "metadata": {},
     "output_type": "execute_result"
    }
   ],
   "source": [
    "Solution().numSquares(13)"
   ]
  },
  {
   "cell_type": "code",
   "execution_count": null,
   "id": "ef170a6e",
   "metadata": {},
   "outputs": [],
   "source": [
    "import sys\n",
    "class Solution:\n",
    "    def numSquares(self, n: int) -> int:\n",
    "        end = int(math.sqrt(n))  # The end element of the search space can be the sqrt(n)\n",
    "        # because a perfect square should be less than n. because if it goes more than n - you can't count it.\n",
    "        # so how to find the perfect squqares less than n. \n",
    "\n",
    "        # ex: 12 -- per.sqr = 1,4,9 only \n",
    "        # they are nothing but the sq of 1,2,3. \n",
    "\n",
    "        # so you have to find the end 3. that is nothing but he sqrt(n) -- because upto this value only\n",
    "        # we can search for.\n",
    "        \n",
    "        search_space = []\n",
    "        for i in range(1, end + 1):\n",
    "            search_space.append(i*i)\n",
    "\n",
    "\n",
    "        # creating the dp.\n",
    "        dp = [[0] * (n + 1) for _ in range(len(search_space))]\n",
    "\n",
    "        # I have the i- 1 in the code -- so have to have the answ for the i - 1 th row while doing the ith row.\n",
    "\n",
    "        # fill in the base case: \n",
    "        # always try to keep the base case for 0, so it will be very helpful in converting to tabulaion.\n",
    "        \n",
    "        for t in range(n + 1):\n",
    "            # will the value for the division if the value is divisible by that arr[0] value.\n",
    "            if t % search_space[0] == 0:\n",
    "                dp[0][t] = t // search_space[0]\n",
    "            else:\n",
    "                dp[0][t] = sys.maxsize\n",
    "\n",
    "        for ind in range(1, len(search_space)):\n",
    "            for tar in range(1, n + 1):\n",
    "                not_take = dp[ind - 1][tar]\n",
    "\n",
    "                take = sys.maxsize\n",
    "                if search_space[ind] <= tar:\n",
    "\n",
    "                    take = 1 + dp[ind][tar - search_space[ind]]    # Taking as much as coins possible is making this problem greedy.\n",
    "                    # consider taking it only once and dont increase the ind , let the recursion do the rest.\n",
    "                    \n",
    "                dp[ind][tar] =  min(take, not_take)\n",
    "        # return dp[ind][tar]\n",
    "        if dp[-1][-1] != sys.maxsize:\n",
    "            return dp[-1][-1]\n",
    "        else:\n",
    "            return -1\n",
    "    \n"
   ]
  },
  {
   "cell_type": "code",
   "execution_count": 23,
   "id": "eba28649",
   "metadata": {},
   "outputs": [
    {
     "name": "stdout",
     "output_type": "stream",
     "text": [
      "[[0, 1, 2, 3, 4, 5, 6, 7, 8, 9, 10, 11, 12], [0, 1, 2, 3, 1, 2, 3, 4, 2, 3, 4, 5, 3], [0, 0, 0, 0, 0, 0, 0, 0, 0, 0, 0, 0, 0]]\n",
      "[[0, 1, 2, 3, 4, 5, 6, 7, 8, 9, 10, 11, 12], [0, 1, 2, 3, 1, 2, 3, 4, 2, 3, 4, 5, 3], [0, 1, 2, 3, 1, 2, 3, 4, 2, 1, 2, 3, 3]]\n"
     ]
    },
    {
     "data": {
      "text/plain": [
       "3"
      ]
     },
     "execution_count": 23,
     "metadata": {},
     "output_type": "execute_result"
    }
   ],
   "source": [
    "Solution().numSquares(12)"
   ]
  },
  {
   "cell_type": "code",
   "execution_count": 24,
   "id": "5ba42022",
   "metadata": {},
   "outputs": [
    {
     "name": "stdout",
     "output_type": "stream",
     "text": [
      "[[0, 1, 2, 3, 4, 5, 6, 7, 8, 9, 10, 11, 12, 13], [0, 1, 2, 3, 1, 2, 3, 4, 2, 3, 4, 5, 3, 4], [0, 0, 0, 0, 0, 0, 0, 0, 0, 0, 0, 0, 0, 0]]\n",
      "[[0, 1, 2, 3, 4, 5, 6, 7, 8, 9, 10, 11, 12, 13], [0, 1, 2, 3, 1, 2, 3, 4, 2, 3, 4, 5, 3, 4], [0, 1, 2, 3, 1, 2, 3, 4, 2, 1, 2, 3, 3, 2]]\n"
     ]
    },
    {
     "data": {
      "text/plain": [
       "2"
      ]
     },
     "execution_count": 24,
     "metadata": {},
     "output_type": "execute_result"
    }
   ],
   "source": [
    "Solution().numSquares(13)"
   ]
  },
  {
   "cell_type": "code",
   "execution_count": null,
   "id": "3245a7f9",
   "metadata": {},
   "outputs": [],
   "source": []
  }
 ],
 "metadata": {
  "kernelspec": {
   "display_name": "3.11.11",
   "language": "python",
   "name": "python3"
  },
  "language_info": {
   "codemirror_mode": {
    "name": "ipython",
    "version": 3
   },
   "file_extension": ".py",
   "mimetype": "text/x-python",
   "name": "python",
   "nbconvert_exporter": "python",
   "pygments_lexer": "ipython3",
   "version": "3.11.11"
  }
 },
 "nbformat": 4,
 "nbformat_minor": 5
}
