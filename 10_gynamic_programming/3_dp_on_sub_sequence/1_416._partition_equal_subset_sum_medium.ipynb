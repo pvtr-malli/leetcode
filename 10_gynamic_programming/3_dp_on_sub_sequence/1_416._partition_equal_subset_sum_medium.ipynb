{
 "cells": [
  {
   "cell_type": "markdown",
   "id": "75886510",
   "metadata": {},
   "source": [
    "\n",
    "Given an integer array nums, return true if you can partition the array into two subsets such that the sum of the elements in both subsets is equal or false otherwise.\n",
    "\n",
    " \n",
    "\n",
    "Example 1:\n",
    "\n",
    "Input: nums = [1,5,11,5]\n",
    "Output: true\n",
    "Explanation: The array can be partitioned as [1, 5, 5] and [11].\n",
    "Example 2:\n",
    "\n",
    "Input: nums = [1,2,3,5]\n",
    "Output: false\n",
    "Explanation: The array cannot be partitioned into equal sum subsets.\n",
    " \n",
    "\n",
    "Constraints:\n",
    "\n",
    "1 <= nums.length <= 200\n",
    "1 <= nums[i] <= 100"
   ]
  },
  {
   "cell_type": "code",
   "execution_count": 9,
   "id": "3c22a1b3",
   "metadata": {},
   "outputs": [],
   "source": [
    "\n",
    "\n",
    "class Solution:\n",
    "    def canPartition(self, nums: list[int]) -> bool:\n",
    "        # if the total sum is odd,we cant find this.\n",
    "        total = sum(nums)\n",
    "        if total % 2 == 1:\n",
    "            return False\n",
    "        # If not, then simply we are gonna find the subset with sum total // 2. \n",
    "        # because s1 + s2 = total and s1 and s2 is same then => s = total // 2.\n",
    "        # so if there is a subset with total // 2, then there will be a subset which is sum is == total // 2 remaining int he array.\n",
    "        n = len(nums)\n",
    "        return self.find_subset_sum(nums, n-1, n, total // 2)\n",
    "    \n",
    "    def find_subset_sum(self, arr, i, n, target):\n",
    "        if i == 0:\n",
    "            if arr[i] == target:\n",
    "                return True\n",
    "            return False \n",
    "        \n",
    "        not_pick = self.find_subset_sum(arr, i-1, n, target)\n",
    "        pick = False \n",
    "        if arr[i] <= target:\n",
    "            pick = self.find_subset_sum(arr, i-1, n, target - arr[i])\n",
    "\n",
    "        return (pick or not_pick)"
   ]
  },
  {
   "cell_type": "code",
   "execution_count": 10,
   "id": "c57abd19",
   "metadata": {},
   "outputs": [
    {
     "data": {
      "text/plain": [
       "True"
      ]
     },
     "execution_count": 10,
     "metadata": {},
     "output_type": "execute_result"
    }
   ],
   "source": [
    "Solution().canPartition([1,5,11,5])"
   ]
  },
  {
   "cell_type": "code",
   "execution_count": 11,
   "id": "87b82b75",
   "metadata": {},
   "outputs": [
    {
     "data": {
      "text/plain": [
       "False"
      ]
     },
     "execution_count": 11,
     "metadata": {},
     "output_type": "execute_result"
    }
   ],
   "source": [
    "Solution().canPartition([1,2,3,5])"
   ]
  },
  {
   "cell_type": "code",
   "execution_count": 17,
   "id": "e455ca63",
   "metadata": {},
   "outputs": [],
   "source": [
    "# memorization, \n",
    "# we are dealing with the index and the target.\n",
    "\n",
    "class Solution:\n",
    "    def canPartition(self, nums: list[int]) -> bool:\n",
    "        # if the total sum is odd,we cant find this.\n",
    "        total = sum(nums)\n",
    "        if total % 2 == 1:\n",
    "            return False\n",
    "        # If not, then simply we are gonna find the subset with sum total // 2. \n",
    "        # because s1 + s2 = total and s1 and s2 is same then => s = total // 2.\n",
    "        # so if there is a subset with total // 2, then there will be a subset which is sum is == total // 2 remaining int he array.\n",
    "        dp = [[0] * ((total // 2) + 1) for _ in range(len(nums))]\n",
    "        # Update the base case:\n",
    "        dp[0][total//2] = True\n",
    "        for row in range(len(nums)):\n",
    "            dp[row][0] = True\n",
    "        return self.find_subset_sum(nums, len(nums)-1,dp, total // 2)\n",
    "    \n",
    "    def find_subset_sum(self, arr, i, dp, target):\n",
    "        if i == 0:\n",
    "            if arr[0] == target:\n",
    "                return True\n",
    "            return False \n",
    "        \n",
    "        if dp[i][target] != 0:\n",
    "            return dp[i][target]\n",
    "        \n",
    "        not_pick = self.find_subset_sum(arr, i-1, dp, target)\n",
    "        pick = False \n",
    "        if arr[i] <= target:\n",
    "            pick = self.find_subset_sum(arr, i-1, dp, target - arr[i])\n",
    "\n",
    "        dp[i][target] = (pick or not_pick)\n",
    "        return dp[i][target]"
   ]
  },
  {
   "cell_type": "code",
   "execution_count": 18,
   "id": "23e7cdfd",
   "metadata": {},
   "outputs": [
    {
     "data": {
      "text/plain": [
       "True"
      ]
     },
     "execution_count": 18,
     "metadata": {},
     "output_type": "execute_result"
    }
   ],
   "source": [
    "Solution().canPartition([1,5,11,5])"
   ]
  },
  {
   "cell_type": "code",
   "execution_count": null,
   "id": "e12e32fd",
   "metadata": {},
   "outputs": [],
   "source": [
    "# Tabulation: base -> ans.\n",
    "class Solution:\n",
    "    def canPartition(self, nums: list[int]) -> bool:\n",
    "        # if the total sum is odd,we cant find this.\n",
    "        if len(nums) == 1:\n",
    "            return False\n",
    "        total = sum(nums)\n",
    "        if total % 2 == 1:\n",
    "            return False\n",
    "        # If not, then simply we are gonna find the subset with sum total // 2. \n",
    "        # because s1 + s2 = total and s1 and s2 is same then => s = total // 2.\n",
    "        # so if there is a subset with total // 2, then there will be a subset which is sum is == total // 2 remaining int he array.\n",
    "        n = len(nums)\n",
    "        target = total // 2\n",
    "        dp = [[False] * (target + 1) for _ in range(n)]\n",
    "        # Update the base case:\n",
    "        dp[0][target] = True\n",
    "        for row in range(n):\n",
    "            dp[row][0] = True\n",
    "\n",
    "        for i in range(0, n):\n",
    "            for tar in range(1, target + 1):                \n",
    "                not_pick = dp[i-1][tar]\n",
    "                pick = False \n",
    "                if nums[i] <= tar:\n",
    "                    pick = dp[i-1][tar - nums[i]]\n",
    "\n",
    "                dp[i][tar] = (pick or not_pick)\n",
    "        return dp[-1][-1]"
   ]
  },
  {
   "cell_type": "code",
   "execution_count": 41,
   "id": "487473c5",
   "metadata": {},
   "outputs": [
    {
     "name": "stdout",
     "output_type": "stream",
     "text": [
      "0 1\n",
      "[[True, True, False, False, False, False, False, False, False, False, False, True], [True, False, False, False, False, False, False, False, False, False, False, False], [True, False, False, False, False, False, False, False, False, False, False, False], [True, False, False, False, False, False, False, False, False, False, False, False]]\n",
      "0 2\n",
      "[[True, True, False, False, False, False, False, False, False, False, False, True], [True, False, False, False, False, False, False, False, False, False, False, False], [True, False, False, False, False, False, False, False, False, False, False, False], [True, False, False, False, False, False, False, False, False, False, False, False]]\n",
      "0 3\n",
      "[[True, True, False, False, False, False, False, False, False, False, False, True], [True, False, False, False, False, False, False, False, False, False, False, False], [True, False, False, False, False, False, False, False, False, False, False, False], [True, False, False, False, False, False, False, False, False, False, False, False]]\n",
      "0 4\n",
      "[[True, True, False, False, False, False, False, False, False, False, False, True], [True, False, False, False, False, False, False, False, False, False, False, False], [True, False, False, False, False, False, False, False, False, False, False, False], [True, False, False, False, False, False, False, False, False, False, False, False]]\n",
      "0 5\n",
      "[[True, True, False, False, False, False, False, False, False, False, False, True], [True, False, False, False, False, False, False, False, False, False, False, False], [True, False, False, False, False, False, False, False, False, False, False, False], [True, False, False, False, False, False, False, False, False, False, False, False]]\n",
      "0 6\n",
      "[[True, True, False, False, False, False, False, False, False, False, False, True], [True, False, False, False, False, False, False, False, False, False, False, False], [True, False, False, False, False, False, False, False, False, False, False, False], [True, False, False, False, False, False, False, False, False, False, False, False]]\n",
      "0 7\n",
      "[[True, True, False, False, False, False, False, False, False, False, False, True], [True, False, False, False, False, False, False, False, False, False, False, False], [True, False, False, False, False, False, False, False, False, False, False, False], [True, False, False, False, False, False, False, False, False, False, False, False]]\n",
      "0 8\n",
      "[[True, True, False, False, False, False, False, False, False, False, False, True], [True, False, False, False, False, False, False, False, False, False, False, False], [True, False, False, False, False, False, False, False, False, False, False, False], [True, False, False, False, False, False, False, False, False, False, False, False]]\n",
      "0 9\n",
      "[[True, True, False, False, False, False, False, False, False, False, False, True], [True, False, False, False, False, False, False, False, False, False, False, False], [True, False, False, False, False, False, False, False, False, False, False, False], [True, False, False, False, False, False, False, False, False, False, False, False]]\n",
      "0 10\n",
      "[[True, True, False, False, False, False, False, False, False, False, False, True], [True, False, False, False, False, False, False, False, False, False, False, False], [True, False, False, False, False, False, False, False, False, False, False, False], [True, False, False, False, False, False, False, False, False, False, False, False]]\n",
      "0 11\n",
      "[[True, True, False, False, False, False, False, False, False, False, False, False], [True, False, False, False, False, False, False, False, False, False, False, False], [True, False, False, False, False, False, False, False, False, False, False, False], [True, False, False, False, False, False, False, False, False, False, False, False]]\n",
      "1 1\n",
      "[[True, True, False, False, False, False, False, False, False, False, False, False], [True, True, False, False, False, False, False, False, False, False, False, False], [True, False, False, False, False, False, False, False, False, False, False, False], [True, False, False, False, False, False, False, False, False, False, False, False]]\n",
      "1 2\n",
      "[[True, True, False, False, False, False, False, False, False, False, False, False], [True, True, False, False, False, False, False, False, False, False, False, False], [True, False, False, False, False, False, False, False, False, False, False, False], [True, False, False, False, False, False, False, False, False, False, False, False]]\n",
      "1 3\n",
      "[[True, True, False, False, False, False, False, False, False, False, False, False], [True, True, False, False, False, False, False, False, False, False, False, False], [True, False, False, False, False, False, False, False, False, False, False, False], [True, False, False, False, False, False, False, False, False, False, False, False]]\n",
      "1 4\n",
      "[[True, True, False, False, False, False, False, False, False, False, False, False], [True, True, False, False, False, False, False, False, False, False, False, False], [True, False, False, False, False, False, False, False, False, False, False, False], [True, False, False, False, False, False, False, False, False, False, False, False]]\n",
      "1 5\n",
      "[[True, True, False, False, False, False, False, False, False, False, False, False], [True, True, False, False, False, True, False, False, False, False, False, False], [True, False, False, False, False, False, False, False, False, False, False, False], [True, False, False, False, False, False, False, False, False, False, False, False]]\n",
      "1 6\n",
      "[[True, True, False, False, False, False, False, False, False, False, False, False], [True, True, False, False, False, True, True, False, False, False, False, False], [True, False, False, False, False, False, False, False, False, False, False, False], [True, False, False, False, False, False, False, False, False, False, False, False]]\n",
      "1 7\n",
      "[[True, True, False, False, False, False, False, False, False, False, False, False], [True, True, False, False, False, True, True, False, False, False, False, False], [True, False, False, False, False, False, False, False, False, False, False, False], [True, False, False, False, False, False, False, False, False, False, False, False]]\n",
      "1 8\n",
      "[[True, True, False, False, False, False, False, False, False, False, False, False], [True, True, False, False, False, True, True, False, False, False, False, False], [True, False, False, False, False, False, False, False, False, False, False, False], [True, False, False, False, False, False, False, False, False, False, False, False]]\n",
      "1 9\n",
      "[[True, True, False, False, False, False, False, False, False, False, False, False], [True, True, False, False, False, True, True, False, False, False, False, False], [True, False, False, False, False, False, False, False, False, False, False, False], [True, False, False, False, False, False, False, False, False, False, False, False]]\n",
      "1 10\n",
      "[[True, True, False, False, False, False, False, False, False, False, False, False], [True, True, False, False, False, True, True, False, False, False, False, False], [True, False, False, False, False, False, False, False, False, False, False, False], [True, False, False, False, False, False, False, False, False, False, False, False]]\n",
      "1 11\n",
      "[[True, True, False, False, False, False, False, False, False, False, False, False], [True, True, False, False, False, True, True, False, False, False, False, False], [True, False, False, False, False, False, False, False, False, False, False, False], [True, False, False, False, False, False, False, False, False, False, False, False]]\n",
      "2 1\n",
      "[[True, True, False, False, False, False, False, False, False, False, False, False], [True, True, False, False, False, True, True, False, False, False, False, False], [True, True, False, False, False, False, False, False, False, False, False, False], [True, False, False, False, False, False, False, False, False, False, False, False]]\n",
      "2 2\n",
      "[[True, True, False, False, False, False, False, False, False, False, False, False], [True, True, False, False, False, True, True, False, False, False, False, False], [True, True, False, False, False, False, False, False, False, False, False, False], [True, False, False, False, False, False, False, False, False, False, False, False]]\n",
      "2 3\n",
      "[[True, True, False, False, False, False, False, False, False, False, False, False], [True, True, False, False, False, True, True, False, False, False, False, False], [True, True, False, False, False, False, False, False, False, False, False, False], [True, False, False, False, False, False, False, False, False, False, False, False]]\n",
      "2 4\n",
      "[[True, True, False, False, False, False, False, False, False, False, False, False], [True, True, False, False, False, True, True, False, False, False, False, False], [True, True, False, False, False, False, False, False, False, False, False, False], [True, False, False, False, False, False, False, False, False, False, False, False]]\n",
      "2 5\n",
      "[[True, True, False, False, False, False, False, False, False, False, False, False], [True, True, False, False, False, True, True, False, False, False, False, False], [True, True, False, False, False, True, False, False, False, False, False, False], [True, False, False, False, False, False, False, False, False, False, False, False]]\n",
      "2 6\n",
      "[[True, True, False, False, False, False, False, False, False, False, False, False], [True, True, False, False, False, True, True, False, False, False, False, False], [True, True, False, False, False, True, True, False, False, False, False, False], [True, False, False, False, False, False, False, False, False, False, False, False]]\n",
      "2 7\n",
      "[[True, True, False, False, False, False, False, False, False, False, False, False], [True, True, False, False, False, True, True, False, False, False, False, False], [True, True, False, False, False, True, True, False, False, False, False, False], [True, False, False, False, False, False, False, False, False, False, False, False]]\n",
      "2 8\n",
      "[[True, True, False, False, False, False, False, False, False, False, False, False], [True, True, False, False, False, True, True, False, False, False, False, False], [True, True, False, False, False, True, True, False, False, False, False, False], [True, False, False, False, False, False, False, False, False, False, False, False]]\n",
      "2 9\n",
      "[[True, True, False, False, False, False, False, False, False, False, False, False], [True, True, False, False, False, True, True, False, False, False, False, False], [True, True, False, False, False, True, True, False, False, False, False, False], [True, False, False, False, False, False, False, False, False, False, False, False]]\n",
      "2 10\n",
      "[[True, True, False, False, False, False, False, False, False, False, False, False], [True, True, False, False, False, True, True, False, False, False, False, False], [True, True, False, False, False, True, True, False, False, False, False, False], [True, False, False, False, False, False, False, False, False, False, False, False]]\n",
      "2 11\n",
      "[[True, True, False, False, False, False, False, False, False, False, False, False], [True, True, False, False, False, True, True, False, False, False, False, False], [True, True, False, False, False, True, True, False, False, False, False, True], [True, False, False, False, False, False, False, False, False, False, False, False]]\n",
      "3 1\n",
      "[[True, True, False, False, False, False, False, False, False, False, False, False], [True, True, False, False, False, True, True, False, False, False, False, False], [True, True, False, False, False, True, True, False, False, False, False, True], [True, True, False, False, False, False, False, False, False, False, False, False]]\n",
      "3 2\n",
      "[[True, True, False, False, False, False, False, False, False, False, False, False], [True, True, False, False, False, True, True, False, False, False, False, False], [True, True, False, False, False, True, True, False, False, False, False, True], [True, True, False, False, False, False, False, False, False, False, False, False]]\n",
      "3 3\n",
      "[[True, True, False, False, False, False, False, False, False, False, False, False], [True, True, False, False, False, True, True, False, False, False, False, False], [True, True, False, False, False, True, True, False, False, False, False, True], [True, True, False, False, False, False, False, False, False, False, False, False]]\n",
      "3 4\n",
      "[[True, True, False, False, False, False, False, False, False, False, False, False], [True, True, False, False, False, True, True, False, False, False, False, False], [True, True, False, False, False, True, True, False, False, False, False, True], [True, True, False, False, False, False, False, False, False, False, False, False]]\n",
      "3 5\n",
      "[[True, True, False, False, False, False, False, False, False, False, False, False], [True, True, False, False, False, True, True, False, False, False, False, False], [True, True, False, False, False, True, True, False, False, False, False, True], [True, True, False, False, False, True, False, False, False, False, False, False]]\n",
      "3 6\n",
      "[[True, True, False, False, False, False, False, False, False, False, False, False], [True, True, False, False, False, True, True, False, False, False, False, False], [True, True, False, False, False, True, True, False, False, False, False, True], [True, True, False, False, False, True, True, False, False, False, False, False]]\n",
      "3 7\n",
      "[[True, True, False, False, False, False, False, False, False, False, False, False], [True, True, False, False, False, True, True, False, False, False, False, False], [True, True, False, False, False, True, True, False, False, False, False, True], [True, True, False, False, False, True, True, False, False, False, False, False]]\n",
      "3 8\n",
      "[[True, True, False, False, False, False, False, False, False, False, False, False], [True, True, False, False, False, True, True, False, False, False, False, False], [True, True, False, False, False, True, True, False, False, False, False, True], [True, True, False, False, False, True, True, False, False, False, False, False]]\n",
      "3 9\n",
      "[[True, True, False, False, False, False, False, False, False, False, False, False], [True, True, False, False, False, True, True, False, False, False, False, False], [True, True, False, False, False, True, True, False, False, False, False, True], [True, True, False, False, False, True, True, False, False, False, False, False]]\n",
      "3 10\n",
      "[[True, True, False, False, False, False, False, False, False, False, False, False], [True, True, False, False, False, True, True, False, False, False, False, False], [True, True, False, False, False, True, True, False, False, False, False, True], [True, True, False, False, False, True, True, False, False, False, True, False]]\n",
      "3 11\n",
      "[[True, True, False, False, False, False, False, False, False, False, False, False], [True, True, False, False, False, True, True, False, False, False, False, False], [True, True, False, False, False, True, True, False, False, False, False, True], [True, True, False, False, False, True, True, False, False, False, True, True]]\n"
     ]
    },
    {
     "data": {
      "text/plain": [
       "True"
      ]
     },
     "execution_count": 41,
     "metadata": {},
     "output_type": "execute_result"
    }
   ],
   "source": [
    "Solution().canPartition([1,5,11,5])\n"
   ]
  },
  {
   "cell_type": "code",
   "execution_count": 42,
   "id": "07464872",
   "metadata": {},
   "outputs": [
    {
     "data": {
      "text/plain": [
       "False"
      ]
     },
     "execution_count": 42,
     "metadata": {},
     "output_type": "execute_result"
    }
   ],
   "source": [
    "Solution().canPartition([1,2,3,5])"
   ]
  },
  {
   "cell_type": "code",
   "execution_count": 43,
   "id": "e7840968",
   "metadata": {},
   "outputs": [
    {
     "name": "stdout",
     "output_type": "stream",
     "text": [
      "0 1\n",
      "[[True, True, False, False, False, False, True], [True, False, False, False, False, False, False], [True, False, False, False, False, False, False], [True, False, False, False, False, False, False], [True, False, False, False, False, False, False]]\n",
      "0 2\n",
      "[[True, True, False, False, False, False, True], [True, False, False, False, False, False, False], [True, False, False, False, False, False, False], [True, False, False, False, False, False, False], [True, False, False, False, False, False, False]]\n",
      "0 3\n",
      "[[True, True, False, False, False, False, True], [True, False, False, False, False, False, False], [True, False, False, False, False, False, False], [True, False, False, False, False, False, False], [True, False, False, False, False, False, False]]\n",
      "0 4\n",
      "[[True, True, False, False, False, False, True], [True, False, False, False, False, False, False], [True, False, False, False, False, False, False], [True, False, False, False, False, False, False], [True, False, False, False, False, False, False]]\n",
      "0 5\n",
      "[[True, True, False, False, False, False, True], [True, False, False, False, False, False, False], [True, False, False, False, False, False, False], [True, False, False, False, False, False, False], [True, False, False, False, False, False, False]]\n",
      "0 6\n",
      "[[True, True, False, False, False, False, False], [True, False, False, False, False, False, False], [True, False, False, False, False, False, False], [True, False, False, False, False, False, False], [True, False, False, False, False, False, False]]\n",
      "1 1\n",
      "[[True, True, False, False, False, False, False], [True, True, False, False, False, False, False], [True, False, False, False, False, False, False], [True, False, False, False, False, False, False], [True, False, False, False, False, False, False]]\n",
      "1 2\n",
      "[[True, True, False, False, False, False, False], [True, True, True, False, False, False, False], [True, False, False, False, False, False, False], [True, False, False, False, False, False, False], [True, False, False, False, False, False, False]]\n",
      "1 3\n",
      "[[True, True, False, False, False, False, False], [True, True, True, True, False, False, False], [True, False, False, False, False, False, False], [True, False, False, False, False, False, False], [True, False, False, False, False, False, False]]\n",
      "1 4\n",
      "[[True, True, False, False, False, False, False], [True, True, True, True, False, False, False], [True, False, False, False, False, False, False], [True, False, False, False, False, False, False], [True, False, False, False, False, False, False]]\n",
      "1 5\n",
      "[[True, True, False, False, False, False, False], [True, True, True, True, False, False, False], [True, False, False, False, False, False, False], [True, False, False, False, False, False, False], [True, False, False, False, False, False, False]]\n",
      "1 6\n",
      "[[True, True, False, False, False, False, False], [True, True, True, True, False, False, False], [True, False, False, False, False, False, False], [True, False, False, False, False, False, False], [True, False, False, False, False, False, False]]\n",
      "2 1\n",
      "[[True, True, False, False, False, False, False], [True, True, True, True, False, False, False], [True, True, False, False, False, False, False], [True, False, False, False, False, False, False], [True, False, False, False, False, False, False]]\n",
      "2 2\n",
      "[[True, True, False, False, False, False, False], [True, True, True, True, False, False, False], [True, True, True, False, False, False, False], [True, False, False, False, False, False, False], [True, False, False, False, False, False, False]]\n",
      "2 3\n",
      "[[True, True, False, False, False, False, False], [True, True, True, True, False, False, False], [True, True, True, True, False, False, False], [True, False, False, False, False, False, False], [True, False, False, False, False, False, False]]\n",
      "2 4\n",
      "[[True, True, False, False, False, False, False], [True, True, True, True, False, False, False], [True, True, True, True, True, False, False], [True, False, False, False, False, False, False], [True, False, False, False, False, False, False]]\n",
      "2 5\n",
      "[[True, True, False, False, False, False, False], [True, True, True, True, False, False, False], [True, True, True, True, True, True, False], [True, False, False, False, False, False, False], [True, False, False, False, False, False, False]]\n",
      "2 6\n",
      "[[True, True, False, False, False, False, False], [True, True, True, True, False, False, False], [True, True, True, True, True, True, True], [True, False, False, False, False, False, False], [True, False, False, False, False, False, False]]\n",
      "3 1\n",
      "[[True, True, False, False, False, False, False], [True, True, True, True, False, False, False], [True, True, True, True, True, True, True], [True, True, False, False, False, False, False], [True, False, False, False, False, False, False]]\n",
      "3 2\n",
      "[[True, True, False, False, False, False, False], [True, True, True, True, False, False, False], [True, True, True, True, True, True, True], [True, True, True, False, False, False, False], [True, False, False, False, False, False, False]]\n",
      "3 3\n",
      "[[True, True, False, False, False, False, False], [True, True, True, True, False, False, False], [True, True, True, True, True, True, True], [True, True, True, True, False, False, False], [True, False, False, False, False, False, False]]\n",
      "3 4\n",
      "[[True, True, False, False, False, False, False], [True, True, True, True, False, False, False], [True, True, True, True, True, True, True], [True, True, True, True, True, False, False], [True, False, False, False, False, False, False]]\n",
      "3 5\n",
      "[[True, True, False, False, False, False, False], [True, True, True, True, False, False, False], [True, True, True, True, True, True, True], [True, True, True, True, True, True, False], [True, False, False, False, False, False, False]]\n",
      "3 6\n",
      "[[True, True, False, False, False, False, False], [True, True, True, True, False, False, False], [True, True, True, True, True, True, True], [True, True, True, True, True, True, True], [True, False, False, False, False, False, False]]\n",
      "4 1\n",
      "[[True, True, False, False, False, False, False], [True, True, True, True, False, False, False], [True, True, True, True, True, True, True], [True, True, True, True, True, True, True], [True, True, False, False, False, False, False]]\n",
      "4 2\n",
      "[[True, True, False, False, False, False, False], [True, True, True, True, False, False, False], [True, True, True, True, True, True, True], [True, True, True, True, True, True, True], [True, True, True, False, False, False, False]]\n",
      "4 3\n",
      "[[True, True, False, False, False, False, False], [True, True, True, True, False, False, False], [True, True, True, True, True, True, True], [True, True, True, True, True, True, True], [True, True, True, True, False, False, False]]\n",
      "4 4\n",
      "[[True, True, False, False, False, False, False], [True, True, True, True, False, False, False], [True, True, True, True, True, True, True], [True, True, True, True, True, True, True], [True, True, True, True, True, False, False]]\n",
      "4 5\n",
      "[[True, True, False, False, False, False, False], [True, True, True, True, False, False, False], [True, True, True, True, True, True, True], [True, True, True, True, True, True, True], [True, True, True, True, True, True, False]]\n",
      "4 6\n",
      "[[True, True, False, False, False, False, False], [True, True, True, True, False, False, False], [True, True, True, True, True, True, True], [True, True, True, True, True, True, True], [True, True, True, True, True, True, True]]\n"
     ]
    },
    {
     "data": {
      "text/plain": [
       "True"
      ]
     },
     "execution_count": 43,
     "metadata": {},
     "output_type": "execute_result"
    }
   ],
   "source": [
    "Solution().canPartition([1,2,3,5,1])"
   ]
  },
  {
   "cell_type": "code",
   "execution_count": null,
   "id": "7e1012d5",
   "metadata": {},
   "outputs": [],
   "source": []
  },
  {
   "cell_type": "code",
   "execution_count": null,
   "id": "234ed48c",
   "metadata": {},
   "outputs": [],
   "source": []
  }
 ],
 "metadata": {
  "kernelspec": {
   "display_name": "3.11.11",
   "language": "python",
   "name": "python3"
  },
  "language_info": {
   "codemirror_mode": {
    "name": "ipython",
    "version": 3
   },
   "file_extension": ".py",
   "mimetype": "text/x-python",
   "name": "python",
   "nbconvert_exporter": "python",
   "pygments_lexer": "ipython3",
   "version": "3.11.11"
  }
 },
 "nbformat": 4,
 "nbformat_minor": 5
}
