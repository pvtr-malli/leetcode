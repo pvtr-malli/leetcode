{
 "cells": [
  {
   "cell_type": "markdown",
   "id": "0de631e5",
   "metadata": {},
   "source": [
    "You are given an array of binary strings strs and two integers m and n.\n",
    "\n",
    "Return the size of the largest subset of strs such that there are at most m 0's and n 1's in the subset.\n",
    "\n",
    "A set x is a subset of a set y if all elements of x are also elements of y.\n",
    "\n",
    " \n",
    "\n",
    "Example 1:\n",
    "\n",
    "Input: strs = [\"10\",\"0001\",\"111001\",\"1\",\"0\"], m = 5, n = 3\n",
    "Output: 4\n",
    "Explanation: The largest subset with at most 5 0's and 3 1's is {\"10\", \"0001\", \"1\", \"0\"}, so the answer is 4.\n",
    "Other valid but smaller subsets include {\"0001\", \"1\"} and {\"10\", \"1\", \"0\"}.\n",
    "{\"111001\"} is an invalid subset because it contains 4 1's, greater than the maximum of 3.\n",
    "Example 2:\n",
    "\n",
    "Input: strs = [\"10\",\"0\",\"1\"], m = 1, n = 1\n",
    "Output: 2\n",
    "Explanation: The largest subset is {\"0\", \"1\"}, so the answer is 2.\n",
    " \n",
    "\n",
    "Constraints:\n",
    "\n",
    "1 <= strs.length <= 600\n",
    "1 <= strs[i].length <= 100\n",
    "strs[i] consists only of digits '0' and '1'.\n",
    "1 <= m, n <= 100"
   ]
  },
  {
   "cell_type": "code",
   "execution_count": 20,
   "id": "27745468",
   "metadata": {},
   "outputs": [],
   "source": [
    "class Solution:\n",
    "    def findMaxForm(self, strs: list[str], m: int, n: int) -> int:\n",
    "        counts = [(s.count('0'), s.count('1')) for s in strs] # O(n)\n",
    "        limits = [m , n]\n",
    "        # Now do the recurssion to find the maximum subsets having 0 <= m and 1<=n.\n",
    "        return self.find_max_form(counts, limits, len(strs) - 1)\n",
    "    \n",
    "    def find_max_form(self, counts, limits, ind):\n",
    "        if ind < 0 or limits == [0,0]:\n",
    "            return 0\n",
    "\n",
    "        not_take = self.find_max_form(counts, limits, ind - 1)\n",
    "        # when to take, when the count conditions meets.\n",
    "        take  = 0\n",
    "        if (counts[ind][0]  <= limits[0])and (counts[ind][1] <= limits[1]):\n",
    "            take = 1 + self.find_max_form(counts, [limits[0] - counts[ind][0], limits[1] - counts[ind][1]], ind - 1)\n",
    "\n",
    "        return max(take, not_take)"
   ]
  },
  {
   "cell_type": "code",
   "execution_count": 21,
   "id": "c80035b4",
   "metadata": {},
   "outputs": [
    {
     "data": {
      "text/plain": [
       "4"
      ]
     },
     "execution_count": 21,
     "metadata": {},
     "output_type": "execute_result"
    }
   ],
   "source": [
    "Solution().findMaxForm(strs = [\"10\",\"0001\",\"111001\",\"1\",\"0\"], m = 5, n = 3)"
   ]
  },
  {
   "cell_type": "code",
   "execution_count": 22,
   "id": "9ab4aad1",
   "metadata": {},
   "outputs": [
    {
     "data": {
      "text/plain": [
       "2"
      ]
     },
     "execution_count": 22,
     "metadata": {},
     "output_type": "execute_result"
    }
   ],
   "source": [
    "Solution().findMaxForm( strs = [\"10\",\"0\",\"1\"], m = 1, n = 1)"
   ]
  },
  {
   "cell_type": "code",
   "execution_count": 32,
   "id": "e744f1a7",
   "metadata": {},
   "outputs": [],
   "source": [
    "# memorization:\n",
    "\n",
    "class Solution:\n",
    "    def findMaxForm(self, strs: list[str], m: int, n: int) -> int:\n",
    "        counts = [(s.count('0'), s.count('1')) for s in strs] # O(n)\n",
    "        limits = (m , n)\n",
    "\n",
    "        dp = {}\n",
    "        # Now do the recurssion to find the maximum subsets having 0 <= m and 1<=n.\n",
    "        return self.find_max_form(counts, limits, len(strs) - 1, dp)\n",
    "    \n",
    "    def find_max_form(self, counts, limits, ind, dp):\n",
    "        if ind < 0 or limits == (0,0):\n",
    "            return 0\n",
    "        \n",
    "        if (ind, limits) in dp:\n",
    "            return dp[(ind, limits)]\n",
    "\n",
    "        not_take = self.find_max_form(counts, limits, ind - 1, dp)\n",
    "        # when to take, when the count conditions meets.\n",
    "        take  = 0\n",
    "        if (counts[ind][0]  <= limits[0])and (counts[ind][1] <= limits[1]):\n",
    "            take = 1 + self.find_max_form(counts, (limits[0] - counts[ind][0], limits[1] - counts[ind][1]), ind - 1, dp)\n",
    "\n",
    "        dp[(ind, limits)] = max(take, not_take)\n",
    "        return dp[(ind, limits)]"
   ]
  },
  {
   "cell_type": "code",
   "execution_count": 33,
   "id": "31e57914",
   "metadata": {},
   "outputs": [
    {
     "data": {
      "text/plain": [
       "4"
      ]
     },
     "execution_count": 33,
     "metadata": {},
     "output_type": "execute_result"
    }
   ],
   "source": [
    "Solution().findMaxForm(strs = [\"10\",\"0001\",\"111001\",\"1\",\"0\"], m = 5, n = 3)"
   ]
  },
  {
   "cell_type": "code",
   "execution_count": 26,
   "id": "02454927",
   "metadata": {},
   "outputs": [],
   "source": [
    "d = {}\n",
    "d[(1, (1,2))] = 1"
   ]
  },
  {
   "cell_type": "code",
   "execution_count": 27,
   "id": "6f0fe2fb",
   "metadata": {},
   "outputs": [
    {
     "data": {
      "text/plain": [
       "{(1, (1, 2)): 1}"
      ]
     },
     "execution_count": 27,
     "metadata": {},
     "output_type": "execute_result"
    }
   ],
   "source": [
    "d"
   ]
  },
  {
   "cell_type": "code",
   "execution_count": null,
   "id": "46514d6b",
   "metadata": {},
   "outputs": [],
   "source": []
  }
 ],
 "metadata": {
  "kernelspec": {
   "display_name": "3.11.11",
   "language": "python",
   "name": "python3"
  },
  "language_info": {
   "codemirror_mode": {
    "name": "ipython",
    "version": 3
   },
   "file_extension": ".py",
   "mimetype": "text/x-python",
   "name": "python",
   "nbconvert_exporter": "python",
   "pygments_lexer": "ipython3",
   "version": "3.11.11"
  }
 },
 "nbformat": 4,
 "nbformat_minor": 5
}
