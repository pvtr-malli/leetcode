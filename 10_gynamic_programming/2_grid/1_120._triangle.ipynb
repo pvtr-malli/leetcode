{
 "cells": [
  {
   "cell_type": "markdown",
   "id": "2de3ba7e",
   "metadata": {},
   "source": [
    "MEIDUM"
   ]
  },
  {
   "cell_type": "markdown",
   "id": "e7b45231",
   "metadata": {},
   "source": [
    "Given a triangle array, return the minimum path sum from top to bottom.\n",
    "\n",
    "For each step, you may move to an adjacent number of the row below. More formally, if you are on index i on the current row, you may move to either index i or index i + 1 on the next row.\n",
    "\n",
    " \n",
    "\n",
    "Example 1:\n",
    "\n",
    "Input: triangle = [[2],[3,4],[6,5,7],[4,1,8,3]]\n",
    "Output: 11\n",
    "Explanation: The triangle looks like:\n",
    "   2\n",
    "  3 4\n",
    " 6 5 7\n",
    "4 1 8 3\n",
    "The minimum path sum from top to bottom is 2 + 3 + 5 + 1 = 11 (underlined above).\n",
    "Example 2:\n",
    "\n",
    "Input: triangle = [[-10]]\n",
    "Output: -10\n",
    " \n",
    "\n",
    "Constraints:\n",
    "\n",
    "1 <= triangle.length <= 200\n",
    "triangle[0].length == 1\n",
    "triangle[i].length == triangle[i - 1].length + 1\n",
    "-104 <= triangle[i][j] <= 104\n",
    " \n",
    "\n",
    "Follow up: Could you do this using only O(n) extra space, where n is the total number of rows in the triangle?"
   ]
  },
  {
   "cell_type": "code",
   "execution_count": null,
   "id": "b90863ea",
   "metadata": {},
   "outputs": [],
   "source": [
    "class Solution:\n",
    "    def minimumTotal(self, triangle: list[list[int]]) -> int:\n",
    "        return self.min_mum(triangle, 0,0, len(triangle))\n",
    "\n",
    "    def min_mum(self, arr, i, j, n):\n",
    "        if i == n - 1:\n",
    "            return arr[i][j]\n",
    "        \n",
    "        print(i,j)\n",
    "        # Go to the down.\n",
    "        down = self.min_mum(arr, i+1, j, n)\n",
    "        side = self.min_mum(arr, i+1, j+1, n)\n",
    "        path_sum = min(down, side) + arr[i][j]\n",
    "        return path_sum"
   ]
  },
  {
   "cell_type": "code",
   "execution_count": null,
   "id": "683d3818",
   "metadata": {},
   "outputs": [
    {
     "name": "stdout",
     "output_type": "stream",
     "text": [
      "0 0\n",
      "[[-1], [-1, -1], [-1, -1, -1], [-1, -1, -1, -1]]\n",
      "1 0\n",
      "[[-1], [-1, -1], [-1, -1, -1], [-1, -1, -1, -1]]\n",
      "2 0\n",
      "[[-1], [-1, -1], [-1, -1, -1], [-1, -1, -1, -1]]\n",
      "2 1\n",
      "[[-1], [-1, -1], [7, -1, -1], [-1, -1, -1, -1]]\n",
      "1 1\n",
      "[[-1], [9, -1], [7, 6, -1], [-1, -1, -1, -1]]\n",
      "2 2\n",
      "[[-1], [9, -1], [7, 6, -1], [-1, -1, -1, -1]]\n"
     ]
    },
    {
     "data": {
      "text/plain": [
       "11"
      ]
     },
     "execution_count": 13,
     "metadata": {},
     "output_type": "execute_result"
    }
   ],
   "source": [
    "# memorization, top - bottom.\n",
    "class Solution:\n",
    "    def minimumTotal(self, triangle: list[list[int]]) -> int:\n",
    "        dp = [[-1] * len(triangle[i]) for i in range(len(triangle))]\n",
    "        return self.min_mum(triangle, 0,0, len(triangle), dp)\n",
    "\n",
    "    def min_mum(self, arr, i, j, n, dp):\n",
    "        if i == n - 1:\n",
    "            return arr[i][j]\n",
    "\n",
    "        if dp[i][j] != -1:\n",
    "            return dp[i][j]\n",
    "\n",
    "        # Go to the down.\n",
    "        down = self.min_mum(arr, i+1, j, n, dp)\n",
    "        side = self.min_mum(arr, i+1, j+1, n, dp)\n",
    "        dp[i][j] = min(down, side) + arr[i][j]\n",
    "        return dp[i][j]\n",
    "\n",
    "Solution().minimumTotal([[2],[3,4],[6,5,7],[4,1,8,3]])"
   ]
  },
  {
   "cell_type": "code",
   "execution_count": 26,
   "id": "689a735f",
   "metadata": {},
   "outputs": [
    {
     "name": "stdout",
     "output_type": "stream",
     "text": [
      "[[-1], [-1, -1], [-1, -1, -1], [4, 1, 8, 3]]\n",
      "2 0\n",
      "[[-1], [-1, -1], [7, -1, -1], [4, 1, 8, 3]]\n",
      "2 1\n",
      "[[-1], [-1, -1], [7, 6, -1], [4, 1, 8, 3]]\n",
      "2 2\n",
      "[[-1], [-1, -1], [7, 6, 10], [4, 1, 8, 3]]\n",
      "1 0\n",
      "[[-1], [9, -1], [7, 6, 10], [4, 1, 8, 3]]\n",
      "1 1\n",
      "[[-1], [9, 10], [7, 6, 10], [4, 1, 8, 3]]\n",
      "0 0\n",
      "[[11], [9, 10], [7, 6, 10], [4, 1, 8, 3]]\n",
      "11\n"
     ]
    }
   ],
   "source": [
    "class Solution:\n",
    "    def minimumTotal(self, triangle: list[list[int]]) -> int:\n",
    "\n",
    "        dp = [[-1] * len(triangle[i]) for i in range(len(triangle))]\n",
    "        n = len(triangle)\n",
    "\n",
    "        # fill in the base values.\n",
    "        for j in range(0, n ):\n",
    "            dp[n-1][j] = triangle[n-1][j]\n",
    "        print(dp)\n",
    "        \n",
    "        for i in range(n-2, -1, -1):\n",
    "            for j in range(0, i + 1):\n",
    "                print(i,j)\n",
    "                down = dp[i + 1][j] \n",
    "                side = dp[i + 1][j + 1]\n",
    "                dp[i][j] = min(down, side) + triangle[i][j]\n",
    "                print(dp)\n",
    "        return dp[0][0]\n",
    "\n",
    "\n",
    "print(Solution().minimumTotal([[2],[3,4],[6,5,7],[4,1,8,3]]))\n"
   ]
  },
  {
   "cell_type": "code",
   "execution_count": 27,
   "id": "863747f3",
   "metadata": {},
   "outputs": [
    {
     "name": "stdout",
     "output_type": "stream",
     "text": [
      "[[-10]]\n",
      "-10\n"
     ]
    }
   ],
   "source": [
    "print(Solution().minimumTotal([[-10]]))\n"
   ]
  },
  {
   "cell_type": "code",
   "execution_count": null,
   "id": "94c6167d",
   "metadata": {},
   "outputs": [],
   "source": []
  }
 ],
 "metadata": {
  "kernelspec": {
   "display_name": "3.11.11",
   "language": "python",
   "name": "python3"
  },
  "language_info": {
   "codemirror_mode": {
    "name": "ipython",
    "version": 3
   },
   "file_extension": ".py",
   "mimetype": "text/x-python",
   "name": "python",
   "nbconvert_exporter": "python",
   "pygments_lexer": "ipython3",
   "version": "3.11.11"
  }
 },
 "nbformat": 4,
 "nbformat_minor": 5
}
