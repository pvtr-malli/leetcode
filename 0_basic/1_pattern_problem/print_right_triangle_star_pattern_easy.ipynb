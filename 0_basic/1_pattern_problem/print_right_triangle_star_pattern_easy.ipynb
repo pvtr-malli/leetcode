{
 "cells": [
  {
   "cell_type": "markdown",
   "id": "616c4853",
   "metadata": {},
   "source": [
    "Examples:\n",
    "\n",
    "Input : n = 5\n",
    "Output: \n",
    "* \n",
    "* * \n",
    "* * * \n",
    "* * * * \n",
    "* * * * *  "
   ]
  },
  {
   "cell_type": "code",
   "execution_count": null,
   "id": "3e2883f5",
   "metadata": {},
   "outputs": [],
   "source": [
    "# - so need to print first row - 1 star\n",
    "# - second row - 2 stars\n",
    "# - third row - 3 stars\n",
    "\n",
    "\n",
    "def print_right_triangle(n):\n",
    "    for i in range(n):\n",
    "        print(\"* \" * (i+1))\n"
   ]
  },
  {
   "cell_type": "code",
   "execution_count": null,
   "id": "636cd103",
   "metadata": {},
   "outputs": [
    {
     "name": "stdout",
     "output_type": "stream",
     "text": [
      "* \n",
      "* * \n",
      "* * * \n",
      "* * * * \n",
      "* * * * * \n"
     ]
    }
   ],
   "source": [
    "print_right_triangle(5)"
   ]
  },
  {
   "cell_type": "markdown",
   "id": "ce2c88b7",
   "metadata": {},
   "source": [
    "# 2 | Print Downward Triangle Star Pattern"
   ]
  },
  {
   "cell_type": "markdown",
   "id": "e3472cb6",
   "metadata": {},
   "source": [
    "Downward triangle star pattern means we want to print a triangle that is downward facing means base is upwards and by default, orientation is leftwards so the desired triangle to be printed should look like\n",
    "\n",
    "* * * *\n",
    "* * *\n",
    "* *\n",
    "*"
   ]
  },
  {
   "cell_type": "code",
   "execution_count": null,
   "id": "94c10051",
   "metadata": {},
   "outputs": [
    {
     "name": "stdout",
     "output_type": "stream",
     "text": [
      "* * * * \n",
      "* * * \n",
      "* * \n",
      "* \n"
     ]
    }
   ],
   "source": [
    "# first row - n stars\n",
    "# second row - n-1 starts\n",
    "def print_right_triangle(n):\n",
    "    for i in range(n):\n",
    "        print(\"* \" * (n-i))\n",
    "\n",
    "\n",
    "print_right_triangle(4)"
   ]
  },
  {
   "cell_type": "markdown",
   "id": "c3836bc6",
   "metadata": {},
   "source": [
    "# 3 | Print Left Triangle Star Pattern"
   ]
  },
  {
   "cell_type": "markdown",
   "id": "e7d32a8b",
   "metadata": {},
   "source": [
    "Examples:\n",
    "\n",
    "Input : n = 5\n",
    "Output: \n",
    "           * \n",
    "         * * \n",
    "       * * * \n",
    "     * * * * \n",
    "   * * * * * "
   ]
  },
  {
   "cell_type": "code",
   "execution_count": null,
   "id": "a67cb71a",
   "metadata": {},
   "outputs": [
    {
     "name": "stdout",
     "output_type": "stream",
     "text": [
      "         * \n",
      "       * * \n",
      "     * * * \n",
      "   * * * * \n",
      " * * * * * \n"
     ]
    }
   ],
   "source": [
    "# first row - 4 spaces and 1 star \n",
    "# second ro - 3 spaces and 2 star\n",
    "def print_left_triangle(n):\n",
    "    for i in range(n):\n",
    "        # for r1 = spaces = 4 [which is n-1] and star = 1 [i]\n",
    "        num_of_spaces = (n-1) - i # for row 5 , spaces = 0 adn star = 5\n",
    "        num_of_star = i+1\n",
    "        print(\"  \" * num_of_spaces, end=\" \")\n",
    "        print(\"* \" * num_of_star)\n",
    "\n",
    "\n",
    "print_left_triangle(5)"
   ]
  },
  {
   "cell_type": "markdown",
   "id": "686b6989",
   "metadata": {},
   "source": [
    "# 4 | Square Hollow Pattern\n"
   ]
  },
  {
   "cell_type": "markdown",
   "id": "ae42880d",
   "metadata": {},
   "source": [
    "n = 6\n",
    "\n",
    "******\n",
    "*    *\n",
    "*    *\n",
    "*    *\n",
    "*    *\n",
    "******"
   ]
  },
  {
   "cell_type": "code",
   "execution_count": 3,
   "id": "b26eab1a",
   "metadata": {},
   "outputs": [
    {
     "name": "stdout",
     "output_type": "stream",
     "text": [
      "*****\n",
      "*   *\n",
      "*   *\n",
      "*   *\n",
      "*****\n"
     ]
    }
   ],
   "source": [
    "# - 6 rows and first and last full \n",
    "# - rest will be having * in 0 and n-1 column\n",
    "\n",
    "def square_hollow(n):\n",
    "    number_of_spaces = n-2\n",
    "    print(\"*\" * n)\n",
    "\n",
    "    # print the rest here.\n",
    "    for _ in range(n-2):\n",
    "        print(\"*\", end=\"\")\n",
    "        print(\" \" * (n-2), end=\"\")\n",
    "        print(\"*\")\n",
    "    \n",
    "    # last row.\n",
    "    print(\"*\" * n)\n",
    "\n",
    "square_hollow(5)"
   ]
  },
  {
   "cell_type": "markdown",
   "id": "6357e6be",
   "metadata": {},
   "source": [
    "# 5 | Number Triangle Pattern\n"
   ]
  },
  {
   "cell_type": "code",
   "execution_count": null,
   "id": "64495d9c",
   "metadata": {},
   "outputs": [],
   "source": [
    "n=6 \n",
    "\n",
    "\n",
    "     1 \n",
    "    2 2 \n",
    "   3 3 3 \n",
    "  4 4 4 4 \n",
    " 5 5 5 5 5 \n",
    "6 6 6 6 6 6 "
   ]
  },
  {
   "cell_type": "code",
   "execution_count": 5,
   "id": "5fd39d6d",
   "metadata": {},
   "outputs": [
    {
     "name": "stdout",
     "output_type": "stream",
     "text": [
      "     1 \n",
      "    2 2 \n",
      "   3 3 3 \n",
      "  4 4 4 4 \n",
      " 5 5 5 5 5 \n",
      "6 6 6 6 6 6 \n"
     ]
    }
   ],
   "source": [
    "# - we knwo the last rows spaces , so decide the rest using that.\n",
    "# - last row = 6 [numbers] + (6-1) [spaces in bwt them] => 11\n",
    "# - so the middle for the first row to start is 11//2 = 5 => one should be printed at 6th place. so 5 spaces.\n",
    "# - r1 - 5 spaces and 1\n",
    "# - r2 - 4 spaces and 2 2\n",
    "# - r3 - 3 spaces and 3 3 3 etc\n",
    "def number_triangle(n):\n",
    "    last_line = n + (n-1)\n",
    "    starting_space = last_line // 2\n",
    "    for i in range(1, n+1):\n",
    "        print(\" \" * starting_space, end=\"\")\n",
    "        print(f\"{i} \" * i)\n",
    "\n",
    "        starting_space -= 1\n",
    "\n",
    "number_triangle(6)\n"
   ]
  },
  {
   "cell_type": "markdown",
   "id": "7145afbf",
   "metadata": {},
   "source": [
    "# 6 | Print Diamond Shape Star Pattern"
   ]
  },
  {
   "cell_type": "markdown",
   "id": "2d18039f",
   "metadata": {},
   "source": [
    "Input: number = 7\n",
    " \n",
    "Output:\n",
    "\n",
    "       *\n",
    "      ***\n",
    "     *****\n",
    "    *******\n",
    "   *********\n",
    "  ***********\n",
    " *************\n",
    "  ***********\n",
    "   *********\n",
    "    *******\n",
    "     *****\n",
    "      ***\n",
    "       *"
   ]
  },
  {
   "cell_type": "code",
   "execution_count": 8,
   "id": "807dc177",
   "metadata": {},
   "outputs": [
    {
     "name": "stdout",
     "output_type": "stream",
     "text": [
      "      *\n",
      "     ***\n",
      "    *****\n",
      "   *******\n",
      "  *********\n",
      " ***********\n",
      "*************\n",
      " ***********\n",
      "  *********\n",
      "   *******\n",
      "    *****\n",
      "     ***\n",
      "      *\n"
     ]
    }
   ],
   "source": [
    "# - 7th row will be having 7 + (7-1) stars\n",
    "# same logic as above for the half dimand then reverse the logic.\n",
    "def number_triangle(n):\n",
    "    last_line = n + (n-1)\n",
    "    starting_space = last_line // 2\n",
    "    number_of_starts = 1\n",
    "    for _ in range(1, n+1):\n",
    "        print(\" \" * starting_space, end=\"\")\n",
    "        print(\"*\" * number_of_starts)\n",
    "\n",
    "        starting_space -= 1\n",
    "        number_of_starts += 2\n",
    "    # second loop to print the second half.\n",
    "    starting_space = 1\n",
    "    number_of_starts -= 4\n",
    "    for _ in range(n-1):\n",
    "        print(\" \" * starting_space, end=\"\")\n",
    "        print(\"*\" * number_of_starts)\n",
    "\n",
    "        starting_space += 1\n",
    "        number_of_starts -= 2\n",
    "\n",
    "\n",
    "number_triangle(7)\n"
   ]
  },
  {
   "cell_type": "markdown",
   "id": "fe1ff19e",
   "metadata": {},
   "source": [
    "# 7 | print diagonal star patterns"
   ]
  },
  {
   "cell_type": "markdown",
   "id": "4a938ea4",
   "metadata": {},
   "source": [
    "The input must be an odd number.\n",
    "Examples: \n",
    " \n",
    "Input : 7\n",
    "Output :\n",
    "\n",
    "    *******\n",
    "    **   **\n",
    "    * * * *\n",
    "    *  *  *\n",
    "    * * * *\n",
    "    **   **\n",
    "    *******"
   ]
  },
  {
   "cell_type": "code",
   "execution_count": null,
   "id": "892e02d1",
   "metadata": {},
   "outputs": [
    {
     "name": "stdout",
     "output_type": "stream",
     "text": [
      "*******\n",
      "*     *\n",
      "*     *\n",
      "*     *\n",
      "*     *\n",
      "*     *\n",
      "*******\n"
     ]
    }
   ],
   "source": [
    "# - 6 rows and first and last full \n",
    "# - rest will be having * in 0 and n-1 column\n",
    "\n",
    "def square_hollow(n):\n",
    "    number_of_spaces = n-2\n",
    "    print(\"*\" * n)\n",
    "\n",
    "    # print the rest here.\n",
    "    for i in range(1, n-1):\n",
    "        print(\"*\", end=\"\")\n",
    "        # Fill the X in bwt. so for 7, the rows considered for X is 1-5. \n",
    "\n",
    "        print(\"*\")\n",
    "    \n",
    "    # last row.\n",
    "    print(\"*\" * n)\n",
    "\n",
    "square_hollow(7)"
   ]
  },
  {
   "cell_type": "code",
   "execution_count": null,
   "id": "9668f466",
   "metadata": {},
   "outputs": [],
   "source": []
  }
 ],
 "metadata": {
  "kernelspec": {
   "display_name": "3.11.11",
   "language": "python",
   "name": "python3"
  },
  "language_info": {
   "codemirror_mode": {
    "name": "ipython",
    "version": 3
   },
   "file_extension": ".py",
   "mimetype": "text/x-python",
   "name": "python",
   "nbconvert_exporter": "python",
   "pygments_lexer": "ipython3",
   "version": "3.11.11"
  }
 },
 "nbformat": 4,
 "nbformat_minor": 5
}
