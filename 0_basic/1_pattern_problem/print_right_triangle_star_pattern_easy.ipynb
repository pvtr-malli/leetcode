{
 "cells": [
  {
   "cell_type": "markdown",
   "id": "616c4853",
   "metadata": {},
   "source": [
    "Examples:\n",
    "\n",
    "Input : n = 5\n",
    "Output: \n",
    "* \n",
    "* * \n",
    "* * * \n",
    "* * * * \n",
    "* * * * *  "
   ]
  },
  {
   "cell_type": "code",
   "execution_count": null,
   "id": "3e2883f5",
   "metadata": {},
   "outputs": [],
   "source": [
    "# - so need to print first row - 1 star\n",
    "# - second row - 2 stars\n",
    "# - third row - 3 stars\n",
    "\n",
    "\n",
    "def print_right_triangle(n):\n",
    "    for i in range(n):\n",
    "        print(\"* \" * (i+1))\n"
   ]
  },
  {
   "cell_type": "code",
   "execution_count": null,
   "id": "636cd103",
   "metadata": {},
   "outputs": [
    {
     "name": "stdout",
     "output_type": "stream",
     "text": [
      "* \n",
      "* * \n",
      "* * * \n",
      "* * * * \n",
      "* * * * * \n"
     ]
    }
   ],
   "source": [
    "print_right_triangle(5)"
   ]
  },
  {
   "cell_type": "markdown",
   "id": "ce2c88b7",
   "metadata": {},
   "source": [
    "# 2 | Print Downward Triangle Star Pattern"
   ]
  },
  {
   "cell_type": "markdown",
   "id": "e3472cb6",
   "metadata": {},
   "source": [
    "Downward triangle star pattern means we want to print a triangle that is downward facing means base is upwards and by default, orientation is leftwards so the desired triangle to be printed should look like\n",
    "\n",
    "* * * *\n",
    "* * *\n",
    "* *\n",
    "*"
   ]
  },
  {
   "cell_type": "code",
   "execution_count": null,
   "id": "94c10051",
   "metadata": {},
   "outputs": [
    {
     "name": "stdout",
     "output_type": "stream",
     "text": [
      "* * * * \n",
      "* * * \n",
      "* * \n",
      "* \n"
     ]
    }
   ],
   "source": [
    "# first row - n stars\n",
    "# second row - n-1 starts\n",
    "def print_right_triangle(n):\n",
    "    for i in range(n):\n",
    "        print(\"* \" * (n-i))\n",
    "\n",
    "\n",
    "print_right_triangle(4)"
   ]
  },
  {
   "cell_type": "markdown",
   "id": "c3836bc6",
   "metadata": {},
   "source": [
    "# 3 | Print Left Triangle Star Pattern"
   ]
  },
  {
   "cell_type": "markdown",
   "id": "e7d32a8b",
   "metadata": {},
   "source": [
    "Examples:\n",
    "\n",
    "\n",
    "Input : n = 5\n",
    "Output: \n",
    "           * \n",
    "         * * \n",
    "       * * * \n",
    "     * * * * \n",
    "   * * * * * "
   ]
  },
  {
   "cell_type": "code",
   "execution_count": null,
   "id": "a67cb71a",
   "metadata": {},
   "outputs": [
    {
     "name": "stdout",
     "output_type": "stream",
     "text": [
      "         * \n",
      "       * * \n",
      "     * * * \n",
      "   * * * * \n",
      " * * * * * \n"
     ]
    }
   ],
   "source": [
    "# first row - 4 spaces and 1 star \n",
    "# second ro - 3 spaces and 2 star\n",
    "def print_left_triangle(n):\n",
    "    for i in range(n):\n",
    "        # for r1 = spaces = 4 [which is n-1] and star = 1 [i]\n",
    "        num_of_spaces = (n-1) - i # for row 5 , spaces = 0 adn star = 5\n",
    "        num_of_star = i+1\n",
    "        print(\"  \" * num_of_spaces, end=\" \")\n",
    "        print(\"* \" * num_of_star)\n",
    "\n",
    "\n",
    "print_left_triangle(5)"
   ]
  },
  {
   "cell_type": "code",
   "execution_count": null,
   "id": "b26eab1a",
   "metadata": {},
   "outputs": [],
   "source": []
  }
 ],
 "metadata": {
  "kernelspec": {
   "display_name": "3.11.11",
   "language": "python",
   "name": "python3"
  },
  "language_info": {
   "codemirror_mode": {
    "name": "ipython",
    "version": 3
   },
   "file_extension": ".py",
   "mimetype": "text/x-python",
   "name": "python",
   "nbconvert_exporter": "python",
   "pygments_lexer": "ipython3",
   "version": "3.11.11"
  }
 },
 "nbformat": 4,
 "nbformat_minor": 5
}
