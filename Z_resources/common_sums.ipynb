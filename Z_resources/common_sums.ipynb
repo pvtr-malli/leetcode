{
 "cells": [
  {
   "cell_type": "code",
   "execution_count": 1,
   "id": "941fd586",
   "metadata": {},
   "outputs": [
    {
     "name": "stdout",
     "output_type": "stream",
     "text": [
      "[[1], [1, 2], [1, 2, 3], [2], [2, 3], [3]]\n"
     ]
    }
   ],
   "source": [
    "# get all subarrays.\n",
    "def get_all_subarrays(nums):\n",
    "    n = len(nums)\n",
    "    subarrays = []\n",
    "\n",
    "    for i in range(n):\n",
    "        for j in range(i, n):\n",
    "            subarrays.append(nums[i:j+1])\n",
    "\n",
    "    return subarrays\n",
    "\n",
    "nums = [1, 2, 3]\n",
    "print(get_all_subarrays(nums))\n"
   ]
  },
  {
   "cell_type": "code",
   "execution_count": null,
   "id": "68627df2",
   "metadata": {},
   "outputs": [],
   "source": []
  }
 ],
 "metadata": {
  "kernelspec": {
   "display_name": "3.11.11",
   "language": "python",
   "name": "python3"
  },
  "language_info": {
   "codemirror_mode": {
    "name": "ipython",
    "version": 3
   },
   "file_extension": ".py",
   "mimetype": "text/x-python",
   "name": "python",
   "nbconvert_exporter": "python",
   "pygments_lexer": "ipython3",
   "version": "3.11.11"
  }
 },
 "nbformat": 4,
 "nbformat_minor": 5
}
