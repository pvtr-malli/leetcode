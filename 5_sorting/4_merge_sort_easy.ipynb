{
 "cells": [
  {
   "cell_type": "markdown",
   "id": "29ef88bb",
   "metadata": {},
   "source": []
  },
  {
   "cell_type": "code",
   "execution_count": null,
   "id": "1e4a4629",
   "metadata": {},
   "outputs": [],
   "source": [
    "class Solution:\n",
    "    def sortArray(self, nums: list[int]) -> list[int]:\n",
    "        low = 0\n",
    "        high = len(nums) - 1\n",
    "        self.merge_sort_rec(nums, low, high)\n",
    "        return nums\n",
    "    \n",
    "    def merge_sort_rec(self, nums, low, high):\n",
    "\n",
    "        if low < high:\n",
    "            mid = (low + high ) // 2\n",
    "            # split until there are only one values in the left and right part.\n",
    "            self.merge_sort_rec(nums, low, mid)\n",
    "            self.merge_sort_rec(nums, mid+1, high)\n",
    "\n",
    "            # merge them.\n",
    "            self.merge(nums, low, mid, high)\n",
    "\n",
    "    def merge(self, nums, low, mid, high):\n",
    "        # basically merge two sorted arrays.\n",
    "        i = low\n",
    "        j = mid + 1\n",
    "        ans = []\n",
    "\n",
    "        # the arrays full length is low - high:\n",
    "        while i <= mid and j <= high:\n",
    "            if nums[i] < nums[j]:\n",
    "                ans.append(nums[i])\n",
    "                i += 1\n",
    "            else:\n",
    "                ans.append(nums[j])\n",
    "                j+=1\n",
    "                \n",
    "        \n",
    "        # add the remaining values.\n",
    "        while i <= mid:\n",
    "            ans.append(nums[i])\n",
    "            i += 1\n",
    "        while j <= high:\n",
    "            ans.append(nums[j])\n",
    "            j+=1\n",
    "\n",
    "        # now putting this ans into the original ans array.\n",
    "        merged_ans_i = 0\n",
    "        for i in range(low, high+1):\n",
    "            nums[i] = ans[merged_ans_i]\n",
    "            merged_ans_i += 1\n",
    "    \n",
    "# tc - O(n logn)\n",
    "# sc - O(n) [temp ans. array] + O(max func call in recurssion)"
   ]
  },
  {
   "cell_type": "code",
   "execution_count": 4,
   "id": "ecfc1d52",
   "metadata": {},
   "outputs": [
    {
     "data": {
      "text/plain": [
       "[2, 3, 5, 8, 11]"
      ]
     },
     "execution_count": 4,
     "metadata": {},
     "output_type": "execute_result"
    }
   ],
   "source": [
    "Solution().sortArray(nums = [11,8,3,5,2])"
   ]
  },
  {
   "cell_type": "code",
   "execution_count": null,
   "id": "fd48ca1f",
   "metadata": {},
   "outputs": [],
   "source": [
    "# to just avoid the copying to original array at the end.\n",
    "class Solution:\n",
    "    def sortArray(self, nums: list[int]) -> list[int]:\n",
    "        self.merge_sort(nums, 0, len(nums) - 1)\n",
    "        return nums\n",
    "\n",
    "    def merge_sort(self, nums, low, high):\n",
    "        if low >= high:\n",
    "            return\n",
    "\n",
    "        mid = (low + high) // 2\n",
    "        self.merge_sort(nums, low, mid)\n",
    "        self.merge_sort(nums, mid + 1, high)\n",
    "        self.merge(nums, low, mid, high)\n",
    "\n",
    "    def merge(self, nums, low, mid, high):\n",
    "        left = nums[low:mid+1]\n",
    "        right = nums[mid+1:high+1]\n",
    "        \n",
    "        i = j = 0\n",
    "        k = low\n",
    "\n",
    "        while i < len(left) and j < len(right):\n",
    "            if left[i] <= right[j]:\n",
    "                nums[k] = left[i]\n",
    "                i += 1\n",
    "            else:\n",
    "                nums[k] = right[j]\n",
    "                j += 1\n",
    "            k += 1\n",
    "\n",
    "        while i < len(left):\n",
    "            nums[k] = left[i]\n",
    "            i += 1\n",
    "            k += 1\n",
    "\n",
    "        while j < len(right):\n",
    "            nums[k] = right[j]\n",
    "            j += 1\n",
    "            k += 1\n",
    "            \n",
    "# Time: O(n log n) – standard for merge sort\n",
    "# Space: O(n) – due to use of left and right slices\n",
    "\n"
   ]
  }
 ],
 "metadata": {
  "kernelspec": {
   "display_name": "3.11.11",
   "language": "python",
   "name": "python3"
  },
  "language_info": {
   "codemirror_mode": {
    "name": "ipython",
    "version": 3
   },
   "file_extension": ".py",
   "mimetype": "text/x-python",
   "name": "python",
   "nbconvert_exporter": "python",
   "pygments_lexer": "ipython3",
   "version": "3.11.11"
  }
 },
 "nbformat": 4,
 "nbformat_minor": 5
}
