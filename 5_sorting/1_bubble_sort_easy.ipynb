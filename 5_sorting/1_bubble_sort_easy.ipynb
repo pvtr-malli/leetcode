{
 "cells": [
  {
   "cell_type": "markdown",
   "id": "166bdd74",
   "metadata": {},
   "source": []
  },
  {
   "cell_type": "code",
   "execution_count": null,
   "id": "6489f8e2",
   "metadata": {},
   "outputs": [],
   "source": [
    "class Solution:\n",
    "    def sortArray(self, nums: list[int]) -> list[int]:\n",
    "        n = len(nums)\n",
    "        # pop the bubble == swap the near bubble.\n",
    "        for i in range(n-1, 0, -1):\n",
    "            for j in range(0, i):\n",
    "                print(i,j)\n",
    "                if nums[j] > nums[j+1]:\n",
    "                    nums[j], nums[j+1] = nums[j+1], nums[j]\n",
    "        return nums \n",
    "\n",
    "\n",
    "# tc - O(n^2)\n",
    "# sc - O(1)"
   ]
  },
  {
   "cell_type": "code",
   "execution_count": 11,
   "id": "b084fe80",
   "metadata": {},
   "outputs": [
    {
     "name": "stdout",
     "output_type": "stream",
     "text": [
      "4 0\n",
      "4 1\n",
      "4 2\n",
      "4 3\n",
      "3 0\n",
      "3 1\n",
      "3 2\n",
      "2 0\n",
      "2 1\n",
      "1 0\n"
     ]
    },
    {
     "data": {
      "text/plain": [
       "[2, 3, 5, 8, 11]"
      ]
     },
     "execution_count": 11,
     "metadata": {},
     "output_type": "execute_result"
    }
   ],
   "source": [
    "Solution().sortArray(nums = [11,8,3,5,2])"
   ]
  },
  {
   "cell_type": "code",
   "execution_count": 26,
   "id": "56c5ff68",
   "metadata": {},
   "outputs": [],
   "source": [
    "class Solution:\n",
    "    def sortArray(self, nums: list[int]) -> list[int]:\n",
    "        self.bubble_sort_rec(nums, len(nums)-1, 0)\n",
    "        return nums\n",
    "\n",
    "    def bubble_sort_rec(self, nums, i, j):\n",
    "        if i <= 0:\n",
    "            return\n",
    "        print(i,j)\n",
    "        if j < i:\n",
    "            if nums[j] > nums[j+1]:\n",
    "                nums[j], nums[j+1] = nums[j+1], nums[j]\n",
    "            self.bubble_sort_rec(nums,i, j+1)\n",
    "        else:\n",
    "            self.bubble_sort_rec(nums,i-1, 0)"
   ]
  },
  {
   "cell_type": "code",
   "execution_count": 27,
   "id": "f67244ef",
   "metadata": {},
   "outputs": [
    {
     "name": "stdout",
     "output_type": "stream",
     "text": [
      "4 0\n",
      "4 1\n",
      "4 2\n",
      "4 3\n",
      "4 4\n",
      "3 0\n",
      "3 1\n",
      "3 2\n",
      "3 3\n",
      "2 0\n",
      "2 1\n",
      "2 2\n",
      "1 0\n",
      "1 1\n"
     ]
    },
    {
     "data": {
      "text/plain": [
       "[2, 3, 5, 8, 11]"
      ]
     },
     "execution_count": 27,
     "metadata": {},
     "output_type": "execute_result"
    }
   ],
   "source": [
    "Solution().sortArray(nums = [11,8,3,5,2])"
   ]
  },
  {
   "cell_type": "code",
   "execution_count": null,
   "id": "55356965",
   "metadata": {},
   "outputs": [],
   "source": []
  }
 ],
 "metadata": {
  "kernelspec": {
   "display_name": "3.11.11",
   "language": "python",
   "name": "python3"
  },
  "language_info": {
   "codemirror_mode": {
    "name": "ipython",
    "version": 3
   },
   "file_extension": ".py",
   "mimetype": "text/x-python",
   "name": "python",
   "nbconvert_exporter": "python",
   "pygments_lexer": "ipython3",
   "version": "3.11.11"
  }
 },
 "nbformat": 4,
 "nbformat_minor": 5
}
