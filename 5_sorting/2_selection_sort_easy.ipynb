{
 "cells": [
  {
   "cell_type": "code",
   "execution_count": 3,
   "id": "1762b7ff",
   "metadata": {},
   "outputs": [],
   "source": [
    "class Solution:\n",
    "    def sortArray(self, nums: list[int]) -> list[int]:\n",
    "        n = len(nums)\n",
    "        # select the max, put it in the back.\n",
    "        # so put it in the ith possition.\n",
    "        # so have to come from n-1 -> 0.\n",
    "        # so j should check from 0 - i.\n",
    "        for i in range(n-1, -1, -1):\n",
    "            max_ind = 0\n",
    "            for j in range(0, i+1):\n",
    "                print(i,j)\n",
    "                if nums[j] > nums[max_ind]:\n",
    "                    max_ind = j \n",
    "            \n",
    "            # swap at the end of the each iteration.\n",
    "            nums[j], nums[max_ind] = nums[max_ind], nums[j]\n",
    "\n",
    "        return nums \n",
    "# tc - O(n^2)\n",
    "# sc - O(1)"
   ]
  },
  {
   "cell_type": "code",
   "execution_count": 4,
   "id": "b4cff063",
   "metadata": {},
   "outputs": [
    {
     "name": "stdout",
     "output_type": "stream",
     "text": [
      "4 0\n",
      "4 1\n",
      "4 2\n",
      "4 3\n",
      "4 4\n",
      "3 0\n",
      "3 1\n",
      "3 2\n",
      "3 3\n",
      "2 0\n",
      "2 1\n",
      "2 2\n",
      "1 0\n",
      "1 1\n",
      "0 0\n"
     ]
    },
    {
     "data": {
      "text/plain": [
       "[2, 3, 5, 8, 11]"
      ]
     },
     "execution_count": 4,
     "metadata": {},
     "output_type": "execute_result"
    }
   ],
   "source": [
    "Solution().sortArray(nums = [11,8,3,5,2])"
   ]
  },
  {
   "cell_type": "code",
   "execution_count": null,
   "id": "c223dff1",
   "metadata": {},
   "outputs": [],
   "source": []
  },
  {
   "cell_type": "code",
   "execution_count": null,
   "id": "73a21e81",
   "metadata": {},
   "outputs": [],
   "source": []
  }
 ],
 "metadata": {
  "kernelspec": {
   "display_name": "3.11.11",
   "language": "python",
   "name": "python3"
  },
  "language_info": {
   "codemirror_mode": {
    "name": "ipython",
    "version": 3
   },
   "file_extension": ".py",
   "mimetype": "text/x-python",
   "name": "python",
   "nbconvert_exporter": "python",
   "pygments_lexer": "ipython3",
   "version": "3.11.11"
  }
 },
 "nbformat": 4,
 "nbformat_minor": 5
}
