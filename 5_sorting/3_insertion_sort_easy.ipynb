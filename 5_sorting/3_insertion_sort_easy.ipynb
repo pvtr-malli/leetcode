{
 "cells": [
  {
   "cell_type": "code",
   "execution_count": 1,
   "id": "1d05b982",
   "metadata": {},
   "outputs": [],
   "source": [
    "class Solution:\n",
    "    def sortArray(self, nums: list[int]) -> list[int]:\n",
    "        n = len(nums)\n",
    "        # i -> 1 - n-1:\n",
    "        # j -> check from i -> 1. since we are checking j and j-1. we cant go until 0.\n",
    "        for i in range(1, n):\n",
    "            for j in range(i, 0, -1):\n",
    "                # check if that is smaller.\n",
    "                if nums[j] < nums[j-1]:\n",
    "                    nums[j], nums[j-1] = nums[j-1], nums[j]\n",
    "                else:\n",
    "                    break\n",
    "        return nums\n",
    "\n",
    "# tc - O(n^2)\n",
    "# sc - O(1)"
   ]
  },
  {
   "cell_type": "code",
   "execution_count": 2,
   "id": "2cac653a",
   "metadata": {},
   "outputs": [
    {
     "data": {
      "text/plain": [
       "[2, 3, 5, 8, 11]"
      ]
     },
     "execution_count": 2,
     "metadata": {},
     "output_type": "execute_result"
    }
   ],
   "source": [
    "Solution().sortArray(nums = [11,8,3,5,2])"
   ]
  },
  {
   "cell_type": "code",
   "execution_count": 3,
   "id": "109e8f6a",
   "metadata": {},
   "outputs": [],
   "source": [
    "class Solution:\n",
    "    def sortArray(self, nums: list[int]) -> list[int]:\n",
    "        # here is i is to just say how many times.\n",
    "        # j -- should be from i to 1.\n",
    "        self.insertion_sort_rec(nums, 1, 1, len(nums))\n",
    "        return nums\n",
    "\n",
    "    def insertion_sort_rec(self, nums, i,j,n):\n",
    "        if i == n:\n",
    "            return\n",
    "        \n",
    "        if j!=0:\n",
    "            if nums[j] < nums[j-1]:\n",
    "                    nums[j], nums[j-1] = nums[j-1], nums[j]\n",
    "                    self.insertion_sort_rec(nums, i, j-1, n)\n",
    "            else:\n",
    "                self.insertion_sort_rec(nums, i, j-1, n)\n",
    "        else:\n",
    "            self.insertion_sort_rec(nums, i+1, i+1, n)\n",
    "        "
   ]
  },
  {
   "cell_type": "code",
   "execution_count": 4,
   "id": "32df1ed0",
   "metadata": {},
   "outputs": [
    {
     "data": {
      "text/plain": [
       "[2, 3, 5, 8, 11]"
      ]
     },
     "execution_count": 4,
     "metadata": {},
     "output_type": "execute_result"
    }
   ],
   "source": [
    "Solution().sortArray(nums = [11,8,3,5,2])\n"
   ]
  },
  {
   "cell_type": "code",
   "execution_count": null,
   "id": "0a46d3b5",
   "metadata": {},
   "outputs": [],
   "source": []
  },
  {
   "cell_type": "code",
   "execution_count": null,
   "id": "0625ddf6",
   "metadata": {},
   "outputs": [],
   "source": []
  }
 ],
 "metadata": {
  "kernelspec": {
   "display_name": "3.11.11",
   "language": "python",
   "name": "python3"
  },
  "language_info": {
   "codemirror_mode": {
    "name": "ipython",
    "version": 3
   },
   "file_extension": ".py",
   "mimetype": "text/x-python",
   "name": "python",
   "nbconvert_exporter": "python",
   "pygments_lexer": "ipython3",
   "version": "3.11.11"
  }
 },
 "nbformat": 4,
 "nbformat_minor": 5
}
