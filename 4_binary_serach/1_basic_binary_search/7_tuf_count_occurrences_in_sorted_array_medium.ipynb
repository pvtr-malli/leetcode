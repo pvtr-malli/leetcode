{
 "cells": [
  {
   "cell_type": "markdown",
   "id": "a70674b9",
   "metadata": {},
   "source": [
    "poblem Statement: You are given a sorted array containing N integers and a number X, you have to find the occurrences of X in the given array.\n",
    "\n",
    "Examples\n",
    "\n",
    "Example 1:\n",
    "Input: N = 7,  X = 3 , array[] = {2, 2 , 3 , 3 , 3 , 3 , 4}\n",
    "Output: 4\n",
    "Explanation: 3 is occurring 4 times in \n",
    "the given array so it is our answer.\n",
    "\n",
    "Example 2:\n",
    "Input: N = 8,  X = 2 , array[] = {1, 1, 2, 2, 2, 2, 2, 3}\n",
    "Output: 5\n",
    "Explanation: 2 is occurring 5 times in the given array so it is our answer."
   ]
  },
  {
   "cell_type": "code",
   "execution_count": null,
   "id": "9a00d430",
   "metadata": {},
   "outputs": [],
   "source": [
    "# - this is exactly the 6th problem. find the first and last index. and resture (last_ind - first_ind) + 1\n",
    "\n",
    "\n",
    "# just rewritten, since there are only one line changing in two functions.\n",
    "\n",
    "class Solution:\n",
    "    def searchRange(self, nums: list[int], target: int) -> list[int]:\n",
    "        def find_target(first_or_last, nums, target):\n",
    "            \n",
    "            low, high = 0, len(nums) - 1\n",
    "            ans = -1\n",
    "            while low <= high:\n",
    "                mid = (low + high) // 2\n",
    "                if nums[mid] == target:\n",
    "                    if first_or_last == 1:\n",
    "                        # [5,7,7,8,8,10]\n",
    "                        # [f,f,f,t,t,t].    - first true... so if you find target, keep. searcing left for the fist one.\n",
    "                        # while tracking the mid.\n",
    "                        ans = mid\n",
    "                        high = mid - 1  # keep searching left \n",
    "                    else:\n",
    "                        # [5,7,7,8,8,10]\n",
    "                        # [f,f,f,t,t,f].    - last true... so if you find target, keep. searcing right for the last one.\n",
    "                        # while tracking the mid.\n",
    "                        ans = mid\n",
    "                        low = mid + 1  # keep searching right\n",
    "                elif nums[mid] < target:\n",
    "                    low = mid + 1\n",
    "                else:\n",
    "                    high = mid - 1\n",
    "            return ans\n",
    "\n",
    "        first = find_target(1, nums, target)\n",
    "        last = find_target(-1, nums, target)\n",
    "        return [first, last]\n",
    "    \n",
    "def count_occurances(arr, target):\n",
    "    first_ind, last_ind = Solution().searchRange(arr, target)\n",
    "    return (last_ind - first_ind) +1\n",
    "\n",
    "\n",
    "# tc - O(log n)\n",
    "# sc - O(1)"
   ]
  },
  {
   "cell_type": "code",
   "execution_count": 2,
   "id": "057a3de3",
   "metadata": {},
   "outputs": [
    {
     "data": {
      "text/plain": [
       "3"
      ]
     },
     "execution_count": 2,
     "metadata": {},
     "output_type": "execute_result"
    }
   ],
   "source": [
    "count_occurances(target=13, arr = [3,4,13,13,13,20,40])"
   ]
  },
  {
   "cell_type": "code",
   "execution_count": null,
   "id": "b1bec920",
   "metadata": {},
   "outputs": [],
   "source": []
  }
 ],
 "metadata": {
  "kernelspec": {
   "display_name": "3.11.11",
   "language": "python",
   "name": "python3"
  },
  "language_info": {
   "codemirror_mode": {
    "name": "ipython",
    "version": 3
   },
   "file_extension": ".py",
   "mimetype": "text/x-python",
   "name": "python",
   "nbconvert_exporter": "python",
   "pygments_lexer": "ipython3",
   "version": "3.11.11"
  }
 },
 "nbformat": 4,
 "nbformat_minor": 5
}
