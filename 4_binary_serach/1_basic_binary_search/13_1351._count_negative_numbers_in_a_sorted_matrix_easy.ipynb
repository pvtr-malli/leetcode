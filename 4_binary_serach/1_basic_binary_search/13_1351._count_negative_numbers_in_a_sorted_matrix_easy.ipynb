{
 "cells": [
  {
   "cell_type": "markdown",
   "id": "edc50d6d",
   "metadata": {},
   "source": [
    "1351. Count Negative Numbers in a Sorted Matrix\n",
    "\n",
    "Given a m x n matrix grid which is sorted in non-increasing order both row-wise and column-wise, return the number of negative numbers in grid.\n",
    "\n",
    " \n",
    "\n",
    "Example 1:\n",
    "\n",
    "Input: grid = [[4,3,2,-1],[3,2,1,-1],[1,1,-1,-2],[-1,-1,-2,-3]]\n",
    "Output: 8\n",
    "Explanation: There are 8 negatives number in the matrix.\n",
    "Example 2:\n",
    "\n",
    "Input: grid = [[3,2],[1,0]]\n",
    "Output: 0\n",
    " \n",
    "\n",
    "Constraints:\n",
    "\n",
    "m == grid.length\n",
    "n == grid[i].length\n",
    "1 <= m, n <= 100\n",
    "-100 <= grid[i][j] <= 100\n",
    " \n",
    "\n",
    "Follow up: Could you find an O(n + m) solution?"
   ]
  },
  {
   "cell_type": "code",
   "execution_count": null,
   "id": "9dd7e485",
   "metadata": {},
   "outputs": [],
   "source": [
    "class Solution:\n",
    "    def countNegatives(self, grid: list[list[int]]) -> int:\n",
    "        rows = len(grid)\n",
    "        cols = len(grid[0])\n",
    "        count = 0\n",
    "\n",
    "        row = 0\n",
    "        col = cols - 1 # # starting at the right top, since its decreasingly ordered.\n",
    "        \n",
    "        while row <= rows - 1 and col >=0: \n",
    "            print(row, col)\n",
    "            if grid[row][col] < 0:\n",
    "                count += rows - row \n",
    "                col -= 1\n",
    "            else: # grid[row][col] > 0\n",
    "                row += 1\n",
    "        return count\n",
    "\n",
    "# tc:\n",
    "# You move either one step left or one step down each time.\n",
    "# So total steps ≤ rows + cols.\n",
    "# tc - O(rows + cols)\n",
    "\n",
    "# sc - O(1)"
   ]
  },
  {
   "cell_type": "code",
   "execution_count": 4,
   "id": "e6f9af69",
   "metadata": {},
   "outputs": [
    {
     "name": "stdout",
     "output_type": "stream",
     "text": [
      "0 3\n",
      "0 2\n",
      "1 2\n",
      "2 2\n",
      "2 1\n",
      "3 1\n",
      "3 0\n"
     ]
    },
    {
     "data": {
      "text/plain": [
       "8"
      ]
     },
     "execution_count": 4,
     "metadata": {},
     "output_type": "execute_result"
    }
   ],
   "source": [
    "Solution().countNegatives(grid = [[4,3,2,-1],[3,2,1,-1],[1,1,-1,-2],[-1,-1,-2,-3]])"
   ]
  },
  {
   "cell_type": "code",
   "execution_count": 5,
   "id": "c7ab0fe9",
   "metadata": {},
   "outputs": [
    {
     "name": "stdout",
     "output_type": "stream",
     "text": [
      "0 1\n",
      "1 1\n"
     ]
    },
    {
     "data": {
      "text/plain": [
       "0"
      ]
     },
     "execution_count": 5,
     "metadata": {},
     "output_type": "execute_result"
    }
   ],
   "source": [
    "Solution().countNegatives(grid = [[3,2],[1,0]])"
   ]
  },
  {
   "cell_type": "code",
   "execution_count": null,
   "id": "5f1fc55d",
   "metadata": {},
   "outputs": [],
   "source": []
  }
 ],
 "metadata": {
  "kernelspec": {
   "display_name": "3.11.11",
   "language": "python",
   "name": "python3"
  },
  "language_info": {
   "codemirror_mode": {
    "name": "ipython",
    "version": 3
   },
   "file_extension": ".py",
   "mimetype": "text/x-python",
   "name": "python",
   "nbconvert_exporter": "python",
   "pygments_lexer": "ipython3",
   "version": "3.11.11"
  }
 },
 "nbformat": 4,
 "nbformat_minor": 5
}
