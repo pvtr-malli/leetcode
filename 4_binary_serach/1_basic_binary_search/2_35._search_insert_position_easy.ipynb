{
 "cells": [
  {
   "cell_type": "markdown",
   "id": "c018d678",
   "metadata": {},
   "source": [
    "Given a sorted array of distinct integers and a target value, return the index if the target is found. If not, return the index where it would be if it were inserted in order.\n",
    "\n",
    "You must write an algorithm with O(log n) runtime complexity.\n",
    "\n",
    " \n",
    "\n",
    "Example 1:\n",
    "\n",
    "Input: nums = [1,3,5,6], target = 5\n",
    "Output: 2\n",
    "Example 2:\n",
    "\n",
    "Input: nums = [1,3,5,6], target = 2\n",
    "Output: 1\n",
    "Example 3:\n",
    "\n",
    "Input: nums = [1,3,5,6], target = 7\n",
    "Output: 4\n",
    " \n",
    "\n",
    "Constraints:\n",
    "\n",
    "1 <= nums.length <= 104\n",
    "-104 <= nums[i] <= 104\n",
    "nums contains distinct values sorted in ascending order.\n",
    "-104 <= target <= 104"
   ]
  },
  {
   "cell_type": "code",
   "execution_count": 1,
   "id": "ae5c9292",
   "metadata": {},
   "outputs": [],
   "source": [
    "class Solution:\n",
    "    def search(self, nums: list[int], target: int) -> int:\n",
    "        low = 0\n",
    "        high = len(nums) - 1\n",
    "        while low <= high:\n",
    "            mid = (high + low) // 2\n",
    "            if nums[mid] == target:\n",
    "                return mid\n",
    "            if nums[mid] < target:\n",
    "                low = mid + 1\n",
    "            else:\n",
    "                high = mid - 1 \n",
    "\n",
    "        # Eventually, low becomes greater than high, and the loop ends.\n",
    "        # At this point:\n",
    "        # low is the index where the target should be inserted to maintain the sorted order.\n",
    "        # high + 1 == low\n",
    "        return low\n",
    "    \n",
    "\n",
    "# tc - O(log n )\n",
    "# sc - O(1)"
   ]
  },
  {
   "cell_type": "code",
   "execution_count": 2,
   "id": "37ec26a1",
   "metadata": {},
   "outputs": [
    {
     "data": {
      "text/plain": [
       "2"
      ]
     },
     "execution_count": 2,
     "metadata": {},
     "output_type": "execute_result"
    }
   ],
   "source": [
    "Solution().search(nums = [-1,0,3,5,9,12], target = 2)"
   ]
  },
  {
   "cell_type": "code",
   "execution_count": 3,
   "id": "a32e6cd9",
   "metadata": {},
   "outputs": [
    {
     "data": {
      "text/plain": [
       "0"
      ]
     },
     "execution_count": 3,
     "metadata": {},
     "output_type": "execute_result"
    }
   ],
   "source": [
    "Solution().search([1,3,5,6], target=0)\n"
   ]
  },
  {
   "cell_type": "code",
   "execution_count": 2,
   "id": "8416e702",
   "metadata": {},
   "outputs": [
    {
     "data": {
      "text/plain": [
       "4"
      ]
     },
     "execution_count": 2,
     "metadata": {},
     "output_type": "execute_result"
    }
   ],
   "source": [
    "Solution().search(nums = [1,3,5,6], target = 7)"
   ]
  },
  {
   "cell_type": "code",
   "execution_count": 8,
   "id": "0e5b3a1c",
   "metadata": {},
   "outputs": [],
   "source": [
    "class Solution:\n",
    "    def search(self, nums: list[int], target: int) -> int:\n",
    "        low = 0\n",
    "        high = len(nums) - 1\n",
    "        ans = len(nums)  # NOTE if we cant find the ele which is >= target, then we need to append in the end.\n",
    "        while low <= high:\n",
    "            mid = (high + low) // 2\n",
    "            if nums[mid] == target:\n",
    "                return mid\n",
    "            if nums[mid] < target:\n",
    "                low = mid + 1\n",
    "            else:\n",
    "                ans = mid\n",
    "                high = mid - 1 \n",
    "\n",
    "        # we are looking for the the first True. \n",
    "        # [1,3,5,7] target = 2. - question - the arr elements is greter than the target or not?\n",
    "        # [f,t,t,t] so looking for hte first true.\n",
    "        # If that is greter that could be the place if the extact target value is not found.\n",
    "        return ans \n",
    "    \n",
    "    \n",
    "\n",
    "# tc - O(log n )\n",
    "# sc - O(1)"
   ]
  },
  {
   "cell_type": "code",
   "execution_count": 9,
   "id": "123c8825",
   "metadata": {},
   "outputs": [
    {
     "data": {
      "text/plain": [
       "2"
      ]
     },
     "execution_count": 9,
     "metadata": {},
     "output_type": "execute_result"
    }
   ],
   "source": [
    "Solution().search(nums = [-1,0,3,5,9,12], target = 2)"
   ]
  },
  {
   "cell_type": "code",
   "execution_count": 10,
   "id": "89d2697c",
   "metadata": {},
   "outputs": [
    {
     "data": {
      "text/plain": [
       "0"
      ]
     },
     "execution_count": 10,
     "metadata": {},
     "output_type": "execute_result"
    }
   ],
   "source": [
    "Solution().search([1,3,5,6], target=0)\n"
   ]
  },
  {
   "cell_type": "code",
   "execution_count": 11,
   "id": "9ca08385",
   "metadata": {},
   "outputs": [
    {
     "data": {
      "text/plain": [
       "2"
      ]
     },
     "execution_count": 11,
     "metadata": {},
     "output_type": "execute_result"
    }
   ],
   "source": [
    "Solution().search(nums = [1,3,5,6], target = 5)"
   ]
  },
  {
   "cell_type": "code",
   "execution_count": 12,
   "id": "b10f9191",
   "metadata": {},
   "outputs": [
    {
     "data": {
      "text/plain": [
       "4"
      ]
     },
     "execution_count": 12,
     "metadata": {},
     "output_type": "execute_result"
    }
   ],
   "source": [
    "Solution().search(nums = [1,3,5,6], target = 7)"
   ]
  },
  {
   "cell_type": "code",
   "execution_count": null,
   "id": "c22ae668",
   "metadata": {},
   "outputs": [],
   "source": []
  }
 ],
 "metadata": {
  "kernelspec": {
   "display_name": "3.11.11",
   "language": "python",
   "name": "python3"
  },
  "language_info": {
   "codemirror_mode": {
    "name": "ipython",
    "version": 3
   },
   "file_extension": ".py",
   "mimetype": "text/x-python",
   "name": "python",
   "nbconvert_exporter": "python",
   "pygments_lexer": "ipython3",
   "version": "3.11.11"
  }
 },
 "nbformat": 4,
 "nbformat_minor": 5
}
