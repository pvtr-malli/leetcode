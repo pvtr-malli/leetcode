{
 "cells": [
  {
   "cell_type": "markdown",
   "metadata": {},
   "source": [
    "A peak element is an element that is strictly greater than its neighbors.\n",
    "\n",
    "Given a 0-indexed integer array nums, find a peak element, and return its index. If the array contains multiple peaks, return the index to any of the peaks.\n",
    "\n",
    "You may imagine that nums[-1] = nums[n] = -∞. In other words, an element is always considered to be strictly greater than a neighbor that is outside the array.\n",
    "\n",
    "You must write an algorithm that runs in O(log n) time.\n",
    "\n",
    " \n",
    "\n",
    "Example 1:\n",
    "\n",
    "Input: nums = [1,2,3,1]\n",
    "Output: 2\n",
    "Explanation: 3 is a peak element and your function should return the index number 2.\n",
    "Example 2:\n",
    "\n",
    "Input: nums = [1,2,1,3,5,6,4]\n",
    "Output: 5\n",
    "Explanation: Your function can return either index number 1 where the peak element is 2, or index number 5 where the peak element is 6."
   ]
  },
  {
   "cell_type": "code",
   "execution_count": null,
   "metadata": {},
   "outputs": [],
   "source": [
    "# Trick: We're essentially looking for an element where the element to its right is smaller.\n",
    "\n",
    "# SO the binary search is based on this and narrow down.\n",
    "\n",
    "\n",
    "\n",
    "# If nums[mid] > nums[mid+1] → you're in the descending slope, so the peak is to the left (including mid)\n",
    "\n",
    "# If nums[mid] < nums[mid+1] → you're in the ascending slope, so the peak is to the right\n",
    "\n",
    "class Solution:\n",
    "    def findPeakElement(self, nums: list[int]) -> int:\n",
    "        low, high = 0, len(nums) - 1\n",
    "        \n",
    "        while low < high:    #NOTE: strictly less than\n",
    "            mid = (low + high) // 2\n",
    "            \n",
    "            if nums[mid] > nums[mid + 1]:\n",
    "                high = mid  # peak is in left half (including mid)\n",
    "            else:\n",
    "                low = mid + 1  # peak is in right half\n",
    "        \n",
    "        return low  # or high, since low == high\n"
   ]
  },
  {
   "cell_type": "code",
   "execution_count": null,
   "metadata": {},
   "outputs": [],
   "source": []
  }
 ],
 "metadata": {
  "language_info": {
   "name": "python"
  }
 },
 "nbformat": 4,
 "nbformat_minor": 2
}
