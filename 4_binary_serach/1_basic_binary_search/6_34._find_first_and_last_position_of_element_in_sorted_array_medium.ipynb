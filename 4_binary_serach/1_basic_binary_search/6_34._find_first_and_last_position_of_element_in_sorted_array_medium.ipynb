{
 "cells": [
  {
   "cell_type": "markdown",
   "id": "4907220b",
   "metadata": {},
   "source": [
    "Given an array of integers nums sorted in non-decreasing order, find the starting and ending position of a given target value.\n",
    "\n",
    "If target is not found in the array, return [-1, -1].\n",
    "\n",
    "You must write an algorithm with O(log n) runtime complexity.\n",
    "\n",
    " \n",
    "\n",
    "Example 1:\n",
    "\n",
    "Input: nums = [5,7,7,8,8,10], target = 8\n",
    "Output: [3,4]\n",
    "Example 2:\n",
    "\n",
    "Input: nums = [5,7,7,8,8,10], target = 6\n",
    "Output: [-1,-1]\n",
    "Example 3:\n",
    "\n",
    "Input: nums = [], target = 0\n",
    "Output: [-1,-1]\n",
    " \n",
    "\n",
    "Constraints:\n",
    "\n",
    "0 <= nums.length <= 105\n",
    "-109 <= nums[i] <= 109\n",
    "nums is a non-decreasing array.\n",
    "-109 <= target <= 109"
   ]
  },
  {
   "cell_type": "markdown",
   "id": "a9291078",
   "metadata": {},
   "source": [
    "# intution 1:\n",
    "- search the target value using binary search - O(log n)\n",
    "- expand right and left to find the starting and ending point - O(n)\n",
    "\n",
    "# intutuin 2:\n",
    "- do one binary search for find the first occurances - O(log n)\n",
    "- do second binary search for finding the second occurances - o(log n)\n"
   ]
  },
  {
   "cell_type": "code",
   "execution_count": null,
   "id": "10f0b51f",
   "metadata": {},
   "outputs": [],
   "source": [
    "# intution 1:\n",
    "class Solution:\n",
    "    def searchRange(self, nums: list[int], target: int) -> list[int]:\n",
    "        index = self.binarySearch(nums, target)\n",
    "        if index == -1:\n",
    "            return [-1, -1]\n",
    "\n",
    "        # Expand from found index to left and right\n",
    "        left = right = index\n",
    "        while left > 0 and nums[left - 1] == target:\n",
    "            left -= 1\n",
    "        while right < len(nums) - 1 and nums[right + 1] == target:\n",
    "            right += 1\n",
    "\n",
    "        return [left, right]\n",
    "\n",
    "    def binarySearch(self, nums, target):\n",
    "        low, high = 0, len(nums) - 1\n",
    "        while low <= high:\n",
    "            mid = (low + high) // 2\n",
    "            if nums[mid] == target:\n",
    "                return mid\n",
    "            elif nums[mid] < target:\n",
    "                low = mid + 1\n",
    "            else:\n",
    "                high = mid - 1\n",
    "        return -1\n"
   ]
  },
  {
   "cell_type": "code",
   "execution_count": null,
   "id": "da0fe244",
   "metadata": {},
   "outputs": [],
   "source": [
    "# intution 2:\n",
    "\n",
    "\n",
    "class Solution:\n",
    "    def searchRange(self, nums: list[int], target: int) -> list[int]:\n",
    "        def findFirst(nums, target):\n",
    "            # [5,7,7,8,8,10]\n",
    "            # [f,f,f,t,t,t].    - first true... so if you find target, keep. searcing left for the fist one.\n",
    "            # while tracking the mid.\n",
    "            low, high = 0, len(nums) - 1\n",
    "            first = -1\n",
    "            while low <= high:\n",
    "                mid = (low + high) // 2\n",
    "                if nums[mid] == target:\n",
    "                    first = mid\n",
    "                    high = mid - 1  # keep searching left \n",
    "                elif nums[mid] < target:\n",
    "                    low = mid + 1\n",
    "                else:\n",
    "                    high = mid - 1\n",
    "            return first\n",
    "\n",
    "        def findLast(nums, target):\n",
    "            # [5,7,7,8,8,10]\n",
    "            # [f,f,f,t,t,f].    - last true... so if you find target, keep. searcing right for the last one.\n",
    "            # while tracking the mid.\n",
    "            low, high = 0, len(nums) - 1\n",
    "            last = -1\n",
    "            while low <= high:\n",
    "                mid = (low + high) // 2\n",
    "                if nums[mid] == target:\n",
    "                    last = mid\n",
    "                    low = mid + 1  # keep searching right\n",
    "                elif nums[mid] < target:\n",
    "                    low = mid + 1\n",
    "                else:\n",
    "                    high = mid - 1\n",
    "            return last\n",
    "\n",
    "        first = findFirst(nums, target)\n",
    "        last = findLast(nums, target)\n",
    "        return [first, last]\n"
   ]
  },
  {
   "cell_type": "code",
   "execution_count": 2,
   "id": "c7634db3",
   "metadata": {},
   "outputs": [
    {
     "name": "stdout",
     "output_type": "stream",
     "text": [
      "[3, 4]\n",
      "[-1, -1]\n"
     ]
    }
   ],
   "source": [
    "sol = Solution()\n",
    "print(sol.searchRange([5,7,7,8,8,10], 8))  # Output: [3, 4]\n",
    "print(sol.searchRange([5,7,7,8,8,10], 6))  # Output: [-1, -1]\n"
   ]
  },
  {
   "cell_type": "code",
   "execution_count": null,
   "id": "d3704a69",
   "metadata": {},
   "outputs": [],
   "source": [
    "\n",
    "# just rewritten, since there are only one line changing in two functions.\n",
    "\n",
    "class Solution:\n",
    "    def searchRange(self, nums: list[int], target: int) -> list[int]:\n",
    "        def find_target(first_or_last, nums, target):\n",
    "            \n",
    "            low, high = 0, len(nums) - 1\n",
    "            ans = -1\n",
    "            while low <= high:\n",
    "                mid = (low + high) // 2\n",
    "                if nums[mid] == target:\n",
    "                    if first_or_last == 1:\n",
    "                        # [5,7,7,8,8,10]\n",
    "                        # [f,f,f,t,t,t].    - first true... so if you find target, keep. searcing left for the fist one.\n",
    "                        # while tracking the mid.\n",
    "                        ans = mid\n",
    "                        high = mid - 1  # keep searching left \n",
    "                    else:\n",
    "                        # [5,7,7,8,8,10]\n",
    "                        # [f,f,f,t,t,f].    - last true... so if you find target, keep. searcing right for the last one.\n",
    "                        # while tracking the mid.\n",
    "                        ans = mid\n",
    "                        low = mid + 1  # keep searching right\n",
    "                elif nums[mid] < target:\n",
    "                    low = mid + 1\n",
    "                else:\n",
    "                    high = mid - 1\n",
    "            return ans\n",
    "\n",
    "        first = find_target(1, nums, target)\n",
    "        last = find_target(-1, nums, target)\n",
    "        return [first, last]"
   ]
  },
  {
   "cell_type": "code",
   "execution_count": 4,
   "id": "a3be20b1",
   "metadata": {},
   "outputs": [
    {
     "name": "stdout",
     "output_type": "stream",
     "text": [
      "[3, 4]\n",
      "[-1, -1]\n"
     ]
    }
   ],
   "source": [
    "sol = Solution()\n",
    "print(sol.searchRange([5,7,7,8,8,10], 8))  # Output: [3, 4]\n",
    "print(sol.searchRange([5,7,7,8,8,10], 6))  # Output: [-1, -1]\n",
    "\n"
   ]
  },
  {
   "cell_type": "code",
   "execution_count": null,
   "id": "a16614f8",
   "metadata": {},
   "outputs": [],
   "source": []
  }
 ],
 "metadata": {
  "kernelspec": {
   "display_name": "3.11.11",
   "language": "python",
   "name": "python3"
  },
  "language_info": {
   "codemirror_mode": {
    "name": "ipython",
    "version": 3
   },
   "file_extension": ".py",
   "mimetype": "text/x-python",
   "name": "python",
   "nbconvert_exporter": "python",
   "pygments_lexer": "ipython3",
   "version": "3.11.11"
  }
 },
 "nbformat": 4,
 "nbformat_minor": 5
}
