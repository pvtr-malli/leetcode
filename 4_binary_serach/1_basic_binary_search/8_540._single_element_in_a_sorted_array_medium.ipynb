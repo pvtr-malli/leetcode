{
 "cells": [
  {
   "cell_type": "markdown",
   "id": "19bf3835",
   "metadata": {},
   "source": [
    "You are given a sorted array consisting of only integers where every element appears exactly twice, except for one element which appears exactly once.\n",
    "\n",
    "Return the single element that appears only once.\n",
    "\n",
    "Your solution must run in O(log n) time and O(1) space.\n",
    "\n",
    " \n",
    "\n",
    "Example 1:\n",
    "\n",
    "Input: nums = [1,1,2,3,3,4,4,8,8]\n",
    "Output: 2\n",
    "Example 2:\n",
    "\n",
    "Input: nums = [3,3,7,7,10,11,11]\n",
    "Output: 10\n",
    " \n",
    "\n",
    "Constraints:\n",
    "\n",
    "1 <= nums.length <= 105\n",
    "0 <= nums[i] <= 105\n"
   ]
  },
  {
   "cell_type": "code",
   "execution_count": 1,
   "id": "7977e7aa",
   "metadata": {},
   "outputs": [],
   "source": [
    "# brute force:\n",
    "# can be easily solved by O(n) tc and O(n//2) sc.\n"
   ]
  },
  {
   "cell_type": "code",
   "execution_count": null,
   "id": "64fad8a0",
   "metadata": {},
   "outputs": [],
   "source": [
    "# since this sorted and have a splited search space. I can use bianry search .\n",
    "# [1,1,2,3,3,4,4,8,8]\n",
    "# [T,T,F,F,F,F,F,F,F] -- we are looking for hte first false.\n",
    "\n",
    "\n",
    "# formate:\n",
    "# if false:\n",
    "#   go left including the mid to find more Flase.\n",
    "# else:\n",
    "#   go right to find the false.\n",
    "\n",
    "\n",
    "\n",
    "# Intution:\n",
    "# for correctly placed:\n",
    "# 1st occurances of the number should be in - even index  => which means nums[i] == nums[i+1]\n",
    "# second                                    - odd. index. => which means nums[i] == nums[i-1]\n",
    "\n",
    "class Solution:\n",
    "    def is_correctly_placed(self, mid, nums):\n",
    "        if mid % 2 == 0:\n",
    "            return nums[mid] == nums[mid + 1]\n",
    "        else:\n",
    "            return nums[mid] == nums[mid - 1]\n",
    "\n",
    "    def singleNonDuplicate(self, nums: list[int]) -> int:\n",
    "        low = 0\n",
    "        high = len(nums) - 1\n",
    "        while low < high:\n",
    "            mid = (high + low) // 2\n",
    "\n",
    "            if self.is_correctly_placed(mid, nums) == False:\n",
    "                high = mid\n",
    "            else:\n",
    "                low = mid + 1\n",
    "        return nums[low]  # while the crossing happens, we are at the first False.\n",
    "    \n",
    "# tc - O(log n)\n",
    "# sc - O(1)"
   ]
  },
  {
   "cell_type": "code",
   "execution_count": 5,
   "id": "c933e0b8",
   "metadata": {},
   "outputs": [
    {
     "data": {
      "text/plain": [
       "2"
      ]
     },
     "execution_count": 5,
     "metadata": {},
     "output_type": "execute_result"
    }
   ],
   "source": [
    "Solution().singleNonDuplicate(nums = [1,1,2,3,3,4,4,8,8])"
   ]
  },
  {
   "cell_type": "code",
   "execution_count": 6,
   "id": "35ff0c16",
   "metadata": {},
   "outputs": [
    {
     "data": {
      "text/plain": [
       "10"
      ]
     },
     "execution_count": 6,
     "metadata": {},
     "output_type": "execute_result"
    }
   ],
   "source": [
    "Solution().singleNonDuplicate(nums = [3,3,7,7,10,11,11])"
   ]
  },
  {
   "cell_type": "code",
   "execution_count": null,
   "id": "5a65c06f",
   "metadata": {},
   "outputs": [],
   "source": []
  }
 ],
 "metadata": {
  "kernelspec": {
   "display_name": "3.11.11",
   "language": "python",
   "name": "python3"
  },
  "language_info": {
   "codemirror_mode": {
    "name": "ipython",
    "version": 3
   },
   "file_extension": ".py",
   "mimetype": "text/x-python",
   "name": "python",
   "nbconvert_exporter": "python",
   "pygments_lexer": "ipython3",
   "version": "3.11.11"
  }
 },
 "nbformat": 4,
 "nbformat_minor": 5
}
