{
 "cells": [
  {
   "cell_type": "markdown",
   "id": "9c68c176",
   "metadata": {},
   "source": [
    "oblem Statement: You're given an sorted array arr of n integers and an integer x. Find the floor and ceiling of x in arr[0..n-1].\n",
    "The floor of x is the largest element in the array which is smaller than or equal to x.\n",
    "The ceiling of x is the smallest element in the array greater than or equal to x.\n",
    "\n",
    "Pre-requisite: Lower Bound & Binary Search\n",
    "\n",
    "Example 1:\n",
    "Input Format: n = 6, arr[] ={3, 4, 4, 7, 8, 10}, x= 5\n",
    "Result: 4 7\n",
    "Explanation: The floor of 5 in the array is 4, and the ceiling of 5 in the array is 7.\n",
    "\n",
    "Example 2:\n",
    "Input Format: n = 6, arr[] ={3, 4, 4, 7, 8, 10}, x= 8\n",
    "Result: 8 8\n",
    "Explanation: The floor of 8 in the array is 8, and the ceiling of 8 in the array is also 8."
   ]
  },
  {
   "cell_type": "markdown",
   "id": "5a62020a",
   "metadata": {},
   "source": [
    "- floor: first number which is <= target. \n",
    "- ceil: first number which is >= target."
   ]
  },
  {
   "cell_type": "code",
   "execution_count": 3,
   "id": "d7832614",
   "metadata": {},
   "outputs": [],
   "source": [
    "def lower_bound(nums, target):\n",
    "    low = 0\n",
    "    high = len(nums) - 1\n",
    "    ans = len(nums)\n",
    "\n",
    "    while low <= high:\n",
    "        \n",
    "        mid = (high + low) // 2\n",
    "        if nums[mid] >= target:\n",
    "            ans = mid\n",
    "            # The mid is higer, look for first higest number so go to left and see\n",
    "            # is there anything less than mid.\n",
    "            high = mid - 1\n",
    "        else:\n",
    "            low = mid + 1\n",
    "\n",
    "    return ans \n",
    "\n",
    "def floor(nums, target):\n",
    "    low = 0\n",
    "    high = len(nums) - 1\n",
    "    ans = len(nums)\n",
    "\n",
    "    while low <= high:\n",
    "        \n",
    "        mid = (high + low) // 2\n",
    "        if nums[mid] <= target:\n",
    "            ans = mid\n",
    "            # looking for the first smallest element.\n",
    "            # mid is smaller than target. \n",
    "            # there could be some elements, which are bigger than mid and still smaller than target.\n",
    "            low = mid + 1\n",
    "        else:\n",
    "            high = mid - 1\n",
    "\n",
    "    return ans \n",
    "\n",
    "def getFloorAndCeil(arr, n, x):\n",
    "    f = floor(arr, x)\n",
    "    c = lower_bound(arr, x)\n",
    "    return (f, c)\n",
    "\n",
    "\n",
    "arr = [3, 4, 4, 7, 8, 10]\n",
    "n = 6\n",
    "x = 5\n",
    "ans = getFloorAndCeil(arr, n, x)\n",
    "# lower_ boubd == ceil\n",
    "\n",
    "\n",
    "# tc - O(log n)\n",
    "# sc - O(1)\n"
   ]
  },
  {
   "cell_type": "code",
   "execution_count": 4,
   "id": "72f7be8c",
   "metadata": {},
   "outputs": [
    {
     "data": {
      "text/plain": [
       "(2, 3)"
      ]
     },
     "execution_count": 4,
     "metadata": {},
     "output_type": "execute_result"
    }
   ],
   "source": [
    "ans"
   ]
  },
  {
   "cell_type": "code",
   "execution_count": null,
   "id": "ea1e62ae",
   "metadata": {},
   "outputs": [],
   "source": []
  }
 ],
 "metadata": {
  "kernelspec": {
   "display_name": "3.11.11",
   "language": "python",
   "name": "python3"
  },
  "language_info": {
   "codemirror_mode": {
    "name": "ipython",
    "version": 3
   },
   "file_extension": ".py",
   "mimetype": "text/x-python",
   "name": "python",
   "nbconvert_exporter": "python",
   "pygments_lexer": "ipython3",
   "version": "3.11.11"
  }
 },
 "nbformat": 4,
 "nbformat_minor": 5
}
