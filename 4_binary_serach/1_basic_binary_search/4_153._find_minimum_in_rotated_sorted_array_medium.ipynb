{
 "cells": [
  {
   "cell_type": "markdown",
   "id": "36a07962",
   "metadata": {},
   "source": [
    "Suppose an array of length n sorted in ascending order is rotated between 1 and n times. For example, the array nums = [0,1,2,4,5,6,7] might become:\n",
    "\n",
    "[4,5,6,7,0,1,2] if it was rotated 4 times.\n",
    "[0,1,2,4,5,6,7] if it was rotated 7 times.\n",
    "Notice that rotating an array [a[0], a[1], a[2], ..., a[n-1]] 1 time results in the array [a[n-1], a[0], a[1], a[2], ..., a[n-2]].\n",
    "\n",
    "Given the sorted rotated array nums of unique elements, return the minimum element of this array.\n",
    "\n",
    "You must write an algorithm that runs in O(log n) time.\n",
    "\n",
    " \n",
    "\n",
    "Example 1:\n",
    "\n",
    "Input: nums = [3,4,5,1,2]\n",
    "Output: 1\n",
    "Explanation: The original array was [1,2,3,4,5] rotated 3 times.\n",
    "Example 2:\n",
    "\n",
    "Input: nums = [4,5,6,7,0,1,2]\n",
    "Output: 0\n",
    "Explanation: The original array was [0,1,2,4,5,6,7] and it was rotated 4 times.\n",
    "Example 3:\n",
    "\n",
    "Input: nums = [11,13,15,17]\n",
    "Output: 11\n",
    "Explanation: The original array was [11,13,15,17] and it was rotated 4 times. \n",
    " \n",
    "\n",
    "Constraints:\n",
    "\n",
    "n == nums.length\n",
    "1 <= n <= 5000\n",
    "-5000 <= nums[i] <= 5000\n",
    "All the integers of nums are unique.\n",
    "nums is sorted and rotated between 1 and n times."
   ]
  },
  {
   "cell_type": "code",
   "execution_count": 1,
   "id": "7feea0f9",
   "metadata": {},
   "outputs": [],
   "source": [
    "class Solution:\n",
    "    def findMin(self, nums: list[int]) -> int:\n",
    "        # find which part is sorted, then find the min.\n",
    "        low = 0\n",
    "        high = len(nums) - 1\n",
    "\n",
    "        while low <= high:\n",
    "            mid = (low + high) // 2\n",
    "\n",
    "            if (nums[low] <= nums[mid]) and  (nums[low] <= nums[high]):  # [0, 1, 2]\n",
    "                # which means, this is sorted.\n",
    "                return nums[low]\n",
    "            else:\n",
    "                # which means this is not sorted.\n",
    "                if nums[mid] > nums[high]:\n",
    "                    low = mid + 1\n",
    "                else:\n",
    "                    high = mid\n",
    "            "
   ]
  },
  {
   "cell_type": "code",
   "execution_count": 2,
   "id": "26eaa385",
   "metadata": {},
   "outputs": [
    {
     "data": {
      "text/plain": [
       "1"
      ]
     },
     "execution_count": 2,
     "metadata": {},
     "output_type": "execute_result"
    }
   ],
   "source": [
    "Solution().findMin(nums = [3,4,5,1,2])"
   ]
  },
  {
   "cell_type": "code",
   "execution_count": 3,
   "id": "76c40bcc",
   "metadata": {},
   "outputs": [
    {
     "data": {
      "text/plain": [
       "0"
      ]
     },
     "execution_count": 3,
     "metadata": {},
     "output_type": "execute_result"
    }
   ],
   "source": [
    "Solution().findMin(nums = [4,5,6,7,0,1,2])"
   ]
  },
  {
   "cell_type": "code",
   "execution_count": 4,
   "id": "f4d88007",
   "metadata": {},
   "outputs": [
    {
     "data": {
      "text/plain": [
       "11"
      ]
     },
     "execution_count": 4,
     "metadata": {},
     "output_type": "execute_result"
    }
   ],
   "source": [
    "Solution().findMin(nums = [11,13,15,17])"
   ]
  },
  {
   "cell_type": "code",
   "execution_count": null,
   "id": "07dbf32a",
   "metadata": {},
   "outputs": [],
   "source": [
    "class Solution:\n",
    "    def findMin(self, nums) -> int:\n",
    "        start = 0\n",
    "        end = len(nums) - 1\n",
    "        while start < end:\n",
    "            mid = (start + end + 1) // 2\n",
    "            # Need to figure out the sorted side.\n",
    "            if nums[start] <= nums[mid]: # then the left side is sorted.\n",
    "                if nums[start] > nums[end]: # If so all the values from the start - mid will be greater than end. Since left is sorted.\n",
    "                    # and we need to find the min value.... so go to the right for min search\n",
    "                    start = mid\n",
    "                else:\n",
    "                    end = mid - 1\n",
    "            else: # The right side is sorted.\n",
    "                # In the right sorted, The first mid will be the smallest value because it is sorter.\n",
    "                # So got to left including the mid.\n",
    "                if nums[end] > nums[mid]:\n",
    "                    end = mid\n",
    "                else:\n",
    "                    start = mid\n",
    "\n",
    "        return nums[end]\n",
    "\n",
    "print(Solution().findMin([3,4,5,1,2]))"
   ]
  },
  {
   "cell_type": "code",
   "execution_count": null,
   "id": "13edb5a7",
   "metadata": {},
   "outputs": [],
   "source": [
    "# this works.\n",
    "\n",
    "# So if the mid < high: then the min is in the right side\n",
    "# else:\n",
    "#   got tot he left.\n",
    "\n",
    "class Solution:\n",
    "    def findMin(self, nums: list[int]) -> int:\n",
    "        low = 0\n",
    "        high = len(nums) - 1\n",
    "\n",
    "        while low < high:  # note: strictly less than\n",
    "            mid = (low + high) // 2\n",
    "\n",
    "            if nums[mid] > nums[high]:\n",
    "                # Minimum must be in the right half\n",
    "                low = mid + 1\n",
    "            else:\n",
    "                # Minimum is in the left half or at mid\n",
    "                high = mid\n",
    "        \n",
    "        return nums[low]  # low == high at the end\n"
   ]
  }
 ],
 "metadata": {
  "kernelspec": {
   "display_name": "3.11.11",
   "language": "python",
   "name": "python3"
  },
  "language_info": {
   "codemirror_mode": {
    "name": "ipython",
    "version": 3
   },
   "file_extension": ".py",
   "mimetype": "text/x-python",
   "name": "python",
   "nbconvert_exporter": "python",
   "pygments_lexer": "ipython3",
   "version": "3.11.11"
  }
 },
 "nbformat": 4,
 "nbformat_minor": 5
}
