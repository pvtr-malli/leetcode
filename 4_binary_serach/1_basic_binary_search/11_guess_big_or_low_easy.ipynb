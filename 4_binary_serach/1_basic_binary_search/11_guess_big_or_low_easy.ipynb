{
 "cells": [
  {
   "cell_type": "markdown",
   "metadata": {},
   "source": [
    "We are playing the Guess Game. The game is as follows:\n",
    "\n",
    "I pick a number from 1 to n. You have to guess which number I picked.\n",
    "\n",
    "Every time you guess wrong, I will tell you whether the number I picked is higher or lower than your guess.\n",
    "\n",
    "You call a pre-defined API int guess(int num), which returns three possible results:\n",
    "\n",
    "-1: Your guess is higher than the number I picked (i.e. num > pick).\n",
    "1: Your guess is lower than the number I picked (i.e. num < pick).\n",
    "0: your guess is equal to the number I picked (i.e. num == pick).\n",
    "Return the number that I picked.\n",
    "\n",
    "\n",
    "\n",
    "Example 1:\n",
    "\n",
    "Input: n = 10, pick = 6\n",
    "Output: 6\n",
    "Example 2:\n",
    "\n",
    "Input: n = 1, pick = 1\n",
    "Output: 1\n",
    "Example 3:\n",
    "\n",
    "Input: n = 2, pick = 1\n",
    "Output: 1"
   ]
  },
  {
   "cell_type": "code",
   "execution_count": null,
   "metadata": {},
   "outputs": [],
   "source": [
    "# The guess API is already defined for you.\n",
    "# @param num, your guess\n",
    "# @return -1 if num is higher than the picked number\n",
    "#          1 if num is lower than the picked number\n",
    "#          otherwise return 0\n",
    "# def guess(num: int) -> int:\n",
    "\n",
    "class Solution:\n",
    "    def guessNumber(self, n: int) -> int:\n",
    "        start = 0\n",
    "        end = n\n",
    "        while start <= end:\n",
    "            mid = (start + end) // 2\n",
    "            res_of_guess = guess(mid)\n",
    "            if  res_of_guess == 0:\n",
    "                return mid \n",
    "            elif res_of_guess == 1:\n",
    "                # the guess is lower than the number .\n",
    "                # so need to go bigger.\n",
    "                start = mid + 1\n",
    "            else:\n",
    "                # the guess is higher than the number.\n",
    "                end = mid - 1\n",
    "        "
   ]
  },
  {
   "cell_type": "code",
   "execution_count": null,
   "metadata": {},
   "outputs": [],
   "source": [
    "# can be writen using hte match statement also:\n",
    "\n",
    "\n",
    "# The guess API is already defined for you.\n",
    "# @param num, your guess\n",
    "# @return -1 if num is higher than the picked number\n",
    "#          1 if num is lower than the picked number\n",
    "#          otherwise return 0\n",
    "# def guess(num: int) -> int:\n",
    "\n",
    "class Solution:\n",
    "    # Time : O(log n) / Space : O(1)\n",
    "    def guessNumber(self, n: int) -> int:\n",
    "        left = 1\n",
    "        right = n\n",
    "        \n",
    "        while left <= right:\n",
    "            mid = (left + right) // 2\n",
    "            match guess(mid):\n",
    "                case -1:\n",
    "                    right = mid - 1\n",
    "                case 1:\n",
    "                    left = mid + 1\n",
    "                case _:\n",
    "                    return mid\n",
    "\n",
    "        return -1"
   ]
  },
  {
   "cell_type": "code",
   "execution_count": null,
   "metadata": {},
   "outputs": [],
   "source": []
  }
 ],
 "metadata": {
  "kernelspec": {
   "display_name": "3.11.11",
   "language": "python",
   "name": "python3"
  },
  "language_info": {
   "codemirror_mode": {
    "name": "ipython",
    "version": 3
   },
   "file_extension": ".py",
   "mimetype": "text/x-python",
   "name": "python",
   "nbconvert_exporter": "python",
   "pygments_lexer": "ipython3",
   "version": "3.11.11"
  }
 },
 "nbformat": 4,
 "nbformat_minor": 2
}
