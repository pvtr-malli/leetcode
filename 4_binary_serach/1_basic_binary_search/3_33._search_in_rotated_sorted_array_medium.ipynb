{
 "cells": [
  {
   "cell_type": "markdown",
   "id": "720d3cc7",
   "metadata": {},
   "source": [
    "There is an integer array nums sorted in ascending order (with distinct values).\n",
    "\n",
    "Prior to being passed to your function, nums is possibly rotated at an unknown pivot index k (1 <= k < nums.length) such that the resulting array is [nums[k], nums[k+1], ..., nums[n-1], nums[0], nums[1], ..., nums[k-1]] (0-indexed). For example, [0,1,2,4,5,6,7] might be rotated at pivot index 3 and become [4,5,6,7,0,1,2].\n",
    "\n",
    "Given the array nums after the possible rotation and an integer target, return the index of target if it is in nums, or -1 if it is not in nums.\n",
    "\n",
    "You must write an algorithm with O(log n) runtime complexity.\n",
    "\n",
    " \n",
    "\n",
    "Example 1:\n",
    "\n",
    "Input: nums = [4,5,6,7,0,1,2], target = 0\n",
    "Output: 4\n",
    "Example 2:\n",
    "\n",
    "Input: nums = [4,5,6,7,0,1,2], target = 3\n",
    "Output: -1\n",
    "Example 3:\n",
    "\n",
    "Input: nums = [1], target = 0\n",
    "Output: -1\n",
    " \n",
    "\n",
    "Constraints:\n",
    "\n",
    "1 <= nums.length <= 5000\n",
    "-104 <= nums[i] <= 104\n",
    "All values of nums are unique.\n",
    "nums is an ascending array that is possibly rotated.\n",
    "-104 <= target <= 104"
   ]
  },
  {
   "cell_type": "markdown",
   "id": "b3848157",
   "metadata": {},
   "source": [
    "- take the sorted part: low < mid\n",
    "- check the number falling in this part or not. if so be here, otherwise go to the other part."
   ]
  },
  {
   "cell_type": "code",
   "execution_count": null,
   "id": "a637a5fa",
   "metadata": {},
   "outputs": [],
   "source": [
    "# lienar search - O(n)\n",
    "\n",
    "# binary search modified:\n",
    "class Solution:\n",
    "    def search(self, nums: list[int], target: int) -> int:\n",
    "        low = 0\n",
    "        high = len(nums) - 1\n",
    "        while low <= high:\n",
    "            mid = (high + low ) // 2\n",
    "            if nums[mid] == target:\n",
    "                return mid\n",
    "            \n",
    "            if nums[low] <= nums[mid]:\n",
    "                # Means the left side is sortined.\n",
    "                if target >= nums[low] and target < nums[mid]:\n",
    "                    # we can check the target is in this part or not since it is sroted.\n",
    "                    # which means the number is present here, come here and check\n",
    "                    high = mid - 1\n",
    "                else:\n",
    "                    low = mid + 1\n",
    "            else: # the left side is sorted,\n",
    "                if target > nums[mid] and target <= nums[high]:\n",
    "                    # the taregte is in this left side go to right.\n",
    "                    low = mid + 1\n",
    "                else:\n",
    "                    high = mid - 1\n",
    "        return -1 \n",
    "    \n",
    "# tc - O(log n)\n",
    "# sc - O(1)"
   ]
  },
  {
   "cell_type": "code",
   "execution_count": 8,
   "id": "6612404f",
   "metadata": {},
   "outputs": [
    {
     "data": {
      "text/plain": [
       "4"
      ]
     },
     "execution_count": 8,
     "metadata": {},
     "output_type": "execute_result"
    }
   ],
   "source": [
    "Solution().search(nums = [4,5,6,7,0,1,2], target = 0)"
   ]
  },
  {
   "cell_type": "code",
   "execution_count": 9,
   "id": "74360750",
   "metadata": {},
   "outputs": [
    {
     "data": {
      "text/plain": [
       "-1"
      ]
     },
     "execution_count": 9,
     "metadata": {},
     "output_type": "execute_result"
    }
   ],
   "source": [
    "Solution().search(nums = [4,5,6,7,0,1,2], target = 3\n",
    "                  )"
   ]
  },
  {
   "cell_type": "code",
   "execution_count": 10,
   "id": "d3f64bf3",
   "metadata": {},
   "outputs": [
    {
     "data": {
      "text/plain": [
       "-1"
      ]
     },
     "execution_count": 10,
     "metadata": {},
     "output_type": "execute_result"
    }
   ],
   "source": [
    "Solution().search(nums = [1], target = 0)"
   ]
  },
  {
   "cell_type": "code",
   "execution_count": null,
   "id": "2ed8a54b",
   "metadata": {},
   "outputs": [],
   "source": []
  }
 ],
 "metadata": {
  "kernelspec": {
   "display_name": "3.11.11",
   "language": "python",
   "name": "python3"
  },
  "language_info": {
   "codemirror_mode": {
    "name": "ipython",
    "version": 3
   },
   "file_extension": ".py",
   "mimetype": "text/x-python",
   "name": "python",
   "nbconvert_exporter": "python",
   "pygments_lexer": "ipython3",
   "version": "3.11.11"
  }
 },
 "nbformat": 4,
 "nbformat_minor": 5
}
