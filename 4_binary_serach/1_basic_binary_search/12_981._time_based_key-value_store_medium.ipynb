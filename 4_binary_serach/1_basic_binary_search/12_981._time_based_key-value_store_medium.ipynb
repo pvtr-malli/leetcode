{
 "cells": [
  {
   "cell_type": "markdown",
   "id": "74580f30",
   "metadata": {},
   "source": [
    "Design a time-based key-value data structure that can store multiple values for the same key at different time stamps and retrieve the key's value at a certain timestamp.\n",
    "\n",
    "Implement the TimeMap class:\n",
    "\n",
    "TimeMap() Initializes the object of the data structure.\n",
    "void set(String key, String value, int timestamp) Stores the key key with the value value at the given time timestamp.\n",
    "String get(String key, int timestamp) Returns a value such that set was called previously, with timestamp_prev <= timestamp. If there are multiple such values, it returns the value associated with the largest timestamp_prev. If there are no values, it returns \"\".\n",
    " \n",
    "\n",
    "Example 1:\n",
    "\n",
    "Input\n",
    "[\"TimeMap\", \"set\", \"get\", \"get\", \"set\", \"get\", \"get\"]\n",
    "[[], [\"foo\", \"bar\", 1], [\"foo\", 1], [\"foo\", 3], [\"foo\", \"bar2\", 4], [\"foo\", 4], [\"foo\", 5]]\n",
    "Output\n",
    "[null, null, \"bar\", \"bar\", null, \"bar2\", \"bar2\"]\n",
    "\n",
    "Explanation\n",
    "TimeMap timeMap = new TimeMap();\n",
    "timeMap.set(\"foo\", \"bar\", 1);  // store the key \"foo\" and value \"bar\" along with timestamp = 1.\n",
    "timeMap.get(\"foo\", 1);         // return \"bar\"\n",
    "timeMap.get(\"foo\", 3);         // return \"bar\", since there is no value corresponding to foo at timestamp 3 and timestamp 2, then the only value is at timestamp 1 is \"bar\".\n",
    "timeMap.set(\"foo\", \"bar2\", 4); // store the key \"foo\" and value \"bar2\" along with timestamp = 4.\n",
    "timeMap.get(\"foo\", 4);         // return \"bar2\"\n",
    "timeMap.get(\"foo\", 5);         // return \"bar2\"\n",
    " \n",
    "\n",
    "Constraints:\n",
    "\n",
    "1 <= key.length, value.length <= 100\n",
    "key and value consist of lowercase English letters and digits.\n",
    "1 <= timestamp <= 107\n",
    "All the timestamps timestamp of set are strictly increasing. ######################################### NOTE ########################################\n",
    "At most 2 * 105 calls will be made to set and get."
   ]
  },
  {
   "cell_type": "code",
   "execution_count": null,
   "id": "aeb65cc4",
   "metadata": {},
   "outputs": [],
   "source": [
    "class TimeMap:\n",
    "\n",
    "    def __init__(self):\n",
    "        self.d: dict[str, list[tuple]] = {} # gonna be key: list[tupels]\n",
    "\n",
    "    def set(self, key: str, value: str, timestamp: int) -> None:\n",
    "        if key in self.d:\n",
    "            self.d[key].append((timestamp, value))\n",
    "        else:\n",
    "            self.d[key] = [(timestamp, value)]\n",
    "        \n",
    "    def get(self, key: str, timestamp: int) -> str:\n",
    "        if key not in self.d:\n",
    "            return \"\"\n",
    "        arr = self.d[key]\n",
    "        low = 0\n",
    "        high = len(arr) - 1\n",
    "        ans = \"\"\n",
    "\n",
    "        while low <= high:\n",
    "            mid = (low + high) // 2\n",
    "            # [1,2,3,4] # the value <= target - looking for the last true.\n",
    "            # [t,t,f,f] \n",
    "            print(arr, [mid])\n",
    "            if arr[mid][0] == timestamp:\n",
    "                return arr[mid][1]\n",
    "            elif arr[mid][0] < timestamp:\n",
    "                ans = arr[mid][1]\n",
    "                low = mid + 1\n",
    "            else:\n",
    "                high = mid-1\n",
    "        return ans\n",
    "\n",
    "\n",
    "\n",
    "# tc:\n",
    "# set - O(1)\n",
    "# get - O(log n)\n",
    "\n",
    "# sc - O(n*m)"
   ]
  },
  {
   "cell_type": "code",
   "execution_count": 14,
   "id": "de2758bb",
   "metadata": {},
   "outputs": [
    {
     "name": "stdout",
     "output_type": "stream",
     "text": [
      "[(1, 'bar')] [0]\n",
      "bar\n",
      "[(1, 'bar')] [0]\n",
      "bar\n",
      "[(1, 'bar'), (4, 'bar2')] [0]\n",
      "[(1, 'bar'), (4, 'bar2')] [1]\n",
      "bar2\n",
      "[(1, 'bar'), (4, 'bar2')] [0]\n",
      "[(1, 'bar'), (4, 'bar2')] [1]\n",
      "bar2\n"
     ]
    }
   ],
   "source": [
    "timeMap = TimeMap()\n",
    "timeMap.set(\"foo\", \"bar\", 1);  \n",
    "print(timeMap.get(\"foo\", 1))\n",
    "print(timeMap.get(\"foo\", 3))        \n",
    "timeMap.set(\"foo\", \"bar2\", 4); \n",
    "print(timeMap.get(\"foo\", 4))       \n",
    "print(timeMap.get(\"foo\", 5))  "
   ]
  },
  {
   "cell_type": "code",
   "execution_count": null,
   "id": "c512b3c7",
   "metadata": {},
   "outputs": [],
   "source": []
  }
 ],
 "metadata": {
  "kernelspec": {
   "display_name": "3.11.11",
   "language": "python",
   "name": "python3"
  },
  "language_info": {
   "codemirror_mode": {
    "name": "ipython",
    "version": 3
   },
   "file_extension": ".py",
   "mimetype": "text/x-python",
   "name": "python",
   "nbconvert_exporter": "python",
   "pygments_lexer": "ipython3",
   "version": "3.11.11"
  }
 },
 "nbformat": 4,
 "nbformat_minor": 5
}
