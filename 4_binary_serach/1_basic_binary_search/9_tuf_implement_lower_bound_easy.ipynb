{
 "cells": [
  {
   "cell_type": "markdown",
   "id": "ddd01466",
   "metadata": {},
   "source": [
    "Statement: Given a sorted array of N integers and an integer x, write a program to find the lower bound of x.\n",
    "\n",
    "Pre-requisite: Binary Search algorithm\n",
    "\n",
    "Examples\n",
    "\n",
    "Example 1:\n",
    "Input Format: N = 4, arr[] = {1,2,2,3}, x = 2\n",
    "Result: 1\n",
    "Explanation: Index 1 is the smallest index such that arr[1] >= x.\n",
    "\n",
    "Example 2:\n",
    "Input Format: N = 5, arr[] = {3,5,8,15,19}, x = 9\n",
    "Result: 3\n",
    "Explanation: Index 3 is the smallest index such that arr[3] >= x.\n",
    "\n",
    "\n",
    "\n"
   ]
  },
  {
   "cell_type": "code",
   "execution_count": null,
   "id": "f2e58c81",
   "metadata": {},
   "outputs": [],
   "source": [
    "# brute force:\n",
    "\n",
    "def lowerBound(arr: list[int], n: int, x: int) -> int:\n",
    "    for i in range(n):\n",
    "        if arr[i] >= x:\n",
    "            #lower bound found\n",
    "            return i\n",
    "    return n\n",
    "\n",
    "if __name__ == \"__main__\":\n",
    "    arr = [3, 5, 8, 15, 19]\n",
    "    n = 5\n",
    "    x = 9\n",
    "    ind = lowerBound(arr, n, x)\n",
    "    print(\"The lower bound is the index:\", ind)\n",
    "\n",
    "\n",
    "# tc- O(n)\n",
    "# sc - O(1)\n",
    "\n",
    "\n",
    "\n"
   ]
  },
  {
   "cell_type": "code",
   "execution_count": null,
   "id": "11f83d8b",
   "metadata": {},
   "outputs": [],
   "source": [
    "def lower_bound(nums, target):\n",
    "    low = 0\n",
    "    high = len(nums) - 1\n",
    "    ans = len(nums)\n",
    "\n",
    "    while low <= high:\n",
    "        \n",
    "        mid = (high + low) // 2\n",
    "        if nums[mid] >= target:\n",
    "            ans = mid\n",
    "            # The mid is higer, look for first higest number so go to left and see\n",
    "            # is there anything less than mid.\n",
    "            high = mid - 1\n",
    "        else:\n",
    "            low = mid + 1\n",
    "\n",
    "    return ans \n",
    "\n",
    "\n",
    "# tc - O(log n)\n",
    "# sc - O(1)\n"
   ]
  },
  {
   "cell_type": "code",
   "execution_count": 3,
   "id": "3d63df08",
   "metadata": {},
   "outputs": [
    {
     "data": {
      "text/plain": [
       "3"
      ]
     },
     "execution_count": 3,
     "metadata": {},
     "output_type": "execute_result"
    }
   ],
   "source": [
    "arr = [3, 5, 8, 15, 19]\n",
    "lower_bound(arr, 9)"
   ]
  },
  {
   "cell_type": "code",
   "execution_count": null,
   "id": "e092c134",
   "metadata": {},
   "outputs": [],
   "source": []
  }
 ],
 "metadata": {
  "kernelspec": {
   "display_name": "3.11.11",
   "language": "python",
   "name": "python3"
  },
  "language_info": {
   "codemirror_mode": {
    "name": "ipython",
    "version": 3
   },
   "file_extension": ".py",
   "mimetype": "text/x-python",
   "name": "python",
   "nbconvert_exporter": "python",
   "pygments_lexer": "ipython3",
   "version": "3.11.11"
  }
 },
 "nbformat": 4,
 "nbformat_minor": 5
}
