{
 "cells": [
  {
   "cell_type": "markdown",
   "id": "958f6a27",
   "metadata": {},
   "source": [
    "Suppose an array of length n sorted in ascending order is rotated between 1 and n times. For example, the array nums = [0,1,4,4,5,6,7] might become:\n",
    "\n",
    "[4,5,6,7,0,1,4] if it was rotated 4 times.\n",
    "[0,1,4,4,5,6,7] if it was rotated 7 times.\n",
    "Notice that rotating an array [a[0], a[1], a[2], ..., a[n-1]] 1 time results in the array [a[n-1], a[0], a[1], a[2], ..., a[n-2]].\n",
    "\n",
    "Given the sorted rotated array nums that may contain duplicates, return the minimum element of this array.\n",
    "\n",
    "You must decrease the overall operation steps as much as possible.\n",
    "\n",
    " \n",
    "\n",
    "Example 1:\n",
    "\n",
    "Input: nums = [1,3,5]\n",
    "Output: 1\n",
    "Example 2:\n",
    "\n",
    "Input: nums = [2,2,2,0,1]\n",
    "Output: 0\n",
    " \n",
    "\n",
    "Constraints:\n",
    "\n",
    "n == nums.length\n",
    "1 <= n <= 5000\n",
    "-5000 <= nums[i] <= 5000\n",
    "nums is sorted and rotated between 1 and n times.\n",
    " \n",
    "\n",
    "Follow up: This problem is similar to Find Minimum in Rotated Sorted Array, but nums may contain duplicates. Would this affect the runtime complexity? How and why?\n",
    "\n"
   ]
  },
  {
   "cell_type": "code",
   "execution_count": null,
   "id": "697c0231",
   "metadata": {},
   "outputs": [],
   "source": [
    "# The solution of 153. Find Minimum in Rotated Sorted Array :\n",
    "class Solution:\n",
    "    def findMin1(self, nums: list[int]) -> int:\n",
    "        # find which part is sorted, then find the min.\n",
    "        low = 0\n",
    "        high = len(nums) - 1\n",
    "\n",
    "        while low <= high:\n",
    "            mid = (low + high) // 2\n",
    "\n",
    "            if (nums[low] <= nums[mid]) and  (nums[low] <= nums[high]):  # [0, 1, 2]. -----> CONDITION: 1\n",
    "                # which means, the whole current search space is sorted.\n",
    "                return nums[low]\n",
    "            else:\n",
    "                # which means this is not sorted.\n",
    "                # [3,4,5,1,2] - if mid > high . here 5 > 2. means the rotated part is present in the right.\n",
    "                # so the min also will be on right.\n",
    "                if nums[mid] > nums[high]:  #  -----> CONDITION: 2\n",
    "                    low = mid + 1\n",
    "                else:\n",
    "                    high = mid\n",
    "            \n",
    "# This will pass most of the test cases: but what can go wrong when there are duplicate numbers.\n",
    "# - can't really decide the whole array is sorted or not\n",
    "# - if nums[mid] > nums[high] -- this will fail when mid and high is same."
   ]
  },
  {
   "cell_type": "code",
   "execution_count": null,
   "id": "49e623ce",
   "metadata": {},
   "outputs": [
    {
     "data": {
      "text/plain": [
       "3"
      ]
     },
     "execution_count": 2,
     "metadata": {},
     "output_type": "execute_result"
    }
   ],
   "source": [
    "# failing test cases:\n",
    "Solution().findMin1([3,3,1,3]) # here the first condition will fail since low, mid and high is same.\n",
    "# CONDITION: 2 -- ALSO fail, since mid and high is same.\n",
    "\n",
    "# So we cant use the first condition at all.\n",
    "# fix is to skip the redundunt high:\n",
    "# why this works:\n",
    "\n"
   ]
  },
  {
   "cell_type": "markdown",
   "id": "68156220",
   "metadata": {},
   "source": [
    "\n",
    "### ✅ Why `nums[mid] == nums[high]` is tricky:\n",
    "\n",
    "When `nums[mid] == nums[high]`, **you can't decide which side the minimum is on**, because:\n",
    "\n",
    "* It’s **possible** that the right half is all duplicates.    -- [3,3,1,3]\n",
    "* It’s **also possible** that the minimum is on the left half. -- [3,1,3,3,3]\n",
    "\n",
    "So, you can't discard either half **confidently**.\n",
    "\n",
    "---\n",
    "\n",
    "### 💡 Why is `high -= 1` a safe move?\n",
    "\n",
    "It’s because:\n",
    "\n",
    "* `nums[high] == nums[mid]`, so **removing `nums[high]` doesn’t remove the minimum** — it’s equal to `nums[mid]`, which is still in consideration.\n",
    "* In the **worst case**, we are doing a linear scan by shrinking the search space one-by-one (when many duplicates).\n",
    "\n",
    "```python\n",
    "Example: [3,3,1,3]\n",
    "mid = 1 → nums[mid] = 3\n",
    "high = 3 → nums[high] = 3\n",
    "→ Can't tell if min is in left or right.\n",
    "→ Safely do: high -= 1 (ignore a duplicate that’s equal to mid)\n",
    "```\n",
    "\n"
   ]
  },
  {
   "cell_type": "code",
   "execution_count": null,
   "id": "a61fe2ec",
   "metadata": {},
   "outputs": [],
   "source": [
    "# this works.\n",
    "\n",
    "# So if the mid > high: then the min is in the right side\n",
    "# else:\n",
    "#   got tot he left.\n",
    "\n",
    "class Solution:\n",
    "    def findMin(self, nums: list[int]) -> int:\n",
    "        low = 0\n",
    "        high = len(nums) - 1\n",
    "\n",
    "        while low < high:  # note: strictly less than\n",
    "            mid = (low + high) // 2\n",
    "\n",
    "            # if the mid and high is same, skip that high.\n",
    "            # why this works: we alreasy checked mid, and\n",
    "            if nums[mid] == nums[high]:\n",
    "                high -= 1\n",
    "\n",
    "            elif nums[mid] > nums[high]:\n",
    "                # Minimum must be in the right half\n",
    "                low = mid + 1\n",
    "            else:\n",
    "                # Minimum is in the left half or at mid\n",
    "                high = mid\n",
    "        \n",
    "        return nums[low]  # low == high at the end\n"
   ]
  },
  {
   "cell_type": "code",
   "execution_count": 5,
   "id": "0df62faf",
   "metadata": {},
   "outputs": [
    {
     "data": {
      "text/plain": [
       "1"
      ]
     },
     "execution_count": 5,
     "metadata": {},
     "output_type": "execute_result"
    }
   ],
   "source": [
    "Solution().findMin([3,3,1,3])"
   ]
  },
  {
   "cell_type": "code",
   "execution_count": null,
   "id": "7136b6f5",
   "metadata": {},
   "outputs": [],
   "source": []
  }
 ],
 "metadata": {
  "kernelspec": {
   "display_name": "3.11.11",
   "language": "python",
   "name": "python3"
  },
  "language_info": {
   "codemirror_mode": {
    "name": "ipython",
    "version": 3
   },
   "file_extension": ".py",
   "mimetype": "text/x-python",
   "name": "python",
   "nbconvert_exporter": "python",
   "pygments_lexer": "ipython3",
   "version": "3.11.11"
  }
 },
 "nbformat": 4,
 "nbformat_minor": 5
}
