{
 "cells": [
  {
   "cell_type": "markdown",
   "id": "168ef77f",
   "metadata": {},
   "source": [
    "You are given an integer mountain array arr of length n where the values increase to a peak element and then decrease.\n",
    "\n",
    "Return the index of the peak element.\n",
    "\n",
    "Your task is to solve it in O(log(n)) time complexity.\n",
    "\n",
    " \n",
    "\n",
    "Example 1:\n",
    "\n",
    "Input: arr = [0,1,0]\n",
    "\n",
    "Output: 1\n",
    "\n",
    "Example 2:\n",
    "\n",
    "Input: arr = [0,2,1,0]\n",
    "\n",
    "Output: 1\n",
    "\n",
    "Example 3:\n",
    "\n",
    "Input: arr = [0,10,5,2]\n",
    "\n",
    "Output: 1\n",
    "\n",
    " \n",
    "\n",
    "Constraints:\n",
    "\n",
    "3 <= arr.length <= 105\n",
    "0 <= arr[i] <= 106\n",
    "arr is guaranteed to be a mountain array."
   ]
  },
  {
   "cell_type": "code",
   "execution_count": null,
   "id": "771befe5",
   "metadata": {},
   "outputs": [],
   "source": [
    "class Solution:\n",
    "    def peakIndexInMountainArray(self, arr: list[int]) -> int:\n",
    "        # so we are looking for arr[i] > arr[i+1]. we are looking for the point where the decreasing line starts.\n",
    "        # arr = [0,10,5,2,1]\n",
    "        # arr = [f,t, t,t,t].  # since after the peak point it is decreasing, so everything will be arr[i] > arr[i+1].\n",
    "        # so we are looking for the first true.\n",
    "        low = 0\n",
    "        high = len(arr)-1\n",
    "        ans = high \n",
    "\n",
    "        while high >= low:\n",
    "            mid = (high + low) // 2\n",
    "\n",
    "            if arr[mid] > arr[mid + 1]:\n",
    "                ans = mid\n",
    "                high = mid - 1 # looking for first true.\n",
    "            else:\n",
    "                low = mid + 1\n",
    "        return ans\n",
    "# tc - O(log n)\n",
    "# sc - O(1)"
   ]
  },
  {
   "cell_type": "code",
   "execution_count": 2,
   "id": "c2d4de85",
   "metadata": {},
   "outputs": [
    {
     "data": {
      "text/plain": [
       "1"
      ]
     },
     "execution_count": 2,
     "metadata": {},
     "output_type": "execute_result"
    }
   ],
   "source": [
    "Solution().peakIndexInMountainArray(arr = [0,10,5,2])"
   ]
  },
  {
   "cell_type": "code",
   "execution_count": 3,
   "id": "ce7479f4",
   "metadata": {},
   "outputs": [
    {
     "data": {
      "text/plain": [
       "1"
      ]
     },
     "execution_count": 3,
     "metadata": {},
     "output_type": "execute_result"
    }
   ],
   "source": [
    "Solution().peakIndexInMountainArray(arr = [0,1,0])"
   ]
  },
  {
   "cell_type": "code",
   "execution_count": null,
   "id": "a1f14732",
   "metadata": {},
   "outputs": [],
   "source": []
  }
 ],
 "metadata": {
  "kernelspec": {
   "display_name": "3.11.11",
   "language": "python",
   "name": "python3"
  },
  "language_info": {
   "codemirror_mode": {
    "name": "ipython",
    "version": 3
   },
   "file_extension": ".py",
   "mimetype": "text/x-python",
   "name": "python",
   "nbconvert_exporter": "python",
   "pygments_lexer": "ipython3",
   "version": "3.11.11"
  }
 },
 "nbformat": 4,
 "nbformat_minor": 5
}
