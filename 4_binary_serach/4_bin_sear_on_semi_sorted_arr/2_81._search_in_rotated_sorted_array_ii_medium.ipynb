{
 "cells": [
  {
   "cell_type": "markdown",
   "id": "14b3b1a6",
   "metadata": {},
   "source": [
    "There is an integer array nums sorted in non-decreasing order (not necessarily with distinct values).\n",
    "\n",
    "Before being passed to your function, nums is rotated at an unknown pivot index k (0 <= k < nums.length) such that the resulting array is [nums[k], nums[k+1], ..., nums[n-1], nums[0], nums[1], ..., nums[k-1]] (0-indexed). For example, [0,1,2,4,4,4,5,6,6,7] might be rotated at pivot index 5 and become [4,5,6,6,7,0,1,2,4,4].\n",
    "\n",
    "Given the array nums after the rotation and an integer target, return true if target is in nums, or false if it is not in nums.\n",
    "\n",
    "You must decrease the overall operation steps as much as possible.\n",
    "\n",
    " \n",
    "\n",
    "Example 1:\n",
    "\n",
    "Input: nums = [2,5,6,0,0,1,2], target = 0\n",
    "Output: true\n",
    "Example 2:\n",
    "\n",
    "Input: nums = [2,5,6,0,0,1,2], target = 3\n",
    "Output: false\n",
    " \n",
    "\n",
    "Constraints:\n",
    "\n",
    "1 <= nums.length <= 5000\n",
    "-104 <= nums[i] <= 104\n",
    "nums is guaranteed to be rotated at some pivot.\n",
    "-104 <= target <= 104\n",
    " \n",
    "\n",
    "Follow up: This problem is similar to Search in Rotated Sorted Array, but nums may contain duplicates. Would this affect the runtime complexity? How and why?"
   ]
  },
  {
   "cell_type": "code",
   "execution_count": null,
   "id": "20647b82",
   "metadata": {},
   "outputs": [],
   "source": [
    "# This is the solution of the search in rotated array.\n",
    "\n",
    "# binary search modified:\n",
    "class Solution:\n",
    "    def search(self, nums: list[int], target: int) -> int:\n",
    "        low = 0\n",
    "        high = len(nums) - 1\n",
    "        while low <= high:\n",
    "            mid = (high + low ) // 2\n",
    "            if nums[mid] == target:\n",
    "                return True\n",
    "        \n",
    "            \n",
    "            if nums[low] <= nums[mid]:\n",
    "                # Means the left side is sortined.\n",
    "                if target >= nums[low] and target < nums[mid]:\n",
    "                    # we can check the target is in this part or not since it is sroted.\n",
    "                    # which means the number is present here, come here and check\n",
    "                    high = mid - 1\n",
    "                else:\n",
    "                    low = mid + 1\n",
    "            else: # the right side is sorted,\n",
    "                if target > nums[mid] and target <= nums[high]:\n",
    "                    # the taregte is in this right side go to right.\n",
    "                    low = mid + 1\n",
    "                else:\n",
    "                    high = mid - 1\n",
    "        return False\n",
    "\n",
    "# tc - O(log n)\n",
    "# sc - O(1)"
   ]
  },
  {
   "cell_type": "code",
   "execution_count": 23,
   "id": "1d5e6ad7",
   "metadata": {},
   "outputs": [
    {
     "data": {
      "text/plain": [
       "True"
      ]
     },
     "execution_count": 23,
     "metadata": {},
     "output_type": "execute_result"
    }
   ],
   "source": [
    "Solution().search( nums = [2,5,6,0,0,1,2], target = 0)"
   ]
  },
  {
   "cell_type": "code",
   "execution_count": 24,
   "id": "5de80d34",
   "metadata": {},
   "outputs": [
    {
     "data": {
      "text/plain": [
       "False"
      ]
     },
     "execution_count": 24,
     "metadata": {},
     "output_type": "execute_result"
    }
   ],
   "source": [
    "Solution().search(nums = [2,5,6,0,0,1,2], target = 3)"
   ]
  },
  {
   "cell_type": "code",
   "execution_count": 25,
   "id": "ec437a72",
   "metadata": {},
   "outputs": [
    {
     "data": {
      "text/plain": [
       "True"
      ]
     },
     "execution_count": 25,
     "metadata": {},
     "output_type": "execute_result"
    }
   ],
   "source": [
    "Solution().search([1,0,1,1,1], target=0)"
   ]
  },
  {
   "cell_type": "markdown",
   "id": "fd07c6f0",
   "metadata": {},
   "source": [
    "#### This is working in most of the cases and failing in [1,0,1,1,1]. -- here we can't really redecide which part is sorted using the current logic.\n",
    "#### this fails when nums[mid] == nums[low/high] .. "
   ]
  },
  {
   "cell_type": "code",
   "execution_count": null,
   "id": "e543a8f8",
   "metadata": {},
   "outputs": [],
   "source": [
    "# Now this works:\n",
    "\n",
    "# binary search modified:\n",
    "class Solution:\n",
    "    def search(self, nums: list[int], target: int) -> int:\n",
    "        low = 0\n",
    "        high = len(nums) - 1\n",
    "        while low <= high:\n",
    "            mid = (high + low ) // 2\n",
    "            if nums[mid] == target:\n",
    "                return True\n",
    "            \n",
    "            # we already checked the mid value, if the low and high is equal to mid. strink out the search space.\n",
    "            # since we cant decide the sorted half.\n",
    "            if nums[low] == nums[mid] == nums[high]:\n",
    "                low += 1\n",
    "                high -= 1\n",
    "            \n",
    "            elif nums[low] <= nums[mid]:\n",
    "                # Means the left side is sortined.\n",
    "                if target >= nums[low] and target < nums[mid]:\n",
    "                    # we can check the target is in this part or not since it is sroted.\n",
    "                    # which means the number is present here, come here and check\n",
    "                    high = mid - 1\n",
    "                else:\n",
    "                    low = mid + 1\n",
    "            else: # the right side is sorted,\n",
    "                if target > nums[mid] and target <= nums[high]:\n",
    "                    # the taregte is in this right side go to right.\n",
    "                    low = mid + 1\n",
    "                else:\n",
    "                    high = mid - 1\n",
    "        return False\n",
    "\n",
    "# Worst-case: O(n) — because of duplicates\n",
    "\n",
    "# Best/Average: O(log n) — behaves like binary search when no/less duplicates\n",
    "# sc - O(1)\n"
   ]
  },
  {
   "cell_type": "code",
   "execution_count": 30,
   "id": "56734db3",
   "metadata": {},
   "outputs": [
    {
     "data": {
      "text/plain": [
       "True"
      ]
     },
     "execution_count": 30,
     "metadata": {},
     "output_type": "execute_result"
    }
   ],
   "source": [
    "Solution().search([1,1,1,1,1,1,1,1,1,1,1,1,1,2,1,1,1,1,1], target=2)"
   ]
  },
  {
   "cell_type": "code",
   "execution_count": null,
   "id": "36403908",
   "metadata": {},
   "outputs": [],
   "source": []
  }
 ],
 "metadata": {
  "kernelspec": {
   "display_name": "3.11.11",
   "language": "python",
   "name": "python3"
  },
  "language_info": {
   "codemirror_mode": {
    "name": "ipython",
    "version": 3
   },
   "file_extension": ".py",
   "mimetype": "text/x-python",
   "name": "python",
   "nbconvert_exporter": "python",
   "pygments_lexer": "ipython3",
   "version": "3.11.11"
  }
 },
 "nbformat": 4,
 "nbformat_minor": 5
}
