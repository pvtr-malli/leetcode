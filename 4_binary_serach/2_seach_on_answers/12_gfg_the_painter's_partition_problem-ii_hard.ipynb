{
 "cells": [
  {
   "cell_type": "markdown",
   "id": "41ae0a42",
   "metadata": {},
   "source": [
    "Dilpreet wants to paint his dog's home that has n boards with different lengths. The length of ith board is given by arr[i] where arr[] is an array of n integers. He hired k painters for this work and each painter takes 1 unit time to paint 1 unit of the board.\n",
    "\n",
    "Return the minimum time to get this job done if all painters start together with the constraint that any painter will only paint continuous boards, say boards numbered [2,3,4] or only board [1] or nothing but not boards [2,4,5].\n",
    "\n",
    "Examples:\n",
    "\n",
    "Input: arr[] = [5, 10, 30, 20, 15], k = 3\n",
    "Output: 35\n",
    "Explanation: The most optimal way will be: Painter 1 allocation : [5,10], Painter 2 allocation : [30], Painter 3 allocation : [20,15], Job will be done when all painters finish i.e. at time = max(5+10, 30, 20+15) = 35\n",
    "Input: arr[] = [10, 20, 30, 40], k = 2\n",
    "Output: 60\n",
    "Explanation: The most optimal way to paint: Painter 1 allocation : [10,20,30], Painter 2 allocation : [40], Job will be complete at time = 60\n",
    "Input: arr[] = [100, 200, 300, 400], k = 1\n",
    "Output: 1000\n",
    "Explanation: There is only one painter, so the painter must paint all boards sequentially. The total time taken will be the sum of all board lengths, i.e., 100 + 200 + 300 + 400 = 1000.\n",
    "Constraints:\n",
    "1 ≤ arr.size() ≤ 105\n",
    "1 ≤ arr[i] ≤ 105\n",
    "1 ≤ k ≤ 105"
   ]
  },
  {
   "cell_type": "code",
   "execution_count": null,
   "id": "0cc81c2a",
   "metadata": {},
   "outputs": [],
   "source": [
    "# intution 1:\n",
    "# take the search space and try all the values in it, and find the min.\n",
    "\n",
    "# intution 2:\n",
    "# since the search space is sorted, we can try binary search to reduce the tc.\n",
    "# ex: [1,2,3,4]\n",
    "# minimum time to get the job done.\n",
    "# search space - [1,2,3,4,5,6,7,8,9,10]\n",
    "# rules        - [f,f,f,f,f,t,t,t,t,t] -- looking for th first true."
   ]
  },
  {
   "cell_type": "code",
   "execution_count": null,
   "id": "75a8bc49",
   "metadata": {},
   "outputs": [],
   "source": [
    "\n",
    "class Solution:\n",
    "    def can_paint_board(self, arr, max_painters, max_time):\n",
    "        # questin answered: Can we paint all the boards with atmost max_painters painters where\n",
    "        # maximum time to finish is 'max_time' ?\n",
    "        cur_painters = 1\n",
    "        cur_work_time = 0\n",
    "        for ele in arr:\n",
    "            if cur_work_time + ele <= max_time:\n",
    "                # this can be assigned to the current worker.\n",
    "                cur_work_time += ele \n",
    "            else:\n",
    "                # the current painter, cant take more work than this. assign to next one.\n",
    "                cur_work_time = ele \n",
    "                cur_painters += 1\n",
    "        return cur_painters <= max_painters\n",
    "\n",
    "    def minTime (self, arr, k):\n",
    "        low: int = max(arr)   # we are looking for the maximum working time of each try.\n",
    "        high: int  = sum(arr)  # all can be assigned to one painter, so sum.\n",
    "        ans: int = high \n",
    "\n",
    "        while low <= high:\n",
    "            mid: int = (high + low ) // 2\n",
    "\n",
    "            if self.can_paint_board(arr, k, mid):\n",
    "                ans = mid \n",
    "                high = mid - 1 # looking for first true,\n",
    "            else:\n",
    "                low = mid + 1\n",
    "        return ans\n",
    "\n",
    "\n",
    "# tc - O(n)[scanning through arr] * O(log (sum(arr) - max(arr)))[bin search] - O(n * log(sum(arr) - max(arr))))\n",
    "# sc - O(1)"
   ]
  },
  {
   "cell_type": "code",
   "execution_count": 3,
   "id": "fbdf3efc",
   "metadata": {},
   "outputs": [
    {
     "data": {
      "text/plain": [
       "35"
      ]
     },
     "execution_count": 3,
     "metadata": {},
     "output_type": "execute_result"
    }
   ],
   "source": [
    "Solution().minTime(arr= [5, 10, 30, 20, 15], k = 3)"
   ]
  },
  {
   "cell_type": "code",
   "execution_count": 4,
   "id": "26c2fc8c",
   "metadata": {},
   "outputs": [
    {
     "data": {
      "text/plain": [
       "60"
      ]
     },
     "execution_count": 4,
     "metadata": {},
     "output_type": "execute_result"
    }
   ],
   "source": [
    "Solution().minTime(arr= [10, 20, 30, 40], k = 2)"
   ]
  },
  {
   "cell_type": "code",
   "execution_count": 5,
   "id": "9a2c756a",
   "metadata": {},
   "outputs": [
    {
     "data": {
      "text/plain": [
       "1000"
      ]
     },
     "execution_count": 5,
     "metadata": {},
     "output_type": "execute_result"
    }
   ],
   "source": [
    "Solution().minTime(arr = [100, 200, 300, 400], k = 1)"
   ]
  },
  {
   "cell_type": "code",
   "execution_count": null,
   "id": "d54ddaa6",
   "metadata": {},
   "outputs": [],
   "source": []
  }
 ],
 "metadata": {
  "kernelspec": {
   "display_name": "3.11.11",
   "language": "python",
   "name": "python3"
  },
  "language_info": {
   "codemirror_mode": {
    "name": "ipython",
    "version": 3
   },
   "file_extension": ".py",
   "mimetype": "text/x-python",
   "name": "python",
   "nbconvert_exporter": "python",
   "pygments_lexer": "ipython3",
   "version": "3.11.11"
  }
 },
 "nbformat": 4,
 "nbformat_minor": 5
}
