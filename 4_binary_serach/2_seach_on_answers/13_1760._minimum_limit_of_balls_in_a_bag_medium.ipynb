{
 "cells": [
  {
   "cell_type": "markdown",
   "id": "16036921",
   "metadata": {},
   "source": [
    "You are given an integer array nums where the ith bag contains nums[i] balls. You are also given an integer maxOperations.\n",
    "\n",
    "You can perform the following operation at most maxOperations times:\n",
    "\n",
    "Take any bag of balls and divide it into two new bags with a positive number of balls.\n",
    "For example, a bag of 5 balls can become two new bags of 1 and 4 balls, or two new bags of 2 and 3 balls.\n",
    "Your penalty is the maximum number of balls in a bag. You want to minimize your penalty after the operations.\n",
    "\n",
    "Return the minimum possible penalty after performing the operations.\n",
    "\n",
    " \n",
    "\n",
    "Example 1:\n",
    "\n",
    "Input: nums = [9], maxOperations = 2\n",
    "Output: 3\n",
    "Explanation: \n",
    "- Divide the bag with 9 balls into two bags of sizes 6 and 3. [9] -> [6,3].\n",
    "- Divide the bag with 6 balls into two bags of sizes 3 and 3. [6,3] -> [3,3,3].\n",
    "The bag with the most number of balls has 3 balls, so your penalty is 3 and you should return 3.\n",
    "Example 2:\n",
    "\n",
    "Input: nums = [2,4,8,2], maxOperations = 4\n",
    "Output: 2\n",
    "Explanation:\n",
    "- Divide the bag with 8 balls into two bags of sizes 4 and 4. [2,4,8,2] -> [2,4,4,4,2].\n",
    "- Divide the bag with 4 balls into two bags of sizes 2 and 2. [2,4,4,4,2] -> [2,2,2,4,4,2].\n",
    "- Divide the bag with 4 balls into two bags of sizes 2 and 2. [2,2,2,4,4,2] -> [2,2,2,2,2,4,2].\n",
    "- Divide the bag with 4 balls into two bags of sizes 2 and 2. [2,2,2,2,2,4,2] -> [2,2,2,2,2,2,2,2].\n",
    "The bag with the most number of balls has 2 balls, so your penalty is 2, and you should return 2.\n",
    " \n",
    "\n",
    "Constraints:\n",
    "\n",
    "1 <= nums.length <= 105\n",
    "1 <= maxOperations, nums[i] <= 109"
   ]
  },
  {
   "cell_type": "markdown",
   "id": "a71d0bff",
   "metadata": {},
   "source": [
    "- So basically I want to find by what maximum number I can split the number within the maxOperatios.\n",
    "\n",
    "- [1,2,3,4,5,6,7,8]\n",
    "- [f,f,f,f,t,t,t,t] - finding the minimum/finding the first true.\n",
    "- question? - Can you split the given number into smaller numbers, each not exceeding max_num, using at most maxOperations splits?\n",
    "- ex: num = 10, max_num = 4 and maxOperation = 2. so numbers would be [4,4,2] count == maxOperation + 1 retunr True."
   ]
  },
  {
   "cell_type": "code",
   "execution_count": null,
   "id": "2a9f3801",
   "metadata": {},
   "outputs": [],
   "source": [
    "class Solution:\n",
    "    def minimumSize(self, nums: list[int], maxOperations: int) -> int:\n",
    "        def can_split_num(max_num):\n",
    "            # Can you split the given number into smaller numbers, each not exceeding max_num, using at most maxOperations splits?\n",
    "            operations = 0\n",
    "            for i in range(len(nums)):\n",
    "                if nums[i] <= max_num:\n",
    "                    continue # putting it just for the readablity purpose.\n",
    "                else:\n",
    "                    # the operation needed when the value is >= max_num is\n",
    "                    # 18 is the value and 4 is max num.\n",
    "                    # so opeartions needed is ((18 // 4) - 1) + (18 % 4 > 0)\n",
    "                    # (18 // 4) - 4\n",
    "                    # 18 % 4 > 0 True\n",
    "                    # 18 will be splited as 4,4,4,4,2 -- need 4 operations \n",
    "\n",
    "                    # same as 4 value and max_num =2 \n",
    "                    # (4//2) - 1 + (4%2 > 0) == 1\n",
    "                    # 4 will be splited as 2,2 - needs 1 opearion.\n",
    "                    operations += ((nums[i] // max_num) -1) + (nums[i] % max_num > 0)\n",
    "\n",
    "            return operations <= maxOperations\n",
    "        \n",
    "        low = 1\n",
    "        high = max(nums)\n",
    "        ans = high \n",
    "        while low <= high:\n",
    "            mid = (low + high ) // 2\n",
    "            if can_split_num(mid):\n",
    "                ans = mid \n",
    "                # keep looking lower value.\n",
    "                high = mid - 1\n",
    "            else:\n",
    "                low = mid + 1\n",
    "\n",
    "        return ans \n",
    "    \n",
    "# tc - O(n) [finding the operations needed] + O(log n)\n",
    "# sc - O(1)"
   ]
  },
  {
   "cell_type": "code",
   "execution_count": 6,
   "id": "696aa876",
   "metadata": {},
   "outputs": [
    {
     "data": {
      "text/plain": [
       "3"
      ]
     },
     "execution_count": 6,
     "metadata": {},
     "output_type": "execute_result"
    }
   ],
   "source": [
    "Solution().minimumSize(nums = [9], maxOperations = 2)"
   ]
  },
  {
   "cell_type": "code",
   "execution_count": 7,
   "id": "9312ebfd",
   "metadata": {},
   "outputs": [
    {
     "data": {
      "text/plain": [
       "2"
      ]
     },
     "execution_count": 7,
     "metadata": {},
     "output_type": "execute_result"
    }
   ],
   "source": [
    "Solution().minimumSize(nums = [2,4,8,2], maxOperations = 4)"
   ]
  },
  {
   "cell_type": "markdown",
   "id": "505c18b7",
   "metadata": {},
   "source": [
    "# More smaller version:"
   ]
  },
  {
   "cell_type": "code",
   "execution_count": 8,
   "id": "9f7bca84",
   "metadata": {},
   "outputs": [],
   "source": [
    "class Solution:\n",
    "    def minimumSize(self, nums: list[int], maxOperations: int) -> int:\n",
    "        def can_split_num(max_num):\n",
    "            # Can you split the given number into smaller numbers, each not exceeding max_num, using at most maxOperations splits?\n",
    "            operations = 0\n",
    "            for i in range(len(nums)):\n",
    "                if nums[i] > max_num:\n",
    "                    operations += ((nums[i] // max_num) -1) + (nums[i] % max_num > 0)\n",
    "            return operations <= maxOperations\n",
    "        \n",
    "        low = 1\n",
    "        high = max(nums)\n",
    "        ans = high \n",
    "        while low <= high:\n",
    "            mid = (low + high ) // 2\n",
    "            if can_split_num(mid):\n",
    "                ans = mid \n",
    "                # keep looking lower value.\n",
    "                high = mid - 1\n",
    "            else:\n",
    "                low = mid + 1\n",
    "\n",
    "        return ans \n",
    "    \n",
    "# tc - O(n) [finding the operations needed] + O(log n)\n",
    "# sc - O(1)"
   ]
  },
  {
   "cell_type": "code",
   "execution_count": null,
   "id": "495f2db3",
   "metadata": {},
   "outputs": [],
   "source": []
  },
  {
   "cell_type": "code",
   "execution_count": null,
   "id": "f8f53243",
   "metadata": {},
   "outputs": [],
   "source": []
  }
 ],
 "metadata": {
  "kernelspec": {
   "display_name": "3.11.11",
   "language": "python",
   "name": "python3"
  },
  "language_info": {
   "codemirror_mode": {
    "name": "ipython",
    "version": 3
   },
   "file_extension": ".py",
   "mimetype": "text/x-python",
   "name": "python",
   "nbconvert_exporter": "python",
   "pygments_lexer": "ipython3",
   "version": "3.11.11"
  }
 },
 "nbformat": 4,
 "nbformat_minor": 5
}
