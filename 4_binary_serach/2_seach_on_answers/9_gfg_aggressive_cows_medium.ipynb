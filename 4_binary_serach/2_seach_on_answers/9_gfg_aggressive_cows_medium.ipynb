{
 "cells": [
  {
   "cell_type": "markdown",
   "id": "0c0d9081",
   "metadata": {},
   "source": [
    "You are given an array with unique elements of stalls[], which denote the position of a stall. You are also given an integer k which denotes the number of aggressive cows. Your task is to assign stalls to k cows such that the minimum distance between any two of them is the maximum possible.\n",
    "\n",
    "Examples :\n",
    "\n",
    "Input: stalls[] = [1, 2, 4, 8, 9], k = 3\n",
    "Output: 3\n",
    "Explanation: The first cow can be placed at stalls[0], \n",
    "the second cow can be placed at stalls[2] and \n",
    "the third cow can be placed at stalls[3]. \n",
    "The minimum distance between cows, in this case, is 3, which also is the largest among all possible ways.\n",
    "Input: stalls[] = [10, 1, 2, 7, 5], k = 3\n",
    "Output: 4\n",
    "Explanation: The first cow can be placed at stalls[0],\n",
    "the second cow can be placed at stalls[1] and\n",
    "the third cow can be placed at stalls[4].\n",
    "The minimum distance between cows, in this case, is 4, which also is the largest among all possible ways.\n",
    "Input: stalls[] = [2, 12, 11, 3, 26, 7], k = 5\n",
    "Output: 1\n",
    "Explanation: Each cow can be placed in any of the stalls, as the no. of stalls are exactly equal to the number of cows.\n",
    "The minimum distance between cows, in this case, is 1, which also is the largest among all possible ways.\n",
    "Constraints:\n",
    "2 <= stalls.size() <= 106\n",
    "0 <= stalls[i] <= 108\n",
    "2 <= k <= stalls.size()"
   ]
  },
  {
   "cell_type": "markdown",
   "id": "25b8cdbc",
   "metadata": {},
   "source": [
    "# intution 1:\n",
    "- try out all the caposity possible and retunr the minimum.\n",
    "\n",
    "# intution 2:\n",
    "- since the search space is sorted, we can try binary search."
   ]
  },
  {
   "cell_type": "code",
   "execution_count": null,
   "id": "b140720e",
   "metadata": {},
   "outputs": [],
   "source": [
    "class Solution:\n",
    "    def canPlaceCows(self, stalls, cows, min_dist):\n",
    "        cows_placed = 1\n",
    "        last_pos = stalls[0]\n",
    "\n",
    "        for i in range(1, len(stalls)):\n",
    "            if stalls[i] - last_pos >= min_dist:\n",
    "                cows_placed += 1\n",
    "                last_pos = stalls[i]\n",
    "                if cows_placed == cows:\n",
    "                    return True\n",
    "        return False\n",
    "    \n",
    "    def aggressiveCows(self, stalls: list[int], k: int) -> int:\n",
    "        # it was not given this is soreted.\n",
    "        stalls.sort()\n",
    "\n",
    "        low = 1  # minimum possible distance\n",
    "        high = stalls[-1] - stalls[0]  # maximum possible distance\n",
    "        ans = -1\n",
    "\n",
    "\n",
    "        while low <= high:\n",
    "            mid = (low + high) // 2\n",
    "            # check: Can you please cows with the mid distance of mid ?\n",
    "            if self.canPlaceCows(stalls, k, mid):\n",
    "                # if you can place.\n",
    "                # we are looking for the last true.\n",
    "                # [1,2,3,4,5,6,7,8,9]\n",
    "                # [t,t,t,f,f,f,f,f,f]. - we want the maximum of min distance. so the last true.\n",
    "\n",
    "\n",
    "                ans = mid  # valid distance, so go to right to find the more bigger one.\n",
    "                low = mid + 1\n",
    "            else:\n",
    "                high = mid - 1\n",
    "\n",
    "        return ans"
   ]
  },
  {
   "cell_type": "code",
   "execution_count": null,
   "id": "ea59bcb6",
   "metadata": {},
   "outputs": [],
   "source": [
    "# Sorting: O(n log n)\n",
    "# Binary Search iterations: O(log(max_dist))\n",
    "# Placement check: O(n)\n",
    "\n",
    "# So, total: O(n log max_dist)\n",
    "\n",
    "# sc - O(1)"
   ]
  },
  {
   "cell_type": "markdown",
   "id": "5490230f",
   "metadata": {},
   "source": [
    "canPlaceCows(stalls, 3, 3):\n",
    "\n",
    "| i | stall\\[i] | last\\_pos | stall\\[i] - last\\_pos | Can Place? | Cows Placed |\n",
    "| - | --------- | --------- | --------------------- | ---------- | ----------- |\n",
    "| - | -         | 1         | -                     | -          | 1           |\n",
    "| 1 | 2         | 1         | 1                     | ❌          | 1           |\n",
    "| 2 | 4         | 1         | 3                     | ✅          | 2           |\n",
    "| 3 | 8         | 4         | 4                     | ✅          | 3           |\n"
   ]
  }
 ],
 "metadata": {
  "language_info": {
   "name": "python"
  }
 },
 "nbformat": 4,
 "nbformat_minor": 5
}
