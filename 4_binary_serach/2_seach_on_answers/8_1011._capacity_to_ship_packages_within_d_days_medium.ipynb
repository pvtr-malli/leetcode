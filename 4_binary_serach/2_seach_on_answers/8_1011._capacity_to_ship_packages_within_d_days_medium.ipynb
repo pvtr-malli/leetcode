{
 "cells": [
  {
   "cell_type": "markdown",
   "metadata": {},
   "source": [
    "A conveyor belt has packages that must be shipped from one port to another within days days.\n",
    "\n",
    "The ith package on the conveyor belt has a weight of weights[i]. Each day, we load the ship with packages on the conveyor belt (in the order given by weights). We may not load more weight than the maximum weight capacity of the ship.\n",
    "\n",
    "Return the least weight capacity of the ship that will result in all the packages on the conveyor belt being shipped within days days.\n",
    "\n",
    " \n",
    "\n",
    "Example 1:\n",
    "\n",
    "Input: weights = [1,2,3,4,5,6,7,8,9,10], days = 5\n",
    "Output: 15\n",
    "Explanation: A ship capacity of 15 is the minimum to ship all the packages in 5 days like this:\n",
    "1st day: 1, 2, 3, 4, 5\n",
    "2nd day: 6, 7\n",
    "3rd day: 8\n",
    "4th day: 9\n",
    "5th day: 10\n",
    "\n",
    "Note that the cargo must be shipped in the order given, so using a ship of capacity 14 and splitting the packages into parts like (2, 3, 4, 5), (1, 6, 7), (8), (9), (10) is not allowed.\n",
    "Example 2:\n",
    "\n",
    "Input: weights = [3,2,2,4,1,4], days = 3\n",
    "Output: 6\n",
    "Explanation: A ship capacity of 6 is the minimum to ship all the packages in 3 days like this:\n",
    "1st day: 3, 2\n",
    "2nd day: 2, 4\n",
    "3rd day: 1, 4\n",
    "Example 3:\n",
    "\n",
    "Input: weights = [1,2,3,1,1], days = 4\n",
    "Output: 3\n",
    "Explanation:\n",
    "1st day: 1\n",
    "2nd day: 2\n",
    "3rd day: 3\n",
    "4th day: 1, 1\n"
   ]
  },
  {
   "cell_type": "markdown",
   "metadata": {},
   "source": [
    "# intution 1:\n",
    "- try out all the caposity possible and retunr the minim.\n",
    "\n",
    "# intution 2:\n",
    "- since the search space is sorted, we can try binary search."
   ]
  },
  {
   "cell_type": "code",
   "execution_count": null,
   "metadata": {},
   "outputs": [],
   "source": [
    "class Solution:\n",
    "    def capacity_posible(self, weights, days, capacity):\n",
    "        n = len(weights)\n",
    "        i = 0\n",
    "        taken_days = 0\n",
    "        while i < n:\n",
    "            # if some day weight > capacity --we can't load that so not posible\n",
    "            if weights[i] > capacity:\n",
    "                return False\n",
    "            \n",
    "            current_day_load = 0\n",
    "            while i < n and (current_day_load + weights[i] <= capacity):\n",
    "                current_day_load += weights[i]\n",
    "                i += 1\n",
    "            taken_days += 1\n",
    "            \n",
    "        return taken_days <= days \n",
    "\n",
    "    def shipWithinDays(self, weights, days: int) -> int:\n",
    "        high = sum(weights)\n",
    "        low = max(weights)\n",
    "        ans = high\n",
    "        if days == 1: return high\n",
    "        while low <= high:\n",
    "            mid = (low + high) // 2\n",
    "            # if the mid capacity is posible --we can go lwft and find the min capacity posible\n",
    "            if self.capacity_posible(weights, days, mid):\n",
    "                ans = mid\n",
    "                high = mid - 1\n",
    "            else:\n",
    "                low = mid + 1\n",
    "        return ans"
   ]
  },
  {
   "cell_type": "code",
   "execution_count": 12,
   "metadata": {},
   "outputs": [
    {
     "name": "stdout",
     "output_type": "stream",
     "text": [
      "15\n",
      "6\n",
      "3\n"
     ]
    }
   ],
   "source": [
    "print(Solution().shipWithinDays([1,2,3,4,5,6,7,8,9,10], 5))\n",
    "print(Solution().shipWithinDays([3,2,2,4,1,4], 3))\n",
    "print(Solution().shipWithinDays([1,2,3,1,1], 4))"
   ]
  },
  {
   "cell_type": "code",
   "execution_count": 3,
   "metadata": {},
   "outputs": [
    {
     "data": {
      "text/plain": [
       "32"
      ]
     },
     "execution_count": 3,
     "metadata": {},
     "output_type": "execute_result"
    }
   ],
   "source": [
    "(sum([1,2,3,4,5,6,7,8,9,10]) + max([1,2,3,4,5,6,7,8,9,10])) // 2"
   ]
  },
  {
   "cell_type": "markdown",
   "metadata": {},
   "source": [
    "\n",
    "\n",
    "* **Binary Search iterations:**\n",
    "  The search range is from `maxW` to `sum(W)`, so at most:\n",
    "\n",
    "  $$\n",
    "  O(\\log(\\text{sum(W)} - \\max(W)))\n",
    "  $$\n",
    "\n",
    "* **Simulation per iteration:** you scan all packages once ⇒ `O(n)` where `n = len(W)`\n",
    "\n",
    "---\n",
    "\n",
    "### Total Time Complexity:\n",
    "\n",
    "$$\n",
    "O(n \\cdot \\log(\\text{sum(W)} - \\max(W)))\n",
    "$$\n",
    "\n",
    "---\n",
    "\n",
    "\n",
    "### sc - O(1)\n"
   ]
  },
  {
   "cell_type": "code",
   "execution_count": null,
   "metadata": {},
   "outputs": [],
   "source": []
  },
  {
   "cell_type": "code",
   "execution_count": null,
   "metadata": {},
   "outputs": [],
   "source": []
  }
 ],
 "metadata": {
  "kernelspec": {
   "display_name": "3.11.11",
   "language": "python",
   "name": "python3"
  },
  "language_info": {
   "codemirror_mode": {
    "name": "ipython",
    "version": 3
   },
   "file_extension": ".py",
   "mimetype": "text/x-python",
   "name": "python",
   "nbconvert_exporter": "python",
   "pygments_lexer": "ipython3",
   "version": "3.11.11"
  }
 },
 "nbformat": 4,
 "nbformat_minor": 2
}
