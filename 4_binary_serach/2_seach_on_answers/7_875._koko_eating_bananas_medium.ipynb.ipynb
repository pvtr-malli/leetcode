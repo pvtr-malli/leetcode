{
 "cells": [
  {
   "cell_type": "markdown",
   "metadata": {},
   "source": [
    "Koko loves to eat bananas. There are n piles of bananas, the ith pile has piles[i] bananas. The guards have gone and will come back in h hours.\n",
    "\n",
    "Koko can decide her bananas-per-hour eating speed of k. Each hour, she chooses some pile of bananas and eats k bananas from that pile. If the pile has less than k bananas, she eats all of them instead and will not eat any more bananas during this hour.\n",
    "\n",
    "Koko likes to eat slowly but still wants to finish eating all the bananas before the guards return.\n",
    "\n",
    "Return the minimum integer k such that she can eat all the bananas within h hours.\n",
    "\n",
    " \n",
    "\n",
    "Example 1:\n",
    "\n",
    "Input: piles = [3,6,7,11], h = 8\n",
    "Output: 4\n",
    "Example 2:\n",
    "\n",
    "Input: piles = [30,11,23,4,20], h = 5\n",
    "Output: 30\n",
    "Example 3:\n",
    "\n",
    "Input: piles = [30,11,23,4,20], h = 6\n",
    "Output: 23"
   ]
  },
  {
   "cell_type": "code",
   "execution_count": 5,
   "metadata": {},
   "outputs": [],
   "source": [
    "class Solution:\n",
    "    def how_many_hours_to_eat(self, a, m):\n",
    "        # m - number of banana can eat per hour\n",
    "        hours = 0\n",
    "        for i in range(len(a)):\n",
    "            # element less than m -- needs 1 hour to eat\n",
    "            if a[i] < m:\n",
    "                hours += 1\n",
    "            else:\n",
    "                hours += (a[i]// m)\n",
    "                if a[i] % m != 0:\n",
    "                    # add one for the all remaing banana\n",
    "                    hours += 1\n",
    "        return hours\n",
    "\n",
    "    def minEatingSpeed(self, piles, h: int) -> int:\n",
    "        # finding the min and max value in a single go\n",
    "        high = max(piles)\n",
    "        low = 1\n",
    "        ans = high\n",
    "        # if hours (h) == len(piles) -- we need to eat k (max(piles)) number of banana per hour\n",
    "        if len(piles) == h:\n",
    "            return high\n",
    "\n",
    "        while low <= high:\n",
    "            mid = (low + high) // 2\n",
    "            hours_to_eat = self.how_many_hours_to_eat(piles,mid)\n",
    "\n",
    "            if hours_to_eat <= h:\n",
    "                ans = mid\n",
    "                high = mid - 1\n",
    "            else:\n",
    "                low = mid + 1\n",
    "        return ans"
   ]
  },
  {
   "cell_type": "code",
   "execution_count": 6,
   "metadata": {},
   "outputs": [
    {
     "data": {
      "text/plain": [
       "4"
      ]
     },
     "execution_count": 6,
     "metadata": {},
     "output_type": "execute_result"
    }
   ],
   "source": [
    "Solution().minEatingSpeed(piles = [3,6,7,11], h = 8)"
   ]
  },
  {
   "cell_type": "code",
   "execution_count": null,
   "metadata": {},
   "outputs": [],
   "source": [
    "\n",
    "import  math \n",
    "class Solution:\n",
    "    def how_many_hours_to_eat(self, a, m):\n",
    "        # m - number of banana can eat per hour\n",
    "        hours = 0\n",
    "        for i in range(len(a)):\n",
    "            hours += math.ceil(a[i]/m)\n",
    "        return hours\n",
    "\n",
    "    def minEatingSpeed(self, piles, h: int) -> int:\n",
    "        # finding the min and max value in a single go\n",
    "        high = max(piles)\n",
    "        low = 1\n",
    "        ans = high\n",
    "        # if hours (h) == len(piles) -- we need to eat k (max(piles)) number of banana per hour\n",
    "        if len(piles) == h:\n",
    "            return high\n",
    "\n",
    "        while low <= high:\n",
    "            mid = (low + high) // 2\n",
    "            hours_to_eat = self.how_many_hours_to_eat(piles,mid)\n",
    "\n",
    "            if hours_to_eat <= h:\n",
    "                ans = mid\n",
    "                high = mid - 1\n",
    "            else:\n",
    "                low = mid + 1\n",
    "        return ans\n",
    "    \n",
    "\n",
    "# tc - O(n[finding max] * log max(piles))\n",
    "# sc - O(1)"
   ]
  },
  {
   "cell_type": "code",
   "execution_count": 11,
   "metadata": {},
   "outputs": [
    {
     "data": {
      "text/plain": [
       "4"
      ]
     },
     "execution_count": 11,
     "metadata": {},
     "output_type": "execute_result"
    }
   ],
   "source": [
    "Solution().minEatingSpeed(piles = [3,6,7,11], h = 8)"
   ]
  },
  {
   "cell_type": "code",
   "execution_count": null,
   "metadata": {},
   "outputs": [
    {
     "data": {
      "text/plain": [
       "2"
      ]
     },
     "execution_count": 9,
     "metadata": {},
     "output_type": "execute_result"
    }
   ],
   "source": []
  },
  {
   "cell_type": "code",
   "execution_count": null,
   "metadata": {},
   "outputs": [],
   "source": []
  }
 ],
 "metadata": {
  "kernelspec": {
   "display_name": "3.11.11",
   "language": "python",
   "name": "python3"
  },
  "language_info": {
   "codemirror_mode": {
    "name": "ipython",
    "version": 3
   },
   "file_extension": ".py",
   "mimetype": "text/x-python",
   "name": "python",
   "nbconvert_exporter": "python",
   "pygments_lexer": "ipython3",
   "version": "3.11.11"
  }
 },
 "nbformat": 4,
 "nbformat_minor": 2
}
