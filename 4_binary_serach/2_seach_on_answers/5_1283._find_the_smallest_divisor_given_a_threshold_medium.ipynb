{
 "cells": [
  {
   "cell_type": "markdown",
   "id": "9f1d3ee3",
   "metadata": {},
   "source": [
    "Given an array of integers nums and an integer threshold, we will choose a positive integer divisor, divide all the array by it, and sum the division's result. Find the smallest divisor such that the result mentioned above is less than or equal to threshold.\n",
    "\n",
    "Each result of the division is rounded to the nearest integer greater than or equal to that element. (For example: 7/3 = 3 and 10/2 = 5).\n",
    "\n",
    "The test cases are generated so that there will be an answer.\n",
    "\n",
    " \n",
    "\n",
    "Example 1:\n",
    "\n",
    "Input: nums = [1,2,5,9], threshold = 6\n",
    "Output: 5\n",
    "Explanation: We can get a sum to 17 (1+2+5+9) if the divisor is 1. \n",
    "If the divisor is 4 we can get a sum of 7 (1+1+2+3) and if the divisor is 5 the sum will be 5 (1+1+1+2). \n",
    "Example 2:\n",
    "\n",
    "Input: nums = [44,22,33,11,1], threshold = 5\n",
    "Output: 44\n",
    " \n",
    "\n",
    "Constraints:\n",
    "\n",
    "1 <= nums.length <= 5 * 104\n",
    "1 <= nums[i] <= 106\n",
    "nums.length <= threshold <= 106"
   ]
  },
  {
   "cell_type": "markdown",
   "id": "3719e203",
   "metadata": {},
   "source": [
    "# follow up questions:\n",
    "- does the divisor has to be the array numbers ? or 1 - threshold ?\n",
    "- ans: The divisor has to be 1 - max(num).\n",
    "\n",
    "\n",
    "- insution 1:\n",
    "- for all the numbers from 1 - max(nums): get the divisor and update the smallest and return - O(n^2)\n",
    "\n",
    "- intution 2:\n",
    "- instead of trying all the numbers from 1 - max(nums). we can try binary search.\n",
    "- get the mid, get the divisor. if its <= divisor."
   ]
  },
  {
   "cell_type": "code",
   "execution_count": null,
   "id": "7df21e5b",
   "metadata": {},
   "outputs": [
    {
     "name": "stdout",
     "output_type": "stream",
     "text": [
      "5\n"
     ]
    }
   ],
   "source": [
    "import math\n",
    "\n",
    "class Solution:\n",
    "    def smallestDivisor(self, nums: list[int], threshold: int) -> int:\n",
    "        max_val = max(nums)\n",
    "        for divisor in range(1, max_val + 1):\n",
    "            total = 0\n",
    "            for num in nums:\n",
    "                total += math.ceil(num / divisor)\n",
    "            if total <= threshold:\n",
    "                return divisor\n",
    "        return -1  # This should never happen if threshold >= len(nums)\n",
    "\n",
    "\n",
    "\n",
    "\n",
    "sol = Solution()\n",
    "print(sol.smallestDivisor([1, 2, 5, 9], 6))  # Output: 5\n",
    "\n",
    "\n",
    "\n",
    "\n",
    "\n",
    "\n",
    "# | Time Complexity  | `O(n * max(nums))` |\n",
    "# | Space Complexity | `O(1)`             |\n",
    "\n"
   ]
  },
  {
   "cell_type": "code",
   "execution_count": null,
   "id": "b6159510",
   "metadata": {},
   "outputs": [],
   "source": [
    "# finding the first true.\n",
    "# if division increases, sum will decrease.\n",
    "# so find the first place where the sum <= threshold.\n",
    "# [1,2,3,4,5,6,7,8,9]\n",
    "# [f,f,f,f,t,t,t,t,t]  - first true find it.\n",
    "\n",
    "\n",
    "import math\n",
    "\n",
    "class Solution:\n",
    "    def smallestDivisor(self, nums: list[int], threshold: int) -> int:\n",
    "        def compute_sum(divisor: int) -> int:\n",
    "            return sum(math.ceil(num / divisor) for num in nums)\n",
    "\n",
    "        low = 1\n",
    "        high = max(nums)\n",
    "        answer = high  # Start with the largest possible value\n",
    "\n",
    "        while low <= high:\n",
    "            mid = (low + high) // 2\n",
    "            total = compute_sum(mid)\n",
    "\n",
    "            if total <= threshold:\n",
    "                answer = mid         # candidate found, try smaller\n",
    "                high = mid - 1\n",
    "            else:\n",
    "                low = mid + 1        # too small, need bigger divisor\n",
    "\n",
    "        return answer\n",
    "\n",
    "# tc - O(log n * max(nums))\n",
    "# sc - O(1)"
   ]
  },
  {
   "cell_type": "code",
   "execution_count": 3,
   "id": "b7c0ed8e",
   "metadata": {},
   "outputs": [
    {
     "data": {
      "text/plain": [
       "5"
      ]
     },
     "execution_count": 3,
     "metadata": {},
     "output_type": "execute_result"
    }
   ],
   "source": [
    "Solution().smallestDivisor(nums = [1,2,5,9], threshold = 6)"
   ]
  },
  {
   "cell_type": "code",
   "execution_count": null,
   "id": "4592eeac",
   "metadata": {},
   "outputs": [],
   "source": []
  }
 ],
 "metadata": {
  "kernelspec": {
   "display_name": "3.11.11",
   "language": "python",
   "name": "python3"
  },
  "language_info": {
   "codemirror_mode": {
    "name": "ipython",
    "version": 3
   },
   "file_extension": ".py",
   "mimetype": "text/x-python",
   "name": "python",
   "nbconvert_exporter": "python",
   "pygments_lexer": "ipython3",
   "version": "3.11.11"
  }
 },
 "nbformat": 4,
 "nbformat_minor": 5
}
