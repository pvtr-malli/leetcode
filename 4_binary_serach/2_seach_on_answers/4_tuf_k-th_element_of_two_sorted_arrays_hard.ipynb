{
 "cells": [
  {
   "cell_type": "markdown",
   "id": "ce755ec0",
   "metadata": {},
   "source": [
    "oblem Statement: Given two sorted arrays of size m and n respectively, you are tasked with finding the element that would be at the kth position of the final sorted array.\n",
    "\n"
   ]
  },
  {
   "cell_type": "code",
   "execution_count": 5,
   "id": "0051385c",
   "metadata": {},
   "outputs": [],
   "source": [
    "# explanation in note: page-85\n",
    "import sys\n",
    "class Solution:\n",
    "    def findKthElementSortedArrays(self, nums1, nums2, k):\n",
    "        # always keep the first array a small one.\n",
    "        if len(nums1) > len(nums2): return self.findKthElementSortedArrays(nums2, nums1, k)\n",
    "        n1 = len(nums1); n2 = len(nums2)\n",
    "        low = max(0, k-n2)\n",
    "        high = min(k, n1)\n",
    "       \n",
    "        while low<=high:\n",
    "            # we need to cut the arrays in order to find the left and right part.\n",
    "            cut1 = (low + high) // 2\n",
    "            cut2 = ((n1 + n2 + 1) // 2 ) - cut1 # The remaining element to get the meadin element.\n",
    "            \n",
    "            l1 = (nums1[cut1 - 1] if cut1>0 else (-sys.maxsize - 1)) # this will give the minimum integer value we have.\n",
    "            l2 = (nums2[cut2 - 1] if cut2>0 else (-sys.maxsize - 1))\n",
    "            \n",
    "            r1 = (nums1[cut1] if cut1<n1 else (sys.maxsize))\n",
    "            r2 = (nums2[cut2] if cut2<n2 else (sys.maxsize))\n",
    "            \n",
    "            # check the validity.\n",
    "            if l1 <= r2 and l2<=r1:\n",
    "                if (n1+n2) % 2 ==0:\n",
    "                    return  (max(l1,l2) + min(r1,r2)) / 2\n",
    "                else:\n",
    "                    return max(l1,l2)\n",
    "            elif(l1 > r2):\n",
    "                high = cut1 -1\n",
    "            else:\n",
    "                low = cut1 + 1\n",
    "           \n",
    "        return 0"
   ]
  },
  {
   "cell_type": "code",
   "execution_count": 6,
   "id": "561f282b",
   "metadata": {},
   "outputs": [
    {
     "data": {
      "text/plain": [
       "6"
      ]
     },
     "execution_count": 6,
     "metadata": {},
     "output_type": "execute_result"
    }
   ],
   "source": [
    "a = [2, 3, 6, 7, 9]\n",
    "b = [1, 4, 8, 10]\n",
    "Solution().findKthElementSortedArrays(a,b,5)"
   ]
  },
  {
   "cell_type": "code",
   "execution_count": null,
   "id": "32d55f0e",
   "metadata": {},
   "outputs": [],
   "source": []
  },
  {
   "cell_type": "code",
   "execution_count": null,
   "id": "83955405",
   "metadata": {},
   "outputs": [],
   "source": []
  }
 ],
 "metadata": {
  "kernelspec": {
   "display_name": "3.11.11",
   "language": "python",
   "name": "python3"
  },
  "language_info": {
   "codemirror_mode": {
    "name": "ipython",
    "version": 3
   },
   "file_extension": ".py",
   "mimetype": "text/x-python",
   "name": "python",
   "nbconvert_exporter": "python",
   "pygments_lexer": "ipython3",
   "version": "3.11.11"
  }
 },
 "nbformat": 4,
 "nbformat_minor": 5
}
