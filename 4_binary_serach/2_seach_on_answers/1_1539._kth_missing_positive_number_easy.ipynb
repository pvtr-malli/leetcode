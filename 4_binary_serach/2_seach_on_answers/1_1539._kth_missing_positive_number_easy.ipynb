{
 "cells": [
  {
   "cell_type": "markdown",
   "id": "88cd1d33",
   "metadata": {},
   "source": [
    "Given an array arr of positive integers sorted in a strictly increasing order, and an integer k.\n",
    "\n",
    "Return the kth positive integer that is missing from this array.\n",
    "\n",
    " \n",
    "\n",
    "Example 1:\n",
    "\n",
    "Input: arr = [2,3,4,7,11], k = 5\n",
    "Output: 9\n",
    "Explanation: The missing positive integers are [1,5,6,8,9,10,12,13,...]. The 5th missing positive integer is 9.\n",
    "Example 2:\n",
    "\n",
    "Input: arr = [1,2,3,4], k = 2\n",
    "Output: 6\n",
    "Explanation: The missing positive integers are [5,6,7,...]. The 2nd missing positive integer is 6.\n",
    " \n",
    "\n",
    "Constraints:\n",
    "\n",
    "1 <= arr.length <= 1000\n",
    "1 <= arr[i] <= 1000\n",
    "1 <= k <= 1000\n",
    "arr[i] < arr[j] for 1 <= i < j <= arr.length\n",
    " \n",
    "\n",
    "Follow up:\n",
    "\n",
    "Could you solve this problem in less than O(n) complexity?"
   ]
  },
  {
   "cell_type": "code",
   "execution_count": null,
   "id": "322f90ac",
   "metadata": {},
   "outputs": [],
   "source": [
    "class Solution:\n",
    "    def findKthPositive(self, arr: list[int], k: int) -> int:\n",
    "        # move to next i, after counting all the missing numbers in the list.\n",
    "        i = 0\n",
    "        num = 1\n",
    "        missing = 0\n",
    "\n",
    "        while True:\n",
    "            if i < len(arr) and arr[i] == num:\n",
    "                i += 1\n",
    "            else:\n",
    "                missing += 1\n",
    "                if missing == k:\n",
    "                    return num\n",
    "            num += 1\n",
    "\n"
   ]
  },
  {
   "cell_type": "markdown",
   "id": "fc2d4fa7",
   "metadata": {},
   "source": [
    "arr = [2,3,4,7,11], k = 5\n",
    "\n",
    "| `num` | `arr[i]` | Is `num` in arr? | Action             | `missing_count` |\n",
    "| ----- | -------- | ---------------- | ------------------ | --------------- |\n",
    "| 1     | 2        | ❌ No             | Missing → count it | 1               |\n",
    "| 2     | 2        | ✅ Yes            | Move `i` to next   | 1               |\n",
    "| 3     | 3        | ✅ Yes            | Move `i` to next   | 1               |\n",
    "| 4     | 4        | ✅ Yes            | Move `i` to next   | 1               |\n",
    "| 5     | 7        | ❌ No             | Missing → count it | 2               |\n",
    "| 6     | 7        | ❌ No             | Missing → count it | 3               |\n",
    "| 7     | 7        | ✅ Yes            | Move `i` to next   | 3               |\n",
    "| 8     | 11       | ❌ No             | Missing → count it | 4               |\n",
    "| 9     | 11       | ❌ No             | Missing → count it | 5 ✅ STOP!       |\n"
   ]
  },
  {
   "cell_type": "code",
   "execution_count": 7,
   "id": "3b4c60e8",
   "metadata": {},
   "outputs": [],
   "source": [
    "class Solution:\n",
    "\n",
    "    def findKthPositive(self, arr: list[int], k: int) -> int:\n",
    "        low = 0\n",
    "        high = len(arr) - 1\n",
    "\n",
    "        while low <= high:\n",
    "            mid = (low + high) // 2\n",
    "            # checking how many numbers are missing upthi this index.\n",
    "            # [1,2,3,4,5] -- this is the correct order\n",
    "            # [1,2,4,5,6] -- here 2ed index. should have to be 3 but 4 came. so arr[2] - (2 + 1). == 4 - 3[actually number to come] = 1 \n",
    "            # 1 number missing upto this index.\n",
    "            missing = arr[mid] - (mid + 1)\n",
    "\n",
    "            if missing < k:\n",
    "                low = mid + 1\n",
    "            else:\n",
    "                high = mid - 1\n",
    "\n",
    "        return low + k\n"
   ]
  },
  {
   "cell_type": "code",
   "execution_count": 8,
   "id": "afd5cebb",
   "metadata": {},
   "outputs": [
    {
     "data": {
      "text/plain": [
       "9"
      ]
     },
     "execution_count": 8,
     "metadata": {},
     "output_type": "execute_result"
    }
   ],
   "source": [
    "Solution().findKthPositive( arr = [2,3,4,7,11], k = 5)"
   ]
  },
  {
   "cell_type": "markdown",
   "id": "61e9d346",
   "metadata": {},
   "source": [
    "| Step | `low` | `high` | `mid` | `arr[mid]` | `missing = arr[mid] - (mid + 1)` | Compare `missing` vs `k` | Move               |\n",
    "| ---- | ----- | ------ | ----- | ---------- | -------------------------------- | ------------------------ | ------------------ |\n",
    "| 1    | 0     | 4      | 2     | 4          | 4 - (2+1) = **1**                | 1 < 5                    | `low = mid+1` → 3  |\n",
    "| 2    | 3     | 4      | 3     | 7          | 7 - (3+1) = **3**                | 3 < 5                    | `low = mid+1` → 4  |\n",
    "| 3    | 4     | 4      | 4     | 11         | 11 - (4+1) = **6**               | 6 ≥ 5                    | `high = mid-1` → 3 |\n"
   ]
  },
  {
   "cell_type": "markdown",
   "id": "d66230be",
   "metadata": {},
   "source": [
    "Got it! You want the **pointers (`l`, `m`, `h`) aligned directly under the array elements**, like a clean debugging snapshot. Let’s do that for:\n",
    "\n",
    "---\n",
    "\n",
    "## ✅ **Leetcode 1539: Kth Missing Positive Number**\n",
    "\n",
    "**Input:**\n",
    "\n",
    "```python\n",
    "arr = [2, 3, 4, 7, 11]\n",
    "k = 5\n",
    "```\n",
    "\n",
    "We’ll print the array, then **arrows under elements** with **`low`, `mid`, and `high`** pointers, and the reasoning at each step.\n",
    "\n",
    "---\n",
    "\n",
    "### 🟢 Step 1:\n",
    "\n",
    "```\n",
    "Index:      0   1   2   3   4\n",
    "Array:     [2,  3,  4,  7, 11]\n",
    "           ↑       ↑       ↑\n",
    "          low     mid     high\n",
    "\n",
    "mid = 2 → arr[2] = 4\n",
    "missing = 4 - (2 + 1) = 1 < 5 → go right\n",
    "➡️ low = mid + 1 → low = 3\n",
    "```\n",
    "\n",
    "---\n",
    "\n",
    "### 🟢 Step 2:\n",
    "\n",
    "```\n",
    "Index:      0   1   2   3   4\n",
    "Array:     [2,  3,  4,  7, 11]\n",
    "                       ↑   ↑\n",
    "                      low mid/high\n",
    "\n",
    "mid = 3 → arr[3] = 7\n",
    "missing = 7 - (3 + 1) = 3 < 5 → go right\n",
    "➡️ low = mid + 1 → low = 4\n",
    "```\n",
    "\n",
    "---\n",
    "\n",
    "### 🟢 Step 3:\n",
    "\n",
    "```\n",
    "Index:      0   1   2   3   4\n",
    "Array:     [2,  3,  4,  7, 11]\n",
    "                           ↑\n",
    "                 low = mid = high = 4\n",
    "\n",
    "mid = 4 → arr[4] = 11\n",
    "missing = 11 - (4 + 1) = 6 ≥ 5 → go left\n",
    "➡️ high = mid - 1 → high = 3\n",
    "```\n",
    "\n",
    "---\n",
    "\n",
    "### 🚪 Exit:\n",
    "\n",
    "```\n",
    "low = 4, high = 3 → loop ends\n",
    "Answer = low + k = 4 + 5 = 9 ✅\n",
    "```\n",
    "\n",
    "---\n",
    "\n",
    "Would you like this exact **aligned arrow format** for any other problem next?\n"
   ]
  },
  {
   "cell_type": "markdown",
   "id": "930f3be5",
   "metadata": {},
   "source": []
  }
 ],
 "metadata": {
  "kernelspec": {
   "display_name": "3.11.11",
   "language": "python",
   "name": "python3"
  },
  "language_info": {
   "codemirror_mode": {
    "name": "ipython",
    "version": 3
   },
   "file_extension": ".py",
   "mimetype": "text/x-python",
   "name": "python",
   "nbconvert_exporter": "python",
   "pygments_lexer": "ipython3",
   "version": "3.11.11"
  }
 },
 "nbformat": 4,
 "nbformat_minor": 5
}
