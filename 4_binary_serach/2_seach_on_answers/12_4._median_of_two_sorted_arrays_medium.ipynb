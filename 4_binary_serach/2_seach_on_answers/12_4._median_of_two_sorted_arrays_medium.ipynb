{
 "cells": [
  {
   "cell_type": "markdown",
   "id": "9365d39e",
   "metadata": {},
   "source": [
    "Given two sorted arrays nums1 and nums2 of size m and n respectively, return the median of the two sorted arrays.\n",
    "\n",
    "The overall run time complexity should be O(log (m+n)).\n",
    "\n",
    " \n",
    "\n",
    "Example 1:\n",
    "\n",
    "Input: nums1 = [1,3], nums2 = [2]\n",
    "Output: 2.00000\n",
    "Explanation: merged array = [1,2,3] and median is 2.\n",
    "Example 2:\n",
    "\n",
    "Input: nums1 = [1,2], nums2 = [3,4]\n",
    "Output: 2.50000\n",
    "Explanation: merged array = [1,2,3,4] and median is (2 + 3) / 2 = 2.5.\n",
    " \n",
    "\n",
    "Constraints:\n",
    "\n",
    "nums1.length == m\n",
    "nums2.length == n\n",
    "0 <= m <= 1000\n",
    "0 <= n <= 1000\n",
    "1 <= m + n <= 2000\n",
    "-106 <= nums1[i], nums2[i] <= 106"
   ]
  },
  {
   "cell_type": "code",
   "execution_count": null,
   "id": "033f39ca",
   "metadata": {},
   "outputs": [],
   "source": [
    "# explanation in note: page-85\n",
    "import sys\n",
    "class Solution:\n",
    "    def findMedianSortedArrays(self, nums1, nums2):\n",
    "        # always keep the first array a small one.\n",
    "        if len(nums1) > len(nums2): return self.findMedianSortedArrays(nums2, nums1)\n",
    "        n1 = len(nums1); n2 = len(nums2)\n",
    "        low = 0\n",
    "        high = n1\n",
    "       \n",
    "        while low<=high:\n",
    "            # we need to cut the arrays in order to find the left and right part.\n",
    "            cut1 = (low + high) // 2\n",
    "            cut2 = ((n1 + n2 + 1) // 2 ) - cut1 # The remaining element to get the meadin element.\n",
    "            \n",
    "            l1 = (nums1[cut1 - 1] if cut1>0 else (-sys.maxsize - 1)) # this will give the minimum integer value we have.\n",
    "            l2 = (nums2[cut2 - 1] if cut2>0 else (-sys.maxsize - 1))\n",
    "            \n",
    "            r1 = (nums1[cut1] if cut1<n1 else (sys.maxsize))\n",
    "            r2 = (nums2[cut2] if cut2<n2 else (sys.maxsize))\n",
    "            \n",
    "            # check the validity.\n",
    "            if l1 <= r2 and l2<=r1:\n",
    "                if (n1+n2) % 2 ==0:\n",
    "                    return  (max(l1,l2) + min(r1,r2)) / 2\n",
    "                else:\n",
    "                    return max(l1,l2)\n",
    "            elif(l1 > r2):\n",
    "                high = cut1 -1\n",
    "            else:\n",
    "                low = cut1 + 1\n",
    "           \n",
    "        return 0.0"
   ]
  }
 ],
 "metadata": {
  "language_info": {
   "name": "python"
  }
 },
 "nbformat": 4,
 "nbformat_minor": 5
}
