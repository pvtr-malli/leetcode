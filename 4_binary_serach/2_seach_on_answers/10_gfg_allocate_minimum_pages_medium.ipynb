{
 "cells": [
  {
   "cell_type": "markdown",
   "id": "3e6f1a48",
   "metadata": {},
   "source": [
    "You are given an array arr[] of integers, where each element arr[i] represents the number of pages in the ith book. You also have an integer k representing the number of students. The task is to allocate books to each student such that:\n",
    "\n",
    "- Each student receives atleast one book.\n",
    "- Each student is assigned a contiguous sequence of books.\n",
    "- No book is assigned to more than one student.\n",
    "The objective is to minimize the maximum number of pages assigned to any student. In other words, out of all possible allocations, find the arrangement where the student who receives the most pages still has the smallest possible maximum.\n",
    "\n",
    "Note: Return -1 if a valid assignment is not possible, and allotment should be in contiguous order (see the explanation for better understanding).\n",
    "\n",
    "Examples:\n",
    "\n",
    "Input: arr[] = [12, 34, 67, 90], k = 2\n",
    "Output: 113\n",
    "Explanation: Allocation can be done in following ways:\n",
    "[12] and [34, 67, 90] Maximum Pages = 191\n",
    "[12, 34] and [67, 90] Maximum Pages = 157\n",
    "[12, 34, 67] and [90] Maximum Pages = 113.\n",
    "Therefore, the minimum of these cases is 113, which is selected as the output.\n",
    "\n",
    "Input: arr[] = [15, 17, 20], k = 5\n",
    "Output: -1\n",
    "Explanation: Allocation can not be done.\n",
    "Input: arr[] = [22, 23, 67], k = 1\n",
    "Output: 112\n",
    "\n",
    "Constraints:\n",
    "1 <=  arr.size() <= 106\n",
    "1 <= arr[i] <= 103\n",
    "1 <= k <= 103 "
   ]
  },
  {
   "cell_type": "markdown",
   "id": "3d764e15",
   "metadata": {},
   "source": [
    "# questions came in mind:\n",
    "- can we have any books unassigned ?\n",
    "-   No: you must assign all the books to the students. should be in the continuouse order and one student get atlest one book."
   ]
  },
  {
   "cell_type": "code",
   "execution_count": null,
   "id": "29bd7535",
   "metadata": {},
   "outputs": [],
   "source": [
    "class Solution:\n",
    "    def can_assign_books(self, arr, num_of_students, max_pages_to_assign):\n",
    "        # Can you assign all the books to the students by assigning the given maximum pages ?\n",
    "        cur_max_page = 0\n",
    "        cur_assigned_student = 0\n",
    "        # we need to keep on adding the cur_pages with arr[i] pages until other its going above max_pages_to_assing.\n",
    "        # if reached a count, increase the student count -> we are done assiging pages to this student, --> go next.\n",
    "        i = 0\n",
    "        while i < len(arr):\n",
    "            if arr[i] > max_pages_to_assign:\n",
    "                return False  # can't assign this book to anyone\n",
    "            \n",
    "            while (i < len(arr)) and cur_max_page + arr[i] <= max_pages_to_assign:\n",
    "                cur_max_page += arr[i]\n",
    "                i += 1\n",
    "            # if it reched the max pages, we are done assigning the pages to the current student.\n",
    "            cur_assigned_student += 1\n",
    "            cur_max_page = 0\n",
    "        return cur_assigned_student <= num_of_students\n",
    "\n",
    "    def findPages(self, arr, k):\n",
    "        n = len(arr)\n",
    "        # edge cases:\n",
    "        if k > n:\n",
    "            # the number of students is greater the number of books.\n",
    "            return -1\n",
    "        if k == 1:\n",
    "            return sum(arr)\n",
    "        low = max(arr)\n",
    "        high = sum(arr)\n",
    "        ans = high \n",
    "\n",
    "        while low <= high:\n",
    "            mid = (high + low) // 2\n",
    "\n",
    "            if self.can_assign_books(arr, k, mid):\n",
    "                ans = mid\n",
    "                # we are looking for the first true.\n",
    "                high = mid - 1\n",
    "            else:\n",
    "                low = mid + 1\n",
    "        return ans\n",
    "\n"
   ]
  },
  {
   "cell_type": "code",
   "execution_count": 12,
   "id": "947b659b",
   "metadata": {},
   "outputs": [
    {
     "data": {
      "text/plain": [
       "113"
      ]
     },
     "execution_count": 12,
     "metadata": {},
     "output_type": "execute_result"
    }
   ],
   "source": [
    "Solution().findPages(arr = [12, 34, 67, 90], k = 2)"
   ]
  },
  {
   "cell_type": "code",
   "execution_count": 13,
   "id": "bfdaa6b3",
   "metadata": {},
   "outputs": [
    {
     "data": {
      "text/plain": [
       "-1"
      ]
     },
     "execution_count": 13,
     "metadata": {},
     "output_type": "execute_result"
    }
   ],
   "source": [
    "Solution().findPages(arr = [15, 17, 20], k = 5)"
   ]
  },
  {
   "cell_type": "code",
   "execution_count": 14,
   "id": "4729b120",
   "metadata": {},
   "outputs": [
    {
     "data": {
      "text/plain": [
       "25"
      ]
     },
     "execution_count": 14,
     "metadata": {},
     "output_type": "execute_result"
    }
   ],
   "source": [
    "Solution().findPages([15,10,19, 10, 5 ,18, 7], k =5)"
   ]
  },
  {
   "cell_type": "markdown",
   "id": "962bc175",
   "metadata": {},
   "source": [
    "## the above solution is giving TLE for only one problem. \n",
    "- the nested for loop is heavy ... so use a for loop instead\n",
    "\n",
    "- This logic has a nested while loop. Even though the inner loop increases i, this structure:\n",
    "\n",
    "- Looks risky to judges/compilers (they assume worst-case nesting).\n",
    "\n",
    "- Can actually cause double processing or redundant conditions, especially if logic isn't tight.\n",
    "\n",
    "- Adds overhead due to the constant checking of both loop conditions."
   ]
  },
  {
   "cell_type": "code",
   "execution_count": null,
   "id": "e2a93db1",
   "metadata": {},
   "outputs": [],
   "source": [
    "class Solution:\n",
    "    def can_assign_books(self, arr, num_of_students, max_pages_to_assign):\n",
    "        student_count = 1\n",
    "        pages_allocated = 0\n",
    "\n",
    "        for pages in arr:\n",
    "            # if the current addintion of pages is not possible, then we are done with the current student.\n",
    "            # move on to the next student with the current pages which we haven't assigned to anyone.\n",
    "            if pages_allocated + pages > max_pages_to_assign:\n",
    "                student_count += 1\n",
    "                pages_allocated = pages\n",
    "            else:\n",
    "                # if the current student itself can take it, then assign it to them.\n",
    "                pages_allocated += pages\n",
    "\n",
    "        return student_count <= num_of_students\n",
    "\n",
    "    def findPages(self, arr, k):\n",
    "        n = len(arr)\n",
    "        if k > n:\n",
    "            return -1\n",
    "\n",
    "        low = max(arr)\n",
    "        high = sum(arr)\n",
    "        ans = high\n",
    "\n",
    "        while low <= high:\n",
    "            mid = (low + high) // 2\n",
    "\n",
    "            if self.can_assign_books(arr, k, mid):\n",
    "                ans = mid\n",
    "                high = mid - 1\n",
    "            else:\n",
    "                low = mid + 1\n",
    "\n",
    "        return ans\n"
   ]
  }
 ],
 "metadata": {
  "kernelspec": {
   "display_name": "3.11.11",
   "language": "python",
   "name": "python3"
  },
  "language_info": {
   "codemirror_mode": {
    "name": "ipython",
    "version": 3
   },
   "file_extension": ".py",
   "mimetype": "text/x-python",
   "name": "python",
   "nbconvert_exporter": "python",
   "pygments_lexer": "ipython3",
   "version": "3.11.11"
  }
 },
 "nbformat": 4,
 "nbformat_minor": 5
}
