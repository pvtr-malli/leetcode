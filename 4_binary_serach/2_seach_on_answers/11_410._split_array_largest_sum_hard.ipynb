{
 "cells": [
  {
   "cell_type": "markdown",
   "id": "7130a9f9",
   "metadata": {},
   "source": [
    "Given an integer array nums and an integer k, split nums into k non-empty subarrays such that the largest sum of any subarray is minimized.\n",
    "\n",
    "Return the minimized largest sum of the split.\n",
    "\n",
    "A subarray is a contiguous part of the array.\n",
    "\n",
    " \n",
    "\n",
    "Example 1:\n",
    "\n",
    "Input: nums = [7,2,5,10,8], k = 2\n",
    "Output: 18\n",
    "Explanation: There are four ways to split nums into two subarrays.\n",
    "The best way is to split it into [7,2,5] and [10,8], where the largest sum among the two subarrays is only 18.\n",
    "Example 2:\n",
    "\n",
    "Input: nums = [1,2,3,4,5], k = 2\n",
    "Output: 9\n",
    "Explanation: There are four ways to split nums into two subarrays.\n",
    "The best way is to split it into [1,2,3] and [4,5], where the largest sum among the two subarrays is only 9.\n",
    " \n",
    "\n",
    "Constraints:\n",
    "\n",
    "1 <= nums.length <= 1000\n",
    "0 <= nums[i] <= 106\n",
    "1 <= k <= min(50, nums.length)"
   ]
  },
  {
   "cell_type": "markdown",
   "id": "fa3ed316",
   "metadata": {},
   "source": [
    "# Trying it out: analysis:\n",
    "- the search space is max(arr) - sum(arr) : since this is sorted we can use binary search:\n",
    "```\n",
    "nums = [7,2,5,10,8], k = 2:\n",
    "\n",
    "- [10, 11, 12, 13, 14, 15, 16, 17, 18, 19, 20, 21, 22, 23, 24, 25, 26, 27, 28, 29, 30, 31, 32]\n",
    "\n",
    "- so actually we are looking for the search on the answer, which is the maxium sum of the subarrays.\n",
    "- questions answered below is: Can we make k subarrays given the max subarray sum ? \n",
    "- [10, 11, 12, 13, 14, 15, 16, 17, 18, 19, 20, 21, 22, 23, 24, 25, 26, 27, 28, 29, 30, 31, 32]\n",
    "- [f, f, f, f, f, f, f, f, f, f, t, t,  t,  t,  t,  t,  t,  t,  t,  t,   t, t,  t,  t,  t, t]\n",
    "\n",
    "- we want the minimum sum, so we are looking for the first true value here.\n",
    "\n",
    "```"
   ]
  },
  {
   "cell_type": "code",
   "execution_count": 2,
   "id": "2ff446ac",
   "metadata": {},
   "outputs": [
    {
     "name": "stdout",
     "output_type": "stream",
     "text": [
      "[2, 3, 4, 5, 6, 7, 8, 9, 10, 11, 12, 13, 14, 15, 16, 17, 18, 19, 20, 21, 22, 23, 24, 25, 26, 27, 28, 29, 30, 31, 32]\n"
     ]
    }
   ],
   "source": [
    "print(list(range(2,33)))"
   ]
  },
  {
   "cell_type": "code",
   "execution_count": null,
   "id": "e1de1336",
   "metadata": {},
   "outputs": [],
   "source": [
    "class Solution:\n",
    "    def can_make_k_subarrays(self, arr, maximum_subarray, max_subarray_sum):\n",
    "        # questions answered below is: Can we make 'maximum_subarray' subarrays given the max subarray sum ? \n",
    "        cur_sum = 0\n",
    "        arr_count = 1 \n",
    "        for ele in arr:\n",
    "            if cur_sum + ele <= max_subarray_sum:\n",
    "                cur_sum += ele \n",
    "            else:\n",
    "                cur_sum = ele\n",
    "                arr_count += 1\n",
    "        return arr_count\n",
    "\n",
    "    def splitArray(self, nums: list[int], k: int) -> int:\n",
    "        low = max(nums)\n",
    "        high = sum(nums)\n",
    "        ans = high\n",
    "        while low <= high :\n",
    "            mid = (low + high ) // 2\n",
    "            arr_count = self.can_make_k_subarrays(nums, mid)\n",
    "            # here there are 2 cases: we can make the k sub-array and we cant.\n",
    "            if arr_count <= k:\n",
    "                # we can make the sub-array with this maximum sum, so we can keep looking for somehting small.\n",
    "                ans = mid \n",
    "                # looking for first true.\n",
    "                high = mid - 1\n",
    "            elif arr_count < k:\n",
    "                # we coundn't make the aub-array with the curren max value, so we can't make above this also.\n",
    "                # [1,4,4] k =3 , make sub-array with max sum of 6. we can't make 3 sub-arrays -- so we cant make 3 with >6 also right ?\n",
    "                # so in this case no use of searching on right, search left.\n",
    "                high = mid - 1\n",
    "            else:\n",
    "                low = mid + 1\n",
    "            \n",
    "        return ans"
   ]
  },
  {
   "cell_type": "code",
   "execution_count": 21,
   "id": "2af795e3",
   "metadata": {},
   "outputs": [
    {
     "data": {
      "text/plain": [
       "18"
      ]
     },
     "execution_count": 21,
     "metadata": {},
     "output_type": "execute_result"
    }
   ],
   "source": [
    "Solution().splitArray(nums = [7,2,5,10,8], k = 2)"
   ]
  },
  {
   "cell_type": "code",
   "execution_count": 22,
   "id": "fed559d2",
   "metadata": {},
   "outputs": [
    {
     "data": {
      "text/plain": [
       "9"
      ]
     },
     "execution_count": 22,
     "metadata": {},
     "output_type": "execute_result"
    }
   ],
   "source": [
    "Solution().splitArray(nums = [1,2,3,4,5], k = 2)"
   ]
  },
  {
   "cell_type": "code",
   "execution_count": 23,
   "id": "1efba14e",
   "metadata": {},
   "outputs": [
    {
     "data": {
      "text/plain": [
       "4"
      ]
     },
     "execution_count": 23,
     "metadata": {},
     "output_type": "execute_result"
    }
   ],
   "source": [
    "Solution().splitArray([1,4,4], k = 3)"
   ]
  },
  {
   "cell_type": "markdown",
   "id": "1302c78e",
   "metadata": {},
   "source": [
    "#### failing case for the above logic:"
   ]
  },
  {
   "cell_type": "code",
   "execution_count": 24,
   "id": "2560bd6d",
   "metadata": {},
   "outputs": [
    {
     "data": {
      "text/plain": [
       "3"
      ]
     },
     "execution_count": 24,
     "metadata": {},
     "output_type": "execute_result"
    }
   ],
   "source": [
    "Solution().splitArray([2,3,1,1,1,1,1], k = 5)   \n",
    "# here the ans is 3:\n",
    " # here it will fail because according to my logic I can make only 4 sub-srrays.\n",
    "# but I can also make 5 like this -- [2], [3], [1,1], [1,1], [1]\n",
    "# but my logic will make it as -- [2], [3], [1,1,1], [1,1].  # edge case:"
   ]
  },
  {
   "cell_type": "code",
   "execution_count": null,
   "id": "8bd67dc0",
   "metadata": {},
   "outputs": [],
   "source": [
    "# fix: instead of looking for the exactly same number of sub-arrys. \n",
    "# look for: Can we make **AT MOST** 'maximum_subarray' subarrays given the max subarray sum ?  \n",
    "\n",
    "class Solution:\n",
    "    def can_make_k_subarrays(self, arr, maximum_subarray, max_subarray_sum):\n",
    "        # questions answered below is: Can we make 'maximum_subarray' subarrays given the max subarray sum ? \n",
    "        cur_sum = 0\n",
    "        arr_count = 1 \n",
    "        for ele in arr:\n",
    "            if cur_sum + ele <= max_subarray_sum:\n",
    "                cur_sum += ele \n",
    "            else:\n",
    "                cur_sum = ele\n",
    "                arr_count += 1\n",
    "        return arr_count <= maximum_subarray  # NOTE:\n",
    "\n",
    "    def splitArray(self, nums: list[int], k: int) -> int:\n",
    "        low = max(nums)\n",
    "        high = sum(nums)\n",
    "        ans = high\n",
    "        while low <= high :\n",
    "            mid = (low + high ) // 2\n",
    "            if self.can_make_k_subarrays(nums, k, mid):\n",
    "                # we can make ATMOST K sub-array with this maximum sum, so we can keep looking for somehting small.\n",
    "                ans = mid \n",
    "                # looking for first true.\n",
    "                high = mid - 1\n",
    "\n",
    "            else:\n",
    "                low = mid + 1\n",
    "            \n",
    "        return ans\n",
    "    \n",
    "# tc - O(log(sum(nums) - max(nums))[bin.search] * O(n)[scanning the array] = O(n * log(sum(nums) - max(nums)))\n",
    "# sc - O(1)"
   ]
  },
  {
   "cell_type": "code",
   "execution_count": 30,
   "id": "5d678984",
   "metadata": {},
   "outputs": [
    {
     "data": {
      "text/plain": [
       "3"
      ]
     },
     "execution_count": 30,
     "metadata": {},
     "output_type": "execute_result"
    }
   ],
   "source": [
    "Solution().splitArray([2,3,1,1,1,1,1], k = 5)   \n"
   ]
  },
  {
   "cell_type": "code",
   "execution_count": null,
   "id": "44aed55d",
   "metadata": {},
   "outputs": [],
   "source": []
  }
 ],
 "metadata": {
  "kernelspec": {
   "display_name": "3.11.11",
   "language": "python",
   "name": "python3"
  },
  "language_info": {
   "codemirror_mode": {
    "name": "ipython",
    "version": 3
   },
   "file_extension": ".py",
   "mimetype": "text/x-python",
   "name": "python",
   "nbconvert_exporter": "python",
   "pygments_lexer": "ipython3",
   "version": "3.11.11"
  }
 },
 "nbformat": 4,
 "nbformat_minor": 5
}
