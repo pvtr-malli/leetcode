{
 "cells": [
  {
   "cell_type": "markdown",
   "id": "ec142df9",
   "metadata": {},
   "source": [
    "blem Statement: Given two numbers N and M, find the Nth root of M. The nth root of a number M is defined as a number X when raised to the power N equals M. If the 'nth root is not an integer, return -1.\n",
    "\n",
    "Examples\n",
    "\n",
    "Example 1:\n",
    "Input Format: N = 3, M = 27\n",
    "Result: 3\n",
    "Explanation: The cube root of 27 is equal to 3.\n",
    "\n",
    "Example 2:\n",
    "Input Format: N = 4, M = 69\n",
    "Result: -1\n",
    "Explanation: The 4th root of 69 does not exist. So, the answer is -1."
   ]
  },
  {
   "cell_type": "code",
   "execution_count": null,
   "id": "50b29c43",
   "metadata": {},
   "outputs": [
    {
     "name": "stdout",
     "output_type": "stream",
     "text": [
      "3 1\n",
      "1 5\n",
      "3 1\n",
      "1 2\n",
      "3 1\n",
      "1 3\n",
      "The answer is: 3\n"
     ]
    }
   ],
   "source": [
    "\n",
    "# nth root of a number x.\n",
    "def myPow(x,n):  # x^n\n",
    "    base = x \n",
    "    ans = 1\n",
    "    negative = False\n",
    "    if n < 0 : \n",
    "        n = -1 * n\n",
    "        negative = True\n",
    "    while n != 0:\n",
    "        print(n, ans)\n",
    "        last_bit = n & 1\n",
    "        n = n >> 1\n",
    "        # update the answeer\n",
    "        if last_bit: \n",
    "            ans *= base\n",
    "\n",
    "        # increase the base\n",
    "        base = base * base \n",
    "\n",
    "    if negative: return 1 / ans\n",
    "    return ans\n",
    "\n",
    "\n",
    "def NthRoot(n: int, m: int) -> int:\n",
    "    low = 1\n",
    "    # syou can reduce the search space to m // n. since the nth root is not gonna be more then m//n.\n",
    "    high = m // n\n",
    "    while low <= high:\n",
    "        mid = (low + high) // 2\n",
    "        nth_root_mid = myPow(mid, n)\n",
    "\n",
    "        if nth_root_mid == m :\n",
    "            return mid \n",
    "        if nth_root_mid > m:\n",
    "            high = mid - 1 \n",
    "        else:\n",
    "            low = mid + 1\n",
    "    return -1 \n",
    "\n",
    "n = 3\n",
    "m = 27\n",
    "ans = NthRoot(n, m)\n",
    "print(\"The answer is:\", ans)\n"
   ]
  },
  {
   "cell_type": "code",
   "execution_count": 4,
   "id": "8542b6f0",
   "metadata": {},
   "outputs": [
    {
     "name": "stdout",
     "output_type": "stream",
     "text": [
      "4 1\n",
      "2 1\n",
      "1 1\n",
      "4 1\n",
      "2 1\n",
      "1 1\n",
      "4 1\n",
      "2 1\n",
      "1 1\n",
      "4 1\n",
      "2 1\n",
      "1 1\n",
      "The answer is: -1\n"
     ]
    }
   ],
   "source": [
    "n = 4; m = 69\n",
    "ans = NthRoot(n, m)\n",
    "print(\"The answer is:\", ans)"
   ]
  },
  {
   "cell_type": "code",
   "execution_count": null,
   "id": "36de6494",
   "metadata": {},
   "outputs": [],
   "source": []
  }
 ],
 "metadata": {
  "kernelspec": {
   "display_name": "3.11.11",
   "language": "python",
   "name": "python3"
  },
  "language_info": {
   "codemirror_mode": {
    "name": "ipython",
    "version": 3
   },
   "file_extension": ".py",
   "mimetype": "text/x-python",
   "name": "python",
   "nbconvert_exporter": "python",
   "pygments_lexer": "ipython3",
   "version": "3.11.11"
  }
 },
 "nbformat": 4,
 "nbformat_minor": 5
}
