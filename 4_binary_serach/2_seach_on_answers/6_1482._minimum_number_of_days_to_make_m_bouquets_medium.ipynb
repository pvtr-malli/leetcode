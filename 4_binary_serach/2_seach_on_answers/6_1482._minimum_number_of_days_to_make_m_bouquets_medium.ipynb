{
 "cells": [
  {
   "cell_type": "markdown",
   "id": "c232dc17",
   "metadata": {},
   "source": [
    "You are given an integer array bloomDay, an integer m and an integer k.\n",
    "\n",
    "You want to make m bouquets. To make a bouquet, you need to use k adjacent flowers from the garden.\n",
    "\n",
    "The garden consists of n flowers, the ith flower will bloom in the bloomDay[i] and then can be used in exactly one bouquet.\n",
    "\n",
    "Return the minimum number of days you need to wait to be able to make m bouquets from the garden. If it is impossible to make m bouquets return -1.\n",
    "\n",
    " \n",
    "\n",
    "Example 1:\n",
    "\n",
    "Input: bloomDay = [1,10,3,10,2], m = 3, k = 1\n",
    "Output: 3\n",
    "Explanation: Let us see what happened in the first three days. x means flower bloomed and _ means flower did not bloom in the garden.\n",
    "We need 3 bouquets each should contain 1 flower.\n",
    "After day 1: [x, _, _, _, _]   // we can only make one bouquet.\n",
    "After day 2: [x, _, _, _, x]   // we can only make two bouquets.\n",
    "After day 3: [x, _, x, _, x]   // we can make 3 bouquets. The answer is 3.\n",
    "Example 2:\n",
    "\n",
    "Input: bloomDay = [1,10,3,10,2], m = 3, k = 2\n",
    "Output: -1\n",
    "Explanation: We need 3 bouquets each has 2 flowers, that means we need 6 flowers. We only have 5 flowers so it is impossible to get the needed bouquets and we return -1.\n",
    "Example 3:\n",
    "\n",
    "Input: bloomDay = [7,7,7,7,12,7,7], m = 2, k = 3\n",
    "Output: 12\n",
    "Explanation: We need 2 bouquets each should have 3 flowers.\n",
    "Here is the garden after the 7 and 12 days:\n",
    "After day 7: [x, x, x, x, _, x, x]\n",
    "We can make one bouquet of the first three flowers that bloomed. We cannot make another bouquet from the last three flowers that bloomed because they are not adjacent.\n",
    "After day 12: [x, x, x, x, x, x, x]\n",
    "It is obvious that we can make two bouquets in different ways.\n",
    " \n",
    "\n",
    "Constraints:\n",
    "\n",
    "bloomDay.length == n\n",
    "1 <= n <= 105\n",
    "1 <= bloomDay[i] <= 109\n",
    "1 <= m <= 106\n",
    "1 <= k <= n"
   ]
  },
  {
   "cell_type": "markdown",
   "id": "f6f027b1",
   "metadata": {},
   "source": [
    "# intution 1:\n",
    "- try out all the days possible and retunr the minimum days to make .\n",
    "- the days can be min(arr) - max(arr).\n",
    "\n",
    "# intution 2:\n",
    "- since the search space is sorted, we can try binary search."
   ]
  },
  {
   "cell_type": "code",
   "execution_count": null,
   "id": "767fc9ec",
   "metadata": {},
   "outputs": [],
   "source": [
    "class Solution:\n",
    "    def can_make_bouquets(self, arr, needed_bou, flower_per_bou, days_to_bloom):\n",
    "        # Can you make needed_bou is 'days' days ?\n",
    "\n",
    "        # we are gonna check each arr element. and see if that flower is bloomed.\n",
    "        # if yes take it into the bou, if not just leave.\n",
    "        cur_bou = 0\n",
    "        cur_flower = 0\n",
    "        for i in range(len(arr)):\n",
    "            if arr[i] <= days_to_bloom: # means it would have bloomed in days_to_bloom days. we can take it.\n",
    "                cur_flower += 1\n",
    "                if cur_flower == flower_per_bou:\n",
    "                    cur_bou += 1\n",
    "                    cur_flower = 0\n",
    "            else:\n",
    "                # if the flowers are not adjucent, we cant pick it. So re-start the count.\n",
    "                cur_flower = 0\n",
    "        return needed_bou <= cur_bou # NOTE: to have <=\n",
    "\n",
    "    def minDays(self, bloomDay: list[int], m: int, k: int) -> int:\n",
    "        low = min(bloomDay)\n",
    "        high = max(bloomDay)\n",
    "        ans = -1\n",
    "        # if the needed bou with needed flowers are grether than the current flower means\n",
    "        # we cant make it,\n",
    "        if m * k > len(bloomDay):\n",
    "            return -1\n",
    "\n",
    "        while low<= high:\n",
    "            mid = (high + low) // 2\n",
    "\n",
    "            if self.can_make_bouquets(bloomDay, m, k, mid):\n",
    "                ans = mid \n",
    "                # looking for first true.\n",
    "                high = mid - 1\n",
    "            else:\n",
    "                low = mid + 1\n",
    "        return ans\n",
    "    \n",
    "# ⏱ Time Complexity:\n",
    "# Binary Search iterations: O(log(max_day - min_day))\n",
    "# can_make_bouquets() each time: O(n) where n = len(bloomDay)\n",
    "\n",
    "\n",
    "# tc - O(n * log(max_day - min_day))\n",
    "# sc - O(1)"
   ]
  },
  {
   "cell_type": "code",
   "execution_count": 10,
   "id": "2d40c093",
   "metadata": {},
   "outputs": [
    {
     "data": {
      "text/plain": [
       "3"
      ]
     },
     "execution_count": 10,
     "metadata": {},
     "output_type": "execute_result"
    }
   ],
   "source": [
    "Solution().minDays(bloomDay = [1,10,3,10,2], m = 3, k = 1)"
   ]
  },
  {
   "cell_type": "code",
   "execution_count": 11,
   "id": "b12eb1f2",
   "metadata": {},
   "outputs": [
    {
     "data": {
      "text/plain": [
       "12"
      ]
     },
     "execution_count": 11,
     "metadata": {},
     "output_type": "execute_result"
    }
   ],
   "source": [
    "Solution().minDays(bloomDay = [7,7,7,7,12,7,7], m = 2, k = 3)"
   ]
  },
  {
   "cell_type": "code",
   "execution_count": 12,
   "id": "564ed98c",
   "metadata": {},
   "outputs": [
    {
     "data": {
      "text/plain": [
       "1000000000"
      ]
     },
     "execution_count": 12,
     "metadata": {},
     "output_type": "execute_result"
    }
   ],
   "source": [
    "Solution().minDays([1000000000,1000000000], 1, 1)"
   ]
  },
  {
   "cell_type": "code",
   "execution_count": null,
   "id": "2d6f423a",
   "metadata": {},
   "outputs": [],
   "source": []
  }
 ],
 "metadata": {
  "kernelspec": {
   "display_name": "3.11.11",
   "language": "python",
   "name": "python3"
  },
  "language_info": {
   "codemirror_mode": {
    "name": "ipython",
    "version": 3
   },
   "file_extension": ".py",
   "mimetype": "text/x-python",
   "name": "python",
   "nbconvert_exporter": "python",
   "pygments_lexer": "ipython3",
   "version": "3.11.11"
  }
 },
 "nbformat": 4,
 "nbformat_minor": 5
}
