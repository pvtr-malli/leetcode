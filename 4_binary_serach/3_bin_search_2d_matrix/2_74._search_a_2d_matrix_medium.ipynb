{
 "cells": [
  {
   "cell_type": "markdown",
   "id": "a4c60ee7",
   "metadata": {},
   "source": [
    "You are given an m x n integer matrix matrix with the following two properties:\n",
    "\n",
    "Each row is sorted in non-decreasing order.\n",
    "The first integer of each row is greater than the last integer of the previous row.\n",
    "Given an integer target, return true if target is in matrix or false otherwise.\n",
    "\n",
    "You must write a solution in O(log(m * n)) time complexity.\n",
    "\n",
    " \n",
    "\n",
    "Example 1:\n",
    "\n",
    "\n",
    "Input: matrix = [[1,3,5,7],[10,11,16,20],[23,30,34,60]], target = 3\n",
    "Output: true\n",
    "Example 2:\n",
    "\n",
    "\n",
    "Input: matrix = [[1,3,5,7],[10,11,16,20],[23,30,34,60]], target = 13\n",
    "Output: false\n",
    " \n",
    "\n",
    "Constraints:\n",
    "\n",
    "m == matrix.length\n",
    "n == matrix[i].length\n",
    "1 <= m, n <= 100\n",
    "-104 <= matrix[i][j], target <= 104"
   ]
  },
  {
   "cell_type": "markdown",
   "id": "86bbf4cf",
   "metadata": {},
   "source": [
    "# intution 1:\n",
    "- loop over reach row:\n",
    "-   see if the value present here or not.\n",
    "-   if so: do bin.search.\n",
    "\n",
    "- tc - O(n)[row looping] + O(log m)[bin search on only one row.]\n",
    "- tc - O(n + log m)\n",
    "\n",
    "\n",
    "# intution 2:\n",
    "- you’d treat the whole matrix as a 1D array and binary search directly.\n",
    "- since all the values are sorted. this is possible.\n",
    "- O(log (n*m))\n",
    "- sc - O(1)\n"
   ]
  },
  {
   "cell_type": "code",
   "execution_count": null,
   "id": "dd7b615b",
   "metadata": {},
   "outputs": [],
   "source": [
    "class Solution:\n",
    "    def binary_search(self, arr, x):\n",
    "        low = 0\n",
    "        high = len(arr) - 1\n",
    "        mid = 0\n",
    "    \n",
    "        while low <= high:\n",
    "    \n",
    "            mid = (high + low) // 2\n",
    "    \n",
    "            # If x is greater, ignore left half\n",
    "            if arr[mid] < x:\n",
    "                low = mid + 1\n",
    "    \n",
    "            # If x is smaller, ignore right half\n",
    "            elif arr[mid] > x:\n",
    "                high = mid - 1\n",
    "    \n",
    "            # means x is present at mid\n",
    "            else:\n",
    "                return True\n",
    "    \n",
    "        # If we reach here, then the element was not present\n",
    "        return False\n",
    "    def searchMatrix(self, matrix, target):\n",
    "        # edge case;\n",
    "        if not matrix or not matrix[0]:\n",
    "            return False\n",
    "        \n",
    "        row,col= len(matrix), len(matrix[0])\n",
    "        \n",
    "        target_row = 0\n",
    "        for r in range(row):\n",
    "            if matrix[r][col-1] >= target:\n",
    "                target_row = r\n",
    "                break\n",
    "\n",
    "        return self.binary_search(matrix[target_row], target)\n",
    "\n",
    "# tc - O(n + log m) - explanation above\n",
    "# sc - O(1)"
   ]
  },
  {
   "cell_type": "markdown",
   "id": "a998c5a4",
   "metadata": {},
   "source": [
    "[[0 1 2 3]\n",
    " [4 5 6 7]\n",
    " [8 9 10 11]]\n",
    "\n",
    "- so for 9th index, to convert it to row and col.\n",
    "- row = so it will be in the row, where the before rows are fully occupied and what is left. so that is **ind // number_of_col.**\n",
    "- this says how many rows are already filled. since this is 0-index,that becomes our row.\n",
    "\n",
    "- col = the reminder. **ind % number_of_col**"
   ]
  },
  {
   "cell_type": "code",
   "execution_count": null,
   "id": "974dda70",
   "metadata": {},
   "outputs": [],
   "source": [
    "class Solution:\n",
    "    def searchMatrix(self, matrix: list[list[int]], target: int) -> bool:\n",
    "        # edge case;\n",
    "        if not matrix or not matrix[0]:\n",
    "            return False\n",
    "        \n",
    "        rows = len(matrix)\n",
    "        cols = len(matrix[0])\n",
    "        if rows == 1 and cols == 1:\n",
    "            return matrix[0][0] == target\n",
    "        \n",
    "        low = 0\n",
    "        high = rows * cols - 1\n",
    "    \n",
    "        while low <= high:\n",
    "    \n",
    "            mid = (high + low) // 2\n",
    "\n",
    "            # convert the mid to row and col representation,\n",
    "            # there will be m columns, so mid % m - will give you the column it is suppossed to be.\n",
    "            col = mid % cols\n",
    "            row = mid // cols \n",
    "\n",
    "            if matrix[row][col] == target:\n",
    "                return True\n",
    "            \n",
    "            # If x is greater, ignore left half\n",
    "            if matrix[row][col] < target:\n",
    "                low = mid + 1\n",
    "            else:\n",
    "                high = mid - 1\n",
    "        \n",
    "        # If we reach here, then the element was not present\n",
    "        return False\n",
    "    \n",
    "# tc -  O(log (n*m))\n",
    "# sc - O(1)"
   ]
  },
  {
   "cell_type": "code",
   "execution_count": 9,
   "id": "342c4ec8",
   "metadata": {},
   "outputs": [
    {
     "data": {
      "text/plain": [
       "True"
      ]
     },
     "execution_count": 9,
     "metadata": {},
     "output_type": "execute_result"
    }
   ],
   "source": [
    "Solution().searchMatrix(matrix = [[1,3,5,7],[10,11,16,20],[23,30,34,60]], target = 3)"
   ]
  },
  {
   "cell_type": "code",
   "execution_count": 10,
   "id": "7ea923ee",
   "metadata": {},
   "outputs": [
    {
     "data": {
      "text/plain": [
       "False"
      ]
     },
     "execution_count": 10,
     "metadata": {},
     "output_type": "execute_result"
    }
   ],
   "source": [
    "Solution().searchMatrix(matrix = [[1,3,5,7],[10,11,16,20],[23,30,34,60]], target = 13)"
   ]
  },
  {
   "cell_type": "code",
   "execution_count": null,
   "id": "3e629a6b",
   "metadata": {},
   "outputs": [],
   "source": []
  }
 ],
 "metadata": {
  "kernelspec": {
   "display_name": "3.11.11",
   "language": "python",
   "name": "python3"
  },
  "language_info": {
   "codemirror_mode": {
    "name": "ipython",
    "version": 3
   },
   "file_extension": ".py",
   "mimetype": "text/x-python",
   "name": "python",
   "nbconvert_exporter": "python",
   "pygments_lexer": "ipython3",
   "version": "3.11.11"
  }
 },
 "nbformat": 4,
 "nbformat_minor": 5
}
