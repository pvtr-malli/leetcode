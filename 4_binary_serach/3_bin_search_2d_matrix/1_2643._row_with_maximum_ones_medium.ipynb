{
 "cells": [
  {
   "cell_type": "markdown",
   "id": "6e90a868",
   "metadata": {},
   "source": [
    "Given a m x n binary matrix mat, find the 0-indexed position of the row that contains the maximum count of ones, and the number of ones in that row.\n",
    "\n",
    "In case there are multiple rows that have the maximum count of ones, the row with the smallest row number should be selected.\n",
    "\n",
    "Return an array containing the index of the row, and the number of ones in it.\n",
    "\n",
    " \n",
    "\n",
    "Example 1:\n",
    "\n",
    "Input: mat = [[0,1],[1,0]]\n",
    "Output: [0,1]\n",
    "Explanation: Both rows have the same number of 1's. So we return the index of the smaller row, 0, and the maximum count of ones (1). So, the answer is [0,1]. \n",
    "Example 2:\n",
    "\n",
    "Input: mat = [[0,0,0],[0,1,1]]\n",
    "Output: [1,2]\n",
    "Explanation: The row indexed 1 has the maximum count of ones (2). So we return its index, 1, and the count. So, the answer is [1,2].\n",
    "Example 3:\n",
    "\n",
    "Input: mat = [[0,0],[1,1],[0,0]]\n",
    "Output: [1,2]\n",
    "Explanation: The row indexed 1 has the maximum count of ones (2). So the answer is [1,2].\n",
    " \n",
    "\n",
    "Constraints:\n",
    "\n",
    "m == mat.length \n",
    "n == mat[i].length \n",
    "1 <= m, n <= 100 \n",
    "mat[i][j] is either 0 or 1."
   ]
  },
  {
   "cell_type": "code",
   "execution_count": null,
   "id": "e1ca1ce5",
   "metadata": {},
   "outputs": [],
   "source": [
    "# brute force:\n",
    "# - loop over the row and sum the row \n",
    "# - keep track of the maximum 1 row.\n",
    "# O(n * m)\n",
    "# O(1)\n",
    "\n",
    "# inutution 2:\n",
    "# - loop over row\n",
    "# -     do binary search to find hte first 1.\n",
    "# -     total_1 = col_length - first_1_index + 1\n",
    "\n",
    "# -     keep track of the maximum\n",
    "# O(n * log m)\n",
    "# O(1)"
   ]
  },
  {
   "cell_type": "code",
   "execution_count": 1,
   "id": "3de3e614",
   "metadata": {},
   "outputs": [],
   "source": [
    "class Solution:\n",
    "    def rowAndMaximumOnes(self, mat: list[list[int]]) -> list[int]:\n",
    "        max_ones = -1\n",
    "        max_row_index = -1\n",
    "\n",
    "        for i, row in enumerate(mat):\n",
    "            count_ones = sum(row)\n",
    "            if count_ones > max_ones:\n",
    "                max_ones = count_ones\n",
    "                max_row_index = i\n",
    "\n",
    "        return [max_row_index, max_ones]\n"
   ]
  },
  {
   "cell_type": "code",
   "execution_count": 6,
   "id": "9bd8067b",
   "metadata": {},
   "outputs": [],
   "source": [
    "class Solution:\n",
    "    def rowAndMaximumOnes(self, mat: list[list[int]]) -> list[int]:\n",
    "        max_ones = -1\n",
    "        max_row_index = -1\n",
    "        col_length = len(mat[0])\n",
    "\n",
    "        for row in range(len(mat)):\n",
    "            low = 0\n",
    "            high = col_length\n",
    "            ans = col_length\n",
    "\n",
    "            while low <= high:\n",
    "                mid = (high + low) // 2\n",
    "                print(mid)\n",
    "                if mat[row][mid] == 1:\n",
    "                    ans = mid\n",
    "                    high = mid - 1\n",
    "                else:\n",
    "                    low = mid + 1\n",
    "            \n",
    "            # find teh count of 1's in this row.\n",
    "            one_count = col_length - ans + 1\n",
    "\n",
    "            # update the trackers for max.\n",
    "            if one_count > max_ones:\n",
    "                max_ones = one_count\n",
    "                max_row_index = row\n",
    "        \n",
    "        return [max_ones, max_row_index]"
   ]
  },
  {
   "cell_type": "code",
   "execution_count": 7,
   "id": "af827256",
   "metadata": {},
   "outputs": [
    {
     "name": "stdout",
     "output_type": "stream",
     "text": [
      "1\n",
      "0\n",
      "1\n",
      "2\n"
     ]
    },
    {
     "ename": "IndexError",
     "evalue": "list index out of range",
     "output_type": "error",
     "traceback": [
      "\u001b[31m---------------------------------------------------------------------------\u001b[39m",
      "\u001b[31mIndexError\u001b[39m                                Traceback (most recent call last)",
      "\u001b[36mCell\u001b[39m\u001b[36m \u001b[39m\u001b[32mIn[7]\u001b[39m\u001b[32m, line 1\u001b[39m\n\u001b[32m----> \u001b[39m\u001b[32m1\u001b[39m \u001b[43mSolution\u001b[49m\u001b[43m(\u001b[49m\u001b[43m)\u001b[49m\u001b[43m.\u001b[49m\u001b[43mrowAndMaximumOnes\u001b[49m\u001b[43m(\u001b[49m\u001b[43mmat\u001b[49m\u001b[43m \u001b[49m\u001b[43m=\u001b[49m\u001b[43m \u001b[49m\u001b[43m[\u001b[49m\u001b[43m[\u001b[49m\u001b[32;43m0\u001b[39;49m\u001b[43m,\u001b[49m\u001b[32;43m1\u001b[39;49m\u001b[43m]\u001b[49m\u001b[43m,\u001b[49m\u001b[43m[\u001b[49m\u001b[32;43m1\u001b[39;49m\u001b[43m,\u001b[49m\u001b[32;43m0\u001b[39;49m\u001b[43m]\u001b[49m\u001b[43m]\u001b[49m\u001b[43m)\u001b[49m\n",
      "\u001b[36mCell\u001b[39m\u001b[36m \u001b[39m\u001b[32mIn[6]\u001b[39m\u001b[32m, line 15\u001b[39m, in \u001b[36mSolution.rowAndMaximumOnes\u001b[39m\u001b[34m(self, mat)\u001b[39m\n\u001b[32m     13\u001b[39m mid = (high + low) // \u001b[32m2\u001b[39m\n\u001b[32m     14\u001b[39m \u001b[38;5;28mprint\u001b[39m(mid)\n\u001b[32m---> \u001b[39m\u001b[32m15\u001b[39m \u001b[38;5;28;01mif\u001b[39;00m \u001b[43mmat\u001b[49m\u001b[43m[\u001b[49m\u001b[43mrow\u001b[49m\u001b[43m]\u001b[49m\u001b[43m[\u001b[49m\u001b[43mmid\u001b[49m\u001b[43m]\u001b[49m == \u001b[32m1\u001b[39m:\n\u001b[32m     16\u001b[39m     ans = mid\n\u001b[32m     17\u001b[39m     high = mid - \u001b[32m1\u001b[39m\n",
      "\u001b[31mIndexError\u001b[39m: list index out of range"
     ]
    }
   ],
   "source": [
    "Solution().rowAndMaximumOnes(mat = [[0,1],[1,0]])"
   ]
  },
  {
   "cell_type": "code",
   "execution_count": null,
   "id": "02a441aa",
   "metadata": {},
   "outputs": [],
   "source": []
  }
 ],
 "metadata": {
  "kernelspec": {
   "display_name": "3.11.11",
   "language": "python",
   "name": "python3"
  },
  "language_info": {
   "codemirror_mode": {
    "name": "ipython",
    "version": 3
   },
   "file_extension": ".py",
   "mimetype": "text/x-python",
   "name": "python",
   "nbconvert_exporter": "python",
   "pygments_lexer": "ipython3",
   "version": "3.11.11"
  }
 },
 "nbformat": 4,
 "nbformat_minor": 5
}
