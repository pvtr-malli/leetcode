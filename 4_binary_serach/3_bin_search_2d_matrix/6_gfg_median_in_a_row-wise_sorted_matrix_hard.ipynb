{
 "cells": [
  {
   "cell_type": "markdown",
   "id": "d92ca35a",
   "metadata": {},
   "source": [
    "Given a row-wise sorted matrix mat[][] of size n*m, where the number of rows and columns is always odd. Return the median of the matrix.\n",
    "\n",
    "Examples:\n",
    "\n",
    "Input: mat[][] = [[1, 3, 5], \n",
    "                [2, 6, 9], \n",
    "                [3, 6, 9]]\n",
    "Output: 5\n",
    "Explanation: Sorting matrix elements gives us [1, 2, 3, 3, 5, 6, 6, 9, 9]. Hence, 5 is median.\n",
    "Input: mat[][] = [[2, 4, 9],\n",
    "                [3, 6, 7],\n",
    "                [4, 7, 10]]\n",
    "Output: 6\n",
    "Explanation: Sorting matrix elements gives us [2, 3, 4, 4, 6, 7, 7, 9, 10]. Hence, 6 is median.\n",
    "Input: mat = [[3], [4], [8]]\n",
    "Output: 4\n",
    "Explanation: Sorting matrix elements gives us [3, 4, 8]. Hence, 4 is median.\n",
    "Constraints:\n",
    "1 ≤ n, m ≤ 400\n",
    "1 ≤ mat[i][j] ≤ 2000\n",
    "\n",
    "Expected Complexities\n",
    "Time Complexity: O(n log m * log(maxVal – minVal))\n",
    "Auxiliary Space: O(1)"
   ]
  },
  {
   "cell_type": "code",
   "execution_count": null,
   "id": "427a9283",
   "metadata": {},
   "outputs": [],
   "source": [
    "# approach 1:\n",
    "# put everything in one array \n",
    "# sort the array and find the median value.\n",
    "# - tc - O(n*n log(n*m)) because of the sorting"
   ]
  },
  {
   "cell_type": "markdown",
   "id": "7df47aaa",
   "metadata": {},
   "source": [
    "- The search space would be min(matrix) - max(matrix)\n",
    "- for each mid index, find the number of values <= mid.\n",
    "- [1,2,3,5,6] - condition: x <=4\n",
    "- [t,t,t,f,f] - looking for the last true.\n",
    "\n",
    "- in the whole sum:\n",
    "- n*m, where the number of rows and columns is always odd - so there will be only one median - that is (n*m) // 2.\n",
    "- so for arr min to max.\n",
    "[[1, 3, 5], \n",
    "[2, 6, 9], \n",
    "[3, 6, 9]]\n",
    "- here median would be - 9 // 2 = 5th element\n",
    "- [1,2,3,4,5,6,7,8,9] - check do we have atlest 5-1 element below the mid.\n",
    "- [f,f,f,f,t,t,t,t,t] - looking for the first true.\n",
    "\n",
    "- Do the bin search foe the median value and count how many elements < to the median"
   ]
  },
  {
   "cell_type": "code",
   "execution_count": 20,
   "id": "00fbd4ad",
   "metadata": {},
   "outputs": [],
   "source": [
    "class Solution:\n",
    "    def median(self, mat):\n",
    "        rows = len(mat)\n",
    "        cols = len(mat[0])\n",
    "        desired = ((rows * cols) // 2) + 1\n",
    "\n",
    "        def count_less_equal(mid):\n",
    "            # go over each row and do a bin-search and find how many elements < mid is there.\n",
    "            count = 0\n",
    "            for row in range(rows):\n",
    "                l = 0\n",
    "                h = cols - 1\n",
    "                ans = -1 # # last index where row[i] <= mid\n",
    "                while l <= h:\n",
    "                    m = (l+h)//2\n",
    "                    if mat[row][m] <= mid:\n",
    "                        ans = m \n",
    "                        # we are looking for hte last true - got right and search more.\n",
    "                        l = m + 1\n",
    "                    else:\n",
    "                        h = m - 1\n",
    "                count += (ans + 1) # if the index is 2, than there is 3 elements in the row < k.\n",
    "\n",
    "            return count \n",
    "        \n",
    "        low = min(row[0] for row in mat)         # smallest element (first of each row)\n",
    "        high = max(row[-1] for row in mat)\n",
    "        ans = high\n",
    "\n",
    "        while low<=high:\n",
    "            mid = (low + high) // 2\n",
    "            \n",
    "            if count_less_equal(mid) >= desired:\n",
    "                ans = mid # looking for the first true.\n",
    "                high = mid - 1\n",
    "                \n",
    "            else:\n",
    "                low = mid + 1\n",
    "        \n",
    "        return ans\n",
    "    \n",
    "# Time: O(rows * log(cols) * log(max-min))\n",
    "# Space: O(1)"
   ]
  },
  {
   "cell_type": "code",
   "execution_count": 21,
   "id": "619057ba",
   "metadata": {},
   "outputs": [
    {
     "data": {
      "text/plain": [
       "5"
      ]
     },
     "execution_count": 21,
     "metadata": {},
     "output_type": "execute_result"
    }
   ],
   "source": [
    "Solution().median([[1, 3, 5], \n",
    "[2, 6, 9], \n",
    "[3, 6, 9]])"
   ]
  },
  {
   "cell_type": "code",
   "execution_count": null,
   "id": "29db366a",
   "metadata": {},
   "outputs": [],
   "source": []
  }
 ],
 "metadata": {
  "kernelspec": {
   "display_name": "3.11.11",
   "language": "python",
   "name": "python3"
  },
  "language_info": {
   "codemirror_mode": {
    "name": "ipython",
    "version": 3
   },
   "file_extension": ".py",
   "mimetype": "text/x-python",
   "name": "python",
   "nbconvert_exporter": "python",
   "pygments_lexer": "ipython3",
   "version": "3.11.11"
  }
 },
 "nbformat": 4,
 "nbformat_minor": 5
}
