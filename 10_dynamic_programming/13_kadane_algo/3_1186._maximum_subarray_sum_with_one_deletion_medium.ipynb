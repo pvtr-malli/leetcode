{
 "cells": [
  {
   "cell_type": "markdown",
   "id": "195025b2",
   "metadata": {},
   "source": [
    "Given an array of integers, return the maximum sum for a non-empty subarray (contiguous elements) with at most one element deletion. In other words, you want to choose a subarray and optionally delete one element from it so that there is still at least one element left and the sum of the remaining elements is maximum possible.\n",
    "\n",
    "Note that the subarray needs to be non-empty after deleting one element.\n",
    "\n",
    " \n",
    "\n",
    "Example 1:\n",
    "\n",
    "Input: arr = [1,-2,0,3]\n",
    "Output: 4\n",
    "Explanation: Because we can choose [1, -2, 0, 3] and drop -2, thus the subarray [1, 0, 3] becomes the maximum value.\n",
    "Example 2:\n",
    "\n",
    "Input: arr = [1,-2,-2,3]\n",
    "Output: 3\n",
    "Explanation: We just choose [3] and it's the maximum sum.\n",
    "Example 3:\n",
    "\n",
    "Input: arr = [-1,-1,-1,-1]\n",
    "Output: -1\n",
    "Explanation: The final subarray needs to be non-empty. You can't choose [-1] and delete -1 from it, then get an empty subarray to make the sum equals to 0.\n",
    " \n",
    "\n",
    "Constraints:\n",
    "\n",
    "1 <= arr.length <= 105\n",
    "-104 <= arr[i] <= 104"
   ]
  },
  {
   "cell_type": "code",
   "execution_count": null,
   "id": "145b0f8d",
   "metadata": {},
   "outputs": [],
   "source": [
    "class Solution:\n",
    "    def maximumSum(self, arr: list[int]) -> int:\n",
    "        n = len(arr)\n",
    "\n",
    "        # recur(i, delete_used) -> maximum sum ending at index i\n",
    "        def recur(i, delete_used):\n",
    "            if i < 0:\n",
    "                return 0 if delete_used else float('-inf')\n",
    "\n",
    "            # Option 1: include arr[i] in the current subarray\n",
    "            take = arr[i] + recur(i-1, delete_used)\n",
    "\n",
    "            # Option 2: delete current element (if deletion not used yet)\n",
    "            delete = recur(i-1, True) if not delete_used else float('-inf')\n",
    "\n",
    "            # Option 3: start new subarray from current element\n",
    "            start_new = arr[i]\n",
    "\n",
    "            return max(take, delete, start_new)\n",
    "\n",
    "        maxi = float('-inf')\n",
    "        for i in range(n):\n",
    "            maxi = max(maxi, recur(i, False))\n",
    "        return maxi\n",
    "\n",
    "\n",
    "# tc - O(2 ^ n)\n",
    "# sc - O(n)"
   ]
  },
  {
   "cell_type": "code",
   "execution_count": 8,
   "id": "6398a8b4",
   "metadata": {},
   "outputs": [
    {
     "data": {
      "text/plain": [
       "4"
      ]
     },
     "execution_count": 8,
     "metadata": {},
     "output_type": "execute_result"
    }
   ],
   "source": [
    "Solution().maximumSum(arr = [1,-2,0,3])"
   ]
  },
  {
   "cell_type": "code",
   "execution_count": 9,
   "id": "3aa78994",
   "metadata": {},
   "outputs": [
    {
     "data": {
      "text/plain": [
       "3"
      ]
     },
     "execution_count": 9,
     "metadata": {},
     "output_type": "execute_result"
    }
   ],
   "source": [
    "Solution().maximumSum(arr = [1,-2,-2,3])"
   ]
  },
  {
   "cell_type": "code",
   "execution_count": null,
   "id": "caa2fca1",
   "metadata": {},
   "outputs": [],
   "source": [
    "# memorization\n",
    "class Solution:\n",
    "    def maximumSum(self, arr: list[int]) -> int:\n",
    "        n = len(arr)\n",
    "        dp = [[-1] * 2 for _ in range(n)]\n",
    "\n",
    "        # recur(i, delete_used) -> maximum sum ending at index i\n",
    "        def recur(i, delete_used):\n",
    "            if i < 0:\n",
    "                return 0 if delete_used else float('-inf')\n",
    "            \n",
    "            if dp[i][delete_used] != -1:\n",
    "                return dp[i][delete_used]\n",
    "\n",
    "            # Option 1: include arr[i] in the current subarray\n",
    "            take = arr[i] + recur(i-1, delete_used)\n",
    "\n",
    "            # Option 2: delete current element (if deletion not used yet)\n",
    "            delete = recur(i-1, True) if not delete_used else float('-inf')\n",
    "\n",
    "            # Option 3: start new subarray from current element\n",
    "            start_new = arr[i]\n",
    "\n",
    "            dp[i][delete_used] =  max(take, delete, start_new)\n",
    "            return dp[i][delete_used]\n",
    "\n",
    "        maxi = float('-inf')\n",
    "        for i in range(n):\n",
    "            maxi = max(maxi, recur(i, False))\n",
    "        return maxi\n",
    "\n",
    "\n",
    "# tc - O(n * 2)\n",
    "# sc - O(n * 2)"
   ]
  },
  {
   "cell_type": "code",
   "execution_count": 12,
   "id": "6f2b1aa6",
   "metadata": {},
   "outputs": [
    {
     "data": {
      "text/plain": [
       "4"
      ]
     },
     "execution_count": 12,
     "metadata": {},
     "output_type": "execute_result"
    }
   ],
   "source": [
    "Solution().maximumSum(arr = [1,-2,0,3])"
   ]
  },
  {
   "cell_type": "code",
   "execution_count": 13,
   "id": "1f2e9ae8",
   "metadata": {},
   "outputs": [
    {
     "data": {
      "text/plain": [
       "3"
      ]
     },
     "execution_count": 13,
     "metadata": {},
     "output_type": "execute_result"
    }
   ],
   "source": [
    "Solution().maximumSum(arr = [1,-2,-2,3])"
   ]
  },
  {
   "cell_type": "code",
   "execution_count": null,
   "id": "3e4fa3bc",
   "metadata": {},
   "outputs": [],
   "source": [
    "# tabulation: littled modified from the memorization.\n",
    "# dp[i][0]: maximum sum ending at index i without using deletion.\n",
    "# dp[i][1]: maximum sum ending at index i with one deletion.\n",
    "\n",
    "class Solution:\n",
    "    def maximumSum(self, arr: list[int]) -> int:\n",
    "        n = len(arr)\n",
    "        if n == 0:\n",
    "            return 0\n",
    "\n",
    "        # dp[i][0] -> max sum ending at i without deletion\n",
    "        # dp[i][1] -> max sum ending at i with at most one deletion\n",
    "        dp = [[0, 0] for _ in range(n)]\n",
    "        \n",
    "        dp[0][0] = arr[0]       # no deletion\n",
    "        dp[0][1] = arr[0]       # using deletion on first element does not help\n",
    "        \n",
    "        maxi = arr[0]\n",
    "\n",
    "        for i in range(1, n):\n",
    "            # continue subarray without deletion or start new\n",
    "            dp[i][0] = max(arr[i], dp[i-1][0] + arr[i])\n",
    "            \n",
    "            # either delete current element OR continue subarray with previous deletion\n",
    "            # NOTE: if you delete the current index element, then take the previouesly not deleted index results and move on.\n",
    "            dp[i][1] = max(dp[i-1][0], dp[i-1][1] + arr[i])\n",
    "            \n",
    "            maxi = max(maxi, dp[i][0], dp[i][1])\n",
    "        \n",
    "        return maxi\n",
    "\n",
    "# tc - O(N)\n",
    "# sc - O(n * 2)\n"
   ]
  },
  {
   "cell_type": "code",
   "execution_count": 15,
   "id": "9a456695",
   "metadata": {},
   "outputs": [
    {
     "data": {
      "text/plain": [
       "4"
      ]
     },
     "execution_count": 15,
     "metadata": {},
     "output_type": "execute_result"
    }
   ],
   "source": [
    "Solution().maximumSum(arr = [1,-2,0,3])"
   ]
  },
  {
   "cell_type": "code",
   "execution_count": 16,
   "id": "201452ed",
   "metadata": {},
   "outputs": [
    {
     "data": {
      "text/plain": [
       "3"
      ]
     },
     "execution_count": 16,
     "metadata": {},
     "output_type": "execute_result"
    }
   ],
   "source": [
    "Solution().maximumSum(arr = [1,-2,-2,3])"
   ]
  },
  {
   "cell_type": "code",
   "execution_count": null,
   "id": "1b5b91c2",
   "metadata": {},
   "outputs": [],
   "source": [
    "# tabulation: optimized.\n",
    "# dp[i][0]: maximum sum ending at index i without using deletion.\n",
    "# dp[i][1]: maximum sum ending at index i with one deletion.\n",
    "\n",
    "class Solution:\n",
    "    def maximumSum(self, arr: list[int]) -> int:\n",
    "        n = len(arr)\n",
    "        if n == 0:\n",
    "            return 0\n",
    "\n",
    "        # prev_no_del -> max sum ending at previous index without deletion\n",
    "        # prev_del    -> max sum ending at previous index with at most one deletion\n",
    "        prev_no_del = arr[0]\n",
    "        prev_del = arr[0]\n",
    "        maxi = arr[0]\n",
    "\n",
    "        for i in range(1, n):\n",
    "            # max sum ending at current index without deletion\n",
    "            curr_no_del = max(arr[i], prev_no_del + arr[i])\n",
    "            \n",
    "            # max sum ending at current index with one deletion\n",
    "            curr_del = max(prev_no_del, prev_del + arr[i])\n",
    "            \n",
    "            maxi = max(maxi, curr_no_del, curr_del)\n",
    "            \n",
    "            # update previous values for next iteration\n",
    "            prev_no_del, prev_del = curr_no_del, curr_del\n",
    "\n",
    "        return maxi\n",
    "\n",
    "\n",
    "# tc - O(N)\n",
    "# sc - O(1)\n"
   ]
  }
 ],
 "metadata": {
  "kernelspec": {
   "display_name": "3.11.11",
   "language": "python",
   "name": "python3"
  },
  "language_info": {
   "codemirror_mode": {
    "name": "ipython",
    "version": 3
   },
   "file_extension": ".py",
   "mimetype": "text/x-python",
   "name": "python",
   "nbconvert_exporter": "python",
   "pygments_lexer": "ipython3",
   "version": "3.11.11"
  }
 },
 "nbformat": 4,
 "nbformat_minor": 5
}
