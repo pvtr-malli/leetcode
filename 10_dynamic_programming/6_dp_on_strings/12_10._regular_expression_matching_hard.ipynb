{
 "cells": [
  {
   "cell_type": "markdown",
   "id": "e2cfea23",
   "metadata": {},
   "source": [
    "Given an input string s and a pattern p, implement regular expression matching with support for '.' and '*' where:\n",
    "\n",
    "'.' Matches any single character.​​​​\n",
    "'*' Matches zero or more of the preceding element.\n",
    "The matching should cover the entire input string (not partial).\n",
    "\n",
    " \n",
    "\n",
    "Example 1:\n",
    "\n",
    "Input: s = \"aa\", p = \"a\"\n",
    "Output: false\n",
    "Explanation: \"a\" does not match the entire string \"aa\".\n",
    "Example 2:\n",
    "\n",
    "Input: s = \"aa\", p = \"a*\"\n",
    "Output: true\n",
    "Explanation: '*' means zero or more of the preceding element, 'a'. Therefore, by repeating 'a' once, it becomes \"aa\".\n",
    "Example 3:\n",
    "\n",
    "Input: s = \"ab\", p = \".*\"\n",
    "Output: true\n",
    "Explanation: \".*\" means \"zero or more (*) of any character (.)\".\n",
    " \n",
    "\n",
    "Constraints:\n",
    "\n",
    "1 <= s.length <= 20\n",
    "1 <= p.length <= 20\n",
    "s contains only lowercase English letters.\n",
    "p contains only lowercase English letters, '.', and '*'.\n",
    "It is guaranteed for each appearance of the character '*', there will be a previous valid character to match."
   ]
  },
  {
   "cell_type": "code",
   "execution_count": null,
   "id": "31f724f9",
   "metadata": {},
   "outputs": [],
   "source": [
    "class Solution:\n",
    "    def isMatch(self, s: str, p: str) -> bool:\n",
    "        i,j = len(s), len(p)\n",
    "        def recu(i,j):\n",
    "            if j < 0 and i < 0:\n",
    "                return True \n",
    "            if j < 0 and i >= 0:\n",
    "                return False\n",
    "            if i < 0 and j >= 0:\n",
    "                # The remaining pattern must be all pairs like x* to match empty string\n",
    "                if (j + 1) % 2 == 0:\n",
    "                    for k in range(1, j + 1, 2):\n",
    "                        if p[k] != '*':\n",
    "                            return False\n",
    "                    return True\n",
    "                return False\n",
    "\n",
    "            if s[i] == p[j] or p[j] == \".\":\n",
    "                # will match with any charactor so move forward.\n",
    "                return recu(i-1, j-1)\n",
    "            elif p[j] == \"*\":\n",
    "                print(s,i,j)\n",
    "                # matches zero or more preceding caractor.\n",
    "                if s[i] == p[j-1] or p[j-1] == \".\":\n",
    "                    # Then this is matching hte preceding charactor, so move the i.\n",
    "                    # we can match or skip.\n",
    "                    return recu(i-1, j) or recu(i, j-2)\n",
    "                else:\n",
    "                    # it didn't match with the preceding charactor.\n",
    "                    # option 1: This is a zero preceding match for \"*\". -> just move the j. if not matching let it fail in next step.\n",
    "                    # option 2: This is not matching with \"*\" so anyways move forward to check and fail.\n",
    "                    return recu(i, j-2) # we have to leave the preceding charactor also.\n",
    "                \n",
    "            else:\n",
    "                return False # pattern didn't match\n",
    "        \n",
    "        return recu(i-1,j-1)\n",
    "\n",
    "# tc - O(2^(n+m)) where n is the length of s and m is the length of p.\n",
    "# sc - O(n+m) for the recursion stack.\n"
   ]
  },
  {
   "cell_type": "code",
   "execution_count": 52,
   "id": "ec988553",
   "metadata": {},
   "outputs": [
    {
     "data": {
      "text/plain": [
       "False"
      ]
     },
     "execution_count": 52,
     "metadata": {},
     "output_type": "execute_result"
    }
   ],
   "source": [
    "Solution().isMatch(s = \"aa\", p = \"a\")"
   ]
  },
  {
   "cell_type": "code",
   "execution_count": 53,
   "id": "20d971ae",
   "metadata": {},
   "outputs": [
    {
     "name": "stdout",
     "output_type": "stream",
     "text": [
      "aa 1 1\n",
      "aa 0 1\n"
     ]
    },
    {
     "data": {
      "text/plain": [
       "True"
      ]
     },
     "execution_count": 53,
     "metadata": {},
     "output_type": "execute_result"
    }
   ],
   "source": [
    "Solution().isMatch(s = \"aa\", p = \"a*\")"
   ]
  },
  {
   "cell_type": "code",
   "execution_count": 54,
   "id": "2ab7779c",
   "metadata": {},
   "outputs": [
    {
     "name": "stdout",
     "output_type": "stream",
     "text": [
      "ab 1 1\n",
      "ab 0 1\n"
     ]
    },
    {
     "data": {
      "text/plain": [
       "True"
      ]
     },
     "execution_count": 54,
     "metadata": {},
     "output_type": "execute_result"
    }
   ],
   "source": [
    "Solution().isMatch(s = \"ab\", p = \".*\")"
   ]
  },
  {
   "cell_type": "code",
   "execution_count": 55,
   "id": "1fe4a5a8",
   "metadata": {},
   "outputs": [
    {
     "name": "stdout",
     "output_type": "stream",
     "text": [
      "mississippi 9 9\n",
      "mississippi 8 9\n",
      "mississippi 7 9\n",
      "mississippi 6 6\n",
      "mississippi 5 6\n",
      "mississippi 4 6\n",
      "mississippi 3 3\n",
      "mississippi 2 3\n",
      "mississippi 1 3\n"
     ]
    },
    {
     "data": {
      "text/plain": [
       "True"
      ]
     },
     "execution_count": 55,
     "metadata": {},
     "output_type": "execute_result"
    }
   ],
   "source": [
    "Solution().isMatch(s=\"mississippi\", p=\"mis*is*ip*.\")"
   ]
  },
  {
   "cell_type": "code",
   "execution_count": null,
   "id": "03f85ab9",
   "metadata": {},
   "outputs": [],
   "source": [
    "class Solution:\n",
    "    def isMatch(self, s: str, p: str) -> bool:\n",
    "        i,j = len(s), len(p)\n",
    "        dp = [[-1 for _ in range(j)] for _ in range(i)]\n",
    "        def recu(i,j):\n",
    "            if j < 0 and i < 0:\n",
    "                return True \n",
    "            if j < 0 and i >= 0:\n",
    "                return False\n",
    "            if i < 0 and j >= 0:\n",
    "                # The remaining pattern must be all pairs like x* to match empty string\n",
    "                if (j + 1) % 2 == 0:\n",
    "                    for k in range(1, j + 1, 2):\n",
    "                        if p[k] != '*':\n",
    "                            return False\n",
    "                    return True\n",
    "                return False\n",
    "            \n",
    "            if dp[i][j] != -1:\n",
    "                return dp[i][j]\n",
    "\n",
    "            if s[i] == p[j] or p[j] == \".\":\n",
    "                # will match with any charactor so move forward.\n",
    "                dp[i][j] =  recu(i-1, j-1)\n",
    "            elif p[j] == \"*\":\n",
    "                # matches zero or more preceding caractor.\n",
    "                if s[i] == p[j-1] or p[j-1] == \".\":\n",
    "                    # Then this is matching hte preceding charactor, so move the i.\n",
    "                    # we can match or skip.\n",
    "                    dp[i][j] =  recu(i-1, j) or recu(i, j-2)\n",
    "                else:\n",
    "                    # it didn't match with the preceding charactor.\n",
    "                    # option 1: This is a zero preceding match for \"*\". -> just move the j. if not matching let it fail in next step.\n",
    "                    # option 2: This is not matching with \"*\" so anyways move forward to check and fail.\n",
    "                    dp[i][j] =  recu(i, j-2) # we have to leave the preceding charactor also.\n",
    "                \n",
    "            else:\n",
    "                dp[i][j] =  False # pattern didn't match\n",
    "            \n",
    "            return dp[i][j]\n",
    "        \n",
    "        return recu(i-1,j-1)\n",
    "    \n",
    "# tc - O(n*m) where n is the length of s and m is the length of p.\n",
    "# sc - O(n*m) for the dp array and O(n+m) for the recursion"
   ]
  },
  {
   "cell_type": "code",
   "execution_count": 70,
   "id": "9adefdd5",
   "metadata": {},
   "outputs": [
    {
     "name": "stdout",
     "output_type": "stream",
     "text": [
      "[[-1], [-1]]\n",
      "1 0\n",
      "0 -1\n"
     ]
    },
    {
     "data": {
      "text/plain": [
       "False"
      ]
     },
     "execution_count": 70,
     "metadata": {},
     "output_type": "execute_result"
    }
   ],
   "source": [
    "Solution().isMatch(s = \"aa\", p = \"a\")"
   ]
  },
  {
   "cell_type": "code",
   "execution_count": null,
   "id": "5244dca0",
   "metadata": {},
   "outputs": [],
   "source": [
    "# dp[i][j] means s[0 to i-1] matches p[0 to j-1] — note the shift by 1 for base empty strings.\n",
    "# so dp[1][1] means s[0] matches p[0], dp[2][3] means s[0 to 1] matches p[0 to 2], etc.\n",
    "# so code will be having dp[i][j] and arr[i-1]\n",
    "class Solution:\n",
    "    def isMatch(self, s: str, p: str) -> bool:\n",
    "        n, m = len(s), len(p)\n",
    "        # dp i shifted by 1.\n",
    "        dp = [[False] * (m + 1) for _ in range(n + 1)]\n",
    "        \n",
    "        # Base case: empty string and empty pattern match\n",
    "        dp[0][0] = True\n",
    "        \n",
    "        # Handle empty string s but non-empty pattern p\n",
    "        for j in range(2, m + 1):\n",
    "            if p[j-1] == '*':\n",
    "                dp[0][j] = dp[0][j-2]\n",
    "        \n",
    "        # Fill dp for all substrings s[:i] and patterns p[:j]\n",
    "        for i in range(1, n + 1):\n",
    "            for j in range(1, m + 1):\n",
    "                if p[j-1] == '*':\n",
    "                    if s[i-1] == p[j-2] or p[j-2] == \".\":\n",
    "                        dp[i][j] = dp[i-1][j] or dp[i][j-2]\n",
    "                    else:\n",
    "                        dp[i][j] = dp[i][j-2]\n",
    "\n",
    "                else:\n",
    "                    # Direct match or '.' wildcard\n",
    "                    if p[j-1] == '.' or p[j-1] == s[i-1]:\n",
    "                        dp[i][j] = dp[i-1][j-1]\n",
    "                    else:\n",
    "                        dp[i][j] = False\n",
    "        return dp[n][m]\n",
    "\n",
    "\n",
    "# tc - O(n*m) where n is the length of s and m is the length of p.\n",
    "# sc - O(n*m) for the dp array and O(n+m) for the recursion"
   ]
  },
  {
   "cell_type": "code",
   "execution_count": 72,
   "id": "9f6b4415",
   "metadata": {},
   "outputs": [
    {
     "data": {
      "text/plain": [
       "False"
      ]
     },
     "execution_count": 72,
     "metadata": {},
     "output_type": "execute_result"
    }
   ],
   "source": [
    "Solution().isMatch(s = \"aa\", p = \"a\")"
   ]
  },
  {
   "cell_type": "code",
   "execution_count": 73,
   "id": "d4422c22",
   "metadata": {},
   "outputs": [
    {
     "data": {
      "text/plain": [
       "True"
      ]
     },
     "execution_count": 73,
     "metadata": {},
     "output_type": "execute_result"
    }
   ],
   "source": [
    "Solution().isMatch(s=\"mississippi\", p=\"mis*is*ip*.\")"
   ]
  },
  {
   "cell_type": "code",
   "execution_count": null,
   "id": "98cb061f",
   "metadata": {},
   "outputs": [],
   "source": [
    "class Solution:\n",
    "    def isMatch(self, s: str, p: str) -> bool:\n",
    "        n, m = len(s), len(p)\n",
    "        prev = [False] * (m + 1)\n",
    "        curr = [False] * (m + 1)\n",
    "        \n",
    "        # Base case: empty string matches empty pattern\n",
    "        prev[0] = True\n",
    "        \n",
    "        # Handle empty s but non-empty p\n",
    "        for j in range(2, m + 1):\n",
    "            if p[j-1] == '*':\n",
    "                prev[j] = prev[j-2]\n",
    "\n",
    "        for i in range(1, n + 1):\n",
    "            curr[0] = False  # empty pattern can't match non-empty s[:i]\n",
    "            for j in range(1, m + 1):\n",
    "                if p[j-1] == '*':\n",
    "                    # match zero occurrence of preceding char or one/more occurrences if matching s[i-1]\n",
    "                    if s[i-1] == p[j-2] or p[j-2] == \".\":\n",
    "                        curr[j] = prev[j] or curr[j-2]\n",
    "                    else:\n",
    "                        curr[j] = curr[j-2]\n",
    "                else:\n",
    "                    # direct match or '.'\n",
    "                    if p[j-1] == '.' or p[j-1] == s[i-1]:\n",
    "                        curr[j] = prev[j-1]\n",
    "                    else:\n",
    "                        curr[j] = False\n",
    "            prev, curr = curr, [False] * (m + 1)\n",
    "        \n",
    "        return prev[m]\n",
    "\n",
    "\n",
    "# tc - O(n*m) where n is the length of s and m is the length of p.\n",
    "# sc - O(m) for the dp array and O(n+m) for the recursion"
   ]
  },
  {
   "cell_type": "code",
   "execution_count": null,
   "id": "1ab26aef",
   "metadata": {},
   "outputs": [],
   "source": []
  }
 ],
 "metadata": {
  "kernelspec": {
   "display_name": "3.11.11",
   "language": "python",
   "name": "python3"
  },
  "language_info": {
   "codemirror_mode": {
    "name": "ipython",
    "version": 3
   },
   "file_extension": ".py",
   "mimetype": "text/x-python",
   "name": "python",
   "nbconvert_exporter": "python",
   "pygments_lexer": "ipython3",
   "version": "3.11.11"
  }
 },
 "nbformat": 4,
 "nbformat_minor": 5
}
