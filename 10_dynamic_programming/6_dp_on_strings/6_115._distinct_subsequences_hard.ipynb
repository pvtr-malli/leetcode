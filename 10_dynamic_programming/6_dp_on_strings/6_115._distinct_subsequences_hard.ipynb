{
 "cells": [
  {
   "cell_type": "markdown",
   "id": "bfd6b238",
   "metadata": {},
   "source": [
    "Given two strings s and t, return the number of distinct subsequences of s which equals t.\n",
    "\n",
    "The test cases are generated so that the answer fits on a 32-bit signed integer.\n",
    "\n",
    " \n",
    "\n",
    "Example 1:\n",
    "\n",
    "Input: s = \"rabbbit\", t = \"rabbit\"\n",
    "Output: 3\n",
    "Explanation:\n",
    "As shown below, there are 3 ways you can generate \"rabbit\" from s.\n",
    "rabbbit\n",
    "rabbbit\n",
    "rabbbit\n",
    "Example 2:\n",
    "\n",
    "Input: s = \"babgbag\", t = \"bag\"\n",
    "Output: 5\n",
    "Explanation:\n",
    "As shown below, there are 5 ways you can generate \"bag\" from s.\n",
    "babgbag\n",
    "babgbag\n",
    "babgbag\n",
    "babgbag\n",
    "babgbag\n",
    " \n",
    "\n",
    "Constraints:\n",
    "\n",
    "1 <= s.length, t.length <= 1000\n",
    "s and t consist of English letters."
   ]
  },
  {
   "cell_type": "code",
   "execution_count": 1,
   "id": "709f874c",
   "metadata": {},
   "outputs": [],
   "source": [
    "# recurssion:\n",
    "class Solution:\n",
    "    def numDistinct(self, s: str, t: str) -> int:\n",
    "        i,j = len(s)-1, len(t)-1\n",
    "\n",
    "        def recur(i, j):\n",
    "            if j < 0 :return 1\n",
    "            if i < 0 and j >= 0: return 0\n",
    "\n",
    "            # if the characters match, we can either take it or not take it.\n",
    "            if s[i] == t[j]:\n",
    "                take_it = recur(i-1, j-1)\n",
    "                # not takeing the ith character of s.\n",
    "                not_take_it = recur(i-1, j) \n",
    "                return take_it + not_take_it\n",
    "            else:\n",
    "                # if the characters don't match, we can only not take it.\n",
    "                return recur(i-1, j)\n",
    "        \n",
    "        return recur(i, j)\n",
    "    \n",
    "# tc - O(2^(m+n)) where m is the length of s and n is the length of t.\n",
    "# sc - O(m+n) for the recursion stack."
   ]
  },
  {
   "cell_type": "code",
   "execution_count": 2,
   "id": "7b682376",
   "metadata": {},
   "outputs": [
    {
     "data": {
      "text/plain": [
       "3"
      ]
     },
     "execution_count": 2,
     "metadata": {},
     "output_type": "execute_result"
    }
   ],
   "source": [
    "Solution().numDistinct(s = \"rabbbit\", t = \"rabbit\")"
   ]
  },
  {
   "cell_type": "code",
   "execution_count": 18,
   "id": "a0bba93a",
   "metadata": {},
   "outputs": [],
   "source": [
    "# memorization:\n",
    "class Solution:\n",
    "    def numDistinct(self, s: str, t: str) -> int:\n",
    "        i,j = len(s)-1, len(t)-1\n",
    "        dp = [[-1] * (j + 1) for _ in range(i + 1)]\n",
    "\n",
    "        def recur(i, j):\n",
    "            if j < 0 :return 1\n",
    "            if i < 0 and j >= 0: return 0\n",
    "\n",
    "            if dp[i][j] != -1:\n",
    "                return dp[i][j]\n",
    "\n",
    "            # if the characters match, we can either take it or not take it.\n",
    "            if s[i] == t[j]:\n",
    "                take_it = recur(i-1, j-1)\n",
    "                # not takeing the ith character of s.\n",
    "                not_take_it = recur(i-1, j) \n",
    "                dp[i][j] =  take_it + not_take_it\n",
    "            else:\n",
    "                # if the characters don't match, we can only not take it.\n",
    "                dp[i][j] =  recur(i-1, j)\n",
    "\n",
    "            return dp[i][j]\n",
    "        \n",
    "        return recur(i, j)\n",
    "\n",
    "# tc - O(m * n)\n",
    "# sc - O(m * n)\n"
   ]
  },
  {
   "cell_type": "code",
   "execution_count": 19,
   "id": "82d0189a",
   "metadata": {},
   "outputs": [
    {
     "data": {
      "text/plain": [
       "3"
      ]
     },
     "execution_count": 19,
     "metadata": {},
     "output_type": "execute_result"
    }
   ],
   "source": [
    "Solution().numDistinct(s = \"rabbbit\", t = \"rabbit\")"
   ]
  },
  {
   "cell_type": "code",
   "execution_count": 20,
   "id": "1509a8b8",
   "metadata": {},
   "outputs": [
    {
     "data": {
      "text/plain": [
       "5"
      ]
     },
     "execution_count": 20,
     "metadata": {},
     "output_type": "execute_result"
    }
   ],
   "source": [
    "Solution().numDistinct(s = \"babgbag\", t = \"bag\")"
   ]
  },
  {
   "cell_type": "code",
   "execution_count": null,
   "id": "03fbb2c4",
   "metadata": {},
   "outputs": [],
   "source": [
    "# tabulation:\n",
    "class Solution:\n",
    "    def numDistinct(self, s: str, t: str) -> int:\n",
    "        n,m = len(s), len(t)\n",
    "        # NOTE: we will be having a i - 1 in our code.\n",
    "        # which means when we are at index, we have to look at 0-1 index, which we dont have in dp.\n",
    "        # so shift the text index right by one.\n",
    "        # so in text, i means i - 1.\n",
    "        dp = [[0] * (m + 1) for _ in range(n + 1)]\n",
    "\n",
    "        # base case:\n",
    "        # if j < 0 :return 1 -- so here since we did the right shift it means when the index is 0 the ans is 1.\n",
    "        for  i in range(n+1):\n",
    "            dp[i][0] = 1\n",
    "        \n",
    "        # we ahve i - 1 in the sum, so we have to start from 0 -> n.\n",
    "        for i in range(1, n+1):\n",
    "            for j in range(1, m+1):\n",
    "\n",
    "                # if the characters match, we can either take it or not take it.\n",
    "                # NOTE: we have shifted the text index right by one, so we have to look at i-1 and j-1.\n",
    "                if s[i-1] == t[j-1]:\n",
    "                    take_it = dp[i-1][j-1]\n",
    "                    # not takeing the ith character of s.\n",
    "                    not_take_it = dp[i-1][j]\n",
    "                    dp[i][j] =  take_it + not_take_it\n",
    "                else:\n",
    "                    # if the characters don't match, we can only not take it.\n",
    "                    dp[i][j] =  dp[i-1][j]\n",
    "        \n",
    "        return dp[n][m] # we have to the last index from the dp table.\n",
    "\n",
    "# tc - O(n * m)\n",
    "# sc - O(n * m)\n"
   ]
  },
  {
   "cell_type": "code",
   "execution_count": 28,
   "id": "b3a12853",
   "metadata": {},
   "outputs": [
    {
     "data": {
      "text/plain": [
       "3"
      ]
     },
     "execution_count": 28,
     "metadata": {},
     "output_type": "execute_result"
    }
   ],
   "source": [
    "Solution().numDistinct(s = \"rabbbit\", t = \"rabbit\")"
   ]
  },
  {
   "cell_type": "code",
   "execution_count": 29,
   "id": "e85d515c",
   "metadata": {},
   "outputs": [
    {
     "data": {
      "text/plain": [
       "5"
      ]
     },
     "execution_count": 29,
     "metadata": {},
     "output_type": "execute_result"
    }
   ],
   "source": [
    "Solution().numDistinct(s = \"babgbag\", t = \"bag\")"
   ]
  },
  {
   "cell_type": "code",
   "execution_count": 30,
   "id": "8af2b443",
   "metadata": {},
   "outputs": [],
   "source": [
    "# tabulation with space optimization:\n",
    "class Solution:\n",
    "    def numDistinct(self, s: str, t: str) -> int:\n",
    "        n,m = len(s), len(t)\n",
    "        # NOTE: we will be having a i - 1 in our code.\n",
    "        # which means when we are at index, we have to look at 0-1 index, which we dont have in dp.\n",
    "        # so shift the text index right by one.\n",
    "        # so in text, i means i - 1.\n",
    "        prev = [0] * (m + 1)\n",
    "        cur = [0] * (m + 1)\n",
    "\n",
    "        # base case:\n",
    "        prev[0] = 1\n",
    "        # if j < 0 :return 1 -- so here since we did the right\n",
    "        \n",
    "        # we ahve i - 1 in the sum, so we have to start from 0 -> n.\n",
    "        for i in range(1, n+1):\n",
    "            cur[0] = 1  # empty t is subsequence of any prefix of s\n",
    "            for j in range(1, m+1):\n",
    "\n",
    "                # if the characters match, we can either take it or not take it.\n",
    "                # NOTE: we have shifted the text index right by one, so we have to look at i-1 and j-1.\n",
    "                if s[i-1] == t[j-1]:\n",
    "                    take_it = prev[j-1]\n",
    "                    # not takeing the ith character of s.\n",
    "                    not_take_it = prev[j]\n",
    "                    cur[j] =  take_it + not_take_it\n",
    "                else:\n",
    "                    # if the characters don't match, we can only not take it.\n",
    "                    cur[j] =  prev[j]\n",
    "            \n",
    "            prev, cur = cur, prev  # swap the references to save space\n",
    "            # why this works;\n",
    "            # because we are only using the previous row to calculate the current row.\n",
    "            # whatever in the cur row in not needed anymore. and doesn't metter what value in has.\n",
    "        \n",
    "        return prev[m]\n",
    "\n",
    "# tc - O(n * m)\n",
    "# sc - O(m)\n"
   ]
  },
  {
   "cell_type": "code",
   "execution_count": 31,
   "id": "0c047467",
   "metadata": {},
   "outputs": [
    {
     "data": {
      "text/plain": [
       "3"
      ]
     },
     "execution_count": 31,
     "metadata": {},
     "output_type": "execute_result"
    }
   ],
   "source": [
    "Solution().numDistinct(s = \"rabbbit\", t = \"rabbit\")"
   ]
  },
  {
   "cell_type": "code",
   "execution_count": 32,
   "id": "fd7ed3fd",
   "metadata": {},
   "outputs": [
    {
     "data": {
      "text/plain": [
       "5"
      ]
     },
     "execution_count": 32,
     "metadata": {},
     "output_type": "execute_result"
    }
   ],
   "source": [
    "Solution().numDistinct(s = \"babgbag\", t = \"bag\")"
   ]
  },
  {
   "cell_type": "code",
   "execution_count": null,
   "id": "26b414ec",
   "metadata": {},
   "outputs": [],
   "source": []
  }
 ],
 "metadata": {
  "kernelspec": {
   "display_name": "3.11.11",
   "language": "python",
   "name": "python3"
  },
  "language_info": {
   "codemirror_mode": {
    "name": "ipython",
    "version": 3
   },
   "file_extension": ".py",
   "mimetype": "text/x-python",
   "name": "python",
   "nbconvert_exporter": "python",
   "pygments_lexer": "ipython3",
   "version": "3.11.11"
  }
 },
 "nbformat": 4,
 "nbformat_minor": 5
}
