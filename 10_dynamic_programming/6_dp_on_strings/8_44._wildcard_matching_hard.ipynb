{
 "cells": [
  {
   "cell_type": "markdown",
   "id": "5250e57b",
   "metadata": {},
   "source": [
    "Given an input string (s) and a pattern (p), implement wildcard pattern matching with support for '?' and '*' where:\n",
    "\n",
    "'?' Matches any single character.\n",
    "'*' Matches any sequence of characters (including the empty sequence).\n",
    "The matching should cover the entire input string (not partial).\n",
    "\n",
    " \n",
    "\n",
    "Example 1:\n",
    "\n",
    "Input: s = \"aa\", p = \"a\"\n",
    "Output: false\n",
    "Explanation: \"a\" does not match the entire string \"aa\".\n",
    "Example 2:\n",
    "\n",
    "Input: s = \"aa\", p = \"*\"\n",
    "Output: true\n",
    "Explanation: '*' matches any sequence.\n",
    "Example 3:\n",
    "\n",
    "Input: s = \"cb\", p = \"?a\"\n",
    "Output: false\n",
    "Explanation: '?' matches 'c', but the second letter is 'a', which does not match 'b'.\n",
    " \n",
    "\n",
    "Constraints:\n",
    "\n",
    "0 <= s.length, p.length <= 2000\n",
    "s contains only lowercase English letters.\n",
    "p contains only lowercase English letters, '?' or '*'."
   ]
  },
  {
   "cell_type": "code",
   "execution_count": null,
   "id": "a2ccaa55",
   "metadata": {},
   "outputs": [],
   "source": [
    "# recurssion:\n",
    "class Solution:\n",
    "    def isMatch(self, s: str, p: str) -> bool:\n",
    "        i,j = len(s) - 1, len(p) - 1\n",
    "\n",
    "        def recurssion(i, j):\n",
    "            if i < 0 and j < 0:\n",
    "                return True\n",
    "            if j < 0 and i >= 0:\n",
    "                return False\n",
    "            if i < 0 and j >= 0:\n",
    "                # if p[j] == '*', then we can match it with empty string\n",
    "                for k in range(j + 1):\n",
    "                    if p[k] != '*':\n",
    "                        return False\n",
    "                return True\n",
    "            \n",
    "            if s[i] == p[j] or p[j] == '?':\n",
    "                return recurssion(i - 1, j - 1)\n",
    "            elif p[j] == '*':\n",
    "                # if p[j] == '*', then we can either match it with empty string or with one character\n",
    "                empty_str_match = recurssion(i, j - 1) \n",
    "                one_char_match = recurssion(i - 1, j)\n",
    "                return empty_str_match or one_char_match\n",
    "            else:\n",
    "                # when they are not equal and p[j] is not '?' or '*' then we cannot match.\n",
    "                return False\n",
    "        return recurssion(i, j)\n",
    "    \n",
    "# tc - O(2^(m + n)) where m is the length of s and n is the length of p\n",
    "# sc - O(m + n) for the recursion stack"
   ]
  },
  {
   "cell_type": "code",
   "execution_count": 8,
   "id": "3a59b841",
   "metadata": {},
   "outputs": [
    {
     "data": {
      "text/plain": [
       "False"
      ]
     },
     "execution_count": 8,
     "metadata": {},
     "output_type": "execute_result"
    }
   ],
   "source": [
    "Solution().isMatch(s = \"aa\", p = \"a\")"
   ]
  },
  {
   "cell_type": "code",
   "execution_count": 9,
   "id": "036b08d9",
   "metadata": {},
   "outputs": [
    {
     "data": {
      "text/plain": [
       "True"
      ]
     },
     "execution_count": 9,
     "metadata": {},
     "output_type": "execute_result"
    }
   ],
   "source": [
    "Solution().isMatch(s = \"aa\", p = \"*\")"
   ]
  },
  {
   "cell_type": "code",
   "execution_count": 10,
   "id": "72652045",
   "metadata": {},
   "outputs": [
    {
     "data": {
      "text/plain": [
       "False"
      ]
     },
     "execution_count": 10,
     "metadata": {},
     "output_type": "execute_result"
    }
   ],
   "source": [
    "Solution().isMatch(s = \"cb\", p = \"?a\")"
   ]
  },
  {
   "cell_type": "code",
   "execution_count": 11,
   "id": "4f799464",
   "metadata": {},
   "outputs": [
    {
     "data": {
      "text/plain": [
       "True"
      ]
     },
     "execution_count": 11,
     "metadata": {},
     "output_type": "execute_result"
    }
   ],
   "source": [
    "Solution().isMatch(s = \"cb\", p = \"?b\")"
   ]
  },
  {
   "cell_type": "code",
   "execution_count": 12,
   "id": "560ec4ea",
   "metadata": {},
   "outputs": [],
   "source": [
    "# recurssion:\n",
    "class Solution:\n",
    "    def isMatch(self, s: str, p: str) -> bool:\n",
    "        i,j = len(s) - 1, len(p) - 1\n",
    "\n",
    "        dp = [[-1] * (j + 1) for _ in range(i + 1)]\n",
    "\n",
    "        def recurssion(i, j):\n",
    "            if i < 0 and j < 0:\n",
    "                return True\n",
    "            if j < 0 and i >= 0:\n",
    "                return False\n",
    "            if i < 0 and j >= 0:\n",
    "                # if p[j] == '*', then we can match it with empty string\n",
    "                for k in range(j + 1):\n",
    "                    if p[k] != '*':\n",
    "                        return False\n",
    "                return True\n",
    "            \n",
    "            if dp[i][j] != -1:\n",
    "                return dp[i][j]\n",
    "            \n",
    "            if s[i] == p[j] or p[j] == '?':\n",
    "                dp[i][j] =  recurssion(i - 1, j - 1)\n",
    "            elif p[j] == '*':\n",
    "                # if p[j] == '*', then we can either match it with empty string or with one character\n",
    "                empty_str_match = recurssion(i, j - 1) \n",
    "                one_char_match = recurssion(i - 1, j)\n",
    "                dp[i][j] =  empty_str_match or one_char_match\n",
    "            else:\n",
    "                # when they are not equal and p[j] is not '?' or '*' then we cannot match.\n",
    "                dp[i][j] =  False\n",
    "            return dp[i][j]\n",
    "            \n",
    "        return recurssion(i, j)\n",
    "    \n",
    "# tc - O(2^(m + n)) where m is the length of s and n is the length of p\n",
    "# sc - O(m + n) for the recursion stack"
   ]
  },
  {
   "cell_type": "code",
   "execution_count": 13,
   "id": "b4335858",
   "metadata": {},
   "outputs": [
    {
     "data": {
      "text/plain": [
       "True"
      ]
     },
     "execution_count": 13,
     "metadata": {},
     "output_type": "execute_result"
    }
   ],
   "source": [
    "Solution().isMatch(s = \"cb\", p = \"?b\")"
   ]
  },
  {
   "cell_type": "code",
   "execution_count": null,
   "id": "cd0567ec",
   "metadata": {},
   "outputs": [],
   "source": [
    "# tabulation:\n",
    "# dp[i][j] means: Does the substring s[0..i-1] match the pattern p[0..j-1]\n",
    "\n",
    "class Solution:\n",
    "    def isMatch(self, s: str, p: str) -> bool:\n",
    "        n,m = len(s), len(p)\n",
    "         # we have i-1 in the code, so right shift in the dp.\n",
    "        # i in dp means s[i-1] in the string.\n",
    "        dp = [[False] * (m + 1) for _ in range(n + 1)]\n",
    "\n",
    "        # base case:\n",
    "        dp[0][0] = True\n",
    "        for i in range(1, n+1):\n",
    "            dp[i][0] = False # not needed anyways\n",
    "        for j in range(1,m+1):\n",
    "            if p[j-1] == '*':\n",
    "                # The empty string matches the pattern up to index j if and only if the empty string matches the pattern up to index j-1.\n",
    "                dp[0][j] = dp[0][j-1]\n",
    "            else:\n",
    "                dp[0][j] = False\n",
    "\n",
    "        for i in range(1, n+1):\n",
    "            for j in range(1, m+ 1):\n",
    "                if s[i-1] == p[j-1] or p[j-1] == '?':\n",
    "                    dp[i][j] = dp[i-1][j-1]\n",
    "                elif p[j-1] == '*':\n",
    "                    # if p[j] == '*', then we can either match it with empty string or with one character\n",
    "                    empty_str_match = dp[i][j-1] \n",
    "                    one_char_match = dp[i-1][j]\n",
    "                    dp[i][j] =  empty_str_match or one_char_match\n",
    "                else:\n",
    "                    # when they are not equal and p[j] is not '?' or '*' then we cannot match.\n",
    "                    dp[i][j] = False\n",
    "        return dp[n][m]\n",
    "\n",
    "# tc - O(m * n) where m is the length of s and n is the length of p\n",
    "# sc - O(m * n) for the dp array"
   ]
  },
  {
   "cell_type": "code",
   "execution_count": 17,
   "id": "a4cf8e8e",
   "metadata": {},
   "outputs": [
    {
     "data": {
      "text/plain": [
       "True"
      ]
     },
     "execution_count": 17,
     "metadata": {},
     "output_type": "execute_result"
    }
   ],
   "source": [
    "Solution().isMatch(s = \"cb\", p = \"?b\")"
   ]
  },
  {
   "cell_type": "code",
   "execution_count": 20,
   "id": "795a7cbf",
   "metadata": {},
   "outputs": [],
   "source": [
    "# tabulation with space optimization:\n",
    "# dp[i][j] means: Does the substring s[0..i-1] match the pattern p[0..j-1]\n",
    "\n",
    "class Solution:\n",
    "    def isMatch(self, s: str, p: str) -> bool:\n",
    "        n,m = len(s), len(p)\n",
    "         # we have i-1 in the code, so right shift in the dp.\n",
    "        # i in dp means s[i-1] in the string.\n",
    "        prev = [False] * (m + 1)\n",
    "        curr = [False] * (m + 1)\n",
    "\n",
    "        # base case:\n",
    "        prev[0] = True\n",
    "\n",
    "        for j in range(1,m+1):\n",
    "            if p[j-1] == '*':\n",
    "                # The empty string matches the pattern up to index j if and only if the empty string matches the pattern up to index j-1.\n",
    "                prev[j] = prev[j-1]\n",
    "            else:\n",
    "                prev[j] = False\n",
    "\n",
    "        for i in range(1, n+1):\n",
    "            curr = [False] * (m + 1)\n",
    "\n",
    "            for j in range(1, m+ 1):\n",
    "                if s[i-1] == p[j-1] or p[j-1] == '?':\n",
    "                    curr[j] = prev[j-1]\n",
    "                elif p[j-1] == '*':\n",
    "                    # if p[j] == '*', then we can either match it with empty string or with one character\n",
    "                    empty_str_match = curr[j-1] \n",
    "                    one_char_match = prev[j]\n",
    "                    curr[j] =  empty_str_match or one_char_match\n",
    "                else:\n",
    "                    # when they are not equal and p[j] is not '?' or '*' then we cannot match.\n",
    "                    curr[j] = False\n",
    "            prev = curr\n",
    "        return prev[m]\n",
    "\n",
    "# tc - O(m * n) where m is the length of s and n is the length of p\n",
    "# sc - O(m * n) for the dp array"
   ]
  },
  {
   "cell_type": "code",
   "execution_count": 21,
   "id": "001dce5c",
   "metadata": {},
   "outputs": [
    {
     "data": {
      "text/plain": [
       "True"
      ]
     },
     "execution_count": 21,
     "metadata": {},
     "output_type": "execute_result"
    }
   ],
   "source": [
    "Solution().isMatch(s = \"cb\", p = \"?b\")"
   ]
  },
  {
   "cell_type": "code",
   "execution_count": null,
   "id": "b3558a52",
   "metadata": {},
   "outputs": [],
   "source": []
  }
 ],
 "metadata": {
  "kernelspec": {
   "display_name": "3.11.11",
   "language": "python",
   "name": "python3"
  },
  "language_info": {
   "codemirror_mode": {
    "name": "ipython",
    "version": 3
   },
   "file_extension": ".py",
   "mimetype": "text/x-python",
   "name": "python",
   "nbconvert_exporter": "python",
   "pygments_lexer": "ipython3",
   "version": "3.11.11"
  }
 },
 "nbformat": 4,
 "nbformat_minor": 5
}
