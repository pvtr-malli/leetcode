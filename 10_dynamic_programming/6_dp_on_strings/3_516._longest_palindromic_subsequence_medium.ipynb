{
 "cells": [
  {
   "cell_type": "markdown",
   "id": "c76b8377",
   "metadata": {},
   "source": [
    "Given a string s, find the longest palindromic subsequence's length in s.\n",
    "\n",
    "A subsequence is a sequence that can be derived from another sequence by deleting some or no elements without changing the order of the remaining elements.\n",
    "\n",
    " \n",
    "\n",
    "Example 1:\n",
    "\n",
    "Input: s = \"bbbab\"\n",
    "Output: 4\n",
    "Explanation: One possible longest palindromic subsequence is \"bbbb\".\n",
    "Example 2:\n",
    "\n",
    "Input: s = \"cbbd\"\n",
    "Output: 2\n",
    "Explanation: One possible longest palindromic subsequence is \"bb\".\n",
    " \n",
    "\n",
    "Constraints:\n",
    "\n",
    "1 <= s.length <= 1000\n",
    "s consists only of lowercase English letters."
   ]
  },
  {
   "cell_type": "code",
   "execution_count": null,
   "id": "28545fbc",
   "metadata": {},
   "outputs": [],
   "source": [
    "class Solution:\n",
    "    def longestPalindromeSubseq(self, s: str) -> int:\n",
    "        return self.longestCommonSubsequence(s, \"\".join(list(reversed(s))))\n",
    "    \n",
    "    def longestCommonSubsequence(self, text1: str, text2: str) -> int:\n",
    "        m, n = len(text1), len(text2)\n",
    "        # Create DP table with (m+1) x (n+1) initialized to 0\n",
    "        dp = [[0] * (n+1) for _ in range(m+1)]\n",
    "\n",
    "        # Fill dp table row-wise\n",
    "        for i in range(1, m+1):\n",
    "            for j in range(1, n+1):\n",
    "                if text1[i-1] == text2[j-1]:\n",
    "                    dp[i][j] = 1 + dp[i-1][j-1]\n",
    "                else:\n",
    "                    dp[i][j] = max(dp[i-1][j], dp[i][j-1])\n",
    "\n",
    "        # The answer is in dp[m][n]\n",
    "        return dp[m][n]\n",
    "    \n",
    "# tc - O(n * m)\n",
    "# sc - O(n * m) where n is the length of text1 and m is the length of text2\n"
   ]
  },
  {
   "cell_type": "code",
   "execution_count": 3,
   "id": "5680ff0a",
   "metadata": {},
   "outputs": [
    {
     "data": {
      "text/plain": [
       "'cba'"
      ]
     },
     "execution_count": 3,
     "metadata": {},
     "output_type": "execute_result"
    }
   ],
   "source": [
    "\"\".join(list(reversed(\"abc\")))"
   ]
  },
  {
   "cell_type": "code",
   "execution_count": null,
   "id": "39499a6a",
   "metadata": {},
   "outputs": [],
   "source": [
    "# optimised space complexityclass Solution:\n",
    "class Solution:\n",
    "    def longestPalindromeSubseq(self, s: str) -> int:\n",
    "        return self.longestCommonSubsequence(s, \"\".join(list(reversed(s))))\n",
    "    \n",
    "    def longestCommonSubsequence(self, text1: str, text2: str) -> int:\n",
    "        n,m = len(text1), len(text2)\n",
    "        # Create DP table with (n+1) initialized to 0\n",
    "        prev = [0] * (m + 1)\n",
    "        cur = [0] * (m + 1)\n",
    "\n",
    "        # Fill dp table row-wise\n",
    "        for i in range(1, n+1):\n",
    "            cur = [0] * (m + 1)\n",
    "            for j in range(1, m+1):\n",
    "                if text1[i-1] == text2[j-1]:\n",
    "                    cur[j] = 1 + prev[j-1]\n",
    "                else:\n",
    "                    cur[j] = max(cur[j-1], prev[j])\n",
    "                    \n",
    "            # NOTE: The current should be clean always.\n",
    "            prev, cur = cur, [0] * (m + 1)  # update prev after inner loop\n",
    "        return prev[m]\n",
    "    \n",
    "# tc - O(n * m)\n",
    "# sc - O(m * 2) where m is the length of text2 (or n, since both texts are of the same length in this case)"
   ]
  },
  {
   "cell_type": "code",
   "execution_count": 13,
   "id": "bd85efec",
   "metadata": {},
   "outputs": [
    {
     "data": {
      "text/plain": [
       "4"
      ]
     },
     "execution_count": 13,
     "metadata": {},
     "output_type": "execute_result"
    }
   ],
   "source": [
    "Solution().longestPalindromeSubseq(s = \"bbbab\")"
   ]
  },
  {
   "cell_type": "code",
   "execution_count": null,
   "id": "d8c01d65",
   "metadata": {},
   "outputs": [],
   "source": []
  }
 ],
 "metadata": {
  "kernelspec": {
   "display_name": "3.11.11",
   "language": "python",
   "name": "python3"
  },
  "language_info": {
   "codemirror_mode": {
    "name": "ipython",
    "version": 3
   },
   "file_extension": ".py",
   "mimetype": "text/x-python",
   "name": "python",
   "nbconvert_exporter": "python",
   "pygments_lexer": "ipython3",
   "version": "3.11.11"
  }
 },
 "nbformat": 4,
 "nbformat_minor": 5
}
