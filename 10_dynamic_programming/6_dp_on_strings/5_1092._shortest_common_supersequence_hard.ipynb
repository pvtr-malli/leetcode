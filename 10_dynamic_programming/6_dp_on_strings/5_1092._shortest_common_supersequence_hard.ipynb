{
 "cells": [
  {
   "cell_type": "markdown",
   "id": "88cdb63e",
   "metadata": {},
   "source": [
    "Given two strings str1 and str2, return the shortest string that has both str1 and str2 as subsequences. If there are multiple valid strings, return any of them.\n",
    "\n",
    "A string s is a subsequence of string t if deleting some number of characters from t (possibly 0) results in the string s.\n",
    "\n",
    " \n",
    "\n",
    "Example 1:\n",
    "\n",
    "Input: str1 = \"abac\", str2 = \"cab\"\n",
    "Output: \"cabac\"\n",
    "Explanation: \n",
    "str1 = \"abac\" is a subsequence of \"cabac\" because we can delete the first \"c\".\n",
    "str2 = \"cab\" is a subsequence of \"cabac\" because we can delete the last \"ac\".\n",
    "The answer provided is the shortest such string that satisfies these properties.\n",
    "Example 2:\n",
    "\n",
    "Input: str1 = \"aaaaaaaa\", str2 = \"aaaaaaaa\"\n",
    "Output: \"aaaaaaaa\"\n",
    " \n",
    "\n",
    "Constraints:\n",
    "\n",
    "1 <= str1.length, str2.length <= 1000\n",
    "str1 and str2 consist of lowercase English letters."
   ]
  },
  {
   "cell_type": "code",
   "execution_count": null,
   "id": "701f1c7b",
   "metadata": {},
   "outputs": [],
   "source": [
    "class Solution:\n",
    "    def shortestCommonSupersequence(self, str1: str, str2: str) -> str:\n",
    "        return self.longestCommonSubsequence(str1, str2)\n",
    "    \n",
    "    def longestCommonSubsequence(self, text1: str, text2: str) -> int:\n",
    "        m, n = len(text1), len(text2)\n",
    "        # Create DP table with (m+1) x (n+1) initialized to 0\n",
    "        dp = [[0] * (n+1) for _ in range(m+1)]\n",
    "\n",
    "        # Fill dp table row-wise\n",
    "        for i in range(1, m+1):\n",
    "            for j in range(1, n+1):\n",
    "                if text1[i-1] == text2[j-1]:\n",
    "                    dp[i][j] = 1 + dp[i-1][j-1]\n",
    "                else:\n",
    "                    dp[i][j] = max(dp[i-1][j], dp[i][j-1])\n",
    "\n",
    "        # Contruct the shortest common supersequence by the dp array.\n",
    "        ans = \"\"\n",
    "        # NOTE: here i in dp array means i-1 in str array.\n",
    "        i, j = m, n \n",
    "        while i > 0 and j > 0:\n",
    "            print(i,j)\n",
    "            if text1[i-1] == text2[j-1]: # NOTE\n",
    "                # take the ans and move to diagonal.\n",
    "                ans = text1[i-1] + ans \n",
    "                i -= 1\n",
    "                j -= 1\n",
    "            else:\n",
    "                if dp[i-1][j] > dp[i][j-1]:\n",
    "                    # move the the bigger position.\n",
    "                    ans = text1[i-1] + ans \n",
    "                    i -= 1\n",
    "                else:\n",
    "                    ans = text2[j-1] + ans\n",
    "                    j -= 1\n",
    "        \n",
    "        # add the remining letters.\n",
    "        while i > 0:\n",
    "            ans = text1[i-1] + ans \n",
    "            i -= 1\n",
    "        while j > 0:\n",
    "            ans = text2[j-1] + ans \n",
    "            j -= 1\n",
    "        \n",
    "        return ans \n",
    "    \n",
    "# tc:\n",
    "# - O(n * m) for filling the dp table.\n",
    "# - O(n + m) for constructing the answer.\n",
    "# sc:\n",
    "# - O(n * m) for the dp table.\n",
    "\n"
   ]
  },
  {
   "cell_type": "code",
   "execution_count": 10,
   "id": "94728cfc",
   "metadata": {},
   "outputs": [
    {
     "name": "stdout",
     "output_type": "stream",
     "text": [
      "4 3\n",
      "3 3\n",
      "2 3\n",
      "1 2\n"
     ]
    },
    {
     "data": {
      "text/plain": [
       "'cabac'"
      ]
     },
     "execution_count": 10,
     "metadata": {},
     "output_type": "execute_result"
    }
   ],
   "source": [
    "Solution().shortestCommonSupersequence(str1 = \"abac\", str2 = \"cab\")"
   ]
  },
  {
   "cell_type": "code",
   "execution_count": null,
   "id": "32affa1a",
   "metadata": {},
   "outputs": [],
   "source": []
  }
 ],
 "metadata": {
  "kernelspec": {
   "display_name": "3.11.11",
   "language": "python",
   "name": "python3"
  },
  "language_info": {
   "codemirror_mode": {
    "name": "ipython",
    "version": 3
   },
   "file_extension": ".py",
   "mimetype": "text/x-python",
   "name": "python",
   "nbconvert_exporter": "python",
   "pygments_lexer": "ipython3",
   "version": "3.11.11"
  }
 },
 "nbformat": 4,
 "nbformat_minor": 5
}
