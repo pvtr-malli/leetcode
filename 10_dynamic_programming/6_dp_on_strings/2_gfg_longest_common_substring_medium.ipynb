{
 "cells": [
  {
   "cell_type": "markdown",
   "id": "9fa8bbcf",
   "metadata": {},
   "source": [
    "You are given two strings s1 and s2. Your task is to find the length of the longest common substring among the given strings.\n",
    "\n",
    "Examples:\n",
    "\n",
    "Input: s1 = \"ABCDGH\", s2 = \"ACDGHR\"\n",
    "Output: 4\n",
    "Explanation: The longest common substring is \"CDGH\" with a length of 4.\n",
    "Input: s1 = \"abc\", s2 = \"acb\"\n",
    "Output: 1\n",
    "Explanation: The longest common substrings are \"a\", \"b\", \"c\" all having length 1.\n",
    "Input: s1 = \"YZ\", s2 = \"yz\"\n",
    "Output: 0\n",
    "Constraints:\n",
    "1 <= s1.size(), s2.size() <= 103\n",
    "Both strings may contain upper and lower case alphabets."
   ]
  },
  {
   "cell_type": "code",
   "execution_count": null,
   "id": "17cf547b",
   "metadata": {},
   "outputs": [],
   "source": [
    "# recurssion:\n",
    "\n",
    "class Solution:\n",
    "    def longestCommonSubstr(self, s1, s2):\n",
    "        # code here\n",
    "        n = len(s1)\n",
    "        m = len(s2)\n",
    "\n",
    "        def lcs(i, j, count):\n",
    "            if i == n or j == m:\n",
    "                return count\n",
    "            \n",
    "            if s1[i] == s2[j]:\n",
    "                # when they are equal, we can increase the count.\n",
    "                count = lcs(i + 1, j + 1, count + 1)\n",
    "            else:\n",
    "                # when they are not equal, we reset the count to 0.\n",
    "                count_next_i = lcs(i + 1, j + 1, 0)\n",
    "                # and also check the next characters in both strings.\n",
    "                # we can also skip one character in either string.\n",
    "                # this is because we are looking for the longest common substring.\n",
    "                count_next_j = lcs(i + 1, j, 0)\n",
    "                # we take the maximum of the counts.\n",
    "                count = max(count, count_next_i, count_next_j)\n",
    "            \n",
    "            return count\n",
    "        \n",
    "        return lcs(0, 0, 0)\n",
    "# tc - O(2^(n + m))\n",
    "# sc - O(n + m) for the recursion stack"
   ]
  },
  {
   "cell_type": "code",
   "execution_count": 2,
   "id": "11a0ffac",
   "metadata": {},
   "outputs": [
    {
     "data": {
      "text/plain": [
       "4"
      ]
     },
     "execution_count": 2,
     "metadata": {},
     "output_type": "execute_result"
    }
   ],
   "source": [
    "Solution().longestCommonSubstr(s1 = \"ABCDGH\", s2 = \"ACDGHR\")"
   ]
  },
  {
   "cell_type": "code",
   "execution_count": null,
   "id": "5ac5b62d",
   "metadata": {},
   "outputs": [],
   "source": [
    "# mmmorization ysing a dp array:\n",
    "class Solution:\n",
    "    def longestCommonSubstr(self, s1, s2):\n",
    "        # code here\n",
    "        n = len(s1)\n",
    "        m = len(s2)\n",
    "\n",
    "        dp = [[-1 for _ in range(m + 1)] for _ in range(n + 1)]\n",
    "\n",
    "        def lcs(i, j, count):\n",
    "            if i == n or j == m:\n",
    "                return count\n",
    "            \n",
    "            if dp[i][j] != -1:\n",
    "                return dp[i][j]\n",
    "            \n",
    "            if s1[i] == s2[j]:\n",
    "                count = lcs(i + 1, j + 1, count + 1)\n",
    "            else:\n",
    "                count_next_i = lcs(i + 1, j + 1, 0)\n",
    "                count_next_j = lcs(i + 1, j, 0)\n",
    "                count = max(count, count_next_i, count_next_j)\n",
    "            \n",
    "            dp[i][j] = count\n",
    "            return count\n",
    "        \n",
    "        return lcs(0, 0, 0)\n",
    "\n",
    "# tc - O(n * m)\n",
    "# sc - O(n * m) for the dp array + O(n + m) for the recursion stack\n"
   ]
  },
  {
   "cell_type": "code",
   "execution_count": 3,
   "id": "cb66a077",
   "metadata": {},
   "outputs": [
    {
     "data": {
      "text/plain": [
       "4"
      ]
     },
     "execution_count": 3,
     "metadata": {},
     "output_type": "execute_result"
    }
   ],
   "source": [
    "Solution().longestCommonSubstr(s1 = \"ABCDGH\", s2 = \"ACDGHR\")"
   ]
  },
  {
   "cell_type": "markdown",
   "id": "b37eadd3",
   "metadata": {},
   "source": [
    "That’s because of the way **the `dp` table is defined** in this kind of DP problem.\n",
    "\n",
    "You’ve defined\n",
    "\n",
    "```\n",
    "dp[i][j] = length of the longest common substring of s1[0..i-1] and s2[0..j-1]\n",
    "```\n",
    "\n",
    "Notice:\n",
    "\n",
    "* `i` in `dp[i][j]` represents a substring ending at **index `i-1`** in `s1` (because strings are 0-indexed but DP is often made 1-indexed to simplify base cases).\n",
    "* Same for `j` — it corresponds to **index `j-1`** in `s2`.\n",
    "\n",
    "So when we check if the current characters match, we must compare **`s1[i-1]`** and **`s2[j-1]`**, not `s1[i]` and `s2[j]`.\n",
    "\n",
    "If you used `s1[i] == s2[j]`, you’d be:\n",
    "\n",
    "* Looking one step ahead in both strings\n",
    "* Skipping the first characters entirely (and possibly causing `IndexError` when `i = n` or `j = m`).\n",
    "\n",
    "This `-1` adjustment is the same reason you had to loop up to `n+1` and `m+1` — so the table can have an extra row/column for the “empty string” case at index 0.\n",
    "\n",
    "---\n",
    "\n",
    "If you want, I can draw you a **table diagram** showing how `i` and `j` in `dp` map to string indices so this becomes crystal clear.\n",
    "\n",
    "\n",
    "\n",
    "# why we do this - to avoid the '-1' index problem when we are at index 0.\n",
    "# you can still handle it if you want."
   ]
  },
  {
   "cell_type": "code",
   "execution_count": 16,
   "id": "cb32ca85",
   "metadata": {},
   "outputs": [],
   "source": [
    "# tabulation:\n",
    "# dp[i][j] = length of longest common substring of s1[0..i-1] and s2[0..j-1]\n",
    "class Solution:\n",
    "    def longestCommonSubstr(self, s1, s2):\n",
    "        # code here\n",
    "        n = len(s1)\n",
    "        m = len(s2)\n",
    "        max_length = 0\n",
    "        dp = [[0 for _ in range(m + 1)] for _ in range(n + 1)]\n",
    "        for i in range(1, n + 1):\n",
    "            for j in range(1, m + 1):\n",
    "\n",
    "                if s1[i - 1] == s2[j - 1]:\n",
    "                    dp[i][j] = dp[i - 1][j - 1] + 1\n",
    "                    max_length = max(max_length, dp[i][j])\n",
    "                else:\n",
    "                    # when they are not equal, we reset the count to 0.\n",
    "                    dp[i][j] = 0\n",
    "\n",
    "        return max_length\n",
    "\n",
    "# tc - O(n * m)\n",
    "# sc - O(n * m) for the dp array"
   ]
  },
  {
   "cell_type": "code",
   "execution_count": 17,
   "id": "c25ed09e",
   "metadata": {},
   "outputs": [
    {
     "data": {
      "text/plain": [
       "4"
      ]
     },
     "execution_count": 17,
     "metadata": {},
     "output_type": "execute_result"
    }
   ],
   "source": [
    "Solution().longestCommonSubstr(s1 = \"ABCDGH\", s2 = \"ACDGHR\")"
   ]
  },
  {
   "cell_type": "code",
   "execution_count": null,
   "id": "ed014060",
   "metadata": {},
   "outputs": [],
   "source": [
    "# dp[i][j] = length of longest common substring of s1[0..i] and s2[0..j]\n",
    "\n",
    "class Solution:\n",
    "    def longestCommonSubstr(self, s1, s2):\n",
    "        n, m = len(s1), len(s2)\n",
    "        dp = [[0] * m for _ in range(n)]\n",
    "        max_length = 0\n",
    "\n",
    "        for i in range(n):\n",
    "            for j in range(m):\n",
    "                if s1[i] == s2[j]:\n",
    "                    # making sure it not going out of bounds.\n",
    "                    if i > 0 and j > 0:\n",
    "                        dp[i][j] = dp[i-1][j-1] + 1\n",
    "                    else:\n",
    "                        dp[i][j] = 1\n",
    "                    max_length = max(max_length, dp[i][j])\n",
    "                else:\n",
    "                    dp[i][j] = 0\n",
    "\n",
    "        return max_length\n",
    "\n",
    "# tc -O(n * m)\n",
    "# sc - O(n * m) for the dp array"
   ]
  },
  {
   "cell_type": "code",
   "execution_count": null,
   "id": "86b8229d",
   "metadata": {},
   "outputs": [],
   "source": [
    "# memory optimized:\n",
    "\n",
    "class Solution:\n",
    "    def longestCommonSubstr(self, s1, s2):\n",
    "        n, m = len(s1), len(s2)\n",
    "        prev = [0] * m \n",
    "        cur = [0] * m\n",
    "        max_length = 0\n",
    "\n",
    "        for i in range(n):\n",
    "            for j in range(m):\n",
    "                if s1[i] == s2[j]:\n",
    "                    # making sure it not going out of bounds.\n",
    "                    if i > 0 and j > 0:\n",
    "                        cur[j] = prev[j-1] + 1\n",
    "                    else:\n",
    "                        cur[j] = 1\n",
    "                    max_length = max(max_length, cur[j])\n",
    "                else:\n",
    "                    # when they dont match, just reset the count to 0. \n",
    "                    # IK THRE ARE ALREADY 0. JUST FOR READABILITY I BUT THIS.\n",
    "                    cur[j] = 0\n",
    "            # update prev for next iteration\n",
    "            prev, cur = cur, [0] * m\n",
    "\n",
    "        return max_length\n",
    "\n",
    "# tc -O(n * m)\n",
    "# sc - O(m * 2) for the prev array."
   ]
  },
  {
   "cell_type": "code",
   "execution_count": 25,
   "id": "fcbd4a73",
   "metadata": {},
   "outputs": [
    {
     "data": {
      "text/plain": [
       "4"
      ]
     },
     "execution_count": 25,
     "metadata": {},
     "output_type": "execute_result"
    }
   ],
   "source": [
    "Solution().longestCommonSubstr(s1 = \"ABCDGH\", s2 = \"ACDGHR\")"
   ]
  },
  {
   "cell_type": "code",
   "execution_count": null,
   "id": "f61f60f1",
   "metadata": {},
   "outputs": [],
   "source": []
  }
 ],
 "metadata": {
  "kernelspec": {
   "display_name": "3.11.11",
   "language": "python",
   "name": "python3"
  },
  "language_info": {
   "codemirror_mode": {
    "name": "ipython",
    "version": 3
   },
   "file_extension": ".py",
   "mimetype": "text/x-python",
   "name": "python",
   "nbconvert_exporter": "python",
   "pygments_lexer": "ipython3",
   "version": "3.11.11"
  }
 },
 "nbformat": 4,
 "nbformat_minor": 5
}
