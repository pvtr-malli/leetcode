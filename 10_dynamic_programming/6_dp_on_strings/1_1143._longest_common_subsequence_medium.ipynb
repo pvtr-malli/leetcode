{
 "cells": [
  {
   "cell_type": "markdown",
   "id": "b02dd1e1",
   "metadata": {},
   "source": [
    "Given two strings text1 and text2, return the length of their longest common subsequence. If there is no common subsequence, return 0.\n",
    "\n",
    "A subsequence of a string is a new string generated from the original string with some characters (can be none) deleted without changing the relative order of the remaining characters.\n",
    "\n",
    "For example, \"ace\" is a subsequence of \"abcde\".\n",
    "A common subsequence of two strings is a subsequence that is common to both strings.\n",
    "\n",
    " \n",
    "\n",
    "Example 1:\n",
    "\n",
    "Input: text1 = \"abcde\", text2 = \"ace\" \n",
    "Output: 3  \n",
    "Explanation: The longest common subsequence is \"ace\" and its length is 3.\n",
    "Example 2:\n",
    "\n",
    "Input: text1 = \"abc\", text2 = \"abc\"\n",
    "Output: 3\n",
    "Explanation: The longest common subsequence is \"abc\" and its length is 3.\n",
    "Example 3:\n",
    "\n",
    "Input: text1 = \"abc\", text2 = \"def\"\n",
    "Output: 0\n",
    "Explanation: There is no such common subsequence, so the result is 0.\n",
    " \n",
    "\n",
    "Constraints:\n",
    "\n",
    "1 <= text1.length, text2.length <= 1000\n",
    "text1 and text2 consist of only lowercase English characters."
   ]
  },
  {
   "cell_type": "markdown",
   "id": "bb5dc7a8",
   "metadata": {},
   "source": [
    "## Recurrence for LCS (recursive form):\n",
    "\n",
    "Let `lcs(i, j)` be the length of the LCS of the substrings:\n",
    "\n",
    "* `text1[0..i-1]` (first `i` characters of `text1`)\n",
    "* `text2[0..j-1]` (first `j` characters of `text2`)\n",
    "\n",
    "### Recurrence:\n",
    "\n",
    "* **Base case:** If `i == 0` or `j == 0`, return 0 (empty substring means LCS = 0)\n",
    "\n",
    "* **If characters match:**\n",
    "  If `text1[i-1] == text2[j-1]`\n",
    "\n",
    "  $$\n",
    "  lcs(i, j) = 1 + lcs(i-1, j-1)\n",
    "  $$\n",
    "\n",
    "* **If characters don’t match:**\n",
    "\n",
    "  $$\n",
    "  lcs(i, j) = \\max(lcs(i-1, j), lcs(i, j-1))\n",
    "  $$\n",
    "\n",
    "---"
   ]
  },
  {
   "cell_type": "code",
   "execution_count": null,
   "id": "ea19c51c",
   "metadata": {},
   "outputs": [],
   "source": [
    "class Solution:\n",
    "    def longestCommonSubsequence(self, text1: str, text2: str) -> int:\n",
    "        return self.lcs_recursive(text1, text2, len(text1), len(text2))\n",
    "    \n",
    "    def lcs_recursive(self, text1, text2, i, j):\n",
    "        # Base case: if either string is empty\n",
    "        if i == 0 or j == 0:\n",
    "            return 0\n",
    "\n",
    "        if text1[i-1] == text2[j-1]:\n",
    "            return 1 + self.lcs_recursive(text1, text2, i-1, j-1)\n",
    "        else:\n",
    "            return max(\n",
    "                self.lcs_recursive(text1, text2, i-1, j),\n",
    "                self.lcs_recursive(text1, text2, i, j-1)\n",
    "            )\n",
    "\n",
    "\n"
   ]
  },
  {
   "cell_type": "code",
   "execution_count": 1,
   "id": "39d16528",
   "metadata": {},
   "outputs": [
    {
     "name": "stdout",
     "output_type": "stream",
     "text": [
      "3\n"
     ]
    }
   ],
   "source": [
    "class Solution:\n",
    "    def longestCommonSubsequence(self, text1: str, text2: str) -> int:\n",
    "        m, n = len(text1), len(text2)\n",
    "        # Initialize dp array with -1 indicating uncomputed states\n",
    "        dp = [[-1] * (n+1) for _ in range(m+1)]\n",
    "\n",
    "        def dfs(i, j):\n",
    "            # Base case\n",
    "            if i == 0 or j == 0:\n",
    "                return 0\n",
    "\n",
    "            if dp[i][j] != -1:\n",
    "                return dp[i][j]\n",
    "\n",
    "            if text1[i-1] == text2[j-1]:\n",
    "                dp[i][j] = 1 + dfs(i-1, j-1)\n",
    "            else:\n",
    "                dp[i][j] = max(dfs(i-1, j), dfs(i, j-1))\n",
    "\n",
    "            return dp[i][j]\n",
    "\n",
    "        return dfs(m, n)\n",
    "\n",
    "# Example usage:\n",
    "text1 = \"abcde\"\n",
    "text2 = \"ace\"\n",
    "print(Solution().longestCommonSubsequence(text1, text2))  # Output: 3\n"
   ]
  },
  {
   "cell_type": "code",
   "execution_count": 2,
   "id": "f2e022ee",
   "metadata": {},
   "outputs": [
    {
     "name": "stdout",
     "output_type": "stream",
     "text": [
      "3\n"
     ]
    }
   ],
   "source": [
    "class Solution:\n",
    "    def longestCommonSubsequence(self, text1: str, text2: str) -> int:\n",
    "        m, n = len(text1), len(text2)\n",
    "        # Create DP table with (m+1) x (n+1) initialized to 0\n",
    "        dp = [[0] * (n+1) for _ in range(m+1)]\n",
    "\n",
    "        # Fill dp table row-wise\n",
    "        for i in range(1, m+1):\n",
    "            for j in range(1, n+1):\n",
    "                if text1[i-1] == text2[j-1]:\n",
    "                    dp[i][j] = 1 + dp[i-1][j-1]\n",
    "                else:\n",
    "                    dp[i][j] = max(dp[i-1][j], dp[i][j-1])\n",
    "\n",
    "        # The answer is in dp[m][n]\n",
    "        return dp[m][n]\n",
    "\n",
    "# Example usage:\n",
    "text1 = \"abcde\"\n",
    "text2 = \"ace\"\n",
    "print(Solution().longestCommonSubsequence(text1, text2))  # Output: 3\n"
   ]
  },
  {
   "cell_type": "markdown",
   "id": "99bef0ba",
   "metadata": {},
   "source": []
  }
 ],
 "metadata": {
  "kernelspec": {
   "display_name": "3.11.11",
   "language": "python",
   "name": "python3"
  },
  "language_info": {
   "codemirror_mode": {
    "name": "ipython",
    "version": 3
   },
   "file_extension": ".py",
   "mimetype": "text/x-python",
   "name": "python",
   "nbconvert_exporter": "python",
   "pygments_lexer": "ipython3",
   "version": "3.11.11"
  }
 },
 "nbformat": 4,
 "nbformat_minor": 5
}
