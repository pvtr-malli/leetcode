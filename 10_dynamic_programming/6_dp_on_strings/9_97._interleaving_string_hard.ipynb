{
 "cells": [
  {
   "cell_type": "markdown",
   "id": "4cbb5a05",
   "metadata": {},
   "source": [
    "Given strings s1, s2, and s3, find whether s3 is formed by an interleaving of s1 and s2.\n",
    "\n",
    "An interleaving of two strings s and t is a configuration where s and t are divided into n and m substrings respectively, such that:\n",
    "\n",
    "s = s1 + s2 + ... + sn\n",
    "t = t1 + t2 + ... + tm\n",
    "|n - m| <= 1\n",
    "The interleaving is s1 + t1 + s2 + t2 + s3 + t3 + ... or t1 + s1 + t2 + s2 + t3 + s3 + ...\n",
    "Note: a + b is the concatenation of strings a and b.\n",
    "\n",
    " \n",
    "\n",
    "Example 1:\n",
    "\n",
    "\n",
    "Input: s1 = \"aabcc\", s2 = \"dbbca\", s3 = \"aadbbcbcac\"\n",
    "Output: true\n",
    "Explanation: One way to obtain s3 is:\n",
    "Split s1 into s1 = \"aa\" + \"bc\" + \"c\", and s2 into s2 = \"dbbc\" + \"a\".\n",
    "Interleaving the two splits, we get \"aa\" + \"dbbc\" + \"bc\" + \"a\" + \"c\" = \"aadbbcbcac\".\n",
    "Since s3 can be obtained by interleaving s1 and s2, we return true.\n",
    "Example 2:\n",
    "\n",
    "Input: s1 = \"aabcc\", s2 = \"dbbca\", s3 = \"aadbbbaccc\"\n",
    "Output: false\n",
    "Explanation: Notice how it is impossible to interleave s2 with any other string to obtain s3.\n",
    "Example 3:\n",
    "\n",
    "Input: s1 = \"\", s2 = \"\", s3 = \"\"\n",
    "Output: true\n",
    " \n",
    "\n",
    "Constraints:\n",
    "\n",
    "0 <= s1.length, s2.length <= 100\n",
    "0 <= s3.length <= 200\n",
    "s1, s2, and s3 consist of lowercase English letters.\n",
    " \n",
    "\n",
    "Follow up: Could you solve it using only O(s2.length) additional memory space?\n",
    "\n"
   ]
  },
  {
   "cell_type": "code",
   "execution_count": null,
   "id": "3c64ccd3",
   "metadata": {},
   "outputs": [],
   "source": [
    "# recurssion:\n",
    "\n",
    "class Solution:\n",
    "    def isInterleave(self, s1: str, s2: str, s3: str) -> bool:\n",
    "        i, j, k = len(s1) - 1, len(s2) - 1, len(s3) - 1\n",
    "        if i + j != k:\n",
    "            return False\n",
    "        def recur(i,j,k):\n",
    "            print(i,j,k)\n",
    "            if k < 0:\n",
    "                # when we are done with the s3. and both the s1 and s2 is done means we successfully build.\n",
    "                if i < 0 and j < 0:\n",
    "                    return True\n",
    "                else:\n",
    "                    # if any of hte letter remaining in s1 ir s2, return False.\n",
    "                    return False\n",
    "            if i < 0:\n",
    "                if s2[0:j+1] == s3[0:k+1]:\n",
    "                    return True \n",
    "                return False\n",
    "                # return s2[0:j+1] == s3[0:k+1]\n",
    "            if j < 0:\n",
    "                if s1[0:i+1] == s3[0: k+1]:\n",
    "                    return True \n",
    "                return False\n",
    "                # return s1[0:i+1] == s3[0:k+1]\n",
    "\n",
    "            \n",
    "            if s3[k] == s1[i] and s3[k] == s2[j]:\n",
    "                # if both of teh text matches then pick i and move or pick j and move.\n",
    "                return recur(i-1, j, k-1) or recur(i, j-1, k-1)\n",
    "            \n",
    "            elif s3[k] == s1[i]:\n",
    "                return recur(i-1, j, k-1)\n",
    "            \n",
    "            elif s3[k] == s2[j]:\n",
    "                return recur(i, j-1, k-1)\n",
    "            else:\n",
    "                # it doesn't match with both the words, then not possible to build s3.\n",
    "                return False\n",
    "        return recur(i,j,k)\n",
    "    \n",
    "# tc - O(2^(m+n)), where m and n are the lengths of s1 and s2, respectively.\n",
    "# sc - O(m+n), for the recursion stack space."
   ]
  },
  {
   "cell_type": "code",
   "execution_count": 9,
   "id": "872a8561",
   "metadata": {},
   "outputs": [
    {
     "name": "stdout",
     "output_type": "stream",
     "text": [
      "4 4 9\n",
      "3 4 8\n",
      "3 3 7\n",
      "2 3 6\n",
      "1 3 5\n",
      "1 2 4\n",
      "1 1 3\n",
      "1 0 2\n",
      "1 -1 1\n"
     ]
    },
    {
     "data": {
      "text/plain": [
       "True"
      ]
     },
     "execution_count": 9,
     "metadata": {},
     "output_type": "execute_result"
    }
   ],
   "source": [
    "Solution().isInterleave(s1 = \"aabcc\", s2 = \"dbbca\", s3 = \"aadbbcbcac\")"
   ]
  },
  {
   "cell_type": "code",
   "execution_count": 10,
   "id": "d1ff6cdf",
   "metadata": {},
   "outputs": [
    {
     "name": "stdout",
     "output_type": "stream",
     "text": [
      "4 4 9\n",
      "3 4 8\n",
      "2 4 7\n"
     ]
    },
    {
     "data": {
      "text/plain": [
       "False"
      ]
     },
     "execution_count": 10,
     "metadata": {},
     "output_type": "execute_result"
    }
   ],
   "source": [
    "Solution().isInterleave(s1 = \"aabcc\", s2 = \"dbbca\", s3 = \"aadbbbaccc\")"
   ]
  },
  {
   "cell_type": "code",
   "execution_count": 11,
   "id": "ca284db4",
   "metadata": {},
   "outputs": [
    {
     "name": "stdout",
     "output_type": "stream",
     "text": [
      "-1 -1 -1\n"
     ]
    },
    {
     "data": {
      "text/plain": [
       "True"
      ]
     },
     "execution_count": 11,
     "metadata": {},
     "output_type": "execute_result"
    }
   ],
   "source": [
    "Solution().isInterleave(s1 = \"\", s2 = \"\", s3 = \"\")"
   ]
  },
  {
   "cell_type": "code",
   "execution_count": null,
   "id": "d6f34526",
   "metadata": {},
   "outputs": [],
   "source": [
    "# pplain recurssion\n",
    "class Solution:\n",
    "    def isInterleave(self, s1: str, s2: str, s3: str) -> bool:\n",
    "        n, m, o = len(s1), len(s2), len(s3)\n",
    "        \n",
    "        def recur(i, j, k):\n",
    "            if k == o:\n",
    "                return i == n and j == m\n",
    "            \n",
    "            if i < n and s1[i] == s3[k]:\n",
    "                if recur(i + 1, j, k + 1):\n",
    "                    return True\n",
    "            \n",
    "            if j < m and s2[j] == s3[k]:\n",
    "                if recur(i, j + 1, k + 1):\n",
    "                    return True\n",
    "            \n",
    "            return False\n",
    "        \n",
    "        return recur(0, 0, 0)\n",
    "    \n",
    "    "
   ]
  },
  {
   "cell_type": "code",
   "execution_count": null,
   "id": "1bd88750",
   "metadata": {},
   "outputs": [],
   "source": [
    "# memorization using array:\n",
    "class Solution:\n",
    "    def isInterleave(self, s1: str, s2: str, s3: str) -> bool:\n",
    "        n, m, o = len(s1) - 1, len(s2) - 1, len(s3) - 1\n",
    "        dp = [[-1 for _ in range(m+1)] for _ in range(n+1)]\n",
    "        def recur(i, j, k):\n",
    "            if k < 0:\n",
    "                if i < 0 and j < 0:\n",
    "                    return True\n",
    "                return False\n",
    "            \n",
    "            if i < 0:\n",
    "                return s2[0:j+1] == s3[0:k+1]\n",
    "            if j < 0:\n",
    "                return s1[0:i+1] == s3[0:k+1]\n",
    "            \n",
    "            if dp[i][j] != -1:\n",
    "                return dp[i][j]\n",
    "            \n",
    "            if s3[k] == s1[i] and s3[k] == s2[j]:\n",
    "                dp[i][j] = recur(i-1, j, k-1) or recur(i, j-1, k-1)\n",
    "            elif s3[k] == s1[i]:\n",
    "                dp[i][j] = recur(i-1, j, k-1)\n",
    "            elif s3[k] == s2[j]:\n",
    "                dp[i][j] = recur(i, j-1, k-1)\n",
    "            else:\n",
    "                dp[i][j] = False\n",
    "            \n",
    "            return dp[i][j]\n",
    "        return recur(n, m, o)\n",
    "\n",
    "# tc - O(m*n), where m and n are the lengths of s1 and s2, respectively.\n",
    "# sc - O(m*n), for the dp array and recursion stack space."
   ]
  },
  {
   "cell_type": "code",
   "execution_count": null,
   "id": "c123b7bc",
   "metadata": {},
   "outputs": [],
   "source": [
    "# dp[i][j] = True if s3[0:i+j] can be formed by interleaving s1[0 to i-1] and s2[0 to j-]\n",
    "# dp[i][j] = False otherwise.\n",
    "class Solution:\n",
    "    def isInterleave(self, s1: str, s2: str, s3: str) -> bool:\n",
    "        n, m, o = len(s1), len(s2), len(s3)\n",
    "        \n",
    "        # Early exit: if lengths don't match\n",
    "        if n + m != o:\n",
    "            return False\n",
    "        \n",
    "        # Create DP table: dp[i][j] represents if s3[0:i+j] can be formed \n",
    "        # by interleaving s1[0:i] and s2[0:j]\n",
    "        dp = [[False for _ in range(m + 1)] for _ in range(n + 1)]\n",
    "        \n",
    "        # Base case: empty strings\n",
    "        dp[0][0] = True\n",
    "        \n",
    "        # Fill first row: using only s2 to form s3\n",
    "        for j in range(1, m + 1):\n",
    "            dp[0][j] = dp[0][j-1] and s2[j-1] == s3[j-1]\n",
    "            # same as: dp[0][j] = s2[0:j] == s3[0:j] condition for if i < 0:\n",
    "        \n",
    "        # Fill first column: using only s1 to form s3\n",
    "        for i in range(1, n + 1):\n",
    "            dp[i][0] = dp[i-1][0] and s1[i-1] == s3[i-1]\n",
    "            # same as : dp[i][0] = s1[0:i] == s3[0:i] condition for if j < 0:\n",
    "        \n",
    "        # Fill the DP table\n",
    "        for i in range(1, n + 1):\n",
    "            for j in range(1, m + 1):\n",
    "                # we can get the current position in s3.\n",
    "                # At dp[i][j], we're asking:\n",
    "                # \"Can s1[0:i] + s2[0:j] form s3[0:i+j]?\"\n",
    "\n",
    "                # i = 2, j = 1\n",
    "                # s1[0:2] = \"ab\" \n",
    "                # s2[0:1] = \"c\"\n",
    "                # s3[0:3] = \"acb\"\n",
    "\n",
    "                # We need to check if the NEXT character we add matches s3\n",
    "                # Position in s3 = (total chars used) - 1 = (i + j) - 1 = 3 - 1 = 2\n",
    "                # So we check s3[2] vs the character we want to add\n",
    "                # why - 1: because we shifted right by 1 in the text input. \n",
    "                k = i + j - 1  # Current position in s3\n",
    "                \n",
    "                # Two ways to form s3[0:k+1]:\n",
    "                # 1. Take character from s1[i-1] and use dp[i-1][j]\n",
    "                # 2. Take character from s2[j-1] and use dp[i][j-1]\n",
    "                \n",
    "                take_from_s1 = dp[i-1][j] and s1[i-1] == s3[k]\n",
    "                take_from_s2 = dp[i][j-1] and s2[j-1] == s3[k]\n",
    "                \n",
    "                dp[i][j] = take_from_s1 or take_from_s2\n",
    "        \n",
    "        return dp[n][m]\n",
    "\n",
    "# tc - O(m*n), where m and n are the lengths of s1 and s2, respectively.\n",
    "# sc - O(m*n), for the dp array."
   ]
  },
  {
   "cell_type": "code",
   "execution_count": null,
   "id": "0ceb2ced",
   "metadata": {},
   "outputs": [],
   "source": [
    "\n",
    "class Solution:\n",
    "    def isInterleave(self, s1: str, s2: str, s3: str) -> bool:\n",
    "        n, m, o = len(s1), len(s2), len(s3)\n",
    "        \n",
    "        # Early exit: if lengths don't match\n",
    "        if n + m != o:\n",
    "            return False\n",
    "        \n",
    "        # Use only two arrays: previous row and current row\n",
    "        prev = [False] * (m + 1)\n",
    "        curr = [False] * (m + 1)\n",
    "        \n",
    "        # Base case: empty strings\n",
    "        prev[0] = True\n",
    "        \n",
    "        # Initialize first row: using only s2 to form s3\n",
    "        for j in range(1, m + 1):\n",
    "            prev[j] = prev[j-1] and s2[j-1] == s3[j-1]\n",
    "        \n",
    "        # Fill the table row by row\n",
    "        for i in range(1, n + 1):\n",
    "            # First column: using only s1 to form s3\n",
    "            # just the logic in tabulation.\n",
    "            curr[0] = prev[0] and s1[i-1] == s3[i-1]\n",
    "            \n",
    "            for j in range(1, m + 1):\n",
    "                k = i + j - 1  # Current position in s3\n",
    "                \n",
    "                # Two options:\n",
    "                # 1. Take from s1: prev[j] and s1[i-1] == s3[k]\n",
    "                # 2. Take from s2: curr[j-1] and s2[j-1] == s3[k]\n",
    "                \n",
    "                take_from_s1 = prev[j] and s1[i-1] == s3[k]\n",
    "                take_from_s2 = curr[j-1] and s2[j-1] == s3[k]\n",
    "                \n",
    "                curr[j] = take_from_s1 or take_from_s2\n",
    "            \n",
    "            # Move current row to previous row for next iteration\n",
    "            prev, curr = curr, prev\n",
    "        \n",
    "        return prev[m]\n",
    "    \n",
    "# tc - O(m*n), where m and n are the lengths of s1 and s2, respectively.\n",
    "# sc - O(m), for the two arrays used to store the current and previous rows."
   ]
  }
 ],
 "metadata": {
  "kernelspec": {
   "display_name": "3.11.11",
   "language": "python",
   "name": "python3"
  },
  "language_info": {
   "codemirror_mode": {
    "name": "ipython",
    "version": 3
   },
   "file_extension": ".py",
   "mimetype": "text/x-python",
   "name": "python",
   "nbconvert_exporter": "python",
   "pygments_lexer": "ipython3",
   "version": "3.11.11"
  }
 },
 "nbformat": 4,
 "nbformat_minor": 5
}
