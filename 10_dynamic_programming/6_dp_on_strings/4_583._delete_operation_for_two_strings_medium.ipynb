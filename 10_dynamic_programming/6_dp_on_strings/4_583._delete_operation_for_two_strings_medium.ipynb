{
 "cells": [
  {
   "cell_type": "markdown",
   "id": "6fd13828",
   "metadata": {},
   "source": [
    "Given two strings word1 and word2, return the minimum number of steps required to make word1 and word2 the same.\n",
    "\n",
    "In one step, you can delete exactly one character in either string.\n",
    "\n",
    " \n",
    "\n",
    "Example 1:\n",
    "\n",
    "Input: word1 = \"sea\", word2 = \"eat\"\n",
    "Output: 2\n",
    "Explanation: You need one step to make \"sea\" to \"ea\" and another step to make \"eat\" to \"ea\".\n",
    "Example 2:\n",
    "\n",
    "Input: word1 = \"leetcode\", word2 = \"etco\"\n",
    "Output: 4\n",
    " \n",
    "\n",
    "Constraints:\n",
    "\n",
    "1 <= word1.length, word2.length <= 500\n",
    "word1 and word2 consist of only lowercase English letters."
   ]
  },
  {
   "cell_type": "code",
   "execution_count": null,
   "id": "e07b0e2b",
   "metadata": {},
   "outputs": [],
   "source": [
    "# space optimal tabulation:\n",
    "# optimised space complexityclass Solution:\n",
    "class Solution:\n",
    "    def minDistance(self, word1: str, word2: str) -> int:\n",
    "        lcs =  self.longestCommonSubsequence(word1, word2)\n",
    "        # s1 = \"abcd\" s2= \"anc\" - lcs = \"ac\"\n",
    "        # so delettion = deleted the common from s1.\n",
    "        # additiong = added the remaining not-common from s2.\n",
    "        operations = (len(word1) - lcs) + (len(word2) - lcs)\n",
    "        return operations\n",
    "    \n",
    "    def longestCommonSubsequence(self, text1: str, text2: str) -> int:\n",
    "        n,m = len(text1), len(text2)\n",
    "        # Create DP table with (n+1) initialized to 0\n",
    "        prev = [0] * (m + 1)\n",
    "        cur = [0] * (m + 1)\n",
    "\n",
    "        # Fill dp table row-wise\n",
    "        for i in range(1, n+1):\n",
    "            cur = [0] * (m + 1)\n",
    "            for j in range(1, m+1):\n",
    "                if text1[i-1] == text2[j-1]:\n",
    "                    cur[j] = 1 + prev[j-1]\n",
    "                else:\n",
    "                    cur[j] = max(cur[j-1], prev[j])\n",
    "                    \n",
    "            # NOTE: The current should be clean always.\n",
    "            prev, cur = cur, [0] * (m + 1)  # update prev after inner loop\n",
    "        return prev[m]\n",
    "\n",
    "# tc - O(n * m)\n",
    "# sc - O(m * 2) where m is the length of text2 (or n, since both texts are of the same length in this case)"
   ]
  },
  {
   "cell_type": "code",
   "execution_count": 2,
   "id": "c2d01661",
   "metadata": {},
   "outputs": [
    {
     "name": "stdout",
     "output_type": "stream",
     "text": [
      "The Minimum operations required to convert str1 to str2: 3\n"
     ]
    }
   ],
   "source": [
    "str1 = \"abcd\"\n",
    "str2 = \"anc\"\n",
    "\n",
    "# Calculate and print the minimum operations required to convert str1 to str2\n",
    "print(\"The Minimum operations required to convert str1 to str2:\", Solution().mini_opeartions(str1, str2))"
   ]
  },
  {
   "cell_type": "code",
   "execution_count": null,
   "id": "83e54044",
   "metadata": {},
   "outputs": [],
   "source": []
  }
 ],
 "metadata": {
  "kernelspec": {
   "display_name": "3.11.11",
   "language": "python",
   "name": "python3"
  },
  "language_info": {
   "codemirror_mode": {
    "name": "ipython",
    "version": 3
   },
   "file_extension": ".py",
   "mimetype": "text/x-python",
   "name": "python",
   "nbconvert_exporter": "python",
   "pygments_lexer": "ipython3",
   "version": "3.11.11"
  }
 },
 "nbformat": 4,
 "nbformat_minor": 5
}
