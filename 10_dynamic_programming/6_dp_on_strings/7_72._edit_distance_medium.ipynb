{
 "cells": [
  {
   "cell_type": "markdown",
   "id": "fc75f557",
   "metadata": {},
   "source": [
    "Given two strings word1 and word2, return the minimum number of operations required to convert word1 to word2.\n",
    "\n",
    "You have the following three operations permitted on a word:\n",
    "\n",
    "Insert a character\n",
    "Delete a character\n",
    "Replace a character\n",
    " \n",
    "\n",
    "Example 1:\n",
    "\n",
    "Input: word1 = \"horse\", word2 = \"ros\"\n",
    "Output: 3\n",
    "Explanation: \n",
    "horse -> rorse (replace 'h' with 'r')\n",
    "rorse -> rose (remove 'r')\n",
    "rose -> ros (remove 'e')\n",
    "Example 2:\n",
    "\n",
    "Input: word1 = \"intention\", word2 = \"execution\"\n",
    "Output: 5\n",
    "Explanation: \n",
    "intention -> inention (remove 't')\n",
    "inention -> enention (replace 'i' with 'e')\n",
    "enention -> exention (replace 'n' with 'x')\n",
    "exention -> exection (replace 'n' with 'c')\n",
    "exection -> execution (insert 'u')\n",
    " \n",
    "\n",
    "Constraints:\n",
    "\n",
    "0 <= word1.length, word2.length <= 500\n",
    "word1 and word2 consist of lowercase English letters."
   ]
  },
  {
   "cell_type": "code",
   "execution_count": null,
   "id": "cfab4d79",
   "metadata": {},
   "outputs": [],
   "source": [
    "class Solution:\n",
    "    def minDistance(self, word1: str, word2: str) -> int:\n",
    "        i,j = len(word1) -1, len(word2)-1\n",
    "\n",
    "        def dp(i,j):\n",
    "            if i < 0: return j + 1\n",
    "            if j < 0: return i + 1\n",
    "\n",
    "            if word1[i] == word2[j]:\n",
    "                # when then match, we can move to the next character.\n",
    "                return dp(i-1, j-1)\n",
    "            else:\n",
    "                # we can either insert, delete or replace a character.\n",
    "                # insert in the right of i and stay there, we got the j letter so move.\n",
    "                insert = 1 + dp(i, j + 1)\n",
    "                delete = 1 + dp(i - 1, j)\n",
    "                replace = 1 + dp(i - 1, j - 1)\n",
    "                return min(insert, delete, replace)\n",
    "        return dp(i, j)\n",
    "    \n",
    "# tc - O(3^(m+n)) where m and n are the lengths of word1 and word2.\n",
    "# sc - O(m+n) for the recursion stack."
   ]
  },
  {
   "cell_type": "code",
   "execution_count": null,
   "id": "dc581a04",
   "metadata": {},
   "outputs": [],
   "source": [
    "# memorization:\n",
    "# dp[i][j] = min distance between word1[0 to i-1] and word2[0 -- j-1]\n",
    "class Solution:\n",
    "    def minDistance(self, word1: str, word2: str) -> int:\n",
    "        i,j = len(word1), len(word2)\n",
    "        # since we are having i-1 in code, we need to right shift by 1 to handle it.\n",
    "        # now i in dp means i-1 in word1 and j in dp means j-1 in word2.\n",
    "        dp = [[-1] * (j + 1) for _ in range(i+1)]\n",
    "        def dp(i,j):\n",
    "            if i < 0: return j + 1\n",
    "            if j < 0: return i + 1\n",
    "\n",
    "            if dp[i][j] != -1:\n",
    "                return dp[i][j]\n",
    "            \n",
    "            if word1[i] == word2[j]:\n",
    "                # when then match, we can move to the next character.\n",
    "                dp[i][j] =  dp(i-1, j-1)\n",
    "            else:\n",
    "                # we can either insert, delete or replace a character.\n",
    "                # insert in the right of i and stay there, we got the j letter so move.\n",
    "                insert = 1 + dp(i, j + 1)\n",
    "                delete = 1 + dp(i - 1, j)\n",
    "                replace = 1 + dp(i - 1, j - 1)\n",
    "                dp[i][j] =  min(insert, delete, replace)\n",
    "            return dp[i][j]\n",
    "        \n",
    "        return dp(i, j)\n",
    "\n",
    "\n",
    "# tc - O(m * n)\n",
    "# sc - O(m * n) for the dp array + O(m+n) for the recursion stack.\n",
    "# so overall O(m * n) for the dp array and O(m+n)"
   ]
  },
  {
   "cell_type": "code",
   "execution_count": 3,
   "id": "c608f779",
   "metadata": {},
   "outputs": [],
   "source": [
    "# tabulation:\n",
    "class Solution:\n",
    "    def minDistance(self, word1: str, word2: str) -> int:\n",
    "        n,m = len(word1), len(word2)\n",
    "        # since we are having i-1 in code, we need to right shift by 1 to handle it.\n",
    "        # now i in dp means i-1 in word1 and j in dp means j-1 in word2.\n",
    "        dp = [[0] * (m + 1) for _ in range(n+1)]\n",
    "\n",
    "        # base case:\n",
    "        for i in range(n+1):\n",
    "            dp[i][0] = i\n",
    "        for j in range(m+1):\n",
    "            dp[0][j] = j\n",
    "        \n",
    "        for i in range(1, n+1):\n",
    "            for j in  range(1, m+1):\n",
    "                if word1[i-1] == word2[j-1]:\n",
    "                    # when then match, we can move to the next character.\n",
    "                    dp[i][j] =  dp[i-1][j-1]\n",
    "                else:\n",
    "                    # we can either insert, delete or replace a character.\n",
    "                    # insert in the right of i and stay there, we got the j letter so move.\n",
    "                    insert = 1 + dp[i][j - 1]\n",
    "                    # we deleted the ith letter, so stay at j.\n",
    "                    delete = 1 + dp[i - 1][j]\n",
    "                    replace = 1 + dp[i - 1][j - 1]\n",
    "                    dp[i][j] =  min(insert, delete, replace)\n",
    "        return dp[n][m]\n",
    "    \n",
    "# tc - O(m * n)\n",
    "# sc - O(m * n) for the dp array."
   ]
  },
  {
   "cell_type": "code",
   "execution_count": 4,
   "id": "cb48e5b6",
   "metadata": {},
   "outputs": [
    {
     "data": {
      "text/plain": [
       "3"
      ]
     },
     "execution_count": 4,
     "metadata": {},
     "output_type": "execute_result"
    }
   ],
   "source": [
    "Solution().minDistance(word1 = \"horse\", word2 = \"ros\")"
   ]
  },
  {
   "cell_type": "code",
   "execution_count": 5,
   "id": "ec94e96c",
   "metadata": {},
   "outputs": [
    {
     "data": {
      "text/plain": [
       "5"
      ]
     },
     "execution_count": 5,
     "metadata": {},
     "output_type": "execute_result"
    }
   ],
   "source": [
    "Solution().minDistance(word1 = \"intention\", word2 = \"execution\")"
   ]
  },
  {
   "cell_type": "code",
   "execution_count": null,
   "id": "91e3a5c6",
   "metadata": {},
   "outputs": [],
   "source": [
    "# tabulation with space optimization:\n",
    "class Solution:\n",
    "    def minDistance(self, word1: str, word2: str) -> int:\n",
    "        n,m = len(word1), len(word2)\n",
    "        # since we are having i-1 in code, we need to right shift by 1 to handle it.\n",
    "        # now i in dp means i-1 in word1 and j in dp means j-1 in word2.\n",
    "        prev = [0] * (m + 1)\n",
    "\n",
    "        # base case:\n",
    "        for j in range(m+1):\n",
    "            prev[j] = j\n",
    "        \n",
    "        for i in range(1, n+1):\n",
    "            curr = [0] * (m + 1)\n",
    "            curr[0] = i\n",
    "            for j in  range(1, m+1):\n",
    "                if word1[i-1] == word2[j-1]:\n",
    "                    # when then match, we can move to the next character.\n",
    "                    curr[j] =  prev[j-1]\n",
    "                else:\n",
    "                    # we can either insert, delete or replace a character.\n",
    "                    # insert in the right of i and stay there, we got the j letter so move.\n",
    "                    insert = 1 + curr[j - 1]\n",
    "                    # we deleted the ith letter, so stay at j.\n",
    "                    delete = 1 + prev[j]\n",
    "                    replace = 1 + prev[j - 1]\n",
    "                    curr[j] =  min(insert, delete, replace)\n",
    "            prev = curr\n",
    "        return prev[m]\n",
    "    \n",
    "# tc - O(m * n)\n",
    "# sc - O(m) for the dp array."
   ]
  },
  {
   "cell_type": "code",
   "execution_count": 7,
   "id": "71fa1ddc",
   "metadata": {},
   "outputs": [
    {
     "data": {
      "text/plain": [
       "3"
      ]
     },
     "execution_count": 7,
     "metadata": {},
     "output_type": "execute_result"
    }
   ],
   "source": [
    "Solution().minDistance(word1 = \"horse\", word2 = \"ros\")"
   ]
  },
  {
   "cell_type": "code",
   "execution_count": 8,
   "id": "61e4296d",
   "metadata": {},
   "outputs": [
    {
     "data": {
      "text/plain": [
       "5"
      ]
     },
     "execution_count": 8,
     "metadata": {},
     "output_type": "execute_result"
    }
   ],
   "source": [
    "Solution().minDistance(word1 = \"intention\", word2 = \"execution\")"
   ]
  },
  {
   "cell_type": "code",
   "execution_count": null,
   "id": "09513379",
   "metadata": {},
   "outputs": [],
   "source": []
  }
 ],
 "metadata": {
  "kernelspec": {
   "display_name": "3.11.11",
   "language": "python",
   "name": "python3"
  },
  "language_info": {
   "codemirror_mode": {
    "name": "ipython",
    "version": 3
   },
   "file_extension": ".py",
   "mimetype": "text/x-python",
   "name": "python",
   "nbconvert_exporter": "python",
   "pygments_lexer": "ipython3",
   "version": "3.11.11"
  }
 },
 "nbformat": 4,
 "nbformat_minor": 5
}
