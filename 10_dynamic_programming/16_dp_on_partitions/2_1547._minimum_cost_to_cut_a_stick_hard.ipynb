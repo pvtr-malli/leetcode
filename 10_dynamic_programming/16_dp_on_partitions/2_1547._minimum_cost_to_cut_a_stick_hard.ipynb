{
 "cells": [
  {
   "cell_type": "markdown",
   "id": "bcd2fd31",
   "metadata": {},
   "source": [
    "Given a wooden stick of length n units. The stick is labelled from 0 to n. For example, a stick of length 6 is labelled as follows:\n",
    "\n",
    "\n",
    "Given an integer array cuts where cuts[i] denotes a position you should perform a cut at.\n",
    "\n",
    "You should perform the cuts in order, you can change the order of the cuts as you wish.\n",
    "\n",
    "The cost of one cut is the length of the stick to be cut, the total cost is the sum of costs of all cuts. When you cut a stick, it will be split into two smaller sticks (i.e. the sum of their lengths is the length of the stick before the cut). Please refer to the first example for a better explanation.\n",
    "\n",
    "Return the minimum total cost of the cuts.\n",
    "\n",
    " \n",
    "\n",
    "Example 1:\n",
    "\n",
    "\n",
    "Input: n = 7, cuts = [1,3,4,5]\n",
    "Output: 16\n",
    "Explanation: Using cuts order = [1, 3, 4, 5] as in the input leads to the following scenario:\n",
    "\n",
    "The first cut is done to a rod of length 7 so the cost is 7. The second cut is done to a rod of length 6 (i.e. the second part of the first cut), the third is done to a rod of length 4 and the last cut is to a rod of length 3. The total cost is 7 + 6 + 4 + 3 = 20.\n",
    "Rearranging the cuts to be [3, 5, 1, 4] for example will lead to a scenario with total cost = 16 (as shown in the example photo 7 + 4 + 3 + 2 = 16).\n",
    "Example 2:\n",
    "\n",
    "Input: n = 9, cuts = [5,6,1,4,2]\n",
    "Output: 22\n",
    "Explanation: If you try the given cuts ordering the cost will be 25.\n",
    "There are much ordering with total cost <= 25, for example, the order [4, 6, 5, 2, 1] has total cost = 22 which is the minimum possible.\n",
    " \n",
    "\n",
    "Constraints:\n",
    "\n",
    "2 <= n <= 106\n",
    "1 <= cuts.length <= min(n - 1, 100)\n",
    "1 <= cuts[i] <= n - 1\n",
    "All the integers in cuts array are distinct."
   ]
  },
  {
   "cell_type": "code",
   "execution_count": 17,
   "id": "324a9554",
   "metadata": {},
   "outputs": [],
   "source": [
    "class Solution:\n",
    "    def minCost(self, n: int, cuts: list[int]) -> int:\n",
    "        cuts.sort()\n",
    "        \n",
    "        # To perform hte cuts.\n",
    "        cuts = [0] + cuts + [n]\n",
    "        n = len(cuts)\n",
    "        \n",
    "        def recur(i, j):\n",
    "            if i > j:  # No cuts possible between i and j\n",
    "                return 0\n",
    "            ans = float('inf')\n",
    "            # k runs over possible cuts between cuts[i] and cuts[j]\n",
    "            for k in range(i , j + 1):\n",
    "                cost = cuts[j+1] - cuts[i-1] + recur(i, k-1) + recur(k+1, j)\n",
    "                ans = min(ans, cost)\n",
    "            return ans\n",
    "        \n",
    "        return recur(1, n-2)\n"
   ]
  },
  {
   "cell_type": "code",
   "execution_count": 18,
   "id": "a770c5f0",
   "metadata": {},
   "outputs": [
    {
     "data": {
      "text/plain": [
       "16"
      ]
     },
     "execution_count": 18,
     "metadata": {},
     "output_type": "execute_result"
    }
   ],
   "source": [
    "Solution().minCost(n = 7, cuts = [1,3,4,5])"
   ]
  },
  {
   "cell_type": "code",
   "execution_count": 19,
   "id": "26fb8de1",
   "metadata": {},
   "outputs": [
    {
     "data": {
      "text/plain": [
       "22"
      ]
     },
     "execution_count": 19,
     "metadata": {},
     "output_type": "execute_result"
    }
   ],
   "source": [
    "Solution().minCost(n = 9, cuts = [5,6,1,4,2])"
   ]
  },
  {
   "cell_type": "code",
   "execution_count": null,
   "id": "36264348",
   "metadata": {},
   "outputs": [],
   "source": [
    "\n",
    "# memorization:\n",
    "class Solution:\n",
    "    def minCost(self, n: int, cuts: list[int]) -> int:\n",
    "        cuts.sort()\n",
    "        \n",
    "        # To perform hte cuts.\n",
    "        cuts = [0] + cuts + [n]\n",
    "        n = len(cuts)\n",
    "\n",
    "        dp = [[-1 for _ in range(n)] for _ in range(n)]\n",
    "        \n",
    "        def recur(i, j):\n",
    "            if i > j:  # No cuts possible between i and j\n",
    "                return 0\n",
    "            if dp[i][j] != -1:\n",
    "                return dp[i][j]\n",
    "            ans = float('inf')\n",
    "            # k runs over possible cuts between cuts[i] and cuts[j]\n",
    "            for k in range(i , j + 1):\n",
    "                cost = cuts[j+1] - cuts[i-1] + recur(i, k-1) + recur(k+1, j)\n",
    "                ans = min(ans, cost)\n",
    "\n",
    "            dp[i][j] =  ans\n",
    "            return dp[i][j]\n",
    "        \n",
    "        return recur(1, n-2)\n",
    "# tc - O(n * n)\n",
    "# sc - O(n * n)"
   ]
  },
  {
   "cell_type": "code",
   "execution_count": 21,
   "id": "05e25e0b",
   "metadata": {},
   "outputs": [
    {
     "data": {
      "text/plain": [
       "22"
      ]
     },
     "execution_count": 21,
     "metadata": {},
     "output_type": "execute_result"
    }
   ],
   "source": [
    "Solution().minCost(n = 9, cuts = [5,6,1,4,2])"
   ]
  },
  {
   "cell_type": "code",
   "execution_count": null,
   "id": "1e65b3f1",
   "metadata": {},
   "outputs": [],
   "source": [
    "# Tabulation:\n",
    "class Solution:\n",
    "    def minCost(self, n: int, cuts: list[int]) -> int:\n",
    "        cuts.sort()\n",
    "        \n",
    "        # To perform hte cuts.\n",
    "        cuts = [0] + cuts + [n]\n",
    "        n = len(cuts)\n",
    "\n",
    "        dp = [[0 for _ in range(n)] for _ in range(n)]\n",
    "\n",
    "        # NOTE: since n-1 and 0 th index added for extra. dont add them into indexing.\n",
    "        # just leave out the extra 2 index from hte loop, no other worries.\n",
    "        for i in range(n-1, 0, -1):\n",
    "            for j in range(i, n-1):\n",
    "                ans = float('inf')\n",
    "                # k runs over possible cuts between cuts[i] and cuts[j]\n",
    "                for k in range(i , j + 1):\n",
    "                    cost = cuts[j+1] - cuts[i-1] + dp[i][k-1] + dp[k+1][j]\n",
    "                    ans = min(ans, cost)\n",
    "\n",
    "                dp[i][j] =  ans\n",
    "        print(dp)\n",
    "        return dp[1][n-2]\n",
    "\n",
    "# tc - O(n * n)\n",
    "# sc - O(n * n)"
   ]
  },
  {
   "cell_type": "code",
   "execution_count": 33,
   "id": "89eebdfa",
   "metadata": {},
   "outputs": [
    {
     "name": "stdout",
     "output_type": "stream",
     "text": [
      "[[0, 0, 0, 0, 0, 0], [0, 3, 7, 10, 16, 0], [0, 0, 3, 6, 12, 0], [0, 0, 0, 2, 6, 0], [0, 0, 0, 0, 3, 0], [0, 0, 0, 0, 0, 0]]\n"
     ]
    },
    {
     "data": {
      "text/plain": [
       "16"
      ]
     },
     "execution_count": 33,
     "metadata": {},
     "output_type": "execute_result"
    }
   ],
   "source": [
    "Solution().minCost(n = 7, cuts = [1,3,4,5])"
   ]
  },
  {
   "cell_type": "code",
   "execution_count": 34,
   "id": "83db2359",
   "metadata": {},
   "outputs": [
    {
     "name": "stdout",
     "output_type": "stream",
     "text": [
      "[[0, 0, 0, 0, 0, 0, 0], [0, 2, 6, 10, 14, 22, 0], [0, 0, 3, 7, 10, 18, 0], [0, 0, 0, 3, 6, 13, 0], [0, 0, 0, 0, 2, 7, 0], [0, 0, 0, 0, 0, 4, 0], [0, 0, 0, 0, 0, 0, 0]]\n"
     ]
    },
    {
     "data": {
      "text/plain": [
       "22"
      ]
     },
     "execution_count": 34,
     "metadata": {},
     "output_type": "execute_result"
    }
   ],
   "source": [
    "Solution().minCost(n = 9, cuts = [5,6,1,4,2])"
   ]
  },
  {
   "cell_type": "code",
   "execution_count": null,
   "id": "6c4ec235",
   "metadata": {},
   "outputs": [],
   "source": []
  }
 ],
 "metadata": {
  "kernelspec": {
   "display_name": "3.11.11",
   "language": "python",
   "name": "python3"
  },
  "language_info": {
   "codemirror_mode": {
    "name": "ipython",
    "version": 3
   },
   "file_extension": ".py",
   "mimetype": "text/x-python",
   "name": "python",
   "nbconvert_exporter": "python",
   "pygments_lexer": "ipython3",
   "version": "3.11.11"
  }
 },
 "nbformat": 4,
 "nbformat_minor": 5
}
