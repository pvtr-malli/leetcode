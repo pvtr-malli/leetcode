{
 "cells": [
  {
   "cell_type": "markdown",
   "id": "15879dd0",
   "metadata": {},
   "source": [
    "Given an integer array arr, partition the array into (contiguous) subarrays of length at most k. After partitioning, each subarray has their values changed to become the maximum value of that subarray.\n",
    "\n",
    "Return the largest sum of the given array after partitioning. Test cases are generated so that the answer fits in a 32-bit integer.\n",
    "\n",
    " \n",
    "\n",
    "Example 1:\n",
    "\n",
    "Input: arr = [1,15,7,9,2,5,10], k = 3\n",
    "Output: 84\n",
    "Explanation: arr becomes [15,15,15,9,10,10,10]\n",
    "Example 2:\n",
    "\n",
    "Input: arr = [1,4,1,5,7,3,6,1,9,9,3], k = 4\n",
    "Output: 83\n",
    "Example 3:\n",
    "\n",
    "Input: arr = [1], k = 1\n",
    "Output: 1\n",
    " \n",
    "\n",
    "Constraints:\n",
    "\n",
    "1 <= arr.length <= 500\n",
    "0 <= arr[i] <= 109\n",
    "1 <= k <= arr.length"
   ]
  },
  {
   "cell_type": "code",
   "execution_count": null,
   "id": "07ea94fd",
   "metadata": {},
   "outputs": [],
   "source": [
    "class Solution:\n",
    "    def maxSumAfterPartitioning(self, arr: list[int], k: int) -> int:\n",
    "        n = len(arr)\n",
    "\n",
    "        def recur(start):\n",
    "            if start == n:\n",
    "                return 0\n",
    "            max_sum_of_arry = float('-inf')\n",
    "            length = 0\n",
    "            max_ans = float('-inf')\n",
    "            for j in range(start, min(start + k, n)):\n",
    "                length += 1\n",
    "                max_sum_of_arry = max(max_sum_of_arry, arr[j])\n",
    "                cur_array_ans = max_sum_of_arry * length + recur(j + 1)\n",
    "                max_ans = max(max_ans, cur_array_ans)\n",
    "            return max_ans\n",
    "        return recur(0)\n",
    "    \n",
    "\n",
    "# tc - O(k^n)\n",
    "# sc - O(n)"
   ]
  },
  {
   "cell_type": "code",
   "execution_count": 6,
   "id": "7c569f24",
   "metadata": {},
   "outputs": [
    {
     "data": {
      "text/plain": [
       "84"
      ]
     },
     "execution_count": 6,
     "metadata": {},
     "output_type": "execute_result"
    }
   ],
   "source": [
    "Solution().maxSumAfterPartitioning(arr = [1,15,7,9,2,5,10], k = 3)"
   ]
  },
  {
   "cell_type": "code",
   "execution_count": 7,
   "id": "82a567d3",
   "metadata": {},
   "outputs": [
    {
     "data": {
      "text/plain": [
       "83"
      ]
     },
     "execution_count": 7,
     "metadata": {},
     "output_type": "execute_result"
    }
   ],
   "source": [
    "Solution().maxSumAfterPartitioning(arr = [1,4,1,5,7,3,6,1,9,9,3], k = 4)"
   ]
  },
  {
   "cell_type": "code",
   "execution_count": null,
   "id": "5ae3e70c",
   "metadata": {},
   "outputs": [],
   "source": [
    "class Solution:\n",
    "    def maxSumAfterPartitioning(self, arr: list[int], k: int) -> int:\n",
    "        n = len(arr)\n",
    "        dp = [-1] * n\n",
    "\n",
    "        def recur(start):\n",
    "            if start == n:\n",
    "                return 0\n",
    "            if dp[start] != -1:\n",
    "                return dp[start]\n",
    "\n",
    "            max_sum_of_arry = float('-inf')\n",
    "            length = 0\n",
    "            max_ans = float('-inf')\n",
    "            for j in range(start, min(start + k, n)):\n",
    "                length += 1\n",
    "                max_sum_of_arry = max(max_sum_of_arry, arr[j])\n",
    "                cur_array_ans = max_sum_of_arry * length + recur(j + 1)\n",
    "                max_ans = max(max_ans, cur_array_ans)\n",
    "            dp[start] =  max_ans\n",
    "            return dp[start]\n",
    "        return recur(0)\n",
    "\n",
    "# tc - O(n * k)\n",
    "# sc - O(n * k) + O(n) for recursion stack\n"
   ]
  },
  {
   "cell_type": "code",
   "execution_count": null,
   "id": "59bfea11",
   "metadata": {},
   "outputs": [],
   "source": [
    "# tabulation:\n",
    "\n",
    "# dp[i] = max sum of partitioning the array from index 0 to i\n",
    "# the index involved in dp array are j. which goes maximum j+1.\n",
    "# The j range is 0 to n-1 . So maximum it can go upto n. So create the dp array for length n.\n",
    "\n",
    "# There is j+1 in the dp array, so when calculationg for dp[j] we should be knowing the ans for dp[j+1].\n",
    "# so do the fr loop from n-1 to 0.\n",
    "class Solution:\n",
    "    def maxSumAfterPartitioning(self, arr: list[int], k: int) -> int:\n",
    "        n = len(arr)\n",
    "        dp = [0] * (n + 1)\n",
    "        print(dp)\n",
    "\n",
    "        for start in range(n-1, -1, -1):\n",
    "            max_sum_of_arry = float('-inf')\n",
    "            length = 0\n",
    "            max_ans = float('-inf')\n",
    "            for j in range(start, min(start + k, n)):\n",
    "                print(start, j)\n",
    "                length += 1\n",
    "                max_sum_of_arry = max(max_sum_of_arry, arr[j])\n",
    "                cur_array_ans = max_sum_of_arry * length + dp[j + 1]\n",
    "                max_ans = max(max_ans, cur_array_ans)\n",
    "            dp[start] =  max_ans\n",
    "        return dp[0]\n",
    "    \n",
    "# tc - O(n * k)\n",
    "# sc - O(n)"
   ]
  },
  {
   "cell_type": "code",
   "execution_count": 17,
   "id": "7b7c8309",
   "metadata": {},
   "outputs": [
    {
     "name": "stdout",
     "output_type": "stream",
     "text": [
      "[0, 0, 0, 0, 0, 0, 0, 0]\n",
      "6 6\n",
      "5 5\n",
      "5 6\n",
      "4 4\n",
      "4 5\n",
      "4 6\n",
      "3 3\n",
      "3 4\n",
      "3 5\n",
      "2 2\n",
      "2 3\n",
      "2 4\n",
      "1 1\n",
      "1 2\n",
      "1 3\n",
      "0 0\n",
      "0 1\n",
      "0 2\n"
     ]
    },
    {
     "data": {
      "text/plain": [
       "84"
      ]
     },
     "execution_count": 17,
     "metadata": {},
     "output_type": "execute_result"
    }
   ],
   "source": [
    "Solution().maxSumAfterPartitioning(arr = [1,15,7,9,2,5,10], k = 3)"
   ]
  },
  {
   "cell_type": "code",
   "execution_count": 18,
   "id": "bd7f5cdd",
   "metadata": {},
   "outputs": [
    {
     "name": "stdout",
     "output_type": "stream",
     "text": [
      "[0, 0, 0, 0, 0, 0, 0, 0, 0, 0, 0, 0]\n",
      "10 10\n",
      "9 9\n",
      "9 10\n",
      "8 8\n",
      "8 9\n",
      "8 10\n",
      "7 7\n",
      "7 8\n",
      "7 9\n",
      "7 10\n",
      "6 6\n",
      "6 7\n",
      "6 8\n",
      "6 9\n",
      "5 5\n",
      "5 6\n",
      "5 7\n",
      "5 8\n",
      "4 4\n",
      "4 5\n",
      "4 6\n",
      "4 7\n",
      "3 3\n",
      "3 4\n",
      "3 5\n",
      "3 6\n",
      "2 2\n",
      "2 3\n",
      "2 4\n",
      "2 5\n",
      "1 1\n",
      "1 2\n",
      "1 3\n",
      "1 4\n",
      "0 0\n",
      "0 1\n",
      "0 2\n",
      "0 3\n"
     ]
    },
    {
     "data": {
      "text/plain": [
       "83"
      ]
     },
     "execution_count": 18,
     "metadata": {},
     "output_type": "execute_result"
    }
   ],
   "source": [
    "Solution().maxSumAfterPartitioning(arr = [1,4,1,5,7,3,6,1,9,9,3], k = 4)"
   ]
  },
  {
   "cell_type": "code",
   "execution_count": null,
   "id": "d41119ad",
   "metadata": {},
   "outputs": [],
   "source": []
  },
  {
   "cell_type": "code",
   "execution_count": null,
   "id": "ec1c511f",
   "metadata": {},
   "outputs": [],
   "source": []
  }
 ],
 "metadata": {
  "kernelspec": {
   "display_name": "3.11.11",
   "language": "python",
   "name": "python3"
  },
  "language_info": {
   "codemirror_mode": {
    "name": "ipython",
    "version": 3
   },
   "file_extension": ".py",
   "mimetype": "text/x-python",
   "name": "python",
   "nbconvert_exporter": "python",
   "pygments_lexer": "ipython3",
   "version": "3.11.11"
  }
 },
 "nbformat": 4,
 "nbformat_minor": 5
}
