{
 "cells": [
  {
   "cell_type": "markdown",
   "id": "37913b8d",
   "metadata": {},
   "source": [
    "You are given n balloons, indexed from 0 to n - 1. Each balloon is painted with a number on it represented by an array nums. You are asked to burst all the balloons.\n",
    "\n",
    "If you burst the ith balloon, you will get nums[i - 1] * nums[i] * nums[i + 1] coins. If i - 1 or i + 1 goes out of bounds of the array, then treat it as if there is a balloon with a 1 painted on it.\n",
    "\n",
    "Return the maximum coins you can collect by bursting the balloons wisely.\n",
    "\n",
    " \n",
    "\n",
    "Example 1:\n",
    "\n",
    "Input: nums = [3,1,5,8]\n",
    "Output: 167\n",
    "Explanation:\n",
    "nums = [3,1,5,8] --> [3,5,8] --> [3,8] --> [8] --> []\n",
    "coins =  3*1*5    +   3*5*8   +  1*3*8  + 1*8*1 = 167\n",
    "Example 2:\n",
    "\n",
    "Input: nums = [1,5]\n",
    "Output: 10\n",
    " \n",
    "\n",
    "Constraints:\n",
    "\n",
    "n == nums.length\n",
    "1 <= n <= 300\n",
    "0 <= nums[i] <= 100"
   ]
  },
  {
   "cell_type": "code",
   "execution_count": null,
   "id": "ef19ddef",
   "metadata": {},
   "outputs": [],
   "source": [
    "class Solution:\n",
    "    def maxCoins(self, nums: list[int]) -> int:\n",
    "        n = len(nums)\n",
    "        nums = [1] + nums + [1] # for boundery conditions.\n",
    "\n",
    "        def dp(start, end):\n",
    "            if start > end:\n",
    "                return 0\n",
    "            \n",
    "            maxi = float('-inf')\n",
    "            for k in range(start, end+1):\n",
    "                coins = nums[start - 1] * nums[k] * nums[end + 1]\n",
    "                coins += dp(start, k-1) + dp(k+1, end)\n",
    "                maxi = max(maxi, coins)\n",
    "            return maxi\n",
    "        return dp(0, n-1)  #since we will be looking at i-1 index.\n",
    "    \n",
    "# For each subarray start..end, you try every k as the last balloon to burst.\n",
    "\n",
    "# There are roughly O(n^2) subarrays.\n",
    "\n",
    "# For each subarray, the recursion loops through at most n choices (k).\n",
    "# → TC = O(n * n!) in plain recursion (extremely high, factorial-like due to overlapping subproblems being recomputed).\n",
    "# sc - O(n) "
   ]
  },
  {
   "cell_type": "code",
   "execution_count": 6,
   "id": "920807a2",
   "metadata": {},
   "outputs": [
    {
     "data": {
      "text/plain": [
       "167"
      ]
     },
     "execution_count": 6,
     "metadata": {},
     "output_type": "execute_result"
    }
   ],
   "source": [
    "Solution().maxCoins(nums = [3,1,5,8])"
   ]
  },
  {
   "cell_type": "code",
   "execution_count": 7,
   "id": "94d3ae8d",
   "metadata": {},
   "outputs": [
    {
     "data": {
      "text/plain": [
       "10"
      ]
     },
     "execution_count": 7,
     "metadata": {},
     "output_type": "execute_result"
    }
   ],
   "source": [
    "Solution().maxCoins(nums = [1,5])"
   ]
  },
  {
   "cell_type": "code",
   "execution_count": 19,
   "id": "be633c21",
   "metadata": {},
   "outputs": [],
   "source": [
    "class Solution:\n",
    "    def maxCoins(self, nums: list[int]) -> int:\n",
    "        n = len(nums)\n",
    "        nums = [1] + nums + [1] # for boundery conditions.\n",
    "        # we will be calculating for i => 0 to n-1.\n",
    "        # we will be calculaitng for j => 0 to n-1.\n",
    "        dp = [[-1 for _ in range(n+1)] for _ in range(n+1)]\n",
    "\n",
    "        def recur(start, end):\n",
    "            if start > end:\n",
    "                return 0\n",
    "            \n",
    "            if dp[start][end] != -1:\n",
    "                return dp[start][end]\n",
    "            \n",
    "            maxi = float('-inf')\n",
    "            for k in range(start, end+1):\n",
    "                coins = nums[start - 1] * nums[k] * nums[end + 1]\n",
    "                coins += recur(start, k-1) + recur(k+1, end)\n",
    "                maxi = max(maxi, coins)\n",
    "            dp[start][end] =  maxi\n",
    "            return dp[start][end]\n",
    "        return recur(0, n-1)  #since we will be looking at i-1 index.\n",
    "    \n",
    "# tc - O(n * n * n)\n",
    "# sc - O(n * n) "
   ]
  },
  {
   "cell_type": "code",
   "execution_count": 20,
   "id": "008d6b46",
   "metadata": {},
   "outputs": [
    {
     "data": {
      "text/plain": [
       "167"
      ]
     },
     "execution_count": 20,
     "metadata": {},
     "output_type": "execute_result"
    }
   ],
   "source": [
    "Solution().maxCoins(nums = [3,1,5,8])"
   ]
  },
  {
   "cell_type": "code",
   "execution_count": 21,
   "id": "02dcfde3",
   "metadata": {},
   "outputs": [
    {
     "data": {
      "text/plain": [
       "10"
      ]
     },
     "execution_count": 21,
     "metadata": {},
     "output_type": "execute_result"
    }
   ],
   "source": [
    "Solution().maxCoins(nums = [1,5])"
   ]
  },
  {
   "cell_type": "code",
   "execution_count": null,
   "id": "8bea066a",
   "metadata": {},
   "outputs": [],
   "source": [
    "# memorization:\n",
    "# dp[i][j] => max coins you can get from i to j.\n",
    "class Solution:\n",
    "    def maxCoins(self, nums: list[int]) -> int:\n",
    "        n = len(nums)\n",
    "        nums = [1] + nums + [1] # for boundery conditions.\n",
    "        # we will be calculating for i => 0 to n-1.\n",
    "        # we will be calculaitng for j => 0 to n-1.\n",
    "        dp = [[0 for _ in range(n+1)] for _ in range(n+1)]\n",
    "\n",
    "        for i in range(n-1, -1, -1):\n",
    "            for j in range(i, n):\n",
    "                maxi = float('-inf')\n",
    "                for k in range(i, j+1):\n",
    "                    print(i,j,k)\n",
    "                    coins = nums[i - 1] * nums[k] * nums[j + 1]\n",
    "                    coins += dp[i][k-1] + dp[k+1][j]\n",
    "                    maxi = max(maxi, coins)\n",
    "                dp[i][j] = maxi\n",
    "        print(dp)\n",
    "        return dp[0][n-1] # NOTE: this is the numbers you call the plain recursion with.\n",
    "\n",
    "# tc - O(n * n * n)\n",
    "# sc - O(n * n)\n"
   ]
  },
  {
   "cell_type": "code",
   "execution_count": 28,
   "id": "eb927b9b",
   "metadata": {},
   "outputs": [
    {
     "name": "stdout",
     "output_type": "stream",
     "text": [
      "3 3 3\n",
      "2 2 2\n",
      "2 3 2\n",
      "2 3 3\n",
      "1 1 1\n",
      "1 2 1\n",
      "1 2 2\n",
      "1 3 1\n",
      "1 3 2\n",
      "1 3 3\n",
      "0 0 0\n",
      "0 1 0\n",
      "0 1 1\n",
      "0 2 0\n",
      "0 2 1\n",
      "0 2 2\n",
      "0 3 0\n",
      "0 3 1\n",
      "0 3 2\n",
      "0 3 3\n",
      "[[3, 6, 35, 167, 0], [0, 3, 30, 159, 0], [0, 0, 15, 135, 0], [0, 0, 0, 40, 0], [0, 0, 0, 0, 0]]\n"
     ]
    },
    {
     "data": {
      "text/plain": [
       "167"
      ]
     },
     "execution_count": 28,
     "metadata": {},
     "output_type": "execute_result"
    }
   ],
   "source": [
    "Solution().maxCoins(nums = [3,1,5,8])"
   ]
  },
  {
   "cell_type": "code",
   "execution_count": null,
   "id": "76cf1ed3",
   "metadata": {},
   "outputs": [],
   "source": []
  }
 ],
 "metadata": {
  "kernelspec": {
   "display_name": "3.11.11",
   "language": "python",
   "name": "python3"
  },
  "language_info": {
   "codemirror_mode": {
    "name": "ipython",
    "version": 3
   },
   "file_extension": ".py",
   "mimetype": "text/x-python",
   "name": "python",
   "nbconvert_exporter": "python",
   "pygments_lexer": "ipython3",
   "version": "3.11.11"
  }
 },
 "nbformat": 4,
 "nbformat_minor": 5
}
