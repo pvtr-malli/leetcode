{
 "cells": [
  {
   "cell_type": "markdown",
   "id": "234bc6e3",
   "metadata": {},
   "source": [
    "Given an integer n, return the count of all numbers with unique digits, x, where 0 <= x < 10n.\n",
    "\n",
    " \n",
    "\n",
    "Example 1:\n",
    "\n",
    "Input: n = 2\n",
    "Output: 91\n",
    "Explanation: The answer should be the total numbers in the range of 0 ≤ x < 100, excluding 11,22,33,44,55,66,77,88,99\n",
    "Example 2:\n",
    "\n",
    "Input: n = 0\n",
    "Output: 1\n",
    " \n",
    "\n",
    "Constraints:\n",
    "\n",
    "0 <= n <= 8"
   ]
  },
  {
   "cell_type": "code",
   "execution_count": null,
   "id": "2b808c8d",
   "metadata": {},
   "outputs": [],
   "source": [
    "# the math solution makes it easier.\n",
    "# the intutions is to count the numbers with unique digits.\n",
    "# using combination conting:\n",
    "# n = 5 - so 5 didigt will be there.\n",
    "# 1st digit can be 1-9 (9 options)\n",
    "# 2nd digit can be 0-9 but not the first digit (9 options)\n",
    "# 3rd digit can be 0-9 but not the first two digits (8 options)\n",
    "# 4th digit can be 0-9 but not the first three digits (7 options)\n",
    "# 5th digit can be 0-9 but not the first four digits (6 options)\n",
    "# so the total will be 9 * 9 * 8 * 7 * 6 = 27216\n",
    "\n",
    "# this is for n=5 but we need to calculate for n=0 to n=5. and add then together.\n",
    "\n",
    "\n",
    "# but we also need to count the numbers with\n",
    "\n",
    "class Solution:\n",
    "    def countNumbersWithUniqueDigits(self, n: int) -> int:\n",
    "        if n == 0:\n",
    "            return 1\n",
    "        \n",
    "        res = 1  # counting 0\n",
    "        unique_digits = 9\n",
    "        available_digits = 9\n",
    "        for i in range(1, n + 1):\n",
    "            if i == 1:\n",
    "                res += 9\n",
    "            else:\n",
    "                unique_digits *= available_digits\n",
    "                res += unique_digits\n",
    "                available_digits -= 1\n",
    "            if available_digits == 0:\n",
    "                break\n",
    "        return res\n",
    "    \n",
    "# tc - O(n) here n < = 10, so it is O(1)\n",
    "# sc - O(1)\n"
   ]
  },
  {
   "cell_type": "markdown",
   "id": "7d17cf2a",
   "metadata": {},
   "source": [
    "for n = 5:\n",
    "\n",
    "| Step (k) | unique\\_digits (f(k)) | available\\_digits (remaining digits) | Running total (res)    |\n",
    "| -------- | --------------------- | ------------------------------------ | ---------------------- |\n",
    "| 0        | N/A                   | 9                                    | 1 (counting 0)         |\n",
    "| 1        | 9                     | 9                                    | 1 + 9 = 10             |\n",
    "| 2        | 9 \\* 9 = 81           | 8                                    | 10 + 81 = 91           |\n",
    "| 3        | 81 \\* 8 = 648         | 7                                    | 91 + 648 = 739         |\n",
    "| 4        | 648 \\* 7 = 4536       | 6                                    | 739 + 4536 = 5275      |\n",
    "| 5        | 4536 \\* 6 = 27,216    | 5                                    | 5275 + 27,216 = 32,491 |\n"
   ]
  },
  {
   "cell_type": "markdown",
   "id": "f19b87f2",
   "metadata": {},
   "source": [
    "# how to do it using dp:\n"
   ]
  }
 ],
 "metadata": {
  "language_info": {
   "name": "python"
  }
 },
 "nbformat": 4,
 "nbformat_minor": 5
}
