{
 "cells": [
  {
   "cell_type": "markdown",
   "id": "1b976cd1",
   "metadata": {},
   "source": [
    "Given an integer array nums, return the length of the longest strictly increasing subsequence.\n",
    "\n",
    " \n",
    "\n",
    "Example 1:\n",
    "\n",
    "Input: nums = [10,9,2,5,3,7,101,18]\n",
    "Output: 4\n",
    "Explanation: The longest increasing subsequence is [2,3,7,101], therefore the length is 4.\n",
    "Example 2:\n",
    "\n",
    "Input: nums = [0,1,0,3,2,3]\n",
    "Output: 4\n",
    "Example 3:\n",
    "\n",
    "Input: nums = [7,7,7,7,7,7,7]\n",
    "Output: 1\n",
    " \n",
    "\n",
    "Constraints:\n",
    "\n",
    "1 <= nums.length <= 2500\n",
    "-104 <= nums[i] <= 104\n",
    " \n",
    "\n",
    "Follow up: Can you come up with an algorithm that runs in O(n log(n)) time complexity?"
   ]
  },
  {
   "cell_type": "code",
   "execution_count": 15,
   "id": "8c4253ae",
   "metadata": {},
   "outputs": [],
   "source": [
    "# recurssion:\n",
    "class Solution:\n",
    "    def lengthOfLIS(self, nums: list[int]) -> int:\n",
    "        def helper(i, prev_index):\n",
    "            if i == len(nums):\n",
    "                return 0\n",
    "            \n",
    "            # skip\n",
    "            not_take = helper(i + 1, prev_index)\n",
    "            \n",
    "            # take\n",
    "            take = 0\n",
    "            if prev_index == -1 or nums[i] > nums[prev_index]:\n",
    "                take = 1 + helper(i + 1, i)\n",
    "            \n",
    "            return max(take, not_take)\n",
    "        return helper(0, -1)\n",
    "\n",
    "# tc - O(2^n)\n",
    "# sc - O(n) for recursion stack"
   ]
  },
  {
   "cell_type": "code",
   "execution_count": 16,
   "id": "d6dfaf48",
   "metadata": {},
   "outputs": [
    {
     "data": {
      "text/plain": [
       "4"
      ]
     },
     "execution_count": 16,
     "metadata": {},
     "output_type": "execute_result"
    }
   ],
   "source": [
    "Solution().lengthOfLIS(nums = [10,9,2,5,3,7,101,18])"
   ]
  },
  {
   "cell_type": "code",
   "execution_count": null,
   "id": "e2c268c2",
   "metadata": {},
   "outputs": [],
   "source": [
    "# memorization:\n",
    "class Solution:\n",
    "    def lengthOfLIS(self, nums: list[int]) -> int:\n",
    "        dp = [[-1] * (len(nums) + 1) for _ in range(len(nums) + 1)]\n",
    "        def helper(i, prev_index):\n",
    "            if i == len(nums):\n",
    "                return 0\n",
    "            # why prev + 1?\n",
    "            # because prev can be -1, and we need to use it as an index in dp.\n",
    "            # so we add 1 to prev to make it non-negative.\n",
    "            if dp[i][prev_index + 1] != -1:\n",
    "                return dp[i][prev_index + 1]\n",
    "\n",
    "            taken = 0\n",
    "            # when prev_index is -1, we will alllow the first element no matter what.\n",
    "            if prev_index == -1 or nums[i] > nums[prev_index]:\n",
    "                # take it only when it is greater than prev.\n",
    "                # ums = [10,9,2,5,3,7,101,18] here this condition is true for 101 > 10. \n",
    "                # so break the previous chain and start a new one.\n",
    "                # prev_index is the index of the previous element that was taken.\n",
    "                taken = 1 + helper(i + 1, i)\n",
    "\n",
    "            # NOTE when we are not taking the current element, we are not changing the prev_index.\n",
    "            not_taken = helper(i + 1, prev_index)\n",
    "            dp[i][prev_index + 1] = max(taken, not_taken)\n",
    "\n",
    "            return dp[i][prev_index + 1]\n",
    "        return helper(0, -1)\n",
    "\n",
    "# tc - O(2^n)\n",
    "# sc - O(n) for recursion stack"
   ]
  },
  {
   "cell_type": "code",
   "execution_count": 20,
   "id": "b5c41b6e",
   "metadata": {},
   "outputs": [
    {
     "data": {
      "text/plain": [
       "4"
      ]
     },
     "execution_count": 20,
     "metadata": {},
     "output_type": "execute_result"
    }
   ],
   "source": [
    "Solution().lengthOfLIS(nums = [10,9,2,5,3,7,101,18])"
   ]
  },
  {
   "cell_type": "code",
   "execution_count": 31,
   "id": "7bec2006",
   "metadata": {},
   "outputs": [],
   "source": [
    "# tabulation:\n",
    "class Solution:\n",
    "    def lengthOfLIS(self, nums: list[int]) -> int:\n",
    "        n = len(nums)\n",
    "        dp = [[0] * (n + 1) for _ in range(n + 1)]\n",
    "        \n",
    "        # base case : no need its already 0. \n",
    "        for i in range(n-1, -1, -1):\n",
    "            for prev_index in range(i-1, -2, -1):\n",
    "                print(f\"i: {i}, prev_index: {prev_index}\")\n",
    "                taken = 0\n",
    "                if prev_index == -1 or nums[i] > nums[prev_index]:\n",
    "                    taken = 1 + dp[i + 1][i  +1]\n",
    "                \n",
    "                not_taken = dp[i + 1][prev_index + 1]\n",
    "                dp[i][prev_index + 1] = max(taken, not_taken)\n",
    "        print(dp)\n",
    "        return dp[0][0]\n",
    "    \n",
    "# tc - O(n^2)\n",
    "# sc - O(n^2)"
   ]
  },
  {
   "cell_type": "code",
   "execution_count": 32,
   "id": "a3b4ae33",
   "metadata": {},
   "outputs": [
    {
     "name": "stdout",
     "output_type": "stream",
     "text": [
      "i: 7, prev_index: 6\n",
      "i: 7, prev_index: 5\n",
      "i: 7, prev_index: 4\n",
      "i: 7, prev_index: 3\n",
      "i: 7, prev_index: 2\n",
      "i: 7, prev_index: 1\n",
      "i: 7, prev_index: 0\n",
      "i: 7, prev_index: -1\n",
      "i: 6, prev_index: 5\n",
      "i: 6, prev_index: 4\n",
      "i: 6, prev_index: 3\n",
      "i: 6, prev_index: 2\n",
      "i: 6, prev_index: 1\n",
      "i: 6, prev_index: 0\n",
      "i: 6, prev_index: -1\n",
      "i: 5, prev_index: 4\n",
      "i: 5, prev_index: 3\n",
      "i: 5, prev_index: 2\n",
      "i: 5, prev_index: 1\n",
      "i: 5, prev_index: 0\n",
      "i: 5, prev_index: -1\n",
      "i: 4, prev_index: 3\n",
      "i: 4, prev_index: 2\n",
      "i: 4, prev_index: 1\n",
      "i: 4, prev_index: 0\n",
      "i: 4, prev_index: -1\n",
      "i: 3, prev_index: 2\n",
      "i: 3, prev_index: 1\n",
      "i: 3, prev_index: 0\n",
      "i: 3, prev_index: -1\n",
      "i: 2, prev_index: 1\n",
      "i: 2, prev_index: 0\n",
      "i: 2, prev_index: -1\n",
      "i: 1, prev_index: 0\n",
      "i: 1, prev_index: -1\n",
      "i: 0, prev_index: -1\n",
      "[[4, 0, 0, 0, 0, 0, 0, 0, 0], [4, 1, 0, 0, 0, 0, 0, 0, 0], [4, 1, 1, 0, 0, 0, 0, 0, 0], [3, 1, 1, 3, 0, 0, 0, 0, 0], [3, 1, 1, 3, 2, 0, 0, 0, 0], [2, 1, 1, 2, 2, 2, 0, 0, 0], [1, 1, 1, 1, 1, 1, 1, 0, 0], [1, 1, 1, 1, 1, 1, 1, 0, 0], [0, 0, 0, 0, 0, 0, 0, 0, 0]]\n"
     ]
    },
    {
     "data": {
      "text/plain": [
       "4"
      ]
     },
     "execution_count": 32,
     "metadata": {},
     "output_type": "execute_result"
    }
   ],
   "source": [
    "Solution().lengthOfLIS(nums = [10,9,2,5,3,7,101,18])"
   ]
  },
  {
   "cell_type": "code",
   "execution_count": 49,
   "id": "4b1e88ad",
   "metadata": {},
   "outputs": [],
   "source": [
    "# Binary search solution:\n",
    "class Solution:\n",
    "    def lengthOfLIS(self, nums: list[int]) -> int:\n",
    "        increasing_sequence = [nums[0]]\n",
    "        length = 1\n",
    "        for i in range(1, len(nums)):\n",
    "            if nums[i] > increasing_sequence[-1]:\n",
    "                length += 1\n",
    "                increasing_sequence.append(nums[i])\n",
    "            else:\n",
    "                ceil_indx_of_i = self.find_ceil_index(nums[i], increasing_sequence)\n",
    "                print(ceil_indx_of_i)\n",
    "                increasing_sequence[ceil_indx_of_i] = nums[i]\n",
    "            print(increasing_sequence)\n",
    "        return length\n",
    "    def find_ceil_index(self, num, arr):\n",
    "        low, high = 0 , len(arr) - 1\n",
    "        ceil = 0\n",
    "\n",
    "        while low <= high:\n",
    "            mid = (low + high )//2\n",
    "\n",
    "            if arr[mid] == num:\n",
    "                return mid \n",
    "            if arr[mid] > num:\n",
    "                # we are looking for the first true,\n",
    "                ceil = mid\n",
    "                high = mid - 1\n",
    "            else:\n",
    "                low = mid + 1\n",
    "        return ceil\n",
    "    \n",
    "# tc - O(n log n)\n",
    "# sc - O(n)"
   ]
  },
  {
   "cell_type": "code",
   "execution_count": 50,
   "id": "880f0094",
   "metadata": {},
   "outputs": [
    {
     "name": "stdout",
     "output_type": "stream",
     "text": [
      "0\n",
      "[9]\n",
      "0\n",
      "[2]\n",
      "[2, 5]\n",
      "1\n",
      "[2, 3]\n",
      "[2, 3, 7]\n",
      "[2, 3, 7, 101]\n",
      "3\n",
      "[2, 3, 7, 18]\n"
     ]
    },
    {
     "data": {
      "text/plain": [
       "4"
      ]
     },
     "execution_count": 50,
     "metadata": {},
     "output_type": "execute_result"
    }
   ],
   "source": [
    "Solution().lengthOfLIS(nums = [10,9,2,5,3,7,101,18])"
   ]
  },
  {
   "cell_type": "code",
   "execution_count": 51,
   "id": "8f154df3",
   "metadata": {},
   "outputs": [
    {
     "name": "stdout",
     "output_type": "stream",
     "text": [
      "[0, 1]\n",
      "0\n",
      "[0, 1]\n",
      "[0, 1, 3]\n",
      "2\n",
      "[0, 1, 2]\n",
      "[0, 1, 2, 3]\n"
     ]
    },
    {
     "data": {
      "text/plain": [
       "4"
      ]
     },
     "execution_count": 51,
     "metadata": {},
     "output_type": "execute_result"
    }
   ],
   "source": [
    "Solution().lengthOfLIS(nums = [0,1,0,3,2,3])"
   ]
  },
  {
   "cell_type": "code",
   "execution_count": 52,
   "id": "6485fb4f",
   "metadata": {},
   "outputs": [
    {
     "name": "stdout",
     "output_type": "stream",
     "text": [
      "0\n",
      "[7]\n",
      "0\n",
      "[7]\n",
      "0\n",
      "[7]\n",
      "0\n",
      "[7]\n",
      "0\n",
      "[7]\n",
      "0\n",
      "[7]\n"
     ]
    },
    {
     "data": {
      "text/plain": [
       "1"
      ]
     },
     "execution_count": 52,
     "metadata": {},
     "output_type": "execute_result"
    }
   ],
   "source": [
    "Solution().lengthOfLIS(nums = [7,7,7,7,7,7,7])"
   ]
  },
  {
   "cell_type": "code",
   "execution_count": 53,
   "id": "ee1a53f0",
   "metadata": {},
   "outputs": [
    {
     "name": "stdout",
     "output_type": "stream",
     "text": [
      "[4, 10]\n",
      "0\n",
      "[4, 10]\n",
      "0\n",
      "[3, 10]\n",
      "1\n",
      "[3, 8]\n",
      "[3, 8, 9]\n"
     ]
    },
    {
     "data": {
      "text/plain": [
       "3"
      ]
     },
     "execution_count": 53,
     "metadata": {},
     "output_type": "execute_result"
    }
   ],
   "source": [
    "Solution().lengthOfLIS([4,10,4,3,8,9]\n",
    "\n",
    ")"
   ]
  },
  {
   "cell_type": "code",
   "execution_count": null,
   "id": "497b417e",
   "metadata": {},
   "outputs": [],
   "source": [
    "# using a single dp array of len O(n):\n",
    "class Solution:\n",
    "    def lengthOfLIS(self, nums):\n",
    "        n = len(nums)\n",
    "        maxi = 1\n",
    "        dp = [1] * n\n",
    "\n",
    "        for i in range(0,n):\n",
    "            # NOTE: this goes upto i only.\n",
    "            for prev_i in range(0, i):\n",
    "                if nums[i] > nums[prev_i]:\n",
    "                    dp[i] = max(dp[i], 1 + dp[prev_i])\n",
    "                    # NOTE: this can be writtend as: the below is used in the coming questions.\n",
    "                    # if nums[i] > nums[prev_i] and dp[i] < 1 + dp[prev_i]:\n",
    "                    #    dp[i] = 1 + dp[prev_i]\n",
    "            maxi = max(maxi, dp[i])\n",
    "        return maxi"
   ]
  },
  {
   "cell_type": "code",
   "execution_count": null,
   "id": "f00e2a0f",
   "metadata": {},
   "outputs": [],
   "source": [
    "# you can print it."
   ]
  }
 ],
 "metadata": {
  "kernelspec": {
   "display_name": "3.11.11",
   "language": "python",
   "name": "python3"
  },
  "language_info": {
   "codemirror_mode": {
    "name": "ipython",
    "version": 3
   },
   "file_extension": ".py",
   "mimetype": "text/x-python",
   "name": "python",
   "nbconvert_exporter": "python",
   "pygments_lexer": "ipython3",
   "version": "3.11.11"
  }
 },
 "nbformat": 4,
 "nbformat_minor": 5
}
