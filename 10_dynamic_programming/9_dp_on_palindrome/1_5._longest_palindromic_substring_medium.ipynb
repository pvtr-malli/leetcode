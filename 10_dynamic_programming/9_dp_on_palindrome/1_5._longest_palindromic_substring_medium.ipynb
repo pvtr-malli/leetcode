{
 "cells": [
  {
   "cell_type": "markdown",
   "id": "4eb5455c",
   "metadata": {},
   "source": [
    "Given a string s, return the longest palindromic substring in s.\n",
    "\n",
    " \n",
    "\n",
    "Example 1:\n",
    "\n",
    "Input: s = \"babad\"\n",
    "Output: \"bab\"\n",
    "Explanation: \"aba\" is also a valid answer.\n",
    "Example 2:\n",
    "\n",
    "Input: s = \"cbbd\"\n",
    "Output: \"bb\"\n",
    " \n",
    "\n",
    "Constraints:\n",
    "\n",
    "1 <= s.length <= 1000\n",
    "s consist of only digits and English letters."
   ]
  },
  {
   "cell_type": "code",
   "execution_count": null,
   "id": "7b264d88",
   "metadata": {},
   "outputs": [],
   "source": [
    "# there is a expand around center solution for this which tc - O(n ^ 2) and sc - O(1)\n",
    "# DP will have the same tc and extra SC. so dp is not a optimal approach here.\n",
    "# still I am doing it to understand.\n",
    "\n",
    "\n",
    "# dp[i][j] = the substring from i to j is palindrom or not.\n",
    "class Solution:\n",
    "    def longestPalindrome(self, s: str) -> str:\n",
    "        dp = [[True for _ in range(len(s))] for _ in range(len(s))]\n",
    "        maxi = 0\n",
    "        for i in range(len(s)):\n",
    "            for j in range(i, len(s)):\n",
    "                if s[i] == s[j] and (j-i < 3 or dp[i+1][j-1]):\n",
    "                    dp[i][j] = True\n",
    "                    if j-i + 1 > maxi:\n",
    "                        maxi = max(maxi, j-i+1)\n",
    "                        max_str = s[i:j+1]\n",
    "        return  maxi, max_str\n",
    "    \n",
    "# tc - O(n * n)\n",
    "# sc - O(n * n)"
   ]
  },
  {
   "cell_type": "code",
   "execution_count": 8,
   "id": "0d3062e8",
   "metadata": {},
   "outputs": [
    {
     "data": {
      "text/plain": [
       "(3, 'bab')"
      ]
     },
     "execution_count": 8,
     "metadata": {},
     "output_type": "execute_result"
    }
   ],
   "source": [
    "Solution().longestPalindrome(s = \"babad\")"
   ]
  },
  {
   "cell_type": "code",
   "execution_count": 9,
   "id": "696ed231",
   "metadata": {},
   "outputs": [
    {
     "data": {
      "text/plain": [
       "(2, 'bb')"
      ]
     },
     "execution_count": 9,
     "metadata": {},
     "output_type": "execute_result"
    }
   ],
   "source": [
    "Solution().longestPalindrome(s = \"cbbd\")"
   ]
  },
  {
   "cell_type": "code",
   "execution_count": null,
   "id": "e6e6d076",
   "metadata": {},
   "outputs": [],
   "source": []
  }
 ],
 "metadata": {
  "kernelspec": {
   "display_name": "3.11.11",
   "language": "python",
   "name": "python3"
  },
  "language_info": {
   "codemirror_mode": {
    "name": "ipython",
    "version": 3
   },
   "file_extension": ".py",
   "mimetype": "text/x-python",
   "name": "python",
   "nbconvert_exporter": "python",
   "pygments_lexer": "ipython3",
   "version": "3.11.11"
  }
 },
 "nbformat": 4,
 "nbformat_minor": 5
}
