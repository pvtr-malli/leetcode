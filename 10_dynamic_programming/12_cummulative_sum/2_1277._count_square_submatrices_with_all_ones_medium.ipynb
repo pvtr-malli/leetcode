{
 "cells": [
  {
   "cell_type": "markdown",
   "id": "595dbaaa",
   "metadata": {},
   "source": [
    "Given a m * n matrix of ones and zeros, return how many square submatrices have all ones.\n",
    "\n",
    " \n",
    "\n",
    "Example 1:\n",
    "\n",
    "Input: matrix =\n",
    "[\n",
    "  [0,1,1,1],\n",
    "  [1,1,1,1],\n",
    "  [0,1,1,1]\n",
    "]\n",
    "Output: 15\n",
    "Explanation: \n",
    "There are 10 squares of side 1.\n",
    "There are 4 squares of side 2.\n",
    "There is  1 square of side 3.\n",
    "Total number of squares = 10 + 4 + 1 = 15.\n",
    "Example 2:\n",
    "\n",
    "Input: matrix = \n",
    "[\n",
    "  [1,0,1],\n",
    "  [1,1,0],\n",
    "  [1,1,0]\n",
    "]\n",
    "Output: 7\n",
    "Explanation: \n",
    "There are 6 squares of side 1.  \n",
    "There is 1 square of side 2. \n",
    "Total number of squares = 6 + 1 = 7.\n",
    " \n",
    "\n",
    "Constraints:\n",
    "\n",
    "1 <= arr.length <= 300\n",
    "1 <= arr[0].length <= 300\n",
    "0 <= arr[i][j] <= 1"
   ]
  },
  {
   "cell_type": "code",
   "execution_count": null,
   "id": "edd59c4d",
   "metadata": {},
   "outputs": [],
   "source": [
    "# The **recur(i, j) function returns the size of the largest square submatrix that ends at cell (i, j).\n",
    "# To get the total number of squares, you sum recur(i, j) over all i, j because each square contributes 1 for its size, plus all smaller squares inside it.\n",
    "# because when the biggest square is of size 3, it contains 3*3 squares of size 1, 2, and 3.\n",
    "class Solution:\n",
    "    def countSquares(self, matrix: list[list[int]]) -> int:\n",
    "        n, m = len(matrix), len(matrix[0])\n",
    "        \n",
    "        def recur(i, j):\n",
    "            if i < 0 or j < 0:\n",
    "                return 0\n",
    "            \n",
    "            if matrix[i][j] == 0:\n",
    "                return 0\n",
    "            \n",
    "            # The largest square ending at (i, j)\n",
    "            top = recur(i-1, j)\n",
    "            left = recur(i, j-1)\n",
    "            diag = recur(i-1, j-1)\n",
    "            \n",
    "            return 1 + min(top, left, diag)\n",
    "        \n",
    "        total = 0\n",
    "        for i in range(n):\n",
    "            for j in range(m):\n",
    "                ans = recur(i, j)\n",
    "                print(i,j)\n",
    "                print(ans)\n",
    "                print(\"+\" * 20)\n",
    "                total += ans\n",
    "        \n",
    "        return total\n",
    "\n",
    "# tc - O(3 ^ (n + m)) - because we are calling the function recursively for each cell\n",
    "# sc - O(n * m) - for the recursion stack and memoization table"
   ]
  },
  {
   "cell_type": "code",
   "execution_count": 4,
   "id": "b22d2082",
   "metadata": {},
   "outputs": [
    {
     "name": "stdout",
     "output_type": "stream",
     "text": [
      "0 0\n",
      "0\n",
      "++++++++++++++++++++\n",
      "0 1\n",
      "1\n",
      "++++++++++++++++++++\n",
      "0 2\n",
      "1\n",
      "++++++++++++++++++++\n",
      "0 3\n",
      "1\n",
      "++++++++++++++++++++\n",
      "1 0\n",
      "1\n",
      "++++++++++++++++++++\n",
      "1 1\n",
      "1\n",
      "++++++++++++++++++++\n",
      "1 2\n",
      "2\n",
      "++++++++++++++++++++\n",
      "1 3\n",
      "2\n",
      "++++++++++++++++++++\n",
      "2 0\n",
      "0\n",
      "++++++++++++++++++++\n",
      "2 1\n",
      "1\n",
      "++++++++++++++++++++\n",
      "2 2\n",
      "2\n",
      "++++++++++++++++++++\n",
      "2 3\n",
      "3\n",
      "++++++++++++++++++++\n"
     ]
    },
    {
     "data": {
      "text/plain": [
       "15"
      ]
     },
     "execution_count": 4,
     "metadata": {},
     "output_type": "execute_result"
    }
   ],
   "source": [
    "Solution().countSquares(matrix =\n",
    "[\n",
    "  [0,1,1,1],\n",
    "  [1,1,1,1],\n",
    "  [0,1,1,1]\n",
    "])"
   ]
  },
  {
   "cell_type": "code",
   "execution_count": null,
   "id": "679ae150",
   "metadata": {},
   "outputs": [],
   "source": [
    "# The **recur(i, j) function returns the size of the largest square submatrix that ends at cell (i, j).\n",
    "# To get the total number of squares, you sum recur(i, j) over all i, j because each square contributes 1 for its size, plus all smaller squares inside it.\n",
    "# because when the biggest square is of size 3, it contains 3*3 squares of size 1, 2, and 3.\n",
    "class Solution:\n",
    "    def countSquares(self, matrix: list[list[int]]) -> int:\n",
    "        n, m = len(matrix), len(matrix[0])\n",
    "        dp = [[-1] * m for _ in range(n)]\n",
    "        \n",
    "        def recur(i, j):\n",
    "            if i < 0 or j < 0:\n",
    "                return 0\n",
    "            \n",
    "            if matrix[i][j] == 0:\n",
    "                return 0\n",
    "            \n",
    "            if dp[i][j] != -1:\n",
    "                return dp[i][j]\n",
    "            \n",
    "            # The largest square ending at (i, j)\n",
    "            top = recur(i-1, j)\n",
    "            left = recur(i, j-1)\n",
    "            diag = recur(i-1, j-1)\n",
    "            \n",
    "            dp[i][j] =  1 + min(top, left, diag)\n",
    "            return dp[i][j]\n",
    "        \n",
    "        total = 0\n",
    "        for i in range(n):\n",
    "            for j in range(m):\n",
    "                ans = recur(i, j)\n",
    "                print(i,j)\n",
    "                print(ans)\n",
    "                print(\"+\" * 20)\n",
    "                total += ans\n",
    "        \n",
    "        return total\n",
    "# tc - Each cell (i, j) is computed at most once because of memoization.\n",
    "# tc - O(n *m)\n",
    "# sc - O(m * n)"
   ]
  },
  {
   "cell_type": "code",
   "execution_count": null,
   "id": "54ab58a4",
   "metadata": {},
   "outputs": [],
   "source": [
    "# tabulation:\n",
    "# we can run from top to the bottom once and sum all the values in the table.\n",
    "# because the table will be having:\n",
    "# dp[i][j] = The biggest square size that ends at (i, j)\n",
    "# So if we add all the dp values we will get the total number of squares.\n",
    "class Solution:\n",
    "    def countSquares(self, matrix: list[list[int]]) -> int:\n",
    "        if not matrix:\n",
    "            return 0\n",
    "\n",
    "        m, n = len(matrix), len(matrix[0])\n",
    "        dp = [[0] * n for _ in range(m)]\n",
    "        total_squares = 0\n",
    "\n",
    "        for i in range(m): # o to m-1\n",
    "            for j in range(n): # 0 to n-1\n",
    "                if matrix[i][j] == 1:\n",
    "                    if i == 0 or j == 0:\n",
    "                        # if first row or col, and the cell is having 1 value.\n",
    "                        # they that make a 1 sqaure. add them too.\n",
    "                        dp[i][j] = 1  # first row or column\n",
    "                    else:\n",
    "                        dp[i][j] = 1 + min(dp[i-1][j], dp[i][j-1], dp[i-1][j-1])\n",
    "                    total_squares += dp[i][j]\n",
    "        print(dp)\n",
    "        return total_squares\n",
    "    \n",
    "# tc - O(n *m)\n",
    "# sc - O(m * n)\n"
   ]
  },
  {
   "cell_type": "code",
   "execution_count": 7,
   "id": "91560e72",
   "metadata": {},
   "outputs": [
    {
     "name": "stdout",
     "output_type": "stream",
     "text": [
      "[[0, 1, 1, 1], [1, 1, 2, 2], [0, 1, 2, 3]]\n"
     ]
    },
    {
     "data": {
      "text/plain": [
       "15"
      ]
     },
     "execution_count": 7,
     "metadata": {},
     "output_type": "execute_result"
    }
   ],
   "source": [
    "Solution().countSquares(matrix =\n",
    "[\n",
    "  [0,1,1,1],\n",
    "  [1,1,1,1],\n",
    "  [0,1,1,1]\n",
    "])"
   ]
  },
  {
   "cell_type": "code",
   "execution_count": null,
   "id": "abb879ac",
   "metadata": {},
   "outputs": [],
   "source": []
  }
 ],
 "metadata": {
  "kernelspec": {
   "display_name": "3.11.11",
   "language": "python",
   "name": "python3"
  },
  "language_info": {
   "codemirror_mode": {
    "name": "ipython",
    "version": 3
   },
   "file_extension": ".py",
   "mimetype": "text/x-python",
   "name": "python",
   "nbconvert_exporter": "python",
   "pygments_lexer": "ipython3",
   "version": "3.11.11"
  }
 },
 "nbformat": 4,
 "nbformat_minor": 5
}
