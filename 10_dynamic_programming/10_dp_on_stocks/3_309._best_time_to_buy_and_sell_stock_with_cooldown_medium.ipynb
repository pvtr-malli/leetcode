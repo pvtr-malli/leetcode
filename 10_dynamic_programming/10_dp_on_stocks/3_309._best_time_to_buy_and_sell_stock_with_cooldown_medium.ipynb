{
 "cells": [
  {
   "cell_type": "markdown",
   "id": "a0f314a9",
   "metadata": {},
   "source": [
    "You are given an array prices where prices[i] is the price of a given stock on the ith day.\n",
    "\n",
    "Find the maximum profit you can achieve. You may complete as many transactions as you like (i.e., buy one and sell one share of the stock multiple times) with the following restrictions:\n",
    "\n",
    "After you sell your stock, you cannot buy stock on the next day (i.e., cooldown one day).\n",
    "Note: You may not engage in multiple transactions simultaneously (i.e., you must sell the stock before you buy again).\n",
    "\n",
    " \n",
    "\n",
    "Example 1:\n",
    "\n",
    "Input: prices = [1,2,3,0,2]\n",
    "Output: 3\n",
    "Explanation: transactions = [buy, sell, cooldown, buy, sell]\n",
    "Example 2:\n",
    "\n",
    "Input: prices = [1]\n",
    "Output: 0\n",
    " \n",
    "\n",
    "Constraints:\n",
    "\n",
    "1 <= prices.length <= 5000\n",
    "0 <= prices[i] <= 1000"
   ]
  },
  {
   "cell_type": "code",
   "execution_count": null,
   "id": "070ddc8a",
   "metadata": {},
   "outputs": [],
   "source": [
    "class Solution:\n",
    "    def maxProfit(self, prices: list[int]) -> int:\n",
    "        \n",
    "        def dsf(index, buy):\n",
    "            if index == len(prices):\n",
    "                return 0\n",
    "\n",
    "            if buy:\n",
    "                buy_now = -prices[index] + dsf(index + 1, False) # buy now can't buy next\n",
    "                not_buy_now = 0 + dsf(index + 1, True)\n",
    "                return max(buy_now, not_buy_now)\n",
    "            else:\n",
    "                sell_now = prices[index] + dsf(index + 2, True)\n",
    "                not_sell_now = 0 + dsf(index + 1, False)\n",
    "                return max(sell_now, not_sell_now)\n",
    "            \n",
    "        return dsf(0, True)\n",
    "\n",
    "# tc - O(2^n) \n",
    "# sc - O(n) for recursion stack"
   ]
  },
  {
   "cell_type": "code",
   "execution_count": 8,
   "id": "9b66e7b4",
   "metadata": {},
   "outputs": [],
   "source": [
    "# memoization:\n",
    "class Solution:\n",
    "    def maxProfit(self, prices: list[int]) -> int:\n",
    "        dp = [[-1]* 2 for _ in range(len(prices))]\n",
    "\n",
    "        def dsf(index, buy):\n",
    "            if index >= len(prices):\n",
    "                return 0\n",
    "\n",
    "            if dp[index][buy] != -1:\n",
    "                return dp[index][buy]\n",
    "            \n",
    "            if buy:\n",
    "                buy_now = -prices[index] + dsf(index + 1, False) # buy now can't buy next\n",
    "                not_buy_now = 0 + dsf(index + 1, True)\n",
    "                dp[index][buy] =  max(buy_now, not_buy_now)\n",
    "            else:\n",
    "                sell_now = prices[index] + dsf(index + 2, True)\n",
    "                not_sell_now = 0 + dsf(index + 1, False)\n",
    "                dp[index][buy] = max(sell_now, not_sell_now)\n",
    "            \n",
    "            return dp[index][buy]\n",
    "            \n",
    "        return dsf(0, True)\n",
    "\n",
    "# tc - O(n * 2)\n",
    "# sc - O(n)"
   ]
  },
  {
   "cell_type": "code",
   "execution_count": 9,
   "id": "acc0166f",
   "metadata": {},
   "outputs": [
    {
     "data": {
      "text/plain": [
       "3"
      ]
     },
     "execution_count": 9,
     "metadata": {},
     "output_type": "execute_result"
    }
   ],
   "source": [
    "Solution().maxProfit(prices = [1,2,3,0,2])"
   ]
  },
  {
   "cell_type": "code",
   "execution_count": 25,
   "id": "4e95ac52",
   "metadata": {},
   "outputs": [],
   "source": [
    "# tabulation:\n",
    "class Solution:\n",
    "    def maxProfit(self, prices: list[int]) -> int:\n",
    "        n = len(prices)\n",
    "        # it will look at n when i == n - 2:\n",
    "        # so make the array upto n.\n",
    "        dp = [[0]* 2 for _ in range(len(prices) + 2)]\n",
    "\n",
    "        # base case:\n",
    "        # when the last day, you can sell the current one if possible.\n",
    "        dp[n-1][True] = 0 # we can buy now, but no use of buying n the last day.\n",
    "        dp[n-1][False] = prices[n-1] # we can sell now, so profit is prices[n-1].\n",
    "\n",
    "        for index in range(n-2, -1, -1):\n",
    "            for buy in range(0, 2):\n",
    "                print(index, buy)\n",
    "                if buy:\n",
    "                    buy_now = -prices[index] + dp[index + 1][False] # buy now can't buy next\n",
    "                    not_buy_now = 0 + dp[index + 1][True]\n",
    "                    dp[index][buy] =  max(buy_now, not_buy_now)\n",
    "                \n",
    "                else:\n",
    "                    sell_now = prices[index] + dp[index + 2][True]\n",
    "                    not_sell_now = 0 + dp[index + 1][False]\n",
    "                    dp[index][buy] = max(sell_now, not_sell_now)\n",
    "        return dp[0][True]\n",
    "\n",
    "# tc- O(n * 2)\n",
    "# sc - O(n * 2)"
   ]
  },
  {
   "cell_type": "code",
   "execution_count": 26,
   "id": "5fe8034c",
   "metadata": {},
   "outputs": [
    {
     "name": "stdout",
     "output_type": "stream",
     "text": [
      "3 0\n",
      "3 1\n",
      "2 0\n",
      "2 1\n",
      "1 0\n",
      "1 1\n",
      "0 0\n",
      "0 1\n"
     ]
    },
    {
     "data": {
      "text/plain": [
       "3"
      ]
     },
     "execution_count": 26,
     "metadata": {},
     "output_type": "execute_result"
    }
   ],
   "source": [
    "Solution().maxProfit(prices = [1,2,3,0,2])"
   ]
  },
  {
   "cell_type": "code",
   "execution_count": null,
   "id": "83874392",
   "metadata": {},
   "outputs": [],
   "source": []
  }
 ],
 "metadata": {
  "kernelspec": {
   "display_name": "3.11.11",
   "language": "python",
   "name": "python3"
  },
  "language_info": {
   "codemirror_mode": {
    "name": "ipython",
    "version": 3
   },
   "file_extension": ".py",
   "mimetype": "text/x-python",
   "name": "python",
   "nbconvert_exporter": "python",
   "pygments_lexer": "ipython3",
   "version": "3.11.11"
  }
 },
 "nbformat": 4,
 "nbformat_minor": 5
}
