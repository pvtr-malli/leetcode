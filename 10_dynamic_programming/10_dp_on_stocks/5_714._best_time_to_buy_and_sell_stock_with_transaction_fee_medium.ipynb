{
 "cells": [
  {
   "cell_type": "markdown",
   "id": "5b8c9364",
   "metadata": {},
   "source": [
    "    You are given an array prices where prices[i] is the price of a given stock on the ith day, and an integer fee representing a transaction fee.\n",
    "\n",
    "Find the maximum profit you can achieve. You may complete as many transactions as you like, but you need to pay the transaction fee for each transaction.\n",
    "\n",
    "Note:\n",
    "\n",
    "You may not engage in multiple transactions simultaneously (i.e., you must sell the stock before you buy again).\n",
    "The transaction fee is only charged once for each stock purchase and sale.\n",
    " \n",
    "\n",
    "Example 1:\n",
    "\n",
    "Input: prices = [1,3,2,8,4,9], fee = 2\n",
    "Output: 8\n",
    "Explanation: The maximum profit can be achieved by:\n",
    "- Buying at prices[0] = 1\n",
    "- Selling at prices[3] = 8\n",
    "- Buying at prices[4] = 4\n",
    "- Selling at prices[5] = 9\n",
    "The total profit is ((8 - 1) - 2) + ((9 - 4) - 2) = 8.\n",
    "Example 2:\n",
    "\n",
    "Input: prices = [1,3,7,5,10,3], fee = 3\n",
    "Output: 6\n",
    " \n",
    "\n",
    "Constraints:\n",
    "\n",
    "1 <= prices.length <= 5 * 104\n",
    "1 <= prices[i] < 5 * 104\n",
    "0 <= fee < 5 * 104"
   ]
  },
  {
   "cell_type": "code",
   "execution_count": 7,
   "id": "70cc39f2",
   "metadata": {},
   "outputs": [],
   "source": [
    "# tabulation:\n",
    "class Solution:\n",
    "    def maxProfit(self, prices: list[int], fee: int) -> int:\n",
    "        n = len(prices)\n",
    "        # it will look at n when i == n - 2:\n",
    "        # so make the array upto n.\n",
    "        dp = [[0]* 2 for _ in range(len(prices) + 2)]\n",
    "\n",
    "        # base case:\n",
    "        # when the last day, you can sell the current one if possible.\n",
    "        dp[n-1][True] = 0 # we can buy now, but no use of buying in the last day.\n",
    "        dp[n-1][False] = prices[n-1] # we can sell now, so profit is prices[n-1].\n",
    "\n",
    "        for index in range(n-2, -1, -1):\n",
    "            for buy in range(0, 2):\n",
    "                print(index, buy)\n",
    "                if buy:\n",
    "                    buy_now = -prices[index] - fee + dp[index + 1][False] # buy now can't buy next\n",
    "                    not_buy_now = 0 + dp[index + 1][True]\n",
    "                    dp[index][buy] =  max(buy_now, not_buy_now)\n",
    "                \n",
    "                else:\n",
    "                    sell_now = prices[index] + dp[index + 1][True]\n",
    "                    not_sell_now = 0 + dp[index + 1][False]\n",
    "                    dp[index][buy] = max(sell_now, not_sell_now)\n",
    "        return dp[0][True] # we can buy at the start, so return dp[0][True] NOTE\n",
    "\n",
    "# tc- O(n * 2)\n",
    "# sc - O(n * 2)"
   ]
  },
  {
   "cell_type": "code",
   "execution_count": 8,
   "id": "943876ab",
   "metadata": {},
   "outputs": [
    {
     "name": "stdout",
     "output_type": "stream",
     "text": [
      "4 0\n",
      "4 1\n",
      "3 0\n",
      "3 1\n",
      "2 0\n",
      "2 1\n",
      "1 0\n",
      "1 1\n",
      "0 0\n",
      "0 1\n"
     ]
    },
    {
     "data": {
      "text/plain": [
       "8"
      ]
     },
     "execution_count": 8,
     "metadata": {},
     "output_type": "execute_result"
    }
   ],
   "source": [
    "Solution().maxProfit( prices = [1,3,2,8,4,9], fee = 2)"
   ]
  },
  {
   "cell_type": "code",
   "execution_count": null,
   "id": "3cba18fa",
   "metadata": {},
   "outputs": [],
   "source": [
    "# space optimization:\n",
    "class Solution:\n",
    "    def maxProfit(self, prices: list[int], fee: int) -> int:\n",
    "        # Initialize:\n",
    "        # hold: max profit when holding a stock (we bought it)\n",
    "        # cash: max profit when not holding a stock (sold or no stock)\n",
    "        hold = -prices[0]  \n",
    "        cash = 0\n",
    "\n",
    "        for price in prices[1:]:\n",
    "            # If we sell stock today, profit would be hold + price - fee\n",
    "            sell_today = hold + price - fee\n",
    "            # If we skip selling, profit stays as cash\n",
    "            cash = max(cash, sell_today)\n",
    "\n",
    "            # If we buy stock today, profit would be cash - price\n",
    "            buy_today = cash - price\n",
    "            # If we skip buying, profit stays as hold\n",
    "            hold = max(hold, buy_today)\n",
    "\n",
    "        # Final profit is max profit when not holding stock\n",
    "        return cash\n",
    "\n",
    "# tc - O(n)\n",
    "# sc - O(1) - only two variables hold and cash are used."
   ]
  }
 ],
 "metadata": {
  "kernelspec": {
   "display_name": "3.11.11",
   "language": "python",
   "name": "python3"
  },
  "language_info": {
   "codemirror_mode": {
    "name": "ipython",
    "version": 3
   },
   "file_extension": ".py",
   "mimetype": "text/x-python",
   "name": "python",
   "nbconvert_exporter": "python",
   "pygments_lexer": "ipython3",
   "version": "3.11.11"
  }
 },
 "nbformat": 4,
 "nbformat_minor": 5
}
