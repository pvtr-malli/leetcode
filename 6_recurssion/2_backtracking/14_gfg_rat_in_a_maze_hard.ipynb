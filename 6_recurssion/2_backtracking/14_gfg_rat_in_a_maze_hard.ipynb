{
 "cells": [
  {
   "cell_type": "markdown",
   "id": "6dd94d36",
   "metadata": {},
   "source": [
    "Given an n x n binary matrix representing a maze, where 1 means open and 0 means blocked, a rat starts at (0, 0) and needs to reach (n - 1, n - 1).\n",
    "\n",
    "The rat can move up (U), down (D), left (L), and right (R), but:\n",
    "\n",
    "It cannot visit the same cell more than once.\n",
    "It can only move through cells with value 1.\n",
    "Return all possible paths from the source to the destination as strings. If no path exists, return -1.\n",
    "\n",
    "Example:"
   ]
  },
  {
   "cell_type": "code",
   "execution_count": null,
   "id": "a9da9ff3",
   "metadata": {},
   "outputs": [],
   "source": [
    "# Python Program to find all paths for a rat in a maze\n",
    "# from source (0,0) to destination (n-1, n-1)\n",
    "\n",
    "# Initialize a string direction which represents all the directions.\n",
    "direction = \"DLRU\"\n",
    "\n",
    "# Arrays to represent change in rows and columns\n",
    "dr = [1, 0, 0, -1]\n",
    "dc = [0, -1, 1, 0]\n",
    "\n",
    "# Function to check if cell(row, col) is inside the maze and unblocked\n",
    "def isValid(row, col, n, maze):\n",
    "    return 0 <= row < n and 0 <= col < n and maze[row][col] == 1\n",
    "\n",
    "# Function to get all valid paths\n",
    "def findPath(row, col, maze, n, ans, currentPath):\n",
    "    if row == n - 1 and col == n - 1:\n",
    "        ans.append(currentPath)\n",
    "        return\n",
    "\n",
    "    # Mark the current cell as blocked - to mark we have already visited this.\n",
    "    maze[row][col] = 0\n",
    "\n",
    "    for i in range(4):\n",
    "\n",
    "        # Find the next row and column based on the current direction\n",
    "        nextRow = row + dr[i]\n",
    "        nextCol = col + dc[i]\n",
    "\n",
    "        # Check if the next cell is valid or not\n",
    "        if isValid(nextRow, nextCol, n, maze):\n",
    "            currentPath += direction[i]\n",
    "            \n",
    "            # Recursively call the findPath function for the next cell\n",
    "            findPath(nextRow, nextCol, maze, n, ans, currentPath)\n",
    "            \n",
    "            # Remove the last direction when backtracking\n",
    "            currentPath = currentPath[:-1]\n",
    "\n",
    "    # Mark the current cell as unblocked\n",
    "    maze[row][col] = 1\n",
    "\n",
    "# Main function to solve the maze\n",
    "def ratInMaze(maze):\n",
    "    result = []\n",
    "    n = len(maze)\n",
    "    currentPath = \"\"\n",
    "\n",
    "    if maze[0][0] != 0 and maze[n - 1][n - 1] != 0:\n",
    "        \n",
    "        # Function call to get all valid paths\n",
    "        findPath(0, 0, maze, n, result, currentPath)\n",
    "\n",
    "    return result\n",
    "    \n",
    "\n",
    "\n",
    "# tc - O(4 ^ n*n) - because for each cell we are trying all the directions.\n",
    "# sc - O(n * n) [recurssion call]"
   ]
  },
  {
   "cell_type": "code",
   "execution_count": 4,
   "id": "6ec9f5c4",
   "metadata": {},
   "outputs": [
    {
     "name": "stdout",
     "output_type": "stream",
     "text": [
      "DDRDRR DRDDRR\n"
     ]
    }
   ],
   "source": [
    "maze = [\n",
    "    [1, 0, 0, 0],\n",
    "    [1, 1, 0, 1],\n",
    "    [1, 1, 0, 0],\n",
    "    [0, 1, 1, 1]\n",
    "]\n",
    "\n",
    "# Call ratInMaze and get the result\n",
    "result = ratInMaze(maze)\n",
    "\n",
    "# Print result in the main function\n",
    "if not result:\n",
    "    print(-1)\n",
    "else:\n",
    "    print(\" \".join(result))"
   ]
  },
  {
   "cell_type": "code",
   "execution_count": null,
   "id": "557d0b23",
   "metadata": {},
   "outputs": [],
   "source": []
  },
  {
   "cell_type": "code",
   "execution_count": null,
   "id": "8e2c6a01",
   "metadata": {},
   "outputs": [],
   "source": []
  }
 ],
 "metadata": {
  "kernelspec": {
   "display_name": "3.11.11",
   "language": "python",
   "name": "python3"
  },
  "language_info": {
   "codemirror_mode": {
    "name": "ipython",
    "version": 3
   },
   "file_extension": ".py",
   "mimetype": "text/x-python",
   "name": "python",
   "nbconvert_exporter": "python",
   "pygments_lexer": "ipython3",
   "version": "3.11.11"
  }
 },
 "nbformat": 4,
 "nbformat_minor": 5
}
