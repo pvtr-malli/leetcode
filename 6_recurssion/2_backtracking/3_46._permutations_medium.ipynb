{
 "cells": [
  {
   "cell_type": "markdown",
   "id": "fd922bd0",
   "metadata": {},
   "source": [
    "Given an array nums of distinct integers, return all the possible permutations. You can return the answer in any order.\n",
    "\n",
    " \n",
    "\n",
    "Example 1:\n",
    "\n",
    "Input: nums = [1,2,3]\n",
    "Output: [[1,2,3],[1,3,2],[2,1,3],[2,3,1],[3,1,2],[3,2,1]]\n",
    "Example 2:\n",
    "\n",
    "Input: nums = [0,1]\n",
    "Output: [[0,1],[1,0]]\n",
    "Example 3:\n",
    "\n",
    "Input: nums = [1]\n",
    "Output: [[1]]\n",
    " \n",
    "\n",
    "Constraints:\n",
    "\n",
    "1 <= nums.length <= 6\n",
    "-10 <= nums[i] <= 10\n",
    "All the integers of nums are unique."
   ]
  },
  {
   "cell_type": "code",
   "execution_count": 32,
   "id": "38cc050b",
   "metadata": {},
   "outputs": [],
   "source": [
    "class Solution:\n",
    "    def __init__(self):\n",
    "        self.res = []\n",
    "\n",
    "    def permute(self, nums: list[int]) -> list[list[int]]:\n",
    "        self.permute_rec(nums, 0, len(nums))\n",
    "        return self.res\n",
    "    \n",
    "    def permute_rec(self, arr, ind, n):\n",
    "        if ind == n:\n",
    "            self.res.append(arr.copy())\n",
    "            return\n",
    "        \n",
    "        # Swap the current ind with all other index.\n",
    "        for ii in range(ind, n):\n",
    "            # swap the 2 index and call the recurssion.\n",
    "            arr[ind], arr[ii] = arr[ii], arr[ind]\n",
    "            self.permute_rec(arr, ind+1, n)\n",
    "\n",
    "            # swap back - for backtracking.\n",
    "            arr[ind], arr[ii] = arr[ii], arr[ind]\n",
    "        \n",
    "# tc - O(n * n!)  - O(n)[copying] * O(n!) [permutaion]\n",
    "# sc - O(n)[axilory] + O(n!)[output]"
   ]
  },
  {
   "cell_type": "code",
   "execution_count": 33,
   "id": "3090aa78",
   "metadata": {},
   "outputs": [
    {
     "data": {
      "text/plain": [
       "[[1, 2, 3], [1, 3, 2], [2, 1, 3], [2, 3, 1], [3, 2, 1], [3, 1, 2]]"
      ]
     },
     "execution_count": 33,
     "metadata": {},
     "output_type": "execute_result"
    }
   ],
   "source": [
    "Solution().permute([1,2,3])"
   ]
  },
  {
   "cell_type": "code",
   "execution_count": null,
   "id": "9c3ee6c9",
   "metadata": {},
   "outputs": [],
   "source": [
    "## another algo:\n"
   ]
  },
  {
   "cell_type": "markdown",
   "id": "a900dae5",
   "metadata": {},
   "source": [
    "🔁 How It Works:\n",
    "Let’s assume nums = [1, 2, 3]\n",
    "\n",
    "Step-by-step:\n",
    "Start: [[1]]\n",
    "\n",
    "Add 2 → insert into all positions in [1]:\n",
    "→ [[2,1], [1,2]]\n",
    "\n",
    "Add 3 → insert into all positions in each of [2,1] and [1,2]\n",
    "→ [[3,2,1], [2,3,1], [2,1,3], [3,1,2], [1,3,2], [1,2,3]]\n",
    "\n",
    "So, at each step you're inserting cur_num in i+1 places for each existing permutation."
   ]
  },
  {
   "cell_type": "code",
   "execution_count": null,
   "id": "01963a26",
   "metadata": {},
   "outputs": [],
   "source": [
    "class Solution:\n",
    "    def permute(self, nums: list[int]) -> list[list[int]]:\n",
    "        result = [[nums[0]]]\n",
    "\n",
    "        for i in range(1, len(nums)):\n",
    "            tmp = []\n",
    "            cur_num = nums[i]\n",
    "\n",
    "            for prev in result:\n",
    "                for j in range(len(prev)+1):\n",
    "                    tmp.append(prev[:j] + [cur_num] + prev[j:])\n",
    "\n",
    "            result = tmp\n",
    "        \n",
    "        return result"
   ]
  }
 ],
 "metadata": {
  "kernelspec": {
   "display_name": "3.11.11",
   "language": "python",
   "name": "python3"
  },
  "language_info": {
   "codemirror_mode": {
    "name": "ipython",
    "version": 3
   },
   "file_extension": ".py",
   "mimetype": "text/x-python",
   "name": "python",
   "nbconvert_exporter": "python",
   "pygments_lexer": "ipython3",
   "version": "3.11.11"
  }
 },
 "nbformat": 4,
 "nbformat_minor": 5
}
