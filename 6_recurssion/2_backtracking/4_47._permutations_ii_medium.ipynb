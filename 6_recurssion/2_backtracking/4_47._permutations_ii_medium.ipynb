{
 "cells": [
  {
   "cell_type": "markdown",
   "id": "0b3525d0",
   "metadata": {},
   "source": [
    "Given a collection of numbers, nums, that might contain duplicates, return all possible unique permutations in any order.\n",
    "\n",
    " \n",
    "\n",
    "Example 1:\n",
    "\n",
    "Input: nums = [1,1,2]\n",
    "Output:\n",
    "[[1,1,2],\n",
    " [1,2,1],\n",
    " [2,1,1]]\n",
    "Example 2:\n",
    "\n",
    "Input: nums = [1,2,3]\n",
    "Output: [[1,2,3],[1,3,2],[2,1,3],[2,3,1],[3,1,2],[3,2,1]]\n",
    " \n",
    "\n",
    "Constraints:\n",
    "\n",
    "1 <= nums.length <= 8\n",
    "-10 <= nums[i] <= 10"
   ]
  },
  {
   "cell_type": "code",
   "execution_count": null,
   "id": "0452698f",
   "metadata": {},
   "outputs": [],
   "source": [
    "class Solution:\n",
    "    def __init__(self):\n",
    "        self.res = []\n",
    "\n",
    "    def permuteUnique(self, nums: list[int]) -> list[list[int]]:\n",
    "        nums.sort()  # it is not mentioned to be in sorted order.\n",
    "        self.permuteUnique_rec(nums, 0, len(nums))\n",
    "        return self.res\n",
    "    \n",
    "    def permuteUnique_rec(self, arr, ind, n):\n",
    "        if ind == n:\n",
    "            self.res.append(arr.copy())\n",
    "            return\n",
    "        \n",
    "        # Swap the current ind with all other index.\n",
    "        for ii in range(ind, n):\n",
    "            if ii != ind and arr[ii] == arr[ii - 1]:\n",
    "                continue\n",
    "\n",
    "            # swap the 2 index and call the recurssion.\n",
    "            arr[ind], arr[ii] = arr[ii], arr[ind]\n",
    "            self.permuteUnique_rec(arr, ind+1, n)\n",
    "\n",
    "            # swap back - for backtracking.\n",
    "            arr[ind], arr[ii] = arr[ii], arr[ind]\n",
    "\n",
    "\n",
    "# in worst case no duplicates:\n",
    "#    \n",
    "# tc:\n",
    "# - The recurssive call is - O(n!).  -- the total permutations.\n",
    "# - The copy of each array to end res take - O(n)\n",
    "# -  sorting - O(n log n)\n",
    "# - total - O(n * n!) + O(n log n) = O(n * n!)\n",
    "\n",
    "# sc:\n",
    "# - axilory - O(n)\n",
    "# - output - O(n * 2^n)"
   ]
  },
  {
   "cell_type": "code",
   "execution_count": 3,
   "id": "c8563e4b",
   "metadata": {},
   "outputs": [
    {
     "data": {
      "text/plain": [
       "[[1, 1, 2], [1, 2, 1], [2, 1, 1]]"
      ]
     },
     "execution_count": 3,
     "metadata": {},
     "output_type": "execute_result"
    }
   ],
   "source": [
    "Solution().permuteUnique([1,1,2])"
   ]
  },
  {
   "cell_type": "markdown",
   "id": "0cab2fae",
   "metadata": {},
   "source": [
    "## this will fail to find the dupliocate index, because after swapping the duplicate index not be next to each otehr."
   ]
  },
  {
   "cell_type": "code",
   "execution_count": 4,
   "id": "74952c03",
   "metadata": {},
   "outputs": [],
   "source": [
    "class Solution:\n",
    "    def __init__(self):\n",
    "        self.res = []\n",
    "\n",
    "    def permuteUnique(self, nums: list[int]) -> list[list[int]]:\n",
    "        nums.sort()\n",
    "        self.permuteUnique_rec(nums, 0, len(nums))\n",
    "        return self.res\n",
    "\n",
    "    def permuteUnique_rec(self, arr, ind, n):\n",
    "        if ind == n:\n",
    "            self.res.append(arr.copy())\n",
    "            return\n",
    "\n",
    "        used = set()  # 🔁 track what has already been used at this index\n",
    "\n",
    "        for ii in range(ind, n):\n",
    "            if arr[ii] in used:\n",
    "                continue  # skip duplicates\n",
    "\n",
    "            used.add(arr[ii])  # mark as used at this level\n",
    "\n",
    "            arr[ind], arr[ii] = arr[ii], arr[ind]\n",
    "            self.permuteUnique_rec(arr, ind + 1, n)\n",
    "            arr[ind], arr[ii] = arr[ii], arr[ind]  # backtrack\n",
    "\n",
    "# | Metric              | Complexity                     |\n",
    "# | ------------------- | ------------------------------ |\n",
    "# | **Time**            | `O(n logn ) + O(n × k)` (worst `O(n × n!)`) |\n",
    "# | **Auxiliary Space** | `O(n)` (recursion + set)       |\n",
    "# | **Output Space**    | `O(n × k)` (worst `O(n × n!)`) |\n"
   ]
  },
  {
   "cell_type": "code",
   "execution_count": 5,
   "id": "3660ae1b",
   "metadata": {},
   "outputs": [
    {
     "data": {
      "text/plain": [
       "[[1, 1, 2], [1, 2, 1], [2, 1, 1]]"
      ]
     },
     "execution_count": 5,
     "metadata": {},
     "output_type": "execute_result"
    }
   ],
   "source": [
    "Solution().permuteUnique([1,1,2])"
   ]
  },
  {
   "cell_type": "code",
   "execution_count": null,
   "id": "690f5ca8",
   "metadata": {},
   "outputs": [],
   "source": []
  }
 ],
 "metadata": {
  "kernelspec": {
   "display_name": "3.11.11",
   "language": "python",
   "name": "python3"
  },
  "language_info": {
   "codemirror_mode": {
    "name": "ipython",
    "version": 3
   },
   "file_extension": ".py",
   "mimetype": "text/x-python",
   "name": "python",
   "nbconvert_exporter": "python",
   "pygments_lexer": "ipython3",
   "version": "3.11.11"
  }
 },
 "nbformat": 4,
 "nbformat_minor": 5
}
