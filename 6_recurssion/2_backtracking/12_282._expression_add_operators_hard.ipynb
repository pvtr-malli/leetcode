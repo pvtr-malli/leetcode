{
 "cells": [
  {
   "cell_type": "markdown",
   "id": "1ccc2922",
   "metadata": {},
   "source": [
    "Given a string num that contains only digits and an integer target, return all possibilities to insert the binary operators '+', '-', and/or '*' between the digits of num so that the resultant expression evaluates to the target value.\n",
    "\n",
    "Note that operands in the returned expressions should not contain leading zeros.\n",
    "\n",
    " \n",
    "\n",
    "Example 1:\n",
    "\n",
    "Input: num = \"123\", target = 6\n",
    "Output: [\"1*2*3\",\"1+2+3\"]\n",
    "Explanation: Both \"1*2*3\" and \"1+2+3\" evaluate to 6.\n",
    "Example 2:\n",
    "\n",
    "Input: num = \"232\", target = 8\n",
    "Output: [\"2*3+2\",\"2+3*2\"]\n",
    "Explanation: Both \"2*3+2\" and \"2+3*2\" evaluate to 8.\n",
    "Example 3:\n",
    "\n",
    "Input: num = \"3456237490\", target = 9191\n",
    "Output: []\n",
    "Explanation: There are no expressions that can be created from \"3456237490\" to evaluate to 9191.\n",
    " \n",
    "\n",
    "Constraints:\n",
    "\n",
    "1 <= num.length <= 10\n",
    "num consists of only digits.\n",
    "-231 <= target <= 231 - 1"
   ]
  },
  {
   "cell_type": "code",
   "execution_count": 32,
   "id": "9d92af73",
   "metadata": {},
   "outputs": [],
   "source": [
    "class Solution:\n",
    "    def __init__(self):\n",
    "        self.res: list[str] = []\n",
    "\n",
    "    def addOperators(self, num: str, target: int) -> list[str]:\n",
    "        self.addOperators_rec(num, 1, target, int(num[0]), num[0], len(num))\n",
    "        return self.res \n",
    "\n",
    "    def addOperators_rec(self, num, ind, target, cur_val, cur_exp, n):\n",
    "        # return logic.\n",
    "        if ind == n:\n",
    "            if cur_val == target:\n",
    "                self.res.append(cur_exp)\n",
    "            return\n",
    "            \n",
    "        # Gonna do the + operation.\n",
    "        last_digit = int(num[ind])\n",
    "        cur_val += last_digit\n",
    "        self.addOperators_rec(num, ind+1, target, cur_val, cur_exp +\"+\"+str(last_digit), n)\n",
    "        cur_val -= last_digit\n",
    "        \n",
    "        # Gonna do the - operation.\n",
    "        cur_val -= last_digit\n",
    "        self.addOperators_rec(num, ind+1, target, cur_val, cur_exp+\"-\"+str(last_digit), n)\n",
    "        cur_val += last_digit\n",
    "        \n",
    "        # Gonna do the * operation.\n",
    "        cur_val *= last_digit\n",
    "        self.addOperators_rec(num, ind+1, target, cur_val, cur_exp+\"*\"+str(last_digit), n)\n",
    "        cur_val //= last_digit\n",
    "        "
   ]
  },
  {
   "cell_type": "code",
   "execution_count": 33,
   "id": "3969da76",
   "metadata": {},
   "outputs": [
    {
     "data": {
      "text/plain": [
       "['1+2+3', '1*2*3']"
      ]
     },
     "execution_count": 33,
     "metadata": {},
     "output_type": "execute_result"
    }
   ],
   "source": [
    "Solution().addOperators(num = \"123\", target = 6)"
   ]
  },
  {
   "cell_type": "code",
   "execution_count": 34,
   "id": "3814487c",
   "metadata": {},
   "outputs": [
    {
     "data": {
      "text/plain": [
       "['2*3+2']"
      ]
     },
     "execution_count": 34,
     "metadata": {},
     "output_type": "execute_result"
    }
   ],
   "source": [
    "Solution().addOperators(num = \"232\", target = 8)"
   ]
  },
  {
   "cell_type": "code",
   "execution_count": 35,
   "id": "3a647c7a",
   "metadata": {},
   "outputs": [
    {
     "ename": "ZeroDivisionError",
     "evalue": "integer division or modulo by zero",
     "output_type": "error",
     "traceback": [
      "\u001b[31m---------------------------------------------------------------------------\u001b[39m",
      "\u001b[31mZeroDivisionError\u001b[39m                         Traceback (most recent call last)",
      "\u001b[36mCell\u001b[39m\u001b[36m \u001b[39m\u001b[32mIn[35]\u001b[39m\u001b[32m, line 1\u001b[39m\n\u001b[32m----> \u001b[39m\u001b[32m1\u001b[39m \u001b[43mSolution\u001b[49m\u001b[43m(\u001b[49m\u001b[43m)\u001b[49m\u001b[43m.\u001b[49m\u001b[43maddOperators\u001b[49m\u001b[43m(\u001b[49m\u001b[43mnum\u001b[49m\u001b[43m \u001b[49m\u001b[43m=\u001b[49m\u001b[43m \u001b[49m\u001b[33;43m\"\u001b[39;49m\u001b[33;43m3456237490\u001b[39;49m\u001b[33;43m\"\u001b[39;49m\u001b[43m,\u001b[49m\u001b[43m \u001b[49m\u001b[43mtarget\u001b[49m\u001b[43m \u001b[49m\u001b[43m=\u001b[49m\u001b[43m \u001b[49m\u001b[32;43m9191\u001b[39;49m\u001b[43m)\u001b[49m\n",
      "\u001b[36mCell\u001b[39m\u001b[36m \u001b[39m\u001b[32mIn[32]\u001b[39m\u001b[32m, line 6\u001b[39m, in \u001b[36mSolution.addOperators\u001b[39m\u001b[34m(self, num, target)\u001b[39m\n\u001b[32m      5\u001b[39m \u001b[38;5;28;01mdef\u001b[39;00m\u001b[38;5;250m \u001b[39m\u001b[34maddOperators\u001b[39m(\u001b[38;5;28mself\u001b[39m, num: \u001b[38;5;28mstr\u001b[39m, target: \u001b[38;5;28mint\u001b[39m) -> \u001b[38;5;28mlist\u001b[39m[\u001b[38;5;28mstr\u001b[39m]:\n\u001b[32m----> \u001b[39m\u001b[32m6\u001b[39m     \u001b[38;5;28;43mself\u001b[39;49m\u001b[43m.\u001b[49m\u001b[43maddOperators_rec\u001b[49m\u001b[43m(\u001b[49m\u001b[43mnum\u001b[49m\u001b[43m,\u001b[49m\u001b[43m \u001b[49m\u001b[32;43m1\u001b[39;49m\u001b[43m,\u001b[49m\u001b[43m \u001b[49m\u001b[43mtarget\u001b[49m\u001b[43m,\u001b[49m\u001b[43m \u001b[49m\u001b[38;5;28;43mint\u001b[39;49m\u001b[43m(\u001b[49m\u001b[43mnum\u001b[49m\u001b[43m[\u001b[49m\u001b[32;43m0\u001b[39;49m\u001b[43m]\u001b[49m\u001b[43m)\u001b[49m\u001b[43m,\u001b[49m\u001b[43m \u001b[49m\u001b[43mnum\u001b[49m\u001b[43m[\u001b[49m\u001b[32;43m0\u001b[39;49m\u001b[43m]\u001b[49m\u001b[43m,\u001b[49m\u001b[43m \u001b[49m\u001b[38;5;28;43mlen\u001b[39;49m\u001b[43m(\u001b[49m\u001b[43mnum\u001b[49m\u001b[43m)\u001b[49m\u001b[43m)\u001b[49m\n\u001b[32m      7\u001b[39m     \u001b[38;5;28;01mreturn\u001b[39;00m \u001b[38;5;28mself\u001b[39m.res\n",
      "\u001b[36mCell\u001b[39m\u001b[36m \u001b[39m\u001b[32mIn[32]\u001b[39m\u001b[32m, line 19\u001b[39m, in \u001b[36mSolution.addOperators_rec\u001b[39m\u001b[34m(self, num, ind, target, cur_val, cur_exp, n)\u001b[39m\n\u001b[32m     17\u001b[39m last_digit = \u001b[38;5;28mint\u001b[39m(num[ind])\n\u001b[32m     18\u001b[39m cur_val += last_digit\n\u001b[32m---> \u001b[39m\u001b[32m19\u001b[39m \u001b[38;5;28;43mself\u001b[39;49m\u001b[43m.\u001b[49m\u001b[43maddOperators_rec\u001b[49m\u001b[43m(\u001b[49m\u001b[43mnum\u001b[49m\u001b[43m,\u001b[49m\u001b[43m \u001b[49m\u001b[43mind\u001b[49m\u001b[43m+\u001b[49m\u001b[32;43m1\u001b[39;49m\u001b[43m,\u001b[49m\u001b[43m \u001b[49m\u001b[43mtarget\u001b[49m\u001b[43m,\u001b[49m\u001b[43m \u001b[49m\u001b[43mcur_val\u001b[49m\u001b[43m,\u001b[49m\u001b[43m \u001b[49m\u001b[43mcur_exp\u001b[49m\u001b[43m \u001b[49m\u001b[43m+\u001b[49m\u001b[33;43m\"\u001b[39;49m\u001b[33;43m+\u001b[39;49m\u001b[33;43m\"\u001b[39;49m\u001b[43m+\u001b[49m\u001b[38;5;28;43mstr\u001b[39;49m\u001b[43m(\u001b[49m\u001b[43mlast_digit\u001b[49m\u001b[43m)\u001b[49m\u001b[43m,\u001b[49m\u001b[43m \u001b[49m\u001b[43mn\u001b[49m\u001b[43m)\u001b[49m\n\u001b[32m     20\u001b[39m cur_val -= last_digit\n\u001b[32m     22\u001b[39m \u001b[38;5;66;03m# Gonna do the - operation.\u001b[39;00m\n",
      "\u001b[36mCell\u001b[39m\u001b[36m \u001b[39m\u001b[32mIn[32]\u001b[39m\u001b[32m, line 19\u001b[39m, in \u001b[36mSolution.addOperators_rec\u001b[39m\u001b[34m(self, num, ind, target, cur_val, cur_exp, n)\u001b[39m\n\u001b[32m     17\u001b[39m last_digit = \u001b[38;5;28mint\u001b[39m(num[ind])\n\u001b[32m     18\u001b[39m cur_val += last_digit\n\u001b[32m---> \u001b[39m\u001b[32m19\u001b[39m \u001b[38;5;28;43mself\u001b[39;49m\u001b[43m.\u001b[49m\u001b[43maddOperators_rec\u001b[49m\u001b[43m(\u001b[49m\u001b[43mnum\u001b[49m\u001b[43m,\u001b[49m\u001b[43m \u001b[49m\u001b[43mind\u001b[49m\u001b[43m+\u001b[49m\u001b[32;43m1\u001b[39;49m\u001b[43m,\u001b[49m\u001b[43m \u001b[49m\u001b[43mtarget\u001b[49m\u001b[43m,\u001b[49m\u001b[43m \u001b[49m\u001b[43mcur_val\u001b[49m\u001b[43m,\u001b[49m\u001b[43m \u001b[49m\u001b[43mcur_exp\u001b[49m\u001b[43m \u001b[49m\u001b[43m+\u001b[49m\u001b[33;43m\"\u001b[39;49m\u001b[33;43m+\u001b[39;49m\u001b[33;43m\"\u001b[39;49m\u001b[43m+\u001b[49m\u001b[38;5;28;43mstr\u001b[39;49m\u001b[43m(\u001b[49m\u001b[43mlast_digit\u001b[49m\u001b[43m)\u001b[49m\u001b[43m,\u001b[49m\u001b[43m \u001b[49m\u001b[43mn\u001b[49m\u001b[43m)\u001b[49m\n\u001b[32m     20\u001b[39m cur_val -= last_digit\n\u001b[32m     22\u001b[39m \u001b[38;5;66;03m# Gonna do the - operation.\u001b[39;00m\n",
      "    \u001b[31m[... skipping similar frames: Solution.addOperators_rec at line 19 (5 times)]\u001b[39m\n",
      "\u001b[36mCell\u001b[39m\u001b[36m \u001b[39m\u001b[32mIn[32]\u001b[39m\u001b[32m, line 19\u001b[39m, in \u001b[36mSolution.addOperators_rec\u001b[39m\u001b[34m(self, num, ind, target, cur_val, cur_exp, n)\u001b[39m\n\u001b[32m     17\u001b[39m last_digit = \u001b[38;5;28mint\u001b[39m(num[ind])\n\u001b[32m     18\u001b[39m cur_val += last_digit\n\u001b[32m---> \u001b[39m\u001b[32m19\u001b[39m \u001b[38;5;28;43mself\u001b[39;49m\u001b[43m.\u001b[49m\u001b[43maddOperators_rec\u001b[49m\u001b[43m(\u001b[49m\u001b[43mnum\u001b[49m\u001b[43m,\u001b[49m\u001b[43m \u001b[49m\u001b[43mind\u001b[49m\u001b[43m+\u001b[49m\u001b[32;43m1\u001b[39;49m\u001b[43m,\u001b[49m\u001b[43m \u001b[49m\u001b[43mtarget\u001b[49m\u001b[43m,\u001b[49m\u001b[43m \u001b[49m\u001b[43mcur_val\u001b[49m\u001b[43m,\u001b[49m\u001b[43m \u001b[49m\u001b[43mcur_exp\u001b[49m\u001b[43m \u001b[49m\u001b[43m+\u001b[49m\u001b[33;43m\"\u001b[39;49m\u001b[33;43m+\u001b[39;49m\u001b[33;43m\"\u001b[39;49m\u001b[43m+\u001b[49m\u001b[38;5;28;43mstr\u001b[39;49m\u001b[43m(\u001b[49m\u001b[43mlast_digit\u001b[49m\u001b[43m)\u001b[49m\u001b[43m,\u001b[49m\u001b[43m \u001b[49m\u001b[43mn\u001b[49m\u001b[43m)\u001b[49m\n\u001b[32m     20\u001b[39m cur_val -= last_digit\n\u001b[32m     22\u001b[39m \u001b[38;5;66;03m# Gonna do the - operation.\u001b[39;00m\n",
      "\u001b[36mCell\u001b[39m\u001b[36m \u001b[39m\u001b[32mIn[32]\u001b[39m\u001b[32m, line 30\u001b[39m, in \u001b[36mSolution.addOperators_rec\u001b[39m\u001b[34m(self, num, ind, target, cur_val, cur_exp, n)\u001b[39m\n\u001b[32m     28\u001b[39m cur_val *= last_digit\n\u001b[32m     29\u001b[39m \u001b[38;5;28mself\u001b[39m.addOperators_rec(num, ind+\u001b[32m1\u001b[39m, target, cur_val, cur_exp+\u001b[33m\"\u001b[39m\u001b[33m*\u001b[39m\u001b[33m\"\u001b[39m+\u001b[38;5;28mstr\u001b[39m(last_digit), n)\n\u001b[32m---> \u001b[39m\u001b[32m30\u001b[39m \u001b[43mcur_val\u001b[49m\u001b[43m \u001b[49m\u001b[43m/\u001b[49m\u001b[43m/\u001b[49m\u001b[43m=\u001b[49m\u001b[43m \u001b[49m\u001b[43mlast_digit\u001b[49m\n",
      "\u001b[31mZeroDivisionError\u001b[39m: integer division or modulo by zero"
     ]
    }
   ],
   "source": [
    "Solution().addOperators(num = \"3456237490\", target = 9191)"
   ]
  },
  {
   "cell_type": "markdown",
   "id": "4589e968",
   "metadata": {},
   "source": [
    "# problems with the above approach:\n",
    "- we are considering only one digit at a time, but we can take any number of digits.\n",
    "- if first digit is zero - do nothing.\n",
    "- if multiplication, you have to do it according to precedence -- 2+3*2 == 2 + (3*2) -- we cant do this is in our logic."
   ]
  },
  {
   "cell_type": "code",
   "execution_count": null,
   "id": "6d0f4403",
   "metadata": {},
   "outputs": [],
   "source": [
    "class Solution:\n",
    "    def addOperators(self, num: str, target: int) -> list[str]:\n",
    "        res = []\n",
    "\n",
    "        def backtrack(index, prev_operand, cur_val, expr):\n",
    "            if index == len(num):\n",
    "                if cur_val == target:\n",
    "                    res.append(expr)\n",
    "                return\n",
    "\n",
    "            for i in range(index, len(num)):\n",
    "                # Skip numbers with leading 0\n",
    "                if i != index and num[index] == '0':\n",
    "                    break\n",
    "\n",
    "                curr_str = num[index:i+1]\n",
    "                curr_num = int(curr_str)\n",
    "\n",
    "                if index == 0:\n",
    "                    # First number, no operator\n",
    "                    backtrack(i+1, curr_num, curr_num, curr_str)\n",
    "                else:\n",
    "                    backtrack(i+1, curr_num, cur_val + curr_num, expr + \"+\" + curr_str)\n",
    "                    backtrack(i+1, -curr_num, cur_val - curr_num, expr + \"-\" + curr_str)\n",
    "                    # For '*', use prev_operand to handle precedence.\n",
    "                    # we have to specially handle the mulitplication to make the, precedence work.\n",
    "                    backtrack(i+1, prev_operand * curr_num,\n",
    "                              cur_val - prev_operand + (prev_operand * curr_num),\n",
    "                              expr + \"*\" + curr_str)\n",
    "\n",
    "        backtrack(0, 0, 0, \"\")\n",
    "        return res\n"
   ]
  },
  {
   "cell_type": "markdown",
   "id": "357680ef",
   "metadata": {},
   "source": [
    "\n",
    "\n",
    "Expression so far: \"2+3\"\n",
    "\n",
    "cur_val = 5\n",
    "prev_operand = 3\n",
    "curr = 2\n",
    "\n",
    "Fix it:\n",
    "new_val = cur_val - prev_operand + (prev_operand * curr)\n",
    "        = 5 - 3 + (3 * 2)\n",
    "        = 2 + 6\n",
    "        = 8 ✅\n"
   ]
  },
  {
   "cell_type": "markdown",
   "id": "07a9e916",
   "metadata": {},
   "source": [
    "\n",
    "\n",
    "## ✅ Time Complexity: **O(4ⁿ)**\n",
    "\n",
    "Where:\n",
    "\n",
    "* `n = len(num)`\n",
    "\n",
    "### Why O(4ⁿ)?\n",
    "\n",
    "For each position between digits (there are `n-1` such positions), we have up to **3 operator choices**: `'+'`, `'-'`, or `'*'`.\n",
    "Additionally, we can also choose to **not split** digits — for example, `\"123\"` → we can treat it as:\n",
    "\n",
    "* `\"1+2+3\"`\n",
    "* `\"12+3\"`\n",
    "* `\"1+23\"`\n",
    "* `\"123\"`\n",
    "\n",
    "So at each step, we have:\n",
    "\n",
    "* 1 choice to **extend** the current operand\n",
    "* 3 choices to **insert an operator** (if we split)\n",
    "\n",
    "Hence, total combinations can go up to `4^n` in the worst case (though not all are valid).\n",
    "\n",
    "---\n",
    "\n",
    "## 🧠 Example (n = 4):\n",
    "\n",
    "For `num = \"1234\"`, you could have expressions like:\n",
    "\n",
    "* `\"1+2+3+4\"`\n",
    "* `\"12-3*4\"`\n",
    "* `\"1*23-4\"`\n",
    "* and so on...\n",
    "\n",
    "---\n",
    "\n",
    "## ✅ Space Complexity: **O(n)**\n",
    "\n",
    "* We use **recursion**, and the recursion depth is at most `n` (one call per digit).\n",
    "* Expression strings are built along the way — each string can be at most `2n-1` in length (`n` digits + `n-1` operators), so it's **linear**.\n",
    "\n",
    "If we count all valid expressions in the result list, then:\n",
    "\n",
    "* Worst case result list could contain **up to O(4ⁿ)** strings → in practice, it's much fewer due to invalid paths and pruning.\n",
    "\n",
    "---\n",
    "\n",
    "## 🧾 Summary\n",
    "\n",
    "| Complexity         | Value       | Explanation                                |\n",
    "| ------------------ | ----------- | ------------------------------------------ |\n",
    "| Time               | O(4ⁿ)       | Try every split + 3 ops (`+`, `-`, `*`)    |\n",
    "| Space (call stack) | O(n)        | Max recursion depth                        |\n",
    "| Space (results)    | O(4ⁿ) worst | All valid expressions (pruned in practice) |\n"
   ]
  },
  {
   "cell_type": "markdown",
   "id": "9c034b38",
   "metadata": {},
   "source": []
  }
 ],
 "metadata": {
  "kernelspec": {
   "display_name": "3.11.11",
   "language": "python",
   "name": "python3"
  },
  "language_info": {
   "codemirror_mode": {
    "name": "ipython",
    "version": 3
   },
   "file_extension": ".py",
   "mimetype": "text/x-python",
   "name": "python",
   "nbconvert_exporter": "python",
   "pygments_lexer": "ipython3",
   "version": "3.11.11"
  }
 },
 "nbformat": 4,
 "nbformat_minor": 5
}
