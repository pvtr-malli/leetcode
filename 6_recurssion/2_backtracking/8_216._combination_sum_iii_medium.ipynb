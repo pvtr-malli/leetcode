{
 "cells": [
  {
   "cell_type": "markdown",
   "id": "4194faab",
   "metadata": {},
   "source": [
    "Find all valid combinations of k numbers that sum up to n such that the following conditions are true:\n",
    "\n",
    "Only numbers 1 through 9 are used.\n",
    "Each number is used at most once.\n",
    "Return a list of all possible valid combinations. The list must not contain the same combination twice, and the combinations may be returned in any order.\n",
    "\n",
    " \n",
    "\n",
    "Example 1:\n",
    "\n",
    "Input: k = 3, n = 7\n",
    "Output: [[1,2,4]]\n",
    "Explanation:\n",
    "1 + 2 + 4 = 7\n",
    "There are no other valid combinations.\n",
    "Example 2:\n",
    "\n",
    "Input: k = 3, n = 9\n",
    "Output: [[1,2,6],[1,3,5],[2,3,4]]\n",
    "Explanation:\n",
    "1 + 2 + 6 = 9\n",
    "1 + 3 + 5 = 9\n",
    "2 + 3 + 4 = 9\n",
    "There are no other valid combinations.\n",
    "Example 3:\n",
    "\n",
    "Input: k = 4, n = 1\n",
    "Output: []\n",
    "Explanation: There are no valid combinations.\n",
    "Using 4 different numbers in the range [1,9], the smallest sum we can get is 1+2+3+4 = 10 and since 10 > 1, there are no valid combination.\n",
    " \n",
    "\n",
    "Constraints:\n",
    "\n",
    "2 <= k <= 9\n",
    "1 <= n <= 60"
   ]
  },
  {
   "cell_type": "code",
   "execution_count": null,
   "id": "e15bd2a8",
   "metadata": {},
   "outputs": [],
   "source": [
    "class Solution:\n",
    "    def __init__(self):\n",
    "        self.res = []\n",
    "\n",
    "    def combinationSum3(self, k: int, n: int) -> list[list[int]]:\n",
    "        self.combinationSum3_rec([], k, n, 1)\n",
    "        return self.res\n",
    "    \n",
    "    def combinationSum3_rec(self, cur_arr, k, target, start_ind):\n",
    "        if len(cur_arr) == k:\n",
    "            # we collected k elements.\n",
    "            if target == 0:\n",
    "                self.res.append(cur_arr.copy())\n",
    "            return\n",
    "\n",
    "        for ii in range(start_ind, 10):\n",
    "            if ii <= target:\n",
    "                cur_arr.append(ii)\n",
    "                self.combinationSum3_rec(cur_arr, k, target-ii, ii + 1)\n",
    "                cur_arr.pop()\n",
    "\n",
    "# tc:\n",
    "# - * At each level of recursion, you try adding numbers from `start_ind` to `9`.\n",
    "# - The maximum depth of recursion is `k` (since we want exactly `k` numbers).\n",
    "# -  You loop over `1..9`, but since you're only picking combinations without repetition, this is similar to generating all `k`-length combinations from 9 unique numbers.\n",
    "# recurssion call - nCk\n",
    "# copy - O(k)\n",
    "# tc - O(n * nCk)\n",
    "\n",
    "# sc:\n",
    "# - Recursive stack: Max depth is k → O(k)\n",
    "# - Current list (cur_arr): Also uses O(k)\n",
    "# - Output list (self.res):\n",
    "# - Number of results: ≤ C(9, k)\n",
    "# - Each result of length k\n",
    "\n",
    "# - sc - O(k * C(9, k))"
   ]
  },
  {
   "cell_type": "markdown",
   "id": "86c86bf0",
   "metadata": {},
   "source": [
    "Great job with this backtracking solution for **LeetCode 216: Combination Sum III**!\n",
    "Let’s analyze the **time and space complexity** of your code precisely.\n",
    "\n",
    "---\n",
    "\n",
    "### ✅ Problem Summary:\n",
    "\n",
    "You are to find all unique combinations of `k` numbers from `1 to 9` that sum up to `n`. Each number is used **at most once**.\n",
    "\n",
    "---\n",
    "\n",
    "## ⏱ **Time Complexity – O(2⁹) or O(C(9, k))**\n",
    "\n",
    "### Here's why:\n",
    "\n",
    "* At each level of recursion, you try adding numbers from `start_ind` to `9`.\n",
    "* The maximum depth of recursion is `k` (since we want exactly `k` numbers).\n",
    "* You loop over `1..9`, but since you're only picking combinations without repetition, this is similar to generating all `k`-length combinations from 9 unique numbers.\n",
    "\n",
    "Thus, you're generating:\n",
    "\n",
    "$$\n",
    "\\binom{9}{k}\n",
    "$$\n",
    "\n",
    "combinations — **this is the total number of valid paths** (combinations of size `k` from 9 numbers).\n",
    "\n",
    "🔍 For each combination:\n",
    "\n",
    "* You spend up to `O(k)` time (for building and copying the list).\n",
    "\n",
    "### So, final:\n",
    "\n",
    "$$\n",
    "\\text{Time Complexity} = O\\left(k \\cdot \\binom{9}{k}\\right)\n",
    "$$\n",
    "\n",
    "This is very manageable since `k ≤ 9`.\n",
    "\n",
    "---\n"
   ]
  },
  {
   "cell_type": "code",
   "execution_count": 11,
   "id": "4654f635",
   "metadata": {},
   "outputs": [
    {
     "data": {
      "text/plain": [
       "[[1, 2, 4]]"
      ]
     },
     "execution_count": 11,
     "metadata": {},
     "output_type": "execute_result"
    }
   ],
   "source": [
    "Solution().combinationSum3(k = 3, n = 7)"
   ]
  },
  {
   "cell_type": "code",
   "execution_count": 10,
   "id": "ab790274",
   "metadata": {},
   "outputs": [
    {
     "data": {
      "text/plain": [
       "[[1, 2, 6], [1, 3, 5], [2, 3, 4]]"
      ]
     },
     "execution_count": 10,
     "metadata": {},
     "output_type": "execute_result"
    }
   ],
   "source": [
    "Solution().combinationSum3(k = 3, n = 9)"
   ]
  },
  {
   "cell_type": "code",
   "execution_count": 12,
   "id": "f3b0742a",
   "metadata": {},
   "outputs": [
    {
     "data": {
      "text/plain": [
       "[]"
      ]
     },
     "execution_count": 12,
     "metadata": {},
     "output_type": "execute_result"
    }
   ],
   "source": [
    "Solution().combinationSum3(k = 4, n = 1)"
   ]
  },
  {
   "cell_type": "code",
   "execution_count": null,
   "id": "1bb14cc7",
   "metadata": {},
   "outputs": [],
   "source": []
  }
 ],
 "metadata": {
  "kernelspec": {
   "display_name": "3.11.11",
   "language": "python",
   "name": "python3"
  },
  "language_info": {
   "codemirror_mode": {
    "name": "ipython",
    "version": 3
   },
   "file_extension": ".py",
   "mimetype": "text/x-python",
   "name": "python",
   "nbconvert_exporter": "python",
   "pygments_lexer": "ipython3",
   "version": "3.11.11"
  }
 },
 "nbformat": 4,
 "nbformat_minor": 5
}
