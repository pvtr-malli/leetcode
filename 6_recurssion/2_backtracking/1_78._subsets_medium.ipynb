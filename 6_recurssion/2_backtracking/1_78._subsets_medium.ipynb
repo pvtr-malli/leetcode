{
 "cells": [
  {
   "cell_type": "markdown",
   "metadata": {},
   "source": [
    "Given an integer array nums of unique elements, return all possible \n",
    "subsets\n",
    " (the power set).\n",
    "\n",
    "The solution set must not contain duplicate subsets. Return the solution in any order.\n",
    "\n",
    " \n",
    "\n",
    "Example 1:\n",
    "\n",
    "Input: nums = [1,2,3]\n",
    "Output: [[],[1],[2],[1,2],[3],[1,3],[2,3],[1,2,3]]\n",
    "Example 2:\n",
    "\n",
    "Input: nums = [0]\n",
    "Output: [[],[0]]"
   ]
  },
  {
   "cell_type": "code",
   "execution_count": null,
   "metadata": {},
   "outputs": [],
   "source": [
    "class Solution:\n",
    "    def __init__(self):\n",
    "        self.result = []\n",
    "    def subsets(self, nums):\n",
    "        def subset_rec(arr, i, subset, length):\n",
    "            if i == length:\n",
    "                self.result.append(subset.copy())\n",
    "                return\n",
    "            # pick the current index value\n",
    "            subset.append(arr[i])\n",
    "            subset_rec(arr, i+1, subset, length)\n",
    "            subset.remove(arr[i]) # you much revome adding otherwise it will change the next results.\n",
    "\n",
    "            # not pick the current index value\n",
    "            subset_rec(arr, i+1, subset, length)\n",
    "\n",
    "        subset_rec(nums, 0, [], len(nums))\n",
    "        return self.result\n",
    "    \n",
    "\n",
    "# tc:\n",
    "# - The recurssive call is - O(2 ^ n).  -- the total subsets.\n",
    "# - The copy of each array to end res take - O(n)\n",
    "# - total - O(n * 2^n)\n",
    "\n",
    "# sc:\n",
    "# - axilory - O(n)\n",
    "# - output - O(n * 2^n)\n"
   ]
  },
  {
   "cell_type": "code",
   "execution_count": 2,
   "metadata": {},
   "outputs": [
    {
     "data": {
      "text/plain": [
       "[[1, 2, 3], [1, 2], [1, 3], [1], [2, 3], [2], [3], []]"
      ]
     },
     "execution_count": 2,
     "metadata": {},
     "output_type": "execute_result"
    }
   ],
   "source": [
    "Solution().subsets([1,2,3])"
   ]
  },
  {
   "cell_type": "code",
   "execution_count": null,
   "metadata": {},
   "outputs": [],
   "source": [
    "# pick and not-pick only: reverse only work. \n",
    "\n",
    "class Solution:\n",
    "    def __init__(self):\n",
    "        self.result = []\n",
    "    def subsets(self, nums):\n",
    "        def subset_rec(arr, i, subset, length):\n",
    "            if i == length:\n",
    "                self.result.append(subset.copy())\n",
    "                return\n",
    "            # not pick the current index value\n",
    "            subset_rec(arr, i+1, subset, length)\n",
    "\n",
    "            # pick the current index value\n",
    "            subset.append(arr[i])\n",
    "            subset_rec(arr, i+1, subset, length)\n",
    "            # subset.remove(arr[i]) # you much revome adding otherwise it will change the next results.\n",
    "\n",
    "            \n",
    "        subset_rec(nums, 0, [], len(nums))\n",
    "        return self.result"
   ]
  },
  {
   "cell_type": "code",
   "execution_count": 4,
   "metadata": {},
   "outputs": [
    {
     "data": {
      "text/plain": [
       "[[],\n",
       " [3],\n",
       " [3, 2],\n",
       " [3, 2, 3],\n",
       " [3, 2, 3, 1],\n",
       " [3, 2, 3, 1, 3],\n",
       " [3, 2, 3, 1, 3, 2],\n",
       " [3, 2, 3, 1, 3, 2, 3]]"
      ]
     },
     "execution_count": 4,
     "metadata": {},
     "output_type": "execute_result"
    }
   ],
   "source": [
    "Solution().subsets([1,2,3])"
   ]
  },
  {
   "cell_type": "code",
   "execution_count": null,
   "metadata": {},
   "outputs": [],
   "source": []
  }
 ],
 "metadata": {
  "kernelspec": {
   "display_name": "3.11.11",
   "language": "python",
   "name": "python3"
  },
  "language_info": {
   "codemirror_mode": {
    "name": "ipython",
    "version": 3
   },
   "file_extension": ".py",
   "mimetype": "text/x-python",
   "name": "python",
   "nbconvert_exporter": "python",
   "pygments_lexer": "ipython3",
   "version": "3.11.11"
  }
 },
 "nbformat": 4,
 "nbformat_minor": 2
}
