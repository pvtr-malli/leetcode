{
 "cells": [
  {
   "cell_type": "markdown",
   "id": "af90e3f7",
   "metadata": {},
   "source": [
    "Given a collection of candidate numbers (candidates) and a target number (target), find all unique combinations in candidates where the candidate numbers sum to target.\n",
    "\n",
    "Each number in candidates may only be used once in the combination.\n",
    "\n",
    "Note: The solution set must not contain duplicate combinations.\n",
    "\n",
    " \n",
    "\n",
    "Example 1:\n",
    "\n",
    "Input: candidates = [10,1,2,7,6,1,5], target = 8\n",
    "Output: \n",
    "[\n",
    "[1,1,6],\n",
    "[1,2,5],\n",
    "[1,7],\n",
    "[2,6]\n",
    "]\n",
    "Example 2:\n",
    "\n",
    "Input: candidates = [2,5,2,1,2], target = 5\n",
    "Output: \n",
    "[\n",
    "[1,2,2],\n",
    "[5]\n",
    "]\n",
    " \n",
    "\n",
    "Constraints:\n",
    "\n",
    "1 <= candidates.length <= 100\n",
    "1 <= candidates[i] <= 50\n",
    "1 <= target <= 30"
   ]
  },
  {
   "cell_type": "code",
   "execution_count": 20,
   "id": "0ebb1586",
   "metadata": {},
   "outputs": [],
   "source": [
    "class Solution:\n",
    "    def __init__(self):\n",
    "        self.res = []\n",
    "\n",
    "    def combinationSum2(self, candidates: list[int], target: int) -> list[list[int]]:\n",
    "        candidates.sort()\n",
    "        self.combinationSum2_rec(candidates, target, [], 0, len(candidates))\n",
    "        return self.res \n",
    "    \n",
    "    def combinationSum2_rec(self, arr: list[int], target: int, cur_arr: list[int], ind: int, n: int):\n",
    "        #. We want to stop when the list ind outof range.\n",
    "        if ind == n:\n",
    "            return \n",
    "        \n",
    "        # we wanna dtop when we got the target sum also.\n",
    "        if target == 0:\n",
    "            self.res.append(cur_arr.copy())\n",
    "            return\n",
    "        \n",
    "        for ii in range(ind, n):\n",
    "            # If the previous value is same, then reject it.\n",
    "            if ii != ind and (arr[ii] == arr[ii - 1]):\n",
    "                continue\n",
    "\n",
    "            if arr[ii] <= target:\n",
    "                cur_arr.append(arr[ii])\n",
    "                self.combinationSum2_rec(arr, target - arr[ii], cur_arr, ii+1, n)\n",
    "                cur_arr.pop()  # this is a constant time operation.\n",
    "\n",
    "\n",
    "\n"
   ]
  },
  {
   "cell_type": "code",
   "execution_count": 22,
   "id": "4d34d18d",
   "metadata": {},
   "outputs": [
    {
     "data": {
      "text/plain": [
       "[[1, 2, 2]]"
      ]
     },
     "execution_count": 22,
     "metadata": {},
     "output_type": "execute_result"
    }
   ],
   "source": [
    "Solution().combinationSum2(candidates = [2,5,2,1,2], target = 5) #. [[1, 2, 2]] -- failing for this ... "
   ]
  },
  {
   "cell_type": "code",
   "execution_count": null,
   "id": "ba854efa",
   "metadata": {},
   "outputs": [],
   "source": [
    "# Fix:\n",
    "\n",
    "\n",
    "class Solution:\n",
    "    def __init__(self):\n",
    "        self.res = []\n",
    "\n",
    "    def combinationSum2(self, candidates: list[int], target: int) -> list[list[int]]:\n",
    "        candidates.sort()\n",
    "        self.combinationSum2_rec(candidates, target, [], 0, len(candidates))\n",
    "        return self.res \n",
    "    \n",
    "    def combinationSum2_rec(self, arr: list[int], target: int, cur_arr: list[int], ind: int, n: int):\n",
    "        # we wanna dtop when we got the target sum also.\n",
    "        # This condition has to come before the return, becase if hte last index has the ans,\n",
    "        # we are not taking it.\n",
    "        if target == 0:\n",
    "            self.res.append(cur_arr.copy())\n",
    "            return\n",
    "        \n",
    "        #. We want to stop when the list ind outof range.\n",
    "        if ind == n:\n",
    "            return \n",
    "        \n",
    "        for ii in range(ind, n):\n",
    "            # If the previous value is same, then reject it.\n",
    "            if ii != ind and (arr[ii] == arr[ii - 1]):\n",
    "                continue\n",
    "\n",
    "            if arr[ii] > target:\n",
    "                break  # No point going further — array is sorted\n",
    "\n",
    "            cur_arr.append(arr[ii])\n",
    "            self.combinationSum2_rec(arr, target - arr[ii], cur_arr, ii+1, n)\n",
    "            cur_arr.pop()  # this is a constant time operation.\n",
    "\n",
    "# tc:\n",
    "# - sorting - O(n log n)\n",
    "# - copy - O(n)\n",
    "# - recurssion - O(2 ^ n)\n",
    "\n",
    "# sc:\n",
    "# - axilory - O(n)\n",
    "# - output - O(2^n)\n",
    "\n"
   ]
  },
  {
   "cell_type": "code",
   "execution_count": 24,
   "id": "01eb8cfe",
   "metadata": {},
   "outputs": [
    {
     "data": {
      "text/plain": [
       "[[1, 1, 6], [1, 2, 5], [1, 7], [2, 6]]"
      ]
     },
     "execution_count": 24,
     "metadata": {},
     "output_type": "execute_result"
    }
   ],
   "source": [
    "Solution().combinationSum2(candidates = [10,1,2,7,6,1,5], target = 8)"
   ]
  },
  {
   "cell_type": "code",
   "execution_count": 25,
   "id": "274e905b",
   "metadata": {},
   "outputs": [
    {
     "data": {
      "text/plain": [
       "[[1, 2, 2], [5]]"
      ]
     },
     "execution_count": 25,
     "metadata": {},
     "output_type": "execute_result"
    }
   ],
   "source": [
    "Solution().combinationSum2(candidates = [2,5,2,1,2], target = 5)"
   ]
  },
  {
   "cell_type": "markdown",
   "id": "901abe1f",
   "metadata": {},
   "source": [
    "\n",
    "### 🧠 **Total Combinations (Theoretical Upper Bound):**\n",
    "\n",
    "$$\n",
    "\\text{Total combinations} \\approx 2^n\n",
    "$$\n",
    "\n",
    "This is the size of the **power set** of the input array.\n",
    "\n",
    "---\n",
    "\n",
    "### ⚠️ But wait — not all branches are explored:\n",
    "\n",
    "* You **sort** the array and **break early** if `arr[ii] > target` → pruning large parts of the tree.\n",
    "* You **skip duplicates** with `if ii != ind and arr[ii] == arr[ii - 1]` → avoids redoing the same work.\n",
    "\n",
    "So in practice, the time is **much less** than `2^n`.\n",
    "\n",
    "But in the **worst case** (say, all elements are 1s, target is large, or all unique elements that can contribute to many valid combinations), the recursion can still explore almost all branches.\n",
    "\n",
    "---\n",
    "\n",
    "### 🧪 Example worst case:\n",
    "\n",
    "```python\n",
    "candidates = [1, 1, 1, 1, 1, 1, 1, 1, 1, 1]\n",
    "target = 10\n",
    "```\n",
    "\n",
    "→ You can form the target in **many ways**.\n",
    "→ The recursion explores almost **every possible subset**.\n",
    "\n",
    "---\n",
    "\n",
    "### ✅ Summary:\n",
    "\n",
    "* **Worst-case time complexity:** `O(2^n)` (like subset generation)\n",
    "* **Best/average-case:** Much less due to sorting, pruning, and skipping duplicates\n",
    "\n",
    "Let me know if you'd like to **visualize this recursion tree** for a small input!\n"
   ]
  },
  {
   "cell_type": "code",
   "execution_count": null,
   "id": "a5c922c9",
   "metadata": {},
   "outputs": [],
   "source": []
  }
 ],
 "metadata": {
  "kernelspec": {
   "display_name": "3.11.11",
   "language": "python",
   "name": "python3"
  },
  "language_info": {
   "codemirror_mode": {
    "name": "ipython",
    "version": 3
   },
   "file_extension": ".py",
   "mimetype": "text/x-python",
   "name": "python",
   "nbconvert_exporter": "python",
   "pygments_lexer": "ipython3",
   "version": "3.11.11"
  }
 },
 "nbformat": 4,
 "nbformat_minor": 5
}
