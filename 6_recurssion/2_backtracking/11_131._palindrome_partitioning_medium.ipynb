{
 "cells": [
  {
   "cell_type": "markdown",
   "id": "e4316abc",
   "metadata": {},
   "source": [
    "Given a string s, partition s such that every substring of the partition is a palindrome. Return all possible palindrome partitioning of s.\n",
    "\n",
    " \n",
    "\n",
    "Example 1:\n",
    "\n",
    "Input: s = \"aab\"\n",
    "Output: [[\"a\",\"a\",\"b\"],[\"aa\",\"b\"]]\n",
    "Example 2:\n",
    "\n",
    "Input: s = \"a\"\n",
    "Output: [[\"a\"]]\n",
    " \n",
    "\n",
    "Constraints:\n",
    "\n",
    "1 <= s.length <= 16\n",
    "s contains only lowercase English letters."
   ]
  },
  {
   "cell_type": "code",
   "execution_count": null,
   "id": "715e8e8a",
   "metadata": {},
   "outputs": [],
   "source": [
    "class Solution:\n",
    "    def __init__(self):\n",
    "        self.res = []\n",
    "\n",
    "    def partition(self, s: str) -> list[list[str]]:\n",
    "        self.partition_rec(s, 0, [], len(s))\n",
    "        return self.res\n",
    "\n",
    "    def is_palindrome(self, sub: str) -> bool:\n",
    "            return sub == sub[::-1]\n",
    "    \n",
    "    def partition_rec(self, s, start_ind, cur_arr, n):\n",
    "        if start_ind == n:\n",
    "            self.res.append(cur_arr.copy())\n",
    "            return\n",
    "        \n",
    "        # consider all values method.\n",
    "        # you are gonna take values upto 0 th index, 1st index, ... upto ith index.\n",
    "        # if the current partition is palidrome.\n",
    "        # add them to the curr_arr. and call the recurssion.\n",
    "        for end in range(start_ind, n):\n",
    "            if self.is_palindrome(s[start_ind: end + 1]):\n",
    "                cur_arr.append(s[start_ind: end+1])\n",
    "                self.partition_rec(s, end + 1, cur_arr, n)\n",
    "                cur_arr.pop()\n",
    "\n",
    "# tc:\n",
    "# - recurssion: O(2 ^ n)\n",
    "# - palindrom check - O(n)\n",
    "# - arr copy - O(n)\n",
    "# tc - O(n * 2^n)[palindrom check] + O(n * 2 ^ n)[arr copy] = O(n * 2 ^ n)\n",
    "\n",
    "# sc:\n",
    "# - axilory - O(n)\n",
    "# - output - O(2 ^ n) # number of substrings \n",
    "# - cur_arr - can take max O(n)\n",
    "# sc - O(n * 2^n)"
   ]
  },
  {
   "cell_type": "code",
   "execution_count": 4,
   "id": "74e35fb0",
   "metadata": {},
   "outputs": [
    {
     "data": {
      "text/plain": [
       "[['a', 'a', 'b'], ['aa', 'b']]"
      ]
     },
     "execution_count": 4,
     "metadata": {},
     "output_type": "execute_result"
    }
   ],
   "source": [
    "Solution().partition(s = \"aab\")"
   ]
  },
  {
   "cell_type": "code",
   "execution_count": null,
   "id": "f039ea95",
   "metadata": {},
   "outputs": [],
   "source": []
  }
 ],
 "metadata": {
  "kernelspec": {
   "display_name": "3.11.11",
   "language": "python",
   "name": "python3"
  },
  "language_info": {
   "codemirror_mode": {
    "name": "ipython",
    "version": 3
   },
   "file_extension": ".py",
   "mimetype": "text/x-python",
   "name": "python",
   "nbconvert_exporter": "python",
   "pygments_lexer": "ipython3",
   "version": "3.11.11"
  }
 },
 "nbformat": 4,
 "nbformat_minor": 5
}
