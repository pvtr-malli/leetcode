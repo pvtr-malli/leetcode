{
 "cells": [
  {
   "cell_type": "markdown",
   "id": "87e0b1df",
   "metadata": {},
   "source": [
    "Given two integers n and k, return all possible combinations of k numbers chosen from the range [1, n].\n",
    "\n",
    "You may return the answer in any order.\n",
    "\n",
    " \n",
    "\n",
    "Example 1:\n",
    "\n",
    "Input: n = 4, k = 2\n",
    "Output: [[1,2],[1,3],[1,4],[2,3],[2,4],[3,4]]\n",
    "Explanation: There are 4 choose 2 = 6 total combinations.\n",
    "Note that combinations are unordered, i.e., [1,2] and [2,1] are considered to be the same combination.\n",
    "Example 2:\n",
    "\n",
    "Input: n = 1, k = 1\n",
    "Output: [[1]]\n",
    "Explanation: There is 1 choose 1 = 1 total combination.\n",
    " \n",
    "\n",
    "Constraints:\n",
    "\n",
    "1 <= n <= 20\n",
    "1 <= k <= n"
   ]
  },
  {
   "cell_type": "code",
   "execution_count": 9,
   "id": "a6bffe0e",
   "metadata": {},
   "outputs": [],
   "source": [
    "# consider all values method:\n",
    "# [[1,2],[1,3],[1,4], -- for 1 starting add other things.\n",
    "# [2,3],[2,4],\n",
    "# [3,4]]\n",
    "\n",
    "class Solution:\n",
    "    def __init__(self):\n",
    "        self.res = []\n",
    "\n",
    "    def combine(self, n: int, k: int) -> list[list[int]]:\n",
    "        self.combine_rec(n, k, [], 1)  # index starts from 1. and the values are 1 - n\n",
    "        return self.res \n",
    "    \n",
    "    def combine_rec(self, n, k, cur_arr, curr_start):\n",
    "        if len(cur_arr) == k:\n",
    "            self.res.append(cur_arr.copy())\n",
    "            return\n",
    "        \n",
    "        for ii in range(curr_start, n + 1):\n",
    "            cur_arr.append(ii)\n",
    "            self.combine_rec(n,k, cur_arr, ii + 1)\n",
    "            cur_arr.remove(ii)\n",
    "\n",
    "\n",
    "# tc:\n",
    "# - for copying list - O(k)\n",
    "# - for combinations - O(nCr)\n",
    "# - tc - O(k * nCr) \n",
    "# nCr = n! / r! (n-r)!\n",
    "\n",
    "# sc:\n",
    "# - axilory - O(n)\n",
    "# - output - O(nCr)\n",
    "# - tc - O(k * nCr) "
   ]
  },
  {
   "cell_type": "code",
   "execution_count": 10,
   "id": "a9a74903",
   "metadata": {},
   "outputs": [
    {
     "data": {
      "text/plain": [
       "[[1, 2], [1, 3], [1, 4], [2, 3], [2, 4], [3, 4]]"
      ]
     },
     "execution_count": 10,
     "metadata": {},
     "output_type": "execute_result"
    }
   ],
   "source": [
    "Solution().combine(n=4, k=2)"
   ]
  }
 ],
 "metadata": {
  "kernelspec": {
   "display_name": "3.11.11",
   "language": "python",
   "name": "python3"
  },
  "language_info": {
   "codemirror_mode": {
    "name": "ipython",
    "version": 3
   },
   "file_extension": ".py",
   "mimetype": "text/x-python",
   "name": "python",
   "nbconvert_exporter": "python",
   "pygments_lexer": "ipython3",
   "version": "3.11.11"
  }
 },
 "nbformat": 4,
 "nbformat_minor": 5
}
