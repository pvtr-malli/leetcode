{
 "cells": [
  {
   "cell_type": "markdown",
   "id": "0609e79d",
   "metadata": {},
   "source": [
    "You are given an undirected graph consisting of V vertices and E edges represented by a list edges[][], along with an integer m. Your task is to determine whether it is possible to color the graph using at most m different colors such that no two adjacent vertices share the same color. Return true if the graph can be colored with at most m colors, otherwise return false.\n",
    "\n",
    "Note: The graph is indexed with 0-based indexing.\n",
    "\n",
    "Examples:\n",
    "\n",
    "Input: V = 4, edges[][] = [[0, 1], [1, 3], [2, 3], [3, 0], [0, 2]], m = 3\n",
    "Output: true\n",
    "Explanation: It is possible to color the given graph using 3 colors, for example, one of the possible ways vertices can be colored as follows:\n",
    "\n",
    "Vertex 0: Color 1\n",
    "Vertex 1: Color 2\n",
    "Vertex 2: Color 2\n",
    "Vertex 3: Color 3\n",
    "Input: V = 3, edges[][] = [[0, 1], [1, 2], [0, 2]], m = 2\n",
    "Output: false\n",
    "Explanation: It is not possible to color the given graph using only 2 colors because vertices 0, 1, and 2 form a triangle.\n",
    "Constraints:\n",
    "1 ≤ V ≤ 10\n",
    "1 ≤ E = edges.size() ≤ (V*(V-1))/2\n",
    "0 ≤ edges[i][j] ≤ V-1\n",
    "1 ≤ m ≤ V"
   ]
  },
  {
   "cell_type": "code",
   "execution_count": 2,
   "id": "aa366ac1",
   "metadata": {},
   "outputs": [],
   "source": [
    "class Solution:\n",
    "    def graphColoring(self, v, edges, m):\n",
    "        # Step 1: Create adjacency list.\n",
    "        adj = [[] for _ in range(v)]\n",
    "        for u, vtx in edges:\n",
    "            adj[u].append(vtx)\n",
    "            adj[vtx].append(u)\n",
    "        print(adj)\n",
    "\n",
    "        # Step 2: Color array\n",
    "        node_color = [0] * v  # 0 means uncolored\n",
    "\n",
    "        # Step 3: Helper function to check if it's safe to color\n",
    "        def isSafe(node_ind, c):\n",
    "            for neighbor in adj[node_ind]:\n",
    "                if node_color[neighbor] == c:\n",
    "                    return False\n",
    "            return True\n",
    "        \n",
    "        def dfs(node_ind):\n",
    "            if node_ind == v:\n",
    "                # if we can to this point placing all the color means , return True.\n",
    "                return True\n",
    "            \n",
    "            for color in range(1, m+1):\n",
    "                if isSafe(node_ind, color):\n",
    "                    node_color[node_ind] = color\n",
    "                    if dfs(node_ind + 1):\n",
    "                        return True \n",
    "                    node_color[node_ind] = 0  # backtracking.\n",
    "            return False\n",
    "\n",
    "        return dfs(0)\n",
    "\n",
    "\n",
    "# tc - O(m ^ n)  -- trying all m colores from n nodes.\n",
    "# sc - O(n) [color array] + O(n) [auxilory] = O(n)"
   ]
  },
  {
   "cell_type": "code",
   "execution_count": 4,
   "id": "2ddf31fa",
   "metadata": {},
   "outputs": [
    {
     "name": "stdout",
     "output_type": "stream",
     "text": [
      "[[1, 3, 2], [0, 3], [3, 0], [1, 2, 0]]\n"
     ]
    },
    {
     "data": {
      "text/plain": [
       "True"
      ]
     },
     "execution_count": 4,
     "metadata": {},
     "output_type": "execute_result"
    }
   ],
   "source": [
    "Solution().graphColoring(v= 4, edges= [[0, 1], [1, 3], [2, 3], [3, 0], [0, 2]], m = 3)"
   ]
  },
  {
   "cell_type": "code",
   "execution_count": null,
   "id": "d6a08ba1",
   "metadata": {},
   "outputs": [],
   "source": []
  }
 ],
 "metadata": {
  "kernelspec": {
   "display_name": "3.11.11",
   "language": "python",
   "name": "python3"
  },
  "language_info": {
   "codemirror_mode": {
    "name": "ipython",
    "version": 3
   },
   "file_extension": ".py",
   "mimetype": "text/x-python",
   "name": "python",
   "nbconvert_exporter": "python",
   "pygments_lexer": "ipython3",
   "version": "3.11.11"
  }
 },
 "nbformat": 4,
 "nbformat_minor": 5
}
