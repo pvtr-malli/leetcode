{
 "cells": [
  {
   "cell_type": "markdown",
   "id": "c8c31f7f",
   "metadata": {},
   "source": [
    "Given an integer array nums that may contain duplicates, return all possible subsets (the power set).\n",
    "\n",
    "The solution set must not contain duplicate subsets. Return the solution in any order.\n",
    "\n",
    " \n",
    "\n",
    "Example 1:\n",
    "\n",
    "Input: nums = [1,2,2]\n",
    "Output: [[],[1],[1,2],[1,2,2],[2],[2,2]]\n",
    "Example 2:\n",
    "\n",
    "Input: nums = [0]\n",
    "Output: [[],[0]]\n",
    " \n",
    "\n",
    "Constraints:\n",
    "\n",
    "1 <= nums.length <= 10\n",
    "-10 <= nums[i] <= 10"
   ]
  },
  {
   "cell_type": "code",
   "execution_count": 1,
   "id": "d9a69bb7",
   "metadata": {},
   "outputs": [],
   "source": [
    "class Solution:\n",
    "    def __init__(self):\n",
    "        self.res: list[int] = []\n",
    "\n",
    "    def subsetsWithDup(self, nums: list[int]) -> list[list[int]]:\n",
    "        self.subsetsWithDup_rec(nums, [], 0, len(nums))\n",
    "        return self.res\n",
    "\n",
    "    def subsetsWithDup_rec(self, nums: list[int], subset: list[int], ind: int, n: int):\n",
    "        # recurssion return logic.\n",
    "        if ind == n:\n",
    "            self.res.append(subset.copy())\n",
    "            return\n",
    "        \n",
    "        # pick the current value.\n",
    "        subset.append(nums[ind])\n",
    "        self.subsetsWithDup_rec(nums, subset, ind+1, n)\n",
    "\n",
    "        # non-pick the cyrrent value.\n",
    "        subset.pop()\n",
    "        self.subsetsWithDup_rec(nums, subset, ind+1, n)\n",
    "        \n",
    "\n",
    "# tc - O(2 ^ n)"
   ]
  },
  {
   "cell_type": "code",
   "execution_count": 2,
   "id": "6baa6bfc",
   "metadata": {},
   "outputs": [
    {
     "data": {
      "text/plain": [
       "[[1, 2, 2], [1, 2], [1, 2], [1], [2, 2], [2], [2], []]"
      ]
     },
     "execution_count": 2,
     "metadata": {},
     "output_type": "execute_result"
    }
   ],
   "source": [
    "Solution().subsetsWithDup(nums = [1,2,2])\n",
    "\n",
    "\n",
    "# [[1, 2, 2], [1, 2], [1, 2], [1], [2, 2], [2], [2], []]\n",
    "\n",
    "# here we dont want this [1,2] and [2] being twice. \n",
    "\n",
    "# we can keep this inside the set. \n",
    "# but tc of removing duplicate from a set is - average case -- O(1) \n",
    "# since this is useing the hashing method to check the value is alredy present or not.\n",
    "\n",
    "\n",
    "# you can keep set or dict as the res and retunr the non-duplicate values. \n",
    "\n",
    "\n",
    "\n",
    "#. but we can save time in even generating this kind of things."
   ]
  },
  {
   "cell_type": "code",
   "execution_count": 3,
   "id": "d532e834",
   "metadata": {},
   "outputs": [],
   "source": [
    "class Solution:\n",
    "    def __init__(self):\n",
    "        self.res: list[int] = []\n",
    "\n",
    "    def subsetsWithDup(self, nums: list[int]) -> list[list[int]]:\n",
    "        nums.sort()\n",
    "        self.subsetsWithDup_rec(nums, [], 0, len(nums))\n",
    "        return self.res\n",
    "\n",
    "    def subsetsWithDup_rec(self, nums: list[int], subset: list[int], ind: int, n: int):\n",
    "        # recurssion return logic.\n",
    "        self.res.append(subset.copy())\n",
    "        if ind == n:\n",
    "            # self.res.append(subset.copy())\n",
    "            return\n",
    "        \n",
    "        # lopp over the values to skip the duplicate values.\n",
    "        for i in range(ind, n):\n",
    "            if i != ind and (nums[i] == nums[i-1]):\n",
    "                continue  # skip the duplicates.\n",
    "\n",
    "            # pick the current value.\n",
    "            subset.append(nums[i])\n",
    "            self.subsetsWithDup_rec(nums, subset, i+1, n)\n",
    "\n",
    "            # non-pick the cyrrent value.\n",
    "            subset.pop()\n",
    "            # self.subsetsWithDup_rec(nums, subset, ind+1, n)\n",
    "\n",
    "# in worst case no duplicates:\n",
    "#    \n",
    "# tc:\n",
    "# - The recurssive call is - O(2 ^ n).  -- the total subsets.\n",
    "# - The copy of each array to end res take - O(n)\n",
    "# - sorting - O(n log n)\n",
    "# - total - O(n * 2^n) + O(n log n) = O(n * 2^n)\n",
    "\n",
    "\n",
    "# sc:\n",
    "# - axilory - O(n)\n",
    "# - output - O(n * 2^n)"
   ]
  },
  {
   "cell_type": "code",
   "execution_count": 4,
   "id": "3c49a1dd",
   "metadata": {},
   "outputs": [
    {
     "data": {
      "text/plain": [
       "[[], [1], [1, 2], [1, 2, 2], [2], [2, 2]]"
      ]
     },
     "execution_count": 4,
     "metadata": {},
     "output_type": "execute_result"
    }
   ],
   "source": [
    "Solution().subsetsWithDup(nums = [1,2,2])\n"
   ]
  },
  {
   "cell_type": "markdown",
   "id": "d609306a",
   "metadata": {},
   "source": [
    "\n",
    "\n",
    "### 💡 Key difference:\n",
    "\n",
    "Even though **both are theoretically `O(n·2ⁿ)`**,\n",
    "the **constant factors** differ *massively*.\n",
    "\n",
    "Let’s see why 👇\n",
    "\n",
    "#### 🔸 Version 1 (`set` approach)\n",
    "\n",
    "* Generates **all 2ⁿ subsets** — including duplicates.\n",
    "* For inputs like `[1,1,1,1,1,1]` → still explores **2⁶ = 64** recursive calls.\n",
    "* Then hash-checks and discards 63 duplicates.\n",
    "\n",
    "So, you waste time generating duplicates first.\n",
    "\n",
    "#### 🔸 Version 2 (your current recursion)\n",
    "\n",
    "* Because of sorting and the check:\n",
    "  you **never recurse** into duplicate branches.\n",
    "* For `[1,1,1,1,1,1]`, you only explore **n+1 = 7** valid unique subset paths instead of 64.\n",
    "\n",
    "✅ So, **sorting (O(n log n))** is a *tiny cost* that pays off by drastically pruning recursion.\n",
    "\n",
    "\n",
    "\n",
    "✅ **Verdict:**\n",
    "Even though you add `O(n log n)` sorting time,\n",
    "you **save far more** by pruning redundant recursion calls.\n",
    "\n"
   ]
  },
  {
   "cell_type": "code",
   "execution_count": null,
   "id": "236c5512",
   "metadata": {},
   "outputs": [],
   "source": []
  }
 ],
 "metadata": {
  "kernelspec": {
   "display_name": "3.11.11",
   "language": "python",
   "name": "python3"
  },
  "language_info": {
   "codemirror_mode": {
    "name": "ipython",
    "version": 3
   },
   "file_extension": ".py",
   "mimetype": "text/x-python",
   "name": "python",
   "nbconvert_exporter": "python",
   "pygments_lexer": "ipython3",
   "version": "3.11.11"
  }
 },
 "nbformat": 4,
 "nbformat_minor": 5
}
