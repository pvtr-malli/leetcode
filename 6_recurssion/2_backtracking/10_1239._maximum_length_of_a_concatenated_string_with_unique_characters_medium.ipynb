{
 "cells": [
  {
   "cell_type": "markdown",
   "id": "aafd67c1",
   "metadata": {},
   "source": [
    "You are given an array of strings arr. A string s is formed by the concatenation of a subsequence of arr that has unique characters.\n",
    "\n",
    "Return the maximum possible length of s.\n",
    "\n",
    "A subsequence is an array that can be derived from another array by deleting some or no elements without changing the order of the remaining elements.\n",
    "\n",
    " \n",
    "\n",
    "Example 1:\n",
    "\n",
    "Input: arr = [\"un\",\"iq\",\"ue\"]\n",
    "Output: 4\n",
    "Explanation: All the valid concatenations are:\n",
    "- \"\"\n",
    "- \"un\"\n",
    "- \"iq\"\n",
    "- \"ue\"\n",
    "- \"uniq\" (\"un\" + \"iq\")\n",
    "- \"ique\" (\"iq\" + \"ue\")\n",
    "Maximum length is 4.\n",
    "Example 2:\n",
    "\n",
    "Input: arr = [\"cha\",\"r\",\"act\",\"ers\"]\n",
    "Output: 6\n",
    "Explanation: Possible longest valid concatenations are \"chaers\" (\"cha\" + \"ers\") and \"acters\" (\"act\" + \"ers\").\n",
    "Example 3:\n",
    "\n",
    "Input: arr = [\"abcdefghijklmnopqrstuvwxyz\"]\n",
    "Output: 26\n",
    "Explanation: The only string in arr has all 26 characters.\n",
    " \n",
    "\n",
    "Constraints:\n",
    "\n",
    "1 <= arr.length <= 16\n",
    "1 <= arr[i].length <= 26\n",
    "arr[i] contains only lowercase English letters."
   ]
  },
  {
   "cell_type": "markdown",
   "id": "fbc3347b",
   "metadata": {},
   "source": [
    "# approach 1:\n",
    "- take not take method,\n",
    "- when ind == n :\n",
    "-   if the charactors are unique, then chage the maxi."
   ]
  },
  {
   "cell_type": "code",
   "execution_count": null,
   "id": "6f2c397a",
   "metadata": {},
   "outputs": [],
   "source": [
    "from collections import Counter\n",
    "\n",
    "class Solution:\n",
    "    def __init__(self):\n",
    "        self.res = [0]\n",
    "\n",
    "    def maxLength(self, arr: list[str]) -> int:\n",
    "        self.maxLength_re(arr, 0, \"\", len(arr))\n",
    "        return self.res[0]\n",
    "\n",
    "    def maxLength_re(self, arr: list[int], ind:int, cur_text: str, n: int):\n",
    "        if ind == n:\n",
    "            # if all the charactors are unique.. \n",
    "            if cur_text and max(Counter(cur_text).values()) == 1:\n",
    "                print(cur_text)\n",
    "                self.res[0] = max(self.res[0], len(cur_text))\n",
    "            return\n",
    "\n",
    "        # take the current text.\n",
    "        temp = cur_text\n",
    "        cur_text += arr[ind]\n",
    "        self.maxLength_re(arr, ind + 1, cur_text, n)\n",
    "\n",
    "        # not take.\n",
    "        cur_text = temp \n",
    "        self.maxLength_re(arr, ind + 1, cur_text, n)\n",
    "\n"
   ]
  },
  {
   "cell_type": "markdown",
   "id": "fbc94898",
   "metadata": {},
   "source": [
    "\n",
    "#### Breakdown:\n",
    "\n",
    "* The recursion explores all **subsets** of `arr`, which is $2^n$.\n",
    "* For each subset, we concatenate strings and then check if the result has **all unique characters**.\n",
    "* This uniqueness check using `Counter` takes $O(L)$, where $L$ is the length of the concatenated string (at most 26 because only lowercase letters are allowed).\n",
    "\n",
    "So,\n",
    "\n",
    "$$\n",
    "\\text{Time Complexity} = O(2^n \\cdot L)\n",
    "$$\n",
    "\n",
    "> Worst case $L = 26$, so upper bound: $O(2^n \\cdot 26) = O(2^n)$\n",
    "\n",
    "---\n",
    "\n",
    "### ✅ **Space Complexity**\n",
    "\n",
    "#### Call stack:  $O(n)$\n",
    "\n",
    "#### Memory for string operations:\n",
    "\n",
    "* Each recursive call creates a new string `cur_text`, which could go up to length 26 → $O(26) = O(1)$\n",
    "\n",
    "#### Counter dictionary:\n",
    "\n",
    "* `Counter(cur_text)` holds at most 26 characters → $O(1)$\n",
    "\n",
    "#### Final result stored:\n",
    "\n",
    "* Just one integer in a list `self.res` → $O(1)$\n",
    "\n",
    "So,\n",
    "\n",
    "$$\n",
    "\\text{Space Complexity} = O(n)\n",
    "$$\n",
    "\n"
   ]
  },
  {
   "cell_type": "code",
   "execution_count": 10,
   "id": "32215cbb",
   "metadata": {},
   "outputs": [
    {
     "name": "stdout",
     "output_type": "stream",
     "text": [
      "0\n",
      "1\n",
      "2\n",
      "3\n",
      "3\n",
      "uniq\n",
      "2\n",
      "3\n",
      "3\n",
      "un\n",
      "1\n",
      "2\n",
      "3\n",
      "ique\n",
      "3\n",
      "iq\n",
      "2\n",
      "3\n",
      "ue\n",
      "3\n"
     ]
    },
    {
     "data": {
      "text/plain": [
       "4"
      ]
     },
     "execution_count": 10,
     "metadata": {},
     "output_type": "execute_result"
    }
   ],
   "source": [
    "Solution().maxLength(arr = [\"un\",\"iq\",\"ue\"])"
   ]
  },
  {
   "cell_type": "markdown",
   "id": "2bb59e12",
   "metadata": {},
   "source": [
    "## Bit manupulation way\n",
    "\n",
    "- We can convert each char to a 26 bit int... since only lower case english letters are used this is a better aproach.\n",
    "- pre-process the list to keep on the ele which are having no-repeating characters.\n",
    "- then do the take- nontake to build the string and only conside the once, having the non-overlapping bits (which is non-repeating charactors.)\n"
   ]
  },
  {
   "cell_type": "code",
   "execution_count": null,
   "id": "6cd886cc",
   "metadata": {},
   "outputs": [],
   "source": [
    "class Solution:\n",
    "    def maxLength(self, arr: list[str]) -> int:\n",
    "        # Preprocess to store only valid strings with unique characters.\n",
    "        masks = []\n",
    "        for subseqience in arr:\n",
    "            mask = 0\n",
    "            is_valid = True\n",
    "            for ch in subseqience:\n",
    "                # convert the charctor to a int only sent on the current bit. \n",
    "                # 001 - a\n",
    "                # 010 - b\n",
    "                \n",
    "                bit = 1 << (ord(ch) - ord('a'))\n",
    "\n",
    "                if mask & bit:\n",
    "                    is_valid = False  # duplicate char in string.\n",
    "                    break\n",
    "                # To add the charactor to the mask.\n",
    "                mask |= bit\n",
    "            if is_valid:\n",
    "                masks.append((mask, len(subseqience)))\n",
    "    \n",
    "        def maxLength_rec(ind, curr_mask):\n",
    "            # The recurssion to check the values.\n",
    "            if ind == len(masks):\n",
    "                # Count the number of 1, which is the charcter in the mask.\n",
    "                return bin(curr_mask).count('1')\n",
    "            \n",
    "            # not-take the current mask and move on.\n",
    "            max_len_not_take = maxLength_rec(ind + 1, curr_mask)\n",
    "\n",
    "            # take the current mask.\n",
    "            max_len_take = 0 \n",
    "            mask, length = masks[ind]\n",
    "            if mask & curr_mask == 0:   # no common 1's to add.\n",
    "                # so they are unique.\n",
    "                max_len_take = maxLength_rec(ind + 1, curr_mask | mask)\n",
    "            \n",
    "            return max(max_len_not_take, max_len_take)\n",
    "        \n",
    "        # Call the recurssion call.\n",
    "        return maxLength_rec(0, 0)\n",
    "    \n",
    "# tc:\n",
    "# - pre-processing arr: O(n * L)   --> n: len(arr), L - avg(lenght of string)\n",
    "# - recurssion - O(2^n)\n",
    "# - tc - O(2^n)\n",
    "\n",
    "# sc:\n",
    "# - mask arr - O(n)\n",
    "# - axilory - O(n)\n",
    "# - sc - O(n)\n"
   ]
  },
  {
   "cell_type": "code",
   "execution_count": 5,
   "id": "82074fdb",
   "metadata": {},
   "outputs": [
    {
     "data": {
      "text/plain": [
       "4"
      ]
     },
     "execution_count": 5,
     "metadata": {},
     "output_type": "execute_result"
    }
   ],
   "source": [
    "Solution().maxLength(arr = [\"un\",\"iq\",\"ue\"])"
   ]
  },
  {
   "cell_type": "markdown",
   "id": "0072c5e2",
   "metadata": {},
   "source": [
    "\n",
    "| Step                | Description                                            | Example Input                  | Operation/Result                                                |\n",
    "| ------------------- | ------------------------------------------------------ | ------------------------------ | --------------------------------------------------------------- |\n",
    "| **Preprocessing 1** | Convert `\"un\"` to bitmask                              | `\"un\"`                         | `mask = 0b1000000000000000000000010` (bits for `'u'` and `'n'`) |\n",
    "| **Preprocessing 2** | Check duplicate chars in `\"un\"`                        | `\"un\"`                         | No duplicates → valid mask stored                               |\n",
    "| **Preprocessing 3** | Convert `\"iq\"` to bitmask                              | `\"iq\"`                         | `mask = 0b100000000010000` (bits for `'i'` and `'q'`)           |\n",
    "| **Preprocessing 4** | Check duplicates in `\"iq\"`                             | `\"iq\"`                         | No duplicates → valid mask stored                               |\n",
    "| **Preprocessing 5** | Convert `\"ue\"` to bitmask                              | `\"ue\"`                         | `mask = 0b100000000000001` (bits for `'u'` and `'e'`)           |\n",
    "| **Preprocessing 6** | Check duplicates in `\"ue\"`                             | `\"ue\"`                         | No duplicates → valid mask stored                               |\n",
    "| **Recursion 1**     | Start with `curr_mask = 0` (empty)                     |                                | Explore subsets starting at index 0                             |\n",
    "| **Recursion 2**     | Pick `\"un\"` → new mask = `0b1000000000000000000000010` |                                | Valid, recurse next index with combined mask                    |\n",
    "| **Recursion 3**     | Pick `\"iq\"` after `\"un\"`?                              | Check `curr_mask & mask(\"iq\")` | `0b0` → no overlap, valid                                       |\n",
    "| **Recursion 4**     | Pick `\"ue\"` after `\"un\"`?                              | Check `curr_mask & mask(\"ue\")` | Overlaps on `'u'` → skip                                        |\n",
    "| **Recursion 5**     | Skip `\"un\"`, pick `\"iq\"`                               |                                | Valid, recurse with mask(\"iq\")                                  |\n",
    "| **Recursion 6**     | Pick `\"ue\"` after `\"iq\"`?                              | Check `curr_mask & mask(\"ue\")` | No overlap, valid                                               |\n",
    "| **Result**          | Maximum length from valid combinations                 | `\"uniq\"` or `\"ique\"`           | Length = 4                                                      |\n"
   ]
  },
  {
   "cell_type": "code",
   "execution_count": null,
   "id": "8e26e8c8",
   "metadata": {},
   "outputs": [],
   "source": []
  }
 ],
 "metadata": {
  "kernelspec": {
   "display_name": "3.11.11",
   "language": "python",
   "name": "python3"
  },
  "language_info": {
   "codemirror_mode": {
    "name": "ipython",
    "version": 3
   },
   "file_extension": ".py",
   "mimetype": "text/x-python",
   "name": "python",
   "nbconvert_exporter": "python",
   "pygments_lexer": "ipython3",
   "version": "3.11.11"
  }
 },
 "nbformat": 4,
 "nbformat_minor": 5
}
