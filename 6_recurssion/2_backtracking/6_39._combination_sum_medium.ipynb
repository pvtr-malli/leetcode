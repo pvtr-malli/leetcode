{
 "cells": [
  {
   "cell_type": "markdown",
   "id": "036c2373",
   "metadata": {},
   "source": [
    "Given an array of distinct integers candidates and a target integer target, return a list of all unique combinations of candidates where the chosen numbers sum to target. You may return the combinations in any order.\n",
    "\n",
    "The same number may be chosen from candidates an unlimited number of times. Two combinations are unique if the frequency of at least one of the chosen numbers is different.\n",
    "\n",
    "The test cases are generated such that the number of unique combinations that sum up to target is less than 150 combinations for the given input.\n",
    "\n",
    " \n",
    "\n",
    "Example 1:\n",
    "\n",
    "Input: candidates = [2,3,6,7], target = 7\n",
    "Output: [[2,2,3],[7]]\n",
    "Explanation:\n",
    "2 and 3 are candidates, and 2 + 2 + 3 = 7. Note that 2 can be used multiple times.\n",
    "7 is a candidate, and 7 = 7.\n",
    "These are the only two combinations.\n",
    "Example 2:\n",
    "\n",
    "Input: candidates = [2,3,5], target = 8\n",
    "Output: [[2,2,2,2],[2,3,3],[3,5]]\n",
    "Example 3:\n",
    "\n",
    "Input: candidates = [2], target = 1\n",
    "Output: []\n",
    " \n",
    "\n",
    "Constraints:\n",
    "\n",
    "1 <= candidates.length <= 30\n",
    "2 <= candidates[i] <= 40\n",
    "All elements of candidates are distinct.\n",
    "1 <= target <= 40"
   ]
  },
  {
   "cell_type": "code",
   "execution_count": null,
   "id": "b1988efa",
   "metadata": {},
   "outputs": [],
   "source": [
    "class Solution:\n",
    "    def __init__(self):\n",
    "        self.res = []\n",
    "\n",
    "    def combinationSum(self, candidates: list[int], target: int) -> list[list[int]]:\n",
    "        self.combinationSum_rec(candidates, target,[], 0, len(candidates))\n",
    "        return self.res \n",
    "\n",
    "    def combinationSum_rec(self, arr, target, subsets, ind, n):\n",
    "        # return logic,\n",
    "        if ind == n:\n",
    "            return\n",
    "        \n",
    "        if target == 0:\n",
    "            self.res.append(subsets.copy())\n",
    "            return\n",
    "        \n",
    "        # Take the current index.\n",
    "        # take only the current arr elements is <= remaining target.\n",
    "        if arr[ind] <= target:\n",
    "            subsets.append(arr[ind])\n",
    "            # we can take, the values as manu times we want.\n",
    "            self.combinationSum_rec(arr, target - arr[ind], subsets, ind, n)\n",
    "            subsets.pop()\n",
    "            \n",
    "        # not-take.\n",
    "        self.combinationSum_rec(arr, target, subsets, ind+1, n)\n",
    "\n",
    "# tc:\n",
    "# - The recurssive call is - O(2 ^ n).  -- the total subsets.\n",
    "# - The copy of each array to end res take - O(n)\n",
    "# - total - O(n * 2^n)\n",
    "\n",
    "# sc:\n",
    "# - axilory - O(n)\n",
    "# - output - O(n * 2^n)"
   ]
  },
  {
   "cell_type": "code",
   "execution_count": 8,
   "id": "19d4986b",
   "metadata": {},
   "outputs": [
    {
     "data": {
      "text/plain": [
       "[[2, 2, 3], [7]]"
      ]
     },
     "execution_count": 8,
     "metadata": {},
     "output_type": "execute_result"
    }
   ],
   "source": [
    "Solution().combinationSum(candidates = [2,3,6,7], target = 7)"
   ]
  },
  {
   "cell_type": "code",
   "execution_count": 9,
   "id": "40a827c9",
   "metadata": {},
   "outputs": [
    {
     "data": {
      "text/plain": [
       "[[2, 2, 2, 2], [2, 3, 3], [3, 5]]"
      ]
     },
     "execution_count": 9,
     "metadata": {},
     "output_type": "execute_result"
    }
   ],
   "source": [
    "Solution().combinationSum(candidates = [2,3,5], target = 8)"
   ]
  },
  {
   "cell_type": "markdown",
   "id": "726803d5",
   "metadata": {},
   "source": [
    "🔍 Do We Need DP (Memoization or Tabulation)?\n",
    "❌ No, not usually for this problem.\n",
    "The problem asks for all unique combinations, not just the count or a yes/no answer.\n",
    "\n",
    "Memoization is useful when you're solving overlapping subproblems and reusing results (like can_sum, min_coins, etc.).\n",
    "\n",
    "But here, even if you reach the same subproblem (e.g., target = 7), you might reach it via different paths like:\n",
    "\n",
    "[2, 2, 3] or [3, 2, 2] or [7]\n",
    "So memoization can prune valid paths unless very carefully done."
   ]
  },
  {
   "cell_type": "markdown",
   "id": "924d82bd",
   "metadata": {},
   "source": [
    "- for this problem, there can be reduntant calls."
   ]
  },
  {
   "cell_type": "code",
   "execution_count": null,
   "id": "241477cb",
   "metadata": {},
   "outputs": [],
   "source": [
    "# - check this out https://leetcode.com/problems/combination-sum/solutions/937255/python-3-dfs-backtracking-two-dp-methods-explanations/"
   ]
  },
  {
   "cell_type": "code",
   "execution_count": null,
   "id": "6ec21742",
   "metadata": {},
   "outputs": [],
   "source": [
    "class Solution:\n",
    "    def __init__(self):\n",
    "        self.canditate = None \n",
    "        self.ans = []\n",
    "\n",
    "    def combinationSum(self, candidates: list[int], target: int) -> list[list[int]]:\n",
    "        self.canditate = candidates\n",
    "        # what are getting changed : i,target.\n",
    "        dp = [[-1] * (target + 1) for _ in range(len(candidates))]\n",
    "        self.combination_sum_rec(target, [], 0, dp)\n",
    "        return self.ans\n",
    "\n",
    "    def combination_sum_rec(self, target, temp_ans: list, i, dp):\n",
    "        # when the index is 0. take the value only if hte value can divide the target.\n",
    "        if target == 0:\n",
    "            return temp_ans.copy()\n",
    "            \n",
    "        if i >= len(self.canditate) or target < 0:\n",
    "            return\n",
    "        \n",
    "        if dp[i][target] != -1:\n",
    "            return dp[i][target]\n",
    "\n",
    "        # take it.\n",
    "        take = None\n",
    "        if self.canditate[i] <= target:\n",
    "            temp_ans.append(self.canditate[i])\n",
    "            take = self.combination_sum_rec(target - self.canditate[i], temp_ans, i, dp) # can be taken multiple time if possible.\n",
    "\n",
    "            # remove the ans.\n",
    "            temp_ans.remove(self.canditate[i])\n",
    "\n",
    "        # not take it.\n",
    "        not_take = self.combination_sum_rec(target, temp_ans, i + 1, dp)\n",
    "\n",
    "        temp_ans = []\n",
    "        if take:\n",
    "            temp_ans.append(take)\n",
    "        if not_take:\n",
    "            temp_ans.append(not_take)\n",
    "        self.ans.extend(temp_ans)\n",
    "        dp[i][target] = temp_ans \n",
    "        \n",
    "        \n"
   ]
  }
 ],
 "metadata": {
  "kernelspec": {
   "display_name": "3.11.11",
   "language": "python",
   "name": "python3"
  },
  "language_info": {
   "codemirror_mode": {
    "name": "ipython",
    "version": 3
   },
   "file_extension": ".py",
   "mimetype": "text/x-python",
   "name": "python",
   "nbconvert_exporter": "python",
   "pygments_lexer": "ipython3",
   "version": "3.11.11"
  }
 },
 "nbformat": 4,
 "nbformat_minor": 5
}
