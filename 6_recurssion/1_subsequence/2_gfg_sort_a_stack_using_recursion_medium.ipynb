{
 "cells": [
  {
   "cell_type": "markdown",
   "id": "16180feb",
   "metadata": {},
   "source": [
    "Given a stack, the task is to sort it using recursion.\n",
    "\n",
    "Example: \n",
    "\n",
    "Input: [3 2 1]\n",
    "Output: [3 2 1]\n",
    "Explanation: The given stack is sorted know 3 > 2 > 1\n",
    "\n",
    "Input: [11 2 32 3 41]\n",
    "Output: [41 32 11 3 2]"
   ]
  },
  {
   "cell_type": "markdown",
   "id": "7c5b55f6",
   "metadata": {},
   "source": [
    "How does sortedInsert() Work?\n",
    "This function again uses recursion.\n",
    "\n",
    "If stack is empty or top of the stack is smaller, we push the item at the top\n",
    "Else we remove the top item and call sortedInsert recursively for the remaining stack and current item. This ensures that all greater values are held in the function call stack.\n",
    "We finally push the removed the top item back into the stack. This moves all the items held in function call stack into the given stack."
   ]
  },
  {
   "cell_type": "code",
   "execution_count": null,
   "id": "2c4e0cc2",
   "metadata": {},
   "outputs": [],
   "source": [
    "def insert_sorted(stack: list[int], element: int) -> None:\n",
    "    if not stack or element > stack[-1]:\n",
    "        stack.append(element)\n",
    "        return\n",
    "    temp = stack.pop()\n",
    "    insert_sorted(stack, element)\n",
    "    stack.append(temp)\n",
    "\n",
    "def sort_stack(stack: list[int]) -> None:\n",
    "    if stack:\n",
    "        temp = stack.pop()\n",
    "        sort_stack(stack)\n",
    "        insert_sorted(stack, temp)\n",
    "\n",
    "if __name__ == '__main__':\n",
    "    s = [11, 2, 32, 3, 41]\n",
    "    sort_stack(s)\n",
    "    print(\"Sorted stack (top to bottom):\")\n",
    "    while s:\n",
    "        print(s.pop(), end=' ')\n",
    "\n",
    "\n",
    "\n",
    "# Time complexity: O(n²) — worst case, each insertion in a sorted stack takes O(n).\n",
    "# Space complexity: O(n) — due to recursion call stack.\n",
    "\n"
   ]
  },
  {
   "cell_type": "markdown",
   "id": "2d89050f",
   "metadata": {},
   "source": [
    "x = s.pop()  # 41\n",
    "sort([11, 2, 32, 3])\n",
    "    x = 3\n",
    "    sort([11, 2, 32])\n",
    "        x = 32\n",
    "        sort([11, 2])\n",
    "            x = 2\n",
    "            sort([11])\n",
    "                x = 11\n",
    "                sort([])  # base case\n",
    "\n",
    "\n",
    "Now stack is empty. In reverse order, sorted_insert gets called for:\n",
    "\n",
    "sorted_insert([], 11)\n",
    "→ push 11 → [11]\n",
    "\n",
    "sorted_insert([11], 2)\n",
    "→ 2 < 11 → pop 11\n",
    "→ sorted_insert([], 2) → push 2 → [2]\n",
    "→ push back 11 → [2, 11]\n",
    "\n",
    "sorted_insert([2, 11], 32)\n",
    "→ 32 > 11 → push 32 → [2, 11, 32]\n",
    "\n",
    "sorted_insert([2, 11, 32], 3)\n",
    "→ 3 < 32 → pop 32\n",
    "→ 3 < 11 → pop 11\n",
    "→ 3 > 2 → push 3 → [2, 3]\n",
    "→ push back 11 → [2, 3, 11]\n",
    "→ push back 32 → [2, 3, 11, 32]\n",
    "\n",
    "sorted_insert([2, 3, 11, 32], 41)\n",
    "→ 41 > 32 → push 41 → [2, 3, 11, 32, 41]\n"
   ]
  }
 ],
 "metadata": {
  "language_info": {
   "name": "python"
  }
 },
 "nbformat": 4,
 "nbformat_minor": 5
}
