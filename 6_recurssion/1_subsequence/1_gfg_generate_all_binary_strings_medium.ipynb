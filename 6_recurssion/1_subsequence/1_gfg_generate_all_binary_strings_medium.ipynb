{
 "cells": [
  {
   "cell_type": "markdown",
   "id": "f1c13799",
   "metadata": {},
   "source": [
    "Given an integer N , Print all binary strings of size N which do not contain consecutive 1s.\n",
    "\n",
    "A binary string is that string which contains only 0 and 1.\n",
    "\n",
    "Example 1:\n",
    "\n",
    "Input:\n",
    "N = 3\n",
    "Output:\n",
    "000 , 001 , 010 , 100 , 101\n",
    "Explanation:\n",
    "None of the above strings contain consecutive 1s. \"110\" is not an answer as it has '1's occuring consecutively. \n",
    "Your Task:\n",
    "\n",
    "You don't need to read input or print anything. Your task is to complete the function generateBinaryStrings() which takes an integer N as input and returns a list of all valid binary strings in lexicographically increasing order.\n",
    "\n",
    "Expected Time Complexity: O(2^N)\n",
    "Expected Auxiliary Space: O(N)\n",
    "\n",
    "Constraints:\n",
    "1 <= N <= 20"
   ]
  },
  {
   "cell_type": "code",
   "execution_count": null,
   "id": "66b103b5",
   "metadata": {},
   "outputs": [],
   "source": [
    "\n",
    "class Solution:\n",
    "    def __init__(self):\n",
    "        self.res = []\n",
    "\n",
    "    def generateBinaryStrings(self, n):\n",
    "        self.generateBinaryStrings_rec(n, \"\", 0, 0)\n",
    "        # they asked to return in sorted order.\n",
    "        self.res.sort()\n",
    "        return self.res \n",
    "    \n",
    "    def generateBinaryStrings_rec(self, n: int, cur_str: str, ind: int, prev_bit: int):\n",
    "        if n == ind:\n",
    "            self.res.append(cur_str)\n",
    "            return\n",
    "        \n",
    "        # add 0 to the string.\n",
    "        self.generateBinaryStrings_rec(n, \"0\" + cur_str, ind+1, 0)\n",
    "\n",
    "        # add 1 to the string,\n",
    "        # we are gonna first check the previous bit then add the 1 if not consiquetive,\n",
    "        if prev_bit == 0:  # prune hte recurssion tre to generate only valid strings\n",
    "            self.generateBinaryStrings_rec(n, \"1\" + cur_str, ind+1, 1)\n",
    "        \n",
    "\n",
    "# tc:\n",
    "# - sorting - O(n log n)\n",
    "# - recurssion - O(2 ^ n)\n",
    "# - tc - O(n log n) + O(2 ^ n)\n",
    "\n",
    "# sc:\n",
    "# - recurssion ausilory - O(n)\n",
    "# - output - O(2 ^ n)\n",
    "# - sc - O(2 ^ n)"
   ]
  },
  {
   "cell_type": "code",
   "execution_count": 2,
   "id": "2dd539c7",
   "metadata": {},
   "outputs": [
    {
     "data": {
      "text/plain": [
       "['000', '100', '010', '001', '101']"
      ]
     },
     "execution_count": 2,
     "metadata": {},
     "output_type": "execute_result"
    }
   ],
   "source": [
    "Solution().generateBinaryStrings(3)"
   ]
  },
  {
   "cell_type": "code",
   "execution_count": null,
   "id": "42a2a2b8",
   "metadata": {},
   "outputs": [],
   "source": []
  }
 ],
 "metadata": {
  "kernelspec": {
   "display_name": "3.11.11",
   "language": "python",
   "name": "python3"
  },
  "language_info": {
   "codemirror_mode": {
    "name": "ipython",
    "version": 3
   },
   "file_extension": ".py",
   "mimetype": "text/x-python",
   "name": "python",
   "nbconvert_exporter": "python",
   "pygments_lexer": "ipython3",
   "version": "3.11.11"
  }
 },
 "nbformat": 4,
 "nbformat_minor": 5
}
