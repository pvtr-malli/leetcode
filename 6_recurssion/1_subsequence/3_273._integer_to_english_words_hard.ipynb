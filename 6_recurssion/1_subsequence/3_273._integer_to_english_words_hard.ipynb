{
 "cells": [
  {
   "cell_type": "markdown",
   "id": "2408b522",
   "metadata": {},
   "source": [
    "Convert a non-negative integer num to its English words representation.\n",
    "\n",
    " \n",
    "\n",
    "Example 1:\n",
    "\n",
    "Input: num = 123\n",
    "Output: \"One Hundred Twenty Three\"\n",
    "Example 2:\n",
    "\n",
    "Input: num = 12345\n",
    "Output: \"Twelve Thousand Three Hundred Forty Five\"\n",
    "Example 3:\n",
    "\n",
    "Input: num = 1234567\n",
    "Output: \"One Million Two Hundred Thirty Four Thousand Five Hundred Sixty Seven\"\n",
    " \n",
    "\n",
    "Constraints:\n",
    "\n",
    "0 <= num <= 231 - 1"
   ]
  },
  {
   "cell_type": "markdown",
   "id": "25647316",
   "metadata": {},
   "source": [
    "# the hint is to split the digits by 3 from the back and do it -- without this we can't actually solve this.\n"
   ]
  },
  {
   "cell_type": "code",
   "execution_count": 1,
   "id": "4df650eb",
   "metadata": {},
   "outputs": [],
   "source": [
    "class Solution:\n",
    "    def numberToWords(self, num: int) -> str:\n",
    "        # edge case.\n",
    "        if num == 0:\n",
    "            return \"Zero\"\n",
    "        \n",
    "        # English word mappings.\n",
    "        LESS_THAN_20 = [\"\", \"One\", \"Two\", \"Three\", \"Four\", \"Five\", \"Six\", \"Seven\", \"Eight\", \"Nine\", \"Ten\", \n",
    "                        \"Eleven\", \"Twelve\", \"Thirteen\", \"Fourteen\", \"Fifteen\", \"Sixteen\", \"Seventeen\", \n",
    "                        \"Eighteen\", \"Nineteen\"]\n",
    "        \n",
    "        TENS = [\"\", \"Ten\", \"Twenty\", \"Thirty\", \"Forty\", \"Fifty\", \"Sixty\", \"Seventy\", \"Eighty\", \"Ninety\"]\n",
    "        \n",
    "        THOUSANDS = [\"\", \"Thousand\", \"Million\", \"Billion\"]\n",
    "\n",
    "        def numberToWords_rec(n: int):\n",
    "            # 1. the number can be 1 digit.\n",
    "            # 2. 2 digits - 1|  less than 20 -- need a hashed naming . 2 | more than 20 -- 37 thirty seven .need to handle separetly.\n",
    "            if n == 0:\n",
    "                return \"\"\n",
    "            elif n < 20:\n",
    "                return LESS_THAN_20[n] + \" \"\n",
    "            elif n < 100:\n",
    "                return TENS[n // 10] + \" \" + numberToWords_rec(n % 10) # handle the first digit and give to next.\n",
    "            else:\n",
    "                return LESS_THAN_20[n // 100] + \" Hundred \" + numberToWords_rec(n % 100)\n",
    "        \n",
    "        res: str = \"\"\n",
    "        which_3ed_part = 0   # basically to track , thousands, millions etc.\n",
    "\n",
    "        while num > 0:\n",
    "            if num % 1000 != 0:\n",
    "                print(num % 1000)\n",
    "                # call the recursion funciton for the 3 digits.\n",
    "                # add to the results.\n",
    "                res = numberToWords_rec(num % 1000) + THOUSANDS[which_3ed_part] + \" \" + res\n",
    "            num = num // 1000\n",
    "            which_3ed_part += 1   #we will be moving from nothing to Thousand and Thousand to Million. \n",
    "        \n",
    "        return res.strip()   #there will be a space at the end.\n",
    "    \n",
    "# tc - O(log₁₀(n)) chunks × constant time per chunk → overall O(log n)\n",
    "# sc - O(1)"
   ]
  },
  {
   "cell_type": "code",
   "execution_count": 2,
   "id": "ac7509ae",
   "metadata": {},
   "outputs": [
    {
     "name": "stdout",
     "output_type": "stream",
     "text": [
      "345\n",
      "12\n"
     ]
    },
    {
     "data": {
      "text/plain": [
       "'Twelve Thousand Three Hundred Forty Five'"
      ]
     },
     "execution_count": 2,
     "metadata": {},
     "output_type": "execute_result"
    }
   ],
   "source": [
    "Solution().numberToWords(num = 12345)"
   ]
  },
  {
   "cell_type": "code",
   "execution_count": 3,
   "id": "8d42dac4",
   "metadata": {},
   "outputs": [
    {
     "name": "stdout",
     "output_type": "stream",
     "text": [
      "567\n",
      "234\n",
      "1\n"
     ]
    },
    {
     "data": {
      "text/plain": [
       "'One Million Two Hundred Thirty Four Thousand Five Hundred Sixty Seven'"
      ]
     },
     "execution_count": 3,
     "metadata": {},
     "output_type": "execute_result"
    }
   ],
   "source": [
    "Solution().numberToWords(num = 1234567)"
   ]
  }
 ],
 "metadata": {
  "kernelspec": {
   "display_name": "3.11.11",
   "language": "python",
   "name": "python3"
  },
  "language_info": {
   "codemirror_mode": {
    "name": "ipython",
    "version": 3
   },
   "file_extension": ".py",
   "mimetype": "text/x-python",
   "name": "python",
   "nbconvert_exporter": "python",
   "pygments_lexer": "ipython3",
   "version": "3.11.11"
  }
 },
 "nbformat": 4,
 "nbformat_minor": 5
}
