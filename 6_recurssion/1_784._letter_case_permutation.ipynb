{
 "cells": [
  {
   "cell_type": "markdown",
   "metadata": {},
   "source": [
    "MEDIUM"
   ]
  },
  {
   "cell_type": "code",
   "execution_count": null,
   "metadata": {},
   "outputs": [],
   "source": [
    "Given a string s, you can transform every letter individually to be lowercase or uppercase to create another string.\n",
    "\n",
    "Return a list of all possible strings we could create. Return the output in any order.\n",
    "\n",
    "Example 1:\n",
    "\n",
    "Input: s = \"a1b2\"\n",
    "Output: [\"a1b2\",\"a1B2\",\"A1b2\",\"A1B2\"]\n",
    "Example 2:\n",
    "\n",
    "Input: s = \"3z4\"\n",
    "Output: [\"3z4\",\"3Z4\"]\n"
   ]
  },
  {
   "cell_type": "code",
   "execution_count": 13,
   "metadata": {},
   "outputs": [],
   "source": [
    "# Take, not take approach\n",
    "\n",
    "class Solution:\n",
    "    def letterCasePermutation(self, s: str) -> str:\n",
    "        s = list(s)\n",
    "        n = len(s)\n",
    "        ans = []\n",
    "        cur_str = \"\"\n",
    "        self.letter_case_permute(s, 0, n, ans, cur_str)\n",
    "\n",
    "        return ans\n",
    "\n",
    "    def letter_case_permute(self, s, ind, n, ans, cur_str):\n",
    "        if ind == n:\n",
    "            ans.append(cur_str)\n",
    "            return\n",
    "        if s[ind].isdigit():\n",
    "            self.letter_case_permute(s, ind + 1, n, ans, cur_str + s[ind])\n",
    "        else:\n",
    "            # Not take option, not converting to lower or upper, keeping as it is.\n",
    "            self.letter_case_permute(s, ind + 1, n, ans, cur_str + s[ind])\n",
    "\n",
    "            # Convert to opposite case,\n",
    "            cur_str += s[ind].upper() if s[ind].islower() else s[ind].lower()\n",
    "\n",
    "            self.letter_case_permute(s, ind + 1, n, ans, cur_str)\n"
   ]
  },
  {
   "cell_type": "code",
   "execution_count": 14,
   "metadata": {},
   "outputs": [
    {
     "data": {
      "text/plain": [
       "['a1b2', 'a1B2', 'A1b2', 'A1B2']"
      ]
     },
     "execution_count": 14,
     "metadata": {},
     "output_type": "execute_result"
    }
   ],
   "source": [
    "Solution().letterCasePermutation(s = \"a1b2\")"
   ]
  },
  {
   "cell_type": "code",
   "execution_count": null,
   "metadata": {},
   "outputs": [],
   "source": [
    "\"i\".isdigit()"
   ]
  }
 ],
 "metadata": {
  "kernelspec": {
   "display_name": "Python 3",
   "language": "python",
   "name": "python3"
  },
  "language_info": {
   "codemirror_mode": {
    "name": "ipython",
    "version": 3
   },
   "file_extension": ".py",
   "mimetype": "text/x-python",
   "name": "python",
   "nbconvert_exporter": "python",
   "pygments_lexer": "ipython3",
   "version": "3.8.10"
  }
 },
 "nbformat": 4,
 "nbformat_minor": 2
}
