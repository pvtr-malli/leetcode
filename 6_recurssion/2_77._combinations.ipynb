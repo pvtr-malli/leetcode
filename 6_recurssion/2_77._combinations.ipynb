{
 "cells": [
  {
   "cell_type": "code",
   "execution_count": null,
   "metadata": {},
   "outputs": [],
   "source": [
    "MEDIUM"
   ]
  },
  {
   "cell_type": "markdown",
   "metadata": {},
   "source": [
    "Given two integers n and k, return all possible combinations of k numbers chosen from the range [1, n].\n",
    "\n",
    "You may return the answer in any order.\n",
    "\n",
    " \n",
    "\n",
    "Example 1:\n",
    "\n",
    "Input: n = 4, k = 2\n",
    "Output: [[1,2],[1,3],[1,4],[2,3],[2,4],[3,4]]\n",
    "Explanation: There are 4 choose 2 = 6 total combinations.\n",
    "Note that combinations are unordered, i.e., [1,2] and [2,1] are considered to be the same combination.\n",
    "Example 2:\n",
    "\n",
    "Input: n = 1, k = 1\n",
    "Output: [[1]]\n",
    "Explanation: There is 1 choose 1 = 1 total combination.\n"
   ]
  },
  {
   "cell_type": "code",
   "execution_count": 21,
   "metadata": {},
   "outputs": [],
   "source": [
    "# This can't be solved using the take not take method. Not giving all the values.\n",
    "# So going for the consider all values method,\n",
    "\n",
    "\n",
    "class Solution:\n",
    "    def combine(self, n: int, k: int):\n",
    "        result = []\n",
    "        self.backtrack(1, n, k, [], result)\n",
    "        return result\n",
    "\n",
    "    def backtrack(self, start, n, k, combination, result):\n",
    "        if len(combination) == k:\n",
    "            result.append(combination[:])\n",
    "            return\n",
    "\n",
    "        for i in range(start, n + 1):\n",
    "            combination.append(i)\n",
    "            self.backtrack(i + 1, n, k, combination, result)\n",
    "            combination.pop()\n"
   ]
  },
  {
   "cell_type": "code",
   "execution_count": 22,
   "metadata": {},
   "outputs": [
    {
     "data": {
      "text/plain": [
       "[[1, 2], [1, 3], [1, 4], [2, 3], [2, 4], [3, 4]]"
      ]
     },
     "execution_count": 22,
     "metadata": {},
     "output_type": "execute_result"
    }
   ],
   "source": [
    "Solution().combine(n=4, k=2)"
   ]
  },
  {
   "cell_type": "code",
   "execution_count": null,
   "metadata": {},
   "outputs": [],
   "source": []
  }
 ],
 "metadata": {
  "kernelspec": {
   "display_name": "Python 3",
   "language": "python",
   "name": "python3"
  },
  "language_info": {
   "codemirror_mode": {
    "name": "ipython",
    "version": 3
   },
   "file_extension": ".py",
   "mimetype": "text/x-python",
   "name": "python",
   "nbconvert_exporter": "python",
   "pygments_lexer": "ipython3",
   "version": "3.8.10"
  }
 },
 "nbformat": 4,
 "nbformat_minor": 2
}
