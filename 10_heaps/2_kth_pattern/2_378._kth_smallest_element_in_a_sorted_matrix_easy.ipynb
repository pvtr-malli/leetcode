{
 "cells": [
  {
   "cell_type": "markdown",
   "id": "3f4010c3",
   "metadata": {},
   "source": []
  },
  {
   "cell_type": "code",
   "execution_count": null,
   "id": "e5385bc7",
   "metadata": {},
   "outputs": [],
   "source": [
    "import heapq\n",
    "\n",
    "def kthSmallest(matrix, k):\n",
    "    n = len(matrix)\n",
    "    min_heap = []\n",
    "\n",
    "    # push the first element of each row.\n",
    "    for row in range(min(n, k)):\n",
    "        heapq.heappush(min_heap, (matrix[row][0], row, 0)) # pushing (value, row, col)\n",
    "    \n",
    "    # Step 2: Pop from heap and push the next element in the same row\n",
    "    count = 0\n",
    "    while min_heap:\n",
    "        val, r, c = heapq.heappop(min_heap)\n",
    "        count += 1\n",
    "        if count == k:\n",
    "            return val\n",
    "        if c + 1 < n:\n",
    "            heapq.heappush(min_heap, (matrix[r][c+1], r, c+1))\n",
    "\n",
    "# tc:\n",
    "# - pushing k elements, O(k)\n",
    "# searching until k elements O(k)\n",
    "\n",
    "# sc - storing at max number of row's element,"
   ]
  },
  {
   "cell_type": "markdown",
   "id": "1848050c",
   "metadata": {},
   "source": [
    "matrix = [\n",
    "  [ 1,  5,  9],\n",
    "  [10, 11, 13],\n",
    "  [12, 13, 15]\n",
    "]\n",
    "k = 8\n",
    "\n",
    "initial heap:\n",
    "(1,0,0), (10,1,0), (12,2,0)\n",
    "\n",
    "\n",
    "\n",
    "| Step | Heap (Top) | Action        | Heap After Push             |\n",
    "| ---- | ---------- | ------------- | --------------------------- |\n",
    "| 1    | (1,0,0)    | push (5,0,1)  | (5,0,1), (10,1,0), (12,2,0) |\n",
    "| 2    | (5,0,1)    | push (9,0,2)  | (9,0,2), (10,1,0), (12,2,0) |\n",
    "| 3    | (9,0,2)    | —             | (10,1,0), (12,2,0)          |\n",
    "| 4    | (10,1,0)   | push (11,1,1) | (11,1,1), (12,2,0)          |\n",
    "| 5    | (11,1,1)   | push (13,1,2) | (12,2,0), (13,1,2)          |\n",
    "| 6    | (12,2,0)   | push (13,2,1) | (13,1,2), (13,2,1)          |\n",
    "| 7    | (13,1,2)   | —             | (13,2,1)                    |\n",
    "| 8    | (13,2,1)   | ✅ Return 13   |                             |\n",
    "\n"
   ]
  },
  {
   "cell_type": "code",
   "execution_count": null,
   "id": "28a14554",
   "metadata": {},
   "outputs": [],
   "source": []
  }
 ],
 "metadata": {
  "kernelspec": {
   "display_name": "3.11.11",
   "language": "python",
   "name": "python3"
  },
  "language_info": {
   "name": "python",
   "version": "3.11.11"
  }
 },
 "nbformat": 4,
 "nbformat_minor": 5
}
