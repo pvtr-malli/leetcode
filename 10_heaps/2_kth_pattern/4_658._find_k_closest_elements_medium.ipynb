{
 "cells": [
  {
   "cell_type": "markdown",
   "id": "78c325a2",
   "metadata": {},
   "source": [
    "Given a sorted integer array arr, two integers k and x, return the k closest integers to x in the array. The result should also be sorted in ascending order.\n",
    "\n",
    "An integer a is closer to x than an integer b if:\n",
    "\n",
    "|a - x| < |b - x|, or\n",
    "|a - x| == |b - x| and a < b\n",
    " \n",
    "\n",
    "Example 1:\n",
    "\n",
    "Input: arr = [1,2,3,4,5], k = 4, x = 3\n",
    "\n",
    "Output: [1,2,3,4]\n",
    "\n",
    "Example 2:\n",
    "\n",
    "Input: arr = [1,1,2,3,4,5], k = 4, x = -1\n",
    "\n",
    "Output: [1,1,2,3]\n",
    "\n",
    " \n",
    "\n",
    "Constraints:\n",
    "\n",
    "1 <= k <= arr.length\n",
    "1 <= arr.length <= 104\n",
    "arr is sorted in ascending order.\n",
    "-104 <= arr[i], x <= 104"
   ]
  },
  {
   "cell_type": "markdown",
   "id": "53265c35",
   "metadata": {},
   "source": [
    "✅ Brute-Force Plan:\n",
    "- Compute the absolute difference of each element from x.\n",
    "- Sort the array based on:\n",
    "- 1st priority → absolute difference from x\n",
    "- 2nd priority → actual value (for tie-breaking)\n",
    "- Pick the first k elements.\n",
    "- Sort the result in ascending order (since output must be sorted)."
   ]
  },
  {
   "cell_type": "code",
   "execution_count": 1,
   "id": "da26e17c",
   "metadata": {},
   "outputs": [],
   "source": [
    "class Solution:\n",
    "    def findClosestElements(self, arr: list[int], k: int, x: int) -> list[int]:\n",
    "        # Step 1 & 2: Sort by distance, then by value\n",
    "        sorted_arr = sorted(arr, key=lambda num: (abs(num - x), num))\n",
    "        print(sorted_arr)\n",
    "\n",
    "        # Step 3: Take first k elements\n",
    "        closest_k = sorted_arr[:k]\n",
    "\n",
    "        # Step 4: Return them sorted\n",
    "        return sorted(closest_k)\n",
    "\n",
    "# tc :\n",
    "# - sorting - O(n logn)\n",
    "# - take k elements - O(k)\n",
    "# - sort - O(n log n)\n",
    "# sc -O(n)\n",
    "\n"
   ]
  },
  {
   "cell_type": "code",
   "execution_count": 2,
   "id": "77846874",
   "metadata": {},
   "outputs": [
    {
     "name": "stdout",
     "output_type": "stream",
     "text": [
      "[3, 2, 4, 1, 5]\n"
     ]
    },
    {
     "data": {
      "text/plain": [
       "[1, 2, 3, 4]"
      ]
     },
     "execution_count": 2,
     "metadata": {},
     "output_type": "execute_result"
    }
   ],
   "source": [
    "Solution().findClosestElements(arr = [1,2,3,4,5], k = 4, x = 3)"
   ]
  },
  {
   "cell_type": "markdown",
   "id": "1e5334ec",
   "metadata": {},
   "source": [
    "🔥 Intuition\n",
    "- The array arr is sorted.\n",
    "- The k closest elements to x form a contiguous subarray of length k.\n",
    "\n",
    "- Our job is to find the starting index of that subarray."
   ]
  },
  {
   "cell_type": "code",
   "execution_count": null,
   "id": "fe7a9ed0",
   "metadata": {},
   "outputs": [],
   "source": [
    "class Solution:\n",
    "    def findClosestElements(self, arr: list[int], k: int, x: int) -> list[int]:\n",
    "        low, high = 0, len(arr) - k\n",
    "        \n",
    "        while low < high:\n",
    "            mid = (low + high) // 2\n",
    "            \n",
    "            if x - arr[mid] > arr[mid + k] - x:\n",
    "                # [1,2,3,4,5] k = 4, x = 3: for this [0,1] will be search space. mid = 0\n",
    "                # 3 - num[0] > num[4] - 3 ->\n",
    "                # 3 - 1 > 5 - 3: no\n",
    "                # so go on left. since there are the smaller elements.\n",
    "                # if yes, then go to right.\n",
    "\n",
    "                \n",
    "                # Closer elements are to the right, move window right\n",
    "                low = mid + 1\n",
    "            else:\n",
    "                # Closer elements are to the left or equal, move window left\n",
    "                high = mid\n",
    "        \n",
    "        # left is the start of k closest elements\n",
    "        return arr[low:low + k]\n",
    "    \n",
    "# tc- O(log (len-k)) + O(k) [ extracting k elements in the end]\n",
    "# sc - O(k)\n"
   ]
  }
 ],
 "metadata": {
  "kernelspec": {
   "display_name": "3.11.11",
   "language": "python",
   "name": "python3"
  },
  "language_info": {
   "codemirror_mode": {
    "name": "ipython",
    "version": 3
   },
   "file_extension": ".py",
   "mimetype": "text/x-python",
   "name": "python",
   "nbconvert_exporter": "python",
   "pygments_lexer": "ipython3",
   "version": "3.11.11"
  }
 },
 "nbformat": 4,
 "nbformat_minor": 5
}
