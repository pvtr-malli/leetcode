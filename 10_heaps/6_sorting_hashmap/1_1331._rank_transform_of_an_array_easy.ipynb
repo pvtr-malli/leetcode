{
 "cells": [
  {
   "cell_type": "markdown",
   "id": "d2ed0f80",
   "metadata": {},
   "source": [
    "Given an array of integers arr, replace each element with its rank.\n",
    "\n",
    "The rank represents how large the element is. The rank has the following rules:\n",
    "\n",
    "Rank is an integer starting from 1.\n",
    "The larger the element, the larger the rank. If two elements are equal, their rank must be the same.\n",
    "Rank should be as small as possible.\n",
    " \n",
    "\n",
    "Example 1:\n",
    "\n",
    "Input: arr = [40,10,20,30]\n",
    "Output: [4,1,2,3]\n",
    "Explanation: 40 is the largest element. 10 is the smallest. 20 is the second smallest. 30 is the third smallest.\n",
    "Example 2:\n",
    "\n",
    "Input: arr = [100,100,100]\n",
    "Output: [1,1,1]\n",
    "Explanation: Same elements share the same rank.\n",
    "Example 3:\n",
    "\n",
    "Input: arr = [37,12,28,9,100,56,80,5,12]\n",
    "Output: [5,3,4,2,8,6,7,1,3]\n",
    " \n",
    "\n",
    "Constraints:\n",
    "\n",
    "0 <= arr.length <= 105\n",
    "-109 <= arr[i] <= 109"
   ]
  },
  {
   "cell_type": "code",
   "execution_count": null,
   "id": "ef510665",
   "metadata": {},
   "outputs": [],
   "source": [
    "class Solution:\n",
    "    def arrayRankTransform(self, arr: list[int]) -> list[int]:\n",
    "        # Step 1: Sort unique values\n",
    "        sorted_unique = sorted(set(arr))  # Removes duplicates and sorts\n",
    "        \n",
    "        # Step 2: Assign ranks to each unique number\n",
    "        rank_map = {num: i + 1 for i, num in enumerate(sorted_unique)}\n",
    "        \n",
    "        # Step 3: Replace each element in original array with its rank\n",
    "        return [rank_map[num] for num in arr]\n",
    "\n",
    "# tc - O(n logn)\n",
    "# sc - O(n)"
   ]
  }
 ],
 "metadata": {
  "language_info": {
   "name": "python"
  }
 },
 "nbformat": 4,
 "nbformat_minor": 5
}
