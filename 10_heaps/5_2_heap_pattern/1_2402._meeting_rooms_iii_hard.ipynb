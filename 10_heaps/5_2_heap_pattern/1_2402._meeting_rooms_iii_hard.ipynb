{
 "cells": [
  {
   "cell_type": "markdown",
   "id": "8ab0688e",
   "metadata": {},
   "source": [
    "You are given an integer n. There are n rooms numbered from 0 to n - 1.\n",
    "\n",
    "You are given a 2D integer array meetings where meetings[i] = [starti, endi] means that a meeting will be held during the half-closed time interval [starti, endi). All the values of starti are unique.\n",
    "\n",
    "Meetings are allocated to rooms in the following manner:\n",
    "\n",
    "Each meeting will take place in the unused room with the lowest number.\n",
    "If there are no available rooms, the meeting will be delayed until a room becomes free. The delayed meeting should have the same duration as the original meeting.\n",
    "When a room becomes unused, meetings that have an earlier original start time should be given the room.\n",
    "Return the number of the room that held the most meetings. If there are multiple rooms, return the room with the lowest number.\n",
    "\n",
    "A half-closed interval [a, b) is the interval between a and b including a and not including b.\n",
    "\n",
    " \n",
    "\n",
    "Example 1:\n",
    "\n",
    "Input: n = 2, meetings = [[0,10],[1,5],[2,7],[3,4]]\n",
    "Output: 0\n",
    "Explanation:\n",
    "- At time 0, both rooms are not being used. The first meeting starts in room 0.\n",
    "- At time 1, only room 1 is not being used. The second meeting starts in room 1.\n",
    "- At time 2, both rooms are being used. The third meeting is delayed.\n",
    "- At time 3, both rooms are being used. The fourth meeting is delayed.\n",
    "- At time 5, the meeting in room 1 finishes. The third meeting starts in room 1 for the time period [5,10).\n",
    "- At time 10, the meetings in both rooms finish. The fourth meeting starts in room 0 for the time period [10,11).\n",
    "Both rooms 0 and 1 held 2 meetings, so we return 0. \n",
    "Example 2:\n",
    "\n",
    "Input: n = 3, meetings = [[1,20],[2,10],[3,5],[4,9],[6,8]]\n",
    "Output: 1\n",
    "Explanation:\n",
    "- At time 1, all three rooms are not being used. The first meeting starts in room 0.\n",
    "- At time 2, rooms 1 and 2 are not being used. The second meeting starts in room 1.\n",
    "- At time 3, only room 2 is not being used. The third meeting starts in room 2.\n",
    "- At time 4, all three rooms are being used. The fourth meeting is delayed.\n",
    "- At time 5, the meeting in room 2 finishes. The fourth meeting starts in room 2 for the time period [5,10).\n",
    "- At time 6, all three rooms are being used. The fifth meeting is delayed.\n",
    "- At time 10, the meetings in rooms 1 and 2 finish. The fifth meeting starts in room 1 for the time period [10,12).\n",
    "Room 0 held 1 meeting while rooms 1 and 2 each held 2 meetings, so we return 1. \n",
    " \n",
    "\n",
    "Constraints:\n",
    "\n",
    "1 <= n <= 100\n",
    "1 <= meetings.length <= 105\n",
    "meetings[i].length == 2\n",
    "0 <= starti < endi <= 5 * 105\n",
    "All the values of starti are unique."
   ]
  },
  {
   "cell_type": "markdown",
   "id": "86929225",
   "metadata": {},
   "source": [
    "# approach 1:\n",
    "- thinking of using 3 heaps, - one for meeting room tracking, one for running meetings, one for delayed meetings.\n",
    "- go through the meetings and assign the meeting to the available room push it to the running meeting (end time, room no) - min heap\n",
    "- then if any meeting gets over, push back the room to the available room.\n",
    "- if rooms are avilable then strat using it."
   ]
  },
  {
   "cell_type": "code",
   "execution_count": null,
   "id": "8b1309f5",
   "metadata": {},
   "outputs": [],
   "source": [
    "import heapq\n",
    "\n",
    "class Solution:\n",
    "    def mostBooked(self, n: int, meetings: list[list[int]]) -> int:\n",
    "        meetings.sort()\n",
    "        available_rooms = list(range(n))\n",
    "        heapq.heapify(available_rooms)\n",
    "        running_meetings = [] # (end time, room no) - min heap\n",
    "        delayed_meetings = [] # (start, end time) - min heap \n",
    "        how_many_meetings = {} # room no: freq of used for meeting\n",
    "        max_end_time = 0 \n",
    "\n",
    "        # push the meetings to the respective heaps.\n",
    "        for m in meetings:\n",
    "            if available_rooms:\n",
    "                # mark the room when there is a meeting happening.\n",
    "                room_no = heapq.heappop(available_rooms)\n",
    "                how_many_meetings[room_no] = how_many_meetings.get(room_no, 0) + 1\n",
    "                heapq.heappush(running_meetings, (m[1], room_no))\n",
    "            else:\n",
    "                heapq.heappush(delayed_meetings, m)\n",
    "\n",
    "            if m[1] > max_end_time:\n",
    "                max_end_time = m[1]\n",
    "\n",
    "        print(available_rooms, running_meetings, how_many_meetings)\n",
    "        \n",
    "        # start ending the meetings.\n",
    "        for end in range(max_end_time + 1):\n",
    "            while running_meetings and running_meetings[0][0] <= end:\n",
    "                # this meeting is done, we can give back the room to available.\n",
    "                t, room_no = heapq.heappop(running_meetings)\n",
    "                heapq.heappush(available_rooms, room_no)\n",
    "            \n",
    "            # when there is some available rooms, we can use them.\n",
    "            while available_rooms and delayed_meetings:\n",
    "                s,e = heapq.heappop(delayed_meetings)\n",
    "                # The meeting duration should ne the original meeting duration.\n",
    "                duration = e - s \n",
    "                # so the new meeting will start from the current end time and end at end + druration time.\n",
    "                room_no = heapq.heappop(available_rooms)\n",
    "                how_many_meetings[room_no] = how_many_meetings.get(room_no, 0) + 1\n",
    "                heapq.heappush(running_meetings, (end + duration, room_no))\n",
    "\n",
    "        # Find room with maximum meeting count, return smallest index in case of tie\n",
    "        print(how_many_meetings)\n",
    "        max_meetings = max(how_many_meetings.values())\n",
    "        for i in range(n):\n",
    "            if how_many_meetings[i] == max_meetings:\n",
    "                return i\n",
    "\n",
    "\n",
    "# Use the below code. for better one. NOTE"
   ]
  },
  {
   "cell_type": "code",
   "execution_count": 22,
   "id": "1398d438",
   "metadata": {},
   "outputs": [
    {
     "name": "stdout",
     "output_type": "stream",
     "text": [
      "[] [(5, 1), (10, 0)] {0: 1, 1: 1}\n",
      "{0: 1, 1: 2}\n"
     ]
    },
    {
     "data": {
      "text/plain": [
       "1"
      ]
     },
     "execution_count": 22,
     "metadata": {},
     "output_type": "execute_result"
    }
   ],
   "source": [
    "Solution().mostBooked(n = 2, meetings = [[0,10],[1,5],[2,7],[3,4]])"
   ]
  },
  {
   "cell_type": "code",
   "execution_count": 23,
   "id": "d6b5c09a",
   "metadata": {},
   "outputs": [
    {
     "name": "stdout",
     "output_type": "stream",
     "text": [
      "[] [(5, 2), (20, 0), (10, 1)] {0: 1, 1: 1, 2: 1}\n",
      "{0: 1, 1: 2, 2: 2}\n"
     ]
    },
    {
     "data": {
      "text/plain": [
       "1"
      ]
     },
     "execution_count": 23,
     "metadata": {},
     "output_type": "execute_result"
    }
   ],
   "source": [
    "Solution().mostBooked(n = 3, meetings = [[1,20],[2,10],[3,5],[4,9],[6,8]])"
   ]
  },
  {
   "cell_type": "code",
   "execution_count": 24,
   "id": "92eebc8c",
   "metadata": {},
   "outputs": [
    {
     "name": "stdout",
     "output_type": "stream",
     "text": [
      "[] [(1, 0)] {0: 1}\n",
      "{0: 1}\n"
     ]
    },
    {
     "data": {
      "text/plain": [
       "0"
      ]
     },
     "execution_count": 24,
     "metadata": {},
     "output_type": "execute_result"
    }
   ],
   "source": [
    "Solution().mostBooked(n=1, meetings = [[0,1]])"
   ]
  },
  {
   "cell_type": "code",
   "execution_count": null,
   "id": "6bb7f579",
   "metadata": {},
   "outputs": [],
   "source": [
    "import heapq\n",
    "\n",
    "class Solution:\n",
    "    def mostBooked(self, n: int, meetings: list[list[int]]) -> int:\n",
    "        # meetings.sort()\n",
    "        available = list(range(n))\n",
    "        heapq.heapify(available)\n",
    "        running = []  # (end_time, room_number)\n",
    "        count = [0] * n  # count[i] = number of meetings room i handled\n",
    "\n",
    "        for start, end in meetings:\n",
    "            # Free up rooms whose meetings ended before current meeting's start\n",
    "            while running and running[0][0] <= start:\n",
    "                _, room = heapq.heappop(running)\n",
    "                heapq.heappush(available, room)\n",
    "            \n",
    "            if available:\n",
    "                # if there are rooms available, take it.\n",
    "                room = heapq.heappop(available)\n",
    "                heapq.heappush(running, (end, room))\n",
    "                count[room] += 1\n",
    "            else:\n",
    "                # No rooms free, Take the earlist one and push the current meeting hte new end time duration.\n",
    "                earliest_end, room = heapq.heappop(running)\n",
    "                duration = end - start\n",
    "                new_end = earliest_end + duration\n",
    "                heapq.heappush(running, (new_end, room))\n",
    "                count[room] += 1\n",
    "        \n",
    "        # Find room with maximum meeting count, return smallest index in case of tie\n",
    "        max_meetings = max(count)\n",
    "        for i in range(n):\n",
    "            if count[i] == max_meetings:\n",
    "                return i\n",
    "\n",
    "\n",
    "# tc :\n",
    "# - sorting O(m log m)\n",
    "# - For each meeting: heap ops → O(log n)\n",
    "\n",
    "# sc:\n",
    "# O(n) for available rooms and count array\n",
    "# O(m) for heap (in worst case)"
   ]
  },
  {
   "cell_type": "markdown",
   "id": "bf17ad30",
   "metadata": {},
   "source": [
    "\n",
    "n = 3\n",
    "meetings = [[1, 20], [2, 10], [3, 5], [4, 9], [6, 8]]\n",
    "\n",
    "\n",
    "- how to calculate the new end time. = (5, 2) 5 end time running in room no 2. . (4,9) is comming, \n",
    "- so we will end the meeting at 5. so the 4th meeting can start at 5 and the duration of the meeting is (9 - 4) == 5. \n",
    "- so it wiil start at 5 and end at 10.\n",
    "\n",
    "\n",
    "\n",
    "| Step | Meeting  | Action                                                             | Room Used | New End Time | Running Heap (after)          | Available Heap (after) | Count       |\n",
    "| ---- | -------- | ------------------------------------------------------------------ | --------- | ------------ | ----------------------------- | ---------------------- | ----------- |\n",
    "| 1    | \\[1, 20] | Room 0 available, schedule directly                                | 0         | 20           | `[(20, 0)]`                   | `[1, 2]`               | `[1, 0, 0]` |\n",
    "| 2    | \\[2, 10] | Room 1 available, schedule directly                                | 1         | 10           | `[(10, 1), (20, 0)]`          | `[2]`                  | `[1, 1, 0]` |\n",
    "| 3    | \\[3, 5]  | Room 2 available, schedule directly                                | 2         | 5            | `[(5, 2), (20, 0), (10, 1)]`  | `[]`                   | `[1, 1, 1]` |\n",
    "| 4    | \\[4, 9]  | No rooms free, wait for (5, 2), delay to \\[5, 10], re-use room 2   | 2         | 10           | `[(10, 1), (20, 0), (10, 2)]` | `[]`                   | `[1, 1, 2]` |\n",
    "| 5    | \\[6, 8]  | No rooms free, wait for (10, 1), delay to \\[10, 12], re-use room 1 | 1         | 12           | `[(10, 2), (20, 0), (12, 1)]` | `[]`                   | `[1, 2, 2]` |\n",
    "\n"
   ]
  },
  {
   "cell_type": "code",
   "execution_count": null,
   "id": "b1f8870e",
   "metadata": {},
   "outputs": [],
   "source": []
  }
 ],
 "metadata": {
  "kernelspec": {
   "display_name": "3.11.11",
   "language": "python",
   "name": "python3"
  },
  "language_info": {
   "codemirror_mode": {
    "name": "ipython",
    "version": 3
   },
   "file_extension": ".py",
   "mimetype": "text/x-python",
   "name": "python",
   "nbconvert_exporter": "python",
   "pygments_lexer": "ipython3",
   "version": "3.11.11"
  }
 },
 "nbformat": 4,
 "nbformat_minor": 5
}
