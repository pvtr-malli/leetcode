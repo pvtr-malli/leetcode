{
 "cells": [
  {
   "cell_type": "markdown",
   "id": "61ca1da2",
   "metadata": {},
   "source": [
    "A car travels from a starting position to a destination which is target miles east of the starting position.\n",
    "\n",
    "There are gas stations along the way. The gas stations are represented as an array stations where stations[i] = [positioni, fueli] indicates that the ith gas station is positioni miles east of the starting position and has fueli liters of gas.\n",
    "\n",
    "The car starts with an infinite tank of gas, which initially has startFuel liters of fuel in it. It uses one liter of gas per one mile that it drives. When the car reaches a gas station, it may stop and refuel, transferring all the gas from the station into the car.\n",
    "\n",
    "Return the minimum number of refueling stops the car must make in order to reach its destination. If it cannot reach the destination, return -1.\n",
    "\n",
    "Note that if the car reaches a gas station with 0 fuel left, the car can still refuel there. If the car reaches the destination with 0 fuel left, it is still considered to have arrived.\n",
    "\n",
    " \n",
    "\n",
    "Example 1:\n",
    "\n",
    "Input: target = 1, startFuel = 1, stations = []\n",
    "Output: 0\n",
    "Explanation: We can reach the target without refueling.\n",
    "Example 2:\n",
    "\n",
    "Input: target = 100, startFuel = 1, stations = [[10,100]]\n",
    "Output: -1\n",
    "Explanation: We can not reach the target (or even the first gas station).\n",
    "Example 3:\n",
    "\n",
    "Input: target = 100, startFuel = 10, stations = [[10,60],[20,30],[30,30],[60,40]]\n",
    "Output: 2\n",
    "Explanation: We start with 10 liters of fuel.\n",
    "We drive to position 10, expending 10 liters of fuel.  We refuel from 0 liters to 60 liters of gas.\n",
    "Then, we drive from position 10 to position 60 (expending 50 liters of fuel),\n",
    "and refuel from 10 liters to 50 liters of gas.  We then drive to and reach the target.\n",
    "We made 2 refueling stops along the way, so we return 2.\n",
    " \n",
    "\n",
    "Constraints:\n",
    "\n",
    "1 <= target, startFuel <= 109\n",
    "0 <= stations.length <= 500\n",
    "1 <= positioni < positioni+1 < target\n",
    "1 <= fueli < 109"
   ]
  },
  {
   "cell_type": "markdown",
   "id": "ae291b97",
   "metadata": {},
   "source": [
    "# try all the stations:\n",
    "- in each station, we either decide to re-fuel or not.\n",
    "- take not take pattern.\n",
    "\n",
    "# you can use DP also to solve it."
   ]
  },
  {
   "cell_type": "code",
   "execution_count": null,
   "id": "ada9b904",
   "metadata": {},
   "outputs": [],
   "source": [
    "class Solution:\n",
    "    def minRefuelStops(self, target: int, startFuel: int, stations: list[list[int]]) -> int:\n",
    "        n = len(stations)\n",
    "        \n",
    "        def dfs(i, fuel, stops):\n",
    "            # If we can already reach the target\n",
    "            if fuel >= target:\n",
    "                return stops\n",
    "            # If no more stations left to explore\n",
    "            if i == n:\n",
    "                return float('inf')\n",
    "            \n",
    "            pos, cap = stations[i]\n",
    "            \n",
    "            # Option 1: skip the current station\n",
    "            not_take = dfs(i + 1, fuel, stops)\n",
    "\n",
    "            # Option 2: take the current station if reachable\n",
    "            take = float('inf')\n",
    "            if fuel >= pos:\n",
    "                take = dfs(i + 1, fuel + cap, stops + 1)\n",
    "            \n",
    "            return min(not_take, take)\n",
    "        \n",
    "        res = dfs(0, startFuel, 0)\n",
    "\n",
    "        return res if res != float('inf') else -1\n"
   ]
  },
  {
   "cell_type": "markdown",
   "id": "9ca2c53a",
   "metadata": {},
   "source": [
    "# Heap solution."
   ]
  },
  {
   "cell_type": "code",
   "execution_count": null,
   "id": "11b50eb1",
   "metadata": {},
   "outputs": [],
   "source": [
    "import heapq\n",
    "\n",
    "class Solution:\n",
    "    def minRefuelStops(self, target: int, startFuel: int, stations: list[list[int]]) -> int:\n",
    "        n = len(stations)\n",
    "        i = 0\n",
    "        fuel = startFuel\n",
    "        max_heap = []\n",
    "        stops = 0\n",
    "        # you go until the target is reached.\n",
    "        while fuel < target:\n",
    "\n",
    "            # so push all the station, until we can drive to. which means,\n",
    "            # all the stations <= fuel distance.\n",
    "            # and the stations are sorted based on the position, so if you push a element,\n",
    "            # you dont need to psuh again.\n",
    "\n",
    "            # we need to take the station which has hte maxium fuel, so we can drive to maximum.\n",
    "            while i < n and stations[i][0] <= fuel:\n",
    "                heapq.heappush(max_heap, - stations[i][1])\n",
    "                i += 1  \n",
    "            \n",
    "            # take the station which can give the maximum feul.\n",
    "            if max_heap:\n",
    "                f = heapq.heappop(max_heap)\n",
    "                fuel += (-f)\n",
    "                stops += 1\n",
    "            else:\n",
    "                # we need more feul to go, but there is no fuel station.\n",
    "                # not possible to reach\n",
    "                return -1\n",
    "            \n",
    "            # NOTE: why we are not clearing the heap.\n",
    "            # we take a feul station at 60 distance \n",
    "            # Target: 100\n",
    "            # Start Fuel: 10\n",
    "            # Stations:\n",
    "            # [ [10, 20], [20, 60], [30, 10]]\n",
    "            # so I'll re-fuel at station 10 and get fuel = 30. here I have 2 rechable stations. i refuel at 60 staion. fuel - 90. \n",
    "            # now I still need that, 10 to reach, so alway keep the stations, if we need more we will take from the maxium fuel staion.\n",
    "            \n",
    "        \n",
    "        return stops if fuel >= target else -1\n",
    "\n",
    "# tc - in worst case we push and pop all the station in the heap - O(n log n)\n",
    "# sc - O(n)"
   ]
  },
  {
   "cell_type": "code",
   "execution_count": 13,
   "id": "7261c5e8",
   "metadata": {},
   "outputs": [
    {
     "data": {
      "text/plain": [
       "0"
      ]
     },
     "execution_count": 13,
     "metadata": {},
     "output_type": "execute_result"
    }
   ],
   "source": [
    "Solution().minRefuelStops(target = 1, startFuel = 1, stations = [])"
   ]
  },
  {
   "cell_type": "code",
   "execution_count": 14,
   "id": "a5a0088e",
   "metadata": {},
   "outputs": [
    {
     "data": {
      "text/plain": [
       "-1"
      ]
     },
     "execution_count": 14,
     "metadata": {},
     "output_type": "execute_result"
    }
   ],
   "source": [
    "Solution().minRefuelStops(target = 100, startFuel = 1, stations = [[10,100]])"
   ]
  },
  {
   "cell_type": "code",
   "execution_count": 15,
   "id": "fa1e17da",
   "metadata": {},
   "outputs": [
    {
     "data": {
      "text/plain": [
       "2"
      ]
     },
     "execution_count": 15,
     "metadata": {},
     "output_type": "execute_result"
    }
   ],
   "source": [
    "Solution().minRefuelStops(target = 100, startFuel = 10, stations = [[10,60],[20,30],[30,30],[60,40]])"
   ]
  },
  {
   "cell_type": "code",
   "execution_count": null,
   "id": "9374789b",
   "metadata": {},
   "outputs": [],
   "source": []
  }
 ],
 "metadata": {
  "kernelspec": {
   "display_name": "3.11.11",
   "language": "python",
   "name": "python3"
  },
  "language_info": {
   "codemirror_mode": {
    "name": "ipython",
    "version": 3
   },
   "file_extension": ".py",
   "mimetype": "text/x-python",
   "name": "python",
   "nbconvert_exporter": "python",
   "pygments_lexer": "ipython3",
   "version": "3.11.11"
  }
 },
 "nbformat": 4,
 "nbformat_minor": 5
}
