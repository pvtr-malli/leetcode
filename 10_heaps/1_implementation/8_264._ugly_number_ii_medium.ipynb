{
 "cells": [
  {
   "cell_type": "markdown",
   "id": "a9b590f1",
   "metadata": {},
   "source": [
    "An ugly number is a positive integer whose prime factors are limited to 2, 3, and 5.\n",
    "\n",
    "Given an integer n, return the nth ugly number.\n",
    "\n",
    " \n",
    "\n",
    "Example 1:\n",
    "\n",
    "Input: n = 10\n",
    "Output: 12\n",
    "Explanation: [1, 2, 3, 4, 5, 6, 8, 9, 10, 12] is the sequence of the first 10 ugly numbers.\n",
    "Example 2:\n",
    "\n",
    "Input: n = 1\n",
    "Output: 1\n",
    "Explanation: 1 has no prime factors, therefore all of its prime factors are limited to 2, 3, and 5.\n",
    " \n",
    "\n",
    "Constraints:\n",
    "\n",
    "1 <= n <= 1690"
   ]
  },
  {
   "cell_type": "markdown",
   "id": "5b02f08b",
   "metadata": {},
   "source": [
    "# approach:\n",
    "- instead of checking if a number is a factor of 2,3 and 5. We can only generate the numbers which can be ugly.\n",
    "- So start with 1 in the min heap, pop from the heap for n times, and each time push ele * 2, ele * 3, ele *5."
   ]
  },
  {
   "cell_type": "code",
   "execution_count": null,
   "id": "9f063e11",
   "metadata": {},
   "outputs": [],
   "source": [
    "import heapq\n",
    "\n",
    "class Solution:\n",
    "    def nthUglyNumber(self, n: int) -> int:\n",
    "        heap = [1]\n",
    "        seen = set([1])\n",
    "        primes = [2, 3, 5]\n",
    "\n",
    "        for _ in range(n):\n",
    "            curr = heapq.heappop(heap)\n",
    "\n",
    "            for prime in primes:\n",
    "                next_ugly = curr * prime\n",
    "                if next_ugly not in seen:\n",
    "                    seen.add(next_ugly)\n",
    "                    heapq.heappush(heap, next_ugly)\n",
    "\n",
    "        return curr\n",
    "    \n",
    "# O(n log n): Each heapq.heappop() and heappush() takes log time.\n",
    "# sc - O(n) for the heap and seen elements."
   ]
  },
  {
   "cell_type": "markdown",
   "id": "17c11d42",
   "metadata": {},
   "source": [
    "n = 10\n",
    "\n",
    "| Step | Heap (min on top)                                 | Popped (ugly number) | New Insertions (×2,×3,×5) |\n",
    "| ---- | ------------------------------------------------- | -------------------- | ------------------------- |\n",
    "| 1    | \\[1]                                              | 1                    | 2, 3, 5                   |\n",
    "| 2    | \\[2, 3, 5]                                        | 2                    | 4, 6, 10                  |\n",
    "| 3    | \\[3, 4, 5, 6, 10]                                 | 3                    | 9, 15                     |\n",
    "| 4    | \\[4, 5, 6, 10, 9, 15]                             | 4                    | 8, 12, 20                 |\n",
    "| 5    | \\[5, 6, 8, 10, 9, 15, 12, 20]                     | 5                    | 25                        |\n",
    "| 6    | \\[6, 8, 9, 10, 20, 15, 12, 25]                    | 6                    | 18, 30                    |\n",
    "| 7    | \\[8, 9, 12, 10, 20, 15, 25, 18, 30]               | 8                    | 16, 24, 40                |\n",
    "| 8    | \\[9, 10, 12, 18, 20, 15, 25, 30, 16, 24, 40]      | 9                    | 27, 45                    |\n",
    "| 9    | \\[10, 15, 12, 18, 20, 40, 25, 30, 16, 24, 27, 45] | 10                   | 50, 30                    |\n",
    "| 10   | \\[12, 15, 16, 18, 20, 40, 25, 30, 50, 24, 27, 45] | **12**               | → Return                  |\n"
   ]
  },
  {
   "cell_type": "markdown",
   "id": "0e036d81",
   "metadata": {},
   "source": [
    "# Better solution using DP:"
   ]
  },
  {
   "cell_type": "code",
   "execution_count": null,
   "id": "ef4e1156",
   "metadata": {},
   "outputs": [],
   "source": [
    "class Solution:\n",
    "    def nthUglyNumber(self, n: int) -> int:\n",
    "        \"\"\"\n",
    "        Recursive version of the three-pointer approach.\n",
    "        Build ugly numbers by multiplying previous ugly numbers by 2, 3, 5.\n",
    "        \"\"\"\n",
    "        \n",
    "        def solve(pos, t2, t3, t5, uglies):\n",
    "            # Base case: found the nth ugly number\n",
    "            if pos == n:\n",
    "                return uglies[n-1]\n",
    "            \n",
    "            # Calculate next candidates from three streams\n",
    "            next2 = uglies[t2] * 2\n",
    "            next3 = uglies[t3] * 3  \n",
    "            next5 = uglies[t5] * 5\n",
    "            \n",
    "            # Choose the minimum as next ugly number\n",
    "            next_ugly = min(next2, next3, next5)\n",
    "            uglies.append(next_ugly)\n",
    "            \n",
    "            # Update pointers (advance the pointer that generated this ugly number)\n",
    "            new_t2 = t2 + 1 if next_ugly == next2 else t2\n",
    "            new_t3 = t3 + 1 if next_ugly == next3 else t3\n",
    "            new_t5 = t5 + 1 if next_ugly == next5 else t5\n",
    "            \n",
    "            return solve(pos + 1, new_t2, new_t3, new_t5, uglies)\n",
    "        \n",
    "        # Base case\n",
    "        if n == 1:\n",
    "            return 1\n",
    "            \n",
    "        # Start recursion with first ugly number = 1\n",
    "        return solve(1, 0, 0, 0, [1])\n"
   ]
  },
  {
   "cell_type": "code",
   "execution_count": null,
   "id": "fa62bbf7",
   "metadata": {},
   "outputs": [
    {
     "data": {
      "text/plain": [
       "512"
      ]
     },
     "execution_count": 2,
     "metadata": {},
     "output_type": "execute_result"
    }
   ],
   "source": [
    "# this is the 3-pointer solution:\n",
    "\n",
    "class Solution:\n",
    "    def nthUglyNumber(self, n: int) -> int:\n",
    "        ugly = [0] * n\n",
    "        ugly[0] = 1\n",
    "        i2 = i3 = i5 = 0\n",
    "\n",
    "        for i in range(1, n):\n",
    "            next2, next3, next5 = ugly[i2]*2, ugly[i3]*3, ugly[i5]*5\n",
    "            next_ugly = min(next2, next3, next5)\n",
    "            ugly[i] = next_ugly\n",
    "\n",
    "            if next_ugly == next2: i2 += 1\n",
    "            if next_ugly == next3: i3 += 1\n",
    "            if next_ugly == next5: i5 += 1\n",
    "\n",
    "        return ugly[n-1]\n"
   ]
  },
  {
   "cell_type": "markdown",
   "id": "2e3c12b2",
   "metadata": {},
   "source": [
    "n = 10\n",
    "\n",
    "| Step (i) | i2 | i3 | i5 | next2 | next3 | next5 | next\\_ugly | ugly array so far                 |\n",
    "| -------- | -- | -- | -- | ----- | ----- | ----- | ---------- | --------------------------------- |\n",
    "| 0        | 0  | 0  | 0  | 2     | 3     | 5     | 1          | \\[1]                              |\n",
    "| 1        | 1  | 0  | 0  | 2     | 3     | 5     | 2          | \\[1, 2]                           |\n",
    "| 2        | 1  | 1  | 0  | 4     | 3     | 5     | 3          | \\[1, 2, 3]                        |\n",
    "| 3        | 2  | 1  | 0  | 4     | 6     | 5     | 4          | \\[1, 2, 3, 4]                     |\n",
    "| 4        | 3  | 1  | 0  | 6     | 6     | 5     | 5          | \\[1, 2, 3, 4, 5]                  |\n",
    "| 5        | 3  | 1  | 1  | 6     | 6     | 10    | 6          | \\[1, 2, 3, 4, 5, 6]               |\n",
    "| 6        | 4  | 2  | 1  | 8     | 9     | 10    | 8          | \\[1, 2, 3, 4, 5, 6, 8]            |\n",
    "| 7        | 5  | 2  | 1  | 10    | 9     | 10    | 9          | \\[1, 2, 3, 4, 5, 6, 8, 9]         |\n",
    "| 8        | 5  | 3  | 1  | 10    | 12    | 10    | 10         | \\[1, 2, 3, 4, 5, 6, 8, 9, 10]     |\n",
    "| 9        | 6  | 3  | 2  | 12    | 12    | 15    | 12         | \\[1, 2, 3, 4, 5, 6, 8, 9, 10, 12] |\n"
   ]
  },
  {
   "cell_type": "code",
   "execution_count": null,
   "id": "3012b25e",
   "metadata": {},
   "outputs": [],
   "source": []
  }
 ],
 "metadata": {
  "kernelspec": {
   "display_name": "3.11.11",
   "language": "python",
   "name": "python3"
  },
  "language_info": {
   "codemirror_mode": {
    "name": "ipython",
    "version": 3
   },
   "file_extension": ".py",
   "mimetype": "text/x-python",
   "name": "python",
   "nbconvert_exporter": "python",
   "pygments_lexer": "ipython3",
   "version": "3.11.11"
  }
 },
 "nbformat": 4,
 "nbformat_minor": 5
}
