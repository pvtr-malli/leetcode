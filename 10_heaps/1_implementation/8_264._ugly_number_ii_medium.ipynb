{
 "cells": [
  {
   "cell_type": "markdown",
   "id": "a9b590f1",
   "metadata": {},
   "source": [
    "An ugly number is a positive integer whose prime factors are limited to 2, 3, and 5.\n",
    "\n",
    "Given an integer n, return the nth ugly number.\n",
    "\n",
    " \n",
    "\n",
    "Example 1:\n",
    "\n",
    "Input: n = 10\n",
    "Output: 12\n",
    "Explanation: [1, 2, 3, 4, 5, 6, 8, 9, 10, 12] is the sequence of the first 10 ugly numbers.\n",
    "Example 2:\n",
    "\n",
    "Input: n = 1\n",
    "Output: 1\n",
    "Explanation: 1 has no prime factors, therefore all of its prime factors are limited to 2, 3, and 5.\n",
    " \n",
    "\n",
    "Constraints:\n",
    "\n",
    "1 <= n <= 1690"
   ]
  },
  {
   "cell_type": "markdown",
   "id": "5b02f08b",
   "metadata": {},
   "source": [
    "# approach:\n",
    "- instead of checking if a number is a factor of 2,3 and 5. We can only generate the numbers which can be ugly.\n",
    "- So start with 1 in the min heap, pop from the heap for n times, and each time push ele * 2, ele * 3, ele *5."
   ]
  },
  {
   "cell_type": "code",
   "execution_count": null,
   "id": "9f063e11",
   "metadata": {},
   "outputs": [],
   "source": [
    "import heapq\n",
    "\n",
    "class Solution:\n",
    "    def nthUglyNumber(self, n: int) -> int:\n",
    "        heap = [1]\n",
    "        seen = set([1])\n",
    "        primes = [2, 3, 5]\n",
    "\n",
    "        for _ in range(n):\n",
    "            curr = heapq.heappop(heap)\n",
    "\n",
    "            for prime in primes:\n",
    "                next_ugly = curr * prime\n",
    "                if next_ugly not in seen:\n",
    "                    seen.add(next_ugly)\n",
    "                    heapq.heappush(heap, next_ugly)\n",
    "\n",
    "        return curr\n",
    "    \n",
    "# O(n log n): Each heapq.heappop() and heappush() takes log time.\n",
    "# sc - O(n) for the heap and seen elements."
   ]
  },
  {
   "cell_type": "markdown",
   "id": "17c11d42",
   "metadata": {},
   "source": [
    "n = 10\n",
    "\n",
    "| Step | Heap (min on top)                                 | Popped (ugly number) | New Insertions (×2,×3,×5) |\n",
    "| ---- | ------------------------------------------------- | -------------------- | ------------------------- |\n",
    "| 1    | \\[1]                                              | 1                    | 2, 3, 5                   |\n",
    "| 2    | \\[2, 3, 5]                                        | 2                    | 4, 6, 10                  |\n",
    "| 3    | \\[3, 4, 5, 6, 10]                                 | 3                    | 9, 15                     |\n",
    "| 4    | \\[4, 5, 6, 10, 9, 15]                             | 4                    | 8, 12, 20                 |\n",
    "| 5    | \\[5, 6, 8, 10, 9, 15, 12, 20]                     | 5                    | 25                        |\n",
    "| 6    | \\[6, 8, 9, 10, 20, 15, 12, 25]                    | 6                    | 18, 30                    |\n",
    "| 7    | \\[8, 9, 12, 10, 20, 15, 25, 18, 30]               | 8                    | 16, 24, 40                |\n",
    "| 8    | \\[9, 10, 12, 18, 20, 15, 25, 30, 16, 24, 40]      | 9                    | 27, 45                    |\n",
    "| 9    | \\[10, 15, 12, 18, 20, 40, 25, 30, 16, 24, 27, 45] | 10                   | 50, 30                    |\n",
    "| 10   | \\[12, 15, 16, 18, 20, 40, 25, 30, 50, 24, 27, 45] | **12**               | → Return                  |\n"
   ]
  }
 ],
 "metadata": {
  "language_info": {
   "name": "python"
  }
 },
 "nbformat": 4,
 "nbformat_minor": 5
}
