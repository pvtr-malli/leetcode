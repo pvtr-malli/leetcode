{
 "cells": [
  {
   "cell_type": "markdown",
   "id": "23fd90e0",
   "metadata": {},
   "source": [
    "You are given an integer array heights representing the heights of buildings, some bricks, and some ladders.\n",
    "\n",
    "You start your journey from building 0 and move to the next building by possibly using bricks or ladders.\n",
    "\n",
    "While moving from building i to building i+1 (0-indexed),\n",
    "\n",
    "If the current building's height is greater than or equal to the next building's height, you do not need a ladder or bricks.\n",
    "If the current building's height is less than the next building's height, you can either use one ladder or (h[i+1] - h[i]) bricks.\n",
    "Return the furthest building index (0-indexed) you can reach if you use the given ladders and bricks optimally.\n",
    "\n",
    " \n",
    "\n",
    "Example 1:\n",
    "\n",
    "\n",
    "Input: heights = [4,2,7,6,9,14,12], bricks = 5, ladders = 1\n",
    "Output: 4\n",
    "Explanation: Starting at building 0, you can follow these steps:\n",
    "- Go to building 1 without using ladders nor bricks since 4 >= 2.\n",
    "- Go to building 2 using 5 bricks. You must use either bricks or ladders because 2 < 7.\n",
    "- Go to building 3 without using ladders nor bricks since 7 >= 6.\n",
    "- Go to building 4 using your only ladder. You must use either bricks or ladders because 6 < 9.\n",
    "It is impossible to go beyond building 4 because you do not have any more bricks or ladders.\n",
    "Example 2:\n",
    "\n",
    "Input: heights = [4,12,2,7,3,18,20,3,19], bricks = 10, ladders = 2\n",
    "Output: 7\n",
    "Example 3:\n",
    "\n",
    "Input: heights = [14,3,19,3], bricks = 17, ladders = 0\n",
    "Output: 3\n",
    " \n",
    "\n",
    "Constraints:\n",
    "\n",
    "1 <= heights.length <= 105\n",
    "1 <= heights[i] <= 106\n",
    "0 <= bricks <= 109\n",
    "0 <= ladders <= heights.length"
   ]
  },
  {
   "cell_type": "code",
   "execution_count": null,
   "id": "711d41f3",
   "metadata": {},
   "outputs": [],
   "source": [
    "class Solution:\n",
    "    def furthestBuilding(self, heights: list[int], bricks: int, ladders: int) -> int:\n",
    "        return self.dfs_rec(heights, 0, bricks, ladders)\n",
    "\n",
    "    def dfs_rec(self, heights, ind, bricks, ladders):\n",
    "        if ind == len(heights) -1:\n",
    "            return\n",
    "        \n",
    "        # if the cureent hieght is bigger than the next just go.\n",
    "        if heights[ind] > heights[ind+1]:\n",
    "            return self.dfs_rec(heights, ind+1, bricks, ladders)\n",
    "        else:\n",
    "            # you need to use ladder and bricks and take the maximum building you can reach by the both.\n",
    "            bricks_side = ind\n",
    "            ladder_side = ind\n",
    "            if bricks >= (heights[ind+1] - heights[ind]):\n",
    "                bricks_side = self.dfs_rec(heights, ind+1, bricks - (heights[ind+1] - heights[ind]), ladders)\n",
    "            \n",
    "            if ladders > 0:\n",
    "                ladder_side = self.dfs_rec(heights, ind+1, bricks, ladders - 1)\n",
    "        \n",
    "            return max(bricks_side, ladder_side)\n",
    "\n",
    "\n",
    "# tc - O(2 ^ n)\n",
    "# sc - O(n)"
   ]
  },
  {
   "cell_type": "code",
   "execution_count": 3,
   "id": "bd4350ad",
   "metadata": {},
   "outputs": [
    {
     "data": {
      "text/plain": [
       "4"
      ]
     },
     "execution_count": 3,
     "metadata": {},
     "output_type": "execute_result"
    }
   ],
   "source": [
    "Solution().furthestBuilding([4,2,7,6,9,14,12], 5,1)"
   ]
  },
  {
   "cell_type": "code",
   "execution_count": 4,
   "id": "badf5317",
   "metadata": {},
   "outputs": [
    {
     "data": {
      "text/plain": [
       "7"
      ]
     },
     "execution_count": 4,
     "metadata": {},
     "output_type": "execute_result"
    }
   ],
   "source": [
    "Solution().furthestBuilding(heights = [4,12,2,7,3,18,20,3,19], bricks = 10, ladders = 2)"
   ]
  },
  {
   "cell_type": "markdown",
   "id": "c99d4f82",
   "metadata": {},
   "source": [
    "# approach 2:\n",
    "- you have to choose either of the tools - without trying recussion.\n",
    "- 👉 “Among all the jumps we’ve taken so far, the biggest ones should use the ladders.”\n",
    "- so record all the jumps, order it and use the ladder for the bigger ones and use the bricks for the smaller... how ?\n",
    "-  which means I can keep the using ladder jumps in the heap itself,\n",
    "- when I am out of ladders, I can use the bricks for the smaller jumps I did so far. - I can find this using min-heap.\n",
    "- when I get smaller jumps, use min-heap to pop it and use it."
   ]
  },
  {
   "cell_type": "code",
   "execution_count": null,
   "id": "8ebd1cb4",
   "metadata": {},
   "outputs": [],
   "source": [
    "import heapq\n",
    "\n",
    "class Solution:\n",
    "    def furthestBuilding(self, heights: list[int], bricks: int, ladders: int) -> int:\n",
    "        min_heap = []\n",
    "\n",
    "        for i in range(len(heights) - 1):\n",
    "            diff = heights[i + 1] - heights[i]\n",
    "\n",
    "            if diff > 0:\n",
    "                heapq.heappush(min_heap, diff)\n",
    "\n",
    "            # If we used more ladders than we have, we must replace the smallest climb with bricks\n",
    "            if len(min_heap) > ladders:\n",
    "                smallest_climb = heapq.heappop(min_heap)\n",
    "                bricks -= smallest_climb\n",
    "\n",
    "            # If we run out of bricks, we can't go further\n",
    "            if bricks < 0:\n",
    "                # means going to the next building I have no tools, so dont go.\n",
    "                return i\n",
    "\n",
    "        return len(heights) - 1\n",
    "\n",
    "\n",
    "# tc:\n",
    "# going to all the elements - O(n)\n",
    "# maintaining heap - O(log n)\n",
    "# tc - O(n log n)\n",
    "# sc - O(n)"
   ]
  },
  {
   "cell_type": "code",
   "execution_count": 8,
   "id": "3d4c1c8a",
   "metadata": {},
   "outputs": [
    {
     "name": "stdout",
     "output_type": "stream",
     "text": [
      "4\n"
     ]
    }
   ],
   "source": [
    "heights = [4,2,7,6,9,14,12]\n",
    "bricks = 5\n",
    "ladders = 1\n",
    "\n",
    "sol = Solution()\n",
    "print(sol.furthestBuilding(heights, bricks, ladders))  # Output: 4\n"
   ]
  },
  {
   "cell_type": "code",
   "execution_count": 9,
   "id": "04cdd573",
   "metadata": {},
   "outputs": [
    {
     "data": {
      "text/plain": [
       "7"
      ]
     },
     "execution_count": 9,
     "metadata": {},
     "output_type": "execute_result"
    }
   ],
   "source": [
    "Solution().furthestBuilding(heights = [4,12,2,7,3,18,20,3,19], bricks = 10, ladders = 2)"
   ]
  },
  {
   "cell_type": "markdown",
   "id": "4e2cdf68",
   "metadata": {},
   "source": [
    "heights = [4,12,2,7,3,18,20,3,19], bricks = 10, ladders = 2\n",
    "\n",
    "\n",
    "| **i** | **heights\\[i] → heights\\[i+1]** | **climb** | **Heap After Push** | **Action**                               | **Bricks Left** | **Ladders Used** |\n",
    "| ----: | ------------------------------- | --------- | ------------------- | ---------------------------------------- | --------------: | ---------------- |\n",
    "|     0 | 4 → 12                          | 8         | \\[8]                | Heap size ≤ ladders → keep for ladder    |              10 | 0                |\n",
    "|     1 | 12 → 2                          | -10       | \\[8]                | No climb                                 |              10 | 0                |\n",
    "|     2 | 2 → 7                           | 5         | \\[5, 8]             | Heap size ≤ ladders → keep for ladder    |              10 | 0                |\n",
    "|     3 | 7 → 3                           | -4        | \\[5, 8]             | No climb                                 |              10 | 0                |\n",
    "|     4 | 3 → 18                          | 15        | \\[5, 8, 15]         | Heap size > ladders → pop 5 → use bricks |      10 − 5 = 5 | 0                |\n",
    "|     5 | 18 → 20                         | 2         | \\[2, 15, 8]         | Heap size > ladders → pop 2 → use bricks |       5 − 2 = 3 | 0                |\n",
    "|     6 | 20 → 3                          | -17       | \\[8, 15]            | No climb                                 |               3 | 0                |\n",
    "|     7 | 3 → 19                          | 16        | \\[8, 15, 16]        | Heap size > ladders → pop 8 → use bricks |  3 − 8 = **-5** | 0                |\n"
   ]
  },
  {
   "cell_type": "code",
   "execution_count": null,
   "id": "f9dfd8ce",
   "metadata": {},
   "outputs": [],
   "source": []
  }
 ],
 "metadata": {
  "kernelspec": {
   "display_name": "3.11.11",
   "language": "python",
   "name": "python3"
  },
  "language_info": {
   "codemirror_mode": {
    "name": "ipython",
    "version": 3
   },
   "file_extension": ".py",
   "mimetype": "text/x-python",
   "name": "python",
   "nbconvert_exporter": "python",
   "pygments_lexer": "ipython3",
   "version": "3.11.11"
  }
 },
 "nbformat": 4,
 "nbformat_minor": 5
}
