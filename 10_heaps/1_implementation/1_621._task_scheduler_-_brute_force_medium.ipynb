{
 "cells": [
  {
   "cell_type": "markdown",
   "id": "82217655",
   "metadata": {},
   "source": [
    "You are given an array of CPU tasks, each labeled with a letter from A to Z, and a number n. Each CPU interval can be idle or allow the completion of one task. Tasks can be completed in any order, but there's a constraint: there has to be a gap of at least n intervals between two tasks with the same label.\n",
    "\n",
    "Return the minimum number of CPU intervals required to complete all tasks.\n",
    "\n",
    " \n",
    "\n",
    "Example 1:\n",
    "\n",
    "Input: tasks = [\"A\",\"A\",\"A\",\"B\",\"B\",\"B\"], n = 2\n",
    "\n",
    "Output: 8\n",
    "\n",
    "Explanation: A possible sequence is: A -> B -> idle -> A -> B -> idle -> A -> B.\n",
    "\n",
    "After completing task A, you must wait two intervals before doing A again. The same applies to task B. In the 3rd interval, neither A nor B can be done, so you idle. By the 4th interval, you can do A again as 2 intervals have passed.\n",
    "\n",
    "Example 2:\n",
    "\n",
    "Input: tasks = [\"A\",\"C\",\"A\",\"B\",\"D\",\"B\"], n = 1\n",
    "\n",
    "Output: 6\n",
    "\n",
    "Explanation: A possible sequence is: A -> B -> C -> D -> A -> B.\n",
    "\n",
    "With a cooling interval of 1, you can repeat a task after just one other task.\n",
    "\n",
    "Example 3:\n",
    "\n",
    "Input: tasks = [\"A\",\"A\",\"A\", \"B\",\"B\",\"B\"], n = 3\n",
    "\n",
    "Output: 10\n",
    "\n",
    "Explanation: A possible sequence is: A -> B -> idle -> idle -> A -> B -> idle -> idle -> A -> B.\n",
    "\n",
    "There are only two types of tasks, A and B, which need to be separated by 3 intervals. This leads to idling twice between repetitions of these tasks.\n",
    "\n",
    " \n",
    "\n",
    "Constraints:\n",
    "\n",
    "1 <= tasks.length <= 104\n",
    "tasks[i] is an uppercase English letter.\n",
    "0 <= n <= 100"
   ]
  },
  {
   "cell_type": "markdown",
   "id": "c1532136",
   "metadata": {},
   "source": [
    "# approach 1:\n",
    "- we need to count the task and keep track of the times we executed them.\n",
    "- each time unit, we pick the best task to run, the taks wihch is avilable to run and put it in cool down mode.\n",
    "- if there is no task, then do nothing CPU sits idle."
   ]
  },
  {
   "cell_type": "code",
   "execution_count": 7,
   "id": "92e0accb",
   "metadata": {},
   "outputs": [],
   "source": [
    "from collections import Counter\n",
    "\n",
    "class Solution:\n",
    "    def leastInterval(self, tasks: list[str], n: int) -> int:\n",
    "        task_counts = Counter(tasks)\n",
    "        cooldown = {}\n",
    "        time = 0\n",
    "        print(task_counts)\n",
    "\n",
    "        while task_counts:\n",
    "            available_tasks = []\n",
    "            \n",
    "            # check all the task, and check for their availablity.\n",
    "            for task in task_counts:\n",
    "                if task not in cooldown or cooldown[task] < time:\n",
    "                    available_tasks.append(task)\n",
    "            print(\"available tasks\", available_tasks)\n",
    "            if available_tasks:\n",
    "                # Pick task with max count.\n",
    "                best_task = max(available_tasks, key=lambda x: task_counts[x])\n",
    "\n",
    "                # decrease it time.\n",
    "                task_counts[best_task] -= 1\n",
    "                if task_counts[best_task] == 0:\n",
    "                    del task_counts[best_task]\n",
    "                \n",
    "                # update the cooldown time for the task.\n",
    "                cooldown[best_task] = time + n  # next valid time for this task\n",
    "\n",
    "                print(task_counts)\n",
    "            # else: idle (nothing to do)\n",
    "\n",
    "            time += 1\n",
    "        \n",
    "        return time\n",
    "\n",
    "# tc:\n",
    "# we counter - O(n)\n",
    "# Worst case: O(T × 26) where T is total time and 26 is max task types to scan each time.\n",
    "# tc - O(T × 26)\n",
    "# sc - O(26)\n"
   ]
  },
  {
   "cell_type": "code",
   "execution_count": 8,
   "id": "f3c5d048",
   "metadata": {},
   "outputs": [
    {
     "name": "stdout",
     "output_type": "stream",
     "text": [
      "Counter({'A': 3, 'B': 3})\n",
      "available tasks ['A', 'B']\n",
      "Counter({'B': 3, 'A': 2})\n",
      "available tasks ['B']\n",
      "Counter({'A': 2, 'B': 2})\n",
      "available tasks []\n",
      "available tasks ['A']\n",
      "Counter({'B': 2, 'A': 1})\n",
      "available tasks ['B']\n",
      "Counter({'A': 1, 'B': 1})\n",
      "available tasks []\n",
      "available tasks ['A']\n",
      "Counter({'B': 1})\n",
      "available tasks ['B']\n",
      "Counter()\n"
     ]
    },
    {
     "data": {
      "text/plain": [
       "8"
      ]
     },
     "execution_count": 8,
     "metadata": {},
     "output_type": "execute_result"
    }
   ],
   "source": [
    "Solution().leastInterval(tasks = [\"A\",\"A\",\"A\",\"B\",\"B\",\"B\"], n = 2)"
   ]
  },
  {
   "cell_type": "code",
   "execution_count": 9,
   "id": "3fc9cafd",
   "metadata": {},
   "outputs": [
    {
     "name": "stdout",
     "output_type": "stream",
     "text": [
      "Counter({'A': 2, 'B': 2, 'C': 1, 'D': 1})\n",
      "available tasks ['A', 'C', 'B', 'D']\n",
      "Counter({'B': 2, 'A': 1, 'C': 1, 'D': 1})\n",
      "available tasks ['C', 'B', 'D']\n",
      "Counter({'A': 1, 'C': 1, 'B': 1, 'D': 1})\n",
      "available tasks ['A', 'C', 'D']\n",
      "Counter({'C': 1, 'B': 1, 'D': 1})\n",
      "available tasks ['C', 'B', 'D']\n",
      "Counter({'B': 1, 'D': 1})\n",
      "available tasks ['B', 'D']\n",
      "Counter({'D': 1})\n",
      "available tasks ['D']\n",
      "Counter()\n"
     ]
    },
    {
     "data": {
      "text/plain": [
       "6"
      ]
     },
     "execution_count": 9,
     "metadata": {},
     "output_type": "execute_result"
    }
   ],
   "source": [
    "Solution().leastInterval(tasks = [\"A\",\"C\",\"A\",\"B\",\"D\",\"B\"], n = 1)"
   ]
  },
  {
   "cell_type": "code",
   "execution_count": 10,
   "id": "42f55bf5",
   "metadata": {},
   "outputs": [
    {
     "name": "stdout",
     "output_type": "stream",
     "text": [
      "Counter({'A': 3, 'B': 3})\n",
      "available tasks ['A', 'B']\n",
      "Counter({'B': 3, 'A': 2})\n",
      "available tasks ['B']\n",
      "Counter({'A': 2, 'B': 2})\n",
      "available tasks []\n",
      "available tasks []\n",
      "available tasks ['A']\n",
      "Counter({'B': 2, 'A': 1})\n",
      "available tasks ['B']\n",
      "Counter({'A': 1, 'B': 1})\n",
      "available tasks []\n",
      "available tasks []\n",
      "available tasks ['A']\n",
      "Counter({'B': 1})\n",
      "available tasks ['B']\n",
      "Counter()\n"
     ]
    },
    {
     "data": {
      "text/plain": [
       "10"
      ]
     },
     "execution_count": 10,
     "metadata": {},
     "output_type": "execute_result"
    }
   ],
   "source": [
    "Solution().leastInterval(tasks = [\"A\",\"A\",\"A\", \"B\",\"B\",\"B\"], n = 3)"
   ]
  },
  {
   "cell_type": "markdown",
   "id": "89c1c90a",
   "metadata": {},
   "source": [
    "\n",
    "---\n",
    "\n",
    "## ✅ Optimal Approach (Greedy + Math)\n",
    "\n",
    "### 🧠 Key Idea\n",
    "\n",
    "We **don’t need to simulate** each time unit. Instead, focus on:\n",
    "\n",
    "1. Count **how many times the most frequent task appears**.\n",
    "2. These most frequent tasks will **define the frame of the schedule**.\n",
    "3. Fill gaps in this frame with other tasks or idle slots.\n",
    "\n",
    "---\n",
    "\n",
    "### ✅ Steps\n",
    "\n",
    "1. **Count the frequency** of all tasks.\n",
    "2. Find the **maximum frequency (`max_freq`)**.\n",
    "3. Count how many tasks have this **maximum frequency** (`max_count`).\n",
    "4. Calculate:\n",
    "\n",
    "   ```\n",
    "   Part 1: (max_freq - 1) * (n + 1)\n",
    "   Part 2: + max_count\n",
    "   Final Time = max(len(tasks), calculated_time)\n",
    "   ```\n",
    "\n",
    "---\n",
    "\n",
    "### 📌 Formula Explanation\n",
    "\n",
    "Imagine most frequent task (say 'A') appears 3 times:\n",
    "\n",
    "```\n",
    "A _ _ _ A _ _ _ A\n",
    "```\n",
    "\n",
    "Each `A` must be spaced by at least `n = 3`. So:\n",
    "\n",
    "* Number of blocks = max\\_freq - 1 = 2\n",
    "* Size of each block = n + 1 = 4 → total = 2 × 4 = 8\n",
    "* Add last row's tasks: 8 + 1 = 9\n",
    "\n",
    "If other tasks can fill the blanks → no idle time\n",
    "If not enough tasks → idle time is counted.\n",
    "\n",
    "--\n",
    "\n",
    "### ✅ Dry Run on: `[\"A\",\"A\",\"A\",\"B\",\"B\",\"B\"], n = 3`\n",
    "\n",
    "* Frequencies: `A:3, B:3`\n",
    "* `max_freq = 3`, `max_count = 2`\n",
    "\n",
    "→ `part1 = (3 - 1) * (3 + 1) = 2 * 4 = 8`\n",
    "→ `part2 = 2`\n",
    "→ `total = 8 + 2 = 10`\n",
    "\n",
    "BUT → `len(tasks) = 6`\n",
    "So `max(6, 10) = 10`\n",
    "\n",
    "\n"
   ]
  },
  {
   "cell_type": "code",
   "execution_count": 11,
   "id": "d64b62fa",
   "metadata": {},
   "outputs": [],
   "source": [
    "from collections import Counter\n",
    "\n",
    "class Solution:\n",
    "    def leastInterval(self, tasks: list[str], n: int) -> int:\n",
    "        task_counts = Counter(tasks)\n",
    "        max_freq = max(task_counts.values())\n",
    "        max_count = sum(1 for count in task_counts.values() if count == max_freq)\n",
    "\n",
    "        blocks = (max_freq - 1) \n",
    "        size_for_each_blok = (n + 1)\n",
    "\n",
    "        return max(len(tasks), (blocks * size_for_each_blok) + max_count)\n",
    "    \n",
    "\n",
    "# tc `O(n)` → one pass for counting\n",
    "# sc `O(26)` → counter"
   ]
  },
  {
   "cell_type": "code",
   "execution_count": 12,
   "id": "add0e368",
   "metadata": {},
   "outputs": [
    {
     "data": {
      "text/plain": [
       "10"
      ]
     },
     "execution_count": 12,
     "metadata": {},
     "output_type": "execute_result"
    }
   ],
   "source": [
    "Solution().leastInterval(tasks = [\"A\",\"A\",\"A\", \"B\",\"B\",\"B\"], n = 3)"
   ]
  },
  {
   "cell_type": "code",
   "execution_count": null,
   "id": "d111cf5f",
   "metadata": {},
   "outputs": [],
   "source": []
  }
 ],
 "metadata": {
  "kernelspec": {
   "display_name": "3.11.11",
   "language": "python",
   "name": "python3"
  },
  "language_info": {
   "codemirror_mode": {
    "name": "ipython",
    "version": 3
   },
   "file_extension": ".py",
   "mimetype": "text/x-python",
   "name": "python",
   "nbconvert_exporter": "python",
   "pygments_lexer": "ipython3",
   "version": "3.11.11"
  }
 },
 "nbformat": 4,
 "nbformat_minor": 5
}
