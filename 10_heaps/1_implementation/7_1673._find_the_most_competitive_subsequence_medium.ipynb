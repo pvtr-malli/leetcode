{
 "cells": [
  {
   "cell_type": "markdown",
   "id": "138f01c6",
   "metadata": {},
   "source": [
    "Given an integer array nums and a positive integer k, return the most competitive subsequence of nums of size k.\n",
    "\n",
    "An array's subsequence is a resulting sequence obtained by erasing some (possibly zero) elements from the array.\n",
    "\n",
    "We define that a subsequence a is more competitive than a subsequence b (of the same length) if in the first position where a and b differ, subsequence a has a number less than the corresponding number in b. For example, [1,3,4] is more competitive than [1,3,5] because the first position they differ is at the final number, and 4 is less than 5.\n",
    "\n",
    " \n",
    "\n",
    "Example 1:\n",
    "\n",
    "Input: nums = [3,5,2,6], k = 2\n",
    "Output: [2,6]\n",
    "Explanation: Among the set of every possible subsequence: {[3,5], [3,2], [3,6], [5,2], [5,6], [2,6]}, [2,6] is the most competitive.\n",
    "Example 2:\n",
    "\n",
    "Input: nums = [2,4,3,3,5,4,9,6], k = 4\n",
    "Output: [2,3,3,4]\n",
    " \n",
    "\n",
    "Constraints:\n",
    "\n",
    "1 <= nums.length <= 105\n",
    "0 <= nums[i] <= 109\n",
    "1 <= k <= nums.length"
   ]
  },
  {
   "cell_type": "code",
   "execution_count": null,
   "id": "7f125a13",
   "metadata": {},
   "outputs": [],
   "source": [
    "# brute force: Try all possible subsequences of length k and return the lexicographically smallest one.\n",
    "\n",
    "\n",
    "\n",
    "from itertools import combinations\n",
    "\n",
    "def mostCompetitive(nums, k):\n",
    "    best = nums[:k]  # just as a placeholder\n",
    "    for comb in combinations(nums, k):\n",
    "        if list(comb) < best:\n",
    "            best = list(comb)\n",
    "    return best\n",
    "\n",
    "# tc - O(C(n, k) * k) → Exponential\n",
    "# sc - O(k) (to hold best subsequence at a time)"
   ]
  },
  {
   "cell_type": "markdown",
   "id": "ea159624",
   "metadata": {},
   "source": [
    "# approach 2:\n",
    "- so we wanna find hte smallest lexicographically order, which can be found using the monotonic stack.\n",
    "- we just need to keep the increasing order.\n",
    "- so when the smallest number comes, automatically becomes the first one."
   ]
  },
  {
   "cell_type": "code",
   "execution_count": null,
   "id": "c5210e6e",
   "metadata": {},
   "outputs": [],
   "source": [
    "class Solution:\n",
    "    def mostCompetitive(self, nums: list[int], k: int) -> list[int]:\n",
    "        stack = []\n",
    "        n = len(nums)\n",
    "\n",
    "        for i, num in enumerate(nums):\n",
    "            # maintain the increasing order.\n",
    "            while stack and stack[-1] > num:\n",
    "                # so to pop, there should be enough elements to make the k group should be present.\n",
    "                # lets say n = 6, k = 3, we at index 4. only 1 more ele left, now I can't pop the elements.\n",
    "                if len(stack) + (n - i - 1) >= k:\n",
    "                    stack.pop()\n",
    "            \n",
    "            # Push only if we haven't filled k elements yet.\n",
    "            # so pushing will happen, only when there is a bigger value coming,\n",
    "            # when we already found k values, there is no use of adding that bigger number.\n",
    "            # [2, 3, 3, 4], here the next number is 6. no need to add.\n",
    "            if len(stack) < k:\n",
    "                stack.append(num)\n",
    "\n",
    "        return stack\n",
    "\n",
    "# tc - O(n)\n",
    "# sc - O(k)"
   ]
  },
  {
   "cell_type": "markdown",
   "id": "ebae4b2f",
   "metadata": {},
   "source": [
    "nums = [3, 5, 2, 6]\n",
    "\n",
    "\n",
    "\n",
    "| Index (i) | Current num | Stack before | Elements left (n - i - 1) | Can pop?                                                              | Stack after |\n",
    "| --------- | ----------- | ------------ | ------------------------- | --------------------------------------------------------------------- | ----------- |\n",
    "| 0         | 3           | `[]`         | 3                         | —                                                                     | `[3]`       |\n",
    "| 1         | 5           | `[3]`        | 2                         | 5 > 3, but we need 1 more pop to make space for `k=2` → **don’t pop** | `[3, 5]`    |\n",
    "| 2         | 2           | `[3, 5]`     | 1                         | 2 < 5 → pop<br>2 < 3 → pop again                                      | `[2]`       |\n",
    "| 3         | 6           | `[2]`        | 0                         | Can’t pop, just push                                                  | `[2, 6]`    |\n"
   ]
  },
  {
   "cell_type": "markdown",
   "id": "7f4ec856",
   "metadata": {},
   "source": [
    "nums = [2,4,3,3,5,4,9,6], k = 4\n",
    "\n",
    "\n",
    "\n",
    "ad\n",
    "\n",
    "\n",
    "| i | nums\\[i] | Stack before   | Can pop? (to ensure enough left for k) | Stack after    | Removed Count |\n",
    "| - | -------- | -------------- | -------------------------------------- | -------------- | ------------- |\n",
    "| 0 | 2        | `[]`           | —                                      | `[2]`          | 0             |\n",
    "| 1 | 4        | `[2]`          | No                                     | `[2, 4]`       | 0             |\n",
    "| 2 | 3        | `[2, 4]`       | Yes → 3 < 4 → pop                      | `[2, 3]`       | 1             |\n",
    "| 3 | 3        | `[2, 3]`       | No                                     | `[2, 3, 3]`    | 1             |\n",
    "| 4 | 5        | `[2, 3, 3]`    | No                                     | `[2, 3, 3, 5]` | 1             |\n",
    "| 5 | 4        | `[2, 3, 3, 5]` | Yes → 4 < 5 → pop                      | `[2, 3, 3, 4]` | 2             |\n",
    "| 6 | 9        | `[2, 3, 3, 4]` | No (stack size == k already)           | `[2, 3, 3, 4]` | 2             |\n",
    "| 7 | 6        | `[2, 3, 3, 4]` | No (stack full)                        | `[2, 3, 3, 4]` | 2             |\n"
   ]
  },
  {
   "cell_type": "code",
   "execution_count": null,
   "id": "ed59cfae",
   "metadata": {},
   "outputs": [],
   "source": [
    "\n"
   ]
  }
 ],
 "metadata": {
  "kernelspec": {
   "display_name": "3.11.11",
   "language": "python",
   "name": "python3"
  },
  "language_info": {
   "codemirror_mode": {
    "name": "ipython",
    "version": 3
   },
   "file_extension": ".py",
   "mimetype": "text/x-python",
   "name": "python",
   "nbconvert_exporter": "python",
   "pygments_lexer": "ipython3",
   "version": "3.11.11"
  }
 },
 "nbformat": 4,
 "nbformat_minor": 5
}
