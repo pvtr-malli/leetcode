{
 "cells": [
  {
   "cell_type": "markdown",
   "id": "998d8fb9",
   "metadata": {},
   "source": [
    "Given a string s, rearrange the characters of s so that any two adjacent characters are not the same.\n",
    "\n",
    "Return any possible rearrangement of s or return \"\" if not possible.\n",
    "\n",
    " \n",
    "\n",
    "Example 1:\n",
    "\n",
    "Input: s = \"aab\"\n",
    "Output: \"aba\"\n",
    "Example 2:\n",
    "\n",
    "Input: s = \"aaab\"\n",
    "Output: \"\"\n",
    " \n",
    "\n",
    "Constraints:\n",
    "\n",
    "1 <= s.length <= 500\n",
    "s consists of lowercase English letters."
   ]
  },
  {
   "cell_type": "markdown",
   "id": "30415683",
   "metadata": {},
   "source": [
    "# approach 1:\n",
    "- we need to get start with the maxium frequent element, store it somewhere, because we dont wanna repeat it next time.\n",
    "- so we will use the counter and push it to a heap.\n",
    "- take the max each time, and build the str.... and keep the cur on in a variable and push it in the next loop.\n",
    "- if we can do this until all the charactors are used, then we can return True,\n"
   ]
  },
  {
   "cell_type": "code",
   "execution_count": 34,
   "id": "fb37b433",
   "metadata": {},
   "outputs": [],
   "source": [
    "import heapq\n",
    "from collections import Counter\n",
    "\n",
    "class Solution:\n",
    "    def reorganizeString(self, s: str) -> str:\n",
    "        max_heap = []\n",
    "        last_used_char = None\n",
    "        counter = Counter(s)\n",
    "        for ele in counter.items():\n",
    "            heapq.heappush(max_heap, (-ele[1], ele[0])) # (freq, ele)\n",
    "        out_s = \"\"\n",
    "        while max_heap:\n",
    "            ele = heapq.heappop(max_heap)\n",
    "            out_s += ele[1]\n",
    "\n",
    "            # push the last used character with the 1 less frequency.\n",
    "            # since we have the freq as the negative number, for 3 freq it will be -3. \n",
    "            # so check -3 + 1 != 0. means we have we used 1 char last time and 2 more character left to use.\n",
    "            if last_used_char and last_used_char[0] + 1 != 0:\n",
    "                heapq.heappush(max_heap, (last_used_char[0] + 1, last_used_char[1]))\n",
    "            \n",
    "            last_used_char = ele \n",
    "        \n",
    "        # if the last_used_char has still has > 1 freq means, I haven't used all the chara\n",
    "        if last_used_char[0] + 1 != 0:\n",
    "            return \"\"\n",
    "\n",
    "        return out_s\n",
    "\n",
    "# tc:\n",
    "# counter - O(n)\n",
    "# creating the heap - O(n log n)\n",
    "# heap looping - O(n log n)\n",
    "# tc - O(n log n)\n",
    "# sc - O(n)\n",
    "\n",
    "# NOTE the down improvement also.\n"
   ]
  },
  {
   "cell_type": "code",
   "execution_count": 32,
   "id": "7539498f",
   "metadata": {},
   "outputs": [
    {
     "data": {
      "text/plain": [
       "'aba'"
      ]
     },
     "execution_count": 32,
     "metadata": {},
     "output_type": "execute_result"
    }
   ],
   "source": [
    "Solution().reorganizeString(s = \"aab\")"
   ]
  },
  {
   "cell_type": "code",
   "execution_count": 33,
   "id": "d4474fc8",
   "metadata": {},
   "outputs": [
    {
     "data": {
      "text/plain": [
       "''"
      ]
     },
     "execution_count": 33,
     "metadata": {},
     "output_type": "execute_result"
    }
   ],
   "source": [
    "Solution().reorganizeString(s = \"aaab\")"
   ]
  },
  {
   "cell_type": "markdown",
   "id": "d8c613ab",
   "metadata": {},
   "source": [
    "# minor improvements: Better solution\n",
    "- changing to use heapy."
   ]
  },
  {
   "cell_type": "code",
   "execution_count": null,
   "id": "85e831ba",
   "metadata": {},
   "outputs": [],
   "source": [
    "import heapq\n",
    "from collections import Counter\n",
    "\n",
    "class Solution:\n",
    "    def reorganizeString(self, s: str) -> str:\n",
    "        max_heap = []\n",
    "        last_used_char = None\n",
    "        counter = Counter(s)\n",
    "        # NOTE: \n",
    "        max_heap = [(-freq, char) for char, freq in counter.items()]\n",
    "        heapq.heapify(max_heap)\n",
    "\n",
    "        out_s = \"\"\n",
    "        while max_heap:\n",
    "            ele = heapq.heappop(max_heap)\n",
    "            out_s += ele[1]\n",
    "\n",
    "            # push the last used character with the 1 less frequency.\n",
    "            # since we have the freq as the negative number, for 3 freq it will be -3. \n",
    "            # so check -3 + 1 != 0. means we have we used 1 char last time and 2 more character left to use.\n",
    "            if last_used_char and last_used_char[0] + 1 != 0:\n",
    "                heapq.heappush(max_heap, (last_used_char[0] + 1, last_used_char[1]))\n",
    "            \n",
    "            last_used_char = ele \n",
    "        \n",
    "        # if the last_used_char has still has > 1 freq means, I haven't used all the chara.\n",
    "        # We are i the end, the str so for could be \"aba\" and last_used_char = (-2, a) [they already used once before this - so they is only -1 element left]\n",
    "        # so to check they have no element left, do check after reducing one from the count, \n",
    "        # if there are elements left even after removing 1, then there are elements left. return \"\"\n",
    "        # I can use one char \n",
    "        if last_used_char[0] + 1 != 0:\n",
    "            return \"\"\n",
    "\n",
    "        return out_s\n",
    "\n",
    "# tc:\n",
    "# counter - O(n)\n",
    "# creating the heap - O(n) # NOTE\n",
    "# heap looping - O(n log n)\n",
    "# tc - O(n log n)\n",
    "# sc - O(n)\n"
   ]
  },
  {
   "cell_type": "markdown",
   "id": "6b5bf866",
   "metadata": {},
   "source": [
    "| Variable         | Value                    |\n",
    "| ---------------- | ------------------------ |\n",
    "| `s`              | `\"aaba\"`                 |\n",
    "| `counter`        | `{'a': 3, 'b': 1}`       |\n",
    "| `max_heap`       | `[(-3, 'a'), (-1, 'b')]` |\n",
    "| `out_s`          | `\"\"`                     |\n",
    "| `last_used_char` | `None`                   |\n",
    "\n",
    "\n",
    "\n",
    "| Step | Heap (Before)           | Popped (`ele`) | `out_s` | Push Back (`last_used_char` if freq > 0) | Heap (After) | `last_used_char` |\n",
    "| ---- | ----------------------- | -------------- | ------- | ---------------------------------------- | ------------ | ---------------- |\n",
    "| 1    | \\[(-3, 'a'), (-1, 'b')] | (-3, 'a')      | `\"a\"`   | – (no last used char)                    | \\[(-1, 'b')] | (-3, 'a')        |\n",
    "| 2    | \\[(-1, 'b')]            | (-1, 'b')      | `\"ab\"`  | (-2, 'a') → since -3+1 = -2              | \\[(-2, 'a')] | (-1, 'b')        |\n",
    "| 3    | \\[(-2, 'a')]            | (-2, 'a')      | `\"aba\"` | – (b’s freq is now 0)                    | \\[]          | (-2, 'a')        |\n",
    "\n",
    "\n",
    "| Check Condition                                  | Result    |\n",
    "| ------------------------------------------------ | --------- |\n",
    "| `last_used_char[0] + 1 != 0` → `-2 + 1 = -1 ≠ 0` | ❌ Invalid |\n",
    "\n",
    "\n"
   ]
  },
  {
   "cell_type": "markdown",
   "id": "4ccbd974",
   "metadata": {},
   "source": [
    "| Variable         | Value                    |\n",
    "| ---------------- | ------------------------ |\n",
    "| `s`              | `\"aba\"`                  |\n",
    "| `counter`        | `{'a': 2, 'b': 1}`       |\n",
    "| `max_heap`       | `[(-2, 'a'), (-1, 'b')]` |\n",
    "| `out_s`          | `\"\"`                     |\n",
    "| `last_used_char` | `None`                   |\n",
    "\n",
    "\n",
    "| Step | Heap (Before)           | Popped (`ele`) | `out_s` | Push Back (`last_used_char` if freq > 0) | Heap (After) | `last_used_char` |\n",
    "| ---- | ----------------------- | -------------- | ------- | ---------------------------------------- | ------------ | ---------------- |\n",
    "| 1    | \\[(-2, 'a'), (-1, 'b')] | (-2, 'a')      | `\"a\"`   | – (no previous char)                     | \\[(-1, 'b')] | (-2, 'a')        |\n",
    "| 2    | \\[(-1, 'b')]            | (-1, 'b')      | `\"ab\"`  | (-1, 'a') → since -2+1 = -1              | \\[(-1, 'a')] | (-1, 'b')        |\n",
    "| 3    | \\[(-1, 'a')]            | (-1, 'a')      | `\"aba\"` | – (b’s freq is now 0)                    | \\[]          | (-1, 'a')        |\n",
    "\n",
    "\n",
    "| Check Condition                             | Result |\n",
    "| ------------------------------------------- | ------ |\n",
    "| `last_used_char[0] + 1 != 0` → `-1 + 1 = 0` | ✅ OK   |\n"
   ]
  },
  {
   "cell_type": "markdown",
   "id": "f81b7f2e",
   "metadata": {},
   "source": []
  }
 ],
 "metadata": {
  "kernelspec": {
   "display_name": "3.11.11",
   "language": "python",
   "name": "python3"
  },
  "language_info": {
   "codemirror_mode": {
    "name": "ipython",
    "version": 3
   },
   "file_extension": ".py",
   "mimetype": "text/x-python",
   "name": "python",
   "nbconvert_exporter": "python",
   "pygments_lexer": "ipython3",
   "version": "3.11.11"
  }
 },
 "nbformat": 4,
 "nbformat_minor": 5
}
