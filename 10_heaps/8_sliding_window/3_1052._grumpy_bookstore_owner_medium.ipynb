{
 "cells": [
  {
   "cell_type": "markdown",
   "id": "408ab3d0",
   "metadata": {},
   "source": [
    "There is a bookstore owner that has a store open for n minutes. You are given an integer array customers of length n where customers[i] is the number of the customers that enter the store at the start of the ith minute and all those customers leave after the end of that minute.\n",
    "\n",
    "During certain minutes, the bookstore owner is grumpy. You are given a binary array grumpy where grumpy[i] is 1 if the bookstore owner is grumpy during the ith minute, and is 0 otherwise.\n",
    "\n",
    "When the bookstore owner is grumpy, the customers entering during that minute are not satisfied. Otherwise, they are satisfied.\n",
    "\n",
    "The bookstore owner knows a secret technique to remain not grumpy for minutes consecutive minutes, but this technique can only be used once.\n",
    "\n",
    "Return the maximum number of customers that can be satisfied throughout the day.\n",
    "\n",
    " \n",
    "\n",
    "Example 1:\n",
    "\n",
    "Input: customers = [1,0,1,2,1,1,7,5], grumpy = [0,1,0,1,0,1,0,1], minutes = 3\n",
    "\n",
    "Output: 16\n",
    "\n",
    "Explanation:\n",
    "\n",
    "The bookstore owner keeps themselves not grumpy for the last 3 minutes.\n",
    "\n",
    "The maximum number of customers that can be satisfied = 1 + 1 + 1 + 1 + 7 + 5 = 16.\n",
    "\n",
    "Example 2:\n",
    "\n",
    "Input: customers = [1], grumpy = [0], minutes = 1\n",
    "\n",
    "Output: 1\n",
    "\n",
    " \n",
    "\n",
    "Constraints:\n",
    "\n",
    "n == customers.length == grumpy.length\n",
    "1 <= minutes <= n <= 2 * 104\n",
    "0 <= customers[i] <= 1000\n",
    "grumpy[i] is either 0 or 1."
   ]
  },
  {
   "cell_type": "markdown",
   "id": "efa6d7d3",
   "metadata": {},
   "source": [
    "- Always count customers where grumpy[i] == 0, because they’re already satisfied — nothing to fix.\n",
    "- Only consider grumpy minutes (grumpy[i] == 1) for the sliding window, because only those can be converted to satisfied using the secret skill."
   ]
  },
  {
   "cell_type": "code",
   "execution_count": null,
   "id": "eda9e07d",
   "metadata": {},
   "outputs": [],
   "source": [
    "class Solution:\n",
    "    def maxSatisfied(self, customers: list[int], grumpy: list[int], minutes: int) -> int:\n",
    "        base_satisfied = 0\n",
    "        extra_satisfied = 0\n",
    "        max_extra = 0\n",
    "        start = 0\n",
    "\n",
    "        for i in range(len(customers)):\n",
    "            # we have to always count the non-grumpy time.\n",
    "            if grumpy[i] == 0:\n",
    "                base_satisfied += customers[i]\n",
    "            else:\n",
    "                # only count the extra, for the first window,\n",
    "                if i < minutes:\n",
    "                    extra_satisfied += customers[i]\n",
    "\n",
    "        max_extra = extra_satisfied\n",
    "\n",
    "        for end in range(minutes, len(customers)):\n",
    "            if grumpy[end] == 1:\n",
    "                extra_satisfied += customers[end]\n",
    "\n",
    "            # shrink window of size `minutes`\n",
    "            if grumpy[start] == 1:\n",
    "                extra_satisfied -= customers[start]\n",
    "\n",
    "            start += 1  # always move start to maintain fixed window\n",
    "\n",
    "            max_extra = max(max_extra, extra_satisfied)\n",
    "\n",
    "        return base_satisfied + max_extra\n",
    "\n",
    "# tc - O(n)\n",
    "# sc - O(1)"
   ]
  },
  {
   "cell_type": "code",
   "execution_count": 29,
   "id": "a88b5bc3",
   "metadata": {},
   "outputs": [
    {
     "data": {
      "text/plain": [
       "16"
      ]
     },
     "execution_count": 29,
     "metadata": {},
     "output_type": "execute_result"
    }
   ],
   "source": [
    "Solution().maxSatisfied(customers = [1,0,1,2,1,1,7,5], grumpy = [0,1,0,1,0,1,0,1], minutes = 3)"
   ]
  },
  {
   "cell_type": "code",
   "execution_count": 25,
   "id": "d3121b6c",
   "metadata": {},
   "outputs": [
    {
     "data": {
      "text/plain": [
       "1"
      ]
     },
     "execution_count": 25,
     "metadata": {},
     "output_type": "execute_result"
    }
   ],
   "source": [
    "Solution().maxSatisfied(customers = [1], grumpy = [0], minutes = 1)"
   ]
  },
  {
   "cell_type": "code",
   "execution_count": null,
   "id": "3e124283",
   "metadata": {},
   "outputs": [],
   "source": []
  }
 ],
 "metadata": {
  "kernelspec": {
   "display_name": "3.11.11",
   "language": "python",
   "name": "python3"
  },
  "language_info": {
   "codemirror_mode": {
    "name": "ipython",
    "version": 3
   },
   "file_extension": ".py",
   "mimetype": "text/x-python",
   "name": "python",
   "nbconvert_exporter": "python",
   "pygments_lexer": "ipython3",
   "version": "3.11.11"
  }
 },
 "nbformat": 4,
 "nbformat_minor": 5
}
