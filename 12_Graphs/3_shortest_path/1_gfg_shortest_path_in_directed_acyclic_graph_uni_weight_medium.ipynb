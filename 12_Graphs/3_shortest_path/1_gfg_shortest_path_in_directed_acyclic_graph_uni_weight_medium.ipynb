{
 "cells": [
  {
   "cell_type": "markdown",
   "id": "08f3d3f1",
   "metadata": {},
   "source": [
    "You are given an adjacency list, adj of Undirected Graph having unit weight of the edges, find the shortest path from src to all the vertex and if it is unreachable to reach any vertex, then return -1 for that vertex.\n",
    "\n",
    "Examples :\n",
    "\n",
    "Input: adj[][] = [[1, 3], [0, 2], [1, 6], [0, 4], [3, 5], [4, 6], [2, 5, 7, 8], [6, 8], [7, 6]], src=0\n",
    "Output: [0, 1, 2, 1, 2, 3, 3, 4, 4]\n",
    "\n",
    "Input: adj[][]= [[3], [3], [], [0, 1]], src=3\n",
    "Output: [1, 1, -1, 0]\n",
    "\n",
    "Input: adj[][]= [[], [], [], [4], [3], [], []], src=1\n",
    "Output: [-1, 0, -1, -1, -1, -1, -1] \n",
    "Constraint:\n",
    "1<=adj.size()<=104\n",
    "0<=edges<=adj.size()-1"
   ]
  },
  {
   "cell_type": "markdown",
   "id": "ce0defcd",
   "metadata": {},
   "source": [
    "- dist[neighbor] == -1 ensures we only visit a node the first time.\n",
    "\n",
    "- That first visit happens at the shortest level from the source.\n",
    "\n",
    "- Any later path that reaches the same node will be longer or equal, so we ignore it.\n",
    "Since all edges are unit weight, number of edges = distance.\n",
    "\n",
    "BFS works perfectly for this scenario."
   ]
  },
  {
   "cell_type": "code",
   "execution_count": 1,
   "id": "aa345ed0",
   "metadata": {},
   "outputs": [],
   "source": [
    "from collections import deque\n",
    "\n",
    "class Solution:\n",
    "    def shortestPath(self, adj, src):\n",
    "        \"\"\"\n",
    "        adj : adjacency list (0-indexed)\n",
    "        src : source node\n",
    "        returns list of shortest distances from src to all nodes, -1 if unreachable\n",
    "        \"\"\"\n",
    "        n = len(adj)\n",
    "        dist = [-1] * n  # initialize distances as -1 (unreachable)\n",
    "        dist[src] = 0    # distance to source is 0\n",
    "\n",
    "        q = deque([src])\n",
    "\n",
    "        while q:\n",
    "            node = q.popleft()\n",
    "            for neighbor in adj[node]:\n",
    "                if dist[neighbor] == -1:  # not visited yet\n",
    "                    dist[neighbor] = dist[node] + 1\n",
    "                    q.append(neighbor)\n",
    "\n",
    "        return dist\n",
    "# Time Complexity: O(V + E)\n",
    "# Auxiliary Space: O(V)"
   ]
  },
  {
   "cell_type": "code",
   "execution_count": 2,
   "id": "5674c5b0",
   "metadata": {},
   "outputs": [
    {
     "data": {
      "text/plain": [
       "[0, 1, 2, 1, 2, 3, 3, 4, 4]"
      ]
     },
     "execution_count": 2,
     "metadata": {},
     "output_type": "execute_result"
    }
   ],
   "source": [
    "Solution().shortestPath([[1, 3], [0, 2], [1, 6], [0, 4], [3, 5], [4, 6], [2, 5, 7, 8], [6, 8], [7, 6]], src=0\n",
    "                        )"
   ]
  },
  {
   "cell_type": "code",
   "execution_count": null,
   "id": "8088ba3f",
   "metadata": {},
   "outputs": [],
   "source": []
  }
 ],
 "metadata": {
  "kernelspec": {
   "display_name": "3.11.11",
   "language": "python",
   "name": "python3"
  },
  "language_info": {
   "codemirror_mode": {
    "name": "ipython",
    "version": 3
   },
   "file_extension": ".py",
   "mimetype": "text/x-python",
   "name": "python",
   "nbconvert_exporter": "python",
   "pygments_lexer": "ipython3",
   "version": "3.11.11"
  }
 },
 "nbformat": 4,
 "nbformat_minor": 5
}
