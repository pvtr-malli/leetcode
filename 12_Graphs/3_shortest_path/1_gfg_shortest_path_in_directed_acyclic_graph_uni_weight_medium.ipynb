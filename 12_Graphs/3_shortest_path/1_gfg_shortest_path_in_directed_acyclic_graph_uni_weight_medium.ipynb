{
 "cells": [
  {
   "cell_type": "markdown",
   "id": "08f3d3f1",
   "metadata": {},
   "source": [
    "Given a Directed Acyclic Graph of V vertices from 0 to n-1 and a 2D Integer array(or vector) edges[ ][ ] of length E, where there is a directed edge from edge[i][0] to edge[i][1] with a distance of edge[i][2] for all i.\n",
    "\n",
    "Find the shortest path from src(0) vertex to all the vertices and if it is impossible to reach any vertex, then return -1 for that vertex.\n",
    "\n",
    "Examples :\n",
    "\n",
    "Input: V = 4, E = 2, edges = [[0,1,2], [0,2,1]]\n",
    "Output: [0, 2, 1, -1]\n",
    "Explanation: Shortest path from 0 to 1 is 0->1 with edge weight 2. Shortest path from 0 to 2 is 0->2 with edge weight 1. There is no way we can reach 3, so it's -1 for 3.\n",
    "Input: V = 6, E = 7, edges = [[0,1,2], [0,4,1], [4,5,4], [4,2,2], [1,2,3], [2,3,6], [5,3,1]]\n",
    "Output: [0, 2, 3, 6, 1, 5]\n",
    "Explanation: Shortest path from 0 to 1 is 0->1 with edge weight 2. Shortest path from 0 to 2 is 0->4->2 with edge weight 1+2=3. Shortest path from 0 to 3 is 0->4->5->3 with edge weight 1+4+1=6. Shortest path from 0 to 4 is 0->4 with edge weight 1.Shortest path from 0 to 5 is 0->4->5 with edge weight 1+4=5.\n",
    "Constraint:\n",
    "1 <= V <= 100\n",
    "1 <= E <= min((N*(N-1))/2,4000)\n",
    "0 <= edgesi,0, edgesi,1 < n\n",
    "0 <= edgei,2 <=105"
   ]
  },
  {
   "cell_type": "markdown",
   "id": "ce0defcd",
   "metadata": {},
   "source": [
    "- dist[neighbor] == -1 ensures we only visit a node the first time.\n",
    "\n",
    "- That first visit happens at the shortest level from the source.\n",
    "\n",
    "- Any later path that reaches the same node will be longer or equal, so we ignore it.\n",
    "Since all edges are unit weight, number of edges = distance.\n",
    "\n",
    "BFS works perfectly for this scenario."
   ]
  },
  {
   "cell_type": "code",
   "execution_count": null,
   "id": "aa345ed0",
   "metadata": {},
   "outputs": [],
   "source": [
    "from collections import deque\n",
    "\n",
    "class Solution:\n",
    "    def shortestPath(self, adj, src):\n",
    "        \"\"\"\n",
    "        adj : adjacency list (0-indexed)\n",
    "        src : source node\n",
    "        returns list of shortest distances from src to all nodes, -1 if unreachable\n",
    "        \"\"\"\n",
    "        n = len(adj)\n",
    "        dist = [-1] * n  # initialize distances as -1 (unreachable)\n",
    "        dist[src] = 0    # distance to source is 0\n",
    "\n",
    "        q = deque([src])\n",
    "\n",
    "        while q:\n",
    "            node = q.popleft()\n",
    "            for neighbor in adj[node]:\n",
    "                if dist[neighbor] == -1:  # not visited yet\n",
    "                    dist[neighbor] = dist[node] + 1\n",
    "                    q.append(neighbor)\n",
    "\n",
    "        return dist\n",
    "# Time Complexity: O(V + E)\n",
    "# Auxiliary Space: O(V)"
   ]
  }
 ],
 "metadata": {
  "kernelspec": {
   "display_name": "3.11.11",
   "language": "python",
   "name": "python3"
  },
  "language_info": {
   "codemirror_mode": {
    "name": "ipython",
    "version": 3
   },
   "file_extension": ".py",
   "mimetype": "text/x-python",
   "name": "python",
   "nbconvert_exporter": "python",
   "pygments_lexer": "ipython3",
   "version": "3.11.11"
  }
 },
 "nbformat": 4,
 "nbformat_minor": 5
}
