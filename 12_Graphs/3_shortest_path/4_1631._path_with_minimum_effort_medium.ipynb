{
 "cells": [
  {
   "cell_type": "markdown",
   "id": "7841a8c0",
   "metadata": {},
   "source": [
    "You are a hiker preparing for an upcoming hike. You are given heights, a 2D array of size rows x columns, where heights[row][col] represents the height of cell (row, col). You are situated in the top-left cell, (0, 0), and you hope to travel to the bottom-right cell, (rows-1, columns-1) (i.e., 0-indexed). You can move up, down, left, or right, and you wish to find a route that requires the minimum effort.\n",
    "\n",
    "A route's effort is the maximum absolute difference in heights between two consecutive cells of the route.\n",
    "\n",
    "Return the minimum effort required to travel from the top-left cell to the bottom-right cell.\n",
    "\n",
    " \n",
    "\n",
    "Example 1:\n",
    "\n",
    "\n",
    "\n",
    "Input: heights = [[1,2,2],[3,8,2],[5,3,5]]\n",
    "Output: 2\n",
    "Explanation: The route of [1,3,5,3,5] has a maximum absolute difference of 2 in consecutive cells.\n",
    "This is better than the route of [1,2,2,2,5], where the maximum absolute difference is 3.\n",
    "Example 2:\n",
    "\n",
    "\n",
    "\n",
    "Input: heights = [[1,2,3],[3,8,4],[5,3,5]]\n",
    "Output: 1\n",
    "Explanation: The route of [1,2,3,4,5] has a maximum absolute difference of 1 in consecutive cells, which is better than route [1,3,5,3,5].\n",
    "Example 3:\n",
    "\n",
    "\n",
    "Input: heights = [[1,2,1,1,1],[1,2,1,2,1],[1,2,1,2,1],[1,2,1,2,1],[1,1,1,2,1]]\n",
    "Output: 0\n",
    "Explanation: This route does not require any effort.\n",
    " \n",
    "\n",
    "Constraints:\n",
    "\n",
    "rows == heights.length\n",
    "columns == heights[i].length\n",
    "1 <= rows, columns <= 100\n",
    "1 <= heights[i][j] <= 106"
   ]
  },
  {
   "cell_type": "code",
   "execution_count": null,
   "id": "39111639",
   "metadata": {},
   "outputs": [],
   "source": [
    "# brute force:\n",
    "from typing import List\n",
    "\n",
    "class Solution:\n",
    "    def minimumEffortPath(self, heights: List[List[int]]) -> int:\n",
    "        m, n = len(heights), len(heights[0])\n",
    "        self.min_effort = float(\"inf\")\n",
    "        visited = [[False] * n for _ in range(m)]\n",
    "\n",
    "        def dfs(r, c, curr_effort, max_effort):\n",
    "            # Reached destination\n",
    "            if r == m - 1 and c == n - 1:\n",
    "                self.min_effort = min(self.min_effort, max_effort)\n",
    "                return\n",
    "\n",
    "            visited[r][c] = True\n",
    "\n",
    "            directions = [(1,0), (-1,0), (0,1), (0,-1)]\n",
    "            for dr, dc in directions:\n",
    "                nr, nc = r + dr, c + dc\n",
    "                if 0 <= nr < m and 0 <= nc < n and not visited[nr][nc]:\n",
    "                    diff = abs(heights[nr][nc] - heights[r][c])\n",
    "                    dfs(nr, nc, curr_effort + diff, max(max_effort, diff))\n",
    "\n",
    "            visited[r][c] = False  # backtrack\n",
    "\n",
    "        dfs(0, 0, 0, 0)\n",
    "        return self.min_effort\n",
    "\n",
    "# This brute force explores all paths, so it’s exponential (O(4^(m*n)) worst case)."
   ]
  },
  {
   "cell_type": "markdown",
   "id": "ff218244",
   "metadata": {},
   "source": [
    "We want the path from (0,0) → (m-1,n-1) where the effort = max(|height difference| along path) is minimized.\n",
    "\n",
    "Think of each cell as a node in a graph, and the edge weight between two adjacent cells = abs(height difference).\n",
    "\n",
    "Instead of summing weights (like normal shortest path), our path “cost” is the maximum edge weight seen so far.\n",
    "\n",
    "Dijkstra’s fits perfectly: always expand the path with the smallest current effort."
   ]
  },
  {
   "cell_type": "code",
   "execution_count": null,
   "id": "b6cc0f2c",
   "metadata": {},
   "outputs": [],
   "source": [
    "import heapq\n",
    "from typing import List\n",
    "\n",
    "class Solution:\n",
    "    def minimumEffortPath(self, heights: List[List[int]]) -> int:\n",
    "        m, n = len(heights), len(heights[0])\n",
    "        \n",
    "        # Min-heap: (effort, row, col)\n",
    "        heap = [(0, 0, 0)]\n",
    "        \n",
    "        # effort[r][c] = minimum effort needed to reach (r, c)\n",
    "        effort = [[float(\"inf\")] * n for _ in range(m)]\n",
    "        effort[0][0] = 0\n",
    "        \n",
    "        directions = [(1,0), (-1,0), (0,1), (0,-1)]\n",
    "        \n",
    "        while heap:\n",
    "            curr_effort, r, c = heapq.heappop(heap)\n",
    "            print(curr_effort, r,c, heights[r][c])\n",
    "            # If we reached destination, return\n",
    "            if r == m - 1 and c == n - 1:\n",
    "                return curr_effort\n",
    "            \n",
    "            for dr, dc in directions:\n",
    "                nr, nc = r + dr, c + dc\n",
    "                if 0 <= nr < m and 0 <= nc < n:\n",
    "                    # Calculate effort if we go this way\n",
    "                    new_effort = max(curr_effort, abs(heights[nr][nc] - heights[r][c]))\n",
    "                    \n",
    "                    # If it's better, update and push to heap\n",
    "                    if new_effort < effort[nr][nc]:\n",
    "                        effort[nr][nc] = new_effort\n",
    "                        heapq.heappush(heap, (new_effort, nr, nc))\n",
    "        \n",
    "        return 0  # never reached (safe default)\n",
    "\n",
    "\n",
    "# Time: O(m*n log(m*n)) (each cell pushed into heap at most once per better effort).\n",
    "\n",
    "# Space: O(m*n) for effort grid + heap."
   ]
  },
  {
   "cell_type": "code",
   "execution_count": 3,
   "id": "f083b2b5",
   "metadata": {},
   "outputs": [
    {
     "name": "stdout",
     "output_type": "stream",
     "text": [
      "0 0 0 1\n",
      "1 0 1 2\n",
      "1 0 2 2\n",
      "1 1 2 2\n",
      "2 1 0 3\n",
      "2 2 0 5\n",
      "2 2 1 3\n",
      "2 2 2 5\n"
     ]
    },
    {
     "data": {
      "text/plain": [
       "2"
      ]
     },
     "execution_count": 3,
     "metadata": {},
     "output_type": "execute_result"
    }
   ],
   "source": [
    "Solution().minimumEffortPath(heights = [[1,2,2],[3,8,2],[5,3,5]])"
   ]
  },
  {
   "cell_type": "code",
   "execution_count": null,
   "id": "c7db980b",
   "metadata": {},
   "outputs": [],
   "source": []
  }
 ],
 "metadata": {
  "kernelspec": {
   "display_name": "3.11.11",
   "language": "python",
   "name": "python3"
  },
  "language_info": {
   "codemirror_mode": {
    "name": "ipython",
    "version": 3
   },
   "file_extension": ".py",
   "mimetype": "text/x-python",
   "name": "python",
   "nbconvert_exporter": "python",
   "pygments_lexer": "ipython3",
   "version": "3.11.11"
  }
 },
 "nbformat": 4,
 "nbformat_minor": 5
}
