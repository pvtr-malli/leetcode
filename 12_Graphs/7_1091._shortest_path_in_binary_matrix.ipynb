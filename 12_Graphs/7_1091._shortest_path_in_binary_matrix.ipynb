{
 "cells": [
  {
   "cell_type": "code",
   "execution_count": null,
   "metadata": {},
   "outputs": [],
   "source": [
    "MEDIUM"
   ]
  },
  {
   "cell_type": "markdown",
   "metadata": {},
   "source": [
    "Given an n x n binary matrix grid, return the length of the shortest clear path in the matrix. If there is no clear path, return -1.\n",
    "\n",
    "A clear path in a binary matrix is a path from the top-left cell (i.e., (0, 0)) to the bottom-right cell (i.e., (n - 1, n - 1)) such that:\n",
    "\n",
    "All the visited cells of the path are 0.\n",
    "All the adjacent cells of the path are 8-directionally connected (i.e., they are different and they share an edge or a corner).\n",
    "The length of a clear path is the number of visited cells of this path.\n",
    "\n",
    " \n",
    "\n",
    "Example 1:\n",
    "\n",
    "\n",
    "Input: grid = [[0,1],[1,0]]\n",
    "Output: 2\n",
    "Example 2:\n",
    "\n",
    "\n",
    "Input: grid = [[0,0,0],[1,1,0],[1,1,0]]\n",
    "Output: 4\n",
    "Example 3:\n",
    "\n",
    "Input: grid = [[1,0,0],[1,1,0],[1,1,0]]\n",
    "Output: -1\n",
    " \n",
    "\n",
    "Constraints:\n",
    "\n",
    "n == grid.length\n",
    "n == grid[i].length\n",
    "1 <= n <= 100\n",
    "grid[i][j] is 0 or 1"
   ]
  },
  {
   "cell_type": "code",
   "execution_count": 15,
   "metadata": {},
   "outputs": [],
   "source": [
    "class Solution:\n",
    "    def shortestPathBinaryMatrix(self, grid) -> int:\n",
    "        # initialize a distance matrix.\n",
    "        rows = len(grid)\n",
    "        cols = len(grid[0])\n",
    "        dis = [[-1] * cols for _ in range(rows)]\n",
    "        q = []\n",
    "        di = [-1, 1, 0, 0, -1, -1, 1, 1] # Top, down, left, right, and the all diagonal directions.\n",
    "        dj = [0, 0, -1, 1, -1, 1, -1, 1]\n",
    "\n",
    "        # Initialize the queue.\n",
    "        # Update the starting position only if it's zero.\n",
    "        if grid[0][0] == 0:\n",
    "            q.append((0,0))\n",
    "            # Update the distance of (0,0) position as 1.\n",
    "            dis[0][0] = 1\n",
    "        while len(q) != 0:\n",
    "            ele = q.pop(0)\n",
    "            src_i, src_j = ele[0], ele[1]\n",
    "\n",
    "            for dir in range(8): # 8 directions.\n",
    "                # Check that position if its not out of matrix.\n",
    "                i,j = src_i + di[dir], src_j + dj[dir]\n",
    "                if (i >= 0) and (j >= 0) and (i < rows) and (j < cols):\n",
    "                    # Update the distance matrix, if the ele is not already visited.\n",
    "                    if dis[i][j] == -1 and grid[i][j] == 0:\n",
    "                        dis[i][j] = dis[src_i][src_j] + 1\n",
    "                        q.append((i,j))\n",
    "        print(dis)\n",
    "        return dis[rows - 1][cols -1]"
   ]
  },
  {
   "cell_type": "code",
   "execution_count": 16,
   "metadata": {},
   "outputs": [
    {
     "name": "stdout",
     "output_type": "stream",
     "text": [
      "[[1, -1], [-1, 2]]\n"
     ]
    },
    {
     "data": {
      "text/plain": [
       "2"
      ]
     },
     "execution_count": 16,
     "metadata": {},
     "output_type": "execute_result"
    }
   ],
   "source": [
    "Solution().shortestPathBinaryMatrix([[0,1],[1,0]])"
   ]
  },
  {
   "cell_type": "code",
   "execution_count": 17,
   "metadata": {},
   "outputs": [
    {
     "name": "stdout",
     "output_type": "stream",
     "text": [
      "[[1, 2, 3], [-1, -1, 3], [-1, -1, 4]]\n"
     ]
    },
    {
     "data": {
      "text/plain": [
       "4"
      ]
     },
     "execution_count": 17,
     "metadata": {},
     "output_type": "execute_result"
    }
   ],
   "source": [
    "Solution().shortestPathBinaryMatrix([[0,0,0],[1,1,0],[1,1,0]])"
   ]
  },
  {
   "cell_type": "code",
   "execution_count": 18,
   "metadata": {},
   "outputs": [
    {
     "name": "stdout",
     "output_type": "stream",
     "text": [
      "[[1, -1, -1], [-1, -1, -1], [-1, -1, -1]]\n"
     ]
    },
    {
     "data": {
      "text/plain": [
       "-1"
      ]
     },
     "execution_count": 18,
     "metadata": {},
     "output_type": "execute_result"
    }
   ],
   "source": [
    "Solution().shortestPathBinaryMatrix([[1,0,0],[1,1,0],[1,1,0]]\n",
    ")"
   ]
  },
  {
   "cell_type": "code",
   "execution_count": null,
   "metadata": {},
   "outputs": [],
   "source": []
  }
 ],
 "metadata": {
  "kernelspec": {
   "display_name": "Python 3",
   "language": "python",
   "name": "python3"
  },
  "language_info": {
   "codemirror_mode": {
    "name": "ipython",
    "version": 3
   },
   "file_extension": ".py",
   "mimetype": "text/x-python",
   "name": "python",
   "nbconvert_exporter": "python",
   "pygments_lexer": "ipython3",
   "version": "3.8.10"
  }
 },
 "nbformat": 4,
 "nbformat_minor": 2
}
