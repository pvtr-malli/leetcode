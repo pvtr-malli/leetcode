{
 "cells": [
  {
   "cell_type": "code",
   "execution_count": null,
   "metadata": {},
   "outputs": [],
   "source": [
    "EASY"
   ]
  },
  {
   "cell_type": "markdown",
   "metadata": {},
   "source": [
    "You are given an image represented by an m x n grid of integers image, where image[i][j] represents the pixel value of the image. You are also given three integers sr, sc, and color. Your task is to perform a flood fill on the image starting from the pixel image[sr][sc].\n",
    "\n",
    "To perform a flood fill:\n",
    "\n",
    "Begin with the starting pixel and change its color to color.\n",
    "Perform the same process for each pixel that is directly adjacent (pixels that share a side with the original pixel, either horizontally or vertically) and shares the same color as the starting pixel.\n",
    "Keep repeating this process by checking neighboring pixels of the updated pixels and modifying their color if it matches the original color of the starting pixel.\n",
    "The process stops when there are no more adjacent pixels of the original color to update.\n",
    "Return the modified image after performing the flood fill.\n",
    "\n",
    " \n",
    "\n",
    "Example 1:\n",
    "\n",
    "Input: image = [[1,1,1],[1,1,0],[1,0,1]], sr = 1, sc = 1, color = 2\n",
    "\n",
    "Output: [[2,2,2],[2,2,0],[2,0,1]]\n",
    "\n",
    "Explanation:\n",
    "\n",
    "\n",
    "\n",
    "From the center of the image with position (sr, sc) = (1, 1) (i.e., the red pixel), all pixels connected by a path of the same color as the starting pixel (i.e., the blue pixels) are colored with the new color.\n",
    "\n",
    "Note the bottom corner is not colored 2, because it is not horizontally or vertically connected to the starting pixel.\n",
    "\n",
    "Example 2:\n",
    "\n",
    "Input: image = [[0,0,0],[0,0,0]], sr = 0, sc = 0, color = 0\n",
    "\n",
    "Output: [[0,0,0],[0,0,0]]\n",
    "\n",
    "Explanation:\n",
    "\n",
    "The starting pixel is already colored with 0, which is the same as the target color. Therefore, no changes are made to the image."
   ]
  },
  {
   "cell_type": "code",
   "execution_count": 1,
   "metadata": {},
   "outputs": [],
   "source": [
    "class Solution:\n",
    "    def floodFill(self, image, sr: int, sc: int, color: int):\n",
    "        rows = len(image)\n",
    "        cols = len(image[0])\n",
    "        q = []\n",
    "        di = [-1, 1, 0, 0] # Top, down, left, right,  order\n",
    "        dj = [0, 0, -1, 1]\n",
    "        src_color = image[sr][sc]\n",
    "        q.append((sr, sc))\n",
    "        while len(q) != 0:\n",
    "            ele = q.pop(0)\n",
    "            src_i, src_j = ele[0], ele[1]\n",
    "\n",
    "            # Change the color of the node.\n",
    "            image[src_i][src_j] = color\n",
    "            for dir in range(4): # 4 directions.\n",
    "                # Check that position if its not out of matrix.\n",
    "                i,j = src_i + di[dir], src_j + dj[dir]\n",
    "                if (i >= 0) and (j >= 0) and (i < rows) and (j < cols):\n",
    "                    if (image[i][j] == src_color) and (image[i][j] != color): # Only add this if its not already colored\n",
    "                        # Already colored will be having the target color.\n",
    "                        q.append((i,j))\n",
    "        return image"
   ]
  },
  {
   "cell_type": "code",
   "execution_count": 2,
   "metadata": {},
   "outputs": [
    {
     "data": {
      "text/plain": [
       "[[2, 2, 2], [2, 2, 0], [2, 0, 1]]"
      ]
     },
     "execution_count": 2,
     "metadata": {},
     "output_type": "execute_result"
    }
   ],
   "source": [
    "Solution().floodFill([[1,1,1],[1,1,0],[1,0,1]], sr = 1, sc = 1, color = 2)"
   ]
  },
  {
   "cell_type": "code",
   "execution_count": 3,
   "metadata": {},
   "outputs": [
    {
     "data": {
      "text/plain": [
       "[[0, 0, 0], [0, 0, 0]]"
      ]
     },
     "execution_count": 3,
     "metadata": {},
     "output_type": "execute_result"
    }
   ],
   "source": [
    "Solution().floodFill(image = [[0,0,0],[0,0,0]], sr = 0, sc = 0, color = 0)"
   ]
  },
  {
   "cell_type": "code",
   "execution_count": 4,
   "metadata": {},
   "outputs": [
    {
     "data": {
      "text/plain": [
       "[[2, 2, 2], [2, 2, 2]]"
      ]
     },
     "execution_count": 4,
     "metadata": {},
     "output_type": "execute_result"
    }
   ],
   "source": [
    "Solution().floodFill(image = [[0,0,0],[0,0,0]], sr = 1, sc = 0, color = 2)"
   ]
  },
  {
   "cell_type": "code",
   "execution_count": null,
   "metadata": {},
   "outputs": [],
   "source": []
  }
 ],
 "metadata": {
  "kernelspec": {
   "display_name": "Python 3",
   "language": "python",
   "name": "python3"
  },
  "language_info": {
   "codemirror_mode": {
    "name": "ipython",
    "version": 3
   },
   "file_extension": ".py",
   "mimetype": "text/x-python",
   "name": "python",
   "nbconvert_exporter": "python",
   "pygments_lexer": "ipython3",
   "version": "3.8.10"
  }
 },
 "nbformat": 4,
 "nbformat_minor": 2
}
