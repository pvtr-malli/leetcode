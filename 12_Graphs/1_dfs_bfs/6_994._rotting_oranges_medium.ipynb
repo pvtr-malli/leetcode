{
 "cells": [
  {
   "cell_type": "markdown",
   "id": "8c05b49c",
   "metadata": {},
   "source": [
    "You are given an m x n grid where each cell can have one of three values:\n",
    "\n",
    "0 representing an empty cell,\n",
    "1 representing a fresh orange, or\n",
    "2 representing a rotten orange.\n",
    "Every minute, any fresh orange that is 4-directionally adjacent to a rotten orange becomes rotten.\n",
    "\n",
    "Return the minimum number of minutes that must elapse until no cell has a fresh orange. If this is impossible, return -1.\n",
    "\n",
    " \n",
    "\n",
    "Example 1:\n",
    "\n",
    "\n",
    "Input: grid = [[2,1,1],[1,1,0],[0,1,1]]\n",
    "Output: 4\n",
    "Example 2:\n",
    "\n",
    "Input: grid = [[2,1,1],[0,1,1],[1,0,1]]\n",
    "Output: -1\n",
    "Explanation: The orange in the bottom left corner (row 2, column 0) is never rotten, because rotting only happens 4-directionally.\n",
    "Example 3:\n",
    "\n",
    "Input: grid = [[0,2]]\n",
    "Output: 0\n",
    "Explanation: Since there are already no fresh oranges at minute 0, the answer is just 0.\n",
    " \n",
    "\n",
    "Constraints:\n",
    "\n",
    "m == grid.length\n",
    "n == grid[i].length\n",
    "1 <= m, n <= 10\n",
    "grid[i][j] is 0, 1, or 2."
   ]
  },
  {
   "cell_type": "code",
   "execution_count": null,
   "id": "43a458c7",
   "metadata": {},
   "outputs": [],
   "source": [
    "class Solution:\n",
    "    def orangesRotting(self, grid: list[list[int]]) -> int:\n",
    "        n, m = len(grid), len(grid[0])\n",
    "        count = 0\n",
    "        non_rotten_oranges = 0\n",
    "        q = []\n",
    "        dir_x = [-1, +1, 0 ,0] # up, down, left, right\n",
    "        dir_y = [0,0, -1, 1] \n",
    "        # visited = []\n",
    "\n",
    "        # Append all the rotten places to queue.\n",
    "        for i in range(n):\n",
    "            for j in range(m):\n",
    "                if grid[i][j] == 2:\n",
    "                    q.append((i,j))\n",
    "                elif grid[i][j] == 1:\n",
    "                    non_rotten_oranges += 1\n",
    "\n",
    "        while len(q) > 0:\n",
    "            len_q = len(q)\n",
    "            # make all the near rotten.\n",
    "            for _ in range(len_q):\n",
    "                i,j = q.pop(0)\n",
    "\n",
    "                for dx, dy in zip(dir_x, dir_y):\n",
    "                    new_i, new_j = i + dx, j + dy \n",
    "                    if (new_i < 0 or new_i > n-1 or new_j < 0 or new_j > m-1) or grid[new_i][new_j] == 2 or grid[new_i][new_j] == 0:\n",
    "                        continue\n",
    "                    # Now this is inside the grid and fresh orange.\n",
    "                    non_rotten_oranges -= 1\n",
    "                    grid[new_i][new_j] = 2\n",
    "                    q.append((new_i, new_j))\n",
    "            # Now the one round of rotting all the orangesg donw.\n",
    "            if q: # only increament if there are next set exists. Otherwise this round didn't rot anything.\n",
    "                # So no need to count.\n",
    "                count += 1\n",
    "        \n",
    "        return count if non_rotten_oranges == 0 else -1\n",
    "        \n",
    "\n",
    "# tc - O(n *M )\n",
    "# sc - O(n * m)"
   ]
  },
  {
   "cell_type": "code",
   "execution_count": 6,
   "id": "eb5aca41",
   "metadata": {},
   "outputs": [
    {
     "data": {
      "text/plain": [
       "4"
      ]
     },
     "execution_count": 6,
     "metadata": {},
     "output_type": "execute_result"
    }
   ],
   "source": [
    "Solution().orangesRotting(grid = [[2,1,1],[1,1,0],[0,1,1]])"
   ]
  },
  {
   "cell_type": "code",
   "execution_count": null,
   "id": "701dbd9b",
   "metadata": {},
   "outputs": [],
   "source": []
  }
 ],
 "metadata": {
  "kernelspec": {
   "display_name": "3.11.11",
   "language": "python",
   "name": "python3"
  },
  "language_info": {
   "codemirror_mode": {
    "name": "ipython",
    "version": 3
   },
   "file_extension": ".py",
   "mimetype": "text/x-python",
   "name": "python",
   "nbconvert_exporter": "python",
   "pygments_lexer": "ipython3",
   "version": "3.11.11"
  }
 },
 "nbformat": 4,
 "nbformat_minor": 5
}
