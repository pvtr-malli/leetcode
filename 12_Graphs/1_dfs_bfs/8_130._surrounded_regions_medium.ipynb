{
 "cells": [
  {
   "cell_type": "markdown",
   "id": "d97dd99d",
   "metadata": {},
   "source": [
    "You are given an m x n matrix board containing letters 'X' and 'O', capture regions that are surrounded:\n",
    "\n",
    "Connect: A cell is connected to adjacent cells horizontally or vertically.\n",
    "Region: To form a region connect every 'O' cell.\n",
    "Surround: The region is surrounded with 'X' cells if you can connect the region with 'X' cells and none of the region cells are on the edge of the board.\n",
    "To capture a surrounded region, replace all 'O's with 'X's in-place within the original board. You do not need to return anything.\n",
    "\n",
    " \n",
    "\n",
    "Example 1:\n",
    "\n",
    "Input: board = [[\"X\",\"X\",\"X\",\"X\"],[\"X\",\"O\",\"O\",\"X\"],[\"X\",\"X\",\"O\",\"X\"],[\"X\",\"O\",\"X\",\"X\"]]\n",
    "\n",
    "Output: [[\"X\",\"X\",\"X\",\"X\"],[\"X\",\"X\",\"X\",\"X\"],[\"X\",\"X\",\"X\",\"X\"],[\"X\",\"O\",\"X\",\"X\"]]\n",
    "\n",
    "Explanation:\n",
    "\n",
    "\n",
    "In the above diagram, the bottom region is not captured because it is on the edge of the board and cannot be surrounded.\n",
    "\n",
    "Example 2:\n",
    "\n",
    "Input: board = [[\"X\"]]\n",
    "\n",
    "Output: [[\"X\"]]\n",
    "\n",
    " \n",
    "\n",
    "Constraints:\n",
    "\n",
    "m == board.length\n",
    "n == board[i].length\n",
    "1 <= m, n <= 200\n",
    "board[i][j] is 'X' or 'O'."
   ]
  },
  {
   "cell_type": "markdown",
   "id": "3b3bca96",
   "metadata": {},
   "source": [
    "Okay, let’s break down **130. Surrounded Regions** step by step so you understand the problem clearly:\n",
    "\n",
    "---\n",
    "\n",
    "### Problem Statement (in simple words):\n",
    "\n",
    "You are given a **2D board** containing only `'X'` and `'O'`.\n",
    "\n",
    "* `'X'` → represents a blocked cell.\n",
    "* `'O'` → represents an open cell.\n",
    "\n",
    "Your task:\n",
    "\n",
    "> Capture all regions of `'O'` that are **completely surrounded** by `'X'`.\n",
    "> A surrounded region means all `'O'`s in that region cannot reach the **boundary of the board**.\n",
    "\n",
    "Captured means:\n",
    "👉 Change all `'O'`s in that surrounded region to `'X'`.\n",
    "\n",
    "---\n",
    "\n",
    "- So the '0' which cant reach the boundery by connecting to other 'o' and surroundeed fully by 'x' then they have to change to 'x'.\n",
    "- here we know the 'O''s near boundary are safe. So instead of checking a 'O' can reach the boundary or not ----\n",
    "- we will mark all the 'O''s near the boundary 'o' as safe.\n",
    "\n",
    "- we need to do the bfs for each boundary node.\n",
    "- and mark them safe - and spread the safety.\n",
    "\n",
    "- at the end mark back all the non-safe 'O' to 'X' and change the safe onces to 'O'.\n"
   ]
  },
  {
   "cell_type": "code",
   "execution_count": 11,
   "id": "f2ae46de",
   "metadata": {},
   "outputs": [],
   "source": [
    "class Solution:\n",
    "    def solve(self, board: list[list[str]]) -> None:\n",
    "        if not board or not board[0]:\n",
    "            return \n",
    "        \n",
    "        n, m = len(board), len(board[0])\n",
    "        q = []\n",
    "\n",
    "        def bfs(i, j):\n",
    "            q.append((i, j))\n",
    "            board[i][j] = \"S\"  # Mark safe\n",
    "            while q:\n",
    "                # NOTE: no need to for loop over the q_len here... we can do continuously.\n",
    "                x, y = q.pop(0)\n",
    "                for dx, dy in [(-1,0), (1,0), (0,-1), (0,1)]:\n",
    "                    nx, ny = x + dx, y + dy\n",
    "                    if 0 <= nx < n and 0 <= ny < m and board[nx][ny] == \"O\":\n",
    "                        board[nx][ny] = \"S\"\n",
    "                        q.append((nx, ny))\n",
    "\n",
    "        # Step 1: Traverse boundary, mark connected 'O's as safe\n",
    "        for i in range(n):\n",
    "            # first row.\n",
    "            if board[i][0] == \"O\":\n",
    "                bfs(i, 0)\n",
    "\n",
    "            # last row.\n",
    "            if board[i][m-1] == \"O\":\n",
    "                bfs(i, m-1)\n",
    "        for j in range(m):\n",
    "            # first col\n",
    "            if board[0][j] == \"O\":\n",
    "                bfs(0, j)\n",
    "\n",
    "            # last col.\n",
    "            if board[n-1][j] == \"O\":\n",
    "                bfs(n-1, j)\n",
    "\n",
    "        # Step 2: Flip surrounded 'O' → 'X', and safe 'S' → 'O'\n",
    "        for i in range(n):\n",
    "            for j in range(m):\n",
    "                if board[i][j] == \"O\":\n",
    "                    board[i][j] = \"X\"\n",
    "                elif board[i][j] == \"S\":\n",
    "                    board[i][j] = \"O\"\n",
    "\n",
    "        print(board)\n",
    "\n",
    "# tc - O(n * m)\n",
    "# sc - O(n * m)\n"
   ]
  },
  {
   "cell_type": "code",
   "execution_count": 12,
   "id": "bf746a9e",
   "metadata": {},
   "outputs": [
    {
     "name": "stdout",
     "output_type": "stream",
     "text": [
      "[['X', 'X', 'X', 'X'], ['X', 'X', 'X', 'X'], ['X', 'X', 'X', 'X'], ['X', 'O', 'X', 'X']]\n"
     ]
    }
   ],
   "source": [
    "Solution().solve(board = [[\"X\",\"X\",\"X\",\"X\"],[\"X\",\"O\",\"O\",\"X\"],[\"X\",\"X\",\"O\",\"X\"],[\"X\",\"O\",\"X\",\"X\"]])"
   ]
  },
  {
   "cell_type": "code",
   "execution_count": null,
   "id": "0bde2897",
   "metadata": {},
   "outputs": [],
   "source": []
  }
 ],
 "metadata": {
  "kernelspec": {
   "display_name": "3.11.11",
   "language": "python",
   "name": "python3"
  },
  "language_info": {
   "codemirror_mode": {
    "name": "ipython",
    "version": 3
   },
   "file_extension": ".py",
   "mimetype": "text/x-python",
   "name": "python",
   "nbconvert_exporter": "python",
   "pygments_lexer": "ipython3",
   "version": "3.11.11"
  }
 },
 "nbformat": 4,
 "nbformat_minor": 5
}
