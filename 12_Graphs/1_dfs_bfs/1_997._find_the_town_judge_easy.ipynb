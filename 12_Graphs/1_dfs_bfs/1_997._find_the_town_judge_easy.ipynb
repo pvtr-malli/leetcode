{
 "cells": [
  {
   "cell_type": "markdown",
   "id": "6e152e6f",
   "metadata": {},
   "source": [
    "In a town, there are n people labeled from 1 to n. There is a rumor that one of these people is secretly the town judge.\n",
    "\n",
    "If the town judge exists, then:\n",
    "\n",
    "The town judge trusts nobody.\n",
    "Everybody (except for the town judge) trusts the town judge.\n",
    "There is exactly one person that satisfies properties 1 and 2.\n",
    "You are given an array trust where trust[i] = [ai, bi] representing that the person labeled ai trusts the person labeled bi. If a trust relationship does not exist in trust array, then such a trust relationship does not exist.\n",
    "\n",
    "Return the label of the town judge if the town judge exists and can be identified, or return -1 otherwise.\n",
    "\n",
    " \n",
    "\n",
    "Example 1:\n",
    "\n",
    "Input: n = 2, trust = [[1,2]]\n",
    "Output: 2\n",
    "Example 2:\n",
    "\n",
    "Input: n = 3, trust = [[1,3],[2,3]]\n",
    "Output: 3\n",
    "Example 3:\n",
    "\n",
    "Input: n = 3, trust = [[1,3],[2,3],[3,1]]\n",
    "Output: -1\n",
    " \n",
    "\n",
    "Constraints:\n",
    "\n",
    "1 <= n <= 1000\n",
    "0 <= trust.length <= 104\n",
    "trust[i].length == 2\n",
    "All the pairs of trust are unique.\n",
    "ai != bi\n",
    "1 <= ai, bi <= n"
   ]
  },
  {
   "cell_type": "code",
   "execution_count": 2,
   "id": "51718413",
   "metadata": {},
   "outputs": [],
   "source": [
    "# So basically we want someone who's indegree is 0. \n",
    "# and outdegree is n-1.\n",
    "\n",
    "class Solution:\n",
    "    def findJudge(self, N: int, trust: list[list[int]]) -> int:\n",
    "        indegree = [0] * (N + 1) # for 1 based index.\n",
    "        outdegree = [0] * (N + 1)\n",
    "\n",
    "        for u, v in trust:\n",
    "            outdegree[u] += 1\n",
    "            indegree[v] += 1\n",
    "\n",
    "        for i in range(1, N + 1):\n",
    "            if outdegree[i] == 0 and indegree[i] == N - 1:\n",
    "                return i\n",
    "        return -1\n",
    "\n",
    "# tc:\n",
    "# traversing eges: O(E)\n",
    "# traversing all the nodes - O(v)\n",
    "# - O(v+e)\n",
    "\n",
    "# sc - O(v) * 2"
   ]
  },
  {
   "cell_type": "code",
   "execution_count": 4,
   "id": "a82ef586",
   "metadata": {},
   "outputs": [
    {
     "data": {
      "text/plain": [
       "2"
      ]
     },
     "execution_count": 4,
     "metadata": {},
     "output_type": "execute_result"
    }
   ],
   "source": [
    "Solution().findJudge(N = 2, trust = [[1,2]])"
   ]
  },
  {
   "cell_type": "code",
   "execution_count": 5,
   "id": "9fd5b819",
   "metadata": {},
   "outputs": [
    {
     "data": {
      "text/plain": [
       "3"
      ]
     },
     "execution_count": 5,
     "metadata": {},
     "output_type": "execute_result"
    }
   ],
   "source": [
    "Solution().findJudge(N= 3, trust = [[1,3],[2,3]])"
   ]
  },
  {
   "cell_type": "code",
   "execution_count": 6,
   "id": "58788795",
   "metadata": {},
   "outputs": [
    {
     "data": {
      "text/plain": [
       "-1"
      ]
     },
     "execution_count": 6,
     "metadata": {},
     "output_type": "execute_result"
    }
   ],
   "source": [
    "Solution().findJudge(N = 3, trust = [[1,3],[2,3],[3,1]])"
   ]
  },
  {
   "cell_type": "code",
   "execution_count": null,
   "id": "96f1058c",
   "metadata": {},
   "outputs": [],
   "source": []
  }
 ],
 "metadata": {
  "kernelspec": {
   "display_name": "3.11.11",
   "language": "python",
   "name": "python3"
  },
  "language_info": {
   "codemirror_mode": {
    "name": "ipython",
    "version": 3
   },
   "file_extension": ".py",
   "mimetype": "text/x-python",
   "name": "python",
   "nbconvert_exporter": "python",
   "pygments_lexer": "ipython3",
   "version": "3.11.11"
  }
 },
 "nbformat": 4,
 "nbformat_minor": 5
}
