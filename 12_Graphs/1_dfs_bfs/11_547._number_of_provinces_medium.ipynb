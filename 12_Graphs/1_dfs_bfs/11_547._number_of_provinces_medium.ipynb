{
 "cells": [
  {
   "cell_type": "markdown",
   "id": "62b9864b",
   "metadata": {},
   "source": [
    "There are n cities. Some of them are connected, while some are not. If city a is connected directly with city b, and city b is connected directly with city c, then city a is connected indirectly with city c.\n",
    "\n",
    "A province is a group of directly or indirectly connected cities and no other cities outside of the group.\n",
    "\n",
    "You are given an n x n matrix isConnected where isConnected[i][j] = 1 if the ith city and the jth city are directly connected, and isConnected[i][j] = 0 otherwise.\n",
    "\n",
    "Return the total number of provinces.\n",
    "\n",
    " \n",
    "\n",
    "Example 1:\n",
    "\n",
    "\n",
    "Input: isConnected = [[1,1,0],[1,1,0],[0,0,1]]\n",
    "Output: 2\n",
    "Example 2:\n",
    "\n",
    "\n",
    "Input: isConnected = [[1,0,0],[0,1,0],[0,0,1]]\n",
    "Output: 3\n",
    " \n",
    "\n",
    "Constraints:\n",
    "\n",
    "1 <= n <= 200\n",
    "n == isConnected.length\n",
    "n == isConnected[i].length\n",
    "isConnected[i][j] is 1 or 0.\n",
    "isConnected[i][i] == 1\n",
    "isConnected[i][j] == isConnected[j][i]"
   ]
  },
  {
   "cell_type": "markdown",
   "id": "69a19877",
   "metadata": {},
   "source": [
    "# clarifications:\n",
    "- We don’t need the actual nodes inside each group — we only care about how many connected groups (provinces) exist.\n",
    "- we need to find how many components are there."
   ]
  },
  {
   "cell_type": "code",
   "execution_count": null,
   "id": "61c6c5ef",
   "metadata": {},
   "outputs": [],
   "source": [
    "class Solution:\n",
    "    def findCircleNum(self, isConnected: list[list[int]]) -> int:\n",
    "        adj_matrix = [[] for _ in range(len(isConnected))]\n",
    "         #Create the adjecent matrix first.\n",
    "        for index, sub_arr in enumerate(isConnected):\n",
    "            for con_node_inx, ele in enumerate(sub_arr):\n",
    "                if ele == 1 and not index == con_node_inx:\n",
    "                    adj_matrix[index].append(con_node_inx)\n",
    "            \n",
    "\n",
    "        # So this will give as the matrix like this: [[1], [0], []] for [[1,1,0],[1,1,0],[0,0,1]]. \n",
    "        q = []\n",
    "        visited = [0] * len(isConnected)\n",
    "        province = 0\n",
    "\n",
    "        def bfs(node):\n",
    "            visited[node] = 1 # mark the starting point.\n",
    "            q.append(node)\n",
    "            while q:\n",
    "                \n",
    "                next_node = q.pop(0)\n",
    "                for adj_node in adj_matrix[next_node]:\n",
    "                    # If not visited, visit them. else leave they will be visited in next componenet.\n",
    "                    if not visited[adj_node]:\n",
    "                        visited[adj_node] = 1\n",
    "                        q.append(adj_node)\n",
    "                    \n",
    "            return\n",
    "\n",
    "        # intialize with the first index connected to some node.\n",
    "        for node in range(len(isConnected)):\n",
    "            if not visited[node]:\n",
    "                bfs(node)\n",
    "                province += 1   \n",
    "\n",
    "        return province\n",
    "\n",
    "# tc:\n",
    "# - Building adjacency list from the matrix: O(n^2)\n",
    "# - BFS/DFS traversal: visits each node + edge once - O(n + e)\n",
    "\n",
    "# sc:\n",
    "# - adg_matrxi - O(n^2)\n",
    "# - visited - O(n)\n",
    "# - queue - O(n)"
   ]
  },
  {
   "cell_type": "code",
   "execution_count": 20,
   "id": "a2aced6b",
   "metadata": {},
   "outputs": [
    {
     "data": {
      "text/plain": [
       "2"
      ]
     },
     "execution_count": 20,
     "metadata": {},
     "output_type": "execute_result"
    }
   ],
   "source": [
    "Solution().findCircleNum(isConnected = [[1,1,0],[1,1,0],[0,0,1]])"
   ]
  },
  {
   "cell_type": "code",
   "execution_count": 21,
   "id": "3bcb7b51",
   "metadata": {},
   "outputs": [
    {
     "data": {
      "text/plain": [
       "3"
      ]
     },
     "execution_count": 21,
     "metadata": {},
     "output_type": "execute_result"
    }
   ],
   "source": [
    "Solution().findCircleNum(isConnected = [[1,0,0],[0,1,0],[0,0,1]])"
   ]
  },
  {
   "cell_type": "code",
   "execution_count": null,
   "id": "2058123e",
   "metadata": {},
   "outputs": [],
   "source": []
  }
 ],
 "metadata": {
  "kernelspec": {
   "display_name": "3.11.11",
   "language": "python",
   "name": "python3"
  },
  "language_info": {
   "codemirror_mode": {
    "name": "ipython",
    "version": 3
   },
   "file_extension": ".py",
   "mimetype": "text/x-python",
   "name": "python",
   "nbconvert_exporter": "python",
   "pygments_lexer": "ipython3",
   "version": "3.11.11"
  }
 },
 "nbformat": 4,
 "nbformat_minor": 5
}
