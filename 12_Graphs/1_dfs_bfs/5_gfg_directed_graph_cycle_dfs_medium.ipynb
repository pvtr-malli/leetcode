{
 "cells": [
  {
   "cell_type": "markdown",
   "id": "e0b90ea7",
   "metadata": {},
   "source": [
    "Given a Directed Graph with V vertices (Numbered from 0 to V-1) and E edges, check whether it contains any cycle or not.\n",
    "The graph is represented as a 2D vector edges[][], where each entry edges[i] = [u, v] denotes an edge from verticex u to v.\n",
    "\n",
    "Examples:\n",
    "\n",
    "Input: V = 4, edges[][] = [[0, 1], [0, 2], [1, 2], [2, 0], [2, 3]]\n",
    "\n",
    "Output: true\n",
    "Explanation: The diagram clearly shows a cycle 0 → 2 → 0\n",
    "Input: V = 4, edges[][] = [[0, 1], [0, 2], [1, 2], [2, 3]\n",
    "\n",
    "Output: false\n",
    "Explanation: no cycle in the graph\n",
    "Constraints:\n",
    "1 ≤ V, E ≤ 105\n",
    "u ≠ v"
   ]
  },
  {
   "cell_type": "markdown",
   "id": "ae1f2f7c",
   "metadata": {},
   "source": [
    "- mark the cur visited\n",
    "- loop to adjecent\n",
    "- if not visited - visit\n",
    "- if visited - do the check"
   ]
  },
  {
   "cell_type": "code",
   "execution_count": null,
   "id": "c60e6486",
   "metadata": {},
   "outputs": [],
   "source": [
    "class Solution:\n",
    "    def isCycle(self, V, edges):\n",
    "        adjecent_matrix = [[] for _ in range(V)]\n",
    "        for u, v in edges:\n",
    "            adjecent_matrix[u].append(v)\n",
    "            # adjecent_matrix[v].append(u) # # undirected graph, need both directions\n",
    "\t\t\t \n",
    "        print(adjecent_matrix)\n",
    "\n",
    "        visited = [0] * V\n",
    "        dir_visited = [0] * V\n",
    "\n",
    "        def dfs(node):\n",
    "            visited[node] = 1\n",
    "            dir_visited[node] = 1\n",
    "                \n",
    "            # Go to all the adjecent nodes.\n",
    "            for adj_ndoe in adjecent_matrix[node]:\n",
    "                if not visited[adj_ndoe]:\n",
    "                    if dfs(adj_ndoe):\n",
    "                        return True\n",
    "                    \n",
    "                    \n",
    "                else:\n",
    "                    if dir_visited[adj_ndoe] == 1:\n",
    "                        return True\n",
    "                    \n",
    "            # Backtracking\n",
    "            dir_visited[node] = 0\n",
    "            return False\n",
    "        \n",
    "\n",
    "        for i in range(V):\n",
    "            if not visited[i]:\n",
    "                if dfs(i):\n",
    "                    return True \n",
    "        return False \n",
    "\n",
    "\n",
    "# tc -O(n + e)\n",
    "# sc - O(V * 2)\n"
   ]
  },
  {
   "cell_type": "code",
   "execution_count": 17,
   "id": "27ac08b4",
   "metadata": {},
   "outputs": [
    {
     "name": "stdout",
     "output_type": "stream",
     "text": [
      "[[1, 2], [2], [0, 3], []]\n"
     ]
    },
    {
     "data": {
      "text/plain": [
       "True"
      ]
     },
     "execution_count": 17,
     "metadata": {},
     "output_type": "execute_result"
    }
   ],
   "source": [
    "Solution().isCycle(V = 4, edges = [[0, 1], [0, 2], [1, 2], [2, 0], [2, 3]])"
   ]
  },
  {
   "cell_type": "code",
   "execution_count": 18,
   "id": "c36e2b79",
   "metadata": {},
   "outputs": [
    {
     "name": "stdout",
     "output_type": "stream",
     "text": [
      "[[1, 2], [2], [3], []]\n"
     ]
    },
    {
     "data": {
      "text/plain": [
       "False"
      ]
     },
     "execution_count": 18,
     "metadata": {},
     "output_type": "execute_result"
    }
   ],
   "source": [
    "Solution().isCycle(V = 4, edges = [[0, 1], [0, 2], [1, 2], [2, 3]])"
   ]
  },
  {
   "cell_type": "code",
   "execution_count": null,
   "id": "82ee94e3",
   "metadata": {},
   "outputs": [],
   "source": []
  }
 ],
 "metadata": {
  "kernelspec": {
   "display_name": "3.11.11",
   "language": "python",
   "name": "python3"
  },
  "language_info": {
   "codemirror_mode": {
    "name": "ipython",
    "version": 3
   },
   "file_extension": ".py",
   "mimetype": "text/x-python",
   "name": "python",
   "nbconvert_exporter": "python",
   "pygments_lexer": "ipython3",
   "version": "3.11.11"
  }
 },
 "nbformat": 4,
 "nbformat_minor": 5
}
