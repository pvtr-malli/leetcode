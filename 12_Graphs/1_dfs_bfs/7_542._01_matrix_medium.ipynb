{
 "cells": [
  {
   "cell_type": "markdown",
   "id": "7c7fac11",
   "metadata": {},
   "source": [
    "Given an m x n binary matrix mat, return the distance of the nearest 0 for each cell.\n",
    "\n",
    "The distance between two cells sharing a common edge is 1.\n",
    "\n",
    " \n",
    "\n",
    "Example 1:\n",
    "\n",
    "\n",
    "Input: mat = [[0,0,0],[0,1,0],[0,0,0]]\n",
    "Output: [[0,0,0],[0,1,0],[0,0,0]]\n",
    "Example 2:\n",
    "\n",
    "\n",
    "Input: mat = [[0,0,0],[0,1,0],[1,1,1]]\n",
    "Output: [[0,0,0],[0,1,0],[1,2,1]]\n",
    " \n",
    "\n",
    "Constraints:\n",
    "\n",
    "m == mat.length\n",
    "n == mat[i].length\n",
    "1 <= m, n <= 104\n",
    "1 <= m * n <= 104\n",
    "mat[i][j] is either 0 or 1.\n",
    "There is at least one 0 in mat.\n",
    " \n",
    "\n",
    "Note: This question is the same as 1765: https://leetcode.com/problems/map-of-highest-peak/"
   ]
  },
  {
   "cell_type": "markdown",
   "id": "3c57eb0e",
   "metadata": {},
   "source": [
    "🔹 Naive Idea (why it’s bad)\n",
    "- For every 1, run BFS/DFS until you find the closest 0.\n",
    "- That means O((n*m)²) in worst case → too slow.\n",
    "\n",
    "\n",
    "\n",
    "# So flip the question - instead of going to 0 from 1.\n",
    "- we will be like- \"How much far I can go from 0\".\n",
    "\n",
    "- Add all the zero index to the queeu and do the bfs from there."
   ]
  },
  {
   "cell_type": "code",
   "execution_count": 2,
   "id": "20a35334",
   "metadata": {},
   "outputs": [],
   "source": [
    "from collections import deque\n",
    "\n",
    "class Solution:\n",
    "    def updateMatrix(self, mat: list[list[int]]) -> list[list[int]]:\n",
    "        n, m = len(mat), len(mat[0])\n",
    "        dist = [[-1] * m for _ in range(n)]\n",
    "        q = deque()\n",
    "\n",
    "        # Step 1: Initialize queue with all 0's\n",
    "        for i in range(n):\n",
    "            for j in range(m):\n",
    "                if mat[i][j] == 0:\n",
    "                    # NOTE: we mark the zero as 0 distance.\n",
    "                    dist[i][j] = 0\n",
    "                    q.append((i, j))  # multi-source BFS\n",
    "\n",
    "        # Step 2: BFS from all 0's\n",
    "        dirs = [(-1,0),(1,0),(0,-1),(0,1)]\n",
    "        while q:\n",
    "            i, j = q.popleft()\n",
    "            for dx, dy in dirs:\n",
    "                new_i, new_j = i + dx, j + dy\n",
    "                if 0 <= new_i < n and 0 <= new_j < m and dist[new_i][new_j] == -1:\n",
    "                    # When get a -1, we will update, the i,j will be having the current distance from 0. \n",
    "                    # So add 1 from it.\n",
    "                    dist[new_i][new_j] = dist[i][j] + 1\n",
    "                    q.append((new_i, new_j))\n",
    "\n",
    "        return dist\n",
    "\n",
    "# tc- O(n * m)\n",
    "# sc - O(n * m) + oO(n * m)[the queue can have all the element at worst case]\n"
   ]
  },
  {
   "cell_type": "code",
   "execution_count": 3,
   "id": "09b39459",
   "metadata": {},
   "outputs": [
    {
     "data": {
      "text/plain": [
       "[[0, 0, 0], [0, 1, 0], [0, 0, 0]]"
      ]
     },
     "execution_count": 3,
     "metadata": {},
     "output_type": "execute_result"
    }
   ],
   "source": [
    "Solution().updateMatrix(mat = [[0,0,0],[0,1,0],[0,0,0]])"
   ]
  },
  {
   "cell_type": "code",
   "execution_count": null,
   "id": "a64d1499",
   "metadata": {},
   "outputs": [],
   "source": []
  }
 ],
 "metadata": {
  "kernelspec": {
   "display_name": "3.11.11",
   "language": "python",
   "name": "python3"
  },
  "language_info": {
   "codemirror_mode": {
    "name": "ipython",
    "version": 3
   },
   "file_extension": ".py",
   "mimetype": "text/x-python",
   "name": "python",
   "nbconvert_exporter": "python",
   "pygments_lexer": "ipython3",
   "version": "3.11.11"
  }
 },
 "nbformat": 4,
 "nbformat_minor": 5
}
