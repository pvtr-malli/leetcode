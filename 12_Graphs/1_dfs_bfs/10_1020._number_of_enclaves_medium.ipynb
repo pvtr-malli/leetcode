{
 "cells": [
  {
   "cell_type": "markdown",
   "id": "4d475f80",
   "metadata": {},
   "source": [
    "You are given an m x n binary matrix grid, where 0 represents a sea cell and 1 represents a land cell.\n",
    "\n",
    "A move consists of walking from one land cell to another adjacent (4-directionally) land cell or walking off the boundary of the grid.\n",
    "\n",
    "Return the number of land cells in grid for which we cannot walk off the boundary of the grid in any number of moves.\n",
    "\n",
    " \n",
    "\n",
    "Example 1:\n",
    "\n",
    "\n",
    "Input: grid = [[0,0,0,0],[1,0,1,0],[0,1,1,0],[0,0,0,0]]\n",
    "Output: 3\n",
    "Explanation: There are three 1s that are enclosed by 0s, and one 1 that is not enclosed because its on the boundary.\n",
    "Example 2:\n",
    "\n",
    "\n",
    "Input: grid = [[0,1,1,0],[0,0,1,0],[0,0,1,0],[0,0,0,0]]\n",
    "Output: 0\n",
    "Explanation: All 1s are either on the boundary or can reach the boundary.\n",
    " \n",
    "\n",
    "Constraints:\n",
    "\n",
    "m == grid.length\n",
    "n == grid[i].length\n",
    "1 <= m, n <= 500\n",
    "grid[i][j] is either 0 or 1."
   ]
  },
  {
   "cell_type": "code",
   "execution_count": 6,
   "id": "a38c8b9e",
   "metadata": {},
   "outputs": [],
   "source": [
    "# - same logic as last question.\n",
    "\n",
    "\n",
    "class Solution:\n",
    "    def numEnclaves(self, grid: list[list[int]]) -> int:\n",
    "        rows, cols = len(grid), len(grid[0])\n",
    "\n",
    "        def bfs(r, c):\n",
    "            q = []\n",
    "            grid[r][c] = 0  # mark visited\n",
    "            q.append((r,c))\n",
    "            while q:\n",
    "                x, y = q.pop(0)\n",
    "                for dx, dy in [(1,0), (-1,0), (0,1), (0,-1)]:\n",
    "                    nx, ny = x + dx, y + dy\n",
    "                    if 0 <= nx < rows and 0 <= ny < cols and grid[nx][ny] == 1:\n",
    "                        # If they are near the boundary 0, then they are safe. Dont need to count them.\n",
    "                        # just make them as 0. \n",
    "                        # becahse at the end we can just count for the 1.\n",
    "                        grid[nx][ny] = 0\n",
    "                        q.append((nx, ny))\n",
    "\n",
    "        # 1. Run BFS from border land cells\n",
    "        for r in range(rows):\n",
    "            if grid[r][0] == 1: \n",
    "                bfs(r, 0)\n",
    "            if grid[r][cols-1] == 1: \n",
    "                bfs(r, cols-1)\n",
    "        for c in range(cols):\n",
    "            if grid[0][c] == 1: \n",
    "                bfs(0, c)\n",
    "            if grid[rows-1][c] == 1: \n",
    "                bfs(rows-1, c)\n",
    "\n",
    "        # 2. Count remaining land cells\n",
    "        count = 0\n",
    "        for i in range(rows):\n",
    "            for j in range(cols):\n",
    "                if grid[i][j] == 1:\n",
    "                    count += 1\n",
    "        return count\n",
    "\n",
    "\n",
    "# tc - O(n * m)\n",
    "# sc - O(n * m)"
   ]
  },
  {
   "cell_type": "code",
   "execution_count": 7,
   "id": "8f93afcd",
   "metadata": {},
   "outputs": [
    {
     "data": {
      "text/plain": [
       "3"
      ]
     },
     "execution_count": 7,
     "metadata": {},
     "output_type": "execute_result"
    }
   ],
   "source": [
    "Solution().numEnclaves(grid = [[0,0,0,0],[1,0,1,0],[0,1,1,0],[0,0,0,0]])"
   ]
  },
  {
   "cell_type": "code",
   "execution_count": 8,
   "id": "20b4d32f",
   "metadata": {},
   "outputs": [
    {
     "data": {
      "text/plain": [
       "0"
      ]
     },
     "execution_count": 8,
     "metadata": {},
     "output_type": "execute_result"
    }
   ],
   "source": [
    "Solution().numEnclaves( grid = [[0,1,1,0],[0,0,1,0],[0,0,1,0],[0,0,0,0]])"
   ]
  },
  {
   "cell_type": "code",
   "execution_count": null,
   "id": "f18cdb47",
   "metadata": {},
   "outputs": [],
   "source": []
  }
 ],
 "metadata": {
  "kernelspec": {
   "display_name": "3.11.11",
   "language": "python",
   "name": "python3"
  },
  "language_info": {
   "codemirror_mode": {
    "name": "ipython",
    "version": 3
   },
   "file_extension": ".py",
   "mimetype": "text/x-python",
   "name": "python",
   "nbconvert_exporter": "python",
   "pygments_lexer": "ipython3",
   "version": "3.11.11"
  }
 },
 "nbformat": 4,
 "nbformat_minor": 5
}
