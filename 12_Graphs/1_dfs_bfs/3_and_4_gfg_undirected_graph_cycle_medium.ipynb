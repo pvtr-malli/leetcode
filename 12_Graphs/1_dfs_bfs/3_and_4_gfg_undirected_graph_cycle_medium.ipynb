{
 "cells": [
  {
   "cell_type": "markdown",
   "id": "b1e2bed3",
   "metadata": {},
   "source": [
    "Given an undirected graph with V vertices and E edges, represented as a 2D vector edges[][], where each entry edges[i] = [u, v] denotes an edge between vertices u and v, determine whether the graph contains a cycle or not. The graph can have multiple component.\n",
    "\n",
    "Examples:\n",
    "\n",
    "Input: V = 4, E = 4, edges[][] = [[0, 1], [0, 2], [1, 2], [2, 3]]\n",
    "Output: true\n",
    "Explanation: \n",
    " \n",
    "1 -> 2 -> 0 -> 1 is a cycle.\n",
    "Input: V = 4, E = 3, edges[][] = [[0, 1], [1, 2], [2, 3]]\n",
    "Output: false\n",
    "Explanation: \n",
    " \n",
    "No cycle in the graph.\n",
    "Constraints:\n",
    "1 ≤ V ≤ 105\n",
    "1 ≤ E = edges.size() ≤ 105\n",
    "\n",
    "Expected Complexities\n",
    "Time Complexity: O(V + E)\n",
    "Auxiliary Space: O(V)"
   ]
  },
  {
   "cell_type": "markdown",
   "id": "ca5649cb",
   "metadata": {},
   "source": [
    "- mark the cur visited\n",
    "- loop to adjecent\n",
    "- if not visited - visit\n",
    "- if visited - do the check"
   ]
  },
  {
   "cell_type": "code",
   "execution_count": 1,
   "id": "6b66b754",
   "metadata": {},
   "outputs": [],
   "source": [
    "# Detection using the BFS apporach:\n",
    "class Solution:\n",
    "\tdef isCycle(self, V, edges):\n",
    "\t\tadjecent_matrix = [[] for _ in range(V)]\n",
    "\t\tfor u, v in edges:\n",
    "\t\t\tadjecent_matrix[u].append(v)\n",
    "\t\t\tadjecent_matrix[v].append(u) # # undirected graph, need both directions\n",
    "\t\t\t \n",
    "\t\tprint(adjecent_matrix)\n",
    "\t\t\n",
    "\t\tvisited = [0] * V\n",
    "\t\t\n",
    "\t\tdef detect_cycle(i):\n",
    "\t\t\tvisited[i] = 1\n",
    "\t\t\tq = []\n",
    "\t\t\tq.append((i, -1)) # (node, prev_node)\n",
    "\t\t\twhile len(q) > 0:\n",
    "\t\t\t\tnode, prev_node = q.pop(0)\n",
    "\t\t\t\t# Check the adjecent nodes is visited or not. if so the prev should be same as the current node.\n",
    "\t\t\t\tfor adj_node in adjecent_matrix[node]:\n",
    "\t\t\t\t\tif not visited[adj_node]:\n",
    "\t\t\t\t\t\tvisited[adj_node] = 1\n",
    "\t\t\t\t\t\tq.append((adj_node, node))\n",
    "\t\t\t\t\telse:\n",
    "\t\t\t\t\t\tif adj_node != prev_node:\n",
    "\t\t\t\t\t\t\treturn True \n",
    "\t\t\treturn False\n",
    "\n",
    "\t\tfor i in range(V):\n",
    "\t\t\tif not visited[i]:\n",
    "\t\t\t\tif detect_cycle(i):\n",
    "\t\t\t\t\treturn True \n",
    "\t\treturn False \n",
    "\t\t\t\t\n",
    "# tc:\n",
    "# - building the adjecent matrix - O(V + E) (V for creating empty lists, E for inserting both directions).\n",
    "# - traversal - O(v + E) Each vertex is visited once → O(V). Each edge is checked at most twice (once from each endpoint) → O(E).\n",
    "# - O(v + E)\n",
    "\n",
    "# sc;\n",
    "# - ajd matrix - O(V + E)\n",
    "# - visited array - O(V)\n",
    "# - recurssion / queue - O(V)\n",
    "# - total - O(v + E)"
   ]
  },
  {
   "cell_type": "code",
   "execution_count": 2,
   "id": "a7770f78",
   "metadata": {},
   "outputs": [
    {
     "name": "stdout",
     "output_type": "stream",
     "text": [
      "[[1, 2], [0, 2], [0, 1, 3], [2]]\n"
     ]
    },
    {
     "data": {
      "text/plain": [
       "True"
      ]
     },
     "execution_count": 2,
     "metadata": {},
     "output_type": "execute_result"
    }
   ],
   "source": [
    "Solution().isCycle(V = 4, edges = [[0, 1], [0, 2], [1, 2], [2, 3]])"
   ]
  },
  {
   "cell_type": "code",
   "execution_count": 26,
   "id": "dd0095d7",
   "metadata": {},
   "outputs": [
    {
     "name": "stdout",
     "output_type": "stream",
     "text": [
      "[0, 1]\n",
      "[1, 2]\n",
      "[2, 3]\n",
      "[[1], [2], [3], []]\n"
     ]
    },
    {
     "data": {
      "text/plain": [
       "False"
      ]
     },
     "execution_count": 26,
     "metadata": {},
     "output_type": "execute_result"
    }
   ],
   "source": [
    "Solution().isCycle(V = 4,edges = [[0, 1], [1, 2], [2, 3]])"
   ]
  },
  {
   "cell_type": "markdown",
   "id": "25d3e42f",
   "metadata": {},
   "source": [
    "# Using DPS\n"
   ]
  },
  {
   "cell_type": "code",
   "execution_count": 29,
   "id": "99f677d1",
   "metadata": {},
   "outputs": [],
   "source": [
    "class Solution:\n",
    "\tdef isCycle(self, V, edges):\n",
    "\t\tadjecent_matrix = [[] for _ in range(V)]\n",
    "\t\tfor u, v in edges:\n",
    "\t\t\tadjecent_matrix[u].append(v)\n",
    "\t\t\tadjecent_matrix[v].append(u) # # undirected graph, need both directions\n",
    "\t\t\t \n",
    "\t\tprint(adjecent_matrix)\n",
    "\t\t\n",
    "\t\tvisited = [0] * V\n",
    "\t\t\n",
    "\t\tdef detect_cycle_dfs(node, prev_node):\n",
    "\t\t\t# there is not base case.\n",
    "\t\t\tvisited[node] = 1\n",
    "\t\t\tfor adj_node in adjecent_matrix[node]:\n",
    "\t\t\t\tif not visited[adj_node]:\n",
    "\t\t\t\t\tif detect_cycle_dfs(adj_node, node):\n",
    "\t\t\t\t\t\treturn True\n",
    "\t\t\t\telif adj_node != prev_node:\n",
    "\t\t\t\t\treturn True\n",
    "\t\t\treturn False \n",
    "\t\t\t\t\t\n",
    "\n",
    "\t\tfor i in range(V):\n",
    "\t\t\tif not visited[i]:\n",
    "\t\t\t\tif detect_cycle_dfs(i, -1):\n",
    "\t\t\t\t\treturn True \n",
    "\t\treturn False "
   ]
  },
  {
   "cell_type": "code",
   "execution_count": 30,
   "id": "439bfac5",
   "metadata": {},
   "outputs": [
    {
     "name": "stdout",
     "output_type": "stream",
     "text": [
      "[[1, 2], [0, 2], [0, 1, 3], [2]]\n"
     ]
    },
    {
     "data": {
      "text/plain": [
       "True"
      ]
     },
     "execution_count": 30,
     "metadata": {},
     "output_type": "execute_result"
    }
   ],
   "source": [
    "Solution().isCycle(V = 4, edges = [[0, 1], [0, 2], [1, 2], [2, 3]])"
   ]
  },
  {
   "cell_type": "code",
   "execution_count": 31,
   "id": "4e3247d6",
   "metadata": {},
   "outputs": [
    {
     "name": "stdout",
     "output_type": "stream",
     "text": [
      "[[1], [0, 2], [1, 3], [2]]\n"
     ]
    },
    {
     "data": {
      "text/plain": [
       "False"
      ]
     },
     "execution_count": 31,
     "metadata": {},
     "output_type": "execute_result"
    }
   ],
   "source": [
    "Solution().isCycle(V = 4,edges = [[0, 1], [1, 2], [2, 3]])"
   ]
  },
  {
   "cell_type": "code",
   "execution_count": null,
   "id": "a7f0bd96",
   "metadata": {},
   "outputs": [],
   "source": []
  }
 ],
 "metadata": {
  "kernelspec": {
   "display_name": "3.11.11",
   "language": "python",
   "name": "python3"
  },
  "language_info": {
   "codemirror_mode": {
    "name": "ipython",
    "version": 3
   },
   "file_extension": ".py",
   "mimetype": "text/x-python",
   "name": "python",
   "nbconvert_exporter": "python",
   "pygments_lexer": "ipython3",
   "version": "3.11.11"
  }
 },
 "nbformat": 4,
 "nbformat_minor": 5
}
