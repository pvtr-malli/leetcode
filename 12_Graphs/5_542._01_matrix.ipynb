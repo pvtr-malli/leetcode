{
 "cells": [
  {
   "cell_type": "code",
   "execution_count": null,
   "metadata": {},
   "outputs": [],
   "source": [
    "MEDIUM"
   ]
  },
  {
   "cell_type": "markdown",
   "metadata": {},
   "source": [
    "Given an m x n binary matrix mat, return the distance of the nearest 0 for each cell.\n",
    "\n",
    "The distance between two cells sharing a common edge is 1.\n",
    "\n",
    " \n",
    "\n",
    "Example 1:\n",
    "\n",
    "\n",
    "Input: mat = [[0,0,0],[0,1,0],[0,0,0]]\n",
    "Output: [[0,0,0],[0,1,0],[0,0,0]]\n",
    "Example 2:\n",
    "\n",
    "\n",
    "Input: mat = [[0,0,0],[0,1,0],[1,1,1]]\n",
    "Output: [[0,0,0],[0,1,0],[1,2,1]]\n",
    " \n",
    "\n",
    "Constraints:\n",
    "\n",
    "m == mat.length\n",
    "n == mat[i].length\n",
    "1 <= m, n <= 104\n",
    "1 <= m * n <= 104\n",
    "mat[i][j] is either 0 or 1.\n",
    "There is at least one 0 in mat.\n",
    " \n",
    "\n",
    "Note: This question is the same as 1765: https://leetcode.com/problems/map-of-highest-peak/"
   ]
  },
  {
   "cell_type": "code",
   "execution_count": 3,
   "metadata": {},
   "outputs": [],
   "source": [
    "class Solution:\n",
    "    def updateMatrix(self, mat):\n",
    "        rows = len(mat)\n",
    "        cols = len(mat[0])\n",
    "        q = []\n",
    "\n",
    "        # Initialize the queue.\n",
    "        dis = [[-1] * cols for _ in range(rows)]\n",
    "        for i in range(rows):\n",
    "            for j in range(cols):\n",
    "                if mat[i][j] == 0:\n",
    "                    q.append((i, j))\n",
    "                    dis[i][j] = 0\n",
    "\n",
    "        di = [-1, 1, 0, 0] # Top, down, left, right,  order\n",
    "        dj = [0, 0, -1, 1]\n",
    "\n",
    "        while len(q) != 0:\n",
    "            ele = q.pop(0)\n",
    "            src_i, src_j = ele[0], ele[1]\n",
    "\n",
    "            for dir in range(4): # 4 directions.\n",
    "                # Check that position if its not out of matrix.\n",
    "                i,j = src_i + di[dir], src_j + dj[dir]\n",
    "                if (i >= 0) and (j >= 0) and (i < rows) and (j < cols):\n",
    "                    # Update the distance matrix.\n",
    "                    if dis[i][j] == -1:\n",
    "                        dis[i][j] = dis[src_i][src_j] + 1\n",
    "                        q.append((i,j))\n",
    "\n",
    "        return dis\n"
   ]
  },
  {
   "cell_type": "code",
   "execution_count": 4,
   "metadata": {},
   "outputs": [
    {
     "data": {
      "text/plain": [
       "[[0, 0, 0], [0, 1, 0], [0, 0, 0]]"
      ]
     },
     "execution_count": 4,
     "metadata": {},
     "output_type": "execute_result"
    }
   ],
   "source": [
    "Solution().updateMatrix(mat = [[0,0,0],[0,1,0],[0,0,0]])"
   ]
  },
  {
   "cell_type": "code",
   "execution_count": 5,
   "metadata": {},
   "outputs": [
    {
     "data": {
      "text/plain": [
       "[[0, 0, 0], [0, 1, 0], [1, 2, 1]]"
      ]
     },
     "execution_count": 5,
     "metadata": {},
     "output_type": "execute_result"
    }
   ],
   "source": [
    "Solution().updateMatrix(mat = [[0,0,0],[0,1,0],[1,1,1]])"
   ]
  },
  {
   "cell_type": "code",
   "execution_count": 7,
   "metadata": {},
   "outputs": [
    {
     "data": {
      "text/plain": [
       "[[0, 1], [0, 0]]"
      ]
     },
     "execution_count": 7,
     "metadata": {},
     "output_type": "execute_result"
    }
   ],
   "source": [
    "Solution().updateMatrix( [[0,1],[0,0]])"
   ]
  },
  {
   "cell_type": "code",
   "execution_count": null,
   "metadata": {},
   "outputs": [],
   "source": []
  }
 ],
 "metadata": {
  "kernelspec": {
   "display_name": "Python 3",
   "language": "python",
   "name": "python3"
  },
  "language_info": {
   "codemirror_mode": {
    "name": "ipython",
    "version": 3
   },
   "file_extension": ".py",
   "mimetype": "text/x-python",
   "name": "python",
   "nbconvert_exporter": "python",
   "pygments_lexer": "ipython3",
   "version": "3.8.10"
  }
 },
 "nbformat": 4,
 "nbformat_minor": 2
}
