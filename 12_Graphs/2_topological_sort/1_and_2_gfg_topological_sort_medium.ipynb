{
 "cells": [
  {
   "cell_type": "markdown",
   "id": "611dfa6b",
   "metadata": {},
   "source": [
    "Given a Directed Acyclic Graph (DAG) of V (0 to V-1) vertices and E edges represented as a 2D list of edges[][], where each entry edges[i] = [u, v] denotes a directed edge u -> v. Return the topological sort for the given graph.\n",
    "\n",
    "Topological sorting for Directed Acyclic Graph (DAG) is a linear ordering of vertices such that for every directed edge u -> v, vertex u comes before v in the ordering.\n",
    "Note: As there are multiple Topological orders possible, you may return any of them. If your returned Topological sort is correct then the output will be true else false.\n",
    "\n",
    "Examples:\n",
    "\n",
    "Input: V = 4, E = 3, edges[][] = [[3, 0], [1, 0], [2, 0]]\n",
    "\n",
    "Output: true\n",
    "Explanation: The output true denotes that the order is valid. Few valid Topological orders for the given graph are:\n",
    "[3, 2, 1, 0]\n",
    "[1, 2, 3, 0]\n",
    "[2, 3, 1, 0]\n",
    "Input: V = 6, E = 6, edges[][] = [[1, 3], [2, 3], [4, 1], [4, 0], [5, 0], [5,2]]\n",
    "\n",
    "Output: true\n",
    "Explanation: The output true denotes that the order is valid. Few valid Topological orders for the graph are:\n",
    "[4, 5, 0, 1, 2, 3]\n",
    "[5, 2, 4, 0, 1, 3]\n",
    "Constraints:\n",
    "2  ≤  V  ≤  5 x 103\n",
    "1  ≤  E = edges.size()  ≤  min[105, (V * (V - 1)) / 2]\n",
    "\n",
    "Expected Complexities\n",
    "Time Complexity: O(V + E)\n",
    "Auxiliary Space: O(V)"
   ]
  },
  {
   "cell_type": "code",
   "execution_count": 1,
   "id": "00bdccaa",
   "metadata": {},
   "outputs": [],
   "source": [
    "# Topological sort using BFS: - called Kahn's algorithm: NOTE\n",
    "from collections import defaultdict\n",
    "class Solution:\n",
    "    \n",
    "    def topoSort(self, V, edges):\n",
    "        adj_matrix = defaultdict(list)\n",
    "        for u, v in edges:\n",
    "            adj_matrix[u].append(v)\n",
    "\n",
    "        in_degree = [0] * V\n",
    "        ans = []\n",
    "        # find the indegree.\n",
    "        for adj_nodes in adj_matrix:\n",
    "            for node in adj_matrix[adj_nodes]:\n",
    "                in_degree[node] += 1\n",
    "\n",
    "        q = []\n",
    "        for ele in range(V):\n",
    "            if in_degree[ele] == 0:\n",
    "                q.append(ele)\n",
    "\n",
    "        while q:\n",
    "            node = q.pop(0)\n",
    "            ans.append(node)\n",
    "            for neighbor in adj_matrix[node]:\n",
    "                in_degree[neighbor] -= 1\n",
    "                if in_degree[neighbor] == 0:\n",
    "                    q.append(neighbor)\n",
    "\n",
    "        return ans\n",
    "\n",
    "# tc - O(V + E)\n",
    "# sc - O(V)"
   ]
  },
  {
   "cell_type": "code",
   "execution_count": 3,
   "id": "0ee9f969",
   "metadata": {},
   "outputs": [
    {
     "data": {
      "text/plain": [
       "[1, 2, 3, 0]"
      ]
     },
     "execution_count": 3,
     "metadata": {},
     "output_type": "execute_result"
    }
   ],
   "source": [
    "Solution().topoSort(V = 4, edges = [[3, 0], [1, 0], [2, 0]])"
   ]
  },
  {
   "cell_type": "code",
   "execution_count": 1,
   "id": "c921786c",
   "metadata": {},
   "outputs": [],
   "source": [
    "# Topological sort using DFS:\n",
    "from collections import defaultdict\n",
    "class Solution:\n",
    "    \n",
    "    def topoSort(self, V, edges):\n",
    "        adj_matrix = defaultdict(list)\n",
    "        for u, v in edges:\n",
    "            adj_matrix[u].append(v)\n",
    "\n",
    "        visited = [False] * V\n",
    "        stack = []\n",
    "\n",
    "        def dfs(node):\n",
    "            visited[node] = True\n",
    "            for neighbor in adj_matrix[node]:\n",
    "                if not visited[neighbor]:\n",
    "                    dfs(neighbor)\n",
    "            stack.append(node)\n",
    "\n",
    "        for i in range(V):\n",
    "            if not visited[i]:\n",
    "                dfs(i)\n",
    "\n",
    "        return stack[::-1]\n",
    "\n",
    "# tc - O(V + E)\n",
    "# sc - O(V)"
   ]
  },
  {
   "cell_type": "code",
   "execution_count": 2,
   "id": "ab3fcd51",
   "metadata": {},
   "outputs": [
    {
     "data": {
      "text/plain": [
       "[3, 2, 1, 0]"
      ]
     },
     "execution_count": 2,
     "metadata": {},
     "output_type": "execute_result"
    }
   ],
   "source": [
    "Solution().topoSort(V = 4, edges= [[3, 0], [1, 0], [2, 0]])"
   ]
  },
  {
   "cell_type": "code",
   "execution_count": null,
   "id": "fce1e1cc",
   "metadata": {},
   "outputs": [],
   "source": []
  }
 ],
 "metadata": {
  "kernelspec": {
   "display_name": "3.11.11",
   "language": "python",
   "name": "python3"
  },
  "language_info": {
   "codemirror_mode": {
    "name": "ipython",
    "version": 3
   },
   "file_extension": ".py",
   "mimetype": "text/x-python",
   "name": "python",
   "nbconvert_exporter": "python",
   "pygments_lexer": "ipython3",
   "version": "3.11.11"
  }
 },
 "nbformat": 4,
 "nbformat_minor": 5
}
