{
 "cells": [
  {
   "cell_type": "markdown",
   "id": "e56e7568",
   "metadata": {},
   "source": [
    "There is a directed graph of n nodes with each node labeled from 0 to n - 1. The graph is represented by a 0-indexed 2D integer array graph where graph[i] is an integer array of nodes adjacent to node i, meaning there is an edge from node i to each node in graph[i].\n",
    "\n",
    "A node is a terminal node if there are no outgoing edges. A node is a safe node if every possible path starting from that node leads to a terminal node (or another safe node).\n",
    "\n",
    "Return an array containing all the safe nodes of the graph. The answer should be sorted in ascending order.\n",
    "\n",
    " \n",
    "\n",
    "Example 1:\n",
    "\n",
    "Illustration of graph\n",
    "Input: graph = [[1,2],[2,3],[5],[0],[5],[],[]]\n",
    "Output: [2,4,5,6]\n",
    "Explanation: The given graph is shown above.\n",
    "Nodes 5 and 6 are terminal nodes as there are no outgoing edges from either of them.\n",
    "Every path starting at nodes 2, 4, 5, and 6 all lead to either node 5 or 6.\n",
    "Example 2:\n",
    "\n",
    "Input: graph = [[1,2,3,4],[1,2],[3,4],[0,4],[]]\n",
    "Output: [4]\n",
    "Explanation:\n",
    "Only node 4 is a terminal node, and every path starting at node 4 leads to node 4.\n",
    " \n",
    "\n",
    "Constraints:\n",
    "\n",
    "n == graph.length\n",
    "1 <= n <= 104\n",
    "0 <= graph[i].length <= n\n",
    "0 <= graph[i][j] <= n - 1\n",
    "graph[i] is sorted in a strictly increasing order.\n",
    "The graph may contain self-loops.\n",
    "The number of edges in the graph will be in the range [1, 4 * 104]."
   ]
  },
  {
   "cell_type": "markdown",
   "id": "4a459f0e",
   "metadata": {},
   "source": [
    "- so this is the adj matrix - graph = [[1,2],[2,3],[5],[0],[5],[],[]] : says there 0 node goes to [1,2]\n",
    "- we have to now think from backwards - we have to take the terminal nodes which is outdegree 0. from there go to the node which is pointing to it,\n",
    "- so we need a reverse mapping like - for 0 th node who are all coming in. indegree matrix.\n",
    "- for the given example: in degree would be - [[3], [0], [0,1], [1], [5], [2,4], []]\n",
    "- so take the indegree adjecent nodes and count them if they have a dirrect connection to the terminal ndoes."
   ]
  },
  {
   "cell_type": "code",
   "execution_count": 1,
   "id": "6a488824",
   "metadata": {},
   "outputs": [],
   "source": [
    "from collections import deque\n",
    "\n",
    "class Solution:\n",
    "    def eventualSafeNodes(self, graph):\n",
    "        n = len(graph)\n",
    "\n",
    "        # Step 1: Build reverse graph\n",
    "        rev_graph = [[] for _ in range(n)]\n",
    "        outdegree = [0] * n\n",
    "\n",
    "        for u in range(n):\n",
    "            for v in graph[u]:\n",
    "                rev_graph[v].append(u)  # reverse edge\n",
    "            outdegree[u] = len(graph[u])  # count original outgoing edges\n",
    "        print(rev_graph)\n",
    "\n",
    "        # Step 2: Collect all terminal nodes (outdegree = 0)\n",
    "        q = deque([i for i in range(n) if outdegree[i] == 0])\n",
    "        safe = [False] * n\n",
    "\n",
    "        # Step 3: BFS\n",
    "        while q:\n",
    "            node = q.popleft()   # dequq is O(1) pop operation so use this instead of list.\n",
    "            safe[node] = True  # mark safe\n",
    "            # safe.append(node) # NOTE: I can use this but I need to give the nodes in the order.\n",
    "            # [5, 6, 2, 4] - this will be the output of list append.\n",
    "            # so use marking so we can avoid soeting.\n",
    "            for prev in rev_graph[node]:\n",
    "                outdegree[prev] -= 1\n",
    "                if outdegree[prev] == 0:\n",
    "                    q.append(prev)\n",
    "\n",
    "        # Step 4: Return all safe nodes sorted\n",
    "        return [i for i in range(n) if safe[i]]\n",
    "    \n",
    "\n",
    "# tc - O(V + E)\n",
    "# sc - O(V)"
   ]
  },
  {
   "cell_type": "code",
   "execution_count": 2,
   "id": "9fadd12b",
   "metadata": {},
   "outputs": [
    {
     "name": "stdout",
     "output_type": "stream",
     "text": [
      "[[3], [0], [0, 1], [1], [], [2, 4], []]\n"
     ]
    },
    {
     "data": {
      "text/plain": [
       "[2, 4, 5, 6]"
      ]
     },
     "execution_count": 2,
     "metadata": {},
     "output_type": "execute_result"
    }
   ],
   "source": [
    "Solution().eventualSafeNodes(graph = [[1,2],[2,3],[5],[0],[5],[],[]])"
   ]
  },
  {
   "cell_type": "code",
   "execution_count": null,
   "id": "74713d4a",
   "metadata": {},
   "outputs": [],
   "source": []
  }
 ],
 "metadata": {
  "kernelspec": {
   "display_name": "3.11.11",
   "language": "python",
   "name": "python3"
  },
  "language_info": {
   "codemirror_mode": {
    "name": "ipython",
    "version": 3
   },
   "file_extension": ".py",
   "mimetype": "text/x-python",
   "name": "python",
   "nbconvert_exporter": "python",
   "pygments_lexer": "ipython3",
   "version": "3.11.11"
  }
 },
 "nbformat": 4,
 "nbformat_minor": 5
}
