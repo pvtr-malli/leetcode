{
 "cells": [
  {
   "cell_type": "markdown",
   "id": "e5a4aae9",
   "metadata": {},
   "source": [
    "There are a total of numCourses courses you have to take, labeled from 0 to numCourses - 1. You are given an array prerequisites where prerequisites[i] = [ai, bi] indicates that you must take course bi first if you want to take course ai.\n",
    "\n",
    "For example, the pair [0, 1], indicates that to take course 0 you have to first take course 1.\n",
    "Return the ordering of courses you should take to finish all courses. If there are many valid answers, return any of them. If it is impossible to finish all courses, return an empty array.\n",
    "\n",
    " \n",
    "\n",
    "Example 1:\n",
    "\n",
    "Input: numCourses = 2, prerequisites = [[1,0]]\n",
    "Output: [0,1]\n",
    "Explanation: There are a total of 2 courses to take. To take course 1 you should have finished course 0. So the correct course order is [0,1].\n",
    "Example 2:\n",
    "\n",
    "Input: numCourses = 4, prerequisites = [[1,0],[2,0],[3,1],[3,2]]\n",
    "Output: [0,2,1,3]\n",
    "Explanation: There are a total of 4 courses to take. To take course 3 you should have finished both courses 1 and 2. Both courses 1 and 2 should be taken after you finished course 0.\n",
    "So one correct course order is [0,1,2,3]. Another correct ordering is [0,2,1,3].\n",
    "Example 3:\n",
    "\n",
    "Input: numCourses = 1, prerequisites = []\n",
    "Output: [0]\n",
    " \n",
    "\n",
    "Constraints:\n",
    "\n",
    "1 <= numCourses <= 2000\n",
    "0 <= prerequisites.length <= numCourses * (numCourses - 1)\n",
    "prerequisites[i].length == 2\n",
    "0 <= ai, bi < numCourses\n",
    "ai != bi\n",
    "All the pairs [ai, bi] are distinct."
   ]
  },
  {
   "cell_type": "markdown",
   "id": "1d27470c",
   "metadata": {},
   "source": [
    "- This problem is equivalent to finding the topological order in a directed graph. If a cycle exists, no topological ordering exists and therefore it will be impossible to take all courses.\n"
   ]
  },
  {
   "cell_type": "code",
   "execution_count": null,
   "id": "a3b67b74",
   "metadata": {},
   "outputs": [],
   "source": [
    "from collections import defaultdict, deque\n",
    "\n",
    "class Solution:\n",
    "    def findOrder(self, numCourses: int, prerequisites: list[list[int]]) -> list[int]:\n",
    "        # adjacency list\n",
    "        in_degree = [0] * numCourses\n",
    "        adj = defaultdict(list)\n",
    "        for course, prereq in prerequisites:\n",
    "            adj[prereq].append(course)   # edge prereq -> course\n",
    "            in_degree[course] += 1\n",
    "\n",
    "        # queue for courses with no prereqs\n",
    "        q = deque()\n",
    "        for i in range(numCourses):\n",
    "            if in_degree[i] == 0:\n",
    "                q.append(i)\n",
    "\n",
    "        topo_order = []\n",
    "        while q:\n",
    "            node = q.popleft()\n",
    "            topo_order.append(node)\n",
    "            for neighbor in adj[node]:\n",
    "                in_degree[neighbor] -= 1\n",
    "                if in_degree[neighbor] == 0:\n",
    "                    q.append(neighbor)\n",
    "\n",
    "        # if topo sort includes all courses → valid order\n",
    "        if len(topo_order) == numCourses:\n",
    "            return topo_order\n",
    "        else:\n",
    "            return []\n",
    "\n",
    "\n",
    "# tc - O(V + E)\n",
    "# sc - O(V)"
   ]
  }
 ],
 "metadata": {
  "language_info": {
   "name": "python"
  }
 },
 "nbformat": 4,
 "nbformat_minor": 5
}
