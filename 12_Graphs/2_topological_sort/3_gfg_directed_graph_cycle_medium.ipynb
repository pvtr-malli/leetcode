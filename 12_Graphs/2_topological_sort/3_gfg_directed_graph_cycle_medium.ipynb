{
 "cells": [
  {
   "cell_type": "markdown",
   "id": "42026aef",
   "metadata": {},
   "source": [
    "Given a Directed Graph with V vertices (Numbered from 0 to V-1) and E edges, check whether it contains any cycle or not.\n",
    "The graph is represented as a 2D vector edges[][], where each entry edges[i] = [u, v] denotes an edge from verticex u to v.\n",
    "\n",
    "Examples:\n",
    "\n",
    "Input: V = 4, edges[][] = [[0, 1], [0, 2], [1, 2], [2, 0], [2, 3]]\n",
    "\n",
    "Output: true\n",
    "Explanation: The diagram clearly shows a cycle 0 → 2 → 0\n",
    "Input: V = 4, edges[][] = [[0, 1], [0, 2], [1, 2], [2, 3]\n",
    "\n",
    "Output: false\n",
    "Explanation: no cycle in the graph\n",
    "Constraints:\n",
    "1 ≤ V, E ≤ 105\n",
    "u ≠ v\n",
    "\n"
   ]
  },
  {
   "cell_type": "code",
   "execution_count": null,
   "id": "ceb8e41d",
   "metadata": {},
   "outputs": [],
   "source": [
    "# Topological sort using BFS: - called Kahn's algorithm: NOTE\n",
    "# There is already an alog using DFS - keep theat as a first one to do. \n",
    "# This one is just know and a trick to solve the problem.\n",
    "\n",
    "from collections import defaultdict\n",
    "class Solution:\n",
    "    \n",
    "    def topoSort(self, V, edges):\n",
    "        count = 0\n",
    "        adj_matrix = defaultdict(list)\n",
    "        for u, v in edges:\n",
    "            adj_matrix[u].append(v)\n",
    "\n",
    "        in_degree = [0] * V\n",
    "        ans = []\n",
    "        # find the indegree.\n",
    "        for adj_nodes in adj_matrix:\n",
    "            for node in adj_matrix[adj_nodes]:\n",
    "                in_degree[node] += 1\n",
    "        q = []\n",
    "        for ele in range(V):\n",
    "            if in_degree[ele] == 0:\n",
    "                q.append(ele)\n",
    "\n",
    "        while q:\n",
    "            node = q.pop(0)\n",
    "            ans.append(node)\n",
    "            # Count how many coming out of the queue.\n",
    "            count += 1\n",
    "            for neighbor in adj_matrix[node]:\n",
    "                in_degree[neighbor] -= 1\n",
    "                if in_degree[neighbor] == 0:\n",
    "                    q.append(neighbor)\n",
    "\n",
    "        return False if count == V else True\n",
    "        \n",
    "\n",
    "# tc - O(V + E)\n",
    "# sc - O(V)"
   ]
  },
  {
   "cell_type": "code",
   "execution_count": 14,
   "id": "1b5afcb4",
   "metadata": {},
   "outputs": [
    {
     "name": "stdout",
     "output_type": "stream",
     "text": [
      "defaultdict(<class 'list'>, {0: [1, 2], 1: [2], 2: [0, 3]})\n"
     ]
    },
    {
     "data": {
      "text/plain": [
       "True"
      ]
     },
     "execution_count": 14,
     "metadata": {},
     "output_type": "execute_result"
    }
   ],
   "source": [
    "Solution().topoSort(V = 4, edges = [[0, 1], [0, 2], [1, 2], [2, 0], [2, 3]])"
   ]
  },
  {
   "cell_type": "code",
   "execution_count": null,
   "id": "2f598e02",
   "metadata": {},
   "outputs": [],
   "source": []
  }
 ],
 "metadata": {
  "kernelspec": {
   "display_name": "3.11.11",
   "language": "python",
   "name": "python3"
  },
  "language_info": {
   "codemirror_mode": {
    "name": "ipython",
    "version": 3
   },
   "file_extension": ".py",
   "mimetype": "text/x-python",
   "name": "python",
   "nbconvert_exporter": "python",
   "pygments_lexer": "ipython3",
   "version": "3.11.11"
  }
 },
 "nbformat": 4,
 "nbformat_minor": 5
}
