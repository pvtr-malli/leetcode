{
 "cells": [
  {
   "cell_type": "code",
   "execution_count": null,
   "metadata": {},
   "outputs": [],
   "source": [
    "MEDIUM"
   ]
  },
  {
   "cell_type": "markdown",
   "metadata": {},
   "source": [
    "You are given an m x n grid where each cell can have one of three values:\n",
    "\n",
    "0 representing an empty cell,\n",
    "1 representing a fresh orange, or\n",
    "2 representing a rotten orange.\n",
    "Every minute, any fresh orange that is 4-directionally adjacent to a rotten orange becomes rotten.\n",
    "\n",
    "Return the minimum number of minutes that must elapse until no cell has a fresh orange. If this is impossible, return -1.\n",
    "\n",
    " \n",
    "\n",
    "Example 1:\n",
    "\n",
    "\n",
    "Input: grid = [[2,1,1],[1,1,0],[0,1,1]]\n",
    "Output: 4\n",
    "Example 2:\n",
    "\n",
    "Input: grid = [[2,1,1],[0,1,1],[1,0,1]]\n",
    "Output: -1\n",
    "Explanation: The orange in the bottom left corner (row 2, column 0) is never rotten, because rotting only happens 4-directionally.\n",
    "Example 3:\n",
    "\n",
    "Input: grid = [[0,2]]\n",
    "Output: 0\n",
    "Explanation: Since there are already no fresh oranges at minute 0, the answer is just 0."
   ]
  },
  {
   "cell_type": "code",
   "execution_count": 1,
   "metadata": {},
   "outputs": [],
   "source": [
    "class Solution:\n",
    "    def orangesRotting(self, grid) -> int:\n",
    "        rows = len(grid)\n",
    "        cols = len(grid[0])\n",
    "        mins = 0\n",
    "        num_of_fresh_oranges = 0\n",
    "        # Traverse the matrix and figure out where are all the rotten oranges are.\n",
    "        rotten_orange = []\n",
    "        for i in range(rows):\n",
    "            for j in range(cols):\n",
    "                if grid[i][j] == 1:\n",
    "                    num_of_fresh_oranges += 1\n",
    "                if grid[i][j] == 2:\n",
    "                    rotten_orange.append([i,j])\n",
    "\n",
    "        # If there are not rotten oranges, then return o.\n",
    "        if num_of_fresh_oranges == 0:\n",
    "            return 0\n",
    "\n",
    "        di = [-1, 1, 0, 0] # Top, down, right, left order\n",
    "        dj = [0, 0, +1, -1]\n",
    "        while len(rotten_orange) != 0:\n",
    "            l = len(rotten_orange)\n",
    "            for i in range(l):\n",
    "                ele = rotten_orange.pop(0)\n",
    "                src_i, src_j = ele[0], ele[1]\n",
    "\n",
    "                for dir in range(4): # 4 directions.\n",
    "                    # Check that position if its not out of matrix.\n",
    "                    i,j = src_i + di[dir], src_j + dj[dir]\n",
    "                    if (i >= 0) and (j >= 0) and (i < rows) and (j < cols):\n",
    "                        if grid[i][j] == 1:\n",
    "                            grid[i][j] = 2\n",
    "                            rotten_orange.append([i,j])\n",
    "                            # one orange got rotten and we append it to the queue.\n",
    "                            num_of_fresh_oranges -= 1\n",
    "            mins += 1\n",
    "        return mins - 1 if num_of_fresh_oranges == 0 else -1\n",
    "\n",
    "\n",
    "\n",
    "# Time complexity: O(rows * cols) -> each cell is visited at least once\n",
    "# Space complexity: O(num_of_fresh_oranges) -> in the worst case if all the oranges are rotten they will be added to the queue\n"
   ]
  },
  {
   "cell_type": "code",
   "execution_count": 2,
   "metadata": {},
   "outputs": [
    {
     "data": {
      "text/plain": [
       "-1"
      ]
     },
     "execution_count": 2,
     "metadata": {},
     "output_type": "execute_result"
    }
   ],
   "source": [
    "Solution().orangesRotting(grid = [[2,1,1],[1,1,0],[0,1,1]])"
   ]
  },
  {
   "cell_type": "code",
   "execution_count": null,
   "metadata": {},
   "outputs": [],
   "source": []
  }
 ],
 "metadata": {
  "kernelspec": {
   "display_name": "Python 3",
   "language": "python",
   "name": "python3"
  },
  "language_info": {
   "codemirror_mode": {
    "name": "ipython",
    "version": 3
   },
   "file_extension": ".py",
   "mimetype": "text/x-python",
   "name": "python",
   "nbconvert_exporter": "python",
   "pygments_lexer": "ipython3",
   "version": "3.8.10"
  }
 },
 "nbformat": 4,
 "nbformat_minor": 2
}
