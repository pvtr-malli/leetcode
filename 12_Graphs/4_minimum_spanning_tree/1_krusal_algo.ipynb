{
 "cells": [
  {
   "cell_type": "markdown",
   "id": "bb21a0bb",
   "metadata": {},
   "source": [
    "Given a weighted, undirected, and connected graph with V vertices and E edges, your task is to find the sum of the weights of the edges in the Minimum Spanning Tree (MST) of the graph. The graph is provided as a list of edges, where each edge is represented as [u, v, w], indicating an edge between vertex u and vertex v with edge weight w.\n",
    "\n",
    "Input: V = 3, E = 3, Edges = [[0, 1, 5], [1, 2, 3], [0, 2, 1]]\n",
    " \n",
    "Output: 4\n",
    "Explanation:\n",
    "\n",
    "The Spanning Tree resulting in a weight\n",
    "of 4 is shown above.\n",
    "Input: V = 2, E = 1, Edges = [[0 1 5]]\n",
    "\n",
    " \n",
    "\n",
    "Output: 5 \n",
    "Explanation: Only one Spanning Tree is possible which has a weight of 5.\n",
    "Constraints:\n",
    "2 ≤ V ≤ 1000\n",
    "V-1 ≤ E ≤ (V*(V-1))/2\n",
    "1 ≤ w ≤ 1000\n",
    "The graph is connected and doesn't contain self-loops & multiple edges."
   ]
  },
  {
   "cell_type": "code",
   "execution_count": null,
   "id": "01a05494",
   "metadata": {},
   "outputs": [
    {
     "name": "stdout",
     "output_type": "stream",
     "text": [
      "MST weight: 19\n",
      "MST edges: [(2, 3, 4), (0, 3, 5), (0, 1, 10)]\n"
     ]
    }
   ],
   "source": [
    "from typing import List, Tuple\n",
    "\n",
    "class UnionFind:\n",
    "    def __init__(self, n: int):\n",
    "        self.parent = list(range(n))\n",
    "        self.rank = [0] * n\n",
    "\n",
    "    def find(self, x: int) -> int:\n",
    "        # path compression\n",
    "        if self.parent[x] != x:\n",
    "            self.parent[x] = self.find(self.parent[x])\n",
    "        return self.parent[x]\n",
    "\n",
    "    def union(self, x: int, y: int) -> bool:\n",
    "        # union by rank\n",
    "        rx, ry = self.find(x), self.find(y)\n",
    "        if rx == ry:\n",
    "            return False\n",
    "        if self.rank[rx] < self.rank[ry]:\n",
    "            self.parent[rx] = ry\n",
    "        elif self.rank[rx] > self.rank[ry]:\n",
    "            self.parent[ry] = rx\n",
    "        else:\n",
    "            self.parent[ry] = rx  # rx is the parent now.\n",
    "            self.rank[rx] += 1\n",
    "        return True\n",
    "\n",
    "def kruskal(V: int, edges: List[Tuple[int,int,int]]) -> Tuple[int, List[Tuple[int,int,int]]]:\n",
    "    \"\"\"\n",
    "    V: number of vertices (assumes vertices are 0..V-1)\n",
    "    edges: list of (u, v, w)\n",
    "    Returns: (total_weight_of_MST, list_of_edges_in_MST)\n",
    "    \"\"\"\n",
    "    # sort edges by weight\n",
    "    edges_sorted = sorted(edges, key=lambda e: e[2])\n",
    "    uf = UnionFind(V)\n",
    "\n",
    "    mst_weight = 0\n",
    "    mst_edges = []\n",
    "\n",
    "    for u, v, w in edges_sorted:\n",
    "        if uf.union(u, v): # this will return false when both have the same parent.\n",
    "            mst_edges.append((u, v, w))\n",
    "            mst_weight += w\n",
    "            # optional early stop\n",
    "            if len(mst_edges) == V - 1:\n",
    "                break\n",
    "\n",
    "    # If you want to ensure graph is connected:\n",
    "    if len(mst_edges) != V - 1:\n",
    "        raise ValueError(\"Graph is not connected; MST does not exist for all vertices.\")\n",
    "\n",
    "    return mst_weight, mst_edges\n",
    "\n",
    "# Example\n",
    "if __name__ == \"__main__\":\n",
    "    V = 4\n",
    "    edges = [\n",
    "        (0, 1, 10),\n",
    "        (0, 2, 6),\n",
    "        (0, 3, 5),\n",
    "        (1, 3, 15),\n",
    "        (2, 3, 4),\n",
    "    ]\n",
    "    weight, mst = kruskal(V, edges)\n",
    "    print(\"MST weight:\", weight)        # MST weight: 19\n",
    "    print(\"MST edges:\", mst)            # MST edges list\n"
   ]
  },
  {
   "cell_type": "code",
   "execution_count": null,
   "id": "442a4dfe",
   "metadata": {},
   "outputs": [],
   "source": []
  }
 ],
 "metadata": {
  "kernelspec": {
   "display_name": "3.11.11",
   "language": "python",
   "name": "python3"
  },
  "language_info": {
   "codemirror_mode": {
    "name": "ipython",
    "version": 3
   },
   "file_extension": ".py",
   "mimetype": "text/x-python",
   "name": "python",
   "nbconvert_exporter": "python",
   "pygments_lexer": "ipython3",
   "version": "3.11.11"
  }
 },
 "nbformat": 4,
 "nbformat_minor": 5
}
