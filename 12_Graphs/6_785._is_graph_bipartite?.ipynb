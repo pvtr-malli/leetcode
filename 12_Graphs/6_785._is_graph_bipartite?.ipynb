{
 "cells": [
  {
   "cell_type": "code",
   "execution_count": null,
   "metadata": {},
   "outputs": [],
   "source": [
    "mEDIUM"
   ]
  },
  {
   "cell_type": "markdown",
   "metadata": {},
   "source": [
    "There is an undirected graph with n nodes, where each node is numbered between 0 and n - 1. You are given a 2D array graph, where graph[u] is an array of nodes that node u is adjacent to. More formally, for each v in graph[u], there is an undirected edge between node u and node v. The graph has the following properties:\n",
    "\n",
    "There are no self-edges (graph[u] does not contain u).\n",
    "There are no parallel edges (graph[u] does not contain duplicate values).\n",
    "If v is in graph[u], then u is in graph[v] (the graph is undirected).\n",
    "The graph may not be connected, meaning there may be two nodes u and v such that there is no path between them.\n",
    "A graph is bipartite if the nodes can be partitioned into two independent sets A and B such that every edge in the graph connects a node in set A and a node in set B.\n",
    "\n",
    "Return true if and only if it is bipartite.\n",
    "\n",
    " \n",
    "\n",
    "Example 1:\n",
    "\n",
    "\n",
    "Input: graph = [[1,2,3],[0,2],[0,1,3],[0,2]]\n",
    "Output: false\n",
    "Explanation: There is no way to partition the nodes into two independent sets such that every edge connects a node in one and a node in the other.\n",
    "Example 2:\n",
    "\n",
    "\n",
    "Input: graph = [[1,3],[0,2],[1,3],[0,2]]\n",
    "Output: true\n",
    "Explanation: We can partition the nodes into two sets: {0, 2} and {1, 3}."
   ]
  },
  {
   "cell_type": "code",
   "execution_count": 10,
   "metadata": {},
   "outputs": [],
   "source": [
    "class Solution:\n",
    "    def isBipartite(self, graph) -> bool:\n",
    "        n = len(graph)\n",
    "        visited = [-1] * (n)\n",
    "\n",
    "        # We are going to color nodes are 0/1.\n",
    "        # So in visited list, -1 --> not visited. 0/1 is colored.\n",
    "\n",
    "        for i in range(n): # Always for loop over the graph nodes,\n",
    "            # Because there could be multiple components of the same graph.\n",
    "            if visited[i] == -1:\n",
    "                q = []\n",
    "                q.append((i, 0)) # # We will start with color one and have to color adj nodes other color. 0 is the starting color.\n",
    "                while len(q) != 0:\n",
    "                    ele = q.pop(0)\n",
    "                    node, color = ele[0], ele[1]\n",
    "                    opposite_color = 0 if color == 1 else 1\n",
    "                    for adj in graph[node]:\n",
    "                        # Traverse through all the adjecent nodes.\n",
    "                        # So all the adjecent should have appocite color to the cur parent node color.\n",
    "                        if visited[adj] == -1:\n",
    "                            visited[adj] = opposite_color\n",
    "                            q.append((adj, opposite_color))\n",
    "                        else:\n",
    "                            if visited[adj] != opposite_color:\n",
    "                                return False\n",
    "        return True"
   ]
  },
  {
   "cell_type": "code",
   "execution_count": 11,
   "metadata": {},
   "outputs": [
    {
     "data": {
      "text/plain": [
       "False"
      ]
     },
     "execution_count": 11,
     "metadata": {},
     "output_type": "execute_result"
    }
   ],
   "source": [
    "Solution().isBipartite([[1,2,3],[0,2],[0,1,3],[0,2]])"
   ]
  },
  {
   "cell_type": "code",
   "execution_count": 12,
   "metadata": {},
   "outputs": [
    {
     "data": {
      "text/plain": [
       "True"
      ]
     },
     "execution_count": 12,
     "metadata": {},
     "output_type": "execute_result"
    }
   ],
   "source": [
    "Solution().isBipartite([[1,3],[0,2],[1,3],[0,2]])"
   ]
  },
  {
   "cell_type": "code",
   "execution_count": 13,
   "metadata": {},
   "outputs": [
    {
     "data": {
      "text/plain": [
       "True"
      ]
     },
     "execution_count": 13,
     "metadata": {},
     "output_type": "execute_result"
    }
   ],
   "source": [
    "Solution().isBipartite([[],[2,4,6],[1,4,8,9],[7,8],[1,2,8,9],[6,9],[1,5,7,8,9],[3,6,9],[2,3,4,6,9],[2,4,5,6,7,8]])"
   ]
  },
  {
   "cell_type": "markdown",
   "metadata": {},
   "source": [
    "# 886. Possible Bipartition\n"
   ]
  },
  {
   "cell_type": "markdown",
   "metadata": {},
   "source": [
    "We want to split a group of n people (labeled from 1 to n) into two groups of any size. Each person may dislike some other people, and they should not go into the same group.\n",
    "\n",
    "Given the integer n and the array dislikes where dislikes[i] = [ai, bi] indicates that the person labeled ai does not like the person labeled bi, return true if it is possible to split everyone into two groups in this way.\n",
    "\n",
    " \n",
    "\n",
    "Example 1:\n",
    "\n",
    "Input: n = 4, dislikes = [[1,2],[1,3],[2,4]]\n",
    "Output: true\n",
    "Explanation: The first group has [1,4], and the second group has [2,3].\n",
    "Example 2:\n",
    "\n",
    "Input: n = 3, dislikes = [[1,2],[1,3],[2,3]]\n",
    "Output: false\n",
    "Explanation: We need at least 3 groups to divide them. We cannot put them in two groups.\n",
    " \n",
    "\n",
    "Constraints:\n",
    "\n",
    "1 <= n <= 2000\n",
    "0 <= dislikes.length <= 104\n",
    "dislikes[i].length == 2\n",
    "1 <= ai < bi <= n\n",
    "All the pairs of dislikes are unique."
   ]
  },
  {
   "cell_type": "code",
   "execution_count": 18,
   "metadata": {},
   "outputs": [],
   "source": [
    "# This is same as bipartite.\n",
    "# if bipartite then - return True. else False\n",
    "\n",
    "# Just need to do little modification in the ans to meet how they given the input.\n",
    "\n",
    "class Solution:\n",
    "    def possibleBipartition(self, n: int, dislikes) -> bool:\n",
    "        # cretae the graph using hte given dislike array.\n",
    "        graph = [[] for _ in range(n)]\n",
    "        for a,b in dislikes:\n",
    "            graph[a-1].append(b-1)\n",
    "            graph[b-1].append(a-1)\n",
    "        visited = [-1] * (n + 1) # (labeled from 1 to n) :: so will keep 0th index for no use.\n",
    "\n",
    "        # We are going to color nodes are 0/1.\n",
    "        # So in visited list, -1 --> not visited. 0/1 is colored.\n",
    "\n",
    "\n",
    "        for i in range(n): # Always for loop over the graph nodes,\n",
    "            # Because there could be multiple components of the same graph.\n",
    "            if visited[i] == -1:\n",
    "                q = []\n",
    "                q.append((i, 0)) # # We will start with color one and have to color adj nodes other color. 0 is the starting color.\n",
    "                while len(q) != 0:\n",
    "                    ele = q.pop(0)\n",
    "                    node, color = ele[0], ele[1]\n",
    "                    opposite_color = 0 if color == 1 else 1\n",
    "                    for adj in graph[node]:\n",
    "                        # Traverse through all the adjecent nodes.\n",
    "                        # So all the adjecent should have appocite color to the cur parent node color.\n",
    "                        if visited[adj] == -1:\n",
    "                            visited[adj] = opposite_color\n",
    "                            q.append((adj, opposite_color))\n",
    "                        else:\n",
    "                            if visited[adj] != opposite_color:\n",
    "                                return False\n",
    "        return True"
   ]
  },
  {
   "cell_type": "code",
   "execution_count": 19,
   "metadata": {},
   "outputs": [
    {
     "data": {
      "text/plain": [
       "True"
      ]
     },
     "execution_count": 19,
     "metadata": {},
     "output_type": "execute_result"
    }
   ],
   "source": [
    "Solution().possibleBipartition(n= 4, dislikes=[[1,2],[1,3],[2,4]])"
   ]
  },
  {
   "cell_type": "code",
   "execution_count": null,
   "metadata": {},
   "outputs": [],
   "source": []
  }
 ],
 "metadata": {
  "kernelspec": {
   "display_name": "Python 3",
   "language": "python",
   "name": "python3"
  },
  "language_info": {
   "codemirror_mode": {
    "name": "ipython",
    "version": 3
   },
   "file_extension": ".py",
   "mimetype": "text/x-python",
   "name": "python",
   "nbconvert_exporter": "python",
   "pygments_lexer": "ipython3",
   "version": "3.8.10"
  }
 },
 "nbformat": 4,
 "nbformat_minor": 2
}
