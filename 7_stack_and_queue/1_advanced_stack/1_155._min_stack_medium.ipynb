{
 "cells": [
  {
   "cell_type": "markdown",
   "id": "88d6de7f",
   "metadata": {},
   "source": [
    "Design a stack that supports push, pop, top, and retrieving the minimum element in constant time.\n",
    "\n",
    "Implement the MinStack class:\n",
    "\n",
    "MinStack() initializes the stack object.\n",
    "void push(int val) pushes the element val onto the stack.\n",
    "void pop() removes the element on the top of the stack.\n",
    "int top() gets the top element of the stack.\n",
    "int getMin() retrieves the minimum element in the stack.\n",
    "You must implement a solution with O(1) time complexity for each function.\n",
    "\n",
    " \n",
    "\n",
    "Example 1:\n",
    "\n",
    "Input\n",
    "[\"MinStack\",\"push\",\"push\",\"push\",\"getMin\",\"pop\",\"top\",\"getMin\"]\n",
    "[[],[-2],[0],[-3],[],[],[],[]]\n",
    "\n",
    "Output\n",
    "[null,null,null,null,-3,null,0,-2]\n",
    "\n",
    "Explanation\n",
    "MinStack minStack = new MinStack();\n",
    "minStack.push(-2);\n",
    "minStack.push(0);\n",
    "minStack.push(-3);\n",
    "minStack.getMin(); // return -3\n",
    "minStack.pop();\n",
    "minStack.top();    // return 0\n",
    "minStack.getMin(); // return -2\n",
    " \n",
    "\n",
    "Constraints:\n",
    "\n",
    "-231 <= val <= 231 - 1\n",
    "Methods pop, top and getMin operations will always be called on non-empty stacks.\n",
    "At most 3 * 104 calls will be made to push, pop, top, and getMin."
   ]
  },
  {
   "cell_type": "markdown",
   "id": "f8032551",
   "metadata": {},
   "source": [
    "# approach 1:\n",
    "- using a double ended queue.\n",
    "- if ele < ququq.peak():\n",
    "-   push front\n",
    "- else: push back.\n",
    "- pop the same.\n",
    "- tc - O(1) - all the operations are O(1) time\n",
    "- sc - O(2n) - one stack and one queue\n",
    "\n",
    "\n",
    "# approach 2:\n",
    "- we are not doing anything with the bigger elements which are pushed in the back.\n",
    "- so we can just keep. the ele which are min than the current min.\n",
    "- using stack.\n"
   ]
  },
  {
   "cell_type": "code",
   "execution_count": 5,
   "id": "09177e55",
   "metadata": {},
   "outputs": [],
   "source": [
    "class MinStack:\n",
    "\n",
    "    def __init__(self):\n",
    "        self.stack = []\n",
    "        self.min_stack = []\n",
    "\n",
    "    def push(self, val: int) -> None:\n",
    "        self.stack.append(val)\n",
    "\n",
    "        # if the value smaller than than the current top, then push.\n",
    "        if not self.min_stack or self.min_stack[-1] >= val:\n",
    "            self.min_stack.append(val)\n",
    "\n",
    "    def pop(self) -> None:\n",
    "        poped_ele = self.stack.pop()\n",
    "\n",
    "        # if the top value is == this val then pop that too.\n",
    "        if self.min_stack and self.min_stack[-1] == poped_ele:\n",
    "            self.min_stack.pop()\n",
    "        \n",
    "        return poped_ele\n",
    "\n",
    "    def top(self) -> int:\n",
    "        return self.stack[-1]\n",
    "\n",
    "    def getMin(self) -> int:\n",
    "        return self.min_stack[-1]\n",
    "\n",
    "\n",
    "\n",
    "# Your MinStack object will be instantiated and called as such:\n",
    "# obj = MinStack()\n",
    "# obj.push(val)\n",
    "# obj.pop()\n",
    "# param_3 = obj.top()\n",
    "# param_4 = obj.getMin()"
   ]
  },
  {
   "cell_type": "code",
   "execution_count": 6,
   "id": "290be128",
   "metadata": {},
   "outputs": [],
   "source": [
    "obj = MinStack()\n",
    "obj.push(0)\n",
    "obj.push(1)\n",
    "obj.push(0)\n"
   ]
  },
  {
   "cell_type": "code",
   "execution_count": 7,
   "id": "86a10b97",
   "metadata": {},
   "outputs": [
    {
     "data": {
      "text/plain": [
       "[0, 0]"
      ]
     },
     "execution_count": 7,
     "metadata": {},
     "output_type": "execute_result"
    }
   ],
   "source": [
    "obj.min_stack"
   ]
  },
  {
   "cell_type": "code",
   "execution_count": 8,
   "id": "f7b3e146",
   "metadata": {},
   "outputs": [
    {
     "data": {
      "text/plain": [
       "0"
      ]
     },
     "execution_count": 8,
     "metadata": {},
     "output_type": "execute_result"
    }
   ],
   "source": [
    "obj.getMin()"
   ]
  },
  {
   "cell_type": "code",
   "execution_count": 9,
   "id": "20deff76",
   "metadata": {},
   "outputs": [
    {
     "data": {
      "text/plain": [
       "0"
      ]
     },
     "execution_count": 9,
     "metadata": {},
     "output_type": "execute_result"
    }
   ],
   "source": [
    "obj.pop()"
   ]
  },
  {
   "cell_type": "code",
   "execution_count": 10,
   "id": "2fcefe60",
   "metadata": {},
   "outputs": [
    {
     "data": {
      "text/plain": [
       "[0]"
      ]
     },
     "execution_count": 10,
     "metadata": {},
     "output_type": "execute_result"
    }
   ],
   "source": [
    "obj.min_stack"
   ]
  },
  {
   "cell_type": "code",
   "execution_count": null,
   "id": "07f81239",
   "metadata": {},
   "outputs": [],
   "source": []
  }
 ],
 "metadata": {
  "kernelspec": {
   "display_name": "3.11.11",
   "language": "python",
   "name": "python3"
  },
  "language_info": {
   "codemirror_mode": {
    "name": "ipython",
    "version": 3
   },
   "file_extension": ".py",
   "mimetype": "text/x-python",
   "name": "python",
   "nbconvert_exporter": "python",
   "pygments_lexer": "ipython3",
   "version": "3.11.11"
  }
 },
 "nbformat": 4,
 "nbformat_minor": 5
}
