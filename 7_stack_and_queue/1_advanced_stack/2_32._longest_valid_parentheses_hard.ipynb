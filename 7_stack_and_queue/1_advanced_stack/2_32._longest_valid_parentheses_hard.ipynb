{
 "cells": [
  {
   "cell_type": "markdown",
   "id": "9c359243",
   "metadata": {},
   "source": [
    "Given a string containing just the characters '(' and ')', return the length of the longest valid (well-formed) parentheses substring.\n",
    "\n",
    " \n",
    "\n",
    "Example 1:\n",
    "\n",
    "Input: s = \"(()\"\n",
    "Output: 2\n",
    "Explanation: The longest valid parentheses substring is \"()\".\n",
    "Example 2:\n",
    "\n",
    "Input: s = \")()())\"\n",
    "Output: 4\n",
    "Explanation: The longest valid parentheses substring is \"()()\".\n",
    "Example 3:\n",
    "\n",
    "Input: s = \"\"\n",
    "Output: 0\n",
    "\n",
    "\n",
    "Constraints:\n",
    "\n",
    "0 <= s.length <= 3 * 104\n",
    "s[i] is '(', or ')'."
   ]
  },
  {
   "cell_type": "code",
   "execution_count": null,
   "id": "ce859c9d",
   "metadata": {},
   "outputs": [],
   "source": [
    "class Solution:\n",
    "    def longestValidParentheses(self, s: str) -> int:\n",
    "        stack = []\n",
    "        maxi = 0\n",
    "        valid = 0\n",
    "        for char in s:\n",
    "            if char == \")\":\n",
    "                if stack and stack[-1] == \"(\":\n",
    "                    stack.pop()\n",
    "                    valid += 2\n",
    "                    maxi = max(maxi, valid)\n",
    "                else:\n",
    "                    \n",
    "                    valid = 0\n",
    "                    stack.append(char)\n",
    "            else:\n",
    "                stack.append(char)\n",
    "\n",
    "        return maxi\n",
    "\n",
    "\n",
    "# the above logic wont wrok for the unclosed open paranthatesn"
   ]
  },
  {
   "cell_type": "code",
   "execution_count": 9,
   "id": "5d15b5b3",
   "metadata": {},
   "outputs": [
    {
     "data": {
      "text/plain": [
       "2"
      ]
     },
     "execution_count": 9,
     "metadata": {},
     "output_type": "execute_result"
    }
   ],
   "source": [
    "Solution().longestValidParentheses(s = \"(()\")"
   ]
  },
  {
   "cell_type": "code",
   "execution_count": 10,
   "id": "48bfdac9",
   "metadata": {},
   "outputs": [
    {
     "data": {
      "text/plain": [
       "4"
      ]
     },
     "execution_count": 10,
     "metadata": {},
     "output_type": "execute_result"
    }
   ],
   "source": [
    "Solution().longestValidParentheses(s = \")()())\")"
   ]
  },
  {
   "cell_type": "code",
   "execution_count": 11,
   "id": "bfa83bdd",
   "metadata": {},
   "outputs": [
    {
     "data": {
      "text/plain": [
       "0"
      ]
     },
     "execution_count": 11,
     "metadata": {},
     "output_type": "execute_result"
    }
   ],
   "source": [
    "Solution().longestValidParentheses(s = \"\")"
   ]
  },
  {
   "cell_type": "code",
   "execution_count": 12,
   "id": "76bc6cb0",
   "metadata": {},
   "outputs": [
    {
     "data": {
      "text/plain": [
       "6"
      ]
     },
     "execution_count": 12,
     "metadata": {},
     "output_type": "execute_result"
    }
   ],
   "source": [
    "Solution().longestValidParentheses(\")()())((()))\")"
   ]
  },
  {
   "cell_type": "code",
   "execution_count": 13,
   "id": "1d0b98c4",
   "metadata": {},
   "outputs": [
    {
     "data": {
      "text/plain": [
       "4"
      ]
     },
     "execution_count": 13,
     "metadata": {},
     "output_type": "execute_result"
    }
   ],
   "source": [
    "Solution().longestValidParentheses(\"()(()\")"
   ]
  },
  {
   "cell_type": "markdown",
   "id": "28084846",
   "metadata": {},
   "source": [
    "# correct logic."
   ]
  },
  {
   "cell_type": "code",
   "execution_count": null,
   "id": "c5f149b8",
   "metadata": {},
   "outputs": [],
   "source": [
    "# - we need index to track the longest substring.\n",
    "# - we are only psuhing the '(' - so push the index of '('.\n",
    "# \n",
    "class Solution:\n",
    "    def longestValidParentheses(self, s: str) -> int:\n",
    "        stack = [-1]  # base index to help measure length\n",
    "        maxi = 0\n",
    "\n",
    "        for i, char in enumerate(s):\n",
    "            if char == '(':\n",
    "                stack.append(i)\n",
    "            else:\n",
    "                stack.pop()  # remove the last unmatched '(' (or base index)\n",
    "                if not stack:\n",
    "                    stack.append(i)  # reset the base index\n",
    "                else:\n",
    "                    maxi = max(maxi, i - stack[-1])\n",
    "        return maxi\n",
    "\n",
    "\n",
    "# tc - O(n)\n",
    "# sc - O(n)"
   ]
  },
  {
   "cell_type": "markdown",
   "id": "1afb6e61",
   "metadata": {},
   "source": [
    "\n",
    "s = \"(()())\"\n",
    "\n",
    "| Index `i` | Char | Stack Before | Action                              | Stack After  | maxi  |\n",
    "| --------- | ---- | ------------ | ----------------------------------- | ------------ | ----- |\n",
    "| 0         | `(`  | `[-1]`       | Push index of `(`                   | `[-1, 0]`    | 0     |\n",
    "| 1         | `(`  | `[-1, 0]`    | Push index of `(`                   | `[-1, 0, 1]` | 0     |\n",
    "| 2         | `)`  | `[-1, 0, 1]` | Pop `1` (match with `(` at index 1) | `[-1, 0]`    | `2`   |\n",
    "| 3         | `(`  | `[-1, 0]`    | Push index of `(`                   | `[-1, 0, 3]` | 2     |\n",
    "| 4         | `)`  | `[-1, 0, 3]` | Pop `3` (match with `(` at index 3) | `[-1, 0]`    | `4`   |\n",
    "| 5         | `)`  | `[-1, 0]`    | Pop `0` (match with `(` at index 0) | `[-1]`       | `6` ✅ |\n"
   ]
  },
  {
   "cell_type": "markdown",
   "id": "a904d5c3",
   "metadata": {},
   "source": [
    "s = \"()(()\"\n",
    "\n",
    "\n",
    "| Index `i` | Char | Stack Before | Action                           | Stack After  | maxi |\n",
    "| --------- | ---- | ------------ | -------------------------------- | ------------ | ---- |\n",
    "| 0         | `(`  | `[-1]`       | Push index of `(`                | `[-1, 0]`    | 0    |\n",
    "| 1         | `)`  | `[-1, 0]`    | Pop index `0` (matches with `(`) | `[-1]`       | 2 ✅  |\n",
    "| 2         | `(`  | `[-1]`       | Push index of `(`                | `[-1, 2]`    | 2    |\n",
    "| 3         | `(`  | `[-1, 2]`    | Push index of `(`                | `[-1, 2, 3]` | 2    |\n",
    "| 4         | `)`  | `[-1, 2, 3]` | Pop index `3` (matches with `(`) | `[-1, 2]`    | 2 ✅  |\n"
   ]
  }
 ],
 "metadata": {
  "kernelspec": {
   "display_name": "3.11.11",
   "language": "python",
   "name": "python3"
  },
  "language_info": {
   "codemirror_mode": {
    "name": "ipython",
    "version": 3
   },
   "file_extension": ".py",
   "mimetype": "text/x-python",
   "name": "python",
   "nbconvert_exporter": "python",
   "pygments_lexer": "ipython3",
   "version": "3.11.11"
  }
 },
 "nbformat": 4,
 "nbformat_minor": 5
}
