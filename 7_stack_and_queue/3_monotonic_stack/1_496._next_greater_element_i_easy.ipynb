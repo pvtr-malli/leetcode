{
 "cells": [
  {
   "cell_type": "markdown",
   "id": "1b965a79",
   "metadata": {},
   "source": [
    "The next greater element of some element x in an array is the first greater element that is to the right of x in the same array.\n",
    "\n",
    "You are given two distinct 0-indexed integer arrays nums1 and nums2, where nums1 is a subset of nums2.\n",
    "\n",
    "For each 0 <= i < nums1.length, find the index j such that nums1[i] == nums2[j] and determine the next greater element of nums2[j] in nums2. If there is no next greater element, then the answer for this query is -1.\n",
    "\n",
    "Return an array ans of length nums1.length such that ans[i] is the next greater element as described above.\n",
    "\n",
    " \n",
    "\n",
    "Example 1:\n",
    "\n",
    "Input: nums1 = [4,1,2], nums2 = [1,3,4,2]\n",
    "Output: [-1,3,-1]\n",
    "Explanation: The next greater element for each value of nums1 is as follows:\n",
    "- 4 is underlined in nums2 = [1,3,4,2]. There is no next greater element, so the answer is -1.\n",
    "- 1 is underlined in nums2 = [1,3,4,2]. The next greater element is 3.\n",
    "- 2 is underlined in nums2 = [1,3,4,2]. There is no next greater element, so the answer is -1.\n",
    "Example 2:\n",
    "\n",
    "Input: nums1 = [2,4], nums2 = [1,2,3,4]\n",
    "Output: [3,-1]\n",
    "Explanation: The next greater element for each value of nums1 is as follows:\n",
    "- 2 is underlined in nums2 = [1,2,3,4]. The next greater element is 3.\n",
    "- 4 is underlined in nums2 = [1,2,3,4]. There is no next greater element, so the answer is -1.\n",
    " \n",
    "\n",
    "Constraints:\n",
    "\n",
    "1 <= nums1.length <= nums2.length <= 1000\n",
    "0 <= nums1[i], nums2[i] <= 104\n",
    "All integers in nums1 and nums2 are unique.\n",
    "All the integers of nums1 also appear in nums2.\n",
    " \n",
    "\n",
    "Follow up: Could you find an O(nums1.length + nums2.length) solution?"
   ]
  },
  {
   "cell_type": "code",
   "execution_count": 1,
   "id": "9b78a909",
   "metadata": {},
   "outputs": [],
   "source": [
    "# brute force:\n",
    "# - find the ele in num2, and go unto end to find the next gretest element.\n",
    "def nextGreaterElement(nums1, nums2):\n",
    "    res = []\n",
    "\n",
    "    for num in nums1:\n",
    "        found_cur_num = False\n",
    "        next_greater = -1\n",
    "        for i in range(len(nums2)):\n",
    "            if nums2[i] == num:\n",
    "                found_cur_num = True\n",
    "            elif found_cur_num and nums2[i] > num:\n",
    "                next_greater = nums2[i]\n",
    "                break\n",
    "        res.append(next_greater)\n",
    "\n",
    "    return res\n",
    "\n",
    "\n",
    "# tc - O(n * m)\n",
    "# sc - O(1)\n"
   ]
  },
  {
   "cell_type": "markdown",
   "id": "59df555b",
   "metadata": {},
   "source": [
    "🧠 Intuition (Monotonic Stack):\n",
    "- Traverse nums2 from left to right\n",
    "- Maintain a monotonic decreasing stack (so we find next greater)\n",
    "- Store result in a map: {num: next_greater}"
   ]
  },
  {
   "cell_type": "code",
   "execution_count": 9,
   "id": "cc269948",
   "metadata": {},
   "outputs": [],
   "source": [
    "class Solution:\n",
    "    def nextGreaterElement(self, nums1, nums2):\n",
    "        stack = []\n",
    "        nge_map = {}\n",
    "\n",
    "        for num in nums2:\n",
    "            while stack and num > stack[-1]:\n",
    "                prev = stack.pop()\n",
    "                nge_map[prev] = num\n",
    "            stack.append(num)\n",
    "        \n",
    "        print(nge_map)\n",
    "\n",
    "        # Remaining elements have no next greater\n",
    "        while stack:\n",
    "            nge_map[stack.pop()] = -1\n",
    "\n",
    "        print(nge_map)\n",
    "\n",
    "        # Build result for nums1 using map\n",
    "        return [nge_map[num] for num in nums1]\n",
    "\n",
    "\n",
    "# tc - O(n + m)\n",
    "# sc - O(m) # map for the num2"
   ]
  },
  {
   "cell_type": "code",
   "execution_count": 10,
   "id": "44864f0b",
   "metadata": {},
   "outputs": [
    {
     "name": "stdout",
     "output_type": "stream",
     "text": [
      "{1: 3, 3: 4}\n",
      "{1: 3, 3: 4, 2: -1, 4: -1}\n"
     ]
    },
    {
     "data": {
      "text/plain": [
       "[-1, 3, -1]"
      ]
     },
     "execution_count": 10,
     "metadata": {},
     "output_type": "execute_result"
    }
   ],
   "source": [
    "Solution().nextGreaterElement(nums1 = [4,1,2], nums2 = [1,3,4,2])"
   ]
  },
  {
   "cell_type": "code",
   "execution_count": null,
   "id": "64d43762",
   "metadata": {},
   "outputs": [],
   "source": []
  }
 ],
 "metadata": {
  "kernelspec": {
   "display_name": "3.11.11",
   "language": "python",
   "name": "python3"
  },
  "language_info": {
   "codemirror_mode": {
    "name": "ipython",
    "version": 3
   },
   "file_extension": ".py",
   "mimetype": "text/x-python",
   "name": "python",
   "nbconvert_exporter": "python",
   "pygments_lexer": "ipython3",
   "version": "3.11.11"
  }
 },
 "nbformat": 4,
 "nbformat_minor": 5
}
