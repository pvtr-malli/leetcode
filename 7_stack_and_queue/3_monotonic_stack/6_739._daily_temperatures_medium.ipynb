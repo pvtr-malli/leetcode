{
 "cells": [
  {
   "cell_type": "markdown",
   "id": "44774b86",
   "metadata": {},
   "source": [
    "Given an array of integers temperatures represents the daily temperatures, return an array answer such that answer[i] is the number of days you have to wait after the ith day to get a warmer temperature. If there is no future day for which this is possible, keep answer[i] == 0 instead.\n",
    "\n",
    " \n",
    "\n",
    "Example 1:\n",
    "\n",
    "Input: temperatures = [73,74,75,71,69,72,76,73]\n",
    "Output: [1,1,4,2,1,1,0,0]\n",
    "Example 2:\n",
    "\n",
    "Input: temperatures = [30,40,50,60]\n",
    "Output: [1,1,1,0]\n",
    "Example 3:\n",
    "\n",
    "Input: temperatures = [30,60,90]\n",
    "Output: [1,1,0]\n",
    " \n",
    "\n",
    "Constraints:\n",
    "\n",
    "1 <= temperatures.length <= 105\n",
    "30 <= temperatures[i] <= 100"
   ]
  },
  {
   "cell_type": "markdown",
   "id": "8575d8f2",
   "metadata": {},
   "source": [
    "# brute force:\n",
    "- for each temperature:\n",
    "-   find the next greatear temperature and count the days.\n",
    "- [73,74,75,71,69,72,76,73]\n",
    "- [0, 1, 2, 3, 4, 5, 6, 7]\n",
    "- number of days in bwt 75 and 76 is can be easily found by the index. 6 - 2 = 4.\n"
   ]
  },
  {
   "cell_type": "code",
   "execution_count": null,
   "id": "a4e7712a",
   "metadata": {},
   "outputs": [],
   "source": [
    "class Solution:\n",
    "    def dailyTemperatures(self, temperatures: list[int]) -> list[int]:\n",
    "        ans: list[int] = [0]*len(temperatures)\n",
    "\n",
    "        for i in range(len(temperatures)):\n",
    "            first_day_temp: int = temperatures[i]\n",
    "            for j in range(i+1, len(temperatures)):\n",
    "                if temperatures[j] > first_day_temp:\n",
    "                    # this is the first warmer day , track the count.\n",
    "                    ans[i] = (j - i)\n",
    "                    break\n",
    "        return ans \n",
    "    \n",
    "# tc - O(n^2)\n",
    "# sc - O(n)[ans arr]"
   ]
  },
  {
   "cell_type": "code",
   "execution_count": 24,
   "id": "78c4ae52",
   "metadata": {},
   "outputs": [
    {
     "data": {
      "text/plain": [
       "[1, 1, 4, 2, 1, 1, 0, 0]"
      ]
     },
     "execution_count": 24,
     "metadata": {},
     "output_type": "execute_result"
    }
   ],
   "source": [
    "Solution().dailyTemperatures(temperatures = [73,74,75,71,69,72,76,73])"
   ]
  },
  {
   "cell_type": "code",
   "execution_count": null,
   "id": "1220bdea",
   "metadata": {},
   "outputs": [],
   "source": [
    "class Solution:\n",
    "    def dailyTemperatures(self, temperatures: list[int]) -> list[int]:\n",
    "        stack = []  \n",
    "        ans = [0] * len(temperatures)\n",
    "\n",
    "        for cur_ind, temp in enumerate(temperatures):\n",
    "            while stack and temperatures[stack[-1]]< temp:\n",
    "                prev_small_val_ind = stack.pop()\n",
    "\n",
    "                # track the ans,  this gives the number of days to wait.\n",
    "                ans[prev_small_val_ind] = (cur_ind - prev_small_val_ind)\n",
    "            stack.append(cur_ind)\n",
    "\n",
    "        return ans\n",
    "\n",
    "\n",
    "# tc - O(n) [for loop] + O(2n)[mofifying stack]\n",
    "# sc - O(n)"
   ]
  },
  {
   "cell_type": "code",
   "execution_count": 14,
   "id": "4eba7e5f",
   "metadata": {},
   "outputs": [
    {
     "data": {
      "text/plain": [
       "[1, 1, 4, 2, 1, 1, 0, 0]"
      ]
     },
     "execution_count": 14,
     "metadata": {},
     "output_type": "execute_result"
    }
   ],
   "source": [
    "Solution().dailyTemperatures(temperatures = [73,74,75,71,69,72,76,73])"
   ]
  },
  {
   "cell_type": "code",
   "execution_count": 15,
   "id": "080fc7b5",
   "metadata": {},
   "outputs": [
    {
     "data": {
      "text/plain": [
       "[1, 1, 1, 0]"
      ]
     },
     "execution_count": 15,
     "metadata": {},
     "output_type": "execute_result"
    }
   ],
   "source": [
    "Solution().dailyTemperatures(temperatures = [30,40,50,60])"
   ]
  },
  {
   "cell_type": "code",
   "execution_count": 16,
   "id": "2e7ddccd",
   "metadata": {},
   "outputs": [
    {
     "data": {
      "text/plain": [
       "[1, 1, 0]"
      ]
     },
     "execution_count": 16,
     "metadata": {},
     "output_type": "execute_result"
    }
   ],
   "source": [
    "Solution().dailyTemperatures(temperatures = [30,60,90])"
   ]
  },
  {
   "cell_type": "code",
   "execution_count": null,
   "id": "89a782fe",
   "metadata": {},
   "outputs": [],
   "source": []
  }
 ],
 "metadata": {
  "kernelspec": {
   "display_name": "3.11.11",
   "language": "python",
   "name": "python3"
  },
  "language_info": {
   "codemirror_mode": {
    "name": "ipython",
    "version": 3
   },
   "file_extension": ".py",
   "mimetype": "text/x-python",
   "name": "python",
   "nbconvert_exporter": "python",
   "pygments_lexer": "ipython3",
   "version": "3.11.11"
  }
 },
 "nbformat": 4,
 "nbformat_minor": 5
}
