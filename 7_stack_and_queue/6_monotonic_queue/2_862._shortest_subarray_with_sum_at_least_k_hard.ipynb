{
 "cells": [
  {
   "cell_type": "markdown",
   "id": "41a6e12e",
   "metadata": {},
   "source": [
    "Given an integer array nums and an integer k, return the length of the shortest non-empty subarray of nums with a sum of at least k. If there is no such subarray, return -1.\n",
    "\n",
    "A subarray is a contiguous part of an array.\n",
    "\n",
    " \n",
    "\n",
    "Example 1:\n",
    "\n",
    "Input: nums = [1], k = 1\n",
    "Output: 1\n",
    "Example 2:\n",
    "\n",
    "Input: nums = [1,2], k = 4\n",
    "Output: -1\n",
    "Example 3:\n",
    "\n",
    "Input: nums = [2,-1,2], k = 3\n",
    "Output: 3\n",
    " \n",
    "\n",
    "Constraints:\n",
    "\n",
    "1 <= nums.length <= 105\n",
    "-105 <= nums[i] <= 105\n",
    "1 <= k <= 109"
   ]
  },
  {
   "cell_type": "markdown",
   "id": "500acfc7",
   "metadata": {},
   "source": [
    "# brute force:\n",
    "- for every possible subarray - generate the sum and see if we can find the needed ans\n",
    "- tc - O(n ^ 2)\n",
    "- sc - O(n)"
   ]
  },
  {
   "cell_type": "code",
   "execution_count": 2,
   "id": "6ed61ae2",
   "metadata": {},
   "outputs": [],
   "source": [
    "class Solution:\n",
    "    def shortestSubarray(self, nums: list[int], k: int) -> int:\n",
    "        n = len(nums)\n",
    "        min_len = float('inf')\n",
    "\n",
    "        for start in range(n):\n",
    "            total = 0\n",
    "            for end in range(start, n):\n",
    "                total += nums[end]\n",
    "                if total >= k:\n",
    "                    min_len = min(min_len, end - start + 1)\n",
    "                    break  # No need to go further, since we want the shortest\n",
    "\n",
    "        return min_len if min_len != float('inf') else -1\n"
   ]
  },
  {
   "cell_type": "code",
   "execution_count": 3,
   "id": "f1eaee6f",
   "metadata": {},
   "outputs": [
    {
     "data": {
      "text/plain": [
       "3"
      ]
     },
     "execution_count": 3,
     "metadata": {},
     "output_type": "execute_result"
    }
   ],
   "source": [
    "nums = [2, -1, 2]\n",
    "k = 3\n",
    "# Output: 3 → [2, -1, 2] has sum 3\n",
    "Solution().shortestSubarray(nums, k)"
   ]
  },
  {
   "cell_type": "markdown",
   "id": "65df5133",
   "metadata": {},
   "source": [
    "# approach 2:\n",
    "Great question! Let's break it down clearly.\n",
    "\n",
    "---\n",
    "\n",
    "## ❓ Why **Sliding Window** Doesn't Work Directly for 862\n",
    "\n",
    "**Sliding window works well when:**\n",
    "\n",
    "* All elements are **non-negative**.\n",
    "* Because once the sum exceeds the target, you can shrink the window from the left **without reducing the sum below the target unexpectedly**.\n",
    "\n",
    "---\n",
    "\n",
    "### 🔍 The problem here:\n",
    "\n",
    "* In **862. Shortest Subarray with Sum at Least K**, the array can contain **negative numbers**.\n",
    "\n",
    "---\n",
    "\n",
    "### ❌ Sliding Window Fails When:\n",
    "\n",
    "```python\n",
    "nums = [1, 2, -1, 2]\n",
    "k = 4\n",
    "```\n",
    "\n",
    "If you try to grow and shrink a sliding window:\n",
    "\n",
    "* You might shrink the window because the sum is >= k.\n",
    "* But a negative number inside might've helped shorten the subarray later.\n",
    "* Or a future subarray might have higher prefix sum despite having a negative in between.\n",
    "\n",
    "---\n",
    "\n",
    "### ✅ Example:\n",
    "\n",
    "```python\n",
    "nums = [84, -37, 32, 40, 95]\n",
    "k = 167\n",
    "```\n",
    "\n",
    "Sliding window will never find the correct subarray because:\n",
    "\n",
    "* You might remove the `-37` hoping to get a better sum quickly,\n",
    "* But keeping it and adding future large values would yield a better (shorter) subarray.\n",
    "\n",
    "---\n",
    "\n",
    "## ✅ Correct Approach (Optimized):\n",
    "\n",
    "Use a **prefix sum + monotonic deque**:\n",
    "\n",
    "* It handles **negative numbers**.\n",
    "* It maintains candidate starting indices in increasing order of prefix sum.\n",
    "\n",
    "Would you like a detailed walkthrough of that optimal solution too?\n"
   ]
  },
  {
   "cell_type": "code",
   "execution_count": null,
   "id": "f8b5cb6e",
   "metadata": {},
   "outputs": [],
   "source": [
    "# using prefix sum and monotonic queue:\n",
    "# page: 47 \n",
    "from collections import deque\n",
    "\n",
    "class Solution:\n",
    "    def shortestSubarray(self, nums: list[int], k: int) -> int:\n",
    "        n = len(nums)\n",
    "        prefix = [0] * (n + 1)\n",
    "\n",
    "        # Step 1: Build prefix sum\n",
    "        for i in range(1, n + 1):\n",
    "            prefix[i] = prefix[i - 1] + nums[i - 1]\n",
    "\n",
    "        # Step 2: Use deque\n",
    "        dq = deque()\n",
    "        min_len = float('inf')\n",
    "\n",
    "        for j in range(n + 1):\n",
    "            # Step 3: Shrink from left while valid\n",
    "            while dq and prefix[j] - prefix[dq[0]] >= k:\n",
    "                min_len = min(min_len, j - dq.popleft())\n",
    "\n",
    "            # Step 4: Maintain increase monotonicity\n",
    "            while dq and prefix[dq[-1]] >= prefix[j]:\n",
    "                dq.pop()\n",
    "            \n",
    "\n",
    "            dq.append(j)\n",
    "            print(j, dq)\n",
    "\n",
    "        return min_len if min_len != float('inf') else -1\n",
    "\n",
    "# tc - O(n)\n",
    "# sc - O(n)"
   ]
  },
  {
   "cell_type": "code",
   "execution_count": 23,
   "id": "0cafd003",
   "metadata": {},
   "outputs": [
    {
     "name": "stdout",
     "output_type": "stream",
     "text": [
      "0 deque([0])\n",
      "1 deque([1])\n"
     ]
    },
    {
     "data": {
      "text/plain": [
       "1"
      ]
     },
     "execution_count": 23,
     "metadata": {},
     "output_type": "execute_result"
    }
   ],
   "source": [
    "Solution().shortestSubarray(nums = [1], k = 1)"
   ]
  },
  {
   "cell_type": "code",
   "execution_count": 24,
   "id": "d1960572",
   "metadata": {},
   "outputs": [
    {
     "name": "stdout",
     "output_type": "stream",
     "text": [
      "0 deque([0])\n",
      "1 deque([0, 1])\n",
      "2 deque([0, 1, 2])\n"
     ]
    },
    {
     "data": {
      "text/plain": [
       "-1"
      ]
     },
     "execution_count": 24,
     "metadata": {},
     "output_type": "execute_result"
    }
   ],
   "source": [
    "Solution().shortestSubarray(nums = [1,2], k = 4)"
   ]
  },
  {
   "cell_type": "code",
   "execution_count": 25,
   "id": "924266e2",
   "metadata": {},
   "outputs": [
    {
     "name": "stdout",
     "output_type": "stream",
     "text": [
      "0 deque([0])\n",
      "1 deque([0, 1])\n",
      "2 deque([0, 1, 2])\n",
      "3 deque([0, 1, 3])\n",
      "4 deque([0, 1, 3, 4])\n",
      "5 deque([0, 5])\n",
      "6 deque([5, 6])\n"
     ]
    },
    {
     "data": {
      "text/plain": [
       "6"
      ]
     },
     "execution_count": 25,
     "metadata": {},
     "output_type": "execute_result"
    }
   ],
   "source": [
    "Solution().shortestSubarray([1, 2, -1, 2, -3, 4], k = 5)"
   ]
  },
  {
   "cell_type": "code",
   "execution_count": null,
   "id": "7526a1d5",
   "metadata": {},
   "outputs": [],
   "source": []
  },
  {
   "cell_type": "code",
   "execution_count": null,
   "id": "d68aec42",
   "metadata": {},
   "outputs": [],
   "source": []
  }
 ],
 "metadata": {
  "kernelspec": {
   "display_name": "3.11.11",
   "language": "python",
   "name": "python3"
  },
  "language_info": {
   "codemirror_mode": {
    "name": "ipython",
    "version": 3
   },
   "file_extension": ".py",
   "mimetype": "text/x-python",
   "name": "python",
   "nbconvert_exporter": "python",
   "pygments_lexer": "ipython3",
   "version": "3.11.11"
  }
 },
 "nbformat": 4,
 "nbformat_minor": 5
}
