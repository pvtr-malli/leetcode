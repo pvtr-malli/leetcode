{
 "cells": [
  {
   "cell_type": "markdown",
   "id": "7742b449",
   "metadata": {},
   "source": [
    "The min-product of an array is equal to the minimum value in the array multiplied by the array's sum.\n",
    "\n",
    "For example, the array [3,2,5] (minimum value is 2) has a min-product of 2 * (3+2+5) = 2 * 10 = 20.\n",
    "Given an array of integers nums, return the maximum min-product of any non-empty subarray of nums. Since the answer may be large, return it modulo 109 + 7.\n",
    "\n",
    "Note that the min-product should be maximized before performing the modulo operation. Testcases are generated such that the maximum min-product without modulo will fit in a 64-bit signed integer.\n",
    "\n",
    "A subarray is a contiguous part of an array.\n",
    "\n",
    " \n",
    "\n",
    "Example 1:\n",
    "\n",
    "Input: nums = [1,2,3,2]\n",
    "Output: 14\n",
    "Explanation: The maximum min-product is achieved with the subarray [2,3,2] (minimum value is 2).\n",
    "2 * (2+3+2) = 2 * 7 = 14.\n",
    "Example 2:\n",
    "\n",
    "Input: nums = [2,3,3,1,2]\n",
    "Output: 18\n",
    "Explanation: The maximum min-product is achieved with the subarray [3,3] (minimum value is 3).\n",
    "3 * (3+3) = 3 * 6 = 18.\n",
    "Example 3:\n",
    "\n",
    "Input: nums = [3,1,5,6,4,2]\n",
    "Output: 60\n",
    "Explanation: The maximum min-product is achieved with the subarray [5,6,4] (minimum value is 4).\n",
    "4 * (5+6+4) = 4 * 15 = 60.\n",
    " \n",
    "\n",
    "Constraints:\n",
    "\n",
    "1 <= nums.length <= 105\n",
    "1 <= nums[i] <= 107"
   ]
  },
  {
   "cell_type": "markdown",
   "id": "a5a15deb",
   "metadata": {},
   "source": [
    "# brute force:\n",
    "- get all the subarry:\n",
    "-   track the min and sum.\n",
    "-   compute the product and keep maxi tracker.\n"
   ]
  },
  {
   "cell_type": "code",
   "execution_count": null,
   "id": "bd01d046",
   "metadata": {},
   "outputs": [],
   "source": [
    "class Solution:\n",
    "    def maxSumMinProduct(self, nums):\n",
    "        n = len(nums)\n",
    "        max_product = 0\n",
    "\n",
    "        for start in range(n):\n",
    "            curr_min = nums[start]\n",
    "            curr_sum = 0\n",
    "            for end in range(start, n):\n",
    "                # track both sum and min.\n",
    "                curr_sum += nums[end]\n",
    "                curr_min = min(curr_min, nums[end])\n",
    "\n",
    "                # track hte max product.\n",
    "                product = curr_min * curr_sum\n",
    "                max_product = max(max_product, product)\n",
    "\n",
    "        return max_product % (10**9 + 7)\n",
    "\n",
    "\n",
    "# tc - O(n ^ 2)\n",
    "# sc - O(1)\n"
   ]
  },
  {
   "cell_type": "markdown",
   "id": "5c66871a",
   "metadata": {},
   "source": [
    "# apporach 2:\n",
    "- "
   ]
  },
  {
   "cell_type": "code",
   "execution_count": null,
   "id": "fc070ec4",
   "metadata": {},
   "outputs": [],
   "source": [
    "# page: 44\n",
    "\n",
    "class Solution:\n",
    "    def maxSumMinProduct(self, nums: list[int]) -> int:\n",
    "        n = len(nums)\n",
    "        mod = 10**9 + 7\n",
    "\n",
    "        # Step 1: Prefix Sum\n",
    "        prefix = [0] * (n + 1)\n",
    "        for i in range(1, n + 1):\n",
    "            prefix[i] = prefix[i-1] + nums[i-1]\n",
    "\n",
    "        # Step 2: Monotonic Stack to find previous and next smaller elements\n",
    "        prev_smaller = [-1] * n\n",
    "        next_smaller = [n] * n\n",
    "        stack = []\n",
    "\n",
    "        for i in range(n):\n",
    "            while stack and nums[stack[-1]] > nums[i]:\n",
    "                idx = stack.pop()\n",
    "                next_smaller[idx] = i\n",
    "            if stack:\n",
    "                prev_smaller[i] = stack[-1]\n",
    "            stack.append(i)\n",
    "\n",
    "        print(prev_smaller)\n",
    "        print(next_smaller)\n",
    "        print(prefix)\n",
    "\n",
    "        # Step 3: Calculate max(min * sum)\n",
    "        max_product = 0\n",
    "        for i in range(n):\n",
    "            left = prev_smaller[i]\n",
    "            right = next_smaller[i]\n",
    "            total_sum = prefix[right] - prefix[left + 1]\n",
    "            max_product = max(max_product, total_sum * nums[i])\n",
    "\n",
    "        return max_product % mod\n",
    "\n",
    "\n",
    "# tc - O(3n)\n",
    "# sc - O(3n)"
   ]
  },
  {
   "cell_type": "code",
   "execution_count": 9,
   "id": "fc916be6",
   "metadata": {},
   "outputs": [
    {
     "name": "stdout",
     "output_type": "stream",
     "text": [
      "[-1, -1, 1, 2, 1, 1]\n",
      "[1, 6, 4, 4, 5, 6]\n",
      "[0, 3, 4, 9, 15, 19, 21]\n"
     ]
    },
    {
     "data": {
      "text/plain": [
       "60"
      ]
     },
     "execution_count": 9,
     "metadata": {},
     "output_type": "execute_result"
    }
   ],
   "source": [
    "Solution().maxSumMinProduct(nums = [3,1,5,6,4,2])"
   ]
  },
  {
   "cell_type": "code",
   "execution_count": null,
   "id": "8b982c4e",
   "metadata": {},
   "outputs": [],
   "source": []
  }
 ],
 "metadata": {
  "kernelspec": {
   "display_name": "3.11.11",
   "language": "python",
   "name": "python3"
  },
  "language_info": {
   "codemirror_mode": {
    "name": "ipython",
    "version": 3
   },
   "file_extension": ".py",
   "mimetype": "text/x-python",
   "name": "python",
   "nbconvert_exporter": "python",
   "pygments_lexer": "ipython3",
   "version": "3.11.11"
  }
 },
 "nbformat": 4,
 "nbformat_minor": 5
}
