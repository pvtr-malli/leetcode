{
 "cells": [
  {
   "cell_type": "markdown",
   "id": "bfb23e95",
   "metadata": {},
   "source": [
    "Given an array of integers nums and an integer limit, return the size of the longest non-empty subarray such that the absolute difference between any two elements of this subarray is less than or equal to limit.\n",
    "\n",
    " \n",
    "\n",
    "Example 1:\n",
    "\n",
    "Input: nums = [8,2,4,7], limit = 4\n",
    "Output: 2 \n",
    "Explanation: All subarrays are: \n",
    "[8] with maximum absolute diff |8-8| = 0 <= 4.\n",
    "[8,2] with maximum absolute diff |8-2| = 6 > 4. \n",
    "[8,2,4] with maximum absolute diff |8-2| = 6 > 4.\n",
    "[8,2,4,7] with maximum absolute diff |8-2| = 6 > 4.\n",
    "[2] with maximum absolute diff |2-2| = 0 <= 4.\n",
    "[2,4] with maximum absolute diff |2-4| = 2 <= 4.\n",
    "[2,4,7] with maximum absolute diff |2-7| = 5 > 4.\n",
    "[4] with maximum absolute diff |4-4| = 0 <= 4.\n",
    "[4,7] with maximum absolute diff |4-7| = 3 <= 4.\n",
    "[7] with maximum absolute diff |7-7| = 0 <= 4. \n",
    "Therefore, the size of the longest subarray is 2.\n",
    "Example 2:\n",
    "\n",
    "Input: nums = [10,1,2,4,7,2], limit = 5\n",
    "Output: 4 \n",
    "Explanation: The subarray [2,4,7,2] is the longest since the maximum absolute diff is |2-7| = 5 <= 5.\n",
    "Example 3:\n",
    "\n",
    "Input: nums = [4,2,2,2,4,4,2,2], limit = 0\n",
    "Output: 3\n",
    " \n",
    "\n",
    "Constraints:\n",
    "\n",
    "1 <= nums.length <= 105\n",
    "1 <= nums[i] <= 109\n",
    "0 <= limit <= 109"
   ]
  },
  {
   "cell_type": "markdown",
   "id": "9c7f344e",
   "metadata": {},
   "source": [
    "# brute force:\n",
    "- try all the subarrys and simulate the situation find the ans"
   ]
  },
  {
   "cell_type": "code",
   "execution_count": null,
   "id": "a824ba1c",
   "metadata": {},
   "outputs": [],
   "source": [
    "class Solution:\n",
    "    def longestSubarray(self, nums: list[int], limit: int) -> int:\n",
    "        n = len(nums)\n",
    "        max_len = 1\n",
    "        \n",
    "        for start in range(n):\n",
    "            curr_max = nums[start]\n",
    "            curr_min = nums[start]\n",
    "            \n",
    "            for end in range(start, n):\n",
    "                curr_max = max(curr_max, nums[end])\n",
    "                curr_min = min(curr_min, nums[end])\n",
    "                \n",
    "                if curr_max - curr_min <= limit:\n",
    "                    max_len = max(max_len, end - start + 1)\n",
    "                else:\n",
    "                    # No need to check longer subarrays starting at start,\n",
    "                    # since diff already exceeded\n",
    "\n",
    "                    # because - [[1,8,4,5,7],1,2,1,0,] k = 4. for the mentioned subarray 8 - 1 = 7 > 4. \n",
    "                    # already broken not gonna bse useful to increase the aubarray since the \n",
    "                    # max is gonna stay the same are increase.\n",
    "                    break\n",
    "                    \n",
    "        return max_len\n",
    "    \n",
    "# tc:\n",
    "# - Outer loop: runs from start = 0 to n-1 → O(n)\n",
    "# - Inner loop: for each start, it may scan up to end = n-1 → O(n)\n",
    "# - Each inner iteration updates max and min in O(1) time (using simple comparison)\n",
    "# tc - O(n²)\n",
    "\n",
    "# sc - O(1)"
   ]
  },
  {
   "cell_type": "code",
   "execution_count": 2,
   "id": "240d4bef",
   "metadata": {},
   "outputs": [
    {
     "data": {
      "text/plain": [
       "2"
      ]
     },
     "execution_count": 2,
     "metadata": {},
     "output_type": "execute_result"
    }
   ],
   "source": [
    "Solution().longestSubarray(nums = [8,2,4,7], limit = 4)"
   ]
  },
  {
   "cell_type": "markdown",
   "id": "e178212b",
   "metadata": {},
   "source": [
    "# approach 2: \n",
    "- we can use slinding window. expand and string when the diff is = limit.\n",
    "- we can keep track of the min and max easily while expanding. but we want the next max while strinking\n",
    "- for this usecase we have to use a monotonic increasing stack. to get the next max after poping the current max.\n",
    "- same for the min tracking also. \n",
    "- so 2 queue needed"
   ]
  },
  {
   "cell_type": "code",
   "execution_count": null,
   "id": "ff40ea61",
   "metadata": {},
   "outputs": [],
   "source": [
    "from collections import deque\n",
    "\n",
    "class Solution:\n",
    "    def longestSubarray(self, nums, limit):\n",
    "        maxDeque = deque()\n",
    "        minDeque = deque()\n",
    "        start = 0\n",
    "        max_len = 0\n",
    "\n",
    "        for end, num in enumerate(nums):\n",
    "            # monotonix decreasing queue. first value will be the current max.\n",
    "            # [8,2,4,7] - its decreasing queue is:\n",
    "            # [8, 7] -- all hte maximum elements in order \n",
    "            while maxDeque and maxDeque[-1] < num:\n",
    "                maxDeque.pop()\n",
    "            maxDeque.append(num)\n",
    "\n",
    "            # monotonix increasing queue. first value will be the current min.\n",
    "            # [8,2,4,7] - its increasing queue is:\n",
    "            # [2,4,7] -- all hte minimum elements in order \n",
    "            while minDeque and minDeque[-1] > num:\n",
    "                minDeque.pop()\n",
    "            minDeque.append(num)\n",
    "\n",
    "            while maxDeque[0] - minDeque[0] > limit:\n",
    "                if nums[start] == maxDeque[0]:\n",
    "                    maxDeque.popleft()\n",
    "                if nums[start] == minDeque[0]:\n",
    "                    minDeque.popleft()\n",
    "                start += 1\n",
    "\n",
    "            max_len = max(max_len, end - start + 1)\n",
    "\n",
    "        return max_len\n",
    "\n",
    "# tc - O(n)\n",
    "# sc - O(2n)"
   ]
  },
  {
   "cell_type": "code",
   "execution_count": null,
   "id": "2eda82e0",
   "metadata": {},
   "outputs": [],
   "source": []
  }
 ],
 "metadata": {
  "kernelspec": {
   "display_name": "3.11.11",
   "language": "python",
   "name": "python3"
  },
  "language_info": {
   "codemirror_mode": {
    "name": "ipython",
    "version": 3
   },
   "file_extension": ".py",
   "mimetype": "text/x-python",
   "name": "python",
   "nbconvert_exporter": "python",
   "pygments_lexer": "ipython3",
   "version": "3.11.11"
  }
 },
 "nbformat": 4,
 "nbformat_minor": 5
}
