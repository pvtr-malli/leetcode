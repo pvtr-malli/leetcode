{
 "cells": [
  {
   "cell_type": "markdown",
   "id": "9faf2028",
   "metadata": {},
   "source": [
    "You are given an integer array deck. There is a deck of cards where every card has a unique integer. The integer on the ith card is deck[i].\n",
    "\n",
    "You can order the deck in any order you want. Initially, all the cards start face down (unrevealed) in one deck.\n",
    "\n",
    "You will do the following steps repeatedly until all cards are revealed:\n",
    "\n",
    "Take the top card of the deck, reveal it, and take it out of the deck.\n",
    "If there are still cards in the deck then put the next top card of the deck at the bottom of the deck.\n",
    "If there are still unrevealed cards, go back to step 1. Otherwise, stop.\n",
    "Return an ordering of the deck that would reveal the cards in increasing order.\n",
    "\n",
    "Note that the first entry in the answer is considered to be the top of the deck.\n",
    "\n",
    " \n",
    "\n",
    "Example 1:\n",
    "\n",
    "Input: deck = [17,13,11,2,3,5,7]\n",
    "Output: [2,13,3,11,5,17,7]\n",
    "Explanation: \n",
    "We get the deck in the order [17,13,11,2,3,5,7] (this order does not matter), and reorder it.\n",
    "After reordering, the deck starts as [2,13,3,11,5,17,7], where 2 is the top of the deck.\n",
    "We reveal 2, and move 13 to the bottom.  The deck is now [3,11,5,17,7,13].\n",
    "We reveal 3, and move 11 to the bottom.  The deck is now [5,17,7,13,11].\n",
    "We reveal 5, and move 17 to the bottom.  The deck is now [7,13,11,17].\n",
    "We reveal 7, and move 13 to the bottom.  The deck is now [11,17,13].\n",
    "We reveal 11, and move 17 to the bottom.  The deck is now [13,17].\n",
    "We reveal 13, and move 17 to the bottom.  The deck is now [17].\n",
    "We reveal 17.\n",
    "Since all the cards revealed are in increasing order, the answer is correct.\n",
    "Example 2:\n",
    "\n",
    "Input: deck = [1,1000]\n",
    "Output: [1,1000]\n",
    " \n",
    "\n",
    "Constraints:\n",
    "\n",
    "1 <= deck.length <= 1000\n",
    "1 <= deck[i] <= 106\n",
    "All the values of deck are unique."
   ]
  },
  {
   "cell_type": "code",
   "execution_count": null,
   "id": "5ba6b409",
   "metadata": {},
   "outputs": [],
   "source": [
    "from collections import deque\n",
    "\n",
    "class Solution:\n",
    "    def deckRevealedIncreasing(self, deck: list[int]) -> list[int]:\n",
    "        deck.sort(reverse=True)\n",
    "        dq = deque()\n",
    "        \n",
    "        for card in (deck):\n",
    "            if dq:\n",
    "                dq.appendleft(dq.pop())  # simulate \"move top to bottom\" in reverse\n",
    "            dq.appendleft(card)\n",
    "        \n",
    "        return list(dq)\n",
    "\n",
    "# tc :\n",
    "# - sorting - O(n log n)\n",
    "# for loop - O(n)\n",
    "# tc - O(n log n) + o(n)\n",
    "\n",
    "# sc - O(n)"
   ]
  },
  {
   "cell_type": "code",
   "execution_count": 2,
   "id": "f6372b59",
   "metadata": {},
   "outputs": [
    {
     "data": {
      "text/plain": [
       "[2, 13, 3, 11, 5, 17, 7]"
      ]
     },
     "execution_count": 2,
     "metadata": {},
     "output_type": "execute_result"
    }
   ],
   "source": [
    "Solution().deckRevealedIncreasing(deck = [17,13,11,2,3,5,7])"
   ]
  },
  {
   "cell_type": "markdown",
   "id": "00845e28",
   "metadata": {},
   "source": [
    "# how to explain this:\n",
    "“We are given a set of cards, and we want to reorder them such that, if we simulate the revealing process—reveal one, move one to bottom, reveal one, move one, etc.—the revealed cards come out in increasing order.”\n",
    "\n",
    "🧠 Intuition:\n",
    "“Instead of trying to simulate the revealing process forward, which is hard to control, I thought backwards:\n",
    "If I already knew the final revealed order—sorted increasing—could I reconstruct the initial deck order that would produce it?”\n",
    "\n",
    "\n",
    "🧬 Analogy to Help:\n",
    "“It’s like doing a reverse-engineering of a machine.\n",
    "I know what output I want, and I walk backwards to figure out the input configuration that will give me that output.”\n",
    "\n",
    "\n",
    "🔄 Reverse Simulation Idea:\n",
    "“Yes. The idea is to take the sorted deck (i.e., the desired reveal order), and reverse simulate the process:\n",
    "\n",
    "Start from the last card (largest).\n",
    "\n",
    "Build the initial deck backwards by:\n",
    "\n",
    "- Moving the bottom card (last in deque) to the top (simulate reverse of move-to-bottom),\n",
    "- Placing the current card on top.\n",
    "\n",
    "This way, I'm reconstructing what the deck should look like before the reveal process starts, so that when the real process runs, it gives the increasing sequence.”\n"
   ]
  },
  {
   "cell_type": "code",
   "execution_count": null,
   "id": "242a405a",
   "metadata": {},
   "outputs": [],
   "source": []
  }
 ],
 "metadata": {
  "kernelspec": {
   "display_name": "3.11.11",
   "language": "python",
   "name": "python3"
  },
  "language_info": {
   "codemirror_mode": {
    "name": "ipython",
    "version": 3
   },
   "file_extension": ".py",
   "mimetype": "text/x-python",
   "name": "python",
   "nbconvert_exporter": "python",
   "pygments_lexer": "ipython3",
   "version": "3.11.11"
  }
 },
 "nbformat": 4,
 "nbformat_minor": 5
}
