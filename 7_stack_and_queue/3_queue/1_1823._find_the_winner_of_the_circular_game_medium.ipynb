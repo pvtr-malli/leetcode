{
 "cells": [
  {
   "cell_type": "markdown",
   "id": "178b678f",
   "metadata": {},
   "source": [
    "There are n friends that are playing a game. The friends are sitting in a circle and are numbered from 1 to n in clockwise order. More formally, moving clockwise from the ith friend brings you to the (i+1)th friend for 1 <= i < n, and moving clockwise from the nth friend brings you to the 1st friend.\n",
    "\n",
    "The rules of the game are as follows:\n",
    "\n",
    "Start at the 1st friend.\n",
    "Count the next k friends in the clockwise direction including the friend you started at. The counting wraps around the circle and may count some friends more than once.\n",
    "The last friend you counted leaves the circle and loses the game.\n",
    "If there is still more than one friend in the circle, go back to step 2 starting from the friend immediately clockwise of the friend who just lost and repeat.\n",
    "Else, the last friend in the circle wins the game.\n",
    "Given the number of friends, n, and an integer k, return the winner of the game.\n",
    "\n",
    " \n",
    "\n",
    "Example 1:\n",
    "\n",
    "\n",
    "Input: n = 5, k = 2\n",
    "Output: 3\n",
    "Explanation: Here are the steps of the game:\n",
    "1) Start at friend 1.\n",
    "2) Count 2 friends clockwise, which are friends 1 and 2.\n",
    "3) Friend 2 leaves the circle. Next start is friend 3.\n",
    "4) Count 2 friends clockwise, which are friends 3 and 4.\n",
    "5) Friend 4 leaves the circle. Next start is friend 5.\n",
    "6) Count 2 friends clockwise, which are friends 5 and 1.\n",
    "7) Friend 1 leaves the circle. Next start is friend 3.\n",
    "8) Count 2 friends clockwise, which are friends 3 and 5.\n",
    "9) Friend 5 leaves the circle. Only friend 3 is left, so they are the winner.\n",
    "Example 2:\n",
    "\n",
    "Input: n = 6, k = 5\n",
    "Output: 1\n",
    "Explanation: The friends leave in this order: 5, 4, 6, 2, 3. The winner is friend 1.\n",
    " \n",
    "\n",
    "Constraints:\n",
    "\n",
    "1 <= k <= n <= 500\n",
    " \n",
    "\n",
    "Follow up:\n",
    "\n",
    "Could you solve this problem in linear time with constant space?"
   ]
  },
  {
   "cell_type": "markdown",
   "id": "00ef5059",
   "metadata": {},
   "source": [
    "# brute force approach:\n",
    "- using queue to just timulate the process.\n"
   ]
  },
  {
   "cell_type": "code",
   "execution_count": null,
   "id": "e5a9ccc1",
   "metadata": {},
   "outputs": [],
   "source": [
    "from collections import deque\n",
    "\n",
    "class Solution:\n",
    "    def findTheWinner(self, n: int, k: int) -> int:\n",
    "        q = deque(range(1, n + 1))  # O(n) space\n",
    "\n",
    "        while len(q) > 1:           # O(n - 1) eliminations\n",
    "            for _ in range(k - 1):  # each elimination takes O(k)\n",
    "                q.append(q.popleft())\n",
    "            q.popleft()\n",
    "\n",
    "        return q[0]\n",
    "\n",
    "# tc - O(n*k)\n",
    "# sc - O(n)"
   ]
  },
  {
   "cell_type": "markdown",
   "id": "6b2bdba1",
   "metadata": {},
   "source": [
    "# follow up: Could you solve this problem in linear time with constant space?"
   ]
  },
  {
   "cell_type": "code",
   "execution_count": null,
   "id": "2e4e5503",
   "metadata": {},
   "outputs": [],
   "source": [
    "\n",
    "class Solution:\n",
    "    def findTheWinner(self, n: int, k: int) -> int:\n",
    "        winner = 0  # base case: when there's 1 person, index 0 wins\n",
    "        for i in range(2, n + 1):\n",
    "            winner = (winner + k) % i\n",
    "        return winner + 1  # convert 0-based index to 1-based\n",
    "\n",
    "# tc - O(n)\n",
    "# sc - O(1)"
   ]
  },
  {
   "cell_type": "markdown",
   "id": "d0f07f24",
   "metadata": {},
   "source": []
  }
 ],
 "metadata": {
  "language_info": {
   "name": "python"
  }
 },
 "nbformat": 4,
 "nbformat_minor": 5
}
