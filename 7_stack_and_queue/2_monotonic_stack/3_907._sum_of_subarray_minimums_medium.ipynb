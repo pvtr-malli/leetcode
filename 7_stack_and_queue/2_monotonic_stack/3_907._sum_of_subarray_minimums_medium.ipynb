{
 "cells": [
  {
   "cell_type": "markdown",
   "id": "abb191d4",
   "metadata": {},
   "source": [
    "Given an array of integers arr, find the sum of min(b), where b ranges over every (contiguous) subarray of arr. Since the answer may be large, return the answer modulo 10^9 + 7.\n",
    "\n",
    " \n",
    "\n",
    "Example 1:\n",
    "\n",
    "Input: arr = [3,1,2,4]\n",
    "Output: 17\n",
    "Explanation: \n",
    "Subarrays are [3], [1], [2], [4], [3,1], [1,2], [2,4], [3,1,2], [1,2,4], [3,1,2,4]. \n",
    "Minimums are 3, 1, 2, 4, 1, 1, 2, 1, 1, 1.\n",
    "Sum is 17.\n",
    "Example 2:\n",
    "\n",
    "Input: arr = [11,81,94,43,3]\n",
    "Output: 444\n",
    " \n",
    "\n",
    "Constraints:\n",
    "\n",
    "1 <= arr.length <= 3 * 104\n",
    "1 <= arr[i] <= 3 * 104"
   ]
  },
  {
   "cell_type": "code",
   "execution_count": null,
   "id": "55d56779",
   "metadata": {},
   "outputs": [],
   "source": [
    "class Solution:\n",
    "    def sumSubarrayMins(self, arr: list[int]) -> int:\n",
    "        # Find the increasing stack, to get the prev and next min.\n",
    "        stack = []\n",
    "        n = len(arr)\n",
    "        next_min = [n] * n \n",
    "        prev_min = [-1] * n\n",
    "        min_count = [0] * n\n",
    "\n",
    "        for i in range(n):\n",
    "            while stack and arr[stack[-1]] >= arr[i]:\n",
    "                next_min[stack.pop()] = i \n",
    "            if stack:\n",
    "                prev_min[i] = stack[-1]\n",
    "            \n",
    "            stack.append(i)\n",
    "        \n",
    "        # now calculate how many places this index val is the min.\n",
    "        for i in range(n):\n",
    "            left = i - prev_min[i]\n",
    "            right = next_min[i] - i \n",
    "            min_count[i] = left * right \n",
    "        \n",
    "        total = 0\n",
    "        for i in range(n):\n",
    "            total += arr[i] * min_count[i]\n",
    "\n",
    "        return total\n",
    "             \n",
    "# tc - \n",
    "# O(n) [for loop over arr]\n",
    "# O(n) [for loop over prev and next]\n",
    "# O(n) [for loop over min_count] \n",
    "# - tc - O(n)\n",
    "# sc - O(n) * 3 = O(n)\n"
   ]
  },
  {
   "cell_type": "code",
   "execution_count": 14,
   "id": "a1e9db88",
   "metadata": {},
   "outputs": [
    {
     "data": {
      "text/plain": [
       "17"
      ]
     },
     "execution_count": 14,
     "metadata": {},
     "output_type": "execute_result"
    }
   ],
   "source": [
    "Solution().sumSubarrayMins([3,1,2,4])"
   ]
  },
  {
   "cell_type": "markdown",
   "id": "11f48ceb",
   "metadata": {},
   "source": [
    "# reducing it to O(2n) and doing the mod.\n"
   ]
  },
  {
   "cell_type": "code",
   "execution_count": null,
   "id": "97743327",
   "metadata": {},
   "outputs": [],
   "source": [
    "class Solution:\n",
    "    def sumSubarrayMins(self, arr: list[int]) -> int:\n",
    "        # Find the increasing stack, to get the prev and next min.\n",
    "        MOD = 10**9 + 7\n",
    "        stack = []\n",
    "        n = len(arr)\n",
    "        next_min = [n] * n \n",
    "        prev_min = [-1] * n\n",
    "\n",
    "        for i in range(n):\n",
    "            # increasing stack.\n",
    "            while stack and arr[stack[-1]] >= arr[i]:  # NOTE: keep the same value also in the stack.\n",
    "                next_min[stack.pop()] = i \n",
    "            if stack:\n",
    "                prev_min[i] = stack[-1]\n",
    "            \n",
    "            stack.append(i)\n",
    "        print(prev_min)\n",
    "        print(next_min)\n",
    "        \n",
    "        # now calculate how many places this index val is the min.\n",
    "        total = 0\n",
    "        for i in range(n):\n",
    "            left = i - prev_min[i]\n",
    "            right = next_min[i] - i \n",
    "\n",
    "            # Find the ans.\n",
    "            total += arr[i] *  left * right \n",
    "            total %= MOD  # NOTE: why modolo each time.\n",
    "\n",
    "        return total\n",
    "             \n",
    "# tc - \n",
    "# O(n) [for loop over arr]\n",
    "# O(n) [for loop over prev and next]\n",
    "# - tc - O(n)\n",
    "# sc - O(n) * 2 = O(n)\n"
   ]
  },
  {
   "cell_type": "code",
   "execution_count": 2,
   "id": "8d374599",
   "metadata": {},
   "outputs": [
    {
     "name": "stdout",
     "output_type": "stream",
     "text": [
      "[-1, 0, 0, -1]\n",
      "[3, 2, 3, 4]\n"
     ]
    },
    {
     "data": {
      "text/plain": [
       "30"
      ]
     },
     "execution_count": 2,
     "metadata": {},
     "output_type": "execute_result"
    }
   ],
   "source": [
    "Solution().sumSubarrayMins([3,1,2,4])"
   ]
  },
  {
   "cell_type": "markdown",
   "id": "bbc7feda",
   "metadata": {},
   "source": [
    "\n",
    "### ✅ Why `total %= MOD` at *each step*?\n",
    "\n",
    "Let’s consider the core line:\n",
    "\n",
    "```python\n",
    "total += arr[i] * left * right\n",
    "total %= MOD  # this line is important\n",
    "```\n",
    "\n",
    "#### 🔸 Problem if you delay the modulo:\n",
    "\n",
    "If `arr[i]`, `left`, and `right` are large (e.g., up to `10^5` or `10^6`), then:\n",
    "\n",
    "* `arr[i] * left * right` can easily exceed **64-bit integer** limits or cause **overflow** in some environments (e.g., C++, Java).\n",
    "* Even in Python (which has arbitrary-precision integers), it becomes **computationally slower** when numbers grow very large.\n",
    "* It **increases the risk** of exceeding time/memory limits or failing test cases in languages with fixed integer sizes.\n",
    "\n",
    "#### 🔸 Benefit of using `mod` each time:\n",
    "\n",
    "* Keeps `total` within the range `0 to MOD - 1`\n",
    "* Prevents performance issues due to very large integers\n",
    "* Ensures compatibility with languages where overflow **does matter**\n",
    "\n",
    "\n"
   ]
  },
  {
   "cell_type": "code",
   "execution_count": null,
   "id": "db7bb4e9",
   "metadata": {},
   "outputs": [],
   "source": []
  }
 ],
 "metadata": {
  "kernelspec": {
   "display_name": "3.11.11",
   "language": "python",
   "name": "python3"
  },
  "language_info": {
   "codemirror_mode": {
    "name": "ipython",
    "version": 3
   },
   "file_extension": ".py",
   "mimetype": "text/x-python",
   "name": "python",
   "nbconvert_exporter": "python",
   "pygments_lexer": "ipython3",
   "version": "3.11.11"
  }
 },
 "nbformat": 4,
 "nbformat_minor": 5
}
