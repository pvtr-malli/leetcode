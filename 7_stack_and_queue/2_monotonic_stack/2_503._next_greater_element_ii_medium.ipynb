{
 "cells": [
  {
   "cell_type": "markdown",
   "id": "8218864e",
   "metadata": {},
   "source": [
    "Given a circular integer array nums (i.e., the next element of nums[nums.length - 1] is nums[0]), return the next greater number for every element in nums.\n",
    "\n",
    "The next greater number of a number x is the first greater number to its traversing-order next in the array, which means you could search circularly to find its next greater number. If it doesn't exist, return -1 for this number.\n",
    "\n",
    " \n",
    "\n",
    "Example 1:\n",
    "\n",
    "Input: nums = [1,2,1]\n",
    "Output: [2,-1,2]\n",
    "Explanation: The first 1's next greater number is 2; \n",
    "The number 2 can't find next greater number. \n",
    "The second 1's next greater number needs to search circularly, which is also 2.\n",
    "Example 2:\n",
    "\n",
    "Input: nums = [1,2,3,4,3]\n",
    "Output: [2,3,4,-1,4]\n",
    " \n",
    "\n",
    "Constraints:\n",
    "\n",
    "1 <= nums.length <= 104\n",
    "-109 <= nums[i] <= 109"
   ]
  },
  {
   "cell_type": "code",
   "execution_count": 1,
   "id": "08ed0a69",
   "metadata": {},
   "outputs": [],
   "source": [
    "# same understanding, but going through the array twice -\n",
    "# only append the elements when we are iterating for hte first time,\n",
    "\n",
    "class Solution:\n",
    "    def nextGreaterElements(self, nums: list[int]) -> list[int]:\n",
    "        n = len(nums)\n",
    "        res = [-1] * n\n",
    "        stack = []\n",
    "\n",
    "        # create the monotonic decreasing stack.\n",
    "        for i in range(2 * n):\n",
    "            \n",
    "            cur = nums[i%n]\n",
    "            print(i, i%n, cur)\n",
    "            while stack and nums[stack[-1]] < cur:\n",
    "                # then the coming element is bggers, maintain the decreasing order.\n",
    "                prev_ind = stack.pop()\n",
    "                # the coming element is the next gretest of the poped element.\n",
    "                res[prev_ind] = cur\n",
    "\n",
    "            # only append the element until we are iterating hte array for the first time.\n",
    "            if i  < n:\n",
    "                stack.append(i)\n",
    "        return res\n",
    "       \n",
    "# tc:\n",
    "# - for looping hte array - O(2n)\n",
    "# - processing stack - O(2n) - all the elements processed at max twice.\n",
    "# tc - O(n) + O(n) = O(n)\n",
    "# sc - O(n)\n",
    "\n",
    "        "
   ]
  },
  {
   "cell_type": "code",
   "execution_count": 2,
   "id": "c0fb8e31",
   "metadata": {},
   "outputs": [
    {
     "name": "stdout",
     "output_type": "stream",
     "text": [
      "0 0 1\n",
      "1 1 2\n",
      "2 2 1\n",
      "3 0 1\n",
      "4 1 2\n",
      "5 2 1\n"
     ]
    },
    {
     "data": {
      "text/plain": [
       "[2, -1, 2]"
      ]
     },
     "execution_count": 2,
     "metadata": {},
     "output_type": "execute_result"
    }
   ],
   "source": [
    "Solution().nextGreaterElements(nums = [1,2,1])"
   ]
  },
  {
   "cell_type": "code",
   "execution_count": 3,
   "id": "c938e493",
   "metadata": {},
   "outputs": [
    {
     "name": "stdout",
     "output_type": "stream",
     "text": [
      "0 0 1\n",
      "1 1 2\n",
      "2 2 3\n",
      "3 3 4\n",
      "4 4 3\n",
      "5 0 1\n",
      "6 1 2\n",
      "7 2 3\n",
      "8 3 4\n",
      "9 4 3\n"
     ]
    },
    {
     "data": {
      "text/plain": [
       "[2, 3, 4, -1, 4]"
      ]
     },
     "execution_count": 3,
     "metadata": {},
     "output_type": "execute_result"
    }
   ],
   "source": [
    "Solution().nextGreaterElements(nums = [1,2,3,4,3])"
   ]
  },
  {
   "cell_type": "code",
   "execution_count": null,
   "id": "194f94c8",
   "metadata": {},
   "outputs": [],
   "source": []
  }
 ],
 "metadata": {
  "kernelspec": {
   "display_name": "3.11.11",
   "language": "python",
   "name": "python3"
  },
  "language_info": {
   "codemirror_mode": {
    "name": "ipython",
    "version": 3
   },
   "file_extension": ".py",
   "mimetype": "text/x-python",
   "name": "python",
   "nbconvert_exporter": "python",
   "pygments_lexer": "ipython3",
   "version": "3.11.11"
  }
 },
 "nbformat": 4,
 "nbformat_minor": 5
}
