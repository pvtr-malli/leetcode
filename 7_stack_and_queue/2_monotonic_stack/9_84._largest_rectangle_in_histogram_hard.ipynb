{
 "cells": [
  {
   "cell_type": "markdown",
   "id": "a2227ae2",
   "metadata": {},
   "source": [
    "Given an array of integers heights representing the histogram's bar height where the width of each bar is 1, return the area of the largest rectangle in the histogram.\n",
    "\n",
    " \n",
    "\n",
    "Example 1:\n",
    "\n",
    "\n",
    "Input: heights = [2,1,5,6,2,3]\n",
    "Output: 10\n",
    "Explanation: The above is a histogram where width of each bar is 1.\n",
    "The largest rectangle is shown in the red area, which has an area = 10 units.\n",
    "Example 2:\n",
    "\n",
    "\n",
    "Input: heights = [2,4]\n",
    "Output: 4\n",
    " \n",
    "\n",
    "Constraints:\n",
    "\n",
    "1 <= heights.length <= 105\n",
    "0 <= heights[i] <= 104"
   ]
  },
  {
   "cell_type": "markdown",
   "id": "b552023b",
   "metadata": {},
   "source": [
    "# brute force ... \n",
    "- for each index, try to extend it to the right\n",
    "- and keep the maximum."
   ]
  },
  {
   "cell_type": "code",
   "execution_count": null,
   "id": "fc08e134",
   "metadata": {},
   "outputs": [],
   "source": [
    "class Solution:\n",
    "    def largestRectangleArea(self, heights: list[int]) -> int:\n",
    "        maxi = 0\n",
    "        n = len(heights)\n",
    "        for i in range(n):\n",
    "            left_max = 0\n",
    "            right_max = 0\n",
    "            # for each index, you wanna expand right side, and calculate the max histogram lenth.\n",
    "            cur_val = heights[i]\n",
    "            ind = i+1\n",
    "            if ind < len(heights) and heights[ind] >= heights[i]:\n",
    "                # checking the next histogram bar.\n",
    "                while ind < len(heights) and heights[ind] >= heights[i]:\n",
    "                    # we are gonna consider the histogram also.\n",
    "                    cur_val += heights[i]  # we got a another part with the same legnth.\n",
    "                    ind += 1\n",
    "                right_max = cur_val\n",
    "            else:\n",
    "                right_max = heights[i]\n",
    "\n",
    "            # for each index, you wanna expand left side, and calculate the max histogram lenth.\n",
    "            cur_val = heights[i]\n",
    "            ind = i-1\n",
    "            if ind >= 0 and heights[ind] >= heights[i]:\n",
    "                # checking the next histogram bar.\n",
    "                while ind >= 0 and heights[ind] >= heights[i]:\n",
    "                    # we are gonna consider the histogram also.\n",
    "                    cur_val += heights[i]  # we got a another part with the same legnth.\n",
    "                    ind -= 1\n",
    "                left_max = cur_val\n",
    "            else:\n",
    "                left_max = heights[i]\n",
    "\n",
    "            maxi = max(maxi, (right_max + left_max - heights[i]))\n",
    "            \n",
    "        \n",
    "        return maxi \n",
    "    \n",
    "# tc - O(n ^ n)\n",
    "# - at worst case, we will go through the while list for each index.\n",
    "# sc - O(1)\n",
    "\n"
   ]
  },
  {
   "cell_type": "code",
   "execution_count": 16,
   "id": "4e3c6115",
   "metadata": {},
   "outputs": [
    {
     "data": {
      "text/plain": [
       "10"
      ]
     },
     "execution_count": 16,
     "metadata": {},
     "output_type": "execute_result"
    }
   ],
   "source": [
    "Solution().largestRectangleArea( heights = [2,1,5,6,2,3])"
   ]
  },
  {
   "cell_type": "code",
   "execution_count": 17,
   "id": "af25b0b6",
   "metadata": {},
   "outputs": [
    {
     "data": {
      "text/plain": [
       "4"
      ]
     },
     "execution_count": 17,
     "metadata": {},
     "output_type": "execute_result"
    }
   ],
   "source": [
    "Solution().largestRectangleArea(heights = [2,4])"
   ]
  },
  {
   "cell_type": "code",
   "execution_count": 19,
   "id": "23067d72",
   "metadata": {},
   "outputs": [
    {
     "data": {
      "text/plain": [
       "3"
      ]
     },
     "execution_count": 19,
     "metadata": {},
     "output_type": "execute_result"
    }
   ],
   "source": [
    "Solution().largestRectangleArea([2,1,2])"
   ]
  },
  {
   "cell_type": "markdown",
   "id": "bb7d0572",
   "metadata": {},
   "source": [
    "# Using Monotonic Stack:\n"
   ]
  },
  {
   "cell_type": "markdown",
   "id": "fb0609ac",
   "metadata": {},
   "source": [
    "- find the next and prev min value. \n",
    "- so inbwt them, all the bars are valid to expand.\n",
    "- so prev_conunt = cur_index - prev_min_ind \n",
    "- next_count = next_min_index - cur_ind\n",
    "- so we can take heights[i] part from all these bars\n",
    "- maxi = max(maxi,( prev_conunt + next_count) * heights[i])"
   ]
  },
  {
   "cell_type": "code",
   "execution_count": 30,
   "id": "ac15db90",
   "metadata": {},
   "outputs": [],
   "source": [
    "# page: 43\n",
    "\n",
    "class Solution:\n",
    "    def largestRectangleArea(self, heights: list[int]) -> int:\n",
    "        # Find the increasing stack, to get the prev and next min.\n",
    "        stack = []\n",
    "        n = len(heights)\n",
    "        next_min = [n] * n \n",
    "        prev_min = [-1] * n\n",
    "\n",
    "        for i in range(n):\n",
    "            # increasing stack.\n",
    "            while stack and heights[stack[-1]] >= heights[i]:  # NOTE: keep the same value also in the stack.\n",
    "                next_min[stack.pop()] = i \n",
    "            if stack:\n",
    "                prev_min[i] = stack[-1]\n",
    "            \n",
    "            stack.append(i)\n",
    "        print(prev_min)\n",
    "        print(next_min)\n",
    "\n",
    "        maxi = 0\n",
    "        for i in range(n):\n",
    "            left_valid_bar_count = i - prev_min[i]\n",
    "            right_valid_bar_count = next_min[i] - i\n",
    "            maxi = max(maxi, (left_valid_bar_count + right_valid_bar_count -1 ) * heights[i])  # -1 because it adds the current bar 2 times.\n",
    "\n",
    "        return maxi\n",
    "\n",
    "# tc - O(n)\n",
    "# sc - O(n)"
   ]
  },
  {
   "cell_type": "code",
   "execution_count": 26,
   "id": "a626422c",
   "metadata": {},
   "outputs": [
    {
     "name": "stdout",
     "output_type": "stream",
     "text": [
      "[-1, -1, 1, 2, 1, 4]\n",
      "[1, 6, 4, 4, 6, 6]\n"
     ]
    },
    {
     "data": {
      "text/plain": [
       "10"
      ]
     },
     "execution_count": 26,
     "metadata": {},
     "output_type": "execute_result"
    }
   ],
   "source": [
    "Solution().largestRectangleArea( heights = [2,1,5,6,2,3])"
   ]
  },
  {
   "cell_type": "code",
   "execution_count": 28,
   "id": "3f72d844",
   "metadata": {},
   "outputs": [
    {
     "name": "stdout",
     "output_type": "stream",
     "text": [
      "[-1, 0]\n",
      "[2, 2]\n"
     ]
    },
    {
     "data": {
      "text/plain": [
       "4"
      ]
     },
     "execution_count": 28,
     "metadata": {},
     "output_type": "execute_result"
    }
   ],
   "source": [
    "Solution().largestRectangleArea(heights = [2,4])"
   ]
  },
  {
   "cell_type": "code",
   "execution_count": 27,
   "id": "a9cbf8c5",
   "metadata": {},
   "outputs": [
    {
     "name": "stdout",
     "output_type": "stream",
     "text": [
      "[-1, -1, 1]\n",
      "[1, 3, 3]\n"
     ]
    },
    {
     "data": {
      "text/plain": [
       "3"
      ]
     },
     "execution_count": 27,
     "metadata": {},
     "output_type": "execute_result"
    }
   ],
   "source": [
    "Solution().largestRectangleArea([2,1,2])"
   ]
  },
  {
   "cell_type": "code",
   "execution_count": null,
   "id": "65957e26",
   "metadata": {},
   "outputs": [],
   "source": []
  }
 ],
 "metadata": {
  "kernelspec": {
   "display_name": "3.11.11",
   "language": "python",
   "name": "python3"
  },
  "language_info": {
   "codemirror_mode": {
    "name": "ipython",
    "version": 3
   },
   "file_extension": ".py",
   "mimetype": "text/x-python",
   "name": "python",
   "nbconvert_exporter": "python",
   "pygments_lexer": "ipython3",
   "version": "3.11.11"
  }
 },
 "nbformat": 4,
 "nbformat_minor": 5
}
