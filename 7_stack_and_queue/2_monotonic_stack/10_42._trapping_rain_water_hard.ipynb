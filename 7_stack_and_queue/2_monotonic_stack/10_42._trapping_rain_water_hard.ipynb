{
 "cells": [
  {
   "cell_type": "markdown",
   "id": "8088507f",
   "metadata": {},
   "source": [
    "Given n non-negative integers representing an elevation map where the width of each bar is 1, compute how much water it can trap after raining.\n",
    "\n",
    " \n",
    "\n",
    "Example 1:\n",
    "\n",
    "\n",
    "Input: height = [0,1,0,2,1,0,1,3,2,1,2,1]\n",
    "Output: 6\n",
    "Explanation: The above elevation map (black section) is represented by array [0,1,0,2,1,0,1,3,2,1,2,1]. In this case, 6 units of rain water (blue section) are being trapped.\n",
    "Example 2:\n",
    "\n",
    "Input: height = [4,2,0,3,2,5]\n",
    "Output: 9\n",
    " \n",
    "\n",
    "Constraints:\n",
    "\n",
    "n == height.length\n",
    "1 <= n <= 2 * 104\n",
    "0 <= height[i] <= 105"
   ]
  },
  {
   "cell_type": "code",
   "execution_count": 1,
   "id": "525efb17",
   "metadata": {},
   "outputs": [],
   "source": [
    "# explaantion in the noteboke:\n",
    "\n",
    "class Solution:\n",
    "    def trap(self, height: list[int]) -> int:\n",
    "        n = len(height)\n",
    "        if n == 0:\n",
    "            return 0\n",
    "\n",
    "        # Step 1: Compute prefix max (left max)\n",
    "        left_max = [0] * n\n",
    "        left_max[0] = height[0]\n",
    "        for i in range(1, n):\n",
    "            left_max[i] = max(left_max[i-1], height[i])\n",
    "\n",
    "        # Step 2: Compute suffix max (right max)\n",
    "        right_max = [0] * n\n",
    "        right_max[-1] = height[-1]\n",
    "        for i in range(n-2, -1, -1):\n",
    "            right_max[i] = max(right_max[i+1], height[i])\n",
    "\n",
    "        # Step 3: Compute total trapped water\n",
    "        trapped = 0\n",
    "        for i in range(n):\n",
    "            water = min(left_max[i], right_max[i]) - height[i]\n",
    "            if water > 0:\n",
    "                trapped += water\n",
    "\n",
    "        return trapped\n",
    "\n",
    "# tc - O(3n)\n",
    "# sc - O(2n)"
   ]
  },
  {
   "cell_type": "code",
   "execution_count": 2,
   "id": "551e1941",
   "metadata": {},
   "outputs": [
    {
     "data": {
      "text/plain": [
       "6"
      ]
     },
     "execution_count": 2,
     "metadata": {},
     "output_type": "execute_result"
    }
   ],
   "source": [
    "Solution().trap(height = [0,1,0,2,1,0,1,3,2,1,2,1])"
   ]
  },
  {
   "cell_type": "markdown",
   "id": "e45a4a01",
   "metadata": {},
   "source": [
    "# using 2 poniters:"
   ]
  },
  {
   "cell_type": "code",
   "execution_count": 3,
   "id": "3f4d5c5a",
   "metadata": {},
   "outputs": [],
   "source": [
    "class Solution:\n",
    "    def trap(self, height) -> int:\n",
    "        l = 0;r=len(height)-1\n",
    "        l_max = 0\n",
    "        r_max = 0\n",
    "        res = 0\n",
    "        while l<=r:\n",
    "            if height[l] <= height[r]:\n",
    "                if height[l] >= l_max:\n",
    "                    l_max = height[l]\n",
    "                else:\n",
    "                    res += l_max - height[l]\n",
    "                l += 1\n",
    "            else:\n",
    "                if height[r] >= r_max:\n",
    "                    r_max = height[r]\n",
    "                else:\n",
    "                    res += r_max - height[r]\n",
    "                r -= 1\n",
    "        return res\n",
    "\n",
    "# tc - O(n)\n",
    "# sc - O(1)"
   ]
  },
  {
   "cell_type": "code",
   "execution_count": 4,
   "id": "65dd52db",
   "metadata": {},
   "outputs": [
    {
     "data": {
      "text/plain": [
       "6"
      ]
     },
     "execution_count": 4,
     "metadata": {},
     "output_type": "execute_result"
    }
   ],
   "source": [
    "Solution().trap(height = [0,1,0,2,1,0,1,3,2,1,2,1])"
   ]
  },
  {
   "cell_type": "code",
   "execution_count": null,
   "id": "13764ece",
   "metadata": {},
   "outputs": [],
   "source": []
  }
 ],
 "metadata": {
  "kernelspec": {
   "display_name": "3.11.11",
   "language": "python",
   "name": "python3"
  },
  "language_info": {
   "codemirror_mode": {
    "name": "ipython",
    "version": 3
   },
   "file_extension": ".py",
   "mimetype": "text/x-python",
   "name": "python",
   "nbconvert_exporter": "python",
   "pygments_lexer": "ipython3",
   "version": "3.11.11"
  }
 },
 "nbformat": 4,
 "nbformat_minor": 5
}
