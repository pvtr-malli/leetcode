{
 "cells": [
  {
   "cell_type": "markdown",
   "id": "8012a24d",
   "metadata": {},
   "source": [
    "# Monotonic Stack:\n",
    "\n",
    "| Stack Type    | Order (Bottom → Top) | Stack Top    |\n",
    "| ------------- | -------------------- | ------------ |\n",
    "| 🔼 Increasing | increasing           | **Largest**  |\n",
    "| 🔽 Decreasing | decreasing           | **Smallest** |\n"
   ]
  },
  {
   "cell_type": "code",
   "execution_count": null,
   "id": "85848aad",
   "metadata": {},
   "outputs": [],
   "source": [
    "def monotonic_increasing_stack(arr):\n",
    "    stack = []\n",
    "    for num in arr:\n",
    "        while stack and stack[-1] > num:\n",
    "            stack.pop()\n",
    "        stack.append(num)\n",
    "    return stack\n"
   ]
  },
  {
   "cell_type": "code",
   "execution_count": null,
   "id": "2441a120",
   "metadata": {},
   "outputs": [],
   "source": [
    "def monotonic_decreasing_stack(arr):\n",
    "    stack = []\n",
    "    for num in arr:\n",
    "        while stack and stack[-1] < num:\n",
    "            stack.pop()\n",
    "        stack.append(num)\n",
    "    return stack\n"
   ]
  },
  {
   "cell_type": "markdown",
   "id": "478fb056",
   "metadata": {},
   "source": [
    "# Monotonic Queue\n",
    "| Queue Type    | Order (left → right) | Queue End    |\n",
    "| ------------- | -------------------- | ------------ |\n",
    "| 🔼 Increasing | increasing           | **Largest**  |\n",
    "| 🔽 Decreasing | decreasing           | **Smallest** |"
   ]
  },
  {
   "cell_type": "code",
   "execution_count": null,
   "id": "805528b8",
   "metadata": {},
   "outputs": [],
   "source": [
    "from collections import deque\n",
    "\n",
    "def monotonic_increasing_queue(arr):\n",
    "    q = deque()\n",
    "    for num in arr:\n",
    "        while q and q[-1] > num :\n",
    "            q.pop()\n",
    "        q.append(num)\n",
    "    return list(q)\n"
   ]
  },
  {
   "cell_type": "code",
   "execution_count": null,
   "id": "8114a920",
   "metadata": {},
   "outputs": [],
   "source": [
    "from collections import deque\n",
    "\n",
    "def monotonic_decreasing_queue(arr):\n",
    "    q = deque()\n",
    "    for num in arr:\n",
    "        while q and q[-1] < num :\n",
    "            q.pop()\n",
    "        q.append(num)\n",
    "    return list(q)\n"
   ]
  },
  {
   "cell_type": "code",
   "execution_count": null,
   "id": "30b53f4b",
   "metadata": {},
   "outputs": [],
   "source": [
    "# 🔺 Monotonic Increasing Queue (maintains min at the front)\n",
    "\n",
    "from collections import deque\n",
    "\n",
    "class MonotonicIncreasingQueue:\n",
    "    def __init__(self):\n",
    "        self.q = deque()\n",
    "\n",
    "    def push(self, val):\n",
    "        # Remove all bigger elements from the back\n",
    "        while self.q and self.q[-1] > val:\n",
    "            self.q.pop()\n",
    "        self.q.append(val)\n",
    "\n",
    "    def pop(self, val):\n",
    "        # Only pop from front if it's the same as the outgoing window value\n",
    "        if self.q and self.q[0] == val:\n",
    "            self.q.popleft()\n",
    "\n",
    "    def min(self):\n",
    "        return self.q[0]\n"
   ]
  },
  {
   "cell_type": "code",
   "execution_count": null,
   "id": "167c26d8",
   "metadata": {},
   "outputs": [],
   "source": [
    "# 🔻 Monotonic Decreasing Queue (maintains max at the front)\n",
    "\n",
    "from collections import deque\n",
    "\n",
    "class MonotonicDecreasingQueue:\n",
    "    def __init__(self):\n",
    "        self.q = deque()\n",
    "\n",
    "    def push(self, val):\n",
    "        # Remove all smaller elements from the back\n",
    "        while self.q and self.q[-1] < val:\n",
    "            self.q.pop()\n",
    "        self.q.append(val)\n",
    "\n",
    "    def pop(self, val):\n",
    "        # Only pop from front if it's the same as the outgoing window value\n",
    "        if self.q and self.q[0] == val:\n",
    "            self.q.popleft()\n",
    "\n",
    "    def max(self):\n",
    "        return self.q[0]\n"
   ]
  },
  {
   "cell_type": "markdown",
   "id": "88f4f2d0",
   "metadata": {},
   "source": [
    "# this is a double ended queue.\n",
    "\n",
    "from collections import deque\n",
    "\n",
    "\n",
    "dq = deque()\n",
    "\n",
    "- Add to back\n",
    "dq.append(10)\n",
    "\n",
    "- Add to front\n",
    "dq.appendleft(5)\n",
    "\n",
    "- Remove from back\n",
    "dq.pop()\n",
    "\n",
    "- Remove from front\n",
    "dq.popleft()\n"
   ]
  },
  {
   "cell_type": "markdown",
   "id": "87da3725",
   "metadata": {},
   "source": [
    "# monotonic stack | decreasing order - next gretest elements"
   ]
  },
  {
   "cell_type": "code",
   "execution_count": null,
   "id": "d0967f7c",
   "metadata": {},
   "outputs": [],
   "source": [
    "def next_greater_elements(nums):\n",
    "    n = len(nums)\n",
    "    res = [-1] * n\n",
    "    stack = []  # stores indices\n",
    "\n",
    "    for i in range(n):\n",
    "        while stack and nums[i] > nums[stack[-1]]:\n",
    "            index = stack.pop()\n",
    "            res[index] = nums[i]\n",
    "        stack.append(i)\n",
    "\n",
    "    return res\n",
    "\n",
    "\n",
    "# tc - O(n)  - each element is pushed and poped exactly once.\n",
    "\n",
    "# sc - O(n)"
   ]
  }
 ],
 "metadata": {
  "language_info": {
   "name": "python"
  }
 },
 "nbformat": 4,
 "nbformat_minor": 5
}
