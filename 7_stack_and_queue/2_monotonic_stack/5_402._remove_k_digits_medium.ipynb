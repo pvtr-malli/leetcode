{
 "cells": [
  {
   "cell_type": "markdown",
   "id": "80988cc5",
   "metadata": {},
   "source": [
    "Given string num representing a non-negative integer num, and an integer k, return the smallest possible integer after removing k digits from num.\n",
    "\n",
    " \n",
    "\n",
    "Example 1:\n",
    "\n",
    "Input: num = \"1432219\", k = 3\n",
    "Output: \"1219\"\n",
    "Explanation: Remove the three digits 4, 3, and 2 to form the new number 1219 which is the smallest.\n",
    "Example 2:\n",
    "\n",
    "Input: num = \"10200\", k = 1\n",
    "Output: \"200\"\n",
    "Explanation: Remove the leading 1 and the number is 200. Note that the output must not contain leading zeroes.\n",
    "Example 3:\n",
    "\n",
    "Input: num = \"10\", k = 2\n",
    "Output: \"0\"\n",
    "Explanation: Remove all the digits from the number and it is left with nothing which is 0.\n",
    " \n",
    "\n",
    "Constraints:\n",
    "\n",
    "1 <= k <= num.length <= 105\n",
    "num consists of only digits.\n",
    "num does not have any leading zeros except for the zero itself."
   ]
  },
  {
   "cell_type": "markdown",
   "id": "6624b48a",
   "metadata": {},
   "source": [
    "# Brute force:\n",
    "- Will go greedy. \n",
    "- we need to delete the largest number.\n",
    "- so for k times, will check from left to right and delete the first largest number.\n",
    "- tc - O(n * k)"
   ]
  },
  {
   "cell_type": "code",
   "execution_count": null,
   "id": "3fdeafbc",
   "metadata": {},
   "outputs": [],
   "source": [
    "class Solution:\n",
    "    def removeKdigits(self, num: str, k: int) -> str:\n",
    "        num: list[str] = list(num)\n",
    "        # even is str numbers also we can compare '1' < '2'.\n",
    "\n",
    "        for _ in range(k):\n",
    "            #. we are gonna remove the first gretest number.\n",
    "            i = 0\n",
    "            while i <( len(num) -1)  and num[i] <= num[i+1]: # not grester,\n",
    "                i += 1\n",
    "            num.pop(i)\n",
    "\n",
    "        # remove leading zeros.\n",
    "        while num and num[0] == '0':\n",
    "            num.pop(0)\n",
    "        \n",
    "        return \"\".join(num) if num else \"0\"\n",
    "\n",
    "\n",
    "# tc - O(n. * k)\n",
    "# sc - O(1)"
   ]
  },
  {
   "cell_type": "code",
   "execution_count": 10,
   "id": "8b5345d9",
   "metadata": {},
   "outputs": [
    {
     "data": {
      "text/plain": [
       "'0'"
      ]
     },
     "execution_count": 10,
     "metadata": {},
     "output_type": "execute_result"
    }
   ],
   "source": [
    "Solution().removeKdigits(num = \"10\", k = 2)"
   ]
  },
  {
   "cell_type": "code",
   "execution_count": 11,
   "id": "12c43ad3",
   "metadata": {},
   "outputs": [
    {
     "data": {
      "text/plain": [
       "'200'"
      ]
     },
     "execution_count": 11,
     "metadata": {},
     "output_type": "execute_result"
    }
   ],
   "source": [
    "Solution().removeKdigits(num = \"10200\", k = 1)"
   ]
  },
  {
   "cell_type": "markdown",
   "id": "30200b06",
   "metadata": {},
   "source": [
    "# approach 2:\n",
    "- using monotonic stack, so will keep the smaller element and remove the bigger one.\n",
    "- we want to delete a bigger values in the biggining... 1423 .. so the 4 we want to delete.\n",
    "- so maintain a increasing manner ... so 4 will be deleted when 2 comes ... remaining 123."
   ]
  },
  {
   "cell_type": "code",
   "execution_count": null,
   "id": "c0dbc942",
   "metadata": {},
   "outputs": [],
   "source": [
    "class Solution:\n",
    "    def removeKdigits(self, num: str, k: int) -> str:\n",
    "        # count the deletion we are doing de .\n",
    "        # while doing the arr looping.\n",
    "        # case 1: de > k: stop dont delete anymore push all the element to the stack and return ans,\n",
    "        # after arr looping done,\n",
    "        # case 2: de < k: so delete the top (k - de) elements.\n",
    "        # remove the leading zero also.\n",
    "\n",
    "        stack = []\n",
    "        deletion_count = 0\n",
    "        ans = \"\"\n",
    "\n",
    "        for ele in num:\n",
    "            while stack and deletion_count < k and stack[-1] > ele: \n",
    "                # when the top is bigger than the ele , pop it to maintain the increase order.\n",
    "                stack.pop()\n",
    "                deletion_count += 1\n",
    "            # case 0: mainining the increasing order and case 1:\n",
    "            # case 1: de == k: stop, dont delete anymore push all the element to the stack and return ans,\n",
    "            stack.append(ele)\n",
    "        \n",
    "    \n",
    "        # Build the ans.\n",
    "        # remove the leeding zero.\n",
    "        # # case 2: de < k: so delete the top (k - de) elements.\n",
    "        n = len(stack)\n",
    "        raiming_ele_to_delete = k - deletion_count \n",
    "        add_to_ans = n - raiming_ele_to_delete # add this much to ans, add in the beggining.\n",
    "\n",
    "        # for _ in range(add_to_ans):\n",
    "        #     ans = stack.pop() + ans \n",
    "\n",
    "        # we can use the list way of doing also.\n",
    "        ans = \"\".join(stack[:add_to_ans])\n",
    "\n",
    "        # Remove leading zeros\n",
    "        ans = ans.lstrip('0')\n",
    "        \n",
    "        return ans if ans else \"0\"\n",
    "\n",
    "\n",
    "# tc:\n",
    "# - for loop over arr - O(n)\n",
    "# - removing the reminng k elements - O(k)\n",
    "# remiving leading 0 - O(n)\n",
    "# tc- O(n)\n",
    "\n",
    "# sc - O(n)"
   ]
  },
  {
   "cell_type": "code",
   "execution_count": 15,
   "id": "123cccb8",
   "metadata": {},
   "outputs": [
    {
     "data": {
      "text/plain": [
       "'0'"
      ]
     },
     "execution_count": 15,
     "metadata": {},
     "output_type": "execute_result"
    }
   ],
   "source": [
    "Solution().removeKdigits(num = \"10\", k = 2)\n"
   ]
  },
  {
   "cell_type": "code",
   "execution_count": 16,
   "id": "4d4efb7e",
   "metadata": {},
   "outputs": [
    {
     "data": {
      "text/plain": [
       "'200'"
      ]
     },
     "execution_count": 16,
     "metadata": {},
     "output_type": "execute_result"
    }
   ],
   "source": [
    "Solution().removeKdigits(num = \"10200\", k = 1)"
   ]
  },
  {
   "cell_type": "code",
   "execution_count": 17,
   "id": "7f9b1066",
   "metadata": {},
   "outputs": [
    {
     "data": {
      "text/plain": [
       "'0'"
      ]
     },
     "execution_count": 17,
     "metadata": {},
     "output_type": "execute_result"
    }
   ],
   "source": [
    "Solution().removeKdigits(num = \"9\", k = 1)"
   ]
  },
  {
   "cell_type": "code",
   "execution_count": null,
   "id": "8c8b0d02",
   "metadata": {},
   "outputs": [],
   "source": []
  }
 ],
 "metadata": {
  "kernelspec": {
   "display_name": "3.11.11",
   "language": "python",
   "name": "python3"
  },
  "language_info": {
   "codemirror_mode": {
    "name": "ipython",
    "version": 3
   },
   "file_extension": ".py",
   "mimetype": "text/x-python",
   "name": "python",
   "nbconvert_exporter": "python",
   "pygments_lexer": "ipython3",
   "version": "3.11.11"
  }
 },
 "nbformat": 4,
 "nbformat_minor": 5
}
