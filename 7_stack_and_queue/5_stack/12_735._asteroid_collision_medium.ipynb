{
 "cells": [
  {
   "cell_type": "markdown",
   "id": "4c5f642a",
   "metadata": {},
   "source": [
    "We are given an array asteroids of integers representing asteroids in a row. The indices of the asteriod in the array represent their relative position in space.\n",
    "\n",
    "For each asteroid, the absolute value represents its size, and the sign represents its direction (positive meaning right, negative meaning left). Each asteroid moves at the same speed.\n",
    "\n",
    "Find out the state of the asteroids after all collisions. If two asteroids meet, the smaller one will explode. If both are the same size, both will explode. Two asteroids moving in the same direction will never meet.\n",
    "\n",
    " \n",
    "\n",
    "Example 1:\n",
    "\n",
    "Input: asteroids = [5,10,-5]\n",
    "Output: [5,10]\n",
    "Explanation: The 10 and -5 collide resulting in 10. The 5 and 10 never collide.\n",
    "Example 2:\n",
    "\n",
    "Input: asteroids = [8,-8]\n",
    "Output: []\n",
    "Explanation: The 8 and -8 collide exploding each other.\n",
    "Example 3:\n",
    "\n",
    "Input: asteroids = [10,2,-5]\n",
    "Output: [10]\n",
    "Explanation: The 2 and -5 collide resulting in -5. The 10 and -5 collide resulting in 10.\n",
    " \n",
    "\n",
    "Constraints:\n",
    "\n",
    "2 <= asteroids.length <= 104\n",
    "-1000 <= asteroids[i] <= 1000\n",
    "asteroids[i] != 0"
   ]
  },
  {
   "cell_type": "markdown",
   "id": "8067528f",
   "metadata": {},
   "source": [
    "# Questions clarified:\n",
    "- [5, 10, -5] - here won't 5 and -5 colloide ?\n",
    "No because the first possible collision is 10 and -5.\n",
    "\n",
    "- okay then what will happen [5, 2, -5]\n",
    "here, first 2 and -5 will colloide and 2 will explode .\n",
    "then 5 and -5 will collaoide then both will explode."
   ]
  },
  {
   "cell_type": "markdown",
   "id": "d24c24f9",
   "metadata": {},
   "source": [
    "We simulate collisions repeatedly until the list becomes stable (i.e., no more collisions possible).\n",
    "\n",
    "For each pass:\n",
    "\n",
    "Loop through the list of asteroids\n",
    "\n",
    "If you find a collision (a positive asteroid followed by a negative one), resolve it:\n",
    "\n",
    "- Compare their sizes\n",
    "\n",
    "- Keep the bigger one\n",
    "\n",
    "- If equal, remove both\n",
    "\n",
    "Repeat this process until no collisions happen in a full pass"
   ]
  },
  {
   "cell_type": "code",
   "execution_count": null,
   "id": "00948996",
   "metadata": {},
   "outputs": [],
   "source": [
    "def asteroidCollision(asteroids):\n",
    "    while True:\n",
    "        new_asteroids = []\n",
    "        i = 0\n",
    "        changed = False\n",
    "\n",
    "        while i < len(asteroids):\n",
    "            if i < len(asteroids) - 1 and asteroids[i] > 0 and asteroids[i + 1] < 0:\n",
    "                # Collision happens\n",
    "                if abs(asteroids[i]) > abs(asteroids[i + 1]):\n",
    "                    new_asteroids.append(asteroids[i])\n",
    "                elif abs(asteroids[i]) < abs(asteroids[i + 1]):\n",
    "                    new_asteroids.append(asteroids[i + 1])\n",
    "                # else: both explode, do not append\n",
    "                changed = True\n",
    "                i += 2  # skip the pair\n",
    "            else:\n",
    "                new_asteroids.append(asteroids[i])\n",
    "                i += 1\n",
    "\n",
    "        if not changed:\n",
    "            break  # no more collisions\n",
    "        asteroids = new_asteroids  # update list for next round\n",
    "\n",
    "    return asteroids\n"
   ]
  },
  {
   "cell_type": "code",
   "execution_count": 25,
   "id": "37446ee5",
   "metadata": {},
   "outputs": [],
   "source": [
    "class Solution:\n",
    "    def asteroidCollision(self, asteroids: list[int]) -> list[int]:\n",
    "        stack: list[int] = [asteroids[0]]\n",
    "\n",
    "        for i in range(1, len(asteroids)):\n",
    "            # this has to happen until the coming element is not matching sign with the stack top,\n",
    "            if stack and (stack[-1] < 0) != (asteroids[i] < 0):\n",
    "                while stack: # if both are different sign.\n",
    "                    # make it abs value then deal with it.\n",
    "                    top = abs(stack[-1])\n",
    "                    ele = abs(asteroids[i])\n",
    "\n",
    "                    # the comming element is big, so pop the top and push hte cur element.\n",
    "                    if ele > top:\n",
    "                        stack.pop()\n",
    "                    elif ele == top:\n",
    "                        stack.pop()\n",
    "                    else:\n",
    "                        break\n",
    "                \n",
    "            else:\n",
    "                # when there are in hte same sign, we can push now,\n",
    "                stack.append(asteroids[i])\n",
    "\n",
    "            print(stack)\n",
    "\n",
    "        return stack\n",
    "\n",
    "        "
   ]
  },
  {
   "cell_type": "code",
   "execution_count": 26,
   "id": "1e09a199",
   "metadata": {},
   "outputs": [
    {
     "name": "stdout",
     "output_type": "stream",
     "text": [
      "[5, 10]\n",
      "[5, 10]\n"
     ]
    },
    {
     "data": {
      "text/plain": [
       "[5, 10]"
      ]
     },
     "execution_count": 26,
     "metadata": {},
     "output_type": "execute_result"
    }
   ],
   "source": [
    "Solution().asteroidCollision(asteroids = [5,10,-5])"
   ]
  },
  {
   "cell_type": "code",
   "execution_count": 27,
   "id": "8ebb1a68",
   "metadata": {},
   "outputs": [
    {
     "name": "stdout",
     "output_type": "stream",
     "text": [
      "[5, 2]\n",
      "[]\n"
     ]
    },
    {
     "data": {
      "text/plain": [
       "[]"
      ]
     },
     "execution_count": 27,
     "metadata": {},
     "output_type": "execute_result"
    }
   ],
   "source": [
    "Solution().asteroidCollision(asteroids = [5,2,-5])"
   ]
  },
  {
   "cell_type": "markdown",
   "id": "ed140dc1",
   "metadata": {},
   "source": [
    "# important thing to understand:\n",
    "In this code:\n",
    "\n",
    "\n",
    "if stack and (stack[-1] < 0) != (asteroids[i] < 0):\n",
    "You're checking if the signs differ — which is okay — but not all opposite signs lead to a collision.\n",
    "\n",
    "❗️Actual collision only happens when:\n",
    "- stack[-1] > 0 (right-moving)\n",
    "- asteroids[i] < 0 (left-moving)\n",
    "\n",
    "So e.g., [-2, 1] → different signs but no collision, because they’re moving away from each other."
   ]
  },
  {
   "cell_type": "code",
   "execution_count": null,
   "id": "67c16416",
   "metadata": {},
   "outputs": [],
   "source": [
    "class Solution:\n",
    "    def asteroidCollision(self, asteroids: list[int]) -> list[int]:\n",
    "        stack: list[int] = [asteroids[0]]\n",
    "\n",
    "        for i in range(1, len(asteroids)):\n",
    "            # when the coming elemnt move is left and top moves in right.\n",
    "            while stack and (stack[-1] > 0) and (asteroids[i] < 0):\n",
    "                # make it abs value then deal with it.\n",
    "                top = stack[-1]\n",
    "                ele = abs(asteroids[i])\n",
    "\n",
    "                # the comming element is big, so pop the top and push hte cur element.\n",
    "                if ele > top:\n",
    "                    stack.pop()  # the top exploded, we can keep on checking the top if it colliods.\n",
    "                elif ele == top:\n",
    "                    stack.pop()\n",
    "                    break  # both exploided, so no more checking for the coming element.\n",
    "                elif top > ele:\n",
    "                    # the top is greater, the coming element exploided.\n",
    "                    break\n",
    "                \n",
    "            else:\n",
    "                # when there are in hte same sign, we can push now,\n",
    "                stack.append(asteroids[i])\n",
    "\n",
    "            print(stack)\n",
    "\n",
    "        return stack\n",
    "\n",
    "# tc - O(n)\n",
    "# sc - O(n)"
   ]
  },
  {
   "cell_type": "code",
   "execution_count": 41,
   "id": "119c0d58",
   "metadata": {},
   "outputs": [
    {
     "name": "stdout",
     "output_type": "stream",
     "text": [
      "[5, 2]\n",
      "[]\n"
     ]
    },
    {
     "data": {
      "text/plain": [
       "[]"
      ]
     },
     "execution_count": 41,
     "metadata": {},
     "output_type": "execute_result"
    }
   ],
   "source": [
    "Solution().asteroidCollision(asteroids = [5,2,-5])"
   ]
  },
  {
   "cell_type": "code",
   "execution_count": 42,
   "id": "8f251262",
   "metadata": {},
   "outputs": [
    {
     "name": "stdout",
     "output_type": "stream",
     "text": [
      "[5, 10]\n",
      "[5, 10]\n"
     ]
    },
    {
     "data": {
      "text/plain": [
       "[5, 10]"
      ]
     },
     "execution_count": 42,
     "metadata": {},
     "output_type": "execute_result"
    }
   ],
   "source": [
    "Solution().asteroidCollision(asteroids = [5,10,-5])"
   ]
  },
  {
   "cell_type": "code",
   "execution_count": null,
   "id": "cfca50a5",
   "metadata": {},
   "outputs": [],
   "source": []
  }
 ],
 "metadata": {
  "kernelspec": {
   "display_name": "3.11.11",
   "language": "python",
   "name": "python3"
  },
  "language_info": {
   "codemirror_mode": {
    "name": "ipython",
    "version": 3
   },
   "file_extension": ".py",
   "mimetype": "text/x-python",
   "name": "python",
   "nbconvert_exporter": "python",
   "pygments_lexer": "ipython3",
   "version": "3.11.11"
  }
 },
 "nbformat": 4,
 "nbformat_minor": 5
}
