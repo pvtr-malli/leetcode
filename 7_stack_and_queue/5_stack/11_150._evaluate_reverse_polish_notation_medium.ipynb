{
 "cells": [
  {
   "cell_type": "markdown",
   "id": "01e0bc42",
   "metadata": {},
   "source": [
    "You are given an array of strings tokens that represents an arithmetic expression in a Reverse Polish Notation.\n",
    "\n",
    "Evaluate the expression. Return an integer that represents the value of the expression.\n",
    "\n",
    "Note that:\n",
    "\n",
    "The valid operators are '+', '-', '*', and '/'.\n",
    "Each operand may be an integer or another expression.\n",
    "The division between two integers always truncates toward zero.\n",
    "There will not be any division by zero.\n",
    "The input represents a valid arithmetic expression in a reverse polish notation.\n",
    "The answer and all the intermediate calculations can be represented in a 32-bit integer.\n",
    " \n",
    "\n",
    "Example 1:\n",
    "\n",
    "Input: tokens = [\"2\",\"1\",\"+\",\"3\",\"*\"]\n",
    "Output: 9\n",
    "Explanation: ((2 + 1) * 3) = 9\n",
    "Example 2:\n",
    "\n",
    "Input: tokens = [\"4\",\"13\",\"5\",\"/\",\"+\"]\n",
    "Output: 6\n",
    "Explanation: (4 + (13 / 5)) = 6\n",
    "Example 3:\n",
    "\n",
    "Input: tokens = [\"10\",\"6\",\"9\",\"3\",\"+\",\"-11\",\"*\",\"/\",\"*\",\"17\",\"+\",\"5\",\"+\"]\n",
    "Output: 22\n",
    "Explanation: ((10 * (6 / ((9 + 3) * -11))) + 17) + 5\n",
    "= ((10 * (6 / (12 * -11))) + 17) + 5\n",
    "= ((10 * (6 / -132)) + 17) + 5\n",
    "= ((10 * 0) + 17) + 5\n",
    "= (0 + 17) + 5\n",
    "= 17 + 5\n",
    "= 22\n",
    " \n",
    "\n",
    "Constraints:\n",
    "\n",
    "1 <= tokens.length <= 104\n",
    "tokens[i] is either an operator: \"+\", \"-\", \"*\", or \"/\", or an integer in the range [-200, 200]."
   ]
  },
  {
   "cell_type": "markdown",
   "id": "79a89789",
   "metadata": {},
   "source": [
    "# brute force:\n",
    "- ✅ Time Complexity: O(n²)\n",
    "- Each time we scan the array to find the first operator (O(n)), and we reduce the list size by 2.\n",
    "- We repeat this O(n) times in worst case → O(n²).\n",
    "\n",
    "- ✅ Space Complexity: O(n) (or O(1) if you do it in-place)\n"
   ]
  },
  {
   "cell_type": "code",
   "execution_count": 8,
   "id": "eaa0344f",
   "metadata": {},
   "outputs": [],
   "source": [
    "class Solution:\n",
    "    def evalRPN(self, tokens: list[str]) -> int:\n",
    "        operations = {\"+\", \"-\", \"*\", \"/\"}\n",
    "\n",
    "        while len(tokens) > 1:\n",
    "            for i in range(len(tokens)):\n",
    "                if tokens[i] in operations:\n",
    "                    a = int(tokens[i - 2])\n",
    "                    b = int(tokens[i - 1])\n",
    "                    op = tokens[i]\n",
    "\n",
    "                    if op == \"+\":\n",
    "                        res = a + b\n",
    "                    elif op == \"-\":\n",
    "                        res = a - b\n",
    "                    elif op == \"*\":\n",
    "                        res = a * b\n",
    "                    else:\n",
    "                        res = int(a / b)  # truncate toward zero\n",
    "\n",
    "                    # Replace tokens[i-2:i+1] with result\n",
    "                    tokens = tokens[:i - 2] + [str(res)] + tokens[i + 1:]\n",
    "                    print(tokens)\n",
    "                    break  # start from beginning again\n",
    "\n",
    "        return int(tokens[0])\n"
   ]
  },
  {
   "cell_type": "code",
   "execution_count": 9,
   "id": "1e36cf86",
   "metadata": {},
   "outputs": [
    {
     "name": "stdout",
     "output_type": "stream",
     "text": [
      "['10', '6', '12', '-11', '*', '/', '*', '17', '+', '5', '+']\n",
      "['10', '6', '-132', '/', '*', '17', '+', '5', '+']\n",
      "['10', '0', '*', '17', '+', '5', '+']\n",
      "['0', '17', '+', '5', '+']\n",
      "['17', '5', '+']\n",
      "['22']\n"
     ]
    },
    {
     "data": {
      "text/plain": [
       "22"
      ]
     },
     "execution_count": 9,
     "metadata": {},
     "output_type": "execute_result"
    }
   ],
   "source": [
    "Solution().evalRPN(tokens = [\"10\",\"6\",\"9\",\"3\",\"+\",\"-11\",\"*\",\"/\",\"*\",\"17\",\"+\",\"5\",\"+\"])"
   ]
  },
  {
   "cell_type": "markdown",
   "id": "9b6fdf13",
   "metadata": {},
   "source": [
    "# approach 2:\n",
    "\n",
    "- If it is a number the push it to stack.\n",
    "- if it is a operator. then pop 2 elements from the stack adn do the operation and push it back."
   ]
  },
  {
   "cell_type": "code",
   "execution_count": null,
   "id": "0b5d5a8e",
   "metadata": {},
   "outputs": [],
   "source": [
    "class Solution:\n",
    "    def evalRPN(self, tokens: list[str]) -> int:\n",
    "        operation_map = {\"+\": 0,\n",
    "                         \"-\": 1,\n",
    "                         \"*\": 2,\n",
    "                         \"/\": 3}\n",
    "        stack = []\n",
    "        \n",
    "        for ele in tokens:\n",
    "            if ele not in operation_map:\n",
    "                stack.append(ele)\n",
    "            else:\n",
    "                # take the 2 elements.\n",
    "                # for / that should be in the given order.\n",
    "                # [\"4\",\"13\",\"5\",\"/\",\"+\"]\n",
    "                # so here, 13 / 5, so, first pop is b. ans second pop is a.\n",
    "                b = stack.pop()\n",
    "                a = stack.pop()\n",
    "                operation = operation_map[ele]\n",
    "                a, b = int(a), int(b)\n",
    "                if operation == 0:\n",
    "                    stack.append(a + b)\n",
    "                elif operation == 1:\n",
    "                    stack.append(a - b)\n",
    "                elif operation == 2:\n",
    "                    stack.append(a * b)\n",
    "                else:\n",
    "                    # division truncates toward 0\n",
    "                    stack.append(int(a / b))\n",
    "                    \n",
    "        return int(stack[-1])\n",
    "\n",
    "# tc:\n",
    "# - we iterate over the list only once:\n",
    "# - and the pop and push of stack, is O(1) only.\n",
    "# tc - O(n)\n",
    "\n",
    "# sc - O(n)"
   ]
  },
  {
   "cell_type": "code",
   "execution_count": 5,
   "id": "e738d875",
   "metadata": {},
   "outputs": [
    {
     "data": {
      "text/plain": [
       "9"
      ]
     },
     "execution_count": 5,
     "metadata": {},
     "output_type": "execute_result"
    }
   ],
   "source": [
    "Solution().evalRPN(tokens = [\"2\",\"1\",\"+\",\"3\",\"*\"])"
   ]
  },
  {
   "cell_type": "code",
   "execution_count": 6,
   "id": "6c07bc1a",
   "metadata": {},
   "outputs": [
    {
     "data": {
      "text/plain": [
       "6"
      ]
     },
     "execution_count": 6,
     "metadata": {},
     "output_type": "execute_result"
    }
   ],
   "source": [
    "Solution().evalRPN(tokens = [\"4\",\"13\",\"5\",\"/\",\"+\"])"
   ]
  },
  {
   "cell_type": "code",
   "execution_count": 7,
   "id": "97a2e555",
   "metadata": {},
   "outputs": [
    {
     "data": {
      "text/plain": [
       "22"
      ]
     },
     "execution_count": 7,
     "metadata": {},
     "output_type": "execute_result"
    }
   ],
   "source": [
    "Solution().evalRPN(tokens = [\"10\",\"6\",\"9\",\"3\",\"+\",\"-11\",\"*\",\"/\",\"*\",\"17\",\"+\",\"5\",\"+\"])"
   ]
  },
  {
   "cell_type": "code",
   "execution_count": null,
   "id": "ead71522",
   "metadata": {},
   "outputs": [],
   "source": [
    "# rewrote using match-case\n",
    "class Solution:\n",
    "    def evalRPN(self, tokens: list[str]) -> int:\n",
    "        operation_map = {\"+\": 0,\n",
    "                         \"-\": 1,\n",
    "                         \"*\": 2,\n",
    "                         \"/\": 3}\n",
    "        stack = []\n",
    "        \n",
    "        for ele in tokens:\n",
    "            if ele not in operation_map:\n",
    "                stack.append(ele)\n",
    "            else:\n",
    "                # take the 2 elements.\n",
    "                # for / that should be in the given order.\n",
    "                # [\"4\",\"13\",\"5\",\"/\",\"+\"]\n",
    "                # so here, 13 / 5, so, first pop is b. ans second pop is a.\n",
    "                b = stack.pop()\n",
    "                a = stack.pop()\n",
    "                operation = operation_map[ele]\n",
    "                a, b = int(a), int(b)\n",
    "\n",
    "                match operation:\n",
    "                    case 0:\n",
    "                        stack.append(a + b)\n",
    "                    case 1:\n",
    "                        stack.append(a - b)\n",
    "                    case 2:\n",
    "                        stack.append(a * b)\n",
    "                    case 3:\n",
    "                        # division truncates toward 0\n",
    "                        stack.append(int(a / b))\n",
    "                    \n",
    "        return int(stack[-1])"
   ]
  },
  {
   "cell_type": "markdown",
   "id": "16e2a7d9",
   "metadata": {},
   "source": [
    "# The division between two integers always truncates toward zero.\n",
    "\n",
    "This line:\n",
    "\n",
    "```python\n",
    "stack.append(int(a / b))  # division truncates toward 0\n",
    "```\n",
    "\n",
    "is used to **mimic the behavior of integer division that truncates toward 0**, as required by the **LeetCode Reverse Polish Notation (RPN)** problem.\n",
    "\n",
    "---\n",
    "\n",
    "### ⚠️ Why is this needed?\n",
    "\n",
    "In **C/C++ or Java**, when you do integer division:\n",
    "\n",
    "```cpp\n",
    "int res = -7 / 2;  // → result: -3 (truncates toward 0)\n",
    "```\n",
    "\n",
    "But in **Python**, when using the `//` operator:\n",
    "\n",
    "```python\n",
    "-7 // 2  # → result: -4  (rounds toward negative infinity, not zero!)\n",
    "```\n",
    "\n",
    "So LeetCode wants:\n",
    "\n",
    "| `a` | `b` | Expected result |\n",
    "| --- | --- | --------------- |\n",
    "| 7   | 2   | 3               |\n",
    "| -7  | 2   | -3 ✅ (toward 0) |\n",
    "| 7   | -2  | -3 ✅ (toward 0) |\n",
    "| -7  | -2  | 3               |\n",
    "\n",
    "---\n",
    "\n",
    "### ✅ How `int(a / b)` fixes it:\n",
    "\n",
    "```python\n",
    "int(a / b)\n",
    "```\n",
    "\n",
    "* `/` gives float division (e.g., `-7 / 2 = -3.5`)\n",
    "* `int()` truncates toward zero (i.e., `int(-3.5) = -3`) ✅\n",
    "\n",
    "So it handles **negative number division correctly**.\n",
    "\n",
    "---\n",
    "\n"
   ]
  },
  {
   "cell_type": "markdown",
   "id": "8f39dcb8",
   "metadata": {},
   "source": []
  }
 ],
 "metadata": {
  "kernelspec": {
   "display_name": "3.11.11",
   "language": "python",
   "name": "python3"
  },
  "language_info": {
   "codemirror_mode": {
    "name": "ipython",
    "version": 3
   },
   "file_extension": ".py",
   "mimetype": "text/x-python",
   "name": "python",
   "nbconvert_exporter": "python",
   "pygments_lexer": "ipython3",
   "version": "3.11.11"
  }
 },
 "nbformat": 4,
 "nbformat_minor": 5
}
