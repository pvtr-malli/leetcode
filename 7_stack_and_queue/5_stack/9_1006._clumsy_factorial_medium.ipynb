{
 "cells": [
  {
   "cell_type": "markdown",
   "id": "8a99eca4",
   "metadata": {},
   "source": [
    "The factorial of a positive integer n is the product of all positive integers less than or equal to n.\n",
    "\n",
    "For example, factorial(10) = 10 * 9 * 8 * 7 * 6 * 5 * 4 * 3 * 2 * 1.\n",
    "We make a clumsy factorial using the integers in decreasing order by swapping out the multiply operations for a fixed rotation of operations with multiply '*', divide '/', add '+', and subtract '-' in this order.\n",
    "\n",
    "For example, clumsy(10) = 10 * 9 / 8 + 7 - 6 * 5 / 4 + 3 - 2 * 1.\n",
    "However, these operations are still applied using the usual order of operations of arithmetic. We do all multiplication and division steps before any addition or subtraction steps, and multiplication and division steps are processed left to right.\n",
    "\n",
    "Additionally, the division that we use is floor division such that 10 * 9 / 8 = 90 / 8 = 11.\n",
    "\n",
    "Given an integer n, return the clumsy factorial of n.\n",
    "\n",
    " \n",
    "\n",
    "Example 1:\n",
    "\n",
    "Input: n = 4\n",
    "Output: 7\n",
    "Explanation: 7 = 4 * 3 / 2 + 1\n",
    "Example 2:\n",
    "\n",
    "Input: n = 10\n",
    "Output: 12\n",
    "Explanation: 12 = 10 * 9 / 8 + 7 - 6 * 5 / 4 + 3 - 2 * 1\n",
    " \n",
    "\n",
    "Constraints:\n",
    "\n",
    "1 <= n <= 104"
   ]
  },
  {
   "cell_type": "markdown",
   "id": "85f689cb",
   "metadata": {},
   "source": [
    "# brute force:\n",
    "- just stimulate the answer\n",
    "- here we have to maintain the precedence -- * / should happen first than the + and - should happen\n",
    "- 10 * 9 / 8 + 7 - 6 * 5 / 4 + 3 - 2 * 1\n",
    "- ((10 * 9) / 8) + 7 - ((6 * 5) / 4) + 3 - (2 * 1)\n",
    "- so we will be doing the * and / -- on the go. and compute the + and - at the end."
   ]
  },
  {
   "cell_type": "code",
   "execution_count": null,
   "id": "4039af3d",
   "metadata": {},
   "outputs": [],
   "source": [
    "class Solution:\n",
    "    def clumsy(self, n: int) -> int:\n",
    "        stack = [n]\n",
    "        n -= 1\n",
    "        index = 0  # 0: *, 1: /, 2: +, 3: -\n",
    "\n",
    "        while n > 0:\n",
    "            if index % 4 == 0:\n",
    "                stack[-1] *= n\n",
    "            elif index % 4 == 1:\n",
    "                stack[-1] = int(stack[-1] / n)\n",
    "            elif index % 4 == 2:\n",
    "                # this is a + operation , just push\n",
    "                stack.append(n)\n",
    "            else:\n",
    "                # this is a minus operation.\n",
    "                stack.append(-n)\n",
    "        \n",
    "            n -= 1\n",
    "            index += 1\n",
    "\n",
    "        return sum(stack)\n",
    "\n",
    "\n",
    "# tc - O(n)\n",
    "# sc - O(1)"
   ]
  },
  {
   "cell_type": "markdown",
   "id": "16e61a49",
   "metadata": {},
   "source": [
    "# Follow up: solve it in constant time and space?"
   ]
  },
  {
   "cell_type": "markdown",
   "id": "710dc4d3",
   "metadata": {},
   "source": [
    "- we can retunr the fixed know results.\n",
    "```\n",
    "if n == 1: return 1\n",
    "if n == 2: return 2\n",
    "if n == 3: return 6\n",
    "if n == 4: return 7\n",
    "\n",
    "```\n",
    "\n",
    "- ✳️ For n >= 5: Instead of simulating the full expression, we use a shortcut based on modulo 4:\n",
    "```\n",
    "if n % 4 == 0: return n + 1\n",
    "if n % 4 == 1: return n + 2\n",
    "if n % 4 == 2: return n + 2\n",
    "if n % 4 == 3: return n - 1\n",
    "```\n",
    "\n",
    "how this observation works:\n",
    "| `n` | clumsy(n) | `n % 4` | Result Pattern |\n",
    "| --- | --------- | ------- | -------------- |\n",
    "| 5   | 7         | 1       | `n + 2 = 7`    |\n",
    "| 6   | 8         | 2       | `n + 2 = 8`    |\n",
    "| 7   | 6         | 3       | `n - 1 = 6`    |\n",
    "| 8   | 9         | 0       | `n + 1 = 9`    |\n",
    "| 9   | 11        | 1       | `n + 2 = 11`   |\n",
    "| 10  | 12        | 2       | `n + 2 = 12`   |\n",
    "| 11  | 10        | 3       | `n - 1 = 10`   |\n",
    "| 12  | 13        | 0       | `n + 1 = 13`   |\n",
    "\n",
    "\n",
    "So the pattern repeats after 4 numbers, so we can use this to retunr the answer instead of simulating the whole things.\n"
   ]
  },
  {
   "cell_type": "code",
   "execution_count": null,
   "id": "b32f316d",
   "metadata": {},
   "outputs": [],
   "source": [
    "class Solution:\n",
    "    def clumsy(self, n: int) -> int:\n",
    "        if n==4:\n",
    "            return 7\n",
    "        elif n==1:\n",
    "            return 1\n",
    "        elif n==2:\n",
    "            return 2\n",
    "        elif n==3:\n",
    "            return 6\n",
    "        if n%4==0:\n",
    "            return (n+1)\n",
    "        elif n%4==1:\n",
    "            return (n+2)\n",
    "        elif n%4==2:\n",
    "            return (n+2)\n",
    "        else:\n",
    "            return (n-1)\n",
    "        \n",
    "# tc - O(1)\n",
    "# sc - O(1)"
   ]
  }
 ],
 "metadata": {
  "kernelspec": {
   "display_name": "3.11.11",
   "language": "python",
   "name": "python3"
  },
  "language_info": {
   "codemirror_mode": {
    "name": "ipython",
    "version": 3
   },
   "file_extension": ".py",
   "mimetype": "text/x-python",
   "name": "python",
   "nbconvert_exporter": "python",
   "pygments_lexer": "ipython3",
   "version": "3.11.11"
  }
 },
 "nbformat": 4,
 "nbformat_minor": 5
}
