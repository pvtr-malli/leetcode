{
 "cells": [
  {
   "cell_type": "markdown",
   "id": "ecaba8f1",
   "metadata": {},
   "source": [
    "You are given a string s and an integer k, a k duplicate removal consists of choosing k adjacent and equal letters from s and removing them, causing the left and the right side of the deleted substring to concatenate together.\n",
    "\n",
    "We repeatedly make k duplicate removals on s until we no longer can.\n",
    "\n",
    "Return the final string after all such duplicate removals have been made. It is guaranteed that the answer is unique.\n",
    "\n",
    " \n",
    "\n",
    "Example 1:\n",
    "\n",
    "Input: s = \"abcd\", k = 2\n",
    "Output: \"abcd\"\n",
    "Explanation: There's nothing to delete.\n",
    "Example 2:\n",
    "\n",
    "Input: s = \"deeedbbcccbdaa\", k = 3\n",
    "Output: \"aa\"\n",
    "Explanation: \n",
    "First delete \"eee\" and \"ccc\", get \"ddbbbdaa\"\n",
    "Then delete \"bbb\", get \"dddaa\"\n",
    "Finally delete \"ddd\", get \"aa\"\n",
    "Example 3:\n",
    "\n",
    "Input: s = \"pbbcggttciiippooaais\", k = 2\n",
    "Output: \"ps\"\n",
    " \n",
    "\n",
    "Constraints:\n",
    "\n",
    "1 <= s.length <= 105\n",
    "2 <= k <= 104\n",
    "s only contains lowercase English letters."
   ]
  },
  {
   "cell_type": "code",
   "execution_count": 13,
   "id": "4cab86b4",
   "metadata": {},
   "outputs": [],
   "source": [
    "class Solution:\n",
    "    def removeDuplicates(self, s: str, k: int) -> str:\n",
    "        stack1 = []\n",
    "\n",
    "        stack1.append(s[0])\n",
    "        last_repated_char: str = s[0]\n",
    "        last_repated_char_count: int = 1\n",
    "\n",
    "        for i in range(1, len(s)):\n",
    "            # if the current value is == last val.\n",
    "            if s[i] == last_repated_char:\n",
    "                last_repated_char_count += 1\n",
    "            else:\n",
    "                last_repated_char = s[i]\n",
    "                last_repated_char_count = 1\n",
    "\n",
    "            stack1.append(s[i])\n",
    "\n",
    "            if last_repated_char_count == k:\n",
    "                # pop the k elemts, since they are reapeting.\n",
    "                for _ in range(k):\n",
    "                    stack1.pop()\n",
    "                    last_repated_char_count -= 1\n",
    "\n",
    "                # now keep track of the last repeating charctor after poping.\n",
    "                if len(stack1) > 0:\n",
    "                    last_repated_char = stack1[-1]\n",
    "                    # find the count of it.\n",
    "                    while stack1 and stack1[-1] == last_repated_char:\n",
    "                        stack1.pop()\n",
    "                        last_repated_char_count += 1\n",
    "                    # after counting push them back to the stack.\n",
    "                    for _ in range(last_repated_char_count):\n",
    "                        stack1.append(last_repated_char)\n",
    "                else:\n",
    "                    last_repated_char = \"\"\n",
    "                    last_repated_char_count = 0\n",
    "        \n",
    "        return \"\".join([ele for ele in stack1])\n",
    "                "
   ]
  },
  {
   "cell_type": "code",
   "execution_count": 14,
   "id": "91779d27",
   "metadata": {},
   "outputs": [
    {
     "data": {
      "text/plain": [
       "'abcd'"
      ]
     },
     "execution_count": 14,
     "metadata": {},
     "output_type": "execute_result"
    }
   ],
   "source": [
    "Solution().removeDuplicates(s = \"abcd\", k = 2)"
   ]
  },
  {
   "cell_type": "code",
   "execution_count": 15,
   "id": "c4c40386",
   "metadata": {},
   "outputs": [
    {
     "data": {
      "text/plain": [
       "'aa'"
      ]
     },
     "execution_count": 15,
     "metadata": {},
     "output_type": "execute_result"
    }
   ],
   "source": [
    "Solution().removeDuplicates(s = \"deeedbbcccbdaa\", k = 3)"
   ]
  },
  {
   "cell_type": "code",
   "execution_count": 16,
   "id": "15a719e4",
   "metadata": {},
   "outputs": [
    {
     "data": {
      "text/plain": [
       "'ps'"
      ]
     },
     "execution_count": 16,
     "metadata": {},
     "output_type": "execute_result"
    }
   ],
   "source": [
    "Solution().removeDuplicates(s = \"pbbcggttciiippooaais\", k = 2)"
   ]
  },
  {
   "cell_type": "markdown",
   "id": "2999780a",
   "metadata": {},
   "source": [
    "# This works, but you have to calculate the count, often and tc is also high.\n",
    "- keep the counter inside the stack itself, with the char itself,"
   ]
  },
  {
   "cell_type": "code",
   "execution_count": null,
   "id": "d5ef74ad",
   "metadata": {},
   "outputs": [],
   "source": [
    "class Solution:\n",
    "    def removeDuplicates(self, s: str, k: int) -> str:\n",
    "        stack = []  # stores [char, count]\n",
    "\n",
    "        for char in s:\n",
    "            if stack and stack[-1][0] == char:\n",
    "                # if the last charctor is same as this, increase its count...\n",
    "                # once it reaches the k. pop the character itself.\n",
    "                stack[-1][1] += 1\n",
    "                if stack[-1][1] == k:\n",
    "                    stack.pop()\n",
    "            else:\n",
    "                stack.append([char, 1])\n",
    "\n",
    "        # rebuild final string.\n",
    "        result = \"\"\n",
    "        for char, count in stack:\n",
    "            result += char * count\n",
    "        return result\n",
    "\n",
    "\n",
    "# tc - O(n) [traversal] + O(n) [ string building]\n",
    "# sc - O(t) t-unique elements in s. "
   ]
  }
 ],
 "metadata": {
  "kernelspec": {
   "display_name": "3.11.11",
   "language": "python",
   "name": "python3"
  },
  "language_info": {
   "codemirror_mode": {
    "name": "ipython",
    "version": 3
   },
   "file_extension": ".py",
   "mimetype": "text/x-python",
   "name": "python",
   "nbconvert_exporter": "python",
   "pygments_lexer": "ipython3",
   "version": "3.11.11"
  }
 },
 "nbformat": 4,
 "nbformat_minor": 5
}
