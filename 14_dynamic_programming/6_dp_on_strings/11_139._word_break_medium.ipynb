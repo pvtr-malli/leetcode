{
 "cells": [
  {
   "cell_type": "markdown",
   "id": "41c4cfd3",
   "metadata": {},
   "source": [
    "Given a string s and a dictionary of strings wordDict, return true if s can be segmented into a space-separated sequence of one or more dictionary words.\n",
    "\n",
    "Note that the same word in the dictionary may be reused multiple times in the segmentation.\n",
    "\n",
    " \n",
    "\n",
    "Example 1:\n",
    "\n",
    "Input: s = \"leetcode\", wordDict = [\"leet\",\"code\"]\n",
    "Output: true\n",
    "Explanation: Return true because \"leetcode\" can be segmented as \"leet code\".\n",
    "Example 2:\n",
    "\n",
    "Input: s = \"applepenapple\", wordDict = [\"apple\",\"pen\"]\n",
    "Output: true\n",
    "Explanation: Return true because \"applepenapple\" can be segmented as \"apple pen apple\".\n",
    "Note that you are allowed to reuse a dictionary word.\n",
    "Example 3:\n",
    "\n",
    "Input: s = \"catsandog\", wordDict = [\"cats\",\"dog\",\"sand\",\"and\",\"cat\"]\n",
    "Output: false\n",
    " \n",
    "\n",
    "Constraints:\n",
    "\n",
    "1 <= s.length <= 300\n",
    "1 <= wordDict.length <= 1000\n",
    "1 <= wordDict[i].length <= 20\n",
    "s and wordDict[i] consist of only lowercase English letters.\n",
    "All the strings of wordDict are unique."
   ]
  },
  {
   "cell_type": "code",
   "execution_count": null,
   "id": "a95a21a2",
   "metadata": {},
   "outputs": [],
   "source": [
    "class Solution:\n",
    "    def wordBreak(self, s: str, wordDict: list[str]) -> bool:\n",
    "        # has all the values:\n",
    "        n = len(s)\n",
    "        h = {}\n",
    "        for word in wordDict:\n",
    "            h[word] = 1\n",
    "        def rec(start, end):\n",
    "            if end == n:\n",
    "                return s[start:end] in h\n",
    "            \n",
    "            # if the current part present in the hash, then we have 2 options:\n",
    "            # 1. break the word here.\n",
    "            # 2. don't break and move forward.\n",
    "            if s[start:end+1] in h:\n",
    "                break_it = rec(end+1, end+1)\n",
    "                not_break_it = rec(start, end+1)\n",
    "                return break_it or not_break_it\n",
    "            else:\n",
    "                not_break_it = rec(start, end+1)\n",
    "            \n",
    "                return not_break_it\n",
    "        \n",
    "        return rec(0,0)\n",
    "\n",
    "# tc - O(2^n) + O(len(worddict)) [ for hashing]\n",
    "# sc - O(n)"
   ]
  },
  {
   "cell_type": "code",
   "execution_count": 5,
   "id": "234378cc",
   "metadata": {},
   "outputs": [
    {
     "data": {
      "text/plain": [
       "True"
      ]
     },
     "execution_count": 5,
     "metadata": {},
     "output_type": "execute_result"
    }
   ],
   "source": [
    "Solution().wordBreak(s = \"leetcode\", wordDict = [\"leet\",\"code\"])"
   ]
  },
  {
   "cell_type": "code",
   "execution_count": 6,
   "id": "0d9075d8",
   "metadata": {},
   "outputs": [
    {
     "data": {
      "text/plain": [
       "True"
      ]
     },
     "execution_count": 6,
     "metadata": {},
     "output_type": "execute_result"
    }
   ],
   "source": [
    "Solution().wordBreak(s = \"applepenapple\", wordDict = [\"apple\",\"pen\"])"
   ]
  },
  {
   "cell_type": "code",
   "execution_count": 7,
   "id": "e8899f6e",
   "metadata": {},
   "outputs": [
    {
     "data": {
      "text/plain": [
       "False"
      ]
     },
     "execution_count": 7,
     "metadata": {},
     "output_type": "execute_result"
    }
   ],
   "source": [
    "Solution().wordBreak(s = \"catsandog\", wordDict = [\"cats\",\"dog\",\"sand\",\"and\",\"cat\"])"
   ]
  },
  {
   "cell_type": "code",
   "execution_count": null,
   "id": "dd12bdbb",
   "metadata": {},
   "outputs": [],
   "source": [
    "# memorization:\n",
    "# dp [i][j] = Can we break properly for the start to end index.\n",
    "class Solution:\n",
    "    def wordBreak(self, s: str, wordDict: list[str]) -> bool:\n",
    "        # has all the values:\n",
    "        n = len(s)\n",
    "        h = {}\n",
    "        for word in wordDict:\n",
    "            h[word] = 1\n",
    "\n",
    "        # I want to go  start = 0 - n-1\n",
    "        # I want to go  end = 0 - n-1\n",
    "        dp = [[-1 for _ in range(n)]   for _ in range(n)]\n",
    "        def rec(start, end):\n",
    "            if end == n:\n",
    "                return s[start:end] in h\n",
    "            \n",
    "            if dp[start][end] != -1:\n",
    "                return dp[start][end]\n",
    "            \n",
    "            # if the current part present in the hash, then we have 2 options:\n",
    "            # 1. break the word here.\n",
    "            # 2. don't break and move forward.\n",
    "            if s[start:end+1] in h:\n",
    "                break_it = rec(end+1, end+1)\n",
    "                not_break_it = rec(start, end+1)\n",
    "                dp[start][end] =  break_it or not_break_it\n",
    "            else:\n",
    "                not_break_it = rec(start, end+1)\n",
    "            \n",
    "                dp[start][end] =  not_break_it\n",
    "            return dp[start][end]\n",
    "        \n",
    "        return rec(0,0)\n",
    "\n",
    "# tc - O(n * n) + O(len(worddict)) [ for hashing]\n",
    "# sc - O(n * n)"
   ]
  },
  {
   "cell_type": "code",
   "execution_count": 19,
   "id": "78437ae8",
   "metadata": {},
   "outputs": [
    {
     "data": {
      "text/plain": [
       "'applepenapple'"
      ]
     },
     "execution_count": 19,
     "metadata": {},
     "output_type": "execute_result"
    }
   ],
   "source": [
    "len(\"applepenapple\")\n",
    "s = \"applepenapple\"\n",
    "s[0:14]"
   ]
  },
  {
   "cell_type": "code",
   "execution_count": 18,
   "id": "e4fd3c50",
   "metadata": {},
   "outputs": [
    {
     "name": "stdout",
     "output_type": "stream",
     "text": [
      "13 13\n",
      "\n",
      "13 8\n",
      "apple\n",
      "13 5\n",
      "penapple\n",
      "13 0\n",
      "applepenapple\n"
     ]
    },
    {
     "data": {
      "text/plain": [
       "True"
      ]
     },
     "execution_count": 18,
     "metadata": {},
     "output_type": "execute_result"
    }
   ],
   "source": [
    "Solution().wordBreak(s = \"applepenapple\", wordDict = [\"apple\",\"pen\"])"
   ]
  },
  {
   "cell_type": "code",
   "execution_count": 10,
   "id": "90849363",
   "metadata": {},
   "outputs": [
    {
     "data": {
      "text/plain": [
       "False"
      ]
     },
     "execution_count": 10,
     "metadata": {},
     "output_type": "execute_result"
    }
   ],
   "source": [
    "Solution().wordBreak(s = \"catsandog\", wordDict = [\"cats\",\"dog\",\"sand\",\"and\",\"cat\"])"
   ]
  },
  {
   "cell_type": "code",
   "execution_count": null,
   "id": "7b81043c",
   "metadata": {},
   "outputs": [],
   "source": [
    "# tabulation:\n",
    "class Solution:\n",
    "    def wordBreak(self, s: str, wordDict: list[str]) -> bool:\n",
    "        # has all the values:\n",
    "        n = len(s)\n",
    "        h = {}\n",
    "        for word in wordDict:\n",
    "            h[word] = 1\n",
    "\n",
    "        # I want to go  start = 0 - n-1\n",
    "        # I want to go  end = 0 - n-1\n",
    "        # let's say n = 6. we will have dp for 0-5 X 0-5 , 6 X 6 matrix.\n",
    "        # there is end + 1 in code, so when end = 5, we will be looking at index 6 in the matrix which is not there.\n",
    "        # so create 7 X 7 matric. The 7th column is the base case.\n",
    "        dp = [[0 for _ in range(n + 1)]   for _ in range(n + 1)]\n",
    "\n",
    "        # Base case:\n",
    "        # fill in do we have the proper break from start to n.\n",
    "        for start in range(n):\n",
    "            dp[start][n] = s[start:n] in h\n",
    "\n",
    "        for start in range(n-1, -1, -1): # n-1 to 0 index.\n",
    "            for end in range(n-1, -1, -1): # n-1 to 0 index.\n",
    "                if s[start:end+1] in h:\n",
    "                    break_it = dp[end+1][end+1]\n",
    "                    not_break_it = dp[start][end+1]\n",
    "                    dp[start][end] =  break_it or not_break_it\n",
    "                else:\n",
    "                    not_break_it = dp[start][end+1]\n",
    "                \n",
    "                    dp[start][end] =  not_break_it\n",
    "        return dp[0][0] # because the for loop ends here.\n",
    "\n",
    "# tc - O(n * N)\n",
    "# sc - O(N * n)"
   ]
  },
  {
   "cell_type": "code",
   "execution_count": 23,
   "id": "d1744709",
   "metadata": {},
   "outputs": [
    {
     "data": {
      "text/plain": [
       "True"
      ]
     },
     "execution_count": 23,
     "metadata": {},
     "output_type": "execute_result"
    }
   ],
   "source": [
    "Solution().wordBreak(s = \"applepenapple\", wordDict = [\"apple\",\"pen\"])"
   ]
  },
  {
   "cell_type": "code",
   "execution_count": 24,
   "id": "376a5d24",
   "metadata": {},
   "outputs": [
    {
     "data": {
      "text/plain": [
       "False"
      ]
     },
     "execution_count": 24,
     "metadata": {},
     "output_type": "execute_result"
    }
   ],
   "source": [
    "Solution().wordBreak(s = \"catsandog\", wordDict = [\"cats\",\"dog\",\"sand\",\"and\",\"cat\"])"
   ]
  },
  {
   "cell_type": "code",
   "execution_count": null,
   "id": "002d4905",
   "metadata": {},
   "outputs": [],
   "source": [
    "# tabulation optimized space: NOTE this. solution is NOt working \n",
    "class Solution:\n",
    "    def wordBreak(self, s: str, wordDict: list[str]) -> bool:\n",
    "        # has all the values:\n",
    "        n = len(s)\n",
    "        h = {}\n",
    "        for word in wordDict:\n",
    "            h[word] = 1\n",
    "\n",
    "        # I want to go  start = 0 - n-1\n",
    "        # I want to go  end = 0 - n-1\n",
    "        # let's say n = 6. we will have dp for 0-5 X 0-5 , 6 X 6 matrix.\n",
    "        # there is end + 1 in code, so when end = 5, we will be looking at index 6 in the matrix which is not there.\n",
    "        # so create 7 X 7 matric. The 7th column is the base case.\n",
    "        prev = [0] * (n+1)\n",
    "        cur = [0] * (n+1)\n",
    "\n",
    "        # Base case:\n",
    "        # fill in do we have the proper break from start to n.\n",
    "        for start in range(n):\n",
    "            prev[start] = s[start:n] in h\n",
    "\n",
    "        for start in range(n-1, -1, -1):\n",
    "            for end in range(n-1, -1, -1):\n",
    "                if s[start:end+1] in h:\n",
    "                    break_it = prev[end+1]\n",
    "                    not_break_it = cur[end+1]\n",
    "                    cur[end] =  break_it or not_break_it\n",
    "                else:\n",
    "                    not_break_it = cur[end+1]\n",
    "                \n",
    "                    cur[end] =  not_break_it\n",
    "            prev, cur = cur, prev\n",
    "\n",
    "        return prev[0]  # because the for loop ends here.\n",
    "# tc - O(n * N)\n",
    "# sc - O(N * n)"
   ]
  },
  {
   "cell_type": "code",
   "execution_count": 26,
   "id": "39365c10",
   "metadata": {},
   "outputs": [
    {
     "data": {
      "text/plain": [
       "0"
      ]
     },
     "execution_count": 26,
     "metadata": {},
     "output_type": "execute_result"
    }
   ],
   "source": [
    "Solution().wordBreak(s = \"applepenapple\", wordDict = [\"apple\",\"pen\"])"
   ]
  },
  {
   "cell_type": "code",
   "execution_count": 27,
   "id": "1bf8d230",
   "metadata": {},
   "outputs": [
    {
     "data": {
      "text/plain": [
       "0"
      ]
     },
     "execution_count": 27,
     "metadata": {},
     "output_type": "execute_result"
    }
   ],
   "source": [
    "Solution().wordBreak(s = \"catsandog\", wordDict = [\"cats\",\"dog\",\"sand\",\"and\",\"cat\"])"
   ]
  },
  {
   "cell_type": "code",
   "execution_count": null,
   "id": "cf48e152",
   "metadata": {},
   "outputs": [],
   "source": []
  }
 ],
 "metadata": {
  "kernelspec": {
   "display_name": "3.11.11",
   "language": "python",
   "name": "python3"
  },
  "language_info": {
   "codemirror_mode": {
    "name": "ipython",
    "version": 3
   },
   "file_extension": ".py",
   "mimetype": "text/x-python",
   "name": "python",
   "nbconvert_exporter": "python",
   "pygments_lexer": "ipython3",
   "version": "3.11.11"
  }
 },
 "nbformat": 4,
 "nbformat_minor": 5
}
