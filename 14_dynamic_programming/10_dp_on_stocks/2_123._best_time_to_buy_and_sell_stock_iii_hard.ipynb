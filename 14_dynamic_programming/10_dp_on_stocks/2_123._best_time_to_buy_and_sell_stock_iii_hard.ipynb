{
 "cells": [
  {
   "cell_type": "markdown",
   "id": "82d32ed6",
   "metadata": {},
   "source": [
    "You are given an array prices where prices[i] is the price of a given stock on the ith day.\n",
    "\n",
    "Find the maximum profit you can achieve. You may complete at most two transactions.\n",
    "\n",
    "Note: You may not engage in multiple transactions simultaneously (i.e., you must sell the stock before you buy again).\n",
    "\n",
    " \n",
    "\n",
    "Example 1:\n",
    "\n",
    "Input: prices = [3,3,5,0,0,3,1,4]\n",
    "Output: 6\n",
    "Explanation: Buy on day 4 (price = 0) and sell on day 6 (price = 3), profit = 3-0 = 3.\n",
    "Then buy on day 7 (price = 1) and sell on day 8 (price = 4), profit = 4-1 = 3.\n",
    "Example 2:\n",
    "\n",
    "Input: prices = [1,2,3,4,5]\n",
    "Output: 4\n",
    "Explanation: Buy on day 1 (price = 1) and sell on day 5 (price = 5), profit = 5-1 = 4.\n",
    "Note that you cannot buy on day 1, buy on day 2 and sell them later, as you are engaging multiple transactions at the same time. You must sell before buying again.\n",
    "Example 3:\n",
    "\n",
    "Input: prices = [7,6,4,3,1]\n",
    "Output: 0\n",
    "Explanation: In this case, no transaction is done, i.e. max profit = 0.\n",
    " \n",
    "\n",
    "Constraints:\n",
    "\n",
    "1 <= prices.length <= 105\n",
    "0 <= prices[i] <= 105"
   ]
  },
  {
   "cell_type": "code",
   "execution_count": null,
   "id": "dd727884",
   "metadata": {},
   "outputs": [],
   "source": [
    "# recurssive solution:\n",
    "\n",
    "class Solution:\n",
    "    def maxProfit(self, prices: list[int]) -> int:\n",
    "        n_tranc = 2\n",
    "        def recurssion(i, buy, tranc_left):\n",
    "            if i >= len(prices) or tranc_left == 0:\n",
    "                return 0\n",
    "\n",
    "            if buy:\n",
    "                buy_it = recurssion(i + 1, False, tranc_left) - prices[i]\n",
    "                not_buy_it = recurssion(i + 1, True, tranc_left)\n",
    "                return max(buy_it, not_buy_it)\n",
    "            else:\n",
    "                # when we are selling, one transaction is used up.\n",
    "                sell_it = recurssion(i + 1, True, tranc_left - 1) + prices[i]\n",
    "                not_sel_it = recurssion(i + 1, False, tranc_left)\n",
    "                return max(sell_it, not_sel_it)\n",
    "\n",
    "        return recurssion(0, True, n_tranc)\n",
    "\n",
    "# tc - O(2^n)\n",
    "# sc - O(n) for recursion stack\n"
   ]
  },
  {
   "cell_type": "code",
   "execution_count": 2,
   "id": "e4cb4ffa",
   "metadata": {},
   "outputs": [
    {
     "data": {
      "text/plain": [
       "6"
      ]
     },
     "execution_count": 2,
     "metadata": {},
     "output_type": "execute_result"
    }
   ],
   "source": [
    "Solution().maxProfit(prices = [3,3,5,0,0,3,1,4])"
   ]
  },
  {
   "cell_type": "code",
   "execution_count": 3,
   "id": "4d515d5a",
   "metadata": {},
   "outputs": [
    {
     "data": {
      "text/plain": [
       "4"
      ]
     },
     "execution_count": 3,
     "metadata": {},
     "output_type": "execute_result"
    }
   ],
   "source": [
    "Solution().maxProfit(prices = [1,2,3,4,5])"
   ]
  },
  {
   "cell_type": "code",
   "execution_count": null,
   "id": "750949cd",
   "metadata": {},
   "outputs": [],
   "source": [
    "# memoization using a dp array:\n",
    "class Solution:\n",
    "    def maxProfit(self, prices: list[int]) -> int:\n",
    "        n_tranc = 2\n",
    "        n = len(prices)\n",
    "        dp = [[[-1 for _ in range(n_tranc + 1)] for _ in range(2)] for _ in range(n)]\n",
    "\n",
    "        def recurssion(i, buy, tranc_left):\n",
    "            if i >= n or tranc_left == 0:\n",
    "                return 0\n",
    "\n",
    "            if dp[i][buy][tranc_left] != -1:\n",
    "                return dp[i][buy][tranc_left]\n",
    "\n",
    "            if buy:\n",
    "                buy_it = recurssion(i + 1, False, tranc_left) - prices[i]\n",
    "                not_buy_it = recurssion(i + 1, True, tranc_left)\n",
    "                dp[i][buy][tranc_left] = max(buy_it, not_buy_it)\n",
    "            else:\n",
    "                sell_it = recurssion(i + 1, True, tranc_left - 1) + prices[i]\n",
    "                not_sel_it = recurssion(i + 1, False, tranc_left)\n",
    "                dp[i][buy][tranc_left] = max(sell_it, not_sel_it)\n",
    "\n",
    "            return dp[i][buy][tranc_left]\n",
    "\n",
    "        return recurssion(0, True, n_tranc)\n",
    "\n",
    "# tc - O(n * 2 * n_tranc)\n",
    "# sc - O(n * 2 * n_tranc) + O(n) for the recursion stack"
   ]
  },
  {
   "cell_type": "code",
   "execution_count": 8,
   "id": "e677aed6",
   "metadata": {},
   "outputs": [],
   "source": [
    "# tabulation:\n",
    "class Solution:\n",
    "    def maxProfit(self, prices: list[int]) -> int:\n",
    "        n_tranc = 2\n",
    "        n = len(prices)\n",
    "        dp = [[[0 for _ in range(n_tranc + 1)] for _ in range(2)] for _ in range(n)]\n",
    "\n",
    "        # fill in the last day value.\n",
    "        for tranc_left in range(n_tranc + 1):\n",
    "            dp[n - 1][True][tranc_left] = 0 # the buy is true, but we can't buy on the last day.\n",
    "            dp[n - 1][False][tranc_left] = prices[n-1] if tranc_left > 0 else 0  # if we are holding stack we can sell it.\n",
    "\n",
    "        for i in range(n - 2, -1, -1):\n",
    "            for buy in range(2):\n",
    "                for tranc_left in range(1, n_tranc + 1):\n",
    "                    if buy:\n",
    "                        buy_it = dp[i + 1][False][tranc_left] - prices[i]\n",
    "                        not_buy_it = dp[i + 1][True][tranc_left]\n",
    "                        dp[i][buy][tranc_left] = max(buy_it, not_buy_it)\n",
    "                    else:\n",
    "                        sell_it = dp[i + 1][True][tranc_left - 1] + prices[i]\n",
    "                        not_sel_it = dp[i + 1][False][tranc_left]\n",
    "                        dp[i][buy][tranc_left] = max(sell_it, not_sel_it)\n",
    "\n",
    "        return dp[0][1][n_tranc]\n",
    "    \n",
    "# tc - O(n * 2 * n_tranc)\n",
    "# sc - O(n * 2 * n_tranc)"
   ]
  },
  {
   "cell_type": "code",
   "execution_count": 9,
   "id": "14ee8867",
   "metadata": {},
   "outputs": [
    {
     "data": {
      "text/plain": [
       "4"
      ]
     },
     "execution_count": 9,
     "metadata": {},
     "output_type": "execute_result"
    }
   ],
   "source": [
    "Solution().maxProfit(prices = [1,2,3,4,5])"
   ]
  },
  {
   "cell_type": "code",
   "execution_count": null,
   "id": "70d1b894",
   "metadata": {},
   "outputs": [],
   "source": [
    "# memoization using a dp array: dp[n][tranc = 4]\n",
    "# we will buy it on even days and sell it on odd days.\n",
    "class Solution:\n",
    "    def maxProfit(self, prices: list[int]) -> int:\n",
    "        n = len(prices)\n",
    "        dp = [[-1 for _ in range(5)] for _ in range(n)]\n",
    "\n",
    "        def recurssion(i, tranc):\n",
    "            if i >= n or tranc == 4:\n",
    "                return 0\n",
    "\n",
    "            if dp[i][tranc] != -1:\n",
    "                return dp[i][tranc]\n",
    "\n",
    "            if tranc % 2 == 0:  # buy\n",
    "                buy_it = recurssion(i + 1, tranc + 1) - prices[i]\n",
    "                not_buy_it = recurssion(i + 1, tranc)\n",
    "                dp[i][tranc] = max(buy_it, not_buy_it)\n",
    "            else:  # sell\n",
    "                sell_it = recurssion(i + 1, tranc + 1) + prices[i]\n",
    "                not_sel_it = recurssion(i + 1, tranc)\n",
    "                dp[i][tranc] = max(sell_it, not_sel_it)\n",
    "\n",
    "            return dp[i][tranc]\n",
    "\n",
    "        return recurssion(0, 0)"
   ]
  },
  {
   "cell_type": "code",
   "execution_count": 1,
   "id": "2989d5b9",
   "metadata": {},
   "outputs": [],
   "source": [
    "# tabulation using a dp array: dp[n][tranc = 4]\n",
    "# we will buy it on even days and sell it on odd days.\n",
    "class Solution:\n",
    "    def maxProfit(self, prices: list[int]) -> int:\n",
    "        n = len(prices)\n",
    "        dp = [[0 for _ in range(5)] for _ in range(n)]\n",
    "\n",
    "        # fill in the last day value.\n",
    "        # NOTE:\n",
    "        for tranc in range(4):\n",
    "            dp[n - 1][tranc] = 0 if tranc % 2 == 0 else prices[n - 1] # prices[n - 1], because we will sell the last day stock.\n",
    "\n",
    "        for i in range(n - 2, -1, -1):\n",
    "            for tranc in range(4): # NOTE from the last price and first tranc we start.\n",
    "                if tranc % 2 == 0:  # buy\n",
    "                    buy_it = dp[i + 1][tranc + 1] - prices[i]\n",
    "                    not_buy_it = dp[i + 1][tranc]\n",
    "                    dp[i][tranc] = max(buy_it, not_buy_it)\n",
    "                else:  # sell\n",
    "                    sell_it = dp[i + 1][tranc + 1] + prices[i]\n",
    "                    not_sel_it = dp[i + 1][tranc]\n",
    "                    dp[i][tranc] = max(sell_it, not_sel_it)\n",
    "\n",
    "        return dp[0][0]\n",
    "\n",
    "# tc - o(n * 4)\n",
    "# sc - o(n * 4)"
   ]
  },
  {
   "cell_type": "code",
   "execution_count": 2,
   "id": "4572c392",
   "metadata": {},
   "outputs": [
    {
     "data": {
      "text/plain": [
       "6"
      ]
     },
     "execution_count": 2,
     "metadata": {},
     "output_type": "execute_result"
    }
   ],
   "source": [
    "Solution().maxProfit(prices = [3,3,5,0,0,3,1,4])"
   ]
  },
  {
   "cell_type": "code",
   "execution_count": 3,
   "id": "779b292e",
   "metadata": {},
   "outputs": [
    {
     "data": {
      "text/plain": [
       "4"
      ]
     },
     "execution_count": 3,
     "metadata": {},
     "output_type": "execute_result"
    }
   ],
   "source": [
    "Solution().maxProfit(prices = [1,2,3,4,5])"
   ]
  },
  {
   "cell_type": "code",
   "execution_count": null,
   "id": "15991f9b",
   "metadata": {},
   "outputs": [],
   "source": []
  }
 ],
 "metadata": {
  "kernelspec": {
   "display_name": "3.11.11",
   "language": "python",
   "name": "python3"
  },
  "language_info": {
   "codemirror_mode": {
    "name": "ipython",
    "version": 3
   },
   "file_extension": ".py",
   "mimetype": "text/x-python",
   "name": "python",
   "nbconvert_exporter": "python",
   "pygments_lexer": "ipython3",
   "version": "3.11.11"
  }
 },
 "nbformat": 4,
 "nbformat_minor": 5
}
