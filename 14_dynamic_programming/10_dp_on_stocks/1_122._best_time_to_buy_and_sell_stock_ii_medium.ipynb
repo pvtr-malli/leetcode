{
 "cells": [
  {
   "cell_type": "markdown",
   "id": "8eb17529",
   "metadata": {},
   "source": [
    "You are given an integer array prices where prices[i] is the price of a given stock on the ith day.\n",
    "\n",
    "On each day, you may decide to buy and/or sell the stock. You can only hold at most one share of the stock at any time. However, you can buy it then immediately sell it on the same day.\n",
    "\n",
    "Find and return the maximum profit you can achieve.\n",
    "\n",
    " \n",
    "\n",
    "Example 1:\n",
    "\n",
    "Input: prices = [7,1,5,3,6,4]\n",
    "Output: 7\n",
    "Explanation: Buy on day 2 (price = 1) and sell on day 3 (price = 5), profit = 5-1 = 4.\n",
    "Then buy on day 4 (price = 3) and sell on day 5 (price = 6), profit = 6-3 = 3.\n",
    "Total profit is 4 + 3 = 7.\n",
    "Example 2:\n",
    "\n",
    "Input: prices = [1,2,3,4,5]\n",
    "Output: 4\n",
    "Explanation: Buy on day 1 (price = 1) and sell on day 5 (price = 5), profit = 5-1 = 4.\n",
    "Total profit is 4.\n",
    "Example 3:\n",
    "\n",
    "Input: prices = [7,6,4,3,1]\n",
    "Output: 0\n",
    "Explanation: There is no way to make a positive profit, so we never buy the stock to achieve the maximum profit of 0.\n",
    " \n",
    "\n",
    "Constraints:\n",
    "\n",
    "1 <= prices.length <= 3 * 104\n",
    "0 <= prices[i] <= 104"
   ]
  },
  {
   "cell_type": "markdown",
   "id": "bf05b617",
   "metadata": {},
   "source": []
  },
  {
   "cell_type": "code",
   "execution_count": null,
   "id": "80669aaf",
   "metadata": {},
   "outputs": [],
   "source": [
    "# recurssion\n",
    "\n",
    "class Solution:\n",
    "    def maxProfit(self, prices: list[int]) -> int:\n",
    "        \"\"\"\n",
    "        :type prices: List[int]\n",
    "        :rtype: int\n",
    "        \"\"\"\n",
    "        n = len(prices)\n",
    "        if n == 0:\n",
    "            return 0\n",
    "\n",
    "        profit = 0\n",
    "        for i in range(1, n):\n",
    "            if prices[i] > prices[i - 1]:\n",
    "                profit += prices[i] - prices[i - 1]\n",
    "\n",
    "        return profit"
   ]
  },
  {
   "cell_type": "code",
   "execution_count": null,
   "id": "17f53441",
   "metadata": {},
   "outputs": [],
   "source": [
    "class Solution:\n",
    "    def maxProfit(self, prices) -> int:\n",
    "        # recurssion solution.\n",
    "        def recurssion(i, buy):\n",
    "            # this is the next day of last day, you cant do anything.\n",
    "            if i >= len(prices):\n",
    "                return 0\n",
    "\n",
    "            if buy:\n",
    "                buy_it = recurssion(i + 1, False) - prices[i]\n",
    "                not_buy_it = recurssion(i + 1, True)\n",
    "                return max(buy_it, not_buy_it)\n",
    "            else:\n",
    "                sell_it = recurssion(i + 1, True) + prices[i]\n",
    "                not_sel_it = recurssion(i + 1, False)\n",
    "                return max(sell_it, not_sel_it)\n",
    "\n",
    "        return recurssion(0, True)\n",
    "\n",
    "# tc - O(2^n)\n",
    "# sc - O(n) for the recursion stack"
   ]
  },
  {
   "cell_type": "code",
   "execution_count": null,
   "id": "62fd2cf1",
   "metadata": {},
   "outputs": [],
   "source": [
    "# memoization using array dp:\n",
    "class Solution:\n",
    "    def maxProfit(self, prices) -> int:\n",
    "        n = len(prices)\n",
    "        dp = [[-1 for _ in range(2)] for _ in range(n)]\n",
    "\n",
    "        def recurssion(i, buy):\n",
    "            if i >= n:\n",
    "                return 0\n",
    "\n",
    "            if dp[i][buy] != -1:\n",
    "                return dp[i][buy]\n",
    "\n",
    "            if buy:\n",
    "                buy_it = recurssion(i + 1, False) - prices[i]\n",
    "                not_buy_it = recurssion(i + 1, True)\n",
    "                dp[i][buy] = max(buy_it, not_buy_it)\n",
    "            else:\n",
    "                sell_it = recurssion(i + 1, True) + prices[i]\n",
    "                not_sel_it = recurssion(i + 1, False)\n",
    "                dp[i][buy] = max(sell_it, not_sel_it)\n",
    "\n",
    "            return dp[i][buy]\n",
    "\n",
    "        return recurssion(0, True)\n",
    "    \n",
    "# tc - O(n * 2)\n",
    "# sc - O(n * 2) for the dp array + O(n) for the recursion stack\n"
   ]
  },
  {
   "cell_type": "code",
   "execution_count": null,
   "id": "66b79886",
   "metadata": {},
   "outputs": [],
   "source": [
    "# tabulation:\n",
    "# dp[i][0] = max profit on day i if we can buy\n",
    "# dp[i][1] = max profit on day i if we cannot buy (holding stock)\n",
    "class Solution:\n",
    "    def maxProfit(self, prices) -> int:\n",
    "        n = len(prices)\n",
    "        dp = [[-1 for _ in range(2)] for _ in range(n)]\n",
    "        for i in range(n - 1, -1, -1):\n",
    "            for buy in range(2):\n",
    "                if i == n - 1:\n",
    "                    # base case.\n",
    "                    dp[i][buy] = 0\n",
    "                else:\n",
    "                    if buy:\n",
    "                        buy_it = dp[i + 1][False] - prices[i]\n",
    "                        not_buy_it = dp[i + 1][True]\n",
    "                        dp[i][buy] = max(buy_it, not_buy_it)\n",
    "                    else:\n",
    "                        sell_it = dp[i + 1][True] + prices[i]\n",
    "                        not_sel_it =   dp[i + 1][False]\n",
    "                        dp[i][buy] = max(sell_it, not_sel_it)\n",
    "\n",
    "        return dp[0][1]\n",
    "\n",
    "# tc - O(n * 2)\n",
    "# sc - O(n * 2) for the dp array"
   ]
  },
  {
   "cell_type": "code",
   "execution_count": 14,
   "id": "0ff4f4da",
   "metadata": {},
   "outputs": [
    {
     "name": "stdout",
     "output_type": "stream",
     "text": [
      "[[-1, -1], [-1, -1], [-1, -1], [-1, -1], [-1, -1], [-1, -1]]\n",
      "5 0\n",
      "5 1\n",
      "4 0\n",
      "4 1\n",
      "3 0\n",
      "3 1\n",
      "2 0\n",
      "2 1\n",
      "1 0\n",
      "1 1\n",
      "0 0\n",
      "0 1\n"
     ]
    },
    {
     "data": {
      "text/plain": [
       "7"
      ]
     },
     "execution_count": 14,
     "metadata": {},
     "output_type": "execute_result"
    }
   ],
   "source": [
    "Solution().maxProfit(prices = [7,1,5,3,6,4])  # Example usage"
   ]
  },
  {
   "cell_type": "code",
   "execution_count": 5,
   "id": "39253b09",
   "metadata": {},
   "outputs": [],
   "source": [
    "# using the space optimization:\n",
    "class Solution:\n",
    "    def maxProfit(self, prices) -> int:\n",
    "        n= len(prices)\n",
    "        prev_buy = prev_not_buy = 0\n",
    "        cur_buy= cur_not_buy = 0\n",
    "        # no base case since already everything zero.\n",
    "        for i in range(n-1, -1, -1):\n",
    "            # if we had the for loop -- we will first but and then sell -- that what we do here.\n",
    "            # we will defentely do the buy:\n",
    "            buy = -prices[i] + prev_not_buy\n",
    "            not_buy = 0 + prev_buy\n",
    "            cur_buy = max(buy, not_buy)\n",
    "            # we will do the sell now itself.\n",
    "            sell = prices[i] + prev_buy\n",
    "            not_sell = 0 + prev_not_buy\n",
    "            cur_not_buy = max(sell, not_sell)\n",
    "\n",
    "            # chance the variable.\n",
    "            prev_buy = cur_buy\n",
    "            prev_not_buy = cur_not_buy\n",
    "        return prev_buy"
   ]
  },
  {
   "cell_type": "code",
   "execution_count": 6,
   "id": "1501213d",
   "metadata": {},
   "outputs": [
    {
     "data": {
      "text/plain": [
       "7"
      ]
     },
     "execution_count": 6,
     "metadata": {},
     "output_type": "execute_result"
    }
   ],
   "source": [
    "Solution().maxProfit(prices = [7,1,5,3,6,4])  # Example usage"
   ]
  },
  {
   "cell_type": "code",
   "execution_count": null,
   "id": "096e65bf",
   "metadata": {},
   "outputs": [],
   "source": [
    "# more space optimized:\n",
    "# space optimization:\n",
    "class Solution:\n",
    "    def maxProfit(self, prices: list[int], fee: int) -> int:\n",
    "        # Initialize:\n",
    "        # hold: max profit when holding a stock (we bought it)\n",
    "        # cash: max profit when not holding a stock (sold or no stock)\n",
    "        hold = -prices[0]  \n",
    "        cash = 0\n",
    "\n",
    "        for price in prices[1:]:\n",
    "            # If we sell stock today, profit would be hold + price\n",
    "            sell_today = hold + price\n",
    "            # If we skip selling, profit stays as cash\n",
    "            cash = max(cash, sell_today)\n",
    "\n",
    "            # If we buy stock today, profit would be cash - price\n",
    "            buy_today = cash - price\n",
    "            # If we skip buying, profit stays as hold\n",
    "            hold = max(hold, buy_today)\n",
    "\n",
    "        # Final profit is max profit when not holding stock\n",
    "        return cash\n",
    "\n",
    "# tc - O(n)\n",
    "# sc - O(1) - only two variables hold and cash are used."
   ]
  }
 ],
 "metadata": {
  "kernelspec": {
   "display_name": "3.11.11",
   "language": "python",
   "name": "python3"
  },
  "language_info": {
   "codemirror_mode": {
    "name": "ipython",
    "version": 3
   },
   "file_extension": ".py",
   "mimetype": "text/x-python",
   "name": "python",
   "nbconvert_exporter": "python",
   "pygments_lexer": "ipython3",
   "version": "3.11.11"
  }
 },
 "nbformat": 4,
 "nbformat_minor": 5
}
