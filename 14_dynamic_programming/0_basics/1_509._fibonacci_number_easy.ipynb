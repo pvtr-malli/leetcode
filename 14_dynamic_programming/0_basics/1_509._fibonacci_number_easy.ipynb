{
 "cells": [
  {
   "cell_type": "markdown",
   "id": "42d28feb",
   "metadata": {},
   "source": [
    "The Fibonacci numbers, commonly denoted F(n) form a sequence, called the Fibonacci sequence, such that each number is the sum of the two preceding ones, starting from 0 and 1. That is,\n",
    "\n",
    "F(0) = 0, F(1) = 1\n",
    "F(n) = F(n - 1) + F(n - 2), for n > 1.\n",
    "Given n, calculate F(n).\n",
    "\n",
    " \n",
    "\n",
    "Example 1:\n",
    "\n",
    "Input: n = 2\n",
    "Output: 1\n",
    "Explanation: F(2) = F(1) + F(0) = 1 + 0 = 1.\n",
    "Example 2:\n",
    "\n",
    "Input: n = 3\n",
    "Output: 2\n",
    "Explanation: F(3) = F(2) + F(1) = 1 + 1 = 2.\n",
    "Example 3:\n",
    "\n",
    "Input: n = 4\n",
    "Output: 3\n",
    "Explanation: F(4) = F(3) + F(2) = 2 + 1 = 3.\n",
    " \n",
    "\n",
    "Constraints:\n",
    "\n",
    "0 <= n <= 30"
   ]
  },
  {
   "cell_type": "code",
   "execution_count": null,
   "id": "0d03a92c",
   "metadata": {},
   "outputs": [],
   "source": [
    "# recurssion:\n",
    "class Solution:\n",
    "    def fib(self, n: int) -> int:\n",
    "        if n == 0 or n == 1:\n",
    "            return n\n",
    "        return self.fib(n-1) + self.fib(n-2)"
   ]
  },
  {
   "cell_type": "code",
   "execution_count": 3,
   "id": "9f98ef67",
   "metadata": {},
   "outputs": [],
   "source": [
    "# memorizarion:\n",
    "class Solution:\n",
    "    \n",
    "    def fib(self, n: int) -> int:\n",
    "        dp = [-1]*(n +1)\n",
    "        return  self.find_fip(n, dp)\n",
    "    def find_fip(self, n, dp):\n",
    "        if n == 0 or n == 1:\n",
    "            return n\n",
    "        if dp[n] != -1:\n",
    "            return dp[n]\n",
    "        \n",
    "        return self.fib(n-1) + self.fib(n-2)"
   ]
  },
  {
   "cell_type": "code",
   "execution_count": 5,
   "id": "307e0fd7",
   "metadata": {},
   "outputs": [
    {
     "data": {
      "text/plain": [
       "3"
      ]
     },
     "execution_count": 5,
     "metadata": {},
     "output_type": "execute_result"
    }
   ],
   "source": [
    "Solution().fib(4)"
   ]
  },
  {
   "cell_type": "code",
   "execution_count": null,
   "id": "f8ff2713",
   "metadata": {},
   "outputs": [],
   "source": [
    "# tabulation \n",
    "class Solution:\n",
    "    \n",
    "    def fib(self, n: int) -> int:\n",
    "        if n == 0 or n ==1 :\n",
    "            return n\n",
    "        dp = [-1]*(n +1)\n",
    "        # fill in the initial values.\n",
    "        dp[0] = 0\n",
    "        dp[1] = 1\n",
    "        for i in range(2, n+1):\n",
    "            dp[i] = dp[i-1] + dp[i-2]\n",
    "        return dp[-1]\n",
    "\n",
    "# tc - O(n)\n",
    "# sc - O(n)"
   ]
  },
  {
   "cell_type": "code",
   "execution_count": 7,
   "id": "62f1f995",
   "metadata": {},
   "outputs": [
    {
     "data": {
      "text/plain": [
       "3"
      ]
     },
     "execution_count": 7,
     "metadata": {},
     "output_type": "execute_result"
    }
   ],
   "source": [
    "Solution().fib(4)"
   ]
  },
  {
   "cell_type": "code",
   "execution_count": null,
   "id": "bf20c209",
   "metadata": {},
   "outputs": [],
   "source": []
  }
 ],
 "metadata": {
  "kernelspec": {
   "display_name": "Python 3",
   "language": "python",
   "name": "python3"
  },
  "language_info": {
   "codemirror_mode": {
    "name": "ipython",
    "version": 3
   },
   "file_extension": ".py",
   "mimetype": "text/x-python",
   "name": "python",
   "nbconvert_exporter": "python",
   "pygments_lexer": "ipython3",
   "version": "3.11.11"
  }
 },
 "nbformat": 4,
 "nbformat_minor": 5
}
