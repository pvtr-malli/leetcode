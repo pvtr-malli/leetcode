{
 "cells": [
  {
   "cell_type": "markdown",
   "id": "5d754034",
   "metadata": {},
   "source": [
    "Given an integer array nums, return the number of longest increasing subsequences.\n",
    "\n",
    "Notice that the sequence has to be strictly increasing.\n",
    "\n",
    " \n",
    "\n",
    "Example 1:\n",
    "\n",
    "Input: nums = [1,3,5,4,7]\n",
    "Output: 2\n",
    "Explanation: The two longest increasing subsequences are [1, 3, 4, 7] and [1, 3, 5, 7].\n",
    "Example 2:\n",
    "\n",
    "Input: nums = [2,2,2,2,2]\n",
    "Output: 5\n",
    "Explanation: The length of the longest increasing subsequence is 1, and there are 5 increasing subsequences of length 1, so output 5.\n",
    " \n",
    "\n",
    "Constraints:\n",
    "\n",
    "1 <= nums.length <= 2000\n",
    "-106 <= nums[i] <= 106\n",
    "The answer is guaranteed to fit inside a 32-bit integer."
   ]
  },
  {
   "cell_type": "code",
   "execution_count": null,
   "id": "30ebab46",
   "metadata": {},
   "outputs": [],
   "source": [
    "# using a single dp array of len O(n):\n",
    "class Solution:\n",
    "    def findNumberOfLIS(self, nums):\n",
    "        n = len(nums)\n",
    "        maxi = 1\n",
    "        # dp[i] means the length of the longest increasing subsequence that ends with nums[i]\n",
    "        dp = [1] * n\n",
    "        # each number is a subsequence of length 1. so the count is 1 for default.\n",
    "        count = [1] * n\n",
    "\n",
    "        for i in range(0,n):\n",
    "            for prev_i in range(0, i):\n",
    "                if nums[i] > nums[prev_i] and dp[prev_i] + 1 > dp[i]:\n",
    "                    dp[i] = 1 + dp[prev_i]\n",
    "                    count[i] = count[prev_i]\n",
    "                elif nums[i] > nums[prev_i] and dp[prev_i] + 1 == dp[i]:\n",
    "                    count[i] += count[prev_i]\n",
    "            maxi = max(maxi, dp[i])\n",
    "        \n",
    "        # sum the counts of all the longest increasing subsequences.\n",
    "        total_count = 0\n",
    "        for i in range(0, n):\n",
    "            if dp[i] == maxi:\n",
    "                total_count += count[i]\n",
    "        return total_count\n",
    "# tc - O(n^2)\n",
    "# sc - O(n)"
   ]
  },
  {
   "cell_type": "code",
   "execution_count": null,
   "id": "c38d4e18",
   "metadata": {},
   "outputs": [
    {
     "data": {
      "text/plain": [
       "2"
      ]
     },
     "execution_count": 3,
     "metadata": {},
     "output_type": "execute_result"
    }
   ],
   "source": [
    "Solution().findNumberOfLIS(nums = [1,3,5,4,7])"
   ]
  },
  {
   "cell_type": "code",
   "execution_count": null,
   "id": "599ef830",
   "metadata": {},
   "outputs": [
    {
     "data": {
      "text/plain": [
       "5"
      ]
     },
     "execution_count": 4,
     "metadata": {},
     "output_type": "execute_result"
    }
   ],
   "source": [
    "Solution().findNumberOfLIS(nums = [2,2,2,2,2])"
   ]
  },
  {
   "cell_type": "code",
   "execution_count": null,
   "id": "2c9de187",
   "metadata": {},
   "outputs": [],
   "source": []
  }
 ],
 "metadata": {
  "kernelspec": {
   "display_name": "3.11.11",
   "language": "python",
   "name": "python3"
  },
  "language_info": {
   "codemirror_mode": {
    "name": "ipython",
    "version": 3
   },
   "file_extension": ".py",
   "mimetype": "text/x-python",
   "name": "python",
   "nbconvert_exporter": "python",
   "pygments_lexer": "ipython3",
   "version": "3.11.11"
  }
 },
 "nbformat": 4,
 "nbformat_minor": 5
}
