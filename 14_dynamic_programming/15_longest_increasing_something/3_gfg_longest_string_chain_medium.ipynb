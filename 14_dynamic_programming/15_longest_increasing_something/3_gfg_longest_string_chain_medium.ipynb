{
 "cells": [
  {
   "cell_type": "markdown",
   "id": "b77d25fa",
   "metadata": {},
   "source": [
    "You are given an array of words where each word consists of lowercase English letters.\n",
    "wordA is a predecessor of wordB if and only if we can insert exactly one letter anywhere in wordA without changing the order of the other characters to make it equal to wordB. For example, \"abc\" is a predecessor of \"abac\", while \"cba\" is not a predecessor of \"bcad\".\n",
    "\n",
    "A word chain is a sequence of words [word1, word2, ..., wordk] with k >= 1, where word1 is a predecessor of word2, word2 is a predecessor of word3, and so on. A single word is trivially a word chain with k = 1.\n",
    "\n",
    "Return the length of the longest possible word chain with words chosen from the given list of words in any order.\n",
    "\n",
    "Examples:\n",
    "\n",
    "Input: words[] = [\"ba\", \"b\", \"a\", \"bca\", \"bda\", \"bdca\"]\n",
    "Output: 4\n",
    "Explanation: One of the longest word chains is [\"a\", \"ba\", \"bda\", \"bdca\"].\n",
    "Input: words[] = [\"abc\", \"a\", \"ab\"]\n",
    "Output: 3\n",
    "Explanation: The longest chain is {\"a\", \"ab\" \"abc\"}\n",
    "Input: words[] = [\"abcd\", \"dbqca\"]\n",
    "Output: 1\n",
    "Explanation: The trivial word chain [\"abcd\"] is one of the longest word chains.\n",
    "Constraint:\n",
    "1 <= words.length <= 104\n",
    "1 <= words[i].length <= 10\n",
    " words[i] only consists of lowercase English letters."
   ]
  },
  {
   "cell_type": "code",
   "execution_count": null,
   "id": "60b3d1e8",
   "metadata": {},
   "outputs": [],
   "source": [
    "class Solution:\n",
    "    def longestStringChain(self, words):\n",
    "        n = len(words)\n",
    "        words = sorted(words, key=len)\n",
    "        maxi = 1\n",
    "        dp = [1] * n\n",
    "        for i in range(0,n):\n",
    "            # NOTE: we go through until i only, since we sorted the array.\n",
    "            for prev_i in range(0, i):\n",
    "                if self.compare(words[prev_i], words[i]) and dp[i] < 1+dp[prev_i]:\n",
    "                    dp[i] = 1+dp[prev_i]\n",
    "                    maxi = max(maxi, dp[i])\n",
    "        return maxi\n",
    "    \n",
    "    def compare(self, prev_word, cur_word):\n",
    "        # we make sure the char diff is only 1.\n",
    "        if len(prev_word) + 1 != len(cur_word):\n",
    "            return False\n",
    "        i, j = 0, 0\n",
    "        diff = 0\n",
    "        while i < len(prev_word) and j < len(cur_word):\n",
    "            # when they are not same, we move the cur_word pointer.\n",
    "            if prev_word[i] != cur_word[j]:\n",
    "                diff += 1\n",
    "                j += 1\n",
    "                if diff > 1:\n",
    "                    return False\n",
    "            else:\n",
    "                # when they are same, we move both pointers.\n",
    "                i += 1\n",
    "                j += 1\n",
    "        return True if diff <= 1 else False\n",
    "# tc - O(n log n) for sorting + O(n*n) doe for loop + l compre function => sum(2 words len)\n",
    "# sc - O(N)"
   ]
  }
 ],
 "metadata": {
  "language_info": {
   "name": "python"
  }
 },
 "nbformat": 4,
 "nbformat_minor": 5
}
