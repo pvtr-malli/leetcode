{
 "cells": [
  {
   "cell_type": "markdown",
   "id": "7ec66fa9",
   "metadata": {},
   "source": [
    "Given a set of distinct positive integers nums, return the largest subset answer such that every pair (answer[i], answer[j]) of elements in this subset satisfies:\n",
    "\n",
    "answer[i] % answer[j] == 0, or\n",
    "answer[j] % answer[i] == 0\n",
    "If there are multiple solutions, return any of them.\n",
    "\n",
    " \n",
    "\n",
    "Example 1:\n",
    "\n",
    "Input: nums = [1,2,3]\n",
    "Output: [1,2]\n",
    "Explanation: [1,3] is also accepted.\n",
    "Example 2:\n",
    "\n",
    "Input: nums = [1,2,4,8]\n",
    "Output: [1,2,4,8]\n",
    " \n",
    "\n",
    "Constraints:\n",
    "\n",
    "1 <= nums.length <= 1000\n",
    "1 <= nums[i] <= 2 * 109\n",
    "All the integers in nums are unique."
   ]
  },
  {
   "cell_type": "code",
   "execution_count": null,
   "id": "cbb88de5",
   "metadata": {},
   "outputs": [],
   "source": [
    "class Solution:\n",
    "    def largestDivisibleSubset(self, nums):\n",
    "        n = len(nums)\n",
    "        nums = sorted(nums)\n",
    "        maxi = 1\n",
    "        dp = [1] * n\n",
    "        # \n",
    "        hash_table = [0] * n\n",
    "        last_index = 0\n",
    "        for i in range(0,n):\n",
    "            hash_table[i] = i\n",
    "            for prev_i in range(0, i):\n",
    "                if nums[i] % nums[prev_i] == 0 and dp[i] < 1+dp[prev_i]:\n",
    "                    dp[i] = 1+dp[prev_i]\n",
    "                    # we are hashing for the current index, which is the previous index.\n",
    "                    hash_table[i] = prev_i\n",
    "            if dp[i] > maxi:\n",
    "                maxi = dp[i]\n",
    "                last_index = i\n",
    "\n",
    "        # get the list \n",
    "        ans = []\n",
    "        ans.append(nums[last_index])\n",
    "        while last_index != hash_table[last_index]:\n",
    "            last_index = hash_table[last_index]\n",
    "            ans.append(nums[last_index])\n",
    "        return list(reversed(ans))\n",
    "    \n",
    "# tc - O(n log n) for sorting + O(n*n) doe for loop + O(n) for reversing the array\n",
    "# sc - O(N)"
   ]
  }
 ],
 "metadata": {
  "language_info": {
   "name": "python"
  }
 },
 "nbformat": 4,
 "nbformat_minor": 5
}
