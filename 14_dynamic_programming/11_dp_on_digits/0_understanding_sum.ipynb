{
 "cells": [
  {
   "cell_type": "markdown",
   "id": "719ad3b1",
   "metadata": {},
   "source": [
    "Perfect 👍 Let’s pick a **very easy Digit DP problem** so the pattern becomes clear.\n",
    "\n",
    "---\n",
    "\n",
    "### Problem:\n",
    "\n",
    "👉 Count how many numbers ≤ `N` do **not contain the digit 7**.\n",
    "\n",
    "This is simple and helps you understand `tight`, `leading_zero`, and transitions.\n",
    "\n",
    "---\n",
    "\n",
    "### Step 1: Break into digits\n",
    "\n",
    "Suppose `N = 325`.\n",
    "Digits = `[3, 2, 5]`.\n",
    "We’ll process left to right.\n",
    "\n",
    "---\n",
    "\n",
    "### Step 2: State Definition\n",
    "\n",
    "We define our DP state as:\n",
    "\n",
    "```\n",
    "dp[pos][tight][leading_zero] = number of valid numbers from pos → end\n",
    "```\n",
    "\n",
    "* `pos`: current digit index we are processing.\n",
    "* `tight`: whether we are bound by N’s prefix (`1` = yes, `0` = free).\n",
    "* `leading_zero`: whether we are still placing leading zeros.\n",
    "\n",
    "---\n",
    "\n",
    "### Step 3: Transition\n",
    "\n",
    "* Choose digit `d` at this position.\n",
    "* Range: `0 → digits[pos]` if tight, else `0 → 9`.\n",
    "* If `d == 7`, skip (invalid).\n",
    "* Update:\n",
    "\n",
    "  * `new_tight = tight and (d == digits[pos])`\n",
    "  * `new_leading_zero = leading_zero and (d == 0)`\n",
    "\n",
    "---\n",
    "\n",
    "### Step 4: Base Case\n",
    "\n",
    "If we processed all digits (`pos == len(digits)`):\n",
    "\n",
    "* return `1` (valid number).\n",
    "\n",
    "\n",
    "\n"
   ]
  },
  {
   "cell_type": "markdown",
   "id": "2ddaff90",
   "metadata": {},
   "source": [
    "# Problem: Count how many numbers ≤ N do not contain digit 7."
   ]
  },
  {
   "cell_type": "code",
   "execution_count": 1,
   "id": "458bd04a",
   "metadata": {},
   "outputs": [],
   "source": [
    "def count_without_7_rec(n: int) -> int:\n",
    "    digits = list(map(int, str(n)))\n",
    "\n",
    "    def dfs(pos, tight, leading_zero):\n",
    "        # Base case: processed all digits.\n",
    "        if pos == len(digits):\n",
    "            # To tell its a valid number.\n",
    "            return 1\n",
    "\n",
    "        limit = digits[pos] if tight else 9\n",
    "        res = 0\n",
    "\n",
    "        for d in range(0, limit + 1):\n",
    "            if d == 7:\n",
    "                continue  # skip invalid digit\n",
    "            new_tight = tight and (d == limit)\n",
    "            # How when the number is 325, when we are at pos = 0 and d = 3. the next values also should be a tight.\n",
    "            new_leading_zero = leading_zero and (d == 0)\n",
    "            # leading zero, not used in this sum. but usedful later. keeping here to fullfil the logic.\n",
    "            res += dfs(pos + 1, new_tight, new_leading_zero)\n",
    "\n",
    "        return res\n",
    "\n",
    "    return dfs(0, True, True)\n"
   ]
  },
  {
   "cell_type": "code",
   "execution_count": null,
   "id": "b1d2cbf5",
   "metadata": {},
   "outputs": [
    {
     "data": {
      "text/plain": [
       "19"
      ]
     },
     "execution_count": 2,
     "metadata": {},
     "output_type": "execute_result"
    }
   ],
   "source": [
    "count_without_7_rec(20)\n",
    "# from 0 - 20 - there will be 19 numbers without having 7."
   ]
  },
  {
   "cell_type": "code",
   "execution_count": null,
   "id": "21468f82",
   "metadata": {},
   "outputs": [],
   "source": [
    "def count_without_7_bottomup(n: int) -> int:\n",
    "    digits = list(map(int, str(n)))\n",
    "    L = len(digits)\n",
    "\n",
    "    # dp[pos][tight][leading_zero]\n",
    "    dp = [[[0]*2 for _ in range(2)] for _ in range(L+1)] # one extra row for base case.\n",
    "    print(dp)\n",
    "\n",
    "    # Base case\n",
    "    for tight in range(2):\n",
    "        for leading_zero in range(2):\n",
    "            dp[L][tight][leading_zero] = 1  # setting all the last rows values to 1.\n",
    "    print(dp)\n",
    "\n",
    "    # [[[0, 0], [0, 0]], [[0, 0], [0, 0]], [[0, 0], [0, 0]], [[1, 1], [1, 1]]]\n",
    "    # for n = 200\n",
    "    # 3 - rows 2 cols 2 width\n",
    "\n",
    "    for pos in range(L-1, -1, -1):\n",
    "        for tight in range(2):\n",
    "            for leading_zero in range(2):\n",
    "                limit = digits[pos] if tight else 9\n",
    "                res = 0\n",
    "                for d in range(0, limit+1):\n",
    "                    if d == 7:\n",
    "                        continue\n",
    "                    new_tight = tight and (d == limit)\n",
    "                    new_leading_zero = leading_zero and (d == 0)\n",
    "                    res += dp[pos+1][new_tight][new_leading_zero]\n",
    "                dp[pos][tight][leading_zero] = res\n",
    "\n",
    "    return dp[0][1][1]\n",
    "\n",
    "# tc - o(pos * 2 * 2)\n",
    "# sc - o(pos * 2 * 2)"
   ]
  },
  {
   "cell_type": "code",
   "execution_count": 7,
   "id": "a830391e",
   "metadata": {},
   "outputs": [
    {
     "name": "stdout",
     "output_type": "stream",
     "text": [
      "[[[0, 0], [0, 0]], [[0, 0], [0, 0]], [[0, 0], [0, 0]], [[0, 0], [0, 0]]]\n",
      "[[[0, 0], [0, 0]], [[0, 0], [0, 0]], [[0, 0], [0, 0]], [[1, 1], [1, 1]]]\n"
     ]
    },
    {
     "data": {
      "text/plain": [
       "163"
      ]
     },
     "execution_count": 7,
     "metadata": {},
     "output_type": "execute_result"
    }
   ],
   "source": [
    "count_without_7_bottomup(200)"
   ]
  },
  {
   "cell_type": "code",
   "execution_count": 4,
   "id": "62e5a0c2",
   "metadata": {},
   "outputs": [
    {
     "data": {
      "text/plain": [
       "True"
      ]
     },
     "execution_count": 4,
     "metadata": {},
     "output_type": "execute_result"
    }
   ],
   "source": [
    "def rotate_number(p: str): # p :int \n",
    "\n",
    "    for i in range(len(p)):\n",
    "        if p[i] not in ['1', '0', '8']:\n",
    "            print(\"here\")\n",
    "            print(p[i], i)\n",
    "            return False\n",
    "    if p==p[::-1]:\n",
    "        return True\n",
    "    else:\n",
    "        print(\"here1\")\n",
    "        return False\n",
    "    \n",
    "rotate_number('818')"
   ]
  },
  {
   "cell_type": "code",
   "execution_count": null,
   "id": "48f11e61",
   "metadata": {},
   "outputs": [],
   "source": [
    "import dask.dataframe as dd\n",
    "import json\n",
    "import hashlib\n",
    "\n",
    "# Read partitioned parquet\n",
    "df = dd.read_parquet(\"s3://ew1-scmp-text-anonymizer-prd-system-sagemaker/anon-sms-data\")\n",
    "\n",
    "# Drop unnecessary columns\n",
    "df = df.drop(columns=[\"Message\", \"UrlArray\"])\n",
    "\n",
    "# Hash SenderId using SHA-256\n",
    "def hash_sender(sender):\n",
    "    if sender is None:\n",
    "        return None\n",
    "    return hashlib.sha256(str(sender).encode(\"utf-8\")).hexdigest()\n",
    "\n",
    "df[\"SenderId\"] = df[\"SenderId\"].map(hash_sender, meta=(\"SenderId\", \"str\"))\n",
    "\n",
    "# Process ExtractedFeatures: count lists, drop \"text\" & \"trusted_urls\"\n",
    "def process_features(val):\n",
    "    try:\n",
    "        d = val if isinstance(val, dict) else json.loads(val)\n",
    "    except Exception:\n",
    "        return \"{}\"\n",
    "    result = {}\n",
    "    for k, v in d.items():\n",
    "        if k in [\"text\", \"trusted_urls\"]:\n",
    "            continue\n",
    "        if isinstance(v, list):\n",
    "            result[k] = len(v)\n",
    "        else:\n",
    "            result[k] = v\n",
    "    return json.dumps(result)\n",
    "\n",
    "df[\"ExtractedFeatures\"] = df[\"ExtractedFeatures\"].map(\n",
    "    process_features, meta=(\"ExtractedFeatures\", \"str\")\n",
    ")\n",
    "\n",
    "# Extra safety: ensure column is strictly string (no dicts left)\n",
    "df[\"ExtractedFeatures\"] = df[\"ExtractedFeatures\"].astype(str)\n",
    "\n",
    "# Ensure UrlApiReputations is stored as JSON string\n",
    "df[\"UrlApiReputations\"] = df[\"UrlApiReputations\"].map(\n",
    "    lambda x: json.dumps(x) if isinstance(x, (list, tuple, dict)) else str(x),\n",
    "    meta=(\"UrlApiReputations\", \"str\")\n",
    ")\n",
    "\n",
    "df[\"UrlApiReputations\"] = df[\"UrlApiReputations\"].astype(str)\n",
    "\n",
    "# Write back as partitioned parquet\n",
    "df.to_parquet(\n",
    "    \"s3://ew1-scmp-text-anonymizer-prd-system-sagemaker/anon-sms-data-cleaned/\",\n",
    "    engine=\"pyarrow\",\n",
    "    partition_on=[\"month\", \"CreatedDate\"],\n",
    "    overwrite=True\n",
    ")\n",
    " "
   ]
  },
  {
   "cell_type": "code",
   "execution_count": null,
   "id": "caeec8ea",
   "metadata": {},
   "outputs": [],
   "source": []
  }
 ],
 "metadata": {
  "kernelspec": {
   "display_name": "3.11.11",
   "language": "python",
   "name": "python3"
  },
  "language_info": {
   "codemirror_mode": {
    "name": "ipython",
    "version": 3
   },
   "file_extension": ".py",
   "mimetype": "text/x-python",
   "name": "python",
   "nbconvert_exporter": "python",
   "pygments_lexer": "ipython3",
   "version": "3.11.11"
  }
 },
 "nbformat": 4,
 "nbformat_minor": 5
}
