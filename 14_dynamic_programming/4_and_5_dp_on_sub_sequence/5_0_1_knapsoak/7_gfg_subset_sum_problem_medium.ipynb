{
 "cells": [
  {
   "cell_type": "markdown",
   "id": "9c04c1db",
   "metadata": {},
   "source": [
    "Given an array of positive integers arr[] and a value sum, determine if there is a subset of arr[] with sum equal to given sum. \n",
    "\n",
    "Examples:\n",
    "\n",
    "Input: arr[] = [3, 34, 4, 12, 5, 2], sum = 9\n",
    "Output: true \n",
    "Explanation: Here there exists a subset with target sum = 9, 4+3+2 = 9.\n",
    "Input: arr[] = [3, 34, 4, 12, 5, 2], sum = 30\n",
    "Output: false\n",
    "Explanation: There is no subset with target sum 30.\n",
    "Input: arr[] = [1, 2, 3], sum = 6\n",
    "Output: true\n",
    "Explanation: The entire array can be taken as a subset, giving 1 + 2 + 3 = 6.\n",
    "Constraints:\n",
    "1 <= arr.size() <= 200\n",
    "1<= arr[i] <= 200\n",
    "1<= sum <= 104\n",
    "\n",
    "Expected Complexities\n",
    "Time Complexity: O(sum*n)\n",
    "Auxiliary Space: O(sum)"
   ]
  },
  {
   "cell_type": "code",
   "execution_count": 7,
   "id": "5e860d7b",
   "metadata": {},
   "outputs": [],
   "source": [
    "class Solution:\n",
    "    def isSubsetSum (self, arr, sum):\n",
    "        n = len(arr)\n",
    "        def recur(i, target):\n",
    "            \n",
    "            if target == 0:\n",
    "                return True\n",
    "            if i < 0:\n",
    "                return False\n",
    "            \n",
    "            not_take = recur(i - 1, target)\n",
    "            take = False\n",
    "            if arr[i] <= target:\n",
    "                take = recur(i - 1, target - arr[i])\n",
    "\n",
    "            return take or not_take\n",
    "\n",
    "        return recur(n-1, sum)\n",
    "    \n",
    "# t - (2 ^ n)\n",
    "# sc - O(n) for recursion stack\n",
    "        \n",
    "        "
   ]
  },
  {
   "cell_type": "code",
   "execution_count": 8,
   "id": "536e2b12",
   "metadata": {},
   "outputs": [
    {
     "data": {
      "text/plain": [
       "True"
      ]
     },
     "execution_count": 8,
     "metadata": {},
     "output_type": "execute_result"
    }
   ],
   "source": [
    "Solution().isSubsetSum([3, 34, 4, 12, 5, 2], sum = 9)"
   ]
  },
  {
   "cell_type": "code",
   "execution_count": 9,
   "id": "996836c4",
   "metadata": {},
   "outputs": [
    {
     "data": {
      "text/plain": [
       "False"
      ]
     },
     "execution_count": 9,
     "metadata": {},
     "output_type": "execute_result"
    }
   ],
   "source": [
    "Solution().isSubsetSum([3, 34, 4, 12, 5, 2], sum = 30)"
   ]
  },
  {
   "cell_type": "code",
   "execution_count": null,
   "id": "e261808a",
   "metadata": {},
   "outputs": [
    {
     "data": {
      "text/plain": [
       "True"
      ]
     },
     "execution_count": 10,
     "metadata": {},
     "output_type": "execute_result"
    }
   ],
   "source": [
    "Solution().isSubsetSum([1, 2, 3], sum = 6)"
   ]
  },
  {
   "cell_type": "code",
   "execution_count": 11,
   "id": "f6fbe1e6",
   "metadata": {},
   "outputs": [],
   "source": [
    "class Solution:\n",
    "    def isSubsetSum (self, arr, sum):\n",
    "        n = len(arr)\n",
    "        dp = [[False for _ in range(sum + 1)] for _ in range(n + 1)]\n",
    "        def recur(i, target):\n",
    "            if target == 0:\n",
    "                return True\n",
    "            if i < 0:\n",
    "                return False\n",
    "            \n",
    "            if dp[i][target] != False:\n",
    "                return dp[i][target]\n",
    "            \n",
    "            not_take = recur(i - 1, target)\n",
    "            take = False\n",
    "            if arr[i] <= target:\n",
    "                take = recur(i - 1, target - arr[i])\n",
    "\n",
    "            dp[i][target] =  take or not_take\n",
    "            return dp[i][target]\n",
    "\n",
    "        return recur(n-1, sum)\n",
    "    \n",
    "# t - (n * target)\n",
    "# sc - (n * target) + O(n) for recurssion stack\n",
    "        \n",
    "        "
   ]
  },
  {
   "cell_type": "code",
   "execution_count": 22,
   "id": "af0cb682",
   "metadata": {},
   "outputs": [],
   "source": [
    "# tabulation:\n",
    "\n",
    "class Solution:\n",
    "    def isSubsetSum (self, arr, sum):\n",
    "        n = len(arr)\n",
    "        dp = [[False for _ in range(sum + 1)] for _ in range(n + 1)]\n",
    "\n",
    "        # Base case:\n",
    "        for i in range(n):\n",
    "            dp[i][0] = True\n",
    "\n",
    "        # The code is having i-1, so we need to push the dp index by 1 right.\n",
    "        # so i-1 in code means i in dp.\n",
    "        for i in range(1, n+1):\n",
    "            for target in range(1, sum + 1):\n",
    "                print(i, target)\n",
    "            \n",
    "                not_take = dp[i - 1][target]\n",
    "                take = False\n",
    "                if arr[i-1] <= target:\n",
    "                    take = dp[i - 1][target - arr[i-1]]\n",
    "\n",
    "                dp[i][target] =  take or not_take\n",
    "\n",
    "        return dp[i][target]\n",
    "\n",
    "# t - (2 ^ n)\n",
    "# sc - O(n) for recursion stack\n",
    "        \n",
    "        "
   ]
  },
  {
   "cell_type": "code",
   "execution_count": 23,
   "id": "2de61450",
   "metadata": {},
   "outputs": [
    {
     "name": "stdout",
     "output_type": "stream",
     "text": [
      "1 1\n",
      "1 2\n",
      "1 3\n",
      "1 4\n",
      "1 5\n",
      "1 6\n",
      "1 7\n",
      "1 8\n",
      "1 9\n",
      "2 1\n",
      "2 2\n",
      "2 3\n",
      "2 4\n",
      "2 5\n",
      "2 6\n",
      "2 7\n",
      "2 8\n",
      "2 9\n",
      "3 1\n",
      "3 2\n",
      "3 3\n",
      "3 4\n",
      "3 5\n",
      "3 6\n",
      "3 7\n",
      "3 8\n",
      "3 9\n",
      "4 1\n",
      "4 2\n",
      "4 3\n",
      "4 4\n",
      "4 5\n",
      "4 6\n",
      "4 7\n",
      "4 8\n",
      "4 9\n",
      "5 1\n",
      "5 2\n",
      "5 3\n",
      "5 4\n",
      "5 5\n",
      "5 6\n",
      "5 7\n",
      "5 8\n",
      "5 9\n",
      "6 1\n",
      "6 2\n",
      "6 3\n",
      "6 4\n",
      "6 5\n",
      "6 6\n",
      "6 7\n",
      "6 8\n",
      "6 9\n"
     ]
    },
    {
     "data": {
      "text/plain": [
       "True"
      ]
     },
     "execution_count": 23,
     "metadata": {},
     "output_type": "execute_result"
    }
   ],
   "source": [
    "Solution().isSubsetSum([3, 34, 4, 12, 5, 2], sum = 9)"
   ]
  },
  {
   "cell_type": "code",
   "execution_count": 24,
   "id": "f9c98cc8",
   "metadata": {},
   "outputs": [
    {
     "name": "stdout",
     "output_type": "stream",
     "text": [
      "1 1\n",
      "1 2\n",
      "1 3\n",
      "1 4\n",
      "1 5\n",
      "1 6\n",
      "1 7\n",
      "1 8\n",
      "1 9\n",
      "1 10\n",
      "1 11\n",
      "1 12\n",
      "1 13\n",
      "1 14\n",
      "1 15\n",
      "1 16\n",
      "1 17\n",
      "1 18\n",
      "1 19\n",
      "1 20\n",
      "1 21\n",
      "1 22\n",
      "1 23\n",
      "1 24\n",
      "1 25\n",
      "1 26\n",
      "1 27\n",
      "1 28\n",
      "1 29\n",
      "1 30\n",
      "2 1\n",
      "2 2\n",
      "2 3\n",
      "2 4\n",
      "2 5\n",
      "2 6\n",
      "2 7\n",
      "2 8\n",
      "2 9\n",
      "2 10\n",
      "2 11\n",
      "2 12\n",
      "2 13\n",
      "2 14\n",
      "2 15\n",
      "2 16\n",
      "2 17\n",
      "2 18\n",
      "2 19\n",
      "2 20\n",
      "2 21\n",
      "2 22\n",
      "2 23\n",
      "2 24\n",
      "2 25\n",
      "2 26\n",
      "2 27\n",
      "2 28\n",
      "2 29\n",
      "2 30\n",
      "3 1\n",
      "3 2\n",
      "3 3\n",
      "3 4\n",
      "3 5\n",
      "3 6\n",
      "3 7\n",
      "3 8\n",
      "3 9\n",
      "3 10\n",
      "3 11\n",
      "3 12\n",
      "3 13\n",
      "3 14\n",
      "3 15\n",
      "3 16\n",
      "3 17\n",
      "3 18\n",
      "3 19\n",
      "3 20\n",
      "3 21\n",
      "3 22\n",
      "3 23\n",
      "3 24\n",
      "3 25\n",
      "3 26\n",
      "3 27\n",
      "3 28\n",
      "3 29\n",
      "3 30\n",
      "4 1\n",
      "4 2\n",
      "4 3\n",
      "4 4\n",
      "4 5\n",
      "4 6\n",
      "4 7\n",
      "4 8\n",
      "4 9\n",
      "4 10\n",
      "4 11\n",
      "4 12\n",
      "4 13\n",
      "4 14\n",
      "4 15\n",
      "4 16\n",
      "4 17\n",
      "4 18\n",
      "4 19\n",
      "4 20\n",
      "4 21\n",
      "4 22\n",
      "4 23\n",
      "4 24\n",
      "4 25\n",
      "4 26\n",
      "4 27\n",
      "4 28\n",
      "4 29\n",
      "4 30\n",
      "5 1\n",
      "5 2\n",
      "5 3\n",
      "5 4\n",
      "5 5\n",
      "5 6\n",
      "5 7\n",
      "5 8\n",
      "5 9\n",
      "5 10\n",
      "5 11\n",
      "5 12\n",
      "5 13\n",
      "5 14\n",
      "5 15\n",
      "5 16\n",
      "5 17\n",
      "5 18\n",
      "5 19\n",
      "5 20\n",
      "5 21\n",
      "5 22\n",
      "5 23\n",
      "5 24\n",
      "5 25\n",
      "5 26\n",
      "5 27\n",
      "5 28\n",
      "5 29\n",
      "5 30\n",
      "6 1\n",
      "6 2\n",
      "6 3\n",
      "6 4\n",
      "6 5\n",
      "6 6\n",
      "6 7\n",
      "6 8\n",
      "6 9\n",
      "6 10\n",
      "6 11\n",
      "6 12\n",
      "6 13\n",
      "6 14\n",
      "6 15\n",
      "6 16\n",
      "6 17\n",
      "6 18\n",
      "6 19\n",
      "6 20\n",
      "6 21\n",
      "6 22\n",
      "6 23\n",
      "6 24\n",
      "6 25\n",
      "6 26\n",
      "6 27\n",
      "6 28\n",
      "6 29\n",
      "6 30\n"
     ]
    },
    {
     "data": {
      "text/plain": [
       "False"
      ]
     },
     "execution_count": 24,
     "metadata": {},
     "output_type": "execute_result"
    }
   ],
   "source": [
    "Solution().isSubsetSum([3, 34, 4, 12, 5, 2], sum = 30)"
   ]
  },
  {
   "cell_type": "code",
   "execution_count": 25,
   "id": "f5430bc1",
   "metadata": {},
   "outputs": [
    {
     "name": "stdout",
     "output_type": "stream",
     "text": [
      "1 1\n",
      "1 2\n",
      "1 3\n",
      "1 4\n",
      "1 5\n",
      "1 6\n",
      "2 1\n",
      "2 2\n",
      "2 3\n",
      "2 4\n",
      "2 5\n",
      "2 6\n",
      "3 1\n",
      "3 2\n",
      "3 3\n",
      "3 4\n",
      "3 5\n",
      "3 6\n"
     ]
    },
    {
     "data": {
      "text/plain": [
       "True"
      ]
     },
     "execution_count": 25,
     "metadata": {},
     "output_type": "execute_result"
    }
   ],
   "source": [
    "Solution().isSubsetSum([1, 2, 3], sum = 6)"
   ]
  },
  {
   "cell_type": "code",
   "execution_count": null,
   "id": "c49ac7f9",
   "metadata": {},
   "outputs": [],
   "source": []
  }
 ],
 "metadata": {
  "kernelspec": {
   "display_name": "3.11.11",
   "language": "python",
   "name": "python3"
  },
  "language_info": {
   "codemirror_mode": {
    "name": "ipython",
    "version": 3
   },
   "file_extension": ".py",
   "mimetype": "text/x-python",
   "name": "python",
   "nbconvert_exporter": "python",
   "pygments_lexer": "ipython3",
   "version": "3.11.11"
  }
 },
 "nbformat": 4,
 "nbformat_minor": 5
}
