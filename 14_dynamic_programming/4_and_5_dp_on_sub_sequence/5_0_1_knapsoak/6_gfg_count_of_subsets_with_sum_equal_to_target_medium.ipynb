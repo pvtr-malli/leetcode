{
 "cells": [
  {
   "cell_type": "markdown",
   "id": "2a5aa31b",
   "metadata": {},
   "source": [
    "Given an array arr[] of length n and an integer target, the task is to find the number of subsets with a sum equal to target.\n",
    "\n",
    "Examples: \n",
    "\n",
    "Input: arr[] = [1, 2, 3, 3], target = 6 \n",
    "Output: 3 \n",
    "Explanation: All the possible subsets are [1, 2, 3], [1, 2, 3] and [3, 3]\n",
    "\n",
    "Input: arr[] = [1, 1, 1, 1], target = 1 \n",
    "Output: 4 \n",
    "Explanation: All the possible subsets are [1], [1], [1] and [1]"
   ]
  },
  {
   "cell_type": "code",
   "execution_count": null,
   "id": "c260c446",
   "metadata": {},
   "outputs": [
    {
     "ename": "IndentationError",
     "evalue": "unindent does not match any outer indentation level (<tokenize>, line 7)",
     "output_type": "error",
     "traceback": [
      "  \u001b[36mFile \u001b[39m\u001b[32m<tokenize>:7\u001b[39m\n\u001b[31m    \u001b[39m\u001b[31mif index == len(arr):\u001b[39m\n    ^\n\u001b[31mIndentationError\u001b[39m\u001b[31m:\u001b[39m unindent does not match any outer indentation level\n"
     ]
    }
   ],
   "source": [
    "# plain recurssion:\n",
    "\n",
    "#User function Template for python3\n",
    "class Solution:\n",
    "\tdef perfectSum(self, arr, target):\n",
    "\t\tdef dfs(index, cur_sum):\n",
    "            \n",
    "                if index == len(arr):\n",
    "                    if cur_sum == take:\n",
    "                        return 1\n",
    "                    return 0\n",
    "                \n",
    "                # Not take the current element\n",
    "                not_take = dfs(index + 1, cur_sum)\n",
    "                \n",
    "                # Take the current element if it doesn't exceed target\n",
    "                take = 0\n",
    "                if cur_sum + arr[index] <= target:\n",
    "                    take = dfs(index + 1, cur_sum + arr[index])\n",
    "            \n",
    "                return take + not_take\n",
    "\t\t\n",
    "        return dfs(0, 0)"
   ]
  },
  {
   "cell_type": "code",
   "execution_count": null,
   "id": "c8d1be62",
   "metadata": {},
   "outputs": [],
   "source": [
    "class Solution:\n",
    "    def perfectSum(self, arr, target):\n",
    "        def dfs(index, cur_sum):\n",
    "            if index == len(arr):\n",
    "                if cur_sum == take:\n",
    "                    return 1\n",
    "                return 0\n",
    "            \n",
    "            # Not take the current element\n",
    "            not_take = dfs(index + 1, cur_sum)\n",
    "            \n",
    "            # Take the current element if it doesn't exceed target\n",
    "            take = 0\n",
    "            if cur_sum + arr[index] <= target:\n",
    "                take = dfs(index + 1, cur_sum + arr[index])\n",
    "            \n",
    "            return take + not_take\n",
    "        \n",
    "        return dfs(0, 0)\n",
    "\n",
    "# tc - O(2^n)\n",
    "# sc - O(n) for recursion stack"
   ]
  },
  {
   "cell_type": "code",
   "execution_count": null,
   "id": "e277d7f0",
   "metadata": {},
   "outputs": [],
   "source": [
    "# memoization:\n",
    "\n",
    "class Solution:\n",
    "    def perfectSum(self, arr, target):\n",
    "        n = len(arr)\n",
    "        memo = {}\n",
    "\n",
    "        def dfs(index, cur_sum):\n",
    "            if index == n:\n",
    "                return 1 if cur_sum == target else 0\n",
    "            \n",
    "            if (index, cur_sum) in memo:\n",
    "                return memo[(index, cur_sum)]\n",
    "            \n",
    "            # Not take the current element\n",
    "            not_take = dfs(index + 1, cur_sum)\n",
    "            \n",
    "            # Take the current element if it doesn't exceed target\n",
    "            take = 0\n",
    "            if cur_sum + arr[index] <= target:\n",
    "                take = dfs(index + 1, cur_sum + arr[index])\n",
    "            \n",
    "            memo[(index, cur_sum)] = take + not_take\n",
    "            return memo[(index, cur_sum)]\n",
    "        \n",
    "        return dfs(0, 0)\n",
    "    \n",
    "# tc - O(n * target)\n",
    "# sc - O(n * target) for memoization table + O(n) for recursion stack"
   ]
  },
  {
   "cell_type": "code",
   "execution_count": null,
   "id": "ae06fa5d",
   "metadata": {},
   "outputs": [],
   "source": [
    "# tabulation:\n",
    "\n",
    "# dp[i][j] -  counts subsets using first i elements that sum to j.\n",
    "\n",
    "from typing import List\n",
    "class Solution:\n",
    "    def perfectSum(self, arr: List[int], target: int) -> int:\n",
    "        n = len(arr)\n",
    "        dp = [[0] * (target + 1) for _ in range(n + 1)]\n",
    "        \n",
    "        # Base case: There's one way to achieve sum 0 (by taking no elements)\n",
    "        for i in range(n + 1):\n",
    "            dp[i][0] = 1\n",
    "        \n",
    "        for i in range(1, n + 1):\n",
    "            for j in range(target + 1):\n",
    "                # Not take the current element\n",
    "                #. we dont wanna take this element, so we just take the previous count.\n",
    "                not_take = dp[i - 1][j]\n",
    "                \n",
    "                # Take the current element if it doesn't exceed target\n",
    "                take = 0\n",
    "                # if we want to take this element, we need to check if it is less than or equal to j.\n",
    "                # here the array is 0 indexed, so we need to subtract 1 from i.\n",
    "                if j >= arr[i - 1]:\n",
    "                    take = dp[i - 1][j - arr[i - 1]]\n",
    "                \n",
    "                dp[i][j] = take + not_take\n",
    "        \n",
    "        return dp[n][target]\n",
    "    \n",
    "# tc - O(n * target)\n",
    "# sc - O(n * target) for dp table"
   ]
  },
  {
   "cell_type": "markdown",
   "id": "d28155f5",
   "metadata": {},
   "source": []
  }
 ],
 "metadata": {
  "kernelspec": {
   "display_name": "3.11.11",
   "language": "python",
   "name": "python3"
  },
  "language_info": {
   "codemirror_mode": {
    "name": "ipython",
    "version": 3
   },
   "file_extension": ".py",
   "mimetype": "text/x-python",
   "name": "python",
   "nbconvert_exporter": "python",
   "pygments_lexer": "ipython3",
   "version": "3.11.11"
  }
 },
 "nbformat": 4,
 "nbformat_minor": 5
}
