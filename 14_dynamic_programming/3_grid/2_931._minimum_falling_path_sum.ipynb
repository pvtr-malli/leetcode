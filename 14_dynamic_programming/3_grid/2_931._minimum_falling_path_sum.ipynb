{
 "cells": [
  {
   "cell_type": "markdown",
   "id": "b501a97d",
   "metadata": {},
   "source": [
    "MEDIUM"
   ]
  },
  {
   "cell_type": "markdown",
   "id": "02ced164",
   "metadata": {},
   "source": [
    "Given an n x n array of integers matrix, return the minimum sum of any falling path through matrix.\n",
    "\n",
    "A falling path starts at any element in the first row and chooses the element in the next row that is either directly below or diagonally left/right. Specifically, the next element from position (row, col) will be (row + 1, col - 1), (row + 1, col), or (row + 1, col + 1).\n",
    "\n",
    " \n",
    "\n",
    "Example 1:\n",
    "\n",
    "\n",
    "Input: matrix = [[2,1,3],[6,5,4],[7,8,9]]\n",
    "Output: 13\n",
    "Explanation: There are two falling paths with a minimum sum as shown.\n",
    "Example 2:\n",
    "\n",
    "\n",
    "Input: matrix = [[-19,57],[-40,-5]]\n",
    "Output: -59\n",
    "Explanation: The falling path with a minimum sum is shown.\n"
   ]
  },
  {
   "cell_type": "code",
   "execution_count": 5,
   "id": "a3c8820a",
   "metadata": {},
   "outputs": [
    {
     "data": {
      "text/plain": [
       "-59"
      ]
     },
     "execution_count": 5,
     "metadata": {},
     "output_type": "execute_result"
    }
   ],
   "source": [
    "import sys\n",
    "class Solution:\n",
    "    def minFallingPathSum(self, matrix: list[list[int]]) -> int:\n",
    "        mini = sys.maxsize\n",
    "        row, col = len(matrix), len(matrix[0])\n",
    "        for j in range(col):\n",
    "            mini = min(mini, self.min_sum_path(matrix, 0,j, row, col))\n",
    "        return mini\n",
    "\n",
    "    def min_sum_path(self, arr, i, j, row, col):\n",
    "        if i < 0 or j < 0 or i > (row - 1) or j > (col - 1):\n",
    "            return sys.maxsize\n",
    "        if i == row - 1:\n",
    "            return arr[i][j]\n",
    "        \n",
    "        # Check all the possible options.\n",
    "        right_dig = self.min_sum_path(arr, i + 1, j -1, row, col)\n",
    "        down = self.min_sum_path(arr, i + 1, j, row, col)\n",
    "        left_dig = self.min_sum_path(arr, i + 1, j + 1, row, col)\n",
    "\n",
    "        return min(right_dig, down, left_dig) + arr[i][j]\n",
    "\n",
    "Solution().minFallingPathSum([[2,1,3],[6,5,4],[7,8,9]])\n",
    "Solution().minFallingPathSum([[-19,57],[-40,-5]])"
   ]
  },
  {
   "cell_type": "code",
   "execution_count": null,
   "id": "4644eb4f",
   "metadata": {},
   "outputs": [
    {
     "name": "stdout",
     "output_type": "stream",
     "text": [
      "[[-1, -1, -1], [13, -1, -1], [-1, -1, -1]]\n",
      "[[-1, -1, -1], [13, 12, -1], [-1, -1, -1]]\n",
      "[[14, -1, -1], [13, 12, -1], [-1, -1, -1]]\n",
      "[[-1, -1, -1], [13, -1, -1], [-1, -1, -1]]\n",
      "[[-1, -1, -1], [13, 12, -1], [-1, -1, -1]]\n",
      "[[-1, -1, -1], [13, 12, 12], [-1, -1, -1]]\n",
      "[[-1, 13, -1], [13, 12, 12], [-1, -1, -1]]\n",
      "[[-1, -1, -1], [-1, 12, -1], [-1, -1, -1]]\n",
      "[[-1, -1, -1], [-1, 12, 12], [-1, -1, -1]]\n",
      "[[-1, -1, 15], [-1, 12, 12], [-1, -1, -1]]\n",
      "13\n",
      "[[-59, -1], [-1, -1]]\n",
      "[[-1, 17], [-1, -1]]\n"
     ]
    },
    {
     "data": {
      "text/plain": [
       "-59"
      ]
     },
     "execution_count": 14,
     "metadata": {},
     "output_type": "execute_result"
    }
   ],
   "source": [
    "import sys\n",
    "class Solution:\n",
    "    def minFallingPathSum(self, matrix: list[list[int]]) -> int:\n",
    "        \n",
    "        mini = sys.maxsize\n",
    "        row, col = len(matrix), len(matrix[0])\n",
    "        \n",
    "        for j in range(col):\n",
    "            dp = [[-1] * col for _ in range(row)]\n",
    "            mini = min(mini, self.min_sum_path(matrix, 0,j, row, col, dp))\n",
    "        return mini\n",
    "\n",
    "    def min_sum_path(self, arr, i, j, row, col, dp):\n",
    "        if i < 0 or j < 0 or i > (row - 1) or j > (col - 1):\n",
    "            return sys.maxsize\n",
    "        if dp[i][j] != -1:\n",
    "            return dp[i][j]\n",
    "        \n",
    "        if i == row - 1:\n",
    "            return arr[i][j]\n",
    "        \n",
    "        # Check all the possible options.\n",
    "        right_dig = self.min_sum_path(arr, i + 1, j -1, row, col, dp)\n",
    "        down = self.min_sum_path(arr, i + 1, j, row, col, dp)\n",
    "        left_dig = self.min_sum_path(arr, i + 1, j + 1, row, col, dp)\n",
    "\n",
    "        dp[i][j] = min(right_dig, down, left_dig) + arr[i][j]\n",
    "        return dp[i][j]\n",
    "    \n",
    "print(Solution().minFallingPathSum([[2,1,3],[6,5,4],[7,8,9]]))\n",
    "Solution().minFallingPathSum([[-19,57],[-40,-5]])"
   ]
  },
  {
   "cell_type": "code",
   "execution_count": 34,
   "id": "b72773d4",
   "metadata": {},
   "outputs": [
    {
     "name": "stdout",
     "output_type": "stream",
     "text": [
      "1\n",
      "1 0\n",
      "[[2, 1, 3], [7, -1, -1], [-1, -1, -1]]\n",
      "1\n",
      "1 1\n",
      "[[2, 1, 3], [7, 6, -1], [-1, -1, -1]]\n",
      "1\n",
      "1 2\n",
      "[[2, 1, 3], [7, 6, 5], [-1, -1, -1]]\n",
      "6\n",
      "2 0\n",
      "[[2, 1, 3], [7, 6, 5], [13, -1, -1]]\n",
      "5\n",
      "2 1\n",
      "[[2, 1, 3], [7, 6, 5], [13, 13, -1]]\n",
      "5\n",
      "2 2\n",
      "[[2, 1, 3], [7, 6, 5], [13, 13, 14]]\n",
      "13\n",
      "-19\n",
      "1 0\n",
      "[[-19, 57], [-59, -1]]\n",
      "-19\n",
      "1 1\n",
      "[[-19, 57], [-59, -24]]\n"
     ]
    },
    {
     "data": {
      "text/plain": [
       "-59"
      ]
     },
     "execution_count": 34,
     "metadata": {},
     "output_type": "execute_result"
    }
   ],
   "source": [
    "# Tabulation.\n",
    "\n",
    "import sys\n",
    "class Solution:\n",
    "    def minFallingPathSum(self, matrix: list[list[int]]) -> int:\n",
    "        row, col = len(matrix), len(matrix[0])\n",
    "        dp = [[-1] * col for _ in range(row)]\n",
    "\n",
    "        for j in range(col):\n",
    "            dp[0][j] = matrix[0][j] \n",
    "        \n",
    "        # for loop.\n",
    "        for i in range(1, row):\n",
    "            for j in range(0, col):\n",
    "                up = dp[i - 1][j]\n",
    "                if j+1 < col:\n",
    "                    right_up = dp[i - 1][j + 1]\n",
    "                else:\n",
    "                    right_up = sys.maxsize\n",
    "                if j -1 >= 0:\n",
    "                    left_up = dp[i - 1][j - 1]\n",
    "                else:\n",
    "                    left_up = sys.maxsize\n",
    "                print( min(right_up, left_up, up))\n",
    "                dp[i][j] = min(right_up, left_up, up) + matrix[i][j]\n",
    "                print(i,j)\n",
    "                print(dp)\n",
    "\n",
    "        # return min of last line.\n",
    "        mini = sys.maxsize\n",
    "        for j in range(col):\n",
    "            mini = min(mini, dp[row-1][j])\n",
    "\n",
    "        return mini\n",
    "    \n",
    "\n",
    "print(Solution().minFallingPathSum([[2,1,3],[6,5,4],[7,8,9]]))\n",
    "Solution().minFallingPathSum([[-19,57],[-40,-5]])"
   ]
  },
  {
   "cell_type": "code",
   "execution_count": 35,
   "id": "1e53ceab",
   "metadata": {},
   "outputs": [
    {
     "name": "stdout",
     "output_type": "stream",
     "text": [
      "17\n",
      "1 0\n",
      "[[17, 82], [18, -1]]\n",
      "17\n",
      "1 1\n",
      "[[17, 82], [18, -27]]\n"
     ]
    },
    {
     "data": {
      "text/plain": [
       "-27"
      ]
     },
     "execution_count": 35,
     "metadata": {},
     "output_type": "execute_result"
    }
   ],
   "source": [
    "Solution().minFallingPathSum([[17,82],[1,-44]]\n",
    "\n",
    ")"
   ]
  },
  {
   "cell_type": "code",
   "execution_count": null,
   "id": "c6985e5b",
   "metadata": {},
   "outputs": [],
   "source": []
  }
 ],
 "metadata": {
  "kernelspec": {
   "display_name": "3.11.11",
   "language": "python",
   "name": "python3"
  },
  "language_info": {
   "codemirror_mode": {
    "name": "ipython",
    "version": 3
   },
   "file_extension": ".py",
   "mimetype": "text/x-python",
   "name": "python",
   "nbconvert_exporter": "python",
   "pygments_lexer": "ipython3",
   "version": "3.11.11"
  }
 },
 "nbformat": 4,
 "nbformat_minor": 5
}
