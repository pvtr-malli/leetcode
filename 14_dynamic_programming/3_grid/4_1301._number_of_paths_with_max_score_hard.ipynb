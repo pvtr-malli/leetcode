{
 "cells": [
  {
   "cell_type": "markdown",
   "id": "e7b8990c",
   "metadata": {},
   "source": [
    "You are given a square board of characters. You can move on the board starting at the bottom right square marked with the character 'S'.\n",
    "\n",
    "You need to reach the top left square marked with the character 'E'. The rest of the squares are labeled either with a numeric character 1, 2, ..., 9 or with an obstacle 'X'. In one move you can go up, left or up-left (diagonally) only if there is no obstacle there.\n",
    "\n",
    "Return a list of two integers: the first integer is the maximum sum of numeric characters you can collect, and the second is the number of such paths that you can take to get that maximum sum, taken modulo 10^9 + 7.\n",
    "\n",
    "In case there is no path, return [0, 0].\n",
    "\n",
    " \n",
    "\n",
    "Example 1:\n",
    "\n",
    "Input: board = [\"E23\",\"2X2\",\"12S\"]\n",
    "Output: [7,1]\n",
    "Example 2:\n",
    "\n",
    "Input: board = [\"E12\",\"1X1\",\"21S\"]\n",
    "Output: [4,2]\n",
    "Example 3:\n",
    "\n",
    "Input: board = [\"E11\",\"XXX\",\"11S\"]\n",
    "Output: [0,0]\n",
    " \n",
    "\n",
    "Constraints:\n",
    "\n",
    "2 <= board.length == board[i].length <= 100"
   ]
  },
  {
   "cell_type": "code",
   "execution_count": null,
   "id": "73ae9883",
   "metadata": {},
   "outputs": [
    {
     "name": "stdout",
     "output_type": "stream",
     "text": [
      "[[0, 2, 0], [0, 0, 0], [0, 0, 0]]\n",
      "count\n",
      "[[1, 0, 0], [0, 0, 0], [0, 0, 0]]\n",
      "count\n",
      "[[1, 0, 0], [0, 0, 0], [0, 0, 0]]\n",
      "count\n",
      "[[1, 1, 0], [0, 0, 0], [0, 0, 0]]\n",
      "[[0, 2, 5], [0, 0, 0], [0, 0, 0]]\n",
      "count\n",
      "[[1, 1, 1], [0, 0, 0], [0, 0, 0]]\n",
      "[[0, 2, 5], [2, 0, 0], [0, 0, 0]]\n",
      "count\n",
      "[[1, 1, 1], [1, 0, 0], [0, 0, 0]]\n",
      "count\n",
      "[[1, 1, 1], [1, 0, 0], [0, 0, 0]]\n",
      "[[0, 2, 5], [2, 0, 7], [0, 0, 0]]\n",
      "count\n",
      "[[1, 1, 1], [1, 0, 1], [0, 0, 0]]\n",
      "[[0, 2, 5], [2, 0, 7], [3, 0, 0]]\n",
      "count\n",
      "[[1, 1, 1], [1, 0, 1], [1, 0, 0]]\n",
      "[[0, 2, 5], [2, 0, 7], [3, 5, 0]]\n",
      "count\n",
      "[[1, 1, 1], [1, 0, 1], [1, 1, 0]]\n",
      "[[0, 2, 5], [2, 0, 7], [3, 5, 7]]\n",
      "count\n",
      "[[1, 1, 1], [1, 0, 1], [1, 1, 1]]\n"
     ]
    },
    {
     "data": {
      "text/plain": [
       "[7, 1]"
      ]
     },
     "execution_count": 40,
     "metadata": {},
     "output_type": "execute_result"
    }
   ],
   "source": [
    "import sys\n",
    "class Solution:\n",
    "    def get_up_value(self, i, j, dp, board):\n",
    "        if i - 1 >= 0:\n",
    "            if board[i - 1][j] == 'E':\n",
    "                up = 0\n",
    "            else:\n",
    "                up = int(dp[i - 1][j]) if board[i - 1][j] != \"X\" else -sys.maxsize\n",
    "        else:\n",
    "            up = -sys.maxsize\n",
    "        return up\n",
    "    \n",
    "    def get_left_value(self, i, j, dp, board):\n",
    "        if j - 1 >= 0:\n",
    "            if board[i][j - 1] == 'E':\n",
    "                up = 0\n",
    "            else:\n",
    "                up = int(dp[i][j - 1]) if board[i][j - 1] != \"X\" else -sys.maxsize\n",
    "        else:\n",
    "            up = -sys.maxsize\n",
    "        return up\n",
    "\n",
    "    def get_up_left_value(self, i, j, dp, board):\n",
    "        if (i -1 ) >= 0 and ((j - 1) >=0):\n",
    "            if board[i - 1][j - 1] == 'E':\n",
    "                up = 0\n",
    "            else:\n",
    "                up = int(dp[i - 1][j - 1]) if board[i - 1][j - 1] != \"X\" else -sys.maxsize\n",
    "        else:\n",
    "            up = -sys.maxsize\n",
    "        return up\n",
    "\n",
    "    def pathsWithMaxScore(self, board: list[str]) -> list[int]:\n",
    "        row, col = len(board), len(board[0])\n",
    "        dp = [[0] * col for _ in range(row)]\n",
    "        count = [[0] * col for _ in range(row)]\n",
    "        # set the base value for count.\n",
    "        count[0][0] = 1\n",
    "        for i in range(row):\n",
    "            for j in range(col):\n",
    "                \n",
    "                # Skip the place if it is a obtacle.\n",
    "                if board[i][j] == 'X' or board[i][j] == 'E':\n",
    "                    continue\n",
    "                up = self.get_up_value(i,j,dp, board)\n",
    "                left = self.get_left_value(i,j,dp, board)\n",
    "                up_left = self.get_up_left_value(i,j,dp, board)\n",
    "\n",
    "                dp[i][j] = max(up, left, up_left) + (int(board[i][j]) if board[i][j] != 'S' else 0)\n",
    "                print(dp)\n",
    "\n",
    "                # for the current max value, check is there any same value in the reachable places (up, left, left_dig).\n",
    "                # if so count it.\n",
    "                for dp_i, dp_j in [[i-1, j], [i-1, j-1], [i, j-1]]:\n",
    "                    if dp[dp_i][dp_j] == max(up, left, up_left) : # where the highest number present.\n",
    "                        count[i][j] += count[dp_i][dp_j]\n",
    "                        print(\"count\")\n",
    "                        print(count)\n",
    "\n",
    "        if count[row-1][col - 1] > 0: # this is very important since thre could be a bath in [\"EX\", \"XS\"].\n",
    "            return [dp[row - 1][col - 1], count[row-1][col-1] % (10**9+7)]\n",
    "        return [0,0]\n",
    "\n",
    "Solution().pathsWithMaxScore([\"E23\",\"2X2\",\"12S\"])\n",
    "\n"
   ]
  },
  {
   "cell_type": "code",
   "execution_count": 41,
   "id": "5c8c3185",
   "metadata": {},
   "outputs": [
    {
     "name": "stdout",
     "output_type": "stream",
     "text": [
      "[[0, 1, 0], [0, 0, 0], [0, 0, 0]]\n",
      "count\n",
      "[[1, 0, 0], [0, 0, 0], [0, 0, 0]]\n",
      "count\n",
      "[[1, 0, 0], [0, 0, 0], [0, 0, 0]]\n",
      "count\n",
      "[[1, 1, 0], [0, 0, 0], [0, 0, 0]]\n",
      "[[0, 1, 3], [0, 0, 0], [0, 0, 0]]\n",
      "count\n",
      "[[1, 1, 1], [0, 0, 0], [0, 0, 0]]\n",
      "[[0, 1, 3], [1, 0, 0], [0, 0, 0]]\n",
      "count\n",
      "[[1, 1, 1], [1, 0, 0], [0, 0, 0]]\n",
      "count\n",
      "[[1, 1, 1], [1, 0, 0], [0, 0, 0]]\n",
      "[[0, 1, 3], [1, 0, 4], [0, 0, 0]]\n",
      "count\n",
      "[[1, 1, 1], [1, 0, 1], [0, 0, 0]]\n",
      "[[0, 1, 3], [1, 0, 4], [3, 0, 0]]\n",
      "count\n",
      "[[1, 1, 1], [1, 0, 1], [1, 0, 0]]\n",
      "[[0, 1, 3], [1, 0, 4], [3, 4, 0]]\n",
      "count\n",
      "[[1, 1, 1], [1, 0, 1], [1, 1, 0]]\n",
      "[[0, 1, 3], [1, 0, 4], [3, 4, 4]]\n",
      "count\n",
      "[[1, 1, 1], [1, 0, 1], [1, 1, 1]]\n",
      "count\n",
      "[[1, 1, 1], [1, 0, 1], [1, 1, 2]]\n"
     ]
    },
    {
     "data": {
      "text/plain": [
       "[4, 2]"
      ]
     },
     "execution_count": 41,
     "metadata": {},
     "output_type": "execute_result"
    }
   ],
   "source": [
    "Solution().pathsWithMaxScore([\"E12\",\"1X1\",\"21S\"])"
   ]
  },
  {
   "cell_type": "code",
   "execution_count": 42,
   "id": "302f2e68",
   "metadata": {},
   "outputs": [
    {
     "name": "stdout",
     "output_type": "stream",
     "text": [
      "[[0, 1, 0], [0, 0, 0], [0, 0, 0]]\n",
      "count\n",
      "[[1, 0, 0], [0, 0, 0], [0, 0, 0]]\n",
      "count\n",
      "[[1, 0, 0], [0, 0, 0], [0, 0, 0]]\n",
      "count\n",
      "[[1, 1, 0], [0, 0, 0], [0, 0, 0]]\n",
      "[[0, 1, 2], [0, 0, 0], [0, 0, 0]]\n",
      "count\n",
      "[[1, 1, 1], [0, 0, 0], [0, 0, 0]]\n",
      "[[0, 1, 2], [0, 0, 0], [-9223372036854775806, 0, 0]]\n",
      "[[0, 1, 2], [0, 0, 0], [-9223372036854775806, -9223372036854775805, 0]]\n",
      "count\n",
      "[[1, 1, 1], [0, 0, 0], [0, 0, 0]]\n",
      "[[0, 1, 2], [0, 0, 0], [-9223372036854775806, -9223372036854775805, -9223372036854775805]]\n",
      "count\n",
      "[[1, 1, 1], [0, 0, 0], [0, 0, 0]]\n"
     ]
    },
    {
     "data": {
      "text/plain": [
       "[0, 0]"
      ]
     },
     "execution_count": 42,
     "metadata": {},
     "output_type": "execute_result"
    }
   ],
   "source": [
    "Solution().pathsWithMaxScore([\"E11\",\"XXX\",\"11S\"])"
   ]
  },
  {
   "cell_type": "code",
   "execution_count": 43,
   "id": "81a8b05b",
   "metadata": {},
   "outputs": [
    {
     "name": "stdout",
     "output_type": "stream",
     "text": [
      "[[0, 0], [0, 0]]\n",
      "count\n",
      "[[1, 0], [0, 0]]\n",
      "count\n",
      "[[1, 0], [0, 1]]\n",
      "count\n",
      "[[1, 0], [0, 1]]\n"
     ]
    },
    {
     "data": {
      "text/plain": [
       "[0, 1]"
      ]
     },
     "execution_count": 43,
     "metadata": {},
     "output_type": "execute_result"
    }
   ],
   "source": [
    "Solution().pathsWithMaxScore([\"EX\",\"XS\"])"
   ]
  },
  {
   "cell_type": "code",
   "execution_count": null,
   "id": "109d4ad5",
   "metadata": {},
   "outputs": [
    {
     "name": "stdout",
     "output_type": "stream",
     "text": [
      "[[0, 2, 0, 0, 0], [0, 0, 0, 0, 0], [0, 0, 0, 0, 0], [0, 0, 0, 0, 0], [0, 0, 0, 0, 0]]\n",
      "count\n",
      "[[1, 0, 0, 0, 0], [0, 0, 0, 0, 0], [0, 0, 0, 0, 0], [0, 0, 0, 0, 0], [0, 0, 0, 0, 0]]\n",
      "count\n",
      "[[1, 0, 0, 0, 0], [0, 0, 0, 0, 0], [0, 0, 0, 0, 0], [0, 0, 0, 0, 0], [0, 0, 0, 0, 0]]\n",
      "count\n",
      "[[1, 1, 0, 0, 0], [0, 0, 0, 0, 0], [0, 0, 0, 0, 0], [0, 0, 0, 0, 0], [0, 0, 0, 0, 0]]\n",
      "[[0, 2, 5, 0, 0], [0, 0, 0, 0, 0], [0, 0, 0, 0, 0], [0, 0, 0, 0, 0], [0, 0, 0, 0, 0]]\n",
      "count\n",
      "[[1, 1, 1, 0, 0], [0, 0, 0, 0, 0], [0, 0, 0, 0, 0], [0, 0, 0, 0, 0], [0, 0, 0, 0, 0]]\n",
      "[[0, 2, 5, 0, 0], [2, 0, 0, 0, 0], [0, 0, 0, 0, 0], [0, 0, 0, 0, 0], [0, 0, 0, 0, 0]]\n",
      "count\n",
      "[[1, 1, 1, 0, 0], [1, 0, 0, 0, 0], [0, 0, 0, 0, 0], [0, 0, 0, 0, 0], [0, 0, 0, 0, 0]]\n",
      "count\n",
      "[[1, 1, 1, 0, 0], [1, 0, 0, 0, 0], [0, 0, 0, 0, 0], [0, 0, 0, 0, 0], [0, 0, 0, 0, 0]]\n",
      "count\n",
      "[[1, 1, 1, 0, 0], [1, 0, 0, 0, 0], [0, 0, 0, 0, 0], [0, 0, 0, 0, 0], [0, 0, 0, 0, 0]]\n",
      "[[0, 2, 5, 0, 0], [2, 0, 7, 0, 0], [0, 0, 0, 0, 0], [0, 0, 0, 0, 0], [0, 0, 0, 0, 0]]\n",
      "count\n",
      "[[1, 1, 1, 0, 0], [1, 0, 1, 0, 0], [0, 0, 0, 0, 0], [0, 0, 0, 0, 0], [0, 0, 0, 0, 0]]\n",
      "[[0, 2, 5, 0, 0], [2, 0, 7, 0, 0], [3, 0, 0, 0, 0], [0, 0, 0, 0, 0], [0, 0, 0, 0, 0]]\n",
      "count\n",
      "[[1, 1, 1, 0, 0], [1, 0, 1, 0, 0], [1, 0, 0, 0, 0], [0, 0, 0, 0, 0], [0, 0, 0, 0, 0]]\n",
      "[[0, 2, 5, 0, 0], [2, 0, 7, 0, 0], [3, 5, 0, 0, 0], [0, 0, 0, 0, 0], [0, 0, 0, 0, 0]]\n",
      "count\n",
      "[[1, 1, 1, 0, 0], [1, 0, 1, 0, 0], [1, 1, 0, 0, 0], [0, 0, 0, 0, 0], [0, 0, 0, 0, 0]]\n",
      "[[0, 2, 5, 0, 0], [2, 0, 7, 0, 0], [3, 5, 7, 0, 0], [0, 0, 0, 0, 0], [0, 0, 0, 0, 0]]\n",
      "count\n",
      "[[1, 1, 1, 0, 0], [1, 0, 1, 0, 0], [1, 1, 1, 0, 0], [0, 0, 0, 0, 0], [0, 0, 0, 0, 0]]\n"
     ]
    },
    {
     "data": {
      "text/plain": [
       "[7, 1]"
      ]
     },
     "execution_count": 47,
     "metadata": {},
     "output_type": "execute_result"
    }
   ],
   "source": [
    "import sys\n",
    "class Solution:\n",
    "\n",
    "    def pathsWithMaxScore(self, board: list[str]) -> list[int]:\n",
    "        row, col = len(board), len(board[0])\n",
    "        dp = [[0] * (col + 2) for _ in range(row + 2)]  # now even it access the [-1] index in row or col. it will just see 0. So no problem.\n",
    "        count = [[0] * (col + 2) for _ in range(row + 2)]\n",
    "        # set the base value for count.\n",
    "        count[0][0] = 1\n",
    "        for i in range(row):\n",
    "            for j in range(col):\n",
    "                \n",
    "                # Skip the place if it is a obtacle.\n",
    "                if board[i][j] == 'X' or board[i][j] == 'E':\n",
    "                    continue\n",
    "                up = int(dp[i - 1][j])# self.get_up_value(i,j,dp, board)\n",
    "                left = int(dp[i][j - 1]) # self.get_left_value(i,j,dp, board)\n",
    "                up_left = int(dp[i - 1][j - 1])# self.get_up_left_value(i,j,dp, board)\n",
    "\n",
    "                dp[i][j] = max(up, left, up_left) + (int(board[i][j]) if board[i][j] != 'S' else 0)\n",
    "                print(dp)\n",
    "\n",
    "                # for the current max value, check is there any same value in the reachable places (up, left, left_dig).\n",
    "                # if so count it.\n",
    "                for dp_i, dp_j in [[i-1, j], [i-1, j-1], [i, j-1]]:\n",
    "                    if dp[dp_i][dp_j] == max(up, left, up_left) : # where the highest number present.\n",
    "                        count[i][j] += count[dp_i][dp_j]\n",
    "                        print(\"count\")\n",
    "                        print(count)\n",
    "\n",
    "        if count[row-1][col - 1] > 0: # this is very important since thre could be a bath in [\"EX\", \"XS\"].\n",
    "            return [dp[row - 1][col - 1], count[row-1][col-1] % (10**9+7)]\n",
    "        return [0,0]\n",
    "\n",
    "Solution().pathsWithMaxScore([\"E23\",\"2X2\",\"12S\"])\n",
    "\n"
   ]
  },
  {
   "cell_type": "code",
   "execution_count": 48,
   "id": "d1937196",
   "metadata": {},
   "outputs": [
    {
     "name": "stdout",
     "output_type": "stream",
     "text": [
      "[[0, 1, 0, 0, 0], [0, 0, 0, 0, 0], [0, 0, 0, 0, 0], [0, 0, 0, 0, 0], [0, 0, 0, 0, 0]]\n",
      "count\n",
      "[[1, 0, 0, 0, 0], [0, 0, 0, 0, 0], [0, 0, 0, 0, 0], [0, 0, 0, 0, 0], [0, 0, 0, 0, 0]]\n",
      "count\n",
      "[[1, 0, 0, 0, 0], [0, 0, 0, 0, 0], [0, 0, 0, 0, 0], [0, 0, 0, 0, 0], [0, 0, 0, 0, 0]]\n",
      "count\n",
      "[[1, 1, 0, 0, 0], [0, 0, 0, 0, 0], [0, 0, 0, 0, 0], [0, 0, 0, 0, 0], [0, 0, 0, 0, 0]]\n",
      "[[0, 1, 3, 0, 0], [0, 0, 0, 0, 0], [0, 0, 0, 0, 0], [0, 0, 0, 0, 0], [0, 0, 0, 0, 0]]\n",
      "count\n",
      "[[1, 1, 1, 0, 0], [0, 0, 0, 0, 0], [0, 0, 0, 0, 0], [0, 0, 0, 0, 0], [0, 0, 0, 0, 0]]\n",
      "[[0, 1, 3, 0, 0], [1, 0, 0, 0, 0], [0, 0, 0, 0, 0], [0, 0, 0, 0, 0], [0, 0, 0, 0, 0]]\n",
      "count\n",
      "[[1, 1, 1, 0, 0], [1, 0, 0, 0, 0], [0, 0, 0, 0, 0], [0, 0, 0, 0, 0], [0, 0, 0, 0, 0]]\n",
      "count\n",
      "[[1, 1, 1, 0, 0], [1, 0, 0, 0, 0], [0, 0, 0, 0, 0], [0, 0, 0, 0, 0], [0, 0, 0, 0, 0]]\n",
      "count\n",
      "[[1, 1, 1, 0, 0], [1, 0, 0, 0, 0], [0, 0, 0, 0, 0], [0, 0, 0, 0, 0], [0, 0, 0, 0, 0]]\n",
      "[[0, 1, 3, 0, 0], [1, 0, 4, 0, 0], [0, 0, 0, 0, 0], [0, 0, 0, 0, 0], [0, 0, 0, 0, 0]]\n",
      "count\n",
      "[[1, 1, 1, 0, 0], [1, 0, 1, 0, 0], [0, 0, 0, 0, 0], [0, 0, 0, 0, 0], [0, 0, 0, 0, 0]]\n",
      "[[0, 1, 3, 0, 0], [1, 0, 4, 0, 0], [3, 0, 0, 0, 0], [0, 0, 0, 0, 0], [0, 0, 0, 0, 0]]\n",
      "count\n",
      "[[1, 1, 1, 0, 0], [1, 0, 1, 0, 0], [1, 0, 0, 0, 0], [0, 0, 0, 0, 0], [0, 0, 0, 0, 0]]\n",
      "[[0, 1, 3, 0, 0], [1, 0, 4, 0, 0], [3, 4, 0, 0, 0], [0, 0, 0, 0, 0], [0, 0, 0, 0, 0]]\n",
      "count\n",
      "[[1, 1, 1, 0, 0], [1, 0, 1, 0, 0], [1, 1, 0, 0, 0], [0, 0, 0, 0, 0], [0, 0, 0, 0, 0]]\n",
      "[[0, 1, 3, 0, 0], [1, 0, 4, 0, 0], [3, 4, 4, 0, 0], [0, 0, 0, 0, 0], [0, 0, 0, 0, 0]]\n",
      "count\n",
      "[[1, 1, 1, 0, 0], [1, 0, 1, 0, 0], [1, 1, 1, 0, 0], [0, 0, 0, 0, 0], [0, 0, 0, 0, 0]]\n",
      "count\n",
      "[[1, 1, 1, 0, 0], [1, 0, 1, 0, 0], [1, 1, 2, 0, 0], [0, 0, 0, 0, 0], [0, 0, 0, 0, 0]]\n"
     ]
    },
    {
     "data": {
      "text/plain": [
       "[4, 2]"
      ]
     },
     "execution_count": 48,
     "metadata": {},
     "output_type": "execute_result"
    }
   ],
   "source": [
    "Solution().pathsWithMaxScore([\"E12\",\"1X1\",\"21S\"])"
   ]
  },
  {
   "cell_type": "code",
   "execution_count": 53,
   "id": "4bd85f58",
   "metadata": {},
   "outputs": [
    {
     "data": {
      "text/plain": [
       "7"
      ]
     },
     "execution_count": 53,
     "metadata": {},
     "output_type": "execute_result"
    }
   ],
   "source": [
    "dp = [[0, 1, 3, 0, 7], [1, 0, 4, 0, 0], [3, 4, 0, 0, 0], [0, 0, 0, 0, 0], [0, 0, 0, 0, 0]]\n",
    "dp[0][-1]"
   ]
  },
  {
   "cell_type": "code",
   "execution_count": null,
   "id": "ed4dfc42",
   "metadata": {},
   "outputs": [],
   "source": []
  }
 ],
 "metadata": {
  "kernelspec": {
   "display_name": "3.11.11",
   "language": "python",
   "name": "python3"
  },
  "language_info": {
   "codemirror_mode": {
    "name": "ipython",
    "version": 3
   },
   "file_extension": ".py",
   "mimetype": "text/x-python",
   "name": "python",
   "nbconvert_exporter": "python",
   "pygments_lexer": "ipython3",
   "version": "3.11.11"
  }
 },
 "nbformat": 4,
 "nbformat_minor": 5
}
