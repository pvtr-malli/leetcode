{
 "cells": [
  {
   "cell_type": "markdown",
   "id": "00680fba",
   "metadata": {},
   "source": [
    "HARD\n"
   ]
  },
  {
   "cell_type": "markdown",
   "id": "2d3fbce7",
   "metadata": {},
   "source": [
    "Given an n x n integer matrix grid, return the minimum sum of a falling path with non-zero shifts.\n",
    "\n",
    "A falling path with non-zero shifts is a choice of exactly one element from each row of grid such that no two elements chosen in adjacent rows are in the same column.\n",
    "\n",
    " \n",
    "\n",
    "Example 1:\n",
    "\n",
    "\n",
    "Input: grid = [[1,2,3],[4,5,6],[7,8,9]]\n",
    "Output: 13\n",
    "Explanation: \n",
    "The possible falling paths are:\n",
    "[1,5,9], [1,5,7], [1,6,7], [1,6,8],\n",
    "[2,4,8], [2,4,9], [2,6,7], [2,6,8],\n",
    "[3,4,8], [3,4,9], [3,5,7], [3,5,9]\n",
    "The falling path with the smallest sum is [1,5,7], so the answer is 13.\n",
    "Example 2:\n",
    "\n",
    "Input: grid = [[7]]\n",
    "Output: 7"
   ]
  },
  {
   "cell_type": "code",
   "execution_count": null,
   "id": "d90fed1b",
   "metadata": {},
   "outputs": [],
   "source": [
    "class Solution:\n",
    "    def minFallingPathSum(self, grid: List[List[int]]) -> int:\n",
    "        n = len(grid)\n",
    "        dp = [[0] * n for _ in range(n)]\n",
    "\n",
    "        # Base case: first row is same as grid's first row\n",
    "        for j in range(n):\n",
    "            dp[0][j] = grid[0][j]\n",
    "\n",
    "        # Fill the dp table from top to bottom\n",
    "        for i in range(1, n):\n",
    "            for j in range(n):\n",
    "                min_above = float('inf')\n",
    "                for k in range(n):\n",
    "                    if k != j:  # ensure column shift\n",
    "                        min_above = min(min_above, dp[i - 1][k])\n",
    "                dp[i][j] = grid[i][j] + min_above\n",
    "\n",
    "        # The answer is the minimum in the last row\n",
    "        return min(dp[n - 1])\n",
    "\n",
    "\n",
    "\n",
    "# This is a \n",
    "# tc - O(n^3)\n",
    "# sc - O(n^2)\n"
   ]
  },
  {
   "cell_type": "markdown",
   "id": "76f1cb60",
   "metadata": {},
   "source": [
    "# Approach\n",
    "- Iterate through the array from the second last row through every column until the top.\n",
    "\n",
    "- For each row to be updated, find two minimum values from the below row. You need to find two minimums, as you can't pick the path right below them.\n",
    "\n",
    "- So, the find2min function does our work; it returns min1 and min2, which have the 1st and 2nd minimum values in the row right below them.\n",
    "\n",
    "- So for each iteration through the row, I check whether the path right below it is min1. If yes, I will increment the grid[i][j] by the min2 value; otherwise, I'll increment it by min1.\n",
    "```\n",
    "if grid[i+1][j]==min1:\n",
    "    grid[i][j]+=min2\n",
    "else:\n",
    "    grid[i][j]+=min1\n",
    "```\n",
    "- So, after the iteration is completed for that row, it moves on to the next row above it, and so on until it reaches the top row.\n",
    "\n",
    "- Finally, once it iterates through the top row, the loop will exit, and we will return the minimum value in the top row, which is the grid[0] row."
   ]
  },
  {
   "cell_type": "code",
   "execution_count": null,
   "id": "55627775",
   "metadata": {},
   "outputs": [],
   "source": [
    "# optimization is the hard problem this is.\n",
    "import sys\n",
    "class Solution:\n",
    "    def minFallingPathSum(self, grid: List[List[int]]) -> int:\n",
    "        n = len(grid)\n",
    "\n",
    "        def find2min(p):\n",
    "            min1=min2= sys.maxsize\n",
    "            for num in grid[p]:\n",
    "                if num < min1:\n",
    "                    min2 = min1\n",
    "                    min1 = num\n",
    "                elif num < min2:\n",
    "                    min2 = num\n",
    "            return min1,min2\n",
    "\n",
    "\n",
    "        for i in range(n-2,-1,-1):\n",
    "            min1,min2 = find2min(i+1)\n",
    "            for j in range(n):\n",
    "                if grid[i+1][j]==min1:\n",
    "                    grid[i][j]+=min2\n",
    "                else:\n",
    "                    grid[i][j]+=min1\n",
    "         \n",
    "        return min(grid[0])"
   ]
  }
 ],
 "metadata": {
  "kernelspec": {
   "display_name": "3.11.11",
   "language": "python",
   "name": "python3"
  },
  "language_info": {
   "name": "python",
   "version": "3.11.11"
  }
 },
 "nbformat": 4,
 "nbformat_minor": 5
}
