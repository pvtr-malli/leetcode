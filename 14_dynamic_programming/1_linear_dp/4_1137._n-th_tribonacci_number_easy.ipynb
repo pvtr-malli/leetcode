{
 "cells": [
  {
   "cell_type": "markdown",
   "id": "fac1e76e",
   "metadata": {},
   "source": [
    "The Tribonacci sequence Tn is defined as follows: \n",
    "\n",
    "T0 = 0, T1 = 1, T2 = 1, and Tn+3 = Tn + Tn+1 + Tn+2 for n >= 0.\n",
    "\n",
    "Given n, return the value of Tn.\n",
    "\n",
    " \n",
    "\n",
    "Example 1:\n",
    "\n",
    "Input: n = 4\n",
    "Output: 4\n",
    "Explanation:\n",
    "T_3 = 0 + 1 + 1 = 2\n",
    "T_4 = 1 + 1 + 2 = 4\n",
    "Example 2:\n",
    "\n",
    "Input: n = 25\n",
    "Output: 1389537\n",
    " \n",
    "\n",
    "Constraints:\n",
    "\n",
    "0 <= n <= 37\n",
    "The answer is guaranteed to fit within a 32-bit integer, ie. answer <= 2^31 - 1."
   ]
  },
  {
   "cell_type": "code",
   "execution_count": null,
   "id": "afa979b3",
   "metadata": {},
   "outputs": [],
   "source": [
    "class Solution:\n",
    "    def tribonacci(self, n: int) -> int:\n",
    "        a = 0  # Initialize the first term of the sequence\n",
    "        b = 1  # Initialize the second term of the sequence\n",
    "        c = 1  # Initialize the third term of the sequence\n",
    "        if n == 0:\n",
    "            return 0  # If n is 0, return the first term\n",
    "        if n == 1 or n == 2:\n",
    "            return 1  # If n is 1 or 2, return the second or third term respectively\n",
    "        for i in range(3, n+1):  # Start the loop from the third term\n",
    "            d = a + b + c  # Calculate the next term in the sequence\n",
    "            a = b  # Update the value of a\n",
    "            b = c  # Update the value of b\n",
    "            c = d  # Update the value of c\n",
    "        return d  # Return the nth term"
   ]
  }
 ],
 "metadata": {
  "language_info": {
   "name": "python"
  }
 },
 "nbformat": 4,
 "nbformat_minor": 5
}
