{
 "cells": [
  {
   "cell_type": "markdown",
   "id": "7f666757",
   "metadata": {},
   "source": [
    "Given an integer array nums, find the subarray with the largest sum, and return its sum.\n",
    "\n",
    " \n",
    "\n",
    "Example 1:\n",
    "\n",
    "Input: nums = [-2,1,-3,4,-1,2,1,-5,4]\n",
    "Output: 6\n",
    "Explanation: The subarray [4,-1,2,1] has the largest sum 6.\n",
    "Example 2:\n",
    "\n",
    "Input: nums = [1]\n",
    "Output: 1\n",
    "Explanation: The subarray [1] has the largest sum 1.\n",
    "Example 3:\n",
    "\n",
    "Input: nums = [5,4,-1,7,8]\n",
    "Output: 23\n",
    "Explanation: The subarray [5,4,-1,7,8] has the largest sum 23.\n",
    " \n",
    "\n",
    "Constraints:\n",
    "\n",
    "1 <= nums.length <= 105\n",
    "-104 <= nums[i] <= 104\n",
    " \n",
    "\n",
    "Follow up: If you have figured out the O(n) solution, try coding another solution using the divide and conquer approach, which is more subtle."
   ]
  },
  {
   "cell_type": "code",
   "execution_count": null,
   "id": "fb60f547",
   "metadata": {},
   "outputs": [],
   "source": [
    "# brute force would be to take all the subarrays and find the sum of hem\n",
    "class Solution:\n",
    "    def maxSubArray(self, nums: list[int]) -> int:\n",
    "        n = len(nums)\n",
    "        max_sum = float('-inf')\n",
    "\n",
    "        for i in range(n):\n",
    "            for j in range(i, n):\n",
    "                # find hte sum of this subarray.\n",
    "                current_sum = 0\n",
    "                for k in range(i, j+1):\n",
    "                    current_sum += nums[k]\n",
    "                max_sum = max(max_sum, current_sum)\n",
    "\n",
    "        return max_sum\n",
    "\n",
    "# tc - O(n^3)\n",
    "# sc - O(1)\n",
    "\n",
    "# we can optimize this by using a precomputed prefix sum.\n",
    "# then this will go from O(n^3) to O(n^2). sum(nums[i:j]) = prefix[j] - prefix[i]"
   ]
  },
  {
   "cell_type": "code",
   "execution_count": null,
   "id": "5b6fb304",
   "metadata": {},
   "outputs": [],
   "source": [
    "# using a recussion to solve:\n",
    "# at a index, we have two option \n",
    "# 1. Continues the subarry.\n",
    "# 2. Start a new sub-array.\n",
    "# we have to return the max of both of them.\n",
    "\n",
    "\n",
    "class Solution:\n",
    "    def maxSubArray(self, nums: list[int]) -> int:\n",
    "        n = len(nums)\n",
    "        \n",
    "        # helper function: max subarray ending at index i\n",
    "        def max_ending_at(i):\n",
    "            if i == 0:\n",
    "                return nums[0]  # base case: subarray ending at first element\n",
    "            \n",
    "            # either extend previous subarray or start new at i\n",
    "            return max(nums[i], nums[i] + max_ending_at(i-1))\n",
    "        \n",
    "        # try all subarrays ending at each index to find global maximum\n",
    "        max_sum = float('-inf')\n",
    "        for i in range(n):\n",
    "            max_sum = max(max_sum, max_ending_at(i))\n",
    "        \n",
    "        return max_sum\n",
    "\n",
    "# tc - O(2 ^ n)\n",
    "# sc - O(n) "
   ]
  },
  {
   "cell_type": "code",
   "execution_count": null,
   "id": "329a2c53",
   "metadata": {},
   "outputs": [],
   "source": [
    "class Solution:\n",
    "    def maxSubArray(self, nums: list[int]) -> int:\n",
    "        n = len(nums)\n",
    "        dp = [None] * n  # stores max subarray ending at index i\n",
    "\n",
    "        def max_ending_at(i):\n",
    "            if i == 0:\n",
    "                return nums[0]\n",
    "            if dp[i] is not None:\n",
    "                return dp[i]\n",
    "\n",
    "            # either extend previous subarray or start new at i\n",
    "            dp[i] = max(nums[i], nums[i] + max_ending_at(i-1))\n",
    "            return dp[i]\n",
    "\n",
    "        max_sum = float('-inf')\n",
    "        for i in range(n):\n",
    "            max_sum = max(max_sum, max_sum +  max_ending_at(i))\n",
    "\n",
    "        return max_sum\n"
   ]
  },
  {
   "cell_type": "code",
   "execution_count": null,
   "id": "31233696",
   "metadata": {},
   "outputs": [],
   "source": [
    "# from this tabulation:\n",
    "class Solution:\n",
    "    def maxSubArray(self, nums: list[int]) -> int:\n",
    "        n = len(nums)\n",
    "        dp = [-1] * n\n",
    "        dp[0] = nums[0]\n",
    "\n",
    "        for i in range(1, n):\n",
    "            dp[i] = max(nums[i], nums[i] + dp[i-1])\n",
    "            maxi = max(maxi, dp[i])\n",
    "        return maxi \n",
    "    \n",
    "# tc - O(N)\n",
    "# sc - O(n)"
   ]
  },
  {
   "cell_type": "code",
   "execution_count": 2,
   "id": "8a8f9242",
   "metadata": {},
   "outputs": [],
   "source": [
    "# tabulaiton optimized: we just need the previous sum (dp[i-1]).\n",
    "class Solution:\n",
    "    def maxSubArray(self, nums: list[int]) -> int:\n",
    "        max_sum = nums[0]\n",
    "        current_sum = 0\n",
    "        # we have the previous sum as nums[0]. and start the loop from 1.\n",
    "        previous_sum = nums[0]\n",
    "\n",
    "        for num in nums[1:]:\n",
    "            current_sum = max(num, previous_sum + num)\n",
    "            max_sum = max(max_sum, current_sum)\n",
    "\n",
    "            previous_sum = current_sum\n",
    "\n",
    "        return max_sum\n",
    " \n",
    "\n",
    " # tc - O(N)\n",
    " # sc - O(1)"
   ]
  },
  {
   "cell_type": "code",
   "execution_count": 3,
   "id": "aa08ee90",
   "metadata": {},
   "outputs": [
    {
     "data": {
      "text/plain": [
       "6"
      ]
     },
     "execution_count": 3,
     "metadata": {},
     "output_type": "execute_result"
    }
   ],
   "source": [
    "Solution().maxSubArray(nums = [-2,1,-3,4,-1,2,1,-5,4])"
   ]
  },
  {
   "cell_type": "code",
   "execution_count": null,
   "id": "b9bed89c",
   "metadata": {},
   "outputs": [],
   "source": []
  }
 ],
 "metadata": {
  "kernelspec": {
   "display_name": "3.11.11",
   "language": "python",
   "name": "python3"
  },
  "language_info": {
   "codemirror_mode": {
    "name": "ipython",
    "version": 3
   },
   "file_extension": ".py",
   "mimetype": "text/x-python",
   "name": "python",
   "nbconvert_exporter": "python",
   "pygments_lexer": "ipython3",
   "version": "3.11.11"
  }
 },
 "nbformat": 4,
 "nbformat_minor": 5
}
