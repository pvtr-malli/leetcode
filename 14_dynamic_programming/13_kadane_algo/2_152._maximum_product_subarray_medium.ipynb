{
 "cells": [
  {
   "cell_type": "markdown",
   "id": "5b74c089",
   "metadata": {},
   "source": [
    "Given an integer array nums, find a subarray that has the largest product, and return the product.\n",
    "\n",
    "The test cases are generated so that the answer will fit in a 32-bit integer.\n",
    "\n",
    " \n",
    "\n",
    "Example 1:\n",
    "\n",
    "Input: nums = [2,3,-2,4]\n",
    "Output: 6\n",
    "Explanation: [2,3] has the largest product 6.\n",
    "Example 2:\n",
    "\n",
    "Input: nums = [-2,0,-1]\n",
    "Output: 0\n",
    "Explanation: The result cannot be 2, because [-2,-1] is not a subarray.\n",
    " \n",
    "\n",
    "Constraints:\n",
    "\n",
    "1 <= nums.length <= 2 * 104\n",
    "-10 <= nums[i] <= 10\n",
    "The product of any subarray of nums is guaranteed to fit in a 32-bit integer."
   ]
  },
  {
   "cell_type": "code",
   "execution_count": null,
   "id": "c385d65d",
   "metadata": {},
   "outputs": [],
   "source": [
    "\n",
    "class Solution:\n",
    "    \n",
    "    # Method 1: Forward Recursion - Building the solution from left to right\n",
    "    def maxProduct(self, nums):\n",
    "        \"\"\"\n",
    "        Forward recursive approach - starts from index 0 and builds forward\n",
    "        At each position, we track max_ending, min_ending, and global_max\n",
    "        \"\"\"\n",
    "        def solve(i, max_prev, min_prev, global_max):\n",
    "            # Base case: processed all elements\n",
    "            if i == len(nums):\n",
    "                return global_max\n",
    "            \n",
    "            # Current element\n",
    "            curr = nums[i]\n",
    "            \n",
    "            # Calculate max and min product ending at current position\n",
    "            # Three choices: current alone, current * max_prev, current * min_prev\n",
    "            candidates = [curr, curr * max_prev, curr * min_prev]\n",
    "            \n",
    "            max_ending_here = max(candidates)\n",
    "            min_ending_here = min(candidates)\n",
    "            \n",
    "            # Update global maximum\n",
    "            new_global_max = max(global_max, max_ending_here)\n",
    "            \n",
    "            # Recursively solve for next position\n",
    "            return solve(i + 1, max_ending_here, min_ending_here, new_global_max)\n",
    "        \n",
    "        if not nums:\n",
    "            return 0\n",
    "        \n",
    "        # Start with: index=0, max_prev=1, min_prev=1, global_max=-infinity\n",
    "        return solve(0, 1, 1, float('-inf'))\n",
    "    \n",
    "# tc - O(n)The recursion processes each element exactly once.\n",
    "# sc - O(n)"
   ]
  },
  {
   "cell_type": "code",
   "execution_count": null,
   "id": "cd014ab6",
   "metadata": {},
   "outputs": [],
   "source": [
    "\n",
    "class Solution:\n",
    "    \n",
    "    # Method 1: Forward Recursion - Building the solution from left to right\n",
    "    def maxProduct(self, nums):\n",
    "        \"\"\"\n",
    "        Forward recursive approach - starts from index 0 and builds forward\n",
    "        At each position, we track max_ending, min_ending, and global_max\n",
    "        \"\"\"\n",
    "        dp = [-1] * len(nums)\n",
    "        def solve(i, max_prev, min_prev, global_max):\n",
    "            # Base case: processed all elements\n",
    "            if i == len(nums):\n",
    "                return global_max\n",
    "            \n",
    "            if dp[i] != -1:\n",
    "                return dp[i]\n",
    "            # Current element\n",
    "            curr = nums[i]\n",
    "            \n",
    "            # Calculate max and min product ending at current position\n",
    "            # Three choices: current alone, current * max_prev, current * min_prev\n",
    "            candidates = [curr, curr * max_prev, curr * min_prev]\n",
    "            \n",
    "            max_ending_here = max(candidates)\n",
    "            min_ending_here = min(candidates)\n",
    "            \n",
    "            # Update global maximum\n",
    "            new_global_max = max(global_max, max_ending_here)\n",
    "            \n",
    "            # Recursively solve for next position\n",
    "            dp[i] =  solve(i + 1, max_ending_here, min_ending_here, new_global_max)\n",
    "            return dp[i]\n",
    "        \n",
    "        if not nums:\n",
    "            return 0\n",
    "        \n",
    "        # Start with: index=0, max_prev=1, min_prev=1, global_max=-infinity\n",
    "        return solve(0, 1, 1, float('-inf'))\n",
    "    \n",
    "# same NOTE: not giving any benifit."
   ]
  },
  {
   "cell_type": "code",
   "execution_count": 2,
   "id": "3339dc33",
   "metadata": {},
   "outputs": [
    {
     "data": {
      "text/plain": [
       "6"
      ]
     },
     "execution_count": 2,
     "metadata": {},
     "output_type": "execute_result"
    }
   ],
   "source": [
    "Solution().maxProduct(nums = [2,3,-2,4])"
   ]
  },
  {
   "cell_type": "code",
   "execution_count": null,
   "id": "8038ddf3",
   "metadata": {},
   "outputs": [],
   "source": [
    "# tabulation:\n",
    "class Solution:\n",
    "    def maxProduct(self, nums):\n",
    "        \"\"\"\n",
    "        Bottom-up tabulation - showing the step-by-step evolution\n",
    "        This is exactly what your optimized code does!\n",
    "        \"\"\"\n",
    "        if not nums:\n",
    "            return 0\n",
    "        \n",
    "        n = len(nums)\n",
    "        \n",
    "        # DP arrays to store max and min products ending at each position\n",
    "        max_ending = [0] * n\n",
    "        min_ending = [0] * n\n",
    "        \n",
    "        # Base case: first element\n",
    "        max_ending[0] = min_ending[0] = nums[0]\n",
    "        result = nums[0]\n",
    "        \n",
    "        # Fill the DP arrays\n",
    "        for i in range(1, n):\n",
    "            curr = nums[i]\n",
    "            \n",
    "            # Three candidates: current alone, current * prev_max, current * prev_min\n",
    "            candidates = [curr, curr * max_ending[i-1], curr * min_ending[i-1]]\n",
    "            \n",
    "            max_ending[i] = max(candidates)\n",
    "            min_ending[i] = min(candidates)\n",
    "            \n",
    "            # Update global result\n",
    "            result = max(result, max_ending[i])\n",
    "        \n",
    "        return result\n",
    "    \n",
    "# tc - O(n)\n",
    "# sc - O(n)"
   ]
  },
  {
   "cell_type": "code",
   "execution_count": null,
   "id": "a9730b4b",
   "metadata": {},
   "outputs": [],
   "source": []
  },
  {
   "cell_type": "code",
   "execution_count": 4,
   "id": "a695a191",
   "metadata": {},
   "outputs": [],
   "source": [
    "class Solution:\n",
    "    def maxProduct(self, nums):\n",
    "        if not nums:\n",
    "            return 0\n",
    "        \n",
    "        max_so_far = min_so_far = result = nums[0]\n",
    "        \n",
    "        for num in nums[1:]:\n",
    "            candidates = [num, num * max_so_far , num * min_so_far]\n",
    "            max_so_far = max(candidates)\n",
    "            min_so_far = min(candidates)\n",
    "\n",
    "            result = max(result, max_so_far)\n",
    "        \n",
    "        return result\n",
    "    \n",
    "# tc - O(n)\n",
    "# sc - O(1)"
   ]
  },
  {
   "cell_type": "code",
   "execution_count": 5,
   "id": "a6db2e60",
   "metadata": {},
   "outputs": [
    {
     "data": {
      "text/plain": [
       "6"
      ]
     },
     "execution_count": 5,
     "metadata": {},
     "output_type": "execute_result"
    }
   ],
   "source": [
    "Solution().maxProduct(nums = [2,3,-2,4])"
   ]
  },
  {
   "cell_type": "code",
   "execution_count": null,
   "id": "41fef2e2",
   "metadata": {},
   "outputs": [],
   "source": []
  }
 ],
 "metadata": {
  "kernelspec": {
   "display_name": "3.11.11",
   "language": "python",
   "name": "python3"
  },
  "language_info": {
   "codemirror_mode": {
    "name": "ipython",
    "version": 3
   },
   "file_extension": ".py",
   "mimetype": "text/x-python",
   "name": "python",
   "nbconvert_exporter": "python",
   "pygments_lexer": "ipython3",
   "version": "3.11.11"
  }
 },
 "nbformat": 4,
 "nbformat_minor": 5
}
