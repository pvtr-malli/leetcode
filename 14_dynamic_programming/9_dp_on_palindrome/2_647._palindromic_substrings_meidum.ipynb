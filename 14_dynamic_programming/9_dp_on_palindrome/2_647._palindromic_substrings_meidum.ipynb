{
 "cells": [
  {
   "cell_type": "markdown",
   "id": "b577e582",
   "metadata": {},
   "source": [
    "Given a string s, return the number of palindromic substrings in it.\n",
    "\n",
    "A string is a palindrome when it reads the same backward as forward.\n",
    "\n",
    "A substring is a contiguous sequence of characters within the string.\n",
    "\n",
    " \n",
    "\n",
    "Example 1:\n",
    "\n",
    "Input: s = \"abc\"\n",
    "Output: 3\n",
    "Explanation: Three palindromic strings: \"a\", \"b\", \"c\".\n",
    "Example 2:\n",
    "\n",
    "Input: s = \"aaa\"\n",
    "Output: 6\n",
    "Explanation: Six palindromic strings: \"a\", \"a\", \"a\", \"aa\", \"aa\", \"aaa\".\n",
    " \n",
    "\n",
    "Constraints:\n",
    "\n",
    "1 <= s.length <= 1000\n",
    "s consists of lowercase English letters."
   ]
  },
  {
   "cell_type": "code",
   "execution_count": 1,
   "id": "2b3bea26",
   "metadata": {},
   "outputs": [],
   "source": [
    "# NOTE: this is not the optimal approach, go for manachar's algorithm for the optimal.\n",
    "\n",
    "# dp[i][j] = the substring from i to j is palindrom or not.\n",
    "class Solution:\n",
    "    def longestPalindrome(self, s: str) -> str:\n",
    "        dp = [[True for _ in range(len(s))] for _ in range(len(s))]\n",
    "        count = 0\n",
    "        for i in range(len(s)):\n",
    "            for j in range(i, len(s)):\n",
    "                if s[i] == s[j] and (j-i < 3 or dp[i+1][j-1]):\n",
    "                    dp[i][j] = True\n",
    "                    count += 1\n",
    "        return  count\n",
    "    \n",
    "# tc - O(n * n)\n",
    "# sc - O(n * n)"
   ]
  },
  {
   "cell_type": "code",
   "execution_count": 2,
   "id": "c8a47c87",
   "metadata": {},
   "outputs": [
    {
     "data": {
      "text/plain": [
       "3"
      ]
     },
     "execution_count": 2,
     "metadata": {},
     "output_type": "execute_result"
    }
   ],
   "source": [
    "Solution().longestPalindrome(s = \"abc\")"
   ]
  },
  {
   "cell_type": "code",
   "execution_count": 3,
   "id": "9d92c75e",
   "metadata": {},
   "outputs": [
    {
     "data": {
      "text/plain": [
       "6"
      ]
     },
     "execution_count": 3,
     "metadata": {},
     "output_type": "execute_result"
    }
   ],
   "source": [
    "Solution().longestPalindrome(s = \"aaa\")"
   ]
  },
  {
   "cell_type": "code",
   "execution_count": null,
   "id": "1284dc44",
   "metadata": {},
   "outputs": [],
   "source": []
  }
 ],
 "metadata": {
  "kernelspec": {
   "display_name": "3.11.11",
   "language": "python",
   "name": "python3"
  },
  "language_info": {
   "codemirror_mode": {
    "name": "ipython",
    "version": 3
   },
   "file_extension": ".py",
   "mimetype": "text/x-python",
   "name": "python",
   "nbconvert_exporter": "python",
   "pygments_lexer": "ipython3",
   "version": "3.11.11"
  }
 },
 "nbformat": 4,
 "nbformat_minor": 5
}
