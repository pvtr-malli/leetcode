{
 "cells": [
  {
   "cell_type": "markdown",
   "id": "d9358ff4",
   "metadata": {},
   "source": [
    "Given a string s. In one step you can insert any character at any index of the string.\n",
    "\n",
    "Return the minimum number of steps to make s palindrome.\n",
    "\n",
    "A Palindrome String is one that reads the same backward as well as forward.\n",
    "\n",
    " \n",
    "\n",
    "Example 1:\n",
    "\n",
    "Input: s = \"zzazz\"\n",
    "Output: 0\n",
    "Explanation: The string \"zzazz\" is already palindrome we do not need any insertions.\n",
    "Example 2:\n",
    "\n",
    "Input: s = \"mbadm\"\n",
    "Output: 2\n",
    "Explanation: String can be \"mbdadbm\" or \"mdbabdm\".\n",
    "Example 3:\n",
    "\n",
    "Input: s = \"leetcode\"\n",
    "Output: 5\n",
    "Explanation: Inserting 5 characters the string becomes \"leetcodocteel\".\n",
    " \n",
    "\n",
    "Constraints:\n",
    "\n",
    "1 <= s.length <= 500\n",
    "s consists of lowercase English letters."
   ]
  },
  {
   "cell_type": "markdown",
   "id": "3988f9f9",
   "metadata": {},
   "source": [
    "Think **about the relationship between insertions and longest palindromic subsequence (LPS)**:\n",
    "\n",
    "* Any character **not part of the LPS** will eventually need an insertion to make the string a palindrome.\n",
    "* So, if you can find the **length of the LPS**, then:\n",
    "\n",
    "$$\n",
    "\\text{Minimum insertions} = \\text{len(s)} - \\text{length of LPS}\n",
    "$$\n",
    "\n",
    "Start by thinking **how to compute LPS** using recursion or DP.\n",
    "\n",
    "\n",
    "A neat trick: the **Longest Palindromic Subsequence (LPS)** of a string `s` is the **Longest Common Subsequence (LCS)** between `s` and its reverse `s[::-1]`.\n",
    "\n",
    "So:\n",
    "\n",
    "1. Reverse the string → `rev = s[::-1]`.\n",
    "2. Find LCS of `s` and `rev`.\n",
    "3. That LCS length = LPS length.\n",
    "\n",
    "Once you have LPS, the minimum insertions = `len(s) - LPS`.\n"
   ]
  },
  {
   "cell_type": "code",
   "execution_count": 2,
   "id": "48a329c0",
   "metadata": {},
   "outputs": [],
   "source": [
    "# we are gonna do by computing it using dp.\n",
    "class Solution:\n",
    "    def minInsertions(self, s: str) -> int:\n",
    "        n = len(s)\n",
    "        \n",
    "        def recur(i, j):\n",
    "            if i >= j:\n",
    "                return 0  # substring of length 0 or 1 is already palindrome\n",
    "            \n",
    "            if s[i] == s[j]:\n",
    "                return recur(i + 1, j - 1)\n",
    "            else:\n",
    "                # Here we can insert in index i, or insert in index j.\n",
    "                # when insert in i, we matched i so move i and stay at j. recur(i + 1, j)\n",
    "                # when insert in j, we matched j so move j and stay at i. recur(i, j - 1)\n",
    "                return 1 + min(recur(i + 1, j), recur(i, j - 1))\n",
    "        \n",
    "        return recur(0, n - 1)\n",
    "\n",
    "\n",
    "# tc - O(2 ^ n)\n",
    "# sc - O(n ) recursion stack\n"
   ]
  },
  {
   "cell_type": "code",
   "execution_count": 3,
   "id": "27c2b2fc",
   "metadata": {},
   "outputs": [
    {
     "data": {
      "text/plain": [
       "2"
      ]
     },
     "execution_count": 3,
     "metadata": {},
     "output_type": "execute_result"
    }
   ],
   "source": [
    "Solution().minInsertions(s = \"mbadm\")"
   ]
  },
  {
   "cell_type": "code",
   "execution_count": null,
   "id": "a7aeec49",
   "metadata": {},
   "outputs": [],
   "source": [
    "# memorization:\n",
    "class Solution:\n",
    "    def minInsertions(self, s: str) -> int:\n",
    "        n = len(s)\n",
    "        dp = [[-1 for _ in range(n)] for _ in range(n)]\n",
    "\n",
    "        def recur(i, j):\n",
    "            if i >= j:\n",
    "                return 0  # Base case: single char or empty substring\n",
    "\n",
    "            if dp[i][j] != -1:\n",
    "                return dp[i][j]\n",
    "\n",
    "            if s[i] == s[j]:\n",
    "                dp[i][j] = recur(i + 1, j - 1)\n",
    "            else:\n",
    "                dp[i][j] = 1 + min(recur(i + 1, j), recur(i, j - 1))\n",
    "\n",
    "            return dp[i][j]\n",
    "\n",
    "        return recur(0, n - 1)\n",
    "\n",
    "# tc - O(n^2) — each i, j pair is computed at most once.\n",
    "# sc - O(n^2)"
   ]
  },
  {
   "cell_type": "code",
   "execution_count": 8,
   "id": "a378ee1d",
   "metadata": {},
   "outputs": [],
   "source": [
    "# tabulation:\n",
    "class Solution:\n",
    "    def minInsertions(self, s: str) -> int:\n",
    "        n = len(s)\n",
    "        # at any time we are doing i+1 and j-1. since we start \n",
    "        dp = [[0 for _ in range(n)] for _ in range(n + 1)]\n",
    "\n",
    "        # Base case :\n",
    "        # we have to handle i+1 and j-1.\n",
    "        # for i+1, we can have a extra row. but start the loop from n-1 only.\n",
    "        # for j-1, we will fail only when the j=0 \n",
    "        #   |-> and j will be zero when i is 0.\n",
    "        #   |-> so start the j from i+1 always becase anyways when i==j the ans is 0.\n",
    "\n",
    "        for i in range(n-1, -1, -1):      # i from n-1 down to 0\n",
    "            for j in range(i+1, n):       # j from i+1 up to n-1\n",
    "                if s[i] == s[j]:\n",
    "                    dp[i][j] = dp[i+1][j-1]\n",
    "                else:\n",
    "                    dp[i][j] = 1 + min(dp[i+1][j], dp[i][j-1])\n",
    "        print(dp)\n",
    "        return dp[0][n-1]\n",
    "\n",
    "\n",
    "# tc - O(n * n)\n",
    "# sc - O(n * n)"
   ]
  },
  {
   "cell_type": "code",
   "execution_count": 9,
   "id": "5f63287d",
   "metadata": {},
   "outputs": [
    {
     "name": "stdout",
     "output_type": "stream",
     "text": [
      "[[0, 1, 2, 3, 2], [0, 0, 1, 2, 3], [0, 0, 0, 1, 2], [0, 0, 0, 0, 1], [0, 0, 0, 0, 0], [0, 0, 0, 0, 0]]\n"
     ]
    },
    {
     "data": {
      "text/plain": [
       "2"
      ]
     },
     "execution_count": 9,
     "metadata": {},
     "output_type": "execute_result"
    }
   ],
   "source": [
    "Solution().minInsertions(s = \"mbadm\")"
   ]
  },
  {
   "cell_type": "code",
   "execution_count": 10,
   "id": "f57556e7",
   "metadata": {},
   "outputs": [
    {
     "name": "stdout",
     "output_type": "stream",
     "text": [
      "[[0, 1, 1, 2, 3, 4, 5, 5], [0, 0, 0, 1, 2, 3, 4, 4], [0, 0, 0, 1, 2, 3, 4, 3], [0, 0, 0, 0, 1, 2, 3, 4], [0, 0, 0, 0, 0, 1, 2, 3], [0, 0, 0, 0, 0, 0, 1, 2], [0, 0, 0, 0, 0, 0, 0, 1], [0, 0, 0, 0, 0, 0, 0, 0], [0, 0, 0, 0, 0, 0, 0, 0]]\n"
     ]
    },
    {
     "data": {
      "text/plain": [
       "5"
      ]
     },
     "execution_count": 10,
     "metadata": {},
     "output_type": "execute_result"
    }
   ],
   "source": [
    "Solution().minInsertions(s = \"leetcode\")"
   ]
  },
  {
   "cell_type": "code",
   "execution_count": null,
   "id": "75a64bcf",
   "metadata": {},
   "outputs": [],
   "source": [
    "# tabulation:\n",
    "class Solution:\n",
    "    def minInsertions(self, s: str) -> int:\n",
    "        n = len(s)\n",
    "        # at any time we are doing i+1 and j-1. since we start \n",
    "        prev = [0] * n \n",
    "        cur = [0] * n\n",
    "\n",
    "        # Base case :\n",
    "        # we have to handle i+1 and j-1.\n",
    "        # for i+1, we can have a extra row. but start the loop from n-1 only.\n",
    "        # for j-1, we will fail only when the j=0 \n",
    "        #   |-> and j will be zero when i is 0.\n",
    "        #   |-> so start the j from i+1 always becase anyways when i==j the ans is 0.\n",
    "\n",
    "        for i in range(n-1, -1, -1):      # i from n-1 down to 0\n",
    "            for j in range(i+1, n):       # j from i+1 up to n-1\n",
    "                if s[i] == s[j]:\n",
    "                    cur[j] = prev[j-1]\n",
    "                else:\n",
    "                    cur[j] = 1 + min(prev[j], cur[j-1])\n",
    "\n",
    "            # reset the values.\n",
    "            prev, cur = cur, [0] * n\n",
    "        print(prev)\n",
    "        return prev[n-1]\n",
    "\n",
    "\n",
    "# tc - O(n * n)\n",
    "# sc - O(n * 2) ~= O(n)"
   ]
  },
  {
   "cell_type": "code",
   "execution_count": 16,
   "id": "8a295f92",
   "metadata": {},
   "outputs": [
    {
     "name": "stdout",
     "output_type": "stream",
     "text": [
      "[0, 1, 2, 3, 2]\n"
     ]
    },
    {
     "data": {
      "text/plain": [
       "2"
      ]
     },
     "execution_count": 16,
     "metadata": {},
     "output_type": "execute_result"
    }
   ],
   "source": [
    "Solution().minInsertions(s = \"mbadm\")"
   ]
  },
  {
   "cell_type": "code",
   "execution_count": null,
   "id": "86ec415b",
   "metadata": {},
   "outputs": [],
   "source": [
    "# we dont need a whole prev array, we just need one value from prev. \n",
    "\n",
    "class Solution:\n",
    "    def minInsertions(self, s: str) -> int:\n",
    "        n = len(s)\n",
    "        dp = [0] * n\n",
    "\n",
    "        for i in range(n-1, -1, -1):\n",
    "            prev = 0  # This stores dp[i+1][j-1] from previous iteration\n",
    "            for j in range(i+1, n):\n",
    "                temp = dp[j]  # Save current dp[j] before updating\n",
    "                if s[i] == s[j]:\n",
    "                    dp[j] = prev\n",
    "                else:\n",
    "                    dp[j] = 1 + min(dp[j], dp[j-1])\n",
    "                prev = temp  # Update prev for next j\n",
    "\n",
    "        return dp[n-1]\n",
    "    \n",
    "\n",
    "# tc - O(n * n)\n",
    "# sc - O(n)"
   ]
  }
 ],
 "metadata": {
  "kernelspec": {
   "display_name": "3.11.11",
   "language": "python",
   "name": "python3"
  },
  "language_info": {
   "codemirror_mode": {
    "name": "ipython",
    "version": 3
   },
   "file_extension": ".py",
   "mimetype": "text/x-python",
   "name": "python",
   "nbconvert_exporter": "python",
   "pygments_lexer": "ipython3",
   "version": "3.11.11"
  }
 },
 "nbformat": 4,
 "nbformat_minor": 5
}
