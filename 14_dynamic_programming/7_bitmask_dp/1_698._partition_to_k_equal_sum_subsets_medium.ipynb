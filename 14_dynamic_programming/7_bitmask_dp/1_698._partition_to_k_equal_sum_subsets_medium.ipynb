{
 "cells": [
  {
   "cell_type": "markdown",
   "id": "c319650a",
   "metadata": {},
   "source": [
    "Given an integer array nums and an integer k, return true if it is possible to divide this array into k non-empty subsets whose sums are all equal.\n",
    "\n",
    " \n",
    "\n",
    "Example 1:\n",
    "\n",
    "Input: nums = [4,3,2,3,5,2,1], k = 4\n",
    "Output: true\n",
    "Explanation: It is possible to divide it into 4 subsets (5), (1, 4), (2,3), (2,3) with equal sums.\n",
    "Example 2:\n",
    "\n",
    "Input: nums = [1,2,3,4], k = 3\n",
    "Output: false\n",
    " \n",
    "\n",
    "Constraints:\n",
    "\n",
    "1 <= k <= nums.length <= 16\n",
    "1 <= nums[i] <= 104\n",
    "The frequency of each element is in the range [1, 4]."
   ]
  },
  {
   "cell_type": "code",
   "execution_count": null,
   "id": "838b2de7",
   "metadata": {},
   "outputs": [],
   "source": [
    "class Solution:\n",
    "    def canPartitionKSubsets(self, nums: list[int], k: int) -> bool:\n",
    "        # Find the sum to track down.\n",
    "        s = sum(nums)\n",
    "        # if this is not divisible by k, then for sure we can't find the subsets.\n",
    "        if s % k != 0:\n",
    "            return False \n",
    "        subset_sum = s // k \n",
    "        visited = [False] * len(nums)\n",
    "\n",
    "        # this will tell you \n",
    "        def recur(i, target):\n",
    "            if i == len(nums):\n",
    "                return target == 0 \n",
    "            if target == 0:\n",
    "                return True \n",
    "            \n",
    "            # not take this element and move forward.\n",
    "            if recur(i + 1, target):\n",
    "                return True\n",
    "\n",
    "            take = False \n",
    "            if nums[i] <= target and not visited[i]:\n",
    "                visited[i] = True\n",
    "                if recur(i + 1, target - nums[i]):\n",
    "                    return True\n",
    "                # make it false while backtracking\n",
    "                visited[i] = False \n",
    "            \n",
    "            return False\n",
    "        \n",
    "        for i in range(len(nums)):\n",
    "            if not visited[i]:\n",
    "                print(i)\n",
    "                print(visited)\n",
    "                a = recur(i, subset_sum - nums[i])\n",
    "                if not a:\n",
    "                    # if we can'tfind a target pair for this element, then return False.\n",
    "                    return False \n",
    "        \n",
    "        # if we find the target pair for every i, then return True.\n",
    "        return True\n"
   ]
  },
  {
   "cell_type": "code",
   "execution_count": null,
   "id": "81a24941",
   "metadata": {},
   "outputs": [],
   "source": [
    "# is the same logic as above, we do it insde the recurssion itself.\n",
    "class Solution:\n",
    "    def canPartitionKSubsets(self, nums: list[int], k: int) -> bool:\n",
    "        total_sum = sum(nums)\n",
    "        if total_sum % k != 0:\n",
    "            return False\n",
    "        \n",
    "        target = total_sum // k\n",
    "        n = len(nums)\n",
    "        visited = [False] * n\n",
    "\n",
    "        def backtrack(start, k_remaining, curr_sum):\n",
    "            # Base case: all subsets formed\n",
    "            if k_remaining == 0:\n",
    "                return True\n",
    "            \n",
    "            # If current subset reaches target, start forming next subset\n",
    "            if curr_sum == target:\n",
    "                return backtrack(0, k_remaining - 1, 0)\n",
    "            \n",
    "            for i in range(start, n):\n",
    "                if not visited[i] and curr_sum + nums[i] <= target:\n",
    "                    visited[i] = True\n",
    "                    if backtrack(i + 1, k_remaining, curr_sum + nums[i]):\n",
    "                        return True\n",
    "                    visited[i] = False  # backtrack\n",
    "            return False\n",
    "\n",
    "        return backtrack(0, k, 0)\n",
    "# Time Complexity: O(k * n * 2^n) (exploring all combinations)\n",
    "# Space Complexity: O(n) (visited array + recursion stack)"
   ]
  },
  {
   "cell_type": "code",
   "execution_count": 13,
   "id": "8e55499c",
   "metadata": {},
   "outputs": [
    {
     "data": {
      "text/plain": [
       "True"
      ]
     },
     "execution_count": 13,
     "metadata": {},
     "output_type": "execute_result"
    }
   ],
   "source": [
    "Solution().canPartitionKSubsets(nums = [4,3,2,3,5,2,1], k = 4)"
   ]
  },
  {
   "cell_type": "code",
   "execution_count": 14,
   "id": "0f01d176",
   "metadata": {},
   "outputs": [
    {
     "data": {
      "text/plain": [
       "False"
      ]
     },
     "execution_count": 14,
     "metadata": {},
     "output_type": "execute_result"
    }
   ],
   "source": [
    "Solution().canPartitionKSubsets(nums = [1,2,3,4], k = 3)"
   ]
  },
  {
   "cell_type": "code",
   "execution_count": null,
   "id": "30059b7a",
   "metadata": {},
   "outputs": [],
   "source": [
    "# recurssion using bitmask instead of the visited array.\n",
    "class Solution:\n",
    "    def canPartitionKSubsets(self, nums: list[int], k: int) -> bool:\n",
    "        total = sum(nums)\n",
    "        n = len(nums)\n",
    "        \n",
    "        if total % k != 0:\n",
    "            return False\n",
    "        \n",
    "        target = total // k\n",
    "        \n",
    "        def dfs(used_mask, current_sum, count):\n",
    "            if count == k:  # all subsets formed\n",
    "                return True\n",
    "            if current_sum > target:\n",
    "                return False\n",
    "            \n",
    "            for i in range(n): # NOTE: its always start from 0, since we are looking for subset.\n",
    "                if not (used_mask & (1 << i)):\n",
    "                    next_mask = used_mask | (1 << i)\n",
    "                    next_sum = current_sum + nums[i]\n",
    "                    \n",
    "                    # when we find the subset which the target sum, start the recur with the 0 count\n",
    "                    # to find the next subset.\n",
    "                    if next_sum == target:\n",
    "                        if dfs(next_mask, 0, count + 1):\n",
    "                            return True\n",
    "                    else:\n",
    "                        if dfs(next_mask, next_sum, count):\n",
    "                            return True\n",
    "            return False\n",
    "        \n",
    "        return dfs(0, 0, 0)\n",
    "\n",
    "# Time Complexity: O(k * 2^n)\n",
    "# - one recu - O(2 ^ n)\n",
    "# - we are gonna find k subsets. so O(k * 2^n)\n",
    "# Space Complexity: O(n) (recursion stack)"
   ]
  },
  {
   "cell_type": "code",
   "execution_count": null,
   "id": "3c9a56eb",
   "metadata": {},
   "outputs": [],
   "source": [
    "# memorization:\n",
    "class Solution:\n",
    "    def canPartitionKSubsets(self, nums: list[int], k: int) -> bool:\n",
    "        total = sum(nums)\n",
    "        n = len(nums)\n",
    "        \n",
    "        if total % k != 0:\n",
    "            return False\n",
    "        \n",
    "        target = total // k\n",
    "        memo = {}\n",
    "        \n",
    "        def dfs(used_mask, current_sum, count):\n",
    "            if count == k:\n",
    "                return True\n",
    "            if current_sum > target:\n",
    "                return False\n",
    "            if (used_mask, current_sum) in memo:\n",
    "                return memo[(used_mask, current_sum)]\n",
    "            \n",
    "            for i in range(n):\n",
    "                if not (used_mask & (1 << i)):\n",
    "                    next_mask = used_mask | (1 << i)\n",
    "                    next_sum = current_sum + nums[i]\n",
    "                    \n",
    "                    if next_sum == target:\n",
    "                        if dfs(next_mask, 0, count + 1):\n",
    "                            memo[(used_mask, current_sum)] = True\n",
    "                            return True\n",
    "                    else:\n",
    "                        if dfs(next_mask, next_sum, count):\n",
    "                            memo[(used_mask, current_sum)] = True\n",
    "                            return True\n",
    "            \n",
    "            memo[(used_mask, current_sum)] = False\n",
    "            return False\n",
    "        \n",
    "        return dfs(0, 0, 0)\n",
    "\n",
    "# Time Complexity: O(2^n * k ) — each subset state (used_mask) is computed once, iterating over n elements.\n",
    "# sc - Space Complexity: O(2^n * k) — memo dictionary stores 2^n states, recursion stack up to n.\n",
    "\n",
    "# # NOTE: bitmask + memorization is the optimal approach for this problem.\n"
   ]
  },
  {
   "cell_type": "markdown",
   "id": "794c3270",
   "metadata": {},
   "source": [
    "Time Complexity Analysis:\n",
    "\n",
    "State Space: (used_mask, current_sum)\n",
    "\n",
    "used_mask: 2^n possible values (each number can be used or not)\n",
    "current_sum: 0 to target possible values\n",
    "Total unique states: 2^n × target\n",
    "\n",
    "\n",
    "Work Per State: O(n)\n",
    "\n",
    "The for i in range(n) loop runs n times per state\n",
    "\n",
    "\n",
    "Memoization Benefit: Each state computed at most once\n",
    "\n",
    "Without memo: O(k^n) - exponential explosion\n",
    "With memo: O(n × 2^n × target)\n",
    "\n",
    "\n",
    "\n",
    "Space Complexity Analysis:\n",
    "\n",
    "Memoization Table: O(2^n × target)\n",
    "\n",
    "Stores result for each (used_mask, current_sum) pair"
   ]
  },
  {
   "cell_type": "code",
   "execution_count": null,
   "id": "b12d2832",
   "metadata": {},
   "outputs": [],
   "source": [
    "# why tabulaiton wont work ? \n",
    "# why this tc and sc ? -- understand ths "
   ]
  },
  {
   "cell_type": "code",
   "execution_count": null,
   "id": "83f6c145",
   "metadata": {},
   "outputs": [],
   "source": []
  }
 ],
 "metadata": {
  "kernelspec": {
   "display_name": "3.11.11",
   "language": "python",
   "name": "python3"
  },
  "language_info": {
   "codemirror_mode": {
    "name": "ipython",
    "version": 3
   },
   "file_extension": ".py",
   "mimetype": "text/x-python",
   "name": "python",
   "nbconvert_exporter": "python",
   "pygments_lexer": "ipython3",
   "version": "3.11.11"
  }
 },
 "nbformat": 4,
 "nbformat_minor": 5
}
