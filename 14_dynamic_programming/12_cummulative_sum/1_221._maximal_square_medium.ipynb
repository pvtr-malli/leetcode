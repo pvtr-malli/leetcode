{
 "cells": [
  {
   "cell_type": "markdown",
   "id": "dad5dced",
   "metadata": {},
   "source": [
    "Given an m x n binary matrix filled with 0's and 1's, find the largest square containing only 1's and return its area.\n",
    "\n",
    " \n",
    "\n",
    "Example 1:\n",
    "\n",
    "\n",
    "Input: matrix = [[\"1\",\"0\",\"1\",\"0\",\"0\"],[\"1\",\"0\",\"1\",\"1\",\"1\"],[\"1\",\"1\",\"1\",\"1\",\"1\"],[\"1\",\"0\",\"0\",\"1\",\"0\"]]\n",
    "Output: 4\n",
    "Example 2:\n",
    "\n",
    "\n",
    "Input: matrix = [[\"0\",\"1\"],[\"1\",\"0\"]]\n",
    "Output: 1\n",
    "Example 3:\n",
    "\n",
    "Input: matrix = [[\"0\"]]\n",
    "Output: 0\n",
    " \n",
    "\n",
    "Constraints:\n",
    "\n",
    "m == matrix.length\n",
    "n == matrix[i].length\n",
    "1 <= m, n <= 300\n",
    "matrix[i][j] is '0' or '1'."
   ]
  },
  {
   "cell_type": "code",
   "execution_count": null,
   "id": "b56d4e4a",
   "metadata": {},
   "outputs": [],
   "source": [
    "# recurssion:\n",
    "# writting a function find the biggest squre ends at i,j \n",
    "\n",
    "class Solution:\n",
    "    def maximalSquare(self, matrix: list[list[str]]) -> int:\n",
    "        if not matrix or not matrix[0]:\n",
    "            return 0\n",
    "        n, m = len(matrix), len(matrix[0])\n",
    "\n",
    "        def recur(i,j): \n",
    "            # The is no i+1, j + 1 do not need to check the j > n condition.\n",
    "            # since the for loop will go upto n-1 only anytime.\n",
    "            if i < 0 or j < 0:\n",
    "                    return 0\n",
    "            # you have to count he number from top, left, upper digonal.\n",
    "            if matrix[i][j] == \"1\":\n",
    "                if i == 0 and j ==0 :\n",
    "                    return 1\n",
    "                \n",
    "                top = recur(i-1, j)\n",
    "                left = recur(i, j-1)\n",
    "                digonal = recur(i-1, j-1)\n",
    "                return 1 + min(top, left, digonal) # since we want all 1. we should take the min.\n",
    "            return 0\n",
    "\n",
    "\n",
    "        maxi = 0\n",
    "        for i in range(n):\n",
    "            for j in range(m):\n",
    "                # this function return the size of the square. if 2*2 = it will return 2. \n",
    "                # we have to convert it into how many 1's inside them => which 2*2. \n",
    "                a = recur(i,j)\n",
    "                maxi = max(maxi, a*a)\n",
    "        return maxi"
   ]
  },
  {
   "cell_type": "code",
   "execution_count": 16,
   "id": "8edb8550",
   "metadata": {},
   "outputs": [
    {
     "data": {
      "text/plain": [
       "4"
      ]
     },
     "execution_count": 16,
     "metadata": {},
     "output_type": "execute_result"
    }
   ],
   "source": [
    "Solution().maximalSquare(matrix = [[\"1\",\"0\",\"1\",\"0\",\"0\"],[\"1\",\"0\",\"1\",\"1\",\"1\"],[\"1\",\"1\",\"1\",\"1\",\"1\"],[\"1\",\"0\",\"0\",\"1\",\"0\"]])"
   ]
  },
  {
   "cell_type": "code",
   "execution_count": 29,
   "id": "fe40b92b",
   "metadata": {},
   "outputs": [],
   "source": [
    "# tabulation:\n",
    "# have the same size as og matrix.\n",
    "# run the loop and get the ans in the last cell.\n",
    "class Solution:\n",
    "    def maximalSquare(self, matrix: list[list[str]]) -> int:\n",
    "        if not matrix or not matrix[0]:\n",
    "            return 0\n",
    "        n, m = len(matrix), len(matrix[0])\n",
    "        dp = [[0 for _ in range(m)] for _ in range(n)]\n",
    "        maxi = 0\n",
    "        for i in range(n):\n",
    "            for j in range(m):\n",
    "\n",
    "                if matrix[i][j] == \"0\":\n",
    "                    continue\n",
    "                print(i,j)\n",
    "                if i == 0 or j == 0:\n",
    "                    # we dont want to check the outsie matrix. is the border is 1, then they can make square of 1 size.\n",
    "                    dp[i][j] = 1\n",
    "                else:\n",
    "                    dp[i][j] = 1 + min(dp[i-1][j] , dp[i][j-1] , dp[i-1][j-1])\n",
    "\n",
    "                # keep track of the max size.\n",
    "                maxi = max(maxi, dp[i][j])\n",
    "\n",
    "        print(dp)\n",
    "        return maxi * maxi "
   ]
  },
  {
   "cell_type": "code",
   "execution_count": 30,
   "id": "d0544508",
   "metadata": {},
   "outputs": [
    {
     "name": "stdout",
     "output_type": "stream",
     "text": [
      "0 0\n",
      "0 2\n",
      "1 0\n",
      "1 2\n",
      "1 3\n",
      "1 4\n",
      "2 0\n",
      "2 1\n",
      "2 2\n",
      "2 3\n",
      "2 4\n",
      "3 0\n",
      "3 3\n",
      "[[1, 0, 1, 0, 0], [1, 0, 1, 1, 1], [1, 1, 1, 2, 2], [1, 0, 0, 1, 0]]\n"
     ]
    },
    {
     "data": {
      "text/plain": [
       "4"
      ]
     },
     "execution_count": 30,
     "metadata": {},
     "output_type": "execute_result"
    }
   ],
   "source": [
    "Solution().maximalSquare(matrix = [[\"1\",\"0\",\"1\",\"0\",\"0\"],[\"1\",\"0\",\"1\",\"1\",\"1\"],[\"1\",\"1\",\"1\",\"1\",\"1\"],[\"1\",\"0\",\"0\",\"1\",\"0\"]])"
   ]
  },
  {
   "cell_type": "code",
   "execution_count": 31,
   "id": "2d53200d",
   "metadata": {},
   "outputs": [
    {
     "name": "stdout",
     "output_type": "stream",
     "text": [
      "0 1\n",
      "1 0\n",
      "[[0, 1], [1, 0]]\n"
     ]
    },
    {
     "data": {
      "text/plain": [
       "1"
      ]
     },
     "execution_count": 31,
     "metadata": {},
     "output_type": "execute_result"
    }
   ],
   "source": [
    "Solution().maximalSquare(matrix = [[\"0\",\"1\"],[\"1\",\"0\"]])"
   ]
  },
  {
   "cell_type": "code",
   "execution_count": null,
   "id": "8b2432d7",
   "metadata": {},
   "outputs": [],
   "source": []
  }
 ],
 "metadata": {
  "kernelspec": {
   "display_name": "3.11.11",
   "language": "python",
   "name": "python3"
  },
  "language_info": {
   "codemirror_mode": {
    "name": "ipython",
    "version": 3
   },
   "file_extension": ".py",
   "mimetype": "text/x-python",
   "name": "python",
   "nbconvert_exporter": "python",
   "pygments_lexer": "ipython3",
   "version": "3.11.11"
  }
 },
 "nbformat": 4,
 "nbformat_minor": 5
}
