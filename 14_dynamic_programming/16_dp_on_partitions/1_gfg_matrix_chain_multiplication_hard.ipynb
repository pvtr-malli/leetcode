{
 "cells": [
  {
   "cell_type": "markdown",
   "id": "f5a5a74d",
   "metadata": {},
   "source": [
    "Given an array arr[] which represents the dimensions of a sequence of matrices where the ith matrix has the dimensions (arr[i-1] x arr[i]) for i>=1, find the most efficient way to multiply these matrices together. The efficient way is the one that involves the least number of multiplications.\n",
    "\n",
    "Examples:\n",
    "\n",
    "Input: arr[] = [2, 1, 3, 4]\n",
    "Output: 20\n",
    "Explanation: There are 3 matrices of dimensions 2 × 1, 1 × 3, and 3 × 4, Let this 3 input matrices be M1, M2, and M3. There are two ways to multiply: ((M1 x M2) x M3) and (M1 x (M2 x M3)), note that the result of (M1 x M2) is a 2 x 3 matrix and result of (M2 x M3) is a 1 x 4 matrix. \n",
    "((M1 x M2) x M3)  requires (2 x 1 x 3) + (2 x 3 x 4) = 30 \n",
    "(M1 x (M2 x M3))  requires (1 x 3 x 4) + (2 x 1 x 4) = 20. \n",
    "The minimum of these two is 20.\n",
    "Input: arr[] = [1, 2, 3, 4, 3]\n",
    "Output: 30\n",
    "Explanation: There are 4 matrices of dimensions 1 × 2, 2 × 3, 3 × 4, 4 × 3. Let this 4 input matrices be M1, M2, M3 and M4. The minimum number of multiplications are obtained by ((M1 x M2) x M3) x M4). The minimum number is (1 x 2 x 3) + (1 x 3 x 4) + (1 x 4 x 3) = 30.\n",
    "Input: arr[] = [3, 4]\n",
    "Output: 0\n",
    "Explanation: As there is only one matrix so, there is no cost of multiplication.\n",
    "Constraints: \n",
    "2 ≤ arr.size() ≤ 100\n",
    "1 ≤ arr[i] ≤ 200\n",
    "\n",
    "Expected Complexities\n",
    "Time Complexity: O(n^3)\n",
    "Auxiliary Space: O(n^2)"
   ]
  },
  {
   "cell_type": "code",
   "execution_count": null,
   "id": "b6fbf77e",
   "metadata": {},
   "outputs": [],
   "source": [
    "class Solution:\n",
    "    def matrixMultiplication(self, arr):\n",
    "        n = len(arr)\n",
    "\n",
    "        def recur(i,j):\n",
    "            if i == j:\n",
    "                return 0\n",
    "            mini = float('inf')\n",
    "            # the min in bwt the for loop.\n",
    "            for k in range(i,j):\n",
    "                # efforts of multiplying the two parts together.\n",
    "                effrot_2_parts = arr[i-1] * arr[k] * arr[j] \n",
    "                effort_frist_part = recur(i,k)\n",
    "                effort_second_part = recur(k+1,j)\n",
    "                total_effort = effort_frist_part + effort_second_part + effrot_2_parts\n",
    "                mini = min(mini, total_effort)\n",
    "            return mini\n",
    "        # NOTE: it should start from 1.\n",
    "        return recur(1, n-1)\n",
    "\n",
    "# tc - O(n^3)\n",
    "# sc - O(n)"
   ]
  },
  {
   "cell_type": "code",
   "execution_count": 6,
   "id": "30c8f034",
   "metadata": {},
   "outputs": [
    {
     "data": {
      "text/plain": [
       "20"
      ]
     },
     "execution_count": 6,
     "metadata": {},
     "output_type": "execute_result"
    }
   ],
   "source": [
    "Solution().matrixMultiplication(arr= [2, 1, 3, 4])"
   ]
  },
  {
   "cell_type": "code",
   "execution_count": 7,
   "id": "65400d97",
   "metadata": {},
   "outputs": [],
   "source": [
    "class Solution:\n",
    "    def matrixMultiplication(self, arr):\n",
    "        \n",
    "        n = len(arr)\n",
    "        dp = [[-1 for _ in range(n)] for _ in range(n)]\n",
    "\n",
    "        def recur(i,j):\n",
    "            if i == j:\n",
    "                return 0\n",
    "            if dp[i][j] != -1:\n",
    "                return dp[i][j]\n",
    "            mini = float('inf')\n",
    "            for k in range(i,j):\n",
    "                # efforts of multiplying the two parts together.\n",
    "                effrot_2_parts = arr[i-1] * arr[k] * arr[j] \n",
    "                effort_frist_part = recur(i,k)\n",
    "                effort_second_part = recur(k+1,j)\n",
    "                total_effort = effort_frist_part + effort_second_part + effrot_2_parts\n",
    "                mini = min(mini, total_effort)\n",
    "            dp[i][j] =  mini\n",
    "            return dp[i][j]\n",
    "        # NOTE: it should start from 1.\n",
    "        return recur(1, n-1)\n",
    "        \n",
    "        \n",
    "# tc - O(n^3)\n",
    "# sc - O(n ^ 2) for dp array + O(n) for recursion stack"
   ]
  },
  {
   "cell_type": "code",
   "execution_count": 8,
   "id": "5c2188d2",
   "metadata": {},
   "outputs": [
    {
     "data": {
      "text/plain": [
       "20"
      ]
     },
     "execution_count": 8,
     "metadata": {},
     "output_type": "execute_result"
    }
   ],
   "source": [
    "Solution().matrixMultiplication(arr= [2, 1, 3, 4])"
   ]
  },
  {
   "cell_type": "code",
   "execution_count": 29,
   "id": "e7a9808a",
   "metadata": {},
   "outputs": [],
   "source": [
    "# there is no i-1 or i+1 in the code, so just keep the dp array as it is.\n",
    "# dp[i][j] = minimum effort to multiply matrices from i to j.\n",
    "class Solution:\n",
    "    def matrixMultiplication(self, arr):\n",
    "        \n",
    "        n = len(arr)\n",
    "        dp = [[0 for _ in range(n)] for _ in range(n)]\n",
    "\n",
    "        for i in range(1, n):\n",
    "            dp[i][i] = 0\n",
    "        \n",
    "        for i in range(n-1, 0, -1):\n",
    "            for j in range(i + 1, n):\n",
    "                mini = float('inf')\n",
    "                for k in range(i, j):\n",
    "                    # efforts of multiplying the two parts together.\n",
    "                    effrot_2_parts = arr[i-1] * arr[k] * arr[j]\n",
    "                    total_effort = dp[i][k] + dp[k+1][j] + effrot_2_parts\n",
    "                    mini = min(mini, total_effort)\n",
    "                dp[i][j] = mini\n",
    "        \n",
    "        # NOTE: row 0 is base case and 0. \n",
    "        print(dp)\n",
    "        return dp[1][n-1]\n",
    "    \n",
    "# tc - O(n^3)\n",
    "# sc - O(n ^ 2) for dp array\n",
    "\n"
   ]
  },
  {
   "cell_type": "code",
   "execution_count": 30,
   "id": "30413d21",
   "metadata": {},
   "outputs": [
    {
     "name": "stdout",
     "output_type": "stream",
     "text": [
      "[[0, 0, 0, 0], [0, 0, 6, 20], [0, 0, 0, 12], [0, 0, 0, 0]]\n"
     ]
    },
    {
     "data": {
      "text/plain": [
       "20"
      ]
     },
     "execution_count": 30,
     "metadata": {},
     "output_type": "execute_result"
    }
   ],
   "source": [
    "Solution().matrixMultiplication(arr= [2, 1, 3, 4])"
   ]
  },
  {
   "cell_type": "code",
   "execution_count": 31,
   "id": "8a8698d2",
   "metadata": {},
   "outputs": [
    {
     "name": "stdout",
     "output_type": "stream",
     "text": [
      "[[0, 0, 0, 0, 0], [0, 0, 6, 18, 30], [0, 0, 0, 24, 48], [0, 0, 0, 0, 36], [0, 0, 0, 0, 0]]\n"
     ]
    },
    {
     "data": {
      "text/plain": [
       "30"
      ]
     },
     "execution_count": 31,
     "metadata": {},
     "output_type": "execute_result"
    }
   ],
   "source": [
    "Solution().matrixMultiplication(arr = [1, 2, 3, 4, 3])"
   ]
  },
  {
   "cell_type": "code",
   "execution_count": 32,
   "id": "a4dfb5c3",
   "metadata": {},
   "outputs": [
    {
     "name": "stdout",
     "output_type": "stream",
     "text": [
      "[[0, 0], [0, 0]]\n"
     ]
    },
    {
     "data": {
      "text/plain": [
       "0"
      ]
     },
     "execution_count": 32,
     "metadata": {},
     "output_type": "execute_result"
    }
   ],
   "source": [
    "Solution().matrixMultiplication(arr = [3, 4])"
   ]
  },
  {
   "cell_type": "code",
   "execution_count": null,
   "id": "f7010c33",
   "metadata": {},
   "outputs": [],
   "source": []
  }
 ],
 "metadata": {
  "kernelspec": {
   "display_name": "3.11.11",
   "language": "python",
   "name": "python3"
  },
  "language_info": {
   "codemirror_mode": {
    "name": "ipython",
    "version": 3
   },
   "file_extension": ".py",
   "mimetype": "text/x-python",
   "name": "python",
   "nbconvert_exporter": "python",
   "pygments_lexer": "ipython3",
   "version": "3.11.11"
  }
 },
 "nbformat": 4,
 "nbformat_minor": 5
}
