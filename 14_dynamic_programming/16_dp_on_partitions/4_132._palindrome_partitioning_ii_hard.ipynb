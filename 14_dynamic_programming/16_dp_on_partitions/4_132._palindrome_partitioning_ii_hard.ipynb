{
 "cells": [
  {
   "cell_type": "markdown",
   "id": "d8987344",
   "metadata": {},
   "source": [
    "Given a string s, partition s such that every substring of the partition is a palindrome.\n",
    "\n",
    "Return the minimum cuts needed for a palindrome partitioning of s.\n",
    "\n",
    " \n",
    "\n",
    "Example 1:\n",
    "\n",
    "Input: s = \"aab\"\n",
    "Output: 1\n",
    "Explanation: The palindrome partitioning [\"aa\",\"b\"] could be produced using 1 cut.\n",
    "Example 2:\n",
    "\n",
    "Input: s = \"a\"\n",
    "Output: 0\n",
    "Example 3:\n",
    "\n",
    "Input: s = \"ab\"\n",
    "Output: 1\n",
    " \n",
    "\n",
    "Constraints:\n",
    "\n",
    "1 <= s.length <= 2000\n",
    "s consists of lowercase English letters only."
   ]
  },
  {
   "cell_type": "code",
   "execution_count": 3,
   "id": "11509022",
   "metadata": {},
   "outputs": [],
   "source": [
    "class Solution:\n",
    "    def minCut(self, s: str) -> int:\n",
    "        n = len(s)\n",
    "        \n",
    "        # Step 1: Precompute palindrome table\n",
    "        is_pal = [[False] * n for _ in range(n)]\n",
    "        \n",
    "        # * We want to fill a 2D table `is_pal[i][j]` that is True if substring `s[i..j]` is a palindrome.\n",
    "        # * We check from the **end of the string backward for start index i**, and forward for end index j ≥ i.\n",
    "        # * Condition to mark `is_pal[i][j] = True`:\n",
    "\n",
    "        # 1. **Characters at the edges are the same:** `s[i] == s[j]`\n",
    "\n",
    "        # 2. And either:\n",
    "\n",
    "        #     * The substring length is less than 3 (`j - i < 3`), which means:\n",
    "\n",
    "        #     * length 1 substring: always palindrome, e.g., \"a\"\n",
    "        #     * length 2 substring: palindrome if chars are equal, e.g., \"aa\" - NOTE: this is checked by the firs condifiotn s[start] == s[end].\n",
    "        #     * OR the inside substring `s[i+1..j-1]` is already palindrome: `is_pal[i+1][j-1] == True`\n",
    "\n",
    "        for start in range(n-1, -1, -1):\n",
    "            for end in range(start, n):\n",
    "                if s[start] == s[end] and (end - start < 3 or is_pal[start+1][end-1]):\n",
    "                    is_pal[start][end] = True\n",
    "\n",
    "        # Step 2: Backtracking using precomputed palindrome table\n",
    "        def backtrack(start):\n",
    "            if start == n:\n",
    "                return 0\n",
    "            mini = float('inf')\n",
    "            \n",
    "            for end in range(start, n):\n",
    "                if is_pal[start][end]:\n",
    "                    cost =  1 + backtrack(end+1)\n",
    "                    mini = min(mini, cost)\n",
    "            return mini\n",
    "        \n",
    "        return backtrack(0) -1 \n",
    "        "
   ]
  },
  {
   "cell_type": "code",
   "execution_count": 4,
   "id": "e95c3dea",
   "metadata": {},
   "outputs": [
    {
     "data": {
      "text/plain": [
       "1"
      ]
     },
     "execution_count": 4,
     "metadata": {},
     "output_type": "execute_result"
    }
   ],
   "source": [
    "Solution().minCut(s = \"aab\")"
   ]
  },
  {
   "cell_type": "code",
   "execution_count": 5,
   "id": "b1693282",
   "metadata": {},
   "outputs": [
    {
     "data": {
      "text/plain": [
       "0"
      ]
     },
     "execution_count": 5,
     "metadata": {},
     "output_type": "execute_result"
    }
   ],
   "source": [
    "Solution().minCut(s = \"a\")"
   ]
  },
  {
   "cell_type": "code",
   "execution_count": 6,
   "id": "5f4fb738",
   "metadata": {},
   "outputs": [
    {
     "data": {
      "text/plain": [
       "1"
      ]
     },
     "execution_count": 6,
     "metadata": {},
     "output_type": "execute_result"
    }
   ],
   "source": [
    "Solution().minCut(s = \"ab\")"
   ]
  },
  {
   "cell_type": "code",
   "execution_count": null,
   "id": "fb8754c0",
   "metadata": {},
   "outputs": [],
   "source": [
    "# memorization:\n",
    "class Solution:\n",
    "    def minCut(self, s: str) -> int:\n",
    "        n = len(s)\n",
    "        \n",
    "        # Step 1: Precompute palindrome table\n",
    "        is_pal = [[False] * n for _ in range(n)]\n",
    "        \n",
    "        for start in range(n-1, -1, -1):\n",
    "            for end in range(start, n):\n",
    "                if s[start] == s[end] and (end - start < 3 or is_pal[start+1][end-1]):\n",
    "                    is_pal[start][end] = True\n",
    "\n",
    "        dp = [-1] * n\n",
    "\n",
    "        # Step 2: Backtracking using precomputed palindrome table\n",
    "        def backtrack(start):\n",
    "            if start == n:\n",
    "                return 0\n",
    "            \n",
    "            if dp[start] != -1:\n",
    "                return dp[start]\n",
    "            \n",
    "            mini = float('inf')\n",
    "            \n",
    "            for end in range(start, n):\n",
    "                if is_pal[start][end]:\n",
    "                    cost =  1 + backtrack(end+1)\n",
    "                    mini = min(mini, cost)\n",
    "            dp[start] =  mini\n",
    "            return dp[start]\n",
    "        \n",
    "        return backtrack(0) -1 \n",
    "        "
   ]
  },
  {
   "cell_type": "code",
   "execution_count": 8,
   "id": "1e4cc853",
   "metadata": {},
   "outputs": [
    {
     "data": {
      "text/plain": [
       "1"
      ]
     },
     "execution_count": 8,
     "metadata": {},
     "output_type": "execute_result"
    }
   ],
   "source": [
    "Solution().minCut(s = \"ab\")"
   ]
  },
  {
   "cell_type": "code",
   "execution_count": null,
   "id": "026f00cc",
   "metadata": {},
   "outputs": [],
   "source": [
    "# tabulation: \n",
    "# dp[i] = minimum cuts needed for substring s[0 to i]\n",
    "\n",
    "class Solution:\n",
    "    def minCut(self, s: str) -> int:\n",
    "        n = len(s)\n",
    "        \n",
    "        # Step 1: Precompute palindrome table\n",
    "        # You just keep the extra boundaries to not make the list outofbound error.\n",
    "        # those will contain False only.\n",
    "        is_pal = [[False] * (n+1) for _ in range(n+1)]\n",
    "        dp = [0] * (n+1)\n",
    "        \n",
    "        for start in range(n-1, -1, -1):\n",
    "            mini = float('inf')\n",
    "            for end in range(start, n):\n",
    "                print(start, end)\n",
    "                # lets check that is palindrome or not here itself.\n",
    "                if s[start] == s[end] and (end - start < 3 or is_pal[start+1][end-1]):\n",
    "                    is_pal[start][end] = True\n",
    "                    cost = 1 + dp[end+1]\n",
    "                    mini = min(mini, cost)\n",
    "            dp[start] = mini if mini != float('inf') else 0\n",
    "        return dp[0] - 1\n",
    "    \n",
    "\n",
    "# tc - O(n * n)\n",
    "# sc - O(n * n) [pal array] + O(n) [dp array]"
   ]
  },
  {
   "cell_type": "code",
   "execution_count": 21,
   "id": "26a6292f",
   "metadata": {},
   "outputs": [
    {
     "name": "stdout",
     "output_type": "stream",
     "text": [
      "1 1\n",
      "0 0\n",
      "0 1\n"
     ]
    },
    {
     "data": {
      "text/plain": [
       "1"
      ]
     },
     "execution_count": 21,
     "metadata": {},
     "output_type": "execute_result"
    }
   ],
   "source": [
    "Solution().minCut(s = \"ab\")"
   ]
  },
  {
   "cell_type": "code",
   "execution_count": 22,
   "id": "8d79d5f2",
   "metadata": {},
   "outputs": [
    {
     "name": "stdout",
     "output_type": "stream",
     "text": [
      "0 0\n"
     ]
    },
    {
     "data": {
      "text/plain": [
       "0"
      ]
     },
     "execution_count": 22,
     "metadata": {},
     "output_type": "execute_result"
    }
   ],
   "source": [
    "Solution().minCut(s = \"a\")"
   ]
  },
  {
   "cell_type": "code",
   "execution_count": 23,
   "id": "8d789cfd",
   "metadata": {},
   "outputs": [
    {
     "name": "stdout",
     "output_type": "stream",
     "text": [
      "2 2\n",
      "1 1\n",
      "1 2\n",
      "0 0\n",
      "0 1\n",
      "0 2\n"
     ]
    },
    {
     "data": {
      "text/plain": [
       "1"
      ]
     },
     "execution_count": 23,
     "metadata": {},
     "output_type": "execute_result"
    }
   ],
   "source": [
    "Solution().minCut(s = \"aab\")"
   ]
  }
 ],
 "metadata": {
  "kernelspec": {
   "display_name": "3.11.11",
   "language": "python",
   "name": "python3"
  },
  "language_info": {
   "codemirror_mode": {
    "name": "ipython",
    "version": 3
   },
   "file_extension": ".py",
   "mimetype": "text/x-python",
   "name": "python",
   "nbconvert_exporter": "python",
   "pygments_lexer": "ipython3",
   "version": "3.11.11"
  }
 },
 "nbformat": 4,
 "nbformat_minor": 5
}
