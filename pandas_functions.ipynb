{
 "cells": [
  {
   "cell_type": "code",
   "execution_count": null,
   "id": "7c751510",
   "metadata": {},
   "outputs": [],
   "source": [
    "# get the sample data with 10 columns so the code matches the data.\n",
    "ddf = "
   ]
  },
  {
   "cell_type": "code",
   "execution_count": null,
   "id": "7f4e4a2b",
   "metadata": {},
   "outputs": [],
   "source": [
    "# The use of map\n",
    "weekname = {\n",
    "    0: \"Monday\",\n",
    "    1: \"Tuesday\",\n",
    "    2: \"Wednesday\",\n",
    "    3: \"Thursday\",\n",
    "    4: \"Friday\",\n",
    "    5: \"Saturday\",\n",
    "    6: \"Sunday\"\n",
    "}\n",
    "\n",
    "ddf[\"day_of_week\"] = ddf[\"day_of_week\"].map(weekname)\n",
    "# this is same as\n",
    "ddf[\"day_of_week\"] = ddf[\"day_of_week\"].apply(lambda x: weekname[x])"
   ]
  },
  {
   "cell_type": "code",
   "execution_count": 18,
   "id": "c6f97bbd",
   "metadata": {},
   "outputs": [
    {
     "name": "stdout",
     "output_type": "stream",
     "text": [
      "  CreatedDate                              Message  count\n",
      "0  2025-01-03         Payment received, thank you!      2\n",
      "1  2025-01-03                    Payment received!      1\n",
      "2  2025-01-05  Invoice generated for your account.      1\n",
      "3  2025-01-09      Your subscription is confirmed.      1\n"
     ]
    }
   ],
   "source": [
    "import pandas as pd\n",
    "\n",
    "# Sample data\n",
    "data = {\n",
    "    'CreatedDate': ['2025-01-03', '2025-01-03', '2025-01-05', '2025-01-09'],\n",
    "    'Message': [\n",
    "        'Payment received, thank you!',\n",
    "        'Payment received!',\n",
    "        'Invoice generated for your account.',\n",
    "        'Your subscription is confirmed.'\n",
    "    ],\n",
    "    'count': [2,1,1,1]\n",
    "}\n",
    "\n",
    "# Create the DataFrame.\n",
    "df = pd.DataFrame(data)\n",
    "df['CreatedDate'] = pd.to_datetime(df['CreatedDate'])\n",
    "\n",
    "# Display the DataFrame.\n",
    "print(df)\n"
   ]
  },
  {
   "cell_type": "code",
   "execution_count": null,
   "id": "d5e4e694",
   "metadata": {},
   "outputs": [
    {
     "data": {
      "text/html": [
       "<div>\n",
       "<style scoped>\n",
       "    .dataframe tbody tr th:only-of-type {\n",
       "        vertical-align: middle;\n",
       "    }\n",
       "\n",
       "    .dataframe tbody tr th {\n",
       "        vertical-align: top;\n",
       "    }\n",
       "\n",
       "    .dataframe thead th {\n",
       "        text-align: right;\n",
       "    }\n",
       "</style>\n",
       "<table border=\"1\" class=\"dataframe\">\n",
       "  <thead>\n",
       "    <tr style=\"text-align: right;\">\n",
       "      <th></th>\n",
       "      <th>CreatedDate</th>\n",
       "      <th>Message</th>\n",
       "      <th>count</th>\n",
       "      <th>week</th>\n",
       "    </tr>\n",
       "  </thead>\n",
       "  <tbody>\n",
       "    <tr>\n",
       "      <th>0</th>\n",
       "      <td>2025-01-03</td>\n",
       "      <td>Payment received, thank you!</td>\n",
       "      <td>1</td>\n",
       "      <td>2024-12-30/2025-01-05</td>\n",
       "    </tr>\n",
       "    <tr>\n",
       "      <th>1</th>\n",
       "      <td>2025-01-05</td>\n",
       "      <td>Invoice generated for your account.</td>\n",
       "      <td>2</td>\n",
       "      <td>2024-12-30/2025-01-05</td>\n",
       "    </tr>\n",
       "    <tr>\n",
       "      <th>2</th>\n",
       "      <td>2025-01-09</td>\n",
       "      <td>Your subscription is confirmed.</td>\n",
       "      <td>1</td>\n",
       "      <td>2025-01-06/2025-01-12</td>\n",
       "    </tr>\n",
       "  </tbody>\n",
       "</table>\n",
       "</div>"
      ],
      "text/plain": [
       "  CreatedDate                              Message  count  \\\n",
       "0  2025-01-03         Payment received, thank you!      1   \n",
       "1  2025-01-05  Invoice generated for your account.      2   \n",
       "2  2025-01-09      Your subscription is confirmed.      1   \n",
       "\n",
       "                    week  \n",
       "0  2024-12-30/2025-01-05  \n",
       "1  2024-12-30/2025-01-05  \n",
       "2  2025-01-06/2025-01-12  "
      ]
     },
     "execution_count": 2,
     "metadata": {},
     "output_type": "execute_result"
    }
   ],
   "source": [
    "df['week'] = df['CreatedDate'].dt.to_period('W')\n",
    "df"
   ]
  },
  {
   "cell_type": "code",
   "execution_count": 9,
   "id": "bc4a567d",
   "metadata": {},
   "outputs": [
    {
     "data": {
      "text/html": [
       "<div>\n",
       "<style scoped>\n",
       "    .dataframe tbody tr th:only-of-type {\n",
       "        vertical-align: middle;\n",
       "    }\n",
       "\n",
       "    .dataframe tbody tr th {\n",
       "        vertical-align: top;\n",
       "    }\n",
       "\n",
       "    .dataframe thead th {\n",
       "        text-align: right;\n",
       "    }\n",
       "</style>\n",
       "<table border=\"1\" class=\"dataframe\">\n",
       "  <thead>\n",
       "    <tr style=\"text-align: right;\">\n",
       "      <th></th>\n",
       "      <th>CreatedDate</th>\n",
       "      <th>Message</th>\n",
       "      <th>count</th>\n",
       "      <th>week</th>\n",
       "      <th>month</th>\n",
       "    </tr>\n",
       "  </thead>\n",
       "  <tbody>\n",
       "    <tr>\n",
       "      <th>0</th>\n",
       "      <td>2025-01-03</td>\n",
       "      <td>Payment received, thank you!</td>\n",
       "      <td>1</td>\n",
       "      <td>2025-01</td>\n",
       "      <td>2025-01</td>\n",
       "    </tr>\n",
       "    <tr>\n",
       "      <th>1</th>\n",
       "      <td>2025-01-05</td>\n",
       "      <td>Invoice generated for your account.</td>\n",
       "      <td>2</td>\n",
       "      <td>2025-01</td>\n",
       "      <td>2025-01</td>\n",
       "    </tr>\n",
       "    <tr>\n",
       "      <th>2</th>\n",
       "      <td>2025-01-09</td>\n",
       "      <td>Your subscription is confirmed.</td>\n",
       "      <td>1</td>\n",
       "      <td>2025-01</td>\n",
       "      <td>2025-01</td>\n",
       "    </tr>\n",
       "  </tbody>\n",
       "</table>\n",
       "</div>"
      ],
      "text/plain": [
       "  CreatedDate                              Message  count     week    month\n",
       "0  2025-01-03         Payment received, thank you!      1  2025-01  2025-01\n",
       "1  2025-01-05  Invoice generated for your account.      2  2025-01  2025-01\n",
       "2  2025-01-09      Your subscription is confirmed.      1  2025-01  2025-01"
      ]
     },
     "execution_count": 9,
     "metadata": {},
     "output_type": "execute_result"
    }
   ],
   "source": [
    "df['month'] = df['CreatedDate'].dt.to_period('M')     # you cna do .dt.start_time -- to get the actual start date. \n",
    "df"
   ]
  },
  {
   "cell_type": "code",
   "execution_count": 3,
   "id": "6eecd05a",
   "metadata": {},
   "outputs": [
    {
     "data": {
      "text/html": [
       "<div>\n",
       "<style scoped>\n",
       "    .dataframe tbody tr th:only-of-type {\n",
       "        vertical-align: middle;\n",
       "    }\n",
       "\n",
       "    .dataframe tbody tr th {\n",
       "        vertical-align: top;\n",
       "    }\n",
       "\n",
       "    .dataframe thead th {\n",
       "        text-align: right;\n",
       "    }\n",
       "</style>\n",
       "<table border=\"1\" class=\"dataframe\">\n",
       "  <thead>\n",
       "    <tr style=\"text-align: right;\">\n",
       "      <th></th>\n",
       "      <th>CreatedDate</th>\n",
       "      <th>Message</th>\n",
       "      <th>count</th>\n",
       "      <th>week</th>\n",
       "    </tr>\n",
       "  </thead>\n",
       "  <tbody>\n",
       "    <tr>\n",
       "      <th>0</th>\n",
       "      <td>2025-01-03</td>\n",
       "      <td>Payment received, thank you!</td>\n",
       "      <td>1</td>\n",
       "      <td>4</td>\n",
       "    </tr>\n",
       "    <tr>\n",
       "      <th>1</th>\n",
       "      <td>2025-01-05</td>\n",
       "      <td>Invoice generated for your account.</td>\n",
       "      <td>2</td>\n",
       "      <td>6</td>\n",
       "    </tr>\n",
       "    <tr>\n",
       "      <th>2</th>\n",
       "      <td>2025-01-09</td>\n",
       "      <td>Your subscription is confirmed.</td>\n",
       "      <td>1</td>\n",
       "      <td>3</td>\n",
       "    </tr>\n",
       "  </tbody>\n",
       "</table>\n",
       "</div>"
      ],
      "text/plain": [
       "  CreatedDate                              Message  count  week\n",
       "0  2025-01-03         Payment received, thank you!      1     4\n",
       "1  2025-01-05  Invoice generated for your account.      2     6\n",
       "2  2025-01-09      Your subscription is confirmed.      1     3"
      ]
     },
     "execution_count": 3,
     "metadata": {},
     "output_type": "execute_result"
    }
   ],
   "source": [
    "df['week'] = df['CreatedDate'].dt.weekday\n",
    "df"
   ]
  },
  {
   "cell_type": "code",
   "execution_count": null,
   "id": "4f412fb7",
   "metadata": {},
   "outputs": [
    {
     "data": {
      "text/html": [
       "<div>\n",
       "<style scoped>\n",
       "    .dataframe tbody tr th:only-of-type {\n",
       "        vertical-align: middle;\n",
       "    }\n",
       "\n",
       "    .dataframe tbody tr th {\n",
       "        vertical-align: top;\n",
       "    }\n",
       "\n",
       "    .dataframe thead th {\n",
       "        text-align: right;\n",
       "    }\n",
       "</style>\n",
       "<table border=\"1\" class=\"dataframe\">\n",
       "  <thead>\n",
       "    <tr style=\"text-align: right;\">\n",
       "      <th></th>\n",
       "      <th>CreatedDate</th>\n",
       "      <th>Message</th>\n",
       "      <th>count</th>\n",
       "      <th>week</th>\n",
       "    </tr>\n",
       "  </thead>\n",
       "  <tbody>\n",
       "    <tr>\n",
       "      <th>0</th>\n",
       "      <td>2025-01-03</td>\n",
       "      <td>Payment received, thank you!</td>\n",
       "      <td>1</td>\n",
       "      <td>2025</td>\n",
       "    </tr>\n",
       "    <tr>\n",
       "      <th>1</th>\n",
       "      <td>2025-01-05</td>\n",
       "      <td>Invoice generated for your account.</td>\n",
       "      <td>2</td>\n",
       "      <td>2025</td>\n",
       "    </tr>\n",
       "    <tr>\n",
       "      <th>2</th>\n",
       "      <td>2025-01-09</td>\n",
       "      <td>Your subscription is confirmed.</td>\n",
       "      <td>1</td>\n",
       "      <td>2025</td>\n",
       "    </tr>\n",
       "  </tbody>\n",
       "</table>\n",
       "</div>"
      ],
      "text/plain": [
       "  CreatedDate                              Message  count  week\n",
       "0  2025-01-03         Payment received, thank you!      1  2025\n",
       "1  2025-01-05  Invoice generated for your account.      2  2025\n",
       "2  2025-01-09      Your subscription is confirmed.      1  2025"
      ]
     },
     "execution_count": 4,
     "metadata": {},
     "output_type": "execute_result"
    }
   ],
   "source": [
    "df['week'] = df['CreatedDate'].dt.year # you can get month also using .dt.month\n",
    "df"
   ]
  },
  {
   "cell_type": "code",
   "execution_count": 19,
   "id": "3cf37748",
   "metadata": {},
   "outputs": [
    {
     "data": {
      "text/html": [
       "<div>\n",
       "<style scoped>\n",
       "    .dataframe tbody tr th:only-of-type {\n",
       "        vertical-align: middle;\n",
       "    }\n",
       "\n",
       "    .dataframe tbody tr th {\n",
       "        vertical-align: top;\n",
       "    }\n",
       "\n",
       "    .dataframe thead th {\n",
       "        text-align: right;\n",
       "    }\n",
       "</style>\n",
       "<table border=\"1\" class=\"dataframe\">\n",
       "  <thead>\n",
       "    <tr style=\"text-align: right;\">\n",
       "      <th></th>\n",
       "      <th>CreatedDate</th>\n",
       "      <th>Message</th>\n",
       "      <th>count</th>\n",
       "      <th>week</th>\n",
       "    </tr>\n",
       "  </thead>\n",
       "  <tbody>\n",
       "    <tr>\n",
       "      <th>0</th>\n",
       "      <td>2025-01-03</td>\n",
       "      <td>Payment received, thank you!</td>\n",
       "      <td>2</td>\n",
       "      <td>2024-12-30</td>\n",
       "    </tr>\n",
       "    <tr>\n",
       "      <th>1</th>\n",
       "      <td>2025-01-03</td>\n",
       "      <td>Payment received!</td>\n",
       "      <td>1</td>\n",
       "      <td>2024-12-30</td>\n",
       "    </tr>\n",
       "    <tr>\n",
       "      <th>2</th>\n",
       "      <td>2025-01-05</td>\n",
       "      <td>Invoice generated for your account.</td>\n",
       "      <td>1</td>\n",
       "      <td>2024-12-30</td>\n",
       "    </tr>\n",
       "    <tr>\n",
       "      <th>3</th>\n",
       "      <td>2025-01-09</td>\n",
       "      <td>Your subscription is confirmed.</td>\n",
       "      <td>1</td>\n",
       "      <td>2025-01-06</td>\n",
       "    </tr>\n",
       "  </tbody>\n",
       "</table>\n",
       "</div>"
      ],
      "text/plain": [
       "  CreatedDate                              Message  count       week\n",
       "0  2025-01-03         Payment received, thank you!      2 2024-12-30\n",
       "1  2025-01-03                    Payment received!      1 2024-12-30\n",
       "2  2025-01-05  Invoice generated for your account.      1 2024-12-30\n",
       "3  2025-01-09      Your subscription is confirmed.      1 2025-01-06"
      ]
     },
     "execution_count": 19,
     "metadata": {},
     "output_type": "execute_result"
    }
   ],
   "source": [
    "df['week'] = df['CreatedDate'].dt.to_period('W').dt.start_time  # gives the start date of the week. \n",
    "\n",
    "# you can try end_time also.\n",
    "df"
   ]
  },
  {
   "cell_type": "code",
   "execution_count": 29,
   "id": "4ec4abdb",
   "metadata": {},
   "outputs": [
    {
     "name": "stdout",
     "output_type": "stream",
     "text": [
      "  CreatedDate                       Message  count       week\n",
      "0  2025-01-03  Payment received, thank you!      2 2024-12-30\n",
      "1  2025-01-03             Payment received!      1 2024-12-30\n",
      "  CreatedDate                              Message  count       week\n",
      "2  2025-01-05  Invoice generated for your account.      1 2024-12-30\n",
      "  CreatedDate                          Message  count       week\n",
      "3  2025-01-09  Your subscription is confirmed.      1 2025-01-06\n"
     ]
    },
    {
     "name": "stderr",
     "output_type": "stream",
     "text": [
      "/var/folders/w5/jt6t0w1x133_kw9d6tynyxrw0000gp/T/ipykernel_16013/1638172660.py:14: DeprecationWarning: DataFrameGroupBy.apply operated on the grouping columns. This behavior is deprecated, and in a future version of pandas the grouping columns will be excluded from the operation. Either pass `include_groups=False` to exclude the groupings or explicitly select the grouping columns after groupby to silence this warning.\n",
      "  df.groupby('CreatedDate').apply(count_info)\n"
     ]
    },
    {
     "data": {
      "text/html": [
       "<div>\n",
       "<style scoped>\n",
       "    .dataframe tbody tr th:only-of-type {\n",
       "        vertical-align: middle;\n",
       "    }\n",
       "\n",
       "    .dataframe tbody tr th {\n",
       "        vertical-align: top;\n",
       "    }\n",
       "\n",
       "    .dataframe thead th {\n",
       "        text-align: right;\n",
       "    }\n",
       "</style>\n",
       "<table border=\"1\" class=\"dataframe\">\n",
       "  <thead>\n",
       "    <tr style=\"text-align: right;\">\n",
       "      <th></th>\n",
       "      <th>non_repeating_msg_count</th>\n",
       "      <th>non_repeating_msg_sum</th>\n",
       "      <th>repeating_msg_count</th>\n",
       "      <th>repeating_msg_sum</th>\n",
       "      <th>total_msg</th>\n",
       "      <th>can_actually_serve</th>\n",
       "    </tr>\n",
       "    <tr>\n",
       "      <th>CreatedDate</th>\n",
       "      <th></th>\n",
       "      <th></th>\n",
       "      <th></th>\n",
       "      <th></th>\n",
       "      <th></th>\n",
       "      <th></th>\n",
       "    </tr>\n",
       "  </thead>\n",
       "  <tbody>\n",
       "    <tr>\n",
       "      <th>2025-01-03</th>\n",
       "      <td>1</td>\n",
       "      <td>1</td>\n",
       "      <td>1</td>\n",
       "      <td>2</td>\n",
       "      <td>3</td>\n",
       "      <td>1</td>\n",
       "    </tr>\n",
       "    <tr>\n",
       "      <th>2025-01-05</th>\n",
       "      <td>1</td>\n",
       "      <td>1</td>\n",
       "      <td>0</td>\n",
       "      <td>0</td>\n",
       "      <td>1</td>\n",
       "      <td>0</td>\n",
       "    </tr>\n",
       "    <tr>\n",
       "      <th>2025-01-09</th>\n",
       "      <td>1</td>\n",
       "      <td>1</td>\n",
       "      <td>0</td>\n",
       "      <td>0</td>\n",
       "      <td>1</td>\n",
       "      <td>0</td>\n",
       "    </tr>\n",
       "  </tbody>\n",
       "</table>\n",
       "</div>"
      ],
      "text/plain": [
       "             non_repeating_msg_count  non_repeating_msg_sum  \\\n",
       "CreatedDate                                                   \n",
       "2025-01-03                         1                      1   \n",
       "2025-01-05                         1                      1   \n",
       "2025-01-09                         1                      1   \n",
       "\n",
       "             repeating_msg_count  repeating_msg_sum  total_msg  \\\n",
       "CreatedDate                                                      \n",
       "2025-01-03                     1                  2          3   \n",
       "2025-01-05                     0                  0          1   \n",
       "2025-01-09                     0                  0          1   \n",
       "\n",
       "             can_actually_serve  \n",
       "CreatedDate                      \n",
       "2025-01-03                    1  \n",
       "2025-01-05                    0  \n",
       "2025-01-09                    0  "
      ]
     },
     "execution_count": 29,
     "metadata": {},
     "output_type": "execute_result"
    }
   ],
   "source": [
    "def count_info(df):\n",
    "    di = {}\n",
    "    # count the number of meessages has came once in the week. and their sum.\n",
    "    print(df)\n",
    "    di['non_repeating_msg_count'] = (df['count'] == 1).sum()\n",
    "    di['non_repeating_msg_sum'] = df[df['count'] == 1]['count'].sum()\n",
    "    di['repeating_msg_count'] = (df['count'] > 1).sum()\n",
    "    di['repeating_msg_sum'] = df[df['count'] > 1]['count'].sum()\n",
    "    di['total_msg'] = df['count'].sum()\n",
    "    di['can_actually_serve'] = di['repeating_msg_sum'] - di['repeating_msg_count']\n",
    "\n",
    "    return pd.Series(di)\n",
    "\n",
    "df.groupby('CreatedDate').apply(count_info)"
   ]
  },
  {
   "cell_type": "code",
   "execution_count": null,
   "id": "f1e2bff8",
   "metadata": {},
   "outputs": [],
   "source": [
    "# drop na \n",
    "df['ExtractedFeatures'] = df['ExtractedFeatures'].dropna(axis=0) # wrong why \n",
    "# This does not drop the rows from the original DataFrame df. It only modifies the Series df['ExtractedFeatures'],\n",
    "#  and then reassigns that cleaned Series back to just that column — not to the whole DataFrame.\n",
    "#  That causes misalignment if some rows were dropped, leading to unexpected NaN values.\n",
    "\n",
    "df = df.dropna(subset=['ExtractedFeatures'])\n",
    "\n"
   ]
  },
  {
   "cell_type": "code",
   "execution_count": null,
   "id": "19acf458",
   "metadata": {},
   "outputs": [],
   "source": [
    "df_exp = df.explode('domain') # this will split the list and give one row one each list elements.\n",
    "\n",
    "\n",
    "\n",
    "# UrlArray\tAiVerdict\tAiScore\tlen_email\tdomain\n",
    "# 0\t[https://scl.ink/VSyva]\tsuspicious\t0.90\t1\t[https://scl.ink]\n",
    "# 4\t[https://www.if.fi/f192]\tclean\t0.56\t1\t[https://www.if.fi]\n",
    "# 11\t[bit.ly/cg_villkor]\tsuspicious\t0.72\t1\t[bit.ly/cg_villkor]\n",
    "\n",
    "\n",
    "# output:\n",
    "\n",
    "# [https://unicef.fi/no]\tclean\t0.52\t1\thttps://unicef.fi\n",
    "# 16\t[elisa.fi/myymalat, elisa.fi/omat-luvat, elisa.fi/yhteydenotto]\tclean\t0.80\t3\telisa.fi/myymalat    --> the first list has been splited into 3 \n",
    "# 16\t[elisa.fi/myymalat, elisa.fi/omat-luvat, elisa.fi/yhteydenotto]\tclean\t0.80\t3\telisa.fi/omat-luvat\n",
    "# 16\t[elisa.fi/myymalat, elisa.fi/omat-luvat, elisa.fi/yhteydenotto]\tclean\t0.80\t3\telisa.fi/yhteydenotto\n",
    "# 17\t[https://unicef.fi/no]\tclean\t0.52\t1\thttps://unicef.fi\n"
   ]
  },
  {
   "cell_type": "code",
   "execution_count": null,
   "id": "ae4783a7",
   "metadata": {},
   "outputs": [
    {
     "ename": "NameError",
     "evalue": "name 'df' is not defined",
     "output_type": "error",
     "traceback": [
      "\u001b[31m---------------------------------------------------------------------------\u001b[39m",
      "\u001b[31mNameError\u001b[39m                                 Traceback (most recent call last)",
      "\u001b[36mCell\u001b[39m\u001b[36m \u001b[39m\u001b[32mIn[1]\u001b[39m\u001b[32m, line 1\u001b[39m\n\u001b[32m----> \u001b[39m\u001b[32m1\u001b[39m \u001b[43mdf\u001b[49m.columns.duplicated()\n",
      "\u001b[31mNameError\u001b[39m: name 'df' is not defined"
     ]
    }
   ],
   "source": [
    "df.columns.duplicated() # give you the list of column names which are duplocated.\n",
    "# oyu can drop them like this\n",
    "df = df.loc[:, ~df.columns.duplicated()]\n"
   ]
  },
  {
   "cell_type": "code",
   "execution_count": null,
   "id": "26ebcb0a",
   "metadata": {},
   "outputs": [],
   "source": [
    "# to convert all the coluns metrics to percentages.\n",
    "metric_cols = [\n",
    "    'Accuracy Overall', 'Precision Overall', 'Recall Overall', 'F1 Overall',\n",
    "    'Accuracy Scam', 'Precision Scam', 'Recall Scam', 'F1 Scam',\n",
    "    'Accuracy NonScam', 'Precision NonScam', 'Recall NonScam', 'F1 NonScam'\n",
    "]\n",
    "\n",
    "for col in metric_cols:\n",
    "    # Convert to percentage string with 2 decimals and % sign\n",
    "    metrics_df[col] = metrics_df[col].apply(lambda x: f\"{x*100:.2f}%\" if pd.notnull(x) else \"N/A\")"
   ]
  }
 ],
 "metadata": {
  "kernelspec": {
   "display_name": "3.11.11",
   "language": "python",
   "name": "python3"
  },
  "language_info": {
   "codemirror_mode": {
    "name": "ipython",
    "version": 3
   },
   "file_extension": ".py",
   "mimetype": "text/x-python",
   "name": "python",
   "nbconvert_exporter": "python",
   "pygments_lexer": "ipython3",
   "version": "3.11.11"
  }
 },
 "nbformat": 4,
 "nbformat_minor": 5
}
