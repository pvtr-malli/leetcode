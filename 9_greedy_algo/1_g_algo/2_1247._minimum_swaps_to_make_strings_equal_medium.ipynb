{
 "cells": [
  {
   "cell_type": "markdown",
   "id": "b77ccf68",
   "metadata": {},
   "source": [
    "You are given two strings s1 and s2 of equal length consisting of letters \"x\" and \"y\" only. Your task is to make these two strings equal to each other. You can swap any two characters that belong to different strings, which means: swap s1[i] and s2[j].\n",
    "\n",
    "Return the minimum number of swaps required to make s1 and s2 equal, or return -1 if it is impossible to do so.\n",
    "\n",
    " \n",
    "\n",
    "Example 1:\n",
    "\n",
    "Input: s1 = \"xx\", s2 = \"yy\"\n",
    "Output: 1\n",
    "Explanation: Swap s1[0] and s2[1], s1 = \"yx\", s2 = \"yx\".\n",
    "Example 2:\n",
    "\n",
    "Input: s1 = \"xy\", s2 = \"yx\"\n",
    "Output: 2\n",
    "Explanation: Swap s1[0] and s2[0], s1 = \"yy\", s2 = \"xx\".\n",
    "Swap s1[0] and s2[1], s1 = \"xy\", s2 = \"xy\".\n",
    "Note that you cannot swap s1[0] and s1[1] to make s1 equal to \"yx\", cause we can only swap chars in different strings.\n",
    "Example 3:\n",
    "\n",
    "Input: s1 = \"xx\", s2 = \"xy\"\n",
    "Output: -1\n",
    " \n",
    "\n",
    "Constraints:\n",
    "\n",
    "1 <= s1.length, s2.length <= 1000\n",
    "s1.length == s2.length\n",
    "s1, s2 only contain 'x' or 'y'."
   ]
  },
  {
   "cell_type": "markdown",
   "id": "9b98a215",
   "metadata": {},
   "source": [
    "\n",
    "\n",
    "### 🔑 Key Observations:\n",
    "\n",
    "1. The **only mismatches that matter** are:\n",
    "\n",
    "   * `'x'` in `s1` and `'y'` in `s2` → mismatch type `\"xy\"`\n",
    "   * `'y'` in `s1` and `'x'` in `s2` → mismatch type `\"yx\"`\n",
    "\n",
    "2. To fix:\n",
    "\n",
    "   * **2 \"xy\" → 1 swap**\n",
    "   * **2 \"yx\" → 1 swap**\n",
    "   * **1 \"xy\" + 1 \"yx\" → 2 swaps**\n",
    "\n",
    "3. So:\n",
    "\n",
    "   * If total number of mismatches is **odd**, it’s **impossible** (can’t be paired up).\n",
    "\n",
    "\n"
   ]
  },
  {
   "cell_type": "code",
   "execution_count": null,
   "id": "3ff4d315",
   "metadata": {},
   "outputs": [],
   "source": [
    "class Solution:\n",
    "    def minimumSwap(self, s1: str, s2: str) -> int:\n",
    "        xy = yx = 0\n",
    "\n",
    "        for a, b in zip(s1, s2):\n",
    "            if a == 'x' and b == 'y':\n",
    "                xy += 1\n",
    "            elif a == 'y' and b == 'x':\n",
    "                yx += 1\n",
    "\n",
    "        # If total mismatches are odd, we can't resolve them\n",
    "        if (xy + yx) % 2 != 0:\n",
    "            return -1\n",
    "\n",
    "        # (xy // 2) + (yx // 2): pairs that can be fixed in 1 move\n",
    "        # (xy % 2) + (yx % 2): if one mismatch remains each, fix both in 2 moves\n",
    "        # We don’t need to write 2 * (xy % 2 + yx % 2) because:\n",
    "        # If xy % 2 == 1, then yx % 2 == 1 too — due to total mismatch count being even.\n",
    "        # And if xy % 2 == 0, then yx % 2 == 0.\n",
    "\n",
    "        return (xy // 2) + (yx // 2) + 2 * (xy % 2)\n",
    "\n",
    "# tc - o(N)\n",
    "# sc - O(1)"
   ]
  },
  {
   "cell_type": "code",
   "execution_count": 4,
   "id": "db1093c6",
   "metadata": {},
   "outputs": [
    {
     "name": "stdout",
     "output_type": "stream",
     "text": [
      "2 0\n"
     ]
    },
    {
     "data": {
      "text/plain": [
       "1"
      ]
     },
     "execution_count": 4,
     "metadata": {},
     "output_type": "execute_result"
    }
   ],
   "source": [
    "Solution().minimumSwap(s1 = \"xx\", s2 = \"yy\")"
   ]
  },
  {
   "cell_type": "code",
   "execution_count": null,
   "id": "c57018f0",
   "metadata": {},
   "outputs": [],
   "source": []
  }
 ],
 "metadata": {
  "kernelspec": {
   "display_name": "3.11.11",
   "language": "python",
   "name": "python3"
  },
  "language_info": {
   "codemirror_mode": {
    "name": "ipython",
    "version": 3
   },
   "file_extension": ".py",
   "mimetype": "text/x-python",
   "name": "python",
   "nbconvert_exporter": "python",
   "pygments_lexer": "ipython3",
   "version": "3.11.11"
  }
 },
 "nbformat": 4,
 "nbformat_minor": 5
}
