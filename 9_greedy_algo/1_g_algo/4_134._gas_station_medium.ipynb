{
 "cells": [
  {
   "cell_type": "markdown",
   "id": "4f529b5f",
   "metadata": {},
   "source": [
    "There are n gas stations along a circular route, where the amount of gas at the ith station is gas[i].\n",
    "\n",
    "You have a car with an unlimited gas tank and it costs cost[i] of gas to travel from the ith station to its next (i + 1)th station. You begin the journey with an empty tank at one of the gas stations.\n",
    "\n",
    "Given two integer arrays gas and cost, return the starting gas station's index if you can travel around the circuit once in the clockwise direction, otherwise return -1. If there exists a solution, it is guaranteed to be unique.\n",
    "\n",
    " \n",
    "\n",
    "Example 1:\n",
    "\n",
    "Input: gas = [1,2,3,4,5], cost = [3,4,5,1,2]\n",
    "Output: 3\n",
    "Explanation:\n",
    "Start at station 3 (index 3) and fill up with 4 unit of gas. Your tank = 0 + 4 = 4\n",
    "Travel to station 4. Your tank = 4 - 1 + 5 = 8\n",
    "Travel to station 0. Your tank = 8 - 2 + 1 = 7\n",
    "Travel to station 1. Your tank = 7 - 3 + 2 = 6\n",
    "Travel to station 2. Your tank = 6 - 4 + 3 = 5\n",
    "Travel to station 3. The cost is 5. Your gas is just enough to travel back to station 3.\n",
    "Therefore, return 3 as the starting index.\n",
    "Example 2:\n",
    "\n",
    "Input: gas = [2,3,4], cost = [3,4,3]\n",
    "Output: -1\n",
    "Explanation:\n",
    "You can't start at station 0 or 1, as there is not enough gas to travel to the next station.\n",
    "Let's start at station 2 and fill up with 4 unit of gas. Your tank = 0 + 4 = 4\n",
    "Travel to station 0. Your tank = 4 - 3 + 2 = 3\n",
    "Travel to station 1. Your tank = 3 - 3 + 3 = 3\n",
    "You cannot travel back to station 2, as it requires 4 unit of gas but you only have 3.\n",
    "Therefore, you can't travel around the circuit once no matter where you start.\n",
    " \n",
    "\n",
    "Constraints:\n",
    "\n",
    "n == gas.length == cost.length\n",
    "1 <= n <= 105\n",
    "0 <= gas[i], cost[i] <= 104\n",
    "The input is generated such that the answer is unique."
   ]
  },
  {
   "cell_type": "markdown",
   "id": "e43e2e48",
   "metadata": {},
   "source": [
    "# brutforce:\n",
    "- keep all the station as start and check we can complete it.\n"
   ]
  },
  {
   "cell_type": "code",
   "execution_count": null,
   "id": "75bca927",
   "metadata": {},
   "outputs": [],
   "source": [
    "class Solution:\n",
    "    def canCompleteCircuit(self, gas: list[int], cost: list[int]) -> int:\n",
    "        n = len(gas)\n",
    "        \n",
    "        for start in range(n):\n",
    "            tank = 0\n",
    "            valid = True\n",
    "            \n",
    "            for i in range(n):\n",
    "                # the index, we need to convert it to rotating index.\n",
    "                idx = (start + i) % n\n",
    "                # The task fuel left, after coming to this point.\n",
    "                # “At station i, I pick up gas[i], then spend cost[i] to go to the next station.”\n",
    "                # so here you take the idx gas and spend cost[idx] to go to the station idx+1.\n",
    "                tank += gas[idx] - cost[idx]\n",
    "                \n",
    "                if tank < 0:\n",
    "                    valid = False\n",
    "                    break\n",
    "            \n",
    "            if valid:\n",
    "                return start\n",
    "        \n",
    "        return -1\n",
    "\n",
    "# tc - O(n^2)\n",
    "# sc - O(1)"
   ]
  },
  {
   "cell_type": "markdown",
   "id": "20db9a60",
   "metadata": {},
   "source": [
    "# approach 2:\n",
    "- we need to check that we can make a circle or not. see you have fuel < cost ==> then we cant reach the station for sure.\n",
    "```\n",
    "if total gas - total cost < 0:\n",
    "    return -1\n",
    "```\n",
    "- we will count the total_tank . have a curr_tank - whenever this is coming negative. reassign the starting point.\n",
    "- because having 's' as a starting point you are getting negative fuel - then for sure you cant start from 's'.\n"
   ]
  },
  {
   "cell_type": "code",
   "execution_count": null,
   "id": "79f8e41d",
   "metadata": {},
   "outputs": [],
   "source": [
    "class Solution:\n",
    "    def canCompleteCircuit(self, gas: list[int], cost: list[int]) -> int:\n",
    "        total_tank = 0\n",
    "        curr_tank = 0\n",
    "        start_index = 0\n",
    "\n",
    "        for i in range(len(gas)):\n",
    "            total_tank += gas[i] - cost[i]\n",
    "            curr_tank += gas[i] - cost[i]\n",
    "\n",
    "            # If tank is negative, can't start from current start_index\n",
    "            if curr_tank < 0:\n",
    "                start_index = i + 1\n",
    "                curr_tank = 0\n",
    "\n",
    "        return start_index if total_tank >= 0 else -1\n",
    "\n",
    "# tc - O(n)\n",
    "# sc - O(1)"
   ]
  },
  {
   "cell_type": "markdown",
   "id": "ea4c1dcd",
   "metadata": {},
   "source": [
    "gas  = [1, 2, 3, 4, 5]\n",
    "cost = [3, 4, 5, 1, 2]\n",
    "\n",
    "\n",
    "--\n",
    "\n",
    "| i | gas\\[i] | cost\\[i] | gain (gas\\[i] - cost\\[i]) | total\\_tank | curr\\_tank | start\\_index | Action                 |\n",
    "| - | ------- | -------- | ------------------------- | ----------- | ---------- | ------------ | ---------------------- |\n",
    "| 0 | 1       | 3        | -2                        | -2          | -2         | 0            | Reset start to i+1 → 1 |\n",
    "| 1 | 2       | 4        | -2                        | -4          | -2         | 1            | Reset start to i+1 → 2 |\n",
    "| 2 | 3       | 5        | -2                        | -6          | -2         | 2            | Reset start to i+1 → 3 |\n",
    "| 3 | 4       | 1        | +3                        | -3          | +3         | 3            | Keep going             |\n",
    "| 4 | 5       | 2        | +3                        | 0           | +6         | 3            | Keep going             |\n"
   ]
  },
  {
   "cell_type": "markdown",
   "id": "cb15d1b5",
   "metadata": {},
   "source": [
    "ß"
   ]
  }
 ],
 "metadata": {
  "language_info": {
   "name": "python"
  }
 },
 "nbformat": 4,
 "nbformat_minor": 5
}
