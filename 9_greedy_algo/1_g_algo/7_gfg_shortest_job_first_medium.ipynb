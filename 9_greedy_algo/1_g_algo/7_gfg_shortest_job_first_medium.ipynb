{
 "cells": [
  {
   "cell_type": "markdown",
   "id": "2eafbdc7",
   "metadata": {},
   "source": [
    "Geek is a software engineer. He is assigned with the task of calculating average waiting time of all the processes by following shortest job first policy.\n",
    "\n",
    "The shortest job first (SJF) or shortest job next, is a scheduling policy that selects the waiting process with the smallest execution time to execute next.\n",
    "\n",
    "Given an array of integers bt of size n. Array bt denotes the burst time of each process. Calculate the average waiting time of all the processes and return the nearest integer which is smaller or equal to the output.\n",
    "\n",
    "Note: Consider all process are available at time 0.\n",
    "\n",
    "Example 1:\n",
    "\n",
    "Input:\n",
    "n = 5\n",
    "bt = [4,3,7,1,2]\n",
    "Output: 4\n",
    "Explanation: After sorting burst times by shortest job policy, calculated average waiting time is 4.\n",
    "Example 2:\n",
    "\n",
    "Input:\n",
    "n = 4\n",
    "arr = [1,2,3,4]\n",
    "Output: 2\n",
    "Explanation: After sorting burst times by shortest job policy, calculated average waiting time is 2.\n",
    "Your Task:\n",
    "You don't need to read input or print anything. Your task is to complete the function solve() which takes bt[] as input parameter and returns the average waiting time of all the processes.\n",
    "\n",
    "Expected Time Complexity: O(nlog(n))\n",
    "Expected Auxiliary Space: O(1)"
   ]
  },
  {
   "cell_type": "code",
   "execution_count": null,
   "id": "281bcc76",
   "metadata": {},
   "outputs": [],
   "source": [
    "#User function Template for python3\n",
    "\n",
    "class Solution:\n",
    "    def solve(self, bt: list[int]):\n",
    "        bt.sort()\n",
    "\n",
    "        waiting_time_for_cur_task = 0\n",
    "        total_waiting_time = 0\n",
    "        # then count all the waiting time. basically prefix sum.\n",
    "        for i in range(1, len(bt)):\n",
    "            # for [4,3,7,1,2] after sorting - [1,2,3,4,7]\n",
    "            waiting_time_for_cur_task += bt[i-1] # this is calculating the prefix sum - [0,1,3,6,10]\n",
    "            total_waiting_time += waiting_time_for_cur_task # this is calculating the sum(prefix sum)\n",
    "            \n",
    "        return total_waiting_time // len(bt)\n",
    "    \n",
    "# tc - O(n log n)\n",
    "# sc - O(1)"
   ]
  },
  {
   "cell_type": "code",
   "execution_count": 12,
   "id": "294fb163",
   "metadata": {},
   "outputs": [
    {
     "data": {
      "text/plain": [
       "4"
      ]
     },
     "execution_count": 12,
     "metadata": {},
     "output_type": "execute_result"
    }
   ],
   "source": [
    "Solution().solve(bt = [4,3,7,1,2])"
   ]
  },
  {
   "cell_type": "code",
   "execution_count": 13,
   "id": "f1434cfb",
   "metadata": {},
   "outputs": [
    {
     "data": {
      "text/plain": [
       "2"
      ]
     },
     "execution_count": 13,
     "metadata": {},
     "output_type": "execute_result"
    }
   ],
   "source": [
    "Solution().solve([1,2,3,4])"
   ]
  },
  {
   "cell_type": "markdown",
   "id": "f0a46c6c",
   "metadata": {},
   "source": [
    "Original: [4, 3, 7, 1, 2]\n",
    "Sorted:   [1, 2, 3, 4, 7]\n",
    "\n",
    "| i (index) | Current Task (bt[i]) | waiting_time_for_cur_task (before adding bt[i-1]) | Add bt[i-1] | Updated waiting_time_for_cur_task | total_waiting_time (after update) |\n",
    "| --------- | -------------------- | ------------------------------------------------- | ----------- | --------------------------------- | --------------------------------- |\n",
    "| 1         | 2                    | 0                                                 | +1          | 1                                 | 1                                 |\n",
    "| 2         | 3                    | 1                                                 | +2          | 3                                 | 4 (=1+3)                          |\n",
    "| 3         | 4                    | 3                                                 | +3          | 6                                 | 10 (=4+6)                         |\n",
    "| 4         | 7                    | 6                                                 | +4          | 10                                | 20 (=10+10)                       |\n",
    "\n",
    "\n",
    "\n",
    "total_waiting_time = 20\n",
    "n = 5\n",
    "Average waiting time = 20 // 5 = 4"
   ]
  },
  {
   "cell_type": "code",
   "execution_count": null,
   "id": "cd3cb3f0",
   "metadata": {},
   "outputs": [],
   "source": []
  }
 ],
 "metadata": {
  "kernelspec": {
   "display_name": "3.11.11",
   "language": "python",
   "name": "python3"
  },
  "language_info": {
   "codemirror_mode": {
    "name": "ipython",
    "version": 3
   },
   "file_extension": ".py",
   "mimetype": "text/x-python",
   "name": "python",
   "nbconvert_exporter": "python",
   "pygments_lexer": "ipython3",
   "version": "3.11.11"
  }
 },
 "nbformat": 4,
 "nbformat_minor": 5
}
