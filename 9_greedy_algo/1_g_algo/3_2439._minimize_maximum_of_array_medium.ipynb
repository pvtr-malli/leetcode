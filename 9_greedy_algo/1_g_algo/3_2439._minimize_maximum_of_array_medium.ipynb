{
 "cells": [
  {
   "cell_type": "markdown",
   "id": "8d19e968",
   "metadata": {},
   "source": [
    "You are given a 0-indexed array nums comprising of n non-negative integers.\n",
    "\n",
    "In one operation, you must:\n",
    "\n",
    "Choose an integer i such that 1 <= i < n and nums[i] > 0.\n",
    "Decrease nums[i] by 1.\n",
    "Increase nums[i - 1] by 1.\n",
    "Return the minimum possible value of the maximum integer of nums after performing any number of operations.\n",
    "\n",
    " \n",
    "\n",
    "Example 1:\n",
    "\n",
    "Input: nums = [3,7,1,6]\n",
    "Output: 5\n",
    "Explanation:\n",
    "One set of optimal operations is as follows:\n",
    "1. Choose i = 1, and nums becomes [4,6,1,6].\n",
    "2. Choose i = 3, and nums becomes [4,6,2,5].\n",
    "3. Choose i = 1, and nums becomes [5,5,2,5].\n",
    "The maximum integer of nums is 5. It can be shown that the maximum number cannot be less than 5.\n",
    "Therefore, we return 5.\n",
    "Example 2:\n",
    "\n",
    "Input: nums = [10,1]\n",
    "Output: 10\n",
    "Explanation:\n",
    "It is optimal to leave nums as is, and since 10 is the maximum value, we return 10.\n",
    " \n",
    "\n",
    "Constraints:\n",
    "\n",
    "n == nums.length\n",
    "2 <= n <= 105\n",
    "0 <= nums[i] <= 109"
   ]
  },
  {
   "cell_type": "code",
   "execution_count": null,
   "id": "c3a6511c",
   "metadata": {},
   "outputs": [],
   "source": [
    "# brute force would\n",
    "# - take the max number and reduce it until while reducing the neighbour becomes bigger than this number.\n",
    "# - return "
   ]
  },
  {
   "cell_type": "code",
   "execution_count": null,
   "id": "656272cc",
   "metadata": {},
   "outputs": [],
   "source": [
    "# we can do binary search on answer for this .\n",
    "# search space - 0 - max\n",
    "# for this [3,7,1,6]; \n",
    "# questions: can we make the array to have maximum as given maxi by distributing the excess values.\n",
    "# [0,1,2,3,4,5,6] \n",
    "# [f,f,f,f,f,t,t] -> Looking for first True.\n",
    "class Solution:\n",
    "    def minimizeArrayValue(self, nums: list[int]) -> int:\n",
    "        def canAchieve(max_val):\n",
    "            # Check if we can make all elements <= max_val\n",
    "            # Start from right and move excess leftward\n",
    "            excess = 0\n",
    "            \n",
    "            for i in range(len(nums) - 1, 0, -1):\n",
    "                if nums[i] + excess > max_val:\n",
    "                    excess += nums[i] - max_val\n",
    "                else:\n",
    "                    excess = 0\n",
    "            \n",
    "            # Check if first element can handle the final excess\n",
    "            return nums[0] + excess <= max_val\n",
    "        \n",
    "        # Binary search on the answer\n",
    "        left, right = 0, max(nums)\n",
    "        \n",
    "        while left < right:\n",
    "            mid = (left + right) // 2\n",
    "            \n",
    "            if canAchieve(mid):\n",
    "                right = mid # Try smaller maximum\n",
    "            else:\n",
    "                left = mid + 1  # Need larger maximum\n",
    "        \n",
    "        return left\n",
    "\n",
    "# TC: O(n * log(max_val)) where max_val is the maximum element in nums\n",
    "# SC: O(1) - only using variables, no extra data structures\n"
   ]
  },
  {
   "cell_type": "code",
   "execution_count": 12,
   "id": "67ff2671",
   "metadata": {},
   "outputs": [
    {
     "data": {
      "text/plain": [
       "5"
      ]
     },
     "execution_count": 12,
     "metadata": {},
     "output_type": "execute_result"
    }
   ],
   "source": [
    "Solution().minimizeArrayValue(nums = [3,7,1,6])\n"
   ]
  },
  {
   "cell_type": "code",
   "execution_count": 13,
   "id": "b82d559b",
   "metadata": {},
   "outputs": [
    {
     "data": {
      "text/plain": [
       "10"
      ]
     },
     "execution_count": 13,
     "metadata": {},
     "output_type": "execute_result"
    }
   ],
   "source": [
    "Solution().minimizeArrayValue(nums = [10,1])"
   ]
  },
  {
   "cell_type": "markdown",
   "id": "70d368fa",
   "metadata": {},
   "source": [
    "\n",
    "### **The Core Insight:**\n",
    "*\"Since elements can only flow leftward, each prefix must be 'self-sufficient'\"*\n",
    "\n",
    "### **Key Realization:**\n",
    "At any position `i`, the **best possible scenario** is if we could **perfectly distribute** the prefix sum `[0..i]` evenly among those `(i+1)` elements.\n",
    "\n",
    "### **The Logic:**\n",
    "```\n",
    "For prefix [0..i]:\n",
    "- Total sum = nums[0] + nums[1] + ... + nums[i]\n",
    "- Elements count = i + 1\n",
    "- Best possible max = ceil(total_sum / (i+1))\n",
    "```\n",
    "\n",
    "### **Why This Works:**\n",
    "Each prefix gives us a **constraint**:\n",
    "- \"The final answer must be ≥ ceil(prefix_sum / length)\"\n",
    "- We take the **maximum** of all these constraints\n",
    "\n",
    "### **Example:**\n",
    "```\n",
    "nums = [3,7,1,6]\n",
    "\n",
    "i=0: [3] → sum=3, ceil(3/1) = 3\n",
    "i=1: [3,7] → sum=10, ceil(10/2) = 5  ← bottleneck!\n",
    "i=2: [3,7,1] → sum=11, ceil(11/3) = 4\n",
    "i=3: [3,7,1,6] → sum=17, ceil(17/4) = 5\n",
    "\n",
    "Answer = max(3,5,4,5) = 5\n",
    "```\n",
    "\n",
    "### **Intuition:**\n",
    "Position 1 creates the **tightest constraint** - we need at least 5 to handle the heavy prefix `[3,7]`. Beautiful and elegant! 🎯"
   ]
  },
  {
   "cell_type": "code",
   "execution_count": null,
   "id": "5ea3ec26",
   "metadata": {},
   "outputs": [],
   "source": [
    "# prefix sum + greedy\n",
    "def minimizeArrayValue(nums: list[int]) -> int:\n",
    "    prefix_sum = 0\n",
    "    result = 0\n",
    "    \n",
    "    for i in range(len(nums)):\n",
    "        prefix_sum += nums[i]\n",
    "        # distribute the results so far acrross all the indexes. (0 - i)\n",
    "        avg = (prefix_sum) // (i + 1)  # ceil(prefix_sum / (i+1))\n",
    "        result = max(result, avg)\n",
    "    \n",
    "    return result\n",
    "\n",
    "# tc - O(n)\n",
    "# sc - O(1)"
   ]
  },
  {
   "cell_type": "code",
   "execution_count": 4,
   "id": "5ec6d8cc",
   "metadata": {},
   "outputs": [
    {
     "data": {
      "text/plain": [
       "5"
      ]
     },
     "execution_count": 4,
     "metadata": {},
     "output_type": "execute_result"
    }
   ],
   "source": [
    "minimizeArrayValue(nums = [3,7,1,6])"
   ]
  },
  {
   "cell_type": "code",
   "execution_count": null,
   "id": "bf3dea70",
   "metadata": {},
   "outputs": [],
   "source": []
  }
 ],
 "metadata": {
  "kernelspec": {
   "display_name": "3.11.11",
   "language": "python",
   "name": "python3"
  },
  "language_info": {
   "codemirror_mode": {
    "name": "ipython",
    "version": 3
   },
   "file_extension": ".py",
   "mimetype": "text/x-python",
   "name": "python",
   "nbconvert_exporter": "python",
   "pygments_lexer": "ipython3",
   "version": "3.11.11"
  }
 },
 "nbformat": 4,
 "nbformat_minor": 5
}
