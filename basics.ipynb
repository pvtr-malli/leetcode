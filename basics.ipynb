{
 "cells": [
  {
   "cell_type": "markdown",
   "id": "48484106",
   "metadata": {},
   "source": [
    "# 1 | List"
   ]
  },
  {
   "cell_type": "code",
   "execution_count": 3,
   "id": "3fd8d7b7",
   "metadata": {},
   "outputs": [
    {
     "name": "stdout",
     "output_type": "stream",
     "text": [
      "4\n"
     ]
    },
    {
     "data": {
      "text/plain": [
       "1"
      ]
     },
     "execution_count": 3,
     "metadata": {},
     "output_type": "execute_result"
    }
   ],
   "source": [
    "a = [1,2,3,4]\n",
    "print(a.pop()) # pop works on the back. \n",
    "# if you want from front, then ask for it\n",
    "a.pop(0)"
   ]
  },
  {
   "cell_type": "markdown",
   "id": "7e5d7b29",
   "metadata": {},
   "source": [
    "## ❓ Does calling len(arr) multiple times increase time complexity?\n",
    "No, it does not increase your time complexity.\n",
    "\n",
    "✅ Why?\n",
    "In Python, len(arr) is a constant time operation — O(1) — because:\n",
    "\n",
    "Lists store their length internally.\n",
    "\n",
    "It doesn’t require counting elements each time.\n",
    "\n",
    "So even if you write len(arr) 3 or 30 times, it does not affect the time complexity of your function."
   ]
  },
  {
   "cell_type": "markdown",
   "id": "d7e8ab83",
   "metadata": {},
   "source": [
    "# Maths"
   ]
  },
  {
   "cell_type": "markdown",
   "id": "de817a22",
   "metadata": {},
   "source": [
    "- x << y\n",
    "Returns x with the bits shifted to the left by y places (and new bits on the right-hand-side are zeros). This is the same as multiplying x by 2**y.\n",
    "- x >> y\n",
    "Returns x with the bits shifted to the right by y places. This is the same as floor division of x by 2**y.\n",
    "- x & y\n",
    "Does a \"bitwise and\". Each bit of the output is 1 if the corresponding bit of x AND of y is 1, otherwise it's 0.\n",
    "- x | y\n",
    "Does a \"bitwise or\". Each bit of the output is 0 if the corresponding bit of x AND of y is 0, otherwise it's 1.\n",
    "- ~ x\n",
    "Returns the complement of x - the number you get by switching each 1 for a 0 and each 0 for a 1. This is the same as -x - 1.\n",
    "- x ^ y\n",
    "Does a \"bitwise exclusive or\". Each bit of the output is the same as the corresponding bit in x if that bit in y is 0, and it's the complement of the bit in x if that bit in y is 1."
   ]
  },
  {
   "cell_type": "code",
   "execution_count": 2,
   "id": "174a4be6",
   "metadata": {},
   "outputs": [
    {
     "data": {
      "text/plain": [
       "65"
      ]
     },
     "execution_count": 2,
     "metadata": {},
     "output_type": "execute_result"
    }
   ],
   "source": [
    "# from where the number ASCII code starts.\n",
    "ord(\"A\")"
   ]
  },
  {
   "cell_type": "code",
   "execution_count": 3,
   "id": "445d6596",
   "metadata": {},
   "outputs": [
    {
     "data": {
      "text/plain": [
       "97"
      ]
     },
     "execution_count": 3,
     "metadata": {},
     "output_type": "execute_result"
    }
   ],
   "source": [
    "ord(\"a\")"
   ]
  },
  {
   "cell_type": "code",
   "execution_count": 4,
   "id": "ec972f64",
   "metadata": {},
   "outputs": [
    {
     "data": {
      "text/plain": [
       "49"
      ]
     },
     "execution_count": 4,
     "metadata": {},
     "output_type": "execute_result"
    }
   ],
   "source": [
    "ord(\"1\")"
   ]
  },
  {
   "cell_type": "markdown",
   "id": "eb5b6cfa",
   "metadata": {},
   "source": [
    "# 3 | Recurssion:\n"
   ]
  },
  {
   "cell_type": "markdown",
   "id": "58638a7e",
   "metadata": {},
   "source": [
    "- is power set == combination. \n",
    "- No power set is all possible subsets, \n",
    "- comninations is only for the choosen r.\n",
    "\n",
    "\n",
    "# but combination for all r == power set.\n",
    "| Concept                           | Count                    |\n",
    "| --------------------------------- | ------------------------ |\n",
    "| Power Set                         | `2^n` subsets            |\n",
    "| All combinations (for r = 0 to n) | `2^n` combinations total |\n",
    "\n",
    "Let’s take nums = [1, 2, 3]\n",
    "\n",
    "All Combinations: nCr\n",
    "r = 0 → [[]] \n",
    "\n",
    "r = 1 → [[1], [2], [3]]\n",
    "\n",
    "r = 2 → [[1, 2], [1, 3], [2, 3]]\n",
    "\n",
    "r = 3 → [[1, 2, 3]]\n",
    "\n",
    "Total combinations = Power Set:\n"
   ]
  },
  {
   "cell_type": "markdown",
   "id": "e53f6a71",
   "metadata": {},
   "source": [
    "# how to get all the subsets - recurssion take and not take\n",
    "# how to get all the subarrays - for loop"
   ]
  },
  {
   "cell_type": "code",
   "execution_count": 1,
   "id": "75c3b032",
   "metadata": {},
   "outputs": [
    {
     "name": "stdout",
     "output_type": "stream",
     "text": [
      "[[1], [1, 2], [1, 2, 3], [2], [2, 3], [3]]\n"
     ]
    }
   ],
   "source": [
    "def get_all_subarrays(nums):\n",
    "    n = len(nums)\n",
    "    subarrays = []\n",
    "    \n",
    "    for i in range(n):\n",
    "        for j in range(i, n):\n",
    "            subarrays.append(nums[i:j+1])\n",
    "    \n",
    "    return subarrays\n",
    "nums = [1, 2, 3]\n",
    "print(get_all_subarrays(nums))\n"
   ]
  },
  {
   "cell_type": "markdown",
   "id": "3520de91",
   "metadata": {},
   "source": []
  }
 ],
 "metadata": {
  "kernelspec": {
   "display_name": "3.11.11",
   "language": "python",
   "name": "python3"
  },
  "language_info": {
   "codemirror_mode": {
    "name": "ipython",
    "version": 3
   },
   "file_extension": ".py",
   "mimetype": "text/x-python",
   "name": "python",
   "nbconvert_exporter": "python",
   "pygments_lexer": "ipython3",
   "version": "3.11.11"
  }
 },
 "nbformat": 4,
 "nbformat_minor": 5
}
