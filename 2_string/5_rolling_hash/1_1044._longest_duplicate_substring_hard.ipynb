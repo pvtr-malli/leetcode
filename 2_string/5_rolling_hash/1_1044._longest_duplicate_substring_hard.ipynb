{
 "cells": [
  {
   "cell_type": "markdown",
   "id": "826849aa",
   "metadata": {},
   "source": [
    "Given a string s, consider all duplicated substrings: (contiguous) substrings of s that occur 2 or more times. The occurrences may overlap.\n",
    "\n",
    "Return any duplicated substring that has the longest possible length. If s does not have a duplicated substring, the answer is \"\".\n",
    "\n",
    " \n",
    "\n",
    "Example 1:\n",
    "\n",
    "Input: s = \"banana\"\n",
    "Output: \"ana\"\n",
    "Example 2:\n",
    "\n",
    "Input: s = \"abcd\"\n",
    "Output: \"\"\n",
    " \n",
    "\n",
    "Constraints:\n",
    "\n",
    "2 <= s.length <= 3 * 104\n",
    "s consists of lowercase English letters."
   ]
  },
  {
   "cell_type": "code",
   "execution_count": null,
   "id": "a6757fea",
   "metadata": {},
   "outputs": [],
   "source": [
    "class Solution:\n",
    "    def longestDupSubstring(self, s: str) -> str:\n",
    "        n = len(s)\n",
    "        seen = set()\n",
    "        max_len = 0\n",
    "        res = \"\"\n",
    "\n",
    "        for i in range(n):\n",
    "            for j in range(i + 1, n + 1):\n",
    "                substr = s[i:j]\n",
    "                if substr in seen:\n",
    "                    if len(substr) > max_len:\n",
    "                        max_len = len(substr)\n",
    "                        res = substr\n",
    "                else:\n",
    "                    seen.add(substr)\n",
    "        return res\n",
    "    \n",
    "# tc - O(n^3):\n",
    "# - O(n^2) for the nested loops\n",
    "# - O(n) for checking if the substring is in the set\n",
    "# sc - O(n^2):\n",
    "# - in the worst case, we store all substrings in the set\n"
   ]
  },
  {
   "cell_type": "code",
   "execution_count": 8,
   "id": "135c3d72",
   "metadata": {},
   "outputs": [
    {
     "data": {
      "text/plain": [
       "'ana'"
      ]
     },
     "execution_count": 8,
     "metadata": {},
     "output_type": "execute_result"
    }
   ],
   "source": [
    "Solution().longestDupSubstring(s = \"banana\")"
   ]
  },
  {
   "cell_type": "markdown",
   "id": "aaaaa3f0",
   "metadata": {},
   "source": [
    "# Understanding the Rolling Hash"
   ]
  },
  {
   "cell_type": "markdown",
   "id": "8223688f",
   "metadata": {},
   "source": [
    "\n",
    "\n",
    "### 🔍 What is Rolling Hash?\n",
    "\n",
    "A **rolling hash** is a hashing technique where the hash of a substring can be **quickly updated** as you slide a window over a string — instead of recalculating the hash from scratch.\n",
    "\n",
    "It’s especially used in:\n",
    "\n",
    "* **Rabin-Karp algorithm** for substring search\n",
    "* **Longest Duplicate Substring** (like Leetcode 1044)\n",
    "* Efficient string pattern matching\n",
    "\n",
    "---\n",
    "\n",
    "### 📦 How It Works\n",
    "\n",
    "Let’s say you have a string `s = \"banana\"` and you want to compute hash for all substrings of length `3`.\n",
    "\n",
    "#### Step 1: Base Idea (Polynomial Hash)\n",
    "\n",
    "We treat the string as a number in a **base B**, where each character is a digit:\n",
    "\n",
    "Let’s pick:\n",
    "\n",
    "* Base = 26 (since 26 lowercase letters)\n",
    "* Mod = A large prime (to avoid overflow and reduce collisions)\n",
    "\n",
    "For a string `\"abc\"`:\n",
    "\n",
    "```\n",
    "hash(\"abc\") = (ord('a') - ord('a')) * 26² +\n",
    "              (ord('b') - ord('a')) * 26¹ +\n",
    "              (ord('c') - ord('a')) * 26⁰\n",
    "            = 0*676 + 1*26 + 2 = 28\n",
    "```\n",
    "\n",
    "#### Step 2: Rolling the Hash\n",
    "\n",
    "Now suppose you computed `hash(\"abc\")`, and now you want `hash(\"bcd\")`.\n",
    "\n",
    "Instead of recalculating, you do:\n",
    "\n",
    "```\n",
    "new_hash = (old_hash - (ord(s[i]) - ord('a')) * 26^(L-1)) * 26 + (ord(s[i+L]) - ord('a'))\n",
    "```\n",
    "\n",
    "Where:\n",
    "\n",
    "* `s[i]` is the old first character being removed\n",
    "* `s[i+L]` is the new character being added at the end\n",
    "* `L` is the window size\n",
    "\n",
    "This works in **O(1)** time per substring.\n",
    "\n",
    "\n"
   ]
  },
  {
   "cell_type": "code",
   "execution_count": null,
   "id": "8fa488a3",
   "metadata": {},
   "outputs": [],
   "source": [
    "def rabin_karp(text, pattern):\n",
    "    n, m = len(text), len(pattern)\n",
    "    base = 26  # Number of characters in input charset\n",
    "    prime = 10**9 + 7  # A large prime number for modulo\n",
    "\n",
    "    # Precompute base^(m-1) % prime\n",
    "    base_power_pattner_len = 1\n",
    "    for _ in range(m - 1):\n",
    "        base_power_pattner_len = (base_power_pattner_len * base) % prime\n",
    "\n",
    "    # Compute initial hash values\n",
    "    p_hash = 0  # hash value for pattern\n",
    "    t_hash = 0  # hash value for text window\n",
    "\n",
    "    for i in range(m):\n",
    "        p_hash = (base * p_hash + (ord(pattern[i]) - ord('a'))) % prime\n",
    "        t_hash = (base * t_hash + (ord(text[i]) - ord('a'))) % prime\n",
    "        print(f\"Initial hashes: p_hash={p_hash}, t_hash={t_hash}\")\n",
    "\n",
    "    for i in range(n - m + 1):\n",
    "        # If hash values match, do actual string comparison\n",
    "        if p_hash == t_hash:\n",
    "            if text[i:i + m] == pattern:\n",
    "                return f\"Pattern found at index {i}\"\n",
    "\n",
    "        # Compute hash for next window\n",
    "        if i < n - m:\n",
    "            # Remove leading character and add trailing character.\n",
    "            t_hash = t_hash - (ord(text[i]) - ord('a')) * base_power_pattner_len\n",
    "\n",
    "            # Add the next character in the window.\n",
    "            t_hash = (t_hash * base + (ord(text[i + m]) - ord('a'))) % prime\n",
    "            \n",
    "            # We might get negative values of t_hash, convert it to positive\n",
    "            if t_hash < 0:\n",
    "                t_hash += prime\n",
    "\n",
    "    return \"Pattern not found\"\n"
   ]
  },
  {
   "cell_type": "code",
   "execution_count": 17,
   "id": "295adba6",
   "metadata": {},
   "outputs": [
    {
     "name": "stdout",
     "output_type": "stream",
     "text": [
      "Initial hashes: p_hash=0, t_hash=1\n",
      "Initial hashes: p_hash=13, t_hash=26\n",
      "Initial hashes: p_hash=338, t_hash=689\n"
     ]
    },
    {
     "data": {
      "text/plain": [
       "'Pattern found at index 1'"
      ]
     },
     "execution_count": 17,
     "metadata": {},
     "output_type": "execute_result"
    }
   ],
   "source": [
    "rabin_karp(\"banana\", \"ana\")"
   ]
  },
  {
   "cell_type": "code",
   "execution_count": 18,
   "id": "07939825",
   "metadata": {},
   "outputs": [
    {
     "name": "stdout",
     "output_type": "stream",
     "text": [
      "0\n",
      "1\n",
      "28\n",
      "28\n"
     ]
    }
   ],
   "source": [
    "h = 0\n",
    "base = 26\n",
    "for c in \"abc\":\n",
    "    h = h * base + (ord(c) - ord('a'))\n",
    "    print(h)\n",
    "print(h)\n",
    "\n",
    "\n",
    "# this is same as 0*26² + 1*26¹ + 2*26⁰ = 0 + 26 + 2 = 28"
   ]
  },
  {
   "cell_type": "code",
   "execution_count": 19,
   "id": "9dba79cf",
   "metadata": {},
   "outputs": [
    {
     "data": {
      "text/plain": [
       "676"
      ]
     },
     "execution_count": 19,
     "metadata": {},
     "output_type": "execute_result"
    }
   ],
   "source": [
    "26*26\n"
   ]
  },
  {
   "cell_type": "code",
   "execution_count": null,
   "id": "c46e7010",
   "metadata": {},
   "outputs": [],
   "source": [
    "class Solution:\n",
    "    def longestDupSubstring(self, s: str) -> str:\n",
    "        n = len(s)\n",
    "        base = 26\n",
    "        mod = 2**63 - 1\n",
    "        nums = [ord(c) - ord('a') for c in s]\n",
    "\n",
    "        def rabin_karp_check(L):\n",
    "            h = 0\n",
    "            for i in range(L):\n",
    "                h = (h * base + nums[i]) % mod\n",
    "            seen = {h}\n",
    "            baseL = pow(base, L, mod)\n",
    "            for start in range(1, n - L + 1):\n",
    "                h = (h * base - nums[start - 1] * baseL + nums[start + L - 1]) % mod\n",
    "                if h in seen:\n",
    "                    return start\n",
    "                seen.add(h)\n",
    "            return -1\n",
    "\n",
    "        left, right = 1, n - 1\n",
    "        start = -1\n",
    "        max_len = 0\n",
    "\n",
    "        while left <= right:\n",
    "            mid = (left + right) // 2\n",
    "            pos = rabin_karp_check(mid)\n",
    "            if pos != -1:\n",
    "                left = mid + 1\n",
    "                start = pos\n",
    "                max_len = mid\n",
    "            else:\n",
    "                right = mid - 1\n",
    "\n",
    "        return s[start:start + max_len] if start != -1 else \"\"\n",
    "# tc:\n",
    "# - O(log n) for the binary search.\n",
    "# - o(N) for the rabin_karp_check function.\n",
    "# tc - O(n log n)\n",
    "\n",
    "# sc - O(n) for the nums array and the set in rabin_karp_check."
   ]
  },
  {
   "cell_type": "code",
   "execution_count": 48,
   "id": "e6230e3e",
   "metadata": {},
   "outputs": [
    {
     "data": {
      "text/plain": [
       "'ana'"
      ]
     },
     "execution_count": 48,
     "metadata": {},
     "output_type": "execute_result"
    }
   ],
   "source": [
    "Solution().longestDupSubstring(s = \"banana\")"
   ]
  },
  {
   "cell_type": "code",
   "execution_count": 36,
   "id": "a612cd2b",
   "metadata": {},
   "outputs": [
    {
     "name": "stdout",
     "output_type": "stream",
     "text": [
      "Input: 'banana' -> Output: ''\n",
      "Input: 'abcd' -> Output: ''\n",
      "Input: 'aa' -> Output: ''\n",
      "Input: 'abcdef' -> Output: ''\n",
      "Input: 'aaaa' -> Output: 'aaa'\n"
     ]
    }
   ],
   "source": [
    "class Solution:\n",
    "    def longestDupSubstring(self, s: str) -> str:\n",
    "        from collections import defaultdict\n",
    "        \n",
    "        n = len(s)\n",
    "        base = 26\n",
    "        mod = 2**63 - 1\n",
    "        \n",
    "        # convert s into array of int (a=0, b=1,...)\n",
    "        nums = [ord(c) - ord('a') for c in s]\n",
    "        \n",
    "        def rabin_karp_check(length):\n",
    "            if length == 0:\n",
    "                return -1\n",
    "                \n",
    "            h = 0\n",
    "            for i in range(length):\n",
    "                h = (h * base + nums[i]) % mod\n",
    "            \n",
    "            seen = defaultdict(list)\n",
    "            seen[h].append(0)\n",
    "            baseL = pow(base, length, mod)  # precompute base^L % mod\n",
    "            \n",
    "            for start in range(1, n - length + 1):\n",
    "                # remove the leading character and add the next character\n",
    "                h = (h - (nums[start - 1] * baseL) % mod + mod) % mod\n",
    "                h = (h * base + nums[start + length - 1]) % mod\n",
    "                \n",
    "                if h in seen:\n",
    "                    # Check for actual substring match to handle hash collisions\n",
    "                    current_substr = s[start:start + length]\n",
    "                    for prev_start in seen[h]:\n",
    "                        if s[prev_start:prev_start + length] == current_substr:\n",
    "                            return start\n",
    "                \n",
    "                seen[h].append(start)\n",
    "            \n",
    "            return -1\n",
    "        \n",
    "        # binary search\n",
    "        low, high = 0, n - 1\n",
    "        result_start = -1\n",
    "        max_len = 0\n",
    "        \n",
    "        while low <= high:\n",
    "            mid = (low + high) // 2\n",
    "            pos = rabin_karp_check(mid)\n",
    "            if pos != -1:\n",
    "                low = mid + 1\n",
    "                result_start = pos\n",
    "                max_len = mid\n",
    "            else:\n",
    "                high = mid - 1\n",
    "        \n",
    "        return s[result_start:result_start + max_len] if result_start != -1 else \"\"\n",
    "\n",
    "# Test the solution\n",
    "solution = Solution()\n",
    "test_cases = [\n",
    "    \"banana\",\n",
    "    \"abcd\",\n",
    "    \"aa\",\n",
    "    \"abcdef\",\n",
    "    \"aaaa\"\n",
    "]\n",
    "\n",
    "for test in test_cases:\n",
    "    result = solution.longestDupSubstring(test)\n",
    "    print(f\"Input: '{test}' -> Output: '{result}'\")"
   ]
  },
  {
   "cell_type": "code",
   "execution_count": null,
   "id": "73526ac5",
   "metadata": {},
   "outputs": [],
   "source": []
  }
 ],
 "metadata": {
  "kernelspec": {
   "display_name": "3.11.11",
   "language": "python",
   "name": "python3"
  },
  "language_info": {
   "codemirror_mode": {
    "name": "ipython",
    "version": 3
   },
   "file_extension": ".py",
   "mimetype": "text/x-python",
   "name": "python",
   "nbconvert_exporter": "python",
   "pygments_lexer": "ipython3",
   "version": "3.11.11"
  }
 },
 "nbformat": 4,
 "nbformat_minor": 5
}
