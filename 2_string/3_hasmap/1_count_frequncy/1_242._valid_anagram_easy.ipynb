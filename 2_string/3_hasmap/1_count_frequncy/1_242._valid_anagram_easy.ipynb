{
 "cells": [
  {
   "cell_type": "markdown",
   "id": "462e0b2f",
   "metadata": {},
   "source": [
    "Given two strings s and t, return true if t is an anagram of s, and false otherwise.\n",
    "\n",
    " \n",
    "\n",
    "Example 1:\n",
    "\n",
    "Input: s = \"anagram\", t = \"nagaram\"\n",
    "\n",
    "Output: true\n",
    "\n",
    "Example 2:\n",
    "\n",
    "Input: s = \"rat\", t = \"car\"\n",
    "\n",
    "Output: false\n",
    "\n",
    " \n",
    "\n",
    "Constraints:\n",
    "\n",
    "1 <= s.length, t.length <= 5 * 104\n",
    "s and t consist of lowercase English letters.\n",
    " \n",
    "\n",
    "Follow up: What if the inputs contain Unicode characters? How would you adapt your solution to such a case?"
   ]
  },
  {
   "cell_type": "code",
   "execution_count": null,
   "id": "223989b6",
   "metadata": {},
   "outputs": [],
   "source": [
    "# sort them is a solution:\n",
    "# store the charctor count and match them is also a key.\n",
    "\n",
    "class Solution:\n",
    "    def isAnagram(self, s: str, t: str) -> bool:\n",
    "        count_s = [0] * 26\n",
    "        count_t = [0] * 26\n",
    "        for char in s:\n",
    "            count_s[ord(char) - ord('a')] += 1\n",
    "        \n",
    "        for char in t:\n",
    "            count_t[ord(char) - ord('a')] += 1\n",
    "        return count_s == count_t \n",
    "\n",
    "# tc - O(m)\n",
    "# sc - O(2 * 26) = O(1)"
   ]
  },
  {
   "cell_type": "code",
   "execution_count": 2,
   "id": "0f6b70ce",
   "metadata": {},
   "outputs": [
    {
     "data": {
      "text/plain": [
       "True"
      ]
     },
     "execution_count": 2,
     "metadata": {},
     "output_type": "execute_result"
    }
   ],
   "source": [
    "Solution().isAnagram(s = \"anagram\", t = \"nagaram\")"
   ]
  },
  {
   "cell_type": "code",
   "execution_count": 3,
   "id": "f483dd2e",
   "metadata": {},
   "outputs": [
    {
     "data": {
      "text/plain": [
       "False"
      ]
     },
     "execution_count": 3,
     "metadata": {},
     "output_type": "execute_result"
    }
   ],
   "source": [
    "Solution().isAnagram(s = \"rat\", t = \"car\")"
   ]
  },
  {
   "cell_type": "code",
   "execution_count": 4,
   "id": "74fbfbc8",
   "metadata": {},
   "outputs": [],
   "source": [
    "# dont like the 2 array approach: have only one... increase for s and deacrese for t. \n",
    "# so if it comes same number of times, everything will be 0 at the end. \n",
    "\n",
    "# one more think to check, both will be at same length for a valid one.\n",
    "\n",
    "class Solution:\n",
    "    def isAnagram(self, s: str, t: str) -> bool:\n",
    "        # first check:\n",
    "        if len(s) != len(t):\n",
    "            return False\n",
    "\n",
    "        count = [0] * 26  # assuming lowercase English letters\n",
    "\n",
    "        for ch1, ch2 in zip(s, t):\n",
    "            count[ord(ch1) - ord('a')] += 1\n",
    "            count[ord(ch2) - ord('a')] -= 1\n",
    "\n",
    "        return all(x == 0 for x in count)\n",
    "\n",
    "# tc - O(m)\n",
    "# sc - O(26) = O(1)"
   ]
  },
  {
   "cell_type": "code",
   "execution_count": null,
   "id": "953e4cbc",
   "metadata": {},
   "outputs": [],
   "source": [
    "# to support unicode characters also:\n",
    "# cant have this fixed number of list: have dict\n",
    "\n",
    "class Solution:\n",
    "    def isAnagram(self, s: str, t: str) -> bool:\n",
    "        count_s = {}\n",
    "        count_t = {}\n",
    "        for char in s:\n",
    "            count_s[char] = count_s.get(char, 0) + 1\n",
    "        \n",
    "        for char in t:\n",
    "            count_t[char] = count_t.get(char, 0) + 1\n",
    "        print(count_t, count_s)\n",
    "        return count_s == count_t \n",
    "\n",
    "\n",
    "\n",
    "# same can be done using hte built in functions:\n",
    "from collections import Counter\n",
    "\n",
    "def isAnagram(self, s: str, t: str) -> bool:\n",
    "    return Counter(s) == Counter(t)"
   ]
  },
  {
   "cell_type": "code",
   "execution_count": 8,
   "id": "d9a3df1b",
   "metadata": {},
   "outputs": [
    {
     "name": "stdout",
     "output_type": "stream",
     "text": [
      "{'v': 1, 'u': 1, ' ': 1, 'd': 1, 'é': 1, 'j': 1, 'à': 1} {'d': 1, 'é': 1, 'j': 1, 'à': 1, ' ': 1, 'v': 1, 'u': 1}\n"
     ]
    },
    {
     "data": {
      "text/plain": [
       "True"
      ]
     },
     "execution_count": 8,
     "metadata": {},
     "output_type": "execute_result"
    }
   ],
   "source": [
    "s = \"déjà vu\"\n",
    "t = \"vu déjà\"\n",
    "\n",
    "Solution().isAnagram(s, t)"
   ]
  },
  {
   "cell_type": "code",
   "execution_count": null,
   "id": "0fe54dd4",
   "metadata": {},
   "outputs": [],
   "source": []
  }
 ],
 "metadata": {
  "kernelspec": {
   "display_name": "3.11.11",
   "language": "python",
   "name": "python3"
  },
  "language_info": {
   "codemirror_mode": {
    "name": "ipython",
    "version": 3
   },
   "file_extension": ".py",
   "mimetype": "text/x-python",
   "name": "python",
   "nbconvert_exporter": "python",
   "pygments_lexer": "ipython3",
   "version": "3.11.11"
  }
 },
 "nbformat": 4,
 "nbformat_minor": 5
}
