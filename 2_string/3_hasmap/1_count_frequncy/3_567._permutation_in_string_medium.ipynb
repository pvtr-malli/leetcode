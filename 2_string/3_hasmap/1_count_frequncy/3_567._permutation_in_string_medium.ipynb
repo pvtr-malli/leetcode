{
 "cells": [
  {
   "cell_type": "markdown",
   "id": "8ec82f1a",
   "metadata": {},
   "source": [
    "567. Permutation in String\n",
    "Solved\n",
    "Medium\n",
    "Topics\n",
    "premium lock icon\n",
    "Companies\n",
    "Hint\n",
    "Given two strings s1 and s2, return true if s2 contains a permutation of s1, or false otherwise.\n",
    "\n",
    "In other words, return true if one of s1's permutations is the substring of s2.\n",
    "\n",
    " \n",
    "\n",
    "Example 1:\n",
    "\n",
    "Input: s1 = \"ab\", s2 = \"eidbaooo\"\n",
    "Output: true\n",
    "Explanation: s2 contains one permutation of s1 (\"ba\").\n",
    "Example 2:\n",
    "\n",
    "Input: s1 = \"ab\", s2 = \"eidboaoo\"\n",
    "Output: false\n",
    " \n",
    "\n",
    "Constraints:\n",
    "\n",
    "1 <= s1.length, s2.length <= 104\n",
    "s1 and s2 consist of lowercase English letters."
   ]
  },
  {
   "cell_type": "markdown",
   "id": "f41db759",
   "metadata": {},
   "source": [
    "A permutation is just a reordering of characters, so we can use character counts to compare.\n",
    "\n",
    "Use a sliding window of size len(s1) over s2.\n",
    "\n",
    "At each step, compare the frequency counts of the current window and s1.\n",
    "\n",
    "\n",
    "\n",
    "Example:\n",
    "s1 = \"ab\", s2 = \"eidbaooo\"\n",
    "Window size = 2\n",
    "\n",
    "Check each 2-letter window in s2:\n",
    "\n",
    "\"ei\" ❌\n",
    "\n",
    "\"id\" ❌\n",
    "\n",
    "\"db\" ❌\n",
    "\n",
    "\"ba\" ✅ ← permutation found! --> here the 'ba' counter and the 'ab' counter will. match,\n",
    "\n"
   ]
  },
  {
   "cell_type": "code",
   "execution_count": null,
   "id": "e622f9cf",
   "metadata": {},
   "outputs": [],
   "source": [
    "from collections import Counter\n",
    "\n",
    "class Solution:\n",
    "    def checkInclusion(self, s1: str, s2: str) -> bool:\n",
    "        len1, len2 = len(s1), len(s2)\n",
    "        if len1 > len2:\n",
    "            return False\n",
    "\n",
    "        count1 = Counter(s1)\n",
    "        count2 = Counter(s2[:len1])\n",
    "\n",
    "        if count1 == count2:\n",
    "            return True\n",
    "\n",
    "        start = 0\n",
    "        for i in range(len1, len2):\n",
    "            count2[s2[i]] += 1         # add new char to window\n",
    "            count2[s2[start]] -= 1  # remove left char from window\n",
    "            \n",
    "\n",
    "            if count2[s2[start]] == 0:\n",
    "                del count2[s2[start]]  # clean up 0-count\n",
    "\n",
    "            start += 1\n",
    "\n",
    "            if count1 == count2:\n",
    "                return True\n",
    "\n",
    "        return False\n",
    "    \n",
    "# tc = O(n) [counting s1] + O(m)[counting s2] + O(m) [loop over s2] \n",
    "# sc = O(2 * 26) = O(1)\n"
   ]
  },
  {
   "cell_type": "code",
   "execution_count": 3,
   "id": "fe3c149d",
   "metadata": {},
   "outputs": [
    {
     "data": {
      "text/plain": [
       "True"
      ]
     },
     "execution_count": 3,
     "metadata": {},
     "output_type": "execute_result"
    }
   ],
   "source": [
    "Solution().checkInclusion(s1 = \"ab\", s2 = \"eidbaooo\")"
   ]
  },
  {
   "cell_type": "code",
   "execution_count": 4,
   "id": "a5c65802",
   "metadata": {},
   "outputs": [
    {
     "data": {
      "text/plain": [
       "False"
      ]
     },
     "execution_count": 4,
     "metadata": {},
     "output_type": "execute_result"
    }
   ],
   "source": [
    "Solution().checkInclusion(s1 = \"ab\", s2 = \"eidboaoo\")"
   ]
  },
  {
   "cell_type": "code",
   "execution_count": null,
   "id": "3cd7f40f",
   "metadata": {},
   "outputs": [],
   "source": []
  }
 ],
 "metadata": {
  "kernelspec": {
   "display_name": "3.11.11",
   "language": "python",
   "name": "python3"
  },
  "language_info": {
   "codemirror_mode": {
    "name": "ipython",
    "version": 3
   },
   "file_extension": ".py",
   "mimetype": "text/x-python",
   "name": "python",
   "nbconvert_exporter": "python",
   "pygments_lexer": "ipython3",
   "version": "3.11.11"
  }
 },
 "nbformat": 4,
 "nbformat_minor": 5
}
