{
 "cells": [
  {
   "cell_type": "markdown",
   "id": "0abcfa64",
   "metadata": {},
   "source": [
    "Given an array of strings strs, group the anagrams together. You can return the answer in any order.\n",
    "\n",
    " \n",
    "\n",
    "Example 1:\n",
    "\n",
    "Input: strs = [\"eat\",\"tea\",\"tan\",\"ate\",\"nat\",\"bat\"]\n",
    "\n",
    "Output: [[\"bat\"],[\"nat\",\"tan\"],[\"ate\",\"eat\",\"tea\"]]\n",
    "\n",
    "Explanation:\n",
    "\n",
    "There is no string in strs that can be rearranged to form \"bat\".\n",
    "The strings \"nat\" and \"tan\" are anagrams as they can be rearranged to form each other.\n",
    "The strings \"ate\", \"eat\", and \"tea\" are anagrams as they can be rearranged to form each other.\n",
    "Example 2:\n",
    "\n",
    "Input: strs = [\"\"]\n",
    "\n",
    "Output: [[\"\"]]\n",
    "\n",
    "Example 3:\n",
    "\n",
    "Input: strs = [\"a\"]\n",
    "\n",
    "Output: [[\"a\"]]\n",
    "\n",
    " \n",
    "\n",
    "Constraints:\n",
    "\n",
    "1 <= strs.length <= 104\n",
    "0 <= strs[i].length <= 100\n",
    "strs[i] consists of lowercase English letters."
   ]
  },
  {
   "cell_type": "markdown",
   "id": "4cdc6c6b",
   "metadata": {},
   "source": [
    "# what is it\n",
    "An anagram is a word or phrase formed by rearranging the letters of a different word or phrase, using all the original letters exactly once. "
   ]
  },
  {
   "cell_type": "code",
   "execution_count": 3,
   "id": "0818c69e",
   "metadata": {},
   "outputs": [],
   "source": [
    "# approach one: brute force\n",
    "from collections import defaultdict\n",
    "\n",
    "class Solution:\n",
    "    def groupAnagrams(self, strs):\n",
    "        # Anagrams, they can get re-arranged to them selfs. and , dan -- is a anatragm\n",
    "        # Only common thing bwt them is their sorted forms are same.\n",
    "\n",
    "        # So get a str sort it and store it in a hash, check and move forward.\n",
    "        ans = defaultdict(list)\n",
    "        for ele in strs:\n",
    "            sorted_str = \"\".join(sorted(ele))\n",
    "\n",
    "            # Add the ele under its sorted formet. So the strs under the same keys are anagrams,\n",
    "            # since those have hte same sorted format.\n",
    "            ans[sorted_str].append(ele)\n",
    "        return list(ans.values())\n",
    "\n",
    "# Time complexity:\n",
    "# for loop - O(n)\n",
    "# sorting - O(k logk) \n",
    "# O(n∗k∗logk)\n",
    "# (K is the length of the longest string)\n",
    "\n",
    "# Space complexity:\n",
    "# O(n∗k)\n",
    "# (K is the length of the longest string)\n",
    "# Even though we only store n strings, each one is of length k, \n",
    "# and the dict keys also cost up to O(n * k) — so you can’t ignore string length in space."
   ]
  },
  {
   "cell_type": "code",
   "execution_count": 4,
   "id": "e161f420",
   "metadata": {},
   "outputs": [
    {
     "data": {
      "text/plain": [
       "[['eat', 'tea', 'ate'], ['tan', 'nat'], ['bat']]"
      ]
     },
     "execution_count": 4,
     "metadata": {},
     "output_type": "execute_result"
    }
   ],
   "source": [
    "Solution().groupAnagrams( strs = [\"eat\",\"tea\",\"tan\",\"ate\",\"nat\",\"bat\"])"
   ]
  },
  {
   "cell_type": "code",
   "execution_count": null,
   "id": "1c86ac65",
   "metadata": {},
   "outputs": [],
   "source": [
    "# approach 2: instead of sorting it, can we do something else to aboid that sorting log k time.\n",
    "\n",
    "# use the character count as the key :\n",
    "# can we first use the tuple as a key ? luckly we can ....\n",
    "\n",
    "from collections import defaultdict\n",
    "\n",
    "class Solution:\n",
    "    def groupAnagrams(self, strs):\n",
    "        ans = defaultdict(tuple)\n",
    "        for ele in strs:\n",
    "            # create a counter tuple.\n",
    "            counter = [0]*26\n",
    "            for char in ele:\n",
    "                counter[ord(char) - ord('a')] += 1\n",
    "            \n",
    "            # why tuple, this is immutable. and mutable cant be used as a key.\n",
    "            # you will get this error: TypeError: unhashable type: 'list'\n",
    "            ans[tuple(counter)].append(ele )\n",
    "\n",
    "        return list(ans.values())\n",
    "    \n",
    "# tc - O(n) * O(k) \n",
    "# sc - O(n) + O(n * k)\n",
    "\n",
    "# Keys: each is a tuple of size 26 → takes O(1) space per key (since 26 is constant)\n",
    "# Max of n keys (if no anagrams exist)\n",
    "# So: total space for keys = O(n)\n",
    "\n",
    "# Values: each word appears in some list → stores all n words in lists\n",
    "# Each word is of length ≤ k\n",
    "# So: total space = O(n * k)\n",
    "\n",
    "# O(n)       ← for keys (tuples of size 26)\n",
    "# + O(n * k) ← for values (original strings)\n",
    "# ===========\n",
    "# = O(n * k)\n",
    "# You don’t multiply them, because they are not nested structures in memory — they're separate parts of the dictionary."
   ]
  },
  {
   "cell_type": "code",
   "execution_count": 12,
   "id": "780e979d",
   "metadata": {},
   "outputs": [
    {
     "data": {
      "text/plain": [
       "[['eat', 'tea', 'ate'], ['tan', 'nat'], ['bat']]"
      ]
     },
     "execution_count": 12,
     "metadata": {},
     "output_type": "execute_result"
    }
   ],
   "source": [
    "Solution().groupAnagrams( strs = [\"eat\",\"tea\",\"tan\",\"ate\",\"nat\",\"bat\"])"
   ]
  },
  {
   "cell_type": "code",
   "execution_count": null,
   "id": "3a80686a",
   "metadata": {},
   "outputs": [],
   "source": []
  }
 ],
 "metadata": {
  "kernelspec": {
   "display_name": "3.11.11",
   "language": "python",
   "name": "python3"
  },
  "language_info": {
   "codemirror_mode": {
    "name": "ipython",
    "version": 3
   },
   "file_extension": ".py",
   "mimetype": "text/x-python",
   "name": "python",
   "nbconvert_exporter": "python",
   "pygments_lexer": "ipython3",
   "version": "3.11.11"
  }
 },
 "nbformat": 4,
 "nbformat_minor": 5
}
