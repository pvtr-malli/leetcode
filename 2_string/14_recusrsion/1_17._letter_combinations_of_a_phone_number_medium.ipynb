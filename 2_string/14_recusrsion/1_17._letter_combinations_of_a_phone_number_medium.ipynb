{
 "cells": [
  {
   "cell_type": "markdown",
   "id": "ca8f3e40",
   "metadata": {},
   "source": [
    "Given a string containing digits from 2-9 inclusive, return all possible letter combinations that the number could represent. Return the answer in any order.\n",
    "\n",
    "A mapping of digits to letters (just like on the telephone buttons) is given below. Note that 1 does not map to any letters.\n",
    "\n",
    "<image of the cell phone>\n",
    " \n",
    "\n",
    "Example 1:\n",
    "\n",
    "Input: digits = \"23\"\n",
    "Output: [\"ad\",\"ae\",\"af\",\"bd\",\"be\",\"bf\",\"cd\",\"ce\",\"cf\"]\n",
    "Example 2:\n",
    "\n",
    "Input: digits = \"\"\n",
    "Output: []\n",
    "Example 3:\n",
    "\n",
    "Input: digits = \"2\"\n",
    "Output: [\"a\",\"b\",\"c\"]\n",
    " \n",
    "\n",
    "Constraints:\n",
    "\n",
    "0 <= digits.length <= 4\n",
    "digits[i] is a digit in the range ['2', '9']."
   ]
  },
  {
   "cell_type": "code",
   "execution_count": null,
   "id": "fd339916",
   "metadata": {},
   "outputs": [],
   "source": [
    "class Solution:\n",
    "    def __init__(self):\n",
    "        self.phone_map = {\n",
    "            \"2\": \"abc\",\n",
    "            \"3\": \"def\",\n",
    "            \"4\": \"ghi\",\n",
    "            \"5\": \"jkl\",\n",
    "            \"6\": \"mno\",\n",
    "            \"7\": \"pqrs\",\n",
    "            \"8\": \"tuv\",\n",
    "            \"9\": \"wxyz\"\n",
    "        }\n",
    "    def letterCombinations(self, digits: str) -> list[str]:\n",
    "        if not digits:\n",
    "            return []  # Important: handle empty input\n",
    "        \n",
    "        res = []\n",
    "        # lets start from the first digit and call the recursion for all the values in the list.\n",
    "        for char in self.phone_map[digits[0]]:\n",
    "            self.find_letter_comb(char, 1, digits, res, len(digits))\n",
    "        return res \n",
    "    \n",
    "    def find_letter_comb(self, text, ind, digits, res, n):\n",
    "        # if this is the last index, then retunr the formated text.\n",
    "        if ind == n:\n",
    "            res.append(text)\n",
    "            return \n",
    "        \n",
    "        # for the current index, call the recusrssion for all the possible charater in it.\n",
    "        for char in self.phone_map[digits[ind]]:\n",
    "            self.find_letter_comb(text + char, ind+1, digits, res, n)\n",
    "        \n",
    "\n",
    "        \n"
   ]
  },
  {
   "cell_type": "markdown",
   "id": "0ded522a",
   "metadata": {},
   "source": [
    "### Time and Space Complexity\n",
    "\n",
    "Let `n` be the length of the input string `digits`.\n",
    "\n",
    "#### 🔹 Time Complexity\n",
    "\n",
    "- Each digit maps to 3 or 4 letters (e.g., '2' → \"abc\", '7' → \"pqrs\").\n",
    "- In the worst case, each digit maps to 4 letters.\n",
    "- Therefore, the total number of combinations is:\n",
    " `O(4^n)`\n",
    "\n",
    "\n",
    "\n",
    "- Because the algorithm performs a depth-first search (DFS) branching up to 4 choices per digit.\n",
    "\n",
    "#### 🔹 Space Complexity\n",
    "\n",
    "- **Recursion stack depth** = `n`, so `O(n)`\n",
    "- **Output list size** = number of combinations = `O(4^n)`\n",
    "\n",
    "### Example: Input `\"23\"`\n",
    "\n",
    "Digits:\n",
    "- '2' → \"abc\" (3 letters)\n",
    "- '3' → \"def\" (3 letters)\n",
    "\n",
    "---\n",
    "\n",
    "#### 🔹 Total combinations\n",
    "\n",
    "- Total = 3 × 3 = 9 combinations  \n",
    "- So, **Time Complexity** = `O(3^2)` = `O(9)`\n",
    "\n",
    "---\n",
    "\n",
    "#### 🔹 Space Complexity\n",
    "\n",
    "- Recursion depth = number of digits = 2 → `O(2)`\n",
    "- Output list = number of combinations = 9 → `O(9)`\n",
    "- So, **Space Complexity** = `O(2 + 9)` = `O(11)`\n",
    "\n"
   ]
  },
  {
   "cell_type": "code",
   "execution_count": 4,
   "id": "d607cbbb",
   "metadata": {},
   "outputs": [
    {
     "data": {
      "text/plain": [
       "['ad', 'ae', 'af', 'bd', 'be', 'bf', 'cd', 'ce', 'cf']"
      ]
     },
     "execution_count": 4,
     "metadata": {},
     "output_type": "execute_result"
    }
   ],
   "source": [
    "Solution().letterCombinations(digits = \"23\")"
   ]
  },
  {
   "cell_type": "code",
   "execution_count": 5,
   "id": "25e8584c",
   "metadata": {},
   "outputs": [
    {
     "data": {
      "text/plain": [
       "['a', 'b', 'c']"
      ]
     },
     "execution_count": 5,
     "metadata": {},
     "output_type": "execute_result"
    }
   ],
   "source": [
    "Solution().letterCombinations(digits = \"2\")"
   ]
  },
  {
   "cell_type": "code",
   "execution_count": null,
   "id": "ad4fd01b",
   "metadata": {},
   "outputs": [],
   "source": [
    "# you can write like this also.\n",
    "\n",
    "def letterCombinations(digits):\n",
    "    if not digits:\n",
    "        return []\n",
    "\n",
    "    phone_map = {\n",
    "        \"2\": \"abc\", \"3\": \"def\", \"4\": \"ghi\", \"5\": \"jkl\",\n",
    "        \"6\": \"mno\", \"7\": \"pqrs\", \"8\": \"tuv\", \"9\": \"wxyz\"\n",
    "    }\n",
    "    res = []\n",
    "\n",
    "    def backtrack(index, path):\n",
    "        if index == len(digits):\n",
    "            res.append(path)\n",
    "            return\n",
    "\n",
    "        for char in phone_map[digits[index]]:\n",
    "            backtrack(index + 1, path + char)\n",
    "\n",
    "    backtrack(0, \"\")\n",
    "    return res\n"
   ]
  },
  {
   "cell_type": "markdown",
   "id": "12f6d28e",
   "metadata": {},
   "source": [
    "For Leetcode 17 – Letter Combinations of a Phone Number, **the optimized approach is still backtracking**, but it’s already very efficient and almost optimal for this problem.\n",
    "\n",
    "There is no significantly faster algorithm than backtracking here, since you must generate all possible combinations anyway (which is exponential by nature)."
   ]
  }
 ],
 "metadata": {
  "kernelspec": {
   "display_name": "3.11.11",
   "language": "python",
   "name": "python3"
  },
  "language_info": {
   "codemirror_mode": {
    "name": "ipython",
    "version": 3
   },
   "file_extension": ".py",
   "mimetype": "text/x-python",
   "name": "python",
   "nbconvert_exporter": "python",
   "pygments_lexer": "ipython3",
   "version": "3.11.11"
  }
 },
 "nbformat": 4,
 "nbformat_minor": 5
}
