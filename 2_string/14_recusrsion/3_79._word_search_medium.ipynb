{
 "cells": [
  {
   "cell_type": "markdown",
   "id": "87c99f7c",
   "metadata": {},
   "source": [
    "Given an m x n grid of characters board and a string word, return true if word exists in the grid.\n",
    "\n",
    "The word can be constructed from letters of sequentially adjacent cells, where adjacent cells are horizontally or vertically neighboring. The same letter cell may not be used more than once.\n",
    "\n",
    " see: https://leetcode.com/problems/word-search/description/ for the image\n",
    "\n",
    "Example 1:\n",
    "\n",
    "\n",
    "Input: board = [[\"A\",\"B\",\"C\",\"E\"],[\"S\",\"F\",\"C\",\"S\"],[\"A\",\"D\",\"E\",\"E\"]], word = \"ABCCED\"\n",
    "Output: true\n",
    "Example 2:\n",
    "\n",
    "\n",
    "Input: board = [[\"A\",\"B\",\"C\",\"E\"],[\"S\",\"F\",\"C\",\"S\"],[\"A\",\"D\",\"E\",\"E\"]], word = \"SEE\"\n",
    "Output: true\n",
    "Example 3:\n",
    "\n",
    "\n",
    "Input: board = [[\"A\",\"B\",\"C\",\"E\"],[\"S\",\"F\",\"C\",\"S\"],[\"A\",\"D\",\"E\",\"E\"]], word = \"ABCB\"\n",
    "Output: false\n",
    " \n",
    "\n",
    "Constraints:\n",
    "\n",
    "m == board.length\n",
    "n = board[i].length\n",
    "1 <= m, n <= 6\n",
    "1 <= word.length <= 15\n",
    "board and word consists of only lowercase and uppercase English letters.\n",
    " \n",
    "\n",
    "Follow up: Could you use search pruning to make your solution faster with a larger board?"
   ]
  },
  {
   "cell_type": "code",
   "execution_count": null,
   "id": "fd9c3bb2",
   "metadata": {},
   "outputs": [],
   "source": [
    "class Solution:\n",
    "    def exist(self, board: list[list[str]], word: str) -> bool:\n",
    "        if len(word) == 0:\n",
    "            return False\n",
    "        \n",
    "        m = len(board)\n",
    "        n = len(board[0])\n",
    "\n",
    "        # you can start with the 0,0 and go all 4 directions.\n",
    "        row_dir = [-1, +1, 0, 0] # [up, down, left, right]\n",
    "        col_dir = [0, 0, -1, +1]\n",
    "\n",
    "        def find_word(row, col, cur_word):\n",
    "            if len(cur_word) == 0:\n",
    "                return True\n",
    "            elif row < 0 or row >= m or col < 0 or col >= n:\n",
    "                return False \n",
    "            \n",
    "            if board[row][col] == cur_word[0]:\n",
    "                next_word = cur_word[1:]\n",
    "                # we found the first charactor of the word. we can go all four directions to search the rest.\n",
    "                up = find_word(row + row_dir[0], col + col_dir[0], next_word)\n",
    "                down = find_word(row + row_dir[1], col + col_dir[1], next_word)\n",
    "                left = find_word(row + row_dir[2], col + col_dir[2], next_word)\n",
    "                right = find_word(row + row_dir[3], col + col_dir[3], next_word)\n",
    "            else:\n",
    "                # If this is not matching, then could have half matched or fully not matched.\n",
    "                # in any case re-start searching from the beginning.\n",
    "                up = find_word(row + row_dir[0], col + col_dir[0], word)\n",
    "                down = find_word(row + row_dir[1], col + col_dir[1], word)\n",
    "                left = find_word(row + row_dir[2], col + col_dir[2], word)\n",
    "                right = find_word(row + row_dir[3], col + col_dir[3], word)\n",
    "            \n",
    "            if up or down or left or right:\n",
    "                return True\n",
    "        \n",
    "        res = find_word(0, 0, word)\n",
    "        return res \n",
    "\n",
    "\n",
    "\n",
    "\n",
    "# you cant really decide on which is the satrting point. so you have to see from. all the index.\n"
   ]
  },
  {
   "cell_type": "code",
   "execution_count": 4,
   "id": "3de5cb51",
   "metadata": {},
   "outputs": [
    {
     "ename": "RecursionError",
     "evalue": "maximum recursion depth exceeded",
     "output_type": "error",
     "traceback": [
      "\u001b[31m---------------------------------------------------------------------------\u001b[39m",
      "\u001b[31mRecursionError\u001b[39m                            Traceback (most recent call last)",
      "\u001b[36mCell\u001b[39m\u001b[36m \u001b[39m\u001b[32mIn[4]\u001b[39m\u001b[32m, line 1\u001b[39m\n\u001b[32m----> \u001b[39m\u001b[32m1\u001b[39m \u001b[43mSolution\u001b[49m\u001b[43m(\u001b[49m\u001b[43m)\u001b[49m\u001b[43m.\u001b[49m\u001b[43mexist\u001b[49m\u001b[43m(\u001b[49m\u001b[43mboard\u001b[49m\u001b[43m \u001b[49m\u001b[43m=\u001b[49m\u001b[43m \u001b[49m\u001b[43m[\u001b[49m\u001b[43m[\u001b[49m\u001b[33;43m\"\u001b[39;49m\u001b[33;43mA\u001b[39;49m\u001b[33;43m\"\u001b[39;49m\u001b[43m,\u001b[49m\u001b[33;43m\"\u001b[39;49m\u001b[33;43mB\u001b[39;49m\u001b[33;43m\"\u001b[39;49m\u001b[43m,\u001b[49m\u001b[33;43m\"\u001b[39;49m\u001b[33;43mC\u001b[39;49m\u001b[33;43m\"\u001b[39;49m\u001b[43m,\u001b[49m\u001b[33;43m\"\u001b[39;49m\u001b[33;43mE\u001b[39;49m\u001b[33;43m\"\u001b[39;49m\u001b[43m]\u001b[49m\u001b[43m,\u001b[49m\u001b[43m[\u001b[49m\u001b[33;43m\"\u001b[39;49m\u001b[33;43mS\u001b[39;49m\u001b[33;43m\"\u001b[39;49m\u001b[43m,\u001b[49m\u001b[33;43m\"\u001b[39;49m\u001b[33;43mF\u001b[39;49m\u001b[33;43m\"\u001b[39;49m\u001b[43m,\u001b[49m\u001b[33;43m\"\u001b[39;49m\u001b[33;43mC\u001b[39;49m\u001b[33;43m\"\u001b[39;49m\u001b[43m,\u001b[49m\u001b[33;43m\"\u001b[39;49m\u001b[33;43mS\u001b[39;49m\u001b[33;43m\"\u001b[39;49m\u001b[43m]\u001b[49m\u001b[43m,\u001b[49m\u001b[43m[\u001b[49m\u001b[33;43m\"\u001b[39;49m\u001b[33;43mA\u001b[39;49m\u001b[33;43m\"\u001b[39;49m\u001b[43m,\u001b[49m\u001b[33;43m\"\u001b[39;49m\u001b[33;43mD\u001b[39;49m\u001b[33;43m\"\u001b[39;49m\u001b[43m,\u001b[49m\u001b[33;43m\"\u001b[39;49m\u001b[33;43mE\u001b[39;49m\u001b[33;43m\"\u001b[39;49m\u001b[43m,\u001b[49m\u001b[33;43m\"\u001b[39;49m\u001b[33;43mE\u001b[39;49m\u001b[33;43m\"\u001b[39;49m\u001b[43m]\u001b[49m\u001b[43m]\u001b[49m\u001b[43m,\u001b[49m\u001b[43m \u001b[49m\u001b[43mword\u001b[49m\u001b[43m \u001b[49m\u001b[43m=\u001b[49m\u001b[43m \u001b[49m\u001b[33;43m\"\u001b[39;49m\u001b[33;43mABCCED\u001b[39;49m\u001b[33;43m\"\u001b[39;49m\u001b[43m)\u001b[49m\n",
      "\u001b[36mCell\u001b[39m\u001b[36m \u001b[39m\u001b[32mIn[1]\u001b[39m\u001b[32m, line 37\u001b[39m, in \u001b[36mSolution.exist\u001b[39m\u001b[34m(self, board, word)\u001b[39m\n\u001b[32m     34\u001b[39m     \u001b[38;5;28;01mif\u001b[39;00m up \u001b[38;5;129;01mor\u001b[39;00m down \u001b[38;5;129;01mor\u001b[39;00m left \u001b[38;5;129;01mor\u001b[39;00m right:\n\u001b[32m     35\u001b[39m         \u001b[38;5;28;01mreturn\u001b[39;00m \u001b[38;5;28;01mTrue\u001b[39;00m\n\u001b[32m---> \u001b[39m\u001b[32m37\u001b[39m res = \u001b[43mfind_word\u001b[49m\u001b[43m(\u001b[49m\u001b[32;43m0\u001b[39;49m\u001b[43m,\u001b[49m\u001b[43m \u001b[49m\u001b[32;43m0\u001b[39;49m\u001b[43m,\u001b[49m\u001b[43m \u001b[49m\u001b[43mword\u001b[49m\u001b[43m)\u001b[49m\n\u001b[32m     38\u001b[39m \u001b[38;5;28;01mreturn\u001b[39;00m res\n",
      "\u001b[36mCell\u001b[39m\u001b[36m \u001b[39m\u001b[32mIn[1]\u001b[39m\u001b[32m, line 23\u001b[39m, in \u001b[36mSolution.exist.<locals>.find_word\u001b[39m\u001b[34m(row, col, cur_word)\u001b[39m\n\u001b[32m     21\u001b[39m \u001b[38;5;66;03m# we found the first charactor of the word. we can go all four directions to search the rest.\u001b[39;00m\n\u001b[32m     22\u001b[39m up = find_word(row + row_dir[\u001b[32m0\u001b[39m], col + col_dir[\u001b[32m0\u001b[39m], next_word)\n\u001b[32m---> \u001b[39m\u001b[32m23\u001b[39m down = \u001b[43mfind_word\u001b[49m\u001b[43m(\u001b[49m\u001b[43mrow\u001b[49m\u001b[43m \u001b[49m\u001b[43m+\u001b[49m\u001b[43m \u001b[49m\u001b[43mrow_dir\u001b[49m\u001b[43m[\u001b[49m\u001b[32;43m1\u001b[39;49m\u001b[43m]\u001b[49m\u001b[43m,\u001b[49m\u001b[43m \u001b[49m\u001b[43mcol\u001b[49m\u001b[43m \u001b[49m\u001b[43m+\u001b[49m\u001b[43m \u001b[49m\u001b[43mcol_dir\u001b[49m\u001b[43m[\u001b[49m\u001b[32;43m1\u001b[39;49m\u001b[43m]\u001b[49m\u001b[43m,\u001b[49m\u001b[43m \u001b[49m\u001b[43mnext_word\u001b[49m\u001b[43m)\u001b[49m\n\u001b[32m     24\u001b[39m left = find_word(row + row_dir[\u001b[32m2\u001b[39m], col + col_dir[\u001b[32m2\u001b[39m], next_word)\n\u001b[32m     25\u001b[39m right = find_word(row + row_dir[\u001b[32m3\u001b[39m], col + col_dir[\u001b[32m3\u001b[39m], next_word)\n",
      "\u001b[36mCell\u001b[39m\u001b[36m \u001b[39m\u001b[32mIn[1]\u001b[39m\u001b[32m, line 29\u001b[39m, in \u001b[36mSolution.exist.<locals>.find_word\u001b[39m\u001b[34m(row, col, cur_word)\u001b[39m\n\u001b[32m     25\u001b[39m     right = find_word(row + row_dir[\u001b[32m3\u001b[39m], col + col_dir[\u001b[32m3\u001b[39m], next_word)\n\u001b[32m     26\u001b[39m \u001b[38;5;28;01melse\u001b[39;00m:\n\u001b[32m     27\u001b[39m     \u001b[38;5;66;03m# If this is not matching, then could have half matched or fully not matched.\u001b[39;00m\n\u001b[32m     28\u001b[39m     \u001b[38;5;66;03m# in any case re-start searching from the beginning.\u001b[39;00m\n\u001b[32m---> \u001b[39m\u001b[32m29\u001b[39m     up = \u001b[43mfind_word\u001b[49m\u001b[43m(\u001b[49m\u001b[43mrow\u001b[49m\u001b[43m \u001b[49m\u001b[43m+\u001b[49m\u001b[43m \u001b[49m\u001b[43mrow_dir\u001b[49m\u001b[43m[\u001b[49m\u001b[32;43m0\u001b[39;49m\u001b[43m]\u001b[49m\u001b[43m,\u001b[49m\u001b[43m \u001b[49m\u001b[43mcol\u001b[49m\u001b[43m \u001b[49m\u001b[43m+\u001b[49m\u001b[43m \u001b[49m\u001b[43mcol_dir\u001b[49m\u001b[43m[\u001b[49m\u001b[32;43m0\u001b[39;49m\u001b[43m]\u001b[49m\u001b[43m,\u001b[49m\u001b[43m \u001b[49m\u001b[43mword\u001b[49m\u001b[43m)\u001b[49m\n\u001b[32m     30\u001b[39m     down = find_word(row + row_dir[\u001b[32m1\u001b[39m], col + col_dir[\u001b[32m1\u001b[39m], word)\n\u001b[32m     31\u001b[39m     left = find_word(row + row_dir[\u001b[32m2\u001b[39m], col + col_dir[\u001b[32m2\u001b[39m], word)\n",
      "\u001b[36mCell\u001b[39m\u001b[36m \u001b[39m\u001b[32mIn[1]\u001b[39m\u001b[32m, line 23\u001b[39m, in \u001b[36mSolution.exist.<locals>.find_word\u001b[39m\u001b[34m(row, col, cur_word)\u001b[39m\n\u001b[32m     21\u001b[39m \u001b[38;5;66;03m# we found the first charactor of the word. we can go all four directions to search the rest.\u001b[39;00m\n\u001b[32m     22\u001b[39m up = find_word(row + row_dir[\u001b[32m0\u001b[39m], col + col_dir[\u001b[32m0\u001b[39m], next_word)\n\u001b[32m---> \u001b[39m\u001b[32m23\u001b[39m down = \u001b[43mfind_word\u001b[49m\u001b[43m(\u001b[49m\u001b[43mrow\u001b[49m\u001b[43m \u001b[49m\u001b[43m+\u001b[49m\u001b[43m \u001b[49m\u001b[43mrow_dir\u001b[49m\u001b[43m[\u001b[49m\u001b[32;43m1\u001b[39;49m\u001b[43m]\u001b[49m\u001b[43m,\u001b[49m\u001b[43m \u001b[49m\u001b[43mcol\u001b[49m\u001b[43m \u001b[49m\u001b[43m+\u001b[49m\u001b[43m \u001b[49m\u001b[43mcol_dir\u001b[49m\u001b[43m[\u001b[49m\u001b[32;43m1\u001b[39;49m\u001b[43m]\u001b[49m\u001b[43m,\u001b[49m\u001b[43m \u001b[49m\u001b[43mnext_word\u001b[49m\u001b[43m)\u001b[49m\n\u001b[32m     24\u001b[39m left = find_word(row + row_dir[\u001b[32m2\u001b[39m], col + col_dir[\u001b[32m2\u001b[39m], next_word)\n\u001b[32m     25\u001b[39m right = find_word(row + row_dir[\u001b[32m3\u001b[39m], col + col_dir[\u001b[32m3\u001b[39m], next_word)\n",
      "\u001b[36mCell\u001b[39m\u001b[36m \u001b[39m\u001b[32mIn[1]\u001b[39m\u001b[32m, line 29\u001b[39m, in \u001b[36mSolution.exist.<locals>.find_word\u001b[39m\u001b[34m(row, col, cur_word)\u001b[39m\n\u001b[32m     25\u001b[39m     right = find_word(row + row_dir[\u001b[32m3\u001b[39m], col + col_dir[\u001b[32m3\u001b[39m], next_word)\n\u001b[32m     26\u001b[39m \u001b[38;5;28;01melse\u001b[39;00m:\n\u001b[32m     27\u001b[39m     \u001b[38;5;66;03m# If this is not matching, then could have half matched or fully not matched.\u001b[39;00m\n\u001b[32m     28\u001b[39m     \u001b[38;5;66;03m# in any case re-start searching from the beginning.\u001b[39;00m\n\u001b[32m---> \u001b[39m\u001b[32m29\u001b[39m     up = \u001b[43mfind_word\u001b[49m\u001b[43m(\u001b[49m\u001b[43mrow\u001b[49m\u001b[43m \u001b[49m\u001b[43m+\u001b[49m\u001b[43m \u001b[49m\u001b[43mrow_dir\u001b[49m\u001b[43m[\u001b[49m\u001b[32;43m0\u001b[39;49m\u001b[43m]\u001b[49m\u001b[43m,\u001b[49m\u001b[43m \u001b[49m\u001b[43mcol\u001b[49m\u001b[43m \u001b[49m\u001b[43m+\u001b[49m\u001b[43m \u001b[49m\u001b[43mcol_dir\u001b[49m\u001b[43m[\u001b[49m\u001b[32;43m0\u001b[39;49m\u001b[43m]\u001b[49m\u001b[43m,\u001b[49m\u001b[43m \u001b[49m\u001b[43mword\u001b[49m\u001b[43m)\u001b[49m\n\u001b[32m     30\u001b[39m     down = find_word(row + row_dir[\u001b[32m1\u001b[39m], col + col_dir[\u001b[32m1\u001b[39m], word)\n\u001b[32m     31\u001b[39m     left = find_word(row + row_dir[\u001b[32m2\u001b[39m], col + col_dir[\u001b[32m2\u001b[39m], word)\n",
      "    \u001b[31m[... skipping similar frames: Solution.exist.<locals>.find_word at line 23 (1483 times), Solution.exist.<locals>.find_word at line 29 (1483 times)]\u001b[39m\n",
      "\u001b[36mCell\u001b[39m\u001b[36m \u001b[39m\u001b[32mIn[1]\u001b[39m\u001b[32m, line 23\u001b[39m, in \u001b[36mSolution.exist.<locals>.find_word\u001b[39m\u001b[34m(row, col, cur_word)\u001b[39m\n\u001b[32m     21\u001b[39m \u001b[38;5;66;03m# we found the first charactor of the word. we can go all four directions to search the rest.\u001b[39;00m\n\u001b[32m     22\u001b[39m up = find_word(row + row_dir[\u001b[32m0\u001b[39m], col + col_dir[\u001b[32m0\u001b[39m], next_word)\n\u001b[32m---> \u001b[39m\u001b[32m23\u001b[39m down = \u001b[43mfind_word\u001b[49m\u001b[43m(\u001b[49m\u001b[43mrow\u001b[49m\u001b[43m \u001b[49m\u001b[43m+\u001b[49m\u001b[43m \u001b[49m\u001b[43mrow_dir\u001b[49m\u001b[43m[\u001b[49m\u001b[32;43m1\u001b[39;49m\u001b[43m]\u001b[49m\u001b[43m,\u001b[49m\u001b[43m \u001b[49m\u001b[43mcol\u001b[49m\u001b[43m \u001b[49m\u001b[43m+\u001b[49m\u001b[43m \u001b[49m\u001b[43mcol_dir\u001b[49m\u001b[43m[\u001b[49m\u001b[32;43m1\u001b[39;49m\u001b[43m]\u001b[49m\u001b[43m,\u001b[49m\u001b[43m \u001b[49m\u001b[43mnext_word\u001b[49m\u001b[43m)\u001b[49m\n\u001b[32m     24\u001b[39m left = find_word(row + row_dir[\u001b[32m2\u001b[39m], col + col_dir[\u001b[32m2\u001b[39m], next_word)\n\u001b[32m     25\u001b[39m right = find_word(row + row_dir[\u001b[32m3\u001b[39m], col + col_dir[\u001b[32m3\u001b[39m], next_word)\n",
      "\u001b[36mCell\u001b[39m\u001b[36m \u001b[39m\u001b[32mIn[1]\u001b[39m\u001b[32m, line 29\u001b[39m, in \u001b[36mSolution.exist.<locals>.find_word\u001b[39m\u001b[34m(row, col, cur_word)\u001b[39m\n\u001b[32m     25\u001b[39m     right = find_word(row + row_dir[\u001b[32m3\u001b[39m], col + col_dir[\u001b[32m3\u001b[39m], next_word)\n\u001b[32m     26\u001b[39m \u001b[38;5;28;01melse\u001b[39;00m:\n\u001b[32m     27\u001b[39m     \u001b[38;5;66;03m# If this is not matching, then could have half matched or fully not matched.\u001b[39;00m\n\u001b[32m     28\u001b[39m     \u001b[38;5;66;03m# in any case re-start searching from the beginning.\u001b[39;00m\n\u001b[32m---> \u001b[39m\u001b[32m29\u001b[39m     up = \u001b[43mfind_word\u001b[49m\u001b[43m(\u001b[49m\u001b[43mrow\u001b[49m\u001b[43m \u001b[49m\u001b[43m+\u001b[49m\u001b[43m \u001b[49m\u001b[43mrow_dir\u001b[49m\u001b[43m[\u001b[49m\u001b[32;43m0\u001b[39;49m\u001b[43m]\u001b[49m\u001b[43m,\u001b[49m\u001b[43m \u001b[49m\u001b[43mcol\u001b[49m\u001b[43m \u001b[49m\u001b[43m+\u001b[49m\u001b[43m \u001b[49m\u001b[43mcol_dir\u001b[49m\u001b[43m[\u001b[49m\u001b[32;43m0\u001b[39;49m\u001b[43m]\u001b[49m\u001b[43m,\u001b[49m\u001b[43m \u001b[49m\u001b[43mword\u001b[49m\u001b[43m)\u001b[49m\n\u001b[32m     30\u001b[39m     down = find_word(row + row_dir[\u001b[32m1\u001b[39m], col + col_dir[\u001b[32m1\u001b[39m], word)\n\u001b[32m     31\u001b[39m     left = find_word(row + row_dir[\u001b[32m2\u001b[39m], col + col_dir[\u001b[32m2\u001b[39m], word)\n",
      "\u001b[31mRecursionError\u001b[39m: maximum recursion depth exceeded"
     ]
    }
   ],
   "source": [
    "Solution().exist(board = [[\"A\",\"B\",\"C\",\"E\"],[\"S\",\"F\",\"C\",\"S\"],[\"A\",\"D\",\"E\",\"E\"]], word = \"ABCCED\")"
   ]
  },
  {
   "cell_type": "code",
   "execution_count": 5,
   "id": "2ac46367",
   "metadata": {},
   "outputs": [],
   "source": [
    "class Solution:\n",
    "    def exist(self, board: list[list[str]], word: str) -> bool:\n",
    "        if not word:\n",
    "            return False\n",
    "        \n",
    "        m, n = len(board), len(board[0])\n",
    "        row_dir = [-1, 1, 0, 0]  # up, down, left, right\n",
    "        col_dir = [0, 0, -1, 1]\n",
    "        \n",
    "        def find_word(row, col, idx):\n",
    "            # If all characters matched\n",
    "            if idx == len(word):\n",
    "                return True\n",
    "            \n",
    "            # Check boundaries and character match\n",
    "            if (row < 0 or row >= m or col < 0 or col >= n or board[row][col] != word[idx]):\n",
    "                return False\n",
    "            \n",
    "            # Mark as visited, since we can't start searching from the same place again.\n",
    "            # mark this as visited.\n",
    "            temp = board[row][col]\n",
    "            board[row][col] = '#'  # mark visited\n",
    "            \n",
    "            # Explore all 4 directions\n",
    "            for d in range(4):\n",
    "                new_row, new_col = row + row_dir[d], col + col_dir[d]\n",
    "                if find_word(new_row, new_col, idx + 1):\n",
    "                    board[row][col] = temp  # revert before returning\n",
    "                    return True\n",
    "            \n",
    "            # Revert the cell back for other paths\n",
    "            board[row][col] = temp\n",
    "            return False\n",
    "        \n",
    "        # Try to start from each cell in the grid\n",
    "        for i in range(m):\n",
    "            for j in range(n):\n",
    "                if find_word(i, j, 0):\n",
    "                    return True\n",
    "        \n",
    "        return False\n"
   ]
  },
  {
   "cell_type": "code",
   "execution_count": 6,
   "id": "db326596",
   "metadata": {},
   "outputs": [
    {
     "data": {
      "text/plain": [
       "True"
      ]
     },
     "execution_count": 6,
     "metadata": {},
     "output_type": "execute_result"
    }
   ],
   "source": [
    "Solution().exist(board = [[\"A\",\"B\",\"C\",\"E\"],[\"S\",\"F\",\"C\",\"S\"],[\"A\",\"D\",\"E\",\"E\"]], word = \"ABCCED\")"
   ]
  },
  {
   "cell_type": "markdown",
   "id": "63645372",
   "metadata": {},
   "source": [
    "## Time and Space Complexity\n",
    "\n",
    "**Time Complexity:** `O(m × n × 4^L)`  \n",
    "- `m × n`: Trying every cell as the starting point.\n",
    "- `4^L`: For each starting point, the DFS explores up to 4 directions for each of the `L` characters in the word.\n",
    "\n",
    "**Space Complexity:** `O(L)`  \n",
    "- Due to the recursion call stack, where `L` is the length of the word.\n",
    "\n",
    "> Note: This assumes the board is modified in-place to mark visited cells. If a separate visited matrix is used, space would be `O(m × n)`.\n"
   ]
  },
  {
   "cell_type": "markdown",
   "id": "b400fc58",
   "metadata": {},
   "source": [
    "# For follow up:\n"
   ]
  },
  {
   "cell_type": "code",
   "execution_count": 7,
   "id": "a6830f7f",
   "metadata": {},
   "outputs": [],
   "source": [
    "# 1. Early termination by checking character frequency\n",
    "from collections import Counter\n",
    "\n",
    "def can_form_word(board, word):\n",
    "    board_chars = Counter(char for row in board for char in row)\n",
    "    word_chars = Counter(word)\n",
    "    for ch in word_chars:\n",
    "        if word_chars[ch] > board_chars.get(ch, 0):\n",
    "            return False\n",
    "    return True\n"
   ]
  },
  {
   "cell_type": "code",
   "execution_count": null,
   "id": "2e7b496b",
   "metadata": {},
   "outputs": [],
   "source": [
    "# 2. Start only if the first charcter matches.\n",
    "# 3. Mark visited cells in-place (already done)\n",
    "# 6. Memoization (Advanced)\n",
    "# If you encounter the same (row, col, idx) state multiple times, you can memoize results to avoid repeated DFS.\n",
    "\n",
    "# This is usually not needed but can help on large boards with repetitive characters.\n",
    "\n"
   ]
  }
 ],
 "metadata": {
  "kernelspec": {
   "display_name": "3.11.11",
   "language": "python",
   "name": "python3"
  },
  "language_info": {
   "codemirror_mode": {
    "name": "ipython",
    "version": 3
   },
   "file_extension": ".py",
   "mimetype": "text/x-python",
   "name": "python",
   "nbconvert_exporter": "python",
   "pygments_lexer": "ipython3",
   "version": "3.11.11"
  }
 },
 "nbformat": 4,
 "nbformat_minor": 5
}
