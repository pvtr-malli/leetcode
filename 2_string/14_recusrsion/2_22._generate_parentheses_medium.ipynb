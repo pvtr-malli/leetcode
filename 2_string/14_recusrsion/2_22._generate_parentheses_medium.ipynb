{
 "cells": [
  {
   "cell_type": "markdown",
   "id": "e736b629",
   "metadata": {},
   "source": [
    "Given n pairs of parentheses, write a function to generate all combinations of well-formed parentheses.\n",
    "\n",
    " \n",
    "\n",
    "Example 1:\n",
    "\n",
    "Input: n = 3\n",
    "Output: [\"((()))\",\"(()())\",\"(())()\",\"()(())\",\"()()()\"]\n",
    "Example 2:\n",
    "\n",
    "Input: n = 1\n",
    "Output: [\"()\"]\n",
    " \n",
    "\n",
    "Constraints:\n",
    "\n",
    "1 <= n <= 8"
   ]
  },
  {
   "cell_type": "code",
   "execution_count": null,
   "id": "f0ee73ef",
   "metadata": {},
   "outputs": [],
   "source": [
    "# we can blindly build parantheses by take untake method,\n",
    "# we will call 2 recurssion calls for each one for open one for close.\n",
    "# here we will get un-valid paranthese... we need to check each one is valid before adding. \n",
    "# tc - 2 ^ 2n[generation] + 2n * O(n) [checking]\n",
    "# sc - O(n)"
   ]
  },
  {
   "cell_type": "markdown",
   "id": "0fbff1d5",
   "metadata": {},
   "source": [
    "- instaead of this we can generate only the valid ones, no need to check.\n",
    "- we can keep ( \"(()(\" , 1, 2), (cur_para, remaining_open, remaining_close)\n",
    "- here open when we have enough closing for them. so only open when remaining_open >= remaining_close.\n"
   ]
  },
  {
   "cell_type": "code",
   "execution_count": null,
   "id": "d656b08c",
   "metadata": {},
   "outputs": [],
   "source": [
    "class Solution:\n",
    "    def __init__(self):\n",
    "        self.res = []\n",
    "\n",
    "    def generateParenthesis(self, n: int) -> list[str]:\n",
    "        # if n is 3 then, 3 open parantheses and close parantheses.\n",
    "        self.generate_valid_para(\"(\", n-1, n)\n",
    "        return self.res\n",
    "\n",
    "    def generate_valid_para(self, cur_para, remaining_open, remaining_close):\n",
    "        if remaining_open == 0 and remaining_close == 0:\n",
    "            self.res.append(cur_para)\n",
    "            return \n",
    "        \n",
    "        # if it's valid to open if possible.\n",
    "        if remaining_open > 0:\n",
    "            self.generate_valid_para(cur_para + \"(\", remaining_open - 1, remaining_close)\n",
    "\n",
    "        # close it when, there is already something opened, so remaining_close > remaining_open.\n",
    "        if remaining_close > remaining_open:\n",
    "            self.generate_valid_para(cur_para + \")\", remaining_open, remaining_close - 1)\n",
    "        \n"
   ]
  },
  {
   "cell_type": "code",
   "execution_count": 9,
   "id": "31e14a7e",
   "metadata": {},
   "outputs": [
    {
     "data": {
      "text/plain": [
       "['((()))', '(()())', '(())()', '()(())', '()()()']"
      ]
     },
     "execution_count": 9,
     "metadata": {},
     "output_type": "execute_result"
    }
   ],
   "source": [
    "Solution().generateParenthesis(3)"
   ]
  },
  {
   "cell_type": "code",
   "execution_count": 10,
   "id": "419ce50c",
   "metadata": {},
   "outputs": [
    {
     "data": {
      "text/plain": [
       "['()']"
      ]
     },
     "execution_count": 10,
     "metadata": {},
     "output_type": "execute_result"
    }
   ],
   "source": [
    "Solution().generateParenthesis(n = 1)"
   ]
  },
  {
   "cell_type": "markdown",
   "id": "cf7df69d",
   "metadata": {},
   "source": [
    "## 🕒 Time Complexity Derivation for `generateParenthesis(n)`\n",
    "\n",
    "We are generating **all valid combinations** of `n` pairs of parentheses using backtracking. Let's derive the time complexity step by step.\n",
    "\n",
    "---\n",
    "\n",
    "### 🔹 Step 1: Understand the recursion structure\n",
    "\n",
    "At each recursive call, we have two choices:\n",
    "- Add an `'('` (open bracket), if we still have some left.\n",
    "- Add a `')'` (close bracket), **but only if** it doesn’t violate the validity rule (i.e., number of `'('` used so far ≥ number of `')'`).\n",
    "\n",
    "Without pruning invalid paths, the recursion tree would look like a **binary tree of depth 2n**:\n",
    "- At each level, you add one character (either `'('` or `')'`).\n",
    "- So total **possible combinations** = `2^(2n)`.\n",
    "\n",
    "---\n",
    "\n",
    "### 🔹 Step 2: Valid paths only → Catalan Numbers\n",
    "\n",
    "However, **most of these 2^(2n) paths are invalid** because they result in unbalanced parentheses.\n",
    "\n",
    "Only a subset of them are valid — and the number of valid parentheses combinations for `n` pairs is given by the **n-th Catalan number**:\n",
    "\n",
    "C(n) = (1 / (n + 1)) * (2n choose n)\n",
    "\n",
    "Using Stirling's approximation for large n:\n",
    "\n",
    "C(n) ≈ 4^n / (n * sqrt(n))\n",
    "\n",
    "So, the total number of **valid recursive paths** we explore is about:\n",
    "O(4^n / sqrt(n))\n",
    "\n",
    "---\n",
    "\n",
    "### 🔹 Step 3: Time per path\n",
    "\n",
    "Each valid combination is built character by character — total `2n` characters per string.\n",
    "\n",
    "Hence, the time to construct each valid string is `O(n)`, but since string construction is done during recursion and not post-processing, we treat the recursion **count** as the total cost.\n",
    "\n",
    "---\n",
    "\n",
    "### ✅ Final Time Complexity\n",
    "\n",
    "Time Complexity: O(4^n / sqrt(n))\n",
    "\n",
    "- Each valid path takes constant time to construct per step.\n",
    "- Total number of such valid paths is approximately `4^n / √n`.\n",
    "\n",
    "> So, time complexity is proportional to the **Catalan number**:  \n",
    "> \\[\n",
    "> \\boxed{O\\left(\\frac{4^n}{\\sqrt{n}}\\right)}\n",
    "> \\]\n",
    "\n",
    "---\n"
   ]
  },
  {
   "cell_type": "markdown",
   "id": "e990ada7",
   "metadata": {},
   "source": [
    "# Complexity Analysis for `generateParenthesis` Solution\n",
    "\n",
    "This document analyzes the **time** and **space** complexity of the backtracking solution for generating all valid parentheses pairs.\n",
    "\n",
    "---\n",
    "\n",
    "## Time Complexity\n",
    "\n",
    "- The problem is to generate all valid parentheses strings with `n` pairs (length `2n`).\n",
    "- The total number of valid parentheses sequences is the **nth Catalan number**, denoted as:\n",
    "\n",
    "  ```\n",
    "  C_n = (1 / (n + 1)) * (2n choose n)\n",
    "  ```\n",
    "\n",
    "- Using Stirling's approximation, this grows approximately as:\n",
    "\n",
    "  ```\n",
    "  C_n ≈ 4^n / n^{1.5}\n",
    "  ```\n",
    "\n",
    "- Your algorithm explores **only valid sequences** thanks to pruning invalid ones early.\n",
    "- Each valid sequence is constructed exactly once during recursion.\n",
    "- Hence, the time complexity is proportional to the number of valid sequences.\n",
    "\n",
    "**Therefore, the time complexity is:**\n",
    "\n",
    "```\n",
    "O(4^n / sqrt(n))\n",
    "```\n",
    "\n",
    "---\n",
    "\n",
    "## Space Complexity\n",
    "\n",
    "1. **Recursion Stack:**\n",
    "\n",
    "- The recursion depth is at most `2n` (each call adds one parenthesis).\n",
    "- Therefore, recursion stack space is:\n",
    "\n",
    "  ```\n",
    "  O(n)\n",
    "  ```\n",
    "\n",
    "2. **Result Storage:**\n",
    "\n",
    "- All valid sequences are stored in the result list.\n",
    "- Number of valid sequences is about:\n",
    "\n",
    "  ```\n",
    "  C_n ≈ 4^n / n^{1.5}\n",
    "  ```\n",
    "\n",
    "- Each sequence length is `2n`.\n",
    "- Total space for storing all sequences is:\n",
    "\n",
    "  ```\n",
    "  O((4^n / sqrt(n)) * n) = O(4^n)\n",
    "  ```\n",
    "\n",
    "---\n",
    "\n",
    "**Final space complexity:**\n",
    "\n",
    "```\n",
    "O(n)  (recursion stack) + O(4^n) (result storage) = O(4^n)\n",
    "```\n",
    "\n",
    "---\n",
    "\n",
    "## Summary\n",
    "\n",
    "| Complexity Type  | Complexity           |\n",
    "|------------------|----------------------|\n",
    "| Time Complexity  | O(4^n / sqrt(n))      |\n",
    "| Space Complexity | O(4^n) (dominant) + O(n) (stack) |\n",
    "\n",
    "---\n",
    "\n",
    "This analysis shows that the **output size dominates** the space used, and pruning dramatically reduces the search space compared to brute force.\n"
   ]
  },
  {
   "cell_type": "code",
   "execution_count": null,
   "id": "901268ab",
   "metadata": {},
   "outputs": [],
   "source": []
  }
 ],
 "metadata": {
  "kernelspec": {
   "display_name": "3.11.11",
   "language": "python",
   "name": "python3"
  },
  "language_info": {
   "codemirror_mode": {
    "name": "ipython",
    "version": 3
   },
   "file_extension": ".py",
   "mimetype": "text/x-python",
   "name": "python",
   "nbconvert_exporter": "python",
   "pygments_lexer": "ipython3",
   "version": "3.11.11"
  }
 },
 "nbformat": 4,
 "nbformat_minor": 5
}
