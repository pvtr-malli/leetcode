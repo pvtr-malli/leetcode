{
 "cells": [
  {
   "cell_type": "markdown",
   "id": "86b69902",
   "metadata": {},
   "source": [
    "Given a string s, return the number of palindromic substrings in it.\n",
    "\n",
    "A string is a palindrome when it reads the same backward as forward.\n",
    "\n",
    "A substring is a contiguous sequence of characters within the string.\n",
    "\n",
    " \n",
    "\n",
    "Example 1:\n",
    "\n",
    "Input: s = \"abc\"\n",
    "Output: 3\n",
    "Explanation: Three palindromic strings: \"a\", \"b\", \"c\".\n",
    "Example 2:\n",
    "\n",
    "Input: s = \"aaa\"\n",
    "Output: 6\n",
    "Explanation: Six palindromic strings: \"a\", \"a\", \"a\", \"aa\", \"aa\", \"aaa\".\n",
    " \n",
    "\n",
    "Constraints:\n",
    "\n",
    "1 <= s.length <= 1000\n",
    "s consists of lowercase English letters."
   ]
  },
  {
   "cell_type": "code",
   "execution_count": null,
   "id": "fa449dd4",
   "metadata": {},
   "outputs": [],
   "source": [
    "# approach one: for each character we can expland around center and find that is palindrom or not nad then count it/\n",
    "class Solution:\n",
    "    def countSubstrings(self, s: str) -> int:\n",
    "        n = len(s)\n",
    "        count = 0\n",
    "\n",
    "        def expand_around_center(left: int, right: int):\n",
    "            nonlocal count\n",
    "            while left >= 0 and right < n and s[left] == s[right]:\n",
    "                count += 1\n",
    "                left -= 1\n",
    "                right += 1\n",
    "\n",
    "        for i in range(n):\n",
    "            expand_around_center(i, i)     # odd length\n",
    "            expand_around_center(i, i + 1) # even length\n",
    "\n",
    "        return count\n",
    "\n",
    "# tc - O(n^2)\n",
    "# sc - O(1)"
   ]
  },
  {
   "cell_type": "code",
   "execution_count": null,
   "id": "38002562",
   "metadata": {},
   "outputs": [],
   "source": [
    "# used manachar's algorithm to create the P array.  \n",
    "\n",
    "class Solution:\n",
    "    def countSubstrings(self, s: str) -> int:\n",
    "        # Step 1: Transform string with '#' and sentinels\n",
    "        T = \"^#\" + \"#\".join(s) + \"#$\"\n",
    "        n = len(T)\n",
    "        P = [0] * n  # Array to store radius of palindromes\n",
    "        center = right = 0\n",
    "\n",
    "        for i in range(1, n - 1):\n",
    "            mirror = 2 * center - i  # Mirror of i with respect to center\n",
    "\n",
    "            if i < right:\n",
    "                P[i] = min(right - i, P[mirror])\n",
    "\n",
    "            # Expand palindrome centered at i\n",
    "            while T[i + P[i] + 1] == T[i - P[i] - 1]:\n",
    "                P[i] += 1\n",
    "\n",
    "            # Update center and right boundary if expanded past right\n",
    "            if i + P[i] > right:\n",
    "                center = i\n",
    "                right = i + P[i]\n",
    "        \n",
    "\n",
    "        print(P)\n",
    "\n",
    "        # Each element P[i] // 2 contributes to count of palindromes\n",
    "        return sum((v + 1) // 2 for v in P)\n"
   ]
  },
  {
   "cell_type": "markdown",
   "id": "1ca897cb",
   "metadata": {},
   "source": [
    "Why (v + 1) // 2?\n",
    "Because:\n",
    "\n",
    "In the transformed string, palindromes can be of even or odd length due to the # characters.\n",
    "\n",
    "For example, an odd-length palindrome \"aba\" becomes \"#a#b#a#\" and has P[i]=3 at center i=3. That corresponds to 2 palindromic substrings: \"b\" and \"aba\".\n",
    "\n",
    "So, to count how many palindromic substrings are centered at each position, we use:\n",
    "\n",
    "scss\n",
    "Copy\n",
    "Edit\n",
    "(v + 1) // 2\n",
    "This gives:\n",
    "\n",
    "1 for v = 1 (single character)\n",
    "\n",
    "1 for v = 2 (2-character palindrome with center on #)\n",
    "\n",
    "2 for v = 3 (3-character palindrome)\n",
    "\n",
    "and so on…\n",
    "\n",
    "Full Meaning\n",
    "python\n",
    "Copy\n",
    "Edit\n",
    "sum((v + 1) // 2 for v in P)\n",
    "→ Adds up the number of palindromic substrings contributed by each center in the transformed string."
   ]
  },
  {
   "cell_type": "code",
   "execution_count": 2,
   "id": "5845d858",
   "metadata": {},
   "outputs": [
    {
     "name": "stdout",
     "output_type": "stream",
     "text": [
      "[0, 0, 1, 2, 3, 2, 1, 0, 0]\n"
     ]
    },
    {
     "data": {
      "text/plain": [
       "6"
      ]
     },
     "execution_count": 2,
     "metadata": {},
     "output_type": "execute_result"
    }
   ],
   "source": [
    "Solution().countSubstrings(s = \"aaa\")"
   ]
  },
  {
   "cell_type": "code",
   "execution_count": null,
   "id": "6bd6335a",
   "metadata": {},
   "outputs": [],
   "source": []
  }
 ],
 "metadata": {
  "kernelspec": {
   "display_name": "3.11.11",
   "language": "python",
   "name": "python3"
  },
  "language_info": {
   "codemirror_mode": {
    "name": "ipython",
    "version": 3
   },
   "file_extension": ".py",
   "mimetype": "text/x-python",
   "name": "python",
   "nbconvert_exporter": "python",
   "pygments_lexer": "ipython3",
   "version": "3.11.11"
  }
 },
 "nbformat": 4,
 "nbformat_minor": 5
}
