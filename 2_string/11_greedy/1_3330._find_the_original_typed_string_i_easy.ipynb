{
 "cells": [
  {
   "cell_type": "markdown",
   "id": "7ddcfcce",
   "metadata": {},
   "source": [
    "Alice is attempting to type a specific string on her computer. However, she tends to be clumsy and may press a key for too long, resulting in a character being typed multiple times.\n",
    "\n",
    "Although Alice tried to focus on her typing, she is aware that she may still have done this at most once.\n",
    "\n",
    "You are given a string word, which represents the final output displayed on Alice's screen.\n",
    "\n",
    "Return the total number of possible original strings that Alice might have intended to type.\n",
    "\n",
    " \n",
    "\n",
    "Example 1:\n",
    "\n",
    "Input: word = \"abbcccc\"\n",
    "\n",
    "Output: 5\n",
    "\n",
    "Explanation:\n",
    "\n",
    "The possible strings are: \"abbcccc\", \"abbccc\", \"abbcc\", \"abbc\", and \"abcccc\".\n",
    "\n",
    "Example 2:\n",
    "\n",
    "Input: word = \"abcd\"\n",
    "\n",
    "Output: 1\n",
    "\n",
    "Explanation:\n",
    "\n",
    "The only possible string is \"abcd\".\n",
    "\n",
    "Example 3:\n",
    "\n",
    "Input: word = \"aaaa\"\n",
    "\n",
    "Output: 4\n",
    "\n",
    " \n",
    "\n",
    "Constraints:\n",
    "\n",
    "1 <= word.length <= 100\n",
    "word consists only of lowercase English letters."
   ]
  },
  {
   "cell_type": "markdown",
   "id": "01ff6dce",
   "metadata": {},
   "source": [
    "word = \"abbcccc\"\n",
    "- the possible strings are:\n",
    "\n",
    "| Original  | Valid? | Explanation                                     |\n",
    "| --------- | ------ | ----------------------------------------------- |\n",
    "| `abbcccc` | ✅      | Exact match                                     |\n",
    "| `abbccc`  | ✅      |  you can reduce one c   |\n",
    "| `abbcc`   | ✅      |  you can reduce one c   |\n",
    "| `abbc`    | ✅      |  you can reduce one c     |\n",
    "| `abcccc`  | ✅      |  you can reduce one 'b'         |\n",
    "| `abc`     | ❌      |  you cant reduce both 'c' and 'b'  |\n",
    "| `abcc`    | ❌      |   you cant reduce both 'c' and 'b'          |\n",
    "\n",
    "\n",
    "- So count the consiqutive repetive words. that is the ans.\n",
    "-  for abbcccc \n",
    "- a = 1 : cnt = 1\n",
    "- b = 2 : cnt = 1 + 1 [one consiqutive repeated character.]\n",
    "- c = 4 : cnt = 2 + 3 [3 consiqutive repeated character.]"
   ]
  },
  {
   "cell_type": "code",
   "execution_count": null,
   "id": "6710f6d4",
   "metadata": {},
   "outputs": [],
   "source": [
    "class Solution:\n",
    "    def possibleStringCount(self, word: str) -> int:\n",
    "        count = 1 # for the original string.\n",
    "        for i in range(1, len(word)):\n",
    "            # if the current char is repating consequtively then count it in.\n",
    "            \n",
    "            if word[i] == word[i-1]:\n",
    "                count += 1\n",
    "        return count\n",
    "\n",
    "# tc - O(n)\n",
    "# sc - O(1)"
   ]
  },
  {
   "cell_type": "code",
   "execution_count": 2,
   "id": "de16de36",
   "metadata": {},
   "outputs": [
    {
     "data": {
      "text/plain": [
       "5"
      ]
     },
     "execution_count": 2,
     "metadata": {},
     "output_type": "execute_result"
    }
   ],
   "source": [
    "Solution().possibleStringCount(word = \"abbcccc\"\n",
    ")"
   ]
  },
  {
   "cell_type": "code",
   "execution_count": 3,
   "id": "de516fb2",
   "metadata": {},
   "outputs": [
    {
     "data": {
      "text/plain": [
       "1"
      ]
     },
     "execution_count": 3,
     "metadata": {},
     "output_type": "execute_result"
    }
   ],
   "source": [
    "Solution().possibleStringCount(word = \"abcd\")"
   ]
  },
  {
   "cell_type": "code",
   "execution_count": 4,
   "id": "7a1a2215",
   "metadata": {},
   "outputs": [
    {
     "data": {
      "text/plain": [
       "4"
      ]
     },
     "execution_count": 4,
     "metadata": {},
     "output_type": "execute_result"
    }
   ],
   "source": [
    "Solution().possibleStringCount(word = \"aaaa\")"
   ]
  },
  {
   "cell_type": "code",
   "execution_count": null,
   "id": "28cab301",
   "metadata": {},
   "outputs": [],
   "source": []
  }
 ],
 "metadata": {
  "kernelspec": {
   "display_name": "3.11.11",
   "language": "python",
   "name": "python3"
  },
  "language_info": {
   "codemirror_mode": {
    "name": "ipython",
    "version": 3
   },
   "file_extension": ".py",
   "mimetype": "text/x-python",
   "name": "python",
   "nbconvert_exporter": "python",
   "pygments_lexer": "ipython3",
   "version": "3.11.11"
  }
 },
 "nbformat": 4,
 "nbformat_minor": 5
}
