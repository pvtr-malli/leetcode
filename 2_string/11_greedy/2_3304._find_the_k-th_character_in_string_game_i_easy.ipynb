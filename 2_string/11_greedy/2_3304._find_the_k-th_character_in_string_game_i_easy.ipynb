{
 "cells": [
  {
   "cell_type": "markdown",
   "id": "5ff0bcd0",
   "metadata": {},
   "source": [
    "Alice and Bob are playing a game. Initially, Alice has a string word = \"a\".\n",
    "\n",
    "You are given a positive integer k.\n",
    "\n",
    "Now Bob will ask Alice to perform the following operation forever:\n",
    "\n",
    "Generate a new string by changing each character in word to its next character in the English alphabet, and append it to the original word.\n",
    "For example, performing the operation on \"c\" generates \"cd\" and performing the operation on \"zb\" generates \"zbac\".\n",
    "\n",
    "Return the value of the kth character in word, after enough operations have been done for word to have at least k characters.\n",
    "\n",
    "Note that the character 'z' can be changed to 'a' in the operation.\n",
    "\n",
    " \n",
    "\n",
    "Example 1:\n",
    "\n",
    "Input: k = 5\n",
    "\n",
    "Output: \"b\"\n",
    "\n",
    "Explanation:\n",
    "\n",
    "Initially, word = \"a\". We need to do the operation three times:\n",
    "\n",
    "Generated string is \"b\", word becomes \"ab\".\n",
    "Generated string is \"bc\", word becomes \"abbc\".\n",
    "Generated string is \"bccd\", word becomes \"abbcbccd\".\n",
    "Example 2:\n",
    "\n",
    "Input: k = 10\n",
    "\n",
    "Output: \"c\"\n",
    "\n",
    " \n",
    "\n",
    "Constraints:\n",
    "\n",
    "1 <= k <= 500"
   ]
  },
  {
   "cell_type": "markdown",
   "id": "f47e8465",
   "metadata": {},
   "source": [
    "# Approach 1:\n",
    "- stimulate the process:\n",
    "- tc - O(1 + 2 + 4 + 8 + ... + k) = O(k)\n",
    "- sc - O(k) or more\n",
    "\n",
    "# Approach 2:\n",
    "> **3333. Find the Original Typed String II**\n",
    "> or any problem where we're given a final string and asked to reverse-engineer the operations based on **binary operations** and character shifts.\n",
    "\n",
    "Let’s break this insight down with a real and intuitive explanation.\n",
    "\n",
    "---\n",
    "\n",
    "### 🧩 Problem Pattern\n",
    "\n",
    "Assume a string of lowercase letters is built using a number `k`, and for every bit in the binary of `k-1`, we modify the character based on whether the bit is `1` or not.\n",
    "\n",
    "Each bit level (from the highest to lowest) determines whether we:\n",
    "\n",
    "* **Add '1' to the character**\n",
    "* **Or skip** based on whether the bit is 0\n",
    "\n",
    "---\n",
    "\n",
    "## 🧠 The Key Insight:\n",
    "\n",
    "### 🔸 Binary Representation of `k-1`\n",
    "\n",
    "Let’s take an example:\n",
    "\n",
    "```text\n",
    "k = 5\n",
    "k - 1 = 4 → binary: 100\n",
    "```\n",
    "\n",
    "We observe that:\n",
    "\n",
    "* It has 3 bits.\n",
    "* It has one `1` bit.\n",
    "\n",
    "### 🔸 Idea:\n",
    "\n",
    "At each level (bit position), the operation might modify the string based on whether the bit is set (1) or not (0). If a bit is `1`, it means an increment (shift) happened at that level.\n",
    "\n",
    "So, the **number of character changes (shifts from 'a' to 'b', 'b' to 'c', etc.)** is equal to the **number of `1`s in the binary representation of `k - 1`**.\n",
    "\n",
    "This is called the **Hamming Weight** or **population count**.\n",
    "\n",
    "---\n",
    "\n",
    "## 🔁 Why `(k - 1)`?\n",
    "\n",
    "This is due to **0-based indexing** or how ranges typically work:\n",
    "\n",
    "* When you have `k` possibilities, they're often indexed from `0` to `k - 1`.\n",
    "\n",
    "So operations are applied over those `k` values, and we analyze how those influence the final result.\n",
    "\n",
    "\n",
    "---\n",
    "\n",
    "### 🔧 Example:\n",
    "\n",
    "```python\n",
    "k = 11\n",
    "bin(k-1) = bin(10) = 0b1010 → two 1s\n",
    "final character = chr(ord('a') + 2) = 'c'\n",
    "```\n",
    "\n",
    "---\n",
    "\n",
    "## 🛠 Code to Count 1s in Binary\n",
    "\n",
    "```python\n",
    "def char_from_k(k):\n",
    "    count_ones = bin(k - 1).count('1')\n",
    "    return chr(ord('a') + count_ones)\n",
    "\n",
    "print(char_from_k(11))  # Output: 'c'\n",
    "```\n",
    "\n",
    "---\n",
    "\n",
    "Let me know if you want a **visual binary tree** of how the transformations work!\n",
    "\n"
   ]
  },
  {
   "cell_type": "code",
   "execution_count": null,
   "id": "3bfb32e5",
   "metadata": {},
   "outputs": [],
   "source": [
    "class Solution:\n",
    "    def kthCharacter(self, k: int) -> str:\n",
    "        starting_bit = ['a']\n",
    "        while len(starting_bit) < k:\n",
    "            size = len(starting_bit)\n",
    "            \n",
    "            for i in range(size):\n",
    "                if starting_bit[i] != 'z':\n",
    "                    next_char = chr(ord(starting_bit[i]) + 1)\n",
    "                else:\n",
    "                    next_char = 'a'\n",
    "                starting_bit.append(next_char)\n",
    "        return starting_bit[k - 1] # 0-indexing\n",
    "\n",
    "# tc - O(k)\n",
    "# sc - O(k) - grows upto size k."
   ]
  },
  {
   "cell_type": "code",
   "execution_count": 3,
   "id": "56ca3020",
   "metadata": {},
   "outputs": [
    {
     "data": {
      "text/plain": [
       "'b'"
      ]
     },
     "execution_count": 3,
     "metadata": {},
     "output_type": "execute_result"
    }
   ],
   "source": [
    "Solution().kthCharacter(5)"
   ]
  },
  {
   "cell_type": "code",
   "execution_count": 4,
   "id": "2a34f4dc",
   "metadata": {},
   "outputs": [
    {
     "data": {
      "text/plain": [
       "'c'"
      ]
     },
     "execution_count": 4,
     "metadata": {},
     "output_type": "execute_result"
    }
   ],
   "source": [
    "Solution().kthCharacter(10)"
   ]
  },
  {
   "cell_type": "code",
   "execution_count": 5,
   "id": "0f331b8e",
   "metadata": {},
   "outputs": [],
   "source": [
    "def kthCharacter(self, k: int) -> str:\n",
    "    return chr(ord('a') + (k - 1).bit_count())"
   ]
  },
  {
   "cell_type": "code",
   "execution_count": 6,
   "id": "84e0b57e",
   "metadata": {},
   "outputs": [
    {
     "data": {
      "text/plain": [
       "'c'"
      ]
     },
     "execution_count": 6,
     "metadata": {},
     "output_type": "execute_result"
    }
   ],
   "source": [
    "Solution().kthCharacter(10)"
   ]
  },
  {
   "cell_type": "code",
   "execution_count": null,
   "id": "e2bb0bf4",
   "metadata": {},
   "outputs": [],
   "source": []
  }
 ],
 "metadata": {
  "kernelspec": {
   "display_name": "3.11.11",
   "language": "python",
   "name": "python3"
  },
  "language_info": {
   "codemirror_mode": {
    "name": "ipython",
    "version": 3
   },
   "file_extension": ".py",
   "mimetype": "text/x-python",
   "name": "python",
   "nbconvert_exporter": "python",
   "pygments_lexer": "ipython3",
   "version": "3.11.11"
  }
 },
 "nbformat": 4,
 "nbformat_minor": 5
}
