{
 "cells": [
  {
   "cell_type": "markdown",
   "id": "34e20acf",
   "metadata": {},
   "source": [
    "A parentheses string is valid if and only if:\n",
    "\n",
    "It is the empty string,\n",
    "It can be written as AB (A concatenated with B), where A and B are valid strings, or\n",
    "It can be written as (A), where A is a valid string.\n",
    "You are given a parentheses string s. In one move, you can insert a parenthesis at any position of the string.\n",
    "\n",
    "For example, if s = \"()))\", you can insert an opening parenthesis to be \"(()))\" or a closing parenthesis to be \"())))\".\n",
    "Return the minimum number of moves required to make s valid.\n",
    "\n",
    " \n",
    "\n",
    "Example 1:\n",
    "\n",
    "Input: s = \"())\"\n",
    "Output: 1\n",
    "Example 2:\n",
    "\n",
    "Input: s = \"(((\"\n",
    "Output: 3\n",
    " \n",
    "\n",
    "Constraints:\n",
    "\n",
    "1 <= s.length <= 1000\n",
    "s[i] is either '(' or ')'."
   ]
  },
  {
   "cell_type": "code",
   "execution_count": null,
   "id": "152becae",
   "metadata": {},
   "outputs": [],
   "source": [
    "class Solution:\n",
    "    def minAddToMakeValid(self, s: str) -> int:\n",
    "        if len(s) == 0:\n",
    "            return 0\n",
    "        \n",
    "        stack = []\n",
    "        parantheses_pair = {\"}\": \"{\", \")\": \"(\", \"]\": \"[\"}\n",
    "        for ele in s:\n",
    "            # if the current element is the pair of the last element in the stack. \n",
    "            # then that paranteses is closed, pop it out.\n",
    "            if len(stack) > 0:\n",
    "                if ele in parantheses_pair and parantheses_pair[ele] == stack[-1]:\n",
    "                    stack.pop()\n",
    "                else:\n",
    "                    # if not append it.\n",
    "                    stack.append(ele)\n",
    "            else:\n",
    "                # if the stack is empty then append it.\n",
    "                stack.append(ele)\n",
    "            # NOTE: we can avoid this append 2 times keeping it outside, but let it be like this for readablity.\n",
    "        \n",
    "\n",
    "        # at the end, how many parantheses left in the stack, not properly closed are the minimum count we need to \n",
    "        # make the parantheses string valid.\n",
    "        return len(stack)\n",
    "    \n",
    "# tc - O(n)\n",
    "# sc - O(n) # at worst case the list can have at most len(s) elemetns"
   ]
  },
  {
   "cell_type": "code",
   "execution_count": 2,
   "id": "5acfbd3c",
   "metadata": {},
   "outputs": [
    {
     "data": {
      "text/plain": [
       "1"
      ]
     },
     "execution_count": 2,
     "metadata": {},
     "output_type": "execute_result"
    }
   ],
   "source": [
    "Solution().minAddToMakeValid(s = \"())\")"
   ]
  },
  {
   "cell_type": "code",
   "execution_count": 3,
   "id": "d549257d",
   "metadata": {},
   "outputs": [
    {
     "data": {
      "text/plain": [
       "3"
      ]
     },
     "execution_count": 3,
     "metadata": {},
     "output_type": "execute_result"
    }
   ],
   "source": [
    "Solution().minAddToMakeValid(s = \"(((\")"
   ]
  },
  {
   "cell_type": "markdown",
   "id": "e66dcb68",
   "metadata": {},
   "source": [
    "# without using stack, pointer based aprroach."
   ]
  },
  {
   "cell_type": "code",
   "execution_count": null,
   "id": "e332edf4",
   "metadata": {},
   "outputs": [],
   "source": [
    "class Solution:\n",
    "    def minAddToMakeValid(self, s: str) -> int:\n",
    "        if len(s) == 0:\n",
    "            return 0\n",
    "        \n",
    "        opening_para = \"(\"\n",
    "        unclosed_open_para_count = 0  # Number of unmatched '('\n",
    "        unopned_close_para_count = 0    # Number of unmatched ')'\n",
    "\n",
    "        for ele in s:\n",
    "            # when ever the opening pracket comes you just count it.\n",
    "            if ele == opening_para:\n",
    "                unclosed_open_para_count += 1    # Found an opening, wait for a match.\n",
    "\n",
    "            else: # this is the closing para. => \")\"\n",
    "                # a closing comes when there is nothing open, this has to be fixed\n",
    "                # count it, ex: \"))()\" ...when first comes opening count is 0. \n",
    "                # nothing we have to close, so invalid,\n",
    "                if unclosed_open_para_count == 0:\n",
    "                    unopned_close_para_count += 1\n",
    "                else:\n",
    "                    # when the closing paranthese has a opened one, then its \n",
    "                    unclosed_open_para_count -= 1\n",
    "        \n",
    "        # minimum to make is valid is,\n",
    "        # closed paranthese which has no opening + openings which have no clsing.\n",
    "        return unclosed_open_para_count + unopned_close_para_count \n",
    "    \n",
    "\n",
    "# tc - O(n)\n",
    "# sc - O(1)\n"
   ]
  },
  {
   "cell_type": "code",
   "execution_count": 5,
   "id": "f1c32f66",
   "metadata": {},
   "outputs": [
    {
     "data": {
      "text/plain": [
       "1"
      ]
     },
     "execution_count": 5,
     "metadata": {},
     "output_type": "execute_result"
    }
   ],
   "source": [
    "Solution().minAddToMakeValid(s = \"())\")"
   ]
  },
  {
   "cell_type": "code",
   "execution_count": 6,
   "id": "7fbf9272",
   "metadata": {},
   "outputs": [
    {
     "data": {
      "text/plain": [
       "3"
      ]
     },
     "execution_count": 6,
     "metadata": {},
     "output_type": "execute_result"
    }
   ],
   "source": [
    "Solution().minAddToMakeValid(s = \"(((\")"
   ]
  },
  {
   "cell_type": "markdown",
   "id": "9de09654",
   "metadata": {},
   "source": [
    "s = \")()())(\"\n",
    "unclosed_open_para_count = 0\n",
    "unopned_close_para_count = 0\n",
    "\n",
    "\n",
    "\n",
    "| Index | Char | Action                                                             | unclosed\\_open\\_para\\_count | unopned\\_close\\_para\\_count |\n",
    "| ----- | ---- | ------------------------------------------------------------------ | --------------------------- | --------------------------- |\n",
    "| 0     | `)`  | No `'('` to match → increment `unopned_close_para_count` by 1      | 0                           | 1                           |\n",
    "| 1     | `(`  | Opening → increment `unclosed_open_para_count` by 1                | 1                           | 1                           |\n",
    "| 2     | `)`  | Matches previous `'('` → decrement `unclosed_open_para_count` by 1 | 0                           | 1                           |\n",
    "| 3     | `(`  | Opening → increment `unclosed_open_para_count` by 1                | 1                           | 1                           |\n",
    "| 4     | `)`  | Matches previous `'('` → decrement `unclosed_open_para_count` by 1 | 0                           | 1                           |\n",
    "| 5     | `)`  | No `'('` to match → increment `unopned_close_para_count` by 1      | 0                           | 2                           |\n",
    "| 6     | `(`  | Opening → increment `unclosed_open_para_count` by 1                | 1                           | 2                           |\n"
   ]
  },
  {
   "cell_type": "code",
   "execution_count": null,
   "id": "e2c79ffc",
   "metadata": {},
   "outputs": [],
   "source": []
  }
 ],
 "metadata": {
  "kernelspec": {
   "display_name": "3.11.11",
   "language": "python",
   "name": "python3"
  },
  "language_info": {
   "codemirror_mode": {
    "name": "ipython",
    "version": 3
   },
   "file_extension": ".py",
   "mimetype": "text/x-python",
   "name": "python",
   "nbconvert_exporter": "python",
   "pygments_lexer": "ipython3",
   "version": "3.11.11"
  }
 },
 "nbformat": 4,
 "nbformat_minor": 5
}
