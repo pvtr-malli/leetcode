{
 "cells": [
  {
   "cell_type": "markdown",
   "id": "2b0dd191",
   "metadata": {},
   "source": [
    "Given a string s containing just the characters '(', ')', '{', '}', '[' and ']', determine if the input string is valid.\n",
    "\n",
    "An input string is valid if:\n",
    "\n",
    "Open brackets must be closed by the same type of brackets.\n",
    "Open brackets must be closed in the correct order.\n",
    "Every close bracket has a corresponding open bracket of the same type.\n",
    " \n",
    "\n",
    "Example 1:\n",
    "\n",
    "Input: s = \"()\"\n",
    "\n",
    "Output: true\n",
    "\n",
    "Example 2:\n",
    "\n",
    "Input: s = \"()[]{}\"\n",
    "\n",
    "Output: true\n",
    "\n",
    "Example 3:\n",
    "\n",
    "Input: s = \"(]\"\n",
    "\n",
    "Output: false\n",
    "\n",
    "Example 4:\n",
    "\n",
    "Input: s = \"([])\"\n",
    "\n",
    "Output: true\n",
    "\n",
    " \n",
    "\n",
    "Constraints:\n",
    "\n",
    "1 <= s.length <= 104\n",
    "s consists of parentheses only '()[]{}'."
   ]
  },
  {
   "cell_type": "code",
   "execution_count": null,
   "id": "caf2fa25",
   "metadata": {},
   "outputs": [],
   "source": [
    "class Solution:\n",
    "    def isValid(self, s: str) -> bool:\n",
    "        # let have a stack for this LIFO.\n",
    "        stack = []\n",
    "        parantheses_pair = {\"}\": \"{\", \")\": \"(\", \"]\": \"[\"}\n",
    "        for ele in s:\n",
    "            # if the current element is the pair of the last element in the stack. \n",
    "            # then that paranteses is closed, pop it out.\n",
    "            if len(stack) > 0:\n",
    "                if ele in parantheses_pair and parantheses_pair[ele] == stack[-1]:\n",
    "                    stack.pop()\n",
    "                else:\n",
    "                    # if not append it.\n",
    "                    stack.append(ele)\n",
    "            else:\n",
    "                # if the stack is empty then append it.\n",
    "                stack.append(ele)\n",
    "            # NOTE: we can avoid this append 2 times keeping it outside, but let it be like this for readablity.\n",
    "\n",
    "            \n",
    "        # if we got a valid parantheses, then everything must have closed properly in their order.\n",
    "        # in that case our stack will be empty.\n",
    "        return len(stack) == 0\n",
    "\n",
    "\n",
    "# tc - O(n)\n",
    "# sc - O(n) # at worst case the list can have at most len(s) elemetns"
   ]
  },
  {
   "cell_type": "code",
   "execution_count": 12,
   "id": "8ae2f5d4",
   "metadata": {},
   "outputs": [
    {
     "data": {
      "text/plain": [
       "True"
      ]
     },
     "execution_count": 12,
     "metadata": {},
     "output_type": "execute_result"
    }
   ],
   "source": [
    "Solution().isValid(s = \"()\")"
   ]
  },
  {
   "cell_type": "code",
   "execution_count": 13,
   "id": "a26c151b",
   "metadata": {},
   "outputs": [
    {
     "data": {
      "text/plain": [
       "True"
      ]
     },
     "execution_count": 13,
     "metadata": {},
     "output_type": "execute_result"
    }
   ],
   "source": [
    "Solution().isValid(s = \"()[]{}\")"
   ]
  },
  {
   "cell_type": "code",
   "execution_count": 14,
   "id": "6bc2b2ee",
   "metadata": {},
   "outputs": [
    {
     "data": {
      "text/plain": [
       "False"
      ]
     },
     "execution_count": 14,
     "metadata": {},
     "output_type": "execute_result"
    }
   ],
   "source": [
    "Solution().isValid(s = \"(]\")"
   ]
  },
  {
   "cell_type": "code",
   "execution_count": 15,
   "id": "c4b46cba",
   "metadata": {},
   "outputs": [
    {
     "data": {
      "text/plain": [
       "True"
      ]
     },
     "execution_count": 15,
     "metadata": {},
     "output_type": "execute_result"
    }
   ],
   "source": [
    "Solution().isValid(\"([])\")"
   ]
  },
  {
   "cell_type": "code",
   "execution_count": null,
   "id": "1b9de4bb",
   "metadata": {},
   "outputs": [],
   "source": []
  }
 ],
 "metadata": {
  "kernelspec": {
   "display_name": "3.11.11",
   "language": "python",
   "name": "python3"
  },
  "language_info": {
   "codemirror_mode": {
    "name": "ipython",
    "version": 3
   },
   "file_extension": ".py",
   "mimetype": "text/x-python",
   "name": "python",
   "nbconvert_exporter": "python",
   "pygments_lexer": "ipython3",
   "version": "3.11.11"
  }
 },
 "nbformat": 4,
 "nbformat_minor": 5
}
