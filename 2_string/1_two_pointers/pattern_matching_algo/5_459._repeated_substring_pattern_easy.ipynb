{
 "cells": [
  {
   "cell_type": "markdown",
   "id": "41902100",
   "metadata": {},
   "source": [
    "Given a string s, check if it can be constructed by taking a substring of it and appending multiple copies of the substring together.\n",
    "\n",
    " \n",
    "\n",
    "Example 1:\n",
    "\n",
    "Input: s = \"abab\"\n",
    "Output: true\n",
    "Explanation: It is the substring \"ab\" twice.\n",
    "Example 2:\n",
    "\n",
    "Input: s = \"aba\"\n",
    "Output: false\n",
    "Example 3:\n",
    "\n",
    "Input: s = \"abcabcabcabc\"\n",
    "Output: true\n",
    "Explanation: It is the substring \"abc\" four times or the substring \"abcabc\" twice.\n",
    " \n",
    "\n",
    "Constraints:\n",
    "\n",
    "1 <= s.length <= 104\n",
    "s consists of lowercase English letters."
   ]
  },
  {
   "cell_type": "markdown",
   "id": "ed17ad02",
   "metadata": {},
   "source": [
    "# Z algorithm"
   ]
  },
  {
   "cell_type": "markdown",
   "id": "707133ed",
   "metadata": {},
   "source": [
    "s = \"abab\"\n",
    "Z = [0, 0, 2, 0]\n",
    "\n",
    "\n",
    "s = \"abcabcabc\"\n",
    "Z = [0, 0, 0, 6, 0, 0, 3, 0, 0]\n",
    "\n",
    "s = \"ababab\"\n",
    "Z = [0, 0, 4, 0, 2, 0]\n",
    "\n",
    "for example 1:\n",
    "\n",
    "At i = 2:\n",
    "  Z[2] = 2 (which is n - i = 4 - 2)\n",
    "  n % i = 0 (4 % 2 = 0)\n",
    "✔️ So it's a repeated pattern: \"ab\"\n",
    "\n",
    "for example 2:\n",
    "At i = 3:\n",
    "    Z[3] = 6 (n - i = 9 - 3 = 6) # which means from here 6 characters have a prefix. \n",
    "    9 % 3 == 0 ✅\n",
    "\n",
    "\n",
    "\n",
    "- can't only check the middle value, fail for example 2\n",
    "- cant only check for all the z[i] % n == 0: example 3 fails."
   ]
  },
  {
   "cell_type": "code",
   "execution_count": null,
   "id": "32bd7d4c",
   "metadata": {},
   "outputs": [],
   "source": [
    "class Solution:\n",
    "\n",
    "    def repeatedSubstringPattern(self, s: str) -> bool:\n",
    "        def calculate_z(s):\n",
    "            n = len(s)\n",
    "            z = [0] * n\n",
    "            l = r = 0\n",
    "            for i in range(1, n):\n",
    "                if i > r:\n",
    "                    l = r = i\n",
    "                    while r < n and s[r - l] == s[r]:\n",
    "                        r += 1\n",
    "                    z[i] = r - l\n",
    "                    r -= 1\n",
    "                else:\n",
    "                    k = i - l\n",
    "                    if z[k] < r - i + 1:\n",
    "                        z[i] = z[k]\n",
    "                    else:\n",
    "                        l = i\n",
    "                        while r < n and s[r - l] == s[r]:\n",
    "                            r += 1\n",
    "                        z[i] = r - l\n",
    "                        r -= 1\n",
    "            return z\n",
    "\n",
    "        n = len(s)\n",
    "        z = calculate_z(s)\n",
    "\n",
    "        for i in range(1, n):\n",
    "            if z[i] == n - i and n % i == 0:\n",
    "                return True\n",
    "        return False\n",
    "\n",
    "\n",
    "# tc - O(n) + O(n)\n",
    "# sc - O(n)"
   ]
  },
  {
   "cell_type": "code",
   "execution_count": null,
   "id": "75505303",
   "metadata": {},
   "outputs": [],
   "source": [
    "# one linear approach.\n",
    "\n",
    "class Solution:\n",
    "    def repeatedSubstringPattern(self, s: str) -> bool:\n",
    "        return s in s[1:] + s[:-1]\n",
    "    "
   ]
  },
  {
   "cell_type": "markdown",
   "id": "2162cfdb",
   "metadata": {},
   "source": [
    "s = \"abab\"\n",
    "\n",
    "s[1:] = \"bab\"\n",
    "s[:-1] = \"aba\"\n",
    "s[1:] + s[:-1] = \"bababa\"\n",
    "\n",
    "\"abab\" in \"bababa\" → ✅ True\n",
    "\n",
    "\n",
    "s = \"abcd\"\n",
    "\n",
    "s[1:] = \"bcd\"\n",
    "s[:-1] = \"abc\"\n",
    "s[1:] + s[:-1] = \"bcdabc\"\n",
    "\n",
    "\"abcd\" in \"bcdabc\" → ❌ False\n",
    "\n",
    "\n",
    "Time: O(n) for substring operation and containment check.\n",
    "\n",
    "Space: O(n) for storing the concatenated string."
   ]
  },
  {
   "cell_type": "markdown",
   "id": "f1aa8638",
   "metadata": {},
   "source": []
  }
 ],
 "metadata": {
  "language_info": {
   "name": "python"
  }
 },
 "nbformat": 4,
 "nbformat_minor": 5
}
