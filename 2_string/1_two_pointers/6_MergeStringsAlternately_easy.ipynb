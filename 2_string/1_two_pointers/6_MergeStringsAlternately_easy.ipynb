{
 "cells": [
  {
   "cell_type": "markdown",
   "metadata": {},
   "source": [
    "EASY"
   ]
  },
  {
   "cell_type": "markdown",
   "metadata": {},
   "source": [
    "You are given two strings word1 and word2. Merge the strings by adding letters in alternating order, starting with word1. If a string is longer than the other, append the additional letters onto the end of the merged string.\n",
    "\n",
    "Return the merged string.\n",
    "\n",
    " \n",
    "\n",
    "Example 1:\n",
    "\n",
    "Input: word1 = \"abc\", word2 = \"pqr\"\n",
    "Output: \"apbqcr\"\n",
    "Explanation: The merged string will be merged as so:\n",
    "word1:  a   b   c\n",
    "word2:    p   q   r\n",
    "merged: a p b q c r\n",
    "Example 2:\n",
    "\n",
    "Input: word1 = \"ab\", word2 = \"pqrs\"\n",
    "Output: \"apbqrs\"\n",
    "Explanation: Notice that as word2 is longer, \"rs\" is appended to the end.\n",
    "word1:  a   b \n",
    "word2:    p   q   r   s\n",
    "merged: a p b q   r   s\n",
    "Example 3:\n",
    "\n",
    "Input: word1 = \"abcd\", word2 = \"pq\"\n",
    "Output: \"apbqcd\"\n",
    "Explanation: Notice that as word1 is longer, \"cd\" is appended to the end.\n",
    "word1:  a   b   c   d\n",
    "word2:    p   q \n",
    "merged: a p b q c   d"
   ]
  },
  {
   "cell_type": "code",
   "execution_count": null,
   "metadata": {},
   "outputs": [],
   "source": [
    "class Solution(object):\n",
    "    def mergeAlternately(self, word1, word2):\n",
    "        \"\"\"\n",
    "        :type word1: str\n",
    "        :type word2: str\n",
    "        :rtype: str\n",
    "        \"\"\"\n",
    "        result = \"\"\n",
    "        l1, l2 = len(word1), len(word2)\n",
    "        for i in range(min(l1,l2)):\n",
    "            result = result + word1[i]\n",
    "            result = result + word2[i]\n",
    "\n",
    "        result += word1[l2:] if l1 > l2 else word2[l1:]\n",
    "\n",
    "        return result\n",
    "\n",
    "        # linear time - O(n)"
   ]
  }
 ],
 "metadata": {
  "language_info": {
   "name": "python"
  }
 },
 "nbformat": 4,
 "nbformat_minor": 2
}
