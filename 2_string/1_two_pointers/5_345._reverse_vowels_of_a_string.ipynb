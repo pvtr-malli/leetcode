{
 "cells": [
  {
   "cell_type": "code",
   "execution_count": null,
   "metadata": {},
   "outputs": [],
   "source": [
    "EASY"
   ]
  },
  {
   "cell_type": "markdown",
   "metadata": {},
   "source": [
    "Given a string s, reverse only all the vowels in the string and return it.\n",
    "\n",
    "The vowels are 'a', 'e', 'i', 'o', and 'u', and they can appear in both lower and upper cases, more than once.\n",
    "\n",
    " \n",
    "\n",
    "Example 1:\n",
    "\n",
    "Input: s = \"IceCreAm\"\n",
    "\n",
    "Output: \"AceCreIm\"\n",
    "\n",
    "Explanation:\n",
    "\n",
    "The vowels in s are ['I', 'e', 'e', 'A']. On reversing the vowels, s becomes \"AceCreIm\".\n",
    "\n",
    "Example 2:\n",
    "\n",
    "Input: s = \"leetcode\"\n",
    "\n",
    "Output: \"leotcede\"\n",
    "\n"
   ]
  },
  {
   "cell_type": "code",
   "execution_count": 23,
   "metadata": {},
   "outputs": [],
   "source": [
    "class Solution:\n",
    "    def reverseVowels(self, s: str) -> str:\n",
    "        #  2 pointer and while loop.\n",
    "        # Start and end pointer, find the vowels and swap it.\n",
    "        vowels = {'a': 1, 'e':2, 'i': 3, 'o':4, 'u': 5}\n",
    "        s = list(s)\n",
    "        start, end = 0, len(s) - 1\n",
    "        while start <= end:\n",
    "            if s[start].lower() not in vowels:\n",
    "                start += 1\n",
    "            elif s[end].lower() not in vowels:\n",
    "                end -= 1\n",
    "            else:\n",
    "                s[start], s[end] = s[end], s[start]\n",
    "                start += 1\n",
    "                end -= 1\n",
    "        return \"\".join(s)"
   ]
  },
  {
   "cell_type": "code",
   "execution_count": 24,
   "metadata": {},
   "outputs": [
    {
     "name": "stdout",
     "output_type": "stream",
     "text": [
      "0 7\n",
      "end 6\n",
      "0 6\n",
      "swap\n",
      "['A', 'c', 'e', 'C', 'r', 'e', 'I', 'm']\n",
      "1 5\n",
      "start 2\n",
      "2 5\n",
      "swap\n",
      "['A', 'c', 'e', 'C', 'r', 'e', 'I', 'm']\n",
      "3 4\n",
      "start 4\n",
      "4 4\n",
      "start 5\n"
     ]
    },
    {
     "data": {
      "text/plain": [
       "'AceCreIm'"
      ]
     },
     "execution_count": 24,
     "metadata": {},
     "output_type": "execute_result"
    }
   ],
   "source": [
    "s = \"IceCreAm\"\n",
    "Solution().reverseVowels(s)"
   ]
  },
  {
   "cell_type": "code",
   "execution_count": null,
   "metadata": {},
   "outputs": [],
   "source": []
  }
 ],
 "metadata": {
  "kernelspec": {
   "display_name": "Python 3",
   "language": "python",
   "name": "python3"
  },
  "language_info": {
   "codemirror_mode": {
    "name": "ipython",
    "version": 3
   },
   "file_extension": ".py",
   "mimetype": "text/x-python",
   "name": "python",
   "nbconvert_exporter": "python",
   "pygments_lexer": "ipython3",
   "version": "3.8.10"
  }
 },
 "nbformat": 4,
 "nbformat_minor": 2
}
