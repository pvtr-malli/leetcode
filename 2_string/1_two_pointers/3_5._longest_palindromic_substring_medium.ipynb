{
 "cells": [
  {
   "cell_type": "markdown",
   "id": "1f2213a0",
   "metadata": {},
   "source": [
    "Given a string s, return the longest palindromic substring in s.\n",
    "\n",
    " \n",
    "\n",
    "Example 1:\n",
    "\n",
    "Input: s = \"babad\"\n",
    "Output: \"bab\"\n",
    "Explanation: \"aba\" is also a valid answer.\n",
    "Example 2:\n",
    "\n",
    "Input: s = \"cbbd\"\n",
    "Output: \"bb\"\n",
    " \n",
    "\n",
    "Constraints:\n",
    "\n",
    "1 <= s.length <= 1000\n",
    "s consist of only digits and English letters."
   ]
  },
  {
   "cell_type": "code",
   "execution_count": null,
   "id": "b79902fb",
   "metadata": {},
   "outputs": [],
   "source": [
    "class Solution:\n",
    "    def is_palindrom(self, s: str, start, end):\n",
    "        while start <= end:\n",
    "            if not (s[start].lower() == s[end].lower()):\n",
    "                return False\n",
    "            start += 1\n",
    "            end -= 1\n",
    "            \n",
    "        return True\n",
    "    \n",
    "    def longestPalindrome(self, s: str) -> str:\n",
    "        # here you can't start the 2-ponter in the both edge and strink it.... because can't decide which side to strink\n",
    "        # start or end....\n",
    "\n",
    "        # right method is to exband not dtrink... start from middle and expand on both side.\n",
    "        n = len(s)\n",
    "        \n",
    "        # if n is even, then end = n // 2 , start = (n // 2) - 1: eg: n = 6 \"helloo\" -> \"he[l](start:2)[l](end:3)oo\"\n",
    "        if n % 2 == 0:\n",
    "            start , end = (n // 2) - 1, (n // 2)\n",
    "        else:\n",
    "            start = end = (n // 2)\n",
    "\n",
    "        longest_start, longest_end = start, end\n",
    "        while start >= 0: # both will reach the at the same time. so checking one is enough.\n",
    "            print(start, end)\n",
    "            if self.is_palindrom(s, start, end):\n",
    "                longest_start, longest_end = start, end\n",
    "                print(longest_start, longest_end)\n",
    "                start -= 1\n",
    "                end += 1\n",
    "                \n",
    "            else:\n",
    "                break   # if the current middle interval is not, exbanded word will also be not valid.\n",
    "                # if \"babad\" is not then \"xbabadx\"\n",
    "        print(longest_start, longest_end)\n",
    "        return s[longest_start: (longest_end + 1)] \n",
    "    \n",
    "# tc - O(n^2) for each start and end loop, I am checking its palindrom or not again and again.\n",
    "# sc - O(1)\n",
    "\n",
    "\n",
    "\n",
    "# logic is worog, not only the center can be a palindrom. \"[babab]d\" in this word, first part can be a longest palindrom.\n",
    "# so need to check all \n"
   ]
  },
  {
   "cell_type": "code",
   "execution_count": 15,
   "id": "f8b13ac3",
   "metadata": {},
   "outputs": [
    {
     "name": "stdout",
     "output_type": "stream",
     "text": [
      "2 2\n",
      "2 2\n",
      "1 3\n",
      "1 3\n",
      "0 4\n",
      "1 3\n"
     ]
    },
    {
     "data": {
      "text/plain": [
       "'aba'"
      ]
     },
     "execution_count": 15,
     "metadata": {},
     "output_type": "execute_result"
    }
   ],
   "source": [
    "Solution().longestPalindrome(s = \"babad\")"
   ]
  },
  {
   "cell_type": "code",
   "execution_count": 26,
   "id": "97adbe09",
   "metadata": {},
   "outputs": [
    {
     "data": {
      "text/plain": [
       "'ab'"
      ]
     },
     "execution_count": 26,
     "metadata": {},
     "output_type": "execute_result"
    }
   ],
   "source": [
    "a=\"babad\"\n",
    "a[1:3]"
   ]
  },
  {
   "cell_type": "code",
   "execution_count": null,
   "id": "29558748",
   "metadata": {},
   "outputs": [],
   "source": [
    "class Solution:\n",
    "    def expandAroundCenter(self, s: str, left: int, right: int) -> str:\n",
    "        while left >= 0 and right < len(s) and s[left] == s[right]:\n",
    "            left -= 1\n",
    "            right += 1\n",
    "        # returning the expanded palindrome, but the poniters will be at the next position to check,\n",
    "        # so strink it by one.\n",
    "        return s[left + 1:right]\n",
    "\n",
    "    def longestPalindrome(self, s: str) -> str:\n",
    "        longest = \"\"\n",
    "        for i in range(len(s)):\n",
    "            # Odd-length palindrome.\n",
    "            temp = self.expandAroundCenter(s, i, i)\n",
    "            if len(temp) > len(longest):\n",
    "                longest = temp\n",
    "\n",
    "            # Even-length palindrome.\n",
    "            temp = self.expandAroundCenter(s, i, i + 1)\n",
    "            if len(temp) > len(longest):\n",
    "                longest = temp\n",
    "\n",
    "        return longest\n",
    "\n",
    "\n",
    "# tc - O(n^2)\n",
    "# sc - O(1)"
   ]
  },
  {
   "cell_type": "code",
   "execution_count": null,
   "id": "b3cb18dd",
   "metadata": {},
   "outputs": [],
   "source": []
  }
 ],
 "metadata": {
  "kernelspec": {
   "display_name": "3.11.11",
   "language": "python",
   "name": "python3"
  },
  "language_info": {
   "codemirror_mode": {
    "name": "ipython",
    "version": 3
   },
   "file_extension": ".py",
   "mimetype": "text/x-python",
   "name": "python",
   "nbconvert_exporter": "python",
   "pygments_lexer": "ipython3",
   "version": "3.11.11"
  }
 },
 "nbformat": 4,
 "nbformat_minor": 5
}
