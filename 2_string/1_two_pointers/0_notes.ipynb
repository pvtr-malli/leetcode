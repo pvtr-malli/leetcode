{
 "cells": [
  {
   "cell_type": "markdown",
   "id": "c58e6af8",
   "metadata": {},
   "source": [
    "Operator ~ is the bitwise NOT operator. It performs logical negation on a given number by flipping all of its bits: \n",
    "- ~x == -x-1 , ~0 == -1, ~1 == -2 and etc.\n",
    "\n",
    "Problems to practise using operator ~\n",
    "344. Reverse String\n",
    "\n"
   ]
  },
  {
   "cell_type": "code",
   "execution_count": null,
   "id": "d1889fc4",
   "metadata": {},
   "outputs": [],
   "source": [
    "class Solution:\n",
    "    def reverseString(self, s: List[str]) -> None:\n",
    "        for i in range(len(s)//2):\n",
    "            s[i], s[~i] = s[~i], s[i]"
   ]
  }
 ],
 "metadata": {
  "language_info": {
   "name": "python"
  }
 },
 "nbformat": 4,
 "nbformat_minor": 5
}
