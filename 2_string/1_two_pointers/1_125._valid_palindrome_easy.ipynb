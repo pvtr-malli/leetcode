{
 "cells": [
  {
   "cell_type": "markdown",
   "id": "82910e54",
   "metadata": {},
   "source": [
    "A phrase is a palindrome if, after converting all uppercase letters into lowercase letters and removing all non-alphanumeric characters, it reads the same forward and backward. Alphanumeric characters include letters and numbers.\n",
    "\n",
    "Given a string s, return true if it is a palindrome, or false otherwise.\n",
    "\n",
    " \n",
    "\n",
    "Example 1:\n",
    "\n",
    "Input: s = \"A man, a plan, a canal: Panama\"\n",
    "Output: true\n",
    "Explanation: \"amanaplanacanalpanama\" is a palindrome.\n",
    "Example 2:\n",
    "\n",
    "Input: s = \"race a car\"\n",
    "Output: false\n",
    "Explanation: \"raceacar\" is not a palindrome.\n",
    "Example 3:\n",
    "\n",
    "Input: s = \" \"\n",
    "Output: true\n",
    "Explanation: s is an empty string \"\" after removing non-alphanumeric characters.\n",
    "Since an empty string reads the same forward and backward, it is a palindrome.\n",
    " \n",
    "\n",
    "Constraints:\n",
    "\n",
    "1 <= s.length <= 2 * 105\n",
    "s consists only of printable ASCII characters."
   ]
  },
  {
   "cell_type": "code",
   "execution_count": null,
   "id": "eebbd12a",
   "metadata": {},
   "outputs": [],
   "source": [
    "class Solution:\n",
    "    def isPalindrome(self, s: str) -> bool:\n",
    "        s = [c.lower() for c in s if c.isalnum()]\n",
    "        return all (s[i] == s[~i] for i in range(len(s)//2)) \n",
    "    \n",
    "\n",
    "# tc - O(n) + O(n)\n",
    "# sc - O(n)"
   ]
  },
  {
   "cell_type": "code",
   "execution_count": null,
   "id": "9d4e5b7b",
   "metadata": {},
   "outputs": [],
   "source": [
    "class Solution:\n",
    "    def isPalindrome(self, s: str) -> bool:\n",
    "        start, end = 0 ,len(s) - 1\n",
    "        while start <= end:\n",
    "            # compare the characters only.\n",
    "            while start < end and not s[start].isalnum(): # you have to stay there if its a number and check ti and return false\n",
    "                start += 1\n",
    "            while start < end and not s[end].isalnum():\n",
    "                end -= 1\n",
    "            if not (s[start].lower() == s[end].lower()):\n",
    "                return False\n",
    "            start += 1\n",
    "            end -= 1\n",
    "            \n",
    "        return True\n",
    "    \n",
    "# tc - O(n) \n",
    "# sc - O(1)"
   ]
  },
  {
   "cell_type": "code",
   "execution_count": 21,
   "id": "726d4224",
   "metadata": {},
   "outputs": [
    {
     "data": {
      "text/plain": [
       "True"
      ]
     },
     "execution_count": 21,
     "metadata": {},
     "output_type": "execute_result"
    }
   ],
   "source": [
    "Solution().isPalindrome(s = \"A man, a plan, a canal: Panama\")"
   ]
  },
  {
   "cell_type": "code",
   "execution_count": 22,
   "id": "96286442",
   "metadata": {},
   "outputs": [
    {
     "data": {
      "text/plain": [
       "True"
      ]
     },
     "execution_count": 22,
     "metadata": {},
     "output_type": "execute_result"
    }
   ],
   "source": [
    "Solution().isPalindrome(s= \" \")"
   ]
  },
  {
   "cell_type": "code",
   "execution_count": 23,
   "id": "35f2fa98",
   "metadata": {},
   "outputs": [
    {
     "data": {
      "text/plain": [
       "True"
      ]
     },
     "execution_count": 23,
     "metadata": {},
     "output_type": "execute_result"
    }
   ],
   "source": [
    "Solution().isPalindrome(s= \".,\")"
   ]
  },
  {
   "cell_type": "code",
   "execution_count": null,
   "id": "f2f6f767",
   "metadata": {},
   "outputs": [],
   "source": [
    "Operator ~ is the bitwise NOT operator. It performs logical negation on a given number by flipping all of its bits: ~x == -x-1 , ~0 == -1, ~1 == -2 and etc.\n",
    "\n",
    "Problems to practise using operator ~\n",
    "344. Reverse String\n",
    "\n",
    "class Solution:\n",
    "    def reverseString(self, s: List[str]) -> None:\n",
    "        for i in range(len(s)//2):\n",
    "            s[i], s[~i] = s[~i], s[i]"
   ]
  }
 ],
 "metadata": {
  "kernelspec": {
   "display_name": "3.11.11",
   "language": "python",
   "name": "python3"
  },
  "language_info": {
   "codemirror_mode": {
    "name": "ipython",
    "version": 3
   },
   "file_extension": ".py",
   "mimetype": "text/x-python",
   "name": "python",
   "nbconvert_exporter": "python",
   "pygments_lexer": "ipython3",
   "version": "3.11.11"
  }
 },
 "nbformat": 4,
 "nbformat_minor": 5
}
