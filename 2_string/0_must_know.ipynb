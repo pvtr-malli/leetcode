{
 "cells": [
  {
   "cell_type": "markdown",
   "id": "95ae43a8",
   "metadata": {},
   "source": [
    "- 1. ord"
   ]
  },
  {
   "cell_type": "code",
   "execution_count": null,
   "id": "14611a8c",
   "metadata": {},
   "outputs": [
    {
     "name": "stdout",
     "output_type": "stream",
     "text": [
      "[1, 0, 0, 0, 1, 0, 0, 0, 0, 0, 0, 1, 0, 0, 0, 2, 0, 0, 0, 0, 0, 0, 0, 0, 0, 0]\n"
     ]
    }
   ],
   "source": [
    "# ord.\n",
    "ord('a')  # starts 97. so to create a counter which refers 0 index for a\n",
    "\n",
    "counter = [0]*26\n",
    "for char in \"apple\":\n",
    "    counter[ord(char) - ord('a')] += 1\n",
    "print(counter) # this count the character in the word and creates the charcter array."
   ]
  },
  {
   "cell_type": "code",
   "execution_count": null,
   "id": "8b08a428",
   "metadata": {},
   "outputs": [],
   "source": []
  }
 ],
 "metadata": {
  "kernelspec": {
   "display_name": "3.11.11",
   "language": "python",
   "name": "python3"
  },
  "language_info": {
   "codemirror_mode": {
    "name": "ipython",
    "version": 3
   },
   "file_extension": ".py",
   "mimetype": "text/x-python",
   "name": "python",
   "nbconvert_exporter": "python",
   "pygments_lexer": "ipython3",
   "version": "3.11.11"
  }
 },
 "nbformat": 4,
 "nbformat_minor": 5
}
