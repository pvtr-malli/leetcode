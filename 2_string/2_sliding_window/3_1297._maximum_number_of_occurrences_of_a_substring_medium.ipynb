{
 "cells": [
  {
   "cell_type": "markdown",
   "id": "82c7b272",
   "metadata": {},
   "source": [
    "Given a string s, return the maximum number of occurrences of any substring under the following rules:\n",
    "\n",
    "The number of unique characters in the substring must be less than or equal to maxLetters.\n",
    "The substring size must be between minSize and maxSize inclusive.\n",
    " \n",
    "\n",
    "Example 1:\n",
    "\n",
    "Input: s = \"aababcaab\", maxLetters = 2, minSize = 3, maxSize = 4\n",
    "Output: 2\n",
    "Explanation: Substring \"aab\" has 2 occurrences in the original string.\n",
    "It satisfies the conditions, 2 unique letters and size 3 (between minSize and maxSize).\n",
    "Example 2:\n",
    "\n",
    "Input: s = \"aaaa\", maxLetters = 1, minSize = 3, maxSize = 3\n",
    "Output: 2\n",
    "Explanation: Substring \"aaa\" occur 2 times in the string. It can overlap.\n",
    "\n",
    "\n",
    "Constraints:\n",
    "\n",
    "1 <= s.length <= 105\n",
    "1 <= maxLetters <= 26\n",
    "1 <= minSize <= maxSize <= min(26, s.length)\n",
    "s consists of only lowercase English letters."
   ]
  },
  {
   "cell_type": "code",
   "execution_count": null,
   "id": "2d2b6709",
   "metadata": {},
   "outputs": [],
   "source": [
    "from collections import Counter\n",
    "\n",
    "class Solution:\n",
    "    def maxFreq(self, s: str, maxLetters: int, minSize: int, maxSize: int) -> int:\n",
    "        count_sub = Counter()\n",
    "        freq = Counter()\n",
    "        unique = 0\n",
    "        start = 0\n",
    "        \n",
    "        # Initialize the first window\n",
    "        for end, ch in enumerate(s):\n",
    "            freq[ch] += 1\n",
    "            if freq[ch] == 1:  # its a new character increase the unique counter.\n",
    "                unique += 1\n",
    "            \n",
    "            # Shrink window until valid for length minSize\n",
    "            if end - start + 1 > minSize:\n",
    "                freq[s[start]] -= 1\n",
    "                if freq[s[start]] == 0:\n",
    "                    unique -= 1\n",
    "                start += 1\n",
    "            \n",
    "            # When window size == minSize, check and record substring\n",
    "            if end - start + 1 == minSize:\n",
    "                if unique <= maxLetters:\n",
    "                    sub = s[start:end+1]\n",
    "                    count_sub[sub] += 1 # track the substring which obay all the conditions.\n",
    "        \n",
    "        return max(count_sub.values() or [0])\n",
    "    \n",
    "\n",
    "# tc - O(n)\n",
    "# sc - O(26 ) + O(valid substrings)"
   ]
  },
  {
   "cell_type": "markdown",
   "id": "7e089276",
   "metadata": {},
   "source": [
    "🧠 Why only substrings of length minSize are enough?\n",
    "Even though the substring can be up to maxSize, we restrict ourselves to checking only substrings of length minSize because:\n",
    "\n",
    "We're asked to find the maximum number of occurrences of any valid substring.\n",
    "\n",
    "Longer substrings (e.g., size 4, 5, ...) naturally occur less frequently than shorter substrings.\n",
    "\n",
    "So if there's any substring of size minSize that meets the criteria (≤ maxLetters unique characters), and it's frequent, it will appear more often than any of its longer extensions.\n",
    "\n",
    "💡 Example:\n",
    "Let’s say:\n",
    "\n",
    "python\n",
    "Copy\n",
    "Edit\n",
    "s = \"ababab\"\n",
    "minSize = 2\n",
    "maxSize = 4\n",
    "maxLetters = 2\n",
    "All possible substrings of size 2:\n",
    "\n",
    "\"ab\" → appears 3 times\n",
    "\n",
    "\"ba\" → appears 2 times\n",
    "\n",
    "Now try substrings of size 3 or 4:\n",
    "\n",
    "\"aba\", \"bab\" → appear 2 or fewer times\n",
    "\n",
    "\"abab\", \"baba\" → appear once\n",
    "\n",
    "⚠️ So checking longer substrings does not increase frequency, only increases time."
   ]
  },
  {
   "cell_type": "code",
   "execution_count": 2,
   "id": "fff8f575",
   "metadata": {},
   "outputs": [
    {
     "data": {
      "text/plain": [
       "2"
      ]
     },
     "execution_count": 2,
     "metadata": {},
     "output_type": "execute_result"
    }
   ],
   "source": [
    "Solution().maxFreq(s = \"aababcaab\", maxLetters = 2, minSize = 3, maxSize = 4)"
   ]
  },
  {
   "cell_type": "code",
   "execution_count": null,
   "id": "6bb5d541",
   "metadata": {},
   "outputs": [],
   "source": []
  }
 ],
 "metadata": {
  "kernelspec": {
   "display_name": "3.11.11",
   "language": "python",
   "name": "python3"
  },
  "language_info": {
   "codemirror_mode": {
    "name": "ipython",
    "version": 3
   },
   "file_extension": ".py",
   "mimetype": "text/x-python",
   "name": "python",
   "nbconvert_exporter": "python",
   "pygments_lexer": "ipython3",
   "version": "3.11.11"
  }
 },
 "nbformat": 4,
 "nbformat_minor": 5
}
