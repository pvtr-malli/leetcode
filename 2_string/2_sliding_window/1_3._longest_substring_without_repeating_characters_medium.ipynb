{
 "cells": [
  {
   "cell_type": "markdown",
   "id": "954ee7ad",
   "metadata": {},
   "source": [
    "# same present inside array:sliding window"
   ]
  },
  {
   "cell_type": "markdown",
   "id": "057bfb36",
   "metadata": {},
   "source": [
    "Given a string s, find the length of the longest substring without duplicate characters.\n",
    "\n",
    " \n",
    "\n",
    "Example 1:\n",
    "\n",
    "Input: s = \"abcabcbb\"\n",
    "Output: 3\n",
    "Explanation: The answer is \"abc\", with the length of 3.\n",
    "Example 2:\n",
    "\n",
    "Input: s = \"bbbbb\"\n",
    "Output: 1\n",
    "Explanation: The answer is \"b\", with the length of 1.\n",
    "Example 3:\n",
    "\n",
    "Input: s = \"pwwkew\"\n",
    "Output: 3\n",
    "Explanation: The answer is \"wke\", with the length of 3.\n",
    "Notice that the answer must be a substring, \"pwke\" is a subsequence and not a substring.\n",
    " \n",
    "\n",
    "Constraints:\n",
    "\n",
    "0 <= s.length <= 5 * 104\n",
    "s consists of English letters, digits, symbols and spaces."
   ]
  },
  {
   "cell_type": "code",
   "execution_count": null,
   "id": "0c3ed83b",
   "metadata": {},
   "outputs": [],
   "source": [
    "class Solution:\n",
    "    def lengthOfLongestSubstring(self, s: str) -> int:\n",
    "        if len(s) == 0:\n",
    "            return 0\n",
    "        h = {s[0]: 0} # val: index\n",
    "        start = 0\n",
    "        maxi = 1\n",
    "        # start the for loop for the end variable. \n",
    "        for end in range(1 , len(s)):\n",
    "            print(s[end])\n",
    "            # you have to check the character is in the interested window also.\n",
    "            # we can skip it it the character is outside the window. \n",
    "            if s[end] in h and h[s[end]] >= start:\n",
    "                # skip to the next index of the repeating character present in the hasmap.\n",
    "                start = h[s[end]] + 1\n",
    "\n",
    "                # update the new end character index.\n",
    "                # del h[s[end]]\n",
    "                h[s[end]] = end\n",
    "            else:\n",
    "                # add\n",
    "                h[s[end]] = end \n",
    "                # add the character and increase the window size.\n",
    "                maxi = max(maxi, end - start + 1) # 0 , 1[start], 2, 3,4[end] = 4 - 1 = 3 + 1\n",
    "        return maxi\n",
    "    \n",
    "# tc = O(n)\n",
    "# sc = O(n)"
   ]
  },
  {
   "cell_type": "code",
   "execution_count": 27,
   "id": "59e79247",
   "metadata": {},
   "outputs": [
    {
     "name": "stdout",
     "output_type": "stream",
     "text": [
      "b\n",
      "c\n",
      "a\n",
      "b\n",
      "c\n",
      "b\n",
      "b\n"
     ]
    },
    {
     "data": {
      "text/plain": [
       "3"
      ]
     },
     "execution_count": 27,
     "metadata": {},
     "output_type": "execute_result"
    }
   ],
   "source": [
    "Solution().lengthOfLongestSubstring(\"abcabcbb\")"
   ]
  },
  {
   "cell_type": "code",
   "execution_count": 28,
   "id": "966d30f5",
   "metadata": {},
   "outputs": [
    {
     "name": "stdout",
     "output_type": "stream",
     "text": [
      "b\n",
      "b\n",
      "b\n",
      "b\n"
     ]
    },
    {
     "data": {
      "text/plain": [
       "1"
      ]
     },
     "execution_count": 28,
     "metadata": {},
     "output_type": "execute_result"
    }
   ],
   "source": [
    "Solution().lengthOfLongestSubstring(\"bbbbb\")"
   ]
  },
  {
   "cell_type": "code",
   "execution_count": 29,
   "id": "1d5c3383",
   "metadata": {},
   "outputs": [
    {
     "name": "stdout",
     "output_type": "stream",
     "text": [
      "w\n",
      "w\n",
      "k\n",
      "e\n",
      "w\n"
     ]
    },
    {
     "data": {
      "text/plain": [
       "3"
      ]
     },
     "execution_count": 29,
     "metadata": {},
     "output_type": "execute_result"
    }
   ],
   "source": [
    "Solution().lengthOfLongestSubstring(\"pwwkew\")"
   ]
  },
  {
   "cell_type": "code",
   "execution_count": 30,
   "id": "2e85b4e5",
   "metadata": {},
   "outputs": [
    {
     "name": "stdout",
     "output_type": "stream",
     "text": [
      "u\n"
     ]
    },
    {
     "data": {
      "text/plain": [
       "2"
      ]
     },
     "execution_count": 30,
     "metadata": {},
     "output_type": "execute_result"
    }
   ],
   "source": [
    "Solution().lengthOfLongestSubstring(\"au\")"
   ]
  },
  {
   "cell_type": "code",
   "execution_count": 31,
   "id": "9c053ad2",
   "metadata": {},
   "outputs": [
    {
     "name": "stdout",
     "output_type": "stream",
     "text": [
      "m\n",
      "m\n",
      "z\n",
      "u\n",
      "x\n",
      "t\n"
     ]
    },
    {
     "data": {
      "text/plain": [
       "5"
      ]
     },
     "execution_count": 31,
     "metadata": {},
     "output_type": "execute_result"
    }
   ],
   "source": [
    "Solution().lengthOfLongestSubstring(\"tmmzuxt\")"
   ]
  },
  {
   "cell_type": "code",
   "execution_count": null,
   "id": "983f5ae3",
   "metadata": {},
   "outputs": [],
   "source": []
  }
 ],
 "metadata": {
  "kernelspec": {
   "display_name": "3.11.11",
   "language": "python",
   "name": "python3"
  },
  "language_info": {
   "codemirror_mode": {
    "name": "ipython",
    "version": 3
   },
   "file_extension": ".py",
   "mimetype": "text/x-python",
   "name": "python",
   "nbconvert_exporter": "python",
   "pygments_lexer": "ipython3",
   "version": "3.11.11"
  }
 },
 "nbformat": 4,
 "nbformat_minor": 5
}
