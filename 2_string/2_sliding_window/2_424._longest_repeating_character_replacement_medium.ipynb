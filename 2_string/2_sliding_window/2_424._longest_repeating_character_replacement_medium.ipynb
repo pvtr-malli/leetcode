{
 "cells": [
  {
   "cell_type": "markdown",
   "id": "3d0c1359",
   "metadata": {},
   "source": [
    "You are given a string s and an integer k. You can choose any character of the string and change it to any other uppercase English character. You can perform this operation at most k times.\n",
    "\n",
    "Return the length of the longest substring containing the same letter you can get after performing the above operations.\n",
    "\n",
    " \n",
    "\n",
    "Example 1:\n",
    "\n",
    "Input: s = \"ABAB\", k = 2\n",
    "Output: 4\n",
    "Explanation: Replace the two 'A's with two 'B's or vice versa.\n",
    "Example 2:\n",
    "\n",
    "Input: s = \"AABABBA\", k = 1\n",
    "Output: 4\n",
    "Explanation: Replace the one 'A' in the middle with 'B' and form \"AABBBBA\".\n",
    "The substring \"BBBB\" has the longest repeating letters, which is 4.\n",
    "There may exists other ways to achieve this answer too.\n",
    " \n",
    "\n",
    "Constraints:\n",
    "\n",
    "1 <= s.length <= 105\n",
    "s consists of only uppercase English letters.\n",
    "0 <= k <= s.length"
   ]
  },
  {
   "cell_type": "code",
   "execution_count": null,
   "id": "305ef244",
   "metadata": {},
   "outputs": [],
   "source": []
  },
  {
   "cell_type": "code",
   "execution_count": null,
   "id": "1e8fb643",
   "metadata": {},
   "outputs": [],
   "source": [
    "# what should be the window size: so inside a window, there should be all same charactors\n",
    "# so window size = max frequnecy char count + other charectors count (which should be k).\n",
    "\n",
    "# when to expland:\n",
    "#  max_char_of_window's count = the count of max frequncy charcter. -> keep a tracker with max_frequ_char and update it each time\n",
    "#  other_cahr_count = all_char_so_far_count - max_char_of_window_count -> keep a all char counter\n",
    "# when other_cahr_count <= k:\n",
    "\n",
    "# when to strink:\n",
    "# when other_cahr_count > k; strink until it becomes below k.\n",
    "\n",
    "from collections import defaultdict\n",
    "class Solution:\n",
    "    def characterReplacement(self, s: str, k: int) -> int:\n",
    "        if len(s) == 0:\n",
    "            return \"\"\n",
    "        \n",
    "        maxi = 1\n",
    "        start = 0\n",
    "\n",
    "        # taken the first character as the max frequncy charactor.\n",
    "        hash = defaultdict(int)\n",
    "        hash[s[0]] = 1\n",
    "        total_char_count = 1\n",
    "        max_freq_char = s[0]\n",
    "        max_freq_char_count = 1\n",
    "\n",
    "        n = len(s)\n",
    "        for end in range(1, n):\n",
    "            # increae the window.\n",
    "            total_char_count += 1\n",
    "            hash[s[end]] += 1\n",
    "            \n",
    "            # update the max frequncy character details.\n",
    "            if hash[s[end]] > max_freq_char_count:\n",
    "                max_freq_char = s[end]\n",
    "                max_freq_char_count = hash[s[end]]\n",
    "            \n",
    "            other_char_count = total_char_count - max_freq_char_count\n",
    "\n",
    "            # strink the window, if it violates the rule.\n",
    "            if other_char_count > k:\n",
    "                while other_char_count > k:\n",
    "                    if s[start] != max_freq_char:\n",
    "                        other_char_count -= 1\n",
    "                    \n",
    "                    # remove the element in the hash.\n",
    "                    hash[s[start]] -= 1\n",
    "                    total_char_count -= 1\n",
    "\n",
    "                    start += 1\n",
    "            maxi = max(maxi, end - start + 1)\n",
    "        \n",
    "        return maxi \n",
    "                        \n",
    "# above logic failed for few cases."
   ]
  },
  {
   "cell_type": "code",
   "execution_count": 4,
   "id": "5725c1f8",
   "metadata": {},
   "outputs": [
    {
     "data": {
      "text/plain": [
       "4"
      ]
     },
     "execution_count": 4,
     "metadata": {},
     "output_type": "execute_result"
    }
   ],
   "source": [
    "Solution().characterReplacement(s = \"ABAB\", k = 2)"
   ]
  },
  {
   "cell_type": "code",
   "execution_count": 5,
   "id": "d4fc20a5",
   "metadata": {},
   "outputs": [
    {
     "data": {
      "text/plain": [
       "4"
      ]
     },
     "execution_count": 5,
     "metadata": {},
     "output_type": "execute_result"
    }
   ],
   "source": [
    "Solution().characterReplacement(s = \"AABABBA\", k = 1)"
   ]
  },
  {
   "cell_type": "code",
   "execution_count": null,
   "id": "00251c03",
   "metadata": {},
   "outputs": [],
   "source": [
    "class Solution:\n",
    "    def characterReplacement(self, s: str, k: int) -> int:\n",
    "        \n",
    "        l = 0\n",
    "        freq = {}\n",
    "        maxlen = 0\n",
    "        for r in range(len(s)):\n",
    "            # If a character is not in the frequency dict, this inserts it with a value of 1 (get returns 0, then we add 1).\n",
    "            # If a character is in the dict, we simply add one.\n",
    "            freq[s[r]] = freq.get(s[r], 0) + 1\n",
    "                \n",
    "            # The key point is that we only care about the MAXIMUM of the seen values.\n",
    "            # Get the length of the current substring, then subtract the MAXIMUM frequency. See if this is <= K for validity.\n",
    "            cur_len = r - l + 1\n",
    "            if cur_len - max(freq.values()) <= k:  # if we have replaced <= K letters, record a new maxLen\n",
    "                maxlen = max(maxlen, cur_len)\n",
    "            else:                               # if we have replaced > K letters, then it's time to slide the window\n",
    "                freq[s[l]] -= 1                 # decrement frequency of char at left pointer, then increment pointer\n",
    "                l += 1\n",
    "                \n",
    "        return maxlen\n",
    "\n",
    "# tc - O(n)\n",
    "# sc - O(26) = O(1)"
   ]
  }
 ],
 "metadata": {
  "kernelspec": {
   "display_name": "3.11.11",
   "language": "python",
   "name": "python3"
  },
  "language_info": {
   "codemirror_mode": {
    "name": "ipython",
    "version": 3
   },
   "file_extension": ".py",
   "mimetype": "text/x-python",
   "name": "python",
   "nbconvert_exporter": "python",
   "pygments_lexer": "ipython3",
   "version": "3.11.11"
  }
 },
 "nbformat": 4,
 "nbformat_minor": 5
}
