{
 "cells": [
  {
   "cell_type": "markdown",
   "id": "04855c13",
   "metadata": {},
   "source": [
    "Given an input string s, reverse the order of the words.\n",
    "\n",
    "A word is defined as a sequence of non-space characters. The words in s will be separated by at least one space.\n",
    "\n",
    "Return a string of the words in reverse order concatenated by a single space.\n",
    "\n",
    "Note that s may contain leading or trailing spaces or multiple spaces between two words. The returned string should only have a single space separating the words. Do not include any extra spaces.\n",
    "\n",
    " \n",
    "\n",
    "Example 1:\n",
    "\n",
    "Input: s = \"the sky is blue\"\n",
    "Output: \"blue is sky the\"\n",
    "Example 2:\n",
    "\n",
    "Input: s = \"  hello world  \"\n",
    "Output: \"world hello\"\n",
    "Explanation: Your reversed string should not contain leading or trailing spaces.\n",
    "Example 3:\n",
    "\n",
    "Input: s = \"a good   example\"\n",
    "Output: \"example good a\"\n",
    "Explanation: You need to reduce multiple spaces between two words to a single space in the reversed string.\n",
    " \n",
    "\n",
    "Constraints:\n",
    "\n",
    "1 <= s.length <= 104\n",
    "s contains English letters (upper-case and lower-case), digits, and spaces ' '.\n",
    "There is at least one word in s.\n",
    " \n",
    "\n",
    "Follow-up: If the string data type is mutable in your language, can you solve it in-place with O(1) extra space?"
   ]
  },
  {
   "cell_type": "code",
   "execution_count": 2,
   "id": "97b96300",
   "metadata": {},
   "outputs": [],
   "source": [
    "# brute force \n",
    "class Solution:\n",
    "    def reverseWords(self, s: str) -> str:\n",
    "        words = s.split()\n",
    "        reveresed_wrods = words[::-1]\n",
    "        return \" \".join(reveresed_wrods)"
   ]
  },
  {
   "cell_type": "code",
   "execution_count": 3,
   "id": "c2be4898",
   "metadata": {},
   "outputs": [
    {
     "data": {
      "text/plain": [
       "'blue is sky the'"
      ]
     },
     "execution_count": 3,
     "metadata": {},
     "output_type": "execute_result"
    }
   ],
   "source": [
    "Solution().reverseWords(s = \"the sky is blue\")"
   ]
  },
  {
   "cell_type": "markdown",
   "id": "dc5e8fb6",
   "metadata": {},
   "source": [
    "# Follow-up: If the string data type is mutable in your language, can you solve it in-place with O(1) extra space?"
   ]
  },
  {
   "cell_type": "markdown",
   "id": "165fbbb9",
   "metadata": {},
   "source": [
    "- for this we can convert the strs to array. reverse them fully \n",
    "- and reverse each words separately. we can find the limits based on the space.\n"
   ]
  },
  {
   "cell_type": "code",
   "execution_count": null,
   "id": "99e5b1f4",
   "metadata": {},
   "outputs": [],
   "source": [
    "class Solution:\n",
    "    def reverseWords(self, s: str) -> str:\n",
    "        # Step 1: convert to char array\n",
    "        chars = list(s)\n",
    "        \n",
    "        # Step 2: reverse the entire array\n",
    "        self.reverse(chars, 0, len(chars) - 1)\n",
    "        \n",
    "        # Step 3: reverse each word\n",
    "        n = len(chars)\n",
    "        start = 0\n",
    "        while start < n:\n",
    "            if chars[start] == ' ':\n",
    "                start += 1\n",
    "                continue\n",
    "            end = start\n",
    "            while end < n and chars[end] != ' ':\n",
    "                end += 1\n",
    "            self.reverse(chars, start, end - 1)\n",
    "            # now place the start in hte space point. it will get missed inthe baove check.\n",
    "            start = end\n",
    "\n",
    "        # Step 4: remove extra spaces\n",
    "        return self.clean_spaces(chars)\n",
    "\n",
    "    def reverse(self, chars, left, right):\n",
    "        while left < right:\n",
    "            chars[left], chars[right] = chars[right], chars[left]\n",
    "            left += 1\n",
    "            right -= 1\n",
    "    \n",
    "    def clean_spaces(self, chars):\n",
    "        n = len(chars)\n",
    "        i = 0  # write index\n",
    "        j = 0  # read index\n",
    "        while j < n:\n",
    "            # skip spaces\n",
    "            while j < n and chars[j] == ' ':\n",
    "                j += 1\n",
    "            # copy word\n",
    "            while j < n and chars[j] != ' ':\n",
    "                chars[i] = chars[j]\n",
    "                i += 1\n",
    "                j += 1\n",
    "            # add single space after word\n",
    "            while j < n and chars[j] == ' ':\n",
    "                j += 1\n",
    "            if j < n:\n",
    "                chars[i] = ' '\n",
    "                i += 1\n",
    "\n",
    "        return ''.join(chars[:i])\n",
    "\n",
    "# tc - O(n)\n",
    "# sc - O(1)"
   ]
  },
  {
   "cell_type": "code",
   "execution_count": 6,
   "id": "9e8e4f7e",
   "metadata": {},
   "outputs": [
    {
     "data": {
      "text/plain": [
       "'blue is sky the'"
      ]
     },
     "execution_count": 6,
     "metadata": {},
     "output_type": "execute_result"
    }
   ],
   "source": [
    "Solution().reverseWords(\"the sky is blue\")"
   ]
  },
  {
   "cell_type": "code",
   "execution_count": 8,
   "id": "e99adb4b",
   "metadata": {},
   "outputs": [
    {
     "data": {
      "text/plain": [
       "'  world hello  '"
      ]
     },
     "execution_count": 8,
     "metadata": {},
     "output_type": "execute_result"
    }
   ],
   "source": [
    "Solution().reverseWords(\"  hello world  \")"
   ]
  },
  {
   "cell_type": "code",
   "execution_count": null,
   "id": "ef73bc6a",
   "metadata": {},
   "outputs": [],
   "source": []
  }
 ],
 "metadata": {
  "kernelspec": {
   "display_name": "3.11.11",
   "language": "python",
   "name": "python3"
  },
  "language_info": {
   "codemirror_mode": {
    "name": "ipython",
    "version": 3
   },
   "file_extension": ".py",
   "mimetype": "text/x-python",
   "name": "python",
   "nbconvert_exporter": "python",
   "pygments_lexer": "ipython3",
   "version": "3.11.11"
  }
 },
 "nbformat": 4,
 "nbformat_minor": 5
}
