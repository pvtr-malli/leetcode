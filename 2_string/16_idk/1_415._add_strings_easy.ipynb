{
 "cells": [
  {
   "cell_type": "markdown",
   "id": "a697ac58",
   "metadata": {},
   "source": [
    "Given two non-negative integers, num1 and num2 represented as string, return the sum of num1 and num2 as a string.\n",
    "\n",
    "You must solve the problem without using any built-in library for handling large integers (such as BigInteger). You must also not convert the inputs to integers directly.\n",
    "\n",
    " \n",
    "\n",
    "Example 1:\n",
    "\n",
    "Input: num1 = \"11\", num2 = \"123\"\n",
    "Output: \"134\"\n",
    "Example 2:\n",
    "\n",
    "Input: num1 = \"456\", num2 = \"77\"\n",
    "Output: \"533\"\n",
    "Example 3:\n",
    "\n",
    "Input: num1 = \"0\", num2 = \"0\"\n",
    "Output: \"0\"\n",
    " \n",
    "\n",
    "Constraints:\n",
    "\n",
    "1 <= num1.length, num2.length <= 104\n",
    "num1 and num2 consist of only digits.\n",
    "num1 and num2 don't have any leading zeros except for the zero itself."
   ]
  },
  {
   "cell_type": "code",
   "execution_count": null,
   "id": "80801300",
   "metadata": {},
   "outputs": [],
   "source": [
    "class Solution:\n",
    "    def addStrings(self, num1: str, num2: str) -> str:\n",
    "        i, j = len(num1) - 1, len(num2) - 1\n",
    "        carry = 0\n",
    "        result = []\n",
    "\n",
    "        while i >= 0 or j >= 0 or carry:\n",
    "            # Get the integer value of the character using ASCII math\n",
    "            x = ord(num1[i]) - ord('0') if i >= 0 else 0\n",
    "            y = ord(num2[j]) - ord('0') if j >= 0 else 0\n",
    "\n",
    "            total = x + y + carry\n",
    "            carry = total // 10\n",
    "            result.append(chr((total % 10) + ord('0')))  # Convert digit back to char\n",
    "\n",
    "            i -= 1\n",
    "            j -= 1\n",
    "\n",
    "        return ''.join(reversed(result))\n",
    "\n",
    "# tc - O(max(len(num1), len(num2)))\n",
    "# sc - O(max(len(num1), len(num2)))\n",
    "\n"
   ]
  },
  {
   "cell_type": "code",
   "execution_count": 4,
   "id": "046dd7e7",
   "metadata": {},
   "outputs": [
    {
     "name": "stdout",
     "output_type": "stream",
     "text": [
      "-4-4\n"
     ]
    }
   ],
   "source": [
    "Solution().addStrings(num1 = \"11\", num2 = \"123\")"
   ]
  },
  {
   "cell_type": "code",
   "execution_count": null,
   "id": "642b0019",
   "metadata": {},
   "outputs": [],
   "source": []
  }
 ],
 "metadata": {
  "kernelspec": {
   "display_name": "3.11.11",
   "language": "python",
   "name": "python3"
  },
  "language_info": {
   "codemirror_mode": {
    "name": "ipython",
    "version": 3
   },
   "file_extension": ".py",
   "mimetype": "text/x-python",
   "name": "python",
   "nbconvert_exporter": "python",
   "pygments_lexer": "ipython3",
   "version": "3.11.11"
  }
 },
 "nbformat": 4,
 "nbformat_minor": 5
}
