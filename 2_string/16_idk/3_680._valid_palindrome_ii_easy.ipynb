{
 "cells": [
  {
   "cell_type": "markdown",
   "id": "087a4794",
   "metadata": {},
   "source": [
    "Given a string s, return true if the s can be palindrome after deleting at most one character from it.\n",
    "\n",
    " \n",
    "\n",
    "Example 1:\n",
    "\n",
    "Input: s = \"aba\"\n",
    "Output: true\n",
    "Example 2:\n",
    "\n",
    "Input: s = \"abca\"\n",
    "Output: true\n",
    "Explanation: You could delete the character 'c'.\n",
    "Example 3:\n",
    "\n",
    "Input: s = \"abc\"\n",
    "Output: false\n",
    " \n",
    "\n",
    "Constraints:\n",
    "\n",
    "1 <= s.length <= 105\n",
    "s consists of lowercase English letters."
   ]
  },
  {
   "cell_type": "markdown",
   "id": "2de8ce7e",
   "metadata": {},
   "source": [
    "🧩 Approach: Two Pointers + Helper Check\n",
    "- Use two pointers (left, right) to compare characters from both ends.\n",
    "- When characters differ, you can:\n",
    "    - Skip the left character and check if the rest is a palindrome.\n",
    "    - Or skip the right character and check if the rest is a palindrome.\n",
    "- If any of those two options return true, return True."
   ]
  },
  {
   "cell_type": "code",
   "execution_count": 1,
   "id": "3a1d4761",
   "metadata": {},
   "outputs": [],
   "source": [
    "class Solution:\n",
    "    def validPalindrome(self, s: str) -> bool:\n",
    "        def is_palindrome(left: int, right: int) -> bool:\n",
    "            while left < right:\n",
    "                if s[left] != s[right]:\n",
    "                    return False\n",
    "                left += 1\n",
    "                right -= 1\n",
    "            return True\n",
    "\n",
    "        left, right = 0, len(s) - 1\n",
    "\n",
    "        while left < right:\n",
    "            if s[left] != s[right]:\n",
    "                # Try skipping one character from either end\n",
    "                return is_palindrome(left + 1, right) or is_palindrome(left, right - 1)\n",
    "            left += 1\n",
    "            right -= 1\n",
    "\n",
    "        return True\n",
    "\n",
    "# tc - O(n)we may do at most two full passes of the string.\n",
    "# sc - O(1)"
   ]
  },
  {
   "cell_type": "code",
   "execution_count": 2,
   "id": "64f239df",
   "metadata": {},
   "outputs": [
    {
     "data": {
      "text/plain": [
       "True"
      ]
     },
     "execution_count": 2,
     "metadata": {},
     "output_type": "execute_result"
    }
   ],
   "source": [
    "Solution().validPalindrome(s = \"aba\")"
   ]
  },
  {
   "cell_type": "code",
   "execution_count": null,
   "id": "87de577d",
   "metadata": {},
   "outputs": [],
   "source": []
  }
 ],
 "metadata": {
  "kernelspec": {
   "display_name": "3.11.11",
   "language": "python",
   "name": "python3"
  },
  "language_info": {
   "codemirror_mode": {
    "name": "ipython",
    "version": 3
   },
   "file_extension": ".py",
   "mimetype": "text/x-python",
   "name": "python",
   "nbconvert_exporter": "python",
   "pygments_lexer": "ipython3",
   "version": "3.11.11"
  }
 },
 "nbformat": 4,
 "nbformat_minor": 5
}
