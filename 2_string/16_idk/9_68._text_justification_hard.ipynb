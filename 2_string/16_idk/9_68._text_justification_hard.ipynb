{
 "cells": [
  {
   "cell_type": "markdown",
   "id": "55978fbe",
   "metadata": {},
   "source": [
    "Given an array of strings words and a width maxWidth, format the text such that each line has exactly maxWidth characters and is fully (left and right) justified.\n",
    "\n",
    "You should pack your words in a greedy approach; that is, pack as many words as you can in each line. Pad extra spaces ' ' when necessary so that each line has exactly maxWidth characters.\n",
    "\n",
    "Extra spaces between words should be distributed as evenly as possible. If the number of spaces on a line does not divide evenly between words, the empty slots on the left will be assigned more spaces than the slots on the right.\n",
    "\n",
    "For the last line of text, it should be left-justified, and no extra space is inserted between words.\n",
    "\n",
    "Note:\n",
    "\n",
    "A word is defined as a character sequence consisting of non-space characters only.\n",
    "Each word's length is guaranteed to be greater than 0 and not exceed maxWidth.\n",
    "The input array words contains at least one word.\n",
    " \n",
    "\n",
    "Example 1:\n",
    "\n",
    "Input: words = [\"This\", \"is\", \"an\", \"example\", \"of\", \"text\", \"justification.\"], maxWidth = 16\n",
    "Output:\n",
    "[\n",
    "   \"This    is    an\",\n",
    "   \"example  of text\",\n",
    "   \"justification.  \"\n",
    "]\n",
    "Example 2:\n",
    "\n",
    "Input: words = [\"What\",\"must\",\"be\",\"acknowledgment\",\"shall\",\"be\"], maxWidth = 16\n",
    "Output:\n",
    "[\n",
    "  \"What   must   be\",\n",
    "  \"acknowledgment  \",\n",
    "  \"shall be        \"\n",
    "]\n",
    "Explanation: Note that the last line is \"shall be    \" instead of \"shall     be\", because the last line must be left-justified instead of fully-justified.\n",
    "Note that the second line is also left-justified because it contains only one word.\n",
    "Example 3:\n",
    "\n",
    "Input: words = [\"Science\",\"is\",\"what\",\"we\",\"understand\",\"well\",\"enough\",\"to\",\"explain\",\"to\",\"a\",\"computer.\",\"Art\",\"is\",\"everything\",\"else\",\"we\",\"do\"], maxWidth = 20\n",
    "Output:\n",
    "[\n",
    "  \"Science  is  what we\",\n",
    "  \"understand      well\",\n",
    "  \"enough to explain to\",\n",
    "  \"a  computer.  Art is\",\n",
    "  \"everything  else  we\",\n",
    "  \"do                  \"\n",
    "]\n",
    " \n",
    "\n",
    "Constraints:\n",
    "\n",
    "1 <= words.length <= 300\n",
    "1 <= words[i].length <= 20\n",
    "words[i] consists of only English letters and symbols.\n",
    "1 <= maxWidth <= 100\n",
    "words[i].length <= maxWidth"
   ]
  },
  {
   "cell_type": "code",
   "execution_count": null,
   "id": "b314bff5",
   "metadata": {},
   "outputs": [],
   "source": [
    "# Its a stimulaiton problem:\n",
    "# I am just going to follow a very simple way.\n",
    "# take as many as words inclusing ine space bwt them until its overflow the max_width and justify them.\n",
    "\n",
    "class Solution:\n",
    "    def fullJustify(self, words: list[str], maxWidth: int) -> list[str]:\n",
    "        start = 0\n",
    "        end = 0\n",
    "        n = len(words)\n",
    "        ans = []\n",
    "\n",
    "        def justify(i,j):\n",
    "            print(i,j)\n",
    "            temp = \"\"\n",
    "            # Determine this is a last sentence or not.\n",
    "            is_last = j == n-1 \n",
    "            \n",
    "            how_many_breaks = num_of_words - 1\n",
    "            extra_char = (maxWidth - num_of_char)\n",
    "            print(\"how many\", extra_char)\n",
    "            \n",
    "            if not is_last and how_many_breaks > 0:\n",
    "                # Fully justify.\n",
    "                space_per_gap = extra_char // how_many_breaks\n",
    "                extra_spaces = extra_char % how_many_breaks\n",
    "                for ind in range(i, j):\n",
    "                    temp += words[ind]\n",
    "                    temp += \" \" * (space_per_gap + (1 if extra_spaces > 0 else 0))\n",
    "                    if extra_spaces > 0:\n",
    "                        extra_spaces -= 1\n",
    "                temp += words[j]\n",
    "                \n",
    "            else:\n",
    "                # This should be left aligned. Append all the words with 1 space and leave the remaning char in hte ens.\n",
    "                for inx in range(i, j):\n",
    "                    temp += words[inx] + \" \"\n",
    "                # last word.\n",
    "                temp += words[j]\n",
    "                temp += \" \" * (maxWidth - len(temp))\n",
    "\n",
    "\n",
    "            \n",
    "            ans.append(temp)\n",
    "            return\n",
    "\n",
    "        while end < n:\n",
    "            num_of_char = 0\n",
    "            num_of_words = 0    \n",
    "            \n",
    "            # Take as many words as possible until overflow.\n",
    "            while end < n and (num_of_char + len(words[end]) + num_of_words) <= maxWidth:\n",
    "                num_of_words += 1\n",
    "                num_of_char += len(words[end]) # \"one plus for the space\"\n",
    "                end += 1\n",
    "            # once we find the set of words to justify, call the function and reset all the trackers.\n",
    "            # At this point, the end will be at the next element of the included window.\n",
    "            # [\"This\", \"is\", \"an\", \"example\"] here the end will be at the end = 3 when it fails, so we have to consider\n",
    "            # until it passed the condition successfully, so take end-1.\n",
    "            justify(start, end-1)\n",
    "            \n",
    "\n",
    "            # reset the satrt pointer, since the cur window is justified.\n",
    "            start = end\n",
    "        \n",
    "        return ans \n",
    "\n",
    "\n",
    "# NOTE: this simulation is the optimal one we can do for this question."
   ]
  },
  {
   "cell_type": "markdown",
   "id": "1ce7890e",
   "metadata": {},
   "source": [
    "For this **full justification simulation approach**:\n",
    "\n",
    "**Time Complexity (TC):**\n",
    "\n",
    "* Let `n` = number of words, `L` = `maxWidth`.\n",
    "* Outer while loop iterates over each word once → O(n).\n",
    "* For each line, building the justified string requires iterating over words in the line → worst case O(n) per line.\n",
    "* Constructing the spaces involves simple arithmetic, so negligible.\n",
    "* Overall: **O(n \\* L)** (since joining strings of length up to `maxWidth` per line).\n",
    "\n",
    "**Space Complexity (SC):**\n",
    "\n",
    "* `ans` stores all justified lines → total characters = `n * average word length + spaces` → O(n \\* L).\n",
    "* Temporary variables inside loops and the `temp` string → O(L) per line.\n",
    "* Overall: **O(n \\* L)** due to the output storage.\n",
    "\n",
    "So:\n",
    "\n",
    "* **TC:** O(n \\* L)\n",
    "* **SC:** O(n \\* L)"
   ]
  },
  {
   "cell_type": "code",
   "execution_count": 56,
   "id": "57dad8f8",
   "metadata": {},
   "outputs": [
    {
     "name": "stdout",
     "output_type": "stream",
     "text": [
      "0 2\n",
      "how many 8\n",
      "3 5\n",
      "how many 3\n",
      "6 6\n",
      "how many 2\n"
     ]
    },
    {
     "data": {
      "text/plain": [
       "['This    is    an', 'example  of text', 'justification.  ']"
      ]
     },
     "execution_count": 56,
     "metadata": {},
     "output_type": "execute_result"
    }
   ],
   "source": [
    "Solution().fullJustify(words = [\"This\", \"is\", \"an\", \"example\", \"of\", \"text\", \"justification.\"], maxWidth = 16)"
   ]
  },
  {
   "cell_type": "code",
   "execution_count": 57,
   "id": "cd58373c",
   "metadata": {},
   "outputs": [
    {
     "name": "stdout",
     "output_type": "stream",
     "text": [
      "0 2\n",
      "how many 6\n",
      "3 3\n",
      "how many 2\n",
      "4 5\n",
      "how many 9\n"
     ]
    },
    {
     "data": {
      "text/plain": [
       "['What   must   be', 'acknowledgment  ', 'shall be        ']"
      ]
     },
     "execution_count": 57,
     "metadata": {},
     "output_type": "execute_result"
    }
   ],
   "source": [
    "Solution().fullJustify(words = [\"What\",\"must\",\"be\",\"acknowledgment\",\"shall\",\"be\"], maxWidth = 16)"
   ]
  },
  {
   "cell_type": "code",
   "execution_count": 58,
   "id": "50eeafc6",
   "metadata": {},
   "outputs": [
    {
     "name": "stdout",
     "output_type": "stream",
     "text": [
      "0 3\n",
      "how many 5\n",
      "4 5\n",
      "how many 6\n",
      "6 9\n",
      "how many 3\n",
      "10 13\n",
      "how many 5\n",
      "14 16\n",
      "how many 4\n",
      "17 17\n",
      "how many 18\n"
     ]
    },
    {
     "data": {
      "text/plain": [
       "['Science  is  what we',\n",
       " 'understand      well',\n",
       " 'enough to explain to',\n",
       " 'a  computer.  Art is',\n",
       " 'everything  else  we',\n",
       " 'do                  ']"
      ]
     },
     "execution_count": 58,
     "metadata": {},
     "output_type": "execute_result"
    }
   ],
   "source": [
    "Solution().fullJustify(words = [\"Science\",\"is\",\"what\",\"we\",\"understand\",\"well\",\"enough\",\"to\",\"explain\",\"to\",\"a\",\"computer.\",\"Art\",\"is\",\"everything\",\"else\",\"we\",\"do\"], maxWidth = 20)"
   ]
  },
  {
   "cell_type": "code",
   "execution_count": null,
   "id": "7d308ba8",
   "metadata": {},
   "outputs": [],
   "source": []
  }
 ],
 "metadata": {
  "kernelspec": {
   "display_name": "3.11.11",
   "language": "python",
   "name": "python3"
  },
  "language_info": {
   "codemirror_mode": {
    "name": "ipython",
    "version": 3
   },
   "file_extension": ".py",
   "mimetype": "text/x-python",
   "name": "python",
   "nbconvert_exporter": "python",
   "pygments_lexer": "ipython3",
   "version": "3.11.11"
  }
 },
 "nbformat": 4,
 "nbformat_minor": 5
}
