{
 "cells": [
  {
   "cell_type": "markdown",
   "id": "f53168e9",
   "metadata": {},
   "source": [
    "Given a string s which represents an expression, evaluate this expression and return its value. \n",
    "\n",
    "The integer division should truncate toward zero.\n",
    "\n",
    "You may assume that the given expression is always valid. All intermediate results will be in the range of [-231, 231 - 1].\n",
    "\n",
    "Note: You are not allowed to use any built-in function which evaluates strings as mathematical expressions, such as eval().\n",
    "\n",
    " \n",
    "\n",
    "Example 1:\n",
    "\n",
    "Input: s = \"3+2*2\"\n",
    "Output: 7\n",
    "Example 2:\n",
    "\n",
    "Input: s = \" 3/2 \"\n",
    "Output: 1\n",
    "Example 3:\n",
    "\n",
    "Input: s = \" 3+5 / 2 \"\n",
    "Output: 5\n",
    " \n",
    "\n",
    "Constraints:\n",
    "\n",
    "1 <= s.length <= 3 * 105\n",
    "s consists of integers and operators ('+', '-', '*', '/') separated by some number of spaces.\n",
    "s represents a valid expression.\n",
    "All the integers in the expression are non-negative integers in the range [0, 231 - 1].\n",
    "The answer is guaranteed to fit in a 32-bit integer."
   ]
  },
  {
   "cell_type": "markdown",
   "id": "64c5c80b",
   "metadata": {},
   "source": [
    "# brute force \n",
    "- Iterate through the string character by character.\n",
    "- Maintain a current number and the last operator seen.\n",
    "- Use a stack to hold numbers:\n",
    "    - When you see +, push the number.\n",
    "    - When you see -, push -number.\n",
    "    - When you see * or /, pop the top of the stack, apply the operation, push the result back."
   ]
  },
  {
   "cell_type": "code",
   "execution_count": null,
   "id": "d556dbad",
   "metadata": {},
   "outputs": [],
   "source": [
    "class Solution:\n",
    "    def calculate(self, s: str) -> int:\n",
    "        stack = []\n",
    "        num = 0\n",
    "        sign = '+'\n",
    "        s = s.replace(' ', '')  # remove spaces\n",
    "        \n",
    "        for i, ch in enumerate(s):\n",
    "            if ch.isdigit():\n",
    "                # there can be numbers 123, so you have to build the number.\n",
    "                num = num * 10 + int(ch)\n",
    "\n",
    "            if not ch.isdigit() or i == len(s) - 1:\n",
    "                if sign == '+':\n",
    "                    stack.append(num)\n",
    "                elif sign == '-':\n",
    "                    stack.append(-num)\n",
    "                elif sign == '*':\n",
    "                    stack[-1] = stack[-1] * num\n",
    "                elif sign == '/':\n",
    "                    # Python division truncates toward 0 for negative numbers like in Leetcode\n",
    "                    stack[-1] = int(stack[-1] / num)\n",
    "                \n",
    "                # this is to track what was hte previous sign.\n",
    "                # 3*2/2 .. here when we are at 3ed index. the stack will be [3, 2] and sign will be *.\n",
    "                # now we are at the '/' sign .. we have to calculate the previous sign. 3 * 2 and push the result.\n",
    "                sign = ch\n",
    "                num = 0\n",
    "\n",
    "        return sum(stack)\n",
    "\n",
    "\n",
    "# tc - O(n)\n",
    "# sc - O(n) for stack"
   ]
  },
  {
   "cell_type": "markdown",
   "id": "419f7cb7",
   "metadata": {},
   "source": [
    "exp = \"3+6/2*1-0\"\n",
    "\n",
    "\n",
    "| Step | Char | Current Num | Sign | Stack Before | Action                                                      | Stack After |\n",
    "| ---- | ---- | ----------- | ---- | ------------ | ----------------------------------------------------------- | ----------- |\n",
    "| 1    | '3'  | 3           | '+'  | \\[]          | Building number                                             | \\[]         |\n",
    "| 2    | '+'  | 3           | '+'  | \\[]          | Previous sign is '+', push `+3` to stack                    | \\[3]        |\n",
    "| 3    | '6'  | 6           | '+'  | \\[3]         | Building number                                             | \\[3]        |\n",
    "| 4    | '/'  | 6           | '+'  | \\[3]         | Previous sign is '+', push `+6` to stack                    | \\[3, 6]     |\n",
    "| 5    | '2'  | 2           | '/'  | \\[3, 6]      | Building number                                             | \\[3, 6]     |\n",
    "| 6    | '\\*' | 2           | '/'  | \\[3, 6]      | Previous sign is '/', do `6 / 2 = 3`, replace top of stack  | \\[3, 3]     |\n",
    "| 7    | '1'  | 1           | '\\*' | \\[3, 3]      | Building number                                             | \\[3, 3]     |\n",
    "| 8    | '-'  | 1           | '\\*' | \\[3, 3]      | Previous sign is '\\*', do `3 * 1 = 3`, replace top of stack | \\[3, 3]     |\n",
    "| 9    | '0'  | 0           | '-'  | \\[3, 3]      | Building number                                             | \\[3, 3]     |\n",
    "| 10   | END  | 0           | '-'  | \\[3, 3]      | Previous sign is '-', push `-0` to stack                    | \\[3, 3, 0]  |\n"
   ]
  },
  {
   "cell_type": "code",
   "execution_count": null,
   "id": "60f4021d",
   "metadata": {},
   "outputs": [],
   "source": [
    "# solution without using stack - optimal approach\n",
    "# We apply * and / directly to last_num as soon as we see the operator.\n",
    "# We only add last_num to the result when we see a + or -.\n",
    "\n",
    "\n",
    "# page 36: in string algo note book.\n",
    "class Solution:\n",
    "    def calculate(self, s: str) -> int:\n",
    "        s = s.replace(\" \", \"\")\n",
    "        n = len(s)\n",
    "        current_num = 0\n",
    "        last_num = 0\n",
    "        result = 0\n",
    "        operation = '+'\n",
    "\n",
    "        for i in range(n):\n",
    "            char = s[i]\n",
    "            print(char)\n",
    "\n",
    "            if char.isdigit():\n",
    "                current_num = current_num * 10 + int(char)\n",
    "\n",
    "            if not char.isdigit() or i == n - 1:\n",
    "                if operation == '+':\n",
    "                    result += last_num\n",
    "                    last_num = current_num\n",
    "                elif operation == '-':\n",
    "                    result += last_num\n",
    "                    last_num = -current_num\n",
    "                elif operation == '*':\n",
    "                    last_num = last_num * current_num\n",
    "                elif operation == '/':\n",
    "                    last_num = int(last_num / current_num)  # truncate toward zero\n",
    "\n",
    "                operation = char\n",
    "                current_num = 0\n",
    "\n",
    "        result += last_num\n",
    "        return result\n",
    "    \n",
    "# tc- O(n)\n",
    "# sc - O(1) since we are not using any extra space except for a few\n",
    "\n"
   ]
  },
  {
   "cell_type": "code",
   "execution_count": 4,
   "id": "7479bc70",
   "metadata": {},
   "outputs": [
    {
     "name": "stdout",
     "output_type": "stream",
     "text": [
      "3\n",
      "+\n",
      "6\n",
      "/\n",
      "2\n",
      "*\n",
      "1\n",
      "-\n",
      "2\n"
     ]
    },
    {
     "data": {
      "text/plain": [
       "4"
      ]
     },
     "execution_count": 4,
     "metadata": {},
     "output_type": "execute_result"
    }
   ],
   "source": [
    "Solution().calculate(\"3+6/2*1-2\")"
   ]
  },
  {
   "cell_type": "markdown",
   "id": "c6551ec5",
   "metadata": {},
   "source": [
    "exp = \"3+6/2*1-0\"\n",
    "\n",
    "\n",
    "\n",
    "| Step | Char | Current Num | Operation | Last Num | Result | Action                             |\n",
    "| ---- | ---- | ----------- | --------- | -------- | ------ | ---------------------------------- |\n",
    "| 1    | 3    | 3           | +         | 0        | 0      | building number                    |\n",
    "| 2    | +    | 3           | +         | 0        | 0      | apply `+` → last\\_num = 0          |\n",
    "| 3    | 6    | 6           | +         | 3        | 0      | building number                    |\n",
    "| 4    | /    | 0           | /         | 6        | 3      | apply `+` → result += 3, reset     |\n",
    "| 5    | 2    | 2           | /         | 6        | 3      | building number                    |\n",
    "| 6    | \\*   | 0           | \\*        | 3        | 3      | apply `/` → last\\_num = 6 // 2 = 3 |\n",
    "| 7    | 1    | 1           | \\*        | 3        | 3      | building number                    |\n",
    "| 8    | -    | 0           | -         | 3        | 3      | apply `*` → last\\_num = 3 \\* 1 = 3 |\n",
    "| 9    | 0    | 0           | -         | 3        | 6      | apply `+` → result += 3            |\n",
    "| End  | end  | 0           | -         | 0        | 6      | apply `-` → result += (-0)         |\n"
   ]
  }
 ],
 "metadata": {
  "kernelspec": {
   "display_name": "3.11.11",
   "language": "python",
   "name": "python3"
  },
  "language_info": {
   "codemirror_mode": {
    "name": "ipython",
    "version": 3
   },
   "file_extension": ".py",
   "mimetype": "text/x-python",
   "name": "python",
   "nbconvert_exporter": "python",
   "pygments_lexer": "ipython3",
   "version": "3.11.11"
  }
 },
 "nbformat": 4,
 "nbformat_minor": 5
}
