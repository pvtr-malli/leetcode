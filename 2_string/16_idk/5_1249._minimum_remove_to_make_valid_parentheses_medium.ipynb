{
 "cells": [
  {
   "cell_type": "markdown",
   "id": "8cb9d238",
   "metadata": {},
   "source": [
    "Given a string s of '(' , ')' and lowercase English characters.\n",
    "\n",
    "Your task is to remove the minimum number of parentheses ( '(' or ')', in any positions ) so that the resulting parentheses string is valid and return any valid string.\n",
    "\n",
    "Formally, a parentheses string is valid if and only if:\n",
    "\n",
    "It is the empty string, contains only lowercase characters, or\n",
    "It can be written as AB (A concatenated with B), where A and B are valid strings, or\n",
    "It can be written as (A), where A is a valid string.\n",
    " \n",
    "\n",
    "Example 1:\n",
    "\n",
    "Input: s = \"lee(t(c)o)de)\"\n",
    "Output: \"lee(t(c)o)de\"\n",
    "Explanation: \"lee(t(co)de)\" , \"lee(t(c)ode)\" would also be accepted.\n",
    "Example 2:\n",
    "\n",
    "Input: s = \"a)b(c)d\"\n",
    "Output: \"ab(c)d\"\n",
    "Example 3:\n",
    "\n",
    "Input: s = \"))((\"\n",
    "Output: \"\"\n",
    "Explanation: An empty string is also valid.\n",
    " \n",
    "\n",
    "Constraints:\n",
    "\n",
    "1 <= s.length <= 105\n",
    "s[i] is either '(' , ')', or lowercase English letter."
   ]
  },
  {
   "cell_type": "code",
   "execution_count": null,
   "id": "6b147d63",
   "metadata": {},
   "outputs": [],
   "source": [
    "# brute force\n",
    "class Solution:\n",
    "    def minRemoveToMakeValid(self, s: str) -> str:\n",
    "        # Step 1: Remove invalid closing parentheses ')'\n",
    "        result = []\n",
    "        open_count = 0\n",
    "        for char in s:\n",
    "            if char == '(':\n",
    "                open_count += 1\n",
    "                result.append(char)\n",
    "            elif char == ')':\n",
    "                if open_count > 0:\n",
    "                    open_count -= 1\n",
    "                    result.append(char)\n",
    "                # else skip this invalid ')'\n",
    "            else:\n",
    "                result.append(char)\n",
    "\n",
    "        # Step 2: Remove invalid opening parentheses '(' from the right\n",
    "        final_result = []\n",
    "        open_to_remove = open_count  # leftover '(' to remove\n",
    "        for char in reversed(result):\n",
    "            if char == '(' and open_to_remove > 0:\n",
    "                open_to_remove -= 1\n",
    "                # skip this '('\n",
    "            else:\n",
    "                final_result.append(char)\n",
    "\n",
    "        return ''.join(reversed(final_result))\n"
   ]
  },
  {
   "cell_type": "markdown",
   "id": "086bf256",
   "metadata": {},
   "source": [
    "- first collect all the indexes which are invalid uinsg hte stack.\n",
    "- then dont add these indexes in the result."
   ]
  },
  {
   "cell_type": "code",
   "execution_count": null,
   "id": "077d0c2c",
   "metadata": {},
   "outputs": [],
   "source": [
    "class Solution:\n",
    "    def minRemoveToMakeValid(self, s: str) -> str:\n",
    "        stack = []\n",
    "        remove_indices = set()\n",
    "\n",
    "        # First pass: identify indices of unmatched ')'\n",
    "        for i, char in enumerate(s):\n",
    "            if char == '(':\n",
    "                stack.append(i)\n",
    "            elif char == ')':\n",
    "                if stack:\n",
    "                    stack.pop()  # matched with a '('\n",
    "                else:\n",
    "                    remove_indices.add(i)  # unmatched ')'\n",
    "\n",
    "        # Add any unmatched '(' indices from the stack\n",
    "        remove_indices = remove_indices.union(set(stack))\n",
    "\n",
    "        # Second pass: build valid result\n",
    "        result = []\n",
    "        for i, char in enumerate(s):\n",
    "            if i not in remove_indices:\n",
    "                result.append(char)\n",
    "\n",
    "        return ''.join(result)\n",
    "\n",
    "# tc - O(n) for the two passes through the string\n",
    "# sc - O(n) for the stack and the result string"
   ]
  },
  {
   "cell_type": "markdown",
   "id": "6240c4cd",
   "metadata": {},
   "source": [
    "Why then prefer the stack-based approach?\n",
    "The stack-based method is often clearer when tracking exact unmatched parentheses positions (like in the first solution).\n",
    "\n",
    "It makes it easier to handle more complex variations or extensions of the problem.\n",
    "\n",
    "Sometimes stack approach aligns better with certain interview expectations.s"
   ]
  },
  {
   "cell_type": "code",
   "execution_count": 7,
   "id": "2deab3ed",
   "metadata": {},
   "outputs": [
    {
     "data": {
      "text/plain": [
       "'lee(t(c)o)de'"
      ]
     },
     "execution_count": 7,
     "metadata": {},
     "output_type": "execute_result"
    }
   ],
   "source": [
    "Solution().minRemoveToMakeValid(s = \"lee(t(c)o)de)\")"
   ]
  },
  {
   "cell_type": "code",
   "execution_count": 8,
   "id": "f9454e98",
   "metadata": {},
   "outputs": [
    {
     "data": {
      "text/plain": [
       "'ab(c)d'"
      ]
     },
     "execution_count": 8,
     "metadata": {},
     "output_type": "execute_result"
    }
   ],
   "source": [
    "Solution().minRemoveToMakeValid(s = \"a)b(c)d\")"
   ]
  },
  {
   "cell_type": "code",
   "execution_count": 5,
   "id": "0455208b",
   "metadata": {},
   "outputs": [
    {
     "data": {
      "text/plain": [
       "['', '...', 'a', '..', 'b', 'c', '..', '', 'd', '.', '']"
      ]
     },
     "execution_count": 5,
     "metadata": {},
     "output_type": "execute_result"
    }
   ],
   "source": [
    "\"/.../a/../b/c/..//d/./\".split(\"/\")"
   ]
  },
  {
   "cell_type": "code",
   "execution_count": null,
   "id": "f06f0c01",
   "metadata": {},
   "outputs": [],
   "source": []
  }
 ],
 "metadata": {
  "kernelspec": {
   "display_name": "3.11.11",
   "language": "python",
   "name": "python3"
  },
  "language_info": {
   "codemirror_mode": {
    "name": "ipython",
    "version": 3
   },
   "file_extension": ".py",
   "mimetype": "text/x-python",
   "name": "python",
   "nbconvert_exporter": "python",
   "pygments_lexer": "ipython3",
   "version": "3.11.11"
  }
 },
 "nbformat": 4,
 "nbformat_minor": 5
}
