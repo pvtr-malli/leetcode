{
 "cells": [
  {
   "cell_type": "markdown",
   "id": "8f655ff0",
   "metadata": {},
   "source": [
    "The string \"PAYPALISHIRING\" is written in a zigzag pattern on a given number of rows like this: (you may want to display this pattern in a fixed font for better legibility)\n",
    "\n",
    "P   A   H   N\n",
    "A P L S I I G\n",
    "Y   I   R\n",
    "And then read line by line: \"PAHNAPLSIIGYIR\"\n",
    "\n",
    "Write the code that will take a string and make this conversion given a number of rows:\n",
    "\n",
    "string convert(string s, int numRows);\n",
    " \n",
    "\n",
    "Example 1:\n",
    "\n",
    "Input: s = \"PAYPALISHIRING\", numRows = 3\n",
    "Output: \"PAHNAPLSIIGYIR\"\n",
    "Example 2:\n",
    "\n",
    "Input: s = \"PAYPALISHIRING\", numRows = 4\n",
    "Output: \"PINALSIGYAHRPI\"\n",
    "Explanation:\n",
    "P     I    N\n",
    "A   L S  I G\n",
    "Y A   H R\n",
    "P     I\n",
    "Example 3:\n",
    "\n",
    "Input: s = \"A\", numRows = 1\n",
    "Output: \"A\"\n",
    " \n",
    "\n",
    "Constraints:\n",
    "\n",
    "1 <= s.length <= 1000\n",
    "s consists of English letters (lower-case and upper-case), ',' and '.'.\n",
    "1 <= numRows <= 1000"
   ]
  },
  {
   "cell_type": "markdown",
   "id": "75b99696",
   "metadata": {},
   "source": [
    "# brute force:\n",
    "- the observation: this printed should look like a zz.\n",
    "- 01232101232101   this will be their row number in the zigzag pattern. explanation below.\n",
    "- PAYPALISHIRING   for num = 4\n",
    "\n",
    "```python\n",
    "P     I    N\n",
    "A   L S  I G\n",
    "Y A   H R\n",
    "P     I\n",
    "```\n",
    "- So we will follow the pattern and store each row values in a separate variable.\n",
    "- list would be great, store row 0 values in 0th index.\n",
    "- until we reach num - 1.. go forward one step. once you reached n-1.. go backforad.\n"
   ]
  },
  {
   "cell_type": "markdown",
   "id": "cc8320e5",
   "metadata": {},
   "source": [
    "| Index | Char | Row | Direction | Comment                           |\n",
    "| ----- | ---- | --- | --------- | --------------------------------- |\n",
    "| 0     | P    | 0   | ↓         | Start at top                      |\n",
    "| 1     | A    | 1   | ↓         | Move down                         |\n",
    "| 2     | Y    | 2   | ↓         | Move down                         |\n",
    "| 3     | P    | 3   | ↓         | Bottom reached, reverse to up     |\n",
    "| 4     | A    | 2   | ↑         | Going up → falls into **row 2** ✅ |\n",
    "| 5     | L    | 1   | ↑         | Going up                          |\n",
    "| 6     | I    | 0   | ↑         | Top reached, reverse to down      |\n",
    "| 7     | S    | 1   | ↓         | Going down                        |\n",
    "| 8     | H    | 2   | ↓         | Going down                        |\n",
    "| 9     | I    | 3   | ↓         | Bottom, reverse to up             |\n",
    "| 10    | R    | 2   | ↑         | Going up                          |\n",
    "| 11    | I    | 1   | ↑         | Going up                          |\n",
    "| 12    | N    | 0   | ↑         | Top, reverse to down              |\n",
    "| 13    | G    | 1   | ↓         | Final character                   |\n"
   ]
  },
  {
   "cell_type": "code",
   "execution_count": null,
   "id": "fedc81d8",
   "metadata": {},
   "outputs": [],
   "source": [
    "class Solution:\n",
    "    def convert(self, s: str, numRows: int) -> str:\n",
    "        # handling edge case:\n",
    "        if numRows == 1 or numRows >= len(s):\n",
    "            return s\n",
    "        row_value = [\"\"] * numRows\n",
    "        step = 1 # going forward first. \n",
    "        index = 0\n",
    "\n",
    "        for char in s:\n",
    "            # adding the current charactor to the proper row.\n",
    "            row_value[index] += char\n",
    "\n",
    "            if index == numRows - 1:\n",
    "                # change the direction move backfords.\n",
    "                step = -1\n",
    "            if index == 0:\n",
    "                # move forwaed again.\n",
    "                step = 1\n",
    "            \n",
    "            index += step\n",
    "\n",
    "        return \"\".join(row_value)\n",
    "    \n",
    "# tc - O(n)\n",
    "# sc - O(numRows)"
   ]
  },
  {
   "cell_type": "code",
   "execution_count": 3,
   "id": "681733d6",
   "metadata": {},
   "outputs": [
    {
     "data": {
      "text/plain": [
       "'PAHNAPLSIIGYIR'"
      ]
     },
     "execution_count": 3,
     "metadata": {},
     "output_type": "execute_result"
    }
   ],
   "source": [
    "Solution().convert(s = \"PAYPALISHIRING\", numRows = 3)"
   ]
  },
  {
   "cell_type": "code",
   "execution_count": 5,
   "id": "a7656e9d",
   "metadata": {},
   "outputs": [
    {
     "data": {
      "text/plain": [
       "'PINALSIGYAHRPI'"
      ]
     },
     "execution_count": 5,
     "metadata": {},
     "output_type": "execute_result"
    }
   ],
   "source": [
    "Solution().convert(s = \"PAYPALISHIRING\", numRows = 4)"
   ]
  },
  {
   "cell_type": "code",
   "execution_count": null,
   "id": "294864cc",
   "metadata": {},
   "outputs": [],
   "source": []
  }
 ],
 "metadata": {
  "kernelspec": {
   "display_name": "3.11.11",
   "language": "python",
   "name": "python3"
  },
  "language_info": {
   "codemirror_mode": {
    "name": "ipython",
    "version": 3
   },
   "file_extension": ".py",
   "mimetype": "text/x-python",
   "name": "python",
   "nbconvert_exporter": "python",
   "pygments_lexer": "ipython3",
   "version": "3.11.11"
  }
 },
 "nbformat": 4,
 "nbformat_minor": 5
}
