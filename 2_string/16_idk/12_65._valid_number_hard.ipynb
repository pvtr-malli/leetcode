{
 "cells": [
  {
   "cell_type": "markdown",
   "id": "ccd6529d",
   "metadata": {},
   "source": [
    "Given a string s, return whether s is a valid number.\n",
    "\n",
    "For example, all the following are valid numbers: \"2\", \"0089\", \"-0.1\", \"+3.14\", \"4.\", \"-.9\", \"2e10\", \"-90E3\", \"3e+7\", \"+6e-1\", \"53.5e93\", \"-123.456e789\", while the following are not valid numbers: \"abc\", \"1a\", \"1e\", \"e3\", \"99e2.5\", \"--6\", \"-+3\", \"95a54e53\".\n",
    "\n",
    "Formally, a valid number is defined using one of the following definitions:\n",
    "\n",
    "An integer number followed by an optional exponent.\n",
    "A decimal number followed by an optional exponent.\n",
    "An integer number is defined with an optional sign '-' or '+' followed by digits.\n",
    "\n",
    "A decimal number is defined with an optional sign '-' or '+' followed by one of the following definitions:\n",
    "\n",
    "Digits followed by a dot '.'.\n",
    "Digits followed by a dot '.' followed by digits.\n",
    "A dot '.' followed by digits.\n",
    "An exponent is defined with an exponent notation 'e' or 'E' followed by an integer number.\n",
    "\n",
    "The digits are defined as one or more digits.\n",
    "\n",
    " \n",
    "\n",
    "Example 1:\n",
    "\n",
    "Input: s = \"0\"\n",
    "\n",
    "Output: true\n",
    "\n",
    "Example 2:\n",
    "\n",
    "Input: s = \"e\"\n",
    "\n",
    "Output: false\n",
    "\n",
    "Example 3:\n",
    "\n",
    "Input: s = \".\"\n",
    "\n",
    "Output: false\n",
    "\n",
    " \n",
    "\n",
    "Constraints:\n",
    "\n",
    "1 <= s.length <= 20\n",
    "s consists of only English letters (both uppercase and lowercase), digits (0-9), plus '+', minus '-', or dot '.'."
   ]
  },
  {
   "cell_type": "code",
   "execution_count": null,
   "id": "e834b97d",
   "metadata": {},
   "outputs": [],
   "source": [
    "class Solution:\n",
    "    def isNumber(self, s: str) -> bool:\n",
    "        # change everything to lowercase.\n",
    "        s = s.lower()\n",
    "\n",
    "        def check(word: str, can_have_floats=True):\n",
    "            already_seen_signs = False  # since they are allowed to come only onces.\n",
    "            already_seen_dots = False \n",
    "            n = len(word)\n",
    "            for i in range(n):\n",
    "                # Check for the signs.\n",
    "                if word[i] in ('+', '-'):\n",
    "                    if not already_seen_signs and i==0 and len(word) >1 :\n",
    "                        already_seen_signs = True \n",
    "                        # sing should not come alone.\n",
    "                        \n",
    "                    else:\n",
    "                        return False # we are getting 2 sings or sing in in bwt 2 digits 6+1. \n",
    "                elif word[i].isalpha():\n",
    "                    return False # we should not get any letters other than e. \n",
    "                elif word[i] == '.':\n",
    "                    if can_have_floats and not already_seen_dots and len(word) > 1: \n",
    "                        already_seen_dots = True\n",
    "                        # '.' Should having digits in either of the side.\n",
    "                        if i == 0 and not word[i+1].isdigit():\n",
    "                            return False \n",
    "                        if i == n-1 and not word[i-1].isdigit():\n",
    "                            return False\n",
    "                    else: \n",
    "                        return False \n",
    "                else: # when its a number. \n",
    "                    continue\n",
    "            return True\n",
    "\n",
    "        if 'e' in s:\n",
    "            # if e comes 2 times than False. \n",
    "            if s.count('e') > 1:\n",
    "                return False \n",
    "            # check the first part.\n",
    "            # should be: digit, non-empty, can have signs, can have flot.\n",
    "            # second part should be: digit, non-empty, can have signs.\n",
    "            first_part, second_part = s.split(\"e\")\n",
    "            if not first_part or not second_part:\n",
    "                return False \n",
    "            f = check(first_part, )\n",
    "            s = check(second_part, can_have_floats=False)\n",
    "            return f and s\n",
    "        else:\n",
    "            return check(s)\n",
    "        \n",
    "# tc:\n",
    "# count e - O(n)\n",
    "# split e - O(n)\n",
    "# checj = O(n)\n",
    "# sc - O(1)"
   ]
  },
  {
   "cell_type": "code",
   "execution_count": 55,
   "id": "60034c9d",
   "metadata": {},
   "outputs": [
    {
     "data": {
      "text/plain": [
       "True"
      ]
     },
     "execution_count": 55,
     "metadata": {},
     "output_type": "execute_result"
    }
   ],
   "source": [
    "Solution().isNumber(s = \"0\")"
   ]
  },
  {
   "cell_type": "code",
   "execution_count": 56,
   "id": "826950b0",
   "metadata": {},
   "outputs": [
    {
     "data": {
      "text/plain": [
       "False"
      ]
     },
     "execution_count": 56,
     "metadata": {},
     "output_type": "execute_result"
    }
   ],
   "source": [
    "Solution().isNumber('e')"
   ]
  },
  {
   "cell_type": "code",
   "execution_count": 57,
   "id": "fafad5c3",
   "metadata": {},
   "outputs": [
    {
     "name": "stdout",
     "output_type": "stream",
     "text": [
      ". False\n",
      "12ae12 False\n",
      "abc False\n",
      "1a False\n",
      "1e False\n",
      "e3 False\n",
      "99e2.5 False\n",
      "--6 False\n",
      "-+3 False\n",
      "95a54e53 False\n",
      "6+1 False\n",
      "4e+ False\n"
     ]
    }
   ],
   "source": [
    "for i in ['.', '12ae12', \"abc\", \"1a\", \"1e\", \"e3\", \"99e2.5\", \"--6\", \"-+3\", \"95a54e53\", \"6+1\", \"4e+\"]:\n",
    "    print(i, Solution().isNumber(i))"
   ]
  },
  {
   "cell_type": "code",
   "execution_count": 58,
   "id": "83831508",
   "metadata": {},
   "outputs": [
    {
     "name": "stdout",
     "output_type": "stream",
     "text": [
      "2 True\n",
      "0089 True\n",
      "-0.1 True\n",
      "+3.14 True\n",
      "4. True\n",
      "-.9 True\n",
      "2e10 True\n",
      "-90E3 True\n",
      "3e+7 True\n",
      "+6e-1 True\n",
      "53.5e93 True\n",
      "-123.456e789 True\n",
      "+.8 True\n"
     ]
    }
   ],
   "source": [
    "for i in [\"2\", \"0089\", \"-0.1\", \"+3.14\", \"4.\", \"-.9\", \"2e10\", \"-90E3\", \"3e+7\", \"+6e-1\", \"53.5e93\", \"-123.456e789\", \"+.8\"]:\n",
    "    print(i, Solution().isNumber(i))"
   ]
  },
  {
   "cell_type": "code",
   "execution_count": null,
   "id": "1887c348",
   "metadata": {},
   "outputs": [],
   "source": [
    "# Better and simple ans:\n",
    "class Solution:\n",
    "    def isNumber(self, s: str) -> bool:\n",
    "        isdot, ise, nums = False, False, False\n",
    "        for i, c in enumerate(s):\n",
    "            if c.isdigit():\n",
    "                nums = True\n",
    "\n",
    "            elif c in \"+-\":\n",
    "                # This should be at the first of before e or after e part.\n",
    "                # it cant not come after a digit like \"7+\"\n",
    "                if i > 0 and s[i - 1] not in \"eE\":\n",
    "                    return False\n",
    "                \n",
    "            elif c in \"eE\":\n",
    "                # No e before and some digit before.\n",
    "                if ise or not nums:\n",
    "                    return False\n",
    "                \n",
    "                ise, nums = True, False\n",
    "\n",
    "            elif c == \".\":\n",
    "                # no '.' before and no 'e' before.\n",
    "                if isdot or ise:\n",
    "                    return False\n",
    "                isdot = True\n",
    "            else:\n",
    "                # If this is some other letter.\n",
    "                return False\n",
    "            \n",
    "        # This means there should be number after e.\n",
    "        return nums\n",
    "    \n",
    "# tc - O(n)\n",
    "# sc - O(1)"
   ]
  },
  {
   "cell_type": "code",
   "execution_count": null,
   "id": "314fb322",
   "metadata": {},
   "outputs": [],
   "source": []
  }
 ],
 "metadata": {
  "kernelspec": {
   "display_name": "3.11.11",
   "language": "python",
   "name": "python3"
  },
  "language_info": {
   "codemirror_mode": {
    "name": "ipython",
    "version": 3
   },
   "file_extension": ".py",
   "mimetype": "text/x-python",
   "name": "python",
   "nbconvert_exporter": "python",
   "pygments_lexer": "ipython3",
   "version": "3.11.11"
  }
 },
 "nbformat": 4,
 "nbformat_minor": 5
}
