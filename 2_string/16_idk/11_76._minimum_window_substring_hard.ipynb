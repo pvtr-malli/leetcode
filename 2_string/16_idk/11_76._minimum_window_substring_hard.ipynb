{
 "cells": [
  {
   "cell_type": "markdown",
   "id": "557e727a",
   "metadata": {},
   "source": [
    "Given two strings s and t of lengths m and n respectively, return the minimum window substring of s such that every character in t (including duplicates) is included in the window. If there is no such substring, return the empty string \"\".\n",
    "\n",
    "The testcases will be generated such that the answer is unique.\n",
    "\n",
    " \n",
    "\n",
    "Example 1:\n",
    "\n",
    "Input: s = \"ADOBECODEBANC\", t = \"ABC\"\n",
    "Output: \"BANC\"\n",
    "Explanation: The minimum window substring \"BANC\" includes 'A', 'B', and 'C' from string t.\n",
    "Example 2:\n",
    "\n",
    "Input: s = \"a\", t = \"a\"\n",
    "Output: \"a\"\n",
    "Explanation: The entire string s is the minimum window.\n",
    "Example 3:\n",
    "\n",
    "Input: s = \"a\", t = \"aa\"\n",
    "Output: \"\"\n",
    "Explanation: Both 'a's from t must be included in the window.\n",
    "Since the largest window of s only has one 'a', return empty string.\n",
    " \n",
    "\n",
    "Constraints:\n",
    "\n",
    "m == s.length\n",
    "n == t.length\n",
    "1 <= m, n <= 105\n",
    "s and t consist of uppercase and lowercase English letters.\n",
    " \n",
    "\n",
    "Follow up: Could you find an algorithm that runs in O(m + n) time?"
   ]
  },
  {
   "cell_type": "code",
   "execution_count": null,
   "id": "8404cf9f",
   "metadata": {},
   "outputs": [],
   "source": [
    "# I am thinking of using sliding window.\n",
    "# you have to craate the strinking rule.\n",
    "# Here we can extend all the time and keep track of how many charactors of t in s we have in the current window.\n",
    "\n",
    "# When ever for some charator we get more than what we need, then yeah we can strink ... \n",
    "class Solution:\n",
    "    def minWindow(self, s: str, t: str) -> str:\n",
    "        n, m = len(s), len(t)\n",
    "        start = 0\n",
    "        mini = float('inf')\n",
    "        t_hash, s_hash = {}, {}\n",
    "        min_char = \"\"\n",
    "        for c in t:\n",
    "            t_hash[c] = t_hash.get(c, 0) + 1\n",
    "\n",
    "        def is_greater():\n",
    "            for e, val in t_hash.items():\n",
    "                if e in s_hash:\n",
    "                    # Check any value greater then the needed value if so return True.\n",
    "                    if s_hash[e] > val:\n",
    "                        return True\n",
    "            return False \n",
    "        \n",
    "        def has_enough():\n",
    "            for e, val in t_hash.items():\n",
    "                if e in s_hash:\n",
    "                    # Check any value greater then the needed value if so return True.\n",
    "                    if s_hash[e] < val:\n",
    "                        return False\n",
    "                else: return False\n",
    "            return True \n",
    "        \n",
    "        for end in range(n):\n",
    "            if s[end] in t_hash:\n",
    "                s_hash[s[end]] = s_hash.get(s[end], 0) + 1\n",
    "\n",
    "            # Strink the window until it's not voilating the condition.\n",
    "            while start < n and (s[start] not in t_hash) or is_greater():\n",
    "                # Try to strink the window.\n",
    "                # we can't strink the window when the start char is needed to fulfill t.\n",
    "                if s[start] in t_hash:\n",
    "                    if s_hash[s[start]] > t_hash[s[start]]:\n",
    "                        s_hash[s[start]] -= 1\n",
    "                        start += 1\n",
    "                    else:\n",
    "                        # we can't strink the window.\n",
    "                        break\n",
    "                else:\n",
    "                    start += 1\n",
    "            \n",
    "            # Maintain the min len.\n",
    "            \n",
    "            if has_enough():\n",
    "                if mini > end - start + 1:\n",
    "                    mini = end - start + 1\n",
    "                    min_char = s[start: end+1]\n",
    "\n",
    "        return min_char\n",
    "    \n",
    "# tc - O(n * m)\n",
    "# sc - O(m * 2)"
   ]
  },
  {
   "cell_type": "code",
   "execution_count": 65,
   "id": "79b18d4c",
   "metadata": {},
   "outputs": [
    {
     "data": {
      "text/plain": [
       "'BANC'"
      ]
     },
     "execution_count": 65,
     "metadata": {},
     "output_type": "execute_result"
    }
   ],
   "source": [
    "Solution().minWindow(s = \"ADOBECODEBANC\", t = \"ABC\")"
   ]
  },
  {
   "cell_type": "code",
   "execution_count": 66,
   "id": "8867ea24",
   "metadata": {},
   "outputs": [
    {
     "data": {
      "text/plain": [
       "'a'"
      ]
     },
     "execution_count": 66,
     "metadata": {},
     "output_type": "execute_result"
    }
   ],
   "source": [
    "Solution().minWindow(s = \"a\", t = \"a\")"
   ]
  },
  {
   "cell_type": "code",
   "execution_count": 67,
   "id": "8490c3f9",
   "metadata": {},
   "outputs": [
    {
     "data": {
      "text/plain": [
       "''"
      ]
     },
     "execution_count": 67,
     "metadata": {},
     "output_type": "execute_result"
    }
   ],
   "source": [
    "Solution().minWindow(s = \"a\", t = \"aa\")"
   ]
  },
  {
   "cell_type": "code",
   "execution_count": 68,
   "id": "748b1ba9",
   "metadata": {},
   "outputs": [
    {
     "data": {
      "text/plain": [
       "''"
      ]
     },
     "execution_count": 68,
     "metadata": {},
     "output_type": "execute_result"
    }
   ],
   "source": [
    "Solution().minWindow(s='a', t='b')"
   ]
  },
  {
   "cell_type": "code",
   "execution_count": 69,
   "id": "7a1e6413",
   "metadata": {},
   "outputs": [
    {
     "data": {
      "text/plain": [
       "'a'"
      ]
     },
     "execution_count": 69,
     "metadata": {},
     "output_type": "execute_result"
    }
   ],
   "source": [
    "Solution().minWindow(s = \"ab\", t = \"a\")"
   ]
  },
  {
   "cell_type": "code",
   "execution_count": 70,
   "id": "dbb2e3ee",
   "metadata": {},
   "outputs": [
    {
     "data": {
      "text/plain": [
       "'abbbbbcdd'"
      ]
     },
     "execution_count": 70,
     "metadata": {},
     "output_type": "execute_result"
    }
   ],
   "source": [
    "Solution().minWindow(s=\"aaaaaaaaaaaabbbbbcdd\", t=\"abcdd\")"
   ]
  },
  {
   "cell_type": "code",
   "execution_count": null,
   "id": "74863f90",
   "metadata": {},
   "outputs": [],
   "source": [
    "# MISTAKE: Tracker \n",
    "class Solution:\n",
    "    def minWindow(self, s: str, t: str) -> str:\n",
    "        n, m = len(s), len(t)\n",
    "        start = 0\n",
    "        mini = float('inf')\n",
    "        t_hash, s_hash = {}, {}\n",
    "        min_char = \"\"\n",
    "        for c in t:\n",
    "            t_hash[c] = t_hash.get(c, 0) + 1\n",
    "\n",
    "        def is_greater():\n",
    "            for e, val in t_hash.items():\n",
    "                if e in s_hash:\n",
    "                    # Check any value greater then the needed value if so return True.\n",
    "                    if s_hash[e] > val:\n",
    "                        return True\n",
    "            return False \n",
    "        \n",
    "        def has_enough():\n",
    "            for e, val in t_hash.items():\n",
    "                if e in s_hash:\n",
    "                    # Check any value greater then the needed value if so return True.\n",
    "                    if s_hash[e] < val:\n",
    "                        return False\n",
    "                else: return False\n",
    "            return True \n",
    "        \n",
    "        for end in range(n):\n",
    "            if s[end] in t_hash:\n",
    "                s_hash[s[end]] = s_hash.get(s[end], 0) + 1\n",
    "\n",
    "            # Strink the window until it's not voilating the condition.\n",
    "            while start < n and (s[start] not in t_hash) or is_greater():\n",
    "                # Try to strink the window.\n",
    "                # we can't strink the window when the start char is needed to fulfill t.\n",
    "                if s[start] in t_hash:\n",
    "                    if s_hash[s[start]] > t_hash[s[start]]:\n",
    "                        s_hash[s[start]] -= 1\n",
    "                        start += 1\n",
    "                    else:\n",
    "                        # we can't strink the window.\n",
    "                        break\n",
    "                else:\n",
    "                    start += 1\n",
    "            \n",
    "            # Maintain the min len.\n",
    "            \n",
    "            if has_enough():\n",
    "            # NOTE: MISTAKE: \n",
    "            # I was checking only s_hash == t_hash:\n",
    "            # But its okay if have more also.\n",
    "                if mini > end - start + 1:\n",
    "                    mini = end - start + 1\n",
    "                    min_char = s[start: end+1]\n",
    "\n",
    "        return min_char\n",
    "    \n",
    "# tc - O(n * m)\n",
    "# sc - O(m * 2)"
   ]
  },
  {
   "cell_type": "markdown",
   "id": "5f91c365",
   "metadata": {},
   "source": [
    "# OPtimal solution: tc - O(n + m)\n"
   ]
  },
  {
   "cell_type": "markdown",
   "id": "60d24e50",
   "metadata": {},
   "source": [
    "Intuition:\n",
    "\n",
    "Count the frequency of each character in t → t_hash.\n",
    "\n",
    "Maintain a window [start, end] over s.\n",
    "\n",
    "Keep a window_hash to count characters in the current window.\n",
    "\n",
    "Maintain a variable formed to track how many unique characters in the window meet the required frequency in t.\n",
    "\n",
    "Once formed == required (number of unique chars in t), the current window is valid.\n",
    "\n",
    "Shrink the window from the left while it’s still valid to try to minimize its length.\n",
    "\n",
    "Keep track of the minimum length window found.\n",
    "\n",
    "- Why it’s optimal:\n",
    "\n",
    "Every character in s is visited at most twice (once when extending the window, once when shrinking it).\n",
    "\n",
    "No repeated full scans of t_hash at every step.\n",
    "\n",
    "Time complexity: O(n + m)\n",
    "Space complexity: O(n + m)"
   ]
  },
  {
   "cell_type": "code",
   "execution_count": null,
   "id": "a36c021d",
   "metadata": {},
   "outputs": [],
   "source": [
    "class Solution:\n",
    "    def minWindow(self, s: str, t: str) -> str:\n",
    "        if not s or not t:\n",
    "            return \"\"\n",
    "        \n",
    "        from collections import Counter\n",
    "        \n",
    "        t_hash = Counter(t)\n",
    "        window_hash = {}\n",
    "        \n",
    "        required = len(t_hash)\n",
    "        formed = 0\n",
    "        start, end = 0, 0\n",
    "        ans = float('inf'), None, None  # window length, left, right\n",
    "        \n",
    "        while end < len(s):\n",
    "            char = s[end]\n",
    "            window_hash[char] = window_hash.get(char, 0) + 1\n",
    "            \n",
    "            if char in t_hash and window_hash[char] == t_hash[char]:\n",
    "                formed += 1\n",
    "            \n",
    "            # Shrink from left\n",
    "            while start <= end and formed == required:\n",
    "                char = s[start]\n",
    "                \n",
    "                # Track the minimum. \n",
    "                if end - start + 1 < ans[0]:\n",
    "                    ans = (end - start + 1, start, end)\n",
    "                \n",
    "                window_hash[char] -= 1\n",
    "                if char in t_hash and window_hash[char] < t_hash[char]:\n",
    "                    formed -= 1\n",
    "                \n",
    "                start += 1\n",
    "            \n",
    "            end += 1\n",
    "        \n",
    "        return \"\" if ans[0] == float('inf') else s[ans[1]: ans[2]+1]\n",
    "\n",
    "\n",
    "# tc - O(n + m)\n",
    "# sc - O(n + m)\n",
    "\n",
    "\n",
    "# PATTERN:\n",
    "# Extend always.\n",
    "# Strink :\n",
    "    # Start: When what we want it met. \n",
    "    # Stop: Until what we want is not met.\n",
    "    #   Track inside."
   ]
  },
  {
   "cell_type": "markdown",
   "id": "fecd9b34",
   "metadata": {},
   "source": []
  }
 ],
 "metadata": {
  "kernelspec": {
   "display_name": "3.11.11",
   "language": "python",
   "name": "python3"
  },
  "language_info": {
   "codemirror_mode": {
    "name": "ipython",
    "version": 3
   },
   "file_extension": ".py",
   "mimetype": "text/x-python",
   "name": "python",
   "nbconvert_exporter": "python",
   "pygments_lexer": "ipython3",
   "version": "3.11.11"
  }
 },
 "nbformat": 4,
 "nbformat_minor": 5
}
