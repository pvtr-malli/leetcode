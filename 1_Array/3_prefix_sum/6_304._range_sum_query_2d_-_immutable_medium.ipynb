{
 "cells": [
  {
   "cell_type": "markdown",
   "id": "31f1deb7",
   "metadata": {},
   "source": [
    "Given a 2D matrix matrix, handle multiple queries of the following type:\n",
    "\n",
    "Calculate the sum of the elements of matrix inside the rectangle defined by its upper left corner (row1, col1) and lower right corner (row2, col2).\n",
    "Implement the NumMatrix class:\n",
    "\n",
    "NumMatrix(int[][] matrix) Initializes the object with the integer matrix matrix.\n",
    "int sumRegion(int row1, int col1, int row2, int col2) Returns the sum of the elements of matrix inside the rectangle defined by its upper left corner (row1, col1) and lower right corner (row2, col2).\n",
    "You must design an algorithm where sumRegion works on O(1) time complexity.\n",
    "\n",
    "\n",
    "\n",
    "Example 1:\n",
    "\n",
    "\n",
    "Input\n",
    "[\"NumMatrix\", \"sumRegion\", \"sumRegion\", \"sumRegion\"]\n",
    "[[[[3, 0, 1, 4, 2], [5, 6, 3, 2, 1], [1, 2, 0, 1, 5], [4, 1, 0, 1, 7], [1, 0, 3, 0, 5]]], [2, 1, 4, 3], [1, 1, 2, 2], [1, 2, 2, 4]]\n",
    "Output\n",
    "[null, 8, 11, 12]\n",
    "\n",
    "Explanation\n",
    "NumMatrix numMatrix = new NumMatrix([[3, 0, 1, 4, 2], [5, 6, 3, 2, 1], [1, 2, 0, 1, 5], [4, 1, 0, 1, 7], [1, 0, 3, 0, 5]]);\n",
    "numMatrix.sumRegion(2, 1, 4, 3); // return 8 (i.e sum of the red rectangle)\n",
    "numMatrix.sumRegion(1, 1, 2, 2); // return 11 (i.e sum of the green rectangle)\n",
    "numMatrix.sumRegion(1, 2, 2, 4); // return 12 (i.e sum of the blue rectangle)\n",
    "\n",
    "\n",
    "Constraints:\n",
    "\n",
    "m == matrix.length\n",
    "n == matrix[i].length\n",
    "1 <= m, n <= 200\n",
    "-104 <= matrix[i][j] <= 104\n",
    "0 <= row1 <= row2 < m\n",
    "0 <= col1 <= col2 < n\n",
    "At most 104 calls will be made to sumRegion.\n",
    "\n",
    "\n",
    "https://leetcode.com/problems/range-sum-query-2d-immutable/description/"
   ]
  },
  {
   "cell_type": "code",
   "execution_count": null,
   "id": "764322f3",
   "metadata": {},
   "outputs": [],
   "source": [
    "class NumMatrix:\n",
    "\n",
    "    def __init__(self, matrix: list[list[int]]):\n",
    "        self.matrix = matrix \n",
    "        self.prefix = []\n",
    "\n",
    "        # calculate the each rows prefix sum separately.\n",
    "        for row in range(len(self.matrix)):\n",
    "            r = [self.matrix[row][0]]\n",
    "            for col in range(1, len(self.matrix[0])):\n",
    "                r.append(r[-1] + self.matrix[row][col])\n",
    "            r.append(0)\n",
    "            self.prefix.append(r)\n",
    "\n",
    "        # rowise prefix calculation:\n",
    "        # [[3, 3, 4, 8, 10],\n",
    "        # [5, 11, 14, 16, 17],\n",
    "        # [1, 3, 3, 4, 9],\n",
    "        # [4, 5, 5, 6, 13],\n",
    "        # [1, 1, 4, 4, 9]]\n",
    "\n",
    "        # append 0 at the each end to avoid the -1 index error or checking for it.\n",
    "        #  [[3, 3, 4, 8, 10, 0],\n",
    "        #  [5, 11, 14, 16, 17, 0],\n",
    "        #  [1, 3, 3, 4, 9, 0],\n",
    "        #  [4, 5, 5, 6, 13, 0],\n",
    "        #  [1, 1, 4, 4, 9, 0]]\n",
    "\n",
    "    def sumRegion(self, row1: int, col1: int, row2: int, col2: int) -> int:\n",
    "        # this is just the prefix sum calulation and dealing with it.\n",
    "        # for 1,1,2,2 = the \n",
    "\n",
    "        # starting and ending positions were this.\n",
    "        # [[3, 3, 4, 8, 10],\n",
    "        # [5, [11], 14, 16, 17],\n",
    "        # [1, 3, [3,] 4, 9],\n",
    "        # [4, 5, 5, 6, 13],\n",
    "        # [1, 1, 4, 4, 9]]\n",
    "\n",
    "        # so need to get the sum like (14 - 5 ) to get the needed position sum. + (3 - 1) for the next row sum\n",
    "        # it has to be a for loop over the rows.\n",
    "        s = 0\n",
    "        for row in range(row1, row2 + 1):\n",
    "            s += self.prefix[row][col2] - self.prefix[row][col1 - 1]\n",
    "        return s\n",
    "\n",
    "\n",
    "\n",
    "\n",
    "# tc - O(row) / query\n",
    "# sc - O(n*m)\n",
    "\n",
    "# Your NumMatrix object will be instantiated and called as such:\n",
    "# obj = NumMatrix(matrix)\n",
    "# param_1 = obj.sumRegion(row1,col1,row2,col2)"
   ]
  },
  {
   "cell_type": "code",
   "execution_count": 18,
   "id": "1652ced5",
   "metadata": {},
   "outputs": [],
   "source": [
    "c = NumMatrix([[3, 0, 1, 4, 2], [5, 6, 3, 2, 1], [1, 2, 0, 1, 5], [4, 1, 0, 1, 7], [1, 0, 3, 0, 5]])"
   ]
  },
  {
   "cell_type": "code",
   "execution_count": 19,
   "id": "d2a53dcd",
   "metadata": {},
   "outputs": [
    {
     "data": {
      "text/plain": [
       "[[3, 3, 4, 8, 10, 0],\n",
       " [5, 11, 14, 16, 17, 0],\n",
       " [1, 3, 3, 4, 9, 0],\n",
       " [4, 5, 5, 6, 13, 0],\n",
       " [1, 1, 4, 4, 9, 0]]"
      ]
     },
     "execution_count": 19,
     "metadata": {},
     "output_type": "execute_result"
    }
   ],
   "source": [
    "c.prefix"
   ]
  },
  {
   "cell_type": "code",
   "execution_count": 20,
   "id": "f1b4faaa",
   "metadata": {},
   "outputs": [
    {
     "data": {
      "text/plain": [
       "11"
      ]
     },
     "execution_count": 20,
     "metadata": {},
     "output_type": "execute_result"
    }
   ],
   "source": [
    "c.sumRegion(1,1,2,2)"
   ]
  },
  {
   "cell_type": "code",
   "execution_count": 21,
   "id": "fc04fdbb",
   "metadata": {},
   "outputs": [
    {
     "data": {
      "text/plain": [
       "12"
      ]
     },
     "execution_count": 21,
     "metadata": {},
     "output_type": "execute_result"
    }
   ],
   "source": [
    "c.sumRegion(1,2,2,4)"
   ]
  },
  {
   "cell_type": "code",
   "execution_count": 22,
   "id": "bb10fd99",
   "metadata": {},
   "outputs": [
    {
     "data": {
      "text/plain": [
       "-1"
      ]
     },
     "execution_count": 22,
     "metadata": {},
     "output_type": "execute_result"
    }
   ],
   "source": [
    "# second test case:\n",
    "c = NumMatrix([[-1]])\n",
    "c.sumRegion(0,0,0,0)"
   ]
  },
  {
   "cell_type": "code",
   "execution_count": null,
   "id": "a2c4a54e",
   "metadata": {},
   "outputs": [],
   "source": [
    "# see the notebook for the explanation.\n",
    "\n",
    "class NumMatrix:\n",
    "\n",
    "    def __init__(self, matrix: list[list[int]]):\n",
    "        if not matrix or not matrix[0]:\n",
    "            return\n",
    "\n",
    "        rows, cols = len(matrix), len(matrix[0])\n",
    "        self.prefix = [[0] * (cols + 1) for _ in range(rows + 1)]\n",
    "\n",
    "        for i in range(rows):\n",
    "            for j in range(cols):\n",
    "                self.prefix[i+1][j+1] = (\n",
    "                    self.prefix[i][j+1] # above\n",
    "                    + self.prefix[i+1][j] # side \n",
    "                    - self.prefix[i][j] # diagonal\n",
    "                    + matrix[i][j]  # current cell value\n",
    "                )\n",
    "\n",
    "    def sumRegion(self, row1: int, col1: int, row2: int, col2: int) -> int:\n",
    "        return (\n",
    "            self.prefix[row2+1][col2+1]\n",
    "            - self.prefix[row1][col2+1] # above\n",
    "            - self.prefix[row2+1][col1] # side\n",
    "            + self.prefix[row1][col1] # adding the digonal element.\n",
    "        )\n",
    "\n",
    "\n",
    "\n",
    "# tc - O(n*m) to prepare the prefix matrix.\n",
    "# tc - O(1) / query \n",
    "\n",
    "# sc - O(n*m)"
   ]
  }
 ],
 "metadata": {
  "kernelspec": {
   "display_name": "3.11.11",
   "language": "python",
   "name": "python3"
  },
  "language_info": {
   "codemirror_mode": {
    "name": "ipython",
    "version": 3
   },
   "file_extension": ".py",
   "mimetype": "text/x-python",
   "name": "python",
   "nbconvert_exporter": "python",
   "pygments_lexer": "ipython3",
   "version": "3.11.11"
  }
 },
 "nbformat": 4,
 "nbformat_minor": 5
}
