{
 "cells": [
  {
   "cell_type": "markdown",
   "id": "24bda225",
   "metadata": {},
   "source": [
    "Given an integer array nums, return an array answer such that answer[i] is equal to the product of all the elements of nums except nums[i].\n",
    "\n",
    "The product of any prefix or suffix of nums is guaranteed to fit in a 32-bit integer.\n",
    "\n",
    "You must write an algorithm that runs in O(n) time and without using the division operation.\n",
    "\n",
    " \n",
    "\n",
    "Example 1:\n",
    "\n",
    "Input: nums = [1,2,3,4]\n",
    "Output: [24,12,8,6]\n",
    "Example 2:\n",
    "\n",
    "Input: nums = [-1,1,0,-3,3]\n",
    "Output: [0,0,9,0,0]\n",
    " \n",
    "\n",
    "Constraints:\n",
    "\n",
    "2 <= nums.length <= 105\n",
    "-30 <= nums[i] <= 30\n",
    "The input is generated such that answer[i] is guaranteed to fit in a 32-bit integer.\n",
    " \n",
    "\n",
    "Follow up: Can you solve the problem in O(1) extra space complexity? (The output array does not count as extra space for space complexity analysis.)"
   ]
  },
  {
   "cell_type": "code",
   "execution_count": 1,
   "id": "39ee0659",
   "metadata": {},
   "outputs": [],
   "source": [
    "class Solution:\n",
    "    def productExceptSelf(self, nums: list[int]) -> list[int]:\n",
    "        # calculate prefix and sufix product.\n",
    "        prefix = [1] \n",
    "        sufix = [1] * len(nums)\n",
    "    \n",
    "        for ind in range(1, len(nums)):\n",
    "            prefix.append(prefix[-1] * nums[ind - 1])\n",
    "\n",
    "        for ind in range(len(nums) - 2 , -1, -1):\n",
    "            sufix[ind] = (sufix[ind + 1] * nums[ind + 1])\n",
    "\n",
    "        for i in range(len(nums)):\n",
    "            # for the given ind. the product wihtout including itself is. the left product * right prod.\n",
    "            # left produt will be there in prefix[ind - 1]\n",
    "            # right product will be there in sufix[ind + 1]\n",
    "            nums[i] = prefix[i] * sufix[i]\n",
    "        \n",
    "        return nums\n",
    "    \n",
    "# tc - O(n)[prefix] + O(n)[suffix] + O(n)[for loop] = O(n)\n",
    "# sc - O(n)[prefix] + O(n)[suffix] = O(n)\n",
    "\n"
   ]
  },
  {
   "cell_type": "code",
   "execution_count": 2,
   "id": "f088463f",
   "metadata": {},
   "outputs": [
    {
     "data": {
      "text/plain": [
       "[24, 12, 8, 6]"
      ]
     },
     "execution_count": 2,
     "metadata": {},
     "output_type": "execute_result"
    }
   ],
   "source": [
    "Solution().productExceptSelf([1,2,3,4])"
   ]
  },
  {
   "cell_type": "markdown",
   "id": "ead18b43",
   "metadata": {},
   "source": [
    "### Follow up: Can you solve the problem in O(1) extra space complexity? (The output array does not count as extra space for space complexity analysis.)"
   ]
  },
  {
   "cell_type": "code",
   "execution_count": null,
   "id": "91733a33",
   "metadata": {},
   "outputs": [],
   "source": [
    "class Solution:\n",
    "    def productExceptSelf(self, nums: List[int]) -> List[int]:\n",
    "        n = len(nums)\n",
    "        prefix_product = 1\n",
    "        postfix_product = 1\n",
    "        result = [0]*n\n",
    "\n",
    "        # prefix product, \n",
    "        for i in range(n):\n",
    "            result[i] = prefix_product\n",
    "            prefix_product *= nums[i]\n",
    "\n",
    "        for i in range(n-1,-1,-1):\n",
    "            result[i] *= postfix_product\n",
    "            postfix_product *= nums[i]\n",
    "\n",
    "        return result\n",
    "    \n",
    "# tc - O(n)[prefix] + O(n)[suffix]  = O(n)\n",
    "# sc - O(1)\n"
   ]
  },
  {
   "cell_type": "code",
   "execution_count": null,
   "id": "60be25b8",
   "metadata": {},
   "outputs": [],
   "source": [
    "# Input: nums = [1, 2, 3, 4]\n",
    "\n",
    "# Step 1: Forward Pass (Prefix Product)\n",
    "# -------------------------------------\n",
    "# i    nums[i]    prefix_product    result[i] after forward pass   prefix_product(after)\n",
    "# 0      1             1                     1                          1\n",
    "# 1      2             1                     1                          2\n",
    "# 2      3             2                     2                          6\n",
    "# 3      4             6                     6                          24\n",
    "\n",
    "# Result after forward pass: \n",
    "# [1, 1, 2, 6]\n",
    "# [1, 2, 3, 4]\n",
    "# Step 2: Backward Pass (Postfix Product)\n",
    "# ---------------------------------------\n",
    "# i    nums[i]    postfix_product   result[i] after backward pass\n",
    "# 3      4             1                    6 (6 * 1)\n",
    "# 2      3             4                    8 (2 * 4)\n",
    "# 1      2             12                  12 (1 * 12)\n",
    "# 0      1             24                  24 (1 * 24)\n",
    "\n",
    "# Final Output: [24, 12, 8, 6]\n"
   ]
  }
 ],
 "metadata": {
  "kernelspec": {
   "display_name": "3.11.11",
   "language": "python",
   "name": "python3"
  },
  "language_info": {
   "codemirror_mode": {
    "name": "ipython",
    "version": 3
   },
   "file_extension": ".py",
   "mimetype": "text/x-python",
   "name": "python",
   "nbconvert_exporter": "python",
   "pygments_lexer": "ipython3",
   "version": "3.11.11"
  }
 },
 "nbformat": 4,
 "nbformat_minor": 5
}
