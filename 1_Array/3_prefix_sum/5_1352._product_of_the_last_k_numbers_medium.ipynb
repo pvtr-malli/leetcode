{
 "cells": [
  {
   "cell_type": "markdown",
   "id": "8388d8b8",
   "metadata": {},
   "source": [
    "1352. Product of the Last K Numbers\n",
    "Medium\n",
    "Topics\n",
    "premium lock icon\n",
    "Companies\n",
    "Hint\n",
    "Design an algorithm that accepts a stream of integers and retrieves the product of the last k integers of the stream.\n",
    "\n",
    "Implement the ProductOfNumbers class:\n",
    "\n",
    "ProductOfNumbers() Initializes the object with an empty stream.\n",
    "void add(int num) Appends the integer num to the stream.\n",
    "int getProduct(int k) Returns the product of the last k numbers in the current list. You can assume that always the current list has at least k numbers.\n",
    "The test cases are generated so that, at any time, the product of any contiguous sequence of numbers will fit into a single 32-bit integer without overflowing.\n",
    "\n",
    " \n",
    "\n",
    "Example:\n",
    "\n",
    "Input\n",
    "[\"ProductOfNumbers\",\"add\",\"add\",\"add\",\"add\",\"add\",\"getProduct\",\"getProduct\",\"getProduct\",\"add\",\"getProduct\"]\n",
    "[[],[3],[0],[2],[5],[4],[2],[3],[4],[8],[2]]\n",
    "\n",
    "Output\n",
    "[null,null,null,null,null,null,20,40,0,null,32]\n",
    "\n",
    "Explanation\n",
    "ProductOfNumbers productOfNumbers = new ProductOfNumbers();\n",
    "productOfNumbers.add(3);        // [3]\n",
    "productOfNumbers.add(0);        // [3,0]\n",
    "productOfNumbers.add(2);        // [3,0,2]\n",
    "productOfNumbers.add(5);        // [3,0,2,5]\n",
    "productOfNumbers.add(4);        // [3,0,2,5,4]\n",
    "productOfNumbers.getProduct(2); // return 20. The product of the last 2 numbers is 5 * 4 = 20\n",
    "productOfNumbers.getProduct(3); // return 40. The product of the last 3 numbers is 2 * 5 * 4 = 40\n",
    "productOfNumbers.getProduct(4); // return 0. The product of the last 4 numbers is 0 * 2 * 5 * 4 = 0\n",
    "productOfNumbers.add(8);        // [3,0,2,5,4,8]\n",
    "productOfNumbers.getProduct(2); // return 32. The product of the last 2 numbers is 4 * 8 = 32 \n",
    " \n",
    "\n",
    "Constraints:\n",
    "\n",
    "0 <= num <= 100\n",
    "1 <= k <= 4 * 104\n",
    "At most 4 * 104 calls will be made to add and getProduct.\n",
    "The product of the stream at any point in time will fit in a 32-bit integer.\n",
    " \n",
    "\n",
    "Follow-up: Can you implement both GetProduct and Add to work in O(1) time complexity instead of O(k) time complexity?"
   ]
  },
  {
   "cell_type": "code",
   "execution_count": null,
   "id": "660672ac",
   "metadata": {},
   "outputs": [],
   "source": [
    "# gonna solve in O(1) time only. \n",
    "class ProductOfNumbers:\n",
    "\n",
    "    def __init__(self):\n",
    "        self.prefix = [1]\n",
    "        self.zero_ind = -1\n",
    "        self.count = 0\n",
    "\n",
    "    def add(self, num: int) -> None:\n",
    "        self.count += 1\n",
    "\n",
    "        # if the number is 0, then this will make all the comming values as zero. \n",
    "        # so cacel that.\n",
    "        if num == 0:\n",
    "            self.prefix = [1]\n",
    "            self.zero_ind = self.count - 1\n",
    "        else:\n",
    "            self.prefix.append(self.prefix[-1] * num) # maintain the prefix stream.\n",
    "\n",
    "    def getProduct(self, k: int) -> int:\n",
    "        # if the comming index is less the zero ind, then the ans is zero.\n",
    "        # NOTE: how to make this condition work - revise\n",
    "        # so we need k elements from the back.\n",
    "        # so the starting index would be -- \n",
    "        starting_index = self.count - k\n",
    "        if starting_index <= self.zero_ind:\n",
    "            return 0\n",
    "        return self.prefix[-1] // self.prefix[-(k + 1)]\n",
    "\n",
    "\n",
    "# Your ProductOfNumbers object will be instantiated and called as such:\n",
    "# obj = ProductOfNumbers()\n",
    "# obj.add(num)\n",
    "# param_2 = obj.getProduct(k)\n",
    "\n",
    "\n",
    "\n",
    "# tc - O(1) for both the functions\n",
    "# sc - O(n) for storing prefix\n"
   ]
  },
  {
   "cell_type": "code",
   "execution_count": 4,
   "id": "ff4f49ff",
   "metadata": {},
   "outputs": [],
   "source": [
    "o = ProductOfNumbers()\n",
    "o.add(3)\n",
    "o.add(0)\n",
    "o.add(2)\n",
    "o.add(5)\n",
    "o.add(4)"
   ]
  },
  {
   "cell_type": "code",
   "execution_count": 5,
   "id": "4bef56b8",
   "metadata": {},
   "outputs": [
    {
     "data": {
      "text/plain": [
       "[1, 2, 10, 40]"
      ]
     },
     "execution_count": 5,
     "metadata": {},
     "output_type": "execute_result"
    }
   ],
   "source": [
    "o.prefix"
   ]
  },
  {
   "cell_type": "code",
   "execution_count": 6,
   "id": "3ade93ae",
   "metadata": {},
   "outputs": [
    {
     "data": {
      "text/plain": [
       "40"
      ]
     },
     "execution_count": 6,
     "metadata": {},
     "output_type": "execute_result"
    }
   ],
   "source": [
    "o.getProduct(3\n",
    "             )"
   ]
  },
  {
   "cell_type": "code",
   "execution_count": 7,
   "id": "3675987b",
   "metadata": {},
   "outputs": [
    {
     "data": {
      "text/plain": [
       "0"
      ]
     },
     "execution_count": 7,
     "metadata": {},
     "output_type": "execute_result"
    }
   ],
   "source": [
    "o.getProduct(4)"
   ]
  },
  {
   "cell_type": "code",
   "execution_count": 8,
   "id": "1396532b",
   "metadata": {},
   "outputs": [],
   "source": [
    "# 2ed test case:\n",
    "\n",
    "o = ProductOfNumbers()\n",
    "o.add(0)\n",
    "o.add(0)\n",
    "o.add(9)\n"
   ]
  },
  {
   "cell_type": "code",
   "execution_count": 9,
   "id": "6cb98f17",
   "metadata": {},
   "outputs": [
    {
     "data": {
      "text/plain": [
       "[1, 9]"
      ]
     },
     "execution_count": 9,
     "metadata": {},
     "output_type": "execute_result"
    }
   ],
   "source": [
    "o.prefix"
   ]
  },
  {
   "cell_type": "code",
   "execution_count": 10,
   "id": "75997eb9",
   "metadata": {},
   "outputs": [
    {
     "data": {
      "text/plain": [
       "3"
      ]
     },
     "execution_count": 10,
     "metadata": {},
     "output_type": "execute_result"
    }
   ],
   "source": [
    "o.count"
   ]
  },
  {
   "cell_type": "code",
   "execution_count": 11,
   "id": "dd342093",
   "metadata": {},
   "outputs": [
    {
     "data": {
      "text/plain": [
       "1"
      ]
     },
     "execution_count": 11,
     "metadata": {},
     "output_type": "execute_result"
    }
   ],
   "source": [
    "o.zero_ind"
   ]
  },
  {
   "cell_type": "code",
   "execution_count": 12,
   "id": "a552f39a",
   "metadata": {},
   "outputs": [
    {
     "data": {
      "text/plain": [
       "0"
      ]
     },
     "execution_count": 12,
     "metadata": {},
     "output_type": "execute_result"
    }
   ],
   "source": [
    "o.getProduct(3)"
   ]
  },
  {
   "cell_type": "code",
   "execution_count": null,
   "id": "f28c2670",
   "metadata": {},
   "outputs": [],
   "source": []
  }
 ],
 "metadata": {
  "kernelspec": {
   "display_name": "3.11.11",
   "language": "python",
   "name": "python3"
  },
  "language_info": {
   "codemirror_mode": {
    "name": "ipython",
    "version": 3
   },
   "file_extension": ".py",
   "mimetype": "text/x-python",
   "name": "python",
   "nbconvert_exporter": "python",
   "pygments_lexer": "ipython3",
   "version": "3.11.11"
  }
 },
 "nbformat": 4,
 "nbformat_minor": 5
}
