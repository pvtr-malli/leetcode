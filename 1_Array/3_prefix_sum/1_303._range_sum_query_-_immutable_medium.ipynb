{
 "cells": [
  {
   "cell_type": "markdown",
   "id": "083e21d0",
   "metadata": {},
   "source": [
    "Given an integer array nums, handle multiple queries of the following type:\n",
    "\n",
    "Calculate the sum of the elements of nums between indices left and right inclusive where left <= right.\n",
    "Implement the NumArray class:\n",
    "\n",
    "NumArray(int[] nums) Initializes the object with the integer array nums.\n",
    "int sumRange(int left, int right) Returns the sum of the elements of nums between indices left and right inclusive (i.e. nums[left] + nums[left + 1] + ... + nums[right]).\n",
    " \n",
    "\n",
    "Example 1:\n",
    "\n",
    "Input\n",
    "[\"NumArray\", \"sumRange\", \"sumRange\", \"sumRange\"]\n",
    "[[[-2, 0, 3, -5, 2, -1]], [0, 2], [2, 5], [0, 5]]\n",
    "Output\n",
    "[null, 1, -1, -3]\n",
    "\n",
    "Explanation\n",
    "NumArray numArray = new NumArray([-2, 0, 3, -5, 2, -1]);\n",
    "numArray.sumRange(0, 2); // return (-2) + 0 + 3 = 1\n",
    "numArray.sumRange(2, 5); // return 3 + (-5) + 2 + (-1) = -1\n",
    "numArray.sumRange(0, 5); // return (-2) + 0 + 3 + (-5) + 2 + (-1) = -3\n",
    " \n",
    "\n",
    "Constraints:\n",
    "\n",
    "1 <= nums.length <= 104\n",
    "-105 <= nums[i] <= 105\n",
    "0 <= left <= right < nums.length\n",
    "At most 104 calls will be made to sumRange."
   ]
  },
  {
   "cell_type": "code",
   "execution_count": null,
   "id": "088e0700",
   "metadata": {},
   "outputs": [],
   "source": [
    "class NumArray:\n",
    "\n",
    "    def __init__(self, nums: list[int]):\n",
    "        self.nums = nums  # [-2, 0, 3, -5, 2, -1]\n",
    "        prefix_sum = [self.nums[0]]\n",
    "        for i in range(1, len(self.nums)):\n",
    "            prefix_sum.append(prefix_sum[-1] + self.nums[i])\n",
    "        \n",
    "        self.ps = prefix_sum # [-2, -2, 1, -4, -2, -3]\n",
    "\n",
    "\n",
    "\n",
    "    def sumRange(self, left: int, right: int) -> int:\n",
    "        # when the left is zero. the prefix sum ind will be having the sum upto that index.\n",
    "        if left == 0:  # [0,2] == the second index will be having hte sum from 0 - 2.\n",
    "            return self.ps[right]\n",
    "        \n",
    "        # if a range inbwt. \n",
    "        # sum upto right index - sum upto before left ind[not part of the window].\n",
    "        # [-2, 0, [3, -5, 2, -1]] - we want this sum\n",
    "        # [-2, -2, 1, -4, -2, [-3]] - having the sum from 0 - 5 . \n",
    "        # we dont want 0 - 1. so remove 0 - 1 sum from this sum. \n",
    "        # 0 - 1 sum is nothing but [-2, [-2], 1, -4, -2, -3]]\n",
    "        return self.ps[right] - self.ps[left - 1]\n",
    "\n",
    "\n",
    "# tc - O(n)\n",
    "# sc - O(n)\n",
    "\n",
    "# sumarray function O(1)\n",
    "\n",
    "# Your NumArray object will be instantiated and called as such:\n",
    "# obj = NumArray(nums)\n",
    "# param_1 = obj.sumRange(left,right)"
   ]
  },
  {
   "cell_type": "code",
   "execution_count": 2,
   "id": "326ee068",
   "metadata": {},
   "outputs": [],
   "source": [
    "a = NumArray([-2, 0, 3, -5, 2, -1])"
   ]
  },
  {
   "cell_type": "code",
   "execution_count": 3,
   "id": "5f2c2e1f",
   "metadata": {},
   "outputs": [
    {
     "data": {
      "text/plain": [
       "1"
      ]
     },
     "execution_count": 3,
     "metadata": {},
     "output_type": "execute_result"
    }
   ],
   "source": [
    "a.sumRange(0,2)"
   ]
  },
  {
   "cell_type": "code",
   "execution_count": 4,
   "id": "ceec961e",
   "metadata": {},
   "outputs": [
    {
     "data": {
      "text/plain": [
       "-1"
      ]
     },
     "execution_count": 4,
     "metadata": {},
     "output_type": "execute_result"
    }
   ],
   "source": [
    "a.sumRange(2,5)"
   ]
  },
  {
   "cell_type": "code",
   "execution_count": 5,
   "id": "a9ecee57",
   "metadata": {},
   "outputs": [
    {
     "data": {
      "text/plain": [
       "-3"
      ]
     },
     "execution_count": 5,
     "metadata": {},
     "output_type": "execute_result"
    }
   ],
   "source": [
    "a.sumRange(0,5)"
   ]
  },
  {
   "cell_type": "code",
   "execution_count": null,
   "id": "f51e3724",
   "metadata": {},
   "outputs": [],
   "source": []
  }
 ],
 "metadata": {
  "kernelspec": {
   "display_name": "3.11.11",
   "language": "python",
   "name": "python3"
  },
  "language_info": {
   "codemirror_mode": {
    "name": "ipython",
    "version": 3
   },
   "file_extension": ".py",
   "mimetype": "text/x-python",
   "name": "python",
   "nbconvert_exporter": "python",
   "pygments_lexer": "ipython3",
   "version": "3.11.11"
  }
 },
 "nbformat": 4,
 "nbformat_minor": 5
}
