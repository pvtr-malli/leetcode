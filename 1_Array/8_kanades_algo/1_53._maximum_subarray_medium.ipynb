{
 "cells": [
  {
   "cell_type": "markdown",
   "id": "56326741",
   "metadata": {},
   "source": [
    "Given an integer array nums, find the subarray with the largest sum, and return its sum.\n",
    "\n",
    " \n",
    "\n",
    "Example 1:\n",
    "\n",
    "Input: nums = [-2,1,-3,4,-1,2,1,-5,4]\n",
    "Output: 6\n",
    "Explanation: The subarray [4,-1,2,1] has the largest sum 6.\n",
    "Example 2:\n",
    "\n",
    "Input: nums = [1]\n",
    "Output: 1\n",
    "Explanation: The subarray [1] has the largest sum 1.\n",
    "Example 3:\n",
    "\n",
    "Input: nums = [5,4,-1,7,8]\n",
    "Output: 23\n",
    "Explanation: The subarray [5,4,-1,7,8] has the largest sum 23.\n",
    " \n",
    "\n",
    "Constraints:\n",
    "\n",
    "1 <= nums.length <= 105\n",
    "-104 <= nums[i] <= 104\n",
    " \n",
    "\n",
    "Follow up: If you have figured out the O(n) solution, try coding another solution using the divide and conquer approach, which is more subtle."
   ]
  },
  {
   "cell_type": "code",
   "execution_count": null,
   "id": "520adce8",
   "metadata": {},
   "outputs": [],
   "source": [
    "# brute force \n",
    "\n",
    "# to get all the subarrays\n",
    "def all_subarrays(arr):\n",
    "    n = len(arr)\n",
    "    result = []\n",
    "\n",
    "    for i in range(n):          # start index\n",
    "        for j in range(i, n):   # end index\n",
    "            sub = arr[i:j+1]\n",
    "            # append all the values, each endpoint is a sub array.\n",
    "            result.append(sub)\n",
    "\n",
    "    return result\n",
    "\n",
    "\n",
    "# to get all the subarray sum and track the maximum.\n",
    "class Solution:\n",
    "    def maxSubArray(self, nums):\n",
    "        max_sum = float('-inf')\n",
    "        n = len(nums)\n",
    "\n",
    "        for i in range(n):\n",
    "            current_sum = 0\n",
    "            for j in range(i, n):\n",
    "                current_sum += nums[j]\n",
    "                max_sum = max(max_sum, current_sum)\n",
    "\n",
    "        return max_sum\n"
   ]
  },
  {
   "cell_type": "code",
   "execution_count": 11,
   "id": "262d6ffe",
   "metadata": {},
   "outputs": [
    {
     "data": {
      "text/plain": [
       "6"
      ]
     },
     "execution_count": 11,
     "metadata": {},
     "output_type": "execute_result"
    }
   ],
   "source": [
    "Solution().maxSubArray(nums = [-2,1,-3,4,-1,2,1,-5,4])"
   ]
  },
  {
   "cell_type": "code",
   "execution_count": null,
   "id": "7c5293a2",
   "metadata": {},
   "outputs": [],
   "source": [
    "class Solution:\n",
    "    def maxSubArray(self,nums):\n",
    "        max_sum = float('-inf')\n",
    "        current_sum = 0\n",
    "\n",
    "        for num in nums:\n",
    "            current_sum = max(num, current_sum + num)   # to leave the negative values back, always update the current sum to max.\n",
    "            max_sum = max(max_sum, current_sum)\n",
    "            print(num)\n",
    "            print(current_sum, max_sum)\n",
    "        \n",
    "        return max_sum\n",
    "    \n",
    "# tc - O(n)\n",
    "# sc - O(1) \n",
    "\n",
    "\n",
    "# this works with teh all negative values too. \n",
    "# because the minmimum negative value will be tracked down to the end.\n"
   ]
  },
  {
   "cell_type": "code",
   "execution_count": 7,
   "id": "6b7d2349",
   "metadata": {},
   "outputs": [
    {
     "name": "stdout",
     "output_type": "stream",
     "text": [
      "-2\n",
      "-2 -2\n",
      "1\n",
      "1 1\n",
      "-3\n",
      "-2 1\n",
      "4\n",
      "4 4\n",
      "-1\n",
      "3 4\n",
      "2\n",
      "5 5\n",
      "1\n",
      "6 6\n",
      "-5\n",
      "1 6\n",
      "4\n",
      "5 6\n"
     ]
    },
    {
     "data": {
      "text/plain": [
       "6"
      ]
     },
     "execution_count": 7,
     "metadata": {},
     "output_type": "execute_result"
    }
   ],
   "source": [
    "Solution().maxSubArray(nums = [-2,1,-3,4,-1,2,1,-5,4])"
   ]
  },
  {
   "cell_type": "code",
   "execution_count": null,
   "id": "43976f83",
   "metadata": {},
   "outputs": [],
   "source": [
    "class Solution:\n",
    "    def maxSubArray(self, a):\n",
    "        max_sum = curr_sum = a[0]\n",
    "        start = end = temp_start = 0\n",
    "\n",
    "        for i in range(1, len(a)):\n",
    "            if curr_sum + a[i] < a[i]:\n",
    "                curr_sum = a[i]\n",
    "                temp_start = i\n",
    "            else:\n",
    "                curr_sum += a[i]\n",
    "\n",
    "            if curr_sum > max_sum:\n",
    "                max_sum = curr_sum\n",
    "                start = temp_start\n",
    "                end = i\n",
    "\n",
    "        return max_sum, a[start:end+1]\n"
   ]
  }
 ],
 "metadata": {
  "kernelspec": {
   "display_name": "3.11.11",
   "language": "python",
   "name": "python3"
  },
  "language_info": {
   "codemirror_mode": {
    "name": "ipython",
    "version": 3
   },
   "file_extension": ".py",
   "mimetype": "text/x-python",
   "name": "python",
   "nbconvert_exporter": "python",
   "pygments_lexer": "ipython3",
   "version": "3.11.11"
  }
 },
 "nbformat": 4,
 "nbformat_minor": 5
}
