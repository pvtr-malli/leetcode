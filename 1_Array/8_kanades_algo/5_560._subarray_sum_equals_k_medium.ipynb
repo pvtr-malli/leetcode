{
 "cells": [
  {
   "cell_type": "markdown",
   "id": "a71ed403",
   "metadata": {},
   "source": [
    "Given an array of integers nums and an integer k, return the total number of subarrays whose sum equals to k.\n",
    "\n",
    "A subarray is a contiguous non-empty sequence of elements within an array.\n",
    "\n",
    " \n",
    "\n",
    "Example 1:\n",
    "\n",
    "Input: nums = [1,1,1], k = 2\n",
    "Output: 2\n",
    "Example 2:\n",
    "\n",
    "Input: nums = [1,2,3], k = 3\n",
    "Output: 2\n",
    " \n",
    "\n",
    "Constraints:\n",
    "\n",
    "1 <= nums.length <= 2 * 104\n",
    "-1000 <= nums[i] <= 1000\n",
    "-107 <= k <= 107"
   ]
  },
  {
   "cell_type": "code",
   "execution_count": 4,
   "id": "9843d73b",
   "metadata": {},
   "outputs": [],
   "source": [
    "class Solution:\n",
    "    def subarraySum(self, nums: list[int], k: int) -> int:\n",
    "        # prefix sum. here I can find the going sum, but hwo to find the inbwt array.\n",
    "        # ex: [1,1,1] - here i can find the [[1,1], 1] array but [1, [1,1]] how to find this ...\n",
    "        # so, need a has memory of what I have seen in the past.\n",
    "        h = {}\n",
    "        cur_sum = 0\n",
    "        count = 0 \n",
    "        for ind, ele in enumerate(nums):\n",
    "            cur_sum += ele\n",
    "            if cur_sum == k:\n",
    "                count += 1\n",
    "                \n",
    "            if (cur_sum - k) in h:\n",
    "                count += 1\n",
    "            else:\n",
    "                h[cur_sum] = ind\n",
    "        return count"
   ]
  },
  {
   "cell_type": "markdown",
   "id": "78cc85dd",
   "metadata": {},
   "source": [
    "- this fails to track the frequencies of each count.... need to track to get the correct count."
   ]
  },
  {
   "cell_type": "code",
   "execution_count": null,
   "id": "4e3eefe7",
   "metadata": {},
   "outputs": [],
   "source": [
    "from collections import defaultdict\n",
    "\n",
    "class Solution:\n",
    "    \"\"\"\n",
    "    [1,1,1,[2]], k = 3 .... to check the inbwt k subarrays. \n",
    "    when I am at index 4.. prefix sum will be 5. So if there was a array whos sum is 5 - 3... \n",
    "    then there is a subarray inbwt having sum k. isn't it ? because (prefix_sum - k) + k = prefix_sum\n",
    "\n",
    "    # that is the core logic to track all the prefis sums, and check for prefix_sum - k.. if so add its frequency...\n",
    "    \"\"\" \n",
    "    def subarraySum(self, nums: list[int], k: int) -> int:\n",
    "        prefix_counts = defaultdict(int)\n",
    "        prefix_counts[0] = 1  # very important to count subarrays starting at index 0\n",
    "        # this is for the target sum, when I get the sum as k. k - k is 0. so to track the count of it this the place.\n",
    "        cur_sum = 0\n",
    "        count = 0\n",
    "        \n",
    "        for num in nums:\n",
    "            cur_sum += num\n",
    "            # if (cur_sum - k) in prefix_counts: - no need to check since default dict\n",
    "            count += prefix_counts[cur_sum - k]\n",
    "            prefix_counts[cur_sum] += 1\n",
    "            \n",
    "        return count\n",
    "\n",
    "\n",
    "# tc - O(n)\n",
    "# sc - O(n)\n"
   ]
  },
  {
   "cell_type": "code",
   "execution_count": 8,
   "id": "3ad9cf9e",
   "metadata": {},
   "outputs": [
    {
     "data": {
      "text/plain": [
       "2"
      ]
     },
     "execution_count": 8,
     "metadata": {},
     "output_type": "execute_result"
    }
   ],
   "source": [
    "Solution().subarraySum(nums = [1,1,1], k = 2)"
   ]
  },
  {
   "cell_type": "code",
   "execution_count": 9,
   "id": "a25a71f2",
   "metadata": {},
   "outputs": [
    {
     "data": {
      "text/plain": [
       "4"
      ]
     },
     "execution_count": 9,
     "metadata": {},
     "output_type": "execute_result"
    }
   ],
   "source": [
    "Solution().subarraySum([1,2,1,2,1], k=3)"
   ]
  },
  {
   "cell_type": "markdown",
   "id": "2078342c",
   "metadata": {},
   "source": [
    "| Index (q) | num | cur\\_sum (prefix\\[q]) | cur\\_sum - k | prefix\\_counts\\[cur\\_sum - k] | count |\n",
    "| --------- | --- | --------------------- | ------------ | ----------------------------- | ----- |\n",
    "| 0         | 1   | 1                     | -2           | 0                             | 0     |\n",
    "| 1         | 2   | 3                     | 0            | 1                             | 1     |\n",
    "| 2         | 3   | 6                     | 3            | 1                             | 2     |\n"
   ]
  },
  {
   "cell_type": "code",
   "execution_count": null,
   "id": "62e3214b",
   "metadata": {},
   "outputs": [],
   "source": []
  }
 ],
 "metadata": {
  "kernelspec": {
   "display_name": "3.11.11",
   "language": "python",
   "name": "python3"
  },
  "language_info": {
   "codemirror_mode": {
    "name": "ipython",
    "version": 3
   },
   "file_extension": ".py",
   "mimetype": "text/x-python",
   "name": "python",
   "nbconvert_exporter": "python",
   "pygments_lexer": "ipython3",
   "version": "3.11.11"
  }
 },
 "nbformat": 4,
 "nbformat_minor": 5
}
