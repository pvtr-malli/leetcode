{
 "cells": [
  {
   "cell_type": "markdown",
   "id": "fb75fdd1",
   "metadata": {},
   "source": [
    "Given an array of integers, return the maximum sum for a non-empty subarray (contiguous elements) with at most one element deletion. In other words, you want to choose a subarray and optionally delete one element from it so that there is still at least one element left and the sum of the remaining elements is maximum possible.\n",
    "\n",
    "Note that the subarray needs to be non-empty after deleting one element.\n",
    "\n",
    " \n",
    "\n",
    "Example 1:\n",
    "\n",
    "Input: arr = [1,-2,0,3]\n",
    "Output: 4\n",
    "Explanation: Because we can choose [1, -2, 0, 3] and drop -2, thus the subarray [1, 0, 3] becomes the maximum value.\n",
    "Example 2:\n",
    "\n",
    "Input: arr = [1,-2,-2,3]\n",
    "Output: 3\n",
    "Explanation: We just choose [3] and it's the maximum sum.\n",
    "Example 3:\n",
    "\n",
    "Input: arr = [-1,-1,-1,-1]\n",
    "Output: -1\n",
    "Explanation: The final subarray needs to be non-empty. You can't choose [-1] and delete -1 from it, then get an empty subarray to make the sum equals to 0.\n",
    " \n",
    "\n",
    "Constraints:\n",
    "\n",
    "1 <= arr.length <= 105\n",
    "-104 <= arr[i] <= 104"
   ]
  },
  {
   "cell_type": "code",
   "execution_count": null,
   "id": "10771d9e",
   "metadata": {},
   "outputs": [],
   "source": [
    "# okay will use kadanes algorithm little switched. ...\n",
    "# while get a numbert what can we do\n",
    "#   delete the current one -- means dont count it.\n",
    "        # if not already one deleted.\n",
    "#   take the current one. \n",
    "\n",
    "# so keep track of the regular max sum tracker. \n",
    "# and keep  track of one_del_max_sum tracker.. this will delete the current element if the the current element makes the cur_sum to go down,\n",
    "# If we haven’t deleted yet, maybe now is a good time to delete\n",
    "\n",
    "# If we already deleted, just keep going\n",
    "\n",
    "# which means one_del = max(regular_sum, one_del + arr[i])   : regular_sum - could be having the already one deleted sum\n"
   ]
  },
  {
   "cell_type": "markdown",
   "id": "b0e780ff",
   "metadata": {},
   "source": [
    "Let's decode both terms:\n",
    "1. no_del\n",
    "This represents the maximum sum ending at the previous index (i-1) without any deletion.\n",
    "\n",
    "So max(no_del, ...) means:\n",
    "➡️ What if we delete arr[i] itself?\n",
    "This is like skipping arr[i], and just taking the best subarray ending at i-1 with no deletions so far.\n",
    "\n",
    "📌 Example:\n",
    "Suppose arr[i] = -5 and no_del = 7\n",
    "Then deleting arr[i] gives a valid sum of 7 ending at index i.\n",
    "\n",
    "2. one_del + arr[i]\n",
    "This represents the case where:\n",
    "\n",
    "We have already used the deletion earlier (before i), and\n",
    "\n",
    "We are extending the subarray by adding arr[i] now.\n",
    "\n",
    "So it's:\n",
    "➡️ \"Continue the current subarray where a deletion already happened, and now just add arr[i] to it.\"\n",
    "\n",
    "📌 Example:\n",
    "one_del = 3 and arr[i] = 2\n",
    "Then the updated sum becomes 5."
   ]
  },
  {
   "cell_type": "code",
   "execution_count": null,
   "id": "0dc8d5bd",
   "metadata": {},
   "outputs": [],
   "source": [
    "class Solution:\n",
    "    def maximumSum(self, arr):\n",
    "        n = len(arr)\n",
    "        max_sum = arr[0]\n",
    "        no_del = arr[0]      # max sum with no deletion\n",
    "        one_del = 0          # max sum with one deletion\n",
    "\n",
    "        for i in range(1, n):\n",
    "            one_del = max(no_del, one_del + arr[i])   # either delete arr[i] or extend prev one_del\n",
    "            no_del = max(arr[i], no_del + arr[i])     # classic Kadane update\n",
    "            max_sum = max(max_sum, no_del, one_del)\n",
    "\n",
    "        return max_sum\n"
   ]
  },
  {
   "cell_type": "markdown",
   "id": "bc849bac",
   "metadata": {},
   "source": [
    "[1, -2, 0, 3]\n",
    "\n",
    "\n",
    "| Index | arr[i] | no_del | one_del | max_sum | Explanation             |\n",
    "|-------|--------|--------|---------|---------|--------------------------|\n",
    "| 0     | 1      | 1      | 1       | 1       | Start                    |\n",
    "| 1     | -2     | -1     | 1       | 1       | delete -2 → [1]         |\n",
    "| 2     | 0      | 0      | 1       | 1       | continue [1, 0]         |\n",
    "| 3     | 3      | 3      | 4       | 4       | delete -2 → [1, 0, 3]   |\n"
   ]
  },
  {
   "cell_type": "markdown",
   "id": "e3767a00",
   "metadata": {},
   "source": [
    "arr = [1, -2, -2, 5, -1, 3, -2, 2] \n",
    "\n",
    "| Index | arr[i] | no_del | one_del | max_sum | Explanation                         |\n",
    "|-------|--------|--------|---------|---------|-------------------------------------|\n",
    "| 0     | 1      | 1      | 0       | 1       | Start                               |\n",
    "| 1     | -2     | -1     | 1       | 1       | delete -2 → [1]                     |\n",
    "| 2     | -2     | -2     | 1       | 1       | delete second -2 → [1]              |\n",
    "| 3     | 5      | 5      | 6       | 6       | [1, -2, -2, 5] or [1, 5]            |\n",
    "| 4     | -1     | 4      | 6       | 6       | [1, -2, -2, 5, -1] or [1, 5, -1]    |\n",
    "| 5     | 3      | 7      | 9       | 9       | best with deletion: [1, 5, -1, 3]   |\n",
    "| 6     | -2     | 5      | 7       | 9       | [1, 5, -1, 3, -2]                   |\n",
    "| 7     | 2      | 7      | 9       | 9       | [1, 5, -1, 3, -2, 2]                |\n"
   ]
  },
  {
   "cell_type": "code",
   "execution_count": null,
   "id": "ce256cfc",
   "metadata": {},
   "outputs": [],
   "source": []
  }
 ],
 "metadata": {
  "language_info": {
   "name": "python"
  }
 },
 "nbformat": 4,
 "nbformat_minor": 5
}
