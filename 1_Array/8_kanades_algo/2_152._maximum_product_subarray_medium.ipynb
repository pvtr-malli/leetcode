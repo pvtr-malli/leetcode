{
 "cells": [
  {
   "cell_type": "markdown",
   "id": "521cd603",
   "metadata": {},
   "source": [
    "\n",
    "Topics\n",
    "premium lock icon\n",
    "Companies\n",
    "Given an integer array nums, find a subarray that has the largest product, and return the product.\n",
    "\n",
    "The test cases are generated so that the answer will fit in a 32-bit integer.\n",
    "\n",
    " \n",
    "\n",
    "Example 1:\n",
    "\n",
    "Input: nums = [2,3,-2,4]\n",
    "Output: 6\n",
    "Explanation: [2,3] has the largest product 6.\n",
    "Example 2:\n",
    "\n",
    "Input: nums = [-2,0,-1]\n",
    "Output: 0\n",
    "Explanation: The result cannot be 2, because [-2,-1] is not a subarray.\n",
    " \n",
    "\n",
    "Constraints:\n",
    "\n",
    "1 <= nums.length <= 2 * 104\n",
    "-10 <= nums[i] <= 10\n",
    "The product of any subarray of nums is guaranteed to fit in a 32-bit integer."
   ]
  },
  {
   "cell_type": "code",
   "execution_count": null,
   "id": "b5dbaba2",
   "metadata": {},
   "outputs": [],
   "source": [
    "class Solution:\n",
    "    def maxProduct(self, nums: list[int]) -> int:\n",
    "        max_sum = float('-inf')\n",
    "        current_sum = 1\n",
    "\n",
    "        for num in nums:\n",
    "            current_sum = max(num, current_sum * num)   # to leave the negative values back, always update the current sum to max.\n",
    "            max_sum = max(max_sum, current_sum)\n",
    "            print(num)\n",
    "            print(current_sum, max_sum)\n",
    "        \n",
    "        return max_sum\n",
    "    \n",
    "\n",
    "# this simple twick will fail, why because .... - * - == + ... this will become a bigger number later. \n",
    "# so need to track also this.\n",
    "\n",
    "# so track min so far and max so far. switch this min and max when hitting a number < 0/"
   ]
  },
  {
   "cell_type": "code",
   "execution_count": 2,
   "id": "112b35b4",
   "metadata": {},
   "outputs": [
    {
     "name": "stdout",
     "output_type": "stream",
     "text": [
      "2\n",
      "2 2\n",
      "3\n",
      "6 6\n",
      "-2\n",
      "-2 6\n",
      "4\n",
      "4 6\n"
     ]
    },
    {
     "data": {
      "text/plain": [
       "6"
      ]
     },
     "execution_count": 2,
     "metadata": {},
     "output_type": "execute_result"
    }
   ],
   "source": [
    "Solution().maxProduct(nums = [2,3,-2,4])"
   ]
  },
  {
   "cell_type": "code",
   "execution_count": null,
   "id": "4d2a10a9",
   "metadata": {},
   "outputs": [],
   "source": [
    "class Solution:\n",
    "    def maxProduct(self, nums):\n",
    "        if not nums:\n",
    "            return 0\n",
    "        \n",
    "        max_so_far = min_so_far = result = nums[0]\n",
    "        \n",
    "        for num in nums[1:]:\n",
    "            print(\"num\", num)\n",
    "            if num < 0:\n",
    "                max_so_far, min_so_far = min_so_far, max_so_far  # when the umber is negative\n",
    "                # mulitple it with the maximum negative number gives the maximum product.\n",
    "                # so which the max we got to the min we got (which has the max negative product)\n",
    "\n",
    "            max_so_far = max(num, max_so_far * num)\n",
    "            min_so_far = min(num, min_so_far * num)  # this is the maximum negative product we got so far.\n",
    "\n",
    "            result = max(result, max_so_far)\n",
    "            print(min_so_far, max_so_far)\n",
    "            print(\"result\", result)\n",
    "        \n",
    "        return result\n"
   ]
  },
  {
   "cell_type": "code",
   "execution_count": 5,
   "id": "a57572cc",
   "metadata": {},
   "outputs": [
    {
     "name": "stdout",
     "output_type": "stream",
     "text": [
      "num 3\n",
      "3 6\n",
      "result 6\n",
      "num -2\n",
      "-12 -2\n",
      "result 6\n",
      "num 4\n",
      "-48 4\n",
      "result 6\n"
     ]
    },
    {
     "data": {
      "text/plain": [
       "6"
      ]
     },
     "execution_count": 5,
     "metadata": {},
     "output_type": "execute_result"
    }
   ],
   "source": [
    "Solution().maxProduct(nums = [2,3,-2,4])"
   ]
  },
  {
   "cell_type": "code",
   "execution_count": 6,
   "id": "a7bd0d7e",
   "metadata": {},
   "outputs": [
    {
     "name": "stdout",
     "output_type": "stream",
     "text": [
      "num 3\n",
      "-6 3\n",
      "result 3\n",
      "num -4\n",
      "-12 24\n",
      "result 24\n"
     ]
    },
    {
     "data": {
      "text/plain": [
       "24"
      ]
     },
     "execution_count": 6,
     "metadata": {},
     "output_type": "execute_result"
    }
   ],
   "source": [
    "Solution().maxProduct([-2,3,-4])"
   ]
  },
  {
   "cell_type": "code",
   "execution_count": null,
   "id": "2f1dce79",
   "metadata": {},
   "outputs": [],
   "source": []
  }
 ],
 "metadata": {
  "kernelspec": {
   "display_name": "3.11.11",
   "language": "python",
   "name": "python3"
  },
  "language_info": {
   "codemirror_mode": {
    "name": "ipython",
    "version": 3
   },
   "file_extension": ".py",
   "mimetype": "text/x-python",
   "name": "python",
   "nbconvert_exporter": "python",
   "pygments_lexer": "ipython3",
   "version": "3.11.11"
  }
 },
 "nbformat": 4,
 "nbformat_minor": 5
}
