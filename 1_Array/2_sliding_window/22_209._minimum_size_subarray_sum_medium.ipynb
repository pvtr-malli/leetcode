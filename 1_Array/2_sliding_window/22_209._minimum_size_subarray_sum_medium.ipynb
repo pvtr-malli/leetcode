{
 "cells": [
  {
   "cell_type": "markdown",
   "id": "bed4e154",
   "metadata": {},
   "source": [
    "209. Minimum Size Subarray Sum\n",
    "Medium\n",
    "Topics\n",
    "premium lock icon\n",
    "Companies\n",
    "Given an array of positive integers nums and a positive integer target, return the minimal length of a subarray whose sum is greater than or equal to target. If there is no such subarray, return 0 instead.\n",
    "\n",
    " \n",
    "\n",
    "Example 1:\n",
    "\n",
    "Input: target = 7, nums = [2,3,1,2,4,3]\n",
    "Output: 2\n",
    "Explanation: The subarray [4,3] has the minimal length under the problem constraint.\n",
    "Example 2:\n",
    "\n",
    "Input: target = 4, nums = [1,4,4]\n",
    "Output: 1\n",
    "Example 3:\n",
    "\n",
    "Input: target = 11, nums = [1,1,1,1,1,1,1,1]\n",
    "Output: 0\n",
    " \n",
    "\n",
    "Constraints:\n",
    "\n",
    "1 <= target <= 109\n",
    "1 <= nums.length <= 105\n",
    "1 <= nums[i] <= 104\n",
    " \n",
    "\n",
    "Follow up: If you have figured out the O(n) solution, try coding another solution of which the time complexity is O(n log(n))."
   ]
  },
  {
   "cell_type": "code",
   "execution_count": null,
   "id": "aca2928f",
   "metadata": {},
   "outputs": [],
   "source": [
    "class Solution:\n",
    "    def minSubArrayLen(self, target: int, nums: list[int]) -> int:\n",
    "        # edge case:\n",
    "        if len(nums) == 1:\n",
    "            return 1 if nums[0] >= target else 0\n",
    "        mini = 1e9\n",
    "        end = 0\n",
    "        start = 0\n",
    "        sum = nums[0]\n",
    "        n = len(nums)\n",
    "        while end < n - 1:\n",
    "            # increase until sum is less target.\n",
    "            while sum < target and end < n-1:\n",
    "                end += 1\n",
    "                sum += nums[end]\n",
    "                \n",
    "            while sum >= target:\n",
    "                # keep a track here since here is the place sum >= to target.\n",
    "                mini = min(mini, end - start + 1)\n",
    "                sum -= nums[start]\n",
    "                start += 1\n",
    "        return mini if mini != 1e9 else 0"
   ]
  },
  {
   "cell_type": "code",
   "execution_count": 14,
   "id": "53701ec3",
   "metadata": {},
   "outputs": [
    {
     "data": {
      "text/plain": [
       "2"
      ]
     },
     "execution_count": 14,
     "metadata": {},
     "output_type": "execute_result"
    }
   ],
   "source": [
    "Solution().minSubArrayLen(target = 7, nums = [2,3,1,2,4,3])"
   ]
  },
  {
   "cell_type": "code",
   "execution_count": 15,
   "id": "61fd7647",
   "metadata": {},
   "outputs": [
    {
     "data": {
      "text/plain": [
       "1"
      ]
     },
     "execution_count": 15,
     "metadata": {},
     "output_type": "execute_result"
    }
   ],
   "source": [
    "Solution().minSubArrayLen(target = 4, nums = [1,4,4])"
   ]
  },
  {
   "cell_type": "code",
   "execution_count": 16,
   "id": "0695ef24",
   "metadata": {},
   "outputs": [
    {
     "data": {
      "text/plain": [
       "1000000000.0"
      ]
     },
     "execution_count": 16,
     "metadata": {},
     "output_type": "execute_result"
    }
   ],
   "source": [
    "Solution().minSubArrayLen(target = 11, nums = [1,1,1,1,1,1,1,1])"
   ]
  },
  {
   "cell_type": "code",
   "execution_count": null,
   "id": "e056dfb1",
   "metadata": {},
   "outputs": [],
   "source": [
    "class Solution:\n",
    "    def minSubArrayLen(self, target: int, nums: list[int]) -> int:\n",
    "        # edge case:\n",
    "        if len(nums) == 1:\n",
    "            return 1 if nums[0] >= target else 0\n",
    "        mini = 1e9\n",
    "        end = 0\n",
    "        start = 0\n",
    "        sum = nums[0]\n",
    "        n = len(nums)\n",
    "        for end in range(1,n):\n",
    "            # calculate the values.\n",
    "            sum += nums[end]\n",
    "            \n",
    "            # decrease the window, until it's not violating the condition.\n",
    "            while sum >= target:\n",
    "                # keep a track here since here is the place sum >= to target.\n",
    "                mini = min(mini, end - start + 1)\n",
    "                sum -= nums[start]\n",
    "                start += 1\n",
    "        \n",
    "        return mini if mini != 1e9 else 0\n",
    "    \n",
    "# O(n)\n",
    "# O(1)"
   ]
  },
  {
   "cell_type": "code",
   "execution_count": 18,
   "id": "ebd62bf9",
   "metadata": {},
   "outputs": [
    {
     "data": {
      "text/plain": [
       "1"
      ]
     },
     "execution_count": 18,
     "metadata": {},
     "output_type": "execute_result"
    }
   ],
   "source": [
    "Solution().minSubArrayLen(target = 4, nums = [1,4,4])"
   ]
  },
  {
   "cell_type": "code",
   "execution_count": 19,
   "id": "4add4245",
   "metadata": {},
   "outputs": [
    {
     "data": {
      "text/plain": [
       "2"
      ]
     },
     "execution_count": 19,
     "metadata": {},
     "output_type": "execute_result"
    }
   ],
   "source": [
    "Solution().minSubArrayLen(target = 7, nums = [2,3,1,2,4,3])"
   ]
  },
  {
   "cell_type": "code",
   "execution_count": null,
   "id": "fa90d559",
   "metadata": {},
   "outputs": [],
   "source": []
  }
 ],
 "metadata": {
  "kernelspec": {
   "display_name": "3.11.11",
   "language": "python",
   "name": "python3"
  },
  "language_info": {
   "codemirror_mode": {
    "name": "ipython",
    "version": 3
   },
   "file_extension": ".py",
   "mimetype": "text/x-python",
   "name": "python",
   "nbconvert_exporter": "python",
   "pygments_lexer": "ipython3",
   "version": "3.11.11"
  }
 },
 "nbformat": 4,
 "nbformat_minor": 5
}
