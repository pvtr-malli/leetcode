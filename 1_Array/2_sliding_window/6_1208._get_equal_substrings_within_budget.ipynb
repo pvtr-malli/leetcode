{
 "cells": [
  {
   "cell_type": "code",
   "execution_count": null,
   "metadata": {},
   "outputs": [],
   "source": [
    "MEDIUM"
   ]
  },
  {
   "cell_type": "markdown",
   "metadata": {},
   "source": [
    "You are given two strings s and t of the same length and an integer maxCost.\n",
    "\n",
    "You want to change s to t. Changing the ith character of s to ith character of t costs |s[i] - t[i]| (i.e., the absolute difference between the ASCII values of the characters).\n",
    "\n",
    "Return the maximum length of a substring of s that can be changed to be the same as the corresponding substring of t with a cost less than or equal to maxCost. If there is no substring from s that can be changed to its corresponding substring from t, return 0.\n",
    "\n",
    " \n",
    "\n",
    "Example 1:\n",
    "\n",
    "Input: s = \"abcd\", t = \"bcdf\", maxCost = 3\n",
    "Output: 3\n",
    "Explanation: \"abc\" of s can change to \"bcd\".\n",
    "That costs 3, so the maximum length is 3.\n",
    "Example 2:\n",
    "\n",
    "Input: s = \"abcd\", t = \"cdef\", maxCost = 3\n",
    "Output: 1\n",
    "Explanation: Each character in s costs 2 to change to character in t,  so the maximum length is 1.\n",
    "Example 3:\n",
    "\n",
    "Input: s = \"abcd\", t = \"acde\", maxCost = 0\n",
    "Output: 1\n",
    "Explanation: You cannot make any change, so the maximum length is 1."
   ]
  },
  {
   "cell_type": "code",
   "execution_count": null,
   "metadata": {},
   "outputs": [],
   "source": [
    "# We are gonna deal with the different value, so create that  first and find the longest subarray with the sum == goal.\n",
    "\n",
    "\n",
    "class Solution:\n",
    "    def equalSubstring(self, s: str, t: str, maxCost: int) -> int:\n",
    "        # Find the difference array.\n",
    "        cost_arr: list = []\n",
    "        for i in range(len(s)):\n",
    "            cost_arr.append(abs(ord(s[i]) - ord(t[i])))\n",
    "\n",
    "        # Find the longest sub array with the sum == maxCost.\n",
    "        start = end = 0\n",
    "        max_len = 0\n",
    "        cost = 0\n",
    "        for end in range(len(s)):\n",
    "            cost += cost_arr[end]\n",
    "            if cost > maxCost:\n",
    "                # Move the start forward until the cost is <= max cost.\n",
    "                while (cost > maxCost ) and (start < len(s)):\n",
    "                    cost -= cost_arr[start]\n",
    "                    start += 1\n",
    "            max_len = max(max_len, end - start + 1)\n",
    "        return max_len\n"
   ]
  },
  {
   "cell_type": "code",
   "execution_count": 37,
   "metadata": {},
   "outputs": [
    {
     "name": "stdout",
     "output_type": "stream",
     "text": [
      "0\n"
     ]
    },
    {
     "data": {
      "text/plain": [
       "3"
      ]
     },
     "execution_count": 37,
     "metadata": {},
     "output_type": "execute_result"
    }
   ],
   "source": [
    "Solution().equalSubstring(s = \"abcd\", t = \"bcdf\", maxCost = 3)"
   ]
  },
  {
   "cell_type": "code",
   "execution_count": 38,
   "metadata": {},
   "outputs": [
    {
     "name": "stdout",
     "output_type": "stream",
     "text": [
      "0\n",
      "1\n",
      "2\n"
     ]
    },
    {
     "data": {
      "text/plain": [
       "1"
      ]
     },
     "execution_count": 38,
     "metadata": {},
     "output_type": "execute_result"
    }
   ],
   "source": [
    "Solution().equalSubstring(s = \"abcd\", t = \"cdef\", maxCost = 3)"
   ]
  },
  {
   "cell_type": "code",
   "execution_count": 39,
   "metadata": {},
   "outputs": [
    {
     "name": "stdout",
     "output_type": "stream",
     "text": [
      "0\n",
      "2\n",
      "3\n"
     ]
    },
    {
     "data": {
      "text/plain": [
       "1"
      ]
     },
     "execution_count": 39,
     "metadata": {},
     "output_type": "execute_result"
    }
   ],
   "source": [
    "Solution().equalSubstring(s = \"abcd\", t = \"acde\", maxCost = 0)"
   ]
  },
  {
   "cell_type": "code",
   "execution_count": null,
   "metadata": {},
   "outputs": [],
   "source": []
  }
 ],
 "metadata": {
  "kernelspec": {
   "display_name": "Python 3",
   "language": "python",
   "name": "python3"
  },
  "language_info": {
   "codemirror_mode": {
    "name": "ipython",
    "version": 3
   },
   "file_extension": ".py",
   "mimetype": "text/x-python",
   "name": "python",
   "nbconvert_exporter": "python",
   "pygments_lexer": "ipython3",
   "version": "3.8.10"
  }
 },
 "nbformat": 4,
 "nbformat_minor": 2
}
