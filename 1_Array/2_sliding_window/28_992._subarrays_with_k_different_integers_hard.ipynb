{
 "cells": [
  {
   "cell_type": "markdown",
   "id": "d7f51434",
   "metadata": {},
   "source": [
    "Given an integer array nums and an integer k, return the number of good subarrays of nums.\n",
    "\n",
    "A good array is an array where the number of different integers in that array is exactly k.\n",
    "\n",
    "For example, [1,2,3,1,2] has 3 different integers: 1, 2, and 3.\n",
    "A subarray is a contiguous part of an array.\n",
    "\n",
    " \n",
    "\n",
    "Example 1:\n",
    "\n",
    "Input: nums = [1,2,1,2,3], k = 2\n",
    "Output: 7\n",
    "Explanation: Subarrays formed with exactly 2 different integers: [1,2], [2,1], [1,2], [2,3], [1,2,1], [2,1,2], [1,2,1,2]\n",
    "Example 2:\n",
    "\n",
    "Input: nums = [1,2,1,3,4], k = 3\n",
    "Output: 3\n",
    "Explanation: Subarrays formed with exactly 3 different integers: [1,2,1,3], [2,1,3], [1,3,4].\n",
    " \n",
    "\n",
    "Constraints:\n",
    "\n",
    "1 <= nums.length <= 2 * 104\n",
    "1 <= nums[i], k <= nums.length"
   ]
  },
  {
   "cell_type": "code",
   "execution_count": null,
   "id": "977cd6de",
   "metadata": {},
   "outputs": [],
   "source": [
    "# not solves the problem.\n",
    "\n",
    "from collections import defaultdict\n",
    "\n",
    "class Solution:\n",
    "    def subarraysWithKDistinct(self, nums: list[int], k: int) -> int:\n",
    "        start = 0 \n",
    "        n = len(nums)\n",
    "        h = defaultdict(int)\n",
    "        good_arr = 0\n",
    "        length = 0\n",
    "        for end in range(n):\n",
    "            print(start, end)\n",
    "            length += 1\n",
    "            # increase the window,\n",
    "            # if nums[end] in h:\n",
    "            #     h[nums[end]] += 1\n",
    "            # else:\n",
    "            #     h[nums] = 1   # same can be donw using the below.\n",
    "            h[nums[end]] += 1\n",
    "            print(h)\n",
    "            print(\"len,\", len(h))\n",
    "            # decrease when it violates the condition.\n",
    "            # decrease when the number of distinct numbers in the window > k.\n",
    "            while len(h) > k:\n",
    "                if h[nums[start]] == 1:\n",
    "                    del h[nums[start]]\n",
    "                else:\n",
    "                    h[nums[start]] -= 1\n",
    "                start += 1\n",
    "\n",
    "                # after decreasing alse keep a count.\n",
    "                if len(h) == k:\n",
    "                    good_arr += 1\n",
    "\n",
    "            # count all the values in the hash, if anything has > 1: then dont count this window,\n",
    "            if len(h) == k:\n",
    "                good_arr += 1\n",
    "\n",
    "        return good_arr\n",
    "\n",
    "\n"
   ]
  },
  {
   "cell_type": "code",
   "execution_count": 15,
   "id": "b2ce131f",
   "metadata": {},
   "outputs": [
    {
     "name": "stdout",
     "output_type": "stream",
     "text": [
      "0 0\n",
      "defaultdict(<class 'int'>, {1: 1})\n",
      "len, 1\n",
      "0 1\n",
      "defaultdict(<class 'int'>, {1: 1, 2: 1})\n",
      "len, 2\n",
      "0 2\n",
      "defaultdict(<class 'int'>, {1: 2, 2: 1})\n",
      "len, 2\n",
      "0 3\n",
      "defaultdict(<class 'int'>, {1: 2, 2: 2})\n",
      "len, 2\n",
      "0 4\n",
      "defaultdict(<class 'int'>, {1: 2, 2: 2, 3: 1})\n",
      "len, 3\n"
     ]
    },
    {
     "data": {
      "text/plain": [
       "5"
      ]
     },
     "execution_count": 15,
     "metadata": {},
     "output_type": "execute_result"
    }
   ],
   "source": [
    "Solution().subarraysWithKDistinct([1,2,1,2,3], k = 2)"
   ]
  },
  {
   "cell_type": "markdown",
   "id": "5bfdc806",
   "metadata": {},
   "source": [
    "##### this solution not exactly solves the problem. So we use the below logic. \n",
    "- Count of subarrays with exactly K distinct elements =\n",
    "(subarrays with at most K distinct) − (subarrays with at most K−1 distinct)"
   ]
  },
  {
   "cell_type": "code",
   "execution_count": null,
   "id": "d5fb236c",
   "metadata": {},
   "outputs": [],
   "source": [
    "from collections import defaultdict\n",
    "\n",
    "class Solution:\n",
    "    def subarraysWithKDistinct(self, nums: list[int], k: int) -> int:\n",
    "        return self.atMostK(nums, k) - self.atMostK(nums, k - 1)\n",
    "    \n",
    "    def atMostK(self, nums, k):\n",
    "        count = defaultdict(int)\n",
    "        left = 0\n",
    "        result = 0\n",
    "\n",
    "        for right in range(len(nums)):\n",
    "\n",
    "            # keep count of how many distinct values are there.\n",
    "            if count[nums[right]] == 0:\n",
    "                k -= 1  # if its a new value, decrease k.\n",
    "\n",
    "            count[nums[right]] += 1\n",
    "\n",
    "            # decrease when it viloates the condition.\n",
    "            while k < 0: # there are >= k disticnt values are there.\n",
    "                count[nums[left]] -= 1\n",
    "                if count[nums[left]] == 0:\n",
    "                    k += 1\n",
    "                left += 1\n",
    "\n",
    "            # this is the interesting part, when we are at the end index. and that is having atmost k distinct.\n",
    "            # then all the subarrays ending with end ind, will also have atmost k distinct values.\n",
    "            # nums[left to right]\n",
    "            # nums[left+1 to right]\n",
    "            # nums[left+2 to right]\n",
    "            # ...\n",
    "            # nums[right to right] ← just one element\n",
    "            result += right - left + 1\n",
    "\n",
    "        return result\n",
    "\n",
    "\n",
    "# tc - O(n)\n",
    "# sc - O(n  )"
   ]
  }
 ],
 "metadata": {
  "kernelspec": {
   "display_name": "3.11.11",
   "language": "python",
   "name": "python3"
  },
  "language_info": {
   "codemirror_mode": {
    "name": "ipython",
    "version": 3
   },
   "file_extension": ".py",
   "mimetype": "text/x-python",
   "name": "python",
   "nbconvert_exporter": "python",
   "pygments_lexer": "ipython3",
   "version": "3.11.11"
  }
 },
 "nbformat": 4,
 "nbformat_minor": 5
}
