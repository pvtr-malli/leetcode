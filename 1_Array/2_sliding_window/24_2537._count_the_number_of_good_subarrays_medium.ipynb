{
 "cells": [
  {
   "cell_type": "markdown",
   "id": "07ef8376",
   "metadata": {},
   "source": [
    "Given an integer array nums and an integer k, return the number of good subarrays of nums.\n",
    "\n",
    "A subarray arr is good if there are at least k pairs of indices (i, j) such that i < j and arr[i] == arr[j].\n",
    "\n",
    "A subarray is a contiguous non-empty sequence of elements within an array.\n",
    "\n",
    " \n",
    "\n",
    "Example 1:\n",
    "\n",
    "Input: nums = [1,1,1,1,1], k = 10\n",
    "Output: 1\n",
    "Explanation: The only good subarray is the array nums itself.\n",
    "Example 2:\n",
    "\n",
    "Input: nums = [3,1,4,3,2,2,4], k = 2\n",
    "Output: 4\n",
    "Explanation: There are 4 different good subarrays:\n",
    "- [3,1,4,3,2,2] that has 2 pairs.\n",
    "- [3,1,4,3,2,2,4] that has 3 pairs.\n",
    "- [1,4,3,2,2,4] that has 2 pairs.\n",
    "- [4,3,2,2,4] that has 2 pairs.\n",
    " \n",
    "\n",
    "Constraints:\n",
    "\n",
    "1 <= nums.length <= 105\n",
    "1 <= nums[i], k <= 109"
   ]
  },
  {
   "cell_type": "code",
   "execution_count": null,
   "id": "b14dbe83",
   "metadata": {},
   "outputs": [],
   "source": [
    "from collections import defaultdict\n",
    "\n",
    "class Solution:\n",
    "    def countGood(self, nums: list[int], k: int) -> int:\n",
    "        freq = {}\n",
    "        start = 0\n",
    "        pair_count = 0\n",
    "        good_subarrays = 0\n",
    "\n",
    "        for end in range(len(nums)):\n",
    "            # increase the window and keep tarck of the frequency.\n",
    "            if nums[end] in freq:\n",
    "                pair_count += freq[nums[end]]\n",
    "                freq[nums[end]] += 1\n",
    "            else:\n",
    "                freq[nums[end]] = 1\n",
    "\n",
    "            # decrease until we can keep the condition alive.\n",
    "            while pair_count >= k:\n",
    "                # When you find that the current window [left, right] has at least k equal pairs, then:\n",
    "                # Every subarray that starts at left and ends at right, right+1, ..., right + n-1 \n",
    "                #will also have at least k pairs (because extending the subarray will only increase or maintain pair count).\n",
    "\n",
    "                # this is nothing but the subarrays we can make by adding the rest of the elements.\n",
    "                good_subarrays += len(nums) - end\n",
    "                freq[nums[start]] -= 1\n",
    "                pair_count -= freq[nums[start]]\n",
    "                start += 1\n",
    "\n",
    "        return good_subarrays\n",
    "\n",
    "# O(n)\n",
    "# O(n)"
   ]
  },
  {
   "cell_type": "code",
   "execution_count": 2,
   "id": "da5613ee",
   "metadata": {},
   "outputs": [
    {
     "data": {
      "text/plain": [
       "28"
      ]
     },
     "execution_count": 2,
     "metadata": {},
     "output_type": "execute_result"
    }
   ],
   "source": [
    "Solution().countGood(nums = [3,1,4,3,2,2,4], k = 2)"
   ]
  },
  {
   "cell_type": "code",
   "execution_count": 3,
   "id": "c7f1099d",
   "metadata": {},
   "outputs": [
    {
     "data": {
      "text/plain": [
       "15"
      ]
     },
     "execution_count": 3,
     "metadata": {},
     "output_type": "execute_result"
    }
   ],
   "source": [
    "Solution().countGood(nums = [1,1,1,1,1], k = 10)"
   ]
  },
  {
   "cell_type": "code",
   "execution_count": null,
   "id": "b2fc9032",
   "metadata": {},
   "outputs": [],
   "source": []
  }
 ],
 "metadata": {
  "kernelspec": {
   "display_name": "3.11.11",
   "language": "python",
   "name": "python3"
  },
  "language_info": {
   "codemirror_mode": {
    "name": "ipython",
    "version": 3
   },
   "file_extension": ".py",
   "mimetype": "text/x-python",
   "name": "python",
   "nbconvert_exporter": "python",
   "pygments_lexer": "ipython3",
   "version": "3.11.11"
  }
 },
 "nbformat": 4,
 "nbformat_minor": 5
}
