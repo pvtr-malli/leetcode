{
 "cells": [
  {
   "cell_type": "markdown",
   "id": "d42ee0ec",
   "metadata": {},
   "source": [
    "You are given an array of integers nums, there is a sliding window of size k which is moving from the very left of the array to the very right. You can only see the k numbers in the window. Each time the sliding window moves right by one position.\n",
    "\n",
    "Return the max sliding window.\n",
    "\n",
    " \n",
    "\n",
    "Example 1:\n",
    "\n",
    "Input: nums = [1,3,-1,-3,5,3,6,7], k = 3\n",
    "Output: [3,3,5,5,6,7]\n",
    "Explanation: \n",
    "Window position                Max\n",
    "---------------               -----\n",
    "[1  3  -1] -3  5  3  6  7       3\n",
    " 1 [3  -1  -3] 5  3  6  7       3\n",
    " 1  3 [-1  -3  5] 3  6  7       5\n",
    " 1  3  -1 [-3  5  3] 6  7       5\n",
    " 1  3  -1  -3 [5  3  6] 7       6\n",
    " 1  3  -1  -3  5 [3  6  7]      7\n",
    "Example 2:\n",
    "\n",
    "Input: nums = [1], k = 1\n",
    "Output: [1]\n",
    " \n",
    "\n",
    "Constraints:\n",
    "\n",
    "1 <= nums.length <= 105\n",
    "-104 <= nums[i] <= 104\n",
    "1 <= k <= nums.length"
   ]
  },
  {
   "cell_type": "code",
   "execution_count": null,
   "id": "2d746a6f",
   "metadata": {},
   "outputs": [],
   "source": [
    "import heapq\n",
    "\n",
    "class Solution:\n",
    "    def maxSlidingWindow(self, nums, k):\n",
    "        if not nums:\n",
    "            return []\n",
    "        \n",
    "        heap = []\n",
    "        res = []\n",
    "\n",
    "        for end in range(len(nums)):\n",
    "            # push the values as it is until, the k window.\n",
    "            # Push current element with negative value to simulate max-heap.\n",
    "            heapq.heappush(heap, (-nums[end], end))\n",
    "\n",
    "            # starting from k-i th index. first window end... start collectiong the ans.\n",
    "            if end >= k - 1:\n",
    "                print(heap[0][1])\n",
    "                # when the top element is not in the corrent window, simple pop it. no use of it.\n",
    "                while not ((heap[0][1] <= end) and (heap[0][1] >= (end - (k - 1)))):\n",
    "                    heapq.heappop(heap)\n",
    "\n",
    "                # if not, that is the max element for the current window.\n",
    "                res.append(-heap[0][0])\n",
    "        return res\n",
    "    \n",
    "# tc - O(nlogn) because each element is pushed and popped at most once, and heap operations cost log n.\n",
    "# sc- O(n)[ans] + O(n)[heap] = O(n)"
   ]
  },
  {
   "cell_type": "code",
   "execution_count": 11,
   "id": "18f8f55b",
   "metadata": {},
   "outputs": [
    {
     "name": "stdout",
     "output_type": "stream",
     "text": [
      "1\n",
      "1\n",
      "4\n",
      "4\n",
      "6\n",
      "7\n"
     ]
    },
    {
     "data": {
      "text/plain": [
       "[3, 3, 5, 5, 6, 7]"
      ]
     },
     "execution_count": 11,
     "metadata": {},
     "output_type": "execute_result"
    }
   ],
   "source": [
    "Solution().maxSlidingWindow([1,3,-1,-3,5,3,6,7], k=3)"
   ]
  },
  {
   "cell_type": "code",
   "execution_count": 12,
   "id": "2cb09b2c",
   "metadata": {},
   "outputs": [
    {
     "name": "stdout",
     "output_type": "stream",
     "text": [
      "0\n"
     ]
    },
    {
     "data": {
      "text/plain": [
       "[1]"
      ]
     },
     "execution_count": 12,
     "metadata": {},
     "output_type": "execute_result"
    }
   ],
   "source": [
    "Solution().maxSlidingWindow(nums = [1], k = 1)"
   ]
  },
  {
   "cell_type": "code",
   "execution_count": null,
   "id": "9f0e1ba5",
   "metadata": {},
   "outputs": [],
   "source": []
  }
 ],
 "metadata": {
  "kernelspec": {
   "display_name": "3.11.11",
   "language": "python",
   "name": "python3"
  },
  "language_info": {
   "codemirror_mode": {
    "name": "ipython",
    "version": 3
   },
   "file_extension": ".py",
   "mimetype": "text/x-python",
   "name": "python",
   "nbconvert_exporter": "python",
   "pygments_lexer": "ipython3",
   "version": "3.11.11"
  }
 },
 "nbformat": 4,
 "nbformat_minor": 5
}
