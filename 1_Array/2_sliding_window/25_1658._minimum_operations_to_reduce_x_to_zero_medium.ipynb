{
 "cells": [
  {
   "cell_type": "markdown",
   "id": "5b74979e",
   "metadata": {},
   "source": [
    "You are given an integer array nums and an integer x. In one operation, you can either remove the leftmost or the rightmost element from the array nums and subtract its value from x. Note that this modifies the array for future operations.\n",
    "\n",
    "Return the minimum number of operations to reduce x to exactly 0 if it is possible, otherwise, return -1.\n",
    "\n",
    " \n",
    "\n",
    "Example 1:\n",
    "\n",
    "Input: nums = [1,1,4,2,3], x = 5\n",
    "Output: 2\n",
    "Explanation: The optimal solution is to remove the last two elements to reduce x to zero.\n",
    "Example 2:\n",
    "\n",
    "Input: nums = [5,6,7,8,9], x = 4\n",
    "Output: -1\n",
    "Example 3:\n",
    "\n",
    "Input: nums = [3,2,20,1,1,3], x = 10\n",
    "Output: 5\n",
    "Explanation: The optimal solution is to remove the last three elements and the first two elements (5 operations in total) to reduce x to zero.\n",
    " \n",
    "\n",
    "Constraints:\n",
    "\n",
    "1 <= nums.length <= 105\n",
    "1 <= nums[i] <= 104\n",
    "1 <= x <= 109"
   ]
  },
  {
   "cell_type": "code",
   "execution_count": null,
   "id": "d368f99d",
   "metadata": {},
   "outputs": [],
   "source": [
    "class Solution:\n",
    "    def minOperations(self, nums: list[int], x: int) -> int:\n",
    "        # instead of finding the asked one, find the longest subarry with the sum = sum(nums) - x. \n",
    "        # this is like figuring out the portion which we want to remove, which will be in the center. \n",
    "        # [1,1,4,2,3] - find_sum = 11- 5 => 6 . remove [1,1,4]\n",
    "        # [3,2,20,1,1,3] - find_sum = 30 - 10 => 20. remove [20]\n",
    "        target = sum(nums) - x\n",
    "        curr_sum, max_len = 0, 0\n",
    "        start_idx = 0\n",
    "        found = False\n",
    "\n",
    "        for end_idx in range(len(nums)):\n",
    "            # increase the window. \n",
    "            curr_sum += nums[end_idx]\n",
    "\n",
    "            # decrease until it's not violating the condition.\n",
    "            while start_idx <= end_idx and curr_sum > target:\n",
    "                curr_sum -= nums[start_idx]\n",
    "                start_idx += 1\n",
    "\n",
    "            # tracker.\n",
    "            if curr_sum == target:\n",
    "                found = True\n",
    "                max_len = max(max_len, end_idx - start_idx + 1)\n",
    "\n",
    "        return len(nums) - max_len if found else -1\n",
    "    \n",
    "# tc - O(n)\n",
    "# sc - O(1)"
   ]
  }
 ],
 "metadata": {
  "language_info": {
   "name": "python"
  }
 },
 "nbformat": 4,
 "nbformat_minor": 5
}
