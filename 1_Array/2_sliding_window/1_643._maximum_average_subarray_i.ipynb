{
 "cells": [
  {
   "cell_type": "code",
   "execution_count": null,
   "metadata": {},
   "outputs": [],
   "source": [
    "EASY\n"
   ]
  },
  {
   "cell_type": "code",
   "execution_count": null,
   "metadata": {},
   "outputs": [],
   "source": [
    "You are given an integer array nums consisting of n elements, and an integer k.\n",
    "\n",
    "Find a contiguous subarray whose length is equal to k that has the maximum average value and return this value. Any answer with a calculation error less than 10-5 will be accepted.\n",
    "\n",
    "\n",
    "\n",
    "Example 1:\n",
    "\n",
    "Input: nums = [1,12,-5,-6,50,3], k = 4\n",
    "Output: 12.75000\n",
    "Explanation: Maximum average is (12 - 5 - 6 + 50) / 4 = 51 / 4 = 12.75\n",
    "Example 2:\n",
    "\n",
    "Input: nums = [5], k = 1\n",
    "Output: 5.00000"
   ]
  },
  {
   "cell_type": "code",
   "execution_count": 17,
   "metadata": {},
   "outputs": [],
   "source": [
    "import sys\n",
    "class Solution:\n",
    "\n",
    "    def findMaxAverage(self, nums, k: int) -> float:\n",
    "        # Edge cases:\n",
    "        # 1. k == 1: then just return the max of the array as float.\n",
    "        # 2. len(nums) == 1: return the value as float.\n",
    "\n",
    "        if len(nums) == 1:\n",
    "            return float(nums[0])\n",
    "        if k == 1:\n",
    "            return float(max(nums))\n",
    "\n",
    "        # Initialize currSum and maxSum to the sum of the initial k elements\n",
    "        curr_sum = max_sum = sum(nums[:k])\n",
    "\n",
    "        l = len(nums)\n",
    "        for i in range(k, l):\n",
    "            # The loop will start from the 4th index. So add the ith element and suptract the last element.\n",
    "            curr_sum += nums[i] - nums[i - k]\n",
    "\n",
    "            # Update the max sum.\n",
    "            max_sum = max(curr_sum, max_sum)\n",
    "        return float(max_sum / k)\n",
    "\n",
    "# TC = O(n)\n",
    "# SC = O(1)"
   ]
  },
  {
   "cell_type": "code",
   "execution_count": 18,
   "metadata": {},
   "outputs": [
    {
     "data": {
      "text/plain": [
       "12.75"
      ]
     },
     "execution_count": 18,
     "metadata": {},
     "output_type": "execute_result"
    }
   ],
   "source": [
    "nums = [1,12,-5,-6,50,3]\n",
    "k = 4\n",
    "Solution().findMaxAverage(nums, k)"
   ]
  },
  {
   "cell_type": "code",
   "execution_count": null,
   "metadata": {},
   "outputs": [],
   "source": [
    "# See the images for explanation."
   ]
  }
 ],
 "metadata": {
  "kernelspec": {
   "display_name": "Python 3",
   "language": "python",
   "name": "python3"
  },
  "language_info": {
   "codemirror_mode": {
    "name": "ipython",
    "version": 3
   },
   "file_extension": ".py",
   "mimetype": "text/x-python",
   "name": "python",
   "nbconvert_exporter": "python",
   "pygments_lexer": "ipython3",
   "version": "3.8.10"
  }
 },
 "nbformat": 4,
 "nbformat_minor": 2
}
