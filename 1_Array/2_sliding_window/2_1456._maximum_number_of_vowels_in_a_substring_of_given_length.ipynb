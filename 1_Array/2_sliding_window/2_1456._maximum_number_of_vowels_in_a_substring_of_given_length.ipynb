{
 "cells": [
  {
   "cell_type": "code",
   "execution_count": null,
   "metadata": {},
   "outputs": [],
   "source": [
    "MEDUIUM"
   ]
  },
  {
   "cell_type": "code",
   "execution_count": null,
   "metadata": {},
   "outputs": [],
   "source": [
    "Given a string s and an integer k, return the maximum number of vowel letters in any substring of s with length k.\n",
    "\n",
    "Vowel letters in English are 'a', 'e', 'i', 'o', and 'u'.\n",
    "\n",
    "\n",
    "\n",
    "Example 1:\n",
    "\n",
    "Input: s = \"abciiidef\", k = 3\n",
    "Output: 3\n",
    "Explanation: The substring \"iii\" contains 3 vowel letters.\n",
    "Example 2:\n",
    "\n",
    "Input: s = \"aeiou\", k = 2\n",
    "Output: 2\n",
    "Explanation: Any substring of length 2 contains 2 vowels.\n",
    "Example 3:\n",
    "\n",
    "Input: s = \"leetcode\", k = 3\n",
    "Output: 2\n",
    "Explanation: \"lee\", \"eet\" and \"ode\" contain 2 vowels."
   ]
  },
  {
   "cell_type": "code",
   "execution_count": null,
   "metadata": {},
   "outputs": [],
   "source": []
  },
  {
   "cell_type": "markdown",
   "metadata": {},
   "source": [
    "The same logic used in the first sum. \n",
    "- get the value needed in the first window.\n",
    "- for loop for the end value.\n",
    "- update the value needed based on the value left the window and the value coming to the window."
   ]
  },
  {
   "cell_type": "code",
   "execution_count": null,
   "metadata": {},
   "outputs": [],
   "source": [
    "class Solution:\n",
    "    def maxVowels(self, s: str, k: int) -> int:\n",
    "        s_list = list(s)\n",
    "        vowels = ['a', 'e', 'i', 'o', 'u']\n",
    "        cnt = 0\n",
    "        for i in range(k):\n",
    "            if s_list[i] in vowels:\n",
    "                cnt = cnt + 1\n",
    "        max_num = cnt\n",
    "        for end in range(k,len(s)):\n",
    "            start = end - k + 1\n",
    "            if s_list[start-1] in vowels:\n",
    "                cnt = cnt - 1\n",
    "            if s_list[end] in vowels:\n",
    "                cnt = cnt + 1\n",
    "            max_num = max(max_num, cnt)\n",
    "        return max_num\n",
    "\n",
    "# TC - O(n)\n",
    "# SC - O(5)"
   ]
  }
 ],
 "metadata": {
  "language_info": {
   "name": "python"
  }
 },
 "nbformat": 4,
 "nbformat_minor": 2
}
