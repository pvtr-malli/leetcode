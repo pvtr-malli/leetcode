{
 "cells": [
  {
   "cell_type": "code",
   "execution_count": null,
   "metadata": {},
   "outputs": [],
   "source": [
    "MEDIUM"
   ]
  },
  {
   "cell_type": "code",
   "execution_count": null,
   "metadata": {},
   "outputs": [],
   "source": [
    "You are visiting a farm that has a single row of fruit trees arranged from left to right. The trees are represented by an integer array fruits where fruits[i] is the type of fruit the ith tree produces.\n",
    "\n",
    "You want to collect as much fruit as possible. However, the owner has some strict rules that you must follow:\n",
    "\n",
    "You only have two baskets, and each basket can only hold a single type of fruit. There is no limit on the amount of fruit each basket can hold.\n",
    "Starting from any tree of your choice, you must pick exactly one fruit from every tree (including the start tree) while moving to the right. The picked fruits must fit in one of your baskets.\n",
    "Once you reach a tree with fruit that cannot fit in your baskets, you must stop.\n",
    "Given the integer array fruits, return the maximum number of fruits you can pick.\n",
    "\n",
    "\n",
    "\n",
    "Example 1:\n",
    "\n",
    "Input: fruits = [1,2,1]\n",
    "Output: 3\n",
    "Explanation: We can pick from all 3 trees.\n",
    "Example 2:\n",
    "\n",
    "Input: fruits = [0,1,2,2]\n",
    "Output: 3\n",
    "Explanation: We can pick from trees [1,2,2].\n",
    "If we had started at the first tree, we would only pick from trees [0,1].\n",
    "Example 3:\n",
    "\n",
    "Input: fruits = [1,2,3,2,2]\n",
    "Output: 4\n",
    "Explanation: We can pick from trees [2,3,2,2].\n",
    "If we had started at the first tree, we would only pick from trees [1,2]."
   ]
  },
  {
   "cell_type": "code",
   "execution_count": null,
   "metadata": {},
   "outputs": [],
   "source": [
    "from collections import defaultdict\n",
    "\n",
    "class Solution:\n",
    "    def totalFruit(self, fruits: List[int]) -> int:\n",
    "        count = defaultdict(int) # defaultdict to store the frequency of the elements in the subarray\n",
    "        i, j = 0, 0 # variables i and j are used to keep track of the subarray boundaries\n",
    "        for j in range(len(fruits)):\n",
    "            count[fruits[j]] += 1 # increase the count of the current fruit\n",
    "            if len(count) > 2:\n",
    "                count[fruits[i]] -= 1 # reduce the count of the first fruit\n",
    "                if count[fruits[i]] == 0:\n",
    "                    del count[fruits[i]] # remove the first fruit from the defaultdict if its count becomes 0\n",
    "                i += 1 # move the start of the subarray to the right\n",
    "        return j - i + 1 # return the length of the longest subarray with at most two unique elements"
   ]
  }
 ],
 "metadata": {
  "language_info": {
   "name": "python"
  }
 },
 "nbformat": 4,
 "nbformat_minor": 2
}
