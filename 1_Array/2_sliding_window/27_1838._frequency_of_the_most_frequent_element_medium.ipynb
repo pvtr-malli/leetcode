{
 "cells": [
  {
   "cell_type": "markdown",
   "id": "370a5f41",
   "metadata": {},
   "source": [
    "The frequency of an element is the number of times it occurs in an array.\n",
    "\n",
    "You are given an integer array nums and an integer k. In one operation, you can choose an index of nums and increment the element at that index by 1.\n",
    "\n",
    "Return the maximum possible frequency of an element after performing at most k operations.\n",
    "\n",
    " \n",
    "\n",
    "Example 1:\n",
    "\n",
    "Input: nums = [1,2,4], k = 5\n",
    "Output: 3\n",
    "Explanation: Increment the first element three times and the second element two times to make nums = [4,4,4].\n",
    "4 has a frequency of 3.\n",
    "Example 2:\n",
    "\n",
    "Input: nums = [1,4,8,13], k = 5\n",
    "Output: 2\n",
    "Explanation: There are multiple optimal solutions:\n",
    "- Increment the first element three times to make nums = [4,4,8,13]. 4 has a frequency of 2.\n",
    "- Increment the second element four times to make nums = [1,8,8,13]. 8 has a frequency of 2.\n",
    "- Increment the third element five times to make nums = [1,4,13,13]. 13 has a frequency of 2.\n",
    "Example 3:\n",
    "\n",
    "Input: nums = [3,9,6], k = 2\n",
    "Output: 1\n",
    " \n",
    "\n",
    "Constraints:\n",
    "\n",
    "1 <= nums.length <= 105\n",
    "1 <= nums[i] <= 105\n",
    "1 <= k <= 105"
   ]
  },
  {
   "cell_type": "markdown",
   "id": "d20ab382",
   "metadata": {},
   "source": [
    "# intution:\n",
    "- so we can only increase the number, so we can take the max number in a window and increase all the other nums in the window equal to it.\n",
    "- which window ? - its not ordered , some min be in the window and making it bigger will never be possible.\n",
    "    ex: [1,4,4,1,1,2], k = 2 : increasing the last val with 2 will give the max as 3. \n",
    "\n",
    "- So what to do: sort them. :) \n",
    "- Let’s say we fix nums[right] as the target value. We want to find the longest window [left, right] where we can make all elements equal to nums[right] using at most k increments.\n",
    "\n",
    "- when to srink the window ? \n",
    "- when we can't increament all the values in the current window to maxi, with the given operation. \n",
    "- [[1,1,2],4,5] k = 1. we can't increament both 1's to 2. how to find this.\n",
    "    -  sum(window) = 4.\n",
    "    - what we need = 2 * 3[nuber of values in the list]\n",
    "    - we need 6 -4 = 2 operations to increament values in the window to maxi. \n",
    "\n",
    "    - when this condition is not met, decrease the window,\n",
    "    "
   ]
  },
  {
   "cell_type": "code",
   "execution_count": null,
   "id": "9b1dc97d",
   "metadata": {},
   "outputs": [],
   "source": [
    "class Solution:\n",
    "    def maxFrequency(self, nums: list[int], k: int) -> int:\n",
    "        nums.sort()\n",
    "        start = 0\n",
    "        total = 0\n",
    "        max_freq = 0\n",
    "\n",
    "        for end in range(len(nums)):\n",
    "            total += nums[end]\n",
    "            \n",
    "            # Total cost to make all elements in window equal to nums[end].\n",
    "            # decrease when it violates the window condition.\n",
    "            while (end - start + 1) * nums[end] - total > k:\n",
    "                total -= nums[start]\n",
    "                start += 1\n",
    "            \n",
    "            max_freq = max(max_freq, end - start + 1)\n",
    "\n",
    "        return max_freq\n",
    "\n",
    "\n",
    "#  tc - O(nlog)[sorting] + O(n) = O(n logn)\n",
    "# sc = O(1)"
   ]
  },
  {
   "cell_type": "code",
   "execution_count": 2,
   "id": "df33f37d",
   "metadata": {},
   "outputs": [
    {
     "data": {
      "text/plain": [
       "2"
      ]
     },
     "execution_count": 2,
     "metadata": {},
     "output_type": "execute_result"
    }
   ],
   "source": [
    "Solution().maxFrequency(nums = [1,4,8,13], k = 5)"
   ]
  },
  {
   "cell_type": "code",
   "execution_count": null,
   "id": "f0b4c93e",
   "metadata": {},
   "outputs": [],
   "source": []
  }
 ],
 "metadata": {
  "kernelspec": {
   "display_name": "3.11.11",
   "language": "python",
   "name": "python3"
  },
  "language_info": {
   "codemirror_mode": {
    "name": "ipython",
    "version": 3
   },
   "file_extension": ".py",
   "mimetype": "text/x-python",
   "name": "python",
   "nbconvert_exporter": "python",
   "pygments_lexer": "ipython3",
   "version": "3.11.11"
  }
 },
 "nbformat": 4,
 "nbformat_minor": 5
}
