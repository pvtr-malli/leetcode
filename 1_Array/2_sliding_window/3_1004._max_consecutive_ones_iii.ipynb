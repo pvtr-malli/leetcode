{
 "cells": [
  {
   "cell_type": "code",
   "execution_count": null,
   "metadata": {},
   "outputs": [],
   "source": [
    "MEDIUM"
   ]
  },
  {
   "cell_type": "markdown",
   "metadata": {},
   "source": [
    "Given a binary array nums and an integer k, return the maximum number of consecutive 1's in the array if you can flip at most k 0's.\n",
    "\n",
    " \n",
    "\n",
    "Example 1:\n",
    "\n",
    "Input: nums = [1,1,1,0,0,0,1,1,1,1,0], k = 2\n",
    "Output: 6\n",
    "Explanation: [1,1,1,0,0,1,1,1,1,1,1]\n",
    "Bolded numbers were flipped from 0 to 1. The longest subarray is underlined.\n",
    "Example 2:\n",
    "\n",
    "Input: nums = [0,0,1,1,0,0,1,1,1,0,1,1,0,0,0,1,1,1,1], k = 3\n",
    "Output: 10\n",
    "Explanation: [0,0,1,1,1,1,1,1,1,1,1,1,0,0,0,1,1,1,1]\n",
    "Bolded numbers were flipped from 0 to 1. The longest subarray is underlined."
   ]
  },
  {
   "cell_type": "markdown",
   "metadata": {},
   "source": [
    "Think of it like a maximum length of sub-array with k zeros,\n",
    "- sliding window and 2 pointers"
   ]
  },
  {
   "cell_type": "code",
   "execution_count": 18,
   "metadata": {},
   "outputs": [],
   "source": [
    "class Solution:\n",
    "    def longestOnes(self, num, k: int) -> int:\n",
    "        zero_count = 0\n",
    "        start = 0\n",
    "        end = 0\n",
    "        i = 0\n",
    "        l = len(num)\n",
    "        max_len = 0\n",
    "        while i < l:\n",
    "            print(\"i\",i)\n",
    "            if num[i] == 1:\n",
    "                end = i\n",
    "                i += 1\n",
    "            else:\n",
    "                # Case 1: teh zero count is < k: So we can add this zero and move on.\n",
    "                if zero_count < k:\n",
    "                    print(\"zero count\", zero_count)\n",
    "                    zero_count += 1\n",
    "                    end = i\n",
    "                    i += 1\n",
    "\n",
    "                # Case 2: the zero count is == k: so we can't add more zero, we need to delete left side values.\n",
    "                else:\n",
    "                    if num[start] == 0:\n",
    "                        print(\"case 2\", start)\n",
    "                        zero_count -= 1\n",
    "                    start += 1\n",
    "            print(start, end)\n",
    "            max_len = max(max_len, end - start + 1)\n",
    "\n",
    "        return max_len\n",
    "\n",
    "# TC - O(N)\n",
    "# SC - O(1)"
   ]
  },
  {
   "cell_type": "code",
   "execution_count": 19,
   "metadata": {},
   "outputs": [
    {
     "name": "stdout",
     "output_type": "stream",
     "text": [
      "i 0\n",
      "0 0\n",
      "i 1\n",
      "0 1\n",
      "i 2\n",
      "0 2\n",
      "i 3\n",
      "0 3\n",
      "i 4\n",
      "0 4\n"
     ]
    },
    {
     "data": {
      "text/plain": [
       "5"
      ]
     },
     "execution_count": 19,
     "metadata": {},
     "output_type": "execute_result"
    }
   ],
   "source": [
    "nums = [1,1,1,1,1]\n",
    "\n",
    "k = 0\n",
    "Solution().longestOnes(num=nums, k=k)"
   ]
  },
  {
   "cell_type": "code",
   "execution_count": null,
   "metadata": {},
   "outputs": [],
   "source": []
  }
 ],
 "metadata": {
  "kernelspec": {
   "display_name": "Python 3",
   "language": "python",
   "name": "python3"
  },
  "language_info": {
   "codemirror_mode": {
    "name": "ipython",
    "version": 3
   },
   "file_extension": ".py",
   "mimetype": "text/x-python",
   "name": "python",
   "nbconvert_exporter": "python",
   "pygments_lexer": "ipython3",
   "version": "3.8.10"
  }
 },
 "nbformat": 4,
 "nbformat_minor": 2
}
