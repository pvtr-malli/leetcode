{
 "cells": [
  {
   "cell_type": "code",
   "execution_count": 1,
   "metadata": {},
   "outputs": [
    {
     "ename": "NameError",
     "evalue": "name 'MEDIUM' is not defined",
     "output_type": "error",
     "traceback": [
      "\u001b[0;31m---------------------------------------------------------------------------\u001b[0m",
      "\u001b[0;31mNameError\u001b[0m                                 Traceback (most recent call last)",
      "Cell \u001b[0;32mIn[1], line 1\u001b[0m\n\u001b[0;32m----> 1\u001b[0m \u001b[43mMEDIUM\u001b[49m\n",
      "\u001b[0;31mNameError\u001b[0m: name 'MEDIUM' is not defined"
     ]
    }
   ],
   "source": [
    "MEDIUM"
   ]
  },
  {
   "cell_type": "code",
   "execution_count": null,
   "metadata": {},
   "outputs": [],
   "source": [
    "Given a binary array nums and an integer goal, return the number of non-empty subarrays with a sum goal.\n",
    "\n",
    "A subarray is a contiguous part of the array.\n",
    "\n",
    "\n",
    "\n",
    "Example 1:\n",
    "\n",
    "Input: nums = [1,0,1,0,1], goal = 2\n",
    "Output: 4\n",
    "Explanation: The 4 subarrays are bolded and underlined below:\n",
    "[1,0,1,0,1]\n",
    "[1,0,1,0,1]\n",
    "[1,0,1,0,1]\n",
    "[1,0,1,0,1]\n",
    "Example 2:\n",
    "\n",
    "Input: nums = [0,0,0,0,0], goal = 0\n",
    "Output: 15"
   ]
  },
  {
   "cell_type": "code",
   "execution_count": null,
   "metadata": {},
   "outputs": [],
   "source": [
    "# NOTE: this is not a sliding window sum.\n",
    "# this is a hasmap sum tracking \n",
    "\n",
    "class Solution(object):\n",
    "    def numSubarraysWithSum(self, nums, goal):\n",
    "        count = {0: 1}\n",
    "        curr_sum = 0\n",
    "        total_subarrays = 0\n",
    "\n",
    "        for num in nums:\n",
    "            curr_sum += num\n",
    "            print(curr_sum)\n",
    "            if curr_sum - goal in count:\n",
    "                total_subarrays += count[curr_sum - goal]\n",
    "\n",
    "            count[curr_sum] = count.get(curr_sum, 0) + 1\n",
    "            print(count)\n",
    "\n",
    "        return total_subarrays"
   ]
  },
  {
   "cell_type": "code",
   "execution_count": 4,
   "metadata": {},
   "outputs": [
    {
     "name": "stdout",
     "output_type": "stream",
     "text": [
      "1\n",
      "{0: 1, 1: 1}\n",
      "1\n",
      "{0: 1, 1: 2}\n",
      "2\n",
      "{0: 1, 1: 2, 2: 1}\n",
      "2\n",
      "{0: 1, 1: 2, 2: 2}\n",
      "3\n",
      "{0: 1, 1: 2, 2: 2, 3: 1}\n"
     ]
    },
    {
     "data": {
      "text/plain": [
       "4"
      ]
     },
     "execution_count": 4,
     "metadata": {},
     "output_type": "execute_result"
    }
   ],
   "source": [
    "Solution().numSubarraysWithSum([1,0,1,0,1], 2)"
   ]
  },
  {
   "cell_type": "code",
   "execution_count": 8,
   "metadata": {},
   "outputs": [
    {
     "data": {
      "text/plain": [
       "97"
      ]
     },
     "execution_count": 8,
     "metadata": {},
     "output_type": "execute_result"
    }
   ],
   "source": [
    "ord(\"a\")"
   ]
  },
  {
   "cell_type": "code",
   "execution_count": null,
   "metadata": {},
   "outputs": [],
   "source": [
    "# this is not a sliding window sum.\n",
    "# we cant find the preceding 0 and track it.\n",
    "\n",
    "class Solution(object):\n",
    "    def numSubarraysWithSum(self, nums, goal):\n",
    "        start = 0\n",
    "        s = 0\n",
    "        c = 0\n",
    "        for end in range(len(nums)):\n",
    "            s += nums[end]\n",
    "\n",
    "            while s == goal:\n",
    "                c += 1\n",
    "\n",
    "                if nums[start] == 1:\n",
    "                    s -= 1\n",
    "                start += 1\n",
    "        return c\n",
    "                "
   ]
  },
  {
   "cell_type": "code",
   "execution_count": 2,
   "metadata": {},
   "outputs": [
    {
     "data": {
      "text/plain": [
       "3"
      ]
     },
     "execution_count": 2,
     "metadata": {},
     "output_type": "execute_result"
    }
   ],
   "source": [
    "Solution().numSubarraysWithSum([1,0,1,0,1], 2)"
   ]
  },
  {
   "cell_type": "code",
   "execution_count": null,
   "metadata": {},
   "outputs": [],
   "source": []
  }
 ],
 "metadata": {
  "kernelspec": {
   "display_name": "3.11.11",
   "language": "python",
   "name": "python3"
  },
  "language_info": {
   "codemirror_mode": {
    "name": "ipython",
    "version": 3
   },
   "file_extension": ".py",
   "mimetype": "text/x-python",
   "name": "python",
   "nbconvert_exporter": "python",
   "pygments_lexer": "ipython3",
   "version": "3.11.11"
  }
 },
 "nbformat": 4,
 "nbformat_minor": 2
}
