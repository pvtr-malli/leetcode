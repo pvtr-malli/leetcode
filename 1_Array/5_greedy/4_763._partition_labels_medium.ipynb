{
 "cells": [
  {
   "cell_type": "markdown",
   "id": "e957d5a0",
   "metadata": {},
   "source": [
    "You are given a string s. We want to partition the string into as many parts as possible so that each letter appears in at most one part. For example, the string \"ababcc\" can be partitioned into [\"abab\", \"cc\"], but partitions such as [\"aba\", \"bcc\"] or [\"ab\", \"ab\", \"cc\"] are invalid.\n",
    "\n",
    "Note that the partition is done so that after concatenating all the parts in order, the resultant string should be s.\n",
    "\n",
    "Return a list of integers representing the size of these parts.\n",
    "\n",
    " \n",
    "\n",
    "Example 1:\n",
    "\n",
    "Input: s = \"ababcbacadefegdehijhklij\"\n",
    "Output: [9,7,8]\n",
    "Explanation:\n",
    "The partition is \"ababcbaca\", \"defegde\", \"hijhklij\".\n",
    "This is a partition so that each letter appears in at most one part.\n",
    "A partition like \"ababcbacadefegde\", \"hijhklij\" is incorrect, because it splits s into less parts.\n",
    "Example 2:\n",
    "\n",
    "Input: s = \"eccbbbbdec\"\n",
    "Output: [10]\n",
    " \n",
    "\n",
    "Constraints:\n",
    "\n",
    "1 <= s.length <= 500\n",
    "s consists of lowercase English letters."
   ]
  },
  {
   "cell_type": "code",
   "execution_count": null,
   "id": "b6c478f9",
   "metadata": {},
   "outputs": [],
   "source": [
    "from collections import OrderedDict \n",
    "\n",
    "class Solution:\n",
    "    def partitionLabels(self, s: str) -> list[int]:\n",
    "        # it containts only lower case english letters,\n",
    "        # my thinking, we store the starting and ending posistion of the charactors.\n",
    "        position = OrderedDict()  # O(26)\n",
    "        for ind, char in enumerate(s):\n",
    "            if char in position:\n",
    "                # if the character coming again then change the ending index.\n",
    "                position[char][1] = ind\n",
    "\n",
    "            else:\n",
    "                position[char] = [ind, ind] # if this coming first then keep the starting and ending position same ind.\n",
    "            \n",
    "        # this is sorted based on the starting index.\n",
    "        # OrderedDict([('a', [0, 8]), ('b', [1, 5]), ('c', [4, 7]), ('d', [9, 14]), ('e', [10, 15]), ('f', [11, 11]),\n",
    "        #  ('g', [13, 13]), ('h', [16, 19]), ('i', [17, 22]), ('j', [18, 23]), ('k', [20, 20]), ('l', [21, 21])])\n",
    "        # take the first item as starting and ending index, if the next once are coliding with this than include that \n",
    "        # charcter also in this partiion, means just increase the ending index.\n",
    "        # if the next item is not coliding with the current start,end index than we are donw with the current partirion.\n",
    "\n",
    "        # take the strading and ending for the first and delete them.\n",
    "        char, ind = position.popitem(last=False)\n",
    "        strat_inx, end_ind = ind\n",
    "        res = []\n",
    "        for char, posi in position.items():\n",
    "            s2,e2 = posi\n",
    "            if s2 < end_ind:\n",
    "                # this is coming inside our current partion.\n",
    "                if end_ind < e2:\n",
    "                    # the coming interval is bigger than the current.\n",
    "                    end_ind = e2\n",
    "            else:\n",
    "                # new partition.\n",
    "                res.append(end_ind - strat_inx + 1)\n",
    "                strat_inx = s2\n",
    "                end_ind = e2\n",
    "\n",
    "        # update the last partition.\n",
    "        res.append(end_ind - strat_inx + 1)\n",
    "\n",
    "        return res\n",
    "\n",
    "        \n",
    "# tc - O(n)[position dict] + O(26)[dict loop]\n",
    "# sc - O(26) + O(n)[result set]\n"
   ]
  },
  {
   "cell_type": "code",
   "execution_count": 19,
   "id": "c270dc0a",
   "metadata": {},
   "outputs": [
    {
     "data": {
      "text/plain": [
       "[9, 7, 8]"
      ]
     },
     "execution_count": 19,
     "metadata": {},
     "output_type": "execute_result"
    }
   ],
   "source": [
    "Solution().partitionLabels(s = \"ababcbacadefegdehijhklij\")"
   ]
  },
  {
   "cell_type": "code",
   "execution_count": 20,
   "id": "e99adbad",
   "metadata": {},
   "outputs": [
    {
     "data": {
      "text/plain": [
       "[10]"
      ]
     },
     "execution_count": 20,
     "metadata": {},
     "output_type": "execute_result"
    }
   ],
   "source": [
    "Solution().partitionLabels(s = \"eccbbbbdec\")"
   ]
  },
  {
   "cell_type": "code",
   "execution_count": null,
   "id": "8d4bd8c3",
   "metadata": {},
   "outputs": [],
   "source": []
  }
 ],
 "metadata": {
  "kernelspec": {
   "display_name": "3.11.11",
   "language": "python",
   "name": "python3"
  },
  "language_info": {
   "codemirror_mode": {
    "name": "ipython",
    "version": 3
   },
   "file_extension": ".py",
   "mimetype": "text/x-python",
   "name": "python",
   "nbconvert_exporter": "python",
   "pygments_lexer": "ipython3",
   "version": "3.11.11"
  }
 },
 "nbformat": 4,
 "nbformat_minor": 5
}
