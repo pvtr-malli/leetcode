{
 "cells": [
  {
   "cell_type": "markdown",
   "id": "10cff7ec",
   "metadata": {},
   "source": [
    "You are given an integer array nums. You are initially positioned at the array's first index, and each element in the array represents your maximum jump length at that position.\n",
    "\n",
    "Return true if you can reach the last index, or false otherwise.\n",
    "\n",
    " \n",
    "\n",
    "Example 1:\n",
    "\n",
    "Input: nums = [2,3,1,1,4]\n",
    "Output: true\n",
    "Explanation: Jump 1 step from index 0 to 1, then 3 steps to the last index.\n",
    "Example 2:\n",
    "\n",
    "Input: nums = [3,2,1,0,4]\n",
    "Output: false\n",
    "Explanation: You will always arrive at index 3 no matter what. Its maximum jump length is 0, which makes it impossible to reach the last index.\n",
    " \n",
    "\n",
    "Constraints:\n",
    "\n",
    "1 <= nums.length <= 104\n",
    "0 <= nums[i] <= 105"
   ]
  },
  {
   "cell_type": "code",
   "execution_count": null,
   "id": "fb30ed7b",
   "metadata": {},
   "outputs": [],
   "source": [
    "class Solution:\n",
    "    def canJump(self, nums: list[int]) -> bool:\n",
    "        can_reach_max = 0\n",
    "        n = len(nums)\n",
    "\n",
    "        for i in range(n):\n",
    "            \n",
    "            # if the current index is more than what we can maximum reach, then return false.\n",
    "            if i > can_reach_max:\n",
    "                return False\n",
    "            \n",
    "            # update what we can reach max, cur_ind + jump = if this is max than what we can already went then update.\n",
    "            can_reach_max = max(can_reach_max, i + nums[i])\n",
    "\n",
    "            if can_reach_max >= n - 1:\n",
    "                return True\n",
    "            \n",
    "        return True\n",
    "\n",
    "\n",
    "# tc - O(n)\n",
    "# sc - O(1)"
   ]
  }
 ],
 "metadata": {
  "language_info": {
   "name": "python"
  }
 },
 "nbformat": 4,
 "nbformat_minor": 5
}
