{
 "cells": [
  {
   "cell_type": "markdown",
   "id": "6e90770a",
   "metadata": {},
   "source": [
    "Given two arrays, val[] and wt[], representing the values and weights of items, and an integer capacity representing the maximum weight a knapsack can hold, the task is to determine the maximum total value that can be achieved by putting items in the knapsack. You are allowed to break items into fractions if necessary.\n",
    "\n",
    "Note: Return the maximum value as a double, rounded to 6 decimal places.\n",
    "\n",
    "Examples:\n",
    "\n",
    "Input: val[] = [60, 100, 120], wt[] = [10, 20, 30], capacity = 50\n",
    "Output: 240 \n",
    "Explanation: By taking items of weight 10 and 20 kg and 2/3 fraction of 30 kg. \n",
    "Hence total price will be 60+100+(2/3)(120) = 240\n",
    "\n",
    "Input:  val[] = [500], wt[] = [30], capacity = 10\n",
    "Output: 166.667"
   ]
  },
  {
   "cell_type": "code",
   "execution_count": null,
   "id": "2c35e239",
   "metadata": {},
   "outputs": [],
   "source": [
    "\n",
    "def fractionalKnapsack(val, wt, capacity):\n",
    "    n = len(val)\n",
    "\n",
    "    # Create list to store value and weight\n",
    "    # items[i][0] = value, items[i][1] = weight\n",
    "    items = [[val[i], wt[i]] for i in range(n)]\n",
    "\n",
    "    # Sort items based on value-to-weight ratio in descending order\n",
    "    items.sort(key=lambda x: x[0]/x[1], reverse=True)\n",
    "\n",
    "    res = 0.0\n",
    "    currentCapacity = capacity\n",
    "\n",
    "    # Process items in sorted order\n",
    "    for i in range(n):\n",
    "\n",
    "        # If we can take the entire item\n",
    "        if items[i][1] <= currentCapacity:\n",
    "            res += items[i][0]\n",
    "            currentCapacity -= items[i][1]\n",
    "\n",
    "        # Otherwise take a fraction of the item\n",
    "        else:\n",
    "            res += (1.0 * items[i][0] / items[i][1]) * currentCapacity\n",
    "\n",
    "            # Knapsack is full\n",
    "            break\n",
    "\n",
    "    return res\n",
    "\n",
    "if __name__ == \"__main__\":\n",
    "    val = [60, 100, 120]\n",
    "    wt = [10, 20, 30]\n",
    "    capacity = 50\n",
    "\n",
    "    print(fractionalKnapsack(val, wt, capacity))"
   ]
  }
 ],
 "metadata": {
  "language_info": {
   "name": "python"
  }
 },
 "nbformat": 4,
 "nbformat_minor": 5
}
