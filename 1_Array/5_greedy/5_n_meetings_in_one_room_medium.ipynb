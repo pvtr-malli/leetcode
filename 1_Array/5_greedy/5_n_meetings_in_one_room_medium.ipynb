{
 "cells": [
  {
   "cell_type": "markdown",
   "id": "9f79be43",
   "metadata": {},
   "source": [
    "You are given timings of n meetings in the form of (start[i], end[i]) where start[i] is the start time of meeting i and end[i] is the finish time of meeting i. Return the maximum number of meetings that can be accommodated in a single meeting room, when only one meeting can be held in the meeting room at a particular time. \n",
    "\n",
    "Note: The start time of one chosen meeting can't be equal to the end time of the other chosen meeting.\n",
    "\n",
    "Examples :\n",
    "\n",
    "Input: start[] = [1, 3, 0, 5, 8, 5], end[] =  [2, 4, 6, 7, 9, 9]\n",
    "Output: 4\n",
    "Explanation: Maximum four meetings can be held with given start and end timings. The meetings are - (1, 2), (3, 4), (5,7) and (8,9)\n",
    "Input: start[] = [10, 12, 20], end[] = [20, 25, 30]\n",
    "Output: 1\n",
    "Explanation: Only one meetings can be held with given start and end timings.\n",
    "Input: start[] = [1, 2], end[] = [100, 99]\n",
    "Output: 1\n",
    "Constraints:\n",
    "1 ≤ n ≤ 105\n",
    "0 ≤ start[i] < end[i] ≤ 106"
   ]
  },
  {
   "cell_type": "code",
   "execution_count": null,
   "id": "bd593091",
   "metadata": {},
   "outputs": [],
   "source": [
    "class Solution:\n",
    "    def maxMeetings(self, start, end):\n",
    "        # first put it together ans strat based on the end time.\n",
    "        # [(1, 2), (3, 4), (0, 6), (5, 7), (8, 9), (5, 9)]\n",
    "        # lets take a variable, for storing \"when the last meeting ended\". \n",
    "        # I cant start at the same time, so I'll add the next meeting only when it's start time is more than end time.\n",
    "        # since this is sorted based on the end time, If last time is 4, than there are no free time before 4. NOTE:\n",
    "        meetings = list(zip(start, end))\n",
    "        meetings.sort(key=lambda x: x[1])  # sort by end time\n",
    "\n",
    "        \n",
    "        print(meetings)\n",
    "\n",
    "        count = 1  # always pick the first meeting\n",
    "        last_end_time = meetings[0][1]\n",
    "\n",
    "        n = len(meetings)\n",
    "        for i in range(1, n):\n",
    "            if meetings[i][0] > last_end_time:\n",
    "                count += 1\n",
    "                last_end_time = meetings[i][1]\n",
    "        \n",
    "        return count\n"
   ]
  },
  {
   "cell_type": "code",
   "execution_count": 6,
   "id": "f26f6507",
   "metadata": {},
   "outputs": [
    {
     "name": "stdout",
     "output_type": "stream",
     "text": [
      "[(1, 2), (3, 4), (0, 6), (5, 7), (8, 9), (5, 9)]\n"
     ]
    },
    {
     "data": {
      "text/plain": [
       "4"
      ]
     },
     "execution_count": 6,
     "metadata": {},
     "output_type": "execute_result"
    }
   ],
   "source": [
    "Solution().maxMeetings(start= [1, 3, 0, 5, 8, 5], end =  [2, 4, 6, 7, 9, 9])"
   ]
  },
  {
   "cell_type": "code",
   "execution_count": null,
   "id": "6255905b",
   "metadata": {},
   "outputs": [],
   "source": []
  }
 ],
 "metadata": {
  "kernelspec": {
   "display_name": "3.11.11",
   "language": "python",
   "name": "python3"
  },
  "language_info": {
   "codemirror_mode": {
    "name": "ipython",
    "version": 3
   },
   "file_extension": ".py",
   "mimetype": "text/x-python",
   "name": "python",
   "nbconvert_exporter": "python",
   "pygments_lexer": "ipython3",
   "version": "3.11.11"
  }
 },
 "nbformat": 4,
 "nbformat_minor": 5
}
