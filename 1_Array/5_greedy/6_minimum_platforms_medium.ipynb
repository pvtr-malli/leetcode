{
 "cells": [
  {
   "cell_type": "markdown",
   "id": "527891e6",
   "metadata": {},
   "source": [
    " You are given the arrival times arr[] and departure times dep[] of all trains that arrive at a railway station on the same day. Your task is to determine the minimum number of platforms required at the station to ensure that no train is kept waiting.\n",
    "\n",
    "At any given time, the same platform cannot be used for both the arrival of one train and the departure of another. Therefore, when two trains arrive at the same time, or when one arrives before another departs, additional platforms are required to accommodate both trains.\n",
    "\n",
    "Examples:\n",
    "\n",
    "Input: arr[] = [900, 940, 950, 1100, 1500, 1800], dep[] = [910, 1200, 1120, 1130, 1900, 2000]\n",
    "Output: 3\n",
    "Explanation: There are three trains during the time 9:40 to 12:00. So we need a minimum of 3 platforms.\n",
    "Input: arr[] = [900, 1235, 1100], dep[] = [1000, 1240, 1200]\n",
    "Output: 1\n",
    "Explanation: All train times are mutually exclusive. So we need only one platform\n",
    "Input: arr[] = [1000, 935, 1100], dep[] = [1200, 1240, 1130]\n",
    "Output: 3\n",
    "Explanation: All 3 trains have to be there from 11:00 to 11:30\n",
    "Constraints:\n",
    "1≤ number of trains ≤ 50000\n",
    "0000 ≤ arr[i] ≤ dep[i] ≤ 2359\n",
    "Note: Time intervals are in the 24-hour format(HHMM) , where the first two characters represent hour (between 00 to 23 ) and the last two characters represent minutes (this will be <= 59 and >= 0).\n",
    "\n",
    "Expected Complexities\n",
    "Time Complexity: O(n log n)\n",
    "Auxiliary Space: O(n)"
   ]
  },
  {
   "cell_type": "code",
   "execution_count": null,
   "id": "740ec158",
   "metadata": {},
   "outputs": [],
   "source": [
    "class Solution:    \n",
    "\n",
    "    def minimumPlatform(self,arr: list[int],dep:list[int]):\n",
    "        arr.sort()\n",
    "        dep.sort()\n",
    "\n",
    "        max_count = 0\n",
    "        count = 0\n",
    "        arr_pointer, dep_pointer = 0,0\n",
    "        while arr_pointer < len(arr) and dep_pointer < len(dep) :\n",
    "            if arr[arr_pointer] <= dep[dep_pointer]:\n",
    "                # here araival happens so increase.\n",
    "                count += 1\n",
    "                arr_pointer += 1\n",
    "            else:\n",
    "                # depature happens\n",
    "                count -= 1\n",
    "                dep_pointer += 1\n",
    "            max_count = max(max_count, count)\n",
    "        return max_count\n",
    "    \n",
    "\n",
    "# tc - O(2 nlong)[sorting] + O(2n)[accessing] \n",
    "# sc - O(1)"
   ]
  },
  {
   "cell_type": "code",
   "execution_count": 10,
   "id": "c60a9df8",
   "metadata": {},
   "outputs": [
    {
     "name": "stdout",
     "output_type": "stream",
     "text": [
      "0 0\n",
      "1 0\n",
      "1 1\n",
      "2 1\n",
      "3 1\n",
      "4 1\n",
      "4 2\n",
      "4 3\n",
      "4 4\n",
      "5 4\n"
     ]
    },
    {
     "data": {
      "text/plain": [
       "3"
      ]
     },
     "execution_count": 10,
     "metadata": {},
     "output_type": "execute_result"
    }
   ],
   "source": [
    "Solution().minimumPlatform(arr= [900, 940, 950, 1100, 1500, 1800], dep= [910, 1200, 1120, 1130, 1900, 2000])"
   ]
  },
  {
   "cell_type": "code",
   "execution_count": null,
   "id": "34db54d3",
   "metadata": {},
   "outputs": [],
   "source": []
  }
 ],
 "metadata": {
  "kernelspec": {
   "display_name": "3.11.11",
   "language": "python",
   "name": "python3"
  },
  "language_info": {
   "codemirror_mode": {
    "name": "ipython",
    "version": 3
   },
   "file_extension": ".py",
   "mimetype": "text/x-python",
   "name": "python",
   "nbconvert_exporter": "python",
   "pygments_lexer": "ipython3",
   "version": "3.11.11"
  }
 },
 "nbformat": 4,
 "nbformat_minor": 5
}
