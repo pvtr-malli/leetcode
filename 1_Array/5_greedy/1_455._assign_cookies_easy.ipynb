{
 "cells": [
  {
   "cell_type": "markdown",
   "id": "6bb8be07",
   "metadata": {},
   "source": [
    "Assume you are an awesome parent and want to give your children some cookies. But, you should give each child at most one cookie.\n",
    "\n",
    "Each child i has a greed factor g[i], which is the minimum size of a cookie that the child will be content with; and each cookie j has a size s[j]. If s[j] >= g[i], we can assign the cookie j to the child i, and the child i will be content. Your goal is to maximize the number of your content children and output the maximum number.\n",
    "\n",
    " \n",
    "\n",
    "Example 1:\n",
    "\n",
    "Input: g = [1,2,3], s = [1,1]\n",
    "Output: 1\n",
    "Explanation: You have 3 children and 2 cookies. The greed factors of 3 children are 1, 2, 3. \n",
    "And even though you have 2 cookies, since their size is both 1, you could only make the child whose greed factor is 1 content.\n",
    "You need to output 1.\n",
    "Example 2:\n",
    "\n",
    "Input: g = [1,2], s = [1,2,3]\n",
    "Output: 2\n",
    "Explanation: You have 2 children and 3 cookies. The greed factors of 2 children are 1, 2. \n",
    "You have 3 cookies and their sizes are big enough to gratify all of the children, \n",
    "You need to output 2.\n",
    " \n",
    "\n",
    "Constraints:\n",
    "\n",
    "1 <= g.length <= 3 * 104\n",
    "0 <= s.length <= 3 * 104\n",
    "1 <= g[i], s[j] <= 231 - 1\n",
    " \n",
    "\n",
    "Note: This question is the same as 2410: Maximum Matching of Players With Trainers."
   ]
  },
  {
   "cell_type": "code",
   "execution_count": null,
   "id": "3c4fe082",
   "metadata": {},
   "outputs": [],
   "source": [
    "class Solution:\n",
    "    def findContentChildren(self, g: list[int], s: list[int]) -> int:\n",
    "        # lets act greedy, will give a cookie which is mimimum possible to satisfy a chailds greed. \n",
    "        # if a child wants 1, lets give 1 or the minimist possible cookie in the basket.\n",
    "        # why to give more, because someone else may want more.\n",
    "\n",
    "        # so sort both the arrays.\n",
    "        g.sort()\n",
    "        s.sort()\n",
    "        \n",
    "        child_pointer = 0\n",
    "        cookie_pointer = 0\n",
    "        maxi = 0\n",
    "        while cookie_pointer < len(s) and child_pointer < len(g):\n",
    "            # so if the cookie can satisfy the current child, take it. and move forward for the next child.\n",
    "            # because one cookie can be given to one child.\n",
    "            # if g[child_pointer] <= s[cookie_pointer]:\n",
    "            #     maxi += 1\n",
    "            #     child_pointer += 1\n",
    "            #     cookie_pointer += 1\n",
    "            # else:\n",
    "            #     cookie_pointer += 1     \n",
    "\n",
    "            # NOTE: I can remove the reductant else statement since increasing the cookie pointer is in both of the block.\n",
    "            if g[child_pointer] <= s[cookie_pointer]:\n",
    "                maxi += 1\n",
    "                child_pointer += 1\n",
    "            cookie_pointer += 1\n",
    "\n",
    "\n",
    "        return maxi\n",
    "\n",
    "\n",
    "# tc - O(nlogn ) + O(nlogn) + O(n) = O(nlogn)\n",
    "# sc - O(1)"
   ]
  },
  {
   "cell_type": "code",
   "execution_count": 5,
   "id": "f944f066",
   "metadata": {},
   "outputs": [
    {
     "data": {
      "text/plain": [
       "1"
      ]
     },
     "execution_count": 5,
     "metadata": {},
     "output_type": "execute_result"
    }
   ],
   "source": [
    "Solution().findContentChildren(g = [1,2,3], s = [1,1])"
   ]
  },
  {
   "cell_type": "code",
   "execution_count": 6,
   "id": "04938895",
   "metadata": {},
   "outputs": [
    {
     "data": {
      "text/plain": [
       "2"
      ]
     },
     "execution_count": 6,
     "metadata": {},
     "output_type": "execute_result"
    }
   ],
   "source": [
    "Solution().findContentChildren(g = [1,2], s = [1,2,3])"
   ]
  },
  {
   "cell_type": "code",
   "execution_count": null,
   "id": "115863e2",
   "metadata": {},
   "outputs": [],
   "source": []
  }
 ],
 "metadata": {
  "kernelspec": {
   "display_name": "3.11.11",
   "language": "python",
   "name": "python3"
  },
  "language_info": {
   "codemirror_mode": {
    "name": "ipython",
    "version": 3
   },
   "file_extension": ".py",
   "mimetype": "text/x-python",
   "name": "python",
   "nbconvert_exporter": "python",
   "pygments_lexer": "ipython3",
   "version": "3.11.11"
  }
 },
 "nbformat": 4,
 "nbformat_minor": 5
}
