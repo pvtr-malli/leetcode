{
 "cells": [
  {
   "cell_type": "markdown",
   "id": "34ae0aed",
   "metadata": {},
   "source": [
    "You are given two arrays: deadline[], and profit[], which represent a set of jobs, where each job is associated with a deadline, and a profit. Each job takes 1 unit of time to complete, and only one job can be scheduled at a time. You will earn the profit associated with a job only if it is completed by its deadline.\n",
    "\n",
    "Your task is to find:\n",
    "\n",
    "The maximum number of jobs that can be completed within their deadlines.\n",
    "The total maximum profit earned by completing those jobs.\n",
    "Examples :\n",
    "\n",
    "Input: deadline[] = [4, 1, 1, 1], profit[] = [20, 10, 40, 30]\n",
    "Output: [2, 60]\n",
    "Explanation: Job1 and Job3 can be done with maximum profit of 60 (20+40).\n",
    "Input: deadline[] = [2, 1, 2, 1, 1], profit[] = [100, 19, 27, 25, 15]\n",
    "Output: [2, 127]\n",
    "Explanation: Job1 and Job3 can be done with maximum profit of 127 (100+27).\n",
    "Input: deadline[] = [3, 1, 2, 2], profit[] = [50, 10, 20, 30]\n",
    "Output: [3, 100]\n",
    "Explanation: Job1, Job3 and Job4 can be completed with a maximum profit of 100 (50 + 20 + 30).\n",
    "Constraints:\n",
    "1 ≤ deadline.size() == profit.size() ≤ 105\n",
    "1 ≤ deadline[i] ≤ deadline.size()\n",
    "1 ≤ profit[i] ≤ 500"
   ]
  },
  {
   "cell_type": "code",
   "execution_count": null,
   "id": "1a6b69e5",
   "metadata": {},
   "outputs": [],
   "source": [
    "class Solution:\n",
    "    def jobSequencing(self, deadline, profit):\n",
    "        job = [[dl, p] for dl,p in zip(deadline, profit)]\n",
    "        job.sort(key=lambda x: x[1], reverse=True) # sort it based on the profit.\n",
    "        # BE greedy: whwn you have 5 days to do a job, and that can ibe done in 1 day, why to do it in the starting.\n",
    "        # lets do the short dealine jobs first on those days, and do the longer dealine days in the end day.\n",
    "        # basically do all the jobs at the maxmim end days.\n",
    "\n",
    "        # create a has for tracking which are all the days are taken by a job.\n",
    "        h = [-1] * (max(deadline) + 1) \n",
    "\n",
    "        # if the day is not taken, will do the job on that,\n",
    "        # if taken do it in the previous day.\n",
    "        max_profit = 0\n",
    "        count = 0\n",
    "        for ele in job:\n",
    "            dl,p = ele\n",
    "            for i in range(dl, 0, -1): # don't add zero as a day, that is just added for easy index access.\n",
    "                # loop over all the hash and see which day is free and do this on that day.\n",
    "                if h[i] == -1:\n",
    "                    count += 1\n",
    "                    h[i] = 1 # fill the day\n",
    "                    max_profit += p\n",
    "                    break\n",
    "        return [count, max_profit]\n",
    "\n",
    "\n",
    "# tc - O(nlogn)[sorting] + O(n * max_deadline) - we can optimse this using disjont set - to get the free day in O(1) tc\n",
    "# sc - O(max_deadline) + O(n) = O(n)"
   ]
  },
  {
   "cell_type": "code",
   "execution_count": 17,
   "id": "466ef9cf",
   "metadata": {},
   "outputs": [
    {
     "data": {
      "text/plain": [
       "[2, 60]"
      ]
     },
     "execution_count": 17,
     "metadata": {},
     "output_type": "execute_result"
    }
   ],
   "source": [
    "Solution().jobSequencing(deadline = [4, 1, 1, 1], profit= [20, 10, 40, 30])"
   ]
  },
  {
   "cell_type": "code",
   "execution_count": 18,
   "id": "66237045",
   "metadata": {},
   "outputs": [
    {
     "data": {
      "text/plain": [
       "[2, 127]"
      ]
     },
     "execution_count": 18,
     "metadata": {},
     "output_type": "execute_result"
    }
   ],
   "source": [
    "Solution().jobSequencing(deadline= [2, 1, 2, 1, 1], profit= [100, 19, 27, 25, 15])"
   ]
  },
  {
   "cell_type": "code",
   "execution_count": 19,
   "id": "6023290e",
   "metadata": {},
   "outputs": [
    {
     "data": {
      "text/plain": [
       "[3, 100]"
      ]
     },
     "execution_count": 19,
     "metadata": {},
     "output_type": "execute_result"
    }
   ],
   "source": [
    "Solution().jobSequencing(deadline= [3, 1, 2, 2], profit= [50, 10, 20, 30])"
   ]
  },
  {
   "cell_type": "code",
   "execution_count": null,
   "id": "0b343f34",
   "metadata": {},
   "outputs": [],
   "source": []
  }
 ],
 "metadata": {
  "kernelspec": {
   "display_name": "3.11.11",
   "language": "python",
   "name": "python3"
  },
  "language_info": {
   "codemirror_mode": {
    "name": "ipython",
    "version": 3
   },
   "file_extension": ".py",
   "mimetype": "text/x-python",
   "name": "python",
   "nbconvert_exporter": "python",
   "pygments_lexer": "ipython3",
   "version": "3.11.11"
  }
 },
 "nbformat": 4,
 "nbformat_minor": 5
}
