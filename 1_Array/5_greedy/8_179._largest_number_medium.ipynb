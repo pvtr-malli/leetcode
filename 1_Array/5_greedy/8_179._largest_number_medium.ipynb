{
 "cells": [
  {
   "cell_type": "markdown",
   "id": "25bbecb1",
   "metadata": {},
   "source": [
    "Given a list of non-negative integers nums, arrange them such that they form the largest number and return it.\n",
    "\n",
    "Since the result may be very large, so you need to return a string instead of an integer.\n",
    "\n",
    " \n",
    "\n",
    "Example 1:\n",
    "\n",
    "Input: nums = [10,2]\n",
    "Output: \"210\"\n",
    "Example 2:\n",
    "\n",
    "Input: nums = [3,30,34,5,9]\n",
    "Output: \"9534330\"\n",
    " \n",
    "\n",
    "Constraints:\n",
    "\n",
    "1 <= nums.length <= 100\n",
    "0 <= nums[i] <= 109"
   ]
  },
  {
   "cell_type": "code",
   "execution_count": null,
   "id": "0ee60910",
   "metadata": {},
   "outputs": [],
   "source": [
    "# learn about the compare function for sorting.\n",
    "# 🔹 What is a compare function?\n",
    "# A compare function is a function that compares two elements, say a and b, and returns:\n",
    "\n",
    "# -1 if a should come before b\n",
    "\n",
    "# 1 if a should come after b\n",
    "\n",
    "# 0 if they are equal in order\n",
    "\n",
    "def compare(a, b):\n",
    "    if a > b:\n",
    "        return -1  # larger numbers first\n",
    "    elif a < b:\n",
    "        return 1\n",
    "    else:\n",
    "        return 0\n",
    "\n",
    "\n"
   ]
  },
  {
   "cell_type": "code",
   "execution_count": 1,
   "id": "bbefe094",
   "metadata": {},
   "outputs": [],
   "source": [
    "from functools import cmp_to_key\n",
    "\n",
    "class Solution:\n",
    "    def largestNumber(self, nums: list[int]) -> str:\n",
    "        # Convert integers to strings\n",
    "        nums = list(map(str, nums))\n",
    "        \n",
    "        # Define custom comparator\n",
    "        def compare(x, y):\n",
    "            if x + y > y + x: # the value which give the more sum should come first.\n",
    "                # Take two numbers: \"3\" and \"30\"\n",
    "\n",
    "                # \"3\" + \"30\" = \"330\"\n",
    "\n",
    "                # \"30\" + \"3\" = \"303\"\n",
    "                # 3 should come first... that is the concept.\n",
    "                return -1\n",
    "            \n",
    "            elif x + y < y + x:\n",
    "                return 1 \n",
    "            else:\n",
    "                return 0\n",
    "        \n",
    "        # Sort with custom comparator\n",
    "        nums.sort(key=cmp_to_key(compare))\n",
    "        print(nums)\n",
    "        \n",
    "        # Edge case: if the largest number is \"0\", the result is \"0\"\n",
    "        if nums[0] == \"0\":\n",
    "            return \"0\"\n",
    "        \n",
    "        return ''.join(nums)\n"
   ]
  },
  {
   "cell_type": "code",
   "execution_count": 2,
   "id": "232475d6",
   "metadata": {},
   "outputs": [
    {
     "name": "stdout",
     "output_type": "stream",
     "text": [
      "['9', '5', '34', '3', '30']\n"
     ]
    },
    {
     "data": {
      "text/plain": [
       "'9534330'"
      ]
     },
     "execution_count": 2,
     "metadata": {},
     "output_type": "execute_result"
    }
   ],
   "source": [
    "Solution().largestNumber(nums = [3,30,34,5,9])"
   ]
  },
  {
   "cell_type": "markdown",
   "id": "16595e41",
   "metadata": {},
   "source": [
    "# IMportant note"
   ]
  },
  {
   "cell_type": "code",
   "execution_count": null,
   "id": "1203e4a8",
   "metadata": {},
   "outputs": [
    {
     "data": {
      "text/plain": [
       "True"
      ]
     },
     "execution_count": 3,
     "metadata": {},
     "output_type": "execute_result"
    }
   ],
   "source": [
    "'95' > '59'      # here is compares the str lexicographically haracter by character from left to right, just like in a dictionary."
   ]
  },
  {
   "cell_type": "markdown",
   "id": "593ebae3",
   "metadata": {},
   "source": [
    "Step-by-step:\n",
    "Let’s compare '95' and '59':\n",
    "\n",
    "First characters: '9' vs '5'\n",
    "➜ '9' > '5' → So Python concludes:\n",
    "✅ '95' > '59'\n",
    "\n",
    "Python doesn’t compare the entire number at once.\n",
    "It compares one character at a time, from left to right.\n",
    "\n",
    "\n",
    "\n",
    "\n",
    "# how it dicides which comes first in a str... \n",
    "obviously, ACSII values.\n",
    "ord('9') = 57\n",
    "ord('8') = 56\n",
    "'9' > '8' => 57 > 56 => True"
   ]
  },
  {
   "cell_type": "code",
   "execution_count": null,
   "id": "19d69926",
   "metadata": {},
   "outputs": [],
   "source": [
    "\n"
   ]
  }
 ],
 "metadata": {
  "kernelspec": {
   "display_name": "3.11.11",
   "language": "python",
   "name": "python3"
  },
  "language_info": {
   "codemirror_mode": {
    "name": "ipython",
    "version": 3
   },
   "file_extension": ".py",
   "mimetype": "text/x-python",
   "name": "python",
   "nbconvert_exporter": "python",
   "pygments_lexer": "ipython3",
   "version": "3.11.11"
  }
 },
 "nbformat": 4,
 "nbformat_minor": 5
}
