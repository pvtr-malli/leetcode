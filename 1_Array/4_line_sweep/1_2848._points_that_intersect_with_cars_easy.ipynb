{
 "cells": [
  {
   "cell_type": "markdown",
   "id": "980d864b",
   "metadata": {},
   "source": [
    "You are given a 0-indexed 2D integer array nums representing the coordinates of the cars parking on a number line. For any index i, nums[i] = [starti, endi] where starti is the starting point of the ith car and endi is the ending point of the ith car.\n",
    "\n",
    "Return the number of integer points on the line that are covered with any part of a car.\n",
    "\n",
    " \n",
    "\n",
    "Example 1:\n",
    "\n",
    "Input: nums = [[3,6],[1,5],[4,7]]\n",
    "Output: 7\n",
    "Explanation: All the points from 1 to 7 intersect at least one car, therefore the answer would be 7.\n",
    "Example 2:\n",
    "\n",
    "Input: nums = [[1,3],[5,8]]\n",
    "Output: 7\n",
    "Explanation: Points intersecting at least one car are 1, 2, 3, 5, 6, 7, 8. There are a total of 7 points, therefore the answer would be 7.\n",
    " \n",
    "\n",
    "Constraints:\n",
    "\n",
    "1 <= nums.length <= 100\n",
    "nums[i].length == 2\n",
    "1 <= starti <= endi <= 100"
   ]
  },
  {
   "cell_type": "code",
   "execution_count": null,
   "id": "252d0e90",
   "metadata": {},
   "outputs": [],
   "source": [
    "class Solution:\n",
    "    def numberOfPoints(self, cars):\n",
    "        sweep = [0] * 102  # only need up to 101 (0 to 100), index 101 for boundary\n",
    "\n",
    "        for start, end in cars:\n",
    "            sweep[start] += 1\n",
    "            sweep[end + 1] -= 1\n",
    "\n",
    "        occupied = 0\n",
    "        active = 0\n",
    "        for i in range(101):  # points from 0 to 100\n",
    "            active += sweep[i]\n",
    "            if active > 0:\n",
    "                occupied += 1\n",
    "\n",
    "        return occupied\n",
    "\n",
    "\n",
    "# tc - O(n) + O(R)[101 array for loop]\n",
    "# sc - O(1) #  the array have constant size."
   ]
  }
 ],
 "metadata": {
  "language_info": {
   "name": "python"
  }
 },
 "nbformat": 4,
 "nbformat_minor": 5
}
