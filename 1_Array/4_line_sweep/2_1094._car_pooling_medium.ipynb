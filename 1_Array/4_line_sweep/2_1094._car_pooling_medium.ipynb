{
 "cells": [
  {
   "cell_type": "markdown",
   "id": "4f71a5d3",
   "metadata": {},
   "source": [
    "There is a car with capacity empty seats. The vehicle only drives east (i.e., it cannot turn around and drive west).\n",
    "\n",
    "You are given the integer capacity and an array trips where trips[i] = [numPassengersi, fromi, toi] indicates that the ith trip has numPassengersi passengers and the locations to pick them up and drop them off are fromi and toi respectively. The locations are given as the number of kilometers due east from the car's initial location.\n",
    "\n",
    "Return true if it is possible to pick up and drop off all passengers for all the given trips, or false otherwise.\n",
    "\n",
    " \n",
    "\n",
    "Example 1:\n",
    "\n",
    "Input: trips = [[2,1,5],[3,3,7]], capacity = 4\n",
    "Output: false\n",
    "Example 2:\n",
    "\n",
    "Input: trips = [[2,1,5],[3,3,7]], capacity = 5\n",
    "Output: true\n",
    " \n",
    "\n",
    "Constraints:\n",
    "\n",
    "1 <= trips.length <= 1000\n",
    "trips[i].length == 3\n",
    "1 <= numPassengersi <= 100\n",
    "0 <= fromi < toi <= 1000\n",
    "1 <= capacity <= 105"
   ]
  },
  {
   "cell_type": "code",
   "execution_count": null,
   "id": "8e5e6cf5",
   "metadata": {},
   "outputs": [],
   "source": [
    "# see every inbwt points\n",
    "\n",
    "def carPooling(trips, capacity):\n",
    "    stops = [0] * 1001  # as max 'to' is 1000\n",
    "\n",
    "    for num_passengers, start, end in trips:\n",
    "        for i in range(start, end):\n",
    "            stops[i] += num_passengers\n",
    "            if stops[i] > capacity:\n",
    "                return False\n",
    "\n",
    "    return True\n"
   ]
  },
  {
   "cell_type": "code",
   "execution_count": null,
   "id": "781965df",
   "metadata": {},
   "outputs": [],
   "source": [
    "class Solution:\n",
    "    def carPooling(self, trips: list[list[int]], capacity: int) -> bool:\n",
    "        # the max form and to is 1000. \n",
    "        sweep = [0] * 1002\n",
    "\n",
    "        for passenger, start, end in trips:\n",
    "            sweep[start] += passenger\n",
    "            sweep[end] -= passenger\n",
    "\n",
    "        active_passenger = 0\n",
    "        for i in range(1002):\n",
    "            active_passenger += sweep[i]\n",
    "\n",
    "            # if for any moment the active passenger in the car > capacity.\n",
    "            if active_passenger > capacity:\n",
    "                return False\n",
    "            \n",
    "        return True\n",
    "\n",
    "# tc - O(n) + O(R)[1001 array for loop]\n",
    "# sc - O(1) #  the array have constant size."
   ]
  },
  {
   "cell_type": "code",
   "execution_count": null,
   "id": "6bd674a2",
   "metadata": {},
   "outputs": [],
   "source": []
  },
  {
   "cell_type": "code",
   "execution_count": 2,
   "id": "b6756855",
   "metadata": {},
   "outputs": [
    {
     "data": {
      "text/plain": [
       "False"
      ]
     },
     "execution_count": 2,
     "metadata": {},
     "output_type": "execute_result"
    }
   ],
   "source": [
    "Solution().carPooling(trips = [[2,1,5],[3,3,7]], capacity = 4)"
   ]
  },
  {
   "cell_type": "code",
   "execution_count": 3,
   "id": "80f37ed9",
   "metadata": {},
   "outputs": [
    {
     "data": {
      "text/plain": [
       "True"
      ]
     },
     "execution_count": 3,
     "metadata": {},
     "output_type": "execute_result"
    }
   ],
   "source": [
    "Solution().carPooling(trips = [[2,1,5],[3,3,7]], capacity = 5)"
   ]
  },
  {
   "cell_type": "code",
   "execution_count": null,
   "id": "7a836552",
   "metadata": {},
   "outputs": [],
   "source": []
  }
 ],
 "metadata": {
  "kernelspec": {
   "display_name": "3.11.11",
   "language": "python",
   "name": "python3"
  },
  "language_info": {
   "codemirror_mode": {
    "name": "ipython",
    "version": 3
   },
   "file_extension": ".py",
   "mimetype": "text/x-python",
   "name": "python",
   "nbconvert_exporter": "python",
   "pygments_lexer": "ipython3",
   "version": "3.11.11"
  }
 },
 "nbformat": 4,
 "nbformat_minor": 5
}
