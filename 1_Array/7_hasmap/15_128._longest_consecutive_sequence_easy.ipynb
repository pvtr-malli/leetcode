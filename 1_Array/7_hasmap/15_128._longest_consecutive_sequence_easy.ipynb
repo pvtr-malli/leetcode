{
 "cells": [
  {
   "cell_type": "markdown",
   "id": "06123eb8",
   "metadata": {},
   "source": [
    "Given an unsorted array of integers nums, return the length of the longest consecutive elements sequence.\n",
    "\n",
    "You must write an algorithm that runs in O(n) time.\n",
    "\n",
    " \n",
    "\n",
    "Example 1:\n",
    "\n",
    "Input: nums = [100,4,200,1,3,2]\n",
    "Output: 4\n",
    "Explanation: The longest consecutive elements sequence is [1, 2, 3, 4]. Therefore its length is 4.\n",
    "Example 2:\n",
    "\n",
    "Input: nums = [0,3,7,2,5,8,4,6,0,1]\n",
    "Output: 9\n",
    "Example 3:\n",
    "\n",
    "Input: nums = [1,0,1,2]\n",
    "Output: 3\n",
    " \n",
    "\n",
    "Constraints:\n",
    "\n",
    "0 <= nums.length <= 105\n",
    "-109 <= nums[i] <= 109"
   ]
  },
  {
   "cell_type": "code",
   "execution_count": null,
   "id": "c5c2ca18",
   "metadata": {},
   "outputs": [],
   "source": [
    "class Solution:\n",
    "    def longestConsecutive(self, nums):\n",
    "        # add all element to the dict for hasing.\n",
    "        hashing_dict = {}\n",
    "        long_sequence = 0\n",
    "        for ele in nums:\n",
    "            hashing_dict[ele] = 0\n",
    "        for ele in nums:\n",
    "            \n",
    "            count = 1\n",
    "            #print(\"ele\",ele,\"count\",count)\n",
    "            # find the minimum value in the sequency, if it has a value lesser than this then it is not --> continue\n",
    "            if ele -1  in hashing_dict:\n",
    "                continue\n",
    "            else:\n",
    "                # check the value \n",
    "                while ele + 1 in hashing_dict:\n",
    "                    ele += 1\n",
    "                    count +=1\n",
    "                #print(\"count\",count)\n",
    "                if long_sequence < count:\n",
    "                    long_sequence = count\n",
    "\n",
    "            #print(\"long seuency\", long_sequence)\n",
    "        return long_sequence\n",
    "    \n",
    "\n",
    "# can be solved using union find... elarn it and do it."
   ]
  }
 ],
 "metadata": {
  "language_info": {
   "name": "python"
  }
 },
 "nbformat": 4,
 "nbformat_minor": 5
}
