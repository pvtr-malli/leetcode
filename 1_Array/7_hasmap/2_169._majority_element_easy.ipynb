{
 "cells": [
  {
   "cell_type": "markdown",
   "id": "837a33e6",
   "metadata": {},
   "source": [
    "Given an array nums of size n, return the majority element.\n",
    "\n",
    "The majority element is the element that appears more than ⌊n / 2⌋ times. You may assume that the majority element always exists in the array.\n",
    "\n",
    " \n",
    "\n",
    "Example 1:\n",
    "\n",
    "Input: nums = [3,2,3]\n",
    "Output: 3\n",
    "Example 2:\n",
    "\n",
    "Input: nums = [2,2,1,1,1,2,2]\n",
    "Output: 2\n",
    " \n",
    "\n",
    "Constraints:\n",
    "\n",
    "n == nums.length\n",
    "1 <= n <= 5 * 104\n",
    "-109 <= nums[i] <= 109\n",
    " \n",
    "\n",
    "Follow-up: Could you solve the problem in linear time and in O(1) space?"
   ]
  },
  {
   "cell_type": "code",
   "execution_count": 1,
   "id": "24f7c254",
   "metadata": {},
   "outputs": [],
   "source": [
    "# brute force:\n",
    "# count all the frequnecies store it in a hashmap. \n",
    "# find the majarity count = n//2\n",
    "# see which is having > majarity count in the hasmap.\n",
    "# tc - O(n)[counting]+ O(unique digits)\n",
    "# sc - O(unique digits)\n",
    "\n"
   ]
  },
  {
   "cell_type": "code",
   "execution_count": null,
   "id": "2d8a92c8",
   "metadata": {},
   "outputs": [],
   "source": [
    "# Boyer-Moore Voting Algorithm\n",
    "\n",
    "class Solution:\n",
    "    def majorityElement(self, a) -> int:\n",
    "        # take the first element as the majority element.\n",
    "        ele = a[0]\n",
    "        c = 1\n",
    "        # count it.\n",
    "        for i in range(1, len(a)):\n",
    "            # Mjarity element comes more than half times, so \n",
    "            # majarity element's count :: atlest 1 greater than all other non-majarity elements count.\n",
    "            \n",
    "            # if the count it zero, which means upto this \n",
    "            # point equal number of majarity element and non-majority elemnet are there.\n",
    "            # 1,1,2,3,4,1 || 3,1,3,1,1\n",
    "            #              upto here 1 count == other digit count. \n",
    "            # So the next digit will be the majarity digit. \n",
    "            if  c == 0:\n",
    "                ele = a[i]\n",
    "                c += 1\n",
    "\n",
    "            # if the next coming element is == majority element. count it up.\n",
    "            elif a[i] == ele:\n",
    "                c += 1\n",
    "\n",
    "            # if not: count it donw.\n",
    "            else:\n",
    "                c -= 1\n",
    "        return ele"
   ]
  },
  {
   "cell_type": "code",
   "execution_count": null,
   "id": "55bc520b",
   "metadata": {},
   "outputs": [],
   "source": []
  }
 ],
 "metadata": {
  "kernelspec": {
   "display_name": "3.11.11",
   "language": "python",
   "name": "python3"
  },
  "language_info": {
   "codemirror_mode": {
    "name": "ipython",
    "version": 3
   },
   "file_extension": ".py",
   "mimetype": "text/x-python",
   "name": "python",
   "nbconvert_exporter": "python",
   "pygments_lexer": "ipython3",
   "version": "3.11.11"
  }
 },
 "nbformat": 4,
 "nbformat_minor": 5
}
