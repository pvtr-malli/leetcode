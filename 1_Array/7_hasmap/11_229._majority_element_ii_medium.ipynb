{
 "cells": [
  {
   "cell_type": "markdown",
   "id": "5097acac",
   "metadata": {},
   "source": [
    "Given an integer array of size n, find all elements that appear more than ⌊ n/3 ⌋ times.\n",
    "\n",
    " \n",
    "\n",
    "Example 1:\n",
    "\n",
    "Input: nums = [3,2,3]\n",
    "Output: [3]\n",
    "Example 2:\n",
    "\n",
    "Input: nums = [1]\n",
    "Output: [1]\n",
    "Example 3:\n",
    "\n",
    "Input: nums = [1,2]\n",
    "Output: [1,2]\n",
    " \n",
    "\n",
    "Constraints:\n",
    "\n",
    "1 <= nums.length <= 5 * 104\n",
    "-109 <= nums[i] <= 109\n",
    " \n",
    "\n",
    "Follow up: Could you solve the problem in linear time and in O(1) space?"
   ]
  },
  {
   "cell_type": "code",
   "execution_count": 1,
   "id": "37fd224b",
   "metadata": {},
   "outputs": [],
   "source": [
    "# brute force:\n",
    "# find frequencies of all the elements, store it in hasmap.\n",
    "# loop over it and find the majarity element.\n",
    "# tc - O(n)\n",
    "# sc - O(n)"
   ]
  },
  {
   "cell_type": "code",
   "execution_count": null,
   "id": "e702d6ff",
   "metadata": {},
   "outputs": [],
   "source": [
    "# At most 2 elements can appear more than ⌊ n/3 ⌋ times.\n",
    "\n",
    "# So, we can use a variation of the Boyer-Moore Voting Algorithm, but track two candidates instead of one."
   ]
  },
  {
   "cell_type": "code",
   "execution_count": null,
   "id": "9d0c4a62",
   "metadata": {},
   "outputs": [],
   "source": [
    "class Solution:\n",
    "    def majorityElement(self, nums: list[int]) -> list[int]:\n",
    "        if not nums:\n",
    "            return []\n",
    "\n",
    "        # First pass - find potential candidates\n",
    "        count1, count2, candidate1, candidate2 = 0, 0, None, None\n",
    "        for num in nums:\n",
    "            if num == candidate1:\n",
    "                count1 += 1\n",
    "            elif num == candidate2:\n",
    "                count2 += 1\n",
    "            elif count1 == 0:\n",
    "                candidate1, count1 = num, 1\n",
    "            elif count2 == 0:\n",
    "                candidate2, count2 = num, 1\n",
    "            else:\n",
    "                count1 -= 1\n",
    "                count2 -= 1\n",
    "\n",
    "        # Second pass - verify candidates\n",
    "        result = []\n",
    "        n = len(nums)\n",
    "        if nums.count(candidate1) > n // 3:\n",
    "            result.append(candidate1)\n",
    "        if candidate2 != candidate1 and nums.count(candidate2) > n // 3:\n",
    "            result.append(candidate2)\n",
    "\n",
    "        return result\n",
    "\n",
    "\n",
    "# tc - O(n)[loop] + O(n)[first majarity element check] + O(n)[second ele check] = O(n)\n",
    "# sc - O(1)"
   ]
  },
  {
   "cell_type": "code",
   "execution_count": 3,
   "id": "06cb16d8",
   "metadata": {},
   "outputs": [
    {
     "data": {
      "text/plain": [
       "[3]"
      ]
     },
     "execution_count": 3,
     "metadata": {},
     "output_type": "execute_result"
    }
   ],
   "source": [
    "Solution().majorityElement(nums = [3,2,3])"
   ]
  },
  {
   "cell_type": "markdown",
   "id": "cb5f1fdc",
   "metadata": {},
   "source": [
    "nums = [1, 1, 1, 3, 3, 2, 2, 2]\n",
    "\n",
    "\n",
    "| Step | num | candidate1 | count1 | candidate2 | count2 | Action                                  |\n",
    "|------|-----|------------|--------|------------|--------|-----------------------------------------|\n",
    "| 1    | 1   | 1          | 1      | None       | 0      | Set candidate1                          |\n",
    "| 2    | 1   | 1          | 2      | None       | 0      | Increment count1                        |\n",
    "| 3    | 1   | 1          | 3      | None       | 0      | Increment count1                        |\n",
    "| 4    | 3   | 1          | 3      | 3          | 1      | Set candidate2                          |\n",
    "| 5    | 3   | 1          | 3      | 3          | 2      | Increment count2                        |\n",
    "| 6    | 2   | 1          | 2      | 3          | 1      | Both counts > 0 → Decrement both        |\n",
    "| 7    | 2   | 1          | 1      | 3          | 0      | count2 = 0 → replace candidate2 with 2  |\n",
    "| 8    | 2   | 1          | 1      | 2          | 1      | Increment count2                        |\n",
    "\n",
    "\n",
    "Count of 1 = 3\n",
    "Count of 2 = 3\n",
    "Count of 3 = 2 (not > n/3)\n"
   ]
  },
  {
   "cell_type": "code",
   "execution_count": null,
   "id": "e5d496b6",
   "metadata": {},
   "outputs": [],
   "source": []
  }
 ],
 "metadata": {
  "kernelspec": {
   "display_name": "3.11.11",
   "language": "python",
   "name": "python3"
  },
  "language_info": {
   "codemirror_mode": {
    "name": "ipython",
    "version": 3
   },
   "file_extension": ".py",
   "mimetype": "text/x-python",
   "name": "python",
   "nbconvert_exporter": "python",
   "pygments_lexer": "ipython3",
   "version": "3.11.11"
  }
 },
 "nbformat": 4,
 "nbformat_minor": 5
}
