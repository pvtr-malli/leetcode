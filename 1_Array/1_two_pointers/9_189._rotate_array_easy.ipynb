{
 "cells": [
  {
   "cell_type": "markdown",
   "id": "11a8551b",
   "metadata": {},
   "source": [
    "Given an integer array nums, rotate the array to the right by k steps, where k is non-negative.\n",
    "\n",
    " \n",
    "\n",
    "Example 1:\n",
    "\n",
    "Input: nums = [1,2,3,4,5,6,7], k = 3\n",
    "Output: [5,6,7,1,2,3,4]\n",
    "Explanation:\n",
    "rotate 1 steps to the right: [7,1,2,3,4,5,6]\n",
    "rotate 2 steps to the right: [6,7,1,2,3,4,5]\n",
    "rotate 3 steps to the right: [5,6,7,1,2,3,4]\n",
    "Example 2:\n",
    "\n",
    "Input: nums = [-1,-100,3,99], k = 2\n",
    "Output: [3,99,-1,-100]\n",
    "Explanation: \n",
    "rotate 1 steps to the right: [99,-1,-100,3]\n",
    "rotate 2 steps to the right: [3,99,-1,-100]\n",
    " \n",
    "\n",
    "Constraints:\n",
    "\n",
    "1 <= nums.length <= 105\n",
    "-231 <= nums[i] <= 231 - 1\n",
    "0 <= k <= 105\n",
    " \n",
    "\n",
    "Follow up:\n",
    "\n",
    "Try to come up with as many solutions as you can. There are at least three different ways to solve this problem.\n",
    "Could you do it in-place with O(1) extra space?"
   ]
  },
  {
   "cell_type": "code",
   "execution_count": null,
   "id": "4e7b7f99",
   "metadata": {},
   "outputs": [],
   "source": [
    "# Steps Explanation:\n",
    "# Reverse the entire array:\n",
    "# Example: ( [1,2,3,4,5,6,7] ) → ( [7,6,5,4,3,2,1] )\n",
    "\n",
    "# Reverse the first ( k ) elements:\n",
    "# Example: ( [7,6,5,4,3,2,1] ) → ( [5,6,7,4,3,2,1] )\n",
    "\n",
    "# Reverse the last ( n-k ) elements:\n",
    "# Example: ( [5,6,7,4,3,2,1] ) → ( [5,6,7,1,2,3,4] )"
   ]
  },
  {
   "cell_type": "code",
   "execution_count": null,
   "id": "d89d334c",
   "metadata": {},
   "outputs": [],
   "source": [
    "class Solution:\n",
    "    def reverse(self, arr, i, j):\n",
    "        while i <= j:\n",
    "            arr[i], arr[j] = arr[j], arr[i]\n",
    "            i += 1\n",
    "            j -= 1\n",
    "    \n",
    "    def rotate(self, nums: list[int], k: int) -> None:\n",
    "        \"\"\"\n",
    "        Do not return anything, modify nums in-place instead.\n",
    "        \"\"\"\n",
    "        # reverse the array.\n",
    "        i = 0\n",
    "        n= len(nums)\n",
    "        j = n - 1\n",
    "\n",
    "        # So rotating it == n times , is the same array. so rotate only k%n times.\n",
    "        k %= n\n",
    "        if k ==0:\n",
    "            return nums # dont need to rotate it, its the same.\n",
    "        self.reverse(nums, i, j)\n",
    "\n",
    "        # rotate the first k elements.\n",
    "        self.reverse(nums, 0, k - 1)\n",
    "\n",
    "        # rotate the next k to n elements.\n",
    "        self.reverse(nums, k, len(nums) - 1)\n",
    "\n",
    "        print(nums)\n",
    "\n",
    "\n",
    "# tc - O(n) + O(n) = O(n)\n",
    "# sc - O(1)"
   ]
  },
  {
   "cell_type": "code",
   "execution_count": null,
   "id": "312ab197",
   "metadata": {},
   "outputs": [],
   "source": []
  },
  {
   "cell_type": "code",
   "execution_count": 7,
   "id": "89ffb57e",
   "metadata": {},
   "outputs": [
    {
     "name": "stdout",
     "output_type": "stream",
     "text": [
      "[5, 6, 7, 1, 2, 3, 4]\n"
     ]
    }
   ],
   "source": [
    "Solution().rotate(nums = [1,2,3,4,5,6,7], k = 3)"
   ]
  },
  {
   "cell_type": "code",
   "execution_count": 8,
   "id": "d467d4f6",
   "metadata": {},
   "outputs": [
    {
     "name": "stdout",
     "output_type": "stream",
     "text": [
      "[-1]\n"
     ]
    }
   ],
   "source": [
    "Solution().rotate([-1], 2)"
   ]
  },
  {
   "cell_type": "code",
   "execution_count": null,
   "id": "ccc4bed7",
   "metadata": {},
   "outputs": [],
   "source": []
  }
 ],
 "metadata": {
  "kernelspec": {
   "display_name": "3.11.11",
   "language": "python",
   "name": "python3"
  },
  "language_info": {
   "codemirror_mode": {
    "name": "ipython",
    "version": 3
   },
   "file_extension": ".py",
   "mimetype": "text/x-python",
   "name": "python",
   "nbconvert_exporter": "python",
   "pygments_lexer": "ipython3",
   "version": "3.11.11"
  }
 },
 "nbformat": 4,
 "nbformat_minor": 5
}
