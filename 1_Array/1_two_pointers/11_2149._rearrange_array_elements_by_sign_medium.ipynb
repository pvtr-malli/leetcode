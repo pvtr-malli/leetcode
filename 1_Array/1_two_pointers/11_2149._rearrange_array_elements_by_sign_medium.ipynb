{
 "cells": [
  {
   "cell_type": "markdown",
   "id": "ea5110f4",
   "metadata": {},
   "source": [
    "You are given a 0-indexed integer array nums of even length consisting of an equal number of positive and negative integers.\n",
    "\n",
    "You should return the array of nums such that the the array follows the given conditions:\n",
    "\n",
    "Every consecutive pair of integers have opposite signs.\n",
    "For all integers with the same sign, the order in which they were present in nums is preserved.\n",
    "The rearranged array begins with a positive integer.\n",
    "Return the modified array after rearranging the elements to satisfy the aforementioned conditions.\n",
    "\n",
    " \n",
    "\n",
    "Example 1:\n",
    "\n",
    "Input: nums = [3,1,-2,-5,2,-4]\n",
    "Output: [3,-2,1,-5,2,-4]\n",
    "Explanation:\n",
    "The positive integers in nums are [3,1,2]. The negative integers are [-2,-5,-4].\n",
    "The only possible way to rearrange them such that they satisfy all conditions is [3,-2,1,-5,2,-4].\n",
    "Other ways such as [1,-2,2,-5,3,-4], [3,1,2,-2,-5,-4], [-2,3,-5,1,-4,2] are incorrect because they do not satisfy one or more conditions.  \n",
    "Example 2:\n",
    "\n",
    "Input: nums = [-1,1]\n",
    "Output: [1,-1]\n",
    "Explanation:\n",
    "1 is the only positive integer and -1 the only negative integer in nums.\n",
    "So nums is rearranged to [1,-1].\n",
    " \n",
    "\n",
    "Constraints:\n",
    "\n",
    "2 <= nums.length <= 2 * 105\n",
    "nums.length is even\n",
    "1 <= |nums[i]| <= 105\n",
    "nums consists of equal number of positive and negative integers.\n",
    " \n",
    "\n",
    "It is not required to do the modifications in-place."
   ]
  },
  {
   "cell_type": "code",
   "execution_count": null,
   "id": "b88d9b25",
   "metadata": {},
   "outputs": [],
   "source": [
    "# brute force:\n",
    "# 2 list, store the positive in one list,\n",
    "# store the negative in one list... \n",
    "# merge them\n",
    "\n",
    "# tc - O(n)\n",
    "# sc - O(n)\n",
    "\n",
    "\n",
    "\n",
    "class Solution:\n",
    "    def rearrangeArray(self, nums: list[int]) -> list[int]:\n",
    "        pos = [x for x in nums if x >= 0]\n",
    "        neg = [x for x in nums if x < 0]\n",
    "\n",
    "        result = []\n",
    "        for i in range(len(pos)):\n",
    "            result.append(pos[i])\n",
    "            result.append(neg[i])\n",
    "        return result\n",
    "\n",
    "\n",
    "\n",
    "# approach 2:\n",
    "# get the resulst array: fill in the values using the positive ind and negative ind.\n",
    "# tc - O(n)\n",
    "# sc - O(n)\n",
    "class Solution:\n",
    "    def rearrangeArray(self, nums: list[int]) -> list[int]:\n",
    "        result = [0] * len(nums)\n",
    "        pos_idx, neg_idx = 0, 1\n",
    "\n",
    "        for num in nums:\n",
    "            if num >= 0:\n",
    "                # put it in the next positive ind.\n",
    "                result[pos_idx] = num\n",
    "                pos_idx += 2\n",
    "            else:\n",
    "                # put it in the next negative ind.\n",
    "                result[neg_idx] = num\n",
    "                neg_idx += 2\n",
    "\n",
    "        return result\n"
   ]
  },
  {
   "cell_type": "code",
   "execution_count": null,
   "id": "3a3392d8",
   "metadata": {},
   "outputs": [],
   "source": [
    "class Solution:\n",
    "    def rearrangeArray(self, nums: list[int]) -> list[int]:\n",
    "        \n",
    "        e = 0 #even_index\n",
    "        o = 1 #odd_index\n",
    "        \n",
    "        while e<len(nums) and o<len(nums):\n",
    "            if nums[e] > 0:\n",
    "                e+=2\n",
    "            elif nums[o] < 0:\n",
    "                o+=2\n",
    "            else:\n",
    "                nums[e],nums[o] = nums[o],nums[e]\n",
    "                e+=2\n",
    "                o+=2\n",
    "                                \n",
    "        return nums\n",
    "    \n",
    "\n",
    "# this will fail- because this is garautiies the arrangement but not garaunty the following the same order of the numbers."
   ]
  },
  {
   "cell_type": "code",
   "execution_count": 4,
   "id": "7f0ba5c4",
   "metadata": {},
   "outputs": [
    {
     "data": {
      "text/plain": [
       "[1, -1]"
      ]
     },
     "execution_count": 4,
     "metadata": {},
     "output_type": "execute_result"
    }
   ],
   "source": [
    "Solution().sortArrayByParityII( nums = [-1,1])"
   ]
  },
  {
   "cell_type": "code",
   "execution_count": 2,
   "id": "26a33a9f",
   "metadata": {},
   "outputs": [],
   "source": [
    "class Solution:\n",
    "    def rearrangeArray(self, nums: list[int]) -> list[int]:\n",
    "\n",
    "        def right_rotate(nums, start, end):\n",
    "\n",
    "            # just place the last value first, and move the rest values back.\n",
    "            # [1,2,3,4] -> [4,1,2,3]\n",
    "            # sote the 4 to temp\n",
    "            # move ith index to i-1 th index. then put back the temp to start.\n",
    "\n",
    "            temp = nums[end]\n",
    "            for i in range(end, start, -1):\n",
    "                nums[i] = nums[i-1]\n",
    "            nums[start] = temp\n",
    "\n",
    "        n = len(nums)\n",
    "        for i in range(n):\n",
    "            # Determine expected sign at index i\n",
    "            expected_positive = (i % 2 == 0)\n",
    "\n",
    "            # Check if nums[i] has expected sign\n",
    "            if expected_positive and nums[i] >= 0:\n",
    "                continue\n",
    "            if not expected_positive and nums[i] < 0:\n",
    "                continue\n",
    "\n",
    "            # Find next element with expected sign\n",
    "            j = i + 1\n",
    "            while j < n:\n",
    "                if expected_positive and nums[j] >= 0:\n",
    "                    break\n",
    "                if not expected_positive and nums[j] < 0:\n",
    "                    break\n",
    "                j += 1\n",
    "\n",
    "            if j == n:\n",
    "                # No element found, done\n",
    "                break\n",
    "\n",
    "            # Right rotate to bring nums[j] to position i\n",
    "            right_rotate(nums, i, j)\n",
    "\n",
    "        return nums\n",
    "\n",
    "\n",
    "# tc - O(n^2)\n",
    "# sc - O(1)\n"
   ]
  },
  {
   "cell_type": "code",
   "execution_count": 3,
   "id": "a2c00d59",
   "metadata": {},
   "outputs": [
    {
     "data": {
      "text/plain": [
       "[3, -2, 1, -5, 2, -4]"
      ]
     },
     "execution_count": 3,
     "metadata": {},
     "output_type": "execute_result"
    }
   ],
   "source": [
    "Solution().rearrangeArray([3,1,-2,-5,2,-4])"
   ]
  },
  {
   "cell_type": "markdown",
   "id": "802eb4c0",
   "metadata": {},
   "source": [
    "| i | nums array (before step)              | Expected sign at i | nums\\[i] sign | Action                                                  |\n",
    "| - | ------------------------------------- | ------------------ | ------------- | ------------------------------------------------------- |\n",
    "| 0 | `[5, 7, -3, -6, 2, -1, -4, 8, 9, -2]` | Positive           | Positive      | Correct sign, continue                                  |\n",
    "| 1 | `[5, 7, -3, -6, 2, -1, -4, 8, 9, -2]` | Negative           | Positive      | Find next negative from j=2 → j=2 is -3                 |\n",
    "|   |                                       |                    |               | Right rotate between i=1 and j=2                        |\n",
    "|   |                                       |                    |               | Subarray before: `[7, -3]` → after rotation → `[-3, 7]` |\n",
    "|   |                                       |                    |               | Array becomes: `[5, -3, 7, -6, 2, -1, -4, 8, 9, -2]`    |\n",
    "| 2 | `[5, -3, 7, -6, 2, -1, -4, 8, 9, -2]` | Positive           | Positive      | Correct sign, continue                                  |\n",
    "| 3 | `[5, -3, 7, -6, 2, -1, -4, 8, 9, -2]` | Negative           | Negative      | Correct sign, continue                                  |\n",
    "| 4 | `[5, -3, 7, -6, 2, -1, -4, 8, 9, -2]` | Positive           | Positive      | Correct sign, continue                                  |\n",
    "| 5 | `[5, -3, 7, -6, 2, -1, -4, 8, 9, -2]` | Negative           | Negative      | Correct sign, continue                                  |\n",
    "| 6 | `[5, -3, 7, -6, 2, -1, -4, 8, 9, -2]` | Positive           | Negative      | Find next positive from j=7 → j=7 is 8                  |\n",
    "|   |                                       |                    |               | Right rotate between i=6 and j=7                        |\n",
    "|   |                                       |                    |               | Subarray before: `[-4, 8]` → after rotation → `[8, -4]` |\n",
    "|   |                                       |                    |               | Array becomes: `[5, -3, 7, -6, 2, -1, 8, -4, 9, -2]`    |\n",
    "| 7 | `[5, -3, 7, -6, 2, -1, 8, -4, 9, -2]` | Negative           | Negative      | Correct sign, continue                                  |\n",
    "| 8 | `[5, -3, 7, -6, 2, -1, 8, -4, 9, -2]` | Positive           | Positive      | Correct sign, continue                                  |\n",
    "| 9 | `[5, -3, 7, -6, 2, -1, 8, -4, 9, -2]` | Negative           | Negative      | Correct sign, continue                                  |\n"
   ]
  },
  {
   "cell_type": "markdown",
   "id": "07a83034",
   "metadata": {},
   "source": []
  }
 ],
 "metadata": {
  "kernelspec": {
   "display_name": "3.11.11",
   "language": "python",
   "name": "python3"
  },
  "language_info": {
   "codemirror_mode": {
    "name": "ipython",
    "version": 3
   },
   "file_extension": ".py",
   "mimetype": "text/x-python",
   "name": "python",
   "nbconvert_exporter": "python",
   "pygments_lexer": "ipython3",
   "version": "3.11.11"
  }
 },
 "nbformat": 4,
 "nbformat_minor": 5
}
