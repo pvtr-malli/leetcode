{
 "cells": [
  {
   "cell_type": "markdown",
   "id": "d43063c1",
   "metadata": {},
   "source": [
    "Given an array of integers nums, half of the integers in nums are odd, and the other half are even.\n",
    "\n",
    "Sort the array so that whenever nums[i] is odd, i is odd, and whenever nums[i] is even, i is even.\n",
    "\n",
    "Return any answer array that satisfies this condition.\n",
    "\n",
    " \n",
    "\n",
    "Example 1:\n",
    "\n",
    "Input: nums = [4,2,5,7]\n",
    "Output: [4,5,2,7]\n",
    "Explanation: [4,7,2,5], [2,5,4,7], [2,7,4,5] would also have been accepted.\n",
    "Example 2:\n",
    "\n",
    "Input: nums = [2,3]\n",
    "Output: [2,3]\n",
    " \n",
    "\n",
    "Constraints:\n",
    "\n",
    "2 <= nums.length <= 2 * 104\n",
    "nums.length is even.\n",
    "Half of the integers in nums are even.\n",
    "0 <= nums[i] <= 1000\n",
    " \n",
    "\n",
    "Follow Up: Could you solve it in-place?"
   ]
  },
  {
   "cell_type": "code",
   "execution_count": null,
   "id": "5291b958",
   "metadata": {},
   "outputs": [],
   "source": [
    "class Solution:\n",
    "    def sortArrayByParityII(self, nums: List[int]) -> List[int]:\n",
    "        \n",
    "        e = 0 #even_index\n",
    "        o = 1 #odd_index\n",
    "        \n",
    "        while e<len(nums) and o<len(nums):\n",
    "            if nums[e]%2==0:\n",
    "                e+=2\n",
    "            else:\n",
    "                if nums[o]%2!=0:\n",
    "                    o+=2\n",
    "                else:\n",
    "                    nums[e],nums[o] = nums[o],nums[e]\n",
    "                    e+=2\n",
    "                    o+=2\n",
    "                                \n",
    "        return nums"
   ]
  }
 ],
 "metadata": {
  "language_info": {
   "name": "python"
  }
 },
 "nbformat": 4,
 "nbformat_minor": 5
}
