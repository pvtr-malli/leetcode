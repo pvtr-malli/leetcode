{
 "cells": [
  {
   "cell_type": "code",
   "execution_count": null,
   "metadata": {},
   "outputs": [],
   "source": [
    "MEDIUM"
   ]
  },
  {
   "cell_type": "code",
   "execution_count": null,
   "metadata": {},
   "outputs": [],
   "source": [
    "You are given an integer array nums and an integer k.\n",
    "\n",
    "In one operation, you can pick two numbers from the array whose sum equals k and remove them from the array.\n",
    "\n",
    "Return the maximum number of operations you can perform on the array.\n",
    "\n",
    "\n",
    "\n",
    "Example 1:\n",
    "\n",
    "Input: nums = [1,2,3,4], k = 5\n",
    "Output: 2\n",
    "Explanation: Starting with nums = [1,2,3,4]:\n",
    "- Remove numbers 1 and 4, then nums = [2,3]\n",
    "- Remove numbers 2 and 3, then nums = []\n",
    "There are no more pairs that sum up to 5, hence a total of 2 operations.\n",
    "Example 2:\n",
    "\n",
    "Input: nums = [3,1,3,4,3], k = 6\n",
    "Output: 1\n",
    "Explanation: Starting with nums = [3,1,3,4,3]:\n",
    "- Remove the first two 3's, then nums = [1,4,3]\n",
    "There are no more pairs that sum up to 6, hence a total of 1 operation."
   ]
  },
  {
   "cell_type": "code",
   "execution_count": 26,
   "metadata": {},
   "outputs": [],
   "source": [
    "class Solution:\n",
    "    def maxOperations(self, nums, k: int) -> int:\n",
    "        d = {}\n",
    "        operations = 0\n",
    "        for ele in nums:\n",
    "            diff = k - ele\n",
    "            # All the numbers in the array is possitive, so no chance of getting a negative value.\n",
    "            # this will only happen when the number is grater than k. we dont need to include it.\n",
    "            if diff <= 0:\n",
    "                continue\n",
    "            print(ele)\n",
    "            if ele in d:\n",
    "                operations += 1\n",
    "                if d[ele] > 1:\n",
    "                    d[ele] -= 1\n",
    "                else:\n",
    "                    del d[ele]\n",
    "            else:\n",
    "                if diff in d:\n",
    "                    d[diff] += 1\n",
    "                else:\n",
    "                    d[diff] = 1\n",
    "            print(d)\n",
    "        return operations\n",
    "\n",
    "\n",
    "# TC - O(n)\n",
    "# SC -"
   ]
  },
  {
   "cell_type": "code",
   "execution_count": 27,
   "metadata": {},
   "outputs": [
    {
     "name": "stdout",
     "output_type": "stream",
     "text": [
      "2\n",
      "{1: 1}\n",
      "1\n",
      "{}\n",
      "1\n",
      "{2: 1}\n",
      "1\n",
      "{2: 2}\n",
      "2\n",
      "{2: 1}\n",
      "1\n",
      "{2: 2}\n",
      "2\n",
      "{2: 1}\n",
      "2\n",
      "{}\n",
      "2\n",
      "{1: 1}\n",
      "2\n",
      "{1: 2}\n"
     ]
    },
    {
     "data": {
      "text/plain": [
       "4"
      ]
     },
     "execution_count": 27,
     "metadata": {},
     "output_type": "execute_result"
    }
   ],
   "source": [
    "nums = [2,5,4,4,1,3,4,4,1,4,4,1,2,1,2,2,3,2,4,2]\n",
    "k = 3\n",
    "Solution().maxOperations(nums, k)"
   ]
  },
  {
   "cell_type": "code",
   "execution_count": null,
   "metadata": {},
   "outputs": [],
   "source": []
  }
 ],
 "metadata": {
  "kernelspec": {
   "display_name": "Python 3",
   "language": "python",
   "name": "python3"
  },
  "language_info": {
   "codemirror_mode": {
    "name": "ipython",
    "version": 3
   },
   "file_extension": ".py",
   "mimetype": "text/x-python",
   "name": "python",
   "nbconvert_exporter": "python",
   "pygments_lexer": "ipython3",
   "version": "3.8.10"
  }
 },
 "nbformat": 4,
 "nbformat_minor": 2
}
