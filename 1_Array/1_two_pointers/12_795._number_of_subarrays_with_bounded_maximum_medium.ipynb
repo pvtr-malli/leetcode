{
 "cells": [
  {
   "cell_type": "markdown",
   "id": "d55010dc",
   "metadata": {},
   "source": [
    "Given an integer array nums and two integers left and right, return the number of contiguous non-empty subarrays such that the value of the maximum array element in that subarray is in the range [left, right].\n",
    "\n",
    "The test cases are generated so that the answer will fit in a 32-bit integer.\n",
    "\n",
    " \n",
    "\n",
    "Example 1:\n",
    "\n",
    "Input: nums = [2,1,4,3], left = 2, right = 3\n",
    "Output: 3\n",
    "Explanation: There are three subarrays that meet the requirements: [2], [2, 1], [3].\n",
    "Example 2:\n",
    "\n",
    "Input: nums = [2,9,2,5,6], left = 2, right = 8\n",
    "Output: 7\n",
    " \n",
    "\n",
    "Constraints:\n",
    "\n",
    "1 <= nums.length <= 105\n",
    "0 <= nums[i] <= 109\n",
    "0 <= left <= right <= 109"
   ]
  },
  {
   "cell_type": "code",
   "execution_count": 1,
   "id": "845fcfbf",
   "metadata": {},
   "outputs": [],
   "source": [
    "class Solution:\n",
    "    def numSubarrayBoundedMax(self, nums: list[int], left: int, right: int) -> int:\n",
    "        start = 0 \n",
    "        maxi = 0\n",
    "        count = 0\n",
    "        \n",
    "        for end in range(len(nums)):\n",
    "            # start expanding.\n",
    "            maxi = max(maxi, nums[end])\n",
    "            if maxi <= right and maxi >= left:\n",
    "                # if the maxi is in the end of the current window, then all the subarrays of the window,\n",
    "                # ending with this end will be a valid subarray....\n",
    "                if nums[end] == maxi:\n",
    "                    count += end - start + 1\n",
    "                else:\n",
    "                    # just count the current window as one subarray.\n",
    "                    count += 1\n",
    "            \n",
    "            # strink the window, until its not violating the rule.\n",
    "            if maxi > right:\n",
    "                # then the currently added value,which is in the end position. made the condition go wrong.\n",
    "                # so jump to the point where its safe which is end + 1. and start the maxi tracker new.\n",
    "                start = end  + 1\n",
    "                maxi = 0\n",
    "        return count \n",
    "    \n"
   ]
  },
  {
   "cell_type": "code",
   "execution_count": 2,
   "id": "f6f05ee3",
   "metadata": {},
   "outputs": [
    {
     "data": {
      "text/plain": [
       "3"
      ]
     },
     "execution_count": 2,
     "metadata": {},
     "output_type": "execute_result"
    }
   ],
   "source": [
    "Solution().numSubarrayBoundedMax(nums = [2,1,4,3], left = 2, right = 3)"
   ]
  },
  {
   "cell_type": "code",
   "execution_count": 3,
   "id": "0cbc191e",
   "metadata": {},
   "outputs": [
    {
     "data": {
      "text/plain": [
       "7"
      ]
     },
     "execution_count": 3,
     "metadata": {},
     "output_type": "execute_result"
    }
   ],
   "source": [
    "Solution().numSubarrayBoundedMax(nums = [2,9,2,5,6], left = 2, right = 8)"
   ]
  },
  {
   "cell_type": "code",
   "execution_count": 4,
   "id": "ba129b63",
   "metadata": {},
   "outputs": [
    {
     "data": {
      "text/plain": [
       "11"
      ]
     },
     "execution_count": 4,
     "metadata": {},
     "output_type": "execute_result"
    }
   ],
   "source": [
    "Solution().numSubarrayBoundedMax([73,55,36,5,55,14,9,7,72,52], left=32, right=69)"
   ]
  },
  {
   "cell_type": "markdown",
   "id": "bbe1472a",
   "metadata": {},
   "source": [
    "### the above fails to capture some subarrays.. not always the maxi of the array is at the end\n",
    "### tracking the max in the array is needs computation again... "
   ]
  },
  {
   "cell_type": "code",
   "execution_count": null,
   "id": "20416a7a",
   "metadata": {},
   "outputs": [],
   "source": []
  },
  {
   "cell_type": "code",
   "execution_count": null,
   "id": "65127737",
   "metadata": {},
   "outputs": [],
   "source": [
    "class Solution:\n",
    "    def numSubarrayBoundedMax(self, nums: list[int], left: int, right: int) -> int:\n",
    "        count = 0\n",
    "        last_invalid = -1  # last index where nums[i] > right\n",
    "        last_valid = -1    # last index where nums[i] in [left, right]\n",
    "\n",
    "        for i, num in enumerate(nums):\n",
    "            if left <= num <= right:\n",
    "                last_valid = i\n",
    "            if num > right:\n",
    "                last_invalid = i\n",
    "            # Count is number of valid subarrays ending at i\n",
    "            # \n",
    "            count += max(0, last_valid - last_invalid)\n",
    "        \n",
    "        return count\n",
    "\n",
    "\n",
    "\n",
    "# tc - O(n)\n",
    "# sc - O(1)"
   ]
  },
  {
   "cell_type": "markdown",
   "id": "caab573d",
   "metadata": {},
   "source": [
    "[2,1,4,3] left = 2, right = 3\n",
    "\n",
    "| i | nums\\[i] | last\\_valid | last\\_invalid | count added    | total count |\n",
    "| - | -------- | ----------- | ------------- | -------------- | ----------- |\n",
    "| 0 | 2        | 0           | -1            | 0 - (-1) = 1   | 1           |\n",
    "| 1 | 1        | 0           | -1            | 0 - (-1) = 1   | 2           |\n",
    "| 2 | 4        | 0           | 2             | 0 - 2 = -2 → 0 | 2           |\n",
    "| 3 | 3        | 3           | 2             | 3 - 2 = 1      | 3           |\n"
   ]
  },
  {
   "cell_type": "markdown",
   "id": "0c2f2958",
   "metadata": {},
   "source": [
    "nums = [5, 1, 2, 3, 10, 2, 6, 1]\n",
    "left = 2\n",
    "right = 6\n",
    "\n",
    "| i | nums\\[i] | Action                             | last\\_valid | last\\_invalid | Valid Subarrays Ending Here | Count So Far |\n",
    "| - | -------- | ---------------------------------- | ----------- | ------------- | --------------------------- | ------------ |\n",
    "| 0 | 5        | 5 in range → update `last_valid=0` | 0           | -1            | `0 - (-1) = 1`              | 1            |\n",
    "| 1 | 1        | 1 < 2 → no update                  | 0           | -1            | `0 - (-1) = 1`              | 2            |\n",
    "| 2 | 2        | 2 in range → `last_valid=2`        | 2           | -1            | `2 - (-1) = 3`              | 5            |\n",
    "| 3 | 3        | 3 in range → `last_valid=3`        | 3           | -1            | `3 - (-1) = 4`              | 9            |\n",
    "| 4 | 10       | 10 > 6 → `last_invalid=4`          | 3           | 4             | `3 - 4 = -1 → 0`            | 9            |\n",
    "| 5 | 2        | 2 in range → `last_valid=5`        | 5           | 4             | `5 - 4 = 1`                 | 10           |\n",
    "| 6 | 6        | 6 in range → `last_valid=6`        | 6           | 4             | `6 - 4 = 2`                 | 12           |\n",
    "| 7 | 1        | 1 < 2 → no update                  | 6           | 4             | `6 - 4 = 2`                 | 14           |\n",
    "\n",
    "\n",
    "\n",
    "valid sub arrays:\n",
    "[5], [5,1], [5,1,2], [5,1,2,3], [1,2], [1,2,3], [2], [2,3], [3], [2] (after 10), [2,6], [6], [6,1], [1] (after 6)\n"
   ]
  },
  {
   "cell_type": "markdown",
   "id": "cdcffaab",
   "metadata": {},
   "source": []
  }
 ],
 "metadata": {
  "kernelspec": {
   "display_name": "3.11.11",
   "language": "python",
   "name": "python3"
  },
  "language_info": {
   "codemirror_mode": {
    "name": "ipython",
    "version": 3
   },
   "file_extension": ".py",
   "mimetype": "text/x-python",
   "name": "python",
   "nbconvert_exporter": "python",
   "pygments_lexer": "ipython3",
   "version": "3.11.11"
  }
 },
 "nbformat": 4,
 "nbformat_minor": 5
}
