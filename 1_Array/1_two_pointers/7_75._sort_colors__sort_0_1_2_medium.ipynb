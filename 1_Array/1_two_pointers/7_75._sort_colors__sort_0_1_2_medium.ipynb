{
 "cells": [
  {
   "cell_type": "code",
   "execution_count": null,
   "id": "2f28583a",
   "metadata": {},
   "outputs": [],
   "source": []
  },
  {
   "cell_type": "markdown",
   "id": "3179ab3e",
   "metadata": {},
   "source": [
    "Given an array nums with n objects colored red, white, or blue, sort them in-place so that objects of the same color are adjacent, with the colors in the order red, white, and blue.\n",
    "\n",
    "We will use the integers 0, 1, and 2 to represent the color red, white, and blue, respectively.\n",
    "\n",
    "You must solve this problem without using the library's sort function.\n",
    "\n",
    " \n",
    "\n",
    "Example 1:\n",
    "\n",
    "Input: nums = [2,0,2,1,1,0]\n",
    "Output: [0,0,1,1,2,2]\n",
    "Example 2:\n",
    "\n",
    "Input: nums = [2,0,1]\n",
    "Output: [0,1,2]\n",
    " \n",
    "\n",
    "Constraints:\n",
    "\n",
    "n == nums.length\n",
    "1 <= n <= 300\n",
    "nums[i] is either 0, 1, or 2.\n",
    " \n",
    "\n",
    "Follow up: Could you come up with a one-pass algorithm using only constant extra space?"
   ]
  },
  {
   "cell_type": "code",
   "execution_count": null,
   "id": "0e335b26",
   "metadata": {},
   "outputs": [],
   "source": [
    "class Solution:\n",
    "    def sortColors(self, nums: list[int]) -> None:\n",
    "        \"\"\"\n",
    "        Do not return anything, modify nums in-place instead.\n",
    "        \"\"\"\n",
    "        # take 2 pointers for\n",
    "        #  zero_place - track last zero place ,\n",
    "        #  one_place - moveing,\n",
    "        #  two_place - track last 2 place.\n",
    "        # \n",
    "\n",
    "        one_place , zero_place = 0, 0 \n",
    "        two_place = len(nums) - 1\n",
    "        while one_place <= two_place:\n",
    "            # if the onc pointer is == 1, correct only move forward. \n",
    "            if nums[one_place] == 1:\n",
    "                one_place += 1\n",
    "\n",
    "            # if one pointer is == 0 - move it to zero pointer place and move zero pointer above\n",
    "            elif nums[one_place] == 0:\n",
    "                nums[zero_place], nums[one_place] = nums[one_place], nums[zero_place]\n",
    "                zero_place += 1\n",
    "                one_place += 1\n",
    "                \n",
    "            # if  one pointer is == 2 - move it to 2 pointer place and move 2 pointer above\n",
    "            elif nums[one_place] == 2:\n",
    "                nums[two_place], nums[one_place] = nums[one_place], nums[two_place]\n",
    "                two_place -= 1\n",
    "\n",
    "        print(nums)\n",
    "\n",
    "\n",
    "# tc - O(n)\n",
    "# sc - O(1) in-place  no extra"
   ]
  },
  {
   "cell_type": "code",
   "execution_count": 9,
   "id": "987ef4a4",
   "metadata": {},
   "outputs": [
    {
     "name": "stdout",
     "output_type": "stream",
     "text": [
      "[0, 0, 1, 1, 2, 2]\n"
     ]
    }
   ],
   "source": [
    "Solution().sortColors([2,0,2,1,1,0])"
   ]
  },
  {
   "cell_type": "code",
   "execution_count": 10,
   "id": "d7155baa",
   "metadata": {},
   "outputs": [
    {
     "name": "stdout",
     "output_type": "stream",
     "text": [
      "[0, 1, 2]\n"
     ]
    }
   ],
   "source": [
    "Solution().sortColors([2,0,1])"
   ]
  },
  {
   "cell_type": "code",
   "execution_count": null,
   "id": "2a36596e",
   "metadata": {},
   "outputs": [],
   "source": []
  }
 ],
 "metadata": {
  "kernelspec": {
   "display_name": "3.11.11",
   "language": "python",
   "name": "python3"
  },
  "language_info": {
   "codemirror_mode": {
    "name": "ipython",
    "version": 3
   },
   "file_extension": ".py",
   "mimetype": "text/x-python",
   "name": "python",
   "nbconvert_exporter": "python",
   "pygments_lexer": "ipython3",
   "version": "3.11.11"
  }
 },
 "nbformat": 4,
 "nbformat_minor": 5
}
