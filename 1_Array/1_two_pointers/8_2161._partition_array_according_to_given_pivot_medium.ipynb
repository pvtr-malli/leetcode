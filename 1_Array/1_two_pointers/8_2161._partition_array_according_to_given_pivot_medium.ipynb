{
 "cells": [
  {
   "cell_type": "markdown",
   "id": "f491c1b0",
   "metadata": {},
   "source": [
    "You are given a 0-indexed integer array nums and an integer pivot. Rearrange nums such that the following conditions are satisfied:\n",
    "\n",
    "Every element less than pivot appears before every element greater than pivot.\n",
    "Every element equal to pivot appears in between the elements less than and greater than pivot.\n",
    "The relative order of the elements less than pivot and the elements greater than pivot is maintained.\n",
    "More formally, consider every pi, pj where pi is the new position of the ith element and pj is the new position of the jth element. If i < j and both elements are smaller (or larger) than pivot, then pi < pj.\n",
    "Return nums after the rearrangement.\n",
    "\n",
    " \n",
    "\n",
    "Example 1:\n",
    "\n",
    "Input: nums = [9,12,5,10,14,3,10], pivot = 10\n",
    "Output: [9,5,3,10,10,12,14]\n",
    "Explanation: \n",
    "The elements 9, 5, and 3 are less than the pivot so they are on the left side of the array.\n",
    "The elements 12 and 14 are greater than the pivot so they are on the right side of the array.\n",
    "The relative ordering of the elements less than and greater than pivot is also maintained. [9, 5, 3] and [12, 14] are the respective orderings.\n",
    "Example 2:\n",
    "\n",
    "Input: nums = [-3,4,3,2], pivot = 2\n",
    "Output: [-3,2,4,3]\n",
    "Explanation: \n",
    "The element -3 is less than the pivot so it is on the left side of the array.\n",
    "The elements 4 and 3 are greater than the pivot so they are on the right side of the array.\n",
    "The relative ordering of the elements less than and greater than pivot is also maintained. [-3] and [4, 3] are the respective orderings.\n",
    " \n",
    "\n",
    "Constraints:\n",
    "\n",
    "1 <= nums.length <= 105\n",
    "-106 <= nums[i] <= 106\n",
    "pivot equals to an element of nums."
   ]
  },
  {
   "cell_type": "code",
   "execution_count": 12,
   "id": "8163533f",
   "metadata": {},
   "outputs": [],
   "source": [
    "# intution:\n",
    "# sa,e like the before problem -> rearrange using 3 pointers. \n",
    "# ex: [9,12,5,10,14,3,10] --> [9, 5, 3, 10, 10, 14, 12]\n",
    "\n",
    "# The after pivot values are not in correct order, just reverse\n",
    "# but just reverse the after pivot value to maintain the given list order.\n",
    "# Now the after_pivot index will be at the last pivot, here taht is 4. \n",
    "\n",
    "# reverse from 4 + 1 tp len(nums) - 1. \n",
    "\n",
    "\n",
    "class Solution:\n",
    "    def reverse(self, arr, i, j):\n",
    "        while i <= j:\n",
    "            arr[i], arr[j] = arr[j], arr[i]\n",
    "            i += 1\n",
    "            j -= 1\n",
    "\n",
    "    def pivotArray(self, nums: list[int], pivot: int) -> list[int]:\n",
    "        pivot_place , before_pivot = 0, 0 \n",
    "        after_pivot = len(nums) - 1\n",
    "        while pivot_place <= after_pivot:\n",
    "            # if the onc pointer is == 1, correct only move forward. \n",
    "            if nums[pivot_place] == pivot:\n",
    "                pivot_place += 1\n",
    "\n",
    "            # if one pointer is == 0 - move it to zero pointer place and move zero pointer above\n",
    "            elif nums[pivot_place] < pivot:\n",
    "                nums[before_pivot], nums[pivot_place] = nums[pivot_place], nums[before_pivot]\n",
    "                before_pivot += 1\n",
    "                pivot_place += 1\n",
    "                \n",
    "            # if  one pointer is == 2 - move it to 2 pointer place and move 2 pointer above\n",
    "            elif nums[pivot_place] > pivot:\n",
    "                nums[after_pivot], nums[pivot_place] = nums[pivot_place], nums[after_pivot]\n",
    "                after_pivot -= 1\n",
    "            print(nums)\n",
    "\n",
    "        # reverse the after pivot values, to make them maintain the given order.\n",
    "        self.reverse(nums, after_pivot+1, len(nums) - 1)\n",
    "\n",
    "        print(nums)\n"
   ]
  },
  {
   "cell_type": "code",
   "execution_count": 10,
   "id": "96e91992",
   "metadata": {},
   "outputs": [
    {
     "name": "stdout",
     "output_type": "stream",
     "text": [
      "[9, 5, 3, 10, 10, 12, 14]\n"
     ]
    }
   ],
   "source": [
    "Solution().pivotArray([9,12,5,10,14,3,10], 10)"
   ]
  },
  {
   "cell_type": "code",
   "execution_count": 11,
   "id": "9a7697ac",
   "metadata": {},
   "outputs": [
    {
     "name": "stdout",
     "output_type": "stream",
     "text": [
      "[-3, 2, 4, 3]\n"
     ]
    }
   ],
   "source": [
    "Solution().pivotArray( nums = [-3,4,3,2], pivot = 2)"
   ]
  },
  {
   "cell_type": "code",
   "execution_count": 13,
   "id": "0d26dbfc",
   "metadata": {},
   "outputs": [
    {
     "name": "stdout",
     "output_type": "stream",
     "text": [
      "[-11, 15, 12, -14, 8, -7, 19]\n",
      "[-11, 15, 12, -14, 8, -7, 19]\n",
      "[-11, -7, 12, -14, 8, 15, 19]\n",
      "[-11, -7, 12, -14, 8, 15, 19]\n",
      "[-11, -7, 8, -14, 12, 15, 19]\n",
      "[-11, -7, -14, 8, 12, 15, 19]\n",
      "[-11, -14, -7, 8, 12, 15, 19]\n",
      "[-11, -14, -7, 19, 15, 12, 8]\n"
     ]
    }
   ],
   "source": [
    "Solution().pivotArray([19,15,12,-14,8,-7,-11], -7)"
   ]
  },
  {
   "cell_type": "code",
   "execution_count": null,
   "id": "a14e97f3",
   "metadata": {},
   "outputs": [],
   "source": []
  }
 ],
 "metadata": {
  "kernelspec": {
   "display_name": "3.11.11",
   "language": "python",
   "name": "python3"
  },
  "language_info": {
   "codemirror_mode": {
    "name": "ipython",
    "version": 3
   },
   "file_extension": ".py",
   "mimetype": "text/x-python",
   "name": "python",
   "nbconvert_exporter": "python",
   "pygments_lexer": "ipython3",
   "version": "3.11.11"
  }
 },
 "nbformat": 4,
 "nbformat_minor": 5
}
