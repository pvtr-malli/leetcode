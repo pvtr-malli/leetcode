{
 "cells": [
  {
   "cell_type": "markdown",
   "id": "84f66ee5",
   "metadata": {},
   "source": [
    "Given an array of intervals where intervals[i] = [starti, endi], merge all overlapping intervals, and return an array of the non-overlapping intervals that cover all the intervals in the input.\n",
    "\n",
    " \n",
    "\n",
    "Example 1:\n",
    "\n",
    "Input: intervals = [[1,3],[2,6],[8,10],[15,18]]\n",
    "Output: [[1,6],[8,10],[15,18]]\n",
    "Explanation: Since intervals [1,3] and [2,6] overlap, merge them into [1,6].\n",
    "Example 2:\n",
    "\n",
    "Input: intervals = [[1,4],[4,5]]\n",
    "Output: [[1,5]]\n",
    "Explanation: Intervals [1,4] and [4,5] are considered overlapping.\n",
    " \n",
    "\n",
    "Constraints:\n",
    "\n",
    "1 <= intervals.length <= 104\n",
    "intervals[i].length == 2\n",
    "0 <= starti <= endi <= 104"
   ]
  },
  {
   "cell_type": "code",
   "execution_count": null,
   "id": "116c5e06",
   "metadata": {},
   "outputs": [],
   "source": [
    "class Solution:\n",
    "    def merge(self, intervals: list[list[int]]) -> list[list[int]]:\n",
    "        # sort the intervals based on the starting index.\n",
    "        intervals.sort(key=lambda x: x[0])\n",
    "        \n",
    "        # if the s2 < e1. then that is a overlapping interval, merge those intervals and put it in res.\n",
    "        res = [intervals[0]]\n",
    "        for ele in intervals:\n",
    "            s1, e1 = res[-1]\n",
    "            s2, e2 = ele \n",
    "\n",
    "            # check i and j are overlapping.\n",
    "            if s2 <= e1:\n",
    "                # if they are overlapping, change the ending to include this interval also.\n",
    "                res[-1][1] = max(e1,e2)\n",
    "            else:\n",
    "                # append this interval.\n",
    "                res.append([s2,e2])\n",
    "        return res\n",
    "\n",
    "# tc - O(nlog)[sorting] + O(n)\n",
    "# sc - O(unique intervals)[res array]"
   ]
  },
  {
   "cell_type": "code",
   "execution_count": 14,
   "id": "d979f3a1",
   "metadata": {},
   "outputs": [
    {
     "data": {
      "text/plain": [
       "[[1, 6], [8, 10], [15, 18]]"
      ]
     },
     "execution_count": 14,
     "metadata": {},
     "output_type": "execute_result"
    }
   ],
   "source": [
    "Solution().merge(intervals = [[1,3],[2,6],[8,10],[15,18]])"
   ]
  },
  {
   "cell_type": "code",
   "execution_count": 15,
   "id": "0e5fd296",
   "metadata": {},
   "outputs": [
    {
     "data": {
      "text/plain": [
       "[[1, 5]]"
      ]
     },
     "execution_count": 15,
     "metadata": {},
     "output_type": "execute_result"
    }
   ],
   "source": [
    "Solution().merge(intervals = [[1,4],[4,5]])"
   ]
  },
  {
   "cell_type": "code",
   "execution_count": null,
   "id": "7a1948a7",
   "metadata": {},
   "outputs": [],
   "source": []
  }
 ],
 "metadata": {
  "kernelspec": {
   "display_name": "3.11.11",
   "language": "python",
   "name": "python3"
  },
  "language_info": {
   "codemirror_mode": {
    "name": "ipython",
    "version": 3
   },
   "file_extension": ".py",
   "mimetype": "text/x-python",
   "name": "python",
   "nbconvert_exporter": "python",
   "pygments_lexer": "ipython3",
   "version": "3.11.11"
  }
 },
 "nbformat": 4,
 "nbformat_minor": 5
}
