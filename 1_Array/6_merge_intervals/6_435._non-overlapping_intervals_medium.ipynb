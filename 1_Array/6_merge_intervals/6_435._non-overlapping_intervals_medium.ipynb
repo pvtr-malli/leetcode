{
 "cells": [
  {
   "cell_type": "markdown",
   "id": "05dcf0f6",
   "metadata": {},
   "source": [
    "Given an array of intervals intervals where intervals[i] = [starti, endi], return the minimum number of intervals you need to remove to make the rest of the intervals non-overlapping.\n",
    "\n",
    "Note that intervals which only touch at a point are non-overlapping. For example, [1, 2] and [2, 3] are non-overlapping.\n",
    "\n",
    " \n",
    "\n",
    "Example 1:\n",
    "\n",
    "Input: intervals = [[1,2],[2,3],[3,4],[1,3]]\n",
    "Output: 1\n",
    "Explanation: [1,3] can be removed and the rest of the intervals are non-overlapping.\n",
    "Example 2:\n",
    "\n",
    "Input: intervals = [[1,2],[1,2],[1,2]]\n",
    "Output: 2\n",
    "Explanation: You need to remove two [1,2] to make the rest of the intervals non-overlapping.\n",
    "Example 3:\n",
    "\n",
    "Input: intervals = [[1,2],[2,3]]\n",
    "Output: 0\n",
    "Explanation: You don't need to remove any of the intervals since they're already non-overlapping.\n",
    " \n",
    "\n",
    "Constraints:\n",
    "\n",
    "1 <= intervals.length <= 105\n",
    "intervals[i].length == 2\n",
    "-5 * 104 <= starti < endi <= 5 * 104"
   ]
  },
  {
   "cell_type": "markdown",
   "id": "926ded75",
   "metadata": {},
   "source": [
    "[1---------10]   ← big interval overlaps with everything\n",
    "  [2-3]\n",
    "     [4-5]\n",
    "        [6-7]\n",
    "           [8-9]\n",
    "\n",
    "- here if you remove first then removal needed is - 1\n",
    "- if not removal needed is - 3. \n",
    "\n",
    "\n",
    "sort based on end time,  the onw with the big ending point, \n",
    "i = 0\n",
    "start = i[0]; end = i[1]\n",
    "for j in range(1, len(n)):\n",
    "    # check if they are overlapping.\n",
    "    if so:\n",
    "        remove the one with the biggest end point \n",
    "        remove += 1\n",
    "        start, end = j # now the current interval becomes the checking interval.\n",
    "    else:\n",
    "        # if its not overlapping with the current one , nothing after this can also can't overlap\n",
    "        # so update the star and end to check\n",
    "        start, end = j\n"
   ]
  },
  {
   "cell_type": "markdown",
   "id": "bb795aa2",
   "metadata": {},
   "source": [
    "\n",
    "```\n",
    "intervals = [[1,3], [2,5], [4,7], [6,9], [8,10]]\n",
    "after sorting = [[1,3], [2,5], [4,7], [6,9], [8,10]]\n",
    "\n",
    "prev_non_overlapping = 0\n",
    "\n",
    "i = 1 → [2,5]\n",
    "2 < 3 → overlapping → count = 1\n",
    "\n",
    "i = 2 → [4,7]\n",
    "4 >= 3 → not overlapping → prev_non_overlapping = 2\n",
    "\n",
    "i = 3 → [6,9]\n",
    "6 < 7 → overlapping → count = 2\n",
    "\n",
    "i = 4 → [8,10]\n",
    "8 >= 7 → not overlapping → prev_non_overlapping = 4\n",
    "```\n",
    "\n",
    "\n",
    "\n",
    "```\n",
    "intervals = [[1, 10], [2, 3], [4, 5], [6, 7], [8, 9]]\n",
    "after sorting = [[2, 3], [4, 5], [6, 7], [8, 9], [1, 10]]\n",
    "\n",
    "prev_non_overlapping = 0  # [2, 3]\n",
    "\n",
    "i = 1 → [4, 5]\n",
    "4 >= 3 → not overlapping → prev_non_overlapping = 1\n",
    "\n",
    "i = 2 → [6, 7]\n",
    "6 >= 5 → not overlapping → prev_non_overlapping = 2\n",
    "\n",
    "i = 3 → [8, 9]\n",
    "8 >= 7 → not overlapping → prev_non_overlapping = 3\n",
    "\n",
    "i = 4 → [1, 10]\n",
    "1 < 9 → overlapping → count = 1\n",
    "```"
   ]
  },
  {
   "cell_type": "code",
   "execution_count": null,
   "id": "bca0a16d",
   "metadata": {},
   "outputs": [],
   "source": [
    "\n",
    "class Solution:\n",
    "    def eraseOverlapIntervals(self, intervals: list[list[int]]) -> int:\n",
    "        # sort based on the end interval.\n",
    "        intervals.sort(key=lambda x: x[1])\n",
    "        # [[1, 2], [2, 3], [1, 3], [3, 4]]\n",
    "\n",
    "        # the first one is always not overlapping.\n",
    "        prev_non_overlapping = 0\n",
    "        count = 0\n",
    "        for i in range(1, len(intervals)):\n",
    "            if intervals[i][0] < intervals[prev_non_overlapping][1]:\n",
    "                # they are overlapping. remove the coming one, since that is having the bigger end time.\n",
    "                # just removing this from consideration. \n",
    "                count += 1\n",
    "            else:\n",
    "                # update the prev overlapping index, since the current ind is not overlapping with prev\n",
    "                # it will not overlap with anything before that.\n",
    "                prev_non_overlapping = i \n",
    "\n",
    "        return count\n",
    "\n",
    "# tc - O(nlogn) [sorting] + O(n)\n",
    "# sc - O(1)"
   ]
  },
  {
   "cell_type": "code",
   "execution_count": 5,
   "id": "cc612017",
   "metadata": {},
   "outputs": [
    {
     "data": {
      "text/plain": [
       "1"
      ]
     },
     "execution_count": 5,
     "metadata": {},
     "output_type": "execute_result"
    }
   ],
   "source": [
    "Solution().eraseOverlapIntervals([[1,2],[2,3],[3,4],[1,3]])"
   ]
  },
  {
   "cell_type": "code",
   "execution_count": 6,
   "id": "874c97b8",
   "metadata": {},
   "outputs": [
    {
     "data": {
      "text/plain": [
       "2"
      ]
     },
     "execution_count": 6,
     "metadata": {},
     "output_type": "execute_result"
    }
   ],
   "source": [
    "Solution().eraseOverlapIntervals([[1,2],[1,2],[1,2]])"
   ]
  },
  {
   "cell_type": "code",
   "execution_count": 7,
   "id": "1e02e6b1",
   "metadata": {},
   "outputs": [
    {
     "data": {
      "text/plain": [
       "0"
      ]
     },
     "execution_count": 7,
     "metadata": {},
     "output_type": "execute_result"
    }
   ],
   "source": [
    "Solution().eraseOverlapIntervals(intervals = [[1,2],[2,3]])"
   ]
  },
  {
   "cell_type": "code",
   "execution_count": 8,
   "id": "9f21cf91",
   "metadata": {},
   "outputs": [
    {
     "data": {
      "text/plain": [
       "1"
      ]
     },
     "execution_count": 8,
     "metadata": {},
     "output_type": "execute_result"
    }
   ],
   "source": [
    "Solution().eraseOverlapIntervals( [[1, 10], [2, 3], [4, 5], [6, 7], [8, 9]])"
   ]
  },
  {
   "cell_type": "code",
   "execution_count": null,
   "id": "1b39561e",
   "metadata": {},
   "outputs": [],
   "source": []
  }
 ],
 "metadata": {
  "kernelspec": {
   "display_name": "3.11.11",
   "language": "python",
   "name": "python3"
  },
  "language_info": {
   "codemirror_mode": {
    "name": "ipython",
    "version": 3
   },
   "file_extension": ".py",
   "mimetype": "text/x-python",
   "name": "python",
   "nbconvert_exporter": "python",
   "pygments_lexer": "ipython3",
   "version": "3.11.11"
  }
 },
 "nbformat": 4,
 "nbformat_minor": 5
}
