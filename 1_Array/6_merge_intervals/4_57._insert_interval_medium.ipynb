{
 "cells": [
  {
   "cell_type": "markdown",
   "id": "8829be7b",
   "metadata": {},
   "source": [
    "You are given an array of non-overlapping intervals intervals where intervals[i] = [starti, endi] represent the start and the end of the ith interval and intervals is sorted in ascending order by starti. You are also given an interval newInterval = [start, end] that represents the start and end of another interval.\n",
    "\n",
    "Insert newInterval into intervals such that intervals is still sorted in ascending order by starti and intervals still does not have any overlapping intervals (merge overlapping intervals if necessary).\n",
    "\n",
    "Return intervals after the insertion.\n",
    "\n",
    "Note that you don't need to modify intervals in-place. You can make a new array and return it.\n",
    "\n",
    " \n",
    "\n",
    "Example 1:\n",
    "\n",
    "Input: intervals = [[1,3],[6,9]], newInterval = [2,5]\n",
    "Output: [[1,5],[6,9]]\n",
    "Example 2:\n",
    "\n",
    "Input: intervals = [[1,2],[3,5],[6,7],[8,10],[12,16]], newInterval = [4,8]\n",
    "Output: [[1,2],[3,10],[12,16]]\n",
    "Explanation: Because the new interval [4,8] overlaps with [3,5],[6,7],[8,10].\n",
    " \n",
    "\n",
    "Constraints:\n",
    "\n",
    "0 <= intervals.length <= 104\n",
    "intervals[i].length == 2\n",
    "0 <= starti <= endi <= 105\n",
    "intervals is sorted by starti in ascending order.\n",
    "newInterval.length == 2\n",
    "0 <= start <= end <= 105"
   ]
  },
  {
   "cell_type": "code",
   "execution_count": null,
   "id": "11722c7e",
   "metadata": {},
   "outputs": [],
   "source": [
    "# brute force:\n",
    "# add the interval in the end - O(1)\n",
    "# sort the array based on the starting interval. -O(nlong)\n",
    "# then merge overlapping intervals. O(n)\n"
   ]
  },
  {
   "cell_type": "code",
   "execution_count": null,
   "id": "5a3dc299",
   "metadata": {},
   "outputs": [],
   "source": [
    "class Solution:\n",
    "    def insert(self, intervals: list[list[int]], newInterval: list[int]) -> list[list[int]]:\n",
    "        res = []\n",
    "        # [[1,3],[6,9]], newInterval = [2,5]\n",
    "        for interval in intervals:\n",
    "\n",
    "            # what is the newinterval has to go before the current one, and not overlapping.\n",
    "            if newInterval[1] < interval[0]:\n",
    "                res.append(newInterval)\n",
    "                newInterval = interval\n",
    "            # they are not overlapping. the newinterval is later the interval\n",
    "            elif newInterval[0] > interval[1]:\n",
    "                res.append(interval)\n",
    "\n",
    "            # what if they are overlapping.\n",
    "            else:\n",
    "                newInterval[0] = min(interval[0], newInterval[0])\n",
    "                newInterval[1] = max(interval[1], newInterval[1])\n",
    "\n",
    "        # new interval is belonged to the last interval.\n",
    "        res.append(newInterval)\n",
    "        \n",
    "        return res\n",
    "\n",
    "\n",
    "# tc - O(n)\n",
    "# sc- O(res)"
   ]
  },
  {
   "cell_type": "code",
   "execution_count": 15,
   "id": "167d7c3c",
   "metadata": {},
   "outputs": [
    {
     "data": {
      "text/plain": [
       "[[1, 5], [6, 9]]"
      ]
     },
     "execution_count": 15,
     "metadata": {},
     "output_type": "execute_result"
    }
   ],
   "source": [
    "Solution().insert(intervals = [[1,3],[6,9]], newInterval = [2,5])"
   ]
  },
  {
   "cell_type": "code",
   "execution_count": 16,
   "id": "3eceb419",
   "metadata": {},
   "outputs": [
    {
     "data": {
      "text/plain": [
       "[[1, 2], [3, 10], [12, 16]]"
      ]
     },
     "execution_count": 16,
     "metadata": {},
     "output_type": "execute_result"
    }
   ],
   "source": [
    "Solution().insert(intervals = [[1,2],[3,5],[6,7],[8,10],[12,16]], newInterval = [4,8])"
   ]
  },
  {
   "cell_type": "code",
   "execution_count": null,
   "id": "1db90578",
   "metadata": {},
   "outputs": [],
   "source": []
  }
 ],
 "metadata": {
  "kernelspec": {
   "display_name": "3.11.11",
   "language": "python",
   "name": "python3"
  },
  "language_info": {
   "codemirror_mode": {
    "name": "ipython",
    "version": 3
   },
   "file_extension": ".py",
   "mimetype": "text/x-python",
   "name": "python",
   "nbconvert_exporter": "python",
   "pygments_lexer": "ipython3",
   "version": "3.11.11"
  }
 },
 "nbformat": 4,
 "nbformat_minor": 5
}
