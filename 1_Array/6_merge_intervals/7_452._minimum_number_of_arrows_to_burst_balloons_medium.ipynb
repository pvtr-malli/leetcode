{
 "cells": [
  {
   "cell_type": "markdown",
   "id": "30268104",
   "metadata": {},
   "source": [
    "There are some spherical balloons taped onto a flat wall that represents the XY-plane. The balloons are represented as a 2D integer array points where points[i] = [xstart, xend] denotes a balloon whose horizontal diameter stretches between xstart and xend. You do not know the exact y-coordinates of the balloons.\n",
    "\n",
    "Arrows can be shot up directly vertically (in the positive y-direction) from different points along the x-axis. A balloon with xstart and xend is burst by an arrow shot at x if xstart <= x <= xend. There is no limit to the number of arrows that can be shot. A shot arrow keeps traveling up infinitely, bursting any balloons in its path.\n",
    "\n",
    "Given the array points, return the minimum number of arrows that must be shot to burst all balloons.\n",
    "\n",
    " \n",
    "\n",
    "Example 1:\n",
    "\n",
    "Input: points = [[10,16],[2,8],[1,6],[7,12]]\n",
    "Output: 2\n",
    "Explanation: The balloons can be burst by 2 arrows:\n",
    "- Shoot an arrow at x = 6, bursting the balloons [2,8] and [1,6].\n",
    "- Shoot an arrow at x = 11, bursting the balloons [10,16] and [7,12].\n",
    "Example 2:\n",
    "\n",
    "Input: points = [[1,2],[3,4],[5,6],[7,8]]\n",
    "Output: 4\n",
    "Explanation: One arrow needs to be shot for each balloon for a total of 4 arrows.\n",
    "Example 3:\n",
    "\n",
    "Input: points = [[1,2],[2,3],[3,4],[4,5]]\n",
    "Output: 2\n",
    "Explanation: The balloons can be burst by 2 arrows:\n",
    "- Shoot an arrow at x = 2, bursting the balloons [1,2] and [2,3].\n",
    "- Shoot an arrow at x = 4, bursting the balloons [3,4] and [4,5].\n",
    " \n",
    "\n",
    "Constraints:\n",
    "\n",
    "1 <= points.length <= 105\n",
    "points[i].length == 2\n",
    "-231 <= xstart < xend <= 231 - 1"
   ]
  },
  {
   "cell_type": "code",
   "execution_count": 15,
   "id": "28246dab",
   "metadata": {},
   "outputs": [],
   "source": [
    "class Solution:\n",
    "    def findMinArrowShots(self, points: list[list[int]]) -> int:\n",
    "        # sort it based on the staring point.\n",
    "        points.sort(key=lambda x: x[0])\n",
    "        print(points)\n",
    "        # always the first one is not over-lapped .\n",
    "        count = 1\n",
    "        shooting_part_start, shooting_part_end = points[0]\n",
    "        for ele in points:\n",
    "            start2, end2 = ele\n",
    "            # if they are having overlapping points, then they can be burshed.\n",
    "            # [[1, 6], [2, 8], [7, 12], [10, 16]]\n",
    "            # [1-------6]             \n",
    "            #  [2--------8]         \n",
    "            #          [7--------12]      \n",
    "            #                 [10------16]\n",
    "            # see, the first 2 interval's shooting point is 2 - 6. So if the next comes in this interval, we can shoot it along with this. \n",
    "            # tht is nothing but the max(s1,s2) - min(e1,e2). \n",
    "            # if not overlapping with this shoopint point, need another arrow for it,\n",
    "\n",
    "            if start2 <= shooting_part_end:\n",
    "                shooting_part_start = max(shooting_part_start, start2)\n",
    "                shooting_part_end = min(shooting_part_end, end2)\n",
    "            else:\n",
    "                # they are not overlapping, so we got new a interval.\n",
    "                count += 1\n",
    "                shooting_part_start, shooting_part_end = ele \n",
    "        return count \n",
    "\n",
    "# tc - O(n) + O(nlogn)\n",
    "# sc - O(1)\n"
   ]
  },
  {
   "cell_type": "code",
   "execution_count": 16,
   "id": "afa3c793",
   "metadata": {},
   "outputs": [
    {
     "name": "stdout",
     "output_type": "stream",
     "text": [
      "[[1, 6], [2, 8], [7, 12], [10, 16]]\n"
     ]
    },
    {
     "data": {
      "text/plain": [
       "2"
      ]
     },
     "execution_count": 16,
     "metadata": {},
     "output_type": "execute_result"
    }
   ],
   "source": [
    "Solution().findMinArrowShots([[10,16],[2,8],[1,6],[7,12]])"
   ]
  },
  {
   "cell_type": "code",
   "execution_count": 17,
   "id": "c089c8b0",
   "metadata": {},
   "outputs": [
    {
     "name": "stdout",
     "output_type": "stream",
     "text": [
      "[[1, 2], [3, 4], [5, 6], [7, 8]]\n"
     ]
    },
    {
     "data": {
      "text/plain": [
       "4"
      ]
     },
     "execution_count": 17,
     "metadata": {},
     "output_type": "execute_result"
    }
   ],
   "source": [
    "Solution().findMinArrowShots([[1,2],[3,4],[5,6],[7,8]])"
   ]
  },
  {
   "cell_type": "code",
   "execution_count": 18,
   "id": "dcde0e0b",
   "metadata": {},
   "outputs": [
    {
     "name": "stdout",
     "output_type": "stream",
     "text": [
      "[[1, 2], [2, 3], [3, 4], [4, 5]]\n"
     ]
    },
    {
     "data": {
      "text/plain": [
       "2"
      ]
     },
     "execution_count": 18,
     "metadata": {},
     "output_type": "execute_result"
    }
   ],
   "source": [
    "Solution().findMinArrowShots([[1,2],[2,3],[3,4],[4,5]])"
   ]
  },
  {
   "cell_type": "code",
   "execution_count": null,
   "id": "a218547d",
   "metadata": {},
   "outputs": [],
   "source": []
  }
 ],
 "metadata": {
  "kernelspec": {
   "display_name": "3.11.11",
   "language": "python",
   "name": "python3"
  },
  "language_info": {
   "codemirror_mode": {
    "name": "ipython",
    "version": 3
   },
   "file_extension": ".py",
   "mimetype": "text/x-python",
   "name": "python",
   "nbconvert_exporter": "python",
   "pygments_lexer": "ipython3",
   "version": "3.11.11"
  }
 },
 "nbformat": 4,
 "nbformat_minor": 5
}
