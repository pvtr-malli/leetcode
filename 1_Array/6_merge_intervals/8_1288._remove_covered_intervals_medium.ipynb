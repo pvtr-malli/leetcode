{
 "cells": [
  {
   "cell_type": "markdown",
   "id": "49ba67df",
   "metadata": {},
   "source": [
    "Given an array intervals where intervals[i] = [li, ri] represent the interval [li, ri), remove all intervals that are covered by another interval in the list.\n",
    "\n",
    "The interval [a, b) is covered by the interval [c, d) if and only if c <= a and b <= d.\n",
    "\n",
    "Return the number of remaining intervals.\n",
    "\n",
    " \n",
    "\n",
    "Example 1:\n",
    "\n",
    "Input: intervals = [[1,4],[3,6],[2,8]]\n",
    "Output: 2\n",
    "Explanation: Interval [3,6] is covered by [2,8], therefore it is removed.\n",
    "Example 2:\n",
    "\n",
    "Input: intervals = [[1,4],[2,3]]\n",
    "Output: 1\n",
    " \n",
    "\n",
    "Constraints:\n",
    "\n",
    "1 <= intervals.length <= 1000\n",
    "intervals[i].length == 2\n",
    "0 <= li < ri <= 105\n",
    "All the given intervals are unique."
   ]
  },
  {
   "cell_type": "code",
   "execution_count": null,
   "id": "fd8503d5",
   "metadata": {},
   "outputs": [],
   "source": [
    "class Solution:\n",
    "    def removeCoveredIntervals(self, intervals: list[list[int]]) -> int:\n",
    "        # sort based on the starting point.\n",
    "\n",
    "        # # special case: [[1,2],[1,4],[3,4]. The covered part comes first, strading is same so didn't affected by sorting. \n",
    "        # so need to sort based on starting acending order, for the same start decending end point. \n",
    "        intervals.sort(key=lambda x: (x[0], -x[1])) \n",
    "\n",
    "        not_covered_start = intervals[0][0]\n",
    "        not_covered_end = intervals[0][1]\n",
    "\n",
    "        count = 1\n",
    "        for ele in intervals:\n",
    "            start2, end2 = ele\n",
    "            # if this interval is not covered by the one, just increase the count.\n",
    "                # [[1,4],[2,8], [3,6],] \n",
    "                # when they are not coverted, increase the count and modify the tracker.\n",
    "            # [2,8], [3,6] : this 2 is covered here, we dont need to increase the counter. \n",
    "                # and the not covered ind is still the same, because that is the bigger one.\n",
    "\n",
    "            \n",
    "\n",
    "            if not (start2 >= not_covered_start and end2 <= not_covered_end):\n",
    "                count += 1\n",
    "                not_covered_start, not_covered_end = ele\n",
    "            \n",
    "            \n",
    "        return count \n",
    "    \n",
    "# # tc - O(n) + O(nlogn)\n",
    "# sc - O(1)"
   ]
  },
  {
   "cell_type": "markdown",
   "id": "6ff2f082",
   "metadata": {},
   "source": [
    "# does this sorting add any extra time complexity ? \n",
    "- The overall time complexity remains O(n log n).\n",
    "\n",
    "- The -x[1] doesn't add any asymptotic overhead — it's just part of the comparison key.\n",
    "\n",
    "- So: No, it doesn't add extra time complexity beyond what sorting already requires."
   ]
  },
  {
   "cell_type": "code",
   "execution_count": 10,
   "id": "d76c4628",
   "metadata": {},
   "outputs": [
    {
     "data": {
      "text/plain": [
       "2"
      ]
     },
     "execution_count": 10,
     "metadata": {},
     "output_type": "execute_result"
    }
   ],
   "source": [
    "Solution().removeCoveredIntervals(intervals = [[1,4],[3,6],[2,8]])"
   ]
  },
  {
   "cell_type": "code",
   "execution_count": 11,
   "id": "a91ff2d1",
   "metadata": {},
   "outputs": [
    {
     "data": {
      "text/plain": [
       "1"
      ]
     },
     "execution_count": 11,
     "metadata": {},
     "output_type": "execute_result"
    }
   ],
   "source": [
    "Solution().removeCoveredIntervals([[1,4],[2,3]])"
   ]
  },
  {
   "cell_type": "code",
   "execution_count": 12,
   "id": "b9e21d91",
   "metadata": {},
   "outputs": [
    {
     "data": {
      "text/plain": [
       "1"
      ]
     },
     "execution_count": 12,
     "metadata": {},
     "output_type": "execute_result"
    }
   ],
   "source": [
    "Solution().removeCoveredIntervals([[1,2],[1,4],[3,4]])"
   ]
  }
 ],
 "metadata": {
  "kernelspec": {
   "display_name": "3.11.11",
   "language": "python",
   "name": "python3"
  },
  "language_info": {
   "codemirror_mode": {
    "name": "ipython",
    "version": 3
   },
   "file_extension": ".py",
   "mimetype": "text/x-python",
   "name": "python",
   "nbconvert_exporter": "python",
   "pygments_lexer": "ipython3",
   "version": "3.11.11"
  }
 },
 "nbformat": 4,
 "nbformat_minor": 5
}
