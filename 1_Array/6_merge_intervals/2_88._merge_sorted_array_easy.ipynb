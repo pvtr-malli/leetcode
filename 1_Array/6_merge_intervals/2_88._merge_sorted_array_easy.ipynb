{
 "cells": [
  {
   "cell_type": "markdown",
   "id": "d2d21380",
   "metadata": {},
   "source": [
    "88. Merge Sorted Array\n",
    "Solved\n",
    "Easy\n",
    "Topics\n",
    "premium lock icon\n",
    "Companies\n",
    "Hint\n",
    "You are given two integer arrays nums1 and nums2, sorted in non-decreasing order, and two integers m and n, representing the number of elements in nums1 and nums2 respectively.\n",
    "\n",
    "Merge nums1 and nums2 into a single array sorted in non-decreasing order.\n",
    "\n",
    "The final sorted array should not be returned by the function, but instead be stored inside the array nums1. To accommodate this, nums1 has a length of m + n, where the first m elements denote the elements that should be merged, and the last n elements are set to 0 and should be ignored. nums2 has a length of n.\n",
    "\n",
    " \n",
    "\n",
    "Example 1:\n",
    "\n",
    "Input: nums1 = [1,2,3,0,0,0], m = 3, nums2 = [2,5,6], n = 3\n",
    "Output: [1,2,2,3,5,6]\n",
    "Explanation: The arrays we are merging are [1,2,3] and [2,5,6].\n",
    "The result of the merge is [1,2,2,3,5,6] with the underlined elements coming from nums1.\n",
    "Example 2:\n",
    "\n",
    "Input: nums1 = [1], m = 1, nums2 = [], n = 0\n",
    "Output: [1]\n",
    "Explanation: The arrays we are merging are [1] and [].\n",
    "The result of the merge is [1].\n",
    "Example 3:\n",
    "\n",
    "Input: nums1 = [0], m = 0, nums2 = [1], n = 1\n",
    "Output: [1]\n",
    "Explanation: The arrays we are merging are [] and [1].\n",
    "The result of the merge is [1].\n",
    "Note that because m = 0, there are no elements in nums1. The 0 is only there to ensure the merge result can fit in nums1.\n",
    " \n",
    "\n",
    "Constraints:\n",
    "\n",
    "nums1.length == m + n\n",
    "nums2.length == n\n",
    "0 <= m, n <= 200\n",
    "1 <= m + n <= 200\n",
    "-109 <= nums1[i], nums2[j] <= 109\n",
    " \n",
    "\n",
    "Follow up: Can you come up with an algorithm that runs in O(m + n) time?"
   ]
  },
  {
   "cell_type": "code",
   "execution_count": null,
   "id": "ca71a233",
   "metadata": {},
   "outputs": [],
   "source": [
    "class Solution:\n",
    "    def merge(self, nums1: list[int], m: int, nums2: list[int], n: int) -> None:\n",
    "        \"\"\"\n",
    "        Do not return anything, modify nums1 in-place instead.\n",
    "        \"\"\"\n",
    "        # start looking form the back, if the l < r. which means that is the biggerst element.\n",
    "        # [1,2,3,0,0,0]  [2,5,6]   # m=3, n=3\n",
    "        #      l     z        r   -> so place r at the back. num1[z] position. z = (m+n-1) and z--, r--\n",
    "        # if not:\n",
    "        # then place l in the num1[z] position and l--, z--\n",
    "\n",
    "        # stop if any of the pointer is <0.\n",
    "        # at the end if something is pending in the num2 array means those are bigger than all the remoaning ele in the num1.\n",
    "        # put them from the bacl order in the num1. start filling hte value from num1[m-1] index.\n",
    "        # \n",
    "        l = m-1\n",
    "        r = n-1\n",
    "        z = m+n-1\n",
    "        while l>=0 and r>=0:\n",
    "            if nums1[l] < nums2[r]:\n",
    "                nums1[z] = nums2[r]\n",
    "                r -= 1\n",
    "                z -= 1\n",
    "            else:\n",
    "                nums1[z] = nums1[l]\n",
    "                l -= 1\n",
    "                z -= 1\n",
    "\n",
    "        # start filling the remaining elements in the num2 array.\n",
    "        for _ in range(r+1): # if r = 2, then 3 elements left in the nums2 array. run 3 for loop and fill them.\n",
    "            nums1[z] = nums2[r]\n",
    "            r -= 1\n",
    "            z-= 1\n",
    "\n",
    "        print(nums1)\n",
    "\n",
    "\n",
    "# all the element accessed only once. tc - O(m + n)\n",
    "# sc - O(1)"
   ]
  },
  {
   "cell_type": "code",
   "execution_count": 3,
   "id": "e3f3be0d",
   "metadata": {},
   "outputs": [
    {
     "name": "stdout",
     "output_type": "stream",
     "text": [
      "[1, 2, 2, 3, 5, 6]\n"
     ]
    }
   ],
   "source": [
    "Solution().merge(nums1 = [1,2,3,0,0,0], m = 3, nums2 = [2,5,6], n = 3)"
   ]
  },
  {
   "cell_type": "code",
   "execution_count": 4,
   "id": "244889dc",
   "metadata": {},
   "outputs": [
    {
     "name": "stdout",
     "output_type": "stream",
     "text": [
      "[1]\n"
     ]
    }
   ],
   "source": [
    "Solution().merge(nums1 = [0], m = 0, nums2 = [1], n = 1)"
   ]
  },
  {
   "cell_type": "code",
   "execution_count": 5,
   "id": "dd787296",
   "metadata": {},
   "outputs": [
    {
     "name": "stdout",
     "output_type": "stream",
     "text": [
      "[1]\n"
     ]
    }
   ],
   "source": [
    "Solution().merge(nums1 = [1], m = 1, nums2 = [], n = 0)"
   ]
  },
  {
   "cell_type": "code",
   "execution_count": 6,
   "id": "7dec9609",
   "metadata": {},
   "outputs": [
    {
     "name": "stdout",
     "output_type": "stream",
     "text": [
      "[1, 2, 3, 4, 5, 6]\n"
     ]
    }
   ],
   "source": [
    "Solution().merge(nums1 = [4,5,6,0,0,0], m = 3, nums2 = [1,2,3], n = 3)"
   ]
  },
  {
   "cell_type": "code",
   "execution_count": null,
   "id": "c1ea6877",
   "metadata": {},
   "outputs": [],
   "source": []
  }
 ],
 "metadata": {
  "kernelspec": {
   "display_name": "3.11.11",
   "language": "python",
   "name": "python3"
  },
  "language_info": {
   "codemirror_mode": {
    "name": "ipython",
    "version": 3
   },
   "file_extension": ".py",
   "mimetype": "text/x-python",
   "name": "python",
   "nbconvert_exporter": "python",
   "pygments_lexer": "ipython3",
   "version": "3.11.11"
  }
 },
 "nbformat": 4,
 "nbformat_minor": 5
}
