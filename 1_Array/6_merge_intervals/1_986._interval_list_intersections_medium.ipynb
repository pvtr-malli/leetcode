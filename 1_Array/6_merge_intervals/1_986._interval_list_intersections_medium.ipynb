{
 "cells": [
  {
   "cell_type": "markdown",
   "id": "8e776610",
   "metadata": {},
   "source": [
    "You are given two lists of closed intervals, firstList and secondList, where firstList[i] = [starti, endi] and secondList[j] = [startj, endj]. Each list of intervals is pairwise disjoint and in sorted order.\n",
    "\n",
    "Return the intersection of these two interval lists.\n",
    "\n",
    "A closed interval [a, b] (with a <= b) denotes the set of real numbers x with a <= x <= b.\n",
    "\n",
    "The intersection of two closed intervals is a set of real numbers that are either empty or represented as a closed interval. For example, the intersection of [1, 3] and [2, 4] is [2, 3].\n",
    "\n",
    " \n",
    "\n",
    "Example 1:\n",
    "\n",
    "\n",
    "Input: firstList = [[0,2],[5,10],[13,23],[24,25]], secondList = [[1,5],[8,12],[15,24],[25,26]]\n",
    "Output: [[1,2],[5,5],[8,10],[15,23],[24,24],[25,25]]\n",
    "Example 2:\n",
    "\n",
    "Input: firstList = [[1,3],[5,9]], secondList = []\n",
    "Output: []\n",
    " \n",
    "\n",
    "Constraints:\n",
    "\n",
    "0 <= firstList.length, secondList.length <= 1000\n",
    "firstList.length + secondList.length >= 1\n",
    "0 <= starti < endi <= 109\n",
    "endi < starti+1\n",
    "0 <= startj < endj <= 109 \n",
    "endj < startj+1"
   ]
  },
  {
   "cell_type": "code",
   "execution_count": null,
   "id": "34afe3bf",
   "metadata": {},
   "outputs": [],
   "source": [
    "class Solution:\n",
    "    def intervalIntersection(self, firstList: list[list[int]], secondList: list[list[int]]) -> list[list[int]]:\n",
    "        # edge case:\n",
    "        # if any of hte list is empty then we can't find the intersections.\n",
    "        if not firstList or not secondList:\n",
    "            return []\n",
    "\n",
    "        p1 = p2 = 0\n",
    "        res = []\n",
    "        while p1 < len(firstList) and p2 < len(secondList):\n",
    "            start1, end1 = firstList[p1]\n",
    "            start2, end2 = secondList[p2]\n",
    "\n",
    "            # check they are intersecting are not:\n",
    "            # while there are not intersection, leave the smaller value - not gonna intersect with the next element also if not with first.\n",
    "            # [3,5] [ 1,2] - leave the p2.\n",
    "            if start1 > end2:\n",
    "                p2 += 1\n",
    "            # [1,2 ] and [3,5] - leave the p1\n",
    "            elif start2 > end1:\n",
    "                p1 += 1\n",
    "            else:\n",
    "                # there is a intersections.\n",
    "                res.append([max(start1,start2), min(end1, end2)])\n",
    "\n",
    "                # [1,4]\n",
    "                # [2,6] -> so [2,4] is appended. there is still 5,6 uncheked in secondlist. so increase the first list pointer.\n",
    "                if end2 > end1:\n",
    "                    p1 += 1\n",
    "                else:\n",
    "                    p2 += 1\n",
    "        \n",
    "        return res \n",
    "    \n",
    "\n",
    "# tc - O(n)\n",
    "# sc - O(1)\n"
   ]
  },
  {
   "cell_type": "code",
   "execution_count": 5,
   "id": "1ba40324",
   "metadata": {},
   "outputs": [
    {
     "data": {
      "text/plain": [
       "[[1, 2], [5, 5], [8, 10], [15, 23], [24, 24], [25, 25]]"
      ]
     },
     "execution_count": 5,
     "metadata": {},
     "output_type": "execute_result"
    }
   ],
   "source": [
    "Solution().intervalIntersection(firstList = [[0,2],[5,10],[13,23],[24,25]], secondList = [[1,5],[8,12],[15,24],[25,26]])"
   ]
  },
  {
   "cell_type": "code",
   "execution_count": null,
   "id": "01e83ec2",
   "metadata": {},
   "outputs": [],
   "source": []
  }
 ],
 "metadata": {
  "kernelspec": {
   "display_name": "3.11.11",
   "language": "python",
   "name": "python3"
  },
  "language_info": {
   "codemirror_mode": {
    "name": "ipython",
    "version": 3
   },
   "file_extension": ".py",
   "mimetype": "text/x-python",
   "name": "python",
   "nbconvert_exporter": "python",
   "pygments_lexer": "ipython3",
   "version": "3.11.11"
  }
 },
 "nbformat": 4,
 "nbformat_minor": 5
}
