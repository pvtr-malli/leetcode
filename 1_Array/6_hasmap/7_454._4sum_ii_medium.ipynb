{
 "cells": [
  {
   "cell_type": "markdown",
   "id": "20f7dffe",
   "metadata": {},
   "source": [
    "Given four integer arrays nums1, nums2, nums3, and nums4 all of length n, return the number of tuples (i, j, k, l) such that:\n",
    "\n",
    "0 <= i, j, k, l < n\n",
    "nums1[i] + nums2[j] + nums3[k] + nums4[l] == 0\n",
    " \n",
    "\n",
    "Example 1:\n",
    "\n",
    "Input: nums1 = [1,2], nums2 = [-2,-1], nums3 = [-1,2], nums4 = [0,2]\n",
    "Output: 2\n",
    "Explanation:\n",
    "The two tuples are:\n",
    "1. (0, 0, 0, 1) -> nums1[0] + nums2[0] + nums3[0] + nums4[1] = 1 + (-2) + (-1) + 2 = 0\n",
    "2. (1, 1, 0, 0) -> nums1[1] + nums2[1] + nums3[0] + nums4[0] = 2 + (-1) + (-1) + 0 = 0\n",
    "Example 2:\n",
    "\n",
    "Input: nums1 = [0], nums2 = [0], nums3 = [0], nums4 = [0]\n",
    "Output: 1\n",
    " \n",
    "\n",
    "Constraints:\n",
    "\n",
    "n == nums1.length\n",
    "n == nums2.length\n",
    "n == nums3.length\n",
    "n == nums4.length\n",
    "1 <= n <= 200\n",
    "-228 <= nums1[i], nums2[i], nums3[i], nums4[i] <= 228"
   ]
  },
  {
   "cell_type": "code",
   "execution_count": null,
   "id": "8d468024",
   "metadata": {},
   "outputs": [],
   "source": [
    "# brute force: check all the combinations - O(n^4)\n",
    "\n",
    "\n",
    "# better in O(n^2)\n",
    "# Precompute all sums of pairs from A and B, and store their counts in a hash map.\n",
    "\n",
    "# Then, for each sum of pairs from C and D, we check if its negation exists in the map.\n",
    "\n"
   ]
  },
  {
   "cell_type": "code",
   "execution_count": null,
   "id": "d60f3a03",
   "metadata": {},
   "outputs": [],
   "source": [
    "from collections import defaultdict\n",
    "\n",
    "class Solution:\n",
    "    def fourSumCount(self, nums1: list[int], nums2: list[int], nums3: list[int], nums4: list[int]) -> int:\n",
    "        \n",
    "        AB_sum = defaultdict(int)\n",
    "\n",
    "        # Step 1: Store sum of every pair from A and B\n",
    "        for a in nums1:\n",
    "            for b in nums2:\n",
    "                AB_sum[a + b] += 1\n",
    "\n",
    "        count = 0\n",
    "\n",
    "        # Step 2: For every pair in C and D, check if -(c + d) is in AB_sum\n",
    "        for c in nums3:\n",
    "            for d in nums4:\n",
    "                target = -(c + d)\n",
    "                count += AB_sum.get(target, 0)\n",
    "\n",
    "        return count\n",
    "\n",
    "\n",
    "# tc - O(n^2)\n",
    "# ab_sum stores all possible sums of elements from A and B.\n",
    "\n",
    "# In the worst case, A and B both have n elements, and all sums are unique.\n",
    "# sc - O(n^2)"
   ]
  },
  {
   "cell_type": "code",
   "execution_count": 4,
   "id": "32bd4d7d",
   "metadata": {},
   "outputs": [
    {
     "data": {
      "text/plain": [
       "2"
      ]
     },
     "execution_count": 4,
     "metadata": {},
     "output_type": "execute_result"
    }
   ],
   "source": [
    "Solution().fourSumCount(nums1 = [1,2], nums2 = [-2,-1], nums3 = [-1,2], nums4 = [0,2])"
   ]
  },
  {
   "cell_type": "code",
   "execution_count": null,
   "id": "322deaea",
   "metadata": {},
   "outputs": [],
   "source": []
  }
 ],
 "metadata": {
  "kernelspec": {
   "display_name": "3.11.11",
   "language": "python",
   "name": "python3"
  },
  "language_info": {
   "codemirror_mode": {
    "name": "ipython",
    "version": 3
   },
   "file_extension": ".py",
   "mimetype": "text/x-python",
   "name": "python",
   "nbconvert_exporter": "python",
   "pygments_lexer": "ipython3",
   "version": "3.11.11"
  }
 },
 "nbformat": 4,
 "nbformat_minor": 5
}
