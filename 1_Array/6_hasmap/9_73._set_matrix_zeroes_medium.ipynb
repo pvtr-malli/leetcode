{
 "cells": [
  {
   "cell_type": "markdown",
   "id": "8f9269ce",
   "metadata": {},
   "source": [
    "Given an m x n integer matrix matrix, if an element is 0, set its entire row and column to 0's.\n",
    "\n",
    "You must do it in place.\n",
    "\n",
    " \n",
    "\n",
    "Example 1:\n",
    "\n",
    "\n",
    "Input: matrix = [[1,1,1],[1,0,1],[1,1,1]]\n",
    "Output: [[1,0,1],[0,0,0],[1,0,1]]\n",
    "Example 2:\n",
    "\n",
    "\n",
    "Input: matrix = [[0,1,2,0],[3,4,5,2],[1,3,1,5]]\n",
    "Output: [[0,0,0,0],[0,4,5,0],[0,3,1,0]]\n",
    " \n",
    "\n",
    "Constraints:\n",
    "\n",
    "m == matrix.length\n",
    "n == matrix[0].length\n",
    "1 <= m, n <= 200\n",
    "-231 <= matrix[i][j] <= 231 - 1\n",
    " \n",
    "\n",
    "Follow up:\n",
    "\n",
    "A straightforward solution using O(mn) space is probably a bad idea.\n",
    "A simple improvement uses O(m + n) space, but still not the best solution.\n",
    "Could you devise a constant space solution?"
   ]
  },
  {
   "cell_type": "code",
   "execution_count": null,
   "id": "05f0854f",
   "metadata": {},
   "outputs": [],
   "source": [
    "# create a list, for row and col. store which row - has to be set zero. and which col has to be set zero.\n",
    "# tc - O(m*n)[tracking] + O(m*n)[setting zero]\n",
    "# sc - O(m) + O(n)"
   ]
  },
  {
   "cell_type": "code",
   "execution_count": null,
   "id": "3169eb35",
   "metadata": {},
   "outputs": [],
   "source": [
    "# to remove the space complexity as asked in the question, use the same matrix to mark the places for zero.\n",
    "# since the 0,0 is common for both row and col, use a separate 2 variables for tracking 0th row and oth col.\n",
    "# tc - O(m*n)[tracking] + O(m*n)[setting zero]\n",
    "# sc - O(1)"
   ]
  },
  {
   "cell_type": "code",
   "execution_count": null,
   "id": "a58f8e56",
   "metadata": {},
   "outputs": [],
   "source": [
    "class Solution(object):\n",
    "    def setZeroes(self, matrix):\n",
    "        \"\"\"\n",
    "        :type matrix: List[List[int]]\n",
    "        :rtype: None Do not return anything, modify matrix in-place instead.\n",
    "        \"\"\"\n",
    "        row=False\n",
    "        col=False\n",
    "        for i in range(len(matrix)):\n",
    "            for j in range(len(matrix[0])):\n",
    "                if i==0 and  matrix[i][j]==0:\n",
    "                    row=True\n",
    "                if j==0 and matrix[i][j]==0:\n",
    "                    col=True\n",
    "                if matrix[i][j]==0:\n",
    "                    matrix[0][j]=0\n",
    "                    matrix[i][0]=0\n",
    "                    \n",
    "        for i in range(1,len(matrix)):\n",
    "            for j in range(1,len(matrix[0])):\n",
    "                if matrix[i][0]==0 or matrix[0][j]==0:\n",
    "                    matrix[i][j]=0\n",
    "                    \n",
    "        if row==True:\n",
    "            for i in range(len(matrix[0])):\n",
    "                matrix[0][i]=0\n",
    "        if col==True:\n",
    "            for i in range(len(matrix)):\n",
    "                matrix[i][0]=0"
   ]
  }
 ],
 "metadata": {
  "language_info": {
   "name": "python"
  }
 },
 "nbformat": 4,
 "nbformat_minor": 5
}
