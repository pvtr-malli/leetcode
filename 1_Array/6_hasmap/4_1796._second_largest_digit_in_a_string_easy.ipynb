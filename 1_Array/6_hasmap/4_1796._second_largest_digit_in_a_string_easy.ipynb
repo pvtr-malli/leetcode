{
 "cells": [
  {
   "cell_type": "markdown",
   "id": "96281132",
   "metadata": {},
   "source": [
    "Given an alphanumeric string s, return the second largest numerical digit that appears in s, or -1 if it does not exist.\n",
    "\n",
    "An alphanumeric string is a string consisting of lowercase English letters and digits.\n",
    "\n",
    " \n",
    "\n",
    "Example 1:\n",
    "\n",
    "Input: s = \"dfa12321afd\"\n",
    "Output: 2\n",
    "Explanation: The digits that appear in s are [1, 2, 3]. The second largest digit is 2.\n",
    "Example 2:\n",
    "\n",
    "Input: s = \"abc1111\"\n",
    "Output: -1\n",
    "Explanation: The digits that appear in s are [1]. There is no second largest digit. \n",
    " \n",
    "\n",
    "Constraints:\n",
    "\n",
    "1 <= s.length <= 500\n",
    "s consists of only lowercase English letters and digits."
   ]
  },
  {
   "cell_type": "code",
   "execution_count": null,
   "id": "8653f205",
   "metadata": {},
   "outputs": [],
   "source": [
    "class Solution:\n",
    "    def secondHighest(self, s: str) -> int:\n",
    "        first_higest = -1e9\n",
    "        second_higest = -1e9\n",
    "\n",
    "        for c in s:\n",
    "            \n",
    "            if c.isdigit():\n",
    "                int_c = int(c)\n",
    "                # It cane be bigger than first highest.\n",
    "                if int_c > first_higest:\n",
    "                    second_higest = first_higest\n",
    "                    first_higest = int_c\n",
    "                # It cane be only bigger than second highest.\n",
    "                elif int_c > second_higest and int_c != first_higest:\n",
    "                    second_higest = int_c\n",
    "        return second_higest if second_higest != -1e9 else -1\n",
    "\n",
    "# tc - O(n)\n",
    "# sc - O(1)"
   ]
  },
  {
   "cell_type": "code",
   "execution_count": 11,
   "id": "027db30d",
   "metadata": {},
   "outputs": [
    {
     "data": {
      "text/plain": [
       "2"
      ]
     },
     "execution_count": 11,
     "metadata": {},
     "output_type": "execute_result"
    }
   ],
   "source": [
    "Solution().secondHighest(s = \"dfa12321afd\")"
   ]
  },
  {
   "cell_type": "code",
   "execution_count": 12,
   "id": "9e929e51",
   "metadata": {},
   "outputs": [
    {
     "data": {
      "text/plain": [
       "4"
      ]
     },
     "execution_count": 12,
     "metadata": {},
     "output_type": "execute_result"
    }
   ],
   "source": [
    "Solution().secondHighest(\"sjhtz8344\")"
   ]
  },
  {
   "cell_type": "code",
   "execution_count": null,
   "id": "85fef3fc",
   "metadata": {},
   "outputs": [],
   "source": []
  }
 ],
 "metadata": {
  "kernelspec": {
   "display_name": "3.11.11",
   "language": "python",
   "name": "python3"
  },
  "language_info": {
   "codemirror_mode": {
    "name": "ipython",
    "version": 3
   },
   "file_extension": ".py",
   "mimetype": "text/x-python",
   "name": "python",
   "nbconvert_exporter": "python",
   "pygments_lexer": "ipython3",
   "version": "3.11.11"
  }
 },
 "nbformat": 4,
 "nbformat_minor": 5
}
