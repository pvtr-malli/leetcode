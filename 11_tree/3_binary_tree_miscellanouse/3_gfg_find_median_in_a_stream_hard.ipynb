{
 "cells": [
  {
   "cell_type": "markdown",
   "id": "76fd9196",
   "metadata": {},
   "source": [
    "Given a data stream arr[] where integers are read sequentially, the task is to determine the median of the elements encountered so far after each new integer is read.\n",
    "\n",
    "There are two cases for median on the basis of data set size.\n",
    "\n",
    "1. If the data set has an odd number then the middle one will be consider as median.\n",
    "2. If the data set has an even number then there is no distinct middle value and the median will be the arithmetic mean of the two middle values.\n",
    "\n",
    "Examples:\n",
    "\n",
    "Input:  arr[] = [5, 15, 1, 3, 2, 8]\n",
    "Output: [5.0, 10.0, 5.0, 4.0, 3.0, 4.0] \n",
    "Explanation: \n",
    "After reading 1st element of stream – 5 -> median = 5.0\n",
    "After reading 2nd element of stream – 5, 15 -> median = (5+15)/2 = 10.0 \n",
    "After reading 3rd element of stream – 5, 15, 1 -> median = 5.0\n",
    "After reading 4th element of stream – 5, 15, 1, 3 ->  median = (3+5)/2 = 4.0\n",
    "After reading 5th element of stream – 5, 15, 1, 3, 2 -> median = 3.0\n",
    "After reading 6th element of stream – 5, 15, 1, 3, 2, 8 ->  median = (3+5)/2 = 4.0\n",
    "Input: arr[] = [2, 2, 2, 2]\n",
    "Output: [2.0, 2.0, 2.0, 2.0]\n",
    "Explanation: \n",
    "After reading 1st element of stream – 2 -> median = 2.0\n",
    "After reading 2nd element of stream – 2, 2 -> median = (2+2)/2 = 2.0\n",
    "After reading 3rd element of stream – 2, 2, 2 -> median = 2.0\n",
    "After reading 4th element of stream – 2, 2, 2, 2 ->  median = (2+2)/2 = 2.0\n",
    "Constraints:\n",
    "1 <= arr.size() <= 105\n",
    "1 <= x <= 106\n",
    "Expected Complexities\n",
    "Time Complexity: O(n log n)\n",
    "Auxiliary Space: O(n)"
   ]
  },
  {
   "cell_type": "code",
   "execution_count": null,
   "id": "de187491",
   "metadata": {},
   "outputs": [],
   "source": [
    "import heapq\n",
    "\n",
    "class Solution:\n",
    "    def getMedian(self, arr):\n",
    "        h = [] # this will be min-heap. min in the top.\n",
    "        ans = []\n",
    "        for ele in arr:\n",
    "            heapq.heappush(h, ele)\n",
    "\n",
    "            # add the meadian to the ans.\n",
    "            h_len = len(h)\n",
    "            print(h)\n",
    "            if h_len % 2 == 0:\n",
    "                mid = h_len // 2\n",
    "                ans.append((h[mid] + h[mid - 1]) / 2)\n",
    "            else:\n",
    "                ans.append(h[h_len//2])\n",
    "        return ans\n",
    "    \n",
    "\n",
    "\n",
    "# [5]\n",
    "# [5, 15]\n",
    "# [1, 15, 5].    # NOTE: understant the problem here, the heap will only make sure hte first is min. not all in sorted order.\n",
    "# [1, 3, 5, 15]\n",
    "# [1, 2, 5, 15, 3]\n",
    "# [1, 2, 5, 15, 3, 8]\n",
    "\n",
    "# output: [5, 10.0, 15, 4.0, 5, 10.0]\n",
    " "
   ]
  },
  {
   "cell_type": "code",
   "execution_count": 5,
   "id": "3fc51683",
   "metadata": {},
   "outputs": [
    {
     "name": "stdout",
     "output_type": "stream",
     "text": [
      "[5]\n",
      "[5, 15]\n",
      "[1, 15, 5]\n",
      "[1, 3, 5, 15]\n",
      "[1, 2, 5, 15, 3]\n",
      "[1, 2, 5, 15, 3, 8]\n"
     ]
    },
    {
     "data": {
      "text/plain": [
       "[5, 10.0, 15, 4.0, 5, 10.0]"
      ]
     },
     "execution_count": 5,
     "metadata": {},
     "output_type": "execute_result"
    }
   ],
   "source": [
    "Solution().getMedian(arr = [5, 15, 1, 3, 2, 8])"
   ]
  },
  {
   "cell_type": "code",
   "execution_count": null,
   "id": "f8b4f0fb",
   "metadata": {},
   "outputs": [],
   "source": [
    "# So I need the min part one heap. I need the max of it - max-heap\n",
    "# and for the max part one heap. I need the min of it - min-heap\n",
    "import heapq\n",
    "\n",
    "class Solution:\n",
    "    def getMedian(self, arr):\n",
    "        min_heap = [] # low side\n",
    "        max_heap = [] # high side\n",
    "        ans = []\n",
    "        count = 0\n",
    "        \n",
    "        for ele in arr:\n",
    "            # Always push to low side.\n",
    "            heapq.heappush(max_heap, -ele) # to mimic hte max-heap behaviour.\n",
    "\n",
    "            # Move the higest element from low side to high side. \n",
    "            heapq.heappush(min_heap, -heapq.heappop(max_heap))\n",
    "            \n",
    "            # maintain the heaight:\n",
    "            if len(max_heap) < len(min_heap):\n",
    "                heapq.heappush(max_heap, -heapq.heappop(min_heap))\n",
    "\n",
    "                \n",
    "            count += 1\n",
    "            \n",
    "            # Find the median.\n",
    "            if count % 2 == 0:\n",
    "                l = -max_heap[0]\n",
    "                r = min_heap[0]\n",
    "                ans.append((l + r) / 2)\n",
    "            else:\n",
    "                ans.append(-max_heap[0])\n",
    "            \n",
    "            print(min_heap, max_heap)\n",
    "        \n",
    "        return ans "
   ]
  },
  {
   "cell_type": "code",
   "execution_count": 15,
   "id": "2f828b33",
   "metadata": {},
   "outputs": [
    {
     "name": "stdout",
     "output_type": "stream",
     "text": [
      "[] [-5]\n",
      "[15] [-5]\n",
      "[15] [-5, -1]\n",
      "[5, 15] [-3, -1]\n",
      "[5, 15] [-3, -1, -2]\n",
      "[5, 15, 8] [-3, -1, -2]\n"
     ]
    },
    {
     "data": {
      "text/plain": [
       "[5, 10.0, 5, 4.0, 3, 4.0]"
      ]
     },
     "execution_count": 15,
     "metadata": {},
     "output_type": "execute_result"
    }
   ],
   "source": [
    "Solution().getMedian(arr = [5, 15, 1, 3, 2, 8])"
   ]
  },
  {
   "cell_type": "code",
   "execution_count": null,
   "id": "8df12feb",
   "metadata": {},
   "outputs": [],
   "source": []
  }
 ],
 "metadata": {
  "kernelspec": {
   "display_name": "3.11.11",
   "language": "python",
   "name": "python3"
  },
  "language_info": {
   "codemirror_mode": {
    "name": "ipython",
    "version": 3
   },
   "file_extension": ".py",
   "mimetype": "text/x-python",
   "name": "python",
   "nbconvert_exporter": "python",
   "pygments_lexer": "ipython3",
   "version": "3.11.11"
  }
 },
 "nbformat": 4,
 "nbformat_minor": 5
}
