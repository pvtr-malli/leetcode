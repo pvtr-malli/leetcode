{
 "cells": [
  {
   "cell_type": "markdown",
   "id": "c3e71cad",
   "metadata": {},
   "source": [
    "You are given an image represented by an m x n grid of integers image, where image[i][j] represents the pixel value of the image. You are also given three integers sr, sc, and color. Your task is to perform a flood fill on the image starting from the pixel image[sr][sc].\n",
    "\n",
    "To perform a flood fill:\n",
    "\n",
    "Begin with the starting pixel and change its color to color.\n",
    "Perform the same process for each pixel that is directly adjacent (pixels that share a side with the original pixel, either horizontally or vertically) and shares the same color as the starting pixel.\n",
    "Keep repeating this process by checking neighboring pixels of the updated pixels and modifying their color if it matches the original color of the starting pixel.\n",
    "The process stops when there are no more adjacent pixels of the original color to update.\n",
    "Return the modified image after performing the flood fill.\n",
    "\n",
    " \n",
    "\n",
    "Example 1:\n",
    "\n",
    "Input: image = [[1,1,1],[1,1,0],[1,0,1]], sr = 1, sc = 1, color = 2\n",
    "\n",
    "Output: [[2,2,2],[2,2,0],[2,0,1]]\n",
    "\n",
    "Explanation:\n",
    "\n",
    "\n",
    "\n",
    "From the center of the image with position (sr, sc) = (1, 1) (i.e., the red pixel), all pixels connected by a path of the same color as the starting pixel (i.e., the blue pixels) are colored with the new color.\n",
    "\n",
    "Note the bottom corner is not colored 2, because it is not horizontally or vertically connected to the starting pixel.\n",
    "\n",
    "Example 2:\n",
    "\n",
    "Input: image = [[0,0,0],[0,0,0]], sr = 0, sc = 0, color = 0\n",
    "\n",
    "Output: [[0,0,0],[0,0,0]]\n",
    "\n",
    "Explanation:\n",
    "\n",
    "The starting pixel is already colored with 0, which is the same as the target color. Therefore, no changes are made to the image.\n",
    "\n",
    " \n",
    "\n",
    "Constraints:\n",
    "\n",
    "m == image.length\n",
    "n == image[i].length\n",
    "1 <= m, n <= 50\n",
    "0 <= image[i][j], color < 216\n",
    "0 <= sr < m\n",
    "0 <= sc < n"
   ]
  },
  {
   "cell_type": "code",
   "execution_count": 11,
   "id": "669ee6bf",
   "metadata": {},
   "outputs": [],
   "source": [
    "class Solution:\n",
    "    def floodFill(self, image: list[list[int]], sr: int, sc: int, color: int) -> list[list[int]]:\n",
    "        dx = [0, 0, 1, -1] # left, right, down, up\n",
    "        dy = [-1, 1, 0, 0] # left, right, down, up\n",
    "        n, m = len(image), len(image[0])\n",
    "        visited = set()\n",
    "        original_color = image[sr][sc]\n",
    "        \n",
    "        def dsf(row , col):\n",
    "            print(f\"row: {row}, col: {col}, original_color: {original_color}, color: {color}\")\n",
    "            if (row, col) in visited or row < 0 or row >= n or col < 0 or col >= m:\n",
    "                return\n",
    "            \n",
    "            # mark the visited\n",
    "            # update the color if the current cell is having hte original color.\n",
    "            visited.add((row, col))\n",
    "            print(f\"visited: {visited}\")\n",
    "            if image[row][col] == original_color:\n",
    "                image[row][col] = color\n",
    "\n",
    "                # then go to all the 4 directions.\n",
    "                for x, y in zip(dx, dy):\n",
    "                    dsf(row + x, col + y)\n",
    "\n",
    "        dsf(sr, sc)\n",
    "        return image\n",
    "\n",
    "# tc - O(n * m)\n",
    "# sc - O(n * m) for visited set and recursion stack"
   ]
  },
  {
   "cell_type": "code",
   "execution_count": 12,
   "id": "cd49e664",
   "metadata": {},
   "outputs": [
    {
     "name": "stdout",
     "output_type": "stream",
     "text": [
      "row: 1, col: 1, original_color: 1, color: 2\n",
      "visited: {(1, 1)}\n",
      "row: 1, col: 0, original_color: 1, color: 2\n",
      "visited: {(1, 0), (1, 1)}\n",
      "row: 1, col: -1, original_color: 1, color: 2\n",
      "row: 1, col: 1, original_color: 1, color: 2\n",
      "row: 2, col: 0, original_color: 1, color: 2\n",
      "visited: {(1, 0), (1, 1), (2, 0)}\n",
      "row: 2, col: -1, original_color: 1, color: 2\n",
      "row: 2, col: 1, original_color: 1, color: 2\n",
      "visited: {(1, 0), (1, 1), (2, 0), (2, 1)}\n",
      "row: 3, col: 0, original_color: 1, color: 2\n",
      "row: 1, col: 0, original_color: 1, color: 2\n",
      "row: 0, col: 0, original_color: 1, color: 2\n",
      "visited: {(2, 1), (0, 0), (1, 1), (2, 0), (1, 0)}\n",
      "row: 0, col: -1, original_color: 1, color: 2\n",
      "row: 0, col: 1, original_color: 1, color: 2\n",
      "visited: {(0, 1), (2, 1), (0, 0), (1, 1), (2, 0), (1, 0)}\n",
      "row: 0, col: 0, original_color: 1, color: 2\n",
      "row: 0, col: 2, original_color: 1, color: 2\n",
      "visited: {(0, 1), (2, 1), (0, 0), (1, 1), (2, 0), (0, 2), (1, 0)}\n",
      "row: 0, col: 1, original_color: 1, color: 2\n",
      "row: 0, col: 3, original_color: 1, color: 2\n",
      "row: 1, col: 2, original_color: 1, color: 2\n",
      "visited: {(0, 1), (1, 2), (2, 1), (0, 0), (1, 1), (2, 0), (0, 2), (1, 0)}\n",
      "row: -1, col: 2, original_color: 1, color: 2\n",
      "row: 1, col: 1, original_color: 1, color: 2\n",
      "row: -1, col: 1, original_color: 1, color: 2\n",
      "row: 1, col: 0, original_color: 1, color: 2\n",
      "row: -1, col: 0, original_color: 1, color: 2\n",
      "row: 1, col: 2, original_color: 1, color: 2\n",
      "row: 2, col: 1, original_color: 1, color: 2\n",
      "row: 0, col: 1, original_color: 1, color: 2\n"
     ]
    },
    {
     "data": {
      "text/plain": [
       "[[2, 2, 2], [2, 2, 0], [2, 0, 1]]"
      ]
     },
     "execution_count": 12,
     "metadata": {},
     "output_type": "execute_result"
    }
   ],
   "source": [
    "Solution().floodFill(image = [[1,1,1],[1,1,0],[1,0,1]], sr = 1, sc = 1, color = 2)"
   ]
  },
  {
   "cell_type": "code",
   "execution_count": null,
   "id": "9809173d",
   "metadata": {},
   "outputs": [],
   "source": []
  }
 ],
 "metadata": {
  "kernelspec": {
   "display_name": "3.11.11",
   "language": "python",
   "name": "python3"
  },
  "language_info": {
   "codemirror_mode": {
    "name": "ipython",
    "version": 3
   },
   "file_extension": ".py",
   "mimetype": "text/x-python",
   "name": "python",
   "nbconvert_exporter": "python",
   "pygments_lexer": "ipython3",
   "version": "3.11.11"
  }
 },
 "nbformat": 4,
 "nbformat_minor": 5
}
