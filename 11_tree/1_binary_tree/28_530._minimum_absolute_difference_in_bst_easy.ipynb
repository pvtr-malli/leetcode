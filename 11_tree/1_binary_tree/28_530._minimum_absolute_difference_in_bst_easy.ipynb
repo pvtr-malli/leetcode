{
 "cells": [
  {
   "cell_type": "markdown",
   "id": "2cbf0338",
   "metadata": {},
   "source": [
    "Given the root of a Binary Search Tree (BST), return the minimum absolute difference between the values of any two different nodes in the tree.\n",
    "\n",
    " \n",
    "\n",
    "Example 1:\n",
    "\n",
    "\n",
    "Input: root = [4,2,6,1,3]\n",
    "Output: 1\n",
    "Example 2:\n",
    "\n",
    "\n",
    "Input: root = [1,0,48,null,null,12,49]\n",
    "Output: 1\n",
    " \n",
    "\n",
    "Constraints:\n",
    "\n",
    "The number of nodes in the tree is in the range [2, 104].\n",
    "0 <= Node.val <= 105\n",
    " \n",
    "\n",
    "Note: This question is the same as 783: https://leetcode.com/problems/minimum-distance-between-bst-nodes/"
   ]
  },
  {
   "cell_type": "markdown",
   "id": "5d877f30",
   "metadata": {},
   "source": [
    "✅ Approach:\n",
    "- Do an in-order traversal.\n",
    "- Keep track of the previous node value.\n",
    "- At each step, compute the difference between current and previous, and update the minimum."
   ]
  },
  {
   "cell_type": "code",
   "execution_count": null,
   "id": "016bf65e",
   "metadata": {},
   "outputs": [],
   "source": [
    "# Definition for a binary tree node.\n",
    "# class TreeNode:\n",
    "#     def __init__(self, val=0, left=None, right=None):\n",
    "#         self.val = val\n",
    "#         self.left = left\n",
    "#         self.right = right\n",
    "class Solution:\n",
    "    def getMinimumDifference(self, root: Optional[TreeNode]) -> int:\n",
    "        self.prev = None\n",
    "        self.min_diff = float('inf')\n",
    "\n",
    "        def inorder(node):\n",
    "            if not node:\n",
    "                return\n",
    "            \n",
    "            inorder(node.left)\n",
    "\n",
    "            if self.prev is not None:\n",
    "                self.min_diff = min(self.min_diff, node.val - self.prev)\n",
    "            self.prev = node.val\n",
    "\n",
    "            inorder(node.right)\n",
    "\n",
    "        inorder(root)\n",
    "        return self.min_diff\n",
    "    \n",
    "# tc - O(N)\n",
    "# sc - O(H)\n"
   ]
  }
 ],
 "metadata": {
  "language_info": {
   "name": "python"
  }
 },
 "nbformat": 4,
 "nbformat_minor": 5
}
