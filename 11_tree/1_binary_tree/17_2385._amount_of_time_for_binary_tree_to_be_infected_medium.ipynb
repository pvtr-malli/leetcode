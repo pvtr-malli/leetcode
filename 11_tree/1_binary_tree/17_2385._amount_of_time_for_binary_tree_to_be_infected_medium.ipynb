{
 "cells": [
  {
   "cell_type": "markdown",
   "id": "b5595560",
   "metadata": {},
   "source": [
    "Given the root of a binary tree, the value of a target node target, and an integer k, return an array of the values of all nodes that have a distance k from the target node.\n",
    "\n",
    "You can return the answer in any order.\n",
    "\n",
    " \n",
    "\n",
    "Example 1:\n",
    "\n",
    "\n",
    "Input: root = [3,5,1,6,2,0,8,null,null,7,4], target = 5, k = 2\n",
    "Output: [7,4,1]\n",
    "Explanation: The nodes that are a distance 2 from the target node (with value 5) have values 7, 4, and 1.\n",
    "Example 2:\n",
    "\n",
    "Input: root = [1], target = 1, k = 3\n",
    "Output: []\n",
    " \n",
    "\n",
    "Constraints:\n",
    "\n",
    "The number of nodes in the tree is in the range [1, 500].\n",
    "0 <= Node.val <= 500\n",
    "All the values Node.val are unique.\n",
    "target is the value of one of the nodes in the tree.\n",
    "0 <= k <= 1000"
   ]
  },
  {
   "cell_type": "code",
   "execution_count": null,
   "id": "df8ca3ca",
   "metadata": {},
   "outputs": [],
   "source": [
    "\n",
    "class Solution:\n",
    "    def __init__(self):\n",
    "        self.parent = {}\n",
    "    def map_parents(self, node, par=None):\n",
    "        if not node:\n",
    "            return\n",
    "        if par:\n",
    "            self.parent[node] = par\n",
    "        self.map_parents(node.left, node)\n",
    "        self.map_parents(node.right, node)\n",
    "\n",
    "    def distanceK(self, root, start, k):\n",
    "        if not root:\n",
    "            return []        \n",
    "        self.map_parents(root)\n",
    "        q = []\n",
    "        visited = set()\n",
    "        q.append(start)\n",
    "        visited.add(start)\n",
    "        time = 0\n",
    "\n",
    "        while q and time < k:\n",
    "            for _ in range(len(q)):\n",
    "                curr = q.pop(0)\n",
    "                for neighbor in [curr.left, curr.right, self.parent.get(curr)]:\n",
    "                    if neighbor and neighbor not in visited:\n",
    "                        visited.add(neighbor)\n",
    "                        q.append(neighbor)\n",
    "            time += 1\n",
    "\n",
    "        return [node.val for node in q]\n",
    "    \n",
    "# tc - O(n)\n",
    "# sc - O(n)[queue] + O(n) [visited] + O(n) [parent map]"
   ]
  }
 ],
 "metadata": {
  "language_info": {
   "name": "python"
  }
 },
 "nbformat": 4,
 "nbformat_minor": 5
}
