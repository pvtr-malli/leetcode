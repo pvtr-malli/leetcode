{
 "cells": [
  {
   "cell_type": "markdown",
   "id": "a1ca8f67",
   "metadata": {},
   "source": [
    "Given two integer arrays inorder and postorder where inorder is the inorder traversal of a binary tree and postorder is the postorder traversal of the same tree, construct and return the binary tree.\n",
    "\n",
    " \n",
    "\n",
    "Example 1:\n",
    "\n",
    "\n",
    "Input: inorder = [9,3,15,20,7], postorder = [9,15,7,20,3]\n",
    "Output: [3,9,20,null,null,15,7]\n",
    "Example 2:\n",
    "\n",
    "Input: inorder = [-1], postorder = [-1]\n",
    "Output: [-1]\n",
    " \n",
    "\n",
    "Constraints:\n",
    "\n",
    "1 <= inorder.length <= 3000\n",
    "postorder.length == inorder.length\n",
    "-3000 <= inorder[i], postorder[i] <= 3000\n",
    "inorder and postorder consist of unique values.\n",
    "Each value of postorder also appears in inorder.\n",
    "inorder is guaranteed to be the inorder traversal of the tree.\n",
    "postorder is guaranteed to be the postorder traversal of the tree."
   ]
  },
  {
   "cell_type": "code",
   "execution_count": null,
   "id": "29e6c77c",
   "metadata": {},
   "outputs": [],
   "source": [
    "# Definition for a binary tree node.\n",
    "# class TreeNode:\n",
    "#     def __init__(self, val=0, left=None, right=None):\n",
    "#         self.val = val\n",
    "#         self.left = left\n",
    "#         self.right = right\n",
    "class Solution:\n",
    "    def buildTree(self, inorder, postorder):\n",
    "        inoreder_map = {}\n",
    "        # creating a inorder map  -- show that we can get the index of the elements quickly.\n",
    "        for ind, ele in enumerate(inorder):\n",
    "            inoreder_map[ele] = ind\n",
    "        root = self.construct_tree(postorder, 0, len(postorder)-1 ,\n",
    "                                    inorder, 0 , len(inorder)-1, inoreder_map)\n",
    "        return root\n",
    "    \n",
    "    def construct_tree(self, postorder, post_start, post_end,\n",
    "                        inorder, in_start, in_end, inorder_map):\n",
    "        if post_start > post_end or in_start > in_end:\n",
    "            return None\n",
    "\n",
    "        # create the root of the tree.\n",
    "        root = TreeNode(postorder[post_end])\n",
    "\n",
    "        inorder_root_ind = inorder_map.get(root.val)\n",
    "        num_left = inorder_root_ind - in_start\n",
    "\n",
    "        root.left = self.construct_tree(postorder, post_start, post_start + num_left -1,\n",
    "                                        inorder, in_start, inorder_root_ind - 1, inorder_map)\n",
    "        root.right = self.construct_tree(postorder, post_start +num_left,post_end - 1,\n",
    "                                        inorder,  inorder_root_ind + 1,in_end, inorder_map)\n",
    "\n",
    "        return root\n",
    "    \n",
    "# tc - O(n)[build inoder map] + O(n)[build tree]\n",
    "# sc - O(n)"
   ]
  }
 ],
 "metadata": {
  "language_info": {
   "name": "python"
  }
 },
 "nbformat": 4,
 "nbformat_minor": 5
}
