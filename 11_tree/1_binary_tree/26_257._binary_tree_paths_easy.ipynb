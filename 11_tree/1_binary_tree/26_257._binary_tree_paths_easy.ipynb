{
 "cells": [
  {
   "cell_type": "markdown",
   "id": "7b2ea114",
   "metadata": {},
   "source": [
    "Given the root of a binary tree, return all root-to-leaf paths in any order.\n",
    "\n",
    "A leaf is a node with no children.\n",
    "\n",
    " \n",
    "\n",
    "Example 1:\n",
    "\n",
    "\n",
    "Input: root = [1,2,3,null,5]\n",
    "Output: [\"1->2->5\",\"1->3\"]\n",
    "Example 2:\n",
    "\n",
    "Input: root = [1]\n",
    "Output: [\"1\"]\n",
    " \n",
    "\n",
    "Constraints:\n",
    "\n",
    "The number of nodes in the tree is in the range [1, 100].\n",
    "-100 <= Node.val <= 100"
   ]
  },
  {
   "cell_type": "code",
   "execution_count": null,
   "id": "d41a7dbb",
   "metadata": {},
   "outputs": [],
   "source": [
    "# last page of the tree notes\n",
    "from typing import Optional\n",
    "\n",
    "class TreeNode:\n",
    "    def __init__(self, val=0, left=None, right=None):\n",
    "        self.val = val\n",
    "        self.left = left\n",
    "        self.right = right\n",
    "class Solution:\n",
    "    def binaryTreePaths(self, root: Optional[TreeNode]) -> list[str]:\n",
    "        ans = []\n",
    "        self.binaryTreePaths_rec(root, ans, None)\n",
    "        return ans\n",
    "    \n",
    "    def binaryTreePaths_rec(self, root, ans, path):\n",
    "        if root == None:\n",
    "            return \n",
    "        # I am gonna do Post-order traversal -- because I can call left and right come back \n",
    "        # when they are both null -- that is the leaf node.. So LRRoot\n",
    "        print(root.val, path)\n",
    "        path = path + '->' + str(root.val) if path else str(root.val)\n",
    "        self.binaryTreePaths_rec(root.left, ans, path)\n",
    "        self.binaryTreePaths_rec(root.right, ans, path)\n",
    "\n",
    "        # when we are at root, this could be the leaf node.\n",
    "        if not root.left and not root.right:\n",
    "            print(\"insie\", root.val, path)\n",
    "            ans.append(path )\n",
    "        \n",
    "\n",
    "# output:\n",
    "# 1 None\n",
    "# 2 1\n",
    "# 5 1->2\n",
    "# insie 5 1->2->5\n",
    "# 3 1\n",
    "# insie 3 1->3\n",
    "\n",
    "\n",
    "# tc - O(n)\n",
    "# sc - O(h)"
   ]
  }
 ],
 "metadata": {
  "language_info": {
   "name": "python"
  }
 },
 "nbformat": 4,
 "nbformat_minor": 5
}
