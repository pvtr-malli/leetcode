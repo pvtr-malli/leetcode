{
 "cells": [
  {
   "cell_type": "markdown",
   "id": "2f570311",
   "metadata": {},
   "source": [
    "Given the root node of a binary search tree and two integers low and high, return the sum of values of all nodes with a value in the inclusive range [low, high].\n",
    "\n",
    " \n",
    "\n",
    "Example 1:\n",
    "\n",
    "\n",
    "Input: root = [10,5,15,3,7,null,18], low = 7, high = 15\n",
    "Output: 32\n",
    "Explanation: Nodes 7, 10, and 15 are in the range [7, 15]. 7 + 10 + 15 = 32.\n",
    "Example 2:\n",
    "\n",
    "\n",
    "Input: root = [10,5,15,3,7,13,18,1,null,6], low = 6, high = 10\n",
    "Output: 23\n",
    "Explanation: Nodes 6, 7, and 10 are in the range [6, 10]. 6 + 7 + 10 = 23.\n",
    " \n",
    "\n",
    "Constraints:\n",
    "\n",
    "The number of nodes in the tree is in the range [1, 2 * 104].\n",
    "1 <= Node.val <= 105\n",
    "1 <= low <= high <= 105\n",
    "All Node.val are unique."
   ]
  },
  {
   "cell_type": "code",
   "execution_count": null,
   "id": "0eb8fd7d",
   "metadata": {},
   "outputs": [],
   "source": [
    "# easy do the level order traversal and count \n",
    "\n",
    "from typing import Optional\n",
    "\n",
    "class TreeNode:\n",
    "    def __init__(self, val=0, left=None, right=None):\n",
    "        self.val = val\n",
    "        self.left = left\n",
    "        self.right = right\n",
    "class Solution:\n",
    "    def rangeSumBST(self, root: Optional[TreeNode], low: int, high: int) -> int:\n",
    "        q = []\n",
    "        ans = 0\n",
    "        q.append(root)\n",
    "        while q:\n",
    "            q_len = len(q)\n",
    "            for _ in range(q_len):\n",
    "                ele = q.pop(0)\n",
    "                # add it to the ans if it follows the condition.\n",
    "                if ele.val <= high and ele.val >= low:\n",
    "                    ans += ele.val\n",
    "                \n",
    "                if ele.right:\n",
    "                    q.append(ele.right)\n",
    "                if ele.left:\n",
    "                    q.append(ele.left)\n",
    "        return ans\n",
    "\n",
    "# tc - O(n)\n",
    "# sc - O(n)"
   ]
  },
  {
   "cell_type": "code",
   "execution_count": null,
   "id": "8001d02d",
   "metadata": {},
   "outputs": [],
   "source": [
    "from collections import deque\n",
    "\n",
    "# the foloowing does the buring of the tree by considering hte BST property.\n",
    "# If node.val < low → left subtree is guaranteed to be out of range.\n",
    "# If node.val > high → right subtree is guaranteed to be out of range.\n",
    "\n",
    "class Solution:\n",
    "    def rangeSumBST(self, root: Optional[TreeNode], low: int, high: int) -> int:\n",
    "        if not root: return 0\n",
    "        q = deque([root])\n",
    "        ans = 0\n",
    "        \n",
    "        while q:\n",
    "            node = q.popleft()\n",
    "            if low <= node.val <= high:\n",
    "                ans += node.val\n",
    "            if node.left and node.val > low:\n",
    "                q.append(node.left)\n",
    "            if node.right and node.val < high:\n",
    "                q.append(node.right)\n",
    "        \n",
    "        return ans\n",
    "# tc - O(n)\n",
    "# sc - O(n)"
   ]
  }
 ],
 "metadata": {
  "kernelspec": {
   "display_name": "3.11.11",
   "language": "python",
   "name": "python3"
  },
  "language_info": {
   "codemirror_mode": {
    "name": "ipython",
    "version": 3
   },
   "file_extension": ".py",
   "mimetype": "text/x-python",
   "name": "python",
   "nbconvert_exporter": "python",
   "pygments_lexer": "ipython3",
   "version": "3.11.11"
  }
 },
 "nbformat": 4,
 "nbformat_minor": 5
}
