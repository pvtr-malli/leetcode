{
 "cells": [
  {
   "cell_type": "markdown",
   "id": "e3be8ecb",
   "metadata": {},
   "source": [
    "Given a binary tree root, a node X in the tree is named good if in the path from root to X there are no nodes with a value greater than X.\n",
    "\n",
    "Return the number of good nodes in the binary tree.\n",
    "\n",
    " \n",
    "\n",
    "Example 1:\n",
    "\n",
    "\n",
    "\n",
    "Input: root = [3,1,4,3,null,1,5]\n",
    "Output: 4\n",
    "Explanation: Nodes in blue are good.\n",
    "Root Node (3) is always a good node.\n",
    "Node 4 -> (3,4) is the maximum value in the path starting from the root.\n",
    "Node 5 -> (3,4,5) is the maximum value in the path\n",
    "Node 3 -> (3,1,3) is the maximum value in the path.\n",
    "Example 2:\n",
    "\n",
    "\n",
    "\n",
    "Input: root = [3,3,null,4,2]\n",
    "Output: 3\n",
    "Explanation: Node 2 -> (3, 3, 2) is not good, because \"3\" is higher than it.\n",
    "Example 3:\n",
    "\n",
    "Input: root = [1]\n",
    "Output: 1\n",
    "Explanation: Root is considered as good.\n",
    " \n",
    "\n",
    "Constraints:\n",
    "\n",
    "The number of nodes in the binary tree is in the range [1, 10^5].\n",
    "Each node's value is between [-10^4, 10^4]."
   ]
  },
  {
   "cell_type": "code",
   "execution_count": null,
   "id": "3d56e2c4",
   "metadata": {},
   "outputs": [],
   "source": [
    "import sys\n",
    "\n",
    "class TreeNode:\n",
    "    def __init__(self, val=0, left=None, right=None):\n",
    "        self.val = val\n",
    "        self.left = left\n",
    "        self.right = right\n",
    "\n",
    "class Solution:\n",
    "    def goodNodes(self, root: TreeNode) -> int:\n",
    "        return self.goodNodes_rec(root, sys.maxsize)\n",
    "    \n",
    "    def goodNodes_rec(self, root, maxi):\n",
    "        if root == None:\n",
    "            return 0\n",
    "        maxi = max(maxi, root.val)\n",
    "        left = self.goodNodes_rec(root.left, maxi)\n",
    "        right = self.goodNodes_rec(root.right, maxi)\n",
    "        c = 1 if root.val > maxi else 0\n",
    "        return c + left + right\n",
    "        "
   ]
  }
 ],
 "metadata": {
  "language_info": {
   "name": "python"
  }
 },
 "nbformat": 4,
 "nbformat_minor": 5
}
