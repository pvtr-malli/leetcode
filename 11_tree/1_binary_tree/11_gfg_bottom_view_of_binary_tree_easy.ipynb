{
 "cells": [
  {
   "cell_type": "markdown",
   "id": "43b926f2",
   "metadata": {},
   "source": [
    "Given a binary tree, return an array where elements represent the bottom view of the binary tree from left to right.\n",
    "\n",
    "Note: If there are multiple bottom-most nodes for a horizontal distance from the root, then the later one in the level order traversal is considered. For example, in the below diagram, 7 and 34 both are the bottommost nodes at a horizontal distance of 0 from the root, here 34 will be considered.\n",
    "\n",
    "For the above tree, the output should be 5 8 34 22 25\n",
    "\n",
    "Examples :\n",
    "\n",
    "Input: root[] = [1, 3, 2]\n",
    "\n",
    "Output: [3 1 2]\n",
    "Explanation: First case represents a tree with 3 nodes and 2 edges where root is 1, left child of 1 is 3 and right child of 1 is 2.\n",
    "\n",
    "Thus bottom view of the binary tree will be 3 1 2.\n",
    "Input: root[] = [10, 20, 30, 40, 60]\n",
    "         \n",
    "Output: [40 20 60 30]\n",
    "Constraints:\n",
    "1 <= number of nodes <= 105\n",
    "1 <= node->data <= 105\n",
    "\n",
    "Expected Complexities\n",
    "Time Complexity: O(n)\n",
    "Auxiliary Space: O(n)"
   ]
  },
  {
   "cell_type": "code",
   "execution_count": null,
   "id": "ecfdd161",
   "metadata": {},
   "outputs": [],
   "source": [
    "# Tree Node\n",
    "class Node:\n",
    "    def __init__(self, val):\n",
    "        self.right = None\n",
    "        self.data = val\n",
    "        self.left = None\n",
    "\n",
    "class Solution:\n",
    "    def bottomView(self,root: Node):\n",
    "        if not root:\n",
    "            return []\n",
    "        queue = []\n",
    "        ans = []\n",
    "        d = {} # vertical index: val\n",
    "\n",
    "        # initialize the queue.\n",
    "        queue.append((root, 0))\n",
    "\n",
    "        while queue:\n",
    "            ele = queue.pop(0)\n",
    "            node, vertical_ind = ele\n",
    "            # We wannt the last node of each vertical index. So keep on updating the dict.\n",
    "            d[vertical_ind] = node.data\n",
    "            if node.left:\n",
    "                queue.append((node.left, vertical_ind - 1))\n",
    "            if node.right:\n",
    "                queue.append((node.right, vertical_ind + 1))\n",
    "        \n",
    "        # get the answers from the dict.\n",
    "        sorted_index = sorted(d.keys())\n",
    "        for i in sorted_index:\n",
    "            ans.append(d[i])\n",
    "\n",
    "        return ans\n",
    "    \n",
    "# Time Complexity: O(N)\n",
    "# Space Complexity: O(N) (dict + queue)"
   ]
  }
 ],
 "metadata": {
  "language_info": {
   "name": "python"
  }
 },
 "nbformat": 4,
 "nbformat_minor": 5
}
