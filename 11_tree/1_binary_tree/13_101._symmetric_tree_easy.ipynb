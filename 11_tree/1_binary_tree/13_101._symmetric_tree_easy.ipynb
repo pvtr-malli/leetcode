{
 "cells": [
  {
   "cell_type": "markdown",
   "id": "4470b1b8",
   "metadata": {},
   "source": [
    "Given the root of a binary tree, check whether it is a mirror of itself (i.e., symmetric around its center).\n",
    "\n",
    " \n",
    "\n",
    "Example 1:\n",
    "\n",
    "\n",
    "Input: root = [1,2,2,3,4,4,3]\n",
    "Output: true\n",
    "Example 2:\n",
    "\n",
    "\n",
    "Input: root = [1,2,2,null,3,null,3]\n",
    "Output: false\n",
    " \n",
    "\n",
    "Constraints:\n",
    "\n",
    "The number of nodes in the tree is in the range [1, 1000].\n",
    "-100 <= Node.val <= 100\n",
    " \n",
    "\n",
    "Follow up: Could you solve it both recursively and iteratively?"
   ]
  },
  {
   "cell_type": "code",
   "execution_count": null,
   "id": "d6ed2983",
   "metadata": {},
   "outputs": [],
   "source": [
    "# Definition for a binary tree node.\n",
    "from typing import Optional\n",
    "\n",
    "\n",
    "class TreeNode:\n",
    "    def __init__(self, val=0, left=None, right=None):\n",
    "        self.val = val\n",
    "        self.left = left\n",
    "        self.right = right\n",
    "class Solution:\n",
    "    def isSymmetric(self, root: Optional[TreeNode]) -> bool:\n",
    "        if root:\n",
    "            return self.isSymmetric_rec(root.left, root.right)\n",
    "        return False\n",
    "    \n",
    "    def isSymmetric_rec(self, left_tree: TreeNode, right_tree: TreeNode):\n",
    "        if left_tree == None or right_tree == None:\n",
    "            return left_tree == right_tree\n",
    "        \n",
    "        if left_tree.val == right_tree.val:\n",
    "            left = self.isSymmetric_rec(left_tree.left, right_tree.right)\n",
    "            right = self.isSymmetric_rec(left_tree.right, right_tree.left)\n",
    "            return left and right\n",
    "        else:\n",
    "            return False\n",
    "\n",
    "# tc - O(n)\n",
    "# sc - O(n)\n",
    "        "
   ]
  }
 ],
 "metadata": {
  "language_info": {
   "name": "python"
  }
 },
 "nbformat": 4,
 "nbformat_minor": 5
}
