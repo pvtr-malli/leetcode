{
 "cells": [
  {
   "cell_type": "markdown",
   "id": "4e840a4e",
   "metadata": {},
   "source": []
  },
  {
   "cell_type": "code",
   "execution_count": null,
   "id": "ec57567a",
   "metadata": {},
   "outputs": [],
   "source": [
    "class Solution:\n",
    "    def inorderTraversal(self, root: Optional[TreeNode]) -> List[int]:\n",
    "        result = []\n",
    "        current = root\n",
    "\n",
    "        while current:\n",
    "            if current.left is None:\n",
    "                result.append(current.val)\n",
    "                current = current.right\n",
    "            else:\n",
    "                # Find the inorder predecessor of current\n",
    "                prev = current.left\n",
    "                while prev.right and prev.right != current:\n",
    "                    prev = prev.right\n",
    "\n",
    "                if prev.right is None:\n",
    "                    # Make current the right child of its predecessor\n",
    "                    prev.right = current\n",
    "                    result.append(current.val) # this is the only change from in-order.\n",
    "                    current = current.left\n",
    "                else:\n",
    "                    # Revert the changes (remove the thread)\n",
    "                    prev.right = None\n",
    "                    \n",
    "                    current = current.right\n",
    "\n",
    "        return result\n",
    "# tc - O(n)\n",
    "# sc - O(1)"
   ]
  }
 ],
 "metadata": {
  "language_info": {
   "name": "python"
  }
 },
 "nbformat": 4,
 "nbformat_minor": 5
}
