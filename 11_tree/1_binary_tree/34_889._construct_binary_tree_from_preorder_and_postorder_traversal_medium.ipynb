{
 "cells": [
  {
   "cell_type": "markdown",
   "id": "2af8e810",
   "metadata": {},
   "source": [
    "Given two integer arrays, preorder and postorder where preorder is the preorder traversal of a binary tree of distinct values and postorder is the postorder traversal of the same tree, reconstruct and return the binary tree.\n",
    "\n",
    "If there exist multiple answers, you can return any of them.\n",
    "\n",
    " \n",
    "\n",
    "Example 1:\n",
    "\n",
    "\n",
    "Input: preorder = [1,2,4,5,3,6,7], postorder = [4,5,2,6,7,3,1]\n",
    "Output: [1,2,3,4,5,6,7]\n",
    "Example 2:\n",
    "\n",
    "Input: preorder = [1], postorder = [1]\n",
    "Output: [1]\n",
    " \n",
    "\n",
    "Constraints:\n",
    "\n",
    "1 <= preorder.length <= 30\n",
    "1 <= preorder[i] <= preorder.length\n",
    "All the values of preorder are unique.\n",
    "postorder.length == preorder.length\n",
    "1 <= postorder[i] <= postorder.length\n",
    "All the values of postorder are unique.\n",
    "It is guaranteed that preorder and postorder are the preorder traversal and postorder traversal of the same binary tree."
   ]
  },
  {
   "cell_type": "code",
   "execution_count": null,
   "id": "1d87ba7b",
   "metadata": {},
   "outputs": [],
   "source": [
    "from typing import List, Optional\n",
    "\n",
    "# Definition for a binary tree node.\n",
    "class TreeNode:\n",
    "    def __init__(self, val=0, left=None, right=None):\n",
    "        self.val = val\n",
    "        self.left = left\n",
    "        self.right = right\n",
    "\n",
    "class Solution:\n",
    "    def constructFromPrePost(self, preorder: List[int], postorder: List[int]) -> Optional[TreeNode]:\n",
    "        post_idx_map = {val: i for i, val in enumerate(postorder)}\n",
    "\n",
    "        def build(pre_start, pre_end, post_start, post_end):\n",
    "            if pre_start > pre_end:\n",
    "                return None\n",
    "\n",
    "            root = TreeNode(preorder[pre_start])\n",
    "            if pre_start == pre_end:\n",
    "                return root\n",
    "\n",
    "            # Next value in preorder is the left child\n",
    "            left_root_val = preorder[pre_start + 1]\n",
    "            left_root_index = post_idx_map[left_root_val]\n",
    "            left_subtree_size = left_root_index - post_start + 1\n",
    "\n",
    "            root.left = build(pre_start + 1, pre_start + left_subtree_size,\n",
    "                              post_start, left_root_index)\n",
    "            root.right = build(pre_start + left_subtree_size + 1, pre_end,\n",
    "                               left_root_index + 1, post_end - 1)\n",
    "            return root\n",
    "\n",
    "        n = len(preorder)\n",
    "        return build(0, n - 1, 0, n - 1)\n"
   ]
  }
 ],
 "metadata": {
  "language_info": {
   "name": "python"
  }
 },
 "nbformat": 4,
 "nbformat_minor": 5
}
