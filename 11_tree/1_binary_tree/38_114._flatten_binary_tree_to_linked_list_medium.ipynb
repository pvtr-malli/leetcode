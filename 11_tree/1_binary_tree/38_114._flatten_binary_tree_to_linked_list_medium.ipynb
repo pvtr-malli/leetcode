{
 "cells": [
  {
   "cell_type": "markdown",
   "id": "cfbf64d9",
   "metadata": {},
   "source": [
    "Given the root of a binary tree, flatten the tree into a \"linked list\":\n",
    "\n",
    "The \"linked list\" should use the same TreeNode class where the right child pointer points to the next node in the list and the left child pointer is always null.\n",
    "The \"linked list\" should be in the same order as a pre-order traversal of the binary tree.\n",
    " \n",
    "\n",
    "Example 1:\n",
    "\n",
    "\n",
    "Input: root = [1,2,5,3,4,null,6]\n",
    "Output: [1,null,2,null,3,null,4,null,5,null,6]\n",
    "Example 2:\n",
    "\n",
    "Input: root = []\n",
    "Output: []\n",
    "Example 3:\n",
    "\n",
    "Input: root = [0]\n",
    "Output: [0]\n",
    " \n",
    "\n",
    "Constraints:\n",
    "\n",
    "The number of nodes in the tree is in the range [0, 2000].\n",
    "-100 <= Node.val <= 100\n",
    " \n",
    "\n",
    "Follow up: Can you flatten the tree in-place (with O(1) extra space)?"
   ]
  },
  {
   "cell_type": "code",
   "execution_count": null,
   "id": "147026d7",
   "metadata": {},
   "outputs": [],
   "source": [
    "class Solution:\n",
    "    def flatten(self, root) -> None:\n",
    "        \"\"\"\n",
    "        Do not return anything, modify root in-place instead.\n",
    "        \"\"\"\n",
    "        cur = root\n",
    "        while cur != None:\n",
    "            if cur.left != None:\n",
    "                prev = cur.left\n",
    "                while(prev.right):\n",
    "                    prev = prev.right\n",
    "                prev.right = cur.right\n",
    "                cur.right = cur.left\n",
    "                cur.left = None\n",
    "            cur = cur.right"
   ]
  }
 ],
 "metadata": {
  "language_info": {
   "name": "python"
  }
 },
 "nbformat": 4,
 "nbformat_minor": 5
}
