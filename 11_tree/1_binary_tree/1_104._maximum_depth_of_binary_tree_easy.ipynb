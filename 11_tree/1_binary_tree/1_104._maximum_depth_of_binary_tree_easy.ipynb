{
 "cells": [
  {
   "cell_type": "markdown",
   "id": "60d9dcf8",
   "metadata": {},
   "source": [
    "Given the root of a binary tree, return its maximum depth.\n",
    "\n",
    "A binary tree's maximum depth is the number of nodes along the longest path from the root node down to the farthest leaf node.\n",
    "\n",
    " \n",
    "\n",
    "Example 1:\n",
    "\n",
    "\n",
    "Input: root = [3,9,20,null,null,15,7]\n",
    "Output: 3\n",
    "Example 2:\n",
    "\n",
    "Input: root = [1,null,2]\n",
    "Output: 2\n",
    " \n",
    "\n",
    "Constraints:\n",
    "\n",
    "The number of nodes in the tree is in the range [0, 104].\n",
    "-100 <= Node.val <= 100"
   ]
  },
  {
   "cell_type": "code",
   "execution_count": null,
   "id": "932bb73b",
   "metadata": {},
   "outputs": [],
   "source": [
    "# Definition for a binary tree node.\n",
    "from typing import Optional\n",
    "\n",
    "class TreeNode:\n",
    "    def __init__(self, val=0, left=None, right=None):\n",
    "        self.val = val\n",
    "        self.left = left\n",
    "        self.right = right\n",
    "\n",
    "\n",
    "class Solution:\n",
    "    def maxDepth(self, root: Optional[TreeNode]) -> int:\n",
    "        return self.maxDepth_rec(root)\n",
    "    \n",
    "    def maxDepth_rec(self, root: Optional[TreeNode]):\n",
    "        if root == None:\n",
    "            return 0\n",
    "        left = self.maxDepth_rec(root.left)\n",
    "        right = self.maxDepth_rec(root.right)\n",
    "        return max(left, right) + 1\n",
    "    \n",
    "# tc - O(n)\n",
    "# sc - O(H) - H - height of the tree"
   ]
  }
 ],
 "metadata": {
  "language_info": {
   "name": "python"
  }
 },
 "nbformat": 4,
 "nbformat_minor": 5
}
