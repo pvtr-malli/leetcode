{
 "cells": [
  {
   "cell_type": "markdown",
   "id": "01f9dff8",
   "metadata": {},
   "source": [
    "Given the root of a binary tree, return the length of the diameter of the tree.\n",
    "\n",
    "The diameter of a binary tree is the length of the longest path between any two nodes in a tree. This path may or may not pass through the root.\n",
    "\n",
    "The length of a path between two nodes is represented by the number of edges between them.\n",
    "\n",
    " \n",
    "\n",
    "Example 1:\n",
    "\n",
    "\n",
    "Input: root = [1,2,3,4,5]\n",
    "Output: 3\n",
    "Explanation: 3 is the length of the path [4,2,1,3] or [5,2,1,3].\n",
    "Example 2:\n",
    "\n",
    "Input: root = [1,2]\n",
    "Output: 1\n",
    " \n",
    "\n",
    "Constraints:\n",
    "\n",
    "The number of nodes in the tree is in the range [1, 104].\n",
    "-100 <= Node.val <= 100"
   ]
  },
  {
   "cell_type": "code",
   "execution_count": null,
   "id": "7ecf3566",
   "metadata": {},
   "outputs": [],
   "source": [
    "from typing import Optional\n",
    "\n",
    "class TreeNode:\n",
    "    def __init__(self, val=0, left=None, right=None):\n",
    "        self.val = val\n",
    "        self.left = left\n",
    "        self.right = right\n",
    "\n",
    "class Solution:\n",
    "    def diameterOfBinaryTree(self, root: Optional[TreeNode]) -> int:\n",
    "        maxi = [0]\n",
    "        self.diameterOfBinaryTree_rec(root, maxi)\n",
    "        return maxi[0]\n",
    "\n",
    "    def diameterOfBinaryTree_rec(self, root: TreeNode, maxi: list[int]):\n",
    "        if root == None:\n",
    "            return 0\n",
    "        left_height = self.diameterOfBinaryTree_rec(root.left, maxi)\n",
    "        right_height = self.diameterOfBinaryTree_rec(root.right, maxi)\n",
    "        # update the maxi.\n",
    "        maxi[0] = max(maxi[0], (left_height + right_height))\n",
    "\n",
    "        # retun the height.\n",
    "        return max(left_height, right_height) + 1\n",
    "    \n",
    "# tc - O(n)\n",
    "# sc - O(H) - H - height of the tree"
   ]
  },
  {
   "cell_type": "code",
   "execution_count": null,
   "id": "ec389824",
   "metadata": {},
   "outputs": [],
   "source": []
  }
 ],
 "metadata": {
  "language_info": {
   "name": "python"
  }
 },
 "nbformat": 4,
 "nbformat_minor": 5
}
