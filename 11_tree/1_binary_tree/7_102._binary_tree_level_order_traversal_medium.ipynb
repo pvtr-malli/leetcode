{
 "cells": [
  {
   "cell_type": "markdown",
   "id": "7f71f093",
   "metadata": {},
   "source": [
    "Given the root of a binary tree, return the level order traversal of its nodes' values. (i.e., from left to right, level by level).\n",
    "\n",
    " \n",
    "\n",
    "Example 1:\n",
    "\n",
    "\n",
    "Input: root = [3,9,20,null,null,15,7]\n",
    "Output: [[3],[9,20],[15,7]]\n",
    "Example 2:\n",
    "\n",
    "Input: root = [1]\n",
    "Output: [[1]]\n",
    "Example 3:\n",
    "\n",
    "Input: root = []\n",
    "Output: []\n",
    " \n",
    "\n",
    "Constraints:\n",
    "\n",
    "The number of nodes in the tree is in the range [0, 2000].\n",
    "-1000 <= Node.val <= 1000"
   ]
  },
  {
   "cell_type": "code",
   "execution_count": null,
   "id": "e0bf6b13",
   "metadata": {},
   "outputs": [],
   "source": [
    "from typing import Optional\n",
    "\n",
    "class TreeNode:\n",
    "    def __init__(self, val=0, left=None, right=None):\n",
    "        self.val = val\n",
    "        self.left = left\n",
    "        self.right = right\n",
    "class Solution:\n",
    "    def levelOrder(self, root: Optional[TreeNode]) -> list[list[int]]:\n",
    "        if not root:\n",
    "            return []\n",
    "        queue = []\n",
    "        ans = []\n",
    "\n",
    "        # initialize hte queue.\n",
    "        queue.append(root)\n",
    "\n",
    "        while queue:\n",
    "            len_q = len(queue)\n",
    "            level_arr = []\n",
    "            for _ in range(len_q):\n",
    "                ele: TreeNode = queue.pop(0)\n",
    "                level_arr.append(ele.val) # we want hte value.\n",
    "\n",
    "                if ele.left:\n",
    "                    queue.append(ele.left)\n",
    "                if ele.right:\n",
    "                    queue.append(ele.right)\n",
    "            ans.append(level_arr)\n",
    "        return ans\n",
    "    \n",
    "# tc -O(n)\n",
    "# sc - O(n)\n",
    "                "
   ]
  }
 ],
 "metadata": {
  "language_info": {
   "name": "python"
  }
 },
 "nbformat": 4,
 "nbformat_minor": 5
}
