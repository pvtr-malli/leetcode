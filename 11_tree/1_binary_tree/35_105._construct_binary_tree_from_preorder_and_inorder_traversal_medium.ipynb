{
 "cells": [
  {
   "cell_type": "markdown",
   "id": "f95d11f6",
   "metadata": {},
   "source": [
    "Given two integer arrays preorder and inorder where preorder is the preorder traversal of a binary tree and inorder is the inorder traversal of the same tree, construct and return the binary tree.\n",
    "\n",
    " \n",
    "\n",
    "Example 1:\n",
    "\n",
    "\n",
    "Input: preorder = [3,9,20,15,7], inorder = [9,3,15,20,7]\n",
    "Output: [3,9,20,null,null,15,7]\n",
    "Example 2:\n",
    "\n",
    "Input: preorder = [-1], inorder = [-1]\n",
    "Output: [-1]\n",
    " \n",
    "\n",
    "Constraints:\n",
    "\n",
    "1 <= preorder.length <= 3000\n",
    "inorder.length == preorder.length\n",
    "-3000 <= preorder[i], inorder[i] <= 3000\n",
    "preorder and inorder consist of unique values.\n",
    "Each value of inorder also appears in preorder.\n",
    "preorder is guaranteed to be the preorder traversal of the tree.\n",
    "inorder is guaranteed to be the inorder traversal of the tree."
   ]
  },
  {
   "cell_type": "code",
   "execution_count": null,
   "id": "2b1421c2",
   "metadata": {},
   "outputs": [],
   "source": [
    "class Solution:\n",
    "    def buildTree(self, preorder, inorder):\n",
    "        inoreder_map = {}\n",
    "        # creating a inorder map  -- show that we can get the index of the elements quickly.\n",
    "        for ind, ele in enumerate(inorder):\n",
    "            inoreder_map[ele] = ind\n",
    "        root = self.construct_tree(preorder, 0, len(preorder)-1 ,\n",
    "                                    inorder, 0 , len(inorder)-1, inoreder_map)\n",
    "        return root\n",
    "    \n",
    "    def construct_tree(self, preorder, preorder_start_ind, preorder_end_ind,\n",
    "                             inorder, inorder_start_ind, inorder_end_ind, inorder_map):\n",
    "        if preorder_start_ind > preorder_end_ind or inorder_start_ind > inorder_end_ind:\n",
    "            return None\n",
    "        \n",
    "        # create the root of the tree.\n",
    "        root = TreeNode(preorder[preorder_start_ind])\n",
    "\n",
    "        inorder_root_ind = inorder_map.get(root.val)\n",
    "        num_left = inorder_root_ind - inorder_start_ind\n",
    "\n",
    "        root.left = self.construct_tree(preorder, preorder_start_ind + 1, preorder_start_ind + num_left,\n",
    "                                        inorder, inorder_start_ind, inorder_root_ind - 1, inorder_map)\n",
    "        root.right = self.construct_tree(preorder, preorder_start_ind +num_left + 1,preorder_end_ind,\n",
    "                                        inorder,  inorder_root_ind + 1,inorder_end_ind, inorder_map)\n",
    "\n",
    "        return root\n",
    "    \n",
    "# tc - O(n)\n",
    "# sc - O(n)"
   ]
  }
 ],
 "metadata": {
  "language_info": {
   "name": "python"
  }
 },
 "nbformat": 4,
 "nbformat_minor": 5
}
