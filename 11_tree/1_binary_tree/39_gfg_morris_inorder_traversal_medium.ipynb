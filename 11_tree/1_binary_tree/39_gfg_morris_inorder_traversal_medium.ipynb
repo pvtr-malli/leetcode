{
 "cells": [
  {
   "cell_type": "markdown",
   "id": "f42b8532",
   "metadata": {},
   "source": [
    "Using Morris Traversal, we can traverse the tree without using stack and recursion. The idea of Morris Traversal is based on Threaded Binary Tree. In this traversal, we first create links to Inorder successor and print the data using these links, and finally revert the changes to restore original tree. Although the tree is modified through the traversal, it is reverted back to its original shape after the completion. Unlike Stack based traversal, no extra space is required for this traversal."
   ]
  },
  {
   "cell_type": "code",
   "execution_count": null,
   "id": "b446584d",
   "metadata": {},
   "outputs": [],
   "source": [
    "class Solution:\n",
    "    def inorderTraversal(self, root: Optional[TreeNode]) -> List[int]:\n",
    "        result = []\n",
    "        current = root\n",
    "\n",
    "        while current:\n",
    "            if current.left is None:\n",
    "                result.append(current.val)\n",
    "                current = current.right\n",
    "            else:\n",
    "                # Find the inorder predecessor of current\n",
    "                prev = current.left\n",
    "                while prev.right and prev.right != current:\n",
    "                    prev = prev.right\n",
    "\n",
    "                if prev.right is None:\n",
    "                    # Make current the right child of its predecessor\n",
    "                    prev.right = current\n",
    "                    current = current.left\n",
    "                else:\n",
    "                    # Revert the changes (remove the thread)\n",
    "                    prev.right = None\n",
    "                    result.append(current.val)\n",
    "                    current = current.right\n",
    "\n",
    "        return result\n",
    "# tc - O(n)\n",
    "# sc - O(1)"
   ]
  }
 ],
 "metadata": {
  "language_info": {
   "name": "python"
  }
 },
 "nbformat": 4,
 "nbformat_minor": 5
}
