{
 "cells": [
  {
   "cell_type": "markdown",
   "id": "95a7169c",
   "metadata": {},
   "source": [
    "Given the root of a binary tree, invert the tree, and return its root.\n",
    "\n",
    " \n",
    "\n",
    "Example 1:\n",
    "\n",
    "\n",
    "Input: root = [4,2,7,1,3,6,9]\n",
    "Output: [4,7,2,9,6,3,1]\n",
    "Example 2:\n",
    "\n",
    "\n",
    "Input: root = [2,1,3]\n",
    "Output: [2,3,1]\n",
    "Example 3:\n",
    "\n",
    "Input: root = []\n",
    "Output: []\n",
    " \n",
    "\n",
    "Constraints:\n",
    "\n",
    "The number of nodes in the tree is in the range [0, 100].\n",
    "-100 <= Node.val <= 100"
   ]
  },
  {
   "cell_type": "code",
   "execution_count": null,
   "id": "5e926e00",
   "metadata": {},
   "outputs": [],
   "source": [
    "from typing import Optional\n",
    "\n",
    "class TreeNode:\n",
    "    def __init__(self, val=0, left=None, right=None):\n",
    "        self.val = val\n",
    "        self.left = left\n",
    "        self.right = right\n",
    "class Solution:\n",
    "    def invertTree(self, root: Optional[TreeNode]) -> Optional[TreeNode]:\n",
    "        if not root:\n",
    "            return root\n",
    "        \n",
    "        cur = root \n",
    "        self.invertTree_rec(cur)\n",
    "        return root\n",
    "    \n",
    "    def invertTree_rec(self, root):\n",
    "        if root == None:\n",
    "            return\n",
    "        \n",
    "        # you are just going to switch the left and right for each root.\n",
    "        #  and do the same for the next left and right.\n",
    "        r = root.right\n",
    "        l = root.left\n",
    "        root.right = l\n",
    "        root.left = r\n",
    "        \n",
    "        self.invertTree_rec(root.left)\n",
    "        self.invertTree_rec(root.right)\n",
    "\n",
    "# tc - O(n) all the nodes accessed once\n",
    "# sc - O(H) recurssion call "
   ]
  }
 ],
 "metadata": {
  "language_info": {
   "name": "python"
  }
 },
 "nbformat": 4,
 "nbformat_minor": 5
}
