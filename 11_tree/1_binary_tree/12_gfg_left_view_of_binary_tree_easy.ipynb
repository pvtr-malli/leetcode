{
 "cells": [
  {
   "cell_type": "markdown",
   "id": "c4570144",
   "metadata": {},
   "source": [
    "You are given the root of a binary tree. Your task is to return the left view of the binary tree. The left view of a binary tree is the set of nodes visible when the tree is viewed from the left side.\n",
    "\n",
    "If the tree is empty, return an empty list.\n",
    "\n",
    "Examples :\n",
    "\n",
    "Input: root[] = [1, 2, 3, 4, 5, N, N]\n",
    "\n",
    "Output: [1, 2, 4]\n",
    "Explanation: From the left side of the tree, only the nodes 1, 2, and 4 are visible.\n",
    "\n",
    "Input: root[] = [1, 2, 3, N, N, 4, N, N, 5, N, N]\n",
    "\n",
    "Output: [1, 2, 4, 5]\n",
    "Explanation: From the left side of the tree, the nodes 1, 2, 4, and 5 are visible.\n",
    "\n",
    "Input: root[] = [N]\n",
    "Output: []\n",
    "Constraints:\n",
    "0 <= number of nodes <= 106\n",
    "0 <= node -> data <= 105"
   ]
  },
  {
   "cell_type": "code",
   "execution_count": null,
   "id": "345a13f8",
   "metadata": {},
   "outputs": [],
   "source": [
    "# Node Class:\n",
    "class Node:\n",
    "    def _init_(self,val):\n",
    "        self.data = val\n",
    "        self.left = None\n",
    "        self.right = None\n",
    "\n",
    "class Solution:\n",
    "    def LeftView(self, root):\n",
    "        ans = []\n",
    "        self.LeftView_rec(root, 0, ans)\n",
    "        return ans\n",
    "    \n",
    "    def LeftView_rec(self, root,level,  ans):\n",
    "        if not root:\n",
    "            return\n",
    "        if level == len(ans):\n",
    "            ans.append(root.data)\n",
    "        self.LeftView_rec(root.left, level+1, ans)\n",
    "        self.LeftView_rec(root.right, level+1, ans)\n",
    "\n",
    "# tc - O(n)\n",
    "# sc - O(n)"
   ]
  }
 ],
 "metadata": {
  "language_info": {
   "name": "python"
  }
 },
 "nbformat": 4,
 "nbformat_minor": 5
}
