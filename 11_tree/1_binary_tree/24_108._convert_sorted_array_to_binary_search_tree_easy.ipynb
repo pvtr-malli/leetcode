{
 "cells": [
  {
   "cell_type": "markdown",
   "id": "9ce1e108",
   "metadata": {},
   "source": [
    "Given an integer array nums where the elements are sorted in ascending order, convert it to a height-balanced binary search tree.\n",
    "\n",
    " \n",
    "\n",
    "Example 1:\n",
    "\n",
    "\n",
    "Input: nums = [-10,-3,0,5,9]\n",
    "Output: [0,-3,9,-10,null,5]\n",
    "Explanation: [0,-10,5,null,-3,null,9] is also accepted:\n",
    "\n",
    "Example 2:\n",
    "\n",
    "\n",
    "Input: nums = [1,3]\n",
    "Output: [3,1]\n",
    "Explanation: [1,null,3] and [3,1] are both height-balanced BSTs.\n",
    " \n",
    "\n",
    "Constraints:\n",
    "\n",
    "1 <= nums.length <= 104\n",
    "-104 <= nums[i] <= 104\n",
    "nums is sorted in a strictly increasing order."
   ]
  },
  {
   "cell_type": "markdown",
   "id": "18dac458",
   "metadata": {},
   "source": [
    "- ✅ Approach: Divide and Conquer (Recursion)\n",
    "- Pick the middle element of the array as the root.\n",
    "- Recursively build the left subtree using the left half of the array.\n",
    "- Recursively build the right subtree using the right half of the array.\n",
    "- This ensures the BST is height-balanced."
   ]
  },
  {
   "cell_type": "code",
   "execution_count": null,
   "id": "d7218a0b",
   "metadata": {},
   "outputs": [],
   "source": [
    "from typing import List, Optional\n",
    "\n",
    "class TreeNode:\n",
    "    def __init__(self, val=0, left=None, right=None):\n",
    "        self.val = val\n",
    "        self.left = left\n",
    "        self.right = right\n",
    "\n",
    "class Solution:\n",
    "    def sortedArrayToBST(self, nums: List[int]) -> Optional[TreeNode]:\n",
    "        def build(left, right):\n",
    "            if left > right:\n",
    "                return None\n",
    "            \n",
    "            mid = (left + right) // 2\n",
    "            node = TreeNode(nums[mid])\n",
    "            node.left = build(left, mid - 1)\n",
    "            node.right = build(mid + 1, right)\n",
    "            return node\n",
    "        \n",
    "        return build(0, len(nums) - 1)\n",
    "\n",
    "\n",
    "# tc - O(n)\n",
    "# sc - The maximum depth of the recursion stack is O(log n) for a balanced BST (due to divide-and-conquer)."
   ]
  }
 ],
 "metadata": {
  "language_info": {
   "name": "python"
  }
 },
 "nbformat": 4,
 "nbformat_minor": 5
}
