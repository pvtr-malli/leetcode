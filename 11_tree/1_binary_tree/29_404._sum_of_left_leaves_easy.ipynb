{
 "cells": [
  {
   "cell_type": "markdown",
   "id": "ddb0e97e",
   "metadata": {},
   "source": [
    "Given the root of a binary tree, return the sum of all left leaves.\n",
    "\n",
    "A leaf is a node with no children. A left leaf is a leaf that is the left child of another node.\n",
    "\n",
    " \n",
    "\n",
    "Example 1:\n",
    "\n",
    "\n",
    "Input: root = [3,9,20,null,null,15,7]\n",
    "Output: 24\n",
    "Explanation: There are two left leaves in the binary tree, with values 9 and 15 respectively.\n",
    "Example 2:\n",
    "\n",
    "Input: root = [1]\n",
    "Output: 0\n",
    " \n",
    "\n",
    "Constraints:\n",
    "\n",
    "The number of nodes in the tree is in the range [1, 1000].\n",
    "-1000 <= Node.val <= 1000"
   ]
  },
  {
   "cell_type": "markdown",
   "id": "6808eb86",
   "metadata": {},
   "source": [
    "# approach:\n",
    "- gonna do a post-order\n",
    "- call the values with the l and r tag.\n",
    "- when that a leaf node and having the tag == l:\n",
    "- add the sum."
   ]
  },
  {
   "cell_type": "code",
   "execution_count": null,
   "id": "11431389",
   "metadata": {},
   "outputs": [],
   "source": [
    "from typing import Optional\n",
    "\n",
    "class TreeNode:\n",
    "    def __init__(self, val=0, left=None, right=None):\n",
    "        self.val = val\n",
    "        self.left = left\n",
    "        self.right = right\n",
    "class Solution:\n",
    "    def sumOfLeftLeaves(self, root: Optional[TreeNode]) -> int:\n",
    "        if not root and not root.left:\n",
    "            return 0\n",
    "        self.sum = 0\n",
    "        def post_order(root, tag):\n",
    "            if not root:\n",
    "                return\n",
    "            post_order(root.left, 'l')\n",
    "            post_order(root.right, 'r')\n",
    "\n",
    "            # here if this is a leaf node and the tag is l;\n",
    "            # we will add the sum,\n",
    "            if not root.left and not root.right and tag == 'l':\n",
    "                self.sum += root.val\n",
    "        post_order(root, \"\")\n",
    "        return self.sum\n",
    "    \n",
    "# tc - O(n)\n",
    "# sc - O(H)"
   ]
  }
 ],
 "metadata": {
  "language_info": {
   "name": "python"
  }
 },
 "nbformat": 4,
 "nbformat_minor": 5
}
