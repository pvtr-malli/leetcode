{
 "cells": [
  {
   "cell_type": "markdown",
   "id": "05f70d21",
   "metadata": {},
   "source": [
    "Given the root of a complete binary tree, return the number of the nodes in the tree.\n",
    "\n",
    "According to Wikipedia, every level, except possibly the last, is completely filled in a complete binary tree, and all nodes in the last level are as far left as possible. It can have between 1 and 2h nodes inclusive at the last level h.\n",
    "\n",
    "Design an algorithm that runs in less than O(n) time complexity.\n",
    "\n",
    " \n",
    "\n",
    "Example 1:\n",
    "\n",
    "\n",
    "Input: root = [1,2,3,4,5,6]\n",
    "Output: 6\n",
    "Example 2:\n",
    "\n",
    "Input: root = []\n",
    "Output: 0\n",
    "Example 3:\n",
    "\n",
    "Input: root = [1]\n",
    "Output: 1\n",
    " \n",
    "\n",
    "Constraints:\n",
    "\n",
    "The number of nodes in the tree is in the range [0, 5 * 104].\n",
    "0 <= Node.val <= 5 * 104\n",
    "The tree is guaranteed to be complete."
   ]
  },
  {
   "cell_type": "code",
   "execution_count": null,
   "id": "ec325bb2",
   "metadata": {},
   "outputs": [],
   "source": [
    "class Solution:\n",
    "    def countNodes(self, root):\n",
    "        return self.countNodes_rec(root)\n",
    "    \n",
    "    def countNodes_rec(self, root):\n",
    "        if root == None:\n",
    "            return 0\n",
    "        left_h = self.left_height(root)\n",
    "        right_h = self.right_height(root)\n",
    "        if left_h == right_h:\n",
    "            return 2**left_h - 1\n",
    "        else:\n",
    "            return 1 + self.countNodes_rec(root.right) + self.countNodes_rec(root.left)\n",
    "    \n",
    "    def left_height(self, root):\n",
    "        count = 0\n",
    "        while root:\n",
    "            count +=1\n",
    "            root = root.left\n",
    "        return count \n",
    "    \n",
    "    def right_height(self, root):\n",
    "        count = 0\n",
    "        while root:\n",
    "            count +=1\n",
    "            root = root.right\n",
    "        return count \n",
    "    \n",
    "# tc :\n",
    "# height finding - O(log n)\n",
    "# traversal - O(log n)\n",
    "# sc - O(H)"
   ]
  }
 ],
 "metadata": {
  "language_info": {
   "name": "python"
  }
 },
 "nbformat": 4,
 "nbformat_minor": 5
}
