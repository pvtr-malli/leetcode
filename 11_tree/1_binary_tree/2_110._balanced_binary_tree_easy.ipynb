{
 "cells": [
  {
   "cell_type": "markdown",
   "id": "d884fe48",
   "metadata": {},
   "source": [
    "Given a binary tree, determine if it is height-balanced.\n",
    "\n",
    " \n",
    "\n",
    "Example 1:\n",
    "\n",
    "\n",
    "Input: root = [3,9,20,null,null,15,7]\n",
    "Output: true\n",
    "Example 2:\n",
    "\n",
    "\n",
    "Input: root = [1,2,2,3,3,null,null,4,4]\n",
    "Output: false\n",
    "Example 3:\n",
    "\n",
    "Input: root = []\n",
    "Output: true\n",
    " \n",
    "\n",
    "Constraints:\n",
    "\n",
    "The number of nodes in the tree is in the range [0, 5000].\n",
    "-104 <= Node.val <= 104"
   ]
  },
  {
   "cell_type": "code",
   "execution_count": null,
   "id": "44ae000d",
   "metadata": {},
   "outputs": [],
   "source": [
    "from typing import Optional\n",
    "\n",
    "class TreeNode:\n",
    "    def __init__(self, val=0, left=None, right=None):\n",
    "        self.val = val\n",
    "        self.left = left\n",
    "        self.right = right\n",
    "class Solution:\n",
    "    def isBalanced(self, root: Optional[TreeNode]) -> bool:\n",
    "        res = self.isBalanced_rec(root)\n",
    "        print(res)\n",
    "        return True if res >= 0 else False\n",
    "    \n",
    "    def isBalanced_rec(self, root: Optional[TreeNode]):\n",
    "        if root == None:\n",
    "            return 0\n",
    "        \n",
    "        left = self.isBalanced_rec(root.left)\n",
    "        if left == -1:\n",
    "            return -1\n",
    "        right = self.isBalanced_rec(root.right)\n",
    "        if right == -1:\n",
    "            return -1 \n",
    "        \n",
    "        # it is a abalance tree when the abs difference is <= 1.  \n",
    "        if abs(left - right ) > 1:\n",
    "            return -1 \n",
    "        return max(right, left ) + 1\n",
    "    \n",
    "# tc - O(n)\n",
    "# sc - O(H) - H - height of the tree"
   ]
  }
 ],
 "metadata": {
  "language_info": {
   "name": "python"
  }
 },
 "nbformat": 4,
 "nbformat_minor": 5
}
