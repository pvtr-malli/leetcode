{
 "cells": [
  {
   "cell_type": "markdown",
   "id": "a87db9e5",
   "metadata": {},
   "source": [
    "Given the roots of two binary trees p and q, write a function to check if they are the same or not.\n",
    "\n",
    "Two binary trees are considered the same if they are structurally identical, and the nodes have the same value.\n",
    "\n",
    " \n",
    "\n",
    "Example 1:\n",
    "\n",
    "\n",
    "Input: p = [1,2,3], q = [1,2,3]\n",
    "Output: true\n",
    "Example 2:\n",
    "\n",
    "\n",
    "Input: p = [1,2], q = [1,null,2]\n",
    "Output: false\n",
    "Example 3:\n",
    "\n",
    "\n",
    "Input: p = [1,2,1], q = [1,1,2]\n",
    "Output: false\n",
    " \n",
    "\n",
    "Constraints:\n",
    "\n",
    "The number of nodes in both trees is in the range [0, 100].\n",
    "-104 <= Node.val <= 104"
   ]
  },
  {
   "cell_type": "code",
   "execution_count": null,
   "id": "6f0abf9c",
   "metadata": {},
   "outputs": [],
   "source": [
    "from typing import Optional\n",
    "class TreeNode:\n",
    "    def __init__(self, val=0, left=None, right=None):\n",
    "        self.val = val\n",
    "        self.left = left\n",
    "        self.right = right\n",
    "\n",
    "class Solution:\n",
    "    def isSameTree(self, p: Optional[TreeNode], q: Optional[TreeNode]) -> bool:\n",
    "        return self.isSameTree_rec(p, q)\n",
    "    \n",
    "    def isSameTree_rec(self, r1: TreeNode, r2: TreeNode):\n",
    "        if r1 == None or r2 == None:\n",
    "            return r1 == r2\n",
    "        \n",
    "        if r1.val == r2.val:\n",
    "            right = self.isSameTree_rec(r1.right, r2.right)\n",
    "            if right == False:\n",
    "                return False\n",
    "            left = self.isSameTree_rec(r1.left, r2.left)\n",
    "            if left == False:\n",
    "                return False\n",
    "            return True \n",
    "        else:\n",
    "            return False\n",
    "\n",
    "# tc - O(n)\n",
    "# sc - O(n)\n",
    "        "
   ]
  }
 ],
 "metadata": {
  "language_info": {
   "name": "python"
  }
 },
 "nbformat": 4,
 "nbformat_minor": 5
}
