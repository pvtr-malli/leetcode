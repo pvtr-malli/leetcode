{
 "cells": [
  {
   "cell_type": "markdown",
   "id": "353c0c3f",
   "metadata": {},
   "source": [
    "Given the root of a binary tree and an integer targetSum, return the number of paths where the sum of the values along the path equals targetSum.\n",
    "\n",
    "The path does not need to start or end at the root or a leaf, but it must go downwards (i.e., traveling only from parent nodes to child nodes).\n",
    "\n",
    " \n",
    "\n",
    "Example 1:\n",
    "\n",
    "\n",
    "Input: root = [10,5,-3,3,2,null,11,3,-2,null,1], targetSum = 8\n",
    "Output: 3\n",
    "Explanation: The paths that sum to 8 are shown.\n",
    "Example 2:\n",
    "\n",
    "Input: root = [5,4,8,11,null,13,4,7,2,null,null,5,1], targetSum = 22\n",
    "Output: 3\n",
    " \n",
    "\n",
    "Constraints:\n",
    "\n",
    "The number of nodes in the tree is in the range [0, 1000].\n",
    "-109 <= Node.val <= 109\n",
    "-1000 <= targetSum <= 1000"
   ]
  },
  {
   "cell_type": "markdown",
   "id": "7baa8501",
   "metadata": {},
   "source": [
    "What you're suggesting:\n",
    "- You collect the path from root to current node in a list, and at each node, you:\n",
    "- Traverse left and right\n",
    "- At each step, check all possible subpaths (ending at current node) to see if any of them sum to the target\n",
    "\n",
    "✅ This does work — it’s a brute-force DFS approach."
   ]
  },
  {
   "cell_type": "code",
   "execution_count": null,
   "id": "b50a41e2",
   "metadata": {},
   "outputs": [],
   "source": [
    "class Solution:\n",
    "    def pathSum(self, root: Optional[TreeNode], targetSum: int) -> int:\n",
    "        self.count = 0\n",
    "        self.dfs(root, [], targetSum)\n",
    "        return self.count\n",
    "\n",
    "    def dfs(self, node, path, target):\n",
    "        if not node:\n",
    "            return\n",
    "        # Add current node to path\n",
    "        path.append(node.val)\n",
    "\n",
    "        # Check for all subpaths ending at this node.\n",
    "        # here we wanna check - [10,5,3,3]\n",
    "        # check all the path sum ending at 3. [10,5,3,3] and [5,3,3] and [3,3] and [3]\n",
    "        # this can be acheived by suming from the back.\n",
    "        curr_sum = 0\n",
    "        for val in reversed(path):\n",
    "            curr_sum += val\n",
    "            if curr_sum == target:\n",
    "                self.count += 1\n",
    "\n",
    "        # Recurse\n",
    "        self.dfs(node.left, path, target)\n",
    "        self.dfs(node.right, path, target)\n",
    "\n",
    "        # Backtrack\n",
    "        path.pop()\n",
    "\n",
    "# tc - O(n^2)\n",
    "# sc- O(H)\n"
   ]
  },
  {
   "cell_type": "markdown",
   "id": "cb1dcf68",
   "metadata": {},
   "source": [
    "✅ Optimal Approach: Prefix Sum + HashMap\n",
    "Idea:\n",
    "- Keep track of cumulative sum (prefixSum) from root to current node.\n",
    "- At each node, check if prefixSum - target exists in the hash map.\n",
    "- This tells us if there is a path ending at the current node whose sum equals target.\n",
    "- Use a hash map to store {prefixSum: frequency}."
   ]
  },
  {
   "cell_type": "code",
   "execution_count": null,
   "id": "06df241e",
   "metadata": {},
   "outputs": [],
   "source": [
    "from collections import defaultdict\n",
    "\n",
    "class Solution:\n",
    "    def pathSum(self, root: TreeNode, targetSum: int) -> int:\n",
    "        prefix_sum_count = defaultdict(int)\n",
    "        prefix_sum_count[0] = 1  # base case\n",
    "        return self.dfs(root, 0, targetSum, prefix_sum_count)\n",
    "\n",
    "    def dfs(self, node, curr_sum, target, prefix_sum_count):\n",
    "        if not node:\n",
    "            return 0\n",
    "\n",
    "        curr_sum += node.val\n",
    "        count = prefix_sum_count[curr_sum - target]\n",
    "        \n",
    "        prefix_sum_count[curr_sum] += 1\n",
    "        \n",
    "        count += self.dfs(node.left, curr_sum, target, prefix_sum_count)\n",
    "        count += self.dfs(node.right, curr_sum, target, prefix_sum_count)\n",
    "\n",
    "        prefix_sum_count[curr_sum] -= 1  # backtrack\n",
    "        return count\n",
    "\n",
    "\n",
    "# tc - O(N)\n",
    "# sc - O(n) + O(H)"
   ]
  }
 ],
 "metadata": {
  "language_info": {
   "name": "python"
  }
 },
 "nbformat": 4,
 "nbformat_minor": 5
}
