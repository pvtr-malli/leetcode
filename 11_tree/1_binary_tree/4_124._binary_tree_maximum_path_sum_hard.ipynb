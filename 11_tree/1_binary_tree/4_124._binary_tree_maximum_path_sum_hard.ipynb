{
 "cells": [
  {
   "cell_type": "markdown",
   "id": "f7219a5d",
   "metadata": {},
   "source": [
    "A path in a binary tree is a sequence of nodes where each pair of adjacent nodes in the sequence has an edge connecting them. A node can only appear in the sequence at most once. Note that the path does not need to pass through the root.\n",
    "\n",
    "The path sum of a path is the sum of the node's values in the path.\n",
    "\n",
    "Given the root of a binary tree, return the maximum path sum of any non-empty path.\n",
    "\n",
    " \n",
    "\n",
    "Example 1:\n",
    "\n",
    "\n",
    "Input: root = [1,2,3]\n",
    "Output: 6\n",
    "Explanation: The optimal path is 2 -> 1 -> 3 with a path sum of 2 + 1 + 3 = 6.\n",
    "Example 2:\n",
    "\n",
    "\n",
    "Input: root = [-10,9,20,null,null,15,7]\n",
    "Output: 42\n",
    "Explanation: The optimal path is 15 -> 20 -> 7 with a path sum of 15 + 20 + 7 = 42.\n",
    " \n",
    "\n",
    "Constraints:\n",
    "\n",
    "The number of nodes in the tree is in the range [1, 3 * 104].\n",
    "-1000 <= Node.val <= 1000"
   ]
  },
  {
   "cell_type": "code",
   "execution_count": null,
   "id": "31986654",
   "metadata": {},
   "outputs": [],
   "source": [
    "from typing import Optional\n",
    "\n",
    "class TreeNode:\n",
    "    def __init__(self, val=0, left=None, right=None):\n",
    "        self.val = val\n",
    "        self.left = left\n",
    "        self.right = right\n",
    "\n",
    "import sys\n",
    "\n",
    "class Solution:\n",
    "    def maxPathSum(self, root: Optional[TreeNode]) -> int:\n",
    "        maxi = [-sys.maxsize-1]  # the tree value can have negative vakue also, so min should be negative min.\n",
    "        self.maxPathSum_rec(root, maxi)\n",
    "        return maxi[0]\n",
    "    def maxPathSum_rec(self, root: TreeNode, maxi: list[int]):\n",
    "        if root == None:\n",
    "            return 0\n",
    "        left_sum = max(0, self.maxPathSum_rec(root.left, maxi))\n",
    "        right_sum = max(0, self.maxPathSum_rec(root.right, maxi))\n",
    "\n",
    "        # update the maxi\n",
    "        maxi[0] = max(maxi[0], (left_sum + right_sum + root.val))\n",
    "\n",
    "        return max(right_sum, left_sum) + root.val\n",
    "    \n",
    "# tc - O(n)\n",
    "# sc - O(H) - H - height of the tree\n"
   ]
  }
 ],
 "metadata": {
  "language_info": {
   "name": "python"
  }
 },
 "nbformat": 4,
 "nbformat_minor": 5
}
