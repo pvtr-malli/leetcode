{
 "cells": [
  {
   "cell_type": "markdown",
   "id": "a2f92de2",
   "metadata": {},
   "source": [
    "Given postorder traversal of a Binary Search Tree, you need to construct a BST from postorder traversal. The output will be inorder traversal of the constructed BST.\n",
    "\n",
    "Example 1:\n",
    "\n",
    "Input:\n",
    "6\n",
    "1 7 5 50 40 10\n",
    "\n",
    "Output:\n",
    "1 5 7 10 40 50\n",
    "\n",
    "Explanation:\n",
    "Testcase 1: The BST for the given post order traversal is:\n",
    "\n",
    "\n",
    "Thus the inorder traversal of BST is: 1 5 7 10 40 50.\n",
    "Your Task:\n",
    "The task is to complete the function constructTree() which takes an array post[], size as as the argument and returns the root of BST.\n",
    "\n",
    "Expected Time Complexity: O(No. of  nodes in BST)\n",
    "Expected Auxiliary Space: O(No. of  nodes in BST)\n",
    "\n",
    "Constraints:\n",
    "1 <= T <= 100\n",
    "1 <= N <= 200"
   ]
  },
  {
   "cell_type": "markdown",
   "id": "6fc66197",
   "metadata": {},
   "source": [
    "- this is same as building the tree from pre-order. but since for post-order root is in the back,\n",
    "- just start building the tree from the back. post -order ==> (L - R - Root)\n",
    "- So we will builr like Root - R - L (since reverse) IMPORTANT: to build hte right tree first."
   ]
  },
  {
   "cell_type": "code",
   "execution_count": null,
   "id": "900e9df1",
   "metadata": {},
   "outputs": [],
   "source": [
    "\n",
    "class TreeNode:\n",
    "    def __init__(self, val):\n",
    "        self.val = val\n",
    "        self.left = None\n",
    "        self.right = None\n",
    "\n",
    "class Solution:\n",
    "    def __init__(self):\n",
    "        self.idx = 0\n",
    "\n",
    "    def constructTree(self,post,n):\n",
    "        self.idx = len(post) - 1\n",
    "        return self.build(post, float('-inf'), float('inf'))\n",
    "\n",
    "    def build(self, postorder, lower, upper):\n",
    "        if self.idx < 0:\n",
    "            return None\n",
    "        \n",
    "        val = postorder[self.idx]\n",
    "        if val < lower or val > upper:\n",
    "            return None\n",
    "\n",
    "        self.idx -= 1\n",
    "        root = TreeNode(val)\n",
    "\n",
    "        # IMPORTANT: Build right subtree first\n",
    "        root.right = self.build(postorder, val, upper)\n",
    "        root.left = self.build(postorder, lower, val)\n",
    "\n",
    "        return root\n"
   ]
  }
 ],
 "metadata": {
  "language_info": {
   "name": "python"
  }
 },
 "nbformat": 4,
 "nbformat_minor": 5
}
