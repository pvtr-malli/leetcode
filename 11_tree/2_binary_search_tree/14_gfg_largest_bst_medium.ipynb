{
 "cells": [
  {
   "cell_type": "markdown",
   "id": "75c630eb",
   "metadata": {},
   "source": [
    "You're given a binary tree. Your task is to find the size of the largest subtree within this binary tree that also satisfies the properties of a Binary Search Tree (BST). The size of a subtree is defined as the number of nodes it contains.\n",
    "\n",
    "Note: A subtree of the binary tree is considered a BST if for every node in that subtree, the left child is less than the node, and the right child is greater than the node, without any duplicate values in the subtree.\n",
    "\n",
    "Examples :\n",
    "\n",
    "Input: root = [5, 2, 4, 1, 3]\n",
    "Root-to-leaf-path-sum-equal-to-a-given-number-copy\n",
    "Output: 3\n",
    "Explanation:The following sub-tree is a BST of size 3\n",
    "Balance-a-Binary-Search-Tree-3-copy\n",
    "Input: root = [6, 7, 3, N, 2, 2, 4]\n",
    "\n",
    "Output: 3\n",
    "Explanation: The following sub-tree is a BST of size 3:\n",
    "\n",
    "Constraints:\n",
    "1 ≤ number of nodes ≤ 105\n",
    "1 ≤ node->data ≤ 105\n",
    "\n",
    "Expected Complexities"
   ]
  },
  {
   "cell_type": "code",
   "execution_count": null,
   "id": "72212a60",
   "metadata": {},
   "outputs": [],
   "source": [
    "class TreeNode:\n",
    "    def __init__(self, val=0, left=None, right=None):\n",
    "        self.val = val\n",
    "        self.left = left\n",
    "        self.right = right\n",
    "\n",
    "class Solution:\n",
    "    def largestBSTSubtree(self, root: TreeNode) -> int:\n",
    "        self.max_size = 0\n",
    "\n",
    "        def dfs(node):\n",
    "            if not node:\n",
    "                # is_bst, size, min_val, max_val\n",
    "                return (True, 0, float('inf'), float('-inf'))\n",
    "\n",
    "            l_is_bst, l_size, l_min, l_max = dfs(node.left)\n",
    "            r_is_bst, r_size, r_min, r_max = dfs(node.right)\n",
    "\n",
    "            # Check if current subtree is BST\n",
    "            if l_is_bst and r_is_bst and l_max < node.val < r_min:\n",
    "                size = l_size + r_size + 1\n",
    "                self.max_size = max(self.max_size, size)\n",
    "                # if so, reutrn min and max value.\n",
    "                return (True, size, min(node.val, l_min), max(node.val, r_max))\n",
    "            else:\n",
    "                # Not a BST\n",
    "                return (False, max(l_size, r_size), 0, 0)\n",
    "\n",
    "        dfs(root)\n",
    "        return self.max_size\n",
    "\n",
    "\n",
    "# tc - O(N)\n",
    "# sc - O(H)"
   ]
  }
 ],
 "metadata": {
  "language_info": {
   "name": "python"
  }
 },
 "nbformat": 4,
 "nbformat_minor": 5
}
