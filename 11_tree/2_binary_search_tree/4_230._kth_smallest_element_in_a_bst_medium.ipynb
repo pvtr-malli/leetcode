{
 "cells": [
  {
   "cell_type": "markdown",
   "id": "cd84b392",
   "metadata": {},
   "source": [
    "Given the root of a binary search tree, and an integer k, return the kth smallest value (1-indexed) of all the values of the nodes in the tree.\n",
    "\n",
    " \n",
    "\n",
    "Example 1:\n",
    "\n",
    "\n",
    "Input: root = [3,1,4,null,2], k = 1\n",
    "Output: 1\n",
    "Example 2:\n",
    "\n",
    "\n",
    "Input: root = [5,3,6,2,4,null,null,1], k = 3\n",
    "Output: 3\n",
    " \n",
    "\n",
    "Constraints:\n",
    "\n",
    "The number of nodes in the tree is n.\n",
    "1 <= k <= n <= 104\n",
    "0 <= Node.val <= 104\n",
    " \n",
    "\n",
    "Follow up: If the BST is modified often (i.e., we can do insert and delete operations) and you need to find the kth smallest frequently, how would you optimize?"
   ]
  },
  {
   "cell_type": "code",
   "execution_count": null,
   "id": "a970559a",
   "metadata": {},
   "outputs": [],
   "source": [
    "class Solution:\n",
    "    def kthSmallest(self, root, k):\n",
    "        # gonna use the ierative inorder solution.\n",
    "        s = [] # lifo\n",
    "        count = 0\n",
    "        while True:\n",
    "            if root != None:\n",
    "                s.append(root)\n",
    "                root = root.left\n",
    "            else:\n",
    "                if  len(s) == 0:\n",
    "                    break\n",
    "                root = s.pop()\n",
    "                # we got the root val so count it.\n",
    "                count+=1\n",
    "                if count == k:\n",
    "                    return root.val\n",
    "                root = root.right\n",
    "\n",
    "# tc - O(H + k) - In the worst case, you may have to visit k nodes, but realistically it's O(H + k) where H is the height of the tree.\n",
    "# sc - O(H)"
   ]
  },
  {
   "cell_type": "markdown",
   "id": "c3fe3bbd",
   "metadata": {},
   "source": [
    "# Follow up: If the BST is modified often (i.e., we can do insert and delete operations) and you need to find the kth smallest frequently, how would you optimize?"
   ]
  },
  {
   "cell_type": "markdown",
   "id": "e3141473",
   "metadata": {},
   "source": []
  }
 ],
 "metadata": {
  "language_info": {
   "name": "python"
  }
 },
 "nbformat": 4,
 "nbformat_minor": 5
}
