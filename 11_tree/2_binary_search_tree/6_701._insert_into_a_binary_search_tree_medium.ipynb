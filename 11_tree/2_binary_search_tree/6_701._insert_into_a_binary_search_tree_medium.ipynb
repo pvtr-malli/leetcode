{
 "cells": [
  {
   "cell_type": "markdown",
   "id": "75a445f6",
   "metadata": {},
   "source": [
    "You are given the root node of a binary search tree (BST) and a value to insert into the tree. Return the root node of the BST after the insertion. It is guaranteed that the new value does not exist in the original BST.\n",
    "\n",
    "Notice that there may exist multiple valid ways for the insertion, as long as the tree remains a BST after insertion. You can return any of them.\n",
    "\n",
    " \n",
    "\n",
    "Example 1:\n",
    "\n",
    "\n",
    "Input: root = [4,2,7,1,3], val = 5\n",
    "Output: [4,2,7,1,3,5]\n",
    "Explanation: Another accepted tree is:\n",
    "\n",
    "Example 2:\n",
    "\n",
    "Input: root = [40,20,60,10,30,50,70], val = 25\n",
    "Output: [40,20,60,10,30,50,70,null,null,25]\n",
    "Example 3:\n",
    "\n",
    "Input: root = [4,2,7,1,3,null,null,null,null,null,null], val = 5\n",
    "Output: [4,2,7,1,3,5]\n",
    " \n",
    "\n",
    "Constraints:\n",
    "\n",
    "The number of nodes in the tree will be in the range [0, 104].\n",
    "-108 <= Node.val <= 108\n",
    "All the values Node.val are unique.\n",
    "-108 <= val <= 108\n",
    "It's guaranteed that val does not exist in the original BST."
   ]
  },
  {
   "cell_type": "code",
   "execution_count": null,
   "id": "ae00351f",
   "metadata": {},
   "outputs": [],
   "source": [
    "# Definition for a binary tree node.\n",
    "from typing import Optional\n",
    "\n",
    "class TreeNode:\n",
    "    def __init__(self, val=0, left=None, right=None):\n",
    "        self.val = val\n",
    "        self.left = left\n",
    "        self.right = right\n",
    "class Solution:\n",
    "    def insertIntoBST(self, root: Optional[TreeNode], val: int) -> Optional[TreeNode]:\n",
    "        # we will add the value at the leaf node.\n",
    "        if not root:\n",
    "            return TreeNode(val=val)\n",
    "        cur = root\n",
    "        # find the leaf.\n",
    "        while True:\n",
    "            if cur.val > val: # go left\n",
    "                if cur.left:\n",
    "                    cur = cur.left \n",
    "                else:\n",
    "                    cur.left = TreeNode(val = val)\n",
    "                    return root \n",
    "            else:\n",
    "                if cur.right:\n",
    "                    cur = cur.right \n",
    "                else:\n",
    "                    cur.right = TreeNode(val = val)\n",
    "                    return root \n",
    "\n",
    "# tc - O(H)\n",
    "# sc - O(1)"
   ]
  }
 ],
 "metadata": {
  "language_info": {
   "name": "python"
  }
 },
 "nbformat": 4,
 "nbformat_minor": 5
}
