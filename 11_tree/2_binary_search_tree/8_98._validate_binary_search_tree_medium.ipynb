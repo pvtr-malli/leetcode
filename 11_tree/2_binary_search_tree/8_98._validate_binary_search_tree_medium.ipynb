{
 "cells": [
  {
   "cell_type": "markdown",
   "id": "240ececc",
   "metadata": {},
   "source": [
    "Given the root of a binary tree, determine if it is a valid binary search tree (BST).\n",
    "\n",
    "A valid BST is defined as follows:\n",
    "\n",
    "The left subtree of a node contains only nodes with keys strictly less than the node's key.\n",
    "The right subtree of a node contains only nodes with keys strictly greater than the node's key.\n",
    "Both the left and right subtrees must also be binary search trees.\n",
    " \n",
    "\n",
    "Example 1:\n",
    "\n",
    "\n",
    "Input: root = [2,1,3]\n",
    "Output: true\n",
    "Example 2:\n",
    "\n",
    "\n",
    "Input: root = [5,1,4,null,null,3,6]\n",
    "Output: false\n",
    "Explanation: The root node's value is 5 but its right child's value is 4.\n",
    " \n",
    "\n",
    "Constraints:\n",
    "\n",
    "The number of nodes in the tree is in the range [1, 104].\n",
    "-231 <= Node.val <= 231 - 1"
   ]
  },
  {
   "cell_type": "code",
   "execution_count": null,
   "id": "ab15c973",
   "metadata": {},
   "outputs": [],
   "source": [
    "import sys\n",
    "\n",
    "\n",
    "class Solution:\n",
    "    def isValidBST(self, root):\n",
    "        return self.validate_rec(root, -sys.maxsize - 1 , sys.maxsize)\n",
    "    \n",
    "    def validate_rec(self, node, min_range, max_range):\n",
    "        if node == None:\n",
    "            return True\n",
    "        \n",
    "\n",
    "        if node.val <= min_range  or node.val >= max_range :\n",
    "            return False\n",
    "\n",
    "        l_call = self.validate_rec(node.left, min_range, node.val)\n",
    "        r_cal = self.validate_rec(node.right, node.val, max_range)\n",
    "        return l_call and r_cal \n",
    "    \n",
    "# tc - O(n)\n",
    "# sc - O(H)[recurssion space]"
   ]
  }
 ],
 "metadata": {
  "language_info": {
   "name": "python"
  }
 },
 "nbformat": 4,
 "nbformat_minor": 5
}
