{
 "cells": [
  {
   "cell_type": "markdown",
   "id": "a3efdb4d",
   "metadata": {},
   "source": [
    "You are given the root of a binary search tree (BST) and an integer val.\n",
    "\n",
    "Find the node in the BST that the node's value equals val and return the subtree rooted with that node. If such a node does not exist, return null.\n",
    "\n",
    " \n",
    "\n",
    "Example 1:\n",
    "\n",
    "\n",
    "Input: root = [4,2,7,1,3], val = 2\n",
    "Output: [2,1,3]\n",
    "Example 2:\n",
    "\n",
    "\n",
    "Input: root = [4,2,7,1,3], val = 5\n",
    "Output: []\n",
    " \n",
    "\n",
    "Constraints:\n",
    "\n",
    "The number of nodes in the tree is in the range [1, 5000].\n",
    "1 <= Node.val <= 107\n",
    "root is a binary search tree.\n",
    "1 <= val <= 107"
   ]
  },
  {
   "cell_type": "code",
   "execution_count": null,
   "id": "336ddedf",
   "metadata": {},
   "outputs": [],
   "source": [
    "# Definition for a binary tree node.\n",
    "from typing import Optional\n",
    "\n",
    "class TreeNode:\n",
    "    def __init__(self, val=0, left=None, right=None):\n",
    "        self.val = val\n",
    "        self.left = left\n",
    "        self.right = right\n",
    "class Solution:\n",
    "    def searchBST(self, root: Optional[TreeNode], val: int) -> Optional[TreeNode]:\n",
    "        # if hte value is greater than target fo to the right.\n",
    "        # else go left.\n",
    "        # if the value is found return.\n",
    "        # if we reach none - return None.\n",
    "        cur = root\n",
    "        while cur:\n",
    "            if cur.val == val:\n",
    "                return cur \n",
    "            elif cur.val < val: # then we need more bigger vakye go right\n",
    "                cur = cur.right\n",
    "            else:\n",
    "                cur = cur.left\n",
    "        return cur\n",
    "# tc -O(log n)\n",
    "# sc - O(1)"
   ]
  }
 ],
 "metadata": {
  "language_info": {
   "name": "python"
  }
 },
 "nbformat": 4,
 "nbformat_minor": 5
}
