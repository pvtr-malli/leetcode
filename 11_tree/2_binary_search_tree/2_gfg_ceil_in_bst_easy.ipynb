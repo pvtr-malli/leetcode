{
 "cells": [
  {
   "cell_type": "markdown",
   "id": "1f844031",
   "metadata": {},
   "source": [
    "Given a BST and a number X, find Ceil of X.\n",
    "Note: Ceil(X) is a number that is either equal to X or is immediately greater than X.\n",
    "\n",
    "If Ceil could not be found, return -1.\n",
    "\n",
    "Examples:\n",
    "\n",
    "Input: root = [5, 1, 7, N, 2, N, N, N, 3], X = 3\n",
    "\n",
    "Output: 3\n",
    "Explanation: We find 3 in BST, so ceil of 3 is 3.\n",
    "Input: root = [10, 5, 11, 4, 7, N, N, N, N, N, 8], X = 6\n",
    "\n",
    "Output: 7\n",
    "Explanation: We find 7 in BST, so ceil of 6 is 7.\n",
    "Your task:\n",
    "You don't need to read input or print anything. Just complete the function findCeil() to implement ceil in BST which returns the ceil of X in the given BST.\n",
    "\n",
    "Constraints:\n",
    "1 <= Number of nodes <= 105\n",
    "1 <= Value of nodes<= 105\n",
    "\n",
    "Expected Complexities\n",
    "Time Complexity: O(log n)\n",
    "Auxiliary Space: O(1)"
   ]
  },
  {
   "cell_type": "code",
   "execution_count": null,
   "id": "58719eda",
   "metadata": {},
   "outputs": [],
   "source": [
    "class Node:\n",
    "    def __init__(self, val):\n",
    "        self.right = None\n",
    "        self.key = val\n",
    "        self.left = None \n",
    "        \n",
    "class Solution:\n",
    "    def findCeil(self,root, inp):\n",
    "        # we need to find the vakye which is = or first greater than the current value.\n",
    "        # [1,2,3,4,5,6,7], tar = 4\n",
    "        # [f,f,f,t,t,t,t] - cond: a[i] >= targ. so we are looking for the frist True here.\n",
    "        cur = root\n",
    "        ceil = 1e9\n",
    "        while cur:\n",
    "            if cur.key == inp:\n",
    "                return cur.key\n",
    "            elif cur.key > inp:\n",
    "                ceil = min(ceil, cur.key) # we need the min possible max value.\n",
    "                cur = cur.left\n",
    "            else:\n",
    "                cur = cur.right\n",
    "        return ceil if ceil != 1e9 else -1\n",
    "    \n",
    "# tc - O(log n) or O(log H) - its accessing only height of tree number of nodes.\n",
    "# sc - O(1)"
   ]
  }
 ],
 "metadata": {
  "language_info": {
   "name": "python"
  }
 },
 "nbformat": 4,
 "nbformat_minor": 5
}
