{
 "cells": [
  {
   "cell_type": "markdown",
   "id": "8af4e590",
   "metadata": {},
   "source": [
    "Given an array of integers preorder, which represents the preorder traversal of a BST (i.e., binary search tree), construct the tree and return its root.\n",
    "\n",
    "It is guaranteed that there is always possible to find a binary search tree with the given requirements for the given test cases.\n",
    "\n",
    "A binary search tree is a binary tree where for every node, any descendant of Node.left has a value strictly less than Node.val, and any descendant of Node.right has a value strictly greater than Node.val.\n",
    "\n",
    "A preorder traversal of a binary tree displays the value of the node first, then traverses Node.left, then traverses Node.right.\n",
    "\n",
    " \n",
    "\n",
    "Example 1:\n",
    "\n",
    "\n",
    "Input: preorder = [8,5,1,7,10,12]\n",
    "Output: [8,5,10,1,7,null,12]\n",
    "Example 2:\n",
    "\n",
    "Input: preorder = [1,3]\n",
    "Output: [1,null,3]\n",
    " \n",
    "\n",
    "Constraints:\n",
    "\n",
    "1 <= preorder.length <= 100\n",
    "1 <= preorder[i] <= 1000\n",
    "All the values of preorder are unique."
   ]
  },
  {
   "cell_type": "code",
   "execution_count": null,
   "id": "9d488a23",
   "metadata": {},
   "outputs": [],
   "source": [
    "import sys\n",
    "\n",
    "\n",
    "class Solution:\n",
    "    def bstFromPreorder(self, preorder):\n",
    "        return self.build_tree(preorder, sys.maxsize, [0])\n",
    "    def build_tree(self, preorder, upper_bound, ind):\n",
    "        if ind[0] == len(preorder) or preorder[ind[0]] > upper_bound:\n",
    "            return None\n",
    "        root = TreeNode(preorder[ind[0]])\n",
    "        ind[0] +=1\n",
    "        root.left = self.build_tree(preorder, root.val, ind)\n",
    "        root.right = self.build_tree(preorder, upper_bound, ind)\n",
    "        return root"
   ]
  }
 ],
 "metadata": {
  "language_info": {
   "name": "python"
  }
 },
 "nbformat": 4,
 "nbformat_minor": 5
}
