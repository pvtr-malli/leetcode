{
 "cells": [
  {
   "cell_type": "markdown",
   "id": "640c91a1",
   "metadata": {},
   "source": [
    "You are given a BST(Binary Search Tree) with n number of nodes and value x. your task is to find the greatest value node of the BST which is smaller than or equal to x.\n",
    "Note: when x is smaller than the smallest node of BST then returns -1.\n",
    "\n",
    "Examples:\n",
    "\n",
    "Input:\n",
    "n = 7               2\n",
    "                     \\\n",
    "                      81\n",
    "                    /     \\\n",
    "                 42       87\n",
    "                   \\       \\\n",
    "                    66      90\n",
    "                   /\n",
    "                 45\n",
    "x = 87\n",
    "Output: 87\n",
    "Explanation: 87 is present in tree so floor will be 87.\n",
    "Input:\n",
    "n = 4                     6\n",
    "                           \\\n",
    "                            8\n",
    "                          /   \\\n",
    "                        7       9\n",
    "x = 11\n",
    "Output: 9\n",
    "Input:\n",
    "n = 4                     6\n",
    "                           \\\n",
    "                            8\n",
    "                          /   \\\n",
    "                        7       9\n",
    "x = 5\n",
    "Output: -1\n",
    "Constraint:\n",
    "1 <= Noda data <= 109\n",
    "1 <= n <= 105\n",
    "\n",
    "Expected Complexities\n",
    "Time Complexity: O(height of tree)\n",
    "Auxiliary Space: O(height of tree)"
   ]
  },
  {
   "cell_type": "code",
   "execution_count": 1,
   "id": "017f5fae",
   "metadata": {},
   "outputs": [],
   "source": [
    "\n",
    "class Solution:\n",
    "    def floor(self,root, x):\n",
    "        # we need to find the vakye which is = or first smaller than the current value.\n",
    "        # [1,2,3,4,5,6,7], tar = 4\n",
    "        # [t,t,t,t,f,f,f] - cond: a[i] <= targ. so we are looking for the last True here.\n",
    "        cur = root\n",
    "        floor = -1e9\n",
    "        while cur:\n",
    "            if cur.data == x:\n",
    "                return cur.data\n",
    "            elif cur.data > x:\n",
    "                cur = cur.left\n",
    "            else:\n",
    "                # if the value is < x: then we found a valid floor, but we need to find the last of this so max.\n",
    "                floor = max(floor, cur.data)\n",
    "                cur = cur.right\n",
    "        return floor if floor != -1e9 else -1\n",
    "    \n",
    "# tc - O(log n) or O(log H) - its accessing only height of tree number of nodes.\n",
    "# sc - O(1)"
   ]
  },
  {
   "cell_type": "code",
   "execution_count": null,
   "id": "5c84bc41",
   "metadata": {},
   "outputs": [],
   "source": []
  }
 ],
 "metadata": {
  "kernelspec": {
   "display_name": "3.11.11",
   "language": "python",
   "name": "python3"
  },
  "language_info": {
   "codemirror_mode": {
    "name": "ipython",
    "version": 3
   },
   "file_extension": ".py",
   "mimetype": "text/x-python",
   "name": "python",
   "nbconvert_exporter": "python",
   "pygments_lexer": "ipython3",
   "version": "3.11.11"
  }
 },
 "nbformat": 4,
 "nbformat_minor": 5
}
