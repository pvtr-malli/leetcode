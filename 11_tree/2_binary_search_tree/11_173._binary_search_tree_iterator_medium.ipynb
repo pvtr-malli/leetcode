{
 "cells": [
  {
   "cell_type": "markdown",
   "id": "912d497a",
   "metadata": {},
   "source": [
    "Implement the BSTIterator class that represents an iterator over the in-order traversal of a binary search tree (BST):\n",
    "\n",
    "BSTIterator(TreeNode root) Initializes an object of the BSTIterator class. The root of the BST is given as part of the constructor. The pointer should be initialized to a non-existent number smaller than any element in the BST.\n",
    "boolean hasNext() Returns true if there exists a number in the traversal to the right of the pointer, otherwise returns false.\n",
    "int next() Moves the pointer to the right, then returns the number at the pointer.\n",
    "Notice that by initializing the pointer to a non-existent smallest number, the first call to next() will return the smallest element in the BST.\n",
    "\n",
    "You may assume that next() calls will always be valid. That is, there will be at least a next number in the in-order traversal when next() is called.\n",
    "\n",
    " \n",
    "\n",
    "Example 1:\n",
    "\n",
    "\n",
    "Input\n",
    "[\"BSTIterator\", \"next\", \"next\", \"hasNext\", \"next\", \"hasNext\", \"next\", \"hasNext\", \"next\", \"hasNext\"]\n",
    "[[[7, 3, 15, null, null, 9, 20]], [], [], [], [], [], [], [], [], []]\n",
    "Output\n",
    "[null, 3, 7, true, 9, true, 15, true, 20, false]\n",
    "\n",
    "Explanation\n",
    "BSTIterator bSTIterator = new BSTIterator([7, 3, 15, null, null, 9, 20]);\n",
    "bSTIterator.next();    // return 3\n",
    "bSTIterator.next();    // return 7\n",
    "bSTIterator.hasNext(); // return True\n",
    "bSTIterator.next();    // return 9\n",
    "bSTIterator.hasNext(); // return True\n",
    "bSTIterator.next();    // return 15\n",
    "bSTIterator.hasNext(); // return True\n",
    "bSTIterator.next();    // return 20\n",
    "bSTIterator.hasNext(); // return False\n",
    " \n",
    "\n",
    "Constraints:\n",
    "\n",
    "The number of nodes in the tree is in the range [1, 105].\n",
    "0 <= Node.val <= 106\n",
    "At most 105 calls will be made to hasNext, and next.\n",
    " \n",
    "\n",
    "Follow up:\n",
    "\n",
    "Could you implement next() and hasNext() to run in average O(1) time and use O(h) memory, where h is the height of the tree?"
   ]
  },
  {
   "cell_type": "code",
   "execution_count": 1,
   "id": "216d73cf",
   "metadata": {},
   "outputs": [],
   "source": [
    "class BSTIterator:\n",
    "    def __init__(self, root):\n",
    "        self.stack = []\n",
    "        self._fill_all_left(root)\n",
    "\n",
    "    def _fill_all_left(self, node):\n",
    "        while node:\n",
    "            self.stack.append(node)\n",
    "            node = node.left\n",
    "\n",
    "    def next(self):\n",
    "        node = self.stack.pop()\n",
    "        val = node.val\n",
    "        if node.right:\n",
    "            self._fill_all_left(node.right)\n",
    "        return val\n",
    "\n",
    "    def hasNext(self):\n",
    "        return len(self.stack) > 0\n",
    "\n",
    "# nect() - O(1) average\n",
    "# hasnext - O(1)\n",
    "# sc - O(h)"
   ]
  },
  {
   "cell_type": "code",
   "execution_count": null,
   "id": "a7756dc2",
   "metadata": {},
   "outputs": [],
   "source": []
  }
 ],
 "metadata": {
  "kernelspec": {
   "display_name": "3.11.11",
   "language": "python",
   "name": "python3"
  },
  "language_info": {
   "codemirror_mode": {
    "name": "ipython",
    "version": 3
   },
   "file_extension": ".py",
   "mimetype": "text/x-python",
   "name": "python",
   "nbconvert_exporter": "python",
   "pygments_lexer": "ipython3",
   "version": "3.11.11"
  }
 },
 "nbformat": 4,
 "nbformat_minor": 5
}
