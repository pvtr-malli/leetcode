{
 "cells": [
  {
   "cell_type": "markdown",
   "id": "cdbc43ca",
   "metadata": {},
   "source": [
    "Given an array of strings words representing an English Dictionary, return the longest word in words that can be built one character at a time by other words in words.\n",
    "\n",
    "If there is more than one possible answer, return the longest word with the smallest lexicographical order. If there is no answer, return the empty string.\n",
    "\n",
    "Note that the word should be built from left to right with each additional character being added to the end of a previous word. \n",
    "\n",
    " \n",
    "\n",
    "Example 1:\n",
    "\n",
    "Input: words = [\"w\",\"wo\",\"wor\",\"worl\",\"world\"]\n",
    "Output: \"world\"\n",
    "Explanation: The word \"world\" can be built one character at a time by \"w\", \"wo\", \"wor\", and \"worl\".\n",
    "Example 2:\n",
    "\n",
    "Input: words = [\"a\",\"banana\",\"app\",\"appl\",\"ap\",\"apply\",\"apple\"]\n",
    "Output: \"apple\"\n",
    "Explanation: Both \"apply\" and \"apple\" can be built from other words in the dictionary. However, \"apple\" is lexicographically smaller than \"apply\".\n",
    " \n",
    "\n",
    "Constraints:\n",
    "\n",
    "1 <= words.length <= 1000\n",
    "1 <= words[i].length <= 30\n",
    "words[i] consists of lowercase English letters."
   ]
  },
  {
   "cell_type": "markdown",
   "id": "3f414a7a",
   "metadata": {},
   "source": [
    "👉 My advice:\n",
    "\n",
    "Start with Sorting+Set → short, elegant, gets the job done.\n",
    "\n",
    "Then add: \"We can also solve this with Trie in O(N·L), which is useful if we extend this problem to handle prefix queries.\""
   ]
  },
  {
   "cell_type": "code",
   "execution_count": null,
   "id": "1c7e0f34",
   "metadata": {},
   "outputs": [],
   "source": [
    "# brute force - check all th words\n",
    "class Solution:\n",
    "    def longestWord(self, words: list[str]) -> str:\n",
    "        word_set = set(words)\n",
    "        best = \"\"\n",
    "\n",
    "        for word in words:\n",
    "            valid = True\n",
    "            for i in range(1, len(word)):\n",
    "                if word[:i] not in word_set:\n",
    "                    valid = False\n",
    "                    break\n",
    "\n",
    "            if valid:\n",
    "                if len(word) > len(best) or (len(word) == len(best) and word < best):\n",
    "                    best = word\n",
    "\n",
    "        return best\n",
    "\n",
    "# Time = O(N × L²) (since slicing word[:i] is O(i) each).\n",
    "# Space = O(N × L) (set storage)."
   ]
  },
  {
   "cell_type": "code",
   "execution_count": null,
   "id": "db684146",
   "metadata": {},
   "outputs": [],
   "source": [
    "class Node:\n",
    "    def __init__(self):\n",
    "        self.link = {}\n",
    "        self.prefix_count = 0\n",
    "        self.word_end_here = 0\n",
    "\n",
    "class Tries:\n",
    "    def __init__(self):\n",
    "        self.root = Node()\n",
    "\n",
    "    def insert(self, word):\n",
    "        cur_node = self.root\n",
    "        for char in word:\n",
    "            if char not in cur_node.link:\n",
    "                cur_node.link[char] = Node()\n",
    "            cur_node = cur_node.link[char]\n",
    "            cur_node.prefix_count += 1\n",
    "        \n",
    "        cur_node.word_end_here += 1\n",
    "\n",
    "class Solution:\n",
    "    def longestWord(self, words: list[str]) -> str:\n",
    "        trie = Tries()\n",
    "        for word in words:\n",
    "            trie.insert(word)\n",
    "\n",
    "        self.best = \"\"\n",
    "\n",
    "        def dfs(node, path):\n",
    "            # We have to have the bigger and lexicographical order.\n",
    "            if len(path) > len(self.best) or (len(path) == len(self.best) and path < self.best):\n",
    "                self.best = path\n",
    "\n",
    "            for ch in sorted(node.link.keys()):   # keep lexicographic order\n",
    "                child = node.link[ch]\n",
    "                if child.word_end_here:                      # only go deeper if prefix is valid\n",
    "                    dfs(child, path + ch)\n",
    "\n",
    "        dfs(trie.root, \"\")\n",
    "        return self.best\n"
   ]
  },
  {
   "cell_type": "markdown",
   "id": "3ebe7298",
   "metadata": {},
   "source": [
    "\n",
    "\n",
    "### 🔹 Building the Trie\n",
    "\n",
    "* `insert(word)` takes **O(L)** for a word of length `L`.\n",
    "* For `N` words (average length `L`):\n",
    "  **Time = O(N × L)**\n",
    "  **Space = O(N × L)** (each node stores up to 26 children).\n",
    "\n",
    "---\n",
    "\n",
    "### 🔹 DFS Traversal\n",
    "\n",
    "* We traverse each node **at most once**.\n",
    "* Each DFS step checks `is_end` and iterates children → **O(1)** per node.\n",
    "* Across all nodes: **O(N × L)**\n",
    "\n",
    "---\n",
    "\n",
    "### 🔹 Total Complexity\n",
    "\n",
    "* **Time:** `O(N × L)` (build + DFS)\n",
    "* **Space:** `O(N × L)` (Trie) + recursion stack `O(L)`\n"
   ]
  },
  {
   "cell_type": "code",
   "execution_count": 5,
   "id": "8fbca25b",
   "metadata": {},
   "outputs": [
    {
     "data": {
      "text/plain": [
       "'world'"
      ]
     },
     "execution_count": 5,
     "metadata": {},
     "output_type": "execute_result"
    }
   ],
   "source": [
    "Solution().longestWord(words = [\"w\",\"wo\",\"wor\",\"worl\",\"world\"])"
   ]
  },
  {
   "cell_type": "code",
   "execution_count": null,
   "id": "51c45772",
   "metadata": {},
   "outputs": [],
   "source": [
    "class Solution:\n",
    "    def longestWord(self, words: list[str]) -> str:\n",
    "        words.sort()                # Step 1: sort lexicographically\n",
    "        builder = set()             # Step 2: stores \"valid words\" we can build\n",
    "        longest = ''                # Step 3: answer tracker\n",
    "\n",
    "        for word in words:          # Step 4: iterate words in sorted order\n",
    "            # Step 5: A word is valid if:\n",
    "            # - it’s length 1 (single char word always valid)\n",
    "            # - OR its prefix (word[:-1]) is already in builder\n",
    "            if len(word) == 1 or word[:-1] in builder:\n",
    "                builder.add(word)   # mark word as buildable\n",
    "                # Step 6: update longest if better\n",
    "                if len(word) > len(longest):\n",
    "                    longest = word\n",
    "\n",
    "        return longest\n",
    "\n",
    "\n"
   ]
  },
  {
   "cell_type": "markdown",
   "id": "939df6d7",
   "metadata": {},
   "source": [
    "\n",
    "### 🔹 Time Complexity\n",
    "\n",
    "1. **Sorting**\n",
    "\n",
    "   * `words.sort()` → **O(N log N · L)**\n",
    "     (N = number of words, L = average word length, since Python compares strings character by character).\n",
    "\n",
    "2. **Iteration**\n",
    "\n",
    "   * For each word, check `len(word) == 1` or `word[:-1] in builder`.\n",
    "   * `word[:-1]` slicing = O(L)\n",
    "   * Set lookup = O(1)\n",
    "   * So per word = O(L).\n",
    "   * Total = **O(N · L)**.\n",
    "\n",
    "👉 **Final Time = O(N log N · L + N · L)**\n",
    "\n",
    "---\n",
    "\n",
    "### 🔹 Space Complexity\n",
    "\n",
    "* **Set storage (`builder`)** → stores up to all words = O(N · L)\n",
    "* **Sorting overhead** → O(N)\n",
    "* **Answer string** → O(L)\n",
    "\n",
    "👉 **Final Space = O(N · L)**\n",
    "\n",
    "---\n",
    "\n",
    "✅ Summary:\n",
    "\n",
    "* **Time:** `O(N log N · L + N · L)`\n",
    "* **Space:** `O(N · L)`\n",
    "\n",
    "\n"
   ]
  },
  {
   "cell_type": "markdown",
   "id": "ad6e6099",
   "metadata": {},
   "source": []
  }
 ],
 "metadata": {
  "kernelspec": {
   "display_name": "3.11.11",
   "language": "python",
   "name": "python3"
  },
  "language_info": {
   "codemirror_mode": {
    "name": "ipython",
    "version": 3
   },
   "file_extension": ".py",
   "mimetype": "text/x-python",
   "name": "python",
   "nbconvert_exporter": "python",
   "pygments_lexer": "ipython3",
   "version": "3.11.11"
  }
 },
 "nbformat": 4,
 "nbformat_minor": 5
}
