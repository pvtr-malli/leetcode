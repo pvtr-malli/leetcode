{
 "cells": [
  {
   "cell_type": "markdown",
   "id": "e50ea256",
   "metadata": {},
   "source": [
    "Write a function to find the longest common prefix string amongst an array of strings.\n",
    "\n",
    "If there is no common prefix, return an empty string \"\".\n",
    "\n",
    " \n",
    "\n",
    "Example 1:\n",
    "\n",
    "Input: strs = [\"flower\",\"flow\",\"flight\"]\n",
    "Output: \"fl\"\n",
    "Example 2:\n",
    "\n",
    "Input: strs = [\"dog\",\"racecar\",\"car\"]\n",
    "Output: \"\"\n",
    "Explanation: There is no common prefix among the input strings.\n",
    " \n",
    "\n",
    "Constraints:\n",
    "\n",
    "1 <= strs.length <= 200\n",
    "0 <= strs[i].length <= 200\n",
    "strs[i] consists of only lowercase English letters if it is non-empty."
   ]
  },
  {
   "cell_type": "code",
   "execution_count": null,
   "id": "0e8a4f68",
   "metadata": {},
   "outputs": [],
   "source": [
    "# brute force:\n",
    "# strs = [\"flower\",\"flow\",\"flight\"]\n",
    "# take flower and check that with \"flow\"\n",
    "# the while loop will end at \"flow\"\n",
    "# then again check with \"flight\"\n",
    "# the while loop will end at \"fl\"\n",
    "class Solution:\n",
    "    def longestCommonPrefix(self, strs: list[str]) -> str:\n",
    "        if not strs:\n",
    "            return \"\"\n",
    "        \n",
    "        # take the firs letter as the prefix.\n",
    "        prefix = strs[0]\n",
    "\n",
    "        for word in strs[1:]:\n",
    "            # check the string is having hte current prefix or not.\n",
    "            while not word.startswith(prefix):\n",
    "                prefix = prefix[:-1]\n",
    "                if not prefix:\n",
    "                    return \"\"\n",
    "        return prefix\n",
    "\n",
    "# tc - O(s) where s is the sum of all characters in all strings.\n",
    "# sc - O(1) since we are not using any extra space except for the output"
   ]
  },
  {
   "cell_type": "code",
   "execution_count": null,
   "id": "b353805e",
   "metadata": {},
   "outputs": [],
   "source": [
    "class Node:\n",
    "    def __init__(self):\n",
    "        self.link = {}\n",
    "        self.prefix_count = 0\n",
    "        self.word_end_here = 0\n",
    "\n",
    "class Tries:\n",
    "    def __init__(self):\n",
    "        self.root = Node()\n",
    "\n",
    "    def insert(self, word):\n",
    "        cur_node = self.root\n",
    "        for char in word:\n",
    "            if char not in cur_node.link:\n",
    "                cur_node.link[char] = Node()\n",
    "            cur_node = cur_node.link[char]\n",
    "            cur_node.prefix_count += 1\n",
    "        \n",
    "        cur_node.word_end_here += 1\n",
    "    \n",
    "    def lcp(self):\n",
    "        cur = self.root \n",
    "        prefix = []\n",
    "        # Stop if:\n",
    "        # 1. More than 1 child (branching)\n",
    "        # 2. Or this node marks the end of a word\n",
    "        while len(cur.link) == 1 or cur.word_end_here == 0:\n",
    "            ch = next(iter(cur.link)) # NOTE: getting the first child.\n",
    "            prefix.append(ch)\n",
    "            cur = cur.link[ch]\n",
    "        \n",
    "        return \"\".join(prefix)\n",
    "\n",
    "\n",
    "class Solution:\n",
    "    def longestCommonPrefix(self, strs: list[str]) -> str:\n",
    "        trie = Tries()\n",
    "        for word in strs:\n",
    "            trie.insert(word)\n",
    "\n",
    "        return trie.lcp()\n",
    "        \n",
    "\n",
    "# tc:\n",
    "# n - numner of words , m - length of the words\n",
    "# inserting all words - O(n*m)\n",
    "# checking - O(m) - length of the minimum word\n",
    "# O(n*M) + O(m)\n",
    "\n",
    "# sc:\n",
    "# sotring all the words - O(n*m)"
   ]
  },
  {
   "cell_type": "code",
   "execution_count": 3,
   "id": "c76e2a04",
   "metadata": {},
   "outputs": [
    {
     "data": {
      "text/plain": [
       "'fl'"
      ]
     },
     "execution_count": 3,
     "metadata": {},
     "output_type": "execute_result"
    }
   ],
   "source": [
    "Solution().longestCommonPrefix(strs = [\"flower\",\"flow\",\"flight\"])"
   ]
  },
  {
   "cell_type": "code",
   "execution_count": 4,
   "id": "b1625d4a",
   "metadata": {},
   "outputs": [
    {
     "data": {
      "text/plain": [
       "''"
      ]
     },
     "execution_count": 4,
     "metadata": {},
     "output_type": "execute_result"
    }
   ],
   "source": [
    "Solution().longestCommonPrefix(strs = [\"dog\",\"racecar\",\"car\"])"
   ]
  },
  {
   "cell_type": "code",
   "execution_count": null,
   "id": "c2637142",
   "metadata": {},
   "outputs": [],
   "source": []
  }
 ],
 "metadata": {
  "kernelspec": {
   "display_name": "3.11.11",
   "language": "python",
   "name": "python3"
  },
  "language_info": {
   "codemirror_mode": {
    "name": "ipython",
    "version": 3
   },
   "file_extension": ".py",
   "mimetype": "text/x-python",
   "name": "python",
   "nbconvert_exporter": "python",
   "pygments_lexer": "ipython3",
   "version": "3.11.11"
  }
 },
 "nbformat": 4,
 "nbformat_minor": 5
}
