{
 "cells": [
  {
   "cell_type": "markdown",
   "id": "967882bf",
   "metadata": {},
   "source": [
    "A valid encoding of an array of words is any reference string s and array of indices indices such that:\n",
    "\n",
    "words.length == indices.length\n",
    "The reference string s ends with the '#' character.\n",
    "For each index indices[i], the substring of s starting from indices[i] and up to (but not including) the next '#' character is equal to words[i].\n",
    "Given an array of words, return the length of the shortest reference string s possible of any valid encoding of words.\n",
    "\n",
    " \n",
    "\n",
    "Example 1:\n",
    "\n",
    "Input: words = [\"time\", \"me\", \"bell\"]\n",
    "Output: 10\n",
    "Explanation: A valid encoding would be s = \"time#bell#\" and indices = [0, 2, 5].\n",
    "words[0] = \"time\", the substring of s starting from indices[0] = 0 to the next '#' is underlined in \"time#bell#\"\n",
    "words[1] = \"me\", the substring of s starting from indices[1] = 2 to the next '#' is underlined in \"time#bell#\"\n",
    "words[2] = \"bell\", the substring of s starting from indices[2] = 5 to the next '#' is underlined in \"time#bell#\"\n",
    "Example 2:\n",
    "\n",
    "Input: words = [\"t\"]\n",
    "Output: 2\n",
    "Explanation: A valid encoding would be s = \"t#\" and indices = [0].\n",
    " \n",
    "\n",
    "Constraints:\n",
    "\n",
    "1 <= words.length <= 2000\n",
    "1 <= words[i].length <= 7\n",
    "words[i] consists of only lowercase letters."
   ]
  },
  {
   "cell_type": "markdown",
   "id": "f3119104",
   "metadata": {},
   "source": [
    "# brute force\n",
    "- here we care about the suffix not preffix. \n",
    "- so put all the words in the set.\n",
    "- for each word and each suffix check that is already availabe - if so remove it."
   ]
  },
  {
   "cell_type": "code",
   "execution_count": null,
   "id": "8857174d",
   "metadata": {},
   "outputs": [],
   "source": [
    "from typing import List\n",
    "\n",
    "class Solution:\n",
    "    def minimumLengthEncoding(self, words: List[str]) -> int:\n",
    "        words = set(words)  # remove duplicates\n",
    "        for word in list(words):\n",
    "            for k in range(1, len(word)):  # generate suffixes\n",
    "                suffix = word[k:]\n",
    "                if suffix in words:\n",
    "                    words.discard(suffix)  # remove suffix words\n",
    "        return sum(len(word) + 1 for word in words)\n",
    "\n",
    "\n",
    "# Generating all suffixes for each word: O(n × L²) where L = max word length\n",
    "# Total: O(n × L²)\n",
    "# Space: O(n × L) for storing words"
   ]
  },
  {
   "cell_type": "markdown",
   "id": "26db7a83",
   "metadata": {},
   "source": [
    "- If one word is a suffix of another, we don’t need to encode it separately.\n",
    "- A Trie (built on reversed words) naturally merges suffixes."
   ]
  },
  {
   "cell_type": "code",
   "execution_count": null,
   "id": "8524d050",
   "metadata": {},
   "outputs": [],
   "source": [
    "from typing import List\n",
    "\n",
    "class Node:\n",
    "    def __init__(self):\n",
    "        self.children = {}\n",
    "\n",
    "class Tries:\n",
    "    def __init__(self):\n",
    "        self.root = Node()\n",
    "\n",
    "    def insert(self, word: str) -> Node:\n",
    "        node = self.root\n",
    "        for ch in reversed(word):  # insert reversed word\n",
    "            if ch not in node.children:\n",
    "                node.children[ch] = Node()\n",
    "            node = node.children[ch]\n",
    "        return node  # return final node for this word\n",
    "\n",
    "\n",
    "class Solution:\n",
    "    def minimumLengthEncoding(self, words: List[str]) -> int:\n",
    "        trie = Tries()\n",
    "        nodes = {}  # map end-node → word length\n",
    "\n",
    "        # Insert each word\n",
    "        for word in set(words):  # remove duplicates\n",
    "            node = trie.insert(word)\n",
    "            nodes[node] = len(word) + 1  # +1 for '#'\n",
    "\n",
    "        # Sum length only for nodes that are leaves.\n",
    "        return sum(length for node, length in nodes.items() if not node.children)\n",
    "\n",
    "# n - number of words, l - avg lenght of the words.\n",
    "\n",
    "# Build Trie: each word inserted in reversed order → O(n × L)\n",
    "\n",
    "# Space: Trie stores all characters → O(n × L)\n",
    "\n",
    "# Final Sum: just checks children existence → O(n)\n"
   ]
  }
 ],
 "metadata": {
  "language_info": {
   "name": "python"
  }
 },
 "nbformat": 4,
 "nbformat_minor": 5
}
