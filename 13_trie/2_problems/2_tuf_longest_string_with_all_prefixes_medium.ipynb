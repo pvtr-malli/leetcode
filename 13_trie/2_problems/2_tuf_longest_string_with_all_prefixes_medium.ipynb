{
 "cells": [
  {
   "cell_type": "markdown",
   "id": "48724983",
   "metadata": {},
   "source": [
    "Problem Statement: Given an array of strings, 'A', of size 'N', each element being a string. A string is considered complete if every prefix of this string is also present in the array 'A'.\n",
    "\n",
    "Find the longest complete string in the array 'A'. If there are multiple strings with the same length, return the lexicographically smallest one. If no such string exists, return \"None\".\n",
    "\n",
    "Note: A string 'P' is lexicographically smaller than string 'Q' if:\n",
    "\n",
    "There exists some index 'i' such that for all 'j' < 'i', 'P[j] = Q[j]' and 'P[i] < Q[i]'. For example, \"apple\" < \"banana\".\n",
    "If 'P' is a prefix of the string 'Q', for instance, \"car\" < \"carriage\".\n",
    "Examples\n",
    "                Example 1:\n",
    "\t\t\t\tInput:Input Words: [‘apple’, ‘app’, ‘applet’]\t\t\n",
    "\t\t\t\t\n",
    "\t\t\t\tOutput: Complete String: ‘applet’\n",
    "\t\t\t\t\t\t\n",
    "\t\t\t\tExplanation: Create a Trie from the input words. \n",
    "\t\t\t\t\n",
    "\n",
    "\n",
    "\t\t\t\tFor each word check if all prefixes exist in the Trie.\n",
    "\t\t\t\t\n",
    "\n",
    "\n",
    "\t\t\t\tHence the complete string is “applet”.\t\t"
   ]
  },
  {
   "cell_type": "code",
   "execution_count": 4,
   "id": "d6348cf4",
   "metadata": {},
   "outputs": [],
   "source": [
    "class Node:\n",
    "    def __init__(self):\n",
    "        self.link = {}\n",
    "        self.prefix_count = 0\n",
    "        self.word_end_here = 0\n",
    "\n",
    "class Tries:\n",
    "    def __init__(self):\n",
    "        self.root = Node()\n",
    "\n",
    "    def insert(self, word):\n",
    "        cur_node = self.root\n",
    "        for char in word:\n",
    "            if char not in cur_node.link:\n",
    "                cur_node.link[char] = Node()\n",
    "            cur_node = cur_node.link[char]\n",
    "            cur_node.prefix_count += 1\n",
    "        \n",
    "        cur_node.word_end_here += 1\n",
    "    \n",
    "    def all_prefix_exixts(self, word):\n",
    "        cur_ndoe = self.root\n",
    "        for char in word[:-1]:\n",
    "            if not char in cur_ndoe.link:\n",
    "                return False \n",
    "            cur_ndoe = cur_ndoe.link[char]\n",
    "        \n",
    "        return True \n",
    "    \n",
    "\n",
    "class Solution:\n",
    "    def completeString(self, words):\n",
    "        tries = Tries()\n",
    "\n",
    "        for word in words:\n",
    "            tries.insert(word)\n",
    "\n",
    "        longest = \"\"\n",
    "        for word in words:\n",
    "            if tries.all_prefix_exixts(word):\n",
    "                if len(word) > len(longest):\n",
    "                    longest = word \n",
    "        \n",
    "        return longest\n"
   ]
  },
  {
   "cell_type": "code",
   "execution_count": 5,
   "id": "b281ca49",
   "metadata": {},
   "outputs": [
    {
     "data": {
      "text/plain": [
       "'applet'"
      ]
     },
     "execution_count": 5,
     "metadata": {},
     "output_type": "execute_result"
    }
   ],
   "source": [
    "Solution().completeString(['apple', 'app', 'applet']\t)"
   ]
  },
  {
   "cell_type": "code",
   "execution_count": null,
   "id": "fa143b79",
   "metadata": {},
   "outputs": [],
   "source": []
  }
 ],
 "metadata": {
  "kernelspec": {
   "display_name": "3.11.11",
   "language": "python",
   "name": "python3"
  },
  "language_info": {
   "codemirror_mode": {
    "name": "ipython",
    "version": 3
   },
   "file_extension": ".py",
   "mimetype": "text/x-python",
   "name": "python",
   "nbconvert_exporter": "python",
   "pygments_lexer": "ipython3",
   "version": "3.11.11"
  }
 },
 "nbformat": 4,
 "nbformat_minor": 5
}
