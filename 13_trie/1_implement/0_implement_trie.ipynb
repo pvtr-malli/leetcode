{
 "cells": [
  {
   "cell_type": "code",
   "execution_count": null,
   "id": "8fdf09c5",
   "metadata": {},
   "outputs": [],
   "source": [
    "# create the trie nodes\n",
    "# this is just a meta class, having the informations.\n",
    "class Node:\n",
    "    def __init__(self):\n",
    "        self.links = {}\n",
    "        self.prefix_count = 0\n",
    "        self.end_word_count = 0\n",
    "\n",
    "\n",
    "class Trie:\n",
    "    def __init__(self):\n",
    "        self.root = Node()\n",
    "\n",
    "    def insert(self, word):\n",
    "        # to insert a word, start from the root \n",
    "        cur = self.root\n",
    "        for char in word:\n",
    "            if char not in cur.links:\n",
    "                # which means the character is present in this node. insert\n",
    "                cur.links[char] = Node()\n",
    "\n",
    "            # Move on to that node,\n",
    "            cur: Node = cur.links[char]\n",
    "\n",
    "            # mark down we have a word which is having the prefix which you just got inserted.\n",
    "            cur.prefix_count += 1\n",
    "\n",
    "        # once the word is ended mark it, that the word got ended here.\n",
    "        cur.end_word_count += 1\n",
    "\n",
    "    def _loop_over_word(self, word):\n",
    "        cur = self.root\n",
    "\n",
    "        for char in word:\n",
    "            if char not in cur.links:\n",
    "                return False\n",
    "            cur = cur.links[char]\n",
    "\n",
    "    \n",
    "    def serch(self, word):\n",
    "        # search that the word present in the trie are not.\n",
    "        cur = self.root\n",
    "\n",
    "        for char in word:\n",
    "            if char not in cur.links:\n",
    "                return False\n",
    "            cur = cur.links[char]\n",
    "\n",
    "        # If this is > 0 means, a word actually got ended here. \n",
    "        return cur.end_word_count > 0 \n",
    "    \n",
    "    def count_words_equal_to(self, word):\n",
    "        # count how many words are there in the trie equal to the given one.\n",
    "        cur = self.root\n",
    "\n",
    "        for char in word:\n",
    "            if char not in cur.links:\n",
    "                return 0\n",
    "            cur = cur.links[char]\n",
    "\n",
    "        # If this is > 0 means, a word actually got ended here. \n",
    "        return cur.end_word_count\n",
    "    \n",
    "    def count_prefix(self, word):\n",
    "        # count how many words ahving the given prefix.\n",
    "        cur = self.root\n",
    "\n",
    "        for char in word:\n",
    "            if char not in cur.links:\n",
    "                return 0\n",
    "            cur = cur.links[char]\n",
    "\n",
    "        # If this is > 0 means, a word actually got ended here. \n",
    "        return cur.prefix_count\n",
    "    \n",
    "    \n",
    "    \n",
    "\n"
   ]
  },
  {
   "cell_type": "code",
   "execution_count": 40,
   "id": "c90f9da1",
   "metadata": {},
   "outputs": [],
   "source": [
    "trie = Trie()\n",
    "\n",
    "trie.insert(\"apple\")\n",
    "trie.insert(\"apple\")\n",
    "trie.insert(\"applee\")\n",
    "trie.insert(\"apc\")\n",
    "trie.insert(\"apps\")\n"
   ]
  },
  {
   "cell_type": "code",
   "execution_count": 41,
   "id": "196d9e2a",
   "metadata": {},
   "outputs": [
    {
     "data": {
      "text/plain": [
       "True"
      ]
     },
     "execution_count": 41,
     "metadata": {},
     "output_type": "execute_result"
    }
   ],
   "source": [
    "trie.serch(\"apple\")"
   ]
  },
  {
   "cell_type": "code",
   "execution_count": 42,
   "id": "6e774a09",
   "metadata": {},
   "outputs": [
    {
     "data": {
      "text/plain": [
       "False"
      ]
     },
     "execution_count": 42,
     "metadata": {},
     "output_type": "execute_result"
    }
   ],
   "source": [
    "trie.serch(\"ap\")"
   ]
  },
  {
   "cell_type": "code",
   "execution_count": 43,
   "id": "1474fb15",
   "metadata": {},
   "outputs": [
    {
     "data": {
      "text/plain": [
       "2"
      ]
     },
     "execution_count": 43,
     "metadata": {},
     "output_type": "execute_result"
    }
   ],
   "source": [
    "trie.count_words_equal_to(\"apple\")"
   ]
  },
  {
   "cell_type": "code",
   "execution_count": 44,
   "id": "3c9987c6",
   "metadata": {},
   "outputs": [
    {
     "data": {
      "text/plain": [
       "1"
      ]
     },
     "execution_count": 44,
     "metadata": {},
     "output_type": "execute_result"
    }
   ],
   "source": [
    "trie.count_words_equal_to(\"applee\")"
   ]
  },
  {
   "cell_type": "code",
   "execution_count": 45,
   "id": "1c82e195",
   "metadata": {},
   "outputs": [
    {
     "data": {
      "text/plain": [
       "5"
      ]
     },
     "execution_count": 45,
     "metadata": {},
     "output_type": "execute_result"
    }
   ],
   "source": [
    "trie.count_prefix(\"ap\")"
   ]
  },
  {
   "cell_type": "code",
   "execution_count": 46,
   "id": "176f4a4c",
   "metadata": {},
   "outputs": [
    {
     "data": {
      "text/plain": [
       "1"
      ]
     },
     "execution_count": 46,
     "metadata": {},
     "output_type": "execute_result"
    }
   ],
   "source": [
    "trie.count_prefix(\"apc\")"
   ]
  },
  {
   "cell_type": "code",
   "execution_count": 47,
   "id": "c249e2fc",
   "metadata": {},
   "outputs": [
    {
     "data": {
      "text/plain": [
       "0"
      ]
     },
     "execution_count": 47,
     "metadata": {},
     "output_type": "execute_result"
    }
   ],
   "source": [
    "trie.count_prefix(\"z\")"
   ]
  },
  {
   "cell_type": "code",
   "execution_count": null,
   "id": "3604b42c",
   "metadata": {},
   "outputs": [],
   "source": []
  }
 ],
 "metadata": {
  "kernelspec": {
   "display_name": "3.11.11",
   "language": "python",
   "name": "python3"
  },
  "language_info": {
   "codemirror_mode": {
    "name": "ipython",
    "version": 3
   },
   "file_extension": ".py",
   "mimetype": "text/x-python",
   "name": "python",
   "nbconvert_exporter": "python",
   "pygments_lexer": "ipython3",
   "version": "3.11.11"
  }
 },
 "nbformat": 4,
 "nbformat_minor": 5
}
