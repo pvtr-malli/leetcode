{
 "cells": [
  {
   "cell_type": "markdown",
   "id": "e79c6db7",
   "metadata": {},
   "source": []
  },
  {
   "cell_type": "markdown",
   "id": "c9ca01d2",
   "metadata": {},
   "source": [
    "- You reach 1 → happy number ✅\n",
    "- You see the same number again → loop detected ❌"
   ]
  },
  {
   "cell_type": "code",
   "execution_count": null,
   "id": "8ea5774c",
   "metadata": {},
   "outputs": [],
   "source": [
    "class Solution:\n",
    "    def isHappy(self, n: int) -> bool:\n",
    "        seen = set()\n",
    "        \n",
    "        while n != 1:\n",
    "            if n in seen:\n",
    "                return False\n",
    "            seen.add(n)\n",
    "            \n",
    "            total = 0\n",
    "            while n > 0:\n",
    "                digit = n % 10\n",
    "                total += digit * digit\n",
    "                n //= 10\n",
    "            n = total\n",
    "        \n",
    "        return True\n",
    "\n",
    "# tc -  O(log n) per step × number of steps until loop/1 → small in practice.\n",
    "# sc - O(number of unique numbers in sequence) — usually small (can be bounded by constant for this problem)."
   ]
  },
  {
   "cell_type": "markdown",
   "id": "e291def0",
   "metadata": {},
   "source": [
    "# observation is:\n",
    "- If a number is unhappy, it will eventually repeat numbers in the same cycle forever (e.g., 4 → 16 → 37 → 58 → 89 → 145 → 42 → 20 → 4 → ...).\n",
    "- how to detect a cycle ?\n",
    "- yesss slow and fast pointers.\n"
   ]
  },
  {
   "cell_type": "code",
   "execution_count": null,
   "id": "86553ee1",
   "metadata": {},
   "outputs": [],
   "source": [
    "class Solution:\n",
    "    def isHappy(self, n: int) -> bool:\n",
    "        def get_next(x):\n",
    "            total = 0\n",
    "            while x > 0:\n",
    "                digit = x % 10\n",
    "                total += digit * digit\n",
    "                x //= 10\n",
    "            return total\n",
    "        \n",
    "        slow = n\n",
    "        fast = get_next(n)\n",
    "        \n",
    "        while fast != 1 and slow != fast:\n",
    "            slow = get_next(slow)\n",
    "            fast = get_next(get_next(fast))\n",
    "        \n",
    "        return fast == 1\n",
    "\n",
    "# tc -  O(log n) per step × number of steps until loop/1 → small in practice.\n",
    "# sc - O(1)\n"
   ]
  },
  {
   "cell_type": "markdown",
   "id": "fbf09dc6",
   "metadata": {},
   "source": [
    "n = 19\n",
    "\n",
    "| Step | slow | fast |\n",
    "| ---- | ---- | ---- |\n",
    "| 1    | 19   | 82   |\n",
    "| 2    | 82   | 68   |\n",
    "| 3    | 68   | 1    |\n",
    "| ✅    | -    | -    |\n"
   ]
  }
 ],
 "metadata": {
  "language_info": {
   "name": "python"
  }
 },
 "nbformat": 4,
 "nbformat_minor": 5
}
