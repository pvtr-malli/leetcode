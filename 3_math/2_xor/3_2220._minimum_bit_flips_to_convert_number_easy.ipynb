{
 "cells": [
  {
   "cell_type": "markdown",
   "id": "96ca2eea",
   "metadata": {},
   "source": [
    "A bit flip of a number x is choosing a bit in the binary representation of x and flipping it from either 0 to 1 or 1 to 0.\n",
    "\n",
    "For example, for x = 7, the binary representation is 111 and we may choose any bit (including any leading zeros not shown) and flip it. We can flip the first bit from the right to get 110, flip the second bit from the right to get 101, flip the fifth bit from the right (a leading zero) to get 10111, etc.\n",
    "Given two integers start and goal, return the minimum number of bit flips to convert start to goal.\n",
    "\n",
    " \n",
    "\n",
    "Example 1:\n",
    "\n",
    "Input: start = 10, goal = 7\n",
    "Output: 3\n",
    "Explanation: The binary representation of 10 and 7 are 1010 and 0111 respectively. We can convert 10 to 7 in 3 steps:\n",
    "- Flip the first bit from the right: 1010 -> 1011.\n",
    "- Flip the third bit from the right: 1011 -> 1111.\n",
    "- Flip the fourth bit from the right: 1111 -> 0111.\n",
    "It can be shown we cannot convert 10 to 7 in less than 3 steps. Hence, we return 3.\n",
    "Example 2:\n",
    "\n",
    "Input: start = 3, goal = 4\n",
    "Output: 3\n",
    "Explanation: The binary representation of 3 and 4 are 011 and 100 respectively. We can convert 3 to 4 in 3 steps:\n",
    "- Flip the first bit from the right: 011 -> 010.\n",
    "- Flip the second bit from the right: 010 -> 000.\n",
    "- Flip the third bit from the right: 000 -> 100.\n",
    "It can be shown we cannot convert 3 to 4 in less than 3 steps. Hence, we return 3.\n",
    " \n",
    "\n",
    "Constraints:\n",
    "\n",
    "0 <= start, goal <= 109\n",
    " \n",
    "\n",
    "Note: This question is the same as 461: Hamming Distance."
   ]
  },
  {
   "cell_type": "code",
   "execution_count": null,
   "id": "4f0c4750",
   "metadata": {},
   "outputs": [],
   "source": [
    "class Solution:\n",
    "    def minBitFlips(self, start: int, goal: int) -> int:\n",
    "        # this will give us the bits which are different in both.\n",
    "        different_bits = start ^ goal\n",
    "\n",
    "        # Count the ones in the resulrs.\n",
    "        ans = 0\n",
    "        while different_bits != 0:\n",
    "            # add with 1 to get the last bit.\n",
    "            ans += different_bits & 1\n",
    "\n",
    "            # and move the different bits to right to delete that counted last number.\n",
    "            different_bits = different_bits >> 1\n",
    "        return ans \n",
    "    \n",
    "# tc -  is O(k), where k is the number of bits in the binary representation of the larger of the two numbers (start or goal).\n",
    "# sc - O(1)"
   ]
  },
  {
   "cell_type": "code",
   "execution_count": 2,
   "id": "2c392a57",
   "metadata": {},
   "outputs": [
    {
     "data": {
      "text/plain": [
       "3"
      ]
     },
     "execution_count": 2,
     "metadata": {},
     "output_type": "execute_result"
    }
   ],
   "source": [
    "Solution().minBitFlips(start = 10, goal = 7)"
   ]
  },
  {
   "cell_type": "code",
   "execution_count": null,
   "id": "22e8c3ff",
   "metadata": {},
   "outputs": [],
   "source": []
  }
 ],
 "metadata": {
  "kernelspec": {
   "display_name": "Python 3",
   "language": "python",
   "name": "python3"
  },
  "language_info": {
   "codemirror_mode": {
    "name": "ipython",
    "version": 3
   },
   "file_extension": ".py",
   "mimetype": "text/x-python",
   "name": "python",
   "nbconvert_exporter": "python",
   "pygments_lexer": "ipython3",
   "version": "3.11.11"
  }
 },
 "nbformat": 4,
 "nbformat_minor": 5
}
