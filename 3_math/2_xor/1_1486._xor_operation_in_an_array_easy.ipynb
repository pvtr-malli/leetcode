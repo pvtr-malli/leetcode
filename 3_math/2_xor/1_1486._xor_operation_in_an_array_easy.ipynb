{
 "cells": [
  {
   "cell_type": "markdown",
   "id": "97be2ef2",
   "metadata": {},
   "source": [
    "You are given an integer n and an integer start.\n",
    "\n",
    "Define an array nums where nums[i] = start + 2 * i (0-indexed) and n == nums.length.\n",
    "\n",
    "Return the bitwise XOR of all elements of nums.\n",
    "\n",
    " \n",
    "\n",
    "Example 1:\n",
    "\n",
    "Input: n = 5, start = 0\n",
    "Output: 8\n",
    "Explanation: Array nums is equal to [0, 2, 4, 6, 8] where (0 ^ 2 ^ 4 ^ 6 ^ 8) = 8.\n",
    "Where \"^\" corresponds to bitwise XOR operator.\n",
    "Example 2:\n",
    "\n",
    "Input: n = 4, start = 3\n",
    "Output: 8\n",
    "Explanation: Array nums is equal to [3, 5, 7, 9] where (3 ^ 5 ^ 7 ^ 9) = 8.\n",
    " \n",
    "\n",
    "Constraints:\n",
    "\n",
    "1 <= n <= 1000\n",
    "0 <= start <= 1000\n",
    "n == nums.length"
   ]
  },
  {
   "cell_type": "code",
   "execution_count": 1,
   "id": "716e52df",
   "metadata": {},
   "outputs": [],
   "source": [
    "class Solution:\n",
    "    def xorOperation(self, n: int, start: int) -> int:\n",
    "        result = 0\n",
    "        for i in range(n):\n",
    "            result ^= start + 2 * i\n",
    "        return result\n",
    "# just the stimulation which is given in the question.\n",
    "# tc - O(n)\n",
    "# sc - O(1)\n"
   ]
  },
  {
   "cell_type": "code",
   "execution_count": 2,
   "id": "1f054a95",
   "metadata": {},
   "outputs": [
    {
     "data": {
      "text/plain": [
       "8"
      ]
     },
     "execution_count": 2,
     "metadata": {},
     "output_type": "execute_result"
    }
   ],
   "source": [
    "Solution().xorOperation(n = 5, start = 0)"
   ]
  },
  {
   "cell_type": "code",
   "execution_count": null,
   "id": "31dd24d2",
   "metadata": {},
   "outputs": [],
   "source": [
    "# have to learn the tc-O(1) way"
   ]
  },
  {
   "cell_type": "code",
   "execution_count": 2,
   "id": "b01dde97",
   "metadata": {},
   "outputs": [
    {
     "data": {
      "text/plain": [
       "0"
      ]
     },
     "execution_count": 2,
     "metadata": {},
     "output_type": "execute_result"
    }
   ],
   "source": [
    "1 & 2\n"
   ]
  },
  {
   "cell_type": "code",
   "execution_count": null,
   "id": "88d5a59b",
   "metadata": {},
   "outputs": [],
   "source": []
  }
 ],
 "metadata": {
  "kernelspec": {
   "display_name": "3.11.11",
   "language": "python",
   "name": "python3"
  },
  "language_info": {
   "codemirror_mode": {
    "name": "ipython",
    "version": 3
   },
   "file_extension": ".py",
   "mimetype": "text/x-python",
   "name": "python",
   "nbconvert_exporter": "python",
   "pygments_lexer": "ipython3",
   "version": "3.11.11"
  }
 },
 "nbformat": 4,
 "nbformat_minor": 5
}
