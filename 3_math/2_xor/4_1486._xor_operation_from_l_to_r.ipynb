{
 "cells": [
  {
   "cell_type": "markdown",
   "id": "cc5b4aa6",
   "metadata": {},
   "source": [
    "find the XOR from L to R"
   ]
  },
  {
   "cell_type": "code",
   "execution_count": null,
   "id": "5c8a7c72",
   "metadata": {},
   "outputs": [],
   "source": [
    "# this is if the numbers are continues. \n",
    "\n",
    "class Solution:\n",
    "    def get_xor_from_0_n(self, n):\n",
    "        if n == 0:\n",
    "            return 0\n",
    "        if n % 4 == 0:\n",
    "            return n \n",
    "        if n % 4 == 1:\n",
    "            return 1\n",
    "        if n % 4 == 2:\n",
    "            return n + 1\n",
    "        if n % 4 == 3:\n",
    "            return 0\n",
    "        \n",
    "    def xorOperation(self, end: int, start: int) -> int:\n",
    "        return self.get_xor_from_0_n(end) ^ self.get_xor_from_0_n(start-1) # NOTE that is ^ bwt the numbers\n",
    "\n",
    "# tc - O(1) + O(1)\n",
    "# sc - O(1)"
   ]
  },
  {
   "cell_type": "code",
   "execution_count": 14,
   "id": "889317f3",
   "metadata": {},
   "outputs": [
    {
     "data": {
      "text/plain": [
       "2"
      ]
     },
     "execution_count": 14,
     "metadata": {},
     "output_type": "execute_result"
    }
   ],
   "source": [
    "Solution().xorOperation(end = 5, start = 3\n",
    "                        )"
   ]
  },
  {
   "cell_type": "code",
   "execution_count": 12,
   "id": "219cd355",
   "metadata": {},
   "outputs": [
    {
     "data": {
      "text/plain": [
       "1"
      ]
     },
     "execution_count": 12,
     "metadata": {},
     "output_type": "execute_result"
    }
   ],
   "source": [
    "Solution().xorOperation(end = 5, start = 1\n",
    "                        )"
   ]
  },
  {
   "cell_type": "code",
   "execution_count": 8,
   "id": "74b4eacd",
   "metadata": {},
   "outputs": [
    {
     "data": {
      "text/plain": [
       "2"
      ]
     },
     "execution_count": 8,
     "metadata": {},
     "output_type": "execute_result"
    }
   ],
   "source": [
    "3^4^5"
   ]
  },
  {
   "cell_type": "code",
   "execution_count": 9,
   "id": "1ffb05cb",
   "metadata": {},
   "outputs": [
    {
     "data": {
      "text/plain": [
       "3"
      ]
     },
     "execution_count": 9,
     "metadata": {},
     "output_type": "execute_result"
    }
   ],
   "source": [
    "1^2"
   ]
  },
  {
   "cell_type": "code",
   "execution_count": 10,
   "id": "f65a3c04",
   "metadata": {},
   "outputs": [
    {
     "data": {
      "text/plain": [
       "1"
      ]
     },
     "execution_count": 10,
     "metadata": {},
     "output_type": "execute_result"
    }
   ],
   "source": [
    "1^2^3^4^5"
   ]
  },
  {
   "cell_type": "code",
   "execution_count": null,
   "id": "c032b6de",
   "metadata": {},
   "outputs": [],
   "source": []
  }
 ],
 "metadata": {
  "kernelspec": {
   "display_name": "3.11.11",
   "language": "python",
   "name": "python3"
  },
  "language_info": {
   "codemirror_mode": {
    "name": "ipython",
    "version": 3
   },
   "file_extension": ".py",
   "mimetype": "text/x-python",
   "name": "python",
   "nbconvert_exporter": "python",
   "pygments_lexer": "ipython3",
   "version": "3.11.11"
  }
 },
 "nbformat": 4,
 "nbformat_minor": 5
}
