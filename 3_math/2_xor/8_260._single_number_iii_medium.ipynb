{
 "cells": [
  {
   "cell_type": "markdown",
   "id": "376a3a2c",
   "metadata": {},
   "source": [
    "Given an integer array nums, in which exactly two elements appear only once and all the other elements appear exactly twice. Find the two elements that appear only once. You can return the answer in any order.\n",
    "\n",
    "You must write an algorithm that runs in linear runtime complexity and uses only constant extra space.\n",
    "\n",
    " \n",
    "\n",
    "Example 1:\n",
    "\n",
    "Input: nums = [1,2,1,3,2,5]\n",
    "Output: [3,5]\n",
    "Explanation:  [5, 3] is also a valid answer.\n",
    "Example 2:\n",
    "\n",
    "Input: nums = [-1,0]\n",
    "Output: [-1,0]\n",
    "Example 3:\n",
    "\n",
    "Input: nums = [0,1]\n",
    "Output: [1,0]\n",
    " \n",
    "\n",
    "Constraints:\n",
    "\n",
    "2 <= nums.length <= 3 * 104\n",
    "-231 <= nums[i] <= 231 - 1\n",
    "Each integer in nums will appear twice, only two integers will appear once."
   ]
  },
  {
   "cell_type": "code",
   "execution_count": null,
   "id": "849cb516",
   "metadata": {},
   "outputs": [],
   "source": [
    "# brute force:\n",
    "# run 2 for loop, pick one number and count its frequencies.\n",
    "# add to result if it is add number of times came. \n",
    "# tc- O(n) * O(n)\n",
    "# sc - O(1)"
   ]
  },
  {
   "cell_type": "code",
   "execution_count": null,
   "id": "53ee2f65",
   "metadata": {},
   "outputs": [],
   "source": [
    "# brute force:\n",
    "# counter and find the ones which are appearing twice.\n",
    "# tc- O(n) + O(n)\n",
    "# sc - O(n)"
   ]
  },
  {
   "cell_type": "markdown",
   "id": "264b1a7b",
   "metadata": {},
   "source": [
    "\n",
    "1. XOR of all numbers = `x ^ y` (since duplicates cancel).\n",
    "2. Find a set bit in `x ^ y` → tells a position where `x` and `y` differ.\n",
    "x = 5  (0101)\n",
    "y = 6  (0110)\n",
    "x ^ y = 0011\n",
    "diff = 0001  (rightmost set bit)\n",
    "\n",
    "3. Split numbers into two groups based on that bit → `x` goes in one group, `y` in the other.\n",
    "4. XOR within each group cancels duplicates, leaving `x` and `y`.\n",
    "\n",
    "That’s why it works 🚀\n"
   ]
  },
  {
   "cell_type": "code",
   "execution_count": null,
   "id": "f9371374",
   "metadata": {},
   "outputs": [],
   "source": []
  },
  {
   "cell_type": "code",
   "execution_count": null,
   "id": "97870de3",
   "metadata": {},
   "outputs": [],
   "source": [
    "class Solution:\n",
    "    def singleNumber(self, nums: list[int]) -> list[int]:\n",
    "        # Find the whole xor.\n",
    "        xor = 0\n",
    "        for ele in nums:\n",
    "            xor ^= ele \n",
    "        \n",
    "        set_bit = 0\n",
    "        # Find the first set bit in it from the left.\n",
    "        for i in range(31):\n",
    "            if xor & 1 << i:\n",
    "                set_bit = i\n",
    "                break \n",
    "        \n",
    "        # Group the array into 2 parts, one having the set_bit set and another having hte set_bit not set.\n",
    "        # and xor the groups separately to get the 2 diffrent single numbers.\n",
    "        xor_set = 0\n",
    "        xor_unset = 0\n",
    "        for ele in nums:\n",
    "            # add the xor of set group.\n",
    "            if ele & (1 << set_bit):\n",
    "                xor_set ^= ele \n",
    "            else:\n",
    "                xor_unset ^= ele \n",
    "        \n",
    "        return [xor_set,xor_unset]\n",
    "    \n",
    "# tc O(n) + O(n)[grouping and finding xor]\n",
    "# sc O(1)\n"
   ]
  },
  {
   "cell_type": "code",
   "execution_count": 4,
   "id": "8658e862",
   "metadata": {},
   "outputs": [
    {
     "data": {
      "text/plain": [
       "[3, 5]"
      ]
     },
     "execution_count": 4,
     "metadata": {},
     "output_type": "execute_result"
    }
   ],
   "source": [
    "Solution().singleNumber(nums = [1,2,1,3,2,5])"
   ]
  },
  {
   "cell_type": "code",
   "execution_count": 5,
   "id": "b5e0d19a",
   "metadata": {},
   "outputs": [
    {
     "data": {
      "text/plain": [
       "[-1, 0]"
      ]
     },
     "execution_count": 5,
     "metadata": {},
     "output_type": "execute_result"
    }
   ],
   "source": [
    "Solution().singleNumber(nums = [-1,0])"
   ]
  },
  {
   "cell_type": "code",
   "execution_count": null,
   "id": "8a1a3c9d",
   "metadata": {},
   "outputs": [
    {
     "data": {
      "text/plain": [
       "[-2147483648, 0]"
      ]
     },
     "execution_count": 6,
     "metadata": {},
     "output_type": "execute_result"
    }
   ],
   "source": [
    "Solution().singleNumber([-1, 2147483647]) # NOTE: This fails for the negative number.\n",
    "# this fails in the place of finding right most set bit. \n",
    "# so using a trick for it,"
   ]
  },
  {
   "cell_type": "code",
   "execution_count": null,
   "id": "eed98748",
   "metadata": {},
   "outputs": [],
   "source": []
  },
  {
   "cell_type": "code",
   "execution_count": 3,
   "id": "0c4e6500",
   "metadata": {},
   "outputs": [],
   "source": [
    "class Solution:\n",
    "    def singleNumber(self, nums: list[int]) -> list[int]:\n",
    "        # Find the whole xor.\n",
    "        xor = 0\n",
    "        for ele in nums:\n",
    "            xor ^= ele \n",
    "        \n",
    "        set_bit = 0\n",
    "        # NOTE: Get the rightmost set bit (works even for negative numbers)\n",
    "        diff = xor & -xor\n",
    "        print(bin(diff))\n",
    "        \n",
    "        # Group the array into 2 parts, one having the set_bit set and another having hte set_bit not set.\n",
    "        # and xor the groups separately to get the 2 diffrent single numbers.\n",
    "        xor_set = 0\n",
    "        xor_unset = 0\n",
    "        for ele in nums:\n",
    "            # add the xor of set group.\n",
    "            if ele & diff:\n",
    "                xor_set ^= ele \n",
    "            else:\n",
    "                xor_unset ^= ele \n",
    "        \n",
    "        return [xor_set,xor_unset]\n",
    "    \n",
    "# tc O(n) + O(n)[grouping and finding xor]\n",
    "# sc O(1)\n"
   ]
  },
  {
   "cell_type": "code",
   "execution_count": 4,
   "id": "cb5f1060",
   "metadata": {},
   "outputs": [
    {
     "name": "stdout",
     "output_type": "stream",
     "text": [
      "0b10000000000000000000000000000000\n"
     ]
    },
    {
     "data": {
      "text/plain": [
       "[-1, 2147483647]"
      ]
     },
     "execution_count": 4,
     "metadata": {},
     "output_type": "execute_result"
    }
   ],
   "source": [
    "Solution().singleNumber([-1, 2147483647])"
   ]
  },
  {
   "cell_type": "code",
   "execution_count": 11,
   "id": "e8cbe72a",
   "metadata": {},
   "outputs": [
    {
     "data": {
      "text/plain": [
       "[160988123, 1063150409]"
      ]
     },
     "execution_count": 11,
     "metadata": {},
     "output_type": "execute_result"
    }
   ],
   "source": [
    "Solution().singleNumber([-1638685546,-2084083624,-307525016,-930251592,-1638685546,1354460680,623522045,-1370026032,-307525016,-2084083624,-930251592,472570145,-1370026032,1063150409,160988123,1122167217,1145305475,472570145,623522045,1122167217,1354460680,1145305475])"
   ]
  },
  {
   "cell_type": "code",
   "execution_count": null,
   "id": "34e52c6a",
   "metadata": {},
   "outputs": [],
   "source": []
  }
 ],
 "metadata": {
  "kernelspec": {
   "display_name": "3.11.11",
   "language": "python",
   "name": "python3"
  },
  "language_info": {
   "codemirror_mode": {
    "name": "ipython",
    "version": 3
   },
   "file_extension": ".py",
   "mimetype": "text/x-python",
   "name": "python",
   "nbconvert_exporter": "python",
   "pygments_lexer": "ipython3",
   "version": "3.11.11"
  }
 },
 "nbformat": 4,
 "nbformat_minor": 5
}
