{
 "cells": [
  {
   "cell_type": "markdown",
   "id": "a6e01654",
   "metadata": {},
   "source": [
    "Given an integer array nums, return the maximum result of nums[i] XOR nums[j], where 0 <= i <= j < n.\n",
    "\n",
    " \n",
    "\n",
    "Example 1:\n",
    "\n",
    "Input: nums = [3,10,5,25,2,8]\n",
    "Output: 28\n",
    "Explanation: The maximum result is 5 XOR 25 = 28.\n",
    "Example 2:\n",
    "\n",
    "Input: nums = [14,70,53,83,49,91,36,80,92,51,66,70]\n",
    "Output: 127\n",
    " \n",
    "\n",
    "Constraints:\n",
    "\n",
    "1 <= nums.length <= 2 * 105\n",
    "0 <= nums[i] <= 231 - 1"
   ]
  },
  {
   "cell_type": "code",
   "execution_count": 1,
   "id": "1a263906",
   "metadata": {},
   "outputs": [],
   "source": [
    "class Solution:\n",
    "    def findMaximumXOR(nums):\n",
    "        max_xor = 0\n",
    "        n = len(nums)\n",
    "        \n",
    "        for i in range(n):\n",
    "            for j in range(i, n):\n",
    "                xor_val = nums[i] ^ nums[j]\n",
    "                max_xor = max(max_xor, xor_val)\n",
    "        \n",
    "        return max_xor\n",
    "\n",
    "# tc - O(n^2)\n",
    "# sc - O(1)\n"
   ]
  },
  {
   "cell_type": "code",
   "execution_count": null,
   "id": "10503087",
   "metadata": {},
   "outputs": [],
   "source": [
    "# using tries:\n",
    "class TrieNode:\n",
    "    def __init__(self):\n",
    "        self.links = {}  # keys can be 0 or 1\n",
    "\n",
    "class Trie:\n",
    "    def __init__(self):\n",
    "        self.root = TrieNode()\n",
    "\n",
    "    def insert(self, number):\n",
    "        # convert the number into 32 bit and store it.\n",
    "        cur = self.root\n",
    "\n",
    "        for i in range(31, -1, -1):\n",
    "            # get the ith bit from the number.\n",
    "            bit = (number >> i) & 1\n",
    "\n",
    "            if bit not in cur.links:\n",
    "                cur.links[bit] = TrieNode()\n",
    "\n",
    "            cur = cur.links[bit]\n",
    "\n",
    "    def get_max_xor(self, num):\n",
    "        # search the tries for the oppposite bit of for all the bits.\n",
    "        # if found, take that in, if not take the same bit,\n",
    "        node = self.root\n",
    "        res = 0\n",
    "        for i in range(31, -1, -1):\n",
    "            bit = (num >> i) & 1\n",
    "            # 1 - 0 = 1 and 1 - 1= 0\n",
    "            opposite_bit = 1 - bit \n",
    "            if opposite_bit in node.links:\n",
    "                res |= (1 << i)\n",
    "                node = node.links[opposite_bit]\n",
    "            else:\n",
    "                node = node.links[bit]\n",
    "\n",
    "        return res\n",
    "\n",
    "class Solution:\n",
    "    def findMaximumXOR(self, nums: list[int]) -> int:                 \n",
    "        max_xor = 0\n",
    "        trie = Trie()\n",
    "        for num in nums:\n",
    "            trie.insert(num)\n",
    "        \n",
    "        for num in nums:\n",
    "            res = trie.get_max_xor(num)\n",
    "            max_xor = max(max_xor, res)\n",
    "\n",
    "        return max_xor\n",
    "\n",
    "# tc - O(n * 32)[inserting] + O(n * 32)[max finding] = O(n)\n",
    "# sc - O(n * 32) = O(n)"
   ]
  },
  {
   "cell_type": "code",
   "execution_count": 8,
   "id": "da0a9ab9",
   "metadata": {},
   "outputs": [
    {
     "data": {
      "text/plain": [
       "28"
      ]
     },
     "execution_count": 8,
     "metadata": {},
     "output_type": "execute_result"
    }
   ],
   "source": [
    "Solution().findMaximumXOR(nums = [3,10,5,25,2,8])"
   ]
  },
  {
   "cell_type": "code",
   "execution_count": 9,
   "id": "606f9589",
   "metadata": {},
   "outputs": [
    {
     "data": {
      "text/plain": [
       "127"
      ]
     },
     "execution_count": 9,
     "metadata": {},
     "output_type": "execute_result"
    }
   ],
   "source": [
    "Solution().findMaximumXOR(nums = [14,70,53,83,49,91,36,80,92,51,66,70])"
   ]
  },
  {
   "cell_type": "markdown",
   "id": "c72a9eb2",
   "metadata": {},
   "source": [
    "\n",
    "---\n",
    "\n",
    "### ✅ **Time Complexity**\n",
    "\n",
    "Let:\n",
    "\n",
    "* `n` = number of elements in the array\n",
    "* `L` = number of bits to represent the largest number (usually 32 for standard integers)\n",
    "\n",
    "#### 1. **Inserting all numbers into the trie**:\n",
    "\n",
    "* Each insert takes `O(L)` time\n",
    "* Total insertions: `O(n * L)`\n",
    "\n",
    "#### 2. **Finding max XOR for each number**:\n",
    "\n",
    "* Each lookup also takes `O(L)`\n",
    "* Total lookups: `O(n * L)`\n",
    "\n",
    "#### 📌 So overall:\n",
    "\n",
    "$$\n",
    "\\boxed{O(n \\cdot L)} \\quad \\text{(efficient since L = 32)}\n",
    "$$\n",
    "\n",
    "> ⚡ For 32-bit integers, this becomes effectively linear: `O(n)`\n",
    "\n",
    "---\n",
    "\n",
    "### ✅ **Space Complexity**\n",
    "\n",
    "Each TrieNode has at most 2 children (`0` and `1`), and for each number, we insert up to `L` nodes **only if they don’t already exist**.\n",
    "\n",
    "* In the **worst case** (all numbers are unique in binary representation), you insert `n * L` nodes.\n",
    "\n",
    "#### So worst-case space:\n",
    "\n",
    "$$\n",
    "\\boxed{O(n \\cdot L)}\n",
    "$$\n",
    "\n",
    "> Again, for 32-bit integers: $\\boxed{O(n)}$ effectively.\n",
    "\n",
    "---\n",
    "\n",
    "### 🔚 Summary:\n",
    "\n",
    "| Operation          | Complexity |\n",
    "| ------------------ | ---------- |\n",
    "| Time (Insert)      | O(n · L)   |\n",
    "| Time (Get Max XOR) | O(n · L)   |\n",
    "| Space              | O(n · L)   |\n",
    "\n"
   ]
  },
  {
   "cell_type": "markdown",
   "id": "9c4b92d1",
   "metadata": {},
   "source": [
    "# Since 32 bit is giving TLE error. reducing the bit to max bits available in the given array."
   ]
  },
  {
   "cell_type": "code",
   "execution_count": 10,
   "id": "01154287",
   "metadata": {},
   "outputs": [],
   "source": [
    "# using tries:\n",
    "class TrieNode:\n",
    "    def __init__(self):\n",
    "        self.links = {}  # keys can be 0 or 1\n",
    "\n",
    "class Trie:\n",
    "    def __init__(self, max_len):\n",
    "        self.root = TrieNode()\n",
    "        self.max_len = max_len\n",
    "\n",
    "    def insert(self, number):\n",
    "        # convert the number into 32 bit and store it.\n",
    "        cur = self.root\n",
    "\n",
    "        for i in range(self.max_len, -1, -1):\n",
    "            # get the ith bit from the number.\n",
    "            bit = (number >> i) & 1\n",
    "\n",
    "            if bit not in cur.links:\n",
    "                cur.links[bit] = TrieNode()\n",
    "\n",
    "            cur = cur.links[bit]\n",
    "\n",
    "    def get_max_xor(self, num):\n",
    "        # search the tries for the oppposite bit of for all the bits.\n",
    "        # if found, take that in, if not take the same bit,\n",
    "        node = self.root\n",
    "        res = 0\n",
    "        for i in range(self.max_len, -1, -1):\n",
    "            bit = (num >> i) & 1\n",
    "            # 1 - 0 = 1 and 1 - 1= 0\n",
    "            opposite_bit = 1 - bit \n",
    "            if opposite_bit in node.links:\n",
    "                res |= (1 << i)\n",
    "                node = node.links[opposite_bit]\n",
    "            else:\n",
    "                node = node.links[bit]\n",
    "\n",
    "        return res\n",
    "\n",
    "class Solution:\n",
    "    def findMaximumXOR(self, nums: list[int]) -> int:                 \n",
    "        max_xor = 0\n",
    "        max_len = len(bin(max(nums))) - 2             # get max length of all numbers' binary\n",
    "        trie = Trie(max_len)\n",
    "\n",
    "        for num in nums:\n",
    "            trie.insert(num)\n",
    "        \n",
    "        for num in nums:\n",
    "            res = trie.get_max_xor(num)\n",
    "            max_xor = max(max_xor, res)\n",
    "\n",
    "        return max_xor\n",
    "\n",
    "# tc - O(n * 32)[inserting] + O(n * 32)[max finding] = O(n)\n",
    "# sc - O(n * 32) = O(n)"
   ]
  },
  {
   "cell_type": "markdown",
   "id": "3654bc32",
   "metadata": {},
   "source": [
    "### gives a MLE error"
   ]
  },
  {
   "cell_type": "code",
   "execution_count": 11,
   "id": "1216c300",
   "metadata": {},
   "outputs": [
    {
     "data": {
      "text/plain": [
       "127"
      ]
     },
     "execution_count": 11,
     "metadata": {},
     "output_type": "execute_result"
    }
   ],
   "source": [
    "Solution().findMaximumXOR(nums = [14,70,53,83,49,91,36,80,92,51,66,70])"
   ]
  },
  {
   "cell_type": "code",
   "execution_count": null,
   "id": "3808bcf3",
   "metadata": {},
   "outputs": [],
   "source": [
    "class TrieNode:\n",
    "    def __init__(self):\n",
    "        self.children = {}\n",
    "        \n",
    "class Solution:\n",
    "    def __init__(self):\n",
    "        self.root = TrieNode()\n",
    "    \n",
    "    def insert_bits(self, num):\n",
    "        bit_num = bin(num)[2:].zfill(32)\n",
    "        node = self.root\n",
    "        for bit in bit_num:\n",
    "            if bit not in node.children:\n",
    "                node.children[bit] = TrieNode()\n",
    "            node = node.children[bit]\n",
    "    \n",
    "    \n",
    "    def find_max_xor(self, num):\n",
    "        bit_num = bin(num)[2:].zfill(32)\n",
    "        node = self.root\n",
    "        max_xor = ''\n",
    "        for bit in bit_num:\n",
    "            if bit == '0':\n",
    "                oppo_bit = '1'\n",
    "            elif bit == '1':\n",
    "                oppo_bit = '0'\n",
    "            \n",
    "            if oppo_bit in node.children:\n",
    "                max_xor += oppo_bit\n",
    "                node = node.children[oppo_bit]\n",
    "            else:\n",
    "                max_xor += bit\n",
    "                node = node.children[bit]\n",
    "        \n",
    "        return int(max_xor, 2) ^ num\n",
    "    \n",
    "    \n",
    "    def findMaximumXOR(self, nums: List[int]) -> int:\n",
    "        for num in nums:\n",
    "            self.insert_bits(num)\n",
    "        \n",
    "        max_ = 0\n",
    "        for num in nums:\n",
    "            max_ = max(max_, self.find_max_xor(num))\n",
    "            \n",
    "        return max_\n",
    "    \n",
    "# treating the bit as a string works."
   ]
  }
 ],
 "metadata": {
  "kernelspec": {
   "display_name": "3.11.11",
   "language": "python",
   "name": "python3"
  },
  "language_info": {
   "codemirror_mode": {
    "name": "ipython",
    "version": 3
   },
   "file_extension": ".py",
   "mimetype": "text/x-python",
   "name": "python",
   "nbconvert_exporter": "python",
   "pygments_lexer": "ipython3",
   "version": "3.11.11"
  }
 },
 "nbformat": 4,
 "nbformat_minor": 5
}
