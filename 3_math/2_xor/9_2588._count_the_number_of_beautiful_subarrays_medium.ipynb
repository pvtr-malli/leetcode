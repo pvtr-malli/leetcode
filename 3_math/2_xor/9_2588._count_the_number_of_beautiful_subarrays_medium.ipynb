{
 "cells": [
  {
   "cell_type": "markdown",
   "id": "1bc45166",
   "metadata": {},
   "source": [
    "You are given a 0-indexed integer array nums. In one operation, you can:\n",
    "\n",
    "Choose two different indices i and j such that 0 <= i, j < nums.length.\n",
    "Choose a non-negative integer k such that the kth bit (0-indexed) in the binary representation of nums[i] and nums[j] is 1.\n",
    "Subtract 2^k from nums[i] and nums[j].\n",
    "A subarray is beautiful if it is possible to make all of its elements equal to 0 after applying the above operation any number of times (including zero).\n",
    "\n",
    "Return the number of beautiful subarrays in the array nums.\n",
    "\n",
    "A subarray is a contiguous non-empty sequence of elements within an array.\n",
    "\n",
    "Note: Subarrays where all elements are initially 0 are considered beautiful, as no operation is needed.\n",
    "\n",
    " \n",
    "\n",
    "Example 1:\n",
    "\n",
    "Input: nums = [4,3,1,2,4]\n",
    "Output: 2\n",
    "Explanation: There are 2 beautiful subarrays in nums: [4,3,1,2,4] and [4,3,1,2,4].\n",
    "- We can make all elements in the subarray [3,1,2] equal to 0 in the following way:\n",
    "  - Choose [3, 1, 2] and k = 1. Subtract 2^1 from both numbers. The subarray becomes [1, 1, 0].\n",
    "  - Choose [1, 1, 0] and k = 0. Subtract 2^0 from both numbers. The subarray becomes [0, 0, 0].\n",
    "- We can make all elements in the subarray [4,3,1,2,4] equal to 0 in the following way:\n",
    "  - Choose [4, 3, 1, 2, 4] and k = 2. Subtract 2^2 from both numbers. The subarray becomes [0, 3, 1, 2, 0].\n",
    "  - Choose [0, 3, 1, 2, 0] and k = 0. Subtract 2^0 from both numbers. The subarray becomes [0, 2, 0, 2, 0].\n",
    "  - Choose [0, 2, 0, 2, 0] and k = 1. Subtract 2^1 from both numbers. The subarray becomes [0, 0, 0, 0, 0].\n",
    "Example 2:\n",
    "\n",
    "Input: nums = [1,10,4]\n",
    "Output: 0\n",
    "Explanation: There are no beautiful subarrays in nums.\n",
    " \n",
    "\n",
    "Constraints:\n",
    "\n",
    "1 <= nums.length <= 105\n",
    "0 <= nums[i] <= 106"
   ]
  },
  {
   "cell_type": "markdown",
   "id": "14a6bdde",
   "metadata": {},
   "source": [
    "### Coundn't think of a solution until see the first hint \n",
    "- A subarray is beautiful if its xor is equal to zero.\n",
    "- SO this is basically count the number of subarrays which are equal to 0."
   ]
  },
  {
   "cell_type": "code",
   "execution_count": null,
   "id": "2a54f1c2",
   "metadata": {},
   "outputs": [],
   "source": [
    "class Solution:\n",
    "    def beautifulSubarrays(self, nums: list[int]) -> int:\n",
    "        h = {}\n",
    "        xor = 0\n",
    "        count = 0\n",
    "        for ele in nums:\n",
    "            xor = ele ^ xor\n",
    "            # if that is present in the hash means, the bwt array elements are zero.\n",
    "            if xor in h:\n",
    "                count += h[xor]\n",
    "                h[xor] += 1\n",
    "\n",
    "            else:\n",
    "                h[xor] = 1\n",
    "            if xor == 0:\n",
    "                count += 1\n",
    "        return count\n",
    "    \n",
    "# average case of hash accessing key in hash is O(1).\n",
    "# tc - O(n)\n",
    "# sc - O(n)"
   ]
  },
  {
   "cell_type": "code",
   "execution_count": 14,
   "id": "d87d3a7e",
   "metadata": {},
   "outputs": [
    {
     "data": {
      "text/plain": [
       "2"
      ]
     },
     "execution_count": 14,
     "metadata": {},
     "output_type": "execute_result"
    }
   ],
   "source": [
    "Solution().beautifulSubarrays(nums = [4,3,1,2,4])"
   ]
  },
  {
   "cell_type": "code",
   "execution_count": 15,
   "id": "8710f5d3",
   "metadata": {},
   "outputs": [
    {
     "data": {
      "text/plain": [
       "0"
      ]
     },
     "execution_count": 15,
     "metadata": {},
     "output_type": "execute_result"
    }
   ],
   "source": [
    "Solution().beautifulSubarrays(nums = [1,10,4])"
   ]
  },
  {
   "cell_type": "code",
   "execution_count": 16,
   "id": "4b9900be",
   "metadata": {},
   "outputs": [
    {
     "data": {
      "text/plain": [
       "6"
      ]
     },
     "execution_count": 16,
     "metadata": {},
     "output_type": "execute_result"
    }
   ],
   "source": [
    "Solution().beautifulSubarrays([0,0,0])"
   ]
  },
  {
   "cell_type": "code",
   "execution_count": 17,
   "id": "44ce7bf6",
   "metadata": {},
   "outputs": [
    {
     "data": {
      "text/plain": [
       "4"
      ]
     },
     "execution_count": 17,
     "metadata": {},
     "output_type": "execute_result"
    }
   ],
   "source": [
    "Solution().beautifulSubarrays(nums = [4,3,1,2,4,4])"
   ]
  },
  {
   "cell_type": "code",
   "execution_count": null,
   "id": "900a5660",
   "metadata": {},
   "outputs": [],
   "source": []
  }
 ],
 "metadata": {
  "kernelspec": {
   "display_name": "Python 3",
   "language": "python",
   "name": "python3"
  },
  "language_info": {
   "codemirror_mode": {
    "name": "ipython",
    "version": 3
   },
   "file_extension": ".py",
   "mimetype": "text/x-python",
   "name": "python",
   "nbconvert_exporter": "python",
   "pygments_lexer": "ipython3",
   "version": "3.11.11"
  }
 },
 "nbformat": 4,
 "nbformat_minor": 5
}
