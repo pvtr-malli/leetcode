{
 "cells": [
  {
   "cell_type": "code",
   "execution_count": null,
   "id": "abc1656c",
   "metadata": {},
   "outputs": [],
   "source": [
    "class Solution:\n",
    "    def find_subarrays_with_xor_x(self, nums: list[int], k) -> int:\n",
    "        h = {}\n",
    "        xor = 0\n",
    "        count = 0\n",
    "        for ele in nums:\n",
    "            xor = ele ^ xor\n",
    "            # if xor^k is present in the hash means, the bwt array elements are making the xor k.\n",
    "            # [4, [2,2], ]\n",
    "            if xor^k in h:    # this is the only change form that,\n",
    "                count += h[xor^k]\n",
    "\n",
    "            # update the part.\n",
    "            if xor in h:\n",
    "                h[xor] += 1\n",
    "            else:\n",
    "                h[xor] = 1\n",
    "\n",
    "            if xor == k:\n",
    "                count += 1\n",
    "        return count\n",
    "    \n",
    "# average case of hash accessing key in hash is O(1).\n",
    "# tc - O(n)\n",
    "# sc - O(n)"
   ]
  },
  {
   "cell_type": "code",
   "execution_count": 4,
   "id": "662df114",
   "metadata": {},
   "outputs": [
    {
     "data": {
      "text/plain": [
       "4"
      ]
     },
     "execution_count": 4,
     "metadata": {},
     "output_type": "execute_result"
    }
   ],
   "source": [
    "Solution().find_subarrays_with_xor_x([4,2,2,6,4], k=6)"
   ]
  },
  {
   "cell_type": "markdown",
   "id": "3cd1b0c2",
   "metadata": {},
   "source": [
    "| Index | Element | Running XOR | xor ^ k | Found in h? | Count Update | h After Step       | Total Count |\n",
    "| ----- | ------- | ----------- | ------- | ----------- | ------------ | ------------------ | ----------- |\n",
    "| 0     | 4       | 4           | 2       | ❌           | –            | {4: 1}             | 0           |\n",
    "| 1     | 2       | 6           | 0       | ❌           | +1 (xor==k)  | {4: 1, 6: 1}       | 1           |\n",
    "| 2     | 2       | 4           | 2       | ❌           | –            | {4: 2, 6: 1}       | 1           |\n",
    "| 3     | 6       | 2           | 4       | ✅ h[4]=2    | +2           | {4: 2, 6: 1, 2: 1} | 3           |\n",
    "| 4     | 4       | 6           | 0       | ❌           | +1 (xor==k)  | {4: 2, 6: 2, 2: 1} | 4           |\n"
   ]
  },
  {
   "cell_type": "code",
   "execution_count": 7,
   "id": "e2cc14b5",
   "metadata": {},
   "outputs": [
    {
     "data": {
      "text/plain": [
       "2"
      ]
     },
     "execution_count": 7,
     "metadata": {},
     "output_type": "execute_result"
    }
   ],
   "source": [
    "6^4"
   ]
  },
  {
   "cell_type": "code",
   "execution_count": 8,
   "id": "9d1662e9",
   "metadata": {},
   "outputs": [
    {
     "data": {
      "text/plain": [
       "4"
      ]
     },
     "execution_count": 8,
     "metadata": {},
     "output_type": "execute_result"
    }
   ],
   "source": [
    "2^6"
   ]
  },
  {
   "cell_type": "code",
   "execution_count": 2,
   "id": "4af7420e",
   "metadata": {},
   "outputs": [
    {
     "name": "stdout",
     "output_type": "stream",
     "text": [
      "4\n",
      "6\n",
      "2\n"
     ]
    }
   ],
   "source": [
    "# 2 ^ 6 = 4 \n",
    "\n",
    "# # which is same as\n",
    "# 2 ^ 4 = 6\n",
    "\n",
    "print(2^6)\n",
    "print(2^4)\n",
    "print(4^6)"
   ]
  },
  {
   "cell_type": "code",
   "execution_count": null,
   "id": "0738e42b",
   "metadata": {},
   "outputs": [],
   "source": []
  }
 ],
 "metadata": {
  "kernelspec": {
   "display_name": "3.11.11",
   "language": "python",
   "name": "python3"
  },
  "language_info": {
   "codemirror_mode": {
    "name": "ipython",
    "version": 3
   },
   "file_extension": ".py",
   "mimetype": "text/x-python",
   "name": "python",
   "nbconvert_exporter": "python",
   "pygments_lexer": "ipython3",
   "version": "3.11.11"
  }
 },
 "nbformat": 4,
 "nbformat_minor": 5
}
