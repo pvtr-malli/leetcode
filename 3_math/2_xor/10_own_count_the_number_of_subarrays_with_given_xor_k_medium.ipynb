{
 "cells": [
  {
   "cell_type": "code",
   "execution_count": null,
   "id": "abc1656c",
   "metadata": {},
   "outputs": [],
   "source": [
    "class Solution:\n",
    "    def find_subarrays_with_xor_x(self, nums: list[int], k) -> int:\n",
    "        h = {}\n",
    "        xor = 0\n",
    "        count = 0\n",
    "        for ele in nums:\n",
    "            xor = ele ^ xor\n",
    "            # if xor^k is present in the hash means, the bwt array elements are making the xor k.\n",
    "            # []\n",
    "            if xor^k in h:    # this is the only change form that,\n",
    "                count += h[xor^k]\n",
    "            if xor in h:\n",
    "                h[xor] += 1\n",
    "            else:\n",
    "                h[xor] = 1\n",
    "\n",
    "            if xor == k:\n",
    "                count += 1\n",
    "        return count\n",
    "    \n",
    "# average case of hash accessing key in hash is O(1).\n",
    "# tc - O(n)\n",
    "# sc - O(n)"
   ]
  },
  {
   "cell_type": "code",
   "execution_count": 4,
   "id": "662df114",
   "metadata": {},
   "outputs": [
    {
     "data": {
      "text/plain": [
       "4"
      ]
     },
     "execution_count": 4,
     "metadata": {},
     "output_type": "execute_result"
    }
   ],
   "source": [
    "Solution().find_subarrays_with_xor_x([4,2,2,6,4], k=6)"
   ]
  },
  {
   "cell_type": "code",
   "execution_count": null,
   "id": "e2cc14b5",
   "metadata": {},
   "outputs": [],
   "source": []
  }
 ],
 "metadata": {
  "kernelspec": {
   "display_name": "Python 3",
   "language": "python",
   "name": "python3"
  },
  "language_info": {
   "codemirror_mode": {
    "name": "ipython",
    "version": 3
   },
   "file_extension": ".py",
   "mimetype": "text/x-python",
   "name": "python",
   "nbconvert_exporter": "python",
   "pygments_lexer": "ipython3",
   "version": "3.11.11"
  }
 },
 "nbformat": 4,
 "nbformat_minor": 5
}
