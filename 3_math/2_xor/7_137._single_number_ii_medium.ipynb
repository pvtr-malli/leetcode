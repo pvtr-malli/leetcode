{
 "cells": [
  {
   "cell_type": "markdown",
   "id": "1dd11859",
   "metadata": {},
   "source": [
    "Given an integer array nums where every element appears three times except for one, which appears exactly once. Find the single element and return it.\n",
    "\n",
    "You must implement a solution with a linear runtime complexity and use only constant extra space.\n",
    "\n",
    " \n",
    "\n",
    "Example 1:\n",
    "\n",
    "Input: nums = [2,2,3,2]\n",
    "Output: 3\n",
    "Example 2:\n",
    "\n",
    "Input: nums = [0,1,0,1,0,1,99]\n",
    "Output: 99\n",
    " \n",
    "\n",
    "Constraints:\n",
    "\n",
    "1 <= nums.length <= 3 * 104\n",
    "-231 <= nums[i] <= 231 - 1\n",
    "Each element in nums appears exactly three times except for one element which appears once."
   ]
  },
  {
   "cell_type": "code",
   "execution_count": null,
   "id": "db57d770",
   "metadata": {},
   "outputs": [],
   "source": [
    "# brute force:\n",
    "from collections import Counter\n",
    "class Solution:\n",
    "    def singleNumber(self, nums: list[int]) -> int:\n",
    "        c = Counter(nums)\n",
    "        for i, j in c.items():\n",
    "            if j == 1:\n",
    "                return i\n",
    "# tc - O(n) + O(n)\n",
    "# sc - O(n)"
   ]
  },
  {
   "cell_type": "code",
   "execution_count": null,
   "id": "ba3255fb",
   "metadata": {},
   "outputs": [],
   "source": [
    "class Solution:\n",
    "    def singleNumber(self, nums: list[int]) -> int:\n",
    "        result = 0\n",
    "        for i in range(32):\n",
    "            bit_sum = 0\n",
    "            for num in nums:\n",
    "                # Extract the i-th bit of num.\n",
    "                if (num >> i) & 1:\n",
    "                    # if the bit is set add them.\n",
    "                    bit_sum += 1\n",
    "\n",
    "            # If bit_sum % 3 != 0, then that bit is set in the result.\n",
    "            if bit_sum % 3 != 0:\n",
    "                result |= (1 << i)  # if that is set, then add the number ot the result.\n",
    "                # if 4th bit is set, then 1 << 4 => 10000 and or it with result\n",
    "                # 10000\n",
    "                # 00010 |\n",
    "                # 10010.  - rsults\n",
    "        \n",
    "        return result\n",
    "    \n",
    "\n",
    "# tc - O(32 * n) - O(n)\n"
   ]
  },
  {
   "cell_type": "code",
   "execution_count": 6,
   "id": "6e5d0477",
   "metadata": {},
   "outputs": [
    {
     "data": {
      "text/plain": [
       "3"
      ]
     },
     "execution_count": 6,
     "metadata": {},
     "output_type": "execute_result"
    }
   ],
   "source": [
    "Solution().singleNumber(nums = [2,2,3,2])"
   ]
  },
  {
   "cell_type": "code",
   "execution_count": 7,
   "id": "6864b832",
   "metadata": {},
   "outputs": [
    {
     "data": {
      "text/plain": [
       "4294967292"
      ]
     },
     "execution_count": 7,
     "metadata": {},
     "output_type": "execute_result"
    }
   ],
   "source": [
    "Solution().singleNumber([-2,-2,1,1,4,1,4,4,-4,-2])"
   ]
  },
  {
   "cell_type": "code",
   "execution_count": null,
   "id": "cecfb421",
   "metadata": {},
   "outputs": [],
   "source": [
    "\n",
    "# handle negative numbers.\n",
    "\n",
    "class Solution:\n",
    "    def singleNumber(self, nums: list[int]) -> int:\n",
    "        result = 0\n",
    "        for i in range(32):\n",
    "            bit_sum = 0\n",
    "            for num in nums:\n",
    "                # Extract the i-th bit of num.\n",
    "                if (num >> i) & 1:\n",
    "                    # if the bit is set add them.\n",
    "                    bit_sum += 1\n",
    "\n",
    "            # If bit_sum % 3 != 0, then that bit is set in the result.\n",
    "            if bit_sum % 3:\n",
    "                result |= (1 << i)  # if that is set, then add the number ot the result.\n",
    "                # if 4th bit is set, then 1 << 4 => 10000 and or it with result\n",
    "                # 10000\n",
    "                # 00010 |\n",
    "                # 10010.  - rsults\n",
    "        \n",
    "        # Handling negative numbers.\n",
    "        # in pythong negative numbers are mentioned used 2s compliment,\n",
    "        # so reducing it to not mis-intrepret.\n",
    "        print(result)\n",
    "        if result >= 2**31:    # 2 ** 31 is the possible positive number we can have in 32 bit.\n",
    "            # if the number is greater than that, its a negative number. so reduce 2**32 from it.\n",
    "            result -= 2**32\n",
    "            \n",
    "        return result\n",
    "\n",
    "\n",
    "# tc - O(32 * n) = O(n)\n",
    "# sc - O(1)"
   ]
  },
  {
   "cell_type": "code",
   "execution_count": 12,
   "id": "c1cef122",
   "metadata": {},
   "outputs": [
    {
     "name": "stdout",
     "output_type": "stream",
     "text": [
      "4294967292\n"
     ]
    },
    {
     "data": {
      "text/plain": [
       "-4"
      ]
     },
     "execution_count": 12,
     "metadata": {},
     "output_type": "execute_result"
    }
   ],
   "source": [
    "Solution().singleNumber([-2,-2,1,1,4,1,4,4,-4,-2])"
   ]
  },
  {
   "cell_type": "markdown",
   "id": "21c05f2e",
   "metadata": {},
   "source": [
    "Great question, Pavi! Let's dive into **why we check `if result >= 2**31`** in problems like **Leetcode 137 – Single Number II**.\n",
    "\n",
    "---\n",
    "\n",
    "### 📌 The Context\n",
    "\n",
    "In the bit manipulation solution, we simulate a **32-bit signed integer** using Python (which supports arbitrarily large integers).\n",
    "\n",
    "But here's the thing:\n",
    "\n",
    "> In a 32-bit signed integer, the **most significant bit (MSB)** is used for the **sign**:\n",
    "\n",
    "* `0` → non-negative\n",
    "* `1` → negative\n",
    "\n",
    "So:\n",
    "\n",
    "* The **largest positive 32-bit int** is:\n",
    "\n",
    "$$\n",
    "2^{31} - 1 = 2147483647\n",
    "$$\n",
    "\n",
    "* The **smallest negative 32-bit int** is:\n",
    "\n",
    "$$\n",
    "-2^{31} = -2147483648\n",
    "$$\n",
    "\n",
    "---\n",
    "\n",
    "### 🧠 Why `if result >= 2**31`?\n",
    "\n",
    "When reconstructing the number bit by bit, if the **31st bit** (MSB) is set, the result becomes:\n",
    "\n",
    "```python\n",
    "result >= 2**31 = 2147483648\n",
    "```\n",
    "\n",
    "But this value should actually be **negative**!\n",
    "\n",
    "---\n",
    "\n",
    "### 🔄 Fixing the Sign\n",
    "\n",
    "To convert this to the correct signed value, we do:\n",
    "\n",
    "```python\n",
    "result -= 2**32\n",
    "```\n",
    "\n",
    "This gives us the **2's complement negative value**.\n",
    "\n",
    "### ✏️ Example:\n",
    "\n",
    "```python\n",
    "result = 2147483648  # this means MSB is set → negative number\n",
    "\n",
    "result -= 2**32\n",
    "result = 2147483648 - 4294967296 = -2147483648\n",
    "```\n",
    "\n",
    "Now it's correctly represented as a **negative 32-bit signed integer**.\n",
    "\n",
    "---\n",
    "\n",
    "### ✅ Summary\n",
    "\n",
    "| Purpose                             | Expression        |\n",
    "| ----------------------------------- | ----------------- |\n",
    "| Check if result is negative (MSB=1) | `result >= 2**31` |\n",
    "| Convert to signed integer           | `result -= 2**32` |\n",
    "\n",
    "---\n",
    "\n",
    "Let me know if you want a visual explanation of 2’s complement too, Pavi!\n"
   ]
  },
  {
   "cell_type": "code",
   "execution_count": null,
   "id": "17e6e119",
   "metadata": {},
   "outputs": [
    {
     "ename": "SyntaxError",
     "evalue": "unterminated string literal (detected at line 1) (2961721251.py, line 1)",
     "output_type": "error",
     "traceback": [
      "  \u001b[36mCell\u001b[39m\u001b[36m \u001b[39m\u001b[32mIn[10]\u001b[39m\u001b[32m, line 1\u001b[39m\n\u001b[31m    \u001b[39m\u001b[31mGreat question, Pavi! Let's dive into **why we check `if result >= 2**31`** in problems like **Leetcode 137 – Single Number II**.\u001b[39m\n                             ^\n\u001b[31mSyntaxError\u001b[39m\u001b[31m:\u001b[39m unterminated string literal (detected at line 1)\n"
     ]
    }
   ],
   "source": []
  },
  {
   "cell_type": "code",
   "execution_count": null,
   "id": "fc5c1ce8",
   "metadata": {},
   "outputs": [],
   "source": []
  }
 ],
 "metadata": {
  "kernelspec": {
   "display_name": "3.11.11",
   "language": "python",
   "name": "python3"
  },
  "language_info": {
   "codemirror_mode": {
    "name": "ipython",
    "version": 3
   },
   "file_extension": ".py",
   "mimetype": "text/x-python",
   "name": "python",
   "nbconvert_exporter": "python",
   "pygments_lexer": "ipython3",
   "version": "3.11.11"
  }
 },
 "nbformat": 4,
 "nbformat_minor": 5
}
