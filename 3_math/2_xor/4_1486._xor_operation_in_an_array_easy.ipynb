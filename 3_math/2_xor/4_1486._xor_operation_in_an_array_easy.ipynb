{
 "cells": [
  {
   "cell_type": "markdown",
   "id": "cc5b4aa6",
   "metadata": {},
   "source": [
    "You are given an integer n and an integer start.\n",
    "\n",
    "Define an array nums where nums[i] = start + 2 * i (0-indexed) and n == nums.length.\n",
    "\n",
    "Return the bitwise XOR of all elements of nums.\n",
    "\n",
    " \n",
    "\n",
    "Example 1:\n",
    "\n",
    "Input: n = 5, start = 0\n",
    "Output: 8\n",
    "Explanation: Array nums is equal to [0, 2, 4, 6, 8] where (0 ^ 2 ^ 4 ^ 6 ^ 8) = 8.\n",
    "Where \"^\" corresponds to bitwise XOR operator.\n",
    "Example 2:\n",
    "\n",
    "Input: n = 4, start = 3\n",
    "Output: 8\n",
    "Explanation: Array nums is equal to [3, 5, 7, 9] where (3 ^ 5 ^ 7 ^ 9) = 8.\n",
    " \n",
    "\n",
    "Constraints:\n",
    "\n",
    "1 <= n <= 1000\n",
    "0 <= start <= 1000\n",
    "n == nums.length"
   ]
  },
  {
   "cell_type": "code",
   "execution_count": null,
   "id": "5c8a7c72",
   "metadata": {},
   "outputs": [],
   "source": [
    "# this is if the numbers are continues. \n",
    "\n",
    "class Solution:\n",
    "    def get_xor_from_0_n(self, n):\n",
    "        if n == 0:\n",
    "            return 0\n",
    "        if n % 4 == 0:\n",
    "            return n \n",
    "        if n % 4 == 1:\n",
    "            return 1\n",
    "        if n % 4 == 2:\n",
    "            return n + 1\n",
    "        if n % 4 == 3:\n",
    "            return 0\n",
    "        \n",
    "    def xorOperation(self, n: int, start: int) -> int:\n",
    "        return self.get_xor_from_0_n(n) - self.get_xor_from_0_n(start)\n",
    "\n",
    "# tc - O(1) + O(1)\n",
    "# sc - O(1)"
   ]
  },
  {
   "cell_type": "code",
   "execution_count": null,
   "id": "8ed9df7f",
   "metadata": {},
   "outputs": [],
   "source": [
    "# intution in the notebook. 29.\n",
    "from functools import reduce\n",
    "import operator\n",
    "\n",
    "class Solution:\n",
    "    def xorOperation(self, n: int, start: int) -> int:\n",
    "        has_second_bit_set = bool(start & 2)\n",
    "        end = start + 2*(n-1)\n",
    "        if has_second_bit_set:\n",
    "            remainder_ele_to_check = (n - 1) % 4\n",
    "        else:\n",
    "            remainder_ele_to_check = n % 4\n",
    "        \n",
    "        # This reduce is O(1) time and space because k < 4 \n",
    "        return (start*has_second_bit_set) ^ reduce(operator.xor, [end - 2*i for i in range(remainder_ele_to_check)], 0)\n",
    "    \n",
    "# tc - O(k) - k < 4 then O(1)\n",
    "# sc - O(1)"
   ]
  },
  {
   "cell_type": "code",
   "execution_count": 2,
   "id": "6d0e8ffc",
   "metadata": {},
   "outputs": [
    {
     "data": {
      "text/plain": [
       "8"
      ]
     },
     "execution_count": 2,
     "metadata": {},
     "output_type": "execute_result"
    }
   ],
   "source": [
    "Solution().xorOperation(n = 5, start = 0\n",
    "                        )"
   ]
  },
  {
   "cell_type": "code",
   "execution_count": null,
   "id": "74b4eacd",
   "metadata": {},
   "outputs": [],
   "source": []
  }
 ],
 "metadata": {
  "kernelspec": {
   "display_name": "Python 3",
   "language": "python",
   "name": "python3"
  },
  "language_info": {
   "codemirror_mode": {
    "name": "ipython",
    "version": 3
   },
   "file_extension": ".py",
   "mimetype": "text/x-python",
   "name": "python",
   "nbconvert_exporter": "python",
   "pygments_lexer": "ipython3",
   "version": "3.11.11"
  }
 },
 "nbformat": 4,
 "nbformat_minor": 5
}
