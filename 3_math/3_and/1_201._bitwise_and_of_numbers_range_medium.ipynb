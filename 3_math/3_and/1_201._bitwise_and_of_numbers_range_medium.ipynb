{
 "cells": [
  {
   "cell_type": "markdown",
   "id": "7c1f79ff",
   "metadata": {},
   "source": [
    "Given two integers left and right that represent the range [left, right], return the bitwise AND of all numbers in this range, inclusive.\n",
    "\n",
    " \n",
    "\n",
    "Example 1:\n",
    "\n",
    "Input: left = 5, right = 7\n",
    "Output: 4\n",
    "Example 2:\n",
    "\n",
    "Input: left = 0, right = 0\n",
    "Output: 0\n",
    "Example 3:\n",
    "\n",
    "Input: left = 1, right = 2147483647\n",
    "Output: 0\n",
    " \n",
    "\n",
    "Constraints:\n",
    "\n",
    "0 <= left <= right <= 231 - 1"
   ]
  },
  {
   "cell_type": "code",
   "execution_count": null,
   "id": "26bc175b",
   "metadata": {},
   "outputs": [],
   "source": [
    "class Solution:\n",
    "    def rangeBitwiseAnd(self, left: int, right: int) -> int:\n",
    "        if left == 0:\n",
    "            return 0\n",
    "        ans = left\n",
    "        for i in range(left + 1, right + 1):\n",
    "            ans &= i\n",
    "            # if any where in bwt the ans is cming to 0, then return it. since 0 & anything is gonna be 0.\n",
    "            if ans == 0:\n",
    "                return 0\n",
    "        return ans \n",
    "    \n",
    "# tc - O(n)\n",
    "# sc - O(1)\n",
    "\n",
    "\n",
    "# this will TLE on large inputs"
   ]
  },
  {
   "cell_type": "markdown",
   "id": "28709590",
   "metadata": {},
   "source": [
    "| Decimal | Binary |\n",
    "| ------- | ------ |\n",
    "| 1       | 0001   |\n",
    "| 2       | 0010   |\n",
    "| 3       | 0011   |\n",
    "| 4       | 0100   |\n",
    "| 5       | 0101   |\n",
    "| 6       | 0110   |\n",
    "| 7       | 0111   |\n",
    "| 8       | 1000   |\n",
    "| 9       | 1001   |\n",
    "| 10      | 1010   |\n",
    "\n",
    "\n",
    "- see when we are doing AND, the elements will becoming to zero from right.\n",
    "- so we need to find the prefix of right and left, because those are bits gonna be same at the end.\n",
    "- for 5- 7\n",
    "\n",
    "| Decimal | Binary |\n",
    "| ------- | ------ |\n",
    "| 5       | 0101   |\n",
    "| 6       | 0110   |\n",
    "| 7       | 0111   |\n",
    "\n",
    "- the prefix is 01. find this and return this as ans.\n"
   ]
  },
  {
   "cell_type": "markdown",
   "id": "4f4f3e71",
   "metadata": {},
   "source": [
    "🔑 Observation:\n",
    "If left ≠ right, the bitwise AND result will remove all bits that change between them.\n",
    "\n",
    "So we:\n",
    "\n",
    "Keep shifting both left and right rightward until they become equal. -- NOTE: this this the prefix.\n",
    "\n",
    "Count the number of shifts.\n",
    "\n",
    "Shift the result back left the same number of times.\n",
    "\n",
    "🧠 Intuition:\n",
    "Bitwise AND removes changing bits. So we only keep the common prefix of left and right."
   ]
  },
  {
   "cell_type": "code",
   "execution_count": null,
   "id": "e0bac254",
   "metadata": {},
   "outputs": [],
   "source": [
    "class Solution:\n",
    "    def rangeBitwiseAnd(self, left: int, right: int) -> int:\n",
    "        bit_position_wiped_from_left_and_right = 0\n",
    "        while left < right:\n",
    "            left >>= 1\n",
    "            right >>= 1 # NOTE: shifting both right until they are same is finding the prefix. \n",
    "            # once you found the prefix, like 01 for 5,6,7 (as explined above), you need to put that in hte right place. 01 << 2 = 0100 \n",
    "            bit_position_wiped_from_left_and_right += 1\n",
    "        return left << bit_position_wiped_from_left_and_right\n",
    "\n",
    "# tc - O(log(right - left))\n",
    "# sc - O(1)"
   ]
  },
  {
   "cell_type": "markdown",
   "id": "eb594585",
   "metadata": {},
   "source": [
    "Let’s take left = 5 (101), right = 7 (111)\n",
    "| Step | left     | right    | shift |\n",
    "| ---- | -------- | -------- | ----- |\n",
    "| 1    | 101 → 10 | 111 → 11 | 1     |\n",
    "| 2    | 10 → 1   | 11 → 1   | 2     |\n",
    "\n",
    "\n",
    "Now left == right == 1. So we shift back left by 2 → 1 << 2 = 4.\n",
    "\n",
    "Ans : 4"
   ]
  },
  {
   "cell_type": "code",
   "execution_count": 2,
   "id": "ccd05ed7",
   "metadata": {},
   "outputs": [
    {
     "data": {
      "text/plain": [
       "2"
      ]
     },
     "execution_count": 2,
     "metadata": {},
     "output_type": "execute_result"
    }
   ],
   "source": [
    "100 % 7"
   ]
  },
  {
   "cell_type": "code",
   "execution_count": null,
   "id": "5ca4a7c1",
   "metadata": {},
   "outputs": [],
   "source": []
  }
 ],
 "metadata": {
  "kernelspec": {
   "display_name": "3.11.11",
   "language": "python",
   "name": "python3"
  },
  "language_info": {
   "codemirror_mode": {
    "name": "ipython",
    "version": 3
   },
   "file_extension": ".py",
   "mimetype": "text/x-python",
   "name": "python",
   "nbconvert_exporter": "python",
   "pygments_lexer": "ipython3",
   "version": "3.11.11"
  }
 },
 "nbformat": 4,
 "nbformat_minor": 5
}
