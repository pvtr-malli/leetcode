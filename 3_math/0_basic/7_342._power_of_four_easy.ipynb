{
 "cells": [
  {
   "cell_type": "markdown",
   "id": "27a97aed",
   "metadata": {},
   "source": [
    "Given an integer n, return true if it is a power of four. Otherwise, return false.\n",
    "\n",
    "An integer n is a power of four, if there exists an integer x such that n == 4x.\n",
    "\n",
    " \n",
    "\n",
    "Example 1:\n",
    "\n",
    "Input: n = 16\n",
    "Output: true\n",
    "Example 2:\n",
    "\n",
    "Input: n = 5\n",
    "Output: false\n",
    "Example 3:\n",
    "\n",
    "Input: n = 1\n",
    "Output: true\n",
    " \n",
    "\n",
    "Constraints:\n",
    "\n",
    "-231 <= n <= 231 - 1\n",
    " \n",
    "\n",
    "Follow up: Could you solve it without loops/recursion?"
   ]
  },
  {
   "cell_type": "code",
   "execution_count": null,
   "id": "4daf0b93",
   "metadata": {},
   "outputs": [],
   "source": [
    "# brute force:\n",
    "# check that they are poewer of 2 or not using a while loop"
   ]
  },
  {
   "cell_type": "code",
   "execution_count": 1,
   "id": "309775e1",
   "metadata": {},
   "outputs": [],
   "source": [
    "# Every power of four is also a power of two, but not every power of two is a power of four.\n",
    "\n",
    "# Powers of four have exactly one bit set in the binary representation, and that bit is always at an odd position (1-based from the right).\n",
    "\n",
    "\n",
    "class Solution:\n",
    "    def isPowerOfFour(self, n: int) -> bool:\n",
    "        return n > 0 and (n & (n - 1)) == 0 and (n & 0x55555555) != 0\n",
    "\n",
    "\n",
    "# tc - O(1)\n",
    "# sc - O(1)"
   ]
  },
  {
   "cell_type": "code",
   "execution_count": 2,
   "id": "ccffaa1b",
   "metadata": {},
   "outputs": [
    {
     "data": {
      "text/plain": [
       "True"
      ]
     },
     "execution_count": 2,
     "metadata": {},
     "output_type": "execute_result"
    }
   ],
   "source": [
    "Solution().isPowerOfFour(16)"
   ]
  },
  {
   "cell_type": "code",
   "execution_count": 3,
   "id": "4ea994b2",
   "metadata": {},
   "outputs": [
    {
     "data": {
      "text/plain": [
       "False"
      ]
     },
     "execution_count": 3,
     "metadata": {},
     "output_type": "execute_result"
    }
   ],
   "source": [
    "Solution().isPowerOfFour(2)"
   ]
  },
  {
   "cell_type": "code",
   "execution_count": null,
   "id": "6e7ec251",
   "metadata": {},
   "outputs": [],
   "source": []
  }
 ],
 "metadata": {
  "kernelspec": {
   "display_name": "Python 3",
   "language": "python",
   "name": "python3"
  },
  "language_info": {
   "codemirror_mode": {
    "name": "ipython",
    "version": 3
   },
   "file_extension": ".py",
   "mimetype": "text/x-python",
   "name": "python",
   "nbconvert_exporter": "python",
   "pygments_lexer": "ipython3",
   "version": "3.11.11"
  }
 },
 "nbformat": 4,
 "nbformat_minor": 5
}
