{
 "cells": [
  {
   "cell_type": "markdown",
   "id": "617ce48d",
   "metadata": {},
   "source": [
    "Implement pow(x, n), which calculates x raised to the power n (i.e., xn).\n",
    "\n",
    " \n",
    "\n",
    "Example 1:\n",
    "\n",
    "Input: x = 2.00000, n = 10\n",
    "Output: 1024.00000\n",
    "Example 2:\n",
    "\n",
    "Input: x = 2.10000, n = 3\n",
    "Output: 9.26100\n",
    "Example 3:\n",
    "\n",
    "Input: x = 2.00000, n = -2\n",
    "Output: 0.25000\n",
    "Explanation: 2-2 = 1/22 = 1/4 = 0.25\n",
    " \n",
    "\n",
    "Constraints:\n",
    "\n",
    "-100.0 < x < 100.0\n",
    "-231 <= n <= 231-1\n",
    "n is an integer.\n",
    "Either x is not zero or n > 0.\n",
    "-104 <= xn <= 104"
   ]
  },
  {
   "cell_type": "code",
   "execution_count": null,
   "id": "d30d5976",
   "metadata": {},
   "outputs": [],
   "source": [
    "# approach: divide and conqure\n",
    "# if you multiply the base twice, you can reduce the power = power / 2.\n",
    "# if negative number:\n",
    "# 4 ^ -2 == 1/ 4^2\n",
    "\n",
    "class Solution:\n",
    "    def myPow(self, x,n):\n",
    "        ans = 1\n",
    "        negative = False\n",
    "        if n < 0 : n = -1 * n; negative = True\n",
    "        while n!=0:\n",
    "            \n",
    "            if n %2 == 0:\n",
    "                x = x * x\n",
    "                n = n//2\n",
    "            else:\n",
    "                ans = ans * x\n",
    "                n = n - 1 \n",
    "        if negative: return 1 / ans\n",
    "        return ans\n",
    "\n",
    "\n"
   ]
  },
  {
   "cell_type": "code",
   "execution_count": 12,
   "id": "7489fb5c",
   "metadata": {},
   "outputs": [
    {
     "data": {
      "text/plain": [
       "1024"
      ]
     },
     "execution_count": 12,
     "metadata": {},
     "output_type": "execute_result"
    }
   ],
   "source": [
    "Solution().myPow(2, 10)"
   ]
  },
  {
   "cell_type": "markdown",
   "id": "b2da41e4",
   "metadata": {},
   "source": [
    "# ⏱️ Time Complexity Explanation for myPow (Exponentiation by Squaring)\n",
    "\n",
    "## 🧠 Key Idea\n",
    "\n",
    "Every time the loop runs:\n",
    "\n",
    "- If `n` is **even**:\n",
    "  - Do: `x = x * x`\n",
    "  - And: `n = n // 2`\n",
    "\n",
    "- If `n` is **odd**:\n",
    "  - Do: `ans = ans * x`\n",
    "  - And: `n = n - 1`\n",
    "\n",
    "This process **reduces `n` by half in each step** (or subtracts 1 and then halves), so the number of iterations is approximately:\n",
    "\n",
    "### **O(log₂ n)**\n",
    "\n",
    "\n",
    "## ✅ Space Complexity: **O(1)**\n",
    "\n"
   ]
  },
  {
   "cell_type": "markdown",
   "id": "1553eb72",
   "metadata": {},
   "source": [
    "# 2 | Bit manupulation way:"
   ]
  },
  {
   "cell_type": "code",
   "execution_count": null,
   "id": "cd291359",
   "metadata": {},
   "outputs": [],
   "source": [
    "# explanatin in the notebook: page-12\n",
    "\n",
    "\n",
    "# 3^6 = 3^110 = (1*3^4) * (1 * 3^2) * (0 * 3^1)\n",
    "# that what I have simulated down.\n",
    "class Solution:\n",
    "    def myPow(self, x,n):\n",
    "        base = x \n",
    "        ans = 1\n",
    "        negative = False\n",
    "        if n < 0 : \n",
    "            n = -1 * n\n",
    "            negative = True\n",
    "        while n != 0:\n",
    "            print(n, ans)\n",
    "            last_bit = n & 1\n",
    "            n = n >> 1\n",
    "            # update the answeer\n",
    "            if last_bit: \n",
    "                ans *= base\n",
    "\n",
    "            # increase the base\n",
    "            base = base * base \n",
    "\n",
    "        if negative: return 1 / ans\n",
    "        return ans\n",
    "\n",
    "\n",
    "# tc - O(log n)\n",
    "# The number of iterations = number of bits in n.\n",
    "\n",
    "# For n = 5, binary has 3 bits → 3 iterations.\n",
    "\n",
    "# For n = 1000, binary has ~10 bits → 10 iterations.\n",
    "\n",
    "# So the number of steps is proportional to log₂(n) ⇒\n",
    "# Time Complexity = O(log n)\n",
    "\n",
    "\n",
    "# sc - O(1)"
   ]
  },
  {
   "cell_type": "code",
   "execution_count": 17,
   "id": "1a6d134f",
   "metadata": {},
   "outputs": [
    {
     "name": "stdout",
     "output_type": "stream",
     "text": [
      "2 1\n",
      "1 1\n"
     ]
    },
    {
     "data": {
      "text/plain": [
       "0.25"
      ]
     },
     "execution_count": 17,
     "metadata": {},
     "output_type": "execute_result"
    }
   ],
   "source": [
    "Solution().myPow(x = 2.00000, n = -2)"
   ]
  },
  {
   "cell_type": "code",
   "execution_count": 18,
   "id": "f8a120d2",
   "metadata": {},
   "outputs": [
    {
     "name": "stdout",
     "output_type": "stream",
     "text": [
      "10 1\n",
      "5 1\n",
      "2 4.0\n",
      "1 4.0\n"
     ]
    },
    {
     "data": {
      "text/plain": [
       "1024.0"
      ]
     },
     "execution_count": 18,
     "metadata": {},
     "output_type": "execute_result"
    }
   ],
   "source": [
    "Solution().myPow(x = 2.00000, n = 10)"
   ]
  },
  {
   "cell_type": "markdown",
   "id": "5cbc4e49",
   "metadata": {},
   "source": []
  }
 ],
 "metadata": {
  "kernelspec": {
   "display_name": "3.11.11",
   "language": "python",
   "name": "python3"
  },
  "language_info": {
   "codemirror_mode": {
    "name": "ipython",
    "version": 3
   },
   "file_extension": ".py",
   "mimetype": "text/x-python",
   "name": "python",
   "nbconvert_exporter": "python",
   "pygments_lexer": "ipython3",
   "version": "3.11.11"
  }
 },
 "nbformat": 4,
 "nbformat_minor": 5
}
