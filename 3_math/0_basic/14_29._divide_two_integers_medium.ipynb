{
 "cells": [
  {
   "cell_type": "markdown",
   "id": "a6fd5e0b",
   "metadata": {},
   "source": [
    "Given two integers dividend and divisor, divide two integers without using multiplication, division, and mod operator.\n",
    "\n",
    "The integer division should truncate toward zero, which means losing its fractional part. For example, 8.345 would be truncated to 8, and -2.7335 would be truncated to -2.\n",
    "\n",
    "Return the quotient after dividing dividend by divisor.\n",
    "\n",
    "Note: Assume we are dealing with an environment that could only store integers within the 32-bit signed integer range: [−231, 231 − 1]. For this problem, if the quotient is strictly greater than 231 - 1, then return 231 - 1, and if the quotient is strictly less than -231, then return -231.\n",
    "\n",
    " \n",
    "\n",
    "Example 1:\n",
    "\n",
    "Input: dividend = 10, divisor = 3\n",
    "Output: 3\n",
    "Explanation: 10/3 = 3.33333.. which is truncated to 3.\n",
    "Example 2:\n",
    "\n",
    "Input: dividend = 7, divisor = -3\n",
    "Output: -2\n",
    "Explanation: 7/-3 = -2.33333.. which is truncated to -2.\n",
    " \n",
    "\n",
    "Constraints:\n",
    "\n",
    "-231 <= dividend, divisor <= 231 - 1\n",
    "divisor != 0"
   ]
  },
  {
   "cell_type": "code",
   "execution_count": 1,
   "id": "3b37f80b",
   "metadata": {},
   "outputs": [],
   "source": [
    "class Solution:\n",
    "    def divide(self, dividend: int, divisor: int) -> int:\n",
    "        # Constants for 32-bit signed int range\n",
    "        INT_MAX = 2**31 - 1\n",
    "        INT_MIN = -2**31\n",
    "\n",
    "        # Handle edge case where result would overflow\n",
    "        if dividend == INT_MIN and divisor == -1:\n",
    "            return INT_MAX\n",
    "\n",
    "        # Determine the sign of the result.\n",
    "        # if either of them or negative, tehn the output is negative.\n",
    "        # if both of them are negative, then pasitive,\n",
    "\n",
    "        negative = (dividend < 0) != (divisor < 0)\n",
    "\n",
    "        # Work with positive numbers\n",
    "        dividend = abs(dividend)\n",
    "        divisor = abs(divisor)\n",
    "\n",
    "        # If the divisor is 1, then just return the diviend.\n",
    "        if divisor == 1:\n",
    "            return -dividend if negative else quotient\n",
    "\n",
    "        quotient = 0\n",
    "        while dividend >= divisor:\n",
    "            dividend -= divisor\n",
    "            quotient += 1\n",
    "\n",
    "        return -quotient if negative else quotient\n",
    "    \n",
    "# | Metric | Value                                   |\n",
    "# | ------ | --------------------------------------- |\n",
    "# | Time   | O(dividend / divisor) – worst case O(n) |\n",
    "# | Space  | O(1)                                    |\n",
    "\n",
    "\n",
    "\n",
    "# the problem is:\n",
    "# when diviend is 1M and divisor is 2. \n",
    "# then it loops 5Lacks time."
   ]
  },
  {
   "cell_type": "code",
   "execution_count": 2,
   "id": "768e49e7",
   "metadata": {},
   "outputs": [
    {
     "data": {
      "text/plain": [
       "3"
      ]
     },
     "execution_count": 2,
     "metadata": {},
     "output_type": "execute_result"
    }
   ],
   "source": [
    "Solution().divide(dividend = 10, divisor = 3)"
   ]
  },
  {
   "cell_type": "code",
   "execution_count": null,
   "id": "1a4501b3",
   "metadata": {},
   "outputs": [],
   "source": [
    "class Solution:\n",
    "    def divide(self, dividend: int, divisor: int) -> int:\n",
    "        INT_MAX = 2**31 - 1\n",
    "        INT_MIN = -2**31\n",
    "\n",
    "        # Handle overflow case\n",
    "        if dividend == INT_MIN and divisor == -1:\n",
    "            return INT_MAX\n",
    "        \n",
    "        # Determine the sign of the result.\n",
    "        # if either of them or negative, tehn the output is negative.\n",
    "        # if both of them are negative, then pasitive,\n",
    "        negative = (dividend < 0) != (divisor < 0)\n",
    "\n",
    "        # Work with the abs values.\n",
    "        dividend = abs(dividend)     \n",
    "        # to convert any number to possite add its doubt to it. ex: -4 + (-4 * -4) = -4 + ((16) - (2 * 4))\n",
    "        divisor = abs(divisor)\n",
    "\n",
    "        quotient = 0\n",
    "\n",
    "        while dividend >= divisor:\n",
    "            # See how much quent we can get using doubling the divisor.\n",
    "            current_divisor = divisor\n",
    "            power_of_two = 1\n",
    "\n",
    "            while dividend >= (current_divisor << 1):\n",
    "                current_divisor <<= 1\n",
    "                power_of_two <<= 1   # we are tracking how many divisors making the current divisor.\n",
    "            \n",
    "            # Subtract the largest found chunk.\n",
    "            dividend -= current_divisor\n",
    "            quotient += power_of_two\n",
    "        \n",
    "        # Apply the sign\n",
    "        return -quotient if negative else quotient\n",
    "\n",
    "# ⏱ Time Complexity\n",
    "# O(log n) — since we’re doubling (current_divisor <<= 1) each time.\n",
    "\n",
    "# Space: O(1)\n",
    "        "
   ]
  },
  {
   "cell_type": "markdown",
   "id": "c9c31061",
   "metadata": {},
   "source": [
    "| Iteration | Dividend | Max Multiple of Divisor (3×2^k) | current\\_divisor | power\\_of\\_two (contributes to quotient) | New Dividend | Total Quotient |\n",
    "| --------- | -------- | ------------------------------- | ---------------- | ---------------------------------------- | ------------ | -------------- |\n",
    "| 1         | 43       | 3 × 8 = 24                      | 24               | 8                                        | 43 − 24 = 19 | 8              |\n",
    "| 2         | 19       | 3 × 4 = 12                      | 12               | 4                                        | 19 − 12 = 7  | 8 + 4 = 12     |\n",
    "| 3         | 7        | 3 × 2 = 6                       | 6                | 2                                        | 7 − 6 = 1    | 12 + 2 = 14    |\n",
    "| 4         | 1        | 3 × 1 = 3 > 1 → Skip            | —                | —                                        | —            | 14 (final)     |\n"
   ]
  },
  {
   "cell_type": "code",
   "execution_count": 4,
   "id": "419aa3e1",
   "metadata": {},
   "outputs": [
    {
     "data": {
      "text/plain": [
       "3"
      ]
     },
     "execution_count": 4,
     "metadata": {},
     "output_type": "execute_result"
    }
   ],
   "source": [
    "Solution().divide(dividend = 10, divisor = 3)"
   ]
  },
  {
   "cell_type": "code",
   "execution_count": null,
   "id": "e13e166d",
   "metadata": {},
   "outputs": [],
   "source": [
    "# More better solution: Try out all the shifts\n",
    "\n",
    "class Solution:\n",
    "    def divide(self, dividend: int, divisor: int) -> int:\n",
    "        # Edge case: overflow for -2^31 / -1 (which is 2^31, but not allowed in 32-bit signed)\n",
    "        if dividend == -2**31 and divisor == -1:\n",
    "            return (2**31) - 1  # INT_MAX\n",
    "\n",
    "        # Determine sign of the result\n",
    "        is_negative = (dividend < 0) != (divisor < 0)\n",
    "\n",
    "        # Work with positive values\n",
    "        dividend = abs(dividend)\n",
    "        divisor = abs(divisor)\n",
    "\n",
    "        quotient = 0\n",
    "\n",
    "        # Check every bit from 31 down to 0\n",
    "        for i in range(31, -1, -1):\n",
    "            # (dividend >> i) means dividend // (2^i)\n",
    "            if (dividend >> i) >= divisor:\n",
    "                quotient += (1 << i)          # Add 2^i to the quotient\n",
    "                dividend -= (divisor << i)    # Subtract divisor * 2^i from dividend\n",
    "\n",
    "        return -quotient if is_negative else quotient\n",
    "\n",
    "\n",
    "# tc - O(1) [only 31 iterations]\n",
    "# sc - O(1)"
   ]
  },
  {
   "cell_type": "markdown",
   "id": "77f1a64e",
   "metadata": {},
   "source": [
    "Let’s walk through one iteration manually (just the key ones):\n",
    "\n",
    "\n",
    "| i | (dividend >> i) | divisor | Check: `dividend >> i >= divisor` | quotient add | dividend subtract |\n",
    "| - | --------------- | ------- | --------------------------------- | ------------ | ----------------- |\n",
    "| 4 | 43 >> 4 = 2     | 3       | No                                | -            | -                 |\n",
    "| 3 | 43 >> 3 = 5     | 3       | Yes                               | +8 (1<<3)    | 43 - (3×8) = 19   |\n",
    "| 2 | 19 >> 2 = 4     | 3       | Yes                               | +4 (1<<2)    | 19 - (3×4) = 7    |\n",
    "| 1 | 7 >> 1 = 3      | 3       | Yes                               | +2 (1<<1)    | 7 - (3×2) = 1     |\n",
    "| 0 | 1 >> 0 = 1      | 3       | No                                | -            | -                 |\n"
   ]
  },
  {
   "cell_type": "code",
   "execution_count": null,
   "id": "3dd44841",
   "metadata": {},
   "outputs": [],
   "source": []
  }
 ],
 "metadata": {
  "kernelspec": {
   "display_name": "3.11.11",
   "language": "python",
   "name": "python3"
  },
  "language_info": {
   "codemirror_mode": {
    "name": "ipython",
    "version": 3
   },
   "file_extension": ".py",
   "mimetype": "text/x-python",
   "name": "python",
   "nbconvert_exporter": "python",
   "pygments_lexer": "ipython3",
   "version": "3.11.11"
  }
 },
 "nbformat": 4,
 "nbformat_minor": 5
}
