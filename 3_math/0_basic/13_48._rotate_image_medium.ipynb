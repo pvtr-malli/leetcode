{
 "cells": [
  {
   "cell_type": "markdown",
   "id": "571b3268",
   "metadata": {},
   "source": [
    "You are given an n x n 2D matrix representing an image, rotate the image by 90 degrees (clockwise).\n",
    "\n",
    "You have to rotate the image in-place, which means you have to modify the input 2D matrix directly. DO NOT allocate another 2D matrix and do the rotation.\n",
    "\n",
    " \n",
    "\n",
    "Example 1:\n",
    "\n",
    "\n",
    "Input: matrix = [[1,2,3],[4,5,6],[7,8,9]]\n",
    "Output: [[7,4,1],[8,5,2],[9,6,3]]\n",
    "Example 2:\n",
    "\n",
    "\n",
    "Input: matrix = [[5,1,9,11],[2,4,8,10],[13,3,6,7],[15,14,12,16]]\n",
    "Output: [[15,13,2,5],[14,3,4,1],[12,6,8,9],[16,7,10,11]]\n",
    " \n",
    "\n",
    "Constraints:\n",
    "\n",
    "n == matrix.length == matrix[i].length\n",
    "1 <= n <= 20\n",
    "-1000 <= matrix[i][j] <= 1000"
   ]
  },
  {
   "cell_type": "code",
   "execution_count": null,
   "id": "937fcf98",
   "metadata": {},
   "outputs": [],
   "source": [
    "class Solution:\n",
    "    def rotate(self, matrix: list[list[int]]) -> None:\n",
    "        \"\"\"\n",
    "        Do not return anything, modify matrix in-place instead.\n",
    "        \"\"\"\n",
    "        n = len(matrix)\n",
    "\n",
    "        # Transpose the matrix.\n",
    "        for row in range(n):\n",
    "            for col in range(row+1, n):  # no use of swapping i,i\n",
    "                matrix[row][col], matrix[col][row] = matrix[col][row], matrix[row][col]\n",
    "\n",
    "        \n",
    "        # reverse the row using the 2 pointers,\n",
    "        for row in range(n):\n",
    "            start = 0\n",
    "            end = n - 1\n",
    "            while start < end:\n",
    "                matrix[row][start], matrix[row][end] = matrix[row][end], matrix[row][start]\n",
    "                start += 1\n",
    "                end -= 1\n",
    "        print(matrix)\n",
    "\n",
    "# tc - O(n^2)[transpose] + O(n^2) [reversing]\n",
    "# sc - O(1)\n",
    "        "
   ]
  },
  {
   "cell_type": "code",
   "execution_count": 4,
   "id": "20e1a74c",
   "metadata": {},
   "outputs": [
    {
     "name": "stdout",
     "output_type": "stream",
     "text": [
      "[[7, 4, 1], [8, 5, 2], [9, 6, 3]]\n"
     ]
    }
   ],
   "source": [
    "Solution().rotate(matrix = [[1,2,3],[4,5,6],[7,8,9]])"
   ]
  },
  {
   "cell_type": "code",
   "execution_count": null,
   "id": "e85ad5cc",
   "metadata": {},
   "outputs": [],
   "source": []
  }
 ],
 "metadata": {
  "kernelspec": {
   "display_name": "Python 3",
   "language": "python",
   "name": "python3"
  },
  "language_info": {
   "codemirror_mode": {
    "name": "ipython",
    "version": 3
   },
   "file_extension": ".py",
   "mimetype": "text/x-python",
   "name": "python",
   "nbconvert_exporter": "python",
   "pygments_lexer": "ipython3",
   "version": "3.11.11"
  }
 },
 "nbformat": 4,
 "nbformat_minor": 5
}
