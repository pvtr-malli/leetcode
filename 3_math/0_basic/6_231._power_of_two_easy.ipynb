{
 "cells": [
  {
   "cell_type": "markdown",
   "id": "8c90091c",
   "metadata": {},
   "source": [
    "Given an integer n, return true if it is a power of two. Otherwise, return false.\n",
    "\n",
    "An integer n is a power of two, if there exists an integer x such that n == 2x.\n",
    "\n",
    " \n",
    "\n",
    "Example 1:\n",
    "\n",
    "Input: n = 1\n",
    "Output: true\n",
    "Explanation: 20 = 1\n",
    "Example 2:\n",
    "\n",
    "Input: n = 16\n",
    "Output: true\n",
    "Explanation: 24 = 16\n",
    "Example 3:\n",
    "\n",
    "Input: n = 3\n",
    "Output: false\n",
    " \n",
    "\n",
    "Constraints:\n",
    "\n",
    "-231 <= n <= 231 - 1\n",
    " \n",
    "\n",
    "Follow up: Could you solve it without loops/recursion?"
   ]
  },
  {
   "cell_type": "code",
   "execution_count": null,
   "id": "5e4a91ad",
   "metadata": {},
   "outputs": [],
   "source": [
    "# you can check the 1-m (m < the given number)\n",
    "# check that is 2 ^ i is == n : retun that.\n",
    "\n"
   ]
  },
  {
   "cell_type": "code",
   "execution_count": null,
   "id": "ba32e59f",
   "metadata": {},
   "outputs": [],
   "source": [
    "# Observation, all the power of 2 numbers have only one bit set. \n",
    "# so count the number of set bits and if its == 1. return true\n",
    "\n",
    "class Solution:\n",
    "    def isPowerOfTwo(self, n: int) -> bool:\n",
    "        ans = 0\n",
    "        while n != 0:\n",
    "            # add with 1 to get the last bit.\n",
    "            ans += n & 1\n",
    "\n",
    "            # and move the different bits to right to delete that counted last number.\n",
    "            n = n >> 1\n",
    "        return True if ans == 1 else False \n",
    "\n",
    "#     \n",
    "# tc -  is O(k), where k is the number of bits in the binary representation of n.\n",
    "# sc - O(1)\n",
    "    \n"
   ]
  },
  {
   "cell_type": "code",
   "execution_count": 2,
   "id": "1fc6a6bb",
   "metadata": {},
   "outputs": [
    {
     "data": {
      "text/plain": [
       "True"
      ]
     },
     "execution_count": 2,
     "metadata": {},
     "output_type": "execute_result"
    }
   ],
   "source": [
    "Solution().isPowerOfTwo(n = 1)"
   ]
  },
  {
   "cell_type": "code",
   "execution_count": 3,
   "id": "e8237d98",
   "metadata": {},
   "outputs": [
    {
     "data": {
      "text/plain": [
       "True"
      ]
     },
     "execution_count": 3,
     "metadata": {},
     "output_type": "execute_result"
    }
   ],
   "source": [
    "Solution().isPowerOfTwo(16)"
   ]
  },
  {
   "cell_type": "code",
   "execution_count": 4,
   "id": "4337f506",
   "metadata": {},
   "outputs": [
    {
     "data": {
      "text/plain": [
       "False"
      ]
     },
     "execution_count": 4,
     "metadata": {},
     "output_type": "execute_result"
    }
   ],
   "source": [
    "Solution().isPowerOfTwo(3)"
   ]
  },
  {
   "cell_type": "markdown",
   "id": "b924eee9",
   "metadata": {},
   "source": [
    "# Follow up: Could you solve it without loops/recursion?\n"
   ]
  },
  {
   "cell_type": "code",
   "execution_count": null,
   "id": "66d59ec5",
   "metadata": {},
   "outputs": [],
   "source": [
    "# Okay if you see all the power of 2 numbers are set in... 16 or 8 or 4 or 2 or 1.. in the perfect binary representation positions.\n",
    "# so if you do n & n-1 = the ans will be 0. \n",
    "class Solution:\n",
    "    def isPowerOfTwo(self, n: int) -> bool:\n",
    "        if n == 0 :\n",
    "            return False\n",
    "        return n & (n-1) == 0\n",
    "    \n",
    "# tc - O(1)\n",
    "# sc - O(1)"
   ]
  },
  {
   "cell_type": "code",
   "execution_count": 6,
   "id": "b706ee24",
   "metadata": {},
   "outputs": [
    {
     "data": {
      "text/plain": [
       "False"
      ]
     },
     "execution_count": 6,
     "metadata": {},
     "output_type": "execute_result"
    }
   ],
   "source": [
    "Solution().isPowerOfTwo(3)"
   ]
  },
  {
   "cell_type": "code",
   "execution_count": 7,
   "id": "5df1ae31",
   "metadata": {},
   "outputs": [
    {
     "data": {
      "text/plain": [
       "True"
      ]
     },
     "execution_count": 7,
     "metadata": {},
     "output_type": "execute_result"
    }
   ],
   "source": [
    "Solution().isPowerOfTwo(16)"
   ]
  },
  {
   "cell_type": "code",
   "execution_count": null,
   "id": "1346f44d",
   "metadata": {},
   "outputs": [],
   "source": []
  }
 ],
 "metadata": {
  "kernelspec": {
   "display_name": "Python 3",
   "language": "python",
   "name": "python3"
  },
  "language_info": {
   "codemirror_mode": {
    "name": "ipython",
    "version": 3
   },
   "file_extension": ".py",
   "mimetype": "text/x-python",
   "name": "python",
   "nbconvert_exporter": "python",
   "pygments_lexer": "ipython3",
   "version": "3.11.11"
  }
 },
 "nbformat": 4,
 "nbformat_minor": 5
}
