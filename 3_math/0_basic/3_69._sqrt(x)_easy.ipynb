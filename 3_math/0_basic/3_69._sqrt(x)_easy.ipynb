{
 "cells": [
  {
   "cell_type": "markdown",
   "id": "3d6ffd14",
   "metadata": {},
   "source": [
    "Given a non-negative integer x, return the square root of x rounded down to the nearest integer. The returned integer should be non-negative as well.\n",
    "\n",
    "You must not use any built-in exponent function or operator.\n",
    "\n",
    "For example, do not use pow(x, 0.5) in c++ or x ** 0.5 in python.\n",
    " \n",
    "\n",
    "Example 1:\n",
    "\n",
    "Input: x = 4\n",
    "Output: 2\n",
    "Explanation: The square root of 4 is 2, so we return 2.\n",
    "Example 2:\n",
    "\n",
    "Input: x = 8\n",
    "Output: 2\n",
    "Explanation: The square root of 8 is 2.82842..., and since we round it down to the nearest integer, 2 is returned.\n",
    " \n",
    "\n",
    "Constraints:\n",
    "\n",
    "0 <= x <= 231 - 1"
   ]
  },
  {
   "cell_type": "code",
   "execution_count": 25,
   "id": "f41b95b0",
   "metadata": {},
   "outputs": [],
   "source": [
    "class Solution:\n",
    "    def mySqrt(self, x: int) -> int:\n",
    "        if x < 2:\n",
    "            return x \n",
    "        \n",
    "        # binary search.\n",
    "        high = x // 2\n",
    "        low = 1\n",
    "        while low <= high: # this is for how many decimals we want.\n",
    "            mid = (high + low) // 2\n",
    "            root = mid * mid # squaring the mid.\n",
    "            if root > x:\n",
    "                high = mid -1\n",
    "            else:\n",
    "                low = mid + 1\n",
    "            if root == x:\n",
    "                return mid   # if this is not matching, than return the final matching integer value.\n",
    "        return high\n"
   ]
  },
  {
   "cell_type": "code",
   "execution_count": 26,
   "id": "87f3b43c",
   "metadata": {},
   "outputs": [
    {
     "data": {
      "text/plain": [
       "2"
      ]
     },
     "execution_count": 26,
     "metadata": {},
     "output_type": "execute_result"
    }
   ],
   "source": [
    "Solution().mySqrt(4)"
   ]
  },
  {
   "cell_type": "code",
   "execution_count": 27,
   "id": "8a72b621",
   "metadata": {},
   "outputs": [
    {
     "data": {
      "text/plain": [
       "2"
      ]
     },
     "execution_count": 27,
     "metadata": {},
     "output_type": "execute_result"
    }
   ],
   "source": [
    "Solution().mySqrt(8)"
   ]
  },
  {
   "cell_type": "markdown",
   "id": "c6dc176f",
   "metadata": {},
   "source": [
    "## 🧠 Time and Space Complexity for `mySqrt()` using Binary Search\n",
    "\n",
    "### ✅ Time Complexity: **O(log x)**\n",
    "\n",
    "- The algorithm uses **binary search** over the range `1` to `x // 2`.\n",
    "- In each iteration, the search space is halved.\n",
    "- Therefore, the number of iterations is approximately:\n",
    "$$\n",
    "\\log_2(x)\n",
    "$$\n",
    "- So the time complexity is:\n",
    "  **O(log x)**\n",
    "\n",
    "---\n",
    "\n",
    "### ✅ Space Complexity: **O(1)**\n",
    "\n"
   ]
  },
  {
   "cell_type": "code",
   "execution_count": 3,
   "id": "bb1329dd",
   "metadata": {},
   "outputs": [],
   "source": [
    "# get the decimal value too.\n",
    "class Solution:\n",
    "    def mySqrt(self, x: int) -> float:\n",
    "        if x < 2:\n",
    "            return float(x)\n",
    "\n",
    "        # Step 1: Integer binary search\n",
    "        low, high = 0, x\n",
    "        while low <= high:\n",
    "            mid = (low + high) // 2\n",
    "            if mid * mid == x:\n",
    "                return float(mid)\n",
    "            elif mid * mid < x:\n",
    "                low = mid + 1\n",
    "                ans = mid  # closest integer less than sqrt(x)\n",
    "            else:\n",
    "                high = mid - 1\n",
    "\n",
    "        # Step 2: Refine with decimals up to 2 places.\n",
    "        increment = 0.1\n",
    "        for _ in range(2):  # for 2 decimal places\n",
    "            while (ans + increment) * (ans + increment) <= x:\n",
    "                print(ans)\n",
    "                ans += increment\n",
    "            increment /= 10  # go to next decimal place, now 0.1 becomes 0.01\n",
    "\n",
    "        return round(ans, 2)\n",
    "\n",
    "\n",
    "\n",
    "# O(log x) for integer part (binary search)\n",
    "# O(1)\n"
   ]
  },
  {
   "cell_type": "code",
   "execution_count": 4,
   "id": "6ed26aa1",
   "metadata": {},
   "outputs": [
    {
     "name": "stdout",
     "output_type": "stream",
     "text": [
      "4\n",
      "4.1\n",
      "4.199999999999999\n",
      "4.299999999999999\n",
      "4.309999999999999\n",
      "4.3199999999999985\n",
      "4.329999999999998\n",
      "4.339999999999998\n"
     ]
    },
    {
     "data": {
      "text/plain": [
       "4.35"
      ]
     },
     "execution_count": 4,
     "metadata": {},
     "output_type": "execute_result"
    }
   ],
   "source": [
    "Solution().mySqrt(19)"
   ]
  },
  {
   "cell_type": "code",
   "execution_count": null,
   "id": "d3ba8897",
   "metadata": {},
   "outputs": [],
   "source": []
  }
 ],
 "metadata": {
  "kernelspec": {
   "display_name": "3.11.11",
   "language": "python",
   "name": "python3"
  },
  "language_info": {
   "codemirror_mode": {
    "name": "ipython",
    "version": 3
   },
   "file_extension": ".py",
   "mimetype": "text/x-python",
   "name": "python",
   "nbconvert_exporter": "python",
   "pygments_lexer": "ipython3",
   "version": "3.11.11"
  }
 },
 "nbformat": 4,
 "nbformat_minor": 5
}
