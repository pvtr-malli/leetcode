{
 "cells": [
  {
   "cell_type": "markdown",
   "id": "4ea0ea7b",
   "metadata": {},
   "source": [
    "Given an integer n, return an array ans of length n + 1 such that for each i (0 <= i <= n), ans[i] is the number of 1's in the binary representation of i.\n",
    "\n",
    " \n",
    "\n",
    "Example 1:\n",
    "\n",
    "Input: n = 2\n",
    "Output: [0,1,1]\n",
    "Explanation:\n",
    "0 --> 0\n",
    "1 --> 1\n",
    "2 --> 10\n",
    "Example 2:\n",
    "\n",
    "Input: n = 5\n",
    "Output: [0,1,1,2,1,2]\n",
    "Explanation:\n",
    "0 --> 0\n",
    "1 --> 1\n",
    "2 --> 10\n",
    "3 --> 11\n",
    "4 --> 100\n",
    "5 --> 101\n",
    " \n",
    "\n",
    "Constraints:\n",
    "\n",
    "0 <= n <= 105\n",
    " \n",
    "\n",
    "Follow up:\n",
    "\n",
    "It is very easy to come up with a solution with a runtime of O(n log n). Can you do it in linear time O(n) and possibly in a single pass?\n",
    "Can you do it without using any built-in function (i.e., like __builtin_popcount in C++)?"
   ]
  },
  {
   "cell_type": "code",
   "execution_count": 2,
   "id": "e0677978",
   "metadata": {},
   "outputs": [],
   "source": [
    "# the easiest way.\n",
    "# for all the numbers count the number of set bits.\n",
    "class Solution:\n",
    "    def hammingWeight(self, n: int) -> int:\n",
    "        count = 0\n",
    "        while n:\n",
    "            n &= (n - 1)   # Drops the lowest set bit\n",
    "            count += 1\n",
    "        return count\n",
    "    def countBits(self, n: int) -> list[int]:\n",
    "        ans = []\n",
    "        for i in range(n + 1):\n",
    "            ans.append(self.hammingWeight(i))\n",
    "        return ans \n",
    "    \n",
    "# tc - O(n * k)\n",
    "# sc - O(n)\n"
   ]
  },
  {
   "cell_type": "code",
   "execution_count": 3,
   "id": "b2ed30c8",
   "metadata": {},
   "outputs": [
    {
     "data": {
      "text/plain": [
       "[0, 1, 1, 2, 1, 2]"
      ]
     },
     "execution_count": 3,
     "metadata": {},
     "output_type": "execute_result"
    }
   ],
   "source": [
    "Solution().countBits(5)"
   ]
  },
  {
   "cell_type": "markdown",
   "id": "fe634c54",
   "metadata": {},
   "source": [
    "# Follow up: solve it in O(n) times:"
   ]
  },
  {
   "cell_type": "markdown",
   "id": "2b6154a4",
   "metadata": {},
   "source": [
    "| Decimal | Binary   |\n",
    "|---------|----------|\n",
    "| 1       | 0001     |\n",
    "| 2       | 0010     |\n",
    "| 3       | 0011     |\n",
    "| 4       | 0100     |\n",
    "| 5       | 0101     |\n",
    "| 6       | 0110     |\n",
    "| 7       | 0111     |\n",
    "| 8       | 1000     |\n",
    "| 9       | 1001     |\n",
    "| 10      | 1010     |\n",
    "| 11      | 1011     |\n",
    "| 12      | 1100     |\n",
    "\n",
    "\n",
    "- the observation to note this, i will be having the same bits as, i//2.\n",
    "Let’s say we already know the number of set bits in a smaller number i // 2, which is the same as i >> 1 (right shift by 1).\n",
    "\n",
    "Now:\n",
    "\n",
    "- If i is even, its last bit is 0 → it has the same number of 1s as i >> 1.\n",
    "\n",
    "- If i is odd, its last bit is 1 → it has 1 more bit than i >> 1."
   ]
  },
  {
   "cell_type": "code",
   "execution_count": 4,
   "id": "3e84f8a9",
   "metadata": {},
   "outputs": [],
   "source": [
    "class Solution:\n",
    "\n",
    "    def countBits(self, n: int) -> list[int]:\n",
    "        ans = [0] * (n + 1)\n",
    "        for i in range(1, n + 1):\n",
    "            ans[i] = ans[i >> 1] + (i & 1)\n",
    "        return ans\n",
    "\n",
    "\n",
    "# tc - O(n)\n",
    "# sc - O(n)\n"
   ]
  },
  {
   "cell_type": "code",
   "execution_count": 5,
   "id": "d6309759",
   "metadata": {},
   "outputs": [
    {
     "data": {
      "text/plain": [
       "[0, 1, 1, 2, 1, 2]"
      ]
     },
     "execution_count": 5,
     "metadata": {},
     "output_type": "execute_result"
    }
   ],
   "source": [
    "Solution().countBits(5)"
   ]
  },
  {
   "cell_type": "code",
   "execution_count": null,
   "id": "e2dadc69",
   "metadata": {},
   "outputs": [],
   "source": []
  }
 ],
 "metadata": {
  "kernelspec": {
   "display_name": "3.11.11",
   "language": "python",
   "name": "python3"
  },
  "language_info": {
   "codemirror_mode": {
    "name": "ipython",
    "version": 3
   },
   "file_extension": ".py",
   "mimetype": "text/x-python",
   "name": "python",
   "nbconvert_exporter": "python",
   "pygments_lexer": "ipython3",
   "version": "3.11.11"
  }
 },
 "nbformat": 4,
 "nbformat_minor": 5
}
