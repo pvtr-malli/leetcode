{
 "cells": [
  {
   "cell_type": "markdown",
   "id": "a179e661",
   "metadata": {},
   "source": [
    "Given an integer n, return the number of prime numbers that are strictly less than n.\n",
    "\n",
    " \n",
    "\n",
    "Example 1:\n",
    "\n",
    "Input: n = 10\n",
    "Output: 4\n",
    "Explanation: There are 4 prime numbers less than 10, they are 2, 3, 5, 7.\n",
    "Example 2:\n",
    "\n",
    "Input: n = 0\n",
    "Output: 0\n",
    "Example 3:\n",
    "\n",
    "Input: n = 1\n",
    "Output: 0\n",
    " \n",
    "\n",
    "Constraints:\n",
    "\n",
    "0 <= n <= 5 * 106"
   ]
  },
  {
   "cell_type": "code",
   "execution_count": 9,
   "id": "0c4fbeaf",
   "metadata": {},
   "outputs": [],
   "source": [
    "class Solution:\n",
    "    def is_prime(self, n):\n",
    "        # if hte number is divisible by other than 1 and itself its prime.\n",
    "        for i in range(2, n): # not including 1 and n, so if its divisble by anything else retun false.\n",
    "            if n % i == 0:\n",
    "                return False \n",
    "        return True \n",
    "    \n",
    "    def countPrimes(self, n: int) -> int:\n",
    "        ans = []\n",
    "        # 0 and 1 or not prime and not non-prime.\n",
    "        for i in range(2, n+1):\n",
    "            if self.is_prime(i):\n",
    "                ans.append(i)\n",
    "        return len(ans) \n",
    "    \n",
    "# tc - O(n) * o(n)\n",
    "# sc - (k) # number of prime numbers "
   ]
  },
  {
   "cell_type": "code",
   "execution_count": 10,
   "id": "de0762d7",
   "metadata": {},
   "outputs": [
    {
     "data": {
      "text/plain": [
       "4"
      ]
     },
     "execution_count": 10,
     "metadata": {},
     "output_type": "execute_result"
    }
   ],
   "source": [
    "Solution().countPrimes(10)"
   ]
  },
  {
   "cell_type": "code",
   "execution_count": 16,
   "id": "2cc63438",
   "metadata": {},
   "outputs": [],
   "source": [
    "# you can just avoid a little bit of time using the find prime.\n",
    "class Solution:\n",
    "    def is_prime(self, n):\n",
    "        # if hte number is divisible by other than 1 and itself its prime.\n",
    "        i = 2\n",
    "        while i * i <= n: # not including 1 and n, so if its divisble by anything else retun false.\n",
    "            print(n, i)\n",
    "            if n % i == 0:\n",
    "                return False \n",
    "            i += 1\n",
    "        return True \n",
    "    \n",
    "    def countPrimes(self, n: int) -> int:\n",
    "        ans = []\n",
    "        # 0 and 1 or not prime and not non-prime.\n",
    "        for i in range(2, n+1):\n",
    "            if self.is_prime(i):\n",
    "                ans.append(i)\n",
    "        return len(ans) \n",
    "    \n",
    "# tc - O(n) * o(sqrt(n))\n",
    "# sc - (k) # number of prime numbers "
   ]
  },
  {
   "cell_type": "code",
   "execution_count": 17,
   "id": "45c62b87",
   "metadata": {},
   "outputs": [
    {
     "name": "stdout",
     "output_type": "stream",
     "text": [
      "4 2\n",
      "5 2\n",
      "6 2\n",
      "7 2\n",
      "8 2\n",
      "9 2\n",
      "9 3\n",
      "10 2\n"
     ]
    },
    {
     "data": {
      "text/plain": [
       "4"
      ]
     },
     "execution_count": 17,
     "metadata": {},
     "output_type": "execute_result"
    }
   ],
   "source": [
    "Solution().countPrimes(10)"
   ]
  },
  {
   "cell_type": "code",
   "execution_count": null,
   "id": "570ccef9",
   "metadata": {},
   "outputs": [],
   "source": [
    "# you can use \"Sieve of Eratosthenes\". \n",
    "# basically if 4 is not prime, then multiple of 4 will also be not prime.\n",
    "# so mark all the multiples not.\n",
    "\n",
    "class Solution:\n",
    "    def countPrimes(self, n: int) -> int:\n",
    "        if n == 0:\n",
    "            return 0\n",
    "        # in the beginning everything is prime. \n",
    "        is_prime = [True] * (n+1) # so 1 means for 1. \n",
    "\n",
    "        # the beginning set, 1 and 4 or not prime.\n",
    "        is_prime[1] = False \n",
    "\n",
    "        for i in range(2, n+1):\n",
    "            # if something is prime then their multiples are not prime.\n",
    "\n",
    "            if is_prime[i] == True:\n",
    "                for j in range(i*i, n+1, i): # multiples of i are not prime too.\n",
    "                    is_prime[j] = False \n",
    "        \n",
    "        print(is_prime)\n",
    "        count = 0   \n",
    "        for i in range(1, n): # count only less than n.\n",
    "            if is_prime[i]:\n",
    "                count += 1\n",
    "        return count\n",
    "    \n",
    "# tc - O(n log log n)\n",
    "# sc - O(n)"
   ]
  },
  {
   "cell_type": "code",
   "execution_count": 32,
   "id": "487a9bb1",
   "metadata": {},
   "outputs": [
    {
     "name": "stdout",
     "output_type": "stream",
     "text": [
      "[True, False, True, True, False, True, False, True, False, False, False]\n"
     ]
    },
    {
     "data": {
      "text/plain": [
       "4"
      ]
     },
     "execution_count": 32,
     "metadata": {},
     "output_type": "execute_result"
    }
   ],
   "source": [
    "Solution().countPrimes(10)"
   ]
  },
  {
   "cell_type": "code",
   "execution_count": null,
   "id": "ed71a29e",
   "metadata": {},
   "outputs": [],
   "source": [
    "# Here we dont need to check for all the n value. check until root n.\n",
    "class Solution:\n",
    "    def countPrimes(self, n: int) -> int:\n",
    "        if n == 0 or n == 1:\n",
    "            return 0\n",
    "        # in the beginning everything is prime. \n",
    "        is_prime = [True] * (n+1) # so 1 means for 1. \n",
    "\n",
    "        i = 2\n",
    "        while i * i <= n:\n",
    "            # if something is prime then their multiples are not prime.\n",
    "\n",
    "            if is_prime[i] == True:\n",
    "                for j in range(i*i, n+1, i): # multiples of i are not prime too.\n",
    "                    is_prime[j] = False \n",
    "            i += 1\n",
    "        \n",
    "        count = 0   \n",
    "        for i in range(2, n): # count only less than n.\n",
    "            if is_prime[i]:\n",
    "                count += 1\n",
    "        return count\n",
    "    \n",
    "# tc - O(n log log n)\n",
    "# sc - O(n)"
   ]
  },
  {
   "cell_type": "code",
   "execution_count": 34,
   "id": "eb8575c4",
   "metadata": {},
   "outputs": [
    {
     "name": "stdout",
     "output_type": "stream",
     "text": [
      "[True, False, True, True, False, True, False, True, False, False, False]\n"
     ]
    },
    {
     "data": {
      "text/plain": [
       "4"
      ]
     },
     "execution_count": 34,
     "metadata": {},
     "output_type": "execute_result"
    }
   ],
   "source": [
    "Solution().countPrimes(10)"
   ]
  },
  {
   "cell_type": "code",
   "execution_count": null,
   "id": "07344a1a",
   "metadata": {},
   "outputs": [],
   "source": []
  }
 ],
 "metadata": {
  "kernelspec": {
   "display_name": "Python 3",
   "language": "python",
   "name": "python3"
  },
  "language_info": {
   "codemirror_mode": {
    "name": "ipython",
    "version": 3
   },
   "file_extension": ".py",
   "mimetype": "text/x-python",
   "name": "python",
   "nbconvert_exporter": "python",
   "pygments_lexer": "ipython3",
   "version": "3.11.11"
  }
 },
 "nbformat": 4,
 "nbformat_minor": 5
}
