{
 "cells": [
  {
   "cell_type": "markdown",
   "id": "d2921312",
   "metadata": {},
   "source": [
    "# 📘 7. Series and Summations - Formula Cheatsheet\n",
    "\n",
    "## ✅ Formulas to Remember\n",
    "\n",
    "### 🔢 Sum of first `n` natural numbers\n",
    "\n",
    "$$\n",
    "S = \\frac{n(n + 1)}{2}\n",
    "$$\n",
    "\n",
    "\n",
    "### 🔲 Sum of squares of first `n` natural numbers\n",
    "$$\n",
    "S = \\frac{n(n + 1)(2n + 1)}{6}\n",
    "$$\n",
    "\n",
    "### 🧊 Sum of cubes of first `n` natural numbers\n",
    "$$\n",
    "S = \\left(\\frac{n(n + 1)}{2}\\right)^2\n",
    "$$\n",
    "\n",
    "### ➕ Sum of first `n` even numbers\n",
    "$$\n",
    "S = n(n + 1)\n",
    "$$\n",
    "\n",
    "### ➖ Sum of first `n` odd numbers\n",
    "$$\n",
    "S = n^2\n",
    "$$\n",
    "\n",
    "### 🔁 Arithmetic Progression (AP)\n",
    "\n",
    "Given:  \n",
    "- \\( a \\) = first term  \n",
    "- \\( d \\) = common difference  \n",
    "- \\( n \\) = number of terms  \n",
    "\n",
    "Formula:  \n",
    "$$\n",
    "S = \\frac{n}{2} \\left[ 2a + (n - 1)d \\right]\n",
    "$$\n",
    "\n",
    "### 🌀 Geometric Progression (GP)\n",
    "\n",
    "Given:  \n",
    "- \\( a \\) = first term  \n",
    "- \\( r \\) = common ratio  \n",
    "- \\( n \\) = number of terms  \n",
    "\n",
    "Formula (when \\( r \\neq 1 \\)):  \n",
    "$$\n",
    "S = a \\cdot \\frac{1 - r^n}{1 - r}\n",
    "$$\n",
    "\n",
    "---\n",
    "\n",
    "_💡 Tip: Memorize these formulas with a few examples and hand-derive them 2–3 times to reinforce._\n"
   ]
  },
  {
   "cell_type": "markdown",
   "id": "5d6a7412",
   "metadata": {},
   "source": [
    "# 1 | find the number of digits in the number.\n"
   ]
  },
  {
   "cell_type": "code",
   "execution_count": 1,
   "id": "b8c49a25",
   "metadata": {},
   "outputs": [
    {
     "data": {
      "text/plain": [
       "4"
      ]
     },
     "execution_count": 1,
     "metadata": {},
     "output_type": "execute_result"
    }
   ],
   "source": [
    "# first way. you cand convert it to str and find it,\n",
    "a = 1234\n",
    "len(str(a))"
   ]
  },
  {
   "cell_type": "code",
   "execution_count": 3,
   "id": "45a2809f",
   "metadata": {},
   "outputs": [
    {
     "name": "stdout",
     "output_type": "stream",
     "text": [
      "123\n",
      "12\n",
      "1\n",
      "0\n",
      "4\n"
     ]
    }
   ],
   "source": [
    "# we can keep on % this number by 10. to get the last digit, until this number is zero.,\n",
    "a = 1234\n",
    "count = 0\n",
    "while a > 0:\n",
    "    a = a // 10\n",
    "    count += 1\n",
    "    print(a)\n",
    "print(count)"
   ]
  },
  {
   "cell_type": "code",
   "execution_count": null,
   "id": "5c351369",
   "metadata": {},
   "outputs": [
    {
     "data": {
      "text/plain": [
       "4.091315159697222"
      ]
     },
     "execution_count": 4,
     "metadata": {},
     "output_type": "execute_result"
    }
   ],
   "source": [
    "# we can use the formula. \n",
    "# logb ^ n + 1\n",
    "\n",
    "import math \n",
    "a = 1234\n",
    "math.log10(a) + 1 # covert this to number."
   ]
  },
  {
   "cell_type": "markdown",
   "id": "327641f7",
   "metadata": {},
   "source": [
    "# 2 | Right most set bit and left most set bit"
   ]
  },
  {
   "cell_type": "markdown",
   "id": "7422b595",
   "metadata": {},
   "source": [
    "#### Right most set bit:\n",
    "✨ Example 2\n",
    "Let’s take:\n",
    "\n",
    "x = 40\n",
    "🔢 Step 1: Convert to binary\n",
    "\n",
    "x      = 00101000   (binary for 40)\n",
    "\n",
    "🧮 Step 2: Find -x using 2’s complement\n",
    "1’s complement of x:\n",
    "\n",
    "~x = 11010111\n",
    "Add 1 to get -x:\n",
    "\n",
    "-x = 11011000\n",
    "🔗 Step 3: Do x & -x\n",
    "\n",
    "x     = 00101000\n",
    "-x    = 11011000\n",
    "----------------\n",
    "x & -x = 00001000\n",
    "✅ Result:\n",
    "\n",
    "Binary: 00001000\n",
    "Decimal: 8\n",
    "\n",
    "math.log2(8)  → 3\n",
    "\n",
    "add 1 to human indexsing.\n",
    "\n",
    "3 + 1 -> 1"
   ]
  },
  {
   "cell_type": "code",
   "execution_count": 1,
   "id": "f8329e45",
   "metadata": {},
   "outputs": [
    {
     "data": {
      "text/plain": [
       "4"
      ]
     },
     "execution_count": 1,
     "metadata": {},
     "output_type": "execute_result"
    }
   ],
   "source": [
    "import math\n",
    "\n",
    "def rightmost_set_bit_position(x):\n",
    "    if x == 0:\n",
    "        return 0  # No set bits\n",
    "    return int(math.log2(x & -x)) + 1\n",
    "\n",
    "rightmost_set_bit_position(40)\n"
   ]
  },
  {
   "cell_type": "markdown",
   "id": "e5089029",
   "metadata": {},
   "source": [
    "### left most set bit.\n",
    "\n",
    "x = 36 → binary: 00100100\n",
    "\n",
    "math.log2(36) ≈ 5.1699 → int(5.1699) = 5\n"
   ]
  },
  {
   "cell_type": "code",
   "execution_count": null,
   "id": "3ee9a585",
   "metadata": {},
   "outputs": [],
   "source": [
    "def leftmost_set_bit_pos(x):\n",
    "    if x == 0:\n",
    "        return 0\n",
    "    return int(math.log2(x)) + 1  # 1-based position\n",
    "\n",
    "\n",
    "# here itself, if you want the values,\n",
    "import math\n",
    "\n",
    "def leftmost_set_bit(x):\n",
    "    if x == 0:\n",
    "        return 0\n",
    "    pos = int(math.log2(x))        # position of leftmost set bit (0-based)\n",
    "    return 1 << pos                # value at that position, when you right sfit the value by that many numbers you will get the value.\n",
    "\n"
   ]
  },
  {
   "cell_type": "markdown",
   "id": "3ef7f9d3",
   "metadata": {},
   "source": [
    "# 3 | gcd and lcm"
   ]
  },
  {
   "cell_type": "code",
   "execution_count": null,
   "id": "4fc5a3fa",
   "metadata": {},
   "outputs": [
    {
     "name": "stdout",
     "output_type": "stream",
     "text": [
      "12 9\n",
      "9 12\n",
      "3 9\n"
     ]
    },
    {
     "data": {
      "text/plain": [
       "3"
      ]
     },
     "execution_count": 8,
     "metadata": {},
     "output_type": "execute_result"
    }
   ],
   "source": [
    "def gcd(a,b):\n",
    "    if a == 0:\n",
    "        return b\n",
    "    print(a,b)\n",
    "    return gcd(b % a, a)\n",
    "\n",
    "\n",
    "#gcd(9,12).   # you can give in whatever order.\n",
    "gcd(12,9)"
   ]
  },
  {
   "cell_type": "code",
   "execution_count": 10,
   "id": "fe23d5ff",
   "metadata": {},
   "outputs": [
    {
     "name": "stdout",
     "output_type": "stream",
     "text": [
      "2 4\n"
     ]
    },
    {
     "data": {
      "text/plain": [
       "4.0"
      ]
     },
     "execution_count": 10,
     "metadata": {},
     "output_type": "execute_result"
    }
   ],
   "source": [
    "# lcm = a * b / gcd(a,b)\n",
    "\n",
    "def lcm(a,b):\n",
    "    gcd_of = gcd(a,b)\n",
    "    return (a*b) / gcd_of\n",
    "\n",
    "lcm(2,4)"
   ]
  },
  {
   "cell_type": "code",
   "execution_count": null,
   "id": "743c7018",
   "metadata": {},
   "outputs": [],
   "source": []
  }
 ],
 "metadata": {
  "kernelspec": {
   "display_name": "Python 3",
   "language": "python",
   "name": "python3"
  },
  "language_info": {
   "codemirror_mode": {
    "name": "ipython",
    "version": 3
   },
   "file_extension": ".py",
   "mimetype": "text/x-python",
   "name": "python",
   "nbconvert_exporter": "python",
   "pygments_lexer": "ipython3",
   "version": "3.11.11"
  }
 },
 "nbformat": 4,
 "nbformat_minor": 5
}
