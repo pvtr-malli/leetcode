{
 "cells": [
  {
   "cell_type": "markdown",
   "id": "bac08fcc",
   "metadata": {},
   "source": [
    "Given a positive integer n, write a function that returns the number of set bits in its binary representation (also known as the Hamming weight).\n",
    "\n",
    " \n",
    "\n",
    "Example 1:\n",
    "\n",
    "Input: n = 11\n",
    "\n",
    "Output: 3\n",
    "\n",
    "Explanation:\n",
    "\n",
    "The input binary string 1011 has a total of three set bits.\n",
    "\n",
    "Example 2:\n",
    "\n",
    "Input: n = 128\n",
    "\n",
    "Output: 1\n",
    "\n",
    "Explanation:\n",
    "\n",
    "The input binary string 10000000 has a total of one set bit.\n",
    "\n",
    "Example 3:\n",
    "\n",
    "Input: n = 2147483645\n",
    "\n",
    "Output: 30\n",
    "\n",
    "Explanation:\n",
    "\n",
    "The input binary string 1111111111111111111111111111101 has a total of thirty set bits.\n",
    "\n",
    " \n",
    "\n",
    "Constraints:\n",
    "\n",
    "1 <= n <= 231 - 1\n",
    " \n",
    "\n",
    "Follow up: If this function is called many times, how would you optimize it?"
   ]
  },
  {
   "cell_type": "code",
   "execution_count": 1,
   "id": "9f79b50e",
   "metadata": {},
   "outputs": [],
   "source": [
    "# lopp and count the set bits.\n",
    "\n",
    "class Solution:\n",
    "    def hammingWeight(self, n: int) -> int:\n",
    "        count = 0\n",
    "        while n:\n",
    "            count += n & 1      # Check last bit\n",
    "            n >>= 1             # Unsigned right shift\n",
    "        return count\n",
    "    \n",
    "# tc - O(n)\n",
    "# sc - O(1)\n"
   ]
  },
  {
   "cell_type": "markdown",
   "id": "6540ca37",
   "metadata": {},
   "source": [
    "# Follow up: If this function is called many times, how would you optimize it?\n"
   ]
  },
  {
   "cell_type": "code",
   "execution_count": null,
   "id": "1a9f790a",
   "metadata": {},
   "outputs": [],
   "source": [
    "class Solution:\n",
    "    def hammingWeight(self, n: int) -> int:\n",
    "        count = 0\n",
    "        while n:\n",
    "            n &= (n - 1)   # Drops the lowest set bit\n",
    "            count += 1\n",
    "        return count\n",
    "    \n",
    "# tc - O(k) - number of set bits\n",
    "# sc - O(1)\n",
    "\n",
    "\n",
    "# It loops only once per set bit (1).\n",
    "\n",
    "# So time complexity is O(k) where k = number of 1s.\n",
    "\n",
    "# n & (n-1) = sets the last bit to 0. \n",
    "# so its kind of eliminating set bits one by one from the right to left.\n",
    "\n",
    "# n = 13 (binary: 1101)\n",
    "\n",
    "# Step 1: n = 1101 → count = 1\n",
    "# Step 2: n = 1100 → count = 2\n",
    "# Step 3: n = 1000 → count = 3\n",
    "# Step 4: n = 0000 → loop ends\n",
    "\n",
    "# Output: 3\n",
    "\n"
   ]
  }
 ],
 "metadata": {
  "kernelspec": {
   "display_name": "Python 3",
   "language": "python",
   "name": "python3"
  },
  "language_info": {
   "codemirror_mode": {
    "name": "ipython",
    "version": 3
   },
   "file_extension": ".py",
   "mimetype": "text/x-python",
   "name": "python",
   "nbconvert_exporter": "python",
   "pygments_lexer": "ipython3",
   "version": "3.11.11"
  }
 },
 "nbformat": 4,
 "nbformat_minor": 5
}
