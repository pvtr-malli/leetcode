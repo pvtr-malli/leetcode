{
 "cells": [
  {
   "cell_type": "markdown",
   "id": "97bae461",
   "metadata": {},
   "source": [
    "Reverse bits of a given 32 bits unsigned integer.\n",
    "\n",
    "Note:\n",
    "\n",
    "Note that in some languages, such as Java, there is no unsigned integer type. In this case, both input and output will be given as a signed integer type. They should not affect your implementation, as the integer's internal binary representation is the same, whether it is signed or unsigned.\n",
    "In Java, the compiler represents the signed integers using 2's complement notation. Therefore, in Example 2 above, the input represents the signed integer -3 and the output represents the signed integer -1073741825.\n",
    " \n",
    "\n",
    "Example 1:\n",
    "\n",
    "Input: n = 00000010100101000001111010011100\n",
    "Output:    964176192 (00111001011110000010100101000000)\n",
    "Explanation: The input binary string 00000010100101000001111010011100 represents the unsigned integer 43261596, so return 964176192 which its binary representation is 00111001011110000010100101000000.\n",
    "Example 2:\n",
    "\n",
    "Input: n = 11111111111111111111111111111101\n",
    "Output:   3221225471 (10111111111111111111111111111111)\n",
    "Explanation: The input binary string 11111111111111111111111111111101 represents the unsigned integer 4294967293, so return 3221225471 which its binary representation is 10111111111111111111111111111111.\n",
    " \n",
    "\n",
    "Constraints:\n",
    "\n",
    "The input must be a binary string of length 32\n",
    " \n",
    "\n",
    "Follow up: If this function is called many times, how would you optimize it?"
   ]
  },
  {
   "cell_type": "markdown",
   "id": "e4532f78",
   "metadata": {},
   "source": [
    "✅ Idea: Bit-by-bit reversal\n",
    "We loop through all 32 bits, and for each bit:\n",
    "\n",
    "Shift the result to the left by 1 to make space.\n",
    "\n",
    "Extract the last bit of n (using n & 1) and OR it into the result.\n",
    "\n",
    "Shift n to the right by 1 to prepare for the next bit.\n",
    "\n",
    "\n",
    "### 🧮 Reverse 5-bit Binary of n = 13\n",
    "\n",
    "| Step | n (binary) | n & 1 | result (before) | result << 1 | New result | n >> 1 (new n) |\n",
    "|------|------------|-------|------------------|--------------|-------------|----------------|\n",
    "| 1    | 01101      | 1     | 0                | 0            | 1           | 0110           |\n",
    "| 2    | 0110       | 0     | 1                | 10           | 10 (2)      | 0011           |\n",
    "| 3    | 0011       | 1     | 10 (2)           | 100          | 101 (5)     | 0001           |\n",
    "| 4    | 0001       | 1     | 101 (5)          | 1010         | 1011 (11)   | 0000           |\n",
    "| 5    | 0000       | 0     | 1011 (11)        | 10110        | 10110 (22)  | 0000           |\n",
    "\n",
    "✅ Final reversed result = `10110` (binary) = **22** (decimal)\n"
   ]
  },
  {
   "cell_type": "code",
   "execution_count": null,
   "id": "61dddebb",
   "metadata": {},
   "outputs": [],
   "source": [
    "class Solution:\n",
    "    def reverseBits(self, n: int) -> int:\n",
    "        result = 0\n",
    "        for _ in range(32):\n",
    "            result = (result << 1) | (n & 1)\n",
    "            n >>= 1\n",
    "        return result\n",
    "\n",
    "# tc - O(32) - O(1)\n",
    "# sc - O(32) - O(1)"
   ]
  }
 ],
 "metadata": {
  "language_info": {
   "name": "python"
  }
 },
 "nbformat": 4,
 "nbformat_minor": 5
}
