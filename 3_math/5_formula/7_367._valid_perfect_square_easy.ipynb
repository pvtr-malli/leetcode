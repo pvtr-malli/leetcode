{
 "cells": [
  {
   "cell_type": "markdown",
   "id": "518e8301",
   "metadata": {},
   "source": [
    "Given a positive integer num, return true if num is a perfect square or false otherwise.\n",
    "\n",
    "A perfect square is an integer that is the square of an integer. In other words, it is the product of some integer with itself.\n",
    "\n",
    "You must not use any built-in library function, such as sqrt.\n",
    "\n",
    " \n",
    "\n",
    "Example 1:\n",
    "\n",
    "Input: num = 16\n",
    "Output: true\n",
    "Explanation: We return true because 4 * 4 = 16 and 4 is an integer.\n",
    "Example 2:\n",
    "\n",
    "Input: num = 14\n",
    "Output: false\n",
    "Explanation: We return false because 3.742 * 3.742 = 14 and 3.742 is not an integer.\n",
    " \n",
    "\n",
    "Constraints:\n",
    "\n"
   ]
  },
  {
   "cell_type": "code",
   "execution_count": 3,
   "id": "c4c1f0c1",
   "metadata": {},
   "outputs": [],
   "source": [
    "class Solution:\n",
    "    def isPerfectSquare(self, num: int) -> bool:\n",
    "        # find the biggest interger value which can square to <= num using bin.serach.\n",
    "        high = num \n",
    "        low = 0 \n",
    "        while low <= high:\n",
    "            mid = (high + low) // 2\n",
    "            re = mid * mid \n",
    "            if re == num:\n",
    "                break\n",
    "            if re < num:\n",
    "                low = mid +1 \n",
    "            else:\n",
    "                high = mid -1 \n",
    "        \n",
    "        # check if they are perfect squares.\n",
    "        if mid * mid == num:\n",
    "            return True \n",
    "        return False \n",
    "\n",
    "# each time the serach space reduces to half.\n",
    "# Time Complexity = O(log₂(num))\n",
    "# sc - O(1)"
   ]
  },
  {
   "cell_type": "code",
   "execution_count": 4,
   "id": "c4b5eea6",
   "metadata": {},
   "outputs": [
    {
     "data": {
      "text/plain": [
       "True"
      ]
     },
     "execution_count": 4,
     "metadata": {},
     "output_type": "execute_result"
    }
   ],
   "source": [
    "Solution().isPerfectSquare(num = 16)"
   ]
  },
  {
   "cell_type": "code",
   "execution_count": 5,
   "id": "23d73272",
   "metadata": {},
   "outputs": [
    {
     "data": {
      "text/plain": [
       "False"
      ]
     },
     "execution_count": 5,
     "metadata": {},
     "output_type": "execute_result"
    }
   ],
   "source": [
    "Solution().isPerfectSquare(14)"
   ]
  },
  {
   "cell_type": "markdown",
   "id": "a9562ab3",
   "metadata": {},
   "source": [
    "num = 49\n",
    "\n",
    "| Step | `low` | `high` | `mid` | `mid * mid` | Action                      |\n",
    "| ---- | ----- | ------ | ----- | ----------- | --------------------------- |\n",
    "| 1    | 0     | 49     | 24    | 576         | mid² > num → high = 23      |\n",
    "| 2    | 0     | 23     | 11    | 121         | mid² > num → high = 10      |\n",
    "| 3    | 0     | 10     | 5     | 25          | mid² < num → low = 6        |\n",
    "| 4    | 6     | 10     | 8     | 64          | mid² > num → high = 7       |\n",
    "| 5    | 6     | 7      | 6     | 36          | mid² < num → low = 7        |\n",
    "| 6    | 7     | 7      | 7     | 49          | ✅ mid² == num → return True |\n"
   ]
  },
  {
   "cell_type": "markdown",
   "id": "e7217c5d",
   "metadata": {},
   "source": [
    "Example 2: num = 50 → False\n",
    "| Step | `low` | `high` | `mid` | `mid * mid` | Action                   |\n",
    "| ---- | ----- | ------ | ----- | ----------- | ------------------------ |\n",
    "| 1    | 0     | 50     | 25    | 625         | mid² > num → high = 24   |\n",
    "| 2    | 0     | 24     | 12    | 144         | mid² > num → high = 11   |\n",
    "| 3    | 0     | 11     | 5     | 25          | mid² < num → low = 6     |\n",
    "| 4    | 6     | 11     | 8     | 64          | mid² > num → high = 7    |\n",
    "| 5    | 6     | 7      | 6     | 36          | mid² < num → low = 7     |\n",
    "| 6    | 7     | 7      | 7     | 49          | mid² < num → low = 8     |\n",
    "| 7    | 8     | 7      | -     | -           | loop ends → return False |\n"
   ]
  },
  {
   "cell_type": "code",
   "execution_count": null,
   "id": "c1055f5f",
   "metadata": {},
   "outputs": [],
   "source": []
  }
 ],
 "metadata": {
  "kernelspec": {
   "display_name": "3.11.11",
   "language": "python",
   "name": "python3"
  },
  "language_info": {
   "codemirror_mode": {
    "name": "ipython",
    "version": 3
   },
   "file_extension": ".py",
   "mimetype": "text/x-python",
   "name": "python",
   "nbconvert_exporter": "python",
   "pygments_lexer": "ipython3",
   "version": "3.11.11"
  }
 },
 "nbformat": 4,
 "nbformat_minor": 5
}
