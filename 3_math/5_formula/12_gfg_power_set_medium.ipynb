{
 "cells": [
  {
   "cell_type": "markdown",
   "id": "4407f793",
   "metadata": {},
   "source": [
    "Power Set P(S) of a set S is the set of all subsets of S. For example S = {a, b, c} then P(s) = {{}, {a}, {b}, {c}, {a,b}, {a, c}, {b, c}, {a, b, c}}. If S has n elements in it then P(s) will have 2n elements\n",
    "\n",
    "Examples\n",
    "Input: s = \"ab\"\n",
    "Output: \"\", \"a\", \"b\", \"ab\"\n",
    "Explanation: The power set of \"ab\" includes all possible subsets: empty set, single characters, and full string.\n",
    "\n",
    "Input: s = \"abc\"\n",
    "Output: \"\", \"a\", \"b\", \"c\", \"ab\", \"bc\", \"ac\", \"abc\"\n",
    "Explanation: The power set of \"abc\" includes all subsets formed by choosing any combination of its characters.\n",
    "\n",
    "Input: s = \"a\"\n",
    "Output: \"\", \"a\"\n",
    "Explanation: The power set of \"a\" consists of the empty set and the single character itself."
   ]
  },
  {
   "cell_type": "markdown",
   "id": "4c2ca985",
   "metadata": {},
   "source": [
    "- can be done using recurssion, take not take method.\n",
    "- tc - O(n * 2^n)\n",
    "- sc - O(n)"
   ]
  },
  {
   "cell_type": "markdown",
   "id": "16766074",
   "metadata": {},
   "source": [
    "For a given set[] S, the power set can be found by generating all binary numbers between 0 and 2^n-1, where n is the size of the set. \n",
    "\n",
    "Set  = [a,b,c]\n",
    "power_set_size = pow(2, 3) = 8\n",
    "Run for binary counter = 000 to 111.  We consider a when the last bit is set and do not consider if the last bit is not set. We do the same thing for b and second bit, and for c and first bit.\n",
    "\n",
    "Value of Counter            Subset\n",
    "   000                    -> Empty set\n",
    "   001                    -> a\n",
    "   010                    -> b\n",
    "   011                    -> ab\n",
    "   100                    -> c\n",
    "   101                    -> ac\n",
    "   110                    -> bc\n",
    "   111                    -> abc"
   ]
  },
  {
   "cell_type": "markdown",
   "id": "0c563b93",
   "metadata": {},
   "source": [
    "\n",
    "\n",
    "The **bitmask solution** is already optimal in terms of **time complexity** because:\n",
    "\n",
    "* You must output all (2^n) subsets.\n",
    "* That means at least (O(2^n)) time is required no matter what.\n",
    "* Since each subset can be up to length (n), total work = (O(n \\cdot 2^n)).\n",
    "* **You can’t asymptotically beat this**.\n",
    "\n"
   ]
  },
  {
   "cell_type": "code",
   "execution_count": null,
   "id": "1381bd50",
   "metadata": {},
   "outputs": [],
   "source": [
    "def power_set(nums):\n",
    "    n = len(nums)\n",
    "    result = []\n",
    "\n",
    "    for i in range(2**n):\n",
    "        subset = \"\"\n",
    "\n",
    "        # For each number you have to check 0 - n bits are set or not,,,\n",
    "        # the better way to do it is. >> bit_num & 1.\n",
    "        # if its set add it to the results.\n",
    "        for j in range(n):\n",
    "            if (i >> j) & 1:\n",
    "                subset += (nums[j])\n",
    "        result.append(subset)\n",
    "\n",
    "    return result\n",
    "\n",
    "\n",
    "\n",
    "# tc - O(n * (2 ^ n))\n",
    "# sc - O(2 ^ n)\n",
    "# time complexity for 2 ** n - O(log n) time complexity not linear"
   ]
  },
  {
   "cell_type": "code",
   "execution_count": 2,
   "id": "5225da9f",
   "metadata": {},
   "outputs": [
    {
     "data": {
      "text/plain": [
       "['', 'a', 'b', 'ab', 'c', 'ac', 'bc', 'abc']"
      ]
     },
     "execution_count": 2,
     "metadata": {},
     "output_type": "execute_result"
    }
   ],
   "source": [
    "power_set(\"abc\")"
   ]
  },
  {
   "cell_type": "code",
   "execution_count": null,
   "id": "29ab4bf6",
   "metadata": {},
   "outputs": [],
   "source": []
  }
 ],
 "metadata": {
  "kernelspec": {
   "display_name": "3.11.11",
   "language": "python",
   "name": "python3"
  },
  "language_info": {
   "codemirror_mode": {
    "name": "ipython",
    "version": 3
   },
   "file_extension": ".py",
   "mimetype": "text/x-python",
   "name": "python",
   "nbconvert_exporter": "python",
   "pygments_lexer": "ipython3",
   "version": "3.11.11"
  }
 },
 "nbformat": 4,
 "nbformat_minor": 5
}
