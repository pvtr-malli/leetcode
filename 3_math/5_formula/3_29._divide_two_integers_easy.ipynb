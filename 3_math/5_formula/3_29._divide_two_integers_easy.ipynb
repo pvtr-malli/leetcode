{
 "cells": [
  {
   "cell_type": "markdown",
   "id": "e8893e2e",
   "metadata": {},
   "source": [
    "Given an integer columnNumber, return its corresponding column title as it appears in an Excel sheet.\n",
    "\n",
    "For example:\n",
    "\n",
    "A -> 1\n",
    "B -> 2\n",
    "C -> 3\n",
    "...\n",
    "Z -> 26\n",
    "AA -> 27\n",
    "AB -> 28 \n",
    "...\n",
    " \n",
    "\n",
    "Example 1:\n",
    "\n",
    "Input: columnNumber = 1\n",
    "Output: \"A\"\n",
    "Example 2:\n",
    "\n",
    "Input: columnNumber = 28\n",
    "Output: \"AB\"\n",
    "Example 3:\n",
    "\n",
    "Input: columnNumber = 701\n",
    "Output: \"ZY\"\n",
    " \n",
    "\n",
    "Constraints:\n",
    "\n",
    "1 <= columnNumber <= 231 - 1"
   ]
  },
  {
   "cell_type": "code",
   "execution_count": null,
   "id": "3f0a9a13",
   "metadata": {},
   "outputs": [],
   "source": [
    "class Solution:\n",
    "    def convertToTitle(self, columnNumber: int) -> str:\n",
    "        # this is simply a 26 base number system, like binary.\n",
    "        # think how we convert dicimal to binary ? divide by 2 until we hit the end.\n",
    "        # same here, divide by 26 until the remainder < 26. \n",
    "        # and convert the quiecent to its mapped numbers. NOTE: Map A with 1...\n",
    "        res = \"\"\n",
    "        map = {i + 1: chr(i + 65) for i in range(26)}\n",
    "        # \n",
    "\n",
    "        while columnNumber > 26:\n",
    "            \n",
    "            # add the quiocent to the result string.\n",
    "            quiocent = columnNumber // 26\n",
    "            res = res + map[quiocent]     #NOTE: The quiocents cant be mapped directly, since it can be bigger than 26.\n",
    "            # So have to map from back.\n",
    "\n",
    "            # take the reminder as the nect column number.\n",
    "            columnNumber = columnNumber % 26\n",
    "        res =  res + map[columnNumber]\n",
    "\n",
    "        return res\n",
    "\n",
    "\n",
    "# tc - O(log base 26 n) each time the number is getting reduced by 26\n",
    "# sc - O(26) = O(1)\n"
   ]
  },
  {
   "cell_type": "code",
   "execution_count": 6,
   "id": "38292c85",
   "metadata": {},
   "outputs": [
    {
     "data": {
      "text/plain": [
       "'A'"
      ]
     },
     "execution_count": 6,
     "metadata": {},
     "output_type": "execute_result"
    }
   ],
   "source": [
    "Solution().convertToTitle(columnNumber = 1)"
   ]
  },
  {
   "cell_type": "code",
   "execution_count": 7,
   "id": "aca52db7",
   "metadata": {},
   "outputs": [
    {
     "data": {
      "text/plain": [
       "'ZY'"
      ]
     },
     "execution_count": 7,
     "metadata": {},
     "output_type": "execute_result"
    }
   ],
   "source": [
    "Solution().convertToTitle(columnNumber = 701)"
   ]
  },
  {
   "cell_type": "code",
   "execution_count": null,
   "id": "66731e1d",
   "metadata": {},
   "outputs": [
    {
     "ename": "KeyError",
     "evalue": "0",
     "output_type": "error",
     "traceback": [
      "\u001b[31m---------------------------------------------------------------------------\u001b[39m",
      "\u001b[31mKeyError\u001b[39m                                  Traceback (most recent call last)",
      "\u001b[36mCell\u001b[39m\u001b[36m \u001b[39m\u001b[32mIn[8]\u001b[39m\u001b[32m, line 1\u001b[39m\n\u001b[32m----> \u001b[39m\u001b[32m1\u001b[39m \u001b[43mSolution\u001b[49m\u001b[43m(\u001b[49m\u001b[43m)\u001b[49m\u001b[43m.\u001b[49m\u001b[43mconvertToTitle\u001b[49m\u001b[43m(\u001b[49m\u001b[32;43m52\u001b[39;49m\u001b[43m)\u001b[49m\n",
      "\u001b[36mCell\u001b[39m\u001b[36m \u001b[39m\u001b[32mIn[5]\u001b[39m\u001b[32m, line 19\u001b[39m, in \u001b[36mSolution.convertToTitle\u001b[39m\u001b[34m(self, columnNumber)\u001b[39m\n\u001b[32m     17\u001b[39m     \u001b[38;5;66;03m# take the reminder as the nect column number.\u001b[39;00m\n\u001b[32m     18\u001b[39m     columnNumber = columnNumber % \u001b[32m26\u001b[39m\n\u001b[32m---> \u001b[39m\u001b[32m19\u001b[39m res =  res + \u001b[38;5;28;43mmap\u001b[39;49m\u001b[43m[\u001b[49m\u001b[43mcolumnNumber\u001b[49m\u001b[43m]\u001b[49m\n\u001b[32m     21\u001b[39m \u001b[38;5;28;01mreturn\u001b[39;00m res\n",
      "\u001b[31mKeyError\u001b[39m: 0"
     ]
    }
   ],
   "source": [
    "Solution().convertToTitle(52)  # this fails when there is a 26 // 26 key error, becuse 0 is not there."
   ]
  },
  {
   "cell_type": "code",
   "execution_count": 12,
   "id": "0ca29969",
   "metadata": {},
   "outputs": [],
   "source": [
    "class Solution:\n",
    "    def convertToTitle(self, columnNumber: int) -> str:\n",
    "        # this is simply a 26 base number system, like binary.\n",
    "        # think how we convert dicimal to binary ? divide by 2 until we hit the end.\n",
    "        # same here, divide by 26 until the remainder < 26. \n",
    "        # and convert the quiecent to its mapped numbers. NOTE: Map A with 1...\n",
    "        res = \"\"\n",
    "        map = {i : chr(i + 65) for i in range(26)}\n",
    "        # \n",
    "\n",
    "        while columnNumber > 26:\n",
    "            columnNumber -= 1 # convert into 0. index.\n",
    "\n",
    "            # add the reminder to the result string at the back.\n",
    "            res = map[columnNumber % 26] + res \n",
    "\n",
    "            # take the quicent as the nect column number.\n",
    "            columnNumber = columnNumber // 26 \n",
    "\n",
    "        res =  map[columnNumber - 1] + res\n",
    "\n",
    "        return res\n",
    "\n",
    "\n",
    "# tc - O(log base 26 n) each time the number is getting reduced by 26\n",
    "# sc - O(26) = O(1)\n"
   ]
  },
  {
   "cell_type": "code",
   "execution_count": 13,
   "id": "34d32d1c",
   "metadata": {},
   "outputs": [
    {
     "data": {
      "text/plain": [
       "'AZ'"
      ]
     },
     "execution_count": 13,
     "metadata": {},
     "output_type": "execute_result"
    }
   ],
   "source": [
    "Solution().convertToTitle(52)"
   ]
  },
  {
   "cell_type": "code",
   "execution_count": 14,
   "id": "239d39e6",
   "metadata": {},
   "outputs": [
    {
     "data": {
      "text/plain": [
       "'ZY'"
      ]
     },
     "execution_count": 14,
     "metadata": {},
     "output_type": "execute_result"
    }
   ],
   "source": [
    "Solution().convertToTitle(columnNumber = 701)"
   ]
  },
  {
   "cell_type": "code",
   "execution_count": null,
   "id": "de0b8ab6",
   "metadata": {},
   "outputs": [],
   "source": []
  }
 ],
 "metadata": {
  "kernelspec": {
   "display_name": "Python 3",
   "language": "python",
   "name": "python3"
  },
  "language_info": {
   "codemirror_mode": {
    "name": "ipython",
    "version": 3
   },
   "file_extension": ".py",
   "mimetype": "text/x-python",
   "name": "python",
   "nbconvert_exporter": "python",
   "pygments_lexer": "ipython3",
   "version": "3.11.11"
  }
 },
 "nbformat": 4,
 "nbformat_minor": 5
}
