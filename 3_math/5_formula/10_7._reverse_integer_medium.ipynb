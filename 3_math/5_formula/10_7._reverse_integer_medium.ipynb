{
 "cells": [
  {
   "cell_type": "markdown",
   "id": "a007f7a8",
   "metadata": {},
   "source": [
    "Given a signed 32-bit integer x, return x with its digits reversed. If reversing x causes the value to go outside the signed 32-bit integer range [-231, 231 - 1], then return 0.\n",
    "\n",
    "Assume the environment does not allow you to store 64-bit integers (signed or unsigned).\n",
    "\n",
    " \n",
    "\n",
    "Example 1:\n",
    "\n",
    "Input: x = 123\n",
    "Output: 321\n",
    "Example 2:\n",
    "\n",
    "Input: x = -123\n",
    "Output: -321\n",
    "Example 3:\n",
    "\n",
    "Input: x = 120\n",
    "Output: 21\n",
    " \n",
    "\n",
    "Constraints:\n",
    "\n",
    "-231 <= x <= 231 - 1"
   ]
  },
  {
   "cell_type": "markdown",
   "id": "6d6de414",
   "metadata": {},
   "source": [
    "- brute force:\n",
    "- you cna convert to str and reverse very easily."
   ]
  },
  {
   "cell_type": "code",
   "execution_count": 6,
   "id": "e35b45b9",
   "metadata": {},
   "outputs": [],
   "source": [
    "class Solution:\n",
    "    def reverse(self, x: int) -> int:\n",
    "        # take out the negative sign, ans add it at the end.\n",
    "        is_negative = x < 0\n",
    "        x = abs(x)\n",
    "\n",
    "        ans = 0\n",
    "        while x > 0:\n",
    "            last_digit = x % 10 \n",
    "            x = x // 10\n",
    "\n",
    "            # add this to the resulting number. move the number by one 10th place left and ad it.\n",
    "            ans = (ans * 10 ) + last_digit \n",
    "\n",
    "        return -ans if is_negative else ans\n",
    "    \n",
    "# tc - O(k) # number of digits in the number\n",
    "# sc - O(1)\n"
   ]
  },
  {
   "cell_type": "code",
   "execution_count": 7,
   "id": "10af6950",
   "metadata": {},
   "outputs": [
    {
     "data": {
      "text/plain": [
       "123"
      ]
     },
     "execution_count": 7,
     "metadata": {},
     "output_type": "execute_result"
    }
   ],
   "source": [
    "Solution().reverse(321)"
   ]
  },
  {
   "cell_type": "code",
   "execution_count": 8,
   "id": "149ef651",
   "metadata": {},
   "outputs": [
    {
     "data": {
      "text/plain": [
       "21"
      ]
     },
     "execution_count": 8,
     "metadata": {},
     "output_type": "execute_result"
    }
   ],
   "source": [
    "Solution().reverse(120)"
   ]
  },
  {
   "cell_type": "code",
   "execution_count": 9,
   "id": "534e8a78",
   "metadata": {},
   "outputs": [
    {
     "data": {
      "text/plain": [
       "-123"
      ]
     },
     "execution_count": 9,
     "metadata": {},
     "output_type": "execute_result"
    }
   ],
   "source": [
    "Solution().reverse(-321)"
   ]
  },
  {
   "cell_type": "code",
   "execution_count": null,
   "id": "698046c4",
   "metadata": {},
   "outputs": [],
   "source": []
  }
 ],
 "metadata": {
  "kernelspec": {
   "display_name": "Python 3",
   "language": "python",
   "name": "python3"
  },
  "language_info": {
   "codemirror_mode": {
    "name": "ipython",
    "version": 3
   },
   "file_extension": ".py",
   "mimetype": "text/x-python",
   "name": "python",
   "nbconvert_exporter": "python",
   "pygments_lexer": "ipython3",
   "version": "3.11.11"
  }
 },
 "nbformat": 4,
 "nbformat_minor": 5
}
