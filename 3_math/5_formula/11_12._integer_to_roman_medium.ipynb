{
 "cells": [
  {
   "cell_type": "markdown",
   "id": "ee4a873b",
   "metadata": {},
   "source": [
    "Seven different symbols represent Roman numerals with the following values:\n",
    "\n",
    "Symbol\tValue\n",
    "I\t1\n",
    "V\t5\n",
    "X\t10\n",
    "L\t50\n",
    "C\t100\n",
    "D\t500\n",
    "M\t1000\n",
    "Roman numerals are formed by appending the conversions of decimal place values from highest to lowest. Converting a decimal place value into a Roman numeral has the following rules:\n",
    "\n",
    "If the value does not start with 4 or 9, select the symbol of the maximal value that can be subtracted from the input, append that symbol to the result, subtract its value, and convert the remainder to a Roman numeral.\n",
    "If the value starts with 4 or 9 use the subtractive form representing one symbol subtracted from the following symbol, for example, 4 is 1 (I) less than 5 (V): IV and 9 is 1 (I) less than 10 (X): IX. Only the following subtractive forms are used: 4 (IV), 9 (IX), 40 (XL), 90 (XC), 400 (CD) and 900 (CM).\n",
    "Only powers of 10 (I, X, C, M) can be appended consecutively at most 3 times to represent multiples of 10. You cannot append 5 (V), 50 (L), or 500 (D) multiple times. If you need to append a symbol 4 times use the subtractive form.\n",
    "Given an integer, convert it to a Roman numeral.\n",
    "\n",
    " \n",
    "\n",
    "Example 1:\n",
    "\n",
    "Input: num = 3749\n",
    "\n",
    "Output: \"MMMDCCXLIX\"\n",
    "\n",
    "Explanation:\n",
    "\n",
    "3000 = MMM as 1000 (M) + 1000 (M) + 1000 (M)\n",
    " 700 = DCC as 500 (D) + 100 (C) + 100 (C)\n",
    "  40 = XL as 10 (X) less of 50 (L)\n",
    "   9 = IX as 1 (I) less of 10 (X)\n",
    "Note: 49 is not 1 (I) less of 50 (L) because the conversion is based on decimal places\n",
    "Example 2:\n",
    "\n",
    "Input: num = 58\n",
    "\n",
    "Output: \"LVIII\"\n",
    "\n",
    "Explanation:\n",
    "\n",
    "50 = L\n",
    " 8 = VIII\n",
    "Example 3:\n",
    "\n",
    "Input: num = 1994\n",
    "\n",
    "Output: \"MCMXCIV\"\n",
    "\n",
    "Explanation:\n",
    "\n",
    "1000 = M\n",
    " 900 = CM\n",
    "  90 = XC\n",
    "   4 = IV\n",
    " \n",
    "\n",
    "Constraints:\n",
    "\n",
    "1 <= num <= 3999"
   ]
  },
  {
   "cell_type": "code",
   "execution_count": null,
   "id": "532dcf88",
   "metadata": {},
   "outputs": [],
   "source": [
    "# brute force:\n",
    "# manually map all the possible values.\n",
    "\n",
    "class Solution:\n",
    "    def intToRoman(self, num: int) -> str:\n",
    "        thousands = [\"\", \"M\", \"MM\", \"MMM\"]\n",
    "        hundreds  = [\"\", \"C\", \"CC\", \"CCC\", \"CD\", \"D\", \"DC\", \"DCC\", \"DCCC\", \"CM\"]\n",
    "        tens      = [\"\", \"X\", \"XX\", \"XXX\", \"XL\", \"L\", \"LX\", \"LXX\", \"LXXX\", \"XC\"]\n",
    "        ones      = [\"\", \"I\", \"II\", \"III\", \"IV\", \"V\", \"VI\", \"VII\", \"VIII\", \"IX\"]\n",
    "\n",
    "        t = thousands[num // 1000]\n",
    "        h = hundreds[(num % 1000) // 100]\n",
    "        te = tens[(num % 100) // 10]\n",
    "        o = ones[num % 10]\n",
    "\n",
    "        return t + h + te + o\n",
    "\n",
    "\n",
    "# Time Complexity: O(1) — Constant operations.\n",
    "# Space Complexity: O(1)"
   ]
  },
  {
   "cell_type": "code",
   "execution_count": 1,
   "id": "c44573f9",
   "metadata": {},
   "outputs": [],
   "source": [
    "\n",
    "# just include hte possible, speciall number like 4, 9, 40, 90, 400, 900. \n",
    "# just 6, easily can be stored.\n",
    "# sing greedy subtraction with a value-symbol map.\n",
    "\n",
    "class Solution:\n",
    "    def intToRoman(self, num: int) -> str:\n",
    "        val_map = [\n",
    "            (1000, \"M\"), (900, \"CM\"),\n",
    "            (500, \"D\"), (400, \"CD\"),\n",
    "            (100, \"C\"), (90, \"XC\"),\n",
    "            (50, \"L\"), (40, \"XL\"),\n",
    "            (10, \"X\"), (9, \"IX\"),\n",
    "            (5, \"V\"), (4, \"IV\"),\n",
    "            (1, \"I\")\n",
    "        ]\n",
    "        \n",
    "        res = \"\"\n",
    "        for value, symbol in val_map:\n",
    "            while num >= value:\n",
    "                res += symbol\n",
    "                num -= value\n",
    "        return res\n",
    "    \n",
    "# Time Complexity: O(1) – because the max number is 3999, loop steps are bounded.\n",
    "\n",
    "# Space Complexity: O(1) – output string is at most ~15 characters.\n"
   ]
  },
  {
   "cell_type": "code",
   "execution_count": 2,
   "id": "2e8ab92a",
   "metadata": {},
   "outputs": [
    {
     "data": {
      "text/plain": [
       "'MCMXCIV'"
      ]
     },
     "execution_count": 2,
     "metadata": {},
     "output_type": "execute_result"
    }
   ],
   "source": [
    "Solution().intToRoman(1994)"
   ]
  },
  {
   "cell_type": "markdown",
   "id": "604efb23",
   "metadata": {},
   "source": [
    "1994\n",
    "\n",
    "| Step | Current `num` | Roman Symbol Chosen | Reason (Matched Value) | Roman String So Far |\n",
    "| ---- | ------------- | ------------------- | ---------------------- | ------------------- |\n",
    "| 1    | 1994          | M                   | 1000 ≤ 1994            | M                   |\n",
    "| 2    | 994           | CM                  | 900 ≤ 994              | MCM                 |\n",
    "| 3    | 94            | XC                  | 90 ≤ 94                | MCMXC               |\n",
    "| 4    | 4             | IV                  | 4 ≤ 4                  | MCMXCIV             |\n",
    "| 5    | 0             | -                   | Done                   | **MCMXCIV**         |\n"
   ]
  }
 ],
 "metadata": {
  "kernelspec": {
   "display_name": "3.11.11",
   "language": "python",
   "name": "python3"
  },
  "language_info": {
   "codemirror_mode": {
    "name": "ipython",
    "version": 3
   },
   "file_extension": ".py",
   "mimetype": "text/x-python",
   "name": "python",
   "nbconvert_exporter": "python",
   "pygments_lexer": "ipython3",
   "version": "3.11.11"
  }
 },
 "nbformat": 4,
 "nbformat_minor": 5
}
