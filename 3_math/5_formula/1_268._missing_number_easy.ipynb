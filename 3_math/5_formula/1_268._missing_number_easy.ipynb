{
 "cells": [
  {
   "cell_type": "code",
   "execution_count": null,
   "metadata": {},
   "outputs": [],
   "source": [
    "EASY"
   ]
  },
  {
   "cell_type": "markdown",
   "metadata": {},
   "source": [
    "Given an array nums containing n distinct numbers in the range [0, n], return the only number in the range that is missing from the array.\n",
    "\n",
    " \n",
    "\n",
    "Example 1:\n",
    "\n",
    "Input: nums = [3,0,1]\n",
    "\n",
    "Output: 2\n",
    "\n",
    "Explanation:\n",
    "\n",
    "n = 3 since there are 3 numbers, so all numbers are in the range [0,3]. 2 is the missing number in the range since it does not appear in nums.\n",
    "\n",
    "Example 2:\n",
    "\n",
    "Input: nums = [0,1]\n",
    "\n",
    "Output: 2\n",
    "\n",
    "Explanation:\n",
    "\n",
    "n = 2 since there are 2 numbers, so all numbers are in the range [0,2]. 2 is the missing number in the range since it does not appear in nums.\n",
    "\n",
    "Example 3:\n",
    "\n",
    "Input: nums = [9,6,4,2,3,5,7,0,1]\n",
    "\n",
    "Output: 8\n",
    "\n",
    "Explanation:\n",
    "\n",
    "n = 9 since there are 9 numbers, so all numbers are in the range [0,9]. 8 is the missing number in the range since it does not appear in nums."
   ]
  },
  {
   "cell_type": "code",
   "execution_count": 1,
   "metadata": {},
   "outputs": [],
   "source": [
    "class Solution:\n",
    "    def missingNumber(self, nums: list[int]) -> int:\n",
    "        n = len(nums)\n",
    "        # ACtual sum should be is.\n",
    "        actual_sum = (n * (n + 1)) / 2\n",
    "\n",
    "        # array sum.\n",
    "        array_sum = sum(nums)\n",
    "\n",
    "        return int(actual_sum - array_sum )\n",
    "    \n",
    "# tc - O(n)\n",
    "# sc - O(1)\n",
    "\n",
    "\n"
   ]
  },
  {
   "cell_type": "markdown",
   "metadata": {},
   "source": [
    "```\n",
    "nums = [3, 0, 1]\n",
    "here, n = 3 take XOR of all number range(0, n) = 0 ^ 1 ^ 2 ^ 3\n",
    "also take XOR of all number in nums =  [3, 0, 1] = 3 ^ 0 ^ 1\n",
    "final solution = XOR of all numbers in range(0, n ) and XOR of all numbers in nums\n",
    "(0 ^ 1 ^ 2 ^ 3 ) ^ (3 ^ 0 ^ 1) \n",
    "XOR property : XOR of two same number cancels outs --> remiaing no = 2\n",
    "```"
   ]
  },
  {
   "cell_type": "code",
   "execution_count": null,
   "metadata": {},
   "outputs": [],
   "source": [
    "# using XOR\n",
    "# Solution 2: Bit Manipulation (XOR)\n",
    "# Time: O(n), Space: O(1)\n",
    "def using_xor(self, nums: list[int]) -> int:\n",
    "    xor = 0\n",
    "    for num in range(1, len(nums) + 1):\n",
    "        xor ^= num\n",
    "    for num in nums:\n",
    "        xor ^= num\n",
    "    return xor\n",
    "\n",
    "\n",
    "# tc - O(2n)\n",
    "# sc - O(1)"
   ]
  },
  {
   "cell_type": "code",
   "execution_count": null,
   "metadata": {},
   "outputs": [],
   "source": [
    "# Solution 3: Using Set\n",
    "# Time: O(n), Space: O(n)\n",
    "def using_set(self, nums: list[int]) -> int:\n",
    "    s = set(nums)\n",
    "    for i in range(len(nums) + 1):\n",
    "        if i not in s:\n",
    "            return i\n",
    "\n",
    "# Solution 3 (alt): Using Temp Array\n",
    "# Time: O(n), Space: O(n)\n",
    "def using_temp_array(self, nums: list[int]) -> int:\n",
    "    temp = [-1] * (len(nums) + 1)\n",
    "    for num in nums:\n",
    "        temp[num] = 1\n",
    "    for i, num in enumerate(temp):\n",
    "        if num == -1:\n",
    "            return i \n",
    "        \n",
    "\n"
   ]
  }
 ],
 "metadata": {
  "kernelspec": {
   "display_name": "3.11.11",
   "language": "python",
   "name": "python3"
  },
  "language_info": {
   "codemirror_mode": {
    "name": "ipython",
    "version": 3
   },
   "file_extension": ".py",
   "mimetype": "text/x-python",
   "name": "python",
   "nbconvert_exporter": "python",
   "pygments_lexer": "ipython3",
   "version": "3.11.11"
  }
 },
 "nbformat": 4,
 "nbformat_minor": 2
}
