{
 "cells": [
  {
   "cell_type": "markdown",
   "id": "ad88e6c9",
   "metadata": {},
   "source": [
    "Given an integer num, return a string of its base 7 representation.\n",
    "\n",
    " \n",
    "\n",
    "Example 1:\n",
    "\n",
    "Input: num = 100\n",
    "Output: \"202\"\n",
    "Example 2:\n",
    "\n",
    "Input: num = -7\n",
    "Output: \"-10\"\n",
    " \n",
    "\n",
    "Constraints:\n",
    "\n",
    "-107 <= num <= 107"
   ]
  },
  {
   "cell_type": "code",
   "execution_count": 4,
   "id": "71c1748a",
   "metadata": {},
   "outputs": [],
   "source": [
    "class Solution:\n",
    "    def convertToBase7(self, num: int) -> str:\n",
    "        res = \"\"\n",
    "        while num > 7:\n",
    "            # add the reminder to the res in the back.\n",
    "            res = str(num % 7) + res \n",
    "\n",
    "            # and the quicent will be the next num.\n",
    "            num //= 7\n",
    "        \n",
    "        # add the reminder at the end.\n",
    "        res = str(num) + res \n",
    "        return res "
   ]
  },
  {
   "cell_type": "code",
   "execution_count": 5,
   "id": "e05257f2",
   "metadata": {},
   "outputs": [
    {
     "data": {
      "text/plain": [
       "'202'"
      ]
     },
     "execution_count": 5,
     "metadata": {},
     "output_type": "execute_result"
    }
   ],
   "source": [
    "Solution().convertToBase7(100)"
   ]
  },
  {
   "cell_type": "code",
   "execution_count": 6,
   "id": "f0a58e08",
   "metadata": {},
   "outputs": [
    {
     "data": {
      "text/plain": [
       "'-7'"
      ]
     },
     "execution_count": 6,
     "metadata": {},
     "output_type": "execute_result"
    }
   ],
   "source": [
    "Solution().convertToBase7(-7)"
   ]
  },
  {
   "cell_type": "code",
   "execution_count": null,
   "id": "610cea02",
   "metadata": {},
   "outputs": [],
   "source": [
    "# handling negative:\n",
    "# - Check if the number is negative.\n",
    "\n",
    "# - Work with its absolute value for the base conversion.\n",
    "\n",
    "# - Add a \"-\" sign back to the final result if the original number was negative.\n",
    "\n",
    "class Solution:\n",
    "    def convertToBase7(self, num: int) -> str:\n",
    "        if num == 0:\n",
    "            return \"0\"\n",
    "\n",
    "        negative = num < 0\n",
    "        num = abs(num)\n",
    "\n",
    "        res = \"\"\n",
    "        \n",
    "        while num >= 7:\n",
    "            # add the reminder to the res in the back.\n",
    "            res = str(num % 7) + res \n",
    "\n",
    "            # and the quicent will be the next num.\n",
    "            num //= 7\n",
    "        \n",
    "        # add the reminder at the end.\n",
    "        res = str(num) + res \n",
    "\n",
    "        return \"-\" + res if negative else res\n",
    "    \n",
    "# tc - O(log base 7 n)\n",
    "# sc - O(1)[ignoring res] otherwise O(log base 7 n)\n"
   ]
  },
  {
   "cell_type": "code",
   "execution_count": 12,
   "id": "355266f9",
   "metadata": {},
   "outputs": [
    {
     "data": {
      "text/plain": [
       "'-10'"
      ]
     },
     "execution_count": 12,
     "metadata": {},
     "output_type": "execute_result"
    }
   ],
   "source": [
    "Solution().convertToBase7(-7)"
   ]
  },
  {
   "cell_type": "code",
   "execution_count": null,
   "id": "0068f8c6",
   "metadata": {},
   "outputs": [],
   "source": []
  }
 ],
 "metadata": {
  "kernelspec": {
   "display_name": "3.11.11",
   "language": "python",
   "name": "python3"
  },
  "language_info": {
   "codemirror_mode": {
    "name": "ipython",
    "version": 3
   },
   "file_extension": ".py",
   "mimetype": "text/x-python",
   "name": "python",
   "nbconvert_exporter": "python",
   "pygments_lexer": "ipython3",
   "version": "3.11.11"
  }
 },
 "nbformat": 4,
 "nbformat_minor": 5
}
