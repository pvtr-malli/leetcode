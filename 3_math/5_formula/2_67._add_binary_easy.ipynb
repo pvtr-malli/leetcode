{
 "cells": [
  {
   "cell_type": "markdown",
   "id": "c7b5f7d5",
   "metadata": {},
   "source": [
    "Given two binary strings a and b, return their sum as a binary string.\n",
    "\n",
    " \n",
    "\n",
    "Example 1:\n",
    "\n",
    "Input: a = \"11\", b = \"1\"\n",
    "Output: \"100\"\n",
    "Example 2:\n",
    "\n",
    "Input: a = \"1010\", b = \"1011\"\n",
    "Output: \"10101\"\n",
    " \n",
    "\n",
    "Constraints:\n",
    "\n",
    "1 <= a.length, b.length <= 104\n",
    "a and b consist only of '0' or '1' characters.\n",
    "Each string does not contain leading zeros except for the zero itself."
   ]
  },
  {
   "cell_type": "markdown",
   "id": "7e42814d",
   "metadata": {},
   "source": [
    "💡 Intuition\n",
    "Binary addition works like regular addition:\n",
    "\n",
    "0 + 0 = 0\n",
    "\n",
    "1 + 0 = 1\n",
    "\n",
    "1 + 1 = 10 (which means 0 and carry 1)\n",
    "\n",
    "1 + 1 + 1 = 11 (means 1 and carry 1)\n",
    "\n",
    "We simulate this from right to left, just like grade-school addition, and keep track of the carry.\n",
    "\n",
    "\n",
    "\n",
    "- calculating carry and result\n",
    "Since binary only has 0 and 1, any total can be:\n",
    "\n",
    "0 → result: 0, carry: 0\n",
    "\n",
    "1 → result: 1, carry: 0\n",
    "\n",
    "2 → result: 0, carry: 1\n",
    "\n",
    "3 → result: 1, carry: 1\n",
    "\n",
    "So:\n",
    "\n",
    "➕ total % 2 gives you:\n",
    "The bit to store at the current position (either '0' or '1'):\n",
    "\n",
    "0 % 2 → 0\n",
    "\n",
    "1 % 2 → 1\n",
    "\n",
    "2 % 2 → 0\n",
    "\n",
    "3 % 2 → 1\n",
    "\n",
    "➕ total // 2 gives you:\n",
    "The carry to use in the next step:\n",
    "\n",
    "2 // 2 → 1\n",
    "\n",
    "3 // 2 → 1\n",
    "\n",
    "1 // 2 → 0"
   ]
  },
  {
   "cell_type": "code",
   "execution_count": 1,
   "id": "728d5974",
   "metadata": {},
   "outputs": [],
   "source": [
    "class Solution:\n",
    "    def addBinary(self, a: str, b: str) -> str:\n",
    "        i, j = len(a) - 1, len(b) - 1\n",
    "        carry = 0\n",
    "        result = []\n",
    "\n",
    "        while i >= 0 or j >= 0 or carry:\n",
    "            bit_a = int(a[i]) if i >= 0 else 0\n",
    "            bit_b = int(b[j]) if j >= 0 else 0\n",
    "\n",
    "            total = bit_a + bit_b + carry\n",
    "            result.append(str(total % 2))\n",
    "            carry = total // 2\n",
    "\n",
    "            i -= 1\n",
    "            j -= 1\n",
    "\n",
    "        return ''.join(reversed(result))\n",
    "# Time Complexity\tO(max(n, m))\n",
    "# Space Complexity\tO(max(n, m))"
   ]
  },
  {
   "cell_type": "code",
   "execution_count": 2,
   "id": "c8bc9b1e",
   "metadata": {},
   "outputs": [
    {
     "data": {
      "text/plain": [
       "'100'"
      ]
     },
     "execution_count": 2,
     "metadata": {},
     "output_type": "execute_result"
    }
   ],
   "source": [
    "Solution().addBinary(a = \"11\", b = \"1\")"
   ]
  },
  {
   "cell_type": "code",
   "execution_count": null,
   "id": "405eadb5",
   "metadata": {},
   "outputs": [],
   "source": []
  }
 ],
 "metadata": {
  "kernelspec": {
   "display_name": "Python 3",
   "language": "python",
   "name": "python3"
  },
  "language_info": {
   "codemirror_mode": {
    "name": "ipython",
    "version": 3
   },
   "file_extension": ".py",
   "mimetype": "text/x-python",
   "name": "python",
   "nbconvert_exporter": "python",
   "pygments_lexer": "ipython3",
   "version": "3.11.11"
  }
 },
 "nbformat": 4,
 "nbformat_minor": 5
}
