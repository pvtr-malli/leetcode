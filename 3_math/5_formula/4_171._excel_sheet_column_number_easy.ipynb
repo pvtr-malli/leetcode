{
 "cells": [
  {
   "cell_type": "markdown",
   "id": "af345dcb",
   "metadata": {},
   "source": [
    "Given a string columnTitle that represents the column title as appears in an Excel sheet, return its corresponding column number.\n",
    "\n",
    "For example:\n",
    "\n",
    "A -> 1\n",
    "B -> 2\n",
    "C -> 3\n",
    "...\n",
    "Z -> 26\n",
    "AA -> 27\n",
    "AB -> 28 \n",
    "...\n",
    " \n",
    "\n",
    "Example 1:\n",
    "\n",
    "Input: columnTitle = \"A\"\n",
    "Output: 1\n",
    "Example 2:\n",
    "\n",
    "Input: columnTitle = \"AB\"\n",
    "Output: 28\n",
    "Example 3:\n",
    "\n",
    "Input: columnTitle = \"ZY\"\n",
    "Output: 701\n",
    " \n",
    "\n",
    "Constraints:\n",
    "\n",
    "1 <= columnTitle.length <= 7\n",
    "columnTitle consists only of uppercase English letters.\n",
    "columnTitle is in the range [\"A\", \"FXSHRXW\"]."
   ]
  },
  {
   "cell_type": "code",
   "execution_count": null,
   "id": "a536c58f",
   "metadata": {},
   "outputs": [],
   "source": [
    "class Solution:\n",
    "    def titleToNumber(self, columnTitle: str) -> int:\n",
    "        # this is just like a binary --> decimal converstion.\n",
    "        # instead of 2 this is a 26 base value.\n",
    "\n",
    "        # from the ending, take the letters convert it to number and add the bit place value to it.\n",
    "        # binary example\n",
    "        # 8421\n",
    "        # 1101   --> this is converted as \n",
    "        \n",
    "        # 3210\n",
    "        # ----\n",
    "        # 1101  --> 1 * (2 ^ 4) + 1 * (2^2) + 0 * (2^1) + 1 * (2^0)\n",
    "\n",
    "        # same as this convert 2 to 26, thats it.\n",
    "        # do it for the right most bit.\n",
    "        map = {chr(i + 65): i + 1  for i in range(26)}\n",
    "        res = map[columnTitle[-1]]\n",
    "        columnTitle = columnTitle[:-1]\n",
    "\n",
    "        power = 26\n",
    "\n",
    "        while columnTitle != \"\":\n",
    "            res += (power * map[columnTitle[-1]])\n",
    "            columnTitle = columnTitle[:-1]\n",
    "\n",
    "            # its increases like this, 26^0, 26^1, 26^2, 26^3, etc. \n",
    "            # so mutiplying it with itself for each iteration does the job for us.\n",
    "            power *= 26\n",
    "        return res "
   ]
  },
  {
   "cell_type": "code",
   "execution_count": 13,
   "id": "8aa6c32e",
   "metadata": {},
   "outputs": [
    {
     "data": {
      "text/plain": [
       "701"
      ]
     },
     "execution_count": 13,
     "metadata": {},
     "output_type": "execute_result"
    }
   ],
   "source": [
    "Solution().titleToNumber(\"ZY\")"
   ]
  },
  {
   "cell_type": "code",
   "execution_count": 14,
   "id": "3b906b8e",
   "metadata": {},
   "outputs": [
    {
     "data": {
      "text/plain": [
       "28"
      ]
     },
     "execution_count": 14,
     "metadata": {},
     "output_type": "execute_result"
    }
   ],
   "source": [
    "Solution().titleToNumber(columnTitle = \"AB\")"
   ]
  },
  {
   "cell_type": "code",
   "execution_count": null,
   "id": "601f9e20",
   "metadata": {},
   "outputs": [],
   "source": []
  }
 ],
 "metadata": {
  "kernelspec": {
   "display_name": "Python 3",
   "language": "python",
   "name": "python3"
  },
  "language_info": {
   "codemirror_mode": {
    "name": "ipython",
    "version": 3
   },
   "file_extension": ".py",
   "mimetype": "text/x-python",
   "name": "python",
   "nbconvert_exporter": "python",
   "pygments_lexer": "ipython3",
   "version": "3.11.11"
  }
 },
 "nbformat": 4,
 "nbformat_minor": 5
}
